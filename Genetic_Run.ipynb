{
 "cells": [
  {
   "cell_type": "code",
   "execution_count": 10,
   "id": "initial_id",
   "metadata": {
    "ExecuteTime": {
     "end_time": "2024-09-25T16:27:17.055156Z",
     "start_time": "2024-09-25T16:27:17.048156Z"
    },
    "collapsed": true
   },
   "outputs": [],
   "source": []
  },
  {
   "cell_type": "code",
   "execution_count": 2,
   "id": "b3bf4e2f337876d0",
   "metadata": {
    "ExecuteTime": {
     "end_time": "2024-11-17T11:20:58.471916600Z",
     "start_time": "2024-11-17T11:20:56.921573200Z"
    }
   },
   "outputs": [],
   "source": [
    "import numpy as np\n",
    "from Metaheuristicas.fitness_functions import mutual_information_eval\n",
    "from Metaheuristicas.fitness_functions import relieff_eval\n",
    "from Metaheuristicas.fitness_functions import chi2_eval"
   ]
  },
  {
   "cell_type": "code",
   "execution_count": 3,
   "id": "1af9109ecff68ec5",
   "metadata": {
    "ExecuteTime": {
     "end_time": "2024-11-17T11:21:00.260401600Z",
     "start_time": "2024-11-17T11:21:00.189895700Z"
    }
   },
   "outputs": [],
   "source": [
    "from Metaheuristicas.fitness_functions import load_and_preprocess_data\n",
    "\n",
    "X, y = load_and_preprocess_data(filename='Resources/SeisBenchV1_v1_1.json')\n",
    "\n"
   ]
  },
  {
   "cell_type": "code",
   "execution_count": 13,
   "id": "1336b716ae1981a3",
   "metadata": {
    "ExecuteTime": {
     "end_time": "2024-09-25T16:27:17.178693Z",
     "start_time": "2024-09-25T16:27:17.164178Z"
    }
   },
   "outputs": [],
   "source": [
    "Mutual_Information = []\n",
    "Chi2 = []\n",
    "ReliefF = []"
   ]
  },
  {
   "cell_type": "markdown",
   "id": "b76d21b8a0f0ec3e",
   "metadata": {},
   "source": [
    "### Genetic Algorithm Run"
   ]
  },
  {
   "cell_type": "code",
   "execution_count": 1,
   "id": "7562491832f67eae",
   "metadata": {
    "ExecuteTime": {
     "end_time": "2024-11-17T11:20:54.741024200Z",
     "start_time": "2024-11-17T11:20:54.739798Z"
    }
   },
   "outputs": [],
   "source": [
    "# generations = 500\n",
    "mutation=0.1\n",
    "crossover=0.9"
   ]
  },
  {
   "cell_type": "code",
   "execution_count": 14,
   "id": "671d318cd4214766",
   "metadata": {
    "ExecuteTime": {
     "end_time": "2024-09-25T16:27:17.210692Z",
     "start_time": "2024-09-25T16:27:17.196691Z"
    }
   },
   "outputs": [],
   "source": []
  },
  {
   "cell_type": "code",
   "execution_count": 15,
   "id": "da5680f741045227",
   "metadata": {
    "ExecuteTime": {
     "end_time": "2024-09-26T03:35:54.573789Z",
     "start_time": "2024-09-25T16:27:17.211691Z"
    }
   },
   "outputs": [],
   "source": [
    "from Metaheuristicas.Genetico import genetic_algorithm\n",
    "for n_generations in range(500, 1000, 50):\n",
    "    best_solution, best_Gfitness = genetic_algorithm(X, y,mutation_rate=mutation,crossover_rate=crossover,fitness_function=mutual_information_eval,generations = n_generations )\n",
    "    selected_features = X.columns[best_solution.astype(bool)].tolist()\n",
    "    Mutual_Information.append([selected_features, best_Gfitness, n_generations])\n",
    "\n",
    "    "
   ]
  },
  {
   "cell_type": "code",
   "execution_count": 16,
   "id": "b56caa9cef4f0ec9",
   "metadata": {
    "ExecuteTime": {
     "end_time": "2024-09-26T03:36:46.111004Z",
     "start_time": "2024-09-26T03:35:54.574793Z"
    }
   },
   "outputs": [],
   "source": [
    "for n_generations in range(500, 1000, 50):\n",
    "    best_solution, best_Gfitness = genetic_algorithm(X, y,mutation_rate=mutation,crossover_rate=crossover,fitness_function=chi2_eval,generations = n_generations )\n",
    "    selected_features = X.columns[best_solution.astype(bool)].tolist()\n",
    "    Chi2.append([selected_features, best_Gfitness, n_generations])"
   ]
  },
  {
   "cell_type": "code",
   "execution_count": 17,
   "id": "905b520c0f36354a",
   "metadata": {
    "ExecuteTime": {
     "end_time": "2024-09-26T04:02:33.535450Z",
     "start_time": "2024-09-26T03:36:46.112004Z"
    }
   },
   "outputs": [],
   "source": [
    "for n_generations in range(500, 1000, 50):\n",
    "    best_solution, best_Gfitness = genetic_algorithm(X, y,mutation_rate=mutation,crossover_rate=crossover,fitness_function=relieff_eval,generations = n_generations )\n",
    "    selected_features = X.columns[best_solution.astype(bool)].tolist()\n",
    "    ReliefF.append([selected_features, best_Gfitness, n_generations])"
   ]
  },
  {
   "cell_type": "code",
   "outputs": [],
   "source": [
    "#save the results\n",
    "import pickle\n",
    "with open('Mutual_Information.pkl', 'wb') as f:\n",
    "    pickle.dump(Mutual_Information, f)\n",
    "with open('Chi2.pkl', 'wb') as f:\n",
    "    pickle.dump(Chi2, f)\n",
    "with open('ReliefF.pkl', 'wb') as f:\n",
    "    pickle.dump(ReliefF, f)\n",
    "    "
   ],
   "metadata": {
    "collapsed": false,
    "ExecuteTime": {
     "end_time": "2024-09-26T05:36:25.783771Z",
     "start_time": "2024-09-26T05:36:25.764776Z"
    }
   },
   "id": "8c7d5b305b9350b",
   "execution_count": 59
  },
  {
   "cell_type": "code",
   "execution_count": 18,
   "id": "957e85cdae236b09",
   "metadata": {
    "ExecuteTime": {
     "end_time": "2024-09-26T04:02:33.550957Z",
     "start_time": "2024-09-26T04:02:33.536452Z"
    }
   },
   "outputs": [],
   "source": [
    "#sort the results with the best fitness for each method\n",
    "Mutual_Information.sort(key=lambda x: x[1], reverse=True)\n",
    "Chi2.sort(key=lambda x: x[1], reverse=True)\n",
    "ReliefF.sort(key=lambda x: x[1], reverse=True)"
   ]
  },
  {
   "cell_type": "code",
   "execution_count": null,
   "outputs": [],
   "source": [
    "#open the pickle files\n",
    "import pickle\n",
    "with open('Mutual_Information.pkl', 'rb') as f:\n",
    "    Mutual_Information = pickle.load(f)\n",
    "with open('Chi2.pkl', 'rb') as f:\n",
    "    Chi2 = pickle.load(f)\n",
    "with open('ReliefF.pkl', 'rb') as f:\n",
    "    ReliefF = pickle.load(f)"
   ],
   "metadata": {
    "collapsed": false
   },
   "id": "9c55834392c4a596"
  },
  {
   "cell_type": "code",
   "execution_count": 33,
   "id": "61b1eb234ac40143",
   "metadata": {
    "ExecuteTime": {
     "end_time": "2024-09-26T05:06:28.341059Z",
     "start_time": "2024-09-26T05:06:28.334545Z"
    }
   },
   "outputs": [
    {
     "name": "stdout",
     "output_type": "stream",
     "text": [
      "Mutual Information:  2.656210967882011 600\n",
      "Mutual Information:  2.6508670373094962 500\n",
      "Mutual Information:  2.6162639729190236 650\n",
      "Mutual Information:  2.6161140648728622 850\n",
      "Mutual Information:  2.6089334180058392 950\n",
      "Mutual Information:  2.6067516235552017 800\n",
      "Mutual Information:  2.6064703048711735 550\n",
      "Mutual Information:  2.595037364912925 750\n",
      "Mutual Information:  2.5886955011519546 700\n",
      "Mutual Information:  2.56583049011941 900\n"
     ]
    }
   ],
   "source": [
    "#print all the scores in mutual information and the number of generations\n",
    "for i in Mutual_Information:\n",
    "    print(\"Mutual Information: \",i[1], i[2])"
   ]
  },
  {
   "cell_type": "code",
   "execution_count": 4,
   "outputs": [
    {
     "name": "stdout",
     "output_type": "stream",
     "text": [
      "Generation 1/500\n",
      "Generation 2/500\n",
      "Generation 3/500\n",
      "Generation 4/500\n",
      "Generation 5/500\n",
      "Generation 6/500\n",
      "Generation 7/500\n",
      "Generation 8/500\n",
      "Generation 9/500\n",
      "Generation 10/500\n",
      "Generation 11/500\n",
      "Generation 12/500\n",
      "Generation 13/500\n",
      "Generation 14/500\n",
      "Generation 15/500\n",
      "Generation 16/500\n",
      "Generation 17/500\n",
      "Generation 18/500\n",
      "Generation 19/500\n",
      "Generation 20/500\n",
      "Generation 21/500\n",
      "Generation 22/500\n",
      "Generation 23/500\n",
      "Generation 24/500\n",
      "Generation 25/500\n",
      "Generation 26/500\n",
      "Generation 27/500\n",
      "Generation 28/500\n",
      "Generation 29/500\n",
      "Generation 30/500\n",
      "Generation 31/500\n",
      "Generation 32/500\n",
      "Generation 33/500\n",
      "Generation 34/500\n",
      "Generation 35/500\n",
      "Generation 36/500\n",
      "Generation 37/500\n",
      "Generation 38/500\n",
      "Generation 39/500\n",
      "Generation 40/500\n",
      "Generation 41/500\n",
      "Generation 42/500\n",
      "Generation 43/500\n",
      "Generation 44/500\n",
      "Generation 45/500\n",
      "Generation 46/500\n",
      "Generation 47/500\n",
      "Generation 48/500\n",
      "Generation 49/500\n",
      "Generation 50/500\n",
      "Generation 51/500\n",
      "Generation 52/500\n",
      "Generation 53/500\n",
      "Generation 54/500\n",
      "Generation 55/500\n",
      "Generation 56/500\n",
      "Generation 57/500\n",
      "Generation 58/500\n",
      "Generation 59/500\n",
      "Generation 60/500\n",
      "Generation 61/500\n",
      "Generation 62/500\n",
      "Generation 63/500\n",
      "Generation 64/500\n",
      "Generation 65/500\n",
      "Generation 66/500\n",
      "Generation 67/500\n",
      "Generation 68/500\n",
      "Generation 69/500\n",
      "Generation 70/500\n",
      "Generation 71/500\n",
      "Generation 72/500\n",
      "Generation 73/500\n",
      "Generation 74/500\n",
      "Generation 75/500\n",
      "Generation 76/500\n",
      "Generation 77/500\n",
      "Generation 78/500\n",
      "Generation 79/500\n",
      "Generation 80/500\n",
      "Generation 81/500\n",
      "Generation 82/500\n",
      "Generation 83/500\n",
      "Generation 84/500\n",
      "Generation 85/500\n",
      "Generation 86/500\n",
      "Generation 87/500\n",
      "Generation 88/500\n",
      "Generation 89/500\n",
      "Generation 90/500\n",
      "Generation 91/500\n",
      "Generation 92/500\n",
      "Generation 93/500\n",
      "Generation 94/500\n",
      "Generation 95/500\n",
      "Generation 96/500\n",
      "Generation 97/500\n",
      "Generation 98/500\n",
      "Generation 99/500\n",
      "Generation 100/500\n",
      "Generation 101/500\n",
      "Generation 102/500\n",
      "Generation 103/500\n",
      "Generation 104/500\n",
      "Generation 105/500\n",
      "Generation 106/500\n",
      "Generation 107/500\n",
      "Generation 108/500\n",
      "Generation 109/500\n",
      "Generation 110/500\n",
      "Generation 111/500\n",
      "Generation 112/500\n",
      "Generation 113/500\n",
      "Generation 114/500\n",
      "Generation 115/500\n",
      "Generation 116/500\n",
      "Generation 117/500\n",
      "Generation 118/500\n",
      "Generation 119/500\n",
      "Generation 120/500\n",
      "Generation 121/500\n",
      "Generation 122/500\n",
      "Generation 123/500\n",
      "Generation 124/500\n",
      "Generation 125/500\n",
      "Generation 126/500\n",
      "Generation 127/500\n",
      "Generation 128/500\n",
      "Generation 129/500\n",
      "Generation 130/500\n",
      "Generation 131/500\n",
      "Generation 132/500\n",
      "Generation 133/500\n",
      "Generation 134/500\n",
      "Generation 135/500\n",
      "Generation 136/500\n",
      "Generation 137/500\n",
      "Generation 138/500\n",
      "Generation 139/500\n",
      "Generation 140/500\n",
      "Generation 141/500\n",
      "Generation 142/500\n",
      "Generation 143/500\n",
      "Generation 144/500\n",
      "Generation 145/500\n",
      "Generation 146/500\n",
      "Generation 147/500\n",
      "Generation 148/500\n",
      "Generation 149/500\n",
      "Generation 150/500\n",
      "Generation 151/500\n",
      "Generation 152/500\n",
      "Generation 153/500\n",
      "Generation 154/500\n",
      "Generation 155/500\n",
      "Generation 156/500\n",
      "Generation 157/500\n",
      "Generation 158/500\n",
      "Generation 159/500\n",
      "Generation 160/500\n",
      "Generation 161/500\n",
      "Generation 162/500\n",
      "Generation 163/500\n",
      "Generation 164/500\n",
      "Generation 165/500\n",
      "Generation 166/500\n",
      "Generation 167/500\n",
      "Generation 168/500\n",
      "Generation 169/500\n",
      "Generation 170/500\n",
      "Generation 171/500\n",
      "Generation 172/500\n",
      "Generation 173/500\n",
      "Generation 174/500\n",
      "Generation 175/500\n",
      "Generation 176/500\n",
      "Generation 177/500\n",
      "Generation 178/500\n",
      "Generation 179/500\n",
      "Generation 180/500\n",
      "Generation 181/500\n",
      "Generation 182/500\n",
      "Generation 183/500\n",
      "Generation 184/500\n",
      "Generation 185/500\n",
      "Generation 186/500\n",
      "Generation 187/500\n",
      "Generation 188/500\n",
      "Generation 189/500\n",
      "Generation 190/500\n",
      "Generation 191/500\n",
      "Generation 192/500\n",
      "Generation 193/500\n",
      "Generation 194/500\n",
      "Generation 195/500\n",
      "Generation 196/500\n",
      "Generation 197/500\n",
      "Generation 198/500\n",
      "Generation 199/500\n",
      "Generation 200/500\n",
      "Generation 201/500\n",
      "Generation 202/500\n",
      "Generation 203/500\n",
      "Generation 204/500\n",
      "Generation 205/500\n",
      "Generation 206/500\n",
      "Generation 207/500\n",
      "Generation 208/500\n",
      "Generation 209/500\n",
      "Generation 210/500\n",
      "Generation 211/500\n",
      "Generation 212/500\n",
      "Generation 213/500\n",
      "Generation 214/500\n",
      "Generation 215/500\n",
      "Generation 216/500\n",
      "Generation 217/500\n",
      "Generation 218/500\n",
      "Generation 219/500\n",
      "Generation 220/500\n",
      "Generation 221/500\n",
      "Generation 222/500\n",
      "Generation 223/500\n",
      "Generation 224/500\n",
      "Generation 225/500\n",
      "Generation 226/500\n",
      "Generation 227/500\n",
      "Generation 228/500\n",
      "Generation 229/500\n",
      "Generation 230/500\n",
      "Generation 231/500\n",
      "Generation 232/500\n",
      "Generation 233/500\n",
      "Generation 234/500\n",
      "Generation 235/500\n",
      "Generation 236/500\n",
      "Generation 237/500\n",
      "Generation 238/500\n",
      "Generation 239/500\n",
      "Generation 240/500\n",
      "Generation 241/500\n",
      "Generation 242/500\n",
      "Generation 243/500\n",
      "Generation 244/500\n",
      "Generation 245/500\n",
      "Generation 246/500\n",
      "Generation 247/500\n",
      "Generation 248/500\n",
      "Generation 249/500\n",
      "Generation 250/500\n",
      "Generation 251/500\n",
      "Generation 252/500\n",
      "Generation 253/500\n",
      "Generation 254/500\n",
      "Generation 255/500\n",
      "Generation 256/500\n",
      "Generation 257/500\n",
      "Generation 258/500\n",
      "Generation 259/500\n",
      "Generation 260/500\n",
      "Generation 261/500\n",
      "Generation 262/500\n",
      "Generation 263/500\n",
      "Generation 264/500\n",
      "Generation 265/500\n",
      "Generation 266/500\n",
      "Generation 267/500\n",
      "Generation 268/500\n",
      "Generation 269/500\n",
      "Generation 270/500\n",
      "Generation 271/500\n",
      "Generation 272/500\n",
      "Generation 273/500\n",
      "Generation 274/500\n",
      "Generation 275/500\n",
      "Generation 276/500\n",
      "Generation 277/500\n",
      "Generation 278/500\n",
      "Generation 279/500\n",
      "Generation 280/500\n",
      "Generation 281/500\n",
      "Generation 282/500\n",
      "Generation 283/500\n",
      "Generation 284/500\n",
      "Generation 285/500\n",
      "Generation 286/500\n",
      "Generation 287/500\n",
      "Generation 288/500\n",
      "Generation 289/500\n",
      "Generation 290/500\n",
      "Generation 291/500\n",
      "Generation 292/500\n",
      "Generation 293/500\n",
      "Generation 294/500\n",
      "Generation 295/500\n",
      "Generation 296/500\n",
      "Generation 297/500\n",
      "Generation 298/500\n",
      "Generation 299/500\n",
      "Generation 300/500\n",
      "Generation 301/500\n",
      "Generation 302/500\n",
      "Generation 303/500\n",
      "Generation 304/500\n",
      "Generation 305/500\n",
      "Generation 306/500\n",
      "Generation 307/500\n",
      "Generation 308/500\n",
      "Generation 309/500\n",
      "Generation 310/500\n",
      "Generation 311/500\n",
      "Generation 312/500\n",
      "Generation 313/500\n",
      "Generation 314/500\n",
      "Generation 315/500\n",
      "Generation 316/500\n",
      "Generation 317/500\n",
      "Generation 318/500\n",
      "Generation 319/500\n",
      "Generation 320/500\n",
      "Generation 321/500\n",
      "Generation 322/500\n",
      "Generation 323/500\n",
      "Generation 324/500\n",
      "Generation 325/500\n",
      "Generation 326/500\n",
      "Generation 327/500\n",
      "Generation 328/500\n",
      "Generation 329/500\n",
      "Generation 330/500\n",
      "Generation 331/500\n",
      "Generation 332/500\n",
      "Generation 333/500\n",
      "Generation 334/500\n",
      "Generation 335/500\n",
      "Generation 336/500\n",
      "Generation 337/500\n",
      "Generation 338/500\n",
      "Generation 339/500\n",
      "Generation 340/500\n",
      "Generation 341/500\n",
      "Generation 342/500\n",
      "Generation 343/500\n",
      "Generation 344/500\n",
      "Generation 345/500\n",
      "Generation 346/500\n",
      "Generation 347/500\n",
      "Generation 348/500\n",
      "Generation 349/500\n",
      "Generation 350/500\n",
      "Generation 351/500\n",
      "Generation 352/500\n",
      "Generation 353/500\n",
      "Generation 354/500\n",
      "Generation 355/500\n",
      "Generation 356/500\n",
      "Generation 357/500\n",
      "Generation 358/500\n",
      "Generation 359/500\n",
      "Generation 360/500\n",
      "Generation 361/500\n",
      "Generation 362/500\n",
      "Generation 363/500\n",
      "Generation 364/500\n",
      "Generation 365/500\n",
      "Generation 366/500\n",
      "Generation 367/500\n",
      "Generation 368/500\n",
      "Generation 369/500\n",
      "Generation 370/500\n",
      "Generation 371/500\n",
      "Generation 372/500\n",
      "Generation 373/500\n",
      "Generation 374/500\n",
      "Generation 375/500\n",
      "Generation 376/500\n",
      "Generation 377/500\n",
      "Generation 378/500\n",
      "Generation 379/500\n",
      "Generation 380/500\n",
      "Generation 381/500\n",
      "Generation 382/500\n",
      "Generation 383/500\n",
      "Generation 384/500\n",
      "Generation 385/500\n",
      "Generation 386/500\n",
      "Generation 387/500\n",
      "Generation 388/500\n",
      "Generation 389/500\n",
      "Generation 390/500\n",
      "Generation 391/500\n",
      "Generation 392/500\n",
      "Generation 393/500\n",
      "Generation 394/500\n",
      "Generation 395/500\n",
      "Generation 396/500\n",
      "Generation 397/500\n",
      "Generation 398/500\n",
      "Generation 399/500\n",
      "Generation 400/500\n",
      "Generation 401/500\n",
      "Generation 402/500\n",
      "Generation 403/500\n",
      "Generation 404/500\n",
      "Generation 405/500\n",
      "Generation 406/500\n",
      "Generation 407/500\n",
      "Generation 408/500\n",
      "Generation 409/500\n",
      "Generation 410/500\n",
      "Generation 411/500\n",
      "Generation 412/500\n",
      "Generation 413/500\n",
      "Generation 414/500\n",
      "Generation 415/500\n",
      "Generation 416/500\n",
      "Generation 417/500\n",
      "Generation 418/500\n",
      "Generation 419/500\n",
      "Generation 420/500\n",
      "Generation 421/500\n",
      "Generation 422/500\n",
      "Generation 423/500\n",
      "Generation 424/500\n",
      "Generation 425/500\n",
      "Generation 426/500\n",
      "Generation 427/500\n",
      "Generation 428/500\n",
      "Generation 429/500\n",
      "Generation 430/500\n",
      "Generation 431/500\n",
      "Generation 432/500\n",
      "Generation 433/500\n",
      "Generation 434/500\n",
      "Generation 435/500\n",
      "Generation 436/500\n",
      "Generation 437/500\n",
      "Generation 438/500\n",
      "Generation 439/500\n",
      "Generation 440/500\n",
      "Generation 441/500\n",
      "Generation 442/500\n",
      "Generation 443/500\n",
      "Generation 444/500\n",
      "Generation 445/500\n",
      "Generation 446/500\n",
      "Generation 447/500\n",
      "Generation 448/500\n",
      "Generation 449/500\n",
      "Generation 450/500\n",
      "Generation 451/500\n",
      "Generation 452/500\n",
      "Generation 453/500\n",
      "Generation 454/500\n",
      "Generation 455/500\n",
      "Generation 456/500\n",
      "Generation 457/500\n",
      "Generation 458/500\n",
      "Generation 459/500\n",
      "Generation 460/500\n",
      "Generation 461/500\n",
      "Generation 462/500\n",
      "Generation 463/500\n",
      "Generation 464/500\n",
      "Generation 465/500\n",
      "Generation 466/500\n",
      "Generation 467/500\n",
      "Generation 468/500\n",
      "Generation 469/500\n",
      "Generation 470/500\n",
      "Generation 471/500\n",
      "Generation 472/500\n",
      "Generation 473/500\n",
      "Generation 474/500\n",
      "Generation 475/500\n",
      "Generation 476/500\n",
      "Generation 477/500\n",
      "Generation 478/500\n",
      "Generation 479/500\n",
      "Generation 480/500\n",
      "Generation 481/500\n",
      "Generation 482/500\n",
      "Generation 483/500\n",
      "Generation 484/500\n",
      "Generation 485/500\n",
      "Generation 486/500\n",
      "Generation 487/500\n",
      "Generation 488/500\n",
      "Generation 489/500\n",
      "Generation 490/500\n",
      "Generation 491/500\n",
      "Generation 492/500\n",
      "Generation 493/500\n",
      "Generation 494/500\n",
      "Generation 495/500\n",
      "Generation 496/500\n",
      "Generation 497/500\n",
      "Generation 498/500\n",
      "Generation 499/500\n",
      "Generation 500/500\n"
     ]
    }
   ],
   "source": [
    "from Metaheuristicas.Genetico import genetic_algorithm\n",
    "from Metaheuristicas.fitness_functions import relieff_eval\n",
    "best_solution2, best_Gfitness2 = genetic_algorithm(X, y,mutation_rate=mutation,crossover_rate=crossover,fitness_function=relieff_eval,generations = 500 )\n",
    "\n",
    "selected_features2 = X.columns[best_solution2.astype(bool)].tolist()\n"
   ],
   "metadata": {
    "collapsed": false,
    "ExecuteTime": {
     "end_time": "2024-11-17T20:31:24.850602200Z",
     "start_time": "2024-11-17T11:21:19.132987500Z"
    }
   },
   "id": "7c09787ff8e55aba"
  },
  {
   "cell_type": "code",
   "execution_count": 5,
   "outputs": [
    {
     "name": "stdout",
     "output_type": "stream",
     "text": [
      "ReliefF:  0.2997234066369973\n",
      "Number of selected features:  30\n",
      "Selected features:  ['f1_t_mean', 'f10_t_peak2rms', 'f13_t_PeaksAboveRMSDensity_fun', 'f14_f_peaks_pos_1', 'f16_f_entropy', 'f18_f_std', 'f21_f_kurtosis', 'f29_f_power', 'f30_f_PeaksAboveRMSDensity_fun', 'f36_w_f_maxval_D1', 'f37_w_f_maxval_D2', 'f44_w_f_maxpos_D3', 'f47_w_f_maxpos_D6', 'f52_w_f_mean_D4', 'f53_w_f_mean_D5', 'f58_w_t_PEC_D2', 'f59_w_t_PEC_D3', 'f60_w_t_PEC_D4', 'f64_w_t_rms_D1', 'f65_w_t_rms_D2', 'f66_w_t_rms_D3', 'f67_w_t_rms_D4', 'f68_w_t_rms_D5', 'f70_w_t_peak2peak_A6', 'f71_w_t_peak2peak_D1', 'f72_w_t_peak2peak_D2', 'f74_w_t_peak2peak_D4', 'f75_w_t_peak2peak_D5', 'f78_w_t_peak2rms_D1', 'f84_w_t_meanEnergyCoeff']\n"
     ]
    }
   ],
   "source": [
    "print(\"ReliefF: \",best_Gfitness2)\n",
    "print(\"Number of selected features: \",len(selected_features2))\n",
    "print(\"Selected features: \",selected_features2)"
   ],
   "metadata": {
    "collapsed": false,
    "ExecuteTime": {
     "end_time": "2024-11-17T20:36:35.307910200Z",
     "start_time": "2024-11-17T20:36:35.276150900Z"
    }
   },
   "id": "ed1c1d9beadc86d0"
  },
  {
   "cell_type": "code",
   "execution_count": null,
   "outputs": [],
   "source": [],
   "metadata": {
    "collapsed": false
   },
   "id": "d9e9e0c3aa3a97cd"
  },
  {
   "cell_type": "code",
   "execution_count": 19,
   "id": "3354fa794bb2198c",
   "metadata": {
    "ExecuteTime": {
     "end_time": "2024-09-26T04:02:33.566958Z",
     "start_time": "2024-09-26T04:02:33.551959Z"
    }
   },
   "outputs": [
    {
     "name": "stdout",
     "output_type": "stream",
     "text": [
      "Mutual Information: \n",
      " [['f1_t_mean', 'f2_t_std', 'f3_t_var', 'f5_t_kurtosis', 'f6_t_multiscaleEntropy', 'f9_t_peak2peak', 'f12_t_zcr', 'f14_f_peaks_pos_1', 'f17_f_mean', 'f19_f_var', 'f21_f_kurtosis', 'f22_f_multiscaleEntropy', 'f23_f_peak_1020_value', 'f25_f_peak_2030_value', 'f26_f_peak_2030_pos', 'f27_f_rms', 'f28_f_peak2rms', 'f29_f_power', 'f30_f_PeaksAboveRMSDensity_fun', 'f31_f_peaks_val_2', 'f33_f_peaks_val_3', 'f34_f_peaks_pos_3', 'f35_w_f_maxval_A6', 'f36_w_f_maxval_D1', 'f37_w_f_maxval_D2', 'f38_w_f_maxval_D3', 'f39_w_f_maxval_D4', 'f40_w_f_maxval_D5', 'f41_w_f_maxval_D6', 'f42_w_f_maxpos_A6', 'f43_w_f_maxpos_D2', 'f45_w_f_maxpos_D4', 'f46_w_f_maxpos_D5', 'f47_w_f_maxpos_D6', 'f49_w_f_mean_D1', 'f53_w_f_mean_D5', 'f54_w_f_mean_D6', 'f56_w_t_PEC_A6', 'f58_w_t_PEC_D2', 'f59_w_t_PEC_D3', 'f60_w_t_PEC_D4', 'f61_w_t_PEC_D5', 'f63_w_t_rms_A6', 'f64_w_t_rms_D1', 'f65_w_t_rms_D2', 'f66_w_t_rms_D3', 'f67_w_t_rms_D4', 'f68_w_t_rms_D5', 'f69_w_t_rms_D6', 'f71_w_t_peak2peak_D1', 'f72_w_t_peak2peak_D2', 'f73_w_t_peak2peak_D3', 'f75_w_t_peak2peak_D5', 'f76_w_t_peak2peak_D6', 'f78_w_t_peak2rms_D1', 'f80_w_t_peak2rms_D3', 'f82_w_t_peak2rms_D5', 'f83_w_t_peak2rms_D6', 'f84_w_t_meanEnergyCoeff'], 2.656210967882011, 600]\n",
      "Chi2: \n",
      " [['f11_t_energy', 'f18_f_std', 'f20_f_energy', 'f23_f_peak_1020_value', 'f24_f_peak_1020_pos', 'f25_f_peak_2030_value', 'f26_f_peak_2030_pos', 'f30_f_PeaksAboveRMSDensity_fun', 'f31_f_peaks_val_2', 'f33_f_peaks_val_3', 'f37_w_f_maxval_D2', 'f38_w_f_maxval_D3', 'f41_w_f_maxval_D6', 'f44_w_f_maxpos_D3', 'f47_w_f_maxpos_D6', 'f48_w_f_mean_A6', 'f51_w_f_mean_D3', 'f55_w_t_meanEnergyAD', 'f56_w_t_PEC_A6', 'f58_w_t_PEC_D2', 'f59_w_t_PEC_D3', 'f60_w_t_PEC_D4', 'f64_w_t_rms_D1', 'f65_w_t_rms_D2', 'f66_w_t_rms_D3', 'f68_w_t_rms_D5', 'f71_w_t_peak2peak_D1', 'f72_w_t_peak2peak_D2', 'f75_w_t_peak2peak_D5', 'f84_w_t_meanEnergyCoeff'], 12.118875154142945, 500]\n",
      "ReliefF: \n",
      " [['f2_t_std', 'f6_t_multiscaleEntropy', 'f8_t_rms', 'f10_t_peak2rms', 'f11_t_energy', 'f17_f_mean', 'f18_f_std', 'f21_f_kurtosis', 'f25_f_peak_2030_value', 'f27_f_rms', 'f29_f_power', 'f32_f_peaks_pos_2', 'f36_w_f_maxval_D1', 'f43_w_f_maxpos_D2', 'f48_w_f_mean_A6', 'f51_w_f_mean_D3', 'f55_w_t_meanEnergyAD', 'f56_w_t_PEC_A6', 'f57_w_t_PEC_D1', 'f58_w_t_PEC_D2', 'f62_w_t_PEC_D6', 'f63_w_t_rms_A6', 'f64_w_t_rms_D1', 'f65_w_t_rms_D2', 'f68_w_t_rms_D5', 'f73_w_t_peak2peak_D3', 'f74_w_t_peak2peak_D4', 'f82_w_t_peak2rms_D5', 'f84_w_t_meanEnergyCoeff'], -0.424558935106713, 550]\n"
     ]
    }
   ],
   "source": [
    "print(\"Mutual Information: \\n\",Mutual_Information[0])\n",
    "print(\"Chi2: \\n\",Chi2[0])\n",
    "print(\"ReliefF: \\n\",ReliefF[0])"
   ]
  },
  {
   "cell_type": "code",
   "execution_count": 30,
   "id": "8f667e9942bff411",
   "metadata": {
    "ExecuteTime": {
     "end_time": "2024-09-26T05:00:14.716092Z",
     "start_time": "2024-09-26T05:00:14.698093Z"
    }
   },
   "outputs": [
    {
     "name": "stdout",
     "output_type": "stream",
     "text": [
      "Mutual Information: \n",
      " 59\n",
      "Chi2: \n",
      " 30\n",
      "ReliefF: \n",
      " 29\n"
     ]
    }
   ],
   "source": [
    "print(\"Mutual Information: \\n\",len(Mutual_Information[0][0]))\n",
    "print(\"Chi2: \\n\",len(Chi2[0][0]))\n",
    "print(\"ReliefF: \\n\",len(ReliefF[0][0]))"
   ]
  },
  {
   "cell_type": "code",
   "execution_count": 20,
   "id": "5f44bc0fb64a3885",
   "metadata": {
    "ExecuteTime": {
     "end_time": "2024-09-26T04:02:33.582957Z",
     "start_time": "2024-09-26T04:02:33.568957Z"
    }
   },
   "outputs": [],
   "source": [
    "from sklearn.metrics import accuracy_score, precision_score, recall_score, f1_score, roc_auc_score\n",
    "from sklearn.naive_bayes import GaussianNB\n",
    "from sklearn.model_selection import train_test_split\n"
   ]
  },
  {
   "cell_type": "code",
   "execution_count": 21,
   "id": "94b4ccb6e9d66db4",
   "metadata": {
    "ExecuteTime": {
     "end_time": "2024-09-26T04:02:33.614467Z",
     "start_time": "2024-09-26T04:02:33.583958Z"
    }
   },
   "outputs": [],
   "source": [
    "\n",
    "\n",
    "#Naive Bayes classifier with all features\n",
    "\n",
    "cmodel = GaussianNB()\n",
    "X_train, X_test, y_train, y_test = train_test_split(X, y, test_size=0.2, random_state=42)\n",
    "cmodel.fit(X_train, y_train)\n",
    "y_pred = cmodel.predict(X_test)\n",
    "y_pred_proba = cmodel.predict_proba(X_test)[:, 1]  # Probability estimates for AUC\n",
    "\n",
    "accuracy = accuracy_score(y_test, y_pred)\n",
    "precision = precision_score(y_test, y_pred)\n",
    "recall = recall_score(y_test, y_pred)\n",
    "f1 = f1_score(y_test, y_pred)\n",
    "auc = roc_auc_score(y_test, y_pred_proba)"
   ]
  },
  {
   "cell_type": "code",
   "execution_count": 22,
   "id": "e1bf30a2a6f0e7ab",
   "metadata": {
    "ExecuteTime": {
     "end_time": "2024-09-26T04:02:33.630563Z",
     "start_time": "2024-09-26T04:02:33.615469Z"
    }
   },
   "outputs": [
    {
     "name": "stdout",
     "output_type": "stream",
     "text": [
      "Accuracy:  0.9432314410480349\n",
      "Precision:  0.6086956521739131\n",
      "Recall:  0.7777777777777778\n",
      "F1:  0.6829268292682927\n",
      "AUC:  0.9462875197472354\n"
     ]
    }
   ],
   "source": [
    "print(\"Accuracy: \", accuracy)\n",
    "print(\"Precision: \", precision)\n",
    "print(\"Recall: \", recall)\n",
    "print(\"F1: \", f1)\n",
    "print(\"AUC: \", auc)\n"
   ]
  },
  {
   "cell_type": "code",
   "execution_count": 24,
   "id": "cc4b93a7113ac1c9",
   "metadata": {
    "ExecuteTime": {
     "end_time": "2024-09-26T04:02:33.661985Z",
     "start_time": "2024-09-26T04:02:33.646983Z"
    }
   },
   "outputs": [
    {
     "name": "stdout",
     "output_type": "stream",
     "text": [
      "Accuracy:  0.9432314410480349\n",
      "Precision:  0.6086956521739131\n",
      "Recall:  0.7777777777777778\n",
      "F1:  0.6829268292682927\n",
      "AUC:  0.9581358609794628\n"
     ]
    }
   ],
   "source": [
    "print(\"Accuracy: \", accuracy)\n",
    "print(\"Precision: \", precision)\n",
    "print(\"Recall: \", recall)\n",
    "print(\"F1: \", f1)\n",
    "print(\"AUC: \", auc)"
   ]
  },
  {
   "cell_type": "code",
   "execution_count": 26,
   "id": "9877d885f3685198",
   "metadata": {
    "ExecuteTime": {
     "end_time": "2024-09-26T04:02:33.693501Z",
     "start_time": "2024-09-26T04:02:33.678986Z"
    }
   },
   "outputs": [
    {
     "name": "stdout",
     "output_type": "stream",
     "text": [
      "Accuracy:  0.9432314410480349\n",
      "Precision:  0.6190476190476191\n",
      "Recall:  0.7222222222222222\n",
      "F1:  0.6666666666666666\n",
      "AUC:  0.9727488151658767\n"
     ]
    }
   ],
   "source": [
    "print(\"Accuracy: \", accuracy)\n",
    "print(\"Precision: \", precision)\n",
    "print(\"Recall: \", recall)\n",
    "print(\"F1: \", f1)\n",
    "print(\"AUC: \", auc)\n"
   ]
  },
  {
   "cell_type": "code",
   "execution_count": 39,
   "id": "8b225ca6053e3563",
   "metadata": {
    "ExecuteTime": {
     "end_time": "2024-09-26T05:22:23.875628Z",
     "start_time": "2024-09-26T05:22:23.866630Z"
    }
   },
   "outputs": [],
   "source": [
    "MI_Scores = []\n",
    "Chi_Scores = []\n",
    "ReliefF_Scores = []"
   ]
  },
  {
   "cell_type": "markdown",
   "id": "ad8d8a038949046a",
   "metadata": {},
   "source": [
    "### Naive Bayes with all scores of mutual information, chi2 and ReliefF"
   ]
  },
  {
   "cell_type": "code",
   "execution_count": 40,
   "id": "9e637221b876eab0",
   "metadata": {
    "ExecuteTime": {
     "end_time": "2024-09-26T05:22:23.938191Z",
     "start_time": "2024-09-26T05:22:23.877632Z"
    }
   },
   "outputs": [],
   "source": [
    "#Naive Bayes with all scores of mutual information\n",
    "for MI in Mutual_Information:\n",
    "    model = GaussianNB()\n",
    "    X_train, X_test, y_train, y_test = train_test_split(X[MI[0]], y, test_size=0.2, random_state=42)\n",
    "    cmodel.fit(X_train, y_train)\n",
    "    y_pred = cmodel.predict(X_test)\n",
    "    y_pred_proba = cmodel.predict_proba(X_test)[:, 1]  # Probability estimates for AUC\n",
    "    # # accuracy = accuracy_score(y_test, y_pred)\n",
    "    # # precision = precision_score(y_test, y_pred)\n",
    "    # # recall = recall_score(y_test, y_pred)\n",
    "    # # f1 = f1_score(y_test, y_pred)\n",
    "    auc = roc_auc_score(y_test, y_pred_proba)\n",
    "    MI_Scores.append([auc,MI[2]])"
   ]
  },
  {
   "cell_type": "code",
   "execution_count": 41,
   "id": "198b3d7c8ef35ebf",
   "metadata": {
    "ExecuteTime": {
     "end_time": "2024-09-26T05:22:23.983649Z",
     "start_time": "2024-09-26T05:22:23.939141Z"
    }
   },
   "outputs": [],
   "source": [
    "for Ch in Chi2:\n",
    "    model = GaussianNB()\n",
    "    X_train, X_test, y_train, y_test = train_test_split(X[Ch[0]], y, test_size=0.2, random_state=42)\n",
    "    cmodel.fit(X_train, y_train)\n",
    "    y_pred = cmodel.predict(X_test)\n",
    "    y_pred_proba = cmodel.predict_proba(X_test)[:, 1]  # Probability estimates for AUC\n",
    "    # # accuracy = accuracy_score(y_test, y_pred)\n",
    "    # # precision = precision_score(y_test, y_pred)\n",
    "    # # recall = recall_score(y_test, y_pred)\n",
    "    # # f1 = f1_score(y_test, y_pred)\n",
    "    auc = roc_auc_score(y_test, y_pred_proba)\n",
    "    Chi_Scores.append([auc,Ch[2]])"
   ]
  },
  {
   "cell_type": "code",
   "execution_count": 42,
   "id": "2eaa06ab9fa4dcab",
   "metadata": {
    "ExecuteTime": {
     "end_time": "2024-09-26T05:22:24.031159Z",
     "start_time": "2024-09-26T05:22:23.984649Z"
    }
   },
   "outputs": [],
   "source": [
    "for RF in ReliefF:\n",
    "    model = GaussianNB()\n",
    "    X_train, X_test, y_train, y_test = train_test_split(X[RF[0]], y, test_size=0.2, random_state=42)\n",
    "    cmodel.fit(X_train, y_train)\n",
    "    y_pred = cmodel.predict(X_test)\n",
    "    y_pred_proba = cmodel.predict_proba(X_test)[:, 1]  # Probability estimates for AUC\n",
    "    # # accuracy = accuracy_score(y_test, y_pred)\n",
    "    # # precision = precision_score(y_test, y_pred)\n",
    "    # # recall = recall_score(y_test, y_pred)\n",
    "    # # f1 = f1_score(y_test, y_pred)\n",
    "    auc = roc_auc_score(y_test, y_pred_proba)\n",
    "    ReliefF_Scores.append([auc,RF[2]])"
   ]
  },
  {
   "cell_type": "code",
   "execution_count": 42,
   "id": "db6fd7e948d37456",
   "metadata": {
    "ExecuteTime": {
     "end_time": "2024-09-26T05:22:24.046670Z",
     "start_time": "2024-09-26T05:22:24.032160Z"
    }
   },
   "outputs": [],
   "source": []
  },
  {
   "cell_type": "code",
   "execution_count": 43,
   "id": "7ea4eb6f4eb1d298",
   "metadata": {
    "ExecuteTime": {
     "end_time": "2024-09-26T05:22:24.062670Z",
     "start_time": "2024-09-26T05:22:24.047671Z"
    }
   },
   "outputs": [],
   "source": [
    "MI_Scores.sort(key=lambda x: x[0], reverse=True)\n",
    "Chi_Scores.sort(key=lambda x: x[0], reverse=True)\n",
    "ReliefF_Scores.sort(key=lambda x: x[0], reverse=True)"
   ]
  },
  {
   "cell_type": "code",
   "execution_count": 44,
   "id": "b311227e3c0dc359",
   "metadata": {
    "ExecuteTime": {
     "end_time": "2024-09-26T05:22:24.078670Z",
     "start_time": "2024-09-26T05:22:24.063672Z"
    }
   },
   "outputs": [
    {
     "name": "stdout",
     "output_type": "stream",
     "text": [
      "Mutual Information:  0.9723538704581359 850\n",
      "Mutual Information:  0.970510795155345 750\n",
      "Mutual Information:  0.9670879410215902 650\n",
      "Mutual Information:  0.9607688256977357 700\n",
      "Mutual Information:  0.9581358609794628 600\n",
      "Mutual Information:  0.94971037388099 550\n",
      "Mutual Information:  0.944971037388099 900\n",
      "Mutual Information:  0.9439178515007899 800\n",
      "Mutual Information:  0.9418114797261717 950\n",
      "Mutual Information:  0.9315429173249078 500\n"
     ]
    }
   ],
   "source": [
    "for i in MI_Scores:\n",
    "    print(\"Mutual Information: \",i[0], i[1])"
   ]
  },
  {
   "cell_type": "code",
   "execution_count": 45,
   "id": "b0d0c8de1648489f",
   "metadata": {
    "ExecuteTime": {
     "end_time": "2024-09-26T05:22:24.094183Z",
     "start_time": "2024-09-26T05:22:24.079670Z"
    }
   },
   "outputs": [
    {
     "name": "stdout",
     "output_type": "stream",
     "text": [
      "Chi2:  0.9773565034228542 800\n",
      "Chi2:  0.9757767245918905 650\n",
      "Chi2:  0.9727488151658767 500\n",
      "Chi2:  0.9677461822011585 850\n",
      "Chi2:  0.9649815692469721 550\n",
      "Chi2:  0.9594523433385993 600\n",
      "Chi2:  0.9470774091627172 750\n",
      "Chi2:  0.9133754607688257 700\n",
      "Chi2:  0.9128488678251712 950\n",
      "Chi2:  0.8809899947340706 900\n"
     ]
    }
   ],
   "source": [
    "for i in Chi_Scores:\n",
    "    print(\"Chi2: \",i[0], i[1])"
   ]
  },
  {
   "cell_type": "code",
   "execution_count": 46,
   "id": "4fdefae0a7db9f40",
   "metadata": {
    "ExecuteTime": {
     "end_time": "2024-09-26T05:22:24.110181Z",
     "start_time": "2024-09-26T05:22:24.095182Z"
    }
   },
   "outputs": [
    {
     "name": "stdout",
     "output_type": "stream",
     "text": [
      "ReliefF:  0.9516850974196946 800\n",
      "ReliefF:  0.9464191679831491 500\n",
      "ReliefF:  0.9377303844128488 850\n",
      "ReliefF:  0.9324644549763033 950\n",
      "ReliefF:  0.9270668773038442 900\n",
      "ReliefF:  0.9214060031595577 650\n",
      "ReliefF:  0.8966561348077936 700\n",
      "ReliefF:  0.8802001053185887 600\n",
      "ReliefF:  0.8683517640863613 750\n",
      "ReliefF:  0.84913112164297 550\n"
     ]
    }
   ],
   "source": [
    "for i in ReliefF_Scores:\n",
    "    print(\"ReliefF: \",i[0], i[1])"
   ]
  },
  {
   "cell_type": "code",
   "execution_count": 48,
   "id": "e0a05b27757675a",
   "metadata": {
    "ExecuteTime": {
     "end_time": "2024-09-26T05:33:36.233794Z",
     "start_time": "2024-09-26T05:33:36.214796Z"
    }
   },
   "outputs": [
    {
     "name": "stdout",
     "output_type": "stream",
     "text": [
      "Mutual Information: 600\n",
      "Chi2:  500\n",
      "ReliefF:  550\n"
     ]
    }
   ],
   "source": [
    "print(\"Mutual Information:\", Mutual_Information[0][2])\n",
    "print(\"Chi2: \",Chi2[0][2])\n",
    "print(\"ReliefF: \",ReliefF[0][2])\n"
   ]
  },
  {
   "cell_type": "markdown",
   "id": "eaf983f69c884bda",
   "metadata": {},
   "source": [
    "### Random Forest Classifier with all features"
   ]
  },
  {
   "cell_type": "code",
   "execution_count": 49,
   "id": "fd04af0d3a684dce",
   "metadata": {
    "ExecuteTime": {
     "end_time": "2024-09-26T05:33:36.845450Z",
     "start_time": "2024-09-26T05:33:36.240795Z"
    }
   },
   "outputs": [],
   "source": [
    "from sklearn.ensemble import RandomForestClassifier\n",
    "random_forest = RandomForestClassifier(n_estimators=100, random_state=42)\n",
    "X_train, X_test, y_train, y_test = train_test_split(X, y, test_size=0.2, random_state=42)\n",
    "random_forest.fit(X_train, y_train)\n",
    "y_pred = random_forest.predict(X_test)\n",
    "y_pred_proba = random_forest.predict_proba(X_test)[:, 1]  # Probability estimates for AUC\n",
    "accuracy = accuracy_score(y_test, y_pred)\n",
    "precision = precision_score(y_test, y_pred)\n",
    "recall = recall_score(y_test, y_pred)\n",
    "f1 = f1_score(y_test, y_pred)\n",
    "auc = roc_auc_score(y_test, y_pred_proba)\n"
   ]
  },
  {
   "cell_type": "markdown",
   "id": "8e36dcb1481a88b1",
   "metadata": {},
   "source": []
  },
  {
   "cell_type": "code",
   "execution_count": 49,
   "id": "f87d26e6c1ebbf67",
   "metadata": {
    "ExecuteTime": {
     "end_time": "2024-09-26T05:33:36.861450Z",
     "start_time": "2024-09-26T05:33:36.846454Z"
    }
   },
   "outputs": [],
   "source": []
  },
  {
   "cell_type": "code",
   "execution_count": 50,
   "id": "67c23f7da6d88dcb",
   "metadata": {
    "ExecuteTime": {
     "end_time": "2024-09-26T05:33:36.876452Z",
     "start_time": "2024-09-26T05:33:36.862454Z"
    }
   },
   "outputs": [
    {
     "name": "stdout",
     "output_type": "stream",
     "text": [
      "Accuracy:  0.9650655021834061\n",
      "Precision:  0.8571428571428571\n",
      "Recall:  0.6666666666666666\n",
      "F1:  0.75\n",
      "AUC:  0.9794628751974724\n"
     ]
    }
   ],
   "source": [
    "print(\"Accuracy: \", accuracy)\n",
    "print(\"Precision: \", precision)\n",
    "print(\"Recall: \", recall)\n",
    "print(\"F1: \", f1)\n",
    "print(\"AUC: \", auc)\n"
   ]
  },
  {
   "cell_type": "code",
   "execution_count": 51,
   "id": "a0b02254ef48bea3",
   "metadata": {
    "ExecuteTime": {
     "end_time": "2024-09-26T05:33:36.891962Z",
     "start_time": "2024-09-26T05:33:36.877451Z"
    }
   },
   "outputs": [],
   "source": [
    "RFMI_Scores = []\n",
    "RFChi_Scores = []\n",
    "RFReliefF_Scores = []"
   ]
  },
  {
   "cell_type": "markdown",
   "id": "5b13764fb0b7b1c0",
   "metadata": {},
   "source": [
    "### Random Forest Classifier with all scores of mutual information, chi2 and ReliefF"
   ]
  },
  {
   "cell_type": "code",
   "execution_count": 52,
   "id": "b543d67fb08dfb7f",
   "metadata": {
    "ExecuteTime": {
     "end_time": "2024-09-26T05:33:39.673048Z",
     "start_time": "2024-09-26T05:33:36.892961Z"
    }
   },
   "outputs": [],
   "source": [
    "#Random Forest Classifier with Mutual Info selected features\n",
    "for M in Mutual_Information:\n",
    "    model = RandomForestClassifier(n_estimators=100, random_state=42)\n",
    "    X_train, X_test, y_train, y_test = train_test_split(X[M[0]], y, test_size=0.2, random_state=42)\n",
    "    model.fit(X_train, y_train)\n",
    "    y_pred = model.predict(X_test)\n",
    "    y_pred_proba = model.predict_proba(X_test)[:, 1]  # Probability estimates for AUC\n",
    "    auc = roc_auc_score(y_test, y_pred_proba)\n",
    "    RFMI_Scores.append([auc,M[2]])"
   ]
  },
  {
   "cell_type": "code",
   "execution_count": 53,
   "id": "405c9fb2ceacdf4d",
   "metadata": {
    "ExecuteTime": {
     "end_time": "2024-09-26T05:33:41.907142Z",
     "start_time": "2024-09-26T05:33:39.674050Z"
    }
   },
   "outputs": [],
   "source": [
    "#Random Forest Classifier with Chi2 selected features\n",
    "for C in Chi2:\n",
    "    model = RandomForestClassifier(n_estimators=100, random_state=42)\n",
    "    X_train, X_test, y_train, y_test = train_test_split(X[C[0]], y, test_size=0.2, random_state=42)\n",
    "    model.fit(X_train, y_train)\n",
    "    y_pred = model.predict(X_test)\n",
    "    y_pred_proba = model.predict_proba(X_test)[:, 1]  # Probability estimates for AUC\n",
    "    auc = roc_auc_score(y_test, y_pred_proba)\n",
    "    RFChi_Scores.append([auc,C[2]])"
   ]
  },
  {
   "cell_type": "code",
   "execution_count": 54,
   "id": "ffec1ab49b9b5521",
   "metadata": {
    "ExecuteTime": {
     "end_time": "2024-09-26T05:33:44.310606Z",
     "start_time": "2024-09-26T05:33:41.908143Z"
    }
   },
   "outputs": [],
   "source": [
    "#Random Forest Classifier with ReliefF selected features\n",
    "for R in ReliefF:\n",
    "    model = RandomForestClassifier(n_estimators=100, random_state=42)\n",
    "    X_train, X_test, y_train, y_test = train_test_split(X[R[0]], y, test_size=0.2, random_state=42)\n",
    "    model.fit(X_train, y_train)\n",
    "    y_pred = model.predict(X_test)\n",
    "    y_pred_proba = model.predict_proba(X_test)[:, 1]  # Probability estimates for AUC\n",
    "    auc = roc_auc_score(y_test, y_pred_proba)\n",
    "    RFReliefF_Scores.append([auc,R[2]])\n",
    "    "
   ]
  },
  {
   "cell_type": "code",
   "execution_count": 55,
   "id": "322bcad9de88f784",
   "metadata": {
    "ExecuteTime": {
     "end_time": "2024-09-26T05:33:44.325606Z",
     "start_time": "2024-09-26T05:33:44.311609Z"
    }
   },
   "outputs": [],
   "source": [
    "RFMI_Scores.sort(key=lambda x: x[0], reverse=True)\n",
    "RFChi_Scores.sort(key=lambda x: x[0], reverse=True)\n",
    "RFReliefF_Scores.sort(key=lambda x: x[0], reverse=True)\n"
   ]
  },
  {
   "cell_type": "code",
   "outputs": [],
   "source": [],
   "metadata": {
    "collapsed": false
   },
   "id": "c9e274df0662ed30"
  },
  {
   "cell_type": "code",
   "outputs": [
    {
     "name": "stdout",
     "output_type": "stream",
     "text": [
      "59\n",
      "55\n",
      "53\n",
      "54\n",
      "61\n",
      "60\n",
      "51\n",
      "61\n",
      "53\n",
      "53\n"
     ]
    }
   ],
   "source": [
    "for m in Mutual_Information:\n",
    "    print(len(m[0]))"
   ],
   "metadata": {
    "collapsed": false,
    "ExecuteTime": {
     "end_time": "2024-09-26T19:52:43.350638Z",
     "start_time": "2024-09-26T19:52:43.345537Z"
    }
   },
   "id": "3fbec6ea1772bdf0",
   "execution_count": 70
  },
  {
   "cell_type": "code",
   "execution_count": 76,
   "id": "eef9aafbd71a5d7a",
   "metadata": {
    "ExecuteTime": {
     "end_time": "2024-09-26T19:56:52.093081Z",
     "start_time": "2024-09-26T19:56:52.083031Z"
    }
   },
   "outputs": [
    {
     "name": "stdout",
     "output_type": "stream",
     "text": [
      "Mutual Information:  0.982885729331227 750 61\n",
      "Mutual Information:  0.9819641916798314 900 53\n",
      "Mutual Information:  0.9805160610847814 850 54\n",
      "Mutual Information:  0.9801211163770405 550 51\n",
      "Mutual Information:  0.9799894681411269 600 59\n",
      "Mutual Information:  0.9795945234333859 950 61\n",
      "Mutual Information:  0.9794628751974723 800 60\n",
      "Mutual Information:  0.9782780410742498 650 53\n",
      "Mutual Information:  0.9774881516587678 500 55\n",
      "Mutual Information:  0.9695892575039494 700 53\n"
     ]
    }
   ],
   "source": [
    "for i in RFMI_Scores:\n",
    "    # Find the corresponding entry in Mutual_Information based on the number of generations\n",
    "    corresponding_entry = next((entry for entry in Mutual_Information if entry[2] == i[1]), None)\n",
    "    if corresponding_entry:\n",
    "        print(\"Mutual Information: \", i[0], i[1], len(corresponding_entry[0]))"
   ]
  },
  {
   "cell_type": "code",
   "execution_count": 78,
   "id": "26cf8d185f257b97",
   "metadata": {
    "ExecuteTime": {
     "end_time": "2024-09-26T19:57:30.698042Z",
     "start_time": "2024-09-26T19:57:30.685042Z"
    }
   },
   "outputs": [
    {
     "name": "stdout",
     "output_type": "stream",
     "text": [
      "Chi2:  0.9805160610847815 550 32\n",
      "Chi2:  0.9803844128488679 850 37\n",
      "Chi2:  0.9785413375460769 950 32\n",
      "Chi2:  0.9774881516587678 650 27\n",
      "Chi2:  0.9772248551869405 600 35\n",
      "Chi2:  0.9768299104791995 800 34\n",
      "Chi2:  0.975645076355977 900 34\n",
      "Chi2:  0.9755134281200633 500 30\n",
      "Chi2:  0.9728804634017905 750 35\n",
      "Chi2:  0.9690626645602949 700 31\n"
     ]
    }
   ],
   "source": [
    "for i in RFChi_Scores:\n",
    "    # Find the corresponding entry in Mutual_Information based on the number of generations\n",
    "    corresponding_entry = next((entry for entry in Chi2 if entry[2] == i[1]), None)\n",
    "    if corresponding_entry:\n",
    "        print(\"Chi2: \", i[0], i[1], len(corresponding_entry[0]))"
   ]
  },
  {
   "cell_type": "code",
   "execution_count": 79,
   "id": "cdb87a053cb935f1",
   "metadata": {
    "ExecuteTime": {
     "end_time": "2024-09-26T19:57:36.563318Z",
     "start_time": "2024-09-26T19:57:36.556804Z"
    }
   },
   "outputs": [
    {
     "name": "stdout",
     "output_type": "stream",
     "text": [
      "ReliefF:  0.982885729331227 750 32\n",
      "ReliefF:  0.9805160610847814 650 31\n",
      "ReliefF:  0.9788046340179041 500 36\n",
      "ReliefF:  0.9773565034228542 900 37\n",
      "ReliefF:  0.9764349657714587 800 37\n",
      "ReliefF:  0.9641916798314903 850 36\n",
      "ReliefF:  0.9583991574512901 700 35\n",
      "ReliefF:  0.9566877303844128 600 33\n",
      "ReliefF:  0.9401000526592944 950 32\n",
      "ReliefF:  0.9036334913112164 550 29\n"
     ]
    }
   ],
   "source": [
    "for i in RFReliefF_Scores:\n",
    "    # Find the corresponding entry in Mutual_Information based on the number of generations\n",
    "    corresponding_entry = next((entry for entry in ReliefF if entry[2] == i[1]), None)\n",
    "    if corresponding_entry:\n",
    "        print(\"ReliefF: \", i[0], i[1], len(corresponding_entry[0]))"
   ]
  },
  {
   "cell_type": "code",
   "outputs": [
    {
     "name": "stdout",
     "output_type": "stream",
     "text": [
      " Naive Bayes All features: AUC:  0.9462875197472354\n",
      " Random Forest All features: AUC 0.9794628751974724\n",
      " Naive Bayes Mutual Information: AUC  0.9723538704581359 850\n",
      " Random Forest Mutual Information: AUC  0.982885729331227 750\n",
      " Naive Bayes Chi2: AUC  0.9773565034228542 800\n",
      " Random Forest Chi2: AUC  0.9805160610847815 550\n",
      " Naive Bayes ReliefF: AUC  0.9516850974196946 800\n",
      " Random Forest ReliefF: AUC  0.982885729331227 750\n"
     ]
    }
   ],
   "source": [
    "import pandas as pd\n",
    "\n",
    "# Create DataFrames for each evaluation method\n",
    "\n",
    "\n",
    "\n",
    "print(\" Naive Bayes All features: AUC:  0.9462875197472354\")\n",
    "print(\" Random Forest All features: AUC 0.9794628751974724\")\n",
    "print(\" Naive Bayes Mutual Information: AUC \", MI_Scores[0][0], MI_Scores[0][1])\n",
    "print(\" Random Forest Mutual Information: AUC \", RFMI_Scores[0][0], RFMI_Scores[0][1])\n",
    "print(\" Naive Bayes Chi2: AUC \", Chi_Scores[0][0], Chi_Scores[0][1])\n",
    "print(\" Random Forest Chi2: AUC \", RFChi_Scores[0][0], RFChi_Scores[0][1])\n",
    "print(\" Naive Bayes ReliefF: AUC \", ReliefF_Scores[0][0], ReliefF_Scores[0][1])\n",
    "print(\" Random Forest ReliefF: AUC \", RFReliefF_Scores[0][0], RFReliefF_Scores[0][1])\n"
   ],
   "metadata": {
    "collapsed": false,
    "ExecuteTime": {
     "end_time": "2024-09-26T13:46:08.247148Z",
     "start_time": "2024-09-26T13:46:08.230633Z"
    }
   },
   "id": "184d86e643e5f3ef",
   "execution_count": 64
  }
 ],
 "metadata": {
  "kernelspec": {
   "display_name": "Python 3 (ipykernel)",
   "language": "python",
   "name": "python3"
  },
  "language_info": {
   "codemirror_mode": {
    "name": "ipython",
    "version": 3
   },
   "file_extension": ".py",
   "mimetype": "text/x-python",
   "name": "python",
   "nbconvert_exporter": "python",
   "pygments_lexer": "ipython3",
   "version": "3.10.7"
  }
 },
 "nbformat": 4,
 "nbformat_minor": 5
}

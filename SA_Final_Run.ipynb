{
 "cells": [
  {
   "cell_type": "code",
   "execution_count": 113,
   "id": "initial_id",
   "metadata": {
    "collapsed": true,
    "ExecuteTime": {
     "end_time": "2024-10-20T00:49:35.184560Z",
     "start_time": "2024-10-20T00:49:35.170194Z"
    }
   },
   "outputs": [],
   "source": [
    "from Metaheuristicas.fitness_functions import *\n"
   ]
  },
  {
   "cell_type": "code",
   "outputs": [],
   "source": [
    "X, y = load_and_preprocess_data(filename='Resources/SeisBenchV1_v1_1.json')\n"
   ],
   "metadata": {
    "collapsed": false,
    "ExecuteTime": {
     "end_time": "2024-10-20T00:49:35.247064Z",
     "start_time": "2024-10-20T00:49:35.184560Z"
    }
   },
   "id": "aa2b839a0ac12d0c",
   "execution_count": 114
  },
  {
   "cell_type": "code",
   "outputs": [],
   "source": [
    "from Metaheuristicas.Simmulated_Annealing import simulated_annealing\n",
    "\n",
    "cooling_rate = 0.99\n",
    "max_iter = 680"
   ],
   "metadata": {
    "collapsed": false,
    "ExecuteTime": {
     "end_time": "2024-10-20T00:49:35.262046Z",
     "start_time": "2024-10-20T00:49:35.248235Z"
    }
   },
   "id": "ca4c77e3ca5f4f79",
   "execution_count": 115
  },
  {
   "cell_type": "markdown",
   "source": [
    "#### Models Naive Bayes and Decision Tree"
   ],
   "metadata": {
    "collapsed": false
   },
   "id": "5aafef1bc4d32ad"
  },
  {
   "cell_type": "code",
   "outputs": [],
   "source": [
    "from sklearn.metrics import accuracy_score, precision_score, recall_score, f1_score, roc_auc_score\n",
    "from sklearn.model_selection import train_test_split\n",
    "from sklearn.ensemble import RandomForestClassifier\n",
    "from sklearn.naive_bayes import GaussianNB\n",
    "\n",
    "NB = GaussianNB()\n",
    "DT = RandomForestClassifier()\n",
    "\n",
    "#dataset split\n",
    "\n",
    "X_train, X_test, y_train, y_test = train_test_split(X, y, test_size=0.3, random_state=42)\n"
   ],
   "metadata": {
    "collapsed": false,
    "ExecuteTime": {
     "end_time": "2024-10-20T00:49:35.277064Z",
     "start_time": "2024-10-20T00:49:35.262445Z"
    }
   },
   "id": "1cad8f015c03fd6a",
   "execution_count": 116
  },
  {
   "cell_type": "markdown",
   "source": [
    "# SA with Mutual Information\n"
   ],
   "metadata": {
    "collapsed": false
   },
   "id": "fdacfe27fc6bf19f"
  },
  {
   "cell_type": "code",
   "outputs": [],
   "source": [
    "best_solution, best_Gfitness = simulated_annealing(X, y, initial_temperature=100, cooling_rate=cooling_rate,max_iter=max_iter ,fitness_function=mutual_information_eval)\n",
    "SAMIFeatures = X.columns[best_solution.astype(bool)].tolist()"
   ],
   "metadata": {
    "collapsed": false,
    "ExecuteTime": {
     "end_time": "2024-10-20T00:51:15.335221Z",
     "start_time": "2024-10-20T00:49:35.278207Z"
    }
   },
   "id": "27afb8be55ef518",
   "execution_count": 117
  },
  {
   "cell_type": "markdown",
   "source": [],
   "metadata": {
    "collapsed": false
   },
   "id": "3d70ef55f40a1139"
  },
  {
   "cell_type": "code",
   "outputs": [
    {
     "name": "stdout",
     "output_type": "stream",
     "text": [
      "Accuracy: 0.9273255813953488\n",
      "Precision: 0.47368421052631576\n",
      "Recall: 0.782608695652174\n",
      "F1: 0.5901639344262294\n",
      "AUC: 0.860151699851009\n"
     ]
    }
   ],
   "source": [
    "NB.fit(X_train[SAMIFeatures], y_train)\n",
    "\n",
    "y_pred = NB.predict(X_test[SAMIFeatures])\n",
    "\n",
    "print(\"Accuracy:\", accuracy_score(y_test, y_pred))\n",
    "print(\"Precision:\", precision_score(y_test, y_pred))\n",
    "print(\"Recall:\", recall_score(y_test, y_pred))\n",
    "print(\"F1:\", f1_score(y_test, y_pred))\n",
    "print(\"AUC:\", roc_auc_score(y_test, y_pred))\n"
   ],
   "metadata": {
    "collapsed": false,
    "ExecuteTime": {
     "end_time": "2024-10-20T00:51:15.350370Z",
     "start_time": "2024-10-20T00:51:15.336221Z"
    }
   },
   "id": "e222b27f3bfd73ff",
   "execution_count": 118
  },
  {
   "cell_type": "code",
   "outputs": [
    {
     "name": "stdout",
     "output_type": "stream",
     "text": [
      "Accuracy: 0.9593023255813954\n",
      "Precision: 0.7142857142857143\n",
      "Recall: 0.6521739130434783\n",
      "F1: 0.6818181818181819\n",
      "AUC: 0.8167411621292158\n"
     ]
    }
   ],
   "source": [
    "DT.fit(X_train[SAMIFeatures], y_train)\n",
    "\n",
    "y_pred = DT.predict(X_test[SAMIFeatures])\n",
    "\n",
    "print(\"Accuracy:\", accuracy_score(y_test, y_pred))\n",
    "print(\"Precision:\", precision_score(y_test, y_pred))\n",
    "print(\"Recall:\", recall_score(y_test, y_pred))\n",
    "print(\"F1:\", f1_score(y_test, y_pred))\n",
    "print(\"AUC:\", roc_auc_score(y_test, y_pred))"
   ],
   "metadata": {
    "collapsed": false,
    "ExecuteTime": {
     "end_time": "2024-10-20T00:51:15.627924Z",
     "start_time": "2024-10-20T00:51:15.351663Z"
    }
   },
   "id": "cfa13e64f7f8fae8",
   "execution_count": 119
  },
  {
   "cell_type": "markdown",
   "source": [],
   "metadata": {
    "collapsed": false
   },
   "id": "6499cf3717ea9c88"
  },
  {
   "cell_type": "markdown",
   "source": [
    "# SA with Chi2"
   ],
   "metadata": {
    "collapsed": false
   },
   "id": "738f5b3837eb3232"
  },
  {
   "cell_type": "code",
   "outputs": [],
   "source": [
    "best_solution, best_Gfitness = simulated_annealing(X, y, initial_temperature=1, cooling_rate=cooling_rate,max_iter=max_iter ,fitness_function=mutual_information_eval)\n",
    "SAX2Features = X.columns[best_solution.astype(bool)].tolist()"
   ],
   "metadata": {
    "collapsed": false,
    "ExecuteTime": {
     "end_time": "2024-10-20T00:53:21.024486Z",
     "start_time": "2024-10-20T00:51:15.628923Z"
    }
   },
   "id": "a9ad1ed17eba54f5",
   "execution_count": 120
  },
  {
   "cell_type": "code",
   "outputs": [
    {
     "name": "stdout",
     "output_type": "stream",
     "text": [
      "Accuracy: 0.9447674418604651\n",
      "Precision: 0.5625\n",
      "Recall: 0.782608695652174\n",
      "F1: 0.6545454545454547\n",
      "AUC: 0.8694974942435324\n"
     ]
    }
   ],
   "source": [
    "NB.fit(X_train[SAX2Features], y_train)\n",
    "y_pred = NB.predict(X_test[SAX2Features])\n",
    "\n",
    "print(\"Accuracy:\", accuracy_score(y_test, y_pred))\n",
    "print(\"Precision:\", precision_score(y_test, y_pred))\n",
    "print(\"Recall:\", recall_score(y_test, y_pred))\n",
    "print(\"F1:\", f1_score(y_test, y_pred))\n",
    "print(\"AUC:\", roc_auc_score(y_test, y_pred))"
   ],
   "metadata": {
    "collapsed": false,
    "ExecuteTime": {
     "end_time": "2024-10-20T00:53:21.040021Z",
     "start_time": "2024-10-20T00:53:21.025484Z"
    }
   },
   "id": "bddacde3cb4a9024",
   "execution_count": 121
  },
  {
   "cell_type": "code",
   "outputs": [
    {
     "name": "stdout",
     "output_type": "stream",
     "text": [
      "Accuracy: 0.9680232558139535\n",
      "Precision: 0.8\n",
      "Recall: 0.6956521739130435\n",
      "F1: 0.7441860465116279\n",
      "AUC: 0.8415955573615062\n"
     ]
    }
   ],
   "source": [
    "DT.fit(X_train[SAX2Features], y_train)\n",
    "y_pred = DT.predict(X_test[SAX2Features])\n",
    "\n",
    "print(\"Accuracy:\", accuracy_score(y_test, y_pred))\n",
    "print(\"Precision:\", precision_score(y_test, y_pred))\n",
    "print(\"Recall:\", recall_score(y_test, y_pred))\n",
    "print(\"F1:\", f1_score(y_test, y_pred))\n",
    "print(\"AUC:\", roc_auc_score(y_test, y_pred))"
   ],
   "metadata": {
    "collapsed": false,
    "ExecuteTime": {
     "end_time": "2024-10-20T00:53:21.339110Z",
     "start_time": "2024-10-20T00:53:21.041022Z"
    }
   },
   "id": "7b6f2fb86e8ce7f8",
   "execution_count": 122
  },
  {
   "cell_type": "markdown",
   "source": [
    "# SA with ReliefF"
   ],
   "metadata": {
    "collapsed": false
   },
   "id": "44bea2b37508966a"
  },
  {
   "cell_type": "code",
   "outputs": [],
   "source": [
    "best_solution, best_Gfitness = simulated_annealing(X, y, initial_temperature=0.1, cooling_rate=cooling_rate,max_iter=max_iter ,fitness_function=mutual_information_eval)\n",
    "SARFFeatures = X.columns[best_solution.astype(bool)].tolist()"
   ],
   "metadata": {
    "collapsed": false,
    "ExecuteTime": {
     "end_time": "2024-10-20T00:55:40.940164Z",
     "start_time": "2024-10-20T00:53:21.340432Z"
    }
   },
   "id": "37f89a6d5cfdb864",
   "execution_count": 123
  },
  {
   "cell_type": "markdown",
   "source": [],
   "metadata": {
    "collapsed": false
   },
   "id": "c857cc136f8f20c5"
  },
  {
   "cell_type": "code",
   "outputs": [
    {
     "name": "stdout",
     "output_type": "stream",
     "text": [
      "Accuracy: 0.936046511627907\n",
      "Precision: 0.5142857142857142\n",
      "Recall: 0.782608695652174\n",
      "F1: 0.6206896551724138\n",
      "AUC: 0.8648245970472707\n"
     ]
    }
   ],
   "source": [
    "NB.fit(X_train[SARFFeatures], y_train)\n",
    "y_pred = NB.predict(X_test[SARFFeatures])\n",
    "\n",
    "print(\"Accuracy:\", accuracy_score(y_test, y_pred))\n",
    "print(\"Precision:\", precision_score(y_test, y_pred))\n",
    "print(\"Recall:\", recall_score(y_test, y_pred))\n",
    "print(\"F1:\", f1_score(y_test, y_pred))\n",
    "print(\"AUC:\", roc_auc_score(y_test, y_pred))"
   ],
   "metadata": {
    "collapsed": false,
    "ExecuteTime": {
     "end_time": "2024-10-20T00:55:40.955462Z",
     "start_time": "2024-10-20T00:55:40.941167Z"
    }
   },
   "id": "c18092371a5c95ee",
   "execution_count": 124
  },
  {
   "cell_type": "code",
   "outputs": [
    {
     "name": "stdout",
     "output_type": "stream",
     "text": [
      "Accuracy: 0.9651162790697675\n",
      "Precision: 0.8235294117647058\n",
      "Recall: 0.6086956521739131\n",
      "F1: 0.7\n",
      "AUC: 0.7996749288906949\n"
     ]
    }
   ],
   "source": [
    "DT.fit(X_train[SARFFeatures], y_train)\n",
    "y_pred = DT.predict(X_test[SARFFeatures])\n",
    "\n",
    "print(\"Accuracy:\", accuracy_score(y_test, y_pred))\n",
    "print(\"Precision:\", precision_score(y_test, y_pred))\n",
    "print(\"Recall:\", recall_score(y_test, y_pred))\n",
    "print(\"F1:\", f1_score(y_test, y_pred))\n",
    "print(\"AUC:\", roc_auc_score(y_test, y_pred))"
   ],
   "metadata": {
    "collapsed": false,
    "ExecuteTime": {
     "end_time": "2024-10-20T00:55:41.268946Z",
     "start_time": "2024-10-20T00:55:40.956396Z"
    }
   },
   "id": "8f03dc90075b09ea",
   "execution_count": 125
  },
  {
   "cell_type": "markdown",
   "source": [
    "## Red Neuronal\n"
   ],
   "metadata": {
    "collapsed": false
   },
   "id": "c0fbf5b3e5c28f6f"
  },
  {
   "cell_type": "code",
   "outputs": [
    {
     "name": "stdout",
     "output_type": "stream",
     "text": [
      "Features selected by MI:  54\n",
      "Features selected by X2:  74\n",
      "Features selected by ReliefF:  72\n"
     ]
    }
   ],
   "source": [
    "print(\"Features selected by MI: \", len(SAMIFeatures))\n",
    "print(\"Features selected by X2: \", len(SAX2Features))\n",
    "print(\"Features selected by ReliefF: \", len(SARFFeatures))"
   ],
   "metadata": {
    "collapsed": false,
    "ExecuteTime": {
     "end_time": "2024-10-20T00:55:41.284482Z",
     "start_time": "2024-10-20T00:55:41.269974Z"
    }
   },
   "id": "c3b3500d30b31937",
   "execution_count": 126
  },
  {
   "cell_type": "code",
   "outputs": [],
   "source": [
    "\n",
    "from tensorflow.keras.models import Sequential\n",
    "from tensorflow.keras.layers import Dense\n",
    "from tensorflow.keras.optimizers import Adam\n",
    "from tensorflow.keras.losses import BinaryCrossentropy"
   ],
   "metadata": {
    "collapsed": false,
    "ExecuteTime": {
     "end_time": "2024-10-19T23:21:05.117094Z",
     "start_time": "2024-10-19T23:21:02.925131Z"
    }
   },
   "id": "7bca53201b5fe940",
   "execution_count": 17
  },
  {
   "cell_type": "markdown",
   "source": [
    "MUTUAL_INFORMATION "
   ],
   "metadata": {
    "collapsed": false
   },
   "id": "6730803a5695bad8"
  },
  {
   "cell_type": "code",
   "outputs": [
    {
     "name": "stdout",
     "output_type": "stream",
     "text": [
      "Epoch 1/100\n"
     ]
    },
    {
     "name": "stderr",
     "output_type": "stream",
     "text": [
      "C:\\Users\\Randall\\AppData\\Local\\Programs\\Python\\Python310\\lib\\site-packages\\keras\\engine\\data_adapter.py:1700: FutureWarning: The behavior of `series[i:j]` with an integer-dtype index is deprecated. In a future version, this will be treated as *label-based* indexing, consistent with e.g. `series[i]` lookups. To retain the old behavior, use `series.iloc[i:j]`. To get the future behavior, use `series.loc[i:j]`.\n",
      "  return t[start:end]\n"
     ]
    },
    {
     "name": "stdout",
     "output_type": "stream",
     "text": [
      "20/20 [==============================] - 0s 7ms/step - loss: 0.5109 - accuracy: 0.7734 - val_loss: 0.3161 - val_accuracy: 0.9193\n",
      "Epoch 2/100\n",
      "20/20 [==============================] - 0s 2ms/step - loss: 0.2982 - accuracy: 0.8984 - val_loss: 0.2447 - val_accuracy: 0.9193\n",
      "Epoch 3/100\n",
      "20/20 [==============================] - 0s 2ms/step - loss: 0.2277 - accuracy: 0.9062 - val_loss: 0.1973 - val_accuracy: 0.9255\n",
      "Epoch 4/100\n",
      "20/20 [==============================] - 0s 2ms/step - loss: 0.1704 - accuracy: 0.9344 - val_loss: 0.1578 - val_accuracy: 0.9317\n",
      "Epoch 5/100\n",
      "20/20 [==============================] - 0s 2ms/step - loss: 0.1301 - accuracy: 0.9484 - val_loss: 0.1299 - val_accuracy: 0.9503\n",
      "Epoch 6/100\n",
      "20/20 [==============================] - 0s 2ms/step - loss: 0.1152 - accuracy: 0.9578 - val_loss: 0.1165 - val_accuracy: 0.9503\n",
      "Epoch 7/100\n",
      "20/20 [==============================] - 0s 2ms/step - loss: 0.0999 - accuracy: 0.9625 - val_loss: 0.1148 - val_accuracy: 0.9565\n",
      "Epoch 8/100\n",
      "20/20 [==============================] - 0s 2ms/step - loss: 0.0924 - accuracy: 0.9688 - val_loss: 0.1064 - val_accuracy: 0.9503\n",
      "Epoch 9/100\n",
      "20/20 [==============================] - 0s 2ms/step - loss: 0.0883 - accuracy: 0.9641 - val_loss: 0.1243 - val_accuracy: 0.9379\n",
      "Epoch 10/100\n",
      "20/20 [==============================] - 0s 2ms/step - loss: 0.0919 - accuracy: 0.9609 - val_loss: 0.0912 - val_accuracy: 0.9627\n",
      "Epoch 11/100\n",
      "20/20 [==============================] - 0s 2ms/step - loss: 0.0791 - accuracy: 0.9672 - val_loss: 0.0940 - val_accuracy: 0.9503\n",
      "Epoch 12/100\n",
      "20/20 [==============================] - 0s 2ms/step - loss: 0.0777 - accuracy: 0.9719 - val_loss: 0.0876 - val_accuracy: 0.9627\n",
      "Epoch 13/100\n",
      "20/20 [==============================] - 0s 2ms/step - loss: 0.0758 - accuracy: 0.9719 - val_loss: 0.1037 - val_accuracy: 0.9441\n",
      "Epoch 14/100\n",
      "20/20 [==============================] - 0s 2ms/step - loss: 0.0728 - accuracy: 0.9719 - val_loss: 0.0828 - val_accuracy: 0.9689\n",
      "Epoch 15/100\n",
      "20/20 [==============================] - 0s 2ms/step - loss: 0.0694 - accuracy: 0.9719 - val_loss: 0.0796 - val_accuracy: 0.9814\n",
      "Epoch 16/100\n",
      "20/20 [==============================] - 0s 2ms/step - loss: 0.0686 - accuracy: 0.9719 - val_loss: 0.0824 - val_accuracy: 0.9689\n",
      "Epoch 17/100\n",
      "20/20 [==============================] - 0s 2ms/step - loss: 0.0659 - accuracy: 0.9750 - val_loss: 0.0787 - val_accuracy: 0.9752\n",
      "Epoch 18/100\n",
      "20/20 [==============================] - 0s 2ms/step - loss: 0.0661 - accuracy: 0.9734 - val_loss: 0.0778 - val_accuracy: 0.9752\n",
      "Epoch 19/100\n",
      "20/20 [==============================] - 0s 2ms/step - loss: 0.0706 - accuracy: 0.9766 - val_loss: 0.1102 - val_accuracy: 0.9317\n",
      "Epoch 20/100\n",
      "20/20 [==============================] - 0s 2ms/step - loss: 0.0660 - accuracy: 0.9750 - val_loss: 0.0907 - val_accuracy: 0.9441\n",
      "Epoch 21/100\n",
      "20/20 [==============================] - 0s 2ms/step - loss: 0.0678 - accuracy: 0.9750 - val_loss: 0.1024 - val_accuracy: 0.9317\n",
      "Epoch 22/100\n",
      "20/20 [==============================] - 0s 2ms/step - loss: 0.0632 - accuracy: 0.9750 - val_loss: 0.0849 - val_accuracy: 0.9627\n",
      "Epoch 23/100\n",
      "20/20 [==============================] - 0s 2ms/step - loss: 0.0597 - accuracy: 0.9797 - val_loss: 0.0746 - val_accuracy: 0.9752\n",
      "Epoch 24/100\n",
      "20/20 [==============================] - 0s 2ms/step - loss: 0.0583 - accuracy: 0.9766 - val_loss: 0.0755 - val_accuracy: 0.9752\n",
      "Epoch 25/100\n",
      "20/20 [==============================] - 0s 2ms/step - loss: 0.0588 - accuracy: 0.9766 - val_loss: 0.0788 - val_accuracy: 0.9752\n",
      "Epoch 26/100\n",
      "20/20 [==============================] - 0s 2ms/step - loss: 0.0630 - accuracy: 0.9797 - val_loss: 0.0819 - val_accuracy: 0.9752\n",
      "Epoch 27/100\n",
      "20/20 [==============================] - 0s 2ms/step - loss: 0.0587 - accuracy: 0.9766 - val_loss: 0.0956 - val_accuracy: 0.9565\n",
      "Epoch 28/100\n",
      "20/20 [==============================] - 0s 2ms/step - loss: 0.0549 - accuracy: 0.9781 - val_loss: 0.0779 - val_accuracy: 0.9752\n",
      "Epoch 29/100\n",
      "20/20 [==============================] - 0s 2ms/step - loss: 0.0563 - accuracy: 0.9812 - val_loss: 0.0703 - val_accuracy: 0.9752\n",
      "Epoch 30/100\n",
      "20/20 [==============================] - 0s 2ms/step - loss: 0.0605 - accuracy: 0.9797 - val_loss: 0.0705 - val_accuracy: 0.9752\n",
      "Epoch 31/100\n",
      "20/20 [==============================] - 0s 2ms/step - loss: 0.0506 - accuracy: 0.9875 - val_loss: 0.0935 - val_accuracy: 0.9565\n",
      "Epoch 32/100\n",
      "20/20 [==============================] - 0s 2ms/step - loss: 0.0555 - accuracy: 0.9797 - val_loss: 0.0720 - val_accuracy: 0.9752\n",
      "Epoch 33/100\n",
      "20/20 [==============================] - 0s 2ms/step - loss: 0.0519 - accuracy: 0.9812 - val_loss: 0.0801 - val_accuracy: 0.9752\n",
      "Epoch 34/100\n",
      "20/20 [==============================] - 0s 2ms/step - loss: 0.0509 - accuracy: 0.9828 - val_loss: 0.0824 - val_accuracy: 0.9752\n",
      "Epoch 35/100\n",
      "20/20 [==============================] - 0s 2ms/step - loss: 0.0512 - accuracy: 0.9797 - val_loss: 0.0741 - val_accuracy: 0.9752\n",
      "Epoch 36/100\n",
      "20/20 [==============================] - 0s 2ms/step - loss: 0.0602 - accuracy: 0.9828 - val_loss: 0.0702 - val_accuracy: 0.9752\n",
      "Epoch 37/100\n",
      "20/20 [==============================] - 0s 2ms/step - loss: 0.0533 - accuracy: 0.9812 - val_loss: 0.0758 - val_accuracy: 0.9752\n",
      "Epoch 38/100\n",
      "20/20 [==============================] - 0s 2ms/step - loss: 0.0506 - accuracy: 0.9828 - val_loss: 0.0821 - val_accuracy: 0.9689\n",
      "Epoch 39/100\n",
      "20/20 [==============================] - 0s 2ms/step - loss: 0.0522 - accuracy: 0.9828 - val_loss: 0.0719 - val_accuracy: 0.9814\n",
      "Epoch 40/100\n",
      "20/20 [==============================] - 0s 2ms/step - loss: 0.0474 - accuracy: 0.9781 - val_loss: 0.0732 - val_accuracy: 0.9752\n",
      "Epoch 41/100\n",
      "20/20 [==============================] - 0s 2ms/step - loss: 0.0524 - accuracy: 0.9844 - val_loss: 0.1045 - val_accuracy: 0.9379\n",
      "Epoch 42/100\n",
      "20/20 [==============================] - 0s 2ms/step - loss: 0.0503 - accuracy: 0.9812 - val_loss: 0.0806 - val_accuracy: 0.9752\n",
      "Epoch 43/100\n",
      "20/20 [==============================] - 0s 2ms/step - loss: 0.0489 - accuracy: 0.9812 - val_loss: 0.0716 - val_accuracy: 0.9814\n",
      "Epoch 44/100\n",
      "20/20 [==============================] - 0s 2ms/step - loss: 0.0481 - accuracy: 0.9828 - val_loss: 0.0843 - val_accuracy: 0.9689\n",
      "Epoch 45/100\n",
      "20/20 [==============================] - 0s 2ms/step - loss: 0.0460 - accuracy: 0.9875 - val_loss: 0.0852 - val_accuracy: 0.9752\n",
      "Epoch 46/100\n",
      "20/20 [==============================] - 0s 2ms/step - loss: 0.0454 - accuracy: 0.9844 - val_loss: 0.0777 - val_accuracy: 0.9814\n",
      "Epoch 47/100\n",
      "20/20 [==============================] - 0s 2ms/step - loss: 0.0459 - accuracy: 0.9891 - val_loss: 0.1098 - val_accuracy: 0.9379\n",
      "Epoch 48/100\n",
      "20/20 [==============================] - 0s 2ms/step - loss: 0.0519 - accuracy: 0.9828 - val_loss: 0.0820 - val_accuracy: 0.9814\n",
      "Epoch 49/100\n",
      "20/20 [==============================] - 0s 2ms/step - loss: 0.0459 - accuracy: 0.9844 - val_loss: 0.0730 - val_accuracy: 0.9752\n",
      "Epoch 50/100\n",
      "20/20 [==============================] - 0s 2ms/step - loss: 0.0471 - accuracy: 0.9875 - val_loss: 0.0725 - val_accuracy: 0.9814\n",
      "Epoch 51/100\n",
      "20/20 [==============================] - 0s 2ms/step - loss: 0.0439 - accuracy: 0.9906 - val_loss: 0.0971 - val_accuracy: 0.9565\n",
      "Epoch 52/100\n",
      "20/20 [==============================] - 0s 2ms/step - loss: 0.0454 - accuracy: 0.9891 - val_loss: 0.0779 - val_accuracy: 0.9814\n",
      "Epoch 53/100\n",
      "20/20 [==============================] - 0s 2ms/step - loss: 0.0428 - accuracy: 0.9859 - val_loss: 0.1002 - val_accuracy: 0.9565\n",
      "Epoch 54/100\n",
      "20/20 [==============================] - 0s 2ms/step - loss: 0.0426 - accuracy: 0.9875 - val_loss: 0.0756 - val_accuracy: 0.9814\n",
      "Epoch 55/100\n",
      "20/20 [==============================] - 0s 2ms/step - loss: 0.0418 - accuracy: 0.9875 - val_loss: 0.0759 - val_accuracy: 0.9814\n",
      "Epoch 56/100\n",
      "20/20 [==============================] - 0s 2ms/step - loss: 0.0441 - accuracy: 0.9844 - val_loss: 0.0752 - val_accuracy: 0.9814\n",
      "Epoch 57/100\n",
      "20/20 [==============================] - 0s 2ms/step - loss: 0.0456 - accuracy: 0.9859 - val_loss: 0.0700 - val_accuracy: 0.9752\n",
      "Epoch 58/100\n",
      "20/20 [==============================] - 0s 2ms/step - loss: 0.0462 - accuracy: 0.9891 - val_loss: 0.0738 - val_accuracy: 0.9814\n",
      "Epoch 59/100\n",
      "20/20 [==============================] - 0s 2ms/step - loss: 0.0406 - accuracy: 0.9906 - val_loss: 0.0813 - val_accuracy: 0.9814\n",
      "Epoch 60/100\n",
      "20/20 [==============================] - 0s 2ms/step - loss: 0.0394 - accuracy: 0.9875 - val_loss: 0.0876 - val_accuracy: 0.9814\n",
      "Epoch 61/100\n",
      "20/20 [==============================] - 0s 2ms/step - loss: 0.0414 - accuracy: 0.9844 - val_loss: 0.0841 - val_accuracy: 0.9814\n",
      "Epoch 62/100\n",
      "20/20 [==============================] - 0s 2ms/step - loss: 0.0488 - accuracy: 0.9828 - val_loss: 0.1447 - val_accuracy: 0.9379\n",
      "Epoch 63/100\n",
      "20/20 [==============================] - 0s 2ms/step - loss: 0.0440 - accuracy: 0.9844 - val_loss: 0.0782 - val_accuracy: 0.9814\n",
      "Epoch 64/100\n",
      "20/20 [==============================] - 0s 2ms/step - loss: 0.0386 - accuracy: 0.9891 - val_loss: 0.0800 - val_accuracy: 0.9814\n",
      "Epoch 65/100\n",
      "20/20 [==============================] - 0s 2ms/step - loss: 0.0413 - accuracy: 0.9875 - val_loss: 0.0752 - val_accuracy: 0.9752\n",
      "Epoch 66/100\n",
      "20/20 [==============================] - 0s 2ms/step - loss: 0.0392 - accuracy: 0.9891 - val_loss: 0.0757 - val_accuracy: 0.9814\n",
      "Epoch 67/100\n",
      "20/20 [==============================] - 0s 2ms/step - loss: 0.0380 - accuracy: 0.9891 - val_loss: 0.0763 - val_accuracy: 0.9814\n",
      "Epoch 68/100\n",
      "20/20 [==============================] - 0s 2ms/step - loss: 0.0405 - accuracy: 0.9891 - val_loss: 0.0809 - val_accuracy: 0.9814\n",
      "Epoch 69/100\n",
      "20/20 [==============================] - 0s 2ms/step - loss: 0.0358 - accuracy: 0.9922 - val_loss: 0.1028 - val_accuracy: 0.9689\n",
      "Epoch 70/100\n",
      "20/20 [==============================] - 0s 2ms/step - loss: 0.0393 - accuracy: 0.9875 - val_loss: 0.0778 - val_accuracy: 0.9814\n",
      "Epoch 71/100\n",
      "20/20 [==============================] - 0s 2ms/step - loss: 0.0352 - accuracy: 0.9937 - val_loss: 0.1009 - val_accuracy: 0.9565\n",
      "Epoch 72/100\n",
      "20/20 [==============================] - 0s 2ms/step - loss: 0.0369 - accuracy: 0.9906 - val_loss: 0.0753 - val_accuracy: 0.9752\n",
      "Epoch 73/100\n",
      "20/20 [==============================] - 0s 2ms/step - loss: 0.0335 - accuracy: 0.9922 - val_loss: 0.1098 - val_accuracy: 0.9503\n",
      "Epoch 74/100\n",
      "20/20 [==============================] - 0s 2ms/step - loss: 0.0375 - accuracy: 0.9891 - val_loss: 0.0926 - val_accuracy: 0.9752\n",
      "Epoch 75/100\n",
      "20/20 [==============================] - 0s 2ms/step - loss: 0.0345 - accuracy: 0.9906 - val_loss: 0.0850 - val_accuracy: 0.9752\n",
      "Epoch 76/100\n",
      "20/20 [==============================] - 0s 2ms/step - loss: 0.0342 - accuracy: 0.9906 - val_loss: 0.0832 - val_accuracy: 0.9752\n",
      "Epoch 77/100\n",
      "20/20 [==============================] - 0s 2ms/step - loss: 0.0366 - accuracy: 0.9922 - val_loss: 0.0775 - val_accuracy: 0.9752\n",
      "Epoch 78/100\n",
      "20/20 [==============================] - 0s 2ms/step - loss: 0.0401 - accuracy: 0.9859 - val_loss: 0.0887 - val_accuracy: 0.9752\n",
      "Epoch 79/100\n",
      "20/20 [==============================] - 0s 2ms/step - loss: 0.0376 - accuracy: 0.9906 - val_loss: 0.0769 - val_accuracy: 0.9752\n",
      "Epoch 80/100\n",
      "20/20 [==============================] - 0s 2ms/step - loss: 0.0382 - accuracy: 0.9891 - val_loss: 0.1128 - val_accuracy: 0.9503\n",
      "Epoch 81/100\n",
      "20/20 [==============================] - 0s 2ms/step - loss: 0.0336 - accuracy: 0.9922 - val_loss: 0.0921 - val_accuracy: 0.9752\n",
      "Epoch 82/100\n",
      "20/20 [==============================] - 0s 2ms/step - loss: 0.0329 - accuracy: 0.9906 - val_loss: 0.0778 - val_accuracy: 0.9752\n",
      "Epoch 83/100\n",
      "20/20 [==============================] - 0s 2ms/step - loss: 0.0394 - accuracy: 0.9859 - val_loss: 0.1181 - val_accuracy: 0.9503\n",
      "Epoch 84/100\n",
      "20/20 [==============================] - 0s 2ms/step - loss: 0.0333 - accuracy: 0.9937 - val_loss: 0.1046 - val_accuracy: 0.9565\n",
      "Epoch 85/100\n",
      "20/20 [==============================] - 0s 2ms/step - loss: 0.0349 - accuracy: 0.9937 - val_loss: 0.1333 - val_accuracy: 0.9317\n",
      "Epoch 86/100\n",
      "20/20 [==============================] - 0s 2ms/step - loss: 0.0367 - accuracy: 0.9906 - val_loss: 0.0796 - val_accuracy: 0.9752\n",
      "Epoch 87/100\n",
      "20/20 [==============================] - 0s 2ms/step - loss: 0.0302 - accuracy: 0.9953 - val_loss: 0.0973 - val_accuracy: 0.9752\n",
      "Epoch 88/100\n",
      "20/20 [==============================] - 0s 1ms/step - loss: 0.0313 - accuracy: 0.9906 - val_loss: 0.0844 - val_accuracy: 0.9752\n",
      "Epoch 89/100\n",
      "20/20 [==============================] - 0s 2ms/step - loss: 0.0322 - accuracy: 0.9922 - val_loss: 0.0845 - val_accuracy: 0.9814\n",
      "Epoch 90/100\n",
      "20/20 [==============================] - 0s 2ms/step - loss: 0.0322 - accuracy: 0.9922 - val_loss: 0.0961 - val_accuracy: 0.9752\n",
      "Epoch 91/100\n",
      "20/20 [==============================] - 0s 2ms/step - loss: 0.0312 - accuracy: 0.9922 - val_loss: 0.0881 - val_accuracy: 0.9752\n",
      "Epoch 92/100\n",
      "20/20 [==============================] - 0s 2ms/step - loss: 0.0378 - accuracy: 0.9906 - val_loss: 0.0953 - val_accuracy: 0.9752\n",
      "Epoch 93/100\n",
      "20/20 [==============================] - 0s 2ms/step - loss: 0.0318 - accuracy: 0.9922 - val_loss: 0.0834 - val_accuracy: 0.9752\n",
      "Epoch 94/100\n",
      "20/20 [==============================] - 0s 2ms/step - loss: 0.0346 - accuracy: 0.9906 - val_loss: 0.0898 - val_accuracy: 0.9752\n",
      "Epoch 95/100\n",
      "20/20 [==============================] - 0s 2ms/step - loss: 0.0326 - accuracy: 0.9906 - val_loss: 0.0970 - val_accuracy: 0.9689\n",
      "Epoch 96/100\n",
      "20/20 [==============================] - 0s 2ms/step - loss: 0.0298 - accuracy: 0.9937 - val_loss: 0.0910 - val_accuracy: 0.9689\n",
      "Epoch 97/100\n",
      "20/20 [==============================] - 0s 2ms/step - loss: 0.0289 - accuracy: 0.9953 - val_loss: 0.0948 - val_accuracy: 0.9752\n",
      "Epoch 98/100\n",
      "20/20 [==============================] - 0s 2ms/step - loss: 0.0272 - accuracy: 0.9922 - val_loss: 0.1054 - val_accuracy: 0.9689\n",
      "Epoch 99/100\n",
      "20/20 [==============================] - 0s 2ms/step - loss: 0.0290 - accuracy: 0.9953 - val_loss: 0.1433 - val_accuracy: 0.9379\n",
      "Epoch 100/100\n",
      "20/20 [==============================] - 0s 2ms/step - loss: 0.0320 - accuracy: 0.9937 - val_loss: 0.1069 - val_accuracy: 0.9689\n",
      "11/11 [==============================] - 0s 602us/step - loss: 0.1289 - accuracy: 0.9622\n",
      "Test Accuracy: 0.9622092843055725\n",
      "11/11 [==============================] - 0s 501us/step\n",
      "Accuracy: 0.9622093023255814\n",
      "Precision: 0.7272727272727273\n",
      "Recall: 0.6956521739130435\n",
      "F1: 0.711111111111111\n",
      "AUC: 0.9760260056887444\n"
     ]
    }
   ],
   "source": [
    "\n",
    "RN = Sequential()\n",
    "\n",
    "input_dim = X_train[SAMIFeatures].shape[1]\n",
    "RN.add(Dense(units=64, activation='relu', input_dim=input_dim))\n",
    "RN.add(Dense(units=32, activation='relu'))\n",
    "RN.add(Dense(units=1, activation='sigmoid'))\n",
    "RN.compile(optimizer=Adam(learning_rate=0.001),\n",
    "           loss=BinaryCrossentropy(),\n",
    "           metrics=['accuracy'])\n",
    "\n",
    "history = RN.fit(X_train[SAMIFeatures], y_train, epochs=100, batch_size=32, validation_split=0.2)\n",
    "\n",
    "loss, accuracy = RN.evaluate(X_test[SAMIFeatures], y_test)\n",
    "\n",
    "print(f'Test Accuracy: {accuracy}')\n",
    "y_pred_prob = RN.predict(X_test[SAMIFeatures])\n",
    "y_pred = (y_pred_prob > 0.5).astype(int)\n",
    "\n",
    "print(\"Accuracy:\", accuracy_score(y_test, y_pred))\n",
    "print(\"Precision:\", precision_score(y_test, y_pred))\n",
    "print(\"Recall:\", recall_score(y_test, y_pred))\n",
    "print(\"F1:\", f1_score(y_test, y_pred))\n",
    "print(\"AUC:\", roc_auc_score(y_test, y_pred_prob))"
   ],
   "metadata": {
    "collapsed": false,
    "ExecuteTime": {
     "end_time": "2024-10-19T23:21:09.085106Z",
     "start_time": "2024-10-19T23:21:05.118111Z"
    }
   },
   "id": "24c6460e29494d86",
   "execution_count": 18
  },
  {
   "cell_type": "markdown",
   "source": [
    "CHI2"
   ],
   "metadata": {
    "collapsed": false
   },
   "id": "17667f3858c63c3b"
  },
  {
   "cell_type": "code",
   "outputs": [
    {
     "name": "stdout",
     "output_type": "stream",
     "text": [
      "Epoch 1/100\n"
     ]
    },
    {
     "name": "stderr",
     "output_type": "stream",
     "text": [
      "C:\\Users\\Randall\\AppData\\Local\\Programs\\Python\\Python310\\lib\\site-packages\\keras\\engine\\data_adapter.py:1700: FutureWarning: The behavior of `series[i:j]` with an integer-dtype index is deprecated. In a future version, this will be treated as *label-based* indexing, consistent with e.g. `series[i]` lookups. To retain the old behavior, use `series.iloc[i:j]`. To get the future behavior, use `series.loc[i:j]`.\n",
      "  return t[start:end]\n"
     ]
    },
    {
     "name": "stdout",
     "output_type": "stream",
     "text": [
      "20/20 [==============================] - 0s 6ms/step - loss: 0.4276 - accuracy: 0.8938 - val_loss: 0.2700 - val_accuracy: 0.9193\n",
      "Epoch 2/100\n",
      "20/20 [==============================] - 0s 2ms/step - loss: 0.2729 - accuracy: 0.8984 - val_loss: 0.2320 - val_accuracy: 0.9193\n",
      "Epoch 3/100\n",
      "20/20 [==============================] - 0s 2ms/step - loss: 0.2222 - accuracy: 0.9016 - val_loss: 0.1932 - val_accuracy: 0.9193\n",
      "Epoch 4/100\n",
      "20/20 [==============================] - 0s 2ms/step - loss: 0.1728 - accuracy: 0.9234 - val_loss: 0.1575 - val_accuracy: 0.9317\n",
      "Epoch 5/100\n",
      "20/20 [==============================] - 0s 2ms/step - loss: 0.1366 - accuracy: 0.9391 - val_loss: 0.1335 - val_accuracy: 0.9379\n",
      "Epoch 6/100\n",
      "20/20 [==============================] - 0s 2ms/step - loss: 0.1144 - accuracy: 0.9531 - val_loss: 0.1170 - val_accuracy: 0.9441\n",
      "Epoch 7/100\n",
      "20/20 [==============================] - 0s 2ms/step - loss: 0.1007 - accuracy: 0.9578 - val_loss: 0.1237 - val_accuracy: 0.9441\n",
      "Epoch 8/100\n",
      "20/20 [==============================] - 0s 2ms/step - loss: 0.0918 - accuracy: 0.9656 - val_loss: 0.0971 - val_accuracy: 0.9627\n",
      "Epoch 9/100\n",
      "20/20 [==============================] - 0s 2ms/step - loss: 0.0902 - accuracy: 0.9656 - val_loss: 0.1003 - val_accuracy: 0.9441\n",
      "Epoch 10/100\n",
      "20/20 [==============================] - 0s 2ms/step - loss: 0.0818 - accuracy: 0.9609 - val_loss: 0.0901 - val_accuracy: 0.9627\n",
      "Epoch 11/100\n",
      "20/20 [==============================] - 0s 2ms/step - loss: 0.0794 - accuracy: 0.9688 - val_loss: 0.0898 - val_accuracy: 0.9565\n",
      "Epoch 12/100\n",
      "20/20 [==============================] - 0s 1ms/step - loss: 0.0764 - accuracy: 0.9688 - val_loss: 0.0869 - val_accuracy: 0.9627\n",
      "Epoch 13/100\n",
      "20/20 [==============================] - 0s 2ms/step - loss: 0.0748 - accuracy: 0.9672 - val_loss: 0.0818 - val_accuracy: 0.9627\n",
      "Epoch 14/100\n",
      "20/20 [==============================] - 0s 2ms/step - loss: 0.0698 - accuracy: 0.9766 - val_loss: 0.0939 - val_accuracy: 0.9441\n",
      "Epoch 15/100\n",
      "20/20 [==============================] - 0s 2ms/step - loss: 0.0709 - accuracy: 0.9734 - val_loss: 0.0822 - val_accuracy: 0.9565\n",
      "Epoch 16/100\n",
      "20/20 [==============================] - 0s 2ms/step - loss: 0.0665 - accuracy: 0.9734 - val_loss: 0.0799 - val_accuracy: 0.9565\n",
      "Epoch 17/100\n",
      "20/20 [==============================] - 0s 2ms/step - loss: 0.0651 - accuracy: 0.9734 - val_loss: 0.0772 - val_accuracy: 0.9752\n",
      "Epoch 18/100\n",
      "20/20 [==============================] - 0s 2ms/step - loss: 0.0634 - accuracy: 0.9750 - val_loss: 0.0871 - val_accuracy: 0.9503\n",
      "Epoch 19/100\n",
      "20/20 [==============================] - 0s 2ms/step - loss: 0.0638 - accuracy: 0.9750 - val_loss: 0.0721 - val_accuracy: 0.9814\n",
      "Epoch 20/100\n",
      "20/20 [==============================] - 0s 2ms/step - loss: 0.0641 - accuracy: 0.9734 - val_loss: 0.0810 - val_accuracy: 0.9565\n",
      "Epoch 21/100\n",
      "20/20 [==============================] - 0s 2ms/step - loss: 0.0615 - accuracy: 0.9766 - val_loss: 0.0874 - val_accuracy: 0.9503\n",
      "Epoch 22/100\n",
      "20/20 [==============================] - 0s 2ms/step - loss: 0.0703 - accuracy: 0.9734 - val_loss: 0.1228 - val_accuracy: 0.9379\n",
      "Epoch 23/100\n",
      "20/20 [==============================] - 0s 2ms/step - loss: 0.0654 - accuracy: 0.9734 - val_loss: 0.1086 - val_accuracy: 0.9379\n",
      "Epoch 24/100\n",
      "20/20 [==============================] - 0s 2ms/step - loss: 0.0654 - accuracy: 0.9734 - val_loss: 0.0722 - val_accuracy: 0.9752\n",
      "Epoch 25/100\n",
      "20/20 [==============================] - 0s 2ms/step - loss: 0.0605 - accuracy: 0.9734 - val_loss: 0.0837 - val_accuracy: 0.9627\n",
      "Epoch 26/100\n",
      "20/20 [==============================] - 0s 2ms/step - loss: 0.0549 - accuracy: 0.9750 - val_loss: 0.0685 - val_accuracy: 0.9752\n",
      "Epoch 27/100\n",
      "20/20 [==============================] - 0s 2ms/step - loss: 0.0533 - accuracy: 0.9812 - val_loss: 0.0820 - val_accuracy: 0.9627\n",
      "Epoch 28/100\n",
      "20/20 [==============================] - 0s 2ms/step - loss: 0.0517 - accuracy: 0.9797 - val_loss: 0.0708 - val_accuracy: 0.9752\n",
      "Epoch 29/100\n",
      "20/20 [==============================] - 0s 2ms/step - loss: 0.0574 - accuracy: 0.9797 - val_loss: 0.1041 - val_accuracy: 0.9441\n",
      "Epoch 30/100\n",
      "20/20 [==============================] - 0s 2ms/step - loss: 0.0542 - accuracy: 0.9797 - val_loss: 0.0808 - val_accuracy: 0.9627\n",
      "Epoch 31/100\n",
      "20/20 [==============================] - 0s 2ms/step - loss: 0.0517 - accuracy: 0.9781 - val_loss: 0.0771 - val_accuracy: 0.9689\n",
      "Epoch 32/100\n",
      "20/20 [==============================] - 0s 2ms/step - loss: 0.0491 - accuracy: 0.9781 - val_loss: 0.0666 - val_accuracy: 0.9752\n",
      "Epoch 33/100\n",
      "20/20 [==============================] - 0s 2ms/step - loss: 0.0525 - accuracy: 0.9812 - val_loss: 0.0749 - val_accuracy: 0.9627\n",
      "Epoch 34/100\n",
      "20/20 [==============================] - 0s 2ms/step - loss: 0.0494 - accuracy: 0.9797 - val_loss: 0.0759 - val_accuracy: 0.9627\n",
      "Epoch 35/100\n",
      "20/20 [==============================] - 0s 2ms/step - loss: 0.0524 - accuracy: 0.9797 - val_loss: 0.0683 - val_accuracy: 0.9752\n",
      "Epoch 36/100\n",
      "20/20 [==============================] - 0s 2ms/step - loss: 0.0497 - accuracy: 0.9875 - val_loss: 0.1021 - val_accuracy: 0.9441\n",
      "Epoch 37/100\n",
      "20/20 [==============================] - 0s 2ms/step - loss: 0.0467 - accuracy: 0.9875 - val_loss: 0.0681 - val_accuracy: 0.9752\n",
      "Epoch 38/100\n",
      "20/20 [==============================] - 0s 2ms/step - loss: 0.0504 - accuracy: 0.9828 - val_loss: 0.0696 - val_accuracy: 0.9752\n",
      "Epoch 39/100\n",
      "20/20 [==============================] - 0s 2ms/step - loss: 0.0500 - accuracy: 0.9781 - val_loss: 0.0942 - val_accuracy: 0.9627\n",
      "Epoch 40/100\n",
      "20/20 [==============================] - 0s 2ms/step - loss: 0.0465 - accuracy: 0.9797 - val_loss: 0.0684 - val_accuracy: 0.9752\n",
      "Epoch 41/100\n",
      "20/20 [==============================] - 0s 2ms/step - loss: 0.0461 - accuracy: 0.9906 - val_loss: 0.1251 - val_accuracy: 0.9317\n",
      "Epoch 42/100\n",
      "20/20 [==============================] - 0s 2ms/step - loss: 0.0622 - accuracy: 0.9719 - val_loss: 0.1395 - val_accuracy: 0.9317\n",
      "Epoch 43/100\n",
      "20/20 [==============================] - 0s 2ms/step - loss: 0.0650 - accuracy: 0.9766 - val_loss: 0.0973 - val_accuracy: 0.9565\n",
      "Epoch 44/100\n",
      "20/20 [==============================] - 0s 2ms/step - loss: 0.0495 - accuracy: 0.9844 - val_loss: 0.0622 - val_accuracy: 0.9752\n",
      "Epoch 45/100\n",
      "20/20 [==============================] - 0s 2ms/step - loss: 0.0439 - accuracy: 0.9828 - val_loss: 0.0924 - val_accuracy: 0.9627\n",
      "Epoch 46/100\n",
      "20/20 [==============================] - 0s 2ms/step - loss: 0.0432 - accuracy: 0.9875 - val_loss: 0.0690 - val_accuracy: 0.9752\n",
      "Epoch 47/100\n",
      "20/20 [==============================] - 0s 2ms/step - loss: 0.0431 - accuracy: 0.9828 - val_loss: 0.0744 - val_accuracy: 0.9689\n",
      "Epoch 48/100\n",
      "20/20 [==============================] - 0s 2ms/step - loss: 0.0402 - accuracy: 0.9906 - val_loss: 0.1025 - val_accuracy: 0.9565\n",
      "Epoch 49/100\n",
      "20/20 [==============================] - 0s 2ms/step - loss: 0.0444 - accuracy: 0.9828 - val_loss: 0.0701 - val_accuracy: 0.9752\n",
      "Epoch 50/100\n",
      "20/20 [==============================] - 0s 2ms/step - loss: 0.0430 - accuracy: 0.9875 - val_loss: 0.0779 - val_accuracy: 0.9627\n",
      "Epoch 51/100\n",
      "20/20 [==============================] - 0s 2ms/step - loss: 0.0428 - accuracy: 0.9859 - val_loss: 0.0689 - val_accuracy: 0.9752\n",
      "Epoch 52/100\n",
      "20/20 [==============================] - 0s 2ms/step - loss: 0.0407 - accuracy: 0.9906 - val_loss: 0.0678 - val_accuracy: 0.9752\n",
      "Epoch 53/100\n",
      "20/20 [==============================] - 0s 2ms/step - loss: 0.0423 - accuracy: 0.9906 - val_loss: 0.0684 - val_accuracy: 0.9752\n",
      "Epoch 54/100\n",
      "20/20 [==============================] - 0s 2ms/step - loss: 0.0370 - accuracy: 0.9922 - val_loss: 0.1020 - val_accuracy: 0.9565\n",
      "Epoch 55/100\n",
      "20/20 [==============================] - 0s 2ms/step - loss: 0.0410 - accuracy: 0.9859 - val_loss: 0.0786 - val_accuracy: 0.9627\n",
      "Epoch 56/100\n",
      "20/20 [==============================] - 0s 2ms/step - loss: 0.0377 - accuracy: 0.9891 - val_loss: 0.0744 - val_accuracy: 0.9689\n",
      "Epoch 57/100\n",
      "20/20 [==============================] - 0s 2ms/step - loss: 0.0404 - accuracy: 0.9906 - val_loss: 0.0805 - val_accuracy: 0.9627\n",
      "Epoch 58/100\n",
      "20/20 [==============================] - 0s 2ms/step - loss: 0.0381 - accuracy: 0.9891 - val_loss: 0.0695 - val_accuracy: 0.9752\n",
      "Epoch 59/100\n",
      "20/20 [==============================] - 0s 2ms/step - loss: 0.0424 - accuracy: 0.9859 - val_loss: 0.0734 - val_accuracy: 0.9689\n",
      "Epoch 60/100\n",
      "20/20 [==============================] - 0s 2ms/step - loss: 0.0487 - accuracy: 0.9812 - val_loss: 0.1421 - val_accuracy: 0.9379\n",
      "Epoch 61/100\n",
      "20/20 [==============================] - 0s 2ms/step - loss: 0.0400 - accuracy: 0.9891 - val_loss: 0.0833 - val_accuracy: 0.9627\n",
      "Epoch 62/100\n",
      "20/20 [==============================] - 0s 2ms/step - loss: 0.0359 - accuracy: 0.9922 - val_loss: 0.0913 - val_accuracy: 0.9627\n",
      "Epoch 63/100\n",
      "20/20 [==============================] - 0s 2ms/step - loss: 0.0367 - accuracy: 0.9906 - val_loss: 0.0974 - val_accuracy: 0.9627\n",
      "Epoch 64/100\n",
      "20/20 [==============================] - 0s 2ms/step - loss: 0.0355 - accuracy: 0.9922 - val_loss: 0.0875 - val_accuracy: 0.9627\n",
      "Epoch 65/100\n",
      "20/20 [==============================] - 0s 2ms/step - loss: 0.0395 - accuracy: 0.9875 - val_loss: 0.0896 - val_accuracy: 0.9627\n",
      "Epoch 66/100\n",
      "20/20 [==============================] - 0s 2ms/step - loss: 0.0356 - accuracy: 0.9891 - val_loss: 0.0787 - val_accuracy: 0.9689\n",
      "Epoch 67/100\n",
      "20/20 [==============================] - 0s 2ms/step - loss: 0.0331 - accuracy: 0.9922 - val_loss: 0.0971 - val_accuracy: 0.9627\n",
      "Epoch 68/100\n",
      "20/20 [==============================] - 0s 2ms/step - loss: 0.0358 - accuracy: 0.9922 - val_loss: 0.1169 - val_accuracy: 0.9441\n",
      "Epoch 69/100\n",
      "20/20 [==============================] - 0s 2ms/step - loss: 0.0463 - accuracy: 0.9859 - val_loss: 0.0799 - val_accuracy: 0.9689\n",
      "Epoch 70/100\n",
      "20/20 [==============================] - 0s 2ms/step - loss: 0.0360 - accuracy: 0.9875 - val_loss: 0.0769 - val_accuracy: 0.9752\n",
      "Epoch 71/100\n",
      "20/20 [==============================] - 0s 2ms/step - loss: 0.0325 - accuracy: 0.9937 - val_loss: 0.1054 - val_accuracy: 0.9627\n",
      "Epoch 72/100\n",
      "20/20 [==============================] - 0s 2ms/step - loss: 0.0337 - accuracy: 0.9922 - val_loss: 0.1041 - val_accuracy: 0.9627\n",
      "Epoch 73/100\n",
      "20/20 [==============================] - 0s 2ms/step - loss: 0.0365 - accuracy: 0.9906 - val_loss: 0.1027 - val_accuracy: 0.9627\n",
      "Epoch 74/100\n",
      "20/20 [==============================] - 0s 2ms/step - loss: 0.0348 - accuracy: 0.9859 - val_loss: 0.0914 - val_accuracy: 0.9627\n",
      "Epoch 75/100\n",
      "20/20 [==============================] - 0s 2ms/step - loss: 0.0306 - accuracy: 0.9891 - val_loss: 0.0801 - val_accuracy: 0.9752\n",
      "Epoch 76/100\n",
      "20/20 [==============================] - 0s 2ms/step - loss: 0.0314 - accuracy: 0.9906 - val_loss: 0.0870 - val_accuracy: 0.9689\n",
      "Epoch 77/100\n",
      "20/20 [==============================] - 0s 2ms/step - loss: 0.0314 - accuracy: 0.9906 - val_loss: 0.0813 - val_accuracy: 0.9752\n",
      "Epoch 78/100\n",
      "20/20 [==============================] - 0s 2ms/step - loss: 0.0312 - accuracy: 0.9891 - val_loss: 0.0736 - val_accuracy: 0.9689\n",
      "Epoch 79/100\n",
      "20/20 [==============================] - 0s 2ms/step - loss: 0.0345 - accuracy: 0.9891 - val_loss: 0.0753 - val_accuracy: 0.9689\n",
      "Epoch 80/100\n",
      "20/20 [==============================] - 0s 2ms/step - loss: 0.0315 - accuracy: 0.9906 - val_loss: 0.0868 - val_accuracy: 0.9689\n",
      "Epoch 81/100\n",
      "20/20 [==============================] - 0s 2ms/step - loss: 0.0287 - accuracy: 0.9906 - val_loss: 0.1266 - val_accuracy: 0.9379\n",
      "Epoch 82/100\n",
      "20/20 [==============================] - 0s 2ms/step - loss: 0.0275 - accuracy: 0.9937 - val_loss: 0.0853 - val_accuracy: 0.9752\n",
      "Epoch 83/100\n",
      "20/20 [==============================] - 0s 2ms/step - loss: 0.0262 - accuracy: 0.9937 - val_loss: 0.1570 - val_accuracy: 0.9379\n",
      "Epoch 84/100\n",
      "20/20 [==============================] - 0s 2ms/step - loss: 0.0342 - accuracy: 0.9891 - val_loss: 0.0866 - val_accuracy: 0.9752\n",
      "Epoch 85/100\n",
      "20/20 [==============================] - 0s 2ms/step - loss: 0.0288 - accuracy: 0.9906 - val_loss: 0.1098 - val_accuracy: 0.9565\n",
      "Epoch 86/100\n",
      "20/20 [==============================] - 0s 2ms/step - loss: 0.0267 - accuracy: 0.9906 - val_loss: 0.1424 - val_accuracy: 0.9379\n",
      "Epoch 87/100\n",
      "20/20 [==============================] - 0s 2ms/step - loss: 0.0370 - accuracy: 0.9859 - val_loss: 0.0894 - val_accuracy: 0.9752\n",
      "Epoch 88/100\n",
      "20/20 [==============================] - 0s 2ms/step - loss: 0.0268 - accuracy: 0.9891 - val_loss: 0.1094 - val_accuracy: 0.9627\n",
      "Epoch 89/100\n",
      "20/20 [==============================] - 0s 2ms/step - loss: 0.0268 - accuracy: 0.9906 - val_loss: 0.1054 - val_accuracy: 0.9689\n",
      "Epoch 90/100\n",
      "20/20 [==============================] - 0s 2ms/step - loss: 0.0257 - accuracy: 0.9937 - val_loss: 0.0855 - val_accuracy: 0.9689\n",
      "Epoch 91/100\n",
      "20/20 [==============================] - 0s 2ms/step - loss: 0.0258 - accuracy: 0.9906 - val_loss: 0.1050 - val_accuracy: 0.9689\n",
      "Epoch 92/100\n",
      "20/20 [==============================] - 0s 2ms/step - loss: 0.0252 - accuracy: 0.9906 - val_loss: 0.0864 - val_accuracy: 0.9752\n",
      "Epoch 93/100\n",
      "20/20 [==============================] - 0s 2ms/step - loss: 0.0323 - accuracy: 0.9906 - val_loss: 0.1228 - val_accuracy: 0.9503\n",
      "Epoch 94/100\n",
      "20/20 [==============================] - 0s 2ms/step - loss: 0.0292 - accuracy: 0.9875 - val_loss: 0.1180 - val_accuracy: 0.9503\n",
      "Epoch 95/100\n",
      "20/20 [==============================] - 0s 2ms/step - loss: 0.0226 - accuracy: 0.9953 - val_loss: 0.1095 - val_accuracy: 0.9689\n",
      "Epoch 96/100\n",
      "20/20 [==============================] - 0s 2ms/step - loss: 0.0225 - accuracy: 0.9937 - val_loss: 0.1150 - val_accuracy: 0.9627\n",
      "Epoch 97/100\n",
      "20/20 [==============================] - 0s 2ms/step - loss: 0.0247 - accuracy: 0.9937 - val_loss: 0.1012 - val_accuracy: 0.9689\n",
      "Epoch 98/100\n",
      "20/20 [==============================] - 0s 2ms/step - loss: 0.0259 - accuracy: 0.9891 - val_loss: 0.0939 - val_accuracy: 0.9689\n",
      "Epoch 99/100\n",
      "20/20 [==============================] - 0s 2ms/step - loss: 0.0342 - accuracy: 0.9875 - val_loss: 0.0859 - val_accuracy: 0.9689\n",
      "Epoch 100/100\n",
      "20/20 [==============================] - 0s 2ms/step - loss: 0.0329 - accuracy: 0.9859 - val_loss: 0.0893 - val_accuracy: 0.9627\n",
      "11/11 [==============================] - 0s 602us/step - loss: 0.1431 - accuracy: 0.9564\n",
      "Test Accuracy: 0.9563953280448914\n",
      "11/11 [==============================] - 0s 600us/step\n",
      "Accuracy: 0.9563953488372093\n",
      "Precision: 0.6428571428571429\n",
      "Recall: 0.782608695652174\n",
      "F1: 0.7058823529411765\n",
      "AUC: 0.9700663686848164\n"
     ]
    }
   ],
   "source": [
    "\n",
    "RN = Sequential()\n",
    "\n",
    "input_dim = X_train[SAX2Features].shape[1]\n",
    "RN.add(Dense(units=64, activation='relu', input_dim=input_dim))\n",
    "RN.add(Dense(units=32, activation='relu'))\n",
    "RN.add(Dense(units=1, activation='sigmoid'))\n",
    "RN.compile(optimizer=Adam(learning_rate=0.001),\n",
    "           loss=BinaryCrossentropy(),\n",
    "           metrics=['accuracy'])\n",
    "\n",
    "history = RN.fit(X_train[SAX2Features], y_train, epochs=100, batch_size=32, validation_split=0.2)\n",
    "\n",
    "loss, accuracy = RN.evaluate(X_test[SAX2Features], y_test)\n",
    "\n",
    "print(f'Test Accuracy: {accuracy}')\n",
    "y_pred_prob = RN.predict(X_test[SAX2Features])\n",
    "y_pred = (y_pred_prob > 0.5).astype(int)\n",
    "\n",
    "print(\"Accuracy:\", accuracy_score(y_test, y_pred))\n",
    "print(\"Precision:\", precision_score(y_test, y_pred))\n",
    "print(\"Recall:\", recall_score(y_test, y_pred))\n",
    "print(\"F1:\", f1_score(y_test, y_pred))\n",
    "print(\"AUC:\", roc_auc_score(y_test, y_pred_prob))"
   ],
   "metadata": {
    "collapsed": false,
    "ExecuteTime": {
     "end_time": "2024-10-19T23:21:12.971246Z",
     "start_time": "2024-10-19T23:21:09.086109Z"
    }
   },
   "id": "18871e152c695a6b",
   "execution_count": 19
  },
  {
   "cell_type": "markdown",
   "source": [
    "RELIEFF"
   ],
   "metadata": {
    "collapsed": false
   },
   "id": "1248f7a794251bcb"
  },
  {
   "cell_type": "code",
   "outputs": [
    {
     "name": "stdout",
     "output_type": "stream",
     "text": [
      "Epoch 1/100\n"
     ]
    },
    {
     "name": "stderr",
     "output_type": "stream",
     "text": [
      "C:\\Users\\Randall\\AppData\\Local\\Programs\\Python\\Python310\\lib\\site-packages\\keras\\engine\\data_adapter.py:1700: FutureWarning: The behavior of `series[i:j]` with an integer-dtype index is deprecated. In a future version, this will be treated as *label-based* indexing, consistent with e.g. `series[i]` lookups. To retain the old behavior, use `series.iloc[i:j]`. To get the future behavior, use `series.loc[i:j]`.\n",
      "  return t[start:end]\n"
     ]
    },
    {
     "name": "stdout",
     "output_type": "stream",
     "text": [
      "20/20 [==============================] - 1s 11ms/step - loss: 0.4497 - accuracy: 0.8719 - val_loss: 0.2952 - val_accuracy: 0.9193\n",
      "Epoch 2/100\n",
      "20/20 [==============================] - 0s 2ms/step - loss: 0.3018 - accuracy: 0.8984 - val_loss: 0.2489 - val_accuracy: 0.9193\n",
      "Epoch 3/100\n",
      "20/20 [==============================] - 0s 2ms/step - loss: 0.2390 - accuracy: 0.9000 - val_loss: 0.2051 - val_accuracy: 0.9193\n",
      "Epoch 4/100\n",
      "20/20 [==============================] - 0s 2ms/step - loss: 0.1828 - accuracy: 0.9266 - val_loss: 0.1657 - val_accuracy: 0.9317\n",
      "Epoch 5/100\n",
      "20/20 [==============================] - 0s 2ms/step - loss: 0.1438 - accuracy: 0.9422 - val_loss: 0.1393 - val_accuracy: 0.9379\n",
      "Epoch 6/100\n",
      "20/20 [==============================] - 0s 2ms/step - loss: 0.1188 - accuracy: 0.9547 - val_loss: 0.1243 - val_accuracy: 0.9379\n",
      "Epoch 7/100\n",
      "20/20 [==============================] - 0s 2ms/step - loss: 0.1085 - accuracy: 0.9625 - val_loss: 0.1130 - val_accuracy: 0.9441\n",
      "Epoch 8/100\n",
      "20/20 [==============================] - 0s 2ms/step - loss: 0.0959 - accuracy: 0.9594 - val_loss: 0.1122 - val_accuracy: 0.9441\n",
      "Epoch 9/100\n",
      "20/20 [==============================] - 0s 2ms/step - loss: 0.0904 - accuracy: 0.9625 - val_loss: 0.1090 - val_accuracy: 0.9441\n",
      "Epoch 10/100\n",
      "20/20 [==============================] - 0s 2ms/step - loss: 0.0855 - accuracy: 0.9625 - val_loss: 0.1027 - val_accuracy: 0.9503\n",
      "Epoch 11/100\n",
      "20/20 [==============================] - 0s 2ms/step - loss: 0.0808 - accuracy: 0.9656 - val_loss: 0.0938 - val_accuracy: 0.9503\n",
      "Epoch 12/100\n",
      "20/20 [==============================] - 0s 2ms/step - loss: 0.0786 - accuracy: 0.9688 - val_loss: 0.1149 - val_accuracy: 0.9379\n",
      "Epoch 13/100\n",
      "20/20 [==============================] - 0s 2ms/step - loss: 0.0788 - accuracy: 0.9641 - val_loss: 0.0911 - val_accuracy: 0.9565\n",
      "Epoch 14/100\n",
      "20/20 [==============================] - 0s 2ms/step - loss: 0.0731 - accuracy: 0.9719 - val_loss: 0.0887 - val_accuracy: 0.9627\n",
      "Epoch 15/100\n",
      "20/20 [==============================] - 0s 2ms/step - loss: 0.0726 - accuracy: 0.9781 - val_loss: 0.1051 - val_accuracy: 0.9441\n",
      "Epoch 16/100\n",
      "20/20 [==============================] - 0s 2ms/step - loss: 0.0711 - accuracy: 0.9703 - val_loss: 0.0871 - val_accuracy: 0.9627\n",
      "Epoch 17/100\n",
      "20/20 [==============================] - 0s 2ms/step - loss: 0.0692 - accuracy: 0.9672 - val_loss: 0.0846 - val_accuracy: 0.9689\n",
      "Epoch 18/100\n",
      "20/20 [==============================] - 0s 2ms/step - loss: 0.0672 - accuracy: 0.9797 - val_loss: 0.1014 - val_accuracy: 0.9441\n",
      "Epoch 19/100\n",
      "20/20 [==============================] - 0s 2ms/step - loss: 0.0683 - accuracy: 0.9703 - val_loss: 0.0955 - val_accuracy: 0.9503\n",
      "Epoch 20/100\n",
      "20/20 [==============================] - 0s 2ms/step - loss: 0.0674 - accuracy: 0.9734 - val_loss: 0.0752 - val_accuracy: 0.9752\n",
      "Epoch 21/100\n",
      "20/20 [==============================] - 0s 2ms/step - loss: 0.0638 - accuracy: 0.9766 - val_loss: 0.0868 - val_accuracy: 0.9689\n",
      "Epoch 22/100\n",
      "20/20 [==============================] - 0s 2ms/step - loss: 0.0643 - accuracy: 0.9703 - val_loss: 0.0814 - val_accuracy: 0.9689\n",
      "Epoch 23/100\n",
      "20/20 [==============================] - 0s 2ms/step - loss: 0.0618 - accuracy: 0.9781 - val_loss: 0.0769 - val_accuracy: 0.9689\n",
      "Epoch 24/100\n",
      "20/20 [==============================] - 0s 2ms/step - loss: 0.0599 - accuracy: 0.9797 - val_loss: 0.0776 - val_accuracy: 0.9689\n",
      "Epoch 25/100\n",
      "20/20 [==============================] - 0s 2ms/step - loss: 0.0571 - accuracy: 0.9781 - val_loss: 0.0985 - val_accuracy: 0.9565\n",
      "Epoch 26/100\n",
      "20/20 [==============================] - 0s 2ms/step - loss: 0.0546 - accuracy: 0.9766 - val_loss: 0.0717 - val_accuracy: 0.9814\n",
      "Epoch 27/100\n",
      "20/20 [==============================] - 0s 2ms/step - loss: 0.0598 - accuracy: 0.9812 - val_loss: 0.0906 - val_accuracy: 0.9689\n",
      "Epoch 28/100\n",
      "20/20 [==============================] - 0s 2ms/step - loss: 0.0565 - accuracy: 0.9812 - val_loss: 0.1062 - val_accuracy: 0.9503\n",
      "Epoch 29/100\n",
      "20/20 [==============================] - 0s 2ms/step - loss: 0.0595 - accuracy: 0.9781 - val_loss: 0.0796 - val_accuracy: 0.9689\n",
      "Epoch 30/100\n",
      "20/20 [==============================] - 0s 2ms/step - loss: 0.0538 - accuracy: 0.9828 - val_loss: 0.1221 - val_accuracy: 0.9441\n",
      "Epoch 31/100\n",
      "20/20 [==============================] - 0s 2ms/step - loss: 0.0615 - accuracy: 0.9734 - val_loss: 0.0758 - val_accuracy: 0.9752\n",
      "Epoch 32/100\n",
      "20/20 [==============================] - 0s 2ms/step - loss: 0.0616 - accuracy: 0.9781 - val_loss: 0.0791 - val_accuracy: 0.9689\n",
      "Epoch 33/100\n",
      "20/20 [==============================] - 0s 2ms/step - loss: 0.0530 - accuracy: 0.9828 - val_loss: 0.0865 - val_accuracy: 0.9627\n",
      "Epoch 34/100\n",
      "20/20 [==============================] - 0s 2ms/step - loss: 0.0527 - accuracy: 0.9828 - val_loss: 0.0688 - val_accuracy: 0.9752\n",
      "Epoch 35/100\n",
      "20/20 [==============================] - 0s 2ms/step - loss: 0.0552 - accuracy: 0.9797 - val_loss: 0.0799 - val_accuracy: 0.9689\n",
      "Epoch 36/100\n",
      "20/20 [==============================] - 0s 2ms/step - loss: 0.0544 - accuracy: 0.9812 - val_loss: 0.1003 - val_accuracy: 0.9565\n",
      "Epoch 37/100\n",
      "20/20 [==============================] - 0s 2ms/step - loss: 0.0486 - accuracy: 0.9875 - val_loss: 0.0759 - val_accuracy: 0.9752\n",
      "Epoch 38/100\n",
      "20/20 [==============================] - 0s 2ms/step - loss: 0.0482 - accuracy: 0.9859 - val_loss: 0.0803 - val_accuracy: 0.9689\n",
      "Epoch 39/100\n",
      "20/20 [==============================] - 0s 2ms/step - loss: 0.0472 - accuracy: 0.9844 - val_loss: 0.0899 - val_accuracy: 0.9627\n",
      "Epoch 40/100\n",
      "20/20 [==============================] - 0s 2ms/step - loss: 0.0472 - accuracy: 0.9859 - val_loss: 0.0921 - val_accuracy: 0.9627\n",
      "Epoch 41/100\n",
      "20/20 [==============================] - 0s 2ms/step - loss: 0.0477 - accuracy: 0.9859 - val_loss: 0.0827 - val_accuracy: 0.9627\n",
      "Epoch 42/100\n",
      "20/20 [==============================] - 0s 2ms/step - loss: 0.0454 - accuracy: 0.9844 - val_loss: 0.0724 - val_accuracy: 0.9752\n",
      "Epoch 43/100\n",
      "20/20 [==============================] - 0s 2ms/step - loss: 0.0456 - accuracy: 0.9859 - val_loss: 0.0806 - val_accuracy: 0.9689\n",
      "Epoch 44/100\n",
      "20/20 [==============================] - 0s 2ms/step - loss: 0.0439 - accuracy: 0.9875 - val_loss: 0.0748 - val_accuracy: 0.9752\n",
      "Epoch 45/100\n",
      "20/20 [==============================] - 0s 2ms/step - loss: 0.0439 - accuracy: 0.9891 - val_loss: 0.0943 - val_accuracy: 0.9565\n",
      "Epoch 46/100\n",
      "20/20 [==============================] - 0s 2ms/step - loss: 0.0468 - accuracy: 0.9875 - val_loss: 0.0997 - val_accuracy: 0.9565\n",
      "Epoch 47/100\n",
      "20/20 [==============================] - 0s 2ms/step - loss: 0.0442 - accuracy: 0.9844 - val_loss: 0.0770 - val_accuracy: 0.9752\n",
      "Epoch 48/100\n",
      "20/20 [==============================] - 0s 2ms/step - loss: 0.0464 - accuracy: 0.9844 - val_loss: 0.0700 - val_accuracy: 0.9752\n",
      "Epoch 49/100\n",
      "20/20 [==============================] - 0s 2ms/step - loss: 0.0491 - accuracy: 0.9797 - val_loss: 0.0677 - val_accuracy: 0.9752\n",
      "Epoch 50/100\n",
      "20/20 [==============================] - 0s 2ms/step - loss: 0.0427 - accuracy: 0.9828 - val_loss: 0.0967 - val_accuracy: 0.9565\n",
      "Epoch 51/100\n",
      "20/20 [==============================] - 0s 2ms/step - loss: 0.0415 - accuracy: 0.9922 - val_loss: 0.1126 - val_accuracy: 0.9565\n",
      "Epoch 52/100\n",
      "20/20 [==============================] - 0s 2ms/step - loss: 0.0473 - accuracy: 0.9797 - val_loss: 0.0838 - val_accuracy: 0.9752\n",
      "Epoch 53/100\n",
      "20/20 [==============================] - 0s 2ms/step - loss: 0.0394 - accuracy: 0.9906 - val_loss: 0.0774 - val_accuracy: 0.9752\n",
      "Epoch 54/100\n",
      "20/20 [==============================] - 0s 2ms/step - loss: 0.0403 - accuracy: 0.9906 - val_loss: 0.0766 - val_accuracy: 0.9752\n",
      "Epoch 55/100\n",
      "20/20 [==============================] - 0s 2ms/step - loss: 0.0392 - accuracy: 0.9891 - val_loss: 0.1117 - val_accuracy: 0.9565\n",
      "Epoch 56/100\n",
      "20/20 [==============================] - 0s 2ms/step - loss: 0.0390 - accuracy: 0.9891 - val_loss: 0.0840 - val_accuracy: 0.9689\n",
      "Epoch 57/100\n",
      "20/20 [==============================] - 0s 2ms/step - loss: 0.0390 - accuracy: 0.9891 - val_loss: 0.0793 - val_accuracy: 0.9752\n",
      "Epoch 58/100\n",
      "20/20 [==============================] - 0s 2ms/step - loss: 0.0377 - accuracy: 0.9891 - val_loss: 0.0861 - val_accuracy: 0.9689\n",
      "Epoch 59/100\n",
      "20/20 [==============================] - 0s 2ms/step - loss: 0.0361 - accuracy: 0.9906 - val_loss: 0.1075 - val_accuracy: 0.9565\n",
      "Epoch 60/100\n",
      "20/20 [==============================] - 0s 2ms/step - loss: 0.0389 - accuracy: 0.9875 - val_loss: 0.1078 - val_accuracy: 0.9565\n",
      "Epoch 61/100\n",
      "20/20 [==============================] - 0s 2ms/step - loss: 0.0376 - accuracy: 0.9922 - val_loss: 0.0867 - val_accuracy: 0.9689\n",
      "Epoch 62/100\n",
      "20/20 [==============================] - 0s 2ms/step - loss: 0.0409 - accuracy: 0.9906 - val_loss: 0.0959 - val_accuracy: 0.9627\n",
      "Epoch 63/100\n",
      "20/20 [==============================] - 0s 2ms/step - loss: 0.0368 - accuracy: 0.9891 - val_loss: 0.0699 - val_accuracy: 0.9814\n",
      "Epoch 64/100\n",
      "20/20 [==============================] - 0s 2ms/step - loss: 0.0413 - accuracy: 0.9875 - val_loss: 0.0822 - val_accuracy: 0.9752\n",
      "Epoch 65/100\n",
      "20/20 [==============================] - 0s 2ms/step - loss: 0.0444 - accuracy: 0.9875 - val_loss: 0.0832 - val_accuracy: 0.9752\n",
      "Epoch 66/100\n",
      "20/20 [==============================] - 0s 2ms/step - loss: 0.0357 - accuracy: 0.9906 - val_loss: 0.1104 - val_accuracy: 0.9565\n",
      "Epoch 67/100\n",
      "20/20 [==============================] - 0s 2ms/step - loss: 0.0353 - accuracy: 0.9906 - val_loss: 0.0893 - val_accuracy: 0.9689\n",
      "Epoch 68/100\n",
      "20/20 [==============================] - 0s 2ms/step - loss: 0.0339 - accuracy: 0.9906 - val_loss: 0.0794 - val_accuracy: 0.9752\n",
      "Epoch 69/100\n",
      "20/20 [==============================] - 0s 2ms/step - loss: 0.0373 - accuracy: 0.9891 - val_loss: 0.0886 - val_accuracy: 0.9689\n",
      "Epoch 70/100\n",
      "20/20 [==============================] - 0s 2ms/step - loss: 0.0387 - accuracy: 0.9859 - val_loss: 0.0807 - val_accuracy: 0.9752\n",
      "Epoch 71/100\n",
      "20/20 [==============================] - 0s 2ms/step - loss: 0.0368 - accuracy: 0.9859 - val_loss: 0.0758 - val_accuracy: 0.9752\n",
      "Epoch 72/100\n",
      "20/20 [==============================] - 0s 2ms/step - loss: 0.0357 - accuracy: 0.9906 - val_loss: 0.0834 - val_accuracy: 0.9689\n",
      "Epoch 73/100\n",
      "20/20 [==============================] - 0s 2ms/step - loss: 0.0326 - accuracy: 0.9906 - val_loss: 0.0908 - val_accuracy: 0.9689\n",
      "Epoch 74/100\n",
      "20/20 [==============================] - 0s 2ms/step - loss: 0.0336 - accuracy: 0.9906 - val_loss: 0.0855 - val_accuracy: 0.9689\n",
      "Epoch 75/100\n",
      "20/20 [==============================] - 0s 2ms/step - loss: 0.0335 - accuracy: 0.9906 - val_loss: 0.0978 - val_accuracy: 0.9627\n",
      "Epoch 76/100\n",
      "20/20 [==============================] - 0s 2ms/step - loss: 0.0325 - accuracy: 0.9922 - val_loss: 0.1278 - val_accuracy: 0.9503\n",
      "Epoch 77/100\n",
      "20/20 [==============================] - 0s 2ms/step - loss: 0.0366 - accuracy: 0.9891 - val_loss: 0.0859 - val_accuracy: 0.9689\n",
      "Epoch 78/100\n",
      "20/20 [==============================] - 0s 2ms/step - loss: 0.0341 - accuracy: 0.9906 - val_loss: 0.1193 - val_accuracy: 0.9565\n",
      "Epoch 79/100\n",
      "20/20 [==============================] - 0s 2ms/step - loss: 0.0309 - accuracy: 0.9922 - val_loss: 0.0969 - val_accuracy: 0.9689\n",
      "Epoch 80/100\n",
      "20/20 [==============================] - 0s 2ms/step - loss: 0.0321 - accuracy: 0.9906 - val_loss: 0.0926 - val_accuracy: 0.9689\n",
      "Epoch 81/100\n",
      "20/20 [==============================] - 0s 2ms/step - loss: 0.0306 - accuracy: 0.9937 - val_loss: 0.0918 - val_accuracy: 0.9689\n",
      "Epoch 82/100\n",
      "20/20 [==============================] - 0s 2ms/step - loss: 0.0318 - accuracy: 0.9922 - val_loss: 0.0936 - val_accuracy: 0.9689\n",
      "Epoch 83/100\n",
      "20/20 [==============================] - 0s 2ms/step - loss: 0.0290 - accuracy: 0.9937 - val_loss: 0.0963 - val_accuracy: 0.9689\n",
      "Epoch 84/100\n",
      "20/20 [==============================] - 0s 2ms/step - loss: 0.0309 - accuracy: 0.9937 - val_loss: 0.1167 - val_accuracy: 0.9565\n",
      "Epoch 85/100\n",
      "20/20 [==============================] - 0s 2ms/step - loss: 0.0291 - accuracy: 0.9922 - val_loss: 0.0977 - val_accuracy: 0.9689\n",
      "Epoch 86/100\n",
      "20/20 [==============================] - 0s 2ms/step - loss: 0.0274 - accuracy: 0.9937 - val_loss: 0.0993 - val_accuracy: 0.9689\n",
      "Epoch 87/100\n",
      "20/20 [==============================] - 0s 2ms/step - loss: 0.0286 - accuracy: 0.9906 - val_loss: 0.0897 - val_accuracy: 0.9689\n",
      "Epoch 88/100\n",
      "20/20 [==============================] - 0s 2ms/step - loss: 0.0291 - accuracy: 0.9922 - val_loss: 0.0959 - val_accuracy: 0.9689\n",
      "Epoch 89/100\n",
      "20/20 [==============================] - 0s 2ms/step - loss: 0.0266 - accuracy: 0.9937 - val_loss: 0.1226 - val_accuracy: 0.9565\n",
      "Epoch 90/100\n",
      "20/20 [==============================] - 0s 2ms/step - loss: 0.0280 - accuracy: 0.9937 - val_loss: 0.0960 - val_accuracy: 0.9689\n",
      "Epoch 91/100\n",
      "20/20 [==============================] - 0s 2ms/step - loss: 0.0268 - accuracy: 0.9937 - val_loss: 0.0927 - val_accuracy: 0.9752\n",
      "Epoch 92/100\n",
      "20/20 [==============================] - 0s 2ms/step - loss: 0.0292 - accuracy: 0.9906 - val_loss: 0.0953 - val_accuracy: 0.9752\n",
      "Epoch 93/100\n",
      "20/20 [==============================] - 0s 2ms/step - loss: 0.0272 - accuracy: 0.9937 - val_loss: 0.1045 - val_accuracy: 0.9627\n",
      "Epoch 94/100\n",
      "20/20 [==============================] - 0s 2ms/step - loss: 0.0267 - accuracy: 0.9906 - val_loss: 0.1118 - val_accuracy: 0.9627\n",
      "Epoch 95/100\n",
      "20/20 [==============================] - 0s 2ms/step - loss: 0.0281 - accuracy: 0.9922 - val_loss: 0.1166 - val_accuracy: 0.9627\n",
      "Epoch 96/100\n",
      "20/20 [==============================] - 0s 2ms/step - loss: 0.0285 - accuracy: 0.9922 - val_loss: 0.1195 - val_accuracy: 0.9627\n",
      "Epoch 97/100\n",
      "20/20 [==============================] - 0s 2ms/step - loss: 0.0280 - accuracy: 0.9906 - val_loss: 0.1283 - val_accuracy: 0.9627\n",
      "Epoch 98/100\n",
      "20/20 [==============================] - 0s 2ms/step - loss: 0.0300 - accuracy: 0.9906 - val_loss: 0.0981 - val_accuracy: 0.9689\n",
      "Epoch 99/100\n",
      "20/20 [==============================] - 0s 2ms/step - loss: 0.0251 - accuracy: 0.9937 - val_loss: 0.0988 - val_accuracy: 0.9689\n",
      "Epoch 100/100\n",
      "20/20 [==============================] - 0s 2ms/step - loss: 0.0299 - accuracy: 0.9891 - val_loss: 0.1243 - val_accuracy: 0.9627\n",
      "11/11 [==============================] - 0s 651us/step - loss: 0.1678 - accuracy: 0.9535\n",
      "Test Accuracy: 0.9534883499145508\n",
      "11/11 [==============================] - 0s 500us/step\n",
      "Accuracy: 0.9534883720930233\n",
      "Precision: 0.6842105263157895\n",
      "Recall: 0.5652173913043478\n",
      "F1: 0.6190476190476191\n",
      "AUC: 0.9683055668427468\n"
     ]
    }
   ],
   "source": [
    "RN = Sequential()\n",
    "\n",
    "input_dim = X_train[SARFFeatures].shape[1]\n",
    "RN.add(Dense(units=64, activation='relu', input_dim=input_dim))\n",
    "RN.add(Dense(units=32, activation='relu'))\n",
    "RN.add(Dense(units=1, activation='sigmoid'))\n",
    "RN.compile(optimizer=Adam(learning_rate=0.001),\n",
    "           loss=BinaryCrossentropy(),\n",
    "           metrics=['accuracy'])\n",
    "\n",
    "history = RN.fit(X_train[SARFFeatures], y_train, epochs=100, batch_size=32, validation_split=0.2)\n",
    "\n",
    "loss, accuracy = RN.evaluate(X_test[SARFFeatures], y_test)\n",
    "\n",
    "print(f'Test Accuracy: {accuracy}')\n",
    "y_pred_prob = RN.predict(X_test[SARFFeatures])\n",
    "y_pred = (y_pred_prob > 0.5).astype(int)\n",
    "\n",
    "print(\"Accuracy:\", accuracy_score(y_test, y_pred))\n",
    "print(\"Precision:\", precision_score(y_test, y_pred))\n",
    "print(\"Recall:\", recall_score(y_test, y_pred))\n",
    "print(\"F1:\", f1_score(y_test, y_pred))\n",
    "print(\"AUC:\", roc_auc_score(y_test, y_pred_prob))"
   ],
   "metadata": {
    "collapsed": false,
    "ExecuteTime": {
     "end_time": "2024-10-19T23:21:16.910937Z",
     "start_time": "2024-10-19T23:21:12.972245Z"
    }
   },
   "id": "f9e73b5be77d7950",
   "execution_count": 20
  },
  {
   "cell_type": "code",
   "outputs": [],
   "source": [
    "#Save the results from the optimizations with Pickle\n",
    "import pickle\n",
    "\n",
    "with open('SAMIFeatures.pkl', 'wb') as f:\n",
    "    pickle.dump(SAMIFeatures, f)\n",
    "with open('SAX2Features.pkl', 'wb') as f:\n",
    "    pickle.dump(SAX2Features, f)\n",
    "with open('SARFFeatures.pkl', 'wb') as f:\n",
    "    pickle.dump(SARFFeatures, f)"
   ],
   "metadata": {
    "collapsed": false,
    "ExecuteTime": {
     "end_time": "2024-10-19T23:21:16.925996Z",
     "start_time": "2024-10-19T23:21:16.911942Z"
    }
   },
   "id": "fc7bca7e242ea5eb",
   "execution_count": 21
  }
 ],
 "metadata": {
  "kernelspec": {
   "display_name": "Python 3",
   "language": "python",
   "name": "python3"
  },
  "language_info": {
   "codemirror_mode": {
    "name": "ipython",
    "version": 2
   },
   "file_extension": ".py",
   "mimetype": "text/x-python",
   "name": "python",
   "nbconvert_exporter": "python",
   "pygments_lexer": "ipython2",
   "version": "2.7.6"
  }
 },
 "nbformat": 4,
 "nbformat_minor": 5
}

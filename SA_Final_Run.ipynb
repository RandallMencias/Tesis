{
 "cells": [
  {
   "cell_type": "code",
   "execution_count": 11,
   "id": "initial_id",
   "metadata": {
    "collapsed": true,
    "ExecuteTime": {
     "end_time": "2024-10-19T19:20:56.909888Z",
     "start_time": "2024-10-19T19:20:56.901406Z"
    }
   },
   "outputs": [],
   "source": [
    "from Metaheuristicas.fitness_functions import *\n"
   ]
  },
  {
   "cell_type": "code",
   "outputs": [],
   "source": [
    "X, y = load_and_preprocess_data(filename='Resources/SeisBenchV1_v1_1.json')\n"
   ],
   "metadata": {
    "collapsed": false,
    "ExecuteTime": {
     "end_time": "2024-10-19T19:20:57.003438Z",
     "start_time": "2024-10-19T19:20:56.931459Z"
    }
   },
   "id": "aa2b839a0ac12d0c",
   "execution_count": 12
  },
  {
   "cell_type": "code",
   "outputs": [],
   "source": [
    "from Metaheuristicas.Simmulated_Annealing import simulated_annealing\n",
    "\n",
    "cooling_rate = 0.8\n",
    "max_iter = 500"
   ],
   "metadata": {
    "collapsed": false,
    "ExecuteTime": {
     "end_time": "2024-10-19T19:20:57.019523Z",
     "start_time": "2024-10-19T19:20:57.004439Z"
    }
   },
   "id": "ca4c77e3ca5f4f79",
   "execution_count": 13
  },
  {
   "cell_type": "markdown",
   "source": [
    "#### Models Naive Bayes and Decision Tree"
   ],
   "metadata": {
    "collapsed": false
   },
   "id": "5aafef1bc4d32ad"
  },
  {
   "cell_type": "code",
   "outputs": [],
   "source": [
    "from sklearn.metrics import accuracy_score, precision_score, recall_score, f1_score, roc_auc_score\n",
    "from sklearn.model_selection import train_test_split\n",
    "from sklearn.ensemble import RandomForestClassifier\n",
    "from sklearn.naive_bayes import GaussianNB\n",
    "\n",
    "NB = GaussianNB()\n",
    "DT = RandomForestClassifier()\n",
    "\n",
    "#dataset split\n",
    "\n",
    "X_train, X_test, y_train, y_test = train_test_split(X, y, test_size=0.3, random_state=42)\n"
   ],
   "metadata": {
    "collapsed": false,
    "ExecuteTime": {
     "end_time": "2024-10-19T19:20:57.050884Z",
     "start_time": "2024-10-19T19:20:57.036336Z"
    }
   },
   "id": "1cad8f015c03fd6a",
   "execution_count": 15
  },
  {
   "cell_type": "markdown",
   "source": [
    "# SA with Mutual Information\n"
   ],
   "metadata": {
    "collapsed": false
   },
   "id": "fdacfe27fc6bf19f"
  },
  {
   "cell_type": "code",
   "outputs": [],
   "source": [
    "best_solution, best_Gfitness = simulated_annealing(X, y, initial_temperature=10, cooling_rate=cooling_rate,max_iter=max_iter ,fitness_function=mutual_information_eval)\n",
    "SAMIFeatures = X.columns[best_solution.astype(bool)].tolist()"
   ],
   "metadata": {
    "collapsed": false
   },
   "id": "27afb8be55ef518",
   "execution_count": null
  },
  {
   "cell_type": "markdown",
   "source": [],
   "metadata": {
    "collapsed": false
   },
   "id": "3d70ef55f40a1139"
  },
  {
   "cell_type": "code",
   "outputs": [],
   "source": [
    "NB.fit(X_train[SAMIFeatures], y_train)\n",
    "\n",
    "y_pred = NB.predict(X_test[SAMIFeatures])\n",
    "\n",
    "print(\"Accuracy:\", accuracy_score(y_test, y_pred))\n",
    "print(\"Precision:\", precision_score(y_test, y_pred))\n",
    "print(\"Recall:\", recall_score(y_test, y_pred))\n",
    "print(\"F1:\", f1_score(y_test, y_pred))\n",
    "print(\"AUC:\", roc_auc_score(y_test, y_pred))\n"
   ],
   "metadata": {
    "collapsed": false
   },
   "id": "e222b27f3bfd73ff"
  },
  {
   "cell_type": "code",
   "outputs": [],
   "source": [
    "DT.fit(X_train[SAMIFeatures], y_train)\n",
    "\n",
    "y_pred = DT.predict(X_test[SAMIFeatures])\n",
    "\n",
    "print(\"Accuracy:\", accuracy_score(y_test, y_pred))\n",
    "print(\"Precision:\", precision_score(y_test, y_pred))\n",
    "print(\"Recall:\", recall_score(y_test, y_pred))\n",
    "print(\"F1:\", f1_score(y_test, y_pred))\n",
    "print(\"AUC:\", roc_auc_score(y_test, y_pred))"
   ],
   "metadata": {
    "collapsed": false
   },
   "id": "cfa13e64f7f8fae8"
  },
  {
   "cell_type": "markdown",
   "source": [],
   "metadata": {
    "collapsed": false
   },
   "id": "6499cf3717ea9c88"
  },
  {
   "cell_type": "markdown",
   "source": [
    "# SA with Chi2"
   ],
   "metadata": {
    "collapsed": false
   },
   "id": "738f5b3837eb3232"
  },
  {
   "cell_type": "code",
   "outputs": [],
   "source": [
    "best_solution, best_Gfitness = simulated_annealing(X, y, initial_temperature=1, cooling_rate=cooling_rate,max_iter=max_iter ,fitness_function=mutual_information_eval)\n",
    "SAX2Features = X.columns[best_solution.astype(bool)].tolist()"
   ],
   "metadata": {
    "collapsed": false
   },
   "id": "a9ad1ed17eba54f5"
  },
  {
   "cell_type": "code",
   "outputs": [],
   "source": [
    "NB.fit(X_train[SAX2Features], y_train)\n",
    "y_pred = NB.predict(X_test[SAX2Features])\n",
    "\n",
    "print(\"Accuracy:\", accuracy_score(y_test, y_pred))\n",
    "print(\"Precision:\", precision_score(y_test, y_pred))\n",
    "print(\"Recall:\", recall_score(y_test, y_pred))\n",
    "print(\"F1:\", f1_score(y_test, y_pred))\n",
    "print(\"AUC:\", roc_auc_score(y_test, y_pred))"
   ],
   "metadata": {
    "collapsed": false
   },
   "id": "bddacde3cb4a9024"
  },
  {
   "cell_type": "code",
   "outputs": [],
   "source": [
    "DT.fit(X_train[SAX2Features], y_train)\n",
    "y_pred = DT.predict(X_test[SAX2Features])\n",
    "\n",
    "print(\"Accuracy:\", accuracy_score(y_test, y_pred))\n",
    "print(\"Precision:\", precision_score(y_test, y_pred))\n",
    "print(\"Recall:\", recall_score(y_test, y_pred))\n",
    "print(\"F1:\", f1_score(y_test, y_pred))\n",
    "print(\"AUC:\", roc_auc_score(y_test, y_pred))"
   ],
   "metadata": {
    "collapsed": false
   },
   "id": "7b6f2fb86e8ce7f8"
  },
  {
   "cell_type": "markdown",
   "source": [
    "# SA with ReliefF"
   ],
   "metadata": {
    "collapsed": false
   },
   "id": "44bea2b37508966a"
  },
  {
   "cell_type": "code",
   "outputs": [
    {
     "ename": "NameError",
     "evalue": "name 'simulated_annealing' is not defined",
     "output_type": "error",
     "traceback": [
      "\u001B[1;31m---------------------------------------------------------------------------\u001B[0m",
      "\u001B[1;31mNameError\u001B[0m                                 Traceback (most recent call last)",
      "Cell \u001B[1;32mIn [1], line 1\u001B[0m\n\u001B[1;32m----> 1\u001B[0m best_solution, best_Gfitness \u001B[38;5;241m=\u001B[39m \u001B[43msimulated_annealing\u001B[49m(X, y, initial_temperature\u001B[38;5;241m=\u001B[39m\u001B[38;5;241m0.1\u001B[39m, cooling_rate\u001B[38;5;241m=\u001B[39mcooling_rate,max_iter\u001B[38;5;241m=\u001B[39mmax_iter ,fitness_function\u001B[38;5;241m=\u001B[39mmutual_information_eval)\n\u001B[0;32m      2\u001B[0m SARFFeatures \u001B[38;5;241m=\u001B[39m X\u001B[38;5;241m.\u001B[39mcolumns[best_solution\u001B[38;5;241m.\u001B[39mastype(\u001B[38;5;28mbool\u001B[39m)]\u001B[38;5;241m.\u001B[39mtolist()\n",
      "\u001B[1;31mNameError\u001B[0m: name 'simulated_annealing' is not defined"
     ]
    }
   ],
   "source": [
    "best_solution, best_Gfitness = simulated_annealing(X, y, initial_temperature=0.1, cooling_rate=cooling_rate,max_iter=max_iter ,fitness_function=mutual_information_eval)\n",
    "SARFFeatures = X.columns[best_solution.astype(bool)].tolist()"
   ],
   "metadata": {
    "collapsed": false,
    "ExecuteTime": {
     "end_time": "2024-10-19T20:27:20.958853Z",
     "start_time": "2024-10-19T20:27:20.657325Z"
    }
   },
   "id": "37f89a6d5cfdb864",
   "execution_count": 1
  },
  {
   "cell_type": "markdown",
   "source": [],
   "metadata": {
    "collapsed": false
   },
   "id": "c857cc136f8f20c5"
  },
  {
   "cell_type": "code",
   "outputs": [],
   "source": [
    "NB.fit(X_train[SARFFeatures], y_train)\n",
    "y_pred = NB.predict(X_test[SARFFeatures])\n",
    "\n",
    "print(\"Accuracy:\", accuracy_score(y_test, y_pred))\n",
    "print(\"Precision:\", precision_score(y_test, y_pred))\n",
    "print(\"Recall:\", recall_score(y_test, y_pred))\n",
    "print(\"F1:\", f1_score(y_test, y_pred))\n",
    "print(\"AUC:\", roc_auc_score(y_test, y_pred))"
   ],
   "metadata": {
    "collapsed": false
   },
   "id": "c18092371a5c95ee"
  },
  {
   "cell_type": "code",
   "outputs": [],
   "source": [
    "DT.fit(X_train[SARFFeatures], y_train)\n",
    "y_pred = DT.predict(X_test[SARFFeatures])\n",
    "\n",
    "print(\"Accuracy:\", accuracy_score(y_test, y_pred))\n",
    "print(\"Precision:\", precision_score(y_test, y_pred))\n",
    "print(\"Recall:\", recall_score(y_test, y_pred))\n",
    "print(\"F1:\", f1_score(y_test, y_pred))\n",
    "print(\"AUC:\", roc_auc_score(y_test, y_pred))"
   ],
   "metadata": {
    "collapsed": false
   },
   "id": "8f03dc90075b09ea"
  },
  {
   "cell_type": "markdown",
   "source": [
    "## Red Neuronal\n"
   ],
   "metadata": {
    "collapsed": false
   },
   "id": "c0fbf5b3e5c28f6f"
  },
  {
   "cell_type": "code",
   "outputs": [],
   "source": [
    "\n",
    "from tensorflow.keras.models import Sequential\n",
    "from tensorflow.keras.layers import Dense\n",
    "from tensorflow.keras.optimizers import Adam\n",
    "from tensorflow.keras.losses import BinaryCrossentropy"
   ],
   "metadata": {
    "collapsed": false
   },
   "id": "7bca53201b5fe940"
  },
  {
   "cell_type": "markdown",
   "source": [
    "MUTUAL_INFORMATION "
   ],
   "metadata": {
    "collapsed": false
   },
   "id": "6730803a5695bad8"
  },
  {
   "cell_type": "code",
   "outputs": [],
   "source": [
    "\n",
    "RN = Sequential()\n",
    "\n",
    "input_dim = X_train[SAMIFeatures].shape[1]\n",
    "RN.add(Dense(units=64, activation='relu', input_dim=input_dim))\n",
    "RN.add(Dense(units=32, activation='relu'))\n",
    "RN.add(Dense(units=1, activation='sigmoid'))\n",
    "RN.compile(optimizer=Adam(learning_rate=0.001),\n",
    "           loss=BinaryCrossentropy(),\n",
    "           metrics=['accuracy'])\n",
    "\n",
    "history = RN.fit(X_train[SAMIFeatures], y_train, epochs=100, batch_size=32, validation_split=0.2)\n",
    "\n",
    "loss, accuracy = RN.evaluate(X_test[SAMIFeatures], y_test)\n",
    "\n",
    "print(f'Test Accuracy: {accuracy}')\n",
    "y_pred_prob = RN.predict(X_test[SAMIFeatures])\n",
    "y_pred = (y_pred_prob > 0.5).astype(int)\n",
    "\n",
    "print(\"Accuracy:\", accuracy_score(y_test, y_pred))\n",
    "print(\"Precision:\", precision_score(y_test, y_pred))\n",
    "print(\"Recall:\", recall_score(y_test, y_pred))\n",
    "print(\"F1:\", f1_score(y_test, y_pred))\n",
    "print(\"AUC:\", roc_auc_score(y_test, y_pred_prob))"
   ],
   "metadata": {
    "collapsed": false
   },
   "id": "24c6460e29494d86"
  },
  {
   "cell_type": "markdown",
   "source": [
    "CHI2"
   ],
   "metadata": {
    "collapsed": false
   },
   "id": "17667f3858c63c3b"
  },
  {
   "cell_type": "code",
   "outputs": [],
   "source": [
    "\n",
    "RN = Sequential()\n",
    "\n",
    "input_dim = X_train[SAX2Features].shape[1]\n",
    "RN.add(Dense(units=64, activation='relu', input_dim=input_dim))\n",
    "RN.add(Dense(units=32, activation='relu'))\n",
    "RN.add(Dense(units=1, activation='sigmoid'))\n",
    "RN.compile(optimizer=Adam(learning_rate=0.001),\n",
    "           loss=BinaryCrossentropy(),\n",
    "           metrics=['accuracy'])\n",
    "\n",
    "history = RN.fit(X_train[SAX2Features], y_train, epochs=100, batch_size=32, validation_split=0.2)\n",
    "\n",
    "loss, accuracy = RN.evaluate(X_test[SAX2Features], y_test)\n",
    "\n",
    "print(f'Test Accuracy: {accuracy}')\n",
    "y_pred_prob = RN.predict(X_test[SAX2Features])\n",
    "y_pred = (y_pred_prob > 0.5).astype(int)\n",
    "\n",
    "print(\"Accuracy:\", accuracy_score(y_test, y_pred))\n",
    "print(\"Precision:\", precision_score(y_test, y_pred))\n",
    "print(\"Recall:\", recall_score(y_test, y_pred))\n",
    "print(\"F1:\", f1_score(y_test, y_pred))\n",
    "print(\"AUC:\", roc_auc_score(y_test, y_pred_prob))"
   ],
   "metadata": {
    "collapsed": false
   },
   "id": "18871e152c695a6b"
  },
  {
   "cell_type": "markdown",
   "source": [
    "RELIEFF"
   ],
   "metadata": {
    "collapsed": false
   },
   "id": "1248f7a794251bcb"
  },
  {
   "cell_type": "code",
   "outputs": [],
   "source": [
    "RN = Sequential()\n",
    "\n",
    "input_dim = X_train[SARFFeatures].shape[1]\n",
    "RN.add(Dense(units=64, activation='relu', input_dim=input_dim))\n",
    "RN.add(Dense(units=32, activation='relu'))\n",
    "RN.add(Dense(units=1, activation='sigmoid'))\n",
    "RN.compile(optimizer=Adam(learning_rate=0.001),\n",
    "           loss=BinaryCrossentropy(),\n",
    "           metrics=['accuracy'])\n",
    "\n",
    "history = RN.fit(X_train[SARFFeatures], y_train, epochs=100, batch_size=32, validation_split=0.2)\n",
    "\n",
    "loss, accuracy = RN.evaluate(X_test[SARFFeatures], y_test)\n",
    "\n",
    "print(f'Test Accuracy: {accuracy}')\n",
    "y_pred_prob = RN.predict(X_test[SARFFeatures])\n",
    "y_pred = (y_pred_prob > 0.5).astype(int)\n",
    "\n",
    "print(\"Accuracy:\", accuracy_score(y_test, y_pred))\n",
    "print(\"Precision:\", precision_score(y_test, y_pred))\n",
    "print(\"Recall:\", recall_score(y_test, y_pred))\n",
    "print(\"F1:\", f1_score(y_test, y_pred))\n",
    "print(\"AUC:\", roc_auc_score(y_test, y_pred_prob))"
   ],
   "metadata": {
    "collapsed": false
   },
   "id": "f9e73b5be77d7950"
  },
  {
   "cell_type": "code",
   "outputs": [],
   "source": [
    "#Save the results from the optimizations with Pickle\n",
    "import pickle\n",
    "\n",
    "with open('SAMIFeatures.pkl', 'wb') as f:\n",
    "    pickle.dump(SAMIFeatures, f)\n",
    "with open('SAX2Features.pkl', 'wb') as f:\n",
    "    pickle.dump(SAX2Features, f)\n",
    "with open('SARFFeatures.pkl', 'wb') as f:\n",
    "    pickle.dump(SARFFeatures, f)"
   ],
   "metadata": {
    "collapsed": false
   },
   "id": "fc7bca7e242ea5eb"
  }
 ],
 "metadata": {
  "kernelspec": {
   "display_name": "Python 3",
   "language": "python",
   "name": "python3"
  },
  "language_info": {
   "codemirror_mode": {
    "name": "ipython",
    "version": 2
   },
   "file_extension": ".py",
   "mimetype": "text/x-python",
   "name": "python",
   "nbconvert_exporter": "python",
   "pygments_lexer": "ipython2",
   "version": "2.7.6"
  }
 },
 "nbformat": 4,
 "nbformat_minor": 5
}

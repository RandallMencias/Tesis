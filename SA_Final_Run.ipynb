{
 "cells": [
  {
   "cell_type": "code",
   "execution_count": 1,
   "id": "initial_id",
   "metadata": {
    "collapsed": true,
    "ExecuteTime": {
     "end_time": "2024-11-01T20:39:39.619833800Z",
     "start_time": "2024-11-01T20:39:38.454303300Z"
    }
   },
   "outputs": [],
   "source": [
    "from Metaheuristicas.fitness_functions import *\n"
   ]
  },
  {
   "cell_type": "code",
   "outputs": [],
   "source": [
    "X, y = load_and_preprocess_data(filename='Resources/SeisBenchV1_v1_1.json')\n"
   ],
   "metadata": {
    "collapsed": false,
    "ExecuteTime": {
     "end_time": "2024-11-01T20:39:39.691673Z",
     "start_time": "2024-11-01T20:39:39.619833800Z"
    }
   },
   "id": "aa2b839a0ac12d0c",
   "execution_count": 2
  },
  {
   "cell_type": "code",
   "outputs": [],
   "source": [
    "from Metaheuristicas.Simmulated_Annealing import simulated_annealing\n",
    "\n",
    "cooling_rate = 0.95\n",
    "max_iter = 680"
   ],
   "metadata": {
    "collapsed": false,
    "ExecuteTime": {
     "end_time": "2024-11-01T20:39:39.749245600Z",
     "start_time": "2024-11-01T20:39:39.694201300Z"
    }
   },
   "id": "ca4c77e3ca5f4f79",
   "execution_count": 3
  },
  {
   "cell_type": "markdown",
   "source": [
    "#### Models Naive Bayes and Decision Tree"
   ],
   "metadata": {
    "collapsed": false
   },
   "id": "5aafef1bc4d32ad"
  },
  {
   "cell_type": "code",
   "outputs": [],
   "source": [
    "from sklearn.metrics import accuracy_score, precision_score, recall_score, f1_score, roc_auc_score\n",
    "from sklearn.model_selection import train_test_split\n",
    "from sklearn.ensemble import RandomForestClassifier\n",
    "from sklearn.naive_bayes import GaussianNB\n",
    "\n",
    "NB = GaussianNB()\n",
    "DT = RandomForestClassifier()\n",
    "\n",
    "#dataset split\n",
    "\n",
    "X_train, X_test, y_train, y_test = train_test_split(X, y, test_size=0.3, random_state=42)\n"
   ],
   "metadata": {
    "collapsed": false,
    "ExecuteTime": {
     "end_time": "2024-11-01T20:39:39.857573200Z",
     "start_time": "2024-11-01T20:39:39.749245600Z"
    }
   },
   "id": "1cad8f015c03fd6a",
   "execution_count": 4
  },
  {
   "cell_type": "markdown",
   "source": [
    "# SA with Mutual Information\n"
   ],
   "metadata": {
    "collapsed": false
   },
   "id": "fdacfe27fc6bf19f"
  },
  {
   "cell_type": "code",
   "outputs": [],
   "source": [
    "best_solution, best_Gfitness = simulated_annealing(X, y, initial_temperature=1, cooling_rate=cooling_rate,max_iter=max_iter ,fitness_function=mutual_information_eval)\n",
    "SAMIFeatures = X.columns[best_solution.astype(bool)].tolist()"
   ],
   "metadata": {
    "collapsed": false,
    "ExecuteTime": {
     "end_time": "2024-11-01T20:41:38.867364600Z",
     "start_time": "2024-11-01T20:39:39.857573200Z"
    }
   },
   "id": "27afb8be55ef518",
   "execution_count": 5
  },
  {
   "cell_type": "markdown",
   "source": [],
   "metadata": {
    "collapsed": false
   },
   "id": "3d70ef55f40a1139"
  },
  {
   "cell_type": "code",
   "outputs": [
    {
     "name": "stdout",
     "output_type": "stream",
     "text": [
      "Accuracy: 0.9331395348837209\n",
      "Precision: 0.5\n",
      "Recall: 0.782608695652174\n",
      "F1: 0.6101694915254238\n",
      "AUC: 0.8632669646485168\n"
     ]
    }
   ],
   "source": [
    "NB.fit(X_train[SAMIFeatures], y_train)\n",
    "\n",
    "y_pred = NB.predict(X_test[SAMIFeatures])\n",
    "\n",
    "print(\"Accuracy:\", accuracy_score(y_test, y_pred))\n",
    "print(\"Precision:\", precision_score(y_test, y_pred))\n",
    "print(\"Recall:\", recall_score(y_test, y_pred))\n",
    "print(\"F1:\", f1_score(y_test, y_pred))\n",
    "print(\"AUC:\", roc_auc_score(y_test, y_pred))\n"
   ],
   "metadata": {
    "collapsed": false,
    "ExecuteTime": {
     "end_time": "2024-11-01T20:41:38.882195900Z",
     "start_time": "2024-11-01T20:41:38.868372600Z"
    }
   },
   "id": "e222b27f3bfd73ff",
   "execution_count": 6
  },
  {
   "cell_type": "code",
   "outputs": [
    {
     "name": "stdout",
     "output_type": "stream",
     "text": [
      "Accuracy: 0.9651162790697675\n",
      "Precision: 0.7894736842105263\n",
      "Recall: 0.6521739130434783\n",
      "F1: 0.7142857142857143\n",
      "AUC: 0.8198564269267236\n"
     ]
    }
   ],
   "source": [
    "DT.fit(X_train[SAMIFeatures], y_train)\n",
    "\n",
    "y_pred = DT.predict(X_test[SAMIFeatures])\n",
    "\n",
    "print(\"Accuracy:\", accuracy_score(y_test, y_pred))\n",
    "print(\"Precision:\", precision_score(y_test, y_pred))\n",
    "print(\"Recall:\", recall_score(y_test, y_pred))\n",
    "print(\"F1:\", f1_score(y_test, y_pred))\n",
    "print(\"AUC:\", roc_auc_score(y_test, y_pred))"
   ],
   "metadata": {
    "collapsed": false,
    "ExecuteTime": {
     "end_time": "2024-11-01T20:41:39.190961200Z",
     "start_time": "2024-11-01T20:41:38.882195900Z"
    }
   },
   "id": "cfa13e64f7f8fae8",
   "execution_count": 7
  },
  {
   "cell_type": "markdown",
   "source": [],
   "metadata": {
    "collapsed": false
   },
   "id": "6499cf3717ea9c88"
  },
  {
   "cell_type": "markdown",
   "source": [
    "# SA with Chi2"
   ],
   "metadata": {
    "collapsed": false
   },
   "id": "738f5b3837eb3232"
  },
  {
   "cell_type": "code",
   "outputs": [],
   "source": [
    "best_solution, best_Gfitness = simulated_annealing(X, y, initial_temperature=1, cooling_rate=cooling_rate,max_iter=max_iter ,fitness_function=mutual_information_eval)\n",
    "SAX2Features = X.columns[best_solution.astype(bool)].tolist()"
   ],
   "metadata": {
    "collapsed": false,
    "ExecuteTime": {
     "end_time": "2024-11-01T20:43:26.015536900Z",
     "start_time": "2024-11-01T20:41:39.191969200Z"
    }
   },
   "id": "a9ad1ed17eba54f5",
   "execution_count": 8
  },
  {
   "cell_type": "code",
   "outputs": [
    {
     "name": "stdout",
     "output_type": "stream",
     "text": [
      "Accuracy: 0.9418604651162791\n",
      "Precision: 0.5428571428571428\n",
      "Recall: 0.8260869565217391\n",
      "F1: 0.6551724137931034\n",
      "AUC: 0.8881213598808073\n"
     ]
    }
   ],
   "source": [
    "NB.fit(X_train[SAX2Features], y_train)\n",
    "y_pred = NB.predict(X_test[SAX2Features])\n",
    "\n",
    "print(\"Accuracy:\", accuracy_score(y_test, y_pred))\n",
    "print(\"Precision:\", precision_score(y_test, y_pred))\n",
    "print(\"Recall:\", recall_score(y_test, y_pred))\n",
    "print(\"F1:\", f1_score(y_test, y_pred))\n",
    "print(\"AUC:\", roc_auc_score(y_test, y_pred))"
   ],
   "metadata": {
    "collapsed": false,
    "ExecuteTime": {
     "end_time": "2024-11-01T20:43:26.029548200Z",
     "start_time": "2024-11-01T20:43:26.017538500Z"
    }
   },
   "id": "bddacde3cb4a9024",
   "execution_count": 9
  },
  {
   "cell_type": "code",
   "outputs": [
    {
     "name": "stdout",
     "output_type": "stream",
     "text": [
      "Accuracy: 0.9709302325581395\n",
      "Precision: 0.8421052631578947\n",
      "Recall: 0.6956521739130435\n",
      "F1: 0.7619047619047619\n",
      "AUC: 0.8431531897602601\n"
     ]
    }
   ],
   "source": [
    "DT.fit(X_train[SAX2Features], y_train)\n",
    "y_pred = DT.predict(X_test[SAX2Features])\n",
    "\n",
    "print(\"Accuracy:\", accuracy_score(y_test, y_pred))\n",
    "print(\"Precision:\", precision_score(y_test, y_pred))\n",
    "print(\"Recall:\", recall_score(y_test, y_pred))\n",
    "print(\"F1:\", f1_score(y_test, y_pred))\n",
    "print(\"AUC:\", roc_auc_score(y_test, y_pred))"
   ],
   "metadata": {
    "collapsed": false,
    "ExecuteTime": {
     "end_time": "2024-11-01T20:43:26.383094600Z",
     "start_time": "2024-11-01T20:43:26.030560Z"
    }
   },
   "id": "7b6f2fb86e8ce7f8",
   "execution_count": 10
  },
  {
   "cell_type": "markdown",
   "source": [
    "# SA with ReliefF"
   ],
   "metadata": {
    "collapsed": false
   },
   "id": "44bea2b37508966a"
  },
  {
   "cell_type": "code",
   "outputs": [],
   "source": [
    "best_solution, best_Gfitness = simulated_annealing(X, y, initial_temperature=0.1, cooling_rate=cooling_rate,max_iter=max_iter ,fitness_function=mutual_information_eval)\n",
    "SARFFeatures = X.columns[best_solution.astype(bool)].tolist()"
   ],
   "metadata": {
    "collapsed": false,
    "ExecuteTime": {
     "end_time": "2024-11-01T20:45:17.130445100Z",
     "start_time": "2024-11-01T20:43:26.373107100Z"
    }
   },
   "id": "37f89a6d5cfdb864",
   "execution_count": 11
  },
  {
   "cell_type": "markdown",
   "source": [],
   "metadata": {
    "collapsed": false
   },
   "id": "c857cc136f8f20c5"
  },
  {
   "cell_type": "code",
   "outputs": [
    {
     "name": "stdout",
     "output_type": "stream",
     "text": [
      "Accuracy: 0.9418604651162791\n",
      "Precision: 0.5454545454545454\n",
      "Recall: 0.782608695652174\n",
      "F1: 0.6428571428571429\n",
      "AUC: 0.8679398618447786\n"
     ]
    }
   ],
   "source": [
    "NB.fit(X_train[SARFFeatures], y_train)\n",
    "y_pred = NB.predict(X_test[SARFFeatures])\n",
    "\n",
    "print(\"Accuracy:\", accuracy_score(y_test, y_pred))\n",
    "print(\"Precision:\", precision_score(y_test, y_pred))\n",
    "print(\"Recall:\", recall_score(y_test, y_pred))\n",
    "print(\"F1:\", f1_score(y_test, y_pred))\n",
    "print(\"AUC:\", roc_auc_score(y_test, y_pred))"
   ],
   "metadata": {
    "collapsed": false,
    "ExecuteTime": {
     "end_time": "2024-11-01T20:45:17.143872800Z",
     "start_time": "2024-11-01T20:45:17.132010800Z"
    }
   },
   "id": "c18092371a5c95ee",
   "execution_count": 12
  },
  {
   "cell_type": "code",
   "outputs": [
    {
     "name": "stdout",
     "output_type": "stream",
     "text": [
      "Accuracy: 0.9680232558139535\n",
      "Precision: 0.8\n",
      "Recall: 0.6956521739130435\n",
      "F1: 0.7441860465116279\n",
      "AUC: 0.8415955573615062\n"
     ]
    }
   ],
   "source": [
    "DT.fit(X_train[SARFFeatures], y_train)\n",
    "y_pred = DT.predict(X_test[SARFFeatures])\n",
    "\n",
    "print(\"Accuracy:\", accuracy_score(y_test, y_pred))\n",
    "print(\"Precision:\", precision_score(y_test, y_pred))\n",
    "print(\"Recall:\", recall_score(y_test, y_pred))\n",
    "print(\"F1:\", f1_score(y_test, y_pred))\n",
    "print(\"AUC:\", roc_auc_score(y_test, y_pred))"
   ],
   "metadata": {
    "collapsed": false,
    "ExecuteTime": {
     "end_time": "2024-11-01T20:45:17.446499900Z",
     "start_time": "2024-11-01T20:45:17.144872700Z"
    }
   },
   "id": "8f03dc90075b09ea",
   "execution_count": 13
  },
  {
   "cell_type": "markdown",
   "source": [
    "## Red Neuronal\n"
   ],
   "metadata": {
    "collapsed": false
   },
   "id": "c0fbf5b3e5c28f6f"
  },
  {
   "cell_type": "code",
   "outputs": [
    {
     "name": "stdout",
     "output_type": "stream",
     "text": [
      "Features selected by MI:  60\n",
      "Features selected by X2:  60\n",
      "Features selected by ReliefF:  60\n"
     ]
    }
   ],
   "source": [
    "print(\"Features selected by MI: \", len(SAMIFeatures))\n",
    "print(\"Features selected by X2: \", len(SAX2Features))\n",
    "print(\"Features selected by ReliefF: \", len(SARFFeatures))"
   ],
   "metadata": {
    "collapsed": false,
    "ExecuteTime": {
     "end_time": "2024-11-01T20:45:17.454805800Z",
     "start_time": "2024-11-01T20:45:17.448902500Z"
    }
   },
   "id": "c3b3500d30b31937",
   "execution_count": 14
  },
  {
   "cell_type": "code",
   "outputs": [],
   "source": [
    "\n",
    "from tensorflow.keras.models import Sequential\n",
    "from tensorflow.keras.layers import Dense\n",
    "from tensorflow.keras.optimizers import Adam\n",
    "from tensorflow.keras.losses import BinaryCrossentropy"
   ],
   "metadata": {
    "collapsed": false,
    "ExecuteTime": {
     "end_time": "2024-11-01T20:45:25.201725500Z",
     "start_time": "2024-11-01T20:45:17.451800200Z"
    }
   },
   "id": "7bca53201b5fe940",
   "execution_count": 15
  },
  {
   "cell_type": "markdown",
   "source": [
    "MUTUAL_INFORMATION "
   ],
   "metadata": {
    "collapsed": false
   },
   "id": "6730803a5695bad8"
  },
  {
   "cell_type": "code",
   "outputs": [
    {
     "name": "stdout",
     "output_type": "stream",
     "text": [
      "Epoch 1/100\n"
     ]
    },
    {
     "name": "stderr",
     "output_type": "stream",
     "text": [
      "C:\\Python311\\Lib\\site-packages\\keras\\src\\layers\\core\\dense.py:88: UserWarning: Do not pass an `input_shape`/`input_dim` argument to a layer. When using Sequential models, prefer using an `Input(shape)` object as the first layer in the model instead.\n",
      "  super().__init__(activity_regularizer=activity_regularizer, **kwargs)\n"
     ]
    },
    {
     "name": "stdout",
     "output_type": "stream",
     "text": [
      "\u001B[1m20/20\u001B[0m \u001B[32m━━━━━━━━━━━━━━━━━━━━\u001B[0m\u001B[37m\u001B[0m \u001B[1m1s\u001B[0m 7ms/step - accuracy: 0.5683 - loss: 0.6542 - val_accuracy: 0.9193 - val_loss: 0.3922\n",
      "Epoch 2/100\n",
      "\u001B[1m20/20\u001B[0m \u001B[32m━━━━━━━━━━━━━━━━━━━━\u001B[0m\u001B[37m\u001B[0m \u001B[1m0s\u001B[0m 2ms/step - accuracy: 0.9066 - loss: 0.3653 - val_accuracy: 0.9193 - val_loss: 0.2328\n",
      "Epoch 3/100\n",
      "\u001B[1m20/20\u001B[0m \u001B[32m━━━━━━━━━━━━━━━━━━━━\u001B[0m\u001B[37m\u001B[0m \u001B[1m0s\u001B[0m 2ms/step - accuracy: 0.8902 - loss: 0.3011 - val_accuracy: 0.9193 - val_loss: 0.2012\n",
      "Epoch 4/100\n",
      "\u001B[1m20/20\u001B[0m \u001B[32m━━━━━━━━━━━━━━━━━━━━\u001B[0m\u001B[37m\u001B[0m \u001B[1m0s\u001B[0m 3ms/step - accuracy: 0.9029 - loss: 0.2295 - val_accuracy: 0.9255 - val_loss: 0.1613\n",
      "Epoch 5/100\n",
      "\u001B[1m20/20\u001B[0m \u001B[32m━━━━━━━━━━━━━━━━━━━━\u001B[0m\u001B[37m\u001B[0m \u001B[1m0s\u001B[0m 4ms/step - accuracy: 0.9127 - loss: 0.1772 - val_accuracy: 0.9317 - val_loss: 0.1251\n",
      "Epoch 6/100\n",
      "\u001B[1m20/20\u001B[0m \u001B[32m━━━━━━━━━━━━━━━━━━━━\u001B[0m\u001B[37m\u001B[0m \u001B[1m0s\u001B[0m 2ms/step - accuracy: 0.9531 - loss: 0.1211 - val_accuracy: 0.9379 - val_loss: 0.1065\n",
      "Epoch 7/100\n",
      "\u001B[1m20/20\u001B[0m \u001B[32m━━━━━━━━━━━━━━━━━━━━\u001B[0m\u001B[37m\u001B[0m \u001B[1m0s\u001B[0m 2ms/step - accuracy: 0.9478 - loss: 0.1138 - val_accuracy: 0.9379 - val_loss: 0.0970\n",
      "Epoch 8/100\n",
      "\u001B[1m20/20\u001B[0m \u001B[32m━━━━━━━━━━━━━━━━━━━━\u001B[0m\u001B[37m\u001B[0m \u001B[1m0s\u001B[0m 2ms/step - accuracy: 0.9665 - loss: 0.0916 - val_accuracy: 0.9379 - val_loss: 0.0914\n",
      "Epoch 9/100\n",
      "\u001B[1m20/20\u001B[0m \u001B[32m━━━━━━━━━━━━━━━━━━━━\u001B[0m\u001B[37m\u001B[0m \u001B[1m0s\u001B[0m 2ms/step - accuracy: 0.9592 - loss: 0.0880 - val_accuracy: 0.9441 - val_loss: 0.0872\n",
      "Epoch 10/100\n",
      "\u001B[1m20/20\u001B[0m \u001B[32m━━━━━━━━━━━━━━━━━━━━\u001B[0m\u001B[37m\u001B[0m \u001B[1m0s\u001B[0m 2ms/step - accuracy: 0.9748 - loss: 0.0725 - val_accuracy: 0.9565 - val_loss: 0.0785\n",
      "Epoch 11/100\n",
      "\u001B[1m20/20\u001B[0m \u001B[32m━━━━━━━━━━━━━━━━━━━━\u001B[0m\u001B[37m\u001B[0m \u001B[1m0s\u001B[0m 2ms/step - accuracy: 0.9764 - loss: 0.0874 - val_accuracy: 0.9441 - val_loss: 0.0922\n",
      "Epoch 12/100\n",
      "\u001B[1m20/20\u001B[0m \u001B[32m━━━━━━━━━━━━━━━━━━━━\u001B[0m\u001B[37m\u001B[0m \u001B[1m0s\u001B[0m 2ms/step - accuracy: 0.9592 - loss: 0.0785 - val_accuracy: 0.9689 - val_loss: 0.0716\n",
      "Epoch 13/100\n",
      "\u001B[1m20/20\u001B[0m \u001B[32m━━━━━━━━━━━━━━━━━━━━\u001B[0m\u001B[37m\u001B[0m \u001B[1m0s\u001B[0m 2ms/step - accuracy: 0.9603 - loss: 0.0845 - val_accuracy: 0.9565 - val_loss: 0.0756\n",
      "Epoch 14/100\n",
      "\u001B[1m20/20\u001B[0m \u001B[32m━━━━━━━━━━━━━━━━━━━━\u001B[0m\u001B[37m\u001B[0m \u001B[1m0s\u001B[0m 2ms/step - accuracy: 0.9603 - loss: 0.0733 - val_accuracy: 0.9565 - val_loss: 0.0735\n",
      "Epoch 15/100\n",
      "\u001B[1m20/20\u001B[0m \u001B[32m━━━━━━━━━━━━━━━━━━━━\u001B[0m\u001B[37m\u001B[0m \u001B[1m0s\u001B[0m 2ms/step - accuracy: 0.9755 - loss: 0.0634 - val_accuracy: 0.9627 - val_loss: 0.0674\n",
      "Epoch 16/100\n",
      "\u001B[1m20/20\u001B[0m \u001B[32m━━━━━━━━━━━━━━━━━━━━\u001B[0m\u001B[37m\u001B[0m \u001B[1m0s\u001B[0m 2ms/step - accuracy: 0.9667 - loss: 0.0799 - val_accuracy: 0.9689 - val_loss: 0.0695\n",
      "Epoch 17/100\n",
      "\u001B[1m20/20\u001B[0m \u001B[32m━━━━━━━━━━━━━━━━━━━━\u001B[0m\u001B[37m\u001B[0m \u001B[1m0s\u001B[0m 2ms/step - accuracy: 0.9739 - loss: 0.0686 - val_accuracy: 0.9565 - val_loss: 0.0772\n",
      "Epoch 18/100\n",
      "\u001B[1m20/20\u001B[0m \u001B[32m━━━━━━━━━━━━━━━━━━━━\u001B[0m\u001B[37m\u001B[0m \u001B[1m0s\u001B[0m 2ms/step - accuracy: 0.9649 - loss: 0.0607 - val_accuracy: 0.9689 - val_loss: 0.0663\n",
      "Epoch 19/100\n",
      "\u001B[1m20/20\u001B[0m \u001B[32m━━━━━━━━━━━━━━━━━━━━\u001B[0m\u001B[37m\u001B[0m \u001B[1m0s\u001B[0m 2ms/step - accuracy: 0.9748 - loss: 0.0745 - val_accuracy: 0.9689 - val_loss: 0.0651\n",
      "Epoch 20/100\n",
      "\u001B[1m20/20\u001B[0m \u001B[32m━━━━━━━━━━━━━━━━━━━━\u001B[0m\u001B[37m\u001B[0m \u001B[1m0s\u001B[0m 2ms/step - accuracy: 0.9829 - loss: 0.0548 - val_accuracy: 0.9689 - val_loss: 0.0676\n",
      "Epoch 21/100\n",
      "\u001B[1m20/20\u001B[0m \u001B[32m━━━━━━━━━━━━━━━━━━━━\u001B[0m\u001B[37m\u001B[0m \u001B[1m0s\u001B[0m 2ms/step - accuracy: 0.9869 - loss: 0.0520 - val_accuracy: 0.9689 - val_loss: 0.0668\n",
      "Epoch 22/100\n",
      "\u001B[1m20/20\u001B[0m \u001B[32m━━━━━━━━━━━━━━━━━━━━\u001B[0m\u001B[37m\u001B[0m \u001B[1m0s\u001B[0m 2ms/step - accuracy: 0.9734 - loss: 0.0760 - val_accuracy: 0.9689 - val_loss: 0.0675\n",
      "Epoch 23/100\n",
      "\u001B[1m20/20\u001B[0m \u001B[32m━━━━━━━━━━━━━━━━━━━━\u001B[0m\u001B[37m\u001B[0m \u001B[1m0s\u001B[0m 2ms/step - accuracy: 0.9642 - loss: 0.0849 - val_accuracy: 0.9689 - val_loss: 0.0702\n",
      "Epoch 24/100\n",
      "\u001B[1m20/20\u001B[0m \u001B[32m━━━━━━━━━━━━━━━━━━━━\u001B[0m\u001B[37m\u001B[0m \u001B[1m0s\u001B[0m 2ms/step - accuracy: 0.9790 - loss: 0.0573 - val_accuracy: 0.9689 - val_loss: 0.0641\n",
      "Epoch 25/100\n",
      "\u001B[1m20/20\u001B[0m \u001B[32m━━━━━━━━━━━━━━━━━━━━\u001B[0m\u001B[37m\u001B[0m \u001B[1m0s\u001B[0m 2ms/step - accuracy: 0.9774 - loss: 0.0697 - val_accuracy: 0.9752 - val_loss: 0.0597\n",
      "Epoch 26/100\n",
      "\u001B[1m20/20\u001B[0m \u001B[32m━━━━━━━━━━━━━━━━━━━━\u001B[0m\u001B[37m\u001B[0m \u001B[1m0s\u001B[0m 2ms/step - accuracy: 0.9789 - loss: 0.0565 - val_accuracy: 0.9689 - val_loss: 0.0614\n",
      "Epoch 27/100\n",
      "\u001B[1m20/20\u001B[0m \u001B[32m━━━━━━━━━━━━━━━━━━━━\u001B[0m\u001B[37m\u001B[0m \u001B[1m0s\u001B[0m 2ms/step - accuracy: 0.9788 - loss: 0.0691 - val_accuracy: 0.9689 - val_loss: 0.0671\n",
      "Epoch 28/100\n",
      "\u001B[1m20/20\u001B[0m \u001B[32m━━━━━━━━━━━━━━━━━━━━\u001B[0m\u001B[37m\u001B[0m \u001B[1m0s\u001B[0m 2ms/step - accuracy: 0.9856 - loss: 0.0489 - val_accuracy: 0.9689 - val_loss: 0.0608\n",
      "Epoch 29/100\n",
      "\u001B[1m20/20\u001B[0m \u001B[32m━━━━━━━━━━━━━━━━━━━━\u001B[0m\u001B[37m\u001B[0m \u001B[1m0s\u001B[0m 2ms/step - accuracy: 0.9773 - loss: 0.0624 - val_accuracy: 0.9752 - val_loss: 0.0599\n",
      "Epoch 30/100\n",
      "\u001B[1m20/20\u001B[0m \u001B[32m━━━━━━━━━━━━━━━━━━━━\u001B[0m\u001B[37m\u001B[0m \u001B[1m0s\u001B[0m 2ms/step - accuracy: 0.9892 - loss: 0.0444 - val_accuracy: 0.9689 - val_loss: 0.0720\n",
      "Epoch 31/100\n",
      "\u001B[1m20/20\u001B[0m \u001B[32m━━━━━━━━━━━━━━━━━━━━\u001B[0m\u001B[37m\u001B[0m \u001B[1m0s\u001B[0m 2ms/step - accuracy: 0.9751 - loss: 0.0594 - val_accuracy: 0.9689 - val_loss: 0.0625\n",
      "Epoch 32/100\n",
      "\u001B[1m20/20\u001B[0m \u001B[32m━━━━━━━━━━━━━━━━━━━━\u001B[0m\u001B[37m\u001B[0m \u001B[1m0s\u001B[0m 2ms/step - accuracy: 0.9816 - loss: 0.0607 - val_accuracy: 0.9689 - val_loss: 0.0635\n",
      "Epoch 33/100\n",
      "\u001B[1m20/20\u001B[0m \u001B[32m━━━━━━━━━━━━━━━━━━━━\u001B[0m\u001B[37m\u001B[0m \u001B[1m0s\u001B[0m 2ms/step - accuracy: 0.9779 - loss: 0.0584 - val_accuracy: 0.9689 - val_loss: 0.0716\n",
      "Epoch 34/100\n",
      "\u001B[1m20/20\u001B[0m \u001B[32m━━━━━━━━━━━━━━━━━━━━\u001B[0m\u001B[37m\u001B[0m \u001B[1m0s\u001B[0m 2ms/step - accuracy: 0.9784 - loss: 0.0609 - val_accuracy: 0.9689 - val_loss: 0.0702\n",
      "Epoch 35/100\n",
      "\u001B[1m20/20\u001B[0m \u001B[32m━━━━━━━━━━━━━━━━━━━━\u001B[0m\u001B[37m\u001B[0m \u001B[1m0s\u001B[0m 2ms/step - accuracy: 0.9776 - loss: 0.0647 - val_accuracy: 0.9752 - val_loss: 0.0594\n",
      "Epoch 36/100\n",
      "\u001B[1m20/20\u001B[0m \u001B[32m━━━━━━━━━━━━━━━━━━━━\u001B[0m\u001B[37m\u001B[0m \u001B[1m0s\u001B[0m 2ms/step - accuracy: 0.9748 - loss: 0.0672 - val_accuracy: 0.9689 - val_loss: 0.0668\n",
      "Epoch 37/100\n",
      "\u001B[1m20/20\u001B[0m \u001B[32m━━━━━━━━━━━━━━━━━━━━\u001B[0m\u001B[37m\u001B[0m \u001B[1m0s\u001B[0m 2ms/step - accuracy: 0.9808 - loss: 0.0511 - val_accuracy: 0.9689 - val_loss: 0.0693\n",
      "Epoch 38/100\n",
      "\u001B[1m20/20\u001B[0m \u001B[32m━━━━━━━━━━━━━━━━━━━━\u001B[0m\u001B[37m\u001B[0m \u001B[1m0s\u001B[0m 2ms/step - accuracy: 0.9847 - loss: 0.0532 - val_accuracy: 0.9689 - val_loss: 0.0662\n",
      "Epoch 39/100\n",
      "\u001B[1m20/20\u001B[0m \u001B[32m━━━━━━━━━━━━━━━━━━━━\u001B[0m\u001B[37m\u001B[0m \u001B[1m0s\u001B[0m 2ms/step - accuracy: 0.9857 - loss: 0.0403 - val_accuracy: 0.9689 - val_loss: 0.0658\n",
      "Epoch 40/100\n",
      "\u001B[1m20/20\u001B[0m \u001B[32m━━━━━━━━━━━━━━━━━━━━\u001B[0m\u001B[37m\u001B[0m \u001B[1m0s\u001B[0m 2ms/step - accuracy: 0.9833 - loss: 0.0449 - val_accuracy: 0.9689 - val_loss: 0.0742\n",
      "Epoch 41/100\n",
      "\u001B[1m20/20\u001B[0m \u001B[32m━━━━━━━━━━━━━━━━━━━━\u001B[0m\u001B[37m\u001B[0m \u001B[1m0s\u001B[0m 2ms/step - accuracy: 0.9880 - loss: 0.0451 - val_accuracy: 0.9689 - val_loss: 0.0656\n",
      "Epoch 42/100\n",
      "\u001B[1m20/20\u001B[0m \u001B[32m━━━━━━━━━━━━━━━━━━━━\u001B[0m\u001B[37m\u001B[0m \u001B[1m0s\u001B[0m 2ms/step - accuracy: 0.9790 - loss: 0.0561 - val_accuracy: 0.9689 - val_loss: 0.0660\n",
      "Epoch 43/100\n",
      "\u001B[1m20/20\u001B[0m \u001B[32m━━━━━━━━━━━━━━━━━━━━\u001B[0m\u001B[37m\u001B[0m \u001B[1m0s\u001B[0m 2ms/step - accuracy: 0.9841 - loss: 0.0569 - val_accuracy: 0.9689 - val_loss: 0.0670\n",
      "Epoch 44/100\n",
      "\u001B[1m20/20\u001B[0m \u001B[32m━━━━━━━━━━━━━━━━━━━━\u001B[0m\u001B[37m\u001B[0m \u001B[1m0s\u001B[0m 2ms/step - accuracy: 0.9837 - loss: 0.0402 - val_accuracy: 0.9565 - val_loss: 0.0827\n",
      "Epoch 45/100\n",
      "\u001B[1m20/20\u001B[0m \u001B[32m━━━━━━━━━━━━━━━━━━━━\u001B[0m\u001B[37m\u001B[0m \u001B[1m0s\u001B[0m 2ms/step - accuracy: 0.9838 - loss: 0.0377 - val_accuracy: 0.9689 - val_loss: 0.0632\n",
      "Epoch 46/100\n",
      "\u001B[1m20/20\u001B[0m \u001B[32m━━━━━━━━━━━━━━━━━━━━\u001B[0m\u001B[37m\u001B[0m \u001B[1m0s\u001B[0m 2ms/step - accuracy: 0.9784 - loss: 0.0694 - val_accuracy: 0.9752 - val_loss: 0.0608\n",
      "Epoch 47/100\n",
      "\u001B[1m20/20\u001B[0m \u001B[32m━━━━━━━━━━━━━━━━━━━━\u001B[0m\u001B[37m\u001B[0m \u001B[1m0s\u001B[0m 2ms/step - accuracy: 0.9875 - loss: 0.0544 - val_accuracy: 0.9627 - val_loss: 0.0749\n",
      "Epoch 48/100\n",
      "\u001B[1m20/20\u001B[0m \u001B[32m━━━━━━━━━━━━━━━━━━━━\u001B[0m\u001B[37m\u001B[0m \u001B[1m0s\u001B[0m 2ms/step - accuracy: 0.9911 - loss: 0.0310 - val_accuracy: 0.9752 - val_loss: 0.0623\n",
      "Epoch 49/100\n",
      "\u001B[1m20/20\u001B[0m \u001B[32m━━━━━━━━━━━━━━━━━━━━\u001B[0m\u001B[37m\u001B[0m \u001B[1m0s\u001B[0m 2ms/step - accuracy: 0.9811 - loss: 0.0508 - val_accuracy: 0.9503 - val_loss: 0.0914\n",
      "Epoch 50/100\n",
      "\u001B[1m20/20\u001B[0m \u001B[32m━━━━━━━━━━━━━━━━━━━━\u001B[0m\u001B[37m\u001B[0m \u001B[1m0s\u001B[0m 2ms/step - accuracy: 0.9785 - loss: 0.0686 - val_accuracy: 0.9503 - val_loss: 0.0919\n",
      "Epoch 51/100\n",
      "\u001B[1m20/20\u001B[0m \u001B[32m━━━━━━━━━━━━━━━━━━━━\u001B[0m\u001B[37m\u001B[0m \u001B[1m0s\u001B[0m 2ms/step - accuracy: 0.9830 - loss: 0.0418 - val_accuracy: 0.9689 - val_loss: 0.0656\n",
      "Epoch 52/100\n",
      "\u001B[1m20/20\u001B[0m \u001B[32m━━━━━━━━━━━━━━━━━━━━\u001B[0m\u001B[37m\u001B[0m \u001B[1m0s\u001B[0m 2ms/step - accuracy: 0.9769 - loss: 0.0640 - val_accuracy: 0.9689 - val_loss: 0.0670\n",
      "Epoch 53/100\n",
      "\u001B[1m20/20\u001B[0m \u001B[32m━━━━━━━━━━━━━━━━━━━━\u001B[0m\u001B[37m\u001B[0m \u001B[1m0s\u001B[0m 2ms/step - accuracy: 0.9803 - loss: 0.0498 - val_accuracy: 0.9752 - val_loss: 0.0607\n",
      "Epoch 54/100\n",
      "\u001B[1m20/20\u001B[0m \u001B[32m━━━━━━━━━━━━━━━━━━━━\u001B[0m\u001B[37m\u001B[0m \u001B[1m0s\u001B[0m 2ms/step - accuracy: 0.9698 - loss: 0.0821 - val_accuracy: 0.9752 - val_loss: 0.0605\n",
      "Epoch 55/100\n",
      "\u001B[1m20/20\u001B[0m \u001B[32m━━━━━━━━━━━━━━━━━━━━\u001B[0m\u001B[37m\u001B[0m \u001B[1m0s\u001B[0m 2ms/step - accuracy: 0.9800 - loss: 0.0682 - val_accuracy: 0.9689 - val_loss: 0.0714\n",
      "Epoch 56/100\n",
      "\u001B[1m20/20\u001B[0m \u001B[32m━━━━━━━━━━━━━━━━━━━━\u001B[0m\u001B[37m\u001B[0m \u001B[1m0s\u001B[0m 2ms/step - accuracy: 0.9832 - loss: 0.0539 - val_accuracy: 0.9503 - val_loss: 0.0908\n",
      "Epoch 57/100\n",
      "\u001B[1m20/20\u001B[0m \u001B[32m━━━━━━━━━━━━━━━━━━━━\u001B[0m\u001B[37m\u001B[0m \u001B[1m0s\u001B[0m 2ms/step - accuracy: 0.9852 - loss: 0.0416 - val_accuracy: 0.9752 - val_loss: 0.0663\n",
      "Epoch 58/100\n",
      "\u001B[1m20/20\u001B[0m \u001B[32m━━━━━━━━━━━━━━━━━━━━\u001B[0m\u001B[37m\u001B[0m \u001B[1m0s\u001B[0m 2ms/step - accuracy: 0.9861 - loss: 0.0386 - val_accuracy: 0.9752 - val_loss: 0.0622\n",
      "Epoch 59/100\n",
      "\u001B[1m20/20\u001B[0m \u001B[32m━━━━━━━━━━━━━━━━━━━━\u001B[0m\u001B[37m\u001B[0m \u001B[1m0s\u001B[0m 2ms/step - accuracy: 0.9875 - loss: 0.0324 - val_accuracy: 0.9689 - val_loss: 0.0614\n",
      "Epoch 60/100\n",
      "\u001B[1m20/20\u001B[0m \u001B[32m━━━━━━━━━━━━━━━━━━━━\u001B[0m\u001B[37m\u001B[0m \u001B[1m0s\u001B[0m 2ms/step - accuracy: 0.9744 - loss: 0.0521 - val_accuracy: 0.9503 - val_loss: 0.0948\n",
      "Epoch 61/100\n",
      "\u001B[1m20/20\u001B[0m \u001B[32m━━━━━━━━━━━━━━━━━━━━\u001B[0m\u001B[37m\u001B[0m \u001B[1m0s\u001B[0m 2ms/step - accuracy: 0.9901 - loss: 0.0316 - val_accuracy: 0.9689 - val_loss: 0.0691\n",
      "Epoch 62/100\n",
      "\u001B[1m20/20\u001B[0m \u001B[32m━━━━━━━━━━━━━━━━━━━━\u001B[0m\u001B[37m\u001B[0m \u001B[1m0s\u001B[0m 2ms/step - accuracy: 0.9913 - loss: 0.0290 - val_accuracy: 0.9689 - val_loss: 0.0611\n",
      "Epoch 63/100\n",
      "\u001B[1m20/20\u001B[0m \u001B[32m━━━━━━━━━━━━━━━━━━━━\u001B[0m\u001B[37m\u001B[0m \u001B[1m0s\u001B[0m 2ms/step - accuracy: 0.9859 - loss: 0.0500 - val_accuracy: 0.9627 - val_loss: 0.0855\n",
      "Epoch 64/100\n",
      "\u001B[1m20/20\u001B[0m \u001B[32m━━━━━━━━━━━━━━━━━━━━\u001B[0m\u001B[37m\u001B[0m \u001B[1m0s\u001B[0m 2ms/step - accuracy: 0.9919 - loss: 0.0338 - val_accuracy: 0.9627 - val_loss: 0.0785\n",
      "Epoch 65/100\n",
      "\u001B[1m20/20\u001B[0m \u001B[32m━━━━━━━━━━━━━━━━━━━━\u001B[0m\u001B[37m\u001B[0m \u001B[1m0s\u001B[0m 2ms/step - accuracy: 0.9892 - loss: 0.0423 - val_accuracy: 0.9689 - val_loss: 0.0733\n",
      "Epoch 66/100\n",
      "\u001B[1m20/20\u001B[0m \u001B[32m━━━━━━━━━━━━━━━━━━━━\u001B[0m\u001B[37m\u001B[0m \u001B[1m0s\u001B[0m 2ms/step - accuracy: 0.9853 - loss: 0.0429 - val_accuracy: 0.9689 - val_loss: 0.0712\n",
      "Epoch 67/100\n",
      "\u001B[1m20/20\u001B[0m \u001B[32m━━━━━━━━━━━━━━━━━━━━\u001B[0m\u001B[37m\u001B[0m \u001B[1m0s\u001B[0m 2ms/step - accuracy: 0.9920 - loss: 0.0318 - val_accuracy: 0.9689 - val_loss: 0.0797\n",
      "Epoch 68/100\n",
      "\u001B[1m20/20\u001B[0m \u001B[32m━━━━━━━━━━━━━━━━━━━━\u001B[0m\u001B[37m\u001B[0m \u001B[1m0s\u001B[0m 2ms/step - accuracy: 0.9826 - loss: 0.0564 - val_accuracy: 0.9627 - val_loss: 0.0792\n",
      "Epoch 69/100\n",
      "\u001B[1m20/20\u001B[0m \u001B[32m━━━━━━━━━━━━━━━━━━━━\u001B[0m\u001B[37m\u001B[0m \u001B[1m0s\u001B[0m 2ms/step - accuracy: 0.9787 - loss: 0.0476 - val_accuracy: 0.9689 - val_loss: 0.0766\n",
      "Epoch 70/100\n",
      "\u001B[1m20/20\u001B[0m \u001B[32m━━━━━━━━━━━━━━━━━━━━\u001B[0m\u001B[37m\u001B[0m \u001B[1m0s\u001B[0m 2ms/step - accuracy: 0.9845 - loss: 0.0368 - val_accuracy: 0.9689 - val_loss: 0.0709\n",
      "Epoch 71/100\n",
      "\u001B[1m20/20\u001B[0m \u001B[32m━━━━━━━━━━━━━━━━━━━━\u001B[0m\u001B[37m\u001B[0m \u001B[1m0s\u001B[0m 2ms/step - accuracy: 0.9914 - loss: 0.0257 - val_accuracy: 0.9689 - val_loss: 0.0798\n",
      "Epoch 72/100\n",
      "\u001B[1m20/20\u001B[0m \u001B[32m━━━━━━━━━━━━━━━━━━━━\u001B[0m\u001B[37m\u001B[0m \u001B[1m0s\u001B[0m 2ms/step - accuracy: 0.9874 - loss: 0.0365 - val_accuracy: 0.9689 - val_loss: 0.0669\n",
      "Epoch 73/100\n",
      "\u001B[1m20/20\u001B[0m \u001B[32m━━━━━━━━━━━━━━━━━━━━\u001B[0m\u001B[37m\u001B[0m \u001B[1m0s\u001B[0m 2ms/step - accuracy: 0.9811 - loss: 0.0508 - val_accuracy: 0.9689 - val_loss: 0.0688\n",
      "Epoch 74/100\n",
      "\u001B[1m20/20\u001B[0m \u001B[32m━━━━━━━━━━━━━━━━━━━━\u001B[0m\u001B[37m\u001B[0m \u001B[1m0s\u001B[0m 2ms/step - accuracy: 0.9817 - loss: 0.0410 - val_accuracy: 0.9565 - val_loss: 0.0888\n",
      "Epoch 75/100\n",
      "\u001B[1m20/20\u001B[0m \u001B[32m━━━━━━━━━━━━━━━━━━━━\u001B[0m\u001B[37m\u001B[0m \u001B[1m0s\u001B[0m 2ms/step - accuracy: 0.9852 - loss: 0.0403 - val_accuracy: 0.9565 - val_loss: 0.0896\n",
      "Epoch 76/100\n",
      "\u001B[1m20/20\u001B[0m \u001B[32m━━━━━━━━━━━━━━━━━━━━\u001B[0m\u001B[37m\u001B[0m \u001B[1m0s\u001B[0m 2ms/step - accuracy: 0.9945 - loss: 0.0286 - val_accuracy: 0.9752 - val_loss: 0.0660\n",
      "Epoch 77/100\n",
      "\u001B[1m20/20\u001B[0m \u001B[32m━━━━━━━━━━━━━━━━━━━━\u001B[0m\u001B[37m\u001B[0m \u001B[1m0s\u001B[0m 2ms/step - accuracy: 0.9901 - loss: 0.0300 - val_accuracy: 0.9752 - val_loss: 0.0693\n",
      "Epoch 78/100\n",
      "\u001B[1m20/20\u001B[0m \u001B[32m━━━━━━━━━━━━━━━━━━━━\u001B[0m\u001B[37m\u001B[0m \u001B[1m0s\u001B[0m 2ms/step - accuracy: 0.9821 - loss: 0.0520 - val_accuracy: 0.9689 - val_loss: 0.0802\n",
      "Epoch 79/100\n",
      "\u001B[1m20/20\u001B[0m \u001B[32m━━━━━━━━━━━━━━━━━━━━\u001B[0m\u001B[37m\u001B[0m \u001B[1m0s\u001B[0m 2ms/step - accuracy: 0.9917 - loss: 0.0302 - val_accuracy: 0.9752 - val_loss: 0.0701\n",
      "Epoch 80/100\n",
      "\u001B[1m20/20\u001B[0m \u001B[32m━━━━━━━━━━━━━━━━━━━━\u001B[0m\u001B[37m\u001B[0m \u001B[1m0s\u001B[0m 2ms/step - accuracy: 0.9860 - loss: 0.0319 - val_accuracy: 0.9503 - val_loss: 0.0970\n",
      "Epoch 81/100\n",
      "\u001B[1m20/20\u001B[0m \u001B[32m━━━━━━━━━━━━━━━━━━━━\u001B[0m\u001B[37m\u001B[0m \u001B[1m0s\u001B[0m 2ms/step - accuracy: 0.9895 - loss: 0.0336 - val_accuracy: 0.9689 - val_loss: 0.0732\n",
      "Epoch 82/100\n",
      "\u001B[1m20/20\u001B[0m \u001B[32m━━━━━━━━━━━━━━━━━━━━\u001B[0m\u001B[37m\u001B[0m \u001B[1m0s\u001B[0m 2ms/step - accuracy: 0.9950 - loss: 0.0242 - val_accuracy: 0.9565 - val_loss: 0.0921\n",
      "Epoch 83/100\n",
      "\u001B[1m20/20\u001B[0m \u001B[32m━━━━━━━━━━━━━━━━━━━━\u001B[0m\u001B[37m\u001B[0m \u001B[1m0s\u001B[0m 2ms/step - accuracy: 0.9903 - loss: 0.0347 - val_accuracy: 0.9689 - val_loss: 0.0658\n",
      "Epoch 84/100\n",
      "\u001B[1m20/20\u001B[0m \u001B[32m━━━━━━━━━━━━━━━━━━━━\u001B[0m\u001B[37m\u001B[0m \u001B[1m0s\u001B[0m 2ms/step - accuracy: 0.9892 - loss: 0.0371 - val_accuracy: 0.9627 - val_loss: 0.0833\n",
      "Epoch 85/100\n",
      "\u001B[1m20/20\u001B[0m \u001B[32m━━━━━━━━━━━━━━━━━━━━\u001B[0m\u001B[37m\u001B[0m \u001B[1m0s\u001B[0m 2ms/step - accuracy: 0.9878 - loss: 0.0350 - val_accuracy: 0.9627 - val_loss: 0.0913\n",
      "Epoch 86/100\n",
      "\u001B[1m20/20\u001B[0m \u001B[32m━━━━━━━━━━━━━━━━━━━━\u001B[0m\u001B[37m\u001B[0m \u001B[1m0s\u001B[0m 2ms/step - accuracy: 0.9882 - loss: 0.0336 - val_accuracy: 0.9689 - val_loss: 0.0796\n",
      "Epoch 87/100\n",
      "\u001B[1m20/20\u001B[0m \u001B[32m━━━━━━━━━━━━━━━━━━━━\u001B[0m\u001B[37m\u001B[0m \u001B[1m0s\u001B[0m 2ms/step - accuracy: 0.9917 - loss: 0.0255 - val_accuracy: 0.9627 - val_loss: 0.0944\n",
      "Epoch 88/100\n",
      "\u001B[1m20/20\u001B[0m \u001B[32m━━━━━━━━━━━━━━━━━━━━\u001B[0m\u001B[37m\u001B[0m \u001B[1m0s\u001B[0m 2ms/step - accuracy: 0.9928 - loss: 0.0281 - val_accuracy: 0.9503 - val_loss: 0.1021\n",
      "Epoch 89/100\n",
      "\u001B[1m20/20\u001B[0m \u001B[32m━━━━━━━━━━━━━━━━━━━━\u001B[0m\u001B[37m\u001B[0m \u001B[1m0s\u001B[0m 2ms/step - accuracy: 0.9890 - loss: 0.0227 - val_accuracy: 0.9689 - val_loss: 0.0668\n",
      "Epoch 90/100\n",
      "\u001B[1m20/20\u001B[0m \u001B[32m━━━━━━━━━━━━━━━━━━━━\u001B[0m\u001B[37m\u001B[0m \u001B[1m0s\u001B[0m 2ms/step - accuracy: 0.9922 - loss: 0.0310 - val_accuracy: 0.9627 - val_loss: 0.0895\n",
      "Epoch 91/100\n",
      "\u001B[1m20/20\u001B[0m \u001B[32m━━━━━━━━━━━━━━━━━━━━\u001B[0m\u001B[37m\u001B[0m \u001B[1m0s\u001B[0m 2ms/step - accuracy: 0.9957 - loss: 0.0216 - val_accuracy: 0.9627 - val_loss: 0.0942\n",
      "Epoch 92/100\n",
      "\u001B[1m20/20\u001B[0m \u001B[32m━━━━━━━━━━━━━━━━━━━━\u001B[0m\u001B[37m\u001B[0m \u001B[1m0s\u001B[0m 2ms/step - accuracy: 0.9915 - loss: 0.0391 - val_accuracy: 0.9689 - val_loss: 0.0744\n",
      "Epoch 93/100\n",
      "\u001B[1m20/20\u001B[0m \u001B[32m━━━━━━━━━━━━━━━━━━━━\u001B[0m\u001B[37m\u001B[0m \u001B[1m0s\u001B[0m 2ms/step - accuracy: 0.9946 - loss: 0.0222 - val_accuracy: 0.9627 - val_loss: 0.0886\n",
      "Epoch 94/100\n",
      "\u001B[1m20/20\u001B[0m \u001B[32m━━━━━━━━━━━━━━━━━━━━\u001B[0m\u001B[37m\u001B[0m \u001B[1m0s\u001B[0m 2ms/step - accuracy: 0.9827 - loss: 0.0357 - val_accuracy: 0.9503 - val_loss: 0.1204\n",
      "Epoch 95/100\n",
      "\u001B[1m20/20\u001B[0m \u001B[32m━━━━━━━━━━━━━━━━━━━━\u001B[0m\u001B[37m\u001B[0m \u001B[1m0s\u001B[0m 2ms/step - accuracy: 0.9864 - loss: 0.0451 - val_accuracy: 0.9565 - val_loss: 0.0924\n",
      "Epoch 96/100\n",
      "\u001B[1m20/20\u001B[0m \u001B[32m━━━━━━━━━━━━━━━━━━━━\u001B[0m\u001B[37m\u001B[0m \u001B[1m0s\u001B[0m 2ms/step - accuracy: 0.9905 - loss: 0.0291 - val_accuracy: 0.9689 - val_loss: 0.0788\n",
      "Epoch 97/100\n",
      "\u001B[1m20/20\u001B[0m \u001B[32m━━━━━━━━━━━━━━━━━━━━\u001B[0m\u001B[37m\u001B[0m \u001B[1m0s\u001B[0m 2ms/step - accuracy: 0.9851 - loss: 0.0360 - val_accuracy: 0.9627 - val_loss: 0.0857\n",
      "Epoch 98/100\n",
      "\u001B[1m20/20\u001B[0m \u001B[32m━━━━━━━━━━━━━━━━━━━━\u001B[0m\u001B[37m\u001B[0m \u001B[1m0s\u001B[0m 2ms/step - accuracy: 0.9916 - loss: 0.0259 - val_accuracy: 0.9689 - val_loss: 0.0766\n",
      "Epoch 99/100\n",
      "\u001B[1m20/20\u001B[0m \u001B[32m━━━━━━━━━━━━━━━━━━━━\u001B[0m\u001B[37m\u001B[0m \u001B[1m0s\u001B[0m 2ms/step - accuracy: 0.9917 - loss: 0.0272 - val_accuracy: 0.9503 - val_loss: 0.1112\n",
      "Epoch 100/100\n",
      "\u001B[1m20/20\u001B[0m \u001B[32m━━━━━━━━━━━━━━━━━━━━\u001B[0m\u001B[37m\u001B[0m \u001B[1m0s\u001B[0m 2ms/step - accuracy: 0.9931 - loss: 0.0227 - val_accuracy: 0.9627 - val_loss: 0.0852\n",
      "\u001B[1m11/11\u001B[0m \u001B[32m━━━━━━━━━━━━━━━━━━━━\u001B[0m\u001B[37m\u001B[0m \u001B[1m0s\u001B[0m 737us/step - accuracy: 0.9433 - loss: 0.2401\n",
      "Test Accuracy: 0.9593023061752319\n",
      "\u001B[1m11/11\u001B[0m \u001B[32m━━━━━━━━━━━━━━━━━━━━\u001B[0m\u001B[37m\u001B[0m \u001B[1m0s\u001B[0m 3ms/step \n",
      "Accuracy: 0.9593023255813954\n",
      "Precision: 0.7142857142857143\n",
      "Recall: 0.6521739130434783\n",
      "F1: 0.6818181818181818\n",
      "AUC: 0.9693891372070973\n"
     ]
    }
   ],
   "source": [
    "\n",
    "RN = Sequential()\n",
    "\n",
    "input_dim = X_train[SAMIFeatures].shape[1]\n",
    "RN.add(Dense(units=64, activation='relu', input_dim=input_dim))\n",
    "RN.add(Dense(units=32, activation='relu'))\n",
    "RN.add(Dense(units=1, activation='sigmoid'))\n",
    "RN.compile(optimizer=Adam(learning_rate=0.001),\n",
    "           loss=BinaryCrossentropy(),\n",
    "           metrics=['accuracy'])\n",
    "\n",
    "history = RN.fit(X_train[SAMIFeatures], y_train, epochs=100, batch_size=32, validation_split=0.2)\n",
    "\n",
    "loss, accuracy = RN.evaluate(X_test[SAMIFeatures], y_test)\n",
    "\n",
    "print(f'Test Accuracy: {accuracy}')\n",
    "y_pred_prob = RN.predict(X_test[SAMIFeatures])\n",
    "y_pred = (y_pred_prob > 0.5).astype(int)\n",
    "\n",
    "print(\"Accuracy:\", accuracy_score(y_test, y_pred))\n",
    "print(\"Precision:\", precision_score(y_test, y_pred))\n",
    "print(\"Recall:\", recall_score(y_test, y_pred))\n",
    "print(\"F1:\", f1_score(y_test, y_pred))\n",
    "print(\"AUC:\", roc_auc_score(y_test, y_pred_prob))"
   ],
   "metadata": {
    "collapsed": false,
    "ExecuteTime": {
     "end_time": "2024-11-01T20:45:32.120508300Z",
     "start_time": "2024-11-01T20:45:25.203722100Z"
    }
   },
   "id": "24c6460e29494d86",
   "execution_count": 16
  },
  {
   "cell_type": "markdown",
   "source": [
    "CHI2"
   ],
   "metadata": {
    "collapsed": false
   },
   "id": "17667f3858c63c3b"
  },
  {
   "cell_type": "code",
   "outputs": [
    {
     "name": "stdout",
     "output_type": "stream",
     "text": [
      "Epoch 1/100\n"
     ]
    },
    {
     "name": "stderr",
     "output_type": "stream",
     "text": [
      "C:\\Python311\\Lib\\site-packages\\keras\\src\\layers\\core\\dense.py:88: UserWarning: Do not pass an `input_shape`/`input_dim` argument to a layer. When using Sequential models, prefer using an `Input(shape)` object as the first layer in the model instead.\n",
      "  super().__init__(activity_regularizer=activity_regularizer, **kwargs)\n"
     ]
    },
    {
     "name": "stdout",
     "output_type": "stream",
     "text": [
      "\u001B[1m20/20\u001B[0m \u001B[32m━━━━━━━━━━━━━━━━━━━━\u001B[0m\u001B[37m\u001B[0m \u001B[1m1s\u001B[0m 8ms/step - accuracy: 0.5974 - loss: 0.6420 - val_accuracy: 0.9193 - val_loss: 0.3288\n",
      "Epoch 2/100\n",
      "\u001B[1m20/20\u001B[0m \u001B[32m━━━━━━━━━━━━━━━━━━━━\u001B[0m\u001B[37m\u001B[0m \u001B[1m0s\u001B[0m 2ms/step - accuracy: 0.8900 - loss: 0.3544 - val_accuracy: 0.9193 - val_loss: 0.2220\n",
      "Epoch 3/100\n",
      "\u001B[1m20/20\u001B[0m \u001B[32m━━━━━━━━━━━━━━━━━━━━\u001B[0m\u001B[37m\u001B[0m \u001B[1m0s\u001B[0m 2ms/step - accuracy: 0.9015 - loss: 0.2583 - val_accuracy: 0.9193 - val_loss: 0.1859\n",
      "Epoch 4/100\n",
      "\u001B[1m20/20\u001B[0m \u001B[32m━━━━━━━━━━━━━━━━━━━━\u001B[0m\u001B[37m\u001B[0m \u001B[1m0s\u001B[0m 2ms/step - accuracy: 0.9218 - loss: 0.1903 - val_accuracy: 0.9317 - val_loss: 0.1413\n",
      "Epoch 5/100\n",
      "\u001B[1m20/20\u001B[0m \u001B[32m━━━━━━━━━━━━━━━━━━━━\u001B[0m\u001B[37m\u001B[0m \u001B[1m0s\u001B[0m 2ms/step - accuracy: 0.9465 - loss: 0.1507 - val_accuracy: 0.9503 - val_loss: 0.1121\n",
      "Epoch 6/100\n",
      "\u001B[1m20/20\u001B[0m \u001B[32m━━━━━━━━━━━━━━━━━━━━\u001B[0m\u001B[37m\u001B[0m \u001B[1m0s\u001B[0m 2ms/step - accuracy: 0.9501 - loss: 0.1350 - val_accuracy: 0.9379 - val_loss: 0.1083\n",
      "Epoch 7/100\n",
      "\u001B[1m20/20\u001B[0m \u001B[32m━━━━━━━━━━━━━━━━━━━━\u001B[0m\u001B[37m\u001B[0m \u001B[1m0s\u001B[0m 2ms/step - accuracy: 0.9624 - loss: 0.1137 - val_accuracy: 0.9441 - val_loss: 0.1022\n",
      "Epoch 8/100\n",
      "\u001B[1m20/20\u001B[0m \u001B[32m━━━━━━━━━━━━━━━━━━━━\u001B[0m\u001B[37m\u001B[0m \u001B[1m0s\u001B[0m 2ms/step - accuracy: 0.9535 - loss: 0.1096 - val_accuracy: 0.9565 - val_loss: 0.0857\n",
      "Epoch 9/100\n",
      "\u001B[1m20/20\u001B[0m \u001B[32m━━━━━━━━━━━━━━━━━━━━\u001B[0m\u001B[37m\u001B[0m \u001B[1m0s\u001B[0m 2ms/step - accuracy: 0.9752 - loss: 0.0766 - val_accuracy: 0.9565 - val_loss: 0.0803\n",
      "Epoch 10/100\n",
      "\u001B[1m20/20\u001B[0m \u001B[32m━━━━━━━━━━━━━━━━━━━━\u001B[0m\u001B[37m\u001B[0m \u001B[1m0s\u001B[0m 2ms/step - accuracy: 0.9772 - loss: 0.0740 - val_accuracy: 0.9689 - val_loss: 0.0777\n",
      "Epoch 11/100\n",
      "\u001B[1m20/20\u001B[0m \u001B[32m━━━━━━━━━━━━━━━━━━━━\u001B[0m\u001B[37m\u001B[0m \u001B[1m0s\u001B[0m 2ms/step - accuracy: 0.9766 - loss: 0.0808 - val_accuracy: 0.9503 - val_loss: 0.0828\n",
      "Epoch 12/100\n",
      "\u001B[1m20/20\u001B[0m \u001B[32m━━━━━━━━━━━━━━━━━━━━\u001B[0m\u001B[37m\u001B[0m \u001B[1m0s\u001B[0m 2ms/step - accuracy: 0.9621 - loss: 0.0834 - val_accuracy: 0.9627 - val_loss: 0.0761\n",
      "Epoch 13/100\n",
      "\u001B[1m20/20\u001B[0m \u001B[32m━━━━━━━━━━━━━━━━━━━━\u001B[0m\u001B[37m\u001B[0m \u001B[1m0s\u001B[0m 2ms/step - accuracy: 0.9777 - loss: 0.0700 - val_accuracy: 0.9503 - val_loss: 0.0847\n",
      "Epoch 14/100\n",
      "\u001B[1m20/20\u001B[0m \u001B[32m━━━━━━━━━━━━━━━━━━━━\u001B[0m\u001B[37m\u001B[0m \u001B[1m0s\u001B[0m 2ms/step - accuracy: 0.9624 - loss: 0.0952 - val_accuracy: 0.9627 - val_loss: 0.0739\n",
      "Epoch 15/100\n",
      "\u001B[1m20/20\u001B[0m \u001B[32m━━━━━━━━━━━━━━━━━━━━\u001B[0m\u001B[37m\u001B[0m \u001B[1m0s\u001B[0m 2ms/step - accuracy: 0.9782 - loss: 0.0588 - val_accuracy: 0.9814 - val_loss: 0.0689\n",
      "Epoch 16/100\n",
      "\u001B[1m20/20\u001B[0m \u001B[32m━━━━━━━━━━━━━━━━━━━━\u001B[0m\u001B[37m\u001B[0m \u001B[1m0s\u001B[0m 2ms/step - accuracy: 0.9715 - loss: 0.0745 - val_accuracy: 0.9503 - val_loss: 0.0942\n",
      "Epoch 17/100\n",
      "\u001B[1m20/20\u001B[0m \u001B[32m━━━━━━━━━━━━━━━━━━━━\u001B[0m\u001B[37m\u001B[0m \u001B[1m0s\u001B[0m 2ms/step - accuracy: 0.9607 - loss: 0.0802 - val_accuracy: 0.9689 - val_loss: 0.0684\n",
      "Epoch 18/100\n",
      "\u001B[1m20/20\u001B[0m \u001B[32m━━━━━━━━━━━━━━━━━━━━\u001B[0m\u001B[37m\u001B[0m \u001B[1m0s\u001B[0m 2ms/step - accuracy: 0.9727 - loss: 0.0652 - val_accuracy: 0.9752 - val_loss: 0.0677\n",
      "Epoch 19/100\n",
      "\u001B[1m20/20\u001B[0m \u001B[32m━━━━━━━━━━━━━━━━━━━━\u001B[0m\u001B[37m\u001B[0m \u001B[1m0s\u001B[0m 2ms/step - accuracy: 0.9758 - loss: 0.0696 - val_accuracy: 0.9565 - val_loss: 0.0730\n",
      "Epoch 20/100\n",
      "\u001B[1m20/20\u001B[0m \u001B[32m━━━━━━━━━━━━━━━━━━━━\u001B[0m\u001B[37m\u001B[0m \u001B[1m0s\u001B[0m 2ms/step - accuracy: 0.9688 - loss: 0.0658 - val_accuracy: 0.9565 - val_loss: 0.0722\n",
      "Epoch 21/100\n",
      "\u001B[1m20/20\u001B[0m \u001B[32m━━━━━━━━━━━━━━━━━━━━\u001B[0m\u001B[37m\u001B[0m \u001B[1m0s\u001B[0m 2ms/step - accuracy: 0.9716 - loss: 0.0790 - val_accuracy: 0.9565 - val_loss: 0.0812\n",
      "Epoch 22/100\n",
      "\u001B[1m20/20\u001B[0m \u001B[32m━━━━━━━━━━━━━━━━━━━━\u001B[0m\u001B[37m\u001B[0m \u001B[1m0s\u001B[0m 2ms/step - accuracy: 0.9722 - loss: 0.0732 - val_accuracy: 0.9565 - val_loss: 0.0818\n",
      "Epoch 23/100\n",
      "\u001B[1m20/20\u001B[0m \u001B[32m━━━━━━━━━━━━━━━━━━━━\u001B[0m\u001B[37m\u001B[0m \u001B[1m0s\u001B[0m 2ms/step - accuracy: 0.9779 - loss: 0.0524 - val_accuracy: 0.9627 - val_loss: 0.0720\n",
      "Epoch 24/100\n",
      "\u001B[1m20/20\u001B[0m \u001B[32m━━━━━━━━━━━━━━━━━━━━\u001B[0m\u001B[37m\u001B[0m \u001B[1m0s\u001B[0m 2ms/step - accuracy: 0.9807 - loss: 0.0486 - val_accuracy: 0.9689 - val_loss: 0.0711\n",
      "Epoch 25/100\n",
      "\u001B[1m20/20\u001B[0m \u001B[32m━━━━━━━━━━━━━━━━━━━━\u001B[0m\u001B[37m\u001B[0m \u001B[1m0s\u001B[0m 2ms/step - accuracy: 0.9834 - loss: 0.0561 - val_accuracy: 0.9565 - val_loss: 0.0785\n",
      "Epoch 26/100\n",
      "\u001B[1m20/20\u001B[0m \u001B[32m━━━━━━━━━━━━━━━━━━━━\u001B[0m\u001B[37m\u001B[0m \u001B[1m0s\u001B[0m 2ms/step - accuracy: 0.9842 - loss: 0.0524 - val_accuracy: 0.9565 - val_loss: 0.0803\n",
      "Epoch 27/100\n",
      "\u001B[1m20/20\u001B[0m \u001B[32m━━━━━━━━━━━━━━━━━━━━\u001B[0m\u001B[37m\u001B[0m \u001B[1m0s\u001B[0m 2ms/step - accuracy: 0.9823 - loss: 0.0559 - val_accuracy: 0.9441 - val_loss: 0.1071\n",
      "Epoch 28/100\n",
      "\u001B[1m20/20\u001B[0m \u001B[32m━━━━━━━━━━━━━━━━━━━━\u001B[0m\u001B[37m\u001B[0m \u001B[1m0s\u001B[0m 2ms/step - accuracy: 0.9686 - loss: 0.0742 - val_accuracy: 0.9503 - val_loss: 0.0979\n",
      "Epoch 29/100\n",
      "\u001B[1m20/20\u001B[0m \u001B[32m━━━━━━━━━━━━━━━━━━━━\u001B[0m\u001B[37m\u001B[0m \u001B[1m0s\u001B[0m 2ms/step - accuracy: 0.9656 - loss: 0.0844 - val_accuracy: 0.9565 - val_loss: 0.0908\n",
      "Epoch 30/100\n",
      "\u001B[1m20/20\u001B[0m \u001B[32m━━━━━━━━━━━━━━━━━━━━\u001B[0m\u001B[37m\u001B[0m \u001B[1m0s\u001B[0m 2ms/step - accuracy: 0.9743 - loss: 0.0632 - val_accuracy: 0.9689 - val_loss: 0.0729\n",
      "Epoch 31/100\n",
      "\u001B[1m20/20\u001B[0m \u001B[32m━━━━━━━━━━━━━━━━━━━━\u001B[0m\u001B[37m\u001B[0m \u001B[1m0s\u001B[0m 2ms/step - accuracy: 0.9796 - loss: 0.0563 - val_accuracy: 0.9689 - val_loss: 0.0711\n",
      "Epoch 32/100\n",
      "\u001B[1m20/20\u001B[0m \u001B[32m━━━━━━━━━━━━━━━━━━━━\u001B[0m\u001B[37m\u001B[0m \u001B[1m0s\u001B[0m 2ms/step - accuracy: 0.9786 - loss: 0.0590 - val_accuracy: 0.9752 - val_loss: 0.0704\n",
      "Epoch 33/100\n",
      "\u001B[1m20/20\u001B[0m \u001B[32m━━━━━━━━━━━━━━━━━━━━\u001B[0m\u001B[37m\u001B[0m \u001B[1m0s\u001B[0m 2ms/step - accuracy: 0.9866 - loss: 0.0509 - val_accuracy: 0.9752 - val_loss: 0.0703\n",
      "Epoch 34/100\n",
      "\u001B[1m20/20\u001B[0m \u001B[32m━━━━━━━━━━━━━━━━━━━━\u001B[0m\u001B[37m\u001B[0m \u001B[1m0s\u001B[0m 2ms/step - accuracy: 0.9828 - loss: 0.0573 - val_accuracy: 0.9752 - val_loss: 0.0698\n",
      "Epoch 35/100\n",
      "\u001B[1m20/20\u001B[0m \u001B[32m━━━━━━━━━━━━━━━━━━━━\u001B[0m\u001B[37m\u001B[0m \u001B[1m0s\u001B[0m 2ms/step - accuracy: 0.9816 - loss: 0.0820 - val_accuracy: 0.9565 - val_loss: 0.0981\n",
      "Epoch 36/100\n",
      "\u001B[1m20/20\u001B[0m \u001B[32m━━━━━━━━━━━━━━━━━━━━\u001B[0m\u001B[37m\u001B[0m \u001B[1m0s\u001B[0m 2ms/step - accuracy: 0.9762 - loss: 0.0561 - val_accuracy: 0.9565 - val_loss: 0.0820\n",
      "Epoch 37/100\n",
      "\u001B[1m20/20\u001B[0m \u001B[32m━━━━━━━━━━━━━━━━━━━━\u001B[0m\u001B[37m\u001B[0m \u001B[1m0s\u001B[0m 2ms/step - accuracy: 0.9891 - loss: 0.0452 - val_accuracy: 0.9689 - val_loss: 0.0724\n",
      "Epoch 38/100\n",
      "\u001B[1m20/20\u001B[0m \u001B[32m━━━━━━━━━━━━━━━━━━━━\u001B[0m\u001B[37m\u001B[0m \u001B[1m0s\u001B[0m 2ms/step - accuracy: 0.9875 - loss: 0.0481 - val_accuracy: 0.9689 - val_loss: 0.0788\n",
      "Epoch 39/100\n",
      "\u001B[1m20/20\u001B[0m \u001B[32m━━━━━━━━━━━━━━━━━━━━\u001B[0m\u001B[37m\u001B[0m \u001B[1m0s\u001B[0m 2ms/step - accuracy: 0.9869 - loss: 0.0437 - val_accuracy: 0.9627 - val_loss: 0.0799\n",
      "Epoch 40/100\n",
      "\u001B[1m20/20\u001B[0m \u001B[32m━━━━━━━━━━━━━━━━━━━━\u001B[0m\u001B[37m\u001B[0m \u001B[1m0s\u001B[0m 2ms/step - accuracy: 0.9773 - loss: 0.0648 - val_accuracy: 0.9627 - val_loss: 0.0877\n",
      "Epoch 41/100\n",
      "\u001B[1m20/20\u001B[0m \u001B[32m━━━━━━━━━━━━━━━━━━━━\u001B[0m\u001B[37m\u001B[0m \u001B[1m0s\u001B[0m 2ms/step - accuracy: 0.9710 - loss: 0.0577 - val_accuracy: 0.9752 - val_loss: 0.0676\n",
      "Epoch 42/100\n",
      "\u001B[1m20/20\u001B[0m \u001B[32m━━━━━━━━━━━━━━━━━━━━\u001B[0m\u001B[37m\u001B[0m \u001B[1m0s\u001B[0m 2ms/step - accuracy: 0.9871 - loss: 0.0373 - val_accuracy: 0.9752 - val_loss: 0.0683\n",
      "Epoch 43/100\n",
      "\u001B[1m20/20\u001B[0m \u001B[32m━━━━━━━━━━━━━━━━━━━━\u001B[0m\u001B[37m\u001B[0m \u001B[1m0s\u001B[0m 2ms/step - accuracy: 0.9857 - loss: 0.0555 - val_accuracy: 0.9565 - val_loss: 0.0882\n",
      "Epoch 44/100\n",
      "\u001B[1m20/20\u001B[0m \u001B[32m━━━━━━━━━━━━━━━━━━━━\u001B[0m\u001B[37m\u001B[0m \u001B[1m0s\u001B[0m 2ms/step - accuracy: 0.9789 - loss: 0.0577 - val_accuracy: 0.9689 - val_loss: 0.0793\n",
      "Epoch 45/100\n",
      "\u001B[1m20/20\u001B[0m \u001B[32m━━━━━━━━━━━━━━━━━━━━\u001B[0m\u001B[37m\u001B[0m \u001B[1m0s\u001B[0m 2ms/step - accuracy: 0.9874 - loss: 0.0375 - val_accuracy: 0.9752 - val_loss: 0.0703\n",
      "Epoch 46/100\n",
      "\u001B[1m20/20\u001B[0m \u001B[32m━━━━━━━━━━━━━━━━━━━━\u001B[0m\u001B[37m\u001B[0m \u001B[1m0s\u001B[0m 2ms/step - accuracy: 0.9777 - loss: 0.0581 - val_accuracy: 0.9689 - val_loss: 0.0770\n",
      "Epoch 47/100\n",
      "\u001B[1m20/20\u001B[0m \u001B[32m━━━━━━━━━━━━━━━━━━━━\u001B[0m\u001B[37m\u001B[0m \u001B[1m0s\u001B[0m 2ms/step - accuracy: 0.9839 - loss: 0.0533 - val_accuracy: 0.9627 - val_loss: 0.0845\n",
      "Epoch 48/100\n",
      "\u001B[1m20/20\u001B[0m \u001B[32m━━━━━━━━━━━━━━━━━━━━\u001B[0m\u001B[37m\u001B[0m \u001B[1m0s\u001B[0m 2ms/step - accuracy: 0.9888 - loss: 0.0374 - val_accuracy: 0.9689 - val_loss: 0.0639\n",
      "Epoch 49/100\n",
      "\u001B[1m20/20\u001B[0m \u001B[32m━━━━━━━━━━━━━━━━━━━━\u001B[0m\u001B[37m\u001B[0m \u001B[1m0s\u001B[0m 2ms/step - accuracy: 0.9852 - loss: 0.0601 - val_accuracy: 0.9565 - val_loss: 0.0936\n",
      "Epoch 50/100\n",
      "\u001B[1m20/20\u001B[0m \u001B[32m━━━━━━━━━━━━━━━━━━━━\u001B[0m\u001B[37m\u001B[0m \u001B[1m0s\u001B[0m 2ms/step - accuracy: 0.9822 - loss: 0.0456 - val_accuracy: 0.9689 - val_loss: 0.0802\n",
      "Epoch 51/100\n",
      "\u001B[1m20/20\u001B[0m \u001B[32m━━━━━━━━━━━━━━━━━━━━\u001B[0m\u001B[37m\u001B[0m \u001B[1m0s\u001B[0m 2ms/step - accuracy: 0.9896 - loss: 0.0328 - val_accuracy: 0.9689 - val_loss: 0.0660\n",
      "Epoch 52/100\n",
      "\u001B[1m20/20\u001B[0m \u001B[32m━━━━━━━━━━━━━━━━━━━━\u001B[0m\u001B[37m\u001B[0m \u001B[1m0s\u001B[0m 2ms/step - accuracy: 0.9818 - loss: 0.0582 - val_accuracy: 0.9565 - val_loss: 0.0949\n",
      "Epoch 53/100\n",
      "\u001B[1m20/20\u001B[0m \u001B[32m━━━━━━━━━━━━━━━━━━━━\u001B[0m\u001B[37m\u001B[0m \u001B[1m0s\u001B[0m 2ms/step - accuracy: 0.9875 - loss: 0.0441 - val_accuracy: 0.9627 - val_loss: 0.0852\n",
      "Epoch 54/100\n",
      "\u001B[1m20/20\u001B[0m \u001B[32m━━━━━━━━━━━━━━━━━━━━\u001B[0m\u001B[37m\u001B[0m \u001B[1m0s\u001B[0m 2ms/step - accuracy: 0.9843 - loss: 0.0394 - val_accuracy: 0.9689 - val_loss: 0.0706\n",
      "Epoch 55/100\n",
      "\u001B[1m20/20\u001B[0m \u001B[32m━━━━━━━━━━━━━━━━━━━━\u001B[0m\u001B[37m\u001B[0m \u001B[1m0s\u001B[0m 2ms/step - accuracy: 0.9779 - loss: 0.0657 - val_accuracy: 0.9689 - val_loss: 0.0735\n",
      "Epoch 56/100\n",
      "\u001B[1m20/20\u001B[0m \u001B[32m━━━━━━━━━━━━━━━━━━━━\u001B[0m\u001B[37m\u001B[0m \u001B[1m0s\u001B[0m 2ms/step - accuracy: 0.9790 - loss: 0.0489 - val_accuracy: 0.9565 - val_loss: 0.0946\n",
      "Epoch 57/100\n",
      "\u001B[1m20/20\u001B[0m \u001B[32m━━━━━━━━━━━━━━━━━━━━\u001B[0m\u001B[37m\u001B[0m \u001B[1m0s\u001B[0m 2ms/step - accuracy: 0.9760 - loss: 0.0538 - val_accuracy: 0.9752 - val_loss: 0.0702\n",
      "Epoch 58/100\n",
      "\u001B[1m20/20\u001B[0m \u001B[32m━━━━━━━━━━━━━━━━━━━━\u001B[0m\u001B[37m\u001B[0m \u001B[1m0s\u001B[0m 2ms/step - accuracy: 0.9860 - loss: 0.0498 - val_accuracy: 0.9627 - val_loss: 0.0825\n",
      "Epoch 59/100\n",
      "\u001B[1m20/20\u001B[0m \u001B[32m━━━━━━━━━━━━━━━━━━━━\u001B[0m\u001B[37m\u001B[0m \u001B[1m0s\u001B[0m 2ms/step - accuracy: 0.9866 - loss: 0.0392 - val_accuracy: 0.9752 - val_loss: 0.0748\n",
      "Epoch 60/100\n",
      "\u001B[1m20/20\u001B[0m \u001B[32m━━━━━━━━━━━━━━━━━━━━\u001B[0m\u001B[37m\u001B[0m \u001B[1m0s\u001B[0m 2ms/step - accuracy: 0.9858 - loss: 0.0523 - val_accuracy: 0.9627 - val_loss: 0.0797\n",
      "Epoch 61/100\n",
      "\u001B[1m20/20\u001B[0m \u001B[32m━━━━━━━━━━━━━━━━━━━━\u001B[0m\u001B[37m\u001B[0m \u001B[1m0s\u001B[0m 2ms/step - accuracy: 0.9888 - loss: 0.0484 - val_accuracy: 0.9565 - val_loss: 0.0915\n",
      "Epoch 62/100\n",
      "\u001B[1m20/20\u001B[0m \u001B[32m━━━━━━━━━━━━━━━━━━━━\u001B[0m\u001B[37m\u001B[0m \u001B[1m0s\u001B[0m 2ms/step - accuracy: 0.9904 - loss: 0.0365 - val_accuracy: 0.9689 - val_loss: 0.0734\n",
      "Epoch 63/100\n",
      "\u001B[1m20/20\u001B[0m \u001B[32m━━━━━━━━━━━━━━━━━━━━\u001B[0m\u001B[37m\u001B[0m \u001B[1m0s\u001B[0m 2ms/step - accuracy: 0.9922 - loss: 0.0354 - val_accuracy: 0.9565 - val_loss: 0.1077\n",
      "Epoch 64/100\n",
      "\u001B[1m20/20\u001B[0m \u001B[32m━━━━━━━━━━━━━━━━━━━━\u001B[0m\u001B[37m\u001B[0m \u001B[1m0s\u001B[0m 2ms/step - accuracy: 0.9873 - loss: 0.0341 - val_accuracy: 0.9689 - val_loss: 0.0707\n",
      "Epoch 65/100\n",
      "\u001B[1m20/20\u001B[0m \u001B[32m━━━━━━━━━━━━━━━━━━━━\u001B[0m\u001B[37m\u001B[0m \u001B[1m0s\u001B[0m 2ms/step - accuracy: 0.9771 - loss: 0.0419 - val_accuracy: 0.9689 - val_loss: 0.0715\n",
      "Epoch 66/100\n",
      "\u001B[1m20/20\u001B[0m \u001B[32m━━━━━━━━━━━━━━━━━━━━\u001B[0m\u001B[37m\u001B[0m \u001B[1m0s\u001B[0m 2ms/step - accuracy: 0.9878 - loss: 0.0396 - val_accuracy: 0.9689 - val_loss: 0.0680\n",
      "Epoch 67/100\n",
      "\u001B[1m20/20\u001B[0m \u001B[32m━━━━━━━━━━━━━━━━━━━━\u001B[0m\u001B[37m\u001B[0m \u001B[1m0s\u001B[0m 2ms/step - accuracy: 0.9835 - loss: 0.0577 - val_accuracy: 0.9565 - val_loss: 0.0907\n",
      "Epoch 68/100\n",
      "\u001B[1m20/20\u001B[0m \u001B[32m━━━━━━━━━━━━━━━━━━━━\u001B[0m\u001B[37m\u001B[0m \u001B[1m0s\u001B[0m 2ms/step - accuracy: 0.9889 - loss: 0.0522 - val_accuracy: 0.9565 - val_loss: 0.0950\n",
      "Epoch 69/100\n",
      "\u001B[1m20/20\u001B[0m \u001B[32m━━━━━━━━━━━━━━━━━━━━\u001B[0m\u001B[37m\u001B[0m \u001B[1m0s\u001B[0m 2ms/step - accuracy: 0.9871 - loss: 0.0458 - val_accuracy: 0.9565 - val_loss: 0.0886\n",
      "Epoch 70/100\n",
      "\u001B[1m20/20\u001B[0m \u001B[32m━━━━━━━━━━━━━━━━━━━━\u001B[0m\u001B[37m\u001B[0m \u001B[1m0s\u001B[0m 2ms/step - accuracy: 0.9813 - loss: 0.0439 - val_accuracy: 0.9689 - val_loss: 0.0724\n",
      "Epoch 71/100\n",
      "\u001B[1m20/20\u001B[0m \u001B[32m━━━━━━━━━━━━━━━━━━━━\u001B[0m\u001B[37m\u001B[0m \u001B[1m0s\u001B[0m 2ms/step - accuracy: 0.9928 - loss: 0.0349 - val_accuracy: 0.9627 - val_loss: 0.0860\n",
      "Epoch 72/100\n",
      "\u001B[1m20/20\u001B[0m \u001B[32m━━━━━━━━━━━━━━━━━━━━\u001B[0m\u001B[37m\u001B[0m \u001B[1m0s\u001B[0m 2ms/step - accuracy: 0.9915 - loss: 0.0456 - val_accuracy: 0.9689 - val_loss: 0.0738\n",
      "Epoch 73/100\n",
      "\u001B[1m20/20\u001B[0m \u001B[32m━━━━━━━━━━━━━━━━━━━━\u001B[0m\u001B[37m\u001B[0m \u001B[1m0s\u001B[0m 2ms/step - accuracy: 0.9884 - loss: 0.0318 - val_accuracy: 0.9627 - val_loss: 0.0849\n",
      "Epoch 74/100\n",
      "\u001B[1m20/20\u001B[0m \u001B[32m━━━━━━━━━━━━━━━━━━━━\u001B[0m\u001B[37m\u001B[0m \u001B[1m0s\u001B[0m 2ms/step - accuracy: 0.9955 - loss: 0.0284 - val_accuracy: 0.9689 - val_loss: 0.0677\n",
      "Epoch 75/100\n",
      "\u001B[1m20/20\u001B[0m \u001B[32m━━━━━━━━━━━━━━━━━━━━\u001B[0m\u001B[37m\u001B[0m \u001B[1m0s\u001B[0m 2ms/step - accuracy: 0.9924 - loss: 0.0414 - val_accuracy: 0.9689 - val_loss: 0.0733\n",
      "Epoch 76/100\n",
      "\u001B[1m20/20\u001B[0m \u001B[32m━━━━━━━━━━━━━━━━━━━━\u001B[0m\u001B[37m\u001B[0m \u001B[1m0s\u001B[0m 2ms/step - accuracy: 0.9786 - loss: 0.0704 - val_accuracy: 0.9627 - val_loss: 0.0820\n",
      "Epoch 77/100\n",
      "\u001B[1m20/20\u001B[0m \u001B[32m━━━━━━━━━━━━━━━━━━━━\u001B[0m\u001B[37m\u001B[0m \u001B[1m0s\u001B[0m 2ms/step - accuracy: 0.9833 - loss: 0.0480 - val_accuracy: 0.9689 - val_loss: 0.0770\n",
      "Epoch 78/100\n",
      "\u001B[1m20/20\u001B[0m \u001B[32m━━━━━━━━━━━━━━━━━━━━\u001B[0m\u001B[37m\u001B[0m \u001B[1m0s\u001B[0m 2ms/step - accuracy: 0.9811 - loss: 0.0487 - val_accuracy: 0.9689 - val_loss: 0.0787\n",
      "Epoch 79/100\n",
      "\u001B[1m20/20\u001B[0m \u001B[32m━━━━━━━━━━━━━━━━━━━━\u001B[0m\u001B[37m\u001B[0m \u001B[1m0s\u001B[0m 2ms/step - accuracy: 0.9901 - loss: 0.0359 - val_accuracy: 0.9627 - val_loss: 0.0876\n",
      "Epoch 80/100\n",
      "\u001B[1m20/20\u001B[0m \u001B[32m━━━━━━━━━━━━━━━━━━━━\u001B[0m\u001B[37m\u001B[0m \u001B[1m0s\u001B[0m 2ms/step - accuracy: 0.9869 - loss: 0.0327 - val_accuracy: 0.9565 - val_loss: 0.0998\n",
      "Epoch 81/100\n",
      "\u001B[1m20/20\u001B[0m \u001B[32m━━━━━━━━━━━━━━━━━━━━\u001B[0m\u001B[37m\u001B[0m \u001B[1m0s\u001B[0m 2ms/step - accuracy: 0.9923 - loss: 0.0340 - val_accuracy: 0.9689 - val_loss: 0.0803\n",
      "Epoch 82/100\n",
      "\u001B[1m20/20\u001B[0m \u001B[32m━━━━━━━━━━━━━━━━━━━━\u001B[0m\u001B[37m\u001B[0m \u001B[1m0s\u001B[0m 2ms/step - accuracy: 0.9907 - loss: 0.0341 - val_accuracy: 0.9565 - val_loss: 0.0886\n",
      "Epoch 83/100\n",
      "\u001B[1m20/20\u001B[0m \u001B[32m━━━━━━━━━━━━━━━━━━━━\u001B[0m\u001B[37m\u001B[0m \u001B[1m0s\u001B[0m 2ms/step - accuracy: 0.9884 - loss: 0.0411 - val_accuracy: 0.9689 - val_loss: 0.0739\n",
      "Epoch 84/100\n",
      "\u001B[1m20/20\u001B[0m \u001B[32m━━━━━━━━━━━━━━━━━━━━\u001B[0m\u001B[37m\u001B[0m \u001B[1m0s\u001B[0m 2ms/step - accuracy: 0.9896 - loss: 0.0376 - val_accuracy: 0.9565 - val_loss: 0.0955\n",
      "Epoch 85/100\n",
      "\u001B[1m20/20\u001B[0m \u001B[32m━━━━━━━━━━━━━━━━━━━━\u001B[0m\u001B[37m\u001B[0m \u001B[1m0s\u001B[0m 2ms/step - accuracy: 0.9818 - loss: 0.0586 - val_accuracy: 0.9565 - val_loss: 0.1189\n",
      "Epoch 86/100\n",
      "\u001B[1m20/20\u001B[0m \u001B[32m━━━━━━━━━━━━━━━━━━━━\u001B[0m\u001B[37m\u001B[0m \u001B[1m0s\u001B[0m 2ms/step - accuracy: 0.9822 - loss: 0.0557 - val_accuracy: 0.9565 - val_loss: 0.1224\n",
      "Epoch 87/100\n",
      "\u001B[1m20/20\u001B[0m \u001B[32m━━━━━━━━━━━━━━━━━━━━\u001B[0m\u001B[37m\u001B[0m \u001B[1m0s\u001B[0m 2ms/step - accuracy: 0.9872 - loss: 0.0455 - val_accuracy: 0.9689 - val_loss: 0.0826\n",
      "Epoch 88/100\n",
      "\u001B[1m20/20\u001B[0m \u001B[32m━━━━━━━━━━━━━━━━━━━━\u001B[0m\u001B[37m\u001B[0m \u001B[1m0s\u001B[0m 2ms/step - accuracy: 0.9879 - loss: 0.0490 - val_accuracy: 0.9565 - val_loss: 0.1117\n",
      "Epoch 89/100\n",
      "\u001B[1m20/20\u001B[0m \u001B[32m━━━━━━━━━━━━━━━━━━━━\u001B[0m\u001B[37m\u001B[0m \u001B[1m0s\u001B[0m 2ms/step - accuracy: 0.9912 - loss: 0.0272 - val_accuracy: 0.9689 - val_loss: 0.0842\n",
      "Epoch 90/100\n",
      "\u001B[1m20/20\u001B[0m \u001B[32m━━━━━━━━━━━━━━━━━━━━\u001B[0m\u001B[37m\u001B[0m \u001B[1m0s\u001B[0m 2ms/step - accuracy: 0.9906 - loss: 0.0413 - val_accuracy: 0.9689 - val_loss: 0.0856\n",
      "Epoch 91/100\n",
      "\u001B[1m20/20\u001B[0m \u001B[32m━━━━━━━━━━━━━━━━━━━━\u001B[0m\u001B[37m\u001B[0m \u001B[1m0s\u001B[0m 2ms/step - accuracy: 0.9932 - loss: 0.0281 - val_accuracy: 0.9565 - val_loss: 0.0945\n",
      "Epoch 92/100\n",
      "\u001B[1m20/20\u001B[0m \u001B[32m━━━━━━━━━━━━━━━━━━━━\u001B[0m\u001B[37m\u001B[0m \u001B[1m0s\u001B[0m 2ms/step - accuracy: 0.9881 - loss: 0.0377 - val_accuracy: 0.9689 - val_loss: 0.0772\n",
      "Epoch 93/100\n",
      "\u001B[1m20/20\u001B[0m \u001B[32m━━━━━━━━━━━━━━━━━━━━\u001B[0m\u001B[37m\u001B[0m \u001B[1m0s\u001B[0m 2ms/step - accuracy: 0.9906 - loss: 0.0258 - val_accuracy: 0.9565 - val_loss: 0.1114\n",
      "Epoch 94/100\n",
      "\u001B[1m20/20\u001B[0m \u001B[32m━━━━━━━━━━━━━━━━━━━━\u001B[0m\u001B[37m\u001B[0m \u001B[1m0s\u001B[0m 2ms/step - accuracy: 0.9963 - loss: 0.0247 - val_accuracy: 0.9689 - val_loss: 0.0835\n",
      "Epoch 95/100\n",
      "\u001B[1m20/20\u001B[0m \u001B[32m━━━━━━━━━━━━━━━━━━━━\u001B[0m\u001B[37m\u001B[0m \u001B[1m0s\u001B[0m 2ms/step - accuracy: 0.9869 - loss: 0.0366 - val_accuracy: 0.9565 - val_loss: 0.0951\n",
      "Epoch 96/100\n",
      "\u001B[1m20/20\u001B[0m \u001B[32m━━━━━━━━━━━━━━━━━━━━\u001B[0m\u001B[37m\u001B[0m \u001B[1m0s\u001B[0m 2ms/step - accuracy: 0.9897 - loss: 0.0502 - val_accuracy: 0.9503 - val_loss: 0.1134\n",
      "Epoch 97/100\n",
      "\u001B[1m20/20\u001B[0m \u001B[32m━━━━━━━━━━━━━━━━━━━━\u001B[0m\u001B[37m\u001B[0m \u001B[1m0s\u001B[0m 2ms/step - accuracy: 0.9903 - loss: 0.0275 - val_accuracy: 0.9565 - val_loss: 0.0943\n",
      "Epoch 98/100\n",
      "\u001B[1m20/20\u001B[0m \u001B[32m━━━━━━━━━━━━━━━━━━━━\u001B[0m\u001B[37m\u001B[0m \u001B[1m0s\u001B[0m 2ms/step - accuracy: 0.9914 - loss: 0.0382 - val_accuracy: 0.9503 - val_loss: 0.1241\n",
      "Epoch 99/100\n",
      "\u001B[1m20/20\u001B[0m \u001B[32m━━━━━━━━━━━━━━━━━━━━\u001B[0m\u001B[37m\u001B[0m \u001B[1m0s\u001B[0m 2ms/step - accuracy: 0.9895 - loss: 0.0470 - val_accuracy: 0.9503 - val_loss: 0.1019\n",
      "Epoch 100/100\n",
      "\u001B[1m20/20\u001B[0m \u001B[32m━━━━━━━━━━━━━━━━━━━━\u001B[0m\u001B[37m\u001B[0m \u001B[1m0s\u001B[0m 2ms/step - accuracy: 0.9928 - loss: 0.0330 - val_accuracy: 0.9689 - val_loss: 0.0864\n",
      "\u001B[1m11/11\u001B[0m \u001B[32m━━━━━━━━━━━━━━━━━━━━\u001B[0m\u001B[37m\u001B[0m \u001B[1m0s\u001B[0m 686us/step - accuracy: 0.9491 - loss: 0.1601\n",
      "Test Accuracy: 0.9622092843055725\n",
      "\u001B[1m11/11\u001B[0m \u001B[32m━━━━━━━━━━━━━━━━━━━━\u001B[0m\u001B[37m\u001B[0m \u001B[1m0s\u001B[0m 3ms/step \n",
      "Accuracy: 0.9622093023255814\n",
      "Precision: 0.7083333333333334\n",
      "Recall: 0.7391304347826086\n",
      "F1: 0.723404255319149\n",
      "AUC: 0.9730461871867804\n"
     ]
    }
   ],
   "source": [
    "\n",
    "RN = Sequential()\n",
    "\n",
    "input_dim = X_train[SAX2Features].shape[1]\n",
    "RN.add(Dense(units=64, activation='relu', input_dim=input_dim))\n",
    "RN.add(Dense(units=32, activation='relu'))\n",
    "RN.add(Dense(units=1, activation='sigmoid'))\n",
    "RN.compile(optimizer=Adam(learning_rate=0.001),\n",
    "           loss=BinaryCrossentropy(),\n",
    "           metrics=['accuracy'])\n",
    "\n",
    "history = RN.fit(X_train[SAX2Features], y_train, epochs=100, batch_size=32, validation_split=0.2)\n",
    "\n",
    "loss, accuracy = RN.evaluate(X_test[SAX2Features], y_test)\n",
    "\n",
    "print(f'Test Accuracy: {accuracy}')\n",
    "y_pred_prob = RN.predict(X_test[SAX2Features])\n",
    "y_pred = (y_pred_prob > 0.5).astype(int)\n",
    "\n",
    "print(\"Accuracy:\", accuracy_score(y_test, y_pred))\n",
    "print(\"Precision:\", precision_score(y_test, y_pred))\n",
    "print(\"Recall:\", recall_score(y_test, y_pred))\n",
    "print(\"F1:\", f1_score(y_test, y_pred))\n",
    "print(\"AUC:\", roc_auc_score(y_test, y_pred_prob))"
   ],
   "metadata": {
    "collapsed": false,
    "ExecuteTime": {
     "end_time": "2024-11-01T20:45:38.549198500Z",
     "start_time": "2024-11-01T20:45:32.121510600Z"
    }
   },
   "id": "18871e152c695a6b",
   "execution_count": 17
  },
  {
   "cell_type": "markdown",
   "source": [
    "RELIEFF"
   ],
   "metadata": {
    "collapsed": false
   },
   "id": "1248f7a794251bcb"
  },
  {
   "cell_type": "code",
   "outputs": [
    {
     "name": "stdout",
     "output_type": "stream",
     "text": [
      "Epoch 1/100\n"
     ]
    },
    {
     "name": "stderr",
     "output_type": "stream",
     "text": [
      "C:\\Python311\\Lib\\site-packages\\keras\\src\\layers\\core\\dense.py:88: UserWarning: Do not pass an `input_shape`/`input_dim` argument to a layer. When using Sequential models, prefer using an `Input(shape)` object as the first layer in the model instead.\n",
      "  super().__init__(activity_regularizer=activity_regularizer, **kwargs)\n"
     ]
    },
    {
     "name": "stdout",
     "output_type": "stream",
     "text": [
      "\u001B[1m20/20\u001B[0m \u001B[32m━━━━━━━━━━━━━━━━━━━━\u001B[0m\u001B[37m\u001B[0m \u001B[1m1s\u001B[0m 7ms/step - accuracy: 0.9025 - loss: 0.4978 - val_accuracy: 0.9193 - val_loss: 0.2467\n",
      "Epoch 2/100\n",
      "\u001B[1m20/20\u001B[0m \u001B[32m━━━━━━━━━━━━━━━━━━━━\u001B[0m\u001B[37m\u001B[0m \u001B[1m0s\u001B[0m 2ms/step - accuracy: 0.9018 - loss: 0.2957 - val_accuracy: 0.9193 - val_loss: 0.2159\n",
      "Epoch 3/100\n",
      "\u001B[1m20/20\u001B[0m \u001B[32m━━━━━━━━━━━━━━━━━━━━\u001B[0m\u001B[37m\u001B[0m \u001B[1m0s\u001B[0m 2ms/step - accuracy: 0.8662 - loss: 0.3059 - val_accuracy: 0.9193 - val_loss: 0.1820\n",
      "Epoch 4/100\n",
      "\u001B[1m20/20\u001B[0m \u001B[32m━━━━━━━━━━━━━━━━━━━━\u001B[0m\u001B[37m\u001B[0m \u001B[1m0s\u001B[0m 2ms/step - accuracy: 0.9091 - loss: 0.2009 - val_accuracy: 0.9255 - val_loss: 0.1504\n",
      "Epoch 5/100\n",
      "\u001B[1m20/20\u001B[0m \u001B[32m━━━━━━━━━━━━━━━━━━━━\u001B[0m\u001B[37m\u001B[0m \u001B[1m0s\u001B[0m 2ms/step - accuracy: 0.9358 - loss: 0.1555 - val_accuracy: 0.9379 - val_loss: 0.1233\n",
      "Epoch 6/100\n",
      "\u001B[1m20/20\u001B[0m \u001B[32m━━━━━━━━━━━━━━━━━━━━\u001B[0m\u001B[37m\u001B[0m \u001B[1m0s\u001B[0m 2ms/step - accuracy: 0.9516 - loss: 0.1231 - val_accuracy: 0.9441 - val_loss: 0.1043\n",
      "Epoch 7/100\n",
      "\u001B[1m20/20\u001B[0m \u001B[32m━━━━━━━━━━━━━━━━━━━━\u001B[0m\u001B[37m\u001B[0m \u001B[1m0s\u001B[0m 2ms/step - accuracy: 0.9571 - loss: 0.1081 - val_accuracy: 0.9503 - val_loss: 0.0941\n",
      "Epoch 8/100\n",
      "\u001B[1m20/20\u001B[0m \u001B[32m━━━━━━━━━━━━━━━━━━━━\u001B[0m\u001B[37m\u001B[0m \u001B[1m0s\u001B[0m 2ms/step - accuracy: 0.9551 - loss: 0.1148 - val_accuracy: 0.9379 - val_loss: 0.0945\n",
      "Epoch 9/100\n",
      "\u001B[1m20/20\u001B[0m \u001B[32m━━━━━━━━━━━━━━━━━━━━\u001B[0m\u001B[37m\u001B[0m \u001B[1m0s\u001B[0m 2ms/step - accuracy: 0.9582 - loss: 0.0980 - val_accuracy: 0.9627 - val_loss: 0.0794\n",
      "Epoch 10/100\n",
      "\u001B[1m20/20\u001B[0m \u001B[32m━━━━━━━━━━━━━━━━━━━━\u001B[0m\u001B[37m\u001B[0m \u001B[1m0s\u001B[0m 2ms/step - accuracy: 0.9618 - loss: 0.0909 - val_accuracy: 0.9689 - val_loss: 0.0758\n",
      "Epoch 11/100\n",
      "\u001B[1m20/20\u001B[0m \u001B[32m━━━━━━━━━━━━━━━━━━━━\u001B[0m\u001B[37m\u001B[0m \u001B[1m0s\u001B[0m 2ms/step - accuracy: 0.9737 - loss: 0.0763 - val_accuracy: 0.9565 - val_loss: 0.0800\n",
      "Epoch 12/100\n",
      "\u001B[1m20/20\u001B[0m \u001B[32m━━━━━━━━━━━━━━━━━━━━\u001B[0m\u001B[37m\u001B[0m \u001B[1m0s\u001B[0m 2ms/step - accuracy: 0.9573 - loss: 0.0962 - val_accuracy: 0.9503 - val_loss: 0.0778\n",
      "Epoch 13/100\n",
      "\u001B[1m20/20\u001B[0m \u001B[32m━━━━━━━━━━━━━━━━━━━━\u001B[0m\u001B[37m\u001B[0m \u001B[1m0s\u001B[0m 2ms/step - accuracy: 0.9731 - loss: 0.0784 - val_accuracy: 0.9689 - val_loss: 0.0690\n",
      "Epoch 14/100\n",
      "\u001B[1m20/20\u001B[0m \u001B[32m━━━━━━━━━━━━━━━━━━━━\u001B[0m\u001B[37m\u001B[0m \u001B[1m0s\u001B[0m 2ms/step - accuracy: 0.9677 - loss: 0.0821 - val_accuracy: 0.9752 - val_loss: 0.0672\n",
      "Epoch 15/100\n",
      "\u001B[1m20/20\u001B[0m \u001B[32m━━━━━━━━━━━━━━━━━━━━\u001B[0m\u001B[37m\u001B[0m \u001B[1m0s\u001B[0m 2ms/step - accuracy: 0.9786 - loss: 0.0578 - val_accuracy: 0.9379 - val_loss: 0.0826\n",
      "Epoch 16/100\n",
      "\u001B[1m20/20\u001B[0m \u001B[32m━━━━━━━━━━━━━━━━━━━━\u001B[0m\u001B[37m\u001B[0m \u001B[1m0s\u001B[0m 2ms/step - accuracy: 0.9765 - loss: 0.0708 - val_accuracy: 0.9565 - val_loss: 0.0737\n",
      "Epoch 17/100\n",
      "\u001B[1m20/20\u001B[0m \u001B[32m━━━━━━━━━━━━━━━━━━━━\u001B[0m\u001B[37m\u001B[0m \u001B[1m0s\u001B[0m 2ms/step - accuracy: 0.9653 - loss: 0.0778 - val_accuracy: 0.9752 - val_loss: 0.0625\n",
      "Epoch 18/100\n",
      "\u001B[1m20/20\u001B[0m \u001B[32m━━━━━━━━━━━━━━━━━━━━\u001B[0m\u001B[37m\u001B[0m \u001B[1m0s\u001B[0m 2ms/step - accuracy: 0.9766 - loss: 0.0682 - val_accuracy: 0.9503 - val_loss: 0.0730\n",
      "Epoch 19/100\n",
      "\u001B[1m20/20\u001B[0m \u001B[32m━━━━━━━━━━━━━━━━━━━━\u001B[0m\u001B[37m\u001B[0m \u001B[1m0s\u001B[0m 2ms/step - accuracy: 0.9569 - loss: 0.0864 - val_accuracy: 0.9814 - val_loss: 0.0621\n",
      "Epoch 20/100\n",
      "\u001B[1m20/20\u001B[0m \u001B[32m━━━━━━━━━━━━━━━━━━━━\u001B[0m\u001B[37m\u001B[0m \u001B[1m0s\u001B[0m 2ms/step - accuracy: 0.9779 - loss: 0.0551 - val_accuracy: 0.9814 - val_loss: 0.0621\n",
      "Epoch 21/100\n",
      "\u001B[1m20/20\u001B[0m \u001B[32m━━━━━━━━━━━━━━━━━━━━\u001B[0m\u001B[37m\u001B[0m \u001B[1m0s\u001B[0m 2ms/step - accuracy: 0.9826 - loss: 0.0543 - val_accuracy: 0.9814 - val_loss: 0.0565\n",
      "Epoch 22/100\n",
      "\u001B[1m20/20\u001B[0m \u001B[32m━━━━━━━━━━━━━━━━━━━━\u001B[0m\u001B[37m\u001B[0m \u001B[1m0s\u001B[0m 2ms/step - accuracy: 0.9600 - loss: 0.0888 - val_accuracy: 0.9752 - val_loss: 0.0617\n",
      "Epoch 23/100\n",
      "\u001B[1m20/20\u001B[0m \u001B[32m━━━━━━━━━━━━━━━━━━━━\u001B[0m\u001B[37m\u001B[0m \u001B[1m0s\u001B[0m 2ms/step - accuracy: 0.9653 - loss: 0.0730 - val_accuracy: 0.9876 - val_loss: 0.0575\n",
      "Epoch 24/100\n",
      "\u001B[1m20/20\u001B[0m \u001B[32m━━━━━━━━━━━━━━━━━━━━\u001B[0m\u001B[37m\u001B[0m \u001B[1m0s\u001B[0m 2ms/step - accuracy: 0.9863 - loss: 0.0449 - val_accuracy: 0.9814 - val_loss: 0.0543\n",
      "Epoch 25/100\n",
      "\u001B[1m20/20\u001B[0m \u001B[32m━━━━━━━━━━━━━━━━━━━━\u001B[0m\u001B[37m\u001B[0m \u001B[1m0s\u001B[0m 2ms/step - accuracy: 0.9797 - loss: 0.0539 - val_accuracy: 0.9814 - val_loss: 0.0545\n",
      "Epoch 26/100\n",
      "\u001B[1m20/20\u001B[0m \u001B[32m━━━━━━━━━━━━━━━━━━━━\u001B[0m\u001B[37m\u001B[0m \u001B[1m0s\u001B[0m 2ms/step - accuracy: 0.9809 - loss: 0.0584 - val_accuracy: 0.9814 - val_loss: 0.0531\n",
      "Epoch 27/100\n",
      "\u001B[1m20/20\u001B[0m \u001B[32m━━━━━━━━━━━━━━━━━━━━\u001B[0m\u001B[37m\u001B[0m \u001B[1m0s\u001B[0m 2ms/step - accuracy: 0.9831 - loss: 0.0627 - val_accuracy: 0.9441 - val_loss: 0.0716\n",
      "Epoch 28/100\n",
      "\u001B[1m20/20\u001B[0m \u001B[32m━━━━━━━━━━━━━━━━━━━━\u001B[0m\u001B[37m\u001B[0m \u001B[1m0s\u001B[0m 2ms/step - accuracy: 0.9810 - loss: 0.0500 - val_accuracy: 0.9814 - val_loss: 0.0557\n",
      "Epoch 29/100\n",
      "\u001B[1m20/20\u001B[0m \u001B[32m━━━━━━━━━━━━━━━━━━━━\u001B[0m\u001B[37m\u001B[0m \u001B[1m0s\u001B[0m 3ms/step - accuracy: 0.9824 - loss: 0.0424 - val_accuracy: 0.9814 - val_loss: 0.0517\n",
      "Epoch 30/100\n",
      "\u001B[1m20/20\u001B[0m \u001B[32m━━━━━━━━━━━━━━━━━━━━\u001B[0m\u001B[37m\u001B[0m \u001B[1m0s\u001B[0m 2ms/step - accuracy: 0.9694 - loss: 0.0705 - val_accuracy: 0.9627 - val_loss: 0.0682\n",
      "Epoch 31/100\n",
      "\u001B[1m20/20\u001B[0m \u001B[32m━━━━━━━━━━━━━━━━━━━━\u001B[0m\u001B[37m\u001B[0m \u001B[1m0s\u001B[0m 2ms/step - accuracy: 0.9710 - loss: 0.0786 - val_accuracy: 0.9627 - val_loss: 0.0650\n",
      "Epoch 32/100\n",
      "\u001B[1m20/20\u001B[0m \u001B[32m━━━━━━━━━━━━━━━━━━━━\u001B[0m\u001B[37m\u001B[0m \u001B[1m0s\u001B[0m 2ms/step - accuracy: 0.9783 - loss: 0.0544 - val_accuracy: 0.9876 - val_loss: 0.0499\n",
      "Epoch 33/100\n",
      "\u001B[1m20/20\u001B[0m \u001B[32m━━━━━━━━━━━━━━━━━━━━\u001B[0m\u001B[37m\u001B[0m \u001B[1m0s\u001B[0m 2ms/step - accuracy: 0.9858 - loss: 0.0489 - val_accuracy: 0.9752 - val_loss: 0.0566\n",
      "Epoch 34/100\n",
      "\u001B[1m20/20\u001B[0m \u001B[32m━━━━━━━━━━━━━━━━━━━━\u001B[0m\u001B[37m\u001B[0m \u001B[1m0s\u001B[0m 2ms/step - accuracy: 0.9828 - loss: 0.0598 - val_accuracy: 0.9752 - val_loss: 0.0605\n",
      "Epoch 35/100\n",
      "\u001B[1m20/20\u001B[0m \u001B[32m━━━━━━━━━━━━━━━━━━━━\u001B[0m\u001B[37m\u001B[0m \u001B[1m0s\u001B[0m 2ms/step - accuracy: 0.9828 - loss: 0.0473 - val_accuracy: 0.9814 - val_loss: 0.0547\n",
      "Epoch 36/100\n",
      "\u001B[1m20/20\u001B[0m \u001B[32m━━━━━━━━━━━━━━━━━━━━\u001B[0m\u001B[37m\u001B[0m \u001B[1m0s\u001B[0m 2ms/step - accuracy: 0.9826 - loss: 0.0458 - val_accuracy: 0.9814 - val_loss: 0.0548\n",
      "Epoch 37/100\n",
      "\u001B[1m20/20\u001B[0m \u001B[32m━━━━━━━━━━━━━━━━━━━━\u001B[0m\u001B[37m\u001B[0m \u001B[1m0s\u001B[0m 2ms/step - accuracy: 0.9822 - loss: 0.0469 - val_accuracy: 0.9814 - val_loss: 0.0507\n",
      "Epoch 38/100\n",
      "\u001B[1m20/20\u001B[0m \u001B[32m━━━━━━━━━━━━━━━━━━━━\u001B[0m\u001B[37m\u001B[0m \u001B[1m0s\u001B[0m 2ms/step - accuracy: 0.9884 - loss: 0.0402 - val_accuracy: 0.9814 - val_loss: 0.0569\n",
      "Epoch 39/100\n",
      "\u001B[1m20/20\u001B[0m \u001B[32m━━━━━━━━━━━━━━━━━━━━\u001B[0m\u001B[37m\u001B[0m \u001B[1m0s\u001B[0m 2ms/step - accuracy: 0.9760 - loss: 0.0615 - val_accuracy: 0.9814 - val_loss: 0.0530\n",
      "Epoch 40/100\n",
      "\u001B[1m20/20\u001B[0m \u001B[32m━━━━━━━━━━━━━━━━━━━━\u001B[0m\u001B[37m\u001B[0m \u001B[1m0s\u001B[0m 2ms/step - accuracy: 0.9776 - loss: 0.0639 - val_accuracy: 0.9814 - val_loss: 0.0541\n",
      "Epoch 41/100\n",
      "\u001B[1m20/20\u001B[0m \u001B[32m━━━━━━━━━━━━━━━━━━━━\u001B[0m\u001B[37m\u001B[0m \u001B[1m0s\u001B[0m 2ms/step - accuracy: 0.9857 - loss: 0.0409 - val_accuracy: 0.9565 - val_loss: 0.0629\n",
      "Epoch 42/100\n",
      "\u001B[1m20/20\u001B[0m \u001B[32m━━━━━━━━━━━━━━━━━━━━\u001B[0m\u001B[37m\u001B[0m \u001B[1m0s\u001B[0m 2ms/step - accuracy: 0.9827 - loss: 0.0466 - val_accuracy: 0.9627 - val_loss: 0.0627\n",
      "Epoch 43/100\n",
      "\u001B[1m20/20\u001B[0m \u001B[32m━━━━━━━━━━━━━━━━━━━━\u001B[0m\u001B[37m\u001B[0m \u001B[1m0s\u001B[0m 2ms/step - accuracy: 0.9891 - loss: 0.0547 - val_accuracy: 0.9565 - val_loss: 0.0646\n",
      "Epoch 44/100\n",
      "\u001B[1m20/20\u001B[0m \u001B[32m━━━━━━━━━━━━━━━━━━━━\u001B[0m\u001B[37m\u001B[0m \u001B[1m0s\u001B[0m 2ms/step - accuracy: 0.9834 - loss: 0.0488 - val_accuracy: 0.9814 - val_loss: 0.0538\n",
      "Epoch 45/100\n",
      "\u001B[1m20/20\u001B[0m \u001B[32m━━━━━━━━━━━━━━━━━━━━\u001B[0m\u001B[37m\u001B[0m \u001B[1m0s\u001B[0m 2ms/step - accuracy: 0.9817 - loss: 0.0580 - val_accuracy: 0.9627 - val_loss: 0.0601\n",
      "Epoch 46/100\n",
      "\u001B[1m20/20\u001B[0m \u001B[32m━━━━━━━━━━━━━━━━━━━━\u001B[0m\u001B[37m\u001B[0m \u001B[1m0s\u001B[0m 2ms/step - accuracy: 0.9863 - loss: 0.0397 - val_accuracy: 0.9752 - val_loss: 0.0477\n",
      "Epoch 47/100\n",
      "\u001B[1m20/20\u001B[0m \u001B[32m━━━━━━━━━━━━━━━━━━━━\u001B[0m\u001B[37m\u001B[0m \u001B[1m0s\u001B[0m 2ms/step - accuracy: 0.9836 - loss: 0.0506 - val_accuracy: 0.9752 - val_loss: 0.0494\n",
      "Epoch 48/100\n",
      "\u001B[1m20/20\u001B[0m \u001B[32m━━━━━━━━━━━━━━━━━━━━\u001B[0m\u001B[37m\u001B[0m \u001B[1m0s\u001B[0m 2ms/step - accuracy: 0.9935 - loss: 0.0335 - val_accuracy: 0.9814 - val_loss: 0.0518\n",
      "Epoch 49/100\n",
      "\u001B[1m20/20\u001B[0m \u001B[32m━━━━━━━━━━━━━━━━━━━━\u001B[0m\u001B[37m\u001B[0m \u001B[1m0s\u001B[0m 2ms/step - accuracy: 0.9910 - loss: 0.0315 - val_accuracy: 0.9814 - val_loss: 0.0534\n",
      "Epoch 50/100\n",
      "\u001B[1m20/20\u001B[0m \u001B[32m━━━━━━━━━━━━━━━━━━━━\u001B[0m\u001B[37m\u001B[0m \u001B[1m0s\u001B[0m 2ms/step - accuracy: 0.9827 - loss: 0.0456 - val_accuracy: 0.9752 - val_loss: 0.0494\n",
      "Epoch 51/100\n",
      "\u001B[1m20/20\u001B[0m \u001B[32m━━━━━━━━━━━━━━━━━━━━\u001B[0m\u001B[37m\u001B[0m \u001B[1m0s\u001B[0m 2ms/step - accuracy: 0.9934 - loss: 0.0380 - val_accuracy: 0.9814 - val_loss: 0.0531\n",
      "Epoch 52/100\n",
      "\u001B[1m20/20\u001B[0m \u001B[32m━━━━━━━━━━━━━━━━━━━━\u001B[0m\u001B[37m\u001B[0m \u001B[1m0s\u001B[0m 2ms/step - accuracy: 0.9940 - loss: 0.0287 - val_accuracy: 0.9752 - val_loss: 0.0492\n",
      "Epoch 53/100\n",
      "\u001B[1m20/20\u001B[0m \u001B[32m━━━━━━━━━━━━━━━━━━━━\u001B[0m\u001B[37m\u001B[0m \u001B[1m0s\u001B[0m 2ms/step - accuracy: 0.9856 - loss: 0.0375 - val_accuracy: 0.9752 - val_loss: 0.0483\n",
      "Epoch 54/100\n",
      "\u001B[1m20/20\u001B[0m \u001B[32m━━━━━━━━━━━━━━━━━━━━\u001B[0m\u001B[37m\u001B[0m \u001B[1m0s\u001B[0m 2ms/step - accuracy: 0.9913 - loss: 0.0367 - val_accuracy: 0.9503 - val_loss: 0.0690\n",
      "Epoch 55/100\n",
      "\u001B[1m20/20\u001B[0m \u001B[32m━━━━━━━━━━━━━━━━━━━━\u001B[0m\u001B[37m\u001B[0m \u001B[1m0s\u001B[0m 2ms/step - accuracy: 0.9906 - loss: 0.0356 - val_accuracy: 0.9565 - val_loss: 0.0607\n",
      "Epoch 56/100\n",
      "\u001B[1m20/20\u001B[0m \u001B[32m━━━━━━━━━━━━━━━━━━━━\u001B[0m\u001B[37m\u001B[0m \u001B[1m0s\u001B[0m 2ms/step - accuracy: 0.9922 - loss: 0.0276 - val_accuracy: 0.9752 - val_loss: 0.0488\n",
      "Epoch 57/100\n",
      "\u001B[1m20/20\u001B[0m \u001B[32m━━━━━━━━━━━━━━━━━━━━\u001B[0m\u001B[37m\u001B[0m \u001B[1m0s\u001B[0m 2ms/step - accuracy: 0.9869 - loss: 0.0422 - val_accuracy: 0.9814 - val_loss: 0.0555\n",
      "Epoch 58/100\n",
      "\u001B[1m20/20\u001B[0m \u001B[32m━━━━━━━━━━━━━━━━━━━━\u001B[0m\u001B[37m\u001B[0m \u001B[1m0s\u001B[0m 2ms/step - accuracy: 0.9892 - loss: 0.0349 - val_accuracy: 0.9752 - val_loss: 0.0496\n",
      "Epoch 59/100\n",
      "\u001B[1m20/20\u001B[0m \u001B[32m━━━━━━━━━━━━━━━━━━━━\u001B[0m\u001B[37m\u001B[0m \u001B[1m0s\u001B[0m 2ms/step - accuracy: 0.9752 - loss: 0.0523 - val_accuracy: 0.9814 - val_loss: 0.0539\n",
      "Epoch 60/100\n",
      "\u001B[1m20/20\u001B[0m \u001B[32m━━━━━━━━━━━━━━━━━━━━\u001B[0m\u001B[37m\u001B[0m \u001B[1m0s\u001B[0m 2ms/step - accuracy: 0.9863 - loss: 0.0458 - val_accuracy: 0.9752 - val_loss: 0.0492\n",
      "Epoch 61/100\n",
      "\u001B[1m20/20\u001B[0m \u001B[32m━━━━━━━━━━━━━━━━━━━━\u001B[0m\u001B[37m\u001B[0m \u001B[1m0s\u001B[0m 2ms/step - accuracy: 0.9909 - loss: 0.0416 - val_accuracy: 0.9503 - val_loss: 0.0722\n",
      "Epoch 62/100\n",
      "\u001B[1m20/20\u001B[0m \u001B[32m━━━━━━━━━━━━━━━━━━━━\u001B[0m\u001B[37m\u001B[0m \u001B[1m0s\u001B[0m 2ms/step - accuracy: 0.9780 - loss: 0.0679 - val_accuracy: 0.9689 - val_loss: 0.0606\n",
      "Epoch 63/100\n",
      "\u001B[1m20/20\u001B[0m \u001B[32m━━━━━━━━━━━━━━━━━━━━\u001B[0m\u001B[37m\u001B[0m \u001B[1m0s\u001B[0m 2ms/step - accuracy: 0.9906 - loss: 0.0409 - val_accuracy: 0.9503 - val_loss: 0.0672\n",
      "Epoch 64/100\n",
      "\u001B[1m20/20\u001B[0m \u001B[32m━━━━━━━━━━━━━━━━━━━━\u001B[0m\u001B[37m\u001B[0m \u001B[1m0s\u001B[0m 2ms/step - accuracy: 0.9812 - loss: 0.0455 - val_accuracy: 0.9627 - val_loss: 0.0604\n",
      "Epoch 65/100\n",
      "\u001B[1m20/20\u001B[0m \u001B[32m━━━━━━━━━━━━━━━━━━━━\u001B[0m\u001B[37m\u001B[0m \u001B[1m0s\u001B[0m 2ms/step - accuracy: 0.9932 - loss: 0.0332 - val_accuracy: 0.9752 - val_loss: 0.0524\n",
      "Epoch 66/100\n",
      "\u001B[1m20/20\u001B[0m \u001B[32m━━━━━━━━━━━━━━━━━━━━\u001B[0m\u001B[37m\u001B[0m \u001B[1m0s\u001B[0m 2ms/step - accuracy: 0.9952 - loss: 0.0329 - val_accuracy: 0.9752 - val_loss: 0.0498\n",
      "Epoch 67/100\n",
      "\u001B[1m20/20\u001B[0m \u001B[32m━━━━━━━━━━━━━━━━━━━━\u001B[0m\u001B[37m\u001B[0m \u001B[1m0s\u001B[0m 2ms/step - accuracy: 0.9919 - loss: 0.0313 - val_accuracy: 0.9752 - val_loss: 0.0550\n",
      "Epoch 68/100\n",
      "\u001B[1m20/20\u001B[0m \u001B[32m━━━━━━━━━━━━━━━━━━━━\u001B[0m\u001B[37m\u001B[0m \u001B[1m0s\u001B[0m 2ms/step - accuracy: 0.9893 - loss: 0.0349 - val_accuracy: 0.9752 - val_loss: 0.0494\n",
      "Epoch 69/100\n",
      "\u001B[1m20/20\u001B[0m \u001B[32m━━━━━━━━━━━━━━━━━━━━\u001B[0m\u001B[37m\u001B[0m \u001B[1m0s\u001B[0m 2ms/step - accuracy: 0.9826 - loss: 0.0400 - val_accuracy: 0.9752 - val_loss: 0.0523\n",
      "Epoch 70/100\n",
      "\u001B[1m20/20\u001B[0m \u001B[32m━━━━━━━━━━━━━━━━━━━━\u001B[0m\u001B[37m\u001B[0m \u001B[1m0s\u001B[0m 2ms/step - accuracy: 0.9876 - loss: 0.0485 - val_accuracy: 0.9752 - val_loss: 0.0519\n",
      "Epoch 71/100\n",
      "\u001B[1m20/20\u001B[0m \u001B[32m━━━━━━━━━━━━━━━━━━━━\u001B[0m\u001B[37m\u001B[0m \u001B[1m0s\u001B[0m 2ms/step - accuracy: 0.9879 - loss: 0.0459 - val_accuracy: 0.9752 - val_loss: 0.0520\n",
      "Epoch 72/100\n",
      "\u001B[1m20/20\u001B[0m \u001B[32m━━━━━━━━━━━━━━━━━━━━\u001B[0m\u001B[37m\u001B[0m \u001B[1m0s\u001B[0m 2ms/step - accuracy: 0.9875 - loss: 0.0531 - val_accuracy: 0.9627 - val_loss: 0.0633\n",
      "Epoch 73/100\n",
      "\u001B[1m20/20\u001B[0m \u001B[32m━━━━━━━━━━━━━━━━━━━━\u001B[0m\u001B[37m\u001B[0m \u001B[1m0s\u001B[0m 2ms/step - accuracy: 0.9910 - loss: 0.0316 - val_accuracy: 0.9752 - val_loss: 0.0599\n",
      "Epoch 74/100\n",
      "\u001B[1m20/20\u001B[0m \u001B[32m━━━━━━━━━━━━━━━━━━━━\u001B[0m\u001B[37m\u001B[0m \u001B[1m0s\u001B[0m 2ms/step - accuracy: 0.9890 - loss: 0.0288 - val_accuracy: 0.9752 - val_loss: 0.0511\n",
      "Epoch 75/100\n",
      "\u001B[1m20/20\u001B[0m \u001B[32m━━━━━━━━━━━━━━━━━━━━\u001B[0m\u001B[37m\u001B[0m \u001B[1m0s\u001B[0m 2ms/step - accuracy: 0.9760 - loss: 0.0646 - val_accuracy: 0.9752 - val_loss: 0.0553\n",
      "Epoch 76/100\n",
      "\u001B[1m20/20\u001B[0m \u001B[32m━━━━━━━━━━━━━━━━━━━━\u001B[0m\u001B[37m\u001B[0m \u001B[1m0s\u001B[0m 2ms/step - accuracy: 0.9979 - loss: 0.0250 - val_accuracy: 0.9689 - val_loss: 0.0593\n",
      "Epoch 77/100\n",
      "\u001B[1m20/20\u001B[0m \u001B[32m━━━━━━━━━━━━━━━━━━━━\u001B[0m\u001B[37m\u001B[0m \u001B[1m0s\u001B[0m 2ms/step - accuracy: 0.9907 - loss: 0.0400 - val_accuracy: 0.9689 - val_loss: 0.0600\n",
      "Epoch 78/100\n",
      "\u001B[1m20/20\u001B[0m \u001B[32m━━━━━━━━━━━━━━━━━━━━\u001B[0m\u001B[37m\u001B[0m \u001B[1m0s\u001B[0m 2ms/step - accuracy: 0.9931 - loss: 0.0321 - val_accuracy: 0.9752 - val_loss: 0.0526\n",
      "Epoch 79/100\n",
      "\u001B[1m20/20\u001B[0m \u001B[32m━━━━━━━━━━━━━━━━━━━━\u001B[0m\u001B[37m\u001B[0m \u001B[1m0s\u001B[0m 2ms/step - accuracy: 0.9938 - loss: 0.0226 - val_accuracy: 0.9689 - val_loss: 0.0612\n",
      "Epoch 80/100\n",
      "\u001B[1m20/20\u001B[0m \u001B[32m━━━━━━━━━━━━━━━━━━━━\u001B[0m\u001B[37m\u001B[0m \u001B[1m0s\u001B[0m 2ms/step - accuracy: 0.9974 - loss: 0.0266 - val_accuracy: 0.9441 - val_loss: 0.0782\n",
      "Epoch 81/100\n",
      "\u001B[1m20/20\u001B[0m \u001B[32m━━━━━━━━━━━━━━━━━━━━\u001B[0m\u001B[37m\u001B[0m \u001B[1m0s\u001B[0m 2ms/step - accuracy: 0.9842 - loss: 0.0440 - val_accuracy: 0.9752 - val_loss: 0.0523\n",
      "Epoch 82/100\n",
      "\u001B[1m20/20\u001B[0m \u001B[32m━━━━━━━━━━━━━━━━━━━━\u001B[0m\u001B[37m\u001B[0m \u001B[1m0s\u001B[0m 2ms/step - accuracy: 0.9868 - loss: 0.0419 - val_accuracy: 0.9627 - val_loss: 0.0643\n",
      "Epoch 83/100\n",
      "\u001B[1m20/20\u001B[0m \u001B[32m━━━━━━━━━━━━━━━━━━━━\u001B[0m\u001B[37m\u001B[0m \u001B[1m0s\u001B[0m 2ms/step - accuracy: 0.9939 - loss: 0.0318 - val_accuracy: 0.9503 - val_loss: 0.0793\n",
      "Epoch 84/100\n",
      "\u001B[1m20/20\u001B[0m \u001B[32m━━━━━━━━━━━━━━━━━━━━\u001B[0m\u001B[37m\u001B[0m \u001B[1m0s\u001B[0m 2ms/step - accuracy: 0.9892 - loss: 0.0338 - val_accuracy: 0.9503 - val_loss: 0.0794\n",
      "Epoch 85/100\n",
      "\u001B[1m20/20\u001B[0m \u001B[32m━━━━━━━━━━━━━━━━━━━━\u001B[0m\u001B[37m\u001B[0m \u001B[1m0s\u001B[0m 2ms/step - accuracy: 0.9927 - loss: 0.0253 - val_accuracy: 0.9565 - val_loss: 0.0763\n",
      "Epoch 86/100\n",
      "\u001B[1m20/20\u001B[0m \u001B[32m━━━━━━━━━━━━━━━━━━━━\u001B[0m\u001B[37m\u001B[0m \u001B[1m0s\u001B[0m 2ms/step - accuracy: 0.9917 - loss: 0.0285 - val_accuracy: 0.9689 - val_loss: 0.0664\n",
      "Epoch 87/100\n",
      "\u001B[1m20/20\u001B[0m \u001B[32m━━━━━━━━━━━━━━━━━━━━\u001B[0m\u001B[37m\u001B[0m \u001B[1m0s\u001B[0m 2ms/step - accuracy: 0.9936 - loss: 0.0251 - val_accuracy: 0.9627 - val_loss: 0.0717\n",
      "Epoch 88/100\n",
      "\u001B[1m20/20\u001B[0m \u001B[32m━━━━━━━━━━━━━━━━━━━━\u001B[0m\u001B[37m\u001B[0m \u001B[1m0s\u001B[0m 2ms/step - accuracy: 0.9866 - loss: 0.0320 - val_accuracy: 0.9689 - val_loss: 0.0591\n",
      "Epoch 89/100\n",
      "\u001B[1m20/20\u001B[0m \u001B[32m━━━━━━━━━━━━━━━━━━━━\u001B[0m\u001B[37m\u001B[0m \u001B[1m0s\u001B[0m 2ms/step - accuracy: 0.9908 - loss: 0.0360 - val_accuracy: 0.9752 - val_loss: 0.0632\n",
      "Epoch 90/100\n",
      "\u001B[1m20/20\u001B[0m \u001B[32m━━━━━━━━━━━━━━━━━━━━\u001B[0m\u001B[37m\u001B[0m \u001B[1m0s\u001B[0m 2ms/step - accuracy: 0.9851 - loss: 0.0408 - val_accuracy: 0.9689 - val_loss: 0.0665\n",
      "Epoch 91/100\n",
      "\u001B[1m20/20\u001B[0m \u001B[32m━━━━━━━━━━━━━━━━━━━━\u001B[0m\u001B[37m\u001B[0m \u001B[1m0s\u001B[0m 2ms/step - accuracy: 0.9910 - loss: 0.0322 - val_accuracy: 0.9752 - val_loss: 0.0616\n",
      "Epoch 92/100\n",
      "\u001B[1m20/20\u001B[0m \u001B[32m━━━━━━━━━━━━━━━━━━━━\u001B[0m\u001B[37m\u001B[0m \u001B[1m0s\u001B[0m 2ms/step - accuracy: 0.9915 - loss: 0.0250 - val_accuracy: 0.9627 - val_loss: 0.0704\n",
      "Epoch 93/100\n",
      "\u001B[1m20/20\u001B[0m \u001B[32m━━━━━━━━━━━━━━━━━━━━\u001B[0m\u001B[37m\u001B[0m \u001B[1m0s\u001B[0m 2ms/step - accuracy: 0.9933 - loss: 0.0288 - val_accuracy: 0.9565 - val_loss: 0.0815\n",
      "Epoch 94/100\n",
      "\u001B[1m20/20\u001B[0m \u001B[32m━━━━━━━━━━━━━━━━━━━━\u001B[0m\u001B[37m\u001B[0m \u001B[1m0s\u001B[0m 2ms/step - accuracy: 0.9949 - loss: 0.0264 - val_accuracy: 0.9689 - val_loss: 0.0689\n",
      "Epoch 95/100\n",
      "\u001B[1m20/20\u001B[0m \u001B[32m━━━━━━━━━━━━━━━━━━━━\u001B[0m\u001B[37m\u001B[0m \u001B[1m0s\u001B[0m 2ms/step - accuracy: 0.9946 - loss: 0.0273 - val_accuracy: 0.9565 - val_loss: 0.0846\n",
      "Epoch 96/100\n",
      "\u001B[1m20/20\u001B[0m \u001B[32m━━━━━━━━━━━━━━━━━━━━\u001B[0m\u001B[37m\u001B[0m \u001B[1m0s\u001B[0m 2ms/step - accuracy: 0.9928 - loss: 0.0224 - val_accuracy: 0.9752 - val_loss: 0.0676\n",
      "Epoch 97/100\n",
      "\u001B[1m20/20\u001B[0m \u001B[32m━━━━━━━━━━━━━━━━━━━━\u001B[0m\u001B[37m\u001B[0m \u001B[1m0s\u001B[0m 2ms/step - accuracy: 0.9902 - loss: 0.0313 - val_accuracy: 0.9503 - val_loss: 0.0871\n",
      "Epoch 98/100\n",
      "\u001B[1m20/20\u001B[0m \u001B[32m━━━━━━━━━━━━━━━━━━━━\u001B[0m\u001B[37m\u001B[0m \u001B[1m0s\u001B[0m 2ms/step - accuracy: 0.9911 - loss: 0.0272 - val_accuracy: 0.9627 - val_loss: 0.0746\n",
      "Epoch 99/100\n",
      "\u001B[1m20/20\u001B[0m \u001B[32m━━━━━━━━━━━━━━━━━━━━\u001B[0m\u001B[37m\u001B[0m \u001B[1m0s\u001B[0m 2ms/step - accuracy: 0.9923 - loss: 0.0221 - val_accuracy: 0.9627 - val_loss: 0.0821\n",
      "Epoch 100/100\n",
      "\u001B[1m20/20\u001B[0m \u001B[32m━━━━━━━━━━━━━━━━━━━━\u001B[0m\u001B[37m\u001B[0m \u001B[1m0s\u001B[0m 2ms/step - accuracy: 0.9934 - loss: 0.0202 - val_accuracy: 0.9627 - val_loss: 0.0822\n",
      "\u001B[1m11/11\u001B[0m \u001B[32m━━━━━━━━━━━━━━━━━━━━\u001B[0m\u001B[37m\u001B[0m \u001B[1m0s\u001B[0m 761us/step - accuracy: 0.9456 - loss: 0.2001\n",
      "Test Accuracy: 0.9593023061752319\n",
      "\u001B[1m11/11\u001B[0m \u001B[32m━━━━━━━━━━━━━━━━━━━━\u001B[0m\u001B[37m\u001B[0m \u001B[1m0s\u001B[0m 3ms/step \n",
      "Accuracy: 0.9593023255813954\n",
      "Precision: 0.7142857142857143\n",
      "Recall: 0.6521739130434783\n",
      "F1: 0.6818181818181818\n",
      "AUC: 0.9742652038466748\n"
     ]
    }
   ],
   "source": [
    "RN = Sequential()\n",
    "\n",
    "input_dim = X_train[SARFFeatures].shape[1]\n",
    "RN.add(Dense(units=64, activation='relu', input_dim=input_dim))\n",
    "RN.add(Dense(units=32, activation='relu'))\n",
    "RN.add(Dense(units=1, activation='sigmoid'))\n",
    "RN.compile(optimizer=Adam(learning_rate=0.001),\n",
    "           loss=BinaryCrossentropy(),\n",
    "           metrics=['accuracy'])\n",
    "\n",
    "history = RN.fit(X_train[SARFFeatures], y_train, epochs=100, batch_size=32, validation_split=0.2)\n",
    "\n",
    "loss, accuracy = RN.evaluate(X_test[SARFFeatures], y_test)\n",
    "\n",
    "print(f'Test Accuracy: {accuracy}')\n",
    "y_pred_prob = RN.predict(X_test[SARFFeatures])\n",
    "y_pred = (y_pred_prob > 0.5).astype(int)\n",
    "\n",
    "print(\"Accuracy:\", accuracy_score(y_test, y_pred))\n",
    "print(\"Precision:\", precision_score(y_test, y_pred))\n",
    "print(\"Recall:\", recall_score(y_test, y_pred))\n",
    "print(\"F1:\", f1_score(y_test, y_pred))\n",
    "print(\"AUC:\", roc_auc_score(y_test, y_pred_prob))"
   ],
   "metadata": {
    "collapsed": false,
    "ExecuteTime": {
     "end_time": "2024-11-01T20:45:44.898037200Z",
     "start_time": "2024-11-01T20:45:38.549198500Z"
    }
   },
   "id": "f9e73b5be77d7950",
   "execution_count": 18
  },
  {
   "cell_type": "code",
   "outputs": [],
   "source": [
    "#Save the results from the optimizations with Pickle\n",
    "import pickle\n",
    "\n",
    "with open('SAMIFeatures.pkl', 'wb') as f:\n",
    "    pickle.dump(SAMIFeatures, f)\n",
    "with open('SAX2Features.pkl', 'wb') as f:\n",
    "    pickle.dump(SAX2Features, f)\n",
    "with open('SARFFeatures.pkl', 'wb') as f:\n",
    "    pickle.dump(SARFFeatures, f)"
   ],
   "metadata": {
    "collapsed": false,
    "ExecuteTime": {
     "end_time": "2024-11-01T20:45:44.905320600Z",
     "start_time": "2024-11-01T20:45:44.898037200Z"
    }
   },
   "id": "fc7bca7e242ea5eb",
   "execution_count": 19
  }
 ],
 "metadata": {
  "kernelspec": {
   "display_name": "Python 3",
   "language": "python",
   "name": "python3"
  },
  "language_info": {
   "codemirror_mode": {
    "name": "ipython",
    "version": 2
   },
   "file_extension": ".py",
   "mimetype": "text/x-python",
   "name": "python",
   "nbconvert_exporter": "python",
   "pygments_lexer": "ipython2",
   "version": "2.7.6"
  }
 },
 "nbformat": 4,
 "nbformat_minor": 5
}

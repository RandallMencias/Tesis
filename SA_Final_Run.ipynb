{
 "cells": [
  {
   "cell_type": "code",
   "id": "initial_id",
   "metadata": {
    "collapsed": true,
    "ExecuteTime": {
     "end_time": "2024-11-02T20:13:09.627501Z",
     "start_time": "2024-11-02T20:13:08.935098Z"
    }
   },
   "source": [
    "from Metaheuristicas.fitness_functions import *\n"
   ],
   "outputs": [],
   "execution_count": 1
  },
  {
   "cell_type": "code",
   "source": [
    "X, y = load_and_preprocess_data(filename='Resources/SeisBenchV1_v1_1.json')\n"
   ],
   "metadata": {
    "collapsed": false,
    "ExecuteTime": {
     "end_time": "2024-11-02T20:13:09.704552Z",
     "start_time": "2024-11-02T20:13:09.635515Z"
    }
   },
   "id": "aa2b839a0ac12d0c",
   "outputs": [],
   "execution_count": 2
  },
  {
   "cell_type": "code",
   "source": [
    "from Metaheuristicas.Simmulated_Annealing import simulated_annealing\n",
    "\n",
    "cooling_rate = 0.95\n",
    "max_iter = 680"
   ],
   "metadata": {
    "collapsed": false,
    "ExecuteTime": {
     "end_time": "2024-11-02T20:13:09.908589Z",
     "start_time": "2024-11-02T20:13:09.893513Z"
    }
   },
   "id": "ca4c77e3ca5f4f79",
   "outputs": [],
   "execution_count": 3
  },
  {
   "metadata": {
    "ExecuteTime": {
     "end_time": "2024-11-02T20:13:09.940022Z",
     "start_time": "2024-11-02T20:13:09.925023Z"
    }
   },
   "cell_type": "code",
   "source": [
    "import pandas as pd\n",
    "from IPython.display import display, clear_output\n",
    "\n",
    "# Step 1: Initialize empty DataFrames for each classifier with metrics as columns\n",
    "metrics = [\"Accuracy\", \"Precision\", \"Recall\", \"F1 Score\", \"AUC\"]\n",
    "\n",
    "naive_bayes_df = pd.DataFrame(columns=metrics, index=[\"Mutual Information\", \"X2\", \"Relief\"])\n",
    "random_forest_df = pd.DataFrame(columns=metrics, index=[\"Mutual Information\", \"X2\", \"Relief\"])\n",
    "neural_network_df = pd.DataFrame(columns=metrics, index=[\"Mutual Information\", \"X2\", \"Relief\"])\n",
    "\n",
    "# Display all tables function\n",
    "def display_tables():\n",
    "    clear_output(wait=True)\n",
    "    print(\"Naive Bayes Results\")\n",
    "    display(naive_bayes_df)\n",
    "    print(\"Random Forest Results\")\n",
    "    display(random_forest_df)\n",
    "    print(\"Neural Network Results\")\n",
    "    display(neural_network_df)"
   ],
   "id": "fb43bc5196dec7bb",
   "outputs": [],
   "execution_count": 4
  },
  {
   "metadata": {
    "ExecuteTime": {
     "end_time": "2024-11-02T20:13:09.971405Z",
     "start_time": "2024-11-02T20:13:09.956896Z"
    }
   },
   "cell_type": "code",
   "source": [
    "def add_result(classifier, fitness_function, accuracy, precision, recall, f1_score, auc):\n",
    "    new_data = {\n",
    "        \"Accuracy\": accuracy,\n",
    "        \"Precision\": precision,\n",
    "        \"Recall\": recall,\n",
    "        \"F1 Score\": f1_score,\n",
    "        \"AUC\": auc\n",
    "    }\n",
    "\n",
    "    if classifier == \"Naive Bayes\":\n",
    "        global naive_bayes_df\n",
    "        naive_bayes_df.loc[fitness_function] = new_data\n",
    "    elif classifier == \"Random Forest\":\n",
    "        global random_forest_df\n",
    "        random_forest_df.loc[fitness_function] = new_data\n",
    "    elif classifier == \"Neural Network\":\n",
    "        global neural_network_df\n",
    "        neural_network_df.loc[fitness_function] = new_data"
   ],
   "id": "bf751e8cc4d6ceca",
   "outputs": [],
   "execution_count": 5
  },
  {
   "metadata": {
    "ExecuteTime": {
     "end_time": "2024-11-02T20:13:10.001421Z",
     "start_time": "2024-11-02T20:13:09.987421Z"
    }
   },
   "cell_type": "code",
   "source": [
    "import matplotlib.pyplot as plt\n",
    "import seaborn as sns\n",
    "from sklearn.metrics import confusion_matrix\n",
    "def confusion_matrix_heatmap(y_true, y_pred):\n",
    "    cm = confusion_matrix(y_true, y_pred)\n",
    "    plt.figure(figsize=(8, 6))\n",
    "    sns.heatmap(cm, annot=True, fmt='d', cmap='Blues', cbar=False)\n",
    "    plt.xlabel('Predicted Labels')\n",
    "    plt.ylabel('True Labels')\n",
    "    plt.title('Confusion Matrix')\n",
    "    plt.show()"
   ],
   "id": "e1076e4dc46cf509",
   "outputs": [],
   "execution_count": 6
  },
  {
   "cell_type": "markdown",
   "source": [
    "#### Models Naive Bayes and Decision Tree"
   ],
   "metadata": {
    "collapsed": false
   },
   "id": "5aafef1bc4d32ad"
  },
  {
   "cell_type": "code",
   "source": [
    "from sklearn.metrics import accuracy_score, precision_score, recall_score, f1_score, roc_auc_score\n",
    "from sklearn.model_selection import train_test_split\n",
    "from sklearn.ensemble import RandomForestClassifier\n",
    "from sklearn.naive_bayes import GaussianNB\n",
    "\n",
    "NB = GaussianNB()\n",
    "DT = RandomForestClassifier()\n",
    "\n",
    "#dataset split\n",
    "\n",
    "X_train, X_test, y_train, y_test = train_test_split(X, y, test_size=0.3, random_state=42)\n"
   ],
   "metadata": {
    "collapsed": false,
    "ExecuteTime": {
     "end_time": "2024-11-02T20:13:10.223031Z",
     "start_time": "2024-11-02T20:13:10.018480Z"
    }
   },
   "id": "1cad8f015c03fd6a",
   "outputs": [],
   "execution_count": 7
  },
  {
   "cell_type": "markdown",
   "source": [
    "# SA with Mutual Information\n"
   ],
   "metadata": {
    "collapsed": false
   },
   "id": "fdacfe27fc6bf19f"
  },
  {
   "cell_type": "code",
   "source": [
    "best_solution, best_Gfitness = simulated_annealing(X, y, initial_temperature=1, cooling_rate=cooling_rate,max_iter=max_iter ,fitness_function=mutual_information_eval)\n",
    "SAMIFeatures = X.columns[best_solution.astype(bool)].tolist()"
   ],
   "metadata": {
    "collapsed": false,
    "ExecuteTime": {
     "end_time": "2024-11-02T20:14:45.093357Z",
     "start_time": "2024-11-02T20:13:10.256039Z"
    }
   },
   "id": "27afb8be55ef518",
   "outputs": [],
   "execution_count": 8
  },
  {
   "cell_type": "markdown",
   "source": [],
   "metadata": {
    "collapsed": false
   },
   "id": "3d70ef55f40a1139"
  },
  {
   "cell_type": "code",
   "source": [
    "NB.fit(X_train[SAMIFeatures], y_train)\n",
    "\n",
    "y_pred = NB.predict(X_test[SAMIFeatures])\n",
    "\n",
    "print(\"Accuracy:\", accuracy_score(y_test, y_pred))\n",
    "print(\"Precision:\", precision_score(y_test, y_pred))\n",
    "print(\"Recall:\", recall_score(y_test, y_pred))\n",
    "print(\"F1:\", f1_score(y_test, y_pred))\n",
    "print(\"AUC:\", roc_auc_score(y_test, y_pred))\n",
    "add_result(\"Naive Bayes\", \"Mutual Information\", accuracy_score(y_test, y_pred), precision_score(y_test, y_pred), recall_score(y_test, y_pred), f1_score(y_test, y_pred), roc_auc_score(y_test, y_pred))\n"
   ],
   "metadata": {
    "collapsed": false,
    "ExecuteTime": {
     "end_time": "2024-11-02T20:14:45.140559Z",
     "start_time": "2024-11-02T20:14:45.125562Z"
    }
   },
   "id": "e222b27f3bfd73ff",
   "outputs": [
    {
     "name": "stdout",
     "output_type": "stream",
     "text": [
      "Accuracy: 0.9302325581395349\n",
      "Precision: 0.4864864864864865\n",
      "Recall: 0.782608695652174\n",
      "F1: 0.6000000000000001\n",
      "AUC: 0.861709332249763\n"
     ]
    }
   ],
   "execution_count": 9
  },
  {
   "metadata": {
    "ExecuteTime": {
     "end_time": "2024-11-02T20:14:45.283630Z",
     "start_time": "2024-11-02T20:14:45.173597Z"
    }
   },
   "cell_type": "code",
   "source": [
    "confusion_matrix_heatmap(y_test, y_pred)"
   ],
   "id": "bf8f3e9a69fd74e3",
   "outputs": [
    {
     "data": {
      "text/plain": [
       "<Figure size 800x600 with 1 Axes>"
      ],
      "image/png": "[encoded data removed]"
     },
     "metadata": {},
     "output_type": "display_data"
    }
   ],
   "execution_count": 10
  },
  {
   "cell_type": "code",
   "source": [
    "DT.fit(X_train[SAMIFeatures], y_train)\n",
    "\n",
    "y_pred = DT.predict(X_test[SAMIFeatures])\n",
    "\n",
    "print(\"Accuracy:\", accuracy_score(y_test, y_pred))\n",
    "print(\"Precision:\", precision_score(y_test, y_pred))\n",
    "print(\"Recall:\", recall_score(y_test, y_pred))\n",
    "print(\"F1:\", f1_score(y_test, y_pred))\n",
    "print(\"AUC:\", roc_auc_score(y_test, y_pred))\n",
    "add_result(\"Random Forest\", \"Mutual Information\", accuracy_score(y_test, y_pred), precision_score(y_test, y_pred), recall_score(y_test, y_pred), f1_score(y_test, y_pred), roc_auc_score(y_test, y_pred))"
   ],
   "metadata": {
    "collapsed": false,
    "ExecuteTime": {
     "end_time": "2024-11-02T20:14:45.611191Z",
     "start_time": "2024-11-02T20:14:45.346576Z"
    }
   },
   "id": "cfa13e64f7f8fae8",
   "outputs": [
    {
     "name": "stdout",
     "output_type": "stream",
     "text": [
      "Accuracy: 0.9709302325581395\n",
      "Precision: 0.8421052631578947\n",
      "Recall: 0.6956521739130435\n",
      "F1: 0.761904761904762\n",
      "AUC: 0.8431531897602601\n"
     ]
    }
   ],
   "execution_count": 11
  },
  {
   "metadata": {
    "ExecuteTime": {
     "end_time": "2024-11-02T20:14:45.690129Z",
     "start_time": "2024-11-02T20:14:45.614119Z"
    }
   },
   "cell_type": "code",
   "source": [
    "confusion_matrix_heatmap(y_test, y_pred)"
   ],
   "id": "c38a937a62e09658",
   "outputs": [
    {
     "data": {
      "text/plain": [
       "<Figure size 800x600 with 1 Axes>"
      ],
      "image/png": "[encoded data removed]"
     },
     "metadata": {},
     "output_type": "display_data"
    }
   ],
   "execution_count": 12
  },
  {
   "cell_type": "markdown",
   "source": [
    "# SA with Chi2"
   ],
   "metadata": {
    "collapsed": false
   },
   "id": "738f5b3837eb3232"
  },
  {
   "cell_type": "code",
   "source": [
    "best_solution, best_Gfitness = simulated_annealing(X, y, initial_temperature=1, cooling_rate=cooling_rate,max_iter=max_iter ,fitness_function=mutual_information_eval)\n",
    "SAX2Features = X.columns[best_solution.astype(bool)].tolist()"
   ],
   "metadata": {
    "collapsed": false,
    "ExecuteTime": {
     "end_time": "2024-11-02T20:16:19.762336Z",
     "start_time": "2024-11-02T20:14:45.723206Z"
    }
   },
   "id": "a9ad1ed17eba54f5",
   "outputs": [],
   "execution_count": 13
  },
  {
   "cell_type": "code",
   "source": [
    "NB.fit(X_train[SAX2Features], y_train)\n",
    "y_pred = NB.predict(X_test[SAX2Features])\n",
    "\n",
    "print(\"Accuracy:\", accuracy_score(y_test, y_pred))\n",
    "print(\"Precision:\", precision_score(y_test, y_pred))\n",
    "print(\"Recall:\", recall_score(y_test, y_pred))\n",
    "print(\"F1:\", f1_score(y_test, y_pred))\n",
    "print(\"AUC:\", roc_auc_score(y_test, y_pred))\n",
    "add_result(\"Naive Bayes\", \"X2\", accuracy_score(y_test, y_pred), precision_score(y_test, y_pred), recall_score(y_test, y_pred), f1_score(y_test, y_pred), roc_auc_score(y_test, y_pred))"
   ],
   "metadata": {
    "collapsed": false,
    "ExecuteTime": {
     "end_time": "2024-11-02T20:16:19.825314Z",
     "start_time": "2024-11-02T20:16:19.796804Z"
    }
   },
   "id": "bddacde3cb4a9024",
   "outputs": [
    {
     "name": "stdout",
     "output_type": "stream",
     "text": [
      "Accuracy: 0.9331395348837209\n",
      "Precision: 0.5\n",
      "Recall: 0.782608695652174\n",
      "F1: 0.6101694915254238\n",
      "AUC: 0.8632669646485168\n"
     ]
    }
   ],
   "execution_count": 14
  },
  {
   "metadata": {
    "ExecuteTime": {
     "end_time": "2024-11-02T20:16:19.966434Z",
     "start_time": "2024-11-02T20:16:19.888607Z"
    }
   },
   "cell_type": "code",
   "source": [
    "confusion_matrix_heatmap(y_test, y_pred)"
   ],
   "id": "92dececb719d9cf9",
   "outputs": [
    {
     "data": {
      "text/plain": [
       "<Figure size 800x600 with 1 Axes>"
      ],
      "image/png": "[encoded data removed]"
     },
     "metadata": {},
     "output_type": "display_data"
    }
   ],
   "execution_count": 15
  },
  {
   "cell_type": "code",
   "source": [
    "DT.fit(X_train[SAX2Features], y_train)\n",
    "y_pred = DT.predict(X_test[SAX2Features])\n",
    "\n",
    "print(\"Accuracy:\", accuracy_score(y_test, y_pred))\n",
    "print(\"Precision:\", precision_score(y_test, y_pred))\n",
    "print(\"Recall:\", recall_score(y_test, y_pred))\n",
    "print(\"F1:\", f1_score(y_test, y_pred))\n",
    "print(\"AUC:\", roc_auc_score(y_test, y_pred))\n",
    "add_result(\"Random Forest\", \"X2\", accuracy_score(y_test, y_pred), precision_score(y_test, y_pred), recall_score(y_test, y_pred), f1_score(y_test, y_pred), roc_auc_score(y_test, y_pred))"
   ],
   "metadata": {
    "collapsed": false,
    "ExecuteTime": {
     "end_time": "2024-11-02T20:16:20.235487Z",
     "start_time": "2024-11-02T20:16:19.970434Z"
    }
   },
   "id": "7b6f2fb86e8ce7f8",
   "outputs": [
    {
     "name": "stdout",
     "output_type": "stream",
     "text": [
      "Accuracy: 0.9622093023255814\n",
      "Precision: 0.7272727272727273\n",
      "Recall: 0.6956521739130435\n",
      "F1: 0.711111111111111\n",
      "AUC: 0.8384802925639984\n"
     ]
    }
   ],
   "execution_count": 16
  },
  {
   "metadata": {
    "ExecuteTime": {
     "end_time": "2024-11-02T20:16:20.344853Z",
     "start_time": "2024-11-02T20:16:20.267836Z"
    }
   },
   "cell_type": "code",
   "source": [
    "confusion_matrix_heatmap(y_test, y_pred)"
   ],
   "id": "940c22eda71b3b42",
   "outputs": [
    {
     "data": {
      "text/plain": [
       "<Figure size 800x600 with 1 Axes>"
      ],
      "image/png": "[encoded data removed]"
     },
     "metadata": {},
     "output_type": "display_data"
    }
   ],
   "execution_count": 17
  },
  {
   "cell_type": "markdown",
   "source": [
    "# SA with ReliefF"
   ],
   "metadata": {
    "collapsed": false
   },
   "id": "44bea2b37508966a"
  },
  {
   "cell_type": "code",
   "source": [
    "best_solution, best_Gfitness = simulated_annealing(X, y, initial_temperature=0.1, cooling_rate=cooling_rate,max_iter=max_iter ,fitness_function=mutual_information_eval)\n",
    "SARFFeatures = X.columns[best_solution.astype(bool)].tolist()"
   ],
   "metadata": {
    "collapsed": false,
    "ExecuteTime": {
     "end_time": "2024-11-02T20:17:50.167785Z",
     "start_time": "2024-11-02T20:16:20.377870Z"
    }
   },
   "id": "37f89a6d5cfdb864",
   "outputs": [],
   "execution_count": 18
  },
  {
   "cell_type": "markdown",
   "source": [],
   "metadata": {
    "collapsed": false
   },
   "id": "c857cc136f8f20c5"
  },
  {
   "cell_type": "code",
   "source": [
    "NB.fit(X_train[SARFFeatures], y_train)\n",
    "y_pred = NB.predict(X_test[SARFFeatures])\n",
    "\n",
    "print(\"Accuracy:\", accuracy_score(y_test, y_pred))\n",
    "print(\"Precision:\", precision_score(y_test, y_pred))\n",
    "print(\"Recall:\", recall_score(y_test, y_pred))\n",
    "print(\"F1:\", f1_score(y_test, y_pred))\n",
    "print(\"AUC:\", roc_auc_score(y_test, y_pred))\n",
    "add_result(\"Naive Bayes\", \"Relief\", accuracy_score(y_test, y_pred), precision_score(y_test, y_pred), recall_score(y_test, y_pred), f1_score(y_test, y_pred), roc_auc_score(y_test, y_pred))"
   ],
   "metadata": {
    "collapsed": false,
    "ExecuteTime": {
     "end_time": "2024-11-02T20:17:50.215784Z",
     "start_time": "2024-11-02T20:17:50.201786Z"
    }
   },
   "id": "c18092371a5c95ee",
   "outputs": [
    {
     "name": "stdout",
     "output_type": "stream",
     "text": [
      "Accuracy: 0.9418604651162791\n",
      "Precision: 0.5454545454545454\n",
      "Recall: 0.782608695652174\n",
      "F1: 0.6428571428571429\n",
      "AUC: 0.8679398618447786\n"
     ]
    }
   ],
   "execution_count": 19
  },
  {
   "metadata": {
    "ExecuteTime": {
     "end_time": "2024-11-02T20:17:50.357872Z",
     "start_time": "2024-11-02T20:17:50.279316Z"
    }
   },
   "cell_type": "code",
   "source": [
    "confusion_matrix_heatmap(y_test, y_pred)"
   ],
   "id": "15174768e4d771f1",
   "outputs": [
    {
     "data": {
      "text/plain": [
       "<Figure size 800x600 with 1 Axes>"
      ],
      "image/png": "[encoded data removed]"
     },
     "metadata": {},
     "output_type": "display_data"
    }
   ],
   "execution_count": 20
  },
  {
   "cell_type": "code",
   "source": [
    "DT.fit(X_train[SARFFeatures], y_train)\n",
    "y_pred = DT.predict(X_test[SARFFeatures])\n",
    "\n",
    "print(\"Accuracy:\", accuracy_score(y_test, y_pred))\n",
    "print(\"Precision:\", precision_score(y_test, y_pred))\n",
    "print(\"Recall:\", recall_score(y_test, y_pred))\n",
    "print(\"F1:\", f1_score(y_test, y_pred))\n",
    "print(\"AUC:\", roc_auc_score(y_test, y_pred))\n",
    "add_result(\"Random Forest\", \"Relief\", accuracy_score(y_test, y_pred), precision_score(y_test, y_pred), recall_score(y_test, y_pred), f1_score(y_test, y_pred), roc_auc_score(y_test, y_pred))"
   ],
   "metadata": {
    "collapsed": false,
    "ExecuteTime": {
     "end_time": "2024-11-02T20:17:50.626902Z",
     "start_time": "2024-11-02T20:17:50.361822Z"
    }
   },
   "id": "8f03dc90075b09ea",
   "outputs": [
    {
     "name": "stdout",
     "output_type": "stream",
     "text": [
      "Accuracy: 0.9680232558139535\n",
      "Precision: 0.8\n",
      "Recall: 0.6956521739130435\n",
      "F1: 0.7441860465116279\n",
      "AUC: 0.8415955573615062\n"
     ]
    }
   ],
   "execution_count": 21
  },
  {
   "metadata": {
    "ExecuteTime": {
     "end_time": "2024-11-02T20:17:50.737923Z",
     "start_time": "2024-11-02T20:17:50.659906Z"
    }
   },
   "cell_type": "code",
   "source": [
    "confusion_matrix_heatmap(y_test, y_pred)"
   ],
   "id": "3ae327664067e021",
   "outputs": [
    {
     "data": {
      "text/plain": [
       "<Figure size 800x600 with 1 Axes>"
      ],
      "image/png": "[encoded data removed]"
     },
     "metadata": {},
     "output_type": "display_data"
    }
   ],
   "execution_count": 22
  },
  {
   "cell_type": "markdown",
   "source": [
    "## Red Neuronal\n"
   ],
   "metadata": {
    "collapsed": false
   },
   "id": "c0fbf5b3e5c28f6f"
  },
  {
   "cell_type": "code",
   "source": [
    "print(\"Features selected by MI: \", len(SAMIFeatures))\n",
    "print(\"Features selected by X2: \", len(SAX2Features))\n",
    "print(\"Features selected by ReliefF: \", len(SARFFeatures))"
   ],
   "metadata": {
    "collapsed": false,
    "ExecuteTime": {
     "end_time": "2024-11-02T20:17:50.784940Z",
     "start_time": "2024-11-02T20:17:50.769945Z"
    }
   },
   "id": "c3b3500d30b31937",
   "outputs": [
    {
     "name": "stdout",
     "output_type": "stream",
     "text": [
      "Features selected by MI:  60\n",
      "Features selected by X2:  60\n",
      "Features selected by ReliefF:  60\n"
     ]
    }
   ],
   "execution_count": 23
  },
  {
   "cell_type": "code",
   "source": [
    "\n",
    "from tensorflow.keras.models import Sequential\n",
    "from tensorflow.keras.layers import Dense\n",
    "from tensorflow.keras.optimizers import Adam\n",
    "from tensorflow.keras.losses import BinaryCrossentropy"
   ],
   "metadata": {
    "collapsed": false,
    "ExecuteTime": {
     "end_time": "2024-11-02T20:17:54.699028Z",
     "start_time": "2024-11-02T20:17:50.816828Z"
    }
   },
   "id": "7bca53201b5fe940",
   "outputs": [],
   "execution_count": 24
  },
  {
   "cell_type": "markdown",
   "source": [
    "MUTUAL_INFORMATION "
   ],
   "metadata": {
    "collapsed": false
   },
   "id": "6730803a5695bad8"
  },
  {
   "cell_type": "code",
   "source": [
    "\n",
    "RN = Sequential()\n",
    "\n",
    "input_dim = X_train[SAMIFeatures].shape[1]\n",
    "RN.add(Dense(units=64, activation='relu', input_dim=input_dim))\n",
    "RN.add(Dense(units=32, activation='relu'))\n",
    "RN.add(Dense(units=1, activation='sigmoid'))\n",
    "RN.compile(optimizer=Adam(learning_rate=0.001),\n",
    "           loss=BinaryCrossentropy(),\n",
    "           metrics=['accuracy'])\n",
    "\n",
    "history = RN.fit(X_train[SAMIFeatures], y_train, epochs=100, batch_size=32, validation_split=0.2)\n",
    "\n",
    "loss, accuracy = RN.evaluate(X_test[SAMIFeatures], y_test)\n",
    "\n",
    "print(f'Test Accuracy: {accuracy}')\n",
    "y_pred_prob = RN.predict(X_test[SAMIFeatures])\n",
    "y_pred = (y_pred_prob > 0.5).astype(int)\n",
    "\n",
    "print(\"Accuracy:\", accuracy_score(y_test, y_pred))\n",
    "print(\"Precision:\", precision_score(y_test, y_pred))\n",
    "print(\"Recall:\", recall_score(y_test, y_pred))\n",
    "print(\"F1:\", f1_score(y_test, y_pred))\n",
    "print(\"AUC:\", roc_auc_score(y_test, y_pred_prob))\n",
    "add_result(\"Neural Network\", \"Mutual Information\", accuracy_score(y_test, y_pred), precision_score(y_test, y_pred), recall_score(y_test, y_pred), f1_score(y_test, y_pred), roc_auc_score(y_test, y_pred_prob))"
   ],
   "metadata": {
    "collapsed": false,
    "ExecuteTime": {
     "end_time": "2024-11-02T20:17:58.528878Z",
     "start_time": "2024-11-02T20:17:54.731060Z"
    }
   },
   "id": "24c6460e29494d86",
   "outputs": [
    {
     "name": "stdout",
     "output_type": "stream",
     "text": [
      "Epoch 1/100\n"
     ]
    },
    {
     "name": "stderr",
     "output_type": "stream",
     "text": [
      "C:\\Users\\Randall\\AppData\\Local\\Programs\\Python\\Python310\\lib\\site-packages\\keras\\engine\\data_adapter.py:1700: FutureWarning: The behavior of `series[i:j]` with an integer-dtype index is deprecated. In a future version, this will be treated as *label-based* indexing, consistent with e.g. `series[i]` lookups. To retain the old behavior, use `series.iloc[i:j]`. To get the future behavior, use `series.loc[i:j]`.\n",
      "  return t[start:end]\n"
     ]
    },
    {
     "name": "stdout",
     "output_type": "stream",
     "text": [
      "20/20 [==============================] - 0s 7ms/step - loss: 0.4116 - accuracy: 0.8969 - val_loss: 0.2775 - val_accuracy: 0.9193\n",
      "Epoch 2/100\n",
      "20/20 [==============================] - 0s 2ms/step - loss: 0.3012 - accuracy: 0.8984 - val_loss: 0.2482 - val_accuracy: 0.9193\n",
      "Epoch 3/100\n",
      "20/20 [==============================] - 0s 2ms/step - loss: 0.2563 - accuracy: 0.8984 - val_loss: 0.2164 - val_accuracy: 0.9193\n",
      "Epoch 4/100\n",
      "20/20 [==============================] - 0s 2ms/step - loss: 0.2109 - accuracy: 0.8984 - val_loss: 0.1825 - val_accuracy: 0.9255\n",
      "Epoch 5/100\n",
      "20/20 [==============================] - 0s 2ms/step - loss: 0.1722 - accuracy: 0.9328 - val_loss: 0.1555 - val_accuracy: 0.9317\n",
      "Epoch 6/100\n",
      "20/20 [==============================] - 0s 2ms/step - loss: 0.1404 - accuracy: 0.9438 - val_loss: 0.1267 - val_accuracy: 0.9441\n",
      "Epoch 7/100\n",
      "20/20 [==============================] - 0s 2ms/step - loss: 0.1179 - accuracy: 0.9484 - val_loss: 0.1151 - val_accuracy: 0.9441\n",
      "Epoch 8/100\n",
      "20/20 [==============================] - 0s 2ms/step - loss: 0.1064 - accuracy: 0.9563 - val_loss: 0.1087 - val_accuracy: 0.9441\n",
      "Epoch 9/100\n",
      "20/20 [==============================] - 0s 2ms/step - loss: 0.0987 - accuracy: 0.9641 - val_loss: 0.0993 - val_accuracy: 0.9503\n",
      "Epoch 10/100\n",
      "20/20 [==============================] - 0s 2ms/step - loss: 0.0957 - accuracy: 0.9609 - val_loss: 0.0934 - val_accuracy: 0.9565\n",
      "Epoch 11/100\n",
      "20/20 [==============================] - 0s 2ms/step - loss: 0.0916 - accuracy: 0.9641 - val_loss: 0.1030 - val_accuracy: 0.9441\n",
      "Epoch 12/100\n",
      "20/20 [==============================] - 0s 2ms/step - loss: 0.0889 - accuracy: 0.9609 - val_loss: 0.1127 - val_accuracy: 0.9379\n",
      "Epoch 13/100\n",
      "20/20 [==============================] - 0s 2ms/step - loss: 0.0836 - accuracy: 0.9672 - val_loss: 0.0843 - val_accuracy: 0.9689\n",
      "Epoch 14/100\n",
      "20/20 [==============================] - 0s 2ms/step - loss: 0.0813 - accuracy: 0.9688 - val_loss: 0.0972 - val_accuracy: 0.9441\n",
      "Epoch 15/100\n",
      "20/20 [==============================] - 0s 1ms/step - loss: 0.0773 - accuracy: 0.9656 - val_loss: 0.0804 - val_accuracy: 0.9689\n",
      "Epoch 16/100\n",
      "20/20 [==============================] - 0s 1ms/step - loss: 0.0754 - accuracy: 0.9656 - val_loss: 0.0825 - val_accuracy: 0.9627\n",
      "Epoch 17/100\n",
      "20/20 [==============================] - 0s 2ms/step - loss: 0.0774 - accuracy: 0.9703 - val_loss: 0.1060 - val_accuracy: 0.9317\n",
      "Epoch 18/100\n",
      "20/20 [==============================] - 0s 2ms/step - loss: 0.0721 - accuracy: 0.9688 - val_loss: 0.0742 - val_accuracy: 0.9752\n",
      "Epoch 19/100\n",
      "20/20 [==============================] - 0s 2ms/step - loss: 0.0717 - accuracy: 0.9672 - val_loss: 0.0797 - val_accuracy: 0.9689\n",
      "Epoch 20/100\n",
      "20/20 [==============================] - 0s 2ms/step - loss: 0.0705 - accuracy: 0.9672 - val_loss: 0.0861 - val_accuracy: 0.9503\n",
      "Epoch 21/100\n",
      "20/20 [==============================] - 0s 1ms/step - loss: 0.0702 - accuracy: 0.9688 - val_loss: 0.0743 - val_accuracy: 0.9752\n",
      "Epoch 22/100\n",
      "20/20 [==============================] - 0s 2ms/step - loss: 0.0688 - accuracy: 0.9734 - val_loss: 0.0718 - val_accuracy: 0.9752\n",
      "Epoch 23/100\n",
      "20/20 [==============================] - 0s 1ms/step - loss: 0.0662 - accuracy: 0.9750 - val_loss: 0.0732 - val_accuracy: 0.9752\n",
      "Epoch 24/100\n",
      "20/20 [==============================] - 0s 1ms/step - loss: 0.0643 - accuracy: 0.9734 - val_loss: 0.0839 - val_accuracy: 0.9627\n",
      "Epoch 25/100\n",
      "20/20 [==============================] - 0s 2ms/step - loss: 0.0658 - accuracy: 0.9750 - val_loss: 0.0684 - val_accuracy: 0.9752\n",
      "Epoch 26/100\n",
      "20/20 [==============================] - 0s 1ms/step - loss: 0.0753 - accuracy: 0.9688 - val_loss: 0.0662 - val_accuracy: 0.9752\n",
      "Epoch 27/100\n",
      "20/20 [==============================] - 0s 2ms/step - loss: 0.0650 - accuracy: 0.9766 - val_loss: 0.0749 - val_accuracy: 0.9752\n",
      "Epoch 28/100\n",
      "20/20 [==============================] - 0s 2ms/step - loss: 0.0638 - accuracy: 0.9719 - val_loss: 0.0974 - val_accuracy: 0.9503\n",
      "Epoch 29/100\n",
      "20/20 [==============================] - 0s 2ms/step - loss: 0.0599 - accuracy: 0.9734 - val_loss: 0.0702 - val_accuracy: 0.9752\n",
      "Epoch 30/100\n",
      "20/20 [==============================] - 0s 2ms/step - loss: 0.0594 - accuracy: 0.9750 - val_loss: 0.0833 - val_accuracy: 0.9689\n",
      "Epoch 31/100\n",
      "20/20 [==============================] - 0s 2ms/step - loss: 0.0600 - accuracy: 0.9734 - val_loss: 0.0726 - val_accuracy: 0.9752\n",
      "Epoch 32/100\n",
      "20/20 [==============================] - 0s 2ms/step - loss: 0.0584 - accuracy: 0.9781 - val_loss: 0.0709 - val_accuracy: 0.9752\n",
      "Epoch 33/100\n",
      "20/20 [==============================] - 0s 2ms/step - loss: 0.0575 - accuracy: 0.9781 - val_loss: 0.0957 - val_accuracy: 0.9503\n",
      "Epoch 34/100\n",
      "20/20 [==============================] - 0s 1ms/step - loss: 0.0575 - accuracy: 0.9781 - val_loss: 0.0724 - val_accuracy: 0.9752\n",
      "Epoch 35/100\n",
      "20/20 [==============================] - 0s 2ms/step - loss: 0.0567 - accuracy: 0.9750 - val_loss: 0.0703 - val_accuracy: 0.9752\n",
      "Epoch 36/100\n",
      "20/20 [==============================] - 0s 1ms/step - loss: 0.0573 - accuracy: 0.9797 - val_loss: 0.0968 - val_accuracy: 0.9565\n",
      "Epoch 37/100\n",
      "20/20 [==============================] - 0s 2ms/step - loss: 0.0588 - accuracy: 0.9812 - val_loss: 0.0920 - val_accuracy: 0.9627\n",
      "Epoch 38/100\n",
      "20/20 [==============================] - 0s 2ms/step - loss: 0.0608 - accuracy: 0.9781 - val_loss: 0.1065 - val_accuracy: 0.9441\n",
      "Epoch 39/100\n",
      "20/20 [==============================] - 0s 1ms/step - loss: 0.0573 - accuracy: 0.9750 - val_loss: 0.0767 - val_accuracy: 0.9689\n",
      "Epoch 40/100\n",
      "20/20 [==============================] - 0s 2ms/step - loss: 0.0534 - accuracy: 0.9750 - val_loss: 0.0822 - val_accuracy: 0.9689\n",
      "Epoch 41/100\n",
      "20/20 [==============================] - 0s 2ms/step - loss: 0.0520 - accuracy: 0.9766 - val_loss: 0.0742 - val_accuracy: 0.9752\n",
      "Epoch 42/100\n",
      "20/20 [==============================] - 0s 1ms/step - loss: 0.0506 - accuracy: 0.9797 - val_loss: 0.0810 - val_accuracy: 0.9689\n",
      "Epoch 43/100\n",
      "20/20 [==============================] - 0s 1ms/step - loss: 0.0545 - accuracy: 0.9766 - val_loss: 0.1017 - val_accuracy: 0.9503\n",
      "Epoch 44/100\n",
      "20/20 [==============================] - 0s 1ms/step - loss: 0.0498 - accuracy: 0.9875 - val_loss: 0.0729 - val_accuracy: 0.9752\n",
      "Epoch 45/100\n",
      "20/20 [==============================] - 0s 1ms/step - loss: 0.0501 - accuracy: 0.9797 - val_loss: 0.0802 - val_accuracy: 0.9689\n",
      "Epoch 46/100\n",
      "20/20 [==============================] - 0s 1ms/step - loss: 0.0499 - accuracy: 0.9812 - val_loss: 0.0711 - val_accuracy: 0.9752\n",
      "Epoch 47/100\n",
      "20/20 [==============================] - 0s 1ms/step - loss: 0.0523 - accuracy: 0.9812 - val_loss: 0.0706 - val_accuracy: 0.9752\n",
      "Epoch 48/100\n",
      "20/20 [==============================] - 0s 2ms/step - loss: 0.0500 - accuracy: 0.9844 - val_loss: 0.0865 - val_accuracy: 0.9689\n",
      "Epoch 49/100\n",
      "20/20 [==============================] - 0s 1ms/step - loss: 0.0491 - accuracy: 0.9828 - val_loss: 0.0715 - val_accuracy: 0.9752\n",
      "Epoch 50/100\n",
      "20/20 [==============================] - 0s 1ms/step - loss: 0.0550 - accuracy: 0.9797 - val_loss: 0.0829 - val_accuracy: 0.9689\n",
      "Epoch 51/100\n",
      "20/20 [==============================] - 0s 1ms/step - loss: 0.0482 - accuracy: 0.9812 - val_loss: 0.1012 - val_accuracy: 0.9627\n",
      "Epoch 52/100\n",
      "20/20 [==============================] - 0s 2ms/step - loss: 0.0490 - accuracy: 0.9859 - val_loss: 0.0768 - val_accuracy: 0.9752\n",
      "Epoch 53/100\n",
      "20/20 [==============================] - 0s 1ms/step - loss: 0.0477 - accuracy: 0.9812 - val_loss: 0.0857 - val_accuracy: 0.9689\n",
      "Epoch 54/100\n",
      "20/20 [==============================] - 0s 1ms/step - loss: 0.0461 - accuracy: 0.9828 - val_loss: 0.0753 - val_accuracy: 0.9752\n",
      "Epoch 55/100\n",
      "20/20 [==============================] - 0s 1ms/step - loss: 0.0458 - accuracy: 0.9828 - val_loss: 0.0829 - val_accuracy: 0.9689\n",
      "Epoch 56/100\n",
      "20/20 [==============================] - 0s 1ms/step - loss: 0.0453 - accuracy: 0.9812 - val_loss: 0.0821 - val_accuracy: 0.9689\n",
      "Epoch 57/100\n",
      "20/20 [==============================] - 0s 1ms/step - loss: 0.0445 - accuracy: 0.9844 - val_loss: 0.0872 - val_accuracy: 0.9689\n",
      "Epoch 58/100\n",
      "20/20 [==============================] - 0s 2ms/step - loss: 0.0473 - accuracy: 0.9797 - val_loss: 0.0710 - val_accuracy: 0.9689\n",
      "Epoch 59/100\n",
      "20/20 [==============================] - 0s 2ms/step - loss: 0.0498 - accuracy: 0.9875 - val_loss: 0.0710 - val_accuracy: 0.9752\n",
      "Epoch 60/100\n",
      "20/20 [==============================] - 0s 2ms/step - loss: 0.0460 - accuracy: 0.9828 - val_loss: 0.0784 - val_accuracy: 0.9752\n",
      "Epoch 61/100\n",
      "20/20 [==============================] - 0s 2ms/step - loss: 0.0415 - accuracy: 0.9891 - val_loss: 0.1432 - val_accuracy: 0.9317\n",
      "Epoch 62/100\n",
      "20/20 [==============================] - 0s 2ms/step - loss: 0.0486 - accuracy: 0.9766 - val_loss: 0.0785 - val_accuracy: 0.9752\n",
      "Epoch 63/100\n",
      "20/20 [==============================] - 0s 1ms/step - loss: 0.0428 - accuracy: 0.9844 - val_loss: 0.0924 - val_accuracy: 0.9627\n",
      "Epoch 64/100\n",
      "20/20 [==============================] - 0s 2ms/step - loss: 0.0415 - accuracy: 0.9875 - val_loss: 0.0800 - val_accuracy: 0.9752\n",
      "Epoch 65/100\n",
      "20/20 [==============================] - 0s 2ms/step - loss: 0.0423 - accuracy: 0.9859 - val_loss: 0.0862 - val_accuracy: 0.9689\n",
      "Epoch 66/100\n",
      "20/20 [==============================] - 0s 2ms/step - loss: 0.0404 - accuracy: 0.9859 - val_loss: 0.0877 - val_accuracy: 0.9689\n",
      "Epoch 67/100\n",
      "20/20 [==============================] - 0s 1ms/step - loss: 0.0412 - accuracy: 0.9844 - val_loss: 0.0807 - val_accuracy: 0.9689\n",
      "Epoch 68/100\n",
      "20/20 [==============================] - 0s 2ms/step - loss: 0.0452 - accuracy: 0.9828 - val_loss: 0.0738 - val_accuracy: 0.9752\n",
      "Epoch 69/100\n",
      "20/20 [==============================] - 0s 1ms/step - loss: 0.0565 - accuracy: 0.9797 - val_loss: 0.1476 - val_accuracy: 0.9379\n",
      "Epoch 70/100\n",
      "20/20 [==============================] - 0s 2ms/step - loss: 0.0459 - accuracy: 0.9812 - val_loss: 0.1150 - val_accuracy: 0.9627\n",
      "Epoch 71/100\n",
      "20/20 [==============================] - 0s 2ms/step - loss: 0.0449 - accuracy: 0.9875 - val_loss: 0.1063 - val_accuracy: 0.9627\n",
      "Epoch 72/100\n",
      "20/20 [==============================] - 0s 2ms/step - loss: 0.0399 - accuracy: 0.9859 - val_loss: 0.0892 - val_accuracy: 0.9689\n",
      "Epoch 73/100\n",
      "20/20 [==============================] - 0s 1ms/step - loss: 0.0398 - accuracy: 0.9859 - val_loss: 0.0910 - val_accuracy: 0.9689\n",
      "Epoch 74/100\n",
      "20/20 [==============================] - 0s 2ms/step - loss: 0.0413 - accuracy: 0.9859 - val_loss: 0.0945 - val_accuracy: 0.9689\n",
      "Epoch 75/100\n",
      "20/20 [==============================] - 0s 1ms/step - loss: 0.0394 - accuracy: 0.9859 - val_loss: 0.0968 - val_accuracy: 0.9627\n",
      "Epoch 76/100\n",
      "20/20 [==============================] - 0s 1ms/step - loss: 0.0444 - accuracy: 0.9844 - val_loss: 0.0829 - val_accuracy: 0.9689\n",
      "Epoch 77/100\n",
      "20/20 [==============================] - 0s 2ms/step - loss: 0.0397 - accuracy: 0.9891 - val_loss: 0.0823 - val_accuracy: 0.9689\n",
      "Epoch 78/100\n",
      "20/20 [==============================] - 0s 2ms/step - loss: 0.0429 - accuracy: 0.9859 - val_loss: 0.1108 - val_accuracy: 0.9627\n",
      "Epoch 79/100\n",
      "20/20 [==============================] - 0s 1ms/step - loss: 0.0383 - accuracy: 0.9906 - val_loss: 0.0855 - val_accuracy: 0.9689\n",
      "Epoch 80/100\n",
      "20/20 [==============================] - 0s 2ms/step - loss: 0.0361 - accuracy: 0.9906 - val_loss: 0.0970 - val_accuracy: 0.9627\n",
      "Epoch 81/100\n",
      "20/20 [==============================] - 0s 2ms/step - loss: 0.0368 - accuracy: 0.9906 - val_loss: 0.1151 - val_accuracy: 0.9627\n",
      "Epoch 82/100\n",
      "20/20 [==============================] - 0s 2ms/step - loss: 0.0345 - accuracy: 0.9906 - val_loss: 0.0929 - val_accuracy: 0.9689\n",
      "Epoch 83/100\n",
      "20/20 [==============================] - 0s 1ms/step - loss: 0.0338 - accuracy: 0.9906 - val_loss: 0.1035 - val_accuracy: 0.9627\n",
      "Epoch 84/100\n",
      "20/20 [==============================] - 0s 2ms/step - loss: 0.0354 - accuracy: 0.9891 - val_loss: 0.1003 - val_accuracy: 0.9565\n",
      "Epoch 85/100\n",
      "20/20 [==============================] - 0s 2ms/step - loss: 0.0347 - accuracy: 0.9859 - val_loss: 0.0888 - val_accuracy: 0.9689\n",
      "Epoch 86/100\n",
      "20/20 [==============================] - 0s 2ms/step - loss: 0.0316 - accuracy: 0.9937 - val_loss: 0.1099 - val_accuracy: 0.9627\n",
      "Epoch 87/100\n",
      "20/20 [==============================] - 0s 2ms/step - loss: 0.0344 - accuracy: 0.9875 - val_loss: 0.0926 - val_accuracy: 0.9689\n",
      "Epoch 88/100\n",
      "20/20 [==============================] - 0s 1ms/step - loss: 0.0329 - accuracy: 0.9906 - val_loss: 0.0984 - val_accuracy: 0.9627\n",
      "Epoch 89/100\n",
      "20/20 [==============================] - 0s 2ms/step - loss: 0.0324 - accuracy: 0.9922 - val_loss: 0.1174 - val_accuracy: 0.9627\n",
      "Epoch 90/100\n",
      "20/20 [==============================] - 0s 2ms/step - loss: 0.0323 - accuracy: 0.9891 - val_loss: 0.0946 - val_accuracy: 0.9689\n",
      "Epoch 91/100\n",
      "20/20 [==============================] - 0s 2ms/step - loss: 0.0311 - accuracy: 0.9937 - val_loss: 0.1213 - val_accuracy: 0.9627\n",
      "Epoch 92/100\n",
      "20/20 [==============================] - 0s 2ms/step - loss: 0.0336 - accuracy: 0.9859 - val_loss: 0.0914 - val_accuracy: 0.9752\n",
      "Epoch 93/100\n",
      "20/20 [==============================] - 0s 1ms/step - loss: 0.0335 - accuracy: 0.9922 - val_loss: 0.0931 - val_accuracy: 0.9689\n",
      "Epoch 94/100\n",
      "20/20 [==============================] - 0s 2ms/step - loss: 0.0398 - accuracy: 0.9859 - val_loss: 0.0978 - val_accuracy: 0.9689\n",
      "Epoch 95/100\n",
      "20/20 [==============================] - 0s 2ms/step - loss: 0.0423 - accuracy: 0.9875 - val_loss: 0.0945 - val_accuracy: 0.9689\n",
      "Epoch 96/100\n",
      "20/20 [==============================] - 0s 1ms/step - loss: 0.0351 - accuracy: 0.9906 - val_loss: 0.0966 - val_accuracy: 0.9689\n",
      "Epoch 97/100\n",
      "20/20 [==============================] - 0s 1ms/step - loss: 0.0326 - accuracy: 0.9891 - val_loss: 0.1110 - val_accuracy: 0.9627\n",
      "Epoch 98/100\n",
      "20/20 [==============================] - 0s 2ms/step - loss: 0.0298 - accuracy: 0.9922 - val_loss: 0.0966 - val_accuracy: 0.9689\n",
      "Epoch 99/100\n",
      "20/20 [==============================] - 0s 1ms/step - loss: 0.0290 - accuracy: 0.9891 - val_loss: 0.1003 - val_accuracy: 0.9689\n",
      "Epoch 100/100\n",
      "20/20 [==============================] - 0s 2ms/step - loss: 0.0288 - accuracy: 0.9937 - val_loss: 0.1232 - val_accuracy: 0.9565\n",
      "11/11 [==============================] - 0s 600us/step - loss: 0.1153 - accuracy: 0.9709\n",
      "Test Accuracy: 0.9709302186965942\n",
      "11/11 [==============================] - 0s 500us/step\n",
      "Accuracy: 0.9709302325581395\n",
      "Precision: 0.8095238095238095\n",
      "Recall: 0.7391304347826086\n",
      "F1: 0.7727272727272727\n",
      "AUC: 0.9776513612352702\n"
     ]
    }
   ],
   "execution_count": 25
  },
  {
   "metadata": {
    "ExecuteTime": {
     "end_time": "2024-11-02T20:17:58.638807Z",
     "start_time": "2024-11-02T20:17:58.561612Z"
    }
   },
   "cell_type": "code",
   "source": [
    "confusion_matrix_heatmap(y_test, y_pred)"
   ],
   "id": "f9acfb5c15f27acd",
   "outputs": [
    {
     "data": {
      "text/plain": [
       "<Figure size 800x600 with 1 Axes>"
      ],
      "image/png": "[encoded data removed]"
     },
     "metadata": {},
     "output_type": "display_data"
    }
   ],
   "execution_count": 26
  },
  {
   "cell_type": "markdown",
   "source": [
    "CHI2"
   ],
   "metadata": {
    "collapsed": false
   },
   "id": "17667f3858c63c3b"
  },
  {
   "cell_type": "code",
   "source": [
    "\n",
    "RN = Sequential()\n",
    "\n",
    "input_dim = X_train[SAX2Features].shape[1]\n",
    "RN.add(Dense(units=64, activation='relu', input_dim=input_dim))\n",
    "RN.add(Dense(units=32, activation='relu'))\n",
    "RN.add(Dense(units=1, activation='sigmoid'))\n",
    "RN.compile(optimizer=Adam(learning_rate=0.001),\n",
    "           loss=BinaryCrossentropy(),\n",
    "           metrics=['accuracy'])\n",
    "\n",
    "history = RN.fit(X_train[SAX2Features], y_train, epochs=100, batch_size=32, validation_split=0.2)\n",
    "\n",
    "loss, accuracy = RN.evaluate(X_test[SAX2Features], y_test)\n",
    "\n",
    "print(f'Test Accuracy: {accuracy}')\n",
    "y_pred_prob = RN.predict(X_test[SAX2Features])\n",
    "y_pred = (y_pred_prob > 0.5).astype(int)\n",
    "\n",
    "print(\"Accuracy:\", accuracy_score(y_test, y_pred))\n",
    "print(\"Precision:\", precision_score(y_test, y_pred))\n",
    "print(\"Recall:\", recall_score(y_test, y_pred))\n",
    "print(\"F1:\", f1_score(y_test, y_pred))\n",
    "print(\"AUC:\", roc_auc_score(y_test, y_pred_prob))\n",
    "add_result(\"Neural Network\", \"X2\", accuracy_score(y_test, y_pred), precision_score(y_test, y_pred), recall_score(y_test, y_pred), f1_score(y_test, y_pred), roc_auc_score(y_test, y_pred_prob))"
   ],
   "metadata": {
    "collapsed": false,
    "ExecuteTime": {
     "end_time": "2024-11-02T20:18:02.377341Z",
     "start_time": "2024-11-02T20:17:58.671217Z"
    }
   },
   "id": "18871e152c695a6b",
   "outputs": [
    {
     "name": "stdout",
     "output_type": "stream",
     "text": [
      "Epoch 1/100\n"
     ]
    },
    {
     "name": "stderr",
     "output_type": "stream",
     "text": [
      "C:\\Users\\Randall\\AppData\\Local\\Programs\\Python\\Python310\\lib\\site-packages\\keras\\engine\\data_adapter.py:1700: FutureWarning: The behavior of `series[i:j]` with an integer-dtype index is deprecated. In a future version, this will be treated as *label-based* indexing, consistent with e.g. `series[i]` lookups. To retain the old behavior, use `series.iloc[i:j]`. To get the future behavior, use `series.loc[i:j]`.\n",
      "  return t[start:end]\n"
     ]
    },
    {
     "name": "stdout",
     "output_type": "stream",
     "text": [
      "20/20 [==============================] - 1s 6ms/step - loss: 0.5559 - accuracy: 0.7859 - val_loss: 0.3724 - val_accuracy: 0.9193\n",
      "Epoch 2/100\n",
      "20/20 [==============================] - 0s 2ms/step - loss: 0.3316 - accuracy: 0.8984 - val_loss: 0.2662 - val_accuracy: 0.9193\n",
      "Epoch 3/100\n",
      "20/20 [==============================] - 0s 1ms/step - loss: 0.2734 - accuracy: 0.8984 - val_loss: 0.2297 - val_accuracy: 0.9193\n",
      "Epoch 4/100\n",
      "20/20 [==============================] - 0s 2ms/step - loss: 0.2182 - accuracy: 0.9078 - val_loss: 0.1872 - val_accuracy: 0.9255\n",
      "Epoch 5/100\n",
      "20/20 [==============================] - 0s 1ms/step - loss: 0.1723 - accuracy: 0.9250 - val_loss: 0.1554 - val_accuracy: 0.9317\n",
      "Epoch 6/100\n",
      "20/20 [==============================] - 0s 2ms/step - loss: 0.1426 - accuracy: 0.9500 - val_loss: 0.1415 - val_accuracy: 0.9379\n",
      "Epoch 7/100\n",
      "20/20 [==============================] - 0s 1ms/step - loss: 0.1269 - accuracy: 0.9531 - val_loss: 0.1236 - val_accuracy: 0.9503\n",
      "Epoch 8/100\n",
      "20/20 [==============================] - 0s 1ms/step - loss: 0.1162 - accuracy: 0.9578 - val_loss: 0.1373 - val_accuracy: 0.9317\n",
      "Epoch 9/100\n",
      "20/20 [==============================] - 0s 1ms/step - loss: 0.1099 - accuracy: 0.9578 - val_loss: 0.1118 - val_accuracy: 0.9379\n",
      "Epoch 10/100\n",
      "20/20 [==============================] - 0s 1ms/step - loss: 0.1022 - accuracy: 0.9531 - val_loss: 0.1049 - val_accuracy: 0.9503\n",
      "Epoch 11/100\n",
      "20/20 [==============================] - 0s 1ms/step - loss: 0.0961 - accuracy: 0.9656 - val_loss: 0.1153 - val_accuracy: 0.9379\n",
      "Epoch 12/100\n",
      "20/20 [==============================] - 0s 1ms/step - loss: 0.0984 - accuracy: 0.9563 - val_loss: 0.0969 - val_accuracy: 0.9627\n",
      "Epoch 13/100\n",
      "20/20 [==============================] - 0s 1ms/step - loss: 0.0897 - accuracy: 0.9594 - val_loss: 0.1133 - val_accuracy: 0.9379\n",
      "Epoch 14/100\n",
      "20/20 [==============================] - 0s 2ms/step - loss: 0.0910 - accuracy: 0.9641 - val_loss: 0.1058 - val_accuracy: 0.9379\n",
      "Epoch 15/100\n",
      "20/20 [==============================] - 0s 1ms/step - loss: 0.0876 - accuracy: 0.9625 - val_loss: 0.1081 - val_accuracy: 0.9379\n",
      "Epoch 16/100\n",
      "20/20 [==============================] - 0s 2ms/step - loss: 0.0841 - accuracy: 0.9609 - val_loss: 0.0873 - val_accuracy: 0.9565\n",
      "Epoch 17/100\n",
      "20/20 [==============================] - 0s 2ms/step - loss: 0.0818 - accuracy: 0.9672 - val_loss: 0.0868 - val_accuracy: 0.9627\n",
      "Epoch 18/100\n",
      "20/20 [==============================] - 0s 1ms/step - loss: 0.0779 - accuracy: 0.9688 - val_loss: 0.1041 - val_accuracy: 0.9379\n",
      "Epoch 19/100\n",
      "20/20 [==============================] - 0s 1ms/step - loss: 0.0764 - accuracy: 0.9688 - val_loss: 0.0829 - val_accuracy: 0.9627\n",
      "Epoch 20/100\n",
      "20/20 [==============================] - 0s 1ms/step - loss: 0.0753 - accuracy: 0.9703 - val_loss: 0.0876 - val_accuracy: 0.9503\n",
      "Epoch 21/100\n",
      "20/20 [==============================] - 0s 2ms/step - loss: 0.0748 - accuracy: 0.9719 - val_loss: 0.0987 - val_accuracy: 0.9379\n",
      "Epoch 22/100\n",
      "20/20 [==============================] - 0s 2ms/step - loss: 0.0824 - accuracy: 0.9656 - val_loss: 0.0864 - val_accuracy: 0.9627\n",
      "Epoch 23/100\n",
      "20/20 [==============================] - 0s 1ms/step - loss: 0.0713 - accuracy: 0.9781 - val_loss: 0.0787 - val_accuracy: 0.9627\n",
      "Epoch 24/100\n",
      "20/20 [==============================] - 0s 1ms/step - loss: 0.0714 - accuracy: 0.9688 - val_loss: 0.1113 - val_accuracy: 0.9379\n",
      "Epoch 25/100\n",
      "20/20 [==============================] - 0s 1ms/step - loss: 0.0691 - accuracy: 0.9719 - val_loss: 0.0816 - val_accuracy: 0.9627\n",
      "Epoch 26/100\n",
      "20/20 [==============================] - 0s 1ms/step - loss: 0.0676 - accuracy: 0.9781 - val_loss: 0.0828 - val_accuracy: 0.9627\n",
      "Epoch 27/100\n",
      "20/20 [==============================] - 0s 2ms/step - loss: 0.0686 - accuracy: 0.9734 - val_loss: 0.0753 - val_accuracy: 0.9689\n",
      "Epoch 28/100\n",
      "20/20 [==============================] - 0s 1ms/step - loss: 0.0708 - accuracy: 0.9719 - val_loss: 0.0898 - val_accuracy: 0.9503\n",
      "Epoch 29/100\n",
      "20/20 [==============================] - 0s 1ms/step - loss: 0.0631 - accuracy: 0.9750 - val_loss: 0.0833 - val_accuracy: 0.9627\n",
      "Epoch 30/100\n",
      "20/20 [==============================] - 0s 2ms/step - loss: 0.0629 - accuracy: 0.9828 - val_loss: 0.0832 - val_accuracy: 0.9627\n",
      "Epoch 31/100\n",
      "20/20 [==============================] - 0s 2ms/step - loss: 0.0612 - accuracy: 0.9781 - val_loss: 0.0764 - val_accuracy: 0.9627\n",
      "Epoch 32/100\n",
      "20/20 [==============================] - 0s 2ms/step - loss: 0.0610 - accuracy: 0.9812 - val_loss: 0.0949 - val_accuracy: 0.9441\n",
      "Epoch 33/100\n",
      "20/20 [==============================] - 0s 1ms/step - loss: 0.0592 - accuracy: 0.9828 - val_loss: 0.0793 - val_accuracy: 0.9627\n",
      "Epoch 34/100\n",
      "20/20 [==============================] - 0s 2ms/step - loss: 0.0591 - accuracy: 0.9828 - val_loss: 0.0885 - val_accuracy: 0.9627\n",
      "Epoch 35/100\n",
      "20/20 [==============================] - 0s 1ms/step - loss: 0.0610 - accuracy: 0.9781 - val_loss: 0.0937 - val_accuracy: 0.9503\n",
      "Epoch 36/100\n",
      "20/20 [==============================] - 0s 1ms/step - loss: 0.0604 - accuracy: 0.9781 - val_loss: 0.0871 - val_accuracy: 0.9627\n",
      "Epoch 37/100\n",
      "20/20 [==============================] - 0s 2ms/step - loss: 0.0569 - accuracy: 0.9828 - val_loss: 0.0838 - val_accuracy: 0.9627\n",
      "Epoch 38/100\n",
      "20/20 [==============================] - 0s 2ms/step - loss: 0.0562 - accuracy: 0.9828 - val_loss: 0.0790 - val_accuracy: 0.9627\n",
      "Epoch 39/100\n",
      "20/20 [==============================] - 0s 2ms/step - loss: 0.0581 - accuracy: 0.9797 - val_loss: 0.0986 - val_accuracy: 0.9503\n",
      "Epoch 40/100\n",
      "20/20 [==============================] - 0s 1ms/step - loss: 0.0537 - accuracy: 0.9844 - val_loss: 0.0718 - val_accuracy: 0.9752\n",
      "Epoch 41/100\n",
      "20/20 [==============================] - 0s 1ms/step - loss: 0.0571 - accuracy: 0.9812 - val_loss: 0.0974 - val_accuracy: 0.9503\n",
      "Epoch 42/100\n",
      "20/20 [==============================] - 0s 2ms/step - loss: 0.0532 - accuracy: 0.9844 - val_loss: 0.0727 - val_accuracy: 0.9689\n",
      "Epoch 43/100\n",
      "20/20 [==============================] - 0s 1ms/step - loss: 0.0546 - accuracy: 0.9828 - val_loss: 0.0767 - val_accuracy: 0.9627\n",
      "Epoch 44/100\n",
      "20/20 [==============================] - 0s 1ms/step - loss: 0.0577 - accuracy: 0.9781 - val_loss: 0.0844 - val_accuracy: 0.9627\n",
      "Epoch 45/100\n",
      "20/20 [==============================] - 0s 1ms/step - loss: 0.0530 - accuracy: 0.9828 - val_loss: 0.0786 - val_accuracy: 0.9627\n",
      "Epoch 46/100\n",
      "20/20 [==============================] - 0s 1ms/step - loss: 0.0531 - accuracy: 0.9812 - val_loss: 0.0800 - val_accuracy: 0.9627\n",
      "Epoch 47/100\n",
      "20/20 [==============================] - 0s 2ms/step - loss: 0.0538 - accuracy: 0.9844 - val_loss: 0.0725 - val_accuracy: 0.9752\n",
      "Epoch 48/100\n",
      "20/20 [==============================] - 0s 2ms/step - loss: 0.0557 - accuracy: 0.9828 - val_loss: 0.0831 - val_accuracy: 0.9627\n",
      "Epoch 49/100\n",
      "20/20 [==============================] - 0s 1ms/step - loss: 0.0505 - accuracy: 0.9844 - val_loss: 0.0902 - val_accuracy: 0.9565\n",
      "Epoch 50/100\n",
      "20/20 [==============================] - 0s 2ms/step - loss: 0.0527 - accuracy: 0.9828 - val_loss: 0.0718 - val_accuracy: 0.9752\n",
      "Epoch 51/100\n",
      "20/20 [==============================] - 0s 1ms/step - loss: 0.0522 - accuracy: 0.9812 - val_loss: 0.0767 - val_accuracy: 0.9627\n",
      "Epoch 52/100\n",
      "20/20 [==============================] - 0s 1ms/step - loss: 0.0498 - accuracy: 0.9859 - val_loss: 0.0918 - val_accuracy: 0.9627\n",
      "Epoch 53/100\n",
      "20/20 [==============================] - 0s 1ms/step - loss: 0.0489 - accuracy: 0.9859 - val_loss: 0.0740 - val_accuracy: 0.9689\n",
      "Epoch 54/100\n",
      "20/20 [==============================] - 0s 2ms/step - loss: 0.0493 - accuracy: 0.9859 - val_loss: 0.0838 - val_accuracy: 0.9627\n",
      "Epoch 55/100\n",
      "20/20 [==============================] - 0s 1ms/step - loss: 0.0495 - accuracy: 0.9875 - val_loss: 0.0737 - val_accuracy: 0.9752\n",
      "Epoch 56/100\n",
      "20/20 [==============================] - 0s 1ms/step - loss: 0.0514 - accuracy: 0.9828 - val_loss: 0.0817 - val_accuracy: 0.9627\n",
      "Epoch 57/100\n",
      "20/20 [==============================] - 0s 2ms/step - loss: 0.0478 - accuracy: 0.9859 - val_loss: 0.0761 - val_accuracy: 0.9627\n",
      "Epoch 58/100\n",
      "20/20 [==============================] - 0s 1ms/step - loss: 0.0469 - accuracy: 0.9875 - val_loss: 0.0856 - val_accuracy: 0.9627\n",
      "Epoch 59/100\n",
      "20/20 [==============================] - 0s 1ms/step - loss: 0.0451 - accuracy: 0.9859 - val_loss: 0.1024 - val_accuracy: 0.9565\n",
      "Epoch 60/100\n",
      "20/20 [==============================] - 0s 1ms/step - loss: 0.0512 - accuracy: 0.9844 - val_loss: 0.0847 - val_accuracy: 0.9627\n",
      "Epoch 61/100\n",
      "20/20 [==============================] - 0s 1ms/step - loss: 0.0442 - accuracy: 0.9875 - val_loss: 0.0868 - val_accuracy: 0.9689\n",
      "Epoch 62/100\n",
      "20/20 [==============================] - 0s 1ms/step - loss: 0.0451 - accuracy: 0.9859 - val_loss: 0.0878 - val_accuracy: 0.9627\n",
      "Epoch 63/100\n",
      "20/20 [==============================] - 0s 1ms/step - loss: 0.0435 - accuracy: 0.9875 - val_loss: 0.0931 - val_accuracy: 0.9689\n",
      "Epoch 64/100\n",
      "20/20 [==============================] - 0s 1ms/step - loss: 0.0481 - accuracy: 0.9875 - val_loss: 0.0769 - val_accuracy: 0.9627\n",
      "Epoch 65/100\n",
      "20/20 [==============================] - 0s 2ms/step - loss: 0.0503 - accuracy: 0.9844 - val_loss: 0.0864 - val_accuracy: 0.9689\n",
      "Epoch 66/100\n",
      "20/20 [==============================] - 0s 2ms/step - loss: 0.0428 - accuracy: 0.9875 - val_loss: 0.0855 - val_accuracy: 0.9627\n",
      "Epoch 67/100\n",
      "20/20 [==============================] - 0s 1ms/step - loss: 0.0438 - accuracy: 0.9875 - val_loss: 0.1130 - val_accuracy: 0.9565\n",
      "Epoch 68/100\n",
      "20/20 [==============================] - 0s 1ms/step - loss: 0.0472 - accuracy: 0.9844 - val_loss: 0.0794 - val_accuracy: 0.9627\n",
      "Epoch 69/100\n",
      "20/20 [==============================] - 0s 1ms/step - loss: 0.0418 - accuracy: 0.9891 - val_loss: 0.0786 - val_accuracy: 0.9689\n",
      "Epoch 70/100\n",
      "20/20 [==============================] - 0s 1ms/step - loss: 0.0436 - accuracy: 0.9906 - val_loss: 0.0834 - val_accuracy: 0.9627\n",
      "Epoch 71/100\n",
      "20/20 [==============================] - 0s 1ms/step - loss: 0.0408 - accuracy: 0.9875 - val_loss: 0.0770 - val_accuracy: 0.9689\n",
      "Epoch 72/100\n",
      "20/20 [==============================] - 0s 1ms/step - loss: 0.0424 - accuracy: 0.9844 - val_loss: 0.0832 - val_accuracy: 0.9627\n",
      "Epoch 73/100\n",
      "20/20 [==============================] - 0s 2ms/step - loss: 0.0406 - accuracy: 0.9906 - val_loss: 0.0761 - val_accuracy: 0.9689\n",
      "Epoch 74/100\n",
      "20/20 [==============================] - 0s 1ms/step - loss: 0.0401 - accuracy: 0.9875 - val_loss: 0.1058 - val_accuracy: 0.9627\n",
      "Epoch 75/100\n",
      "20/20 [==============================] - 0s 2ms/step - loss: 0.0418 - accuracy: 0.9875 - val_loss: 0.0888 - val_accuracy: 0.9627\n",
      "Epoch 76/100\n",
      "20/20 [==============================] - 0s 2ms/step - loss: 0.0380 - accuracy: 0.9891 - val_loss: 0.1037 - val_accuracy: 0.9627\n",
      "Epoch 77/100\n",
      "20/20 [==============================] - 0s 1ms/step - loss: 0.0416 - accuracy: 0.9906 - val_loss: 0.0893 - val_accuracy: 0.9627\n",
      "Epoch 78/100\n",
      "20/20 [==============================] - 0s 1ms/step - loss: 0.0369 - accuracy: 0.9891 - val_loss: 0.0800 - val_accuracy: 0.9689\n",
      "Epoch 79/100\n",
      "20/20 [==============================] - 0s 2ms/step - loss: 0.0439 - accuracy: 0.9859 - val_loss: 0.0871 - val_accuracy: 0.9627\n",
      "Epoch 80/100\n",
      "20/20 [==============================] - 0s 1ms/step - loss: 0.0376 - accuracy: 0.9875 - val_loss: 0.0868 - val_accuracy: 0.9627\n",
      "Epoch 81/100\n",
      "20/20 [==============================] - 0s 1ms/step - loss: 0.0399 - accuracy: 0.9906 - val_loss: 0.0920 - val_accuracy: 0.9689\n",
      "Epoch 82/100\n",
      "20/20 [==============================] - 0s 1ms/step - loss: 0.0376 - accuracy: 0.9906 - val_loss: 0.0866 - val_accuracy: 0.9689\n",
      "Epoch 83/100\n",
      "20/20 [==============================] - 0s 2ms/step - loss: 0.0389 - accuracy: 0.9891 - val_loss: 0.0789 - val_accuracy: 0.9752\n",
      "Epoch 84/100\n",
      "20/20 [==============================] - 0s 1ms/step - loss: 0.0364 - accuracy: 0.9906 - val_loss: 0.0972 - val_accuracy: 0.9689\n",
      "Epoch 85/100\n",
      "20/20 [==============================] - 0s 1ms/step - loss: 0.0352 - accuracy: 0.9906 - val_loss: 0.0825 - val_accuracy: 0.9689\n",
      "Epoch 86/100\n",
      "20/20 [==============================] - 0s 1ms/step - loss: 0.0386 - accuracy: 0.9891 - val_loss: 0.0865 - val_accuracy: 0.9627\n",
      "Epoch 87/100\n",
      "20/20 [==============================] - 0s 1ms/step - loss: 0.0368 - accuracy: 0.9891 - val_loss: 0.0821 - val_accuracy: 0.9689\n",
      "Epoch 88/100\n",
      "20/20 [==============================] - 0s 2ms/step - loss: 0.0395 - accuracy: 0.9906 - val_loss: 0.0835 - val_accuracy: 0.9689\n",
      "Epoch 89/100\n",
      "20/20 [==============================] - 0s 2ms/step - loss: 0.0376 - accuracy: 0.9891 - val_loss: 0.1227 - val_accuracy: 0.9565\n",
      "Epoch 90/100\n",
      "20/20 [==============================] - 0s 2ms/step - loss: 0.0389 - accuracy: 0.9875 - val_loss: 0.1530 - val_accuracy: 0.9441\n",
      "Epoch 91/100\n",
      "20/20 [==============================] - 0s 2ms/step - loss: 0.0444 - accuracy: 0.9812 - val_loss: 0.0957 - val_accuracy: 0.9689\n",
      "Epoch 92/100\n",
      "20/20 [==============================] - 0s 1ms/step - loss: 0.0331 - accuracy: 0.9922 - val_loss: 0.1021 - val_accuracy: 0.9689\n",
      "Epoch 93/100\n",
      "20/20 [==============================] - 0s 1ms/step - loss: 0.0338 - accuracy: 0.9922 - val_loss: 0.1037 - val_accuracy: 0.9689\n",
      "Epoch 94/100\n",
      "20/20 [==============================] - 0s 1ms/step - loss: 0.0336 - accuracy: 0.9906 - val_loss: 0.0866 - val_accuracy: 0.9627\n",
      "Epoch 95/100\n",
      "20/20 [==============================] - 0s 1ms/step - loss: 0.0337 - accuracy: 0.9891 - val_loss: 0.0942 - val_accuracy: 0.9689\n",
      "Epoch 96/100\n",
      "20/20 [==============================] - 0s 2ms/step - loss: 0.0325 - accuracy: 0.9906 - val_loss: 0.1087 - val_accuracy: 0.9689\n",
      "Epoch 97/100\n",
      "20/20 [==============================] - 0s 1ms/step - loss: 0.0361 - accuracy: 0.9875 - val_loss: 0.0955 - val_accuracy: 0.9689\n",
      "Epoch 98/100\n",
      "20/20 [==============================] - 0s 2ms/step - loss: 0.0334 - accuracy: 0.9922 - val_loss: 0.0983 - val_accuracy: 0.9689\n",
      "Epoch 99/100\n",
      "20/20 [==============================] - 0s 2ms/step - loss: 0.0323 - accuracy: 0.9906 - val_loss: 0.1278 - val_accuracy: 0.9565\n",
      "Epoch 100/100\n",
      "20/20 [==============================] - 0s 1ms/step - loss: 0.0347 - accuracy: 0.9922 - val_loss: 0.1040 - val_accuracy: 0.9689\n",
      "11/11 [==============================] - 0s 700us/step - loss: 0.1532 - accuracy: 0.9477\n",
      "Test Accuracy: 0.9476743936538696\n",
      "11/11 [==============================] - 0s 500us/step\n",
      "Accuracy: 0.9476744186046512\n",
      "Precision: 0.6086956521739131\n",
      "Recall: 0.6086956521739131\n",
      "F1: 0.6086956521739131\n",
      "AUC: 0.9702018149803603\n"
     ]
    }
   ],
   "execution_count": 27
  },
  {
   "metadata": {
    "ExecuteTime": {
     "end_time": "2024-11-02T20:18:02.488361Z",
     "start_time": "2024-11-02T20:18:02.410342Z"
    }
   },
   "cell_type": "code",
   "source": [
    "confusion_matrix_heatmap(y_test, y_pred)"
   ],
   "id": "2eb1aa5535799a05",
   "outputs": [
    {
     "data": {
      "text/plain": [
       "<Figure size 800x600 with 1 Axes>"
      ],
      "image/png": "[encoded data removed]"
     },
     "metadata": {},
     "output_type": "display_data"
    }
   ],
   "execution_count": 28
  },
  {
   "cell_type": "markdown",
   "source": [
    "RELIEFF"
   ],
   "metadata": {
    "collapsed": false
   },
   "id": "1248f7a794251bcb"
  },
  {
   "cell_type": "code",
   "source": [
    "RN = Sequential()\n",
    "\n",
    "input_dim = X_train[SARFFeatures].shape[1]\n",
    "RN.add(Dense(units=64, activation='relu', input_dim=input_dim))\n",
    "RN.add(Dense(units=32, activation='relu'))\n",
    "RN.add(Dense(units=1, activation='sigmoid'))\n",
    "RN.compile(optimizer=Adam(learning_rate=0.001),\n",
    "           loss=BinaryCrossentropy(),\n",
    "           metrics=['accuracy'])\n",
    "\n",
    "history = RN.fit(X_train[SARFFeatures], y_train, epochs=100, batch_size=32, validation_split=0.2)\n",
    "\n",
    "loss, accuracy = RN.evaluate(X_test[SARFFeatures], y_test)\n",
    "\n",
    "print(f'Test Accuracy: {accuracy}')\n",
    "y_pred_prob = RN.predict(X_test[SARFFeatures])\n",
    "y_pred = (y_pred_prob > 0.5).astype(int)\n",
    "\n",
    "print(\"Accuracy:\", accuracy_score(y_test, y_pred))\n",
    "print(\"Precision:\", precision_score(y_test, y_pred))\n",
    "print(\"Recall:\", recall_score(y_test, y_pred))\n",
    "print(\"F1:\", f1_score(y_test, y_pred))\n",
    "print(\"AUC:\", roc_auc_score(y_test, y_pred_prob))\n",
    "add_result(\"Neural Network\", \"Relief\", accuracy_score(y_test, y_pred), precision_score(y_test, y_pred), recall_score(y_test, y_pred), f1_score(y_test, y_pred), roc_auc_score(y_test, y_pred_prob))"
   ],
   "metadata": {
    "collapsed": false,
    "ExecuteTime": {
     "end_time": "2024-11-02T20:18:06.131035Z",
     "start_time": "2024-11-02T20:18:02.520151Z"
    }
   },
   "id": "f9e73b5be77d7950",
   "outputs": [
    {
     "name": "stdout",
     "output_type": "stream",
     "text": [
      "Epoch 1/100\n"
     ]
    },
    {
     "name": "stderr",
     "output_type": "stream",
     "text": [
      "C:\\Users\\Randall\\AppData\\Local\\Programs\\Python\\Python310\\lib\\site-packages\\keras\\engine\\data_adapter.py:1700: FutureWarning: The behavior of `series[i:j]` with an integer-dtype index is deprecated. In a future version, this will be treated as *label-based* indexing, consistent with e.g. `series[i]` lookups. To retain the old behavior, use `series.iloc[i:j]`. To get the future behavior, use `series.loc[i:j]`.\n",
      "  return t[start:end]\n"
     ]
    },
    {
     "name": "stdout",
     "output_type": "stream",
     "text": [
      "20/20 [==============================] - 0s 5ms/step - loss: 0.4801 - accuracy: 0.8625 - val_loss: 0.3123 - val_accuracy: 0.9193\n",
      "Epoch 2/100\n",
      "20/20 [==============================] - 0s 2ms/step - loss: 0.3140 - accuracy: 0.8984 - val_loss: 0.2600 - val_accuracy: 0.9193\n",
      "Epoch 3/100\n",
      "20/20 [==============================] - 0s 1ms/step - loss: 0.2532 - accuracy: 0.8984 - val_loss: 0.2183 - val_accuracy: 0.9193\n",
      "Epoch 4/100\n",
      "20/20 [==============================] - 0s 1ms/step - loss: 0.1940 - accuracy: 0.9172 - val_loss: 0.1732 - val_accuracy: 0.9317\n",
      "Epoch 5/100\n",
      "20/20 [==============================] - 0s 1ms/step - loss: 0.1455 - accuracy: 0.9484 - val_loss: 0.1424 - val_accuracy: 0.9379\n",
      "Epoch 6/100\n",
      "20/20 [==============================] - 0s 2ms/step - loss: 0.1190 - accuracy: 0.9594 - val_loss: 0.1215 - val_accuracy: 0.9503\n",
      "Epoch 7/100\n",
      "20/20 [==============================] - 0s 1ms/step - loss: 0.1033 - accuracy: 0.9641 - val_loss: 0.1098 - val_accuracy: 0.9565\n",
      "Epoch 8/100\n",
      "20/20 [==============================] - 0s 2ms/step - loss: 0.0949 - accuracy: 0.9625 - val_loss: 0.1010 - val_accuracy: 0.9503\n",
      "Epoch 9/100\n",
      "20/20 [==============================] - 0s 2ms/step - loss: 0.0961 - accuracy: 0.9625 - val_loss: 0.0957 - val_accuracy: 0.9689\n",
      "Epoch 10/100\n",
      "20/20 [==============================] - 0s 2ms/step - loss: 0.0834 - accuracy: 0.9688 - val_loss: 0.0951 - val_accuracy: 0.9503\n",
      "Epoch 11/100\n",
      "20/20 [==============================] - 0s 2ms/step - loss: 0.0791 - accuracy: 0.9656 - val_loss: 0.0934 - val_accuracy: 0.9503\n",
      "Epoch 12/100\n",
      "20/20 [==============================] - 0s 1ms/step - loss: 0.0786 - accuracy: 0.9688 - val_loss: 0.0976 - val_accuracy: 0.9379\n",
      "Epoch 13/100\n",
      "20/20 [==============================] - 0s 1ms/step - loss: 0.0782 - accuracy: 0.9672 - val_loss: 0.0942 - val_accuracy: 0.9379\n",
      "Epoch 14/100\n",
      "20/20 [==============================] - 0s 1ms/step - loss: 0.0731 - accuracy: 0.9703 - val_loss: 0.0926 - val_accuracy: 0.9379\n",
      "Epoch 15/100\n",
      "20/20 [==============================] - 0s 1ms/step - loss: 0.0708 - accuracy: 0.9656 - val_loss: 0.0791 - val_accuracy: 0.9689\n",
      "Epoch 16/100\n",
      "20/20 [==============================] - 0s 2ms/step - loss: 0.0702 - accuracy: 0.9750 - val_loss: 0.0863 - val_accuracy: 0.9503\n",
      "Epoch 17/100\n",
      "20/20 [==============================] - 0s 2ms/step - loss: 0.0671 - accuracy: 0.9703 - val_loss: 0.0750 - val_accuracy: 0.9752\n",
      "Epoch 18/100\n",
      "20/20 [==============================] - 0s 1ms/step - loss: 0.0702 - accuracy: 0.9734 - val_loss: 0.0770 - val_accuracy: 0.9752\n",
      "Epoch 19/100\n",
      "20/20 [==============================] - 0s 1ms/step - loss: 0.0645 - accuracy: 0.9781 - val_loss: 0.1142 - val_accuracy: 0.9441\n",
      "Epoch 20/100\n",
      "20/20 [==============================] - 0s 1ms/step - loss: 0.0692 - accuracy: 0.9688 - val_loss: 0.0718 - val_accuracy: 0.9752\n",
      "Epoch 21/100\n",
      "20/20 [==============================] - 0s 2ms/step - loss: 0.0652 - accuracy: 0.9766 - val_loss: 0.0711 - val_accuracy: 0.9752\n",
      "Epoch 22/100\n",
      "20/20 [==============================] - 0s 1ms/step - loss: 0.0607 - accuracy: 0.9812 - val_loss: 0.0873 - val_accuracy: 0.9503\n",
      "Epoch 23/100\n",
      "20/20 [==============================] - 0s 2ms/step - loss: 0.0613 - accuracy: 0.9812 - val_loss: 0.0843 - val_accuracy: 0.9503\n",
      "Epoch 24/100\n",
      "20/20 [==============================] - 0s 2ms/step - loss: 0.0677 - accuracy: 0.9719 - val_loss: 0.0781 - val_accuracy: 0.9689\n",
      "Epoch 25/100\n",
      "20/20 [==============================] - 0s 2ms/step - loss: 0.0572 - accuracy: 0.9812 - val_loss: 0.0730 - val_accuracy: 0.9752\n",
      "Epoch 26/100\n",
      "20/20 [==============================] - 0s 2ms/step - loss: 0.0573 - accuracy: 0.9812 - val_loss: 0.0837 - val_accuracy: 0.9565\n",
      "Epoch 27/100\n",
      "20/20 [==============================] - 0s 1ms/step - loss: 0.0585 - accuracy: 0.9781 - val_loss: 0.0861 - val_accuracy: 0.9565\n",
      "Epoch 28/100\n",
      "20/20 [==============================] - 0s 1ms/step - loss: 0.0598 - accuracy: 0.9750 - val_loss: 0.0706 - val_accuracy: 0.9752\n",
      "Epoch 29/100\n",
      "20/20 [==============================] - 0s 1ms/step - loss: 0.0539 - accuracy: 0.9844 - val_loss: 0.0834 - val_accuracy: 0.9565\n",
      "Epoch 30/100\n",
      "20/20 [==============================] - 0s 1ms/step - loss: 0.0552 - accuracy: 0.9828 - val_loss: 0.0725 - val_accuracy: 0.9689\n",
      "Epoch 31/100\n",
      "20/20 [==============================] - 0s 1ms/step - loss: 0.0546 - accuracy: 0.9812 - val_loss: 0.0677 - val_accuracy: 0.9752\n",
      "Epoch 32/100\n",
      "20/20 [==============================] - 0s 2ms/step - loss: 0.0579 - accuracy: 0.9828 - val_loss: 0.0713 - val_accuracy: 0.9689\n",
      "Epoch 33/100\n",
      "20/20 [==============================] - 0s 1ms/step - loss: 0.0555 - accuracy: 0.9812 - val_loss: 0.0679 - val_accuracy: 0.9752\n",
      "Epoch 34/100\n",
      "20/20 [==============================] - 0s 2ms/step - loss: 0.0525 - accuracy: 0.9812 - val_loss: 0.0737 - val_accuracy: 0.9689\n",
      "Epoch 35/100\n",
      "20/20 [==============================] - 0s 1ms/step - loss: 0.0509 - accuracy: 0.9844 - val_loss: 0.0722 - val_accuracy: 0.9689\n",
      "Epoch 36/100\n",
      "20/20 [==============================] - 0s 2ms/step - loss: 0.0500 - accuracy: 0.9828 - val_loss: 0.0699 - val_accuracy: 0.9689\n",
      "Epoch 37/100\n",
      "20/20 [==============================] - 0s 1ms/step - loss: 0.0487 - accuracy: 0.9844 - val_loss: 0.0807 - val_accuracy: 0.9565\n",
      "Epoch 38/100\n",
      "20/20 [==============================] - 0s 1ms/step - loss: 0.0505 - accuracy: 0.9812 - val_loss: 0.0746 - val_accuracy: 0.9689\n",
      "Epoch 39/100\n",
      "20/20 [==============================] - 0s 2ms/step - loss: 0.0502 - accuracy: 0.9812 - val_loss: 0.0761 - val_accuracy: 0.9627\n",
      "Epoch 40/100\n",
      "20/20 [==============================] - 0s 2ms/step - loss: 0.0494 - accuracy: 0.9859 - val_loss: 0.0662 - val_accuracy: 0.9752\n",
      "Epoch 41/100\n",
      "20/20 [==============================] - 0s 2ms/step - loss: 0.0472 - accuracy: 0.9859 - val_loss: 0.1014 - val_accuracy: 0.9441\n",
      "Epoch 42/100\n",
      "20/20 [==============================] - 0s 1ms/step - loss: 0.0538 - accuracy: 0.9781 - val_loss: 0.0698 - val_accuracy: 0.9689\n",
      "Epoch 43/100\n",
      "20/20 [==============================] - 0s 1ms/step - loss: 0.0481 - accuracy: 0.9844 - val_loss: 0.0646 - val_accuracy: 0.9752\n",
      "Epoch 44/100\n",
      "20/20 [==============================] - 0s 1ms/step - loss: 0.0536 - accuracy: 0.9797 - val_loss: 0.0906 - val_accuracy: 0.9565\n",
      "Epoch 45/100\n",
      "20/20 [==============================] - 0s 1ms/step - loss: 0.0630 - accuracy: 0.9750 - val_loss: 0.1263 - val_accuracy: 0.9379\n",
      "Epoch 46/100\n",
      "20/20 [==============================] - 0s 1ms/step - loss: 0.0538 - accuracy: 0.9781 - val_loss: 0.0859 - val_accuracy: 0.9565\n",
      "Epoch 47/100\n",
      "20/20 [==============================] - 0s 1ms/step - loss: 0.0468 - accuracy: 0.9797 - val_loss: 0.0744 - val_accuracy: 0.9689\n",
      "Epoch 48/100\n",
      "20/20 [==============================] - 0s 1ms/step - loss: 0.0448 - accuracy: 0.9844 - val_loss: 0.0730 - val_accuracy: 0.9689\n",
      "Epoch 49/100\n",
      "20/20 [==============================] - 0s 1ms/step - loss: 0.0455 - accuracy: 0.9859 - val_loss: 0.0765 - val_accuracy: 0.9627\n",
      "Epoch 50/100\n",
      "20/20 [==============================] - 0s 2ms/step - loss: 0.0455 - accuracy: 0.9828 - val_loss: 0.0650 - val_accuracy: 0.9752\n",
      "Epoch 51/100\n",
      "20/20 [==============================] - 0s 2ms/step - loss: 0.0476 - accuracy: 0.9844 - val_loss: 0.0689 - val_accuracy: 0.9752\n",
      "Epoch 52/100\n",
      "20/20 [==============================] - 0s 1ms/step - loss: 0.0502 - accuracy: 0.9812 - val_loss: 0.0649 - val_accuracy: 0.9752\n",
      "Epoch 53/100\n",
      "20/20 [==============================] - 0s 1ms/step - loss: 0.0488 - accuracy: 0.9875 - val_loss: 0.0782 - val_accuracy: 0.9565\n",
      "Epoch 54/100\n",
      "20/20 [==============================] - 0s 2ms/step - loss: 0.0444 - accuracy: 0.9844 - val_loss: 0.1025 - val_accuracy: 0.9503\n",
      "Epoch 55/100\n",
      "20/20 [==============================] - 0s 1ms/step - loss: 0.0479 - accuracy: 0.9828 - val_loss: 0.0648 - val_accuracy: 0.9752\n",
      "Epoch 56/100\n",
      "20/20 [==============================] - 0s 1ms/step - loss: 0.0464 - accuracy: 0.9859 - val_loss: 0.0716 - val_accuracy: 0.9689\n",
      "Epoch 57/100\n",
      "20/20 [==============================] - 0s 2ms/step - loss: 0.0492 - accuracy: 0.9797 - val_loss: 0.0784 - val_accuracy: 0.9627\n",
      "Epoch 58/100\n",
      "20/20 [==============================] - 0s 2ms/step - loss: 0.0429 - accuracy: 0.9859 - val_loss: 0.0839 - val_accuracy: 0.9565\n",
      "Epoch 59/100\n",
      "20/20 [==============================] - 0s 2ms/step - loss: 0.0428 - accuracy: 0.9891 - val_loss: 0.0751 - val_accuracy: 0.9627\n",
      "Epoch 60/100\n",
      "20/20 [==============================] - 0s 2ms/step - loss: 0.0451 - accuracy: 0.9828 - val_loss: 0.0641 - val_accuracy: 0.9689\n",
      "Epoch 61/100\n",
      "20/20 [==============================] - 0s 1ms/step - loss: 0.0422 - accuracy: 0.9859 - val_loss: 0.0829 - val_accuracy: 0.9565\n",
      "Epoch 62/100\n",
      "20/20 [==============================] - 0s 2ms/step - loss: 0.0402 - accuracy: 0.9875 - val_loss: 0.0828 - val_accuracy: 0.9565\n",
      "Epoch 63/100\n",
      "20/20 [==============================] - 0s 1ms/step - loss: 0.0501 - accuracy: 0.9844 - val_loss: 0.0869 - val_accuracy: 0.9565\n",
      "Epoch 64/100\n",
      "20/20 [==============================] - 0s 1ms/step - loss: 0.0581 - accuracy: 0.9734 - val_loss: 0.0655 - val_accuracy: 0.9689\n",
      "Epoch 65/100\n",
      "20/20 [==============================] - 0s 2ms/step - loss: 0.0435 - accuracy: 0.9812 - val_loss: 0.0803 - val_accuracy: 0.9565\n",
      "Epoch 66/100\n",
      "20/20 [==============================] - 0s 2ms/step - loss: 0.0391 - accuracy: 0.9891 - val_loss: 0.0774 - val_accuracy: 0.9565\n",
      "Epoch 67/100\n",
      "20/20 [==============================] - 0s 1ms/step - loss: 0.0391 - accuracy: 0.9828 - val_loss: 0.0668 - val_accuracy: 0.9752\n",
      "Epoch 68/100\n",
      "20/20 [==============================] - 0s 1ms/step - loss: 0.0427 - accuracy: 0.9875 - val_loss: 0.0769 - val_accuracy: 0.9565\n",
      "Epoch 69/100\n",
      "20/20 [==============================] - 0s 1ms/step - loss: 0.0397 - accuracy: 0.9906 - val_loss: 0.1070 - val_accuracy: 0.9503\n",
      "Epoch 70/100\n",
      "20/20 [==============================] - 0s 1ms/step - loss: 0.0404 - accuracy: 0.9859 - val_loss: 0.0696 - val_accuracy: 0.9689\n",
      "Epoch 71/100\n",
      "20/20 [==============================] - 0s 2ms/step - loss: 0.0402 - accuracy: 0.9875 - val_loss: 0.1276 - val_accuracy: 0.9441\n",
      "Epoch 72/100\n",
      "20/20 [==============================] - 0s 1ms/step - loss: 0.0430 - accuracy: 0.9875 - val_loss: 0.1084 - val_accuracy: 0.9503\n",
      "Epoch 73/100\n",
      "20/20 [==============================] - 0s 1ms/step - loss: 0.0373 - accuracy: 0.9875 - val_loss: 0.0718 - val_accuracy: 0.9752\n",
      "Epoch 74/100\n",
      "20/20 [==============================] - 0s 2ms/step - loss: 0.0389 - accuracy: 0.9875 - val_loss: 0.0695 - val_accuracy: 0.9752\n",
      "Epoch 75/100\n",
      "20/20 [==============================] - 0s 1ms/step - loss: 0.0361 - accuracy: 0.9891 - val_loss: 0.0823 - val_accuracy: 0.9565\n",
      "Epoch 76/100\n",
      "20/20 [==============================] - 0s 1ms/step - loss: 0.0356 - accuracy: 0.9891 - val_loss: 0.0865 - val_accuracy: 0.9565\n",
      "Epoch 77/100\n",
      "20/20 [==============================] - 0s 1ms/step - loss: 0.0363 - accuracy: 0.9875 - val_loss: 0.0668 - val_accuracy: 0.9814\n",
      "Epoch 78/100\n",
      "20/20 [==============================] - 0s 2ms/step - loss: 0.0351 - accuracy: 0.9891 - val_loss: 0.0909 - val_accuracy: 0.9565\n",
      "Epoch 79/100\n",
      "20/20 [==============================] - 0s 1ms/step - loss: 0.0401 - accuracy: 0.9891 - val_loss: 0.0722 - val_accuracy: 0.9752\n",
      "Epoch 80/100\n",
      "20/20 [==============================] - 0s 1ms/step - loss: 0.0365 - accuracy: 0.9875 - val_loss: 0.0792 - val_accuracy: 0.9627\n",
      "Epoch 81/100\n",
      "20/20 [==============================] - 0s 2ms/step - loss: 0.0342 - accuracy: 0.9922 - val_loss: 0.0823 - val_accuracy: 0.9565\n",
      "Epoch 82/100\n",
      "20/20 [==============================] - 0s 1ms/step - loss: 0.0360 - accuracy: 0.9844 - val_loss: 0.1145 - val_accuracy: 0.9503\n",
      "Epoch 83/100\n",
      "20/20 [==============================] - 0s 2ms/step - loss: 0.0373 - accuracy: 0.9875 - val_loss: 0.0857 - val_accuracy: 0.9565\n",
      "Epoch 84/100\n",
      "20/20 [==============================] - 0s 2ms/step - loss: 0.0362 - accuracy: 0.9859 - val_loss: 0.0681 - val_accuracy: 0.9689\n",
      "Epoch 85/100\n",
      "20/20 [==============================] - 0s 2ms/step - loss: 0.0392 - accuracy: 0.9875 - val_loss: 0.0817 - val_accuracy: 0.9565\n",
      "Epoch 86/100\n",
      "20/20 [==============================] - 0s 2ms/step - loss: 0.0333 - accuracy: 0.9906 - val_loss: 0.0811 - val_accuracy: 0.9627\n",
      "Epoch 87/100\n",
      "20/20 [==============================] - 0s 2ms/step - loss: 0.0356 - accuracy: 0.9906 - val_loss: 0.0769 - val_accuracy: 0.9627\n",
      "Epoch 88/100\n",
      "20/20 [==============================] - 0s 2ms/step - loss: 0.0368 - accuracy: 0.9875 - val_loss: 0.1033 - val_accuracy: 0.9503\n",
      "Epoch 89/100\n",
      "20/20 [==============================] - 0s 1ms/step - loss: 0.0327 - accuracy: 0.9891 - val_loss: 0.0719 - val_accuracy: 0.9689\n",
      "Epoch 90/100\n",
      "20/20 [==============================] - 0s 1ms/step - loss: 0.0322 - accuracy: 0.9937 - val_loss: 0.0951 - val_accuracy: 0.9503\n",
      "Epoch 91/100\n",
      "20/20 [==============================] - 0s 1ms/step - loss: 0.0329 - accuracy: 0.9922 - val_loss: 0.0800 - val_accuracy: 0.9627\n",
      "Epoch 92/100\n",
      "20/20 [==============================] - 0s 1ms/step - loss: 0.0312 - accuracy: 0.9875 - val_loss: 0.0780 - val_accuracy: 0.9627\n",
      "Epoch 93/100\n",
      "20/20 [==============================] - 0s 2ms/step - loss: 0.0338 - accuracy: 0.9844 - val_loss: 0.0922 - val_accuracy: 0.9503\n",
      "Epoch 94/100\n",
      "20/20 [==============================] - 0s 2ms/step - loss: 0.0304 - accuracy: 0.9906 - val_loss: 0.0878 - val_accuracy: 0.9565\n",
      "Epoch 95/100\n",
      "20/20 [==============================] - 0s 1ms/step - loss: 0.0315 - accuracy: 0.9906 - val_loss: 0.1014 - val_accuracy: 0.9503\n",
      "Epoch 96/100\n",
      "20/20 [==============================] - 0s 1ms/step - loss: 0.0291 - accuracy: 0.9906 - val_loss: 0.0764 - val_accuracy: 0.9752\n",
      "Epoch 97/100\n",
      "20/20 [==============================] - 0s 1ms/step - loss: 0.0310 - accuracy: 0.9906 - val_loss: 0.0804 - val_accuracy: 0.9627\n",
      "Epoch 98/100\n",
      "20/20 [==============================] - 0s 2ms/step - loss: 0.0324 - accuracy: 0.9891 - val_loss: 0.1167 - val_accuracy: 0.9503\n",
      "Epoch 99/100\n",
      "20/20 [==============================] - 0s 2ms/step - loss: 0.0380 - accuracy: 0.9875 - val_loss: 0.0867 - val_accuracy: 0.9627\n",
      "Epoch 100/100\n",
      "20/20 [==============================] - 0s 1ms/step - loss: 0.0313 - accuracy: 0.9906 - val_loss: 0.0857 - val_accuracy: 0.9627\n",
      "11/11 [==============================] - 0s 700us/step - loss: 0.1369 - accuracy: 0.9564\n",
      "Test Accuracy: 0.9563953280448914\n",
      "11/11 [==============================] - 0s 500us/step\n",
      "Accuracy: 0.9563953488372093\n",
      "Precision: 0.7\n",
      "Recall: 0.6086956521739131\n",
      "F1: 0.6511627906976744\n",
      "AUC: 0.9753487742110253\n"
     ]
    }
   ],
   "execution_count": 29
  },
  {
   "metadata": {
    "ExecuteTime": {
     "end_time": "2024-11-02T20:18:06.241081Z",
     "start_time": "2024-11-02T20:18:06.163063Z"
    }
   },
   "cell_type": "code",
   "source": [
    "confusion_matrix_heatmap(y_test, y_pred)"
   ],
   "id": "146ff0e7c8902f4d",
   "outputs": [
    {
     "data": {
      "text/plain": [
       "<Figure size 800x600 with 1 Axes>"
      ],
      "image/png": "[encoded data removed]"
     },
     "metadata": {},
     "output_type": "display_data"
    }
   ],
   "execution_count": 30
  },
  {
   "metadata": {},
   "cell_type": "code",
   "source": [
    "display_tables()"
   ],
   "id": "2c1b0839b10cfeb9",
   "execution_count": 31,
   "outputs": [
    {
     "data": {
      "text/plain": [
       "                    Accuracy Precision    Recall  F1 Score       AUC\n",
       "Mutual Information  0.930233  0.486486  0.782609       0.6  0.861709\n",
       "X2                   0.93314       0.5  0.782609  0.610169  0.863267\n",
       "Relief               0.94186  0.545455  0.782609  0.642857   0.86794"
      ],
      "text/html": [
       "<div>\n",
       "<style scoped>\n",
       "    .dataframe tbody tr th:only-of-type {\n",
       "        vertical-align: middle;\n",
       "    }\n",
       "\n",
       "    .dataframe tbody tr th {\n",
       "        vertical-align: top;\n",
       "    }\n",
       "\n",
       "    .dataframe thead th {\n",
       "        text-align: right;\n",
       "    }\n",
       "</style>\n",
       "<table border=\"1\" class=\"dataframe\">\n",
       "  <thead>\n",
       "    <tr style=\"text-align: right;\">\n",
       "      <th></th>\n",
       "      <th>Accuracy</th>\n",
       "      <th>Precision</th>\n",
       "      <th>Recall</th>\n",
       "      <th>F1 Score</th>\n",
       "      <th>AUC</th>\n",
       "    </tr>\n",
       "  </thead>\n",
       "  <tbody>\n",
       "    <tr>\n",
       "      <th>Mutual Information</th>\n",
       "      <td>0.930233</td>\n",
       "      <td>0.486486</td>\n",
       "      <td>0.782609</td>\n",
       "      <td>0.6</td>\n",
       "      <td>0.861709</td>\n",
       "    </tr>\n",
       "    <tr>\n",
       "      <th>X2</th>\n",
       "      <td>0.93314</td>\n",
       "      <td>0.5</td>\n",
       "      <td>0.782609</td>\n",
       "      <td>0.610169</td>\n",
       "      <td>0.863267</td>\n",
       "    </tr>\n",
       "    <tr>\n",
       "      <th>Relief</th>\n",
       "      <td>0.94186</td>\n",
       "      <td>0.545455</td>\n",
       "      <td>0.782609</td>\n",
       "      <td>0.642857</td>\n",
       "      <td>0.86794</td>\n",
       "    </tr>\n",
       "  </tbody>\n",
       "</table>\n",
       "</div>"
      ]
     },
     "metadata": {},
     "output_type": "display_data"
    },
    {
     "name": "stdout",
     "output_type": "stream",
     "text": [
      "Random Forest Results\n"
     ]
    },
    {
     "data": {
      "text/plain": [
       "                    Accuracy Precision    Recall  F1 Score       AUC\n",
       "Mutual Information   0.97093  0.842105  0.695652  0.761905  0.843153\n",
       "X2                  0.962209  0.727273  0.695652  0.711111   0.83848\n",
       "Relief              0.968023       0.8  0.695652  0.744186  0.841596"
      ],
      "text/html": [
       "<div>\n",
       "<style scoped>\n",
       "    .dataframe tbody tr th:only-of-type {\n",
       "        vertical-align: middle;\n",
       "    }\n",
       "\n",
       "    .dataframe tbody tr th {\n",
       "        vertical-align: top;\n",
       "    }\n",
       "\n",
       "    .dataframe thead th {\n",
       "        text-align: right;\n",
       "    }\n",
       "</style>\n",
       "<table border=\"1\" class=\"dataframe\">\n",
       "  <thead>\n",
       "    <tr style=\"text-align: right;\">\n",
       "      <th></th>\n",
       "      <th>Accuracy</th>\n",
       "      <th>Precision</th>\n",
       "      <th>Recall</th>\n",
       "      <th>F1 Score</th>\n",
       "      <th>AUC</th>\n",
       "    </tr>\n",
       "  </thead>\n",
       "  <tbody>\n",
       "    <tr>\n",
       "      <th>Mutual Information</th>\n",
       "      <td>0.97093</td>\n",
       "      <td>0.842105</td>\n",
       "      <td>0.695652</td>\n",
       "      <td>0.761905</td>\n",
       "      <td>0.843153</td>\n",
       "    </tr>\n",
       "    <tr>\n",
       "      <th>X2</th>\n",
       "      <td>0.962209</td>\n",
       "      <td>0.727273</td>\n",
       "      <td>0.695652</td>\n",
       "      <td>0.711111</td>\n",
       "      <td>0.83848</td>\n",
       "    </tr>\n",
       "    <tr>\n",
       "      <th>Relief</th>\n",
       "      <td>0.968023</td>\n",
       "      <td>0.8</td>\n",
       "      <td>0.695652</td>\n",
       "      <td>0.744186</td>\n",
       "      <td>0.841596</td>\n",
       "    </tr>\n",
       "  </tbody>\n",
       "</table>\n",
       "</div>"
      ]
     },
     "metadata": {},
     "output_type": "display_data"
    },
    {
     "name": "stdout",
     "output_type": "stream",
     "text": [
      "Neural Network Results\n"
     ]
    },
    {
     "data": {
      "text/plain": [
       "                    Accuracy Precision    Recall  F1 Score       AUC\n",
       "Mutual Information   0.97093  0.809524   0.73913  0.772727  0.977651\n",
       "X2                  0.947674  0.608696  0.608696  0.608696  0.970202\n",
       "Relief              0.956395       0.7  0.608696  0.651163  0.975349"
      ],
      "text/html": [
       "<div>\n",
       "<style scoped>\n",
       "    .dataframe tbody tr th:only-of-type {\n",
       "        vertical-align: middle;\n",
       "    }\n",
       "\n",
       "    .dataframe tbody tr th {\n",
       "        vertical-align: top;\n",
       "    }\n",
       "\n",
       "    .dataframe thead th {\n",
       "        text-align: right;\n",
       "    }\n",
       "</style>\n",
       "<table border=\"1\" class=\"dataframe\">\n",
       "  <thead>\n",
       "    <tr style=\"text-align: right;\">\n",
       "      <th></th>\n",
       "      <th>Accuracy</th>\n",
       "      <th>Precision</th>\n",
       "      <th>Recall</th>\n",
       "      <th>F1 Score</th>\n",
       "      <th>AUC</th>\n",
       "    </tr>\n",
       "  </thead>\n",
       "  <tbody>\n",
       "    <tr>\n",
       "      <th>Mutual Information</th>\n",
       "      <td>0.97093</td>\n",
       "      <td>0.809524</td>\n",
       "      <td>0.73913</td>\n",
       "      <td>0.772727</td>\n",
       "      <td>0.977651</td>\n",
       "    </tr>\n",
       "    <tr>\n",
       "      <th>X2</th>\n",
       "      <td>0.947674</td>\n",
       "      <td>0.608696</td>\n",
       "      <td>0.608696</td>\n",
       "      <td>0.608696</td>\n",
       "      <td>0.970202</td>\n",
       "    </tr>\n",
       "    <tr>\n",
       "      <th>Relief</th>\n",
       "      <td>0.956395</td>\n",
       "      <td>0.7</td>\n",
       "      <td>0.608696</td>\n",
       "      <td>0.651163</td>\n",
       "      <td>0.975349</td>\n",
       "    </tr>\n",
       "  </tbody>\n",
       "</table>\n",
       "</div>"
      ]
     },
     "metadata": {},
     "output_type": "display_data"
    }
   ]
  }
 ],
 "metadata": {
  "kernelspec": {
   "display_name": "Python 3",
   "language": "python",
   "name": "python3"
  },
  "language_info": {
   "codemirror_mode": {
    "name": "ipython",
    "version": 2
   },
   "file_extension": ".py",
   "mimetype": "text/x-python",
   "name": "python",
   "nbconvert_exporter": "python",
   "pygments_lexer": "ipython2",
   "version": "2.7.6"
  }
 },
 "nbformat": 4,
 "nbformat_minor": 5
}

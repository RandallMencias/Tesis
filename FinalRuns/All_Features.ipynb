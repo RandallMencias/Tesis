{
 "cells": [
  {
   "cell_type": "code",
   "execution_count": 2,
   "id": "initial_id",
   "metadata": {
    "collapsed": true,
    "ExecuteTime": {
     "end_time": "2024-11-17T20:37:38.286783400Z",
     "start_time": "2024-11-17T20:37:29.661196900Z"
    }
   },
   "outputs": [],
   "source": [
    "#Test al features with all fitness functions\n",
    "from sklearn.model_selection import train_test_split\n",
    "from keras.src.losses import BinaryCrossentropy\n",
    "from keras.src.optimizers import Adam\n",
    "from keras.src.layers import Dense\n",
    "from keras import Sequential\n",
    "from sklearn.metrics import accuracy_score, precision_score, recall_score, f1_score, roc_auc_score\n"
   ]
  },
  {
   "cell_type": "code",
   "execution_count": 5,
   "outputs": [],
   "source": [
    "from Metaheuristicas.fitness_functions import load_and_preprocess_data\n",
    "\n",
    "X, y = load_and_preprocess_data(filename='Resources/SeisBenchV1_v1_1.json')"
   ],
   "metadata": {
    "collapsed": false,
    "ExecuteTime": {
     "end_time": "2024-11-17T20:38:00.606385Z",
     "start_time": "2024-11-17T20:38:00.031766600Z"
    }
   },
   "id": "acd909b3b4dd4926"
  },
  {
   "cell_type": "code",
   "execution_count": 6,
   "outputs": [
    {
     "data": {
      "text/plain": "   f1_t_mean  f2_t_std  f3_t_var  f4_t_entropy  f5_t_kurtosis  \\\n0   0.308173  0.205304  0.107536      0.031442       0.229731   \n1   0.322134  0.335965  0.202280      0.170931       0.096625   \n2   0.386335  0.312519  0.183773      0.172402       0.157386   \n3   0.316393  0.895741  0.839779      0.289005       0.021137   \n4   0.324330  0.403592  0.259353      0.088392       0.156549   \n\n   f6_t_multiscaleEntropy  f7_t_time2peak  f8_t_rms  f9_t_peak2peak  \\\n0                0.603239        0.011399  0.205245        0.420602   \n1                0.886097        0.118752  0.335950        0.644631   \n2                0.672861        0.179005  0.312518        0.855745   \n3                0.566134        0.142177  0.895663        0.577603   \n4                0.527766        0.039835  0.403528        0.410230   \n\n   f10_t_peak2rms  ...  f75_w_t_peak2peak_D5  f76_w_t_peak2peak_D6  \\\n0        0.492444  ...              0.071505              0.022756   \n1        0.331223  ...              0.254942              0.045234   \n2        0.355332  ...              0.551422              0.051260   \n3        0.028360  ...              0.418491              0.128724   \n4        0.270267  ...              0.143136              0.022817   \n\n   f77_w_t_peak2rms_A6  f78_w_t_peak2rms_D1  f79_w_t_peak2rms_D2  \\\n0             0.343762             0.458053             0.391023   \n1             0.767478             0.246739             0.116317   \n2             0.383004             0.139454             0.117581   \n3             0.106033             0.658328             0.346201   \n4             0.349813             0.528780             0.415813   \n\n   f80_w_t_peak2rms_D3  f81_w_t_peak2rms_D4  f82_w_t_peak2rms_D5  \\\n0             0.369224             0.161757             0.180784   \n1             0.144180             0.358863             0.223876   \n2             0.306870             0.199420             0.611760   \n3             0.250624             0.168671             0.359415   \n4             0.273371             0.257336             0.234382   \n\n   f83_w_t_peak2rms_D6  f84_w_t_meanEnergyCoeff  \n0             0.898319                 0.103404  \n1             0.158059                 0.204013  \n2             0.502138                 0.183268  \n3             0.408923                 0.827045  \n4             0.544004                 0.252405  \n\n[5 rows x 84 columns]",
      "text/html": "<div>\n<style scoped>\n    .dataframe tbody tr th:only-of-type {\n        vertical-align: middle;\n    }\n\n    .dataframe tbody tr th {\n        vertical-align: top;\n    }\n\n    .dataframe thead th {\n        text-align: right;\n    }\n</style>\n<table border=\"1\" class=\"dataframe\">\n  <thead>\n    <tr style=\"text-align: right;\">\n      <th></th>\n      <th>f1_t_mean</th>\n      <th>f2_t_std</th>\n      <th>f3_t_var</th>\n      <th>f4_t_entropy</th>\n      <th>f5_t_kurtosis</th>\n      <th>f6_t_multiscaleEntropy</th>\n      <th>f7_t_time2peak</th>\n      <th>f8_t_rms</th>\n      <th>f9_t_peak2peak</th>\n      <th>f10_t_peak2rms</th>\n      <th>...</th>\n      <th>f75_w_t_peak2peak_D5</th>\n      <th>f76_w_t_peak2peak_D6</th>\n      <th>f77_w_t_peak2rms_A6</th>\n      <th>f78_w_t_peak2rms_D1</th>\n      <th>f79_w_t_peak2rms_D2</th>\n      <th>f80_w_t_peak2rms_D3</th>\n      <th>f81_w_t_peak2rms_D4</th>\n      <th>f82_w_t_peak2rms_D5</th>\n      <th>f83_w_t_peak2rms_D6</th>\n      <th>f84_w_t_meanEnergyCoeff</th>\n    </tr>\n  </thead>\n  <tbody>\n    <tr>\n      <th>0</th>\n      <td>0.308173</td>\n      <td>0.205304</td>\n      <td>0.107536</td>\n      <td>0.031442</td>\n      <td>0.229731</td>\n      <td>0.603239</td>\n      <td>0.011399</td>\n      <td>0.205245</td>\n      <td>0.420602</td>\n      <td>0.492444</td>\n      <td>...</td>\n      <td>0.071505</td>\n      <td>0.022756</td>\n      <td>0.343762</td>\n      <td>0.458053</td>\n      <td>0.391023</td>\n      <td>0.369224</td>\n      <td>0.161757</td>\n      <td>0.180784</td>\n      <td>0.898319</td>\n      <td>0.103404</td>\n    </tr>\n    <tr>\n      <th>1</th>\n      <td>0.322134</td>\n      <td>0.335965</td>\n      <td>0.202280</td>\n      <td>0.170931</td>\n      <td>0.096625</td>\n      <td>0.886097</td>\n      <td>0.118752</td>\n      <td>0.335950</td>\n      <td>0.644631</td>\n      <td>0.331223</td>\n      <td>...</td>\n      <td>0.254942</td>\n      <td>0.045234</td>\n      <td>0.767478</td>\n      <td>0.246739</td>\n      <td>0.116317</td>\n      <td>0.144180</td>\n      <td>0.358863</td>\n      <td>0.223876</td>\n      <td>0.158059</td>\n      <td>0.204013</td>\n    </tr>\n    <tr>\n      <th>2</th>\n      <td>0.386335</td>\n      <td>0.312519</td>\n      <td>0.183773</td>\n      <td>0.172402</td>\n      <td>0.157386</td>\n      <td>0.672861</td>\n      <td>0.179005</td>\n      <td>0.312518</td>\n      <td>0.855745</td>\n      <td>0.355332</td>\n      <td>...</td>\n      <td>0.551422</td>\n      <td>0.051260</td>\n      <td>0.383004</td>\n      <td>0.139454</td>\n      <td>0.117581</td>\n      <td>0.306870</td>\n      <td>0.199420</td>\n      <td>0.611760</td>\n      <td>0.502138</td>\n      <td>0.183268</td>\n    </tr>\n    <tr>\n      <th>3</th>\n      <td>0.316393</td>\n      <td>0.895741</td>\n      <td>0.839779</td>\n      <td>0.289005</td>\n      <td>0.021137</td>\n      <td>0.566134</td>\n      <td>0.142177</td>\n      <td>0.895663</td>\n      <td>0.577603</td>\n      <td>0.028360</td>\n      <td>...</td>\n      <td>0.418491</td>\n      <td>0.128724</td>\n      <td>0.106033</td>\n      <td>0.658328</td>\n      <td>0.346201</td>\n      <td>0.250624</td>\n      <td>0.168671</td>\n      <td>0.359415</td>\n      <td>0.408923</td>\n      <td>0.827045</td>\n    </tr>\n    <tr>\n      <th>4</th>\n      <td>0.324330</td>\n      <td>0.403592</td>\n      <td>0.259353</td>\n      <td>0.088392</td>\n      <td>0.156549</td>\n      <td>0.527766</td>\n      <td>0.039835</td>\n      <td>0.403528</td>\n      <td>0.410230</td>\n      <td>0.270267</td>\n      <td>...</td>\n      <td>0.143136</td>\n      <td>0.022817</td>\n      <td>0.349813</td>\n      <td>0.528780</td>\n      <td>0.415813</td>\n      <td>0.273371</td>\n      <td>0.257336</td>\n      <td>0.234382</td>\n      <td>0.544004</td>\n      <td>0.252405</td>\n    </tr>\n  </tbody>\n</table>\n<p>5 rows × 84 columns</p>\n</div>"
     },
     "execution_count": 6,
     "metadata": {},
     "output_type": "execute_result"
    }
   ],
   "source": [
    "X.head()"
   ],
   "metadata": {
    "collapsed": false,
    "ExecuteTime": {
     "end_time": "2024-11-16T20:53:46.741609600Z",
     "start_time": "2024-11-16T20:53:46.724230200Z"
    }
   },
   "id": "85e2b9f330ccefa2"
  },
  {
   "cell_type": "code",
   "execution_count": 5,
   "outputs": [
    {
     "data": {
      "text/plain": "0    1\n1    0\n2    0\n3    1\n4    1\nName: Type, dtype: int32"
     },
     "execution_count": 5,
     "metadata": {},
     "output_type": "execute_result"
    }
   ],
   "source": [
    "y.head()\n"
   ],
   "metadata": {
    "collapsed": false,
    "ExecuteTime": {
     "end_time": "2024-11-16T20:53:45.213998500Z",
     "start_time": "2024-11-16T20:53:44.931962500Z"
    }
   },
   "id": "109b38d5898cd74d"
  },
  {
   "cell_type": "code",
   "execution_count": 7,
   "outputs": [
    {
     "name": "stdout",
     "output_type": "stream",
     "text": [
      "                    Feature  Mutual Information\n",
      "0                 f1_t_mean            0.000000\n",
      "1                  f2_t_std            0.007686\n",
      "2                  f3_t_var            0.007135\n",
      "3              f4_t_entropy            0.020286\n",
      "4             f5_t_kurtosis            0.000883\n",
      "..                      ...                 ...\n",
      "79      f80_w_t_peak2rms_D3            0.015178\n",
      "80      f81_w_t_peak2rms_D4            0.000000\n",
      "81      f82_w_t_peak2rms_D5            0.018553\n",
      "82      f83_w_t_peak2rms_D6            0.002483\n",
      "83  f84_w_t_meanEnergyCoeff            0.012084\n",
      "\n",
      "[84 rows x 2 columns]\n",
      "\n",
      "Promedio de Mutual Information: 0.039426210791181485\n"
     ]
    }
   ],
   "source": [
    "import pandas as pd\n",
    "from sklearn.feature_selection import mutual_info_regression\n",
    "\n",
    "mi_scores = mutual_info_regression(X, y)\n",
    "\n",
    "# Crear un dataframe para visualizar mejor los resultados\n",
    "mi_df = pd.DataFrame({\n",
    "    'Feature': X.columns,\n",
    "    'Mutual Information': mi_scores\n",
    "})\n",
    "\n",
    "# Calcular el promedio de MI\n",
    "average_mi = mi_df['Mutual Information'].mean()\n",
    "\n",
    "# Mostrar los resultados\n",
    "print(mi_df)\n",
    "print(f\"\\nPromedio de Mutual Information: {average_mi}\")\n"
   ],
   "metadata": {
    "collapsed": false,
    "ExecuteTime": {
     "end_time": "2024-11-16T21:04:04.919255200Z",
     "start_time": "2024-11-16T21:04:04.365392500Z"
    }
   },
   "id": "86cf3d59cc6cff22"
  },
  {
   "cell_type": "code",
   "execution_count": 8,
   "outputs": [
    {
     "data": {
      "text/plain": "6.439428677301299"
     },
     "execution_count": 8,
     "metadata": {},
     "output_type": "execute_result"
    }
   ],
   "source": [
    "from sklearn.feature_selection import chi2\n",
    "\n",
    "chi2_scores, chi2_pvalues = chi2(X, y)\n",
    "average_chi2 = chi2_scores.mean()\n",
    "average_chi2"
   ],
   "metadata": {
    "collapsed": false,
    "ExecuteTime": {
     "end_time": "2024-11-16T21:06:28.851229600Z",
     "start_time": "2024-11-16T21:06:28.707014400Z"
    }
   },
   "id": "475154455e7d5b86"
  },
  {
   "cell_type": "code",
   "execution_count": 12,
   "outputs": [
    {
     "name": "stdout",
     "output_type": "stream",
     "text": [
      "Índices de X: RangeIndex(start=0, stop=1145, step=1)\n",
      "Índices de y: Index([   0,    1,    2,    3,    4,    5,    6,    7,    8,    9,\n",
      "       ...\n",
      "       1177, 1178, 1179, 1180, 1181, 1182, 1183, 1184, 1185, 1186],\n",
      "      dtype='int64', length=1145)\n"
     ]
    }
   ],
   "source": [
    "print(\"Índices de X:\", X.index)\n",
    "print(\"Índices de y:\", y.index)"
   ],
   "metadata": {
    "collapsed": false,
    "ExecuteTime": {
     "end_time": "2024-11-16T21:10:38.907781700Z",
     "start_time": "2024-11-16T21:10:38.892131600Z"
    }
   },
   "id": "24848f57264239a3"
  },
  {
   "cell_type": "code",
   "execution_count": 13,
   "outputs": [
    {
     "name": "stdout",
     "output_type": "stream",
     "text": [
      "Promedio de ReliefF Score: 0.2238900724885615\n"
     ]
    }
   ],
   "source": [
    "# Reindexar y para que coincida con X\n",
    "y = y.reset_index(drop=True)\n",
    "\n",
    "from skrebate import ReliefF\n",
    "\n",
    "# Inicia ReliefF\n",
    "relief = ReliefF(n_neighbors=10)  # Ajusta los vecinos si es necesario\n",
    "\n",
    "# Ajusta ReliefF con X y y\n",
    "relief.fit(X.values, y.values)\n",
    "\n",
    "# Calcula el promedio del puntaje de ReliefF\n",
    "average_relief = relief.feature_importances_.mean()\n",
    "\n",
    "print(f\"Promedio de ReliefF Score: {average_relief}\")\n"
   ],
   "metadata": {
    "collapsed": false,
    "ExecuteTime": {
     "end_time": "2024-11-16T21:11:17.748057400Z",
     "start_time": "2024-11-16T21:11:15.167693300Z"
    }
   },
   "id": "114f0bcb5d1b24b2"
  },
  {
   "cell_type": "markdown",
   "source": [
    "# Classifiers all features"
   ],
   "metadata": {
    "collapsed": false
   },
   "id": "3a8a33c0d76f5a25"
  },
  {
   "cell_type": "markdown",
   "source": [
    "### Naive Bayes"
   ],
   "metadata": {
    "collapsed": false
   },
   "id": "d87b19b55caded5b"
  },
  {
   "cell_type": "markdown",
   "source": [],
   "metadata": {
    "collapsed": false
   },
   "id": "8a0e772d3cb91aff"
  },
  {
   "cell_type": "code",
   "execution_count": 6,
   "outputs": [],
   "source": [
    "\n",
    "from sklearn.naive_bayes import GaussianNB\n",
    "\n",
    "cmodel = GaussianNB()\n",
    "X_train, X_test, y_train, y_test = train_test_split(X, y, test_size=0.2, random_state=42)\n",
    "cmodel.fit(X_train, y_train)\n",
    "y_pred = cmodel.predict(X_test)\n",
    "y_pred_proba = cmodel.predict_proba(X_test)[:, 1]  # Probability estimates for AUC\n",
    "\n",
    "accuracy = accuracy_score(y_test, y_pred)\n",
    "precision = precision_score(y_test, y_pred)\n",
    "recall = recall_score(y_test, y_pred)\n",
    "f1 = f1_score(y_test, y_pred)\n",
    "auc = roc_auc_score(y_test, y_pred_proba)"
   ],
   "metadata": {
    "collapsed": false,
    "ExecuteTime": {
     "end_time": "2024-11-17T20:38:09.915450900Z",
     "start_time": "2024-11-17T20:38:09.746520300Z"
    }
   },
   "id": "447c9d850dae765f"
  },
  {
   "cell_type": "code",
   "execution_count": 7,
   "outputs": [
    {
     "name": "stdout",
     "output_type": "stream",
     "text": [
      "Accuracy:  0.9432314410480349\n",
      "Precision:  0.6086956521739131\n",
      "Recall:  0.7777777777777778\n",
      "F1:  0.6829268292682927\n",
      "AUC:  0.9462875197472354\n"
     ]
    }
   ],
   "source": [
    "print(\"Accuracy: \", accuracy)\n",
    "print(\"Precision: \", precision)\n",
    "print(\"Recall: \", recall)\n",
    "print(\"F1: \", f1)\n",
    "print(\"AUC: \", auc)\n"
   ],
   "metadata": {
    "collapsed": false,
    "ExecuteTime": {
     "end_time": "2024-11-17T20:38:09.917445400Z",
     "start_time": "2024-11-17T20:38:09.827359400Z"
    }
   },
   "id": "e55fc50a6ab3bee2"
  },
  {
   "cell_type": "markdown",
   "source": [
    "### Random Forest"
   ],
   "metadata": {
    "collapsed": false
   },
   "id": "cf8ab05fba0f654e"
  },
  {
   "cell_type": "markdown",
   "source": [],
   "metadata": {
    "collapsed": false
   },
   "id": "1cac0dcf03d274af"
  },
  {
   "cell_type": "code",
   "execution_count": 8,
   "outputs": [],
   "source": [
    "from sklearn.ensemble import RandomForestClassifier\n",
    "random_forest = RandomForestClassifier(n_estimators=100, random_state=42)\n",
    "X_train, X_test, y_train, y_test = train_test_split(X, y, test_size=0.25, random_state=42)\n",
    "random_forest.fit(X_train, y_train)\n",
    "y_pred = random_forest.predict(X_test)\n",
    "y_pred_proba = random_forest.predict_proba(X_test)[:, 1]  # Probability estimates for AUC\n",
    "accuracy = accuracy_score(y_test, y_pred)\n",
    "precision = precision_score(y_test, y_pred)\n",
    "recall = recall_score(y_test, y_pred)\n",
    "f1 = f1_score(y_test, y_pred)\n",
    "auc = roc_auc_score(y_test, y_pred_proba)\n",
    "\n"
   ],
   "metadata": {
    "collapsed": false,
    "ExecuteTime": {
     "end_time": "2024-11-17T20:38:10.912547600Z",
     "start_time": "2024-11-17T20:38:09.830940500Z"
    }
   },
   "id": "6a662c741c6fe5a9"
  },
  {
   "cell_type": "code",
   "execution_count": 9,
   "outputs": [
    {
     "name": "stdout",
     "output_type": "stream",
     "text": [
      "Accuracy:  0.9651567944250871\n",
      "Precision:  0.8\n",
      "Recall:  0.631578947368421\n",
      "F1:  0.7058823529411765\n",
      "AUC:  0.9813432835820897\n"
     ]
    }
   ],
   "source": [
    "print(\"Accuracy: \", accuracy)\n",
    "print(\"Precision: \", precision)\n",
    "print(\"Recall: \", recall)\n",
    "print(\"F1: \", f1)\n",
    "print(\"AUC: \", auc)"
   ],
   "metadata": {
    "collapsed": false,
    "ExecuteTime": {
     "end_time": "2024-11-17T20:38:10.917718400Z",
     "start_time": "2024-11-17T20:38:10.913556400Z"
    }
   },
   "id": "28df8dc5f7549768"
  },
  {
   "cell_type": "markdown",
   "source": [
    "### Neural Network"
   ],
   "metadata": {
    "collapsed": false
   },
   "id": "4c5007b564ee8755"
  },
  {
   "cell_type": "code",
   "execution_count": 10,
   "outputs": [
    {
     "name": "stdout",
     "output_type": "stream",
     "text": [
      "Epoch 1/100\n"
     ]
    },
    {
     "name": "stderr",
     "output_type": "stream",
     "text": [
      "C:\\Python311\\Lib\\site-packages\\keras\\src\\layers\\core\\dense.py:88: UserWarning: Do not pass an `input_shape`/`input_dim` argument to a layer. When using Sequential models, prefer using an `Input(shape)` object as the first layer in the model instead.\n",
      "  super().__init__(activity_regularizer=activity_regularizer, **kwargs)\n"
     ]
    },
    {
     "name": "stdout",
     "output_type": "stream",
     "text": [
      "\u001B[1m22/22\u001B[0m \u001B[32m━━━━━━━━━━━━━━━━━━━━\u001B[0m\u001B[37m\u001B[0m \u001B[1m1s\u001B[0m 6ms/step - accuracy: 0.4444 - loss: 0.8101 - val_accuracy: 0.9186 - val_loss: 0.3155\n",
      "Epoch 2/100\n",
      "\u001B[1m22/22\u001B[0m \u001B[32m━━━━━━━━━━━━━━━━━━━━\u001B[0m\u001B[37m\u001B[0m \u001B[1m0s\u001B[0m 2ms/step - accuracy: 0.9093 - loss: 0.3082 - val_accuracy: 0.9186 - val_loss: 0.2499\n",
      "Epoch 3/100\n",
      "\u001B[1m22/22\u001B[0m \u001B[32m━━━━━━━━━━━━━━━━━━━━\u001B[0m\u001B[37m\u001B[0m \u001B[1m0s\u001B[0m 2ms/step - accuracy: 0.8990 - loss: 0.2825 - val_accuracy: 0.9186 - val_loss: 0.2242\n",
      "Epoch 4/100\n",
      "\u001B[1m22/22\u001B[0m \u001B[32m━━━━━━━━━━━━━━━━━━━━\u001B[0m\u001B[37m\u001B[0m \u001B[1m0s\u001B[0m 2ms/step - accuracy: 0.8896 - loss: 0.2494 - val_accuracy: 0.9186 - val_loss: 0.1880\n",
      "Epoch 5/100\n",
      "\u001B[1m22/22\u001B[0m \u001B[32m━━━━━━━━━━━━━━━━━━━━\u001B[0m\u001B[37m\u001B[0m \u001B[1m0s\u001B[0m 2ms/step - accuracy: 0.9274 - loss: 0.1611 - val_accuracy: 0.9302 - val_loss: 0.1571\n",
      "Epoch 6/100\n",
      "\u001B[1m22/22\u001B[0m \u001B[32m━━━━━━━━━━━━━━━━━━━━\u001B[0m\u001B[37m\u001B[0m \u001B[1m0s\u001B[0m 2ms/step - accuracy: 0.9613 - loss: 0.1422 - val_accuracy: 0.9302 - val_loss: 0.1307\n",
      "Epoch 7/100\n",
      "\u001B[1m22/22\u001B[0m \u001B[32m━━━━━━━━━━━━━━━━━━━━\u001B[0m\u001B[37m\u001B[0m \u001B[1m0s\u001B[0m 2ms/step - accuracy: 0.9544 - loss: 0.1143 - val_accuracy: 0.9419 - val_loss: 0.1161\n",
      "Epoch 8/100\n",
      "\u001B[1m22/22\u001B[0m \u001B[32m━━━━━━━━━━━━━━━━━━━━\u001B[0m\u001B[37m\u001B[0m \u001B[1m0s\u001B[0m 2ms/step - accuracy: 0.9653 - loss: 0.1000 - val_accuracy: 0.9535 - val_loss: 0.1084\n",
      "Epoch 9/100\n",
      "\u001B[1m22/22\u001B[0m \u001B[32m━━━━━━━━━━━━━━━━━━━━\u001B[0m\u001B[37m\u001B[0m \u001B[1m0s\u001B[0m 2ms/step - accuracy: 0.9642 - loss: 0.1003 - val_accuracy: 0.9477 - val_loss: 0.0975\n",
      "Epoch 10/100\n",
      "\u001B[1m22/22\u001B[0m \u001B[32m━━━━━━━━━━━━━━━━━━━━\u001B[0m\u001B[37m\u001B[0m \u001B[1m0s\u001B[0m 2ms/step - accuracy: 0.9721 - loss: 0.0819 - val_accuracy: 0.9477 - val_loss: 0.0956\n",
      "Epoch 11/100\n",
      "\u001B[1m22/22\u001B[0m \u001B[32m━━━━━━━━━━━━━━━━━━━━\u001B[0m\u001B[37m\u001B[0m \u001B[1m0s\u001B[0m 2ms/step - accuracy: 0.9725 - loss: 0.0681 - val_accuracy: 0.9535 - val_loss: 0.0899\n",
      "Epoch 12/100\n",
      "\u001B[1m22/22\u001B[0m \u001B[32m━━━━━━━━━━━━━━━━━━━━\u001B[0m\u001B[37m\u001B[0m \u001B[1m0s\u001B[0m 2ms/step - accuracy: 0.9754 - loss: 0.0723 - val_accuracy: 0.9477 - val_loss: 0.0929\n",
      "Epoch 13/100\n",
      "\u001B[1m22/22\u001B[0m \u001B[32m━━━━━━━━━━━━━━━━━━━━\u001B[0m\u001B[37m\u001B[0m \u001B[1m0s\u001B[0m 2ms/step - accuracy: 0.9782 - loss: 0.0792 - val_accuracy: 0.9419 - val_loss: 0.0965\n",
      "Epoch 14/100\n",
      "\u001B[1m22/22\u001B[0m \u001B[32m━━━━━━━━━━━━━━━━━━━━\u001B[0m\u001B[37m\u001B[0m \u001B[1m0s\u001B[0m 2ms/step - accuracy: 0.9675 - loss: 0.0702 - val_accuracy: 0.9709 - val_loss: 0.0766\n",
      "Epoch 15/100\n",
      "\u001B[1m22/22\u001B[0m \u001B[32m━━━━━━━━━━━━━━━━━━━━\u001B[0m\u001B[37m\u001B[0m \u001B[1m0s\u001B[0m 2ms/step - accuracy: 0.9628 - loss: 0.0843 - val_accuracy: 0.9535 - val_loss: 0.0811\n",
      "Epoch 16/100\n",
      "\u001B[1m22/22\u001B[0m \u001B[32m━━━━━━━━━━━━━━━━━━━━\u001B[0m\u001B[37m\u001B[0m \u001B[1m0s\u001B[0m 2ms/step - accuracy: 0.9736 - loss: 0.0625 - val_accuracy: 0.9709 - val_loss: 0.0739\n",
      "Epoch 17/100\n",
      "\u001B[1m22/22\u001B[0m \u001B[32m━━━━━━━━━━━━━━━━━━━━\u001B[0m\u001B[37m\u001B[0m \u001B[1m0s\u001B[0m 2ms/step - accuracy: 0.9719 - loss: 0.0615 - val_accuracy: 0.9709 - val_loss: 0.0712\n",
      "Epoch 18/100\n",
      "\u001B[1m22/22\u001B[0m \u001B[32m━━━━━━━━━━━━━━━━━━━━\u001B[0m\u001B[37m\u001B[0m \u001B[1m0s\u001B[0m 2ms/step - accuracy: 0.9762 - loss: 0.0675 - val_accuracy: 0.9535 - val_loss: 0.0749\n",
      "Epoch 19/100\n",
      "\u001B[1m22/22\u001B[0m \u001B[32m━━━━━━━━━━━━━━━━━━━━\u001B[0m\u001B[37m\u001B[0m \u001B[1m0s\u001B[0m 2ms/step - accuracy: 0.9761 - loss: 0.0684 - val_accuracy: 0.9535 - val_loss: 0.0750\n",
      "Epoch 20/100\n",
      "\u001B[1m22/22\u001B[0m \u001B[32m━━━━━━━━━━━━━━━━━━━━\u001B[0m\u001B[37m\u001B[0m \u001B[1m0s\u001B[0m 2ms/step - accuracy: 0.9764 - loss: 0.0616 - val_accuracy: 0.9767 - val_loss: 0.0670\n",
      "Epoch 21/100\n",
      "\u001B[1m22/22\u001B[0m \u001B[32m━━━━━━━━━━━━━━━━━━━━\u001B[0m\u001B[37m\u001B[0m \u001B[1m0s\u001B[0m 2ms/step - accuracy: 0.9710 - loss: 0.0653 - val_accuracy: 0.9651 - val_loss: 0.0691\n",
      "Epoch 22/100\n",
      "\u001B[1m22/22\u001B[0m \u001B[32m━━━━━━━━━━━━━━━━━━━━\u001B[0m\u001B[37m\u001B[0m \u001B[1m0s\u001B[0m 2ms/step - accuracy: 0.9858 - loss: 0.0397 - val_accuracy: 0.9651 - val_loss: 0.0673\n",
      "Epoch 23/100\n",
      "\u001B[1m22/22\u001B[0m \u001B[32m━━━━━━━━━━━━━━━━━━━━\u001B[0m\u001B[37m\u001B[0m \u001B[1m0s\u001B[0m 2ms/step - accuracy: 0.9765 - loss: 0.0595 - val_accuracy: 0.9767 - val_loss: 0.0659\n",
      "Epoch 24/100\n",
      "\u001B[1m22/22\u001B[0m \u001B[32m━━━━━━━━━━━━━━━━━━━━\u001B[0m\u001B[37m\u001B[0m \u001B[1m0s\u001B[0m 2ms/step - accuracy: 0.9788 - loss: 0.0830 - val_accuracy: 0.9477 - val_loss: 0.0798\n",
      "Epoch 25/100\n",
      "\u001B[1m22/22\u001B[0m \u001B[32m━━━━━━━━━━━━━━━━━━━━\u001B[0m\u001B[37m\u001B[0m \u001B[1m0s\u001B[0m 2ms/step - accuracy: 0.9811 - loss: 0.0482 - val_accuracy: 0.9535 - val_loss: 0.0723\n",
      "Epoch 26/100\n",
      "\u001B[1m22/22\u001B[0m \u001B[32m━━━━━━━━━━━━━━━━━━━━\u001B[0m\u001B[37m\u001B[0m \u001B[1m0s\u001B[0m 2ms/step - accuracy: 0.9866 - loss: 0.0448 - val_accuracy: 0.9767 - val_loss: 0.0629\n",
      "Epoch 27/100\n",
      "\u001B[1m22/22\u001B[0m \u001B[32m━━━━━━━━━━━━━━━━━━━━\u001B[0m\u001B[37m\u001B[0m \u001B[1m0s\u001B[0m 2ms/step - accuracy: 0.9842 - loss: 0.0401 - val_accuracy: 0.9767 - val_loss: 0.0607\n",
      "Epoch 28/100\n",
      "\u001B[1m22/22\u001B[0m \u001B[32m━━━━━━━━━━━━━━━━━━━━\u001B[0m\u001B[37m\u001B[0m \u001B[1m0s\u001B[0m 2ms/step - accuracy: 0.9898 - loss: 0.0433 - val_accuracy: 0.9477 - val_loss: 0.0772\n",
      "Epoch 29/100\n",
      "\u001B[1m22/22\u001B[0m \u001B[32m━━━━━━━━━━━━━━━━━━━━\u001B[0m\u001B[37m\u001B[0m \u001B[1m0s\u001B[0m 2ms/step - accuracy: 0.9764 - loss: 0.0474 - val_accuracy: 0.9767 - val_loss: 0.0602\n",
      "Epoch 30/100\n",
      "\u001B[1m22/22\u001B[0m \u001B[32m━━━━━━━━━━━━━━━━━━━━\u001B[0m\u001B[37m\u001B[0m \u001B[1m0s\u001B[0m 2ms/step - accuracy: 0.9841 - loss: 0.0518 - val_accuracy: 0.9651 - val_loss: 0.0675\n",
      "Epoch 31/100\n",
      "\u001B[1m22/22\u001B[0m \u001B[32m━━━━━━━━━━━━━━━━━━━━\u001B[0m\u001B[37m\u001B[0m \u001B[1m0s\u001B[0m 2ms/step - accuracy: 0.9759 - loss: 0.0529 - val_accuracy: 0.9767 - val_loss: 0.0609\n",
      "Epoch 32/100\n",
      "\u001B[1m22/22\u001B[0m \u001B[32m━━━━━━━━━━━━━━━━━━━━\u001B[0m\u001B[37m\u001B[0m \u001B[1m0s\u001B[0m 2ms/step - accuracy: 0.9771 - loss: 0.0673 - val_accuracy: 0.9767 - val_loss: 0.0592\n",
      "Epoch 33/100\n",
      "\u001B[1m22/22\u001B[0m \u001B[32m━━━━━━━━━━━━━━━━━━━━\u001B[0m\u001B[37m\u001B[0m \u001B[1m0s\u001B[0m 2ms/step - accuracy: 0.9889 - loss: 0.0624 - val_accuracy: 0.9419 - val_loss: 0.0939\n",
      "Epoch 34/100\n",
      "\u001B[1m22/22\u001B[0m \u001B[32m━━━━━━━━━━━━━━━━━━━━\u001B[0m\u001B[37m\u001B[0m \u001B[1m0s\u001B[0m 2ms/step - accuracy: 0.9788 - loss: 0.0525 - val_accuracy: 0.9767 - val_loss: 0.0623\n",
      "Epoch 35/100\n",
      "\u001B[1m22/22\u001B[0m \u001B[32m━━━━━━━━━━━━━━━━━━━━\u001B[0m\u001B[37m\u001B[0m \u001B[1m0s\u001B[0m 2ms/step - accuracy: 0.9855 - loss: 0.0372 - val_accuracy: 0.9767 - val_loss: 0.0572\n",
      "Epoch 36/100\n",
      "\u001B[1m22/22\u001B[0m \u001B[32m━━━━━━━━━━━━━━━━━━━━\u001B[0m\u001B[37m\u001B[0m \u001B[1m0s\u001B[0m 2ms/step - accuracy: 0.9781 - loss: 0.0499 - val_accuracy: 0.9477 - val_loss: 0.0780\n",
      "Epoch 37/100\n",
      "\u001B[1m22/22\u001B[0m \u001B[32m━━━━━━━━━━━━━━━━━━━━\u001B[0m\u001B[37m\u001B[0m \u001B[1m0s\u001B[0m 2ms/step - accuracy: 0.9887 - loss: 0.0359 - val_accuracy: 0.9477 - val_loss: 0.0750\n",
      "Epoch 38/100\n",
      "\u001B[1m22/22\u001B[0m \u001B[32m━━━━━━━━━━━━━━━━━━━━\u001B[0m\u001B[37m\u001B[0m \u001B[1m0s\u001B[0m 2ms/step - accuracy: 0.9753 - loss: 0.0516 - val_accuracy: 0.9477 - val_loss: 0.0801\n",
      "Epoch 39/100\n",
      "\u001B[1m22/22\u001B[0m \u001B[32m━━━━━━━━━━━━━━━━━━━━\u001B[0m\u001B[37m\u001B[0m \u001B[1m0s\u001B[0m 2ms/step - accuracy: 0.9780 - loss: 0.0518 - val_accuracy: 0.9767 - val_loss: 0.0636\n",
      "Epoch 40/100\n",
      "\u001B[1m22/22\u001B[0m \u001B[32m━━━━━━━━━━━━━━━━━━━━\u001B[0m\u001B[37m\u001B[0m \u001B[1m0s\u001B[0m 2ms/step - accuracy: 0.9881 - loss: 0.0428 - val_accuracy: 0.9826 - val_loss: 0.0552\n",
      "Epoch 41/100\n",
      "\u001B[1m22/22\u001B[0m \u001B[32m━━━━━━━━━━━━━━━━━━━━\u001B[0m\u001B[37m\u001B[0m \u001B[1m0s\u001B[0m 2ms/step - accuracy: 0.9937 - loss: 0.0302 - val_accuracy: 0.9767 - val_loss: 0.0607\n",
      "Epoch 42/100\n",
      "\u001B[1m22/22\u001B[0m \u001B[32m━━━━━━━━━━━━━━━━━━━━\u001B[0m\u001B[37m\u001B[0m \u001B[1m0s\u001B[0m 2ms/step - accuracy: 0.9867 - loss: 0.0594 - val_accuracy: 0.9826 - val_loss: 0.0558\n",
      "Epoch 43/100\n",
      "\u001B[1m22/22\u001B[0m \u001B[32m━━━━━━━━━━━━━━━━━━━━\u001B[0m\u001B[37m\u001B[0m \u001B[1m0s\u001B[0m 2ms/step - accuracy: 0.9829 - loss: 0.0622 - val_accuracy: 0.9826 - val_loss: 0.0588\n",
      "Epoch 44/100\n",
      "\u001B[1m22/22\u001B[0m \u001B[32m━━━━━━━━━━━━━━━━━━━━\u001B[0m\u001B[37m\u001B[0m \u001B[1m0s\u001B[0m 2ms/step - accuracy: 0.9825 - loss: 0.0365 - val_accuracy: 0.9767 - val_loss: 0.0544\n",
      "Epoch 45/100\n",
      "\u001B[1m22/22\u001B[0m \u001B[32m━━━━━━━━━━━━━━━━━━━━\u001B[0m\u001B[37m\u001B[0m \u001B[1m0s\u001B[0m 2ms/step - accuracy: 0.9867 - loss: 0.0363 - val_accuracy: 0.9826 - val_loss: 0.0549\n",
      "Epoch 46/100\n",
      "\u001B[1m22/22\u001B[0m \u001B[32m━━━━━━━━━━━━━━━━━━━━\u001B[0m\u001B[37m\u001B[0m \u001B[1m0s\u001B[0m 2ms/step - accuracy: 0.9930 - loss: 0.0313 - val_accuracy: 0.9767 - val_loss: 0.0607\n",
      "Epoch 47/100\n",
      "\u001B[1m22/22\u001B[0m \u001B[32m━━━━━━━━━━━━━━━━━━━━\u001B[0m\u001B[37m\u001B[0m \u001B[1m0s\u001B[0m 2ms/step - accuracy: 0.9862 - loss: 0.0495 - val_accuracy: 0.9826 - val_loss: 0.0569\n",
      "Epoch 48/100\n",
      "\u001B[1m22/22\u001B[0m \u001B[32m━━━━━━━━━━━━━━━━━━━━\u001B[0m\u001B[37m\u001B[0m \u001B[1m0s\u001B[0m 2ms/step - accuracy: 0.9862 - loss: 0.0470 - val_accuracy: 0.9826 - val_loss: 0.0548\n",
      "Epoch 49/100\n",
      "\u001B[1m22/22\u001B[0m \u001B[32m━━━━━━━━━━━━━━━━━━━━\u001B[0m\u001B[37m\u001B[0m \u001B[1m0s\u001B[0m 2ms/step - accuracy: 0.9937 - loss: 0.0338 - val_accuracy: 0.9360 - val_loss: 0.1050\n",
      "Epoch 50/100\n",
      "\u001B[1m22/22\u001B[0m \u001B[32m━━━━━━━━━━━━━━━━━━━━\u001B[0m\u001B[37m\u001B[0m \u001B[1m0s\u001B[0m 2ms/step - accuracy: 0.9844 - loss: 0.0364 - val_accuracy: 0.9651 - val_loss: 0.0707\n",
      "Epoch 51/100\n",
      "\u001B[1m22/22\u001B[0m \u001B[32m━━━━━━━━━━━━━━━━━━━━\u001B[0m\u001B[37m\u001B[0m \u001B[1m0s\u001B[0m 2ms/step - accuracy: 0.9873 - loss: 0.0364 - val_accuracy: 0.9826 - val_loss: 0.0522\n",
      "Epoch 52/100\n",
      "\u001B[1m22/22\u001B[0m \u001B[32m━━━━━━━━━━━━━━━━━━━━\u001B[0m\u001B[37m\u001B[0m \u001B[1m0s\u001B[0m 2ms/step - accuracy: 0.9732 - loss: 0.0638 - val_accuracy: 0.9826 - val_loss: 0.0580\n",
      "Epoch 53/100\n",
      "\u001B[1m22/22\u001B[0m \u001B[32m━━━━━━━━━━━━━━━━━━━━\u001B[0m\u001B[37m\u001B[0m \u001B[1m0s\u001B[0m 2ms/step - accuracy: 0.9793 - loss: 0.0566 - val_accuracy: 0.9767 - val_loss: 0.0695\n",
      "Epoch 54/100\n",
      "\u001B[1m22/22\u001B[0m \u001B[32m━━━━━━━━━━━━━━━━━━━━\u001B[0m\u001B[37m\u001B[0m \u001B[1m0s\u001B[0m 2ms/step - accuracy: 0.9864 - loss: 0.0427 - val_accuracy: 0.9826 - val_loss: 0.0571\n",
      "Epoch 55/100\n",
      "\u001B[1m22/22\u001B[0m \u001B[32m━━━━━━━━━━━━━━━━━━━━\u001B[0m\u001B[37m\u001B[0m \u001B[1m0s\u001B[0m 2ms/step - accuracy: 0.9889 - loss: 0.0369 - val_accuracy: 0.9826 - val_loss: 0.0624\n",
      "Epoch 56/100\n",
      "\u001B[1m22/22\u001B[0m \u001B[32m━━━━━━━━━━━━━━━━━━━━\u001B[0m\u001B[37m\u001B[0m \u001B[1m0s\u001B[0m 2ms/step - accuracy: 0.9823 - loss: 0.0546 - val_accuracy: 0.9767 - val_loss: 0.0618\n",
      "Epoch 57/100\n",
      "\u001B[1m22/22\u001B[0m \u001B[32m━━━━━━━━━━━━━━━━━━━━\u001B[0m\u001B[37m\u001B[0m \u001B[1m0s\u001B[0m 2ms/step - accuracy: 0.9932 - loss: 0.0313 - val_accuracy: 0.9826 - val_loss: 0.0530\n",
      "Epoch 58/100\n",
      "\u001B[1m22/22\u001B[0m \u001B[32m━━━━━━━━━━━━━━━━━━━━\u001B[0m\u001B[37m\u001B[0m \u001B[1m0s\u001B[0m 2ms/step - accuracy: 0.9839 - loss: 0.0539 - val_accuracy: 0.9826 - val_loss: 0.0523\n",
      "Epoch 59/100\n",
      "\u001B[1m22/22\u001B[0m \u001B[32m━━━━━━━━━━━━━━━━━━━━\u001B[0m\u001B[37m\u001B[0m \u001B[1m0s\u001B[0m 2ms/step - accuracy: 0.9926 - loss: 0.0380 - val_accuracy: 0.9593 - val_loss: 0.0764\n",
      "Epoch 60/100\n",
      "\u001B[1m22/22\u001B[0m \u001B[32m━━━━━━━━━━━━━━━━━━━━\u001B[0m\u001B[37m\u001B[0m \u001B[1m0s\u001B[0m 2ms/step - accuracy: 0.9877 - loss: 0.0469 - val_accuracy: 0.9709 - val_loss: 0.0671\n",
      "Epoch 61/100\n",
      "\u001B[1m22/22\u001B[0m \u001B[32m━━━━━━━━━━━━━━━━━━━━\u001B[0m\u001B[37m\u001B[0m \u001B[1m0s\u001B[0m 2ms/step - accuracy: 0.9928 - loss: 0.0298 - val_accuracy: 0.9826 - val_loss: 0.0533\n",
      "Epoch 62/100\n",
      "\u001B[1m22/22\u001B[0m \u001B[32m━━━━━━━━━━━━━━━━━━━━\u001B[0m\u001B[37m\u001B[0m \u001B[1m0s\u001B[0m 2ms/step - accuracy: 0.9885 - loss: 0.0384 - val_accuracy: 0.9826 - val_loss: 0.0581\n",
      "Epoch 63/100\n",
      "\u001B[1m22/22\u001B[0m \u001B[32m━━━━━━━━━━━━━━━━━━━━\u001B[0m\u001B[37m\u001B[0m \u001B[1m0s\u001B[0m 2ms/step - accuracy: 0.9935 - loss: 0.0293 - val_accuracy: 0.9826 - val_loss: 0.0598\n",
      "Epoch 64/100\n",
      "\u001B[1m22/22\u001B[0m \u001B[32m━━━━━━━━━━━━━━━━━━━━\u001B[0m\u001B[37m\u001B[0m \u001B[1m0s\u001B[0m 2ms/step - accuracy: 0.9891 - loss: 0.0284 - val_accuracy: 0.9767 - val_loss: 0.0667\n",
      "Epoch 65/100\n",
      "\u001B[1m22/22\u001B[0m \u001B[32m━━━━━━━━━━━━━━━━━━━━\u001B[0m\u001B[37m\u001B[0m \u001B[1m0s\u001B[0m 2ms/step - accuracy: 0.9960 - loss: 0.0233 - val_accuracy: 0.9651 - val_loss: 0.0707\n",
      "Epoch 66/100\n",
      "\u001B[1m22/22\u001B[0m \u001B[32m━━━━━━━━━━━━━━━━━━━━\u001B[0m\u001B[37m\u001B[0m \u001B[1m0s\u001B[0m 2ms/step - accuracy: 0.9928 - loss: 0.0298 - val_accuracy: 0.9826 - val_loss: 0.0528\n",
      "Epoch 67/100\n",
      "\u001B[1m22/22\u001B[0m \u001B[32m━━━━━━━━━━━━━━━━━━━━\u001B[0m\u001B[37m\u001B[0m \u001B[1m0s\u001B[0m 2ms/step - accuracy: 0.9894 - loss: 0.0344 - val_accuracy: 0.9651 - val_loss: 0.0714\n",
      "Epoch 68/100\n",
      "\u001B[1m22/22\u001B[0m \u001B[32m━━━━━━━━━━━━━━━━━━━━\u001B[0m\u001B[37m\u001B[0m \u001B[1m0s\u001B[0m 2ms/step - accuracy: 0.9875 - loss: 0.0469 - val_accuracy: 0.9826 - val_loss: 0.0557\n",
      "Epoch 69/100\n",
      "\u001B[1m22/22\u001B[0m \u001B[32m━━━━━━━━━━━━━━━━━━━━\u001B[0m\u001B[37m\u001B[0m \u001B[1m0s\u001B[0m 2ms/step - accuracy: 0.9902 - loss: 0.0449 - val_accuracy: 0.9826 - val_loss: 0.0570\n",
      "Epoch 70/100\n",
      "\u001B[1m22/22\u001B[0m \u001B[32m━━━━━━━━━━━━━━━━━━━━\u001B[0m\u001B[37m\u001B[0m \u001B[1m0s\u001B[0m 2ms/step - accuracy: 0.9956 - loss: 0.0281 - val_accuracy: 0.9826 - val_loss: 0.0604\n",
      "Epoch 71/100\n",
      "\u001B[1m22/22\u001B[0m \u001B[32m━━━━━━━━━━━━━━━━━━━━\u001B[0m\u001B[37m\u001B[0m \u001B[1m0s\u001B[0m 2ms/step - accuracy: 0.9916 - loss: 0.0352 - val_accuracy: 0.9826 - val_loss: 0.0615\n",
      "Epoch 72/100\n",
      "\u001B[1m22/22\u001B[0m \u001B[32m━━━━━━━━━━━━━━━━━━━━\u001B[0m\u001B[37m\u001B[0m \u001B[1m0s\u001B[0m 2ms/step - accuracy: 0.9915 - loss: 0.0390 - val_accuracy: 0.9826 - val_loss: 0.0544\n",
      "Epoch 73/100\n",
      "\u001B[1m22/22\u001B[0m \u001B[32m━━━━━━━━━━━━━━━━━━━━\u001B[0m\u001B[37m\u001B[0m \u001B[1m0s\u001B[0m 2ms/step - accuracy: 0.9880 - loss: 0.0365 - val_accuracy: 0.9709 - val_loss: 0.0683\n",
      "Epoch 74/100\n",
      "\u001B[1m22/22\u001B[0m \u001B[32m━━━━━━━━━━━━━━━━━━━━\u001B[0m\u001B[37m\u001B[0m \u001B[1m0s\u001B[0m 2ms/step - accuracy: 0.9964 - loss: 0.0207 - val_accuracy: 0.9535 - val_loss: 0.0881\n",
      "Epoch 75/100\n",
      "\u001B[1m22/22\u001B[0m \u001B[32m━━━━━━━━━━━━━━━━━━━━\u001B[0m\u001B[37m\u001B[0m \u001B[1m0s\u001B[0m 2ms/step - accuracy: 0.9942 - loss: 0.0214 - val_accuracy: 0.9826 - val_loss: 0.0522\n",
      "Epoch 76/100\n",
      "\u001B[1m22/22\u001B[0m \u001B[32m━━━━━━━━━━━━━━━━━━━━\u001B[0m\u001B[37m\u001B[0m \u001B[1m0s\u001B[0m 2ms/step - accuracy: 0.9886 - loss: 0.0491 - val_accuracy: 0.9826 - val_loss: 0.0565\n",
      "Epoch 77/100\n",
      "\u001B[1m22/22\u001B[0m \u001B[32m━━━━━━━━━━━━━━━━━━━━\u001B[0m\u001B[37m\u001B[0m \u001B[1m0s\u001B[0m 2ms/step - accuracy: 0.9927 - loss: 0.0276 - val_accuracy: 0.9826 - val_loss: 0.0548\n",
      "Epoch 78/100\n",
      "\u001B[1m22/22\u001B[0m \u001B[32m━━━━━━━━━━━━━━━━━━━━\u001B[0m\u001B[37m\u001B[0m \u001B[1m0s\u001B[0m 2ms/step - accuracy: 0.9878 - loss: 0.0379 - val_accuracy: 0.9826 - val_loss: 0.0566\n",
      "Epoch 79/100\n",
      "\u001B[1m22/22\u001B[0m \u001B[32m━━━━━━━━━━━━━━━━━━━━\u001B[0m\u001B[37m\u001B[0m \u001B[1m0s\u001B[0m 2ms/step - accuracy: 0.9945 - loss: 0.0231 - val_accuracy: 0.9826 - val_loss: 0.0534\n",
      "Epoch 80/100\n",
      "\u001B[1m22/22\u001B[0m \u001B[32m━━━━━━━━━━━━━━━━━━━━\u001B[0m\u001B[37m\u001B[0m \u001B[1m0s\u001B[0m 2ms/step - accuracy: 0.9908 - loss: 0.0425 - val_accuracy: 0.9709 - val_loss: 0.0721\n",
      "Epoch 81/100\n",
      "\u001B[1m22/22\u001B[0m \u001B[32m━━━━━━━━━━━━━━━━━━━━\u001B[0m\u001B[37m\u001B[0m \u001B[1m0s\u001B[0m 2ms/step - accuracy: 0.9973 - loss: 0.0213 - val_accuracy: 0.9360 - val_loss: 0.1068\n",
      "Epoch 82/100\n",
      "\u001B[1m22/22\u001B[0m \u001B[32m━━━━━━━━━━━━━━━━━━━━\u001B[0m\u001B[37m\u001B[0m \u001B[1m0s\u001B[0m 2ms/step - accuracy: 0.9913 - loss: 0.0215 - val_accuracy: 0.9709 - val_loss: 0.0766\n",
      "Epoch 83/100\n",
      "\u001B[1m22/22\u001B[0m \u001B[32m━━━━━━━━━━━━━━━━━━━━\u001B[0m\u001B[37m\u001B[0m \u001B[1m0s\u001B[0m 2ms/step - accuracy: 0.9933 - loss: 0.0181 - val_accuracy: 0.9826 - val_loss: 0.0632\n",
      "Epoch 84/100\n",
      "\u001B[1m22/22\u001B[0m \u001B[32m━━━━━━━━━━━━━━━━━━━━\u001B[0m\u001B[37m\u001B[0m \u001B[1m0s\u001B[0m 2ms/step - accuracy: 0.9933 - loss: 0.0236 - val_accuracy: 0.9826 - val_loss: 0.0558\n",
      "Epoch 85/100\n",
      "\u001B[1m22/22\u001B[0m \u001B[32m━━━━━━━━━━━━━━━━━━━━\u001B[0m\u001B[37m\u001B[0m \u001B[1m0s\u001B[0m 2ms/step - accuracy: 0.9938 - loss: 0.0265 - val_accuracy: 0.9826 - val_loss: 0.0572\n",
      "Epoch 86/100\n",
      "\u001B[1m22/22\u001B[0m \u001B[32m━━━━━━━━━━━━━━━━━━━━\u001B[0m\u001B[37m\u001B[0m \u001B[1m0s\u001B[0m 2ms/step - accuracy: 0.9956 - loss: 0.0187 - val_accuracy: 0.9826 - val_loss: 0.0572\n",
      "Epoch 87/100\n",
      "\u001B[1m22/22\u001B[0m \u001B[32m━━━━━━━━━━━━━━━━━━━━\u001B[0m\u001B[37m\u001B[0m \u001B[1m0s\u001B[0m 2ms/step - accuracy: 0.9961 - loss: 0.0199 - val_accuracy: 0.9826 - val_loss: 0.0546\n",
      "Epoch 88/100\n",
      "\u001B[1m22/22\u001B[0m \u001B[32m━━━━━━━━━━━━━━━━━━━━\u001B[0m\u001B[37m\u001B[0m \u001B[1m0s\u001B[0m 2ms/step - accuracy: 0.9931 - loss: 0.0262 - val_accuracy: 0.9826 - val_loss: 0.0548\n",
      "Epoch 89/100\n",
      "\u001B[1m22/22\u001B[0m \u001B[32m━━━━━━━━━━━━━━━━━━━━\u001B[0m\u001B[37m\u001B[0m \u001B[1m0s\u001B[0m 2ms/step - accuracy: 0.9937 - loss: 0.0298 - val_accuracy: 0.9826 - val_loss: 0.0565\n",
      "Epoch 90/100\n",
      "\u001B[1m22/22\u001B[0m \u001B[32m━━━━━━━━━━━━━━━━━━━━\u001B[0m\u001B[37m\u001B[0m \u001B[1m0s\u001B[0m 2ms/step - accuracy: 0.9944 - loss: 0.0248 - val_accuracy: 0.9826 - val_loss: 0.0606\n",
      "Epoch 91/100\n",
      "\u001B[1m22/22\u001B[0m \u001B[32m━━━━━━━━━━━━━━━━━━━━\u001B[0m\u001B[37m\u001B[0m \u001B[1m0s\u001B[0m 2ms/step - accuracy: 0.9922 - loss: 0.0243 - val_accuracy: 0.9767 - val_loss: 0.0559\n",
      "Epoch 92/100\n",
      "\u001B[1m22/22\u001B[0m \u001B[32m━━━━━━━━━━━━━━━━━━━━\u001B[0m\u001B[37m\u001B[0m \u001B[1m0s\u001B[0m 2ms/step - accuracy: 0.9892 - loss: 0.0320 - val_accuracy: 0.9767 - val_loss: 0.0747\n",
      "Epoch 93/100\n",
      "\u001B[1m22/22\u001B[0m \u001B[32m━━━━━━━━━━━━━━━━━━━━\u001B[0m\u001B[37m\u001B[0m \u001B[1m0s\u001B[0m 2ms/step - accuracy: 0.9972 - loss: 0.0191 - val_accuracy: 0.9651 - val_loss: 0.0896\n",
      "Epoch 94/100\n",
      "\u001B[1m22/22\u001B[0m \u001B[32m━━━━━━━━━━━━━━━━━━━━\u001B[0m\u001B[37m\u001B[0m \u001B[1m0s\u001B[0m 2ms/step - accuracy: 0.9956 - loss: 0.0209 - val_accuracy: 0.9826 - val_loss: 0.0625\n",
      "Epoch 95/100\n",
      "\u001B[1m22/22\u001B[0m \u001B[32m━━━━━━━━━━━━━━━━━━━━\u001B[0m\u001B[37m\u001B[0m \u001B[1m0s\u001B[0m 2ms/step - accuracy: 0.9958 - loss: 0.0244 - val_accuracy: 0.9651 - val_loss: 0.0921\n",
      "Epoch 96/100\n",
      "\u001B[1m22/22\u001B[0m \u001B[32m━━━━━━━━━━━━━━━━━━━━\u001B[0m\u001B[37m\u001B[0m \u001B[1m0s\u001B[0m 2ms/step - accuracy: 0.9892 - loss: 0.0318 - val_accuracy: 0.9709 - val_loss: 0.0820\n",
      "Epoch 97/100\n",
      "\u001B[1m22/22\u001B[0m \u001B[32m━━━━━━━━━━━━━━━━━━━━\u001B[0m\u001B[37m\u001B[0m \u001B[1m0s\u001B[0m 2ms/step - accuracy: 0.9946 - loss: 0.0278 - val_accuracy: 0.9767 - val_loss: 0.0631\n",
      "Epoch 98/100\n",
      "\u001B[1m22/22\u001B[0m \u001B[32m━━━━━━━━━━━━━━━━━━━━\u001B[0m\u001B[37m\u001B[0m \u001B[1m0s\u001B[0m 2ms/step - accuracy: 0.9977 - loss: 0.0182 - val_accuracy: 0.9709 - val_loss: 0.0797\n",
      "Epoch 99/100\n",
      "\u001B[1m22/22\u001B[0m \u001B[32m━━━━━━━━━━━━━━━━━━━━\u001B[0m\u001B[37m\u001B[0m \u001B[1m0s\u001B[0m 2ms/step - accuracy: 0.9923 - loss: 0.0375 - val_accuracy: 0.9767 - val_loss: 0.0708\n",
      "Epoch 100/100\n",
      "\u001B[1m22/22\u001B[0m \u001B[32m━━━━━━━━━━━━━━━━━━━━\u001B[0m\u001B[37m\u001B[0m \u001B[1m0s\u001B[0m 2ms/step - accuracy: 0.9942 - loss: 0.0181 - val_accuracy: 0.9767 - val_loss: 0.0745\n",
      "\u001B[1m9/9\u001B[0m \u001B[32m━━━━━━━━━━━━━━━━━━━━\u001B[0m\u001B[37m\u001B[0m \u001B[1m0s\u001B[0m 750us/step - accuracy: 0.9354 - loss: 0.2177\n",
      "Test Accuracy: 0.9547038078308105\n",
      "\u001B[1m9/9\u001B[0m \u001B[32m━━━━━━━━━━━━━━━━━━━━\u001B[0m\u001B[37m\u001B[0m \u001B[1m0s\u001B[0m 3ms/step \n"
     ]
    }
   ],
   "source": [
    "\n",
    "\n",
    "\n",
    "RN = Sequential()\n",
    "X_train, X_test, y_train, y_test = train_test_split(X, y, test_size=0.25, random_state=42)\n",
    "input_dim = X_train.shape[1]\n",
    "RN.add(Dense(units=64, activation='relu', input_dim=input_dim))\n",
    "RN.add(Dense(units=32, activation='relu'))\n",
    "RN.add(Dense(units=1, activation='sigmoid'))\n",
    "RN.compile(optimizer=Adam(learning_rate=0.001),\n",
    "           loss=BinaryCrossentropy(),\n",
    "           metrics=['accuracy'])\n",
    "history = RN.fit(X_train, y_train, epochs=100, batch_size=32, validation_split=0.2)\n",
    "loss, accuracy = RN.evaluate(X_test, y_test)\n",
    "\n",
    "print(f'Test Accuracy: {accuracy}')\n",
    "\n",
    "# Realizar predicciones en el conjunto de prueba\n",
    "y_pred_prob = RN.predict(X_test)  # Predicciones como probabilidades\n",
    "y_pred = (y_pred_prob > 0.5).astype(int)  # Convertir probabilidades a etiquetas (0 o 1)\n",
    "\n"
   ],
   "metadata": {
    "collapsed": false,
    "ExecuteTime": {
     "end_time": "2024-11-17T20:38:18.320837500Z",
     "start_time": "2024-11-17T20:38:10.917718400Z"
    }
   },
   "id": "bcf971544e037062"
  },
  {
   "cell_type": "code",
   "execution_count": 11,
   "outputs": [
    {
     "name": "stdout",
     "output_type": "stream",
     "text": [
      "Accuracy: 0.9547038327526133\n",
      "Precision: 0.6875\n",
      "Recall: 0.5789473684210527\n",
      "F1: 0.6285714285714286\n",
      "AUC: 0.9687745483110762\n"
     ]
    }
   ],
   "source": [
    "# Calcular y mostrar las métricas\n",
    "print(\"Accuracy:\", accuracy_score(y_test, y_pred))\n",
    "print(\"Precision:\", precision_score(y_test, y_pred))\n",
    "print(\"Recall:\", recall_score(y_test, y_pred))\n",
    "print(\"F1:\", f1_score(y_test, y_pred))\n",
    "print(\"AUC:\", roc_auc_score(y_test, y_pred_prob))  # Usamos probabilidades para AUC\n"
   ],
   "metadata": {
    "collapsed": false,
    "ExecuteTime": {
     "end_time": "2024-11-17T20:38:18.327430400Z",
     "start_time": "2024-11-17T20:38:18.315839900Z"
    }
   },
   "id": "e555ea8695f7d207"
  },
  {
   "cell_type": "markdown",
   "source": [],
   "metadata": {
    "collapsed": false
   },
   "id": "c8f297d3f7a6ff19"
  }
 ],
 "metadata": {
  "kernelspec": {
   "display_name": "Python 3",
   "language": "python",
   "name": "python3"
  },
  "language_info": {
   "codemirror_mode": {
    "name": "ipython",
    "version": 2
   },
   "file_extension": ".py",
   "mimetype": "text/x-python",
   "name": "python",
   "nbconvert_exporter": "python",
   "pygments_lexer": "ipython2",
   "version": "2.7.6"
  }
 },
 "nbformat": 4,
 "nbformat_minor": 5
}

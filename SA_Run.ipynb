{
 "cells": [
  {
   "cell_type": "code",
   "execution_count": null,
   "id": "initial_id",
   "metadata": {
    "collapsed": true,
    "ExecuteTime": {
     "end_time": "2024-11-01T19:21:12.612965800Z",
     "start_time": "2024-11-01T19:21:12.448220200Z"
    }
   },
   "outputs": [],
   "source": []
  },
  {
   "cell_type": "code",
   "execution_count": 1,
   "id": "b3bf4e2f337876d0",
   "metadata": {
    "ExecuteTime": {
     "end_time": "2024-11-01T19:21:16.373825800Z",
     "start_time": "2024-11-01T19:21:12.448220200Z"
    }
   },
   "outputs": [],
   "source": [
    "import numpy as np\n",
    "from Metaheuristicas.fitness_functions import mutual_information_eval\n",
    "from Metaheuristicas.fitness_functions import relieff_eval\n",
    "from Metaheuristicas.fitness_functions import chi2_eval"
   ]
  },
  {
   "cell_type": "code",
   "execution_count": 2,
   "id": "1af9109ecff68ec5",
   "metadata": {
    "ExecuteTime": {
     "end_time": "2024-11-01T19:21:16.437236300Z",
     "start_time": "2024-11-01T19:21:16.374335100Z"
    }
   },
   "outputs": [],
   "source": [
    "from Metaheuristicas.fitness_functions import load_and_preprocess_data\n",
    "\n",
    "X, y = load_and_preprocess_data()\n",
    "\n"
   ]
  },
  {
   "cell_type": "code",
   "execution_count": 3,
   "id": "1336b716ae1981a3",
   "metadata": {
    "ExecuteTime": {
     "end_time": "2024-11-01T19:21:16.454024800Z",
     "start_time": "2024-11-01T19:21:16.437236300Z"
    }
   },
   "outputs": [],
   "source": [
    "Mutual_Information = []\n",
    "Chi2 = []\n",
    "ReliefF = []"
   ]
  },
  {
   "cell_type": "markdown",
   "id": "b76d21b8a0f0ec3e",
   "metadata": {},
   "source": [
    "### SA Run"
   ]
  },
  {
   "cell_type": "code",
   "execution_count": 4,
   "id": "7562491832f67eae",
   "metadata": {
    "ExecuteTime": {
     "end_time": "2024-11-01T19:21:16.526688300Z",
     "start_time": "2024-11-01T19:21:16.454024800Z"
    }
   },
   "outputs": [],
   "source": [
    "cooling_rate=0.95\n",
    "max_iter = 500"
   ]
  },
  {
   "cell_type": "code",
   "execution_count": 5,
   "outputs": [],
   "source": [
    "temperature = [10000,1000,100,10,1,0.1,0.01,0.001,0.0001,0.00001]"
   ],
   "metadata": {
    "collapsed": false,
    "ExecuteTime": {
     "end_time": "2024-11-01T19:21:16.597833400Z",
     "start_time": "2024-11-01T19:21:16.527194300Z"
    }
   },
   "id": "c0946fc1770cffd9"
  },
  {
   "cell_type": "code",
   "execution_count": 5,
   "id": "671d318cd4214766",
   "metadata": {
    "ExecuteTime": {
     "end_time": "2024-11-01T19:21:16.598981300Z",
     "start_time": "2024-11-01T19:21:16.598474600Z"
    }
   },
   "outputs": [],
   "source": []
  },
  {
   "cell_type": "code",
   "execution_count": 6,
   "id": "da5680f741045227",
   "metadata": {
    "ExecuteTime": {
     "end_time": "2024-11-01T19:34:24.936985500Z",
     "start_time": "2024-11-01T19:21:16.598981300Z"
    }
   },
   "outputs": [],
   "source": [
    "from Metaheuristicas.Simmulated_Annealing import simulated_annealing\n",
    "for tempt in temperature:\n",
    "    best_solution, best_Gfitness = simulated_annealing(X, y,initial_temperature=tempt,cooling_rate=cooling_rate, max_iter= max_iter, fitness_function=mutual_information_eval)\n",
    "    selected_features = X.columns[best_solution.astype(bool)].tolist()\n",
    "    Mutual_Information.append([selected_features, best_Gfitness, tempt])\n",
    "\n",
    "    "
   ]
  },
  {
   "cell_type": "code",
   "execution_count": 7,
   "id": "b56caa9cef4f0ec9",
   "metadata": {
    "ExecuteTime": {
     "end_time": "2024-11-01T19:34:31.064969200Z",
     "start_time": "2024-11-01T19:34:24.936985500Z"
    }
   },
   "outputs": [],
   "source": [
    "from Metaheuristicas.Simmulated_Annealing import simulated_annealing\n",
    "for tempt in temperature:\n",
    "    best_solution, best_Gfitness = simulated_annealing(X, y,initial_temperature=tempt,cooling_rate=cooling_rate, max_iter= max_iter, fitness_function=chi2_eval)\n",
    "    selected_features = X.columns[best_solution.astype(bool)].tolist()\n",
    "    Chi2.append([selected_features, best_Gfitness, tempt])"
   ]
  },
  {
   "cell_type": "code",
   "execution_count": 8,
   "id": "905b520c0f36354a",
   "metadata": {
    "ExecuteTime": {
     "end_time": "2024-11-01T19:36:49.165687900Z",
     "start_time": "2024-11-01T19:34:31.064969200Z"
    }
   },
   "outputs": [],
   "source": [
    "from Metaheuristicas.Simmulated_Annealing import simulated_annealing\n",
    "for tempt in temperature:\n",
    "    best_solution, best_Gfitness = simulated_annealing(X, y,initial_temperature=tempt,cooling_rate=cooling_rate, max_iter= max_iter, fitness_function=relieff_eval)\n",
    "    selected_features = X.columns[best_solution.astype(bool)].tolist()\n",
    "    ReliefF.append([selected_features, best_Gfitness, tempt])"
   ]
  },
  {
   "cell_type": "markdown",
   "source": [],
   "metadata": {
    "collapsed": false
   },
   "id": "b21e782a6018fcbd"
  },
  {
   "cell_type": "code",
   "outputs": [],
   "source": [
    "#save the results\n",
    "import pickle\n",
    "with open('SAMutual_Information.pkl', 'wb') as f:\n",
    "    pickle.dump(Mutual_Information, f)\n",
    "with open('SAChi2.pkl', 'wb') as f:\n",
    "    pickle.dump(Chi2, f)\n",
    "with open('SAReliefF.pkl', 'wb') as f:\n",
    "    pickle.dump(ReliefF, f)\n",
    "    "
   ],
   "metadata": {
    "collapsed": false,
    "ExecuteTime": {
     "end_time": "2024-11-01T19:36:49.171009Z",
     "start_time": "2024-11-01T19:36:49.165687900Z"
    }
   },
   "id": "8c7d5b305b9350b",
   "execution_count": 9
  },
  {
   "cell_type": "code",
   "execution_count": 10,
   "id": "957e85cdae236b09",
   "metadata": {
    "ExecuteTime": {
     "end_time": "2024-11-01T19:36:49.242418900Z",
     "start_time": "2024-11-01T19:36:49.171009Z"
    }
   },
   "outputs": [],
   "source": [
    "#sort the results with the best fitness for each method\n",
    "Mutual_Information.sort(key=lambda x: x[1], reverse=True)\n",
    "Chi2.sort(key=lambda x: x[1], reverse=True)\n",
    "ReliefF.sort(key=lambda x: x[1], reverse=True)"
   ]
  },
  {
   "cell_type": "code",
   "execution_count": 11,
   "id": "61b1eb234ac40143",
   "metadata": {
    "ExecuteTime": {
     "end_time": "2024-11-01T19:36:49.314147100Z",
     "start_time": "2024-11-01T19:36:49.242418900Z"
    }
   },
   "outputs": [
    {
     "name": "stdout",
     "output_type": "stream",
     "text": [
      "Mutual Information:  3.0375818510914816 0.1\n",
      "Mutual Information:  3.0297245760685882 1\n",
      "Mutual Information:  3.02281255507754 0.01\n",
      "Mutual Information:  2.959482964290443 0.0001\n",
      "Mutual Information:  2.933470773440227 0.001\n",
      "Mutual Information:  2.9268618606830836 10000\n",
      "Mutual Information:  2.8921921621585756 1e-05\n",
      "Mutual Information:  2.8406846484202934 100\n",
      "Mutual Information:  2.7173264617364357 1000\n",
      "Mutual Information:  2.6419593318124677 10\n"
     ]
    }
   ],
   "source": [
    "#print all the scores in mutual information and the number of generations\n",
    "for i in Mutual_Information:\n",
    "    print(\"Mutual Information: \",i[1], i[2])"
   ]
  },
  {
   "cell_type": "code",
   "execution_count": 12,
   "id": "3354fa794bb2198c",
   "metadata": {
    "ExecuteTime": {
     "end_time": "2024-11-01T19:36:49.383996600Z",
     "start_time": "2024-11-01T19:36:49.314147100Z"
    }
   },
   "outputs": [
    {
     "name": "stdout",
     "output_type": "stream",
     "text": [
      "Mutual Information: \n",
      " [['f1_t_mean', 'f4_t_entropy', 'f7_t_time2peak', 'f9_t_peak2peak', 'f10_t_peak2rms', 'f11_t_energy', 'f13_t_PeaksAboveRMSDensity_fun', 'f14_f_peaks_pos_1', 'f15_f_90_percent_energy', 'f18_f_std', 'f19_f_var', 'f20_f_energy', 'f21_f_kurtosis', 'f22_f_multiscaleEntropy', 'f23_f_peak_1020_value', 'f24_f_peak_1020_pos', 'f25_f_peak_2030_value', 'f26_f_peak_2030_pos', 'f28_f_peak2rms', 'f30_f_PeaksAboveRMSDensity_fun', 'f31_f_peaks_val_2', 'f32_f_peaks_pos_2', 'f33_f_peaks_val_3', 'f34_f_peaks_pos_3', 'f35_w_f_maxval_A6', 'f37_w_f_maxval_D2', 'f38_w_f_maxval_D3', 'f39_w_f_maxval_D4', 'f40_w_f_maxval_D5', 'f44_w_f_maxpos_D3', 'f46_w_f_maxpos_D5', 'f47_w_f_maxpos_D6', 'f50_w_f_mean_D2', 'f52_w_f_mean_D4', 'f55_w_t_meanEnergyAD', 'f57_w_t_PEC_D1', 'f58_w_t_PEC_D2', 'f59_w_t_PEC_D3', 'f60_w_t_PEC_D4', 'f61_w_t_PEC_D5', 'f62_w_t_PEC_D6', 'f63_w_t_rms_A6', 'f64_w_t_rms_D1', 'f65_w_t_rms_D2', 'f66_w_t_rms_D3', 'f67_w_t_rms_D4', 'f68_w_t_rms_D5', 'f69_w_t_rms_D6', 'f71_w_t_peak2peak_D1', 'f72_w_t_peak2peak_D2', 'f73_w_t_peak2peak_D3', 'f74_w_t_peak2peak_D4', 'f75_w_t_peak2peak_D5', 'f77_w_t_peak2rms_A6', 'f78_w_t_peak2rms_D1', 'f79_w_t_peak2rms_D2', 'f80_w_t_peak2rms_D3', 'f82_w_t_peak2rms_D5', 'f83_w_t_peak2rms_D6', 'f84_w_t_meanEnergyCoeff'], 3.0375818510914816, 0.1]\n",
      "Chi2: \n",
      " [['f14_f_peaks_pos_1', 'f15_f_90_percent_energy', 'f17_f_mean', 'f19_f_var', 'f23_f_peak_1020_value', 'f30_f_PeaksAboveRMSDensity_fun', 'f32_f_peaks_pos_2', 'f34_f_peaks_pos_3', 'f37_w_f_maxval_D2', 'f44_w_f_maxpos_D3', 'f58_w_t_PEC_D2', 'f59_w_t_PEC_D3', 'f61_w_t_PEC_D5', 'f65_w_t_rms_D2', 'f66_w_t_rms_D3', 'f71_w_t_peak2peak_D1', 'f72_w_t_peak2peak_D2', 'f73_w_t_peak2peak_D3', 'f75_w_t_peak2peak_D5', 'f80_w_t_peak2rms_D3'], 19.866151818238855, 0.001]\n",
      "ReliefF: \n",
      " [['f3_t_var', 'f7_t_time2peak', 'f8_t_rms', 'f11_t_energy', 'f16_f_entropy', 'f17_f_mean', 'f18_f_std', 'f19_f_var', 'f20_f_energy', 'f21_f_kurtosis', 'f23_f_peak_1020_value', 'f27_f_rms', 'f29_f_power', 'f55_w_t_meanEnergyAD', 'f57_w_t_PEC_D1', 'f58_w_t_PEC_D2', 'f62_w_t_PEC_D6', 'f64_w_t_rms_D1', 'f71_w_t_peak2peak_D1', 'f84_w_t_meanEnergyCoeff'], -0.20721024746745345, 0.01]\n"
     ]
    }
   ],
   "source": [
    "print(\"Mutual Information: \\n\",Mutual_Information[0])\n",
    "print(\"Chi2: \\n\",Chi2[0])\n",
    "print(\"ReliefF: \\n\",ReliefF[0])"
   ]
  },
  {
   "cell_type": "code",
   "execution_count": 13,
   "id": "8f667e9942bff411",
   "metadata": {
    "ExecuteTime": {
     "end_time": "2024-11-01T19:36:49.454532200Z",
     "start_time": "2024-11-01T19:36:49.383996600Z"
    }
   },
   "outputs": [
    {
     "name": "stdout",
     "output_type": "stream",
     "text": [
      "Mutual Information: \n",
      " 60\n",
      "Chi2: \n",
      " 20\n",
      "ReliefF: \n",
      " 20\n"
     ]
    }
   ],
   "source": [
    "print(\"Mutual Information: \\n\",len(Mutual_Information[0][0]))\n",
    "print(\"Chi2: \\n\",len(Chi2[0][0]))\n",
    "print(\"ReliefF: \\n\",len(ReliefF[0][0]))"
   ]
  },
  {
   "cell_type": "code",
   "execution_count": 14,
   "id": "5f44bc0fb64a3885",
   "metadata": {
    "ExecuteTime": {
     "end_time": "2024-11-01T19:36:49.524535400Z",
     "start_time": "2024-11-01T19:36:49.452416900Z"
    }
   },
   "outputs": [],
   "source": [
    "from sklearn.metrics import accuracy_score, precision_score, recall_score, f1_score, roc_auc_score\n",
    "from sklearn.naive_bayes import GaussianNB\n",
    "from sklearn.model_selection import train_test_split\n"
   ]
  },
  {
   "cell_type": "code",
   "execution_count": 15,
   "id": "94b4ccb6e9d66db4",
   "metadata": {
    "ExecuteTime": {
     "end_time": "2024-11-01T19:36:49.606480Z",
     "start_time": "2024-11-01T19:36:49.526345700Z"
    }
   },
   "outputs": [],
   "source": [
    "\n",
    "\n",
    "#Naive Bayes classifier with all features\n",
    "\n",
    "cmodel = GaussianNB()\n",
    "X_train, X_test, y_train, y_test = train_test_split(X, y, test_size=0.2, random_state=42)\n",
    "cmodel.fit(X_train, y_train)\n",
    "y_pred = cmodel.predict(X_test)\n",
    "y_pred_proba = cmodel.predict_proba(X_test)[:, 1]  # Probability estimates for AUC\n",
    "\n",
    "accuracy = accuracy_score(y_test, y_pred)\n",
    "precision = precision_score(y_test, y_pred)\n",
    "recall = recall_score(y_test, y_pred)\n",
    "f1 = f1_score(y_test, y_pred)\n",
    "auc = roc_auc_score(y_test, y_pred_proba)"
   ]
  },
  {
   "cell_type": "code",
   "execution_count": 16,
   "id": "e1bf30a2a6f0e7ab",
   "metadata": {
    "ExecuteTime": {
     "end_time": "2024-11-01T19:36:49.667988400Z",
     "start_time": "2024-11-01T19:36:49.606480Z"
    }
   },
   "outputs": [
    {
     "name": "stdout",
     "output_type": "stream",
     "text": [
      "Accuracy:  0.9432314410480349\n",
      "Precision:  0.6086956521739131\n",
      "Recall:  0.7777777777777778\n",
      "F1:  0.6829268292682927\n",
      "AUC:  0.9462875197472354\n"
     ]
    }
   ],
   "source": [
    "print(\"Accuracy: \", accuracy)\n",
    "print(\"Precision: \", precision)\n",
    "print(\"Recall: \", recall)\n",
    "print(\"F1: \", f1)\n",
    "print(\"AUC: \", auc)\n"
   ]
  },
  {
   "cell_type": "code",
   "execution_count": 17,
   "id": "cc4b93a7113ac1c9",
   "metadata": {
    "ExecuteTime": {
     "end_time": "2024-11-01T19:36:49.735847600Z",
     "start_time": "2024-11-01T19:36:49.667988400Z"
    }
   },
   "outputs": [
    {
     "name": "stdout",
     "output_type": "stream",
     "text": [
      "Accuracy:  0.9432314410480349\n",
      "Precision:  0.6086956521739131\n",
      "Recall:  0.7777777777777778\n",
      "F1:  0.6829268292682927\n",
      "AUC:  0.9462875197472354\n"
     ]
    }
   ],
   "source": [
    "print(\"Accuracy: \", accuracy)\n",
    "print(\"Precision: \", precision)\n",
    "print(\"Recall: \", recall)\n",
    "print(\"F1: \", f1)\n",
    "print(\"AUC: \", auc)"
   ]
  },
  {
   "cell_type": "code",
   "execution_count": 18,
   "id": "9877d885f3685198",
   "metadata": {
    "ExecuteTime": {
     "end_time": "2024-11-01T19:36:49.807819200Z",
     "start_time": "2024-11-01T19:36:49.735847600Z"
    }
   },
   "outputs": [
    {
     "name": "stdout",
     "output_type": "stream",
     "text": [
      "Accuracy:  0.9432314410480349\n",
      "Precision:  0.6086956521739131\n",
      "Recall:  0.7777777777777778\n",
      "F1:  0.6829268292682927\n",
      "AUC:  0.9462875197472354\n"
     ]
    }
   ],
   "source": [
    "print(\"Accuracy: \", accuracy)\n",
    "print(\"Precision: \", precision)\n",
    "print(\"Recall: \", recall)\n",
    "print(\"F1: \", f1)\n",
    "print(\"AUC: \", auc)\n"
   ]
  },
  {
   "cell_type": "code",
   "execution_count": 19,
   "id": "8b225ca6053e3563",
   "metadata": {
    "ExecuteTime": {
     "end_time": "2024-11-01T19:36:49.876645200Z",
     "start_time": "2024-11-01T19:36:49.807819200Z"
    }
   },
   "outputs": [],
   "source": [
    "MI_Scores = []\n",
    "Chi_Scores = []\n",
    "ReliefF_Scores = []"
   ]
  },
  {
   "cell_type": "markdown",
   "id": "ad8d8a038949046a",
   "metadata": {},
   "source": [
    "### Naive Bayes with all scores of mutual information, chi2 and ReliefF"
   ]
  },
  {
   "cell_type": "code",
   "execution_count": 20,
   "id": "9e637221b876eab0",
   "metadata": {
    "ExecuteTime": {
     "end_time": "2024-11-01T19:36:49.998214Z",
     "start_time": "2024-11-01T19:36:49.879024400Z"
    }
   },
   "outputs": [],
   "source": [
    "#Naive Bayes with all scores of mutual information\n",
    "for MI in Mutual_Information:\n",
    "    model = GaussianNB()\n",
    "    X_train, X_test, y_train, y_test = train_test_split(X[MI[0]], y, test_size=0.2, random_state=42)\n",
    "    cmodel.fit(X_train, y_train)\n",
    "    y_pred = cmodel.predict(X_test)\n",
    "    y_pred_proba = cmodel.predict_proba(X_test)[:, 1]  # Probability estimates for AUC\n",
    "    # # accuracy = accuracy_score(y_test, y_pred)\n",
    "    # # precision = precision_score(y_test, y_pred)\n",
    "    # # recall = recall_score(y_test, y_pred)\n",
    "    # # f1 = f1_score(y_test, y_pred)\n",
    "    auc = roc_auc_score(y_test, y_pred_proba)\n",
    "    MI_Scores.append([auc,MI[2]])"
   ]
  },
  {
   "cell_type": "code",
   "execution_count": 21,
   "id": "198b3d7c8ef35ebf",
   "metadata": {
    "ExecuteTime": {
     "end_time": "2024-11-01T19:36:50.060516700Z",
     "start_time": "2024-11-01T19:36:49.998214Z"
    }
   },
   "outputs": [],
   "source": [
    "for Ch in Chi2:\n",
    "    model = GaussianNB()\n",
    "    X_train, X_test, y_train, y_test = train_test_split(X[Ch[0]], y, test_size=0.2, random_state=42)\n",
    "    cmodel.fit(X_train, y_train)\n",
    "    y_pred = cmodel.predict(X_test)\n",
    "    y_pred_proba = cmodel.predict_proba(X_test)[:, 1]  # Probability estimates for AUC\n",
    "    # # accuracy = accuracy_score(y_test, y_pred)\n",
    "    # # precision = precision_score(y_test, y_pred)\n",
    "    # # recall = recall_score(y_test, y_pred)\n",
    "    # # f1 = f1_score(y_test, y_pred)\n",
    "    auc = roc_auc_score(y_test, y_pred_proba)\n",
    "    Chi_Scores.append([auc,Ch[2]])"
   ]
  },
  {
   "cell_type": "code",
   "execution_count": 22,
   "id": "2eaa06ab9fa4dcab",
   "metadata": {
    "ExecuteTime": {
     "end_time": "2024-11-01T19:36:50.131935700Z",
     "start_time": "2024-11-01T19:36:50.062158400Z"
    }
   },
   "outputs": [],
   "source": [
    "for RF in ReliefF:\n",
    "    model = GaussianNB()\n",
    "    X_train, X_test, y_train, y_test = train_test_split(X[RF[0]], y, test_size=0.2, random_state=42)\n",
    "    cmodel.fit(X_train, y_train)\n",
    "    y_pred = cmodel.predict(X_test)\n",
    "    y_pred_proba = cmodel.predict_proba(X_test)[:, 1]  # Probability estimates for AUC\n",
    "    # # accuracy = accuracy_score(y_test, y_pred)\n",
    "    # # precision = precision_score(y_test, y_pred)\n",
    "    # # recall = recall_score(y_test, y_pred)\n",
    "    # # f1 = f1_score(y_test, y_pred)\n",
    "    auc = roc_auc_score(y_test, y_pred_proba)\n",
    "    ReliefF_Scores.append([auc,RF[2]])"
   ]
  },
  {
   "cell_type": "code",
   "execution_count": 22,
   "id": "db6fd7e948d37456",
   "metadata": {
    "ExecuteTime": {
     "end_time": "2024-11-01T19:36:50.138733400Z",
     "start_time": "2024-11-01T19:36:50.134454300Z"
    }
   },
   "outputs": [],
   "source": []
  },
  {
   "cell_type": "code",
   "execution_count": 23,
   "id": "7ea4eb6f4eb1d298",
   "metadata": {
    "ExecuteTime": {
     "end_time": "2024-11-01T19:36:50.162892Z",
     "start_time": "2024-11-01T19:36:50.136717400Z"
    }
   },
   "outputs": [],
   "source": [
    "MI_Scores.sort(key=lambda x: x[0], reverse=True)\n",
    "Chi_Scores.sort(key=lambda x: x[0], reverse=True)\n",
    "ReliefF_Scores.sort(key=lambda x: x[0], reverse=True)"
   ]
  },
  {
   "cell_type": "code",
   "execution_count": 24,
   "id": "b311227e3c0dc359",
   "metadata": {
    "ExecuteTime": {
     "end_time": "2024-11-01T19:36:50.231494100Z",
     "start_time": "2024-11-01T19:36:50.161251100Z"
    }
   },
   "outputs": [
    {
     "name": "stdout",
     "output_type": "stream",
     "text": [
      "Mutual Information:  0.9636650868878356 0.1\n",
      "Mutual Information:  0.9565560821484993 1000\n",
      "Mutual Information:  0.9557661927330174 1e-05\n",
      "Mutual Information:  0.9526066350710901 0.0001\n",
      "Mutual Information:  0.9510268562401265 0.001\n",
      "Mutual Information:  0.9499736703528173 0.01\n",
      "Mutual Information:  0.9494470774091628 10000\n",
      "Mutual Information:  0.9481305950500264 1\n",
      "Mutual Information:  0.9415481832543443 100\n",
      "Mutual Information:  0.9397051079515534 10\n"
     ]
    }
   ],
   "source": [
    "for i in MI_Scores:\n",
    "    print(\"Mutual Information: \",i[0], i[1])"
   ]
  },
  {
   "cell_type": "code",
   "execution_count": 25,
   "id": "b0d0c8de1648489f",
   "metadata": {
    "ExecuteTime": {
     "end_time": "2024-11-01T19:36:50.301638900Z",
     "start_time": "2024-11-01T19:36:50.231967700Z"
    }
   },
   "outputs": [
    {
     "name": "stdout",
     "output_type": "stream",
     "text": [
      "Chi2:  0.974855186940495 0.01\n",
      "Chi2:  0.9735387045813586 10000\n",
      "Chi2:  0.9681411269088994 1\n",
      "Chi2:  0.966034755134281 0.001\n",
      "Chi2:  0.9615587151132176 1000\n",
      "Chi2:  0.958794102159031 10\n",
      "Chi2:  0.9539231174302265 100\n",
      "Chi2:  0.9512901527119537 0.1\n",
      "Chi2:  0.9473407056345445 1e-05\n",
      "Chi2:  0.9378620326487626 0.0001\n"
     ]
    }
   ],
   "source": [
    "for i in Chi_Scores:\n",
    "    print(\"Chi2: \",i[0], i[1])"
   ]
  },
  {
   "cell_type": "code",
   "execution_count": 26,
   "id": "4fdefae0a7db9f40",
   "metadata": {
    "ExecuteTime": {
     "end_time": "2024-11-01T19:36:50.370203500Z",
     "start_time": "2024-11-01T19:36:50.301638900Z"
    }
   },
   "outputs": [
    {
     "name": "stdout",
     "output_type": "stream",
     "text": [
      "ReliefF:  0.9428646656134807 1\n",
      "ReliefF:  0.8938915218536071 10000\n",
      "ReliefF:  0.8865192206424433 10\n",
      "ReliefF:  0.8391258557135335 1000\n",
      "ReliefF:  0.8299104791995787 0.01\n",
      "ReliefF:  0.8075302790942601 100\n",
      "ReliefF:  0.7925223802001052 0.001\n",
      "ReliefF:  0.7854133754607688 1e-05\n",
      "ReliefF:  0.7804107424960505 0.1\n",
      "ReliefF:  0.7014218009478673 0.0001\n"
     ]
    }
   ],
   "source": [
    "for i in ReliefF_Scores:\n",
    "    print(\"ReliefF: \",i[0], i[1])"
   ]
  },
  {
   "cell_type": "code",
   "execution_count": 27,
   "id": "e0a05b27757675a",
   "metadata": {
    "ExecuteTime": {
     "end_time": "2024-11-01T19:36:50.439886700Z",
     "start_time": "2024-11-01T19:36:50.370203500Z"
    }
   },
   "outputs": [
    {
     "name": "stdout",
     "output_type": "stream",
     "text": [
      "Mutual Information: 0.1\n",
      "Chi2:  0.001\n",
      "ReliefF:  0.01\n"
     ]
    }
   ],
   "source": [
    "print(\"Mutual Information:\", Mutual_Information[0][2])\n",
    "print(\"Chi2: \",Chi2[0][2])\n",
    "print(\"ReliefF: \",ReliefF[0][2])\n"
   ]
  },
  {
   "cell_type": "markdown",
   "id": "eaf983f69c884bda",
   "metadata": {},
   "source": [
    "### Random Forest Classifier with all features"
   ]
  },
  {
   "cell_type": "code",
   "execution_count": 28,
   "id": "fd04af0d3a684dce",
   "metadata": {
    "ExecuteTime": {
     "end_time": "2024-11-01T19:36:50.904823900Z",
     "start_time": "2024-11-01T19:36:50.439886700Z"
    }
   },
   "outputs": [],
   "source": [
    "from sklearn.ensemble import RandomForestClassifier\n",
    "random_forest = RandomForestClassifier(n_estimators=100, random_state=42)\n",
    "X_train, X_test, y_train, y_test = train_test_split(X, y, test_size=0.2, random_state=42)\n",
    "random_forest.fit(X_train, y_train)\n",
    "y_pred = random_forest.predict(X_test)\n",
    "y_pred_proba = random_forest.predict_proba(X_test)[:, 1]  # Probability estimates for AUC\n",
    "accuracy = accuracy_score(y_test, y_pred)\n",
    "precision = precision_score(y_test, y_pred)\n",
    "recall = recall_score(y_test, y_pred)\n",
    "f1 = f1_score(y_test, y_pred)\n",
    "auc = roc_auc_score(y_test, y_pred_proba)\n"
   ]
  },
  {
   "cell_type": "markdown",
   "id": "8e36dcb1481a88b1",
   "metadata": {},
   "source": []
  },
  {
   "cell_type": "code",
   "execution_count": 28,
   "id": "f87d26e6c1ebbf67",
   "metadata": {
    "ExecuteTime": {
     "end_time": "2024-11-01T19:36:50.909228900Z",
     "start_time": "2024-11-01T19:36:50.906983600Z"
    }
   },
   "outputs": [],
   "source": []
  },
  {
   "cell_type": "code",
   "execution_count": 29,
   "id": "67c23f7da6d88dcb",
   "metadata": {
    "ExecuteTime": {
     "end_time": "2024-11-01T19:36:50.912496700Z",
     "start_time": "2024-11-01T19:36:50.909228900Z"
    }
   },
   "outputs": [
    {
     "name": "stdout",
     "output_type": "stream",
     "text": [
      "Accuracy:  0.9650655021834061\n",
      "Precision:  0.8571428571428571\n",
      "Recall:  0.6666666666666666\n",
      "F1:  0.75\n",
      "AUC:  0.9794628751974724\n"
     ]
    }
   ],
   "source": [
    "print(\"Accuracy: \", accuracy)\n",
    "print(\"Precision: \", precision)\n",
    "print(\"Recall: \", recall)\n",
    "print(\"F1: \", f1)\n",
    "print(\"AUC: \", auc)\n"
   ]
  },
  {
   "cell_type": "code",
   "execution_count": 30,
   "id": "a0b02254ef48bea3",
   "metadata": {
    "ExecuteTime": {
     "end_time": "2024-11-01T19:36:50.980805400Z",
     "start_time": "2024-11-01T19:36:50.912496700Z"
    }
   },
   "outputs": [],
   "source": [
    "RFMI_Scores = []\n",
    "RFChi_Scores = []\n",
    "RFReliefF_Scores = []"
   ]
  },
  {
   "cell_type": "markdown",
   "id": "5b13764fb0b7b1c0",
   "metadata": {},
   "source": [
    "### Random Forest Classifier with all scores of mutual information, chi2 and ReliefF"
   ]
  },
  {
   "cell_type": "code",
   "execution_count": 31,
   "id": "b543d67fb08dfb7f",
   "metadata": {
    "ExecuteTime": {
     "end_time": "2024-11-01T19:36:53.883633700Z",
     "start_time": "2024-11-01T19:36:50.983102900Z"
    }
   },
   "outputs": [],
   "source": [
    "#Random Forest Classifier with Mutual Info selected features\n",
    "for M in Mutual_Information:\n",
    "    model = RandomForestClassifier(n_estimators=100, random_state=42)\n",
    "    X_train, X_test, y_train, y_test = train_test_split(X[M[0]], y, test_size=0.2, random_state=42)\n",
    "    model.fit(X_train, y_train)\n",
    "    y_pred = model.predict(X_test)\n",
    "    y_pred_proba = model.predict_proba(X_test)[:, 1]  # Probability estimates for AUC\n",
    "    auc = roc_auc_score(y_test, y_pred_proba)\n",
    "    RFMI_Scores.append([auc,M[2]])"
   ]
  },
  {
   "cell_type": "code",
   "execution_count": 32,
   "id": "405c9fb2ceacdf4d",
   "metadata": {
    "ExecuteTime": {
     "end_time": "2024-11-01T19:36:55.760888700Z",
     "start_time": "2024-11-01T19:36:53.883633700Z"
    }
   },
   "outputs": [],
   "source": [
    "#Random Forest Classifier with Chi2 selected features\n",
    "for C in Chi2:\n",
    "    model = RandomForestClassifier(n_estimators=100, random_state=42)\n",
    "    X_train, X_test, y_train, y_test = train_test_split(X[C[0]], y, test_size=0.2, random_state=42)\n",
    "    model.fit(X_train, y_train)\n",
    "    y_pred = model.predict(X_test)\n",
    "    y_pred_proba = model.predict_proba(X_test)[:, 1]  # Probability estimates for AUC\n",
    "    auc = roc_auc_score(y_test, y_pred_proba)\n",
    "    RFChi_Scores.append([auc,C[2]])"
   ]
  },
  {
   "cell_type": "code",
   "execution_count": 33,
   "id": "ffec1ab49b9b5521",
   "metadata": {
    "ExecuteTime": {
     "end_time": "2024-11-01T19:36:57.826916900Z",
     "start_time": "2024-11-01T19:36:55.762876300Z"
    }
   },
   "outputs": [],
   "source": [
    "#Random Forest Classifier with ReliefF selected features\n",
    "for R in ReliefF:\n",
    "    model = RandomForestClassifier(n_estimators=100, random_state=42)\n",
    "    X_train, X_test, y_train, y_test = train_test_split(X[R[0]], y, test_size=0.2, random_state=42)\n",
    "    model.fit(X_train, y_train)\n",
    "    y_pred = model.predict(X_test)\n",
    "    y_pred_proba = model.predict_proba(X_test)[:, 1]  # Probability estimates for AUC\n",
    "    auc = roc_auc_score(y_test, y_pred_proba)\n",
    "    RFReliefF_Scores.append([auc,R[2]])\n",
    "    "
   ]
  },
  {
   "cell_type": "code",
   "execution_count": 34,
   "id": "322bcad9de88f784",
   "metadata": {
    "ExecuteTime": {
     "end_time": "2024-11-01T19:36:57.836944400Z",
     "start_time": "2024-11-01T19:36:57.829616500Z"
    }
   },
   "outputs": [],
   "source": [
    "RFMI_Scores.sort(key=lambda x: x[0], reverse=True)\n",
    "RFChi_Scores.sort(key=lambda x: x[0], reverse=True)\n",
    "RFReliefF_Scores.sort(key=lambda x: x[0], reverse=True)\n"
   ]
  },
  {
   "cell_type": "code",
   "outputs": [],
   "source": [],
   "metadata": {
    "collapsed": false,
    "ExecuteTime": {
     "end_time": "2024-11-01T19:36:57.836944400Z",
     "start_time": "2024-11-01T19:36:57.832320200Z"
    }
   },
   "id": "c9e274df0662ed30",
   "execution_count": 34
  },
  {
   "cell_type": "code",
   "outputs": [
    {
     "name": "stdout",
     "output_type": "stream",
     "text": [
      "60\n",
      "60\n",
      "60\n",
      "60\n",
      "60\n",
      "60\n",
      "60\n",
      "60\n",
      "60\n",
      "60\n"
     ]
    }
   ],
   "source": [
    "for m in Mutual_Information:\n",
    "    print(len(m[0]))"
   ],
   "metadata": {
    "collapsed": false,
    "ExecuteTime": {
     "end_time": "2024-11-01T19:36:57.902162700Z",
     "start_time": "2024-11-01T19:36:57.833808100Z"
    }
   },
   "id": "3fbec6ea1772bdf0",
   "execution_count": 35
  },
  {
   "cell_type": "code",
   "execution_count": 36,
   "id": "eef9aafbd71a5d7a",
   "metadata": {
    "ExecuteTime": {
     "end_time": "2024-11-01T19:36:57.972786700Z",
     "start_time": "2024-11-01T19:36:57.902162700Z"
    }
   },
   "outputs": [
    {
     "name": "stdout",
     "output_type": "stream",
     "text": [
      "Mutual Information:  0.9838072669826224 1e-05 60\n",
      "Mutual Information:  0.9820958399157451 0.01 60\n",
      "Mutual Information:  0.9793312269615586 0.001 60\n",
      "Mutual Information:  0.9776197998946814 0.1 60\n",
      "Mutual Information:  0.9773565034228541 10000 60\n",
      "Mutual Information:  0.9766982622432859 0.0001 60\n",
      "Mutual Information:  0.9755134281200631 100 60\n",
      "Mutual Information:  0.9753817798841495 10 60\n",
      "Mutual Information:  0.9749868351764087 1 60\n",
      "Mutual Information:  0.9739336492890995 1000 60\n"
     ]
    }
   ],
   "source": [
    "for i in RFMI_Scores:\n",
    "    # Find the corresponding entry in Mutual_Information based on the number of generations\n",
    "    corresponding_entry = next((entry for entry in Mutual_Information if entry[2] == i[1]), None)\n",
    "    if corresponding_entry:\n",
    "        print(\"Mutual Information: \", i[0], i[1], len(corresponding_entry[0]))"
   ]
  },
  {
   "cell_type": "code",
   "execution_count": 37,
   "id": "26cf8d185f257b97",
   "metadata": {
    "ExecuteTime": {
     "end_time": "2024-11-01T19:36:58.042465200Z",
     "start_time": "2024-11-01T19:36:57.972786700Z"
    }
   },
   "outputs": [
    {
     "name": "stdout",
     "output_type": "stream",
     "text": [
      "Chi2:  0.9826224328593998 10000 20\n",
      "Chi2:  0.9822274881516588 0.01 20\n",
      "Chi2:  0.9809110057925223 0.001 20\n",
      "Chi2:  0.9794628751974724 0.1 20\n",
      "Chi2:  0.9794628751974723 10 20\n",
      "Chi2:  0.9786729857819905 1 20\n",
      "Chi2:  0.9782780410742495 1e-05 20\n",
      "Chi2:  0.9776197998946815 1000 20\n",
      "Chi2:  0.9753817798841495 100 20\n",
      "Chi2:  0.9739336492890995 0.0001 20\n"
     ]
    }
   ],
   "source": [
    "for i in RFChi_Scores:\n",
    "    # Find the corresponding entry in Mutual_Information based on the number of generations\n",
    "    corresponding_entry = next((entry for entry in Chi2 if entry[2] == i[1]), None)\n",
    "    if corresponding_entry:\n",
    "        print(\"Chi2: \", i[0], i[1], len(corresponding_entry[0]))"
   ]
  },
  {
   "cell_type": "code",
   "execution_count": 38,
   "id": "cdb87a053cb935f1",
   "metadata": {
    "ExecuteTime": {
     "end_time": "2024-11-01T19:36:58.113068900Z",
     "start_time": "2024-11-01T19:36:58.042465200Z"
    }
   },
   "outputs": [
    {
     "name": "stdout",
     "output_type": "stream",
     "text": [
      "ReliefF:  0.9772248551869405 1 20\n",
      "ReliefF:  0.954449710373881 0.01 20\n",
      "ReliefF:  0.9518167456556081 0.1 20\n",
      "ReliefF:  0.9511585044760402 1e-05 20\n",
      "ReliefF:  0.9498420221169037 10000 20\n",
      "ReliefF:  0.9441811479726171 1000 20\n",
      "ReliefF:  0.9419431279620852 10 20\n",
      "ReliefF:  0.9401000526592943 0.001 20\n",
      "ReliefF:  0.9394418114797262 100 20\n",
      "ReliefF:  0.8874407582938388 0.0001 20\n"
     ]
    }
   ],
   "source": [
    "for i in RFReliefF_Scores:\n",
    "    # Find the corresponding entry in Mutual_Information based on the number of generations\n",
    "    corresponding_entry = next((entry for entry in ReliefF if entry[2] == i[1]), None)\n",
    "    if corresponding_entry:\n",
    "        print(\"ReliefF: \", i[0], i[1], len(corresponding_entry[0]))"
   ]
  },
  {
   "cell_type": "code",
   "outputs": [
    {
     "name": "stdout",
     "output_type": "stream",
     "text": [
      " Naive Bayes All features: AUC:  0.9462875197472354\n",
      " Random Forest All features: AUC 0.9794628751974724\n",
      " Naive Bayes Mutual Information: AUC  0.9636650868878356 0.1\n",
      " Random Forest Mutual Information: AUC  0.9838072669826224 1e-05\n",
      " Naive Bayes Chi2: AUC  0.974855186940495 0.01\n",
      " Random Forest Chi2: AUC  0.9826224328593998 10000\n",
      " Naive Bayes ReliefF: AUC  0.9428646656134807 1\n",
      " Random Forest ReliefF: AUC  0.9772248551869405 1\n"
     ]
    }
   ],
   "source": [
    "import pandas as pd\n",
    "\n",
    "# Create DataFrames for each evaluation method\n",
    "\n",
    "\n",
    "\n",
    "print(\" Naive Bayes All features: AUC:  0.9462875197472354\")\n",
    "print(\" Random Forest All features: AUC 0.9794628751974724\")\n",
    "print(\" Naive Bayes Mutual Information: AUC \", MI_Scores[0][0], MI_Scores[0][1])\n",
    "print(\" Random Forest Mutual Information: AUC \", RFMI_Scores[0][0], RFMI_Scores[0][1])\n",
    "print(\" Naive Bayes Chi2: AUC \", Chi_Scores[0][0], Chi_Scores[0][1])\n",
    "print(\" Random Forest Chi2: AUC \", RFChi_Scores[0][0], RFChi_Scores[0][1])\n",
    "print(\" Naive Bayes ReliefF: AUC \", ReliefF_Scores[0][0], ReliefF_Scores[0][1])\n",
    "print(\" Random Forest ReliefF: AUC \", RFReliefF_Scores[0][0], RFReliefF_Scores[0][1])\n"
   ],
   "metadata": {
    "collapsed": false,
    "ExecuteTime": {
     "end_time": "2024-11-01T19:36:58.184239100Z",
     "start_time": "2024-11-01T19:36:58.113068900Z"
    }
   },
   "id": "184d86e643e5f3ef",
   "execution_count": 39
  }
 ],
 "metadata": {
  "kernelspec": {
   "display_name": "Python 3 (ipykernel)",
   "language": "python",
   "name": "python3"
  },
  "language_info": {
   "codemirror_mode": {
    "name": "ipython",
    "version": 3
   },
   "file_extension": ".py",
   "mimetype": "text/x-python",
   "name": "python",
   "nbconvert_exporter": "python",
   "pygments_lexer": "ipython3",
   "version": "3.10.7"
  }
 },
 "nbformat": 4,
 "nbformat_minor": 5
}

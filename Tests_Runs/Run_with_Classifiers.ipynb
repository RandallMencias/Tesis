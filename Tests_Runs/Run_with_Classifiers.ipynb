{
 "cells": [
  {
   "cell_type": "markdown",
   "source": [
    "Todos con 500 con checkpoints de 50\n"
   ],
   "metadata": {
    "collapsed": false
   },
   "id": "fe62e976738cf405"
  },
  {
   "cell_type": "code",
   "execution_count": 3,
   "id": "initial_id",
   "metadata": {
    "collapsed": true,
    "ExecuteTime": {
     "end_time": "2024-10-13T00:56:51.003257Z",
     "start_time": "2024-10-13T00:56:50.996744Z"
    }
   },
   "outputs": [],
   "source": [
    "import numpy as np\n",
    "from Metaheuristicas.fitness_functions import mutual_information_eval\n",
    "from Metaheuristicas.fitness_functions import relieff_eval\n",
    "from Metaheuristicas.fitness_functions import chi2_eval"
   ]
  },
  {
   "cell_type": "code",
   "execution_count": 4,
   "id": "a229cc1cd652259a",
   "metadata": {
    "ExecuteTime": {
     "end_time": "2024-10-13T00:56:51.304336Z",
     "start_time": "2024-10-13T00:56:51.226308Z"
    }
   },
   "outputs": [],
   "source": [
    "from Metaheuristicas.fitness_functions import load_and_preprocess_data\n",
    "\n",
    "X, y = load_and_preprocess_data(filename='Resources/SeisBenchV1_v1_1.json')\n",
    "\n"
   ]
  },
  {
   "cell_type": "code",
   "execution_count": 5,
   "id": "938a165a53143799",
   "metadata": {
    "ExecuteTime": {
     "end_time": "2024-10-13T00:56:51.320340Z",
     "start_time": "2024-10-13T00:56:51.305337Z"
    }
   },
   "outputs": [],
   "source": [
    "#Save the results from the optimizations\n",
    "Mutual_Information = []\n",
    "Chi2 = []\n",
    "ReliefF = []\n"
   ]
  },
  {
   "cell_type": "markdown",
   "id": "9ce7a08bf1d0186c",
   "metadata": {},
   "source": [
    "### Cuckoo"
   ]
  },
  {
   "cell_type": "code",
   "execution_count": 6,
   "id": "e556a529689aadb3",
   "metadata": {
    "ExecuteTime": {
     "end_time": "2024-10-13T00:56:51.605418Z",
     "start_time": "2024-10-13T00:56:51.321338Z"
    }
   },
   "outputs": [],
   "source": [
    "from Metaheuristicas.Cuckoo import cuckoo_search\n",
    "n= 40\n",
    "dim = 84\n",
    "itermax = 300"
   ]
  },
  {
   "cell_type": "code",
   "execution_count": 7,
   "id": "be0342b24e2e1c04",
   "metadata": {
    "ExecuteTime": {
     "end_time": "2024-10-13T01:14:48.755563Z",
     "start_time": "2024-10-13T00:56:51.607418Z"
    }
   },
   "outputs": [
    {
     "name": "stdout",
     "output_type": "stream",
     "text": [
      "Mejor fitness al final de la iteración 1: 2.2491\n",
      "Mejor fitness al final de la iteración 2: 2.4606\n",
      "Mejor fitness al final de la iteración 3: 2.4606\n",
      "Mejor fitness al final de la iteración 4: 2.4606\n",
      "Mejor fitness al final de la iteración 5: 2.4606\n",
      "Mejor fitness al final de la iteración 6: 2.4606\n",
      "Mejor fitness al final de la iteración 7: 2.4606\n",
      "Mejor fitness al final de la iteración 8: 2.4867\n",
      "Mejor fitness al final de la iteración 9: 2.4867\n",
      "Mejor fitness al final de la iteración 10: 2.4867\n",
      "Mejor fitness al final de la iteración 11: 2.5195\n",
      "Mejor fitness al final de la iteración 12: 2.5279\n",
      "Mejor fitness al final de la iteración 13: 2.5279\n",
      "Mejor fitness al final de la iteración 14: 2.5279\n",
      "Mejor fitness al final de la iteración 15: 2.5279\n",
      "Mejor fitness al final de la iteración 16: 2.5279\n",
      "Mejor fitness al final de la iteración 17: 2.5279\n",
      "Mejor fitness al final de la iteración 18: 2.5279\n",
      "Mejor fitness al final de la iteración 19: 2.5279\n",
      "Mejor fitness al final de la iteración 20: 2.5279\n",
      "Mejor fitness al final de la iteración 21: 2.5279\n",
      "Mejor fitness al final de la iteración 22: 2.5279\n",
      "Mejor fitness al final de la iteración 23: 2.6130\n",
      "Mejor fitness al final de la iteración 24: 2.6130\n",
      "Mejor fitness al final de la iteración 25: 2.6130\n",
      "Mejor fitness al final de la iteración 26: 2.6130\n",
      "Mejor fitness al final de la iteración 27: 2.6130\n",
      "Mejor fitness al final de la iteración 28: 2.6130\n",
      "Mejor fitness al final de la iteración 29: 2.6130\n",
      "Mejor fitness al final de la iteración 30: 2.6130\n",
      "Mejor fitness al final de la iteración 31: 2.6130\n",
      "Mejor fitness al final de la iteración 32: 2.6130\n",
      "Mejor fitness al final de la iteración 33: 2.6130\n",
      "Mejor fitness al final de la iteración 34: 2.6130\n",
      "Mejor fitness al final de la iteración 35: 2.6130\n",
      "Mejor fitness al final de la iteración 36: 2.6130\n",
      "Mejor fitness al final de la iteración 37: 2.6130\n",
      "Mejor fitness al final de la iteración 38: 2.6130\n",
      "Mejor fitness al final de la iteración 39: 2.6130\n",
      "Mejor fitness al final de la iteración 40: 2.6130\n",
      "Mejor fitness al final de la iteración 41: 2.6130\n",
      "Mejor fitness al final de la iteración 42: 2.6130\n",
      "Mejor fitness al final de la iteración 43: 2.6130\n",
      "Mejor fitness al final de la iteración 44: 2.7300\n",
      "Mejor fitness al final de la iteración 45: 2.7300\n",
      "Mejor fitness al final de la iteración 46: 2.7300\n",
      "Mejor fitness al final de la iteración 47: 2.7300\n",
      "Mejor fitness al final de la iteración 48: 2.7300\n",
      "Mejor fitness al final de la iteración 49: 2.7300\n",
      "Mejor fitness al final de la iteración 50: 2.7300\n",
      "Mejor fitness al final de la iteración 51: 2.7300\n",
      "Mejor fitness al final de la iteración 52: 2.7300\n",
      "Mejor fitness al final de la iteración 53: 2.7300\n",
      "Mejor fitness al final de la iteración 54: 2.7300\n",
      "Mejor fitness al final de la iteración 55: 2.7300\n",
      "Mejor fitness al final de la iteración 56: 2.7300\n",
      "Mejor fitness al final de la iteración 57: 2.7300\n",
      "Mejor fitness al final de la iteración 58: 2.7300\n",
      "Mejor fitness al final de la iteración 59: 2.7300\n",
      "Mejor fitness al final de la iteración 60: 2.7300\n",
      "Mejor fitness al final de la iteración 61: 2.7300\n",
      "Mejor fitness al final de la iteración 62: 2.7300\n",
      "Mejor fitness al final de la iteración 63: 2.7300\n",
      "Mejor fitness al final de la iteración 64: 2.7300\n",
      "Mejor fitness al final de la iteración 65: 2.7300\n",
      "Mejor fitness al final de la iteración 66: 2.7300\n",
      "Mejor fitness al final de la iteración 67: 2.7300\n",
      "Mejor fitness al final de la iteración 68: 2.7300\n",
      "Mejor fitness al final de la iteración 69: 2.7300\n",
      "Mejor fitness al final de la iteración 70: 2.7300\n",
      "Mejor fitness al final de la iteración 71: 2.7300\n",
      "Mejor fitness al final de la iteración 72: 2.7300\n",
      "Mejor fitness al final de la iteración 73: 2.7300\n",
      "Mejor fitness al final de la iteración 74: 2.7300\n",
      "Mejor fitness al final de la iteración 75: 2.7300\n",
      "Mejor fitness al final de la iteración 76: 2.7300\n",
      "Mejor fitness al final de la iteración 77: 2.7300\n",
      "Mejor fitness al final de la iteración 78: 2.7300\n",
      "Mejor fitness al final de la iteración 79: 2.7300\n",
      "Mejor fitness al final de la iteración 80: 2.7300\n",
      "Mejor fitness al final de la iteración 81: 2.7300\n",
      "Mejor fitness al final de la iteración 82: 2.7300\n",
      "Mejor fitness al final de la iteración 83: 2.7300\n",
      "Mejor fitness al final de la iteración 84: 2.7300\n",
      "Mejor fitness al final de la iteración 85: 2.7300\n",
      "Mejor fitness al final de la iteración 86: 2.7300\n",
      "Mejor fitness al final de la iteración 87: 2.7300\n",
      "Mejor fitness al final de la iteración 88: 2.7300\n",
      "Mejor fitness al final de la iteración 89: 2.7300\n",
      "Mejor fitness al final de la iteración 90: 2.7300\n",
      "Mejor fitness al final de la iteración 91: 2.7300\n",
      "Mejor fitness al final de la iteración 92: 2.7300\n",
      "Mejor fitness al final de la iteración 93: 2.7300\n",
      "Mejor fitness al final de la iteración 94: 2.7300\n",
      "Mejor fitness al final de la iteración 95: 2.7300\n",
      "Mejor fitness al final de la iteración 96: 2.7300\n",
      "Mejor fitness al final de la iteración 97: 2.7300\n",
      "Mejor fitness al final de la iteración 98: 2.7300\n",
      "Mejor fitness al final de la iteración 99: 2.7300\n",
      "Mejor fitness al final de la iteración 100: 2.7300\n",
      "Mejor fitness al final de la iteración 101: 2.7300\n",
      "Mejor fitness al final de la iteración 102: 2.7300\n",
      "Mejor fitness al final de la iteración 103: 2.7300\n",
      "Mejor fitness al final de la iteración 104: 2.7300\n",
      "Mejor fitness al final de la iteración 105: 2.7300\n",
      "Mejor fitness al final de la iteración 106: 2.7300\n",
      "Mejor fitness al final de la iteración 107: 2.7300\n",
      "Mejor fitness al final de la iteración 108: 2.7300\n",
      "Mejor fitness al final de la iteración 109: 2.7300\n",
      "Mejor fitness al final de la iteración 110: 2.7300\n",
      "Mejor fitness al final de la iteración 111: 2.7300\n",
      "Mejor fitness al final de la iteración 112: 2.7300\n",
      "Mejor fitness al final de la iteración 113: 2.7300\n",
      "Mejor fitness al final de la iteración 114: 2.7300\n",
      "Mejor fitness al final de la iteración 115: 2.7300\n",
      "Mejor fitness al final de la iteración 116: 2.7300\n",
      "Mejor fitness al final de la iteración 117: 2.7300\n",
      "Mejor fitness al final de la iteración 118: 2.7300\n",
      "Mejor fitness al final de la iteración 119: 2.7300\n",
      "Mejor fitness al final de la iteración 120: 2.7300\n",
      "Mejor fitness al final de la iteración 121: 2.7300\n",
      "Mejor fitness al final de la iteración 122: 2.7300\n",
      "Mejor fitness al final de la iteración 123: 2.7300\n",
      "Mejor fitness al final de la iteración 124: 2.7300\n",
      "Mejor fitness al final de la iteración 125: 2.7300\n",
      "Mejor fitness al final de la iteración 126: 2.7300\n",
      "Mejor fitness al final de la iteración 127: 2.7300\n",
      "Mejor fitness al final de la iteración 128: 2.7300\n",
      "Mejor fitness al final de la iteración 129: 2.7300\n",
      "Mejor fitness al final de la iteración 130: 2.7300\n",
      "Mejor fitness al final de la iteración 131: 2.7300\n",
      "Mejor fitness al final de la iteración 132: 2.7300\n",
      "Mejor fitness al final de la iteración 133: 2.7300\n",
      "Mejor fitness al final de la iteración 134: 2.7300\n",
      "Mejor fitness al final de la iteración 135: 2.7300\n",
      "Mejor fitness al final de la iteración 136: 2.7300\n",
      "Mejor fitness al final de la iteración 137: 2.7300\n",
      "Mejor fitness al final de la iteración 138: 2.7300\n",
      "Mejor fitness al final de la iteración 139: 2.7300\n",
      "Mejor fitness al final de la iteración 140: 2.7300\n",
      "Mejor fitness al final de la iteración 141: 2.7300\n",
      "Mejor fitness al final de la iteración 142: 2.7300\n",
      "Mejor fitness al final de la iteración 143: 2.7300\n",
      "Mejor fitness al final de la iteración 144: 2.7300\n",
      "Mejor fitness al final de la iteración 145: 2.7300\n",
      "Mejor fitness al final de la iteración 146: 2.7300\n",
      "Mejor fitness al final de la iteración 147: 2.7300\n",
      "Mejor fitness al final de la iteración 148: 2.7300\n",
      "Mejor fitness al final de la iteración 149: 2.7300\n",
      "Mejor fitness al final de la iteración 150: 2.7300\n",
      "\n",
      "['f1_t_mean', 'f2_t_std', 'f3_t_var', 'f11_t_energy', 'f12_t_zcr', 'f14_f_peaks_pos_1', 'f15_f_90_percent_energy', 'f16_f_entropy', 'f17_f_mean', 'f18_f_std', 'f20_f_energy', 'f21_f_kurtosis', 'f22_f_multiscaleEntropy', 'f23_f_peak_1020_value', 'f26_f_peak_2030_pos', 'f27_f_rms', 'f28_f_peak2rms', 'f30_f_PeaksAboveRMSDensity_fun', 'f31_f_peaks_val_2', 'f32_f_peaks_pos_2', 'f33_f_peaks_val_3', 'f34_f_peaks_pos_3', 'f37_w_f_maxval_D2', 'f38_w_f_maxval_D3', 'f39_w_f_maxval_D4', 'f43_w_f_maxpos_D2', 'f44_w_f_maxpos_D3', 'f45_w_f_maxpos_D4', 'f46_w_f_maxpos_D5', 'f48_w_f_mean_A6', 'f50_w_f_mean_D2', 'f51_w_f_mean_D3', 'f53_w_f_mean_D5', 'f58_w_t_PEC_D2', 'f59_w_t_PEC_D3', 'f60_w_t_PEC_D4', 'f61_w_t_PEC_D5', 'f62_w_t_PEC_D6', 'f63_w_t_rms_A6', 'f65_w_t_rms_D2', 'f66_w_t_rms_D3', 'f68_w_t_rms_D5', 'f71_w_t_peak2peak_D1', 'f72_w_t_peak2peak_D2', 'f73_w_t_peak2peak_D3', 'f74_w_t_peak2peak_D4', 'f75_w_t_peak2peak_D5', 'f78_w_t_peak2rms_D1', 'f79_w_t_peak2rms_D2', 'f80_w_t_peak2rms_D3', 'f81_w_t_peak2rms_D4', 'f82_w_t_peak2rms_D5', 'f83_w_t_peak2rms_D6', 'f84_w_t_meanEnergyCoeff']\n",
      "2.729964031032566\n"
     ]
    },
    {
     "data": {
      "text/plain": "54"
     },
     "execution_count": 7,
     "metadata": {},
     "output_type": "execute_result"
    }
   ],
   "source": [
    "#Cuckoo Search with Mutual Information\n",
    "nests, fitness_scores, best_nest, best_CKfitness = cuckoo_search(n, dim, 150, X, y, fitness_function= mutual_information_eval)\n",
    "sorted_indices = np.argsort(fitness_scores)[::-1]\n",
    "fitness_scores_sorted = fitness_scores[sorted_indices]\n",
    "CKMIFeatures = X.columns[best_nest.astype(bool)].tolist()\n",
    "Mutual_Information.append([CKMIFeatures, fitness_scores_sorted[0]])\n",
    "print(CKMIFeatures)\n",
    "print(fitness_scores_sorted[0])\n",
    "np.sum(len(CKMIFeatures))"
   ]
  },
  {
   "cell_type": "code",
   "execution_count": 8,
   "outputs": [
    {
     "name": "stdout",
     "output_type": "stream",
     "text": [
      "Accuracy: 0.9467248908296944\n",
      "Precision: 0.6351351351351351\n",
      "Recall: 0.9306930693069307\n",
      "F1: 0.7550200803212852\n",
      "AUC: 0.9394844656879481\n"
     ]
    }
   ],
   "source": [
    "from sklearn.metrics import accuracy_score, precision_score, recall_score, f1_score, roc_auc_score\n",
    "from sklearn.naive_bayes import GaussianNB\n",
    "\n",
    "#Naive Bayes\n",
    "model = GaussianNB()\n",
    "model.fit(X[CKMIFeatures], y)\n",
    "y_pred = model.predict(X[CKMIFeatures])\n",
    "print(\"Accuracy:\", accuracy_score(y, y_pred))\n",
    "print(\"Precision:\", precision_score(y, y_pred))\n",
    "print(\"Recall:\", recall_score(y, y_pred))\n",
    "print(\"F1:\", f1_score(y, y_pred))\n",
    "print(\"AUC:\", roc_auc_score(y, y_pred))\n"
   ],
   "metadata": {
    "collapsed": false,
    "ExecuteTime": {
     "end_time": "2024-10-13T01:14:48.770519Z",
     "start_time": "2024-10-13T01:14:48.756508Z"
    }
   },
   "id": "69795eba76755bb6"
  },
  {
   "cell_type": "code",
   "execution_count": 9,
   "outputs": [
    {
     "name": "stdout",
     "output_type": "stream",
     "text": [
      "Accuracy: 1.0\n",
      "Precision: 1.0\n",
      "Recall: 1.0\n",
      "F1: 1.0\n",
      "AUC: 1.0\n"
     ]
    }
   ],
   "source": [
    "#Random Forest \n",
    "from sklearn.ensemble import RandomForestClassifier\n",
    "model = RandomForestClassifier()\n",
    "model.fit(X[CKMIFeatures], y)\n",
    "y_pred = model.predict(X[CKMIFeatures])\n",
    "print(\"Accuracy:\", accuracy_score(y, y_pred))\n",
    "print(\"Precision:\", precision_score(y, y_pred))\n",
    "print(\"Recall:\", recall_score(y, y_pred))\n",
    "print(\"F1:\", f1_score(y, y_pred))\n",
    "print(\"AUC:\", roc_auc_score(y, y_pred))\n"
   ],
   "metadata": {
    "collapsed": false,
    "ExecuteTime": {
     "end_time": "2024-10-13T01:14:49.148566Z",
     "start_time": "2024-10-13T01:14:48.771520Z"
    }
   },
   "id": "e749e17eb3ba499a"
  },
  {
   "cell_type": "code",
   "execution_count": 10,
   "outputs": [],
   "source": [
    "#Red Neuronal\n",
    "# from sklearn.neural_network import MLPClassifier\n",
    "# model = MLPClassifier()\n",
    "# model.fit(X[CKMIFeatures], y)\n",
    "# y_pred = model.predict(X[CKMIFeatures])\n",
    "# print(\"Accuracy:\", accuracy_score(y, y_pred))\n",
    "# print(\"Precision:\", precision_score(y, y_pred))\n",
    "# print(\"Recall:\", recall_score(y, y_pred))\n",
    "# print(\"F1:\", f1_score(y, y_pred))\n",
    "# print(\"AUC:\", roc_auc_score(y, y_pred))\n"
   ],
   "metadata": {
    "collapsed": false,
    "ExecuteTime": {
     "end_time": "2024-10-13T01:14:49.163739Z",
     "start_time": "2024-10-13T01:14:49.149564Z"
    }
   },
   "id": "603d2005845b1a68"
  },
  {
   "cell_type": "code",
   "execution_count": 11,
   "id": "de09e956388aafcb",
   "metadata": {
    "ExecuteTime": {
     "end_time": "2024-10-13T01:15:08.305555Z",
     "start_time": "2024-10-13T01:14:49.164740Z"
    }
   },
   "outputs": [
    {
     "name": "stdout",
     "output_type": "stream",
     "text": [
      "Mejor fitness al final de la iteración 1: 9.8367\n",
      "\n",
      "Mejor fitness al final de la iteración 2: 9.8367\n",
      "Mejor fitness al final de la iteración 3: 9.8367\n",
      "\n",
      "Mejor fitness al final de la iteración 4: 9.8367\n",
      "Mejor fitness al final de la iteración 5: 9.8367\n",
      "\n",
      "Mejor fitness al final de la iteración 6: 9.8367\n",
      "Mejor fitness al final de la iteración 7: 9.8367\n",
      "\n",
      "Mejor fitness al final de la iteración 8: 9.8367\n",
      "Mejor fitness al final de la iteración 9: 9.8367\n",
      "\n",
      "Mejor fitness al final de la iteración 10: 9.8367\n",
      "Mejor fitness al final de la iteración 11: 9.8723\n",
      "Mejor fitness al final de la iteración 12: 9.8723\n",
      "\n",
      "Mejor fitness al final de la iteración 13: 9.9014\n",
      "\n",
      "Mejor fitness al final de la iteración 14: 10.3771\n",
      "Mejor fitness al final de la iteración 15: 10.8759\n",
      "\n",
      "Mejor fitness al final de la iteración 16: 10.8759\n",
      "\n",
      "Mejor fitness al final de la iteración 17: 10.8759\n",
      "\n",
      "Mejor fitness al final de la iteración 18: 10.8759\n",
      "\n",
      "Mejor fitness al final de la iteración 19: 10.8759\n",
      "\n",
      "Mejor fitness al final de la iteración 20: 10.8759\n",
      "\n",
      "Mejor fitness al final de la iteración 21: 10.8759\n",
      "Mejor fitness al final de la iteración 22: 10.8759\n",
      "\n",
      "Mejor fitness al final de la iteración 23: 10.8759\n",
      "\n",
      "Mejor fitness al final de la iteración 24: 11.4765\n",
      "\n",
      "Mejor fitness al final de la iteración 25: 11.4765\n",
      "Mejor fitness al final de la iteración 26: 11.4765\n",
      "\n",
      "Mejor fitness al final de la iteración 27: 11.4765\n",
      "\n",
      "Mejor fitness al final de la iteración 28: 11.4765\n",
      "\n",
      "Mejor fitness al final de la iteración 29: 11.4765\n",
      "Mejor fitness al final de la iteración 30: 11.4765\n",
      "\n",
      "Mejor fitness al final de la iteración 31: 11.4765\n",
      "\n",
      "Mejor fitness al final de la iteración 32: 11.4765\n",
      "\n",
      "Mejor fitness al final de la iteración 33: 11.4765\n",
      "Mejor fitness al final de la iteración 34: 11.4765\n",
      "\n",
      "Mejor fitness al final de la iteración 35: 11.4765\n",
      "\n",
      "Mejor fitness al final de la iteración 36: 11.4765\n",
      "\n",
      "Mejor fitness al final de la iteración 37: 11.4765\n",
      "Mejor fitness al final de la iteración 38: 11.4765\n",
      "\n",
      "Mejor fitness al final de la iteración 39: 11.4765\n",
      "\n",
      "Mejor fitness al final de la iteración 40: 11.4765\n",
      "\n",
      "Mejor fitness al final de la iteración 41: 11.4765\n",
      "Mejor fitness al final de la iteración 42: 11.4765\n",
      "\n",
      "Mejor fitness al final de la iteración 43: 11.4765\n",
      "\n",
      "Mejor fitness al final de la iteración 44: 11.4765\n",
      "\n",
      "Mejor fitness al final de la iteración 45: 12.0022\n",
      "Mejor fitness al final de la iteración 46: 12.0022\n",
      "\n",
      "Mejor fitness al final de la iteración 47: 12.0022\n",
      "\n",
      "Mejor fitness al final de la iteración 48: 12.0022\n",
      "\n",
      "Mejor fitness al final de la iteración 49: 12.0022\n",
      "Mejor fitness al final de la iteración 50: 12.0022\n",
      "\n",
      "Mejor fitness al final de la iteración 51: 12.0022\n",
      "\n",
      "Mejor fitness al final de la iteración 52: 12.0022\n",
      "\n",
      "Mejor fitness al final de la iteración 53: 12.0022\n",
      "Mejor fitness al final de la iteración 54: 12.0022\n",
      "\n",
      "Mejor fitness al final de la iteración 55: 12.0022\n",
      "\n",
      "Mejor fitness al final de la iteración 56: 12.0022\n",
      "\n",
      "Mejor fitness al final de la iteración 57: 12.0022\n",
      "Mejor fitness al final de la iteración 58: 12.0022\n",
      "\n",
      "Mejor fitness al final de la iteración 59: 12.0022\n",
      "\n",
      "Mejor fitness al final de la iteración 60: 12.0022\n",
      "\n",
      "Mejor fitness al final de la iteración 61: 12.0022\n",
      "Mejor fitness al final de la iteración 62: 12.0022\n",
      "\n",
      "Mejor fitness al final de la iteración 63: 12.0022\n",
      "\n",
      "Mejor fitness al final de la iteración 64: 12.0022\n",
      "\n",
      "Mejor fitness al final de la iteración 65: 12.1806\n",
      "Mejor fitness al final de la iteración 66: 12.1806\n",
      "\n",
      "Mejor fitness al final de la iteración 67: 12.1806\n",
      "\n",
      "Mejor fitness al final de la iteración 68: 12.1806\n",
      "\n",
      "Mejor fitness al final de la iteración 69: 12.1806\n",
      "Mejor fitness al final de la iteración 70: 12.1806\n",
      "\n",
      "Mejor fitness al final de la iteración 71: 12.1806\n",
      "\n",
      "Mejor fitness al final de la iteración 72: 12.1806\n",
      "\n",
      "Mejor fitness al final de la iteración 73: 12.1806\n",
      "Mejor fitness al final de la iteración 74: 12.1806\n",
      "\n",
      "Mejor fitness al final de la iteración 75: 12.1806\n",
      "\n",
      "Mejor fitness al final de la iteración 76: 12.1806\n",
      "\n",
      "Mejor fitness al final de la iteración 77: 12.1806\n",
      "Mejor fitness al final de la iteración 78: 12.1806\n",
      "\n",
      "Mejor fitness al final de la iteración 79: 12.1806\n",
      "\n",
      "Mejor fitness al final de la iteración 80: 12.1806\n",
      "\n",
      "Mejor fitness al final de la iteración 81: 12.1806\n",
      "Mejor fitness al final de la iteración 82: 12.1806\n",
      "\n",
      "Mejor fitness al final de la iteración 83: 12.1806\n",
      "\n",
      "Mejor fitness al final de la iteración 84: 12.1806\n",
      "\n",
      "Mejor fitness al final de la iteración 85: 12.1806\n",
      "Mejor fitness al final de la iteración 86: 12.1806\n",
      "\n",
      "Mejor fitness al final de la iteración 87: 12.1806\n",
      "\n",
      "Mejor fitness al final de la iteración 88: 12.1806\n",
      "\n",
      "Mejor fitness al final de la iteración 89: 12.1806\n",
      "Mejor fitness al final de la iteración 90: 12.1806\n",
      "\n",
      "Mejor fitness al final de la iteración 91: 12.1806\n",
      "\n",
      "Mejor fitness al final de la iteración 92: 12.1806\n",
      "\n",
      "Mejor fitness al final de la iteración 93: 12.1806\n",
      "Mejor fitness al final de la iteración 94: 12.1806\n",
      "\n",
      "Mejor fitness al final de la iteración 95: 12.1806\n",
      "\n",
      "Mejor fitness al final de la iteración 96: 12.1806\n",
      "\n",
      "Mejor fitness al final de la iteración 97: 12.1806\n",
      "Mejor fitness al final de la iteración 98: 12.1806\n",
      "\n",
      "Mejor fitness al final de la iteración 99: 12.1806\n",
      "\n",
      "Mejor fitness al final de la iteración 100: 12.1806\n",
      "\n",
      "Mejor fitness al final de la iteración 101: 12.1806\n",
      "Mejor fitness al final de la iteración 102: 12.1806\n",
      "\n",
      "Mejor fitness al final de la iteración 103: 12.1806\n",
      "\n",
      "Mejor fitness al final de la iteración 104: 12.1806\n",
      "\n",
      "Mejor fitness al final de la iteración 105: 12.1806\n",
      "Mejor fitness al final de la iteración 106: 12.1806\n",
      "\n",
      "Mejor fitness al final de la iteración 107: 12.1806\n",
      "\n",
      "Mejor fitness al final de la iteración 108: 12.1806\n",
      "\n",
      "Mejor fitness al final de la iteración 109: 12.1806\n",
      "Mejor fitness al final de la iteración 110: 12.1806\n",
      "\n",
      "Mejor fitness al final de la iteración 111: 12.1806\n",
      "\n",
      "Mejor fitness al final de la iteración 112: 12.1806\n",
      "\n",
      "Mejor fitness al final de la iteración 113: 12.1806\n",
      "Mejor fitness al final de la iteración 114: 12.1806\n",
      "\n",
      "Mejor fitness al final de la iteración 115: 12.1806\n",
      "\n",
      "Mejor fitness al final de la iteración 116: 12.1806\n",
      "\n",
      "Mejor fitness al final de la iteración 117: 12.1806\n",
      "Mejor fitness al final de la iteración 118: 12.1806\n",
      "\n",
      "Mejor fitness al final de la iteración 119: 12.1806\n",
      "\n",
      "Mejor fitness al final de la iteración 120: 12.1806\n",
      "\n",
      "Mejor fitness al final de la iteración 121: 12.1806\n",
      "Mejor fitness al final de la iteración 122: 12.1806\n",
      "\n",
      "Mejor fitness al final de la iteración 123: 12.1806\n",
      "\n",
      "Mejor fitness al final de la iteración 124: 12.1806\n",
      "\n",
      "Mejor fitness al final de la iteración 125: 12.1806\n",
      "Mejor fitness al final de la iteración 126: 12.1806\n",
      "\n",
      "Mejor fitness al final de la iteración 127: 12.1806\n",
      "\n",
      "Mejor fitness al final de la iteración 128: 12.1806\n",
      "\n",
      "Mejor fitness al final de la iteración 129: 12.1806\n",
      "Mejor fitness al final de la iteración 130: 12.1806\n",
      "\n",
      "Mejor fitness al final de la iteración 131: 12.1806\n",
      "\n",
      "Mejor fitness al final de la iteración 132: 12.3305\n",
      "\n",
      "Mejor fitness al final de la iteración 133: 12.3305\n",
      "Mejor fitness al final de la iteración 134: 12.3305\n",
      "\n",
      "Mejor fitness al final de la iteración 135: 12.3305\n",
      "\n",
      "Mejor fitness al final de la iteración 136: 12.3305\n",
      "\n",
      "Mejor fitness al final de la iteración 137: 12.3305\n",
      "Mejor fitness al final de la iteración 138: 12.3305\n",
      "\n",
      "Mejor fitness al final de la iteración 139: 12.3305\n",
      "\n",
      "Mejor fitness al final de la iteración 140: 12.3305\n",
      "\n",
      "Mejor fitness al final de la iteración 141: 12.3305\n",
      "Mejor fitness al final de la iteración 142: 12.3305\n",
      "\n",
      "Mejor fitness al final de la iteración 143: 12.3305\n",
      "\n",
      "Mejor fitness al final de la iteración 144: 12.3305\n",
      "\n",
      "Mejor fitness al final de la iteración 145: 12.3305\n",
      "Mejor fitness al final de la iteración 146: 12.3305\n",
      "\n",
      "Mejor fitness al final de la iteración 147: 12.3305\n",
      "\n",
      "Mejor fitness al final de la iteración 148: 12.3305\n",
      "\n",
      "Mejor fitness al final de la iteración 149: 12.3305\n",
      "Mejor fitness al final de la iteración 150: 12.3305\n",
      "\n",
      "Mejor fitness al final de la iteración 151: 12.3305\n",
      "\n",
      "Mejor fitness al final de la iteración 152: 12.3305\n",
      "\n",
      "Mejor fitness al final de la iteración 153: 12.3305\n",
      "Mejor fitness al final de la iteración 154: 12.3305\n",
      "\n",
      "Mejor fitness al final de la iteración 155: 12.3305\n",
      "\n",
      "Mejor fitness al final de la iteración 156: 12.3305\n",
      "\n",
      "Mejor fitness al final de la iteración 157: 12.3305\n",
      "Mejor fitness al final de la iteración 158: 12.3305\n",
      "\n",
      "Mejor fitness al final de la iteración 159: 12.3305\n",
      "\n",
      "Mejor fitness al final de la iteración 160: 12.3305\n",
      "\n",
      "Mejor fitness al final de la iteración 161: 12.3305\n",
      "Mejor fitness al final de la iteración 162: 12.3305\n",
      "\n",
      "Mejor fitness al final de la iteración 163: 12.3305\n",
      "\n",
      "Mejor fitness al final de la iteración 164: 12.3305\n",
      "\n",
      "Mejor fitness al final de la iteración 165: 12.3305\n",
      "Mejor fitness al final de la iteración 166: 12.3305\n",
      "\n",
      "Mejor fitness al final de la iteración 167: 12.3305\n",
      "\n",
      "Mejor fitness al final de la iteración 168: 12.3305\n",
      "\n",
      "Mejor fitness al final de la iteración 169: 12.3305\n",
      "Mejor fitness al final de la iteración 170: 12.3305\n",
      "\n",
      "Mejor fitness al final de la iteración 171: 12.3305\n",
      "\n",
      "Mejor fitness al final de la iteración 172: 12.3305\n",
      "\n",
      "Mejor fitness al final de la iteración 173: 12.3305\n",
      "Mejor fitness al final de la iteración 174: 12.3305\n",
      "\n",
      "Mejor fitness al final de la iteración 175: 12.3305\n",
      "\n",
      "Mejor fitness al final de la iteración 176: 12.3305\n",
      "\n",
      "Mejor fitness al final de la iteración 177: 12.3305\n",
      "Mejor fitness al final de la iteración 178: 12.3305\n",
      "\n",
      "Mejor fitness al final de la iteración 179: 12.3305\n",
      "\n",
      "Mejor fitness al final de la iteración 180: 12.3305\n",
      "\n",
      "Mejor fitness al final de la iteración 181: 12.3305\n",
      "Mejor fitness al final de la iteración 182: 12.3305\n",
      "\n",
      "Mejor fitness al final de la iteración 183: 12.3305\n",
      "\n",
      "Mejor fitness al final de la iteración 184: 12.3305\n",
      "\n",
      "Mejor fitness al final de la iteración 185: 12.3305\n",
      "Mejor fitness al final de la iteración 186: 12.3305\n",
      "\n",
      "Mejor fitness al final de la iteración 187: 12.3305\n",
      "\n",
      "Mejor fitness al final de la iteración 188: 12.3305\n",
      "\n",
      "Mejor fitness al final de la iteración 189: 12.3305\n",
      "Mejor fitness al final de la iteración 190: 12.3305\n",
      "\n",
      "Mejor fitness al final de la iteración 191: 12.3305\n",
      "\n",
      "Mejor fitness al final de la iteración 192: 12.3305\n",
      "\n",
      "Mejor fitness al final de la iteración 193: 12.3305\n",
      "Mejor fitness al final de la iteración 194: 12.3305\n",
      "\n",
      "Mejor fitness al final de la iteración 195: 12.3305\n",
      "\n",
      "Mejor fitness al final de la iteración 196: 12.3305\n",
      "\n",
      "Mejor fitness al final de la iteración 197: 12.3305\n",
      "Mejor fitness al final de la iteración 198: 12.3305\n",
      "\n",
      "Mejor fitness al final de la iteración 199: 12.3305\n",
      "\n",
      "Mejor fitness al final de la iteración 200: 12.3305\n",
      "\n",
      "Mejor fitness al final de la iteración 201: 12.3305\n",
      "Mejor fitness al final de la iteración 202: 12.3305\n",
      "\n",
      "Mejor fitness al final de la iteración 203: 12.3305\n",
      "\n",
      "Mejor fitness al final de la iteración 204: 12.3305\n",
      "\n",
      "Mejor fitness al final de la iteración 205: 12.3305\n",
      "Mejor fitness al final de la iteración 206: 12.3305\n",
      "\n",
      "Mejor fitness al final de la iteración 207: 12.3305\n",
      "\n",
      "Mejor fitness al final de la iteración 208: 12.3305\n",
      "\n",
      "Mejor fitness al final de la iteración 209: 12.3305\n",
      "Mejor fitness al final de la iteración 210: 12.3305\n",
      "\n",
      "Mejor fitness al final de la iteración 211: 12.3305\n",
      "\n",
      "Mejor fitness al final de la iteración 212: 12.3305\n",
      "\n",
      "Mejor fitness al final de la iteración 213: 12.3305\n",
      "Mejor fitness al final de la iteración 214: 12.3305\n",
      "\n",
      "Mejor fitness al final de la iteración 215: 12.3305\n",
      "\n",
      "Mejor fitness al final de la iteración 216: 12.3305\n",
      "\n",
      "Mejor fitness al final de la iteración 217: 12.3305\n",
      "Mejor fitness al final de la iteración 218: 12.3305\n",
      "\n",
      "Mejor fitness al final de la iteración 219: 12.3305\n",
      "\n",
      "Mejor fitness al final de la iteración 220: 12.3305\n",
      "\n",
      "Mejor fitness al final de la iteración 221: 12.3305\n",
      "Mejor fitness al final de la iteración 222: 12.3305\n",
      "\n",
      "Mejor fitness al final de la iteración 223: 12.3305\n",
      "\n",
      "Mejor fitness al final de la iteración 224: 12.3305\n",
      "\n",
      "Mejor fitness al final de la iteración 225: 12.3305\n",
      "Mejor fitness al final de la iteración 226: 12.3305\n",
      "\n",
      "Mejor fitness al final de la iteración 227: 12.3305\n",
      "\n",
      "Mejor fitness al final de la iteración 228: 12.3305\n",
      "\n",
      "Mejor fitness al final de la iteración 229: 12.3305\n",
      "Mejor fitness al final de la iteración 230: 12.3305\n",
      "\n",
      "Mejor fitness al final de la iteración 231: 12.3305\n",
      "\n",
      "Mejor fitness al final de la iteración 232: 12.3305\n",
      "\n",
      "Mejor fitness al final de la iteración 233: 12.3305\n",
      "Mejor fitness al final de la iteración 234: 12.3305\n",
      "\n",
      "Mejor fitness al final de la iteración 235: 12.7933\n",
      "\n",
      "Mejor fitness al final de la iteración 236: 12.7933\n",
      "\n",
      "Mejor fitness al final de la iteración 237: 12.7933\n",
      "Mejor fitness al final de la iteración 238: 12.7933\n",
      "\n",
      "Mejor fitness al final de la iteración 239: 12.7933\n",
      "\n",
      "Mejor fitness al final de la iteración 240: 12.7933\n",
      "\n",
      "Mejor fitness al final de la iteración 241: 12.7933\n",
      "Mejor fitness al final de la iteración 242: 12.7933\n",
      "\n",
      "Mejor fitness al final de la iteración 243: 12.7933\n",
      "\n",
      "Mejor fitness al final de la iteración 244: 12.7933\n",
      "\n",
      "Mejor fitness al final de la iteración 245: 12.7933\n",
      "Mejor fitness al final de la iteración 246: 12.7933\n",
      "\n",
      "Mejor fitness al final de la iteración 247: 12.7933\n",
      "\n",
      "Mejor fitness al final de la iteración 248: 12.7933\n",
      "\n",
      "Mejor fitness al final de la iteración 249: 12.7933\n",
      "Mejor fitness al final de la iteración 250: 12.7933\n",
      "\n",
      "Mejor fitness al final de la iteración 251: 12.7933\n",
      "\n",
      "Mejor fitness al final de la iteración 252: 12.7933\n",
      "\n",
      "Mejor fitness al final de la iteración 253: 12.7933\n",
      "Mejor fitness al final de la iteración 254: 12.7933\n",
      "\n",
      "Mejor fitness al final de la iteración 255: 12.7933\n",
      "\n",
      "Mejor fitness al final de la iteración 256: 12.7933\n",
      "\n",
      "Mejor fitness al final de la iteración 257: 12.7933\n",
      "Mejor fitness al final de la iteración 258: 12.7933\n",
      "\n",
      "Mejor fitness al final de la iteración 259: 12.7933\n",
      "\n",
      "Mejor fitness al final de la iteración 260: 12.7933\n",
      "\n",
      "Mejor fitness al final de la iteración 261: 12.7933\n",
      "Mejor fitness al final de la iteración 262: 12.7933\n",
      "\n",
      "Mejor fitness al final de la iteración 263: 12.7933\n",
      "\n",
      "Mejor fitness al final de la iteración 264: 12.7933\n",
      "\n",
      "Mejor fitness al final de la iteración 265: 12.7933\n",
      "Mejor fitness al final de la iteración 266: 12.7933\n",
      "\n",
      "Mejor fitness al final de la iteración 267: 12.7933\n",
      "\n",
      "Mejor fitness al final de la iteración 268: 12.7933\n",
      "\n",
      "Mejor fitness al final de la iteración 269: 12.7933\n",
      "Mejor fitness al final de la iteración 270: 12.7933\n",
      "\n",
      "Mejor fitness al final de la iteración 271: 12.7933\n",
      "\n",
      "Mejor fitness al final de la iteración 272: 12.7933\n",
      "\n",
      "Mejor fitness al final de la iteración 273: 12.7933\n",
      "Mejor fitness al final de la iteración 274: 12.7933\n",
      "\n",
      "Mejor fitness al final de la iteración 275: 12.7933\n",
      "\n",
      "Mejor fitness al final de la iteración 276: 12.7933\n",
      "\n",
      "Mejor fitness al final de la iteración 277: 12.7933\n",
      "Mejor fitness al final de la iteración 278: 12.7933\n",
      "\n",
      "Mejor fitness al final de la iteración 279: 12.7933\n",
      "\n",
      "Mejor fitness al final de la iteración 280: 12.7933\n",
      "\n",
      "Mejor fitness al final de la iteración 281: 12.7933\n",
      "Mejor fitness al final de la iteración 282: 12.7933\n",
      "\n",
      "Mejor fitness al final de la iteración 283: 12.7933\n",
      "\n",
      "Mejor fitness al final de la iteración 284: 12.7933\n",
      "\n",
      "Mejor fitness al final de la iteración 285: 12.7933\n",
      "Mejor fitness al final de la iteración 286: 12.7933\n",
      "\n",
      "Mejor fitness al final de la iteración 287: 12.7933\n",
      "\n",
      "Mejor fitness al final de la iteración 288: 12.7933\n",
      "\n",
      "Mejor fitness al final de la iteración 289: 12.7933\n",
      "Mejor fitness al final de la iteración 290: 12.7933\n",
      "\n",
      "Mejor fitness al final de la iteración 291: 12.7933\n",
      "\n",
      "Mejor fitness al final de la iteración 292: 12.7933\n",
      "\n",
      "Mejor fitness al final de la iteración 293: 12.7933\n",
      "Mejor fitness al final de la iteración 294: 12.7933\n",
      "\n",
      "Mejor fitness al final de la iteración 295: 12.7933\n",
      "\n",
      "Mejor fitness al final de la iteración 296: 12.7933\n",
      "\n",
      "Mejor fitness al final de la iteración 297: 12.7933\n",
      "Mejor fitness al final de la iteración 298: 12.7933\n",
      "\n",
      "Mejor fitness al final de la iteración 299: 12.7933\n",
      "\n",
      "Mejor fitness al final de la iteración 300: 12.7933\n",
      "\n",
      "['f1_t_mean', 'f13_t_PeaksAboveRMSDensity_fun', 'f14_f_peaks_pos_1', 'f15_f_90_percent_energy', 'f16_f_entropy', 'f19_f_var', 'f22_f_multiscaleEntropy', 'f25_f_peak_2030_value', 'f28_f_peak2rms', 'f30_f_PeaksAboveRMSDensity_fun', 'f35_w_f_maxval_A6', 'f37_w_f_maxval_D2', 'f43_w_f_maxpos_D2', 'f44_w_f_maxpos_D3', 'f45_w_f_maxpos_D4', 'f51_w_f_mean_D3', 'f52_w_f_mean_D4', 'f58_w_t_PEC_D2', 'f59_w_t_PEC_D3', 'f60_w_t_PEC_D4', 'f61_w_t_PEC_D5', 'f66_w_t_rms_D3', 'f68_w_t_rms_D5', 'f70_w_t_peak2peak_A6', 'f72_w_t_peak2peak_D2', 'f83_w_t_peak2rms_D6']\n",
      "12.793349334578457\n"
     ]
    },
    {
     "data": {
      "text/plain": "26"
     },
     "execution_count": 11,
     "metadata": {},
     "output_type": "execute_result"
    }
   ],
   "source": [
    "    #Cuckoo Search with Chi2\n",
    "nests, fitness_scores, best_nest, best_CKfitness = cuckoo_search(n, dim, itermax, X, y, fitness_function= chi2_eval)\n",
    "sorted_indices = np.argsort(fitness_scores)[::-1]\n",
    "fitness_scores_sorted = fitness_scores[sorted_indices]\n",
    "CKMIFeatures = X.columns[best_nest.astype(bool)].tolist()\n",
    "Chi2.append([CKMIFeatures, fitness_scores_sorted[0]])\n",
    "print(CKMIFeatures)\n",
    "print(fitness_scores_sorted[0])\n",
    "np.sum(len(CKMIFeatures))"
   ]
  },
  {
   "cell_type": "code",
   "execution_count": 12,
   "outputs": [
    {
     "name": "stdout",
     "output_type": "stream",
     "text": [
      "Accuracy: 0.9624454148471616\n",
      "Precision: 0.7301587301587301\n",
      "Recall: 0.9108910891089109\n",
      "F1: 0.8105726872246696\n",
      "AUC: 0.9391620196502408\n"
     ]
    }
   ],
   "source": [
    "#Naive Bayes\n",
    "model = GaussianNB()\n",
    "model.fit(X[CKMIFeatures], y)\n",
    "y_pred = model.predict(X[CKMIFeatures])\n",
    "print(\"Accuracy:\", accuracy_score(y, y_pred))\n",
    "print(\"Precision:\", precision_score(y, y_pred))\n",
    "print(\"Recall:\", recall_score(y, y_pred))   \n",
    "print(\"F1:\", f1_score(y, y_pred))\n",
    "print(\"AUC:\", roc_auc_score(y, y_pred))"
   ],
   "metadata": {
    "collapsed": false,
    "ExecuteTime": {
     "end_time": "2024-10-13T01:15:08.321147Z",
     "start_time": "2024-10-13T01:15:08.306750Z"
    }
   },
   "id": "8c826697026cbe4f"
  },
  {
   "cell_type": "code",
   "execution_count": 13,
   "outputs": [
    {
     "name": "stdout",
     "output_type": "stream",
     "text": [
      "Accuracy: 1.0\n",
      "Precision: 1.0\n",
      "Recall: 1.0\n",
      "F1: 1.0\n",
      "AUC: 1.0\n"
     ]
    }
   ],
   "source": [
    "#Random Forest\n",
    "model = RandomForestClassifier()\n",
    "model.fit(X[CKMIFeatures], y)\n",
    "y_pred = model.predict(X[CKMIFeatures])\n",
    "print(\"Accuracy:\", accuracy_score(y, y_pred))\n",
    "print(\"Precision:\", precision_score(y, y_pred))\n",
    "print(\"Recall:\", recall_score(y, y_pred))\n",
    "print(\"F1:\", f1_score(y, y_pred))\n",
    "print(\"AUC:\", roc_auc_score(y, y_pred))\n"
   ],
   "metadata": {
    "collapsed": false,
    "ExecuteTime": {
     "end_time": "2024-10-13T01:15:08.601713Z",
     "start_time": "2024-10-13T01:15:08.323150Z"
    }
   },
   "id": "5c9389957e075626"
  },
  {
   "cell_type": "code",
   "execution_count": 14,
   "outputs": [],
   "source": [
    "#Red Neuronal\n",
    "# model = MLPClassifier()\n",
    "# model.fit(X[CKMIFeatures], y)\n",
    "# y_pred = model.predict(X[CKMIFeatures])\n",
    "# print(\"Accuracy:\", accuracy_score(y, y_pred))\n",
    "# print(\"Precision:\", precision_score(y, y_pred))\n",
    "# print(\"Recall:\", recall_score(y, y_pred))\n",
    "# print(\"F1:\", f1_score(y, y_pred))\n",
    "# print(\"AUC:\", roc_auc_score(y, y_pred))\n"
   ],
   "metadata": {
    "collapsed": false,
    "ExecuteTime": {
     "end_time": "2024-10-13T01:15:08.616816Z",
     "start_time": "2024-10-13T01:15:08.602752Z"
    }
   },
   "id": "a835ed59b1582fcf"
  },
  {
   "cell_type": "code",
   "execution_count": 15,
   "id": "4778665b53beb681",
   "metadata": {
    "ExecuteTime": {
     "end_time": "2024-10-13T01:24:12.559244Z",
     "start_time": "2024-10-13T01:15:08.617818Z"
    }
   },
   "outputs": [
    {
     "name": "stdout",
     "output_type": "stream",
     "text": [
      "Mejor fitness al final de la iteración 1: -0.5092\n",
      "Mejor fitness al final de la iteración 2: -0.5092\n",
      "Mejor fitness al final de la iteración 3: -0.5092\n",
      "Mejor fitness al final de la iteración 4: -0.5092\n",
      "Mejor fitness al final de la iteración 5: -0.5092\n",
      "Mejor fitness al final de la iteración 6: -0.5091\n",
      "Mejor fitness al final de la iteración 7: -0.5091\n",
      "Mejor fitness al final de la iteración 8: -0.5091\n",
      "Mejor fitness al final de la iteración 9: -0.4752\n",
      "Mejor fitness al final de la iteración 10: -0.4752\n",
      "Mejor fitness al final de la iteración 11: -0.4752\n",
      "Mejor fitness al final de la iteración 12: -0.4752\n",
      "Mejor fitness al final de la iteración 13: -0.4752\n",
      "Mejor fitness al final de la iteración 14: -0.4752\n",
      "Mejor fitness al final de la iteración 15: -0.4752\n",
      "Mejor fitness al final de la iteración 16: -0.4752\n",
      "Mejor fitness al final de la iteración 17: -0.4752\n",
      "Mejor fitness al final de la iteración 18: -0.4752\n",
      "Mejor fitness al final de la iteración 19: -0.4752\n",
      "Mejor fitness al final de la iteración 20: -0.4752\n",
      "Mejor fitness al final de la iteración 21: -0.4752\n",
      "Mejor fitness al final de la iteración 22: -0.4752\n",
      "Mejor fitness al final de la iteración 23: -0.4752\n",
      "Mejor fitness al final de la iteración 24: -0.4752\n",
      "Mejor fitness al final de la iteración 25: -0.4752\n",
      "Mejor fitness al final de la iteración 26: -0.4752\n",
      "Mejor fitness al final de la iteración 27: -0.4752\n",
      "Mejor fitness al final de la iteración 28: -0.4752\n",
      "Mejor fitness al final de la iteración 29: -0.4752\n",
      "Mejor fitness al final de la iteración 30: -0.4752\n",
      "Mejor fitness al final de la iteración 31: -0.4752\n",
      "Mejor fitness al final de la iteración 32: -0.4752\n",
      "Mejor fitness al final de la iteración 33: -0.4623\n",
      "Mejor fitness al final de la iteración 34: -0.4623\n",
      "Mejor fitness al final de la iteración 35: -0.4623\n",
      "Mejor fitness al final de la iteración 36: -0.4623\n",
      "Mejor fitness al final de la iteración 37: -0.4623\n",
      "Mejor fitness al final de la iteración 38: -0.4532\n",
      "Mejor fitness al final de la iteración 39: -0.4532\n",
      "Mejor fitness al final de la iteración 40: -0.4532\n",
      "Mejor fitness al final de la iteración 41: -0.4532\n",
      "Mejor fitness al final de la iteración 42: -0.4532\n",
      "Mejor fitness al final de la iteración 43: -0.4532\n",
      "Mejor fitness al final de la iteración 44: -0.4532\n",
      "Mejor fitness al final de la iteración 45: -0.4532\n",
      "Mejor fitness al final de la iteración 46: -0.4532\n",
      "Mejor fitness al final de la iteración 47: -0.4532\n",
      "Mejor fitness al final de la iteración 48: -0.4532\n",
      "Mejor fitness al final de la iteración 49: -0.4532\n",
      "Mejor fitness al final de la iteración 50: -0.4532\n",
      "Mejor fitness al final de la iteración 51: -0.4532\n",
      "Mejor fitness al final de la iteración 52: -0.4532\n",
      "Mejor fitness al final de la iteración 53: -0.4532\n",
      "Mejor fitness al final de la iteración 54: -0.4494\n",
      "Mejor fitness al final de la iteración 55: -0.4494\n",
      "Mejor fitness al final de la iteración 56: -0.4494\n",
      "Mejor fitness al final de la iteración 57: -0.4494\n",
      "Mejor fitness al final de la iteración 58: -0.4494\n",
      "Mejor fitness al final de la iteración 59: -0.4494\n",
      "Mejor fitness al final de la iteración 60: -0.4494\n",
      "Mejor fitness al final de la iteración 61: -0.4494\n",
      "Mejor fitness al final de la iteración 62: -0.4494\n",
      "Mejor fitness al final de la iteración 63: -0.4494\n",
      "Mejor fitness al final de la iteración 64: -0.4494\n",
      "Mejor fitness al final de la iteración 65: -0.4494\n",
      "Mejor fitness al final de la iteración 66: -0.4494\n",
      "Mejor fitness al final de la iteración 67: -0.4494\n",
      "Mejor fitness al final de la iteración 68: -0.4494\n",
      "Mejor fitness al final de la iteración 69: -0.4494\n",
      "Mejor fitness al final de la iteración 70: -0.4494\n",
      "Mejor fitness al final de la iteración 71: -0.4494\n",
      "Mejor fitness al final de la iteración 72: -0.4474\n",
      "Mejor fitness al final de la iteración 73: -0.4474\n",
      "Mejor fitness al final de la iteración 74: -0.4474\n",
      "Mejor fitness al final de la iteración 75: -0.4474\n",
      "Mejor fitness al final de la iteración 76: -0.4474\n",
      "Mejor fitness al final de la iteración 77: -0.4474\n",
      "Mejor fitness al final de la iteración 78: -0.4474\n",
      "Mejor fitness al final de la iteración 79: -0.4474\n",
      "Mejor fitness al final de la iteración 80: -0.4474\n",
      "Mejor fitness al final de la iteración 81: -0.4474\n",
      "Mejor fitness al final de la iteración 82: -0.4474\n",
      "Mejor fitness al final de la iteración 83: -0.4182\n",
      "Mejor fitness al final de la iteración 84: -0.4182\n",
      "Mejor fitness al final de la iteración 85: -0.4182\n",
      "Mejor fitness al final de la iteración 86: -0.4182\n",
      "Mejor fitness al final de la iteración 87: -0.4182\n",
      "Mejor fitness al final de la iteración 88: -0.4182\n",
      "Mejor fitness al final de la iteración 89: -0.4182\n",
      "Mejor fitness al final de la iteración 90: -0.4182\n",
      "Mejor fitness al final de la iteración 91: -0.4182\n",
      "Mejor fitness al final de la iteración 92: -0.4182\n",
      "Mejor fitness al final de la iteración 93: -0.4182\n",
      "Mejor fitness al final de la iteración 94: -0.4182\n",
      "Mejor fitness al final de la iteración 95: -0.4182\n",
      "Mejor fitness al final de la iteración 96: -0.4182\n",
      "Mejor fitness al final de la iteración 97: -0.4182\n",
      "Mejor fitness al final de la iteración 98: -0.4182\n",
      "Mejor fitness al final de la iteración 99: -0.4182\n",
      "Mejor fitness al final de la iteración 100: -0.4182\n",
      "Mejor fitness al final de la iteración 101: -0.4182\n",
      "Mejor fitness al final de la iteración 102: -0.4182\n",
      "Mejor fitness al final de la iteración 103: -0.4182\n",
      "Mejor fitness al final de la iteración 104: -0.4182\n",
      "Mejor fitness al final de la iteración 105: -0.4182\n",
      "Mejor fitness al final de la iteración 106: -0.4182\n",
      "Mejor fitness al final de la iteración 107: -0.4182\n",
      "Mejor fitness al final de la iteración 108: -0.4182\n",
      "Mejor fitness al final de la iteración 109: -0.4182\n",
      "Mejor fitness al final de la iteración 110: -0.4182\n",
      "Mejor fitness al final de la iteración 111: -0.4182\n",
      "Mejor fitness al final de la iteración 112: -0.4182\n",
      "Mejor fitness al final de la iteración 113: -0.4182\n",
      "Mejor fitness al final de la iteración 114: -0.4182\n",
      "Mejor fitness al final de la iteración 115: -0.4182\n",
      "Mejor fitness al final de la iteración 116: -0.4182\n",
      "Mejor fitness al final de la iteración 117: -0.4182\n",
      "Mejor fitness al final de la iteración 118: -0.4182\n",
      "Mejor fitness al final de la iteración 119: -0.4182\n",
      "Mejor fitness al final de la iteración 120: -0.4182\n",
      "Mejor fitness al final de la iteración 121: -0.4182\n",
      "Mejor fitness al final de la iteración 122: -0.4182\n",
      "Mejor fitness al final de la iteración 123: -0.4182\n",
      "Mejor fitness al final de la iteración 124: -0.4182\n",
      "Mejor fitness al final de la iteración 125: -0.4182\n",
      "Mejor fitness al final de la iteración 126: -0.4182\n",
      "Mejor fitness al final de la iteración 127: -0.4182\n",
      "Mejor fitness al final de la iteración 128: -0.4182\n",
      "Mejor fitness al final de la iteración 129: -0.4182\n",
      "Mejor fitness al final de la iteración 130: -0.4182\n",
      "Mejor fitness al final de la iteración 131: -0.4182\n",
      "Mejor fitness al final de la iteración 132: -0.4182\n",
      "Mejor fitness al final de la iteración 133: -0.4182\n",
      "Mejor fitness al final de la iteración 134: -0.4182\n",
      "Mejor fitness al final de la iteración 135: -0.4182\n",
      "Mejor fitness al final de la iteración 136: -0.4182\n",
      "Mejor fitness al final de la iteración 137: -0.4182\n",
      "Mejor fitness al final de la iteración 138: -0.4182\n",
      "Mejor fitness al final de la iteración 139: -0.4182\n",
      "Mejor fitness al final de la iteración 140: -0.4182\n",
      "Mejor fitness al final de la iteración 141: -0.4182\n",
      "Mejor fitness al final de la iteración 142: -0.4182\n",
      "Mejor fitness al final de la iteración 143: -0.4182\n",
      "Mejor fitness al final de la iteración 144: -0.4182\n",
      "Mejor fitness al final de la iteración 145: -0.4182\n",
      "Mejor fitness al final de la iteración 146: -0.4182\n",
      "Mejor fitness al final de la iteración 147: -0.4182\n",
      "Mejor fitness al final de la iteración 148: -0.4182\n",
      "Mejor fitness al final de la iteración 149: -0.4182\n",
      "Mejor fitness al final de la iteración 150: -0.4182\n",
      "Mejor fitness al final de la iteración 151: -0.4182\n",
      "Mejor fitness al final de la iteración 152: -0.4182\n",
      "Mejor fitness al final de la iteración 153: -0.4182\n",
      "Mejor fitness al final de la iteración 154: -0.4182\n",
      "Mejor fitness al final de la iteración 155: -0.4182\n",
      "Mejor fitness al final de la iteración 156: -0.4182\n",
      "Mejor fitness al final de la iteración 157: -0.4182\n",
      "Mejor fitness al final de la iteración 158: -0.4182\n",
      "Mejor fitness al final de la iteración 159: -0.4182\n",
      "Mejor fitness al final de la iteración 160: -0.4182\n",
      "Mejor fitness al final de la iteración 161: -0.4182\n",
      "Mejor fitness al final de la iteración 162: -0.4182\n",
      "Mejor fitness al final de la iteración 163: -0.4182\n",
      "Mejor fitness al final de la iteración 164: -0.4182\n",
      "Mejor fitness al final de la iteración 165: -0.4182\n",
      "Mejor fitness al final de la iteración 166: -0.4182\n",
      "Mejor fitness al final de la iteración 167: -0.4182\n",
      "Mejor fitness al final de la iteración 168: -0.4182\n",
      "Mejor fitness al final de la iteración 169: -0.4182\n",
      "Mejor fitness al final de la iteración 170: -0.4182\n",
      "Mejor fitness al final de la iteración 171: -0.4182\n",
      "Mejor fitness al final de la iteración 172: -0.4182\n",
      "Mejor fitness al final de la iteración 173: -0.4182\n",
      "Mejor fitness al final de la iteración 174: -0.4182\n",
      "Mejor fitness al final de la iteración 175: -0.4182\n",
      "Mejor fitness al final de la iteración 176: -0.4182\n",
      "Mejor fitness al final de la iteración 177: -0.4182\n",
      "Mejor fitness al final de la iteración 178: -0.4182\n",
      "Mejor fitness al final de la iteración 179: -0.4182\n",
      "Mejor fitness al final de la iteración 180: -0.4182\n",
      "Mejor fitness al final de la iteración 181: -0.4182\n",
      "Mejor fitness al final de la iteración 182: -0.4182\n",
      "Mejor fitness al final de la iteración 183: -0.4182\n",
      "Mejor fitness al final de la iteración 184: -0.4182\n",
      "Mejor fitness al final de la iteración 185: -0.4182\n",
      "Mejor fitness al final de la iteración 186: -0.4182\n",
      "Mejor fitness al final de la iteración 187: -0.4182\n",
      "Mejor fitness al final de la iteración 188: -0.4182\n",
      "Mejor fitness al final de la iteración 189: -0.4182\n",
      "Mejor fitness al final de la iteración 190: -0.4182\n",
      "Mejor fitness al final de la iteración 191: -0.4142\n",
      "Mejor fitness al final de la iteración 192: -0.4142\n",
      "Mejor fitness al final de la iteración 193: -0.4142\n",
      "Mejor fitness al final de la iteración 194: -0.4142\n",
      "Mejor fitness al final de la iteración 195: -0.4142\n",
      "Mejor fitness al final de la iteración 196: -0.4142\n",
      "Mejor fitness al final de la iteración 197: -0.4142\n",
      "Mejor fitness al final de la iteración 198: -0.4142\n",
      "Mejor fitness al final de la iteración 199: -0.4142\n",
      "Mejor fitness al final de la iteración 200: -0.4142\n",
      "Mejor fitness al final de la iteración 201: -0.4142\n",
      "Mejor fitness al final de la iteración 202: -0.4142\n",
      "Mejor fitness al final de la iteración 203: -0.4142\n",
      "Mejor fitness al final de la iteración 204: -0.4142\n",
      "Mejor fitness al final de la iteración 205: -0.4142\n",
      "Mejor fitness al final de la iteración 206: -0.4142\n",
      "Mejor fitness al final de la iteración 207: -0.4142\n",
      "Mejor fitness al final de la iteración 208: -0.4142\n",
      "Mejor fitness al final de la iteración 209: -0.4142\n",
      "Mejor fitness al final de la iteración 210: -0.4142\n",
      "Mejor fitness al final de la iteración 211: -0.4142\n",
      "Mejor fitness al final de la iteración 212: -0.4142\n",
      "Mejor fitness al final de la iteración 213: -0.4142\n",
      "Mejor fitness al final de la iteración 214: -0.4142\n",
      "Mejor fitness al final de la iteración 215: -0.4142\n",
      "Mejor fitness al final de la iteración 216: -0.4142\n",
      "Mejor fitness al final de la iteración 217: -0.4142\n",
      "Mejor fitness al final de la iteración 218: -0.4142\n",
      "Mejor fitness al final de la iteración 219: -0.4142\n",
      "Mejor fitness al final de la iteración 220: -0.4142\n",
      "Mejor fitness al final de la iteración 221: -0.4142\n",
      "Mejor fitness al final de la iteración 222: -0.4142\n",
      "Mejor fitness al final de la iteración 223: -0.4142\n",
      "Mejor fitness al final de la iteración 224: -0.4142\n",
      "Mejor fitness al final de la iteración 225: -0.4142\n",
      "Mejor fitness al final de la iteración 226: -0.4142\n",
      "Mejor fitness al final de la iteración 227: -0.4142\n",
      "Mejor fitness al final de la iteración 228: -0.4142\n",
      "Mejor fitness al final de la iteración 229: -0.4142\n",
      "Mejor fitness al final de la iteración 230: -0.4142\n",
      "Mejor fitness al final de la iteración 231: -0.4142\n",
      "Mejor fitness al final de la iteración 232: -0.4142\n",
      "Mejor fitness al final de la iteración 233: -0.4142\n",
      "Mejor fitness al final de la iteración 234: -0.4142\n",
      "Mejor fitness al final de la iteración 235: -0.4142\n",
      "Mejor fitness al final de la iteración 236: -0.4142\n",
      "Mejor fitness al final de la iteración 237: -0.4142\n",
      "Mejor fitness al final de la iteración 238: -0.4142\n",
      "Mejor fitness al final de la iteración 239: -0.4142\n",
      "Mejor fitness al final de la iteración 240: -0.4142\n",
      "Mejor fitness al final de la iteración 241: -0.4142\n",
      "Mejor fitness al final de la iteración 242: -0.4142\n",
      "Mejor fitness al final de la iteración 243: -0.4142\n",
      "Mejor fitness al final de la iteración 244: -0.4142\n",
      "Mejor fitness al final de la iteración 245: -0.4142\n",
      "Mejor fitness al final de la iteración 246: -0.4142\n",
      "Mejor fitness al final de la iteración 247: -0.4142\n",
      "Mejor fitness al final de la iteración 248: -0.4142\n",
      "Mejor fitness al final de la iteración 249: -0.4142\n",
      "Mejor fitness al final de la iteración 250: -0.4142\n",
      "Mejor fitness al final de la iteración 251: -0.4142\n",
      "Mejor fitness al final de la iteración 252: -0.4142\n",
      "Mejor fitness al final de la iteración 253: -0.4142\n",
      "Mejor fitness al final de la iteración 254: -0.4142\n",
      "Mejor fitness al final de la iteración 255: -0.4142\n",
      "Mejor fitness al final de la iteración 256: -0.4142\n",
      "Mejor fitness al final de la iteración 257: -0.4142\n",
      "Mejor fitness al final de la iteración 258: -0.4142\n",
      "Mejor fitness al final de la iteración 259: -0.4142\n",
      "Mejor fitness al final de la iteración 260: -0.4142\n",
      "Mejor fitness al final de la iteración 261: -0.4142\n",
      "Mejor fitness al final de la iteración 262: -0.4142\n",
      "Mejor fitness al final de la iteración 263: -0.4142\n",
      "Mejor fitness al final de la iteración 264: -0.4142\n",
      "Mejor fitness al final de la iteración 265: -0.4142\n",
      "Mejor fitness al final de la iteración 266: -0.4142\n",
      "Mejor fitness al final de la iteración 267: -0.4142\n",
      "Mejor fitness al final de la iteración 268: -0.4142\n",
      "Mejor fitness al final de la iteración 269: -0.4142\n",
      "Mejor fitness al final de la iteración 270: -0.4142\n",
      "Mejor fitness al final de la iteración 271: -0.4142\n",
      "Mejor fitness al final de la iteración 272: -0.4142\n",
      "Mejor fitness al final de la iteración 273: -0.4142\n",
      "Mejor fitness al final de la iteración 274: -0.4142\n",
      "Mejor fitness al final de la iteración 275: -0.4142\n",
      "Mejor fitness al final de la iteración 276: -0.4142\n",
      "Mejor fitness al final de la iteración 277: -0.4142\n",
      "Mejor fitness al final de la iteración 278: -0.4142\n",
      "Mejor fitness al final de la iteración 279: -0.4142\n",
      "Mejor fitness al final de la iteración 280: -0.4142\n",
      "Mejor fitness al final de la iteración 281: -0.4142\n",
      "Mejor fitness al final de la iteración 282: -0.4142\n",
      "Mejor fitness al final de la iteración 283: -0.4142\n",
      "Mejor fitness al final de la iteración 284: -0.4142\n",
      "Mejor fitness al final de la iteración 285: -0.4142\n",
      "Mejor fitness al final de la iteración 286: -0.4142\n",
      "Mejor fitness al final de la iteración 287: -0.4142\n",
      "Mejor fitness al final de la iteración 288: -0.4142\n",
      "Mejor fitness al final de la iteración 289: -0.4142\n",
      "Mejor fitness al final de la iteración 290: -0.4142\n",
      "Mejor fitness al final de la iteración 291: -0.4142\n",
      "Mejor fitness al final de la iteración 292: -0.4142\n",
      "Mejor fitness al final de la iteración 293: -0.4142\n",
      "Mejor fitness al final de la iteración 294: -0.4142\n",
      "Mejor fitness al final de la iteración 295: -0.4142\n",
      "Mejor fitness al final de la iteración 296: -0.4142\n",
      "Mejor fitness al final de la iteración 297: -0.4142\n",
      "Mejor fitness al final de la iteración 298: -0.4142\n",
      "Mejor fitness al final de la iteración 299: -0.4142\n",
      "Mejor fitness al final de la iteración 300: -0.4142\n",
      "\n",
      "['f3_t_var', 'f4_t_entropy', 'f5_t_kurtosis', 'f7_t_time2peak', 'f8_t_rms', 'f10_t_peak2rms', 'f11_t_energy', 'f13_t_PeaksAboveRMSDensity_fun', 'f17_f_mean', 'f20_f_energy', 'f21_f_kurtosis', 'f24_f_peak_1020_pos', 'f27_f_rms', 'f32_f_peaks_pos_2', 'f34_f_peaks_pos_3', 'f36_w_f_maxval_D1', 'f39_w_f_maxval_D4', 'f48_w_f_mean_A6', 'f50_w_f_mean_D2', 'f51_w_f_mean_D3', 'f52_w_f_mean_D4', 'f53_w_f_mean_D5', 'f56_w_t_PEC_A6', 'f67_w_t_rms_D4', 'f68_w_t_rms_D5', 'f84_w_t_meanEnergyCoeff']\n",
      "-0.41417608925059957\n"
     ]
    },
    {
     "data": {
      "text/plain": "26"
     },
     "execution_count": 15,
     "metadata": {},
     "output_type": "execute_result"
    }
   ],
   "source": [
    "#Cuckoo Search with ReliefF\n",
    "nests, fitness_scores, best_nest, best_CKfitness = cuckoo_search(n, dim, itermax, X, y, fitness_function= relieff_eval)\n",
    "sorted_indices = np.argsort(fitness_scores)[::-1]\n",
    "fitness_scores_sorted = fitness_scores[sorted_indices]\n",
    "CKMIFeatures = X.columns[best_nest.astype(bool)].tolist()\n",
    "ReliefF.append([CKMIFeatures, fitness_scores_sorted[0]])\n",
    "print(CKMIFeatures)\n",
    "print(fitness_scores_sorted[0])\n",
    "np.sum(len(CKMIFeatures))"
   ]
  },
  {
   "cell_type": "code",
   "execution_count": 16,
   "outputs": [
    {
     "name": "stdout",
     "output_type": "stream",
     "text": [
      "Accuracy: 0.9414847161572052\n",
      "Precision: 0.646551724137931\n",
      "Recall: 0.7425742574257426\n",
      "F1: 0.6912442396313364\n",
      "AUC: 0.8516511133872008\n"
     ]
    }
   ],
   "source": [
    "#Naive Bayes\n",
    "model = GaussianNB()\n",
    "model.fit(X[CKMIFeatures], y)\n",
    "y_pred = model.predict(X[CKMIFeatures])\n",
    "print(\"Accuracy:\", accuracy_score(y, y_pred))\n",
    "print(\"Precision:\", precision_score(y, y_pred))\n",
    "print(\"Recall:\", recall_score(y, y_pred))\n",
    "print(\"F1:\", f1_score(y, y_pred))\n",
    "print(\"AUC:\", roc_auc_score(y, y_pred))"
   ],
   "metadata": {
    "collapsed": false,
    "ExecuteTime": {
     "end_time": "2024-10-13T01:24:12.574837Z",
     "start_time": "2024-10-13T01:24:12.560246Z"
    }
   },
   "id": "748aca36ac2a80a9"
  },
  {
   "cell_type": "code",
   "execution_count": 17,
   "outputs": [
    {
     "name": "stdout",
     "output_type": "stream",
     "text": [
      "Accuracy: 1.0\n",
      "Precision: 1.0\n",
      "Recall: 1.0\n",
      "F1: 1.0\n",
      "AUC: 1.0\n"
     ]
    }
   ],
   "source": [
    "#Random Forest\n",
    "model = RandomForestClassifier()\n",
    "model.fit(X[CKMIFeatures], y)\n",
    "y_pred = model.predict(X[CKMIFeatures])\n",
    "print(\"Accuracy:\", accuracy_score(y, y_pred))\n",
    "print(\"Precision:\", precision_score(y, y_pred))\n",
    "print(\"Recall:\", recall_score(y, y_pred))\n",
    "print(\"F1:\", f1_score(y, y_pred))\n",
    "print(\"AUC:\", roc_auc_score(y, y_pred))\n"
   ],
   "metadata": {
    "collapsed": false,
    "ExecuteTime": {
     "end_time": "2024-10-13T01:24:12.947625Z",
     "start_time": "2024-10-13T01:24:12.575782Z"
    }
   },
   "id": "615ee588bf13135a"
  },
  {
   "cell_type": "markdown",
   "id": "75ed806a153cb2bf",
   "metadata": {},
   "source": [
    "# Genetic Algorithm"
   ]
  },
  {
   "cell_type": "code",
   "execution_count": 18,
   "id": "83a9f7e42201fc6f",
   "metadata": {
    "ExecuteTime": {
     "end_time": "2024-10-13T01:24:12.963034Z",
     "start_time": "2024-10-13T01:24:12.948626Z"
    }
   },
   "outputs": [],
   "source": [
    "population_size = 47\n",
    "gn = 750\n",
    "mutation_rate=0.5\n",
    "crossover_rate=0.5\n"
   ]
  },
  {
   "cell_type": "markdown",
   "source": [
    "poblacion es la mitad del cromosoma, probar diferentes tamanios de generaciones con salto de 50, 27 (1/3 del dataset) padres, obtner el mejor subset con clasificador con auc, precision, recall, f1, accuracy. Comparar los clasificadores con los mejores subsets"
   ],
   "metadata": {
    "collapsed": false
   },
   "id": "bea95acce3acb273"
  },
  {
   "cell_type": "code",
   "execution_count": 19,
   "id": "d65525adb98e9d72",
   "metadata": {
    "ExecuteTime": {
     "end_time": "2024-10-13T02:44:53.990348Z",
     "start_time": "2024-10-13T01:24:12.964054Z"
    }
   },
   "outputs": [
    {
     "name": "stdout",
     "output_type": "stream",
     "text": [
      "Selected_features: ['f1_t_mean', 'f2_t_std', 'f4_t_entropy', 'f5_t_kurtosis', 'f6_t_multiscaleEntropy', 'f8_t_rms', 'f9_t_peak2peak', 'f10_t_peak2rms', 'f12_t_zcr', 'f13_t_PeaksAboveRMSDensity_fun', 'f14_f_peaks_pos_1', 'f15_f_90_percent_energy', 'f17_f_mean', 'f21_f_kurtosis', 'f23_f_peak_1020_value', 'f24_f_peak_1020_pos', 'f27_f_rms', 'f28_f_peak2rms', 'f29_f_power', 'f30_f_PeaksAboveRMSDensity_fun', 'f31_f_peaks_val_2', 'f32_f_peaks_pos_2', 'f33_f_peaks_val_3', 'f34_f_peaks_pos_3', 'f37_w_f_maxval_D2', 'f39_w_f_maxval_D4', 'f40_w_f_maxval_D5', 'f41_w_f_maxval_D6', 'f45_w_f_maxpos_D4', 'f46_w_f_maxpos_D5', 'f47_w_f_maxpos_D6', 'f48_w_f_mean_A6', 'f49_w_f_mean_D1', 'f50_w_f_mean_D2', 'f55_w_t_meanEnergyAD', 'f57_w_t_PEC_D1', 'f58_w_t_PEC_D2', 'f60_w_t_PEC_D4', 'f62_w_t_PEC_D6', 'f65_w_t_rms_D2', 'f66_w_t_rms_D3', 'f67_w_t_rms_D4', 'f69_w_t_rms_D6', 'f71_w_t_peak2peak_D1', 'f72_w_t_peak2peak_D2', 'f73_w_t_peak2peak_D3', 'f74_w_t_peak2peak_D4', 'f75_w_t_peak2peak_D5', 'f76_w_t_peak2peak_D6', 'f77_w_t_peak2rms_A6', 'f78_w_t_peak2rms_D1', 'f79_w_t_peak2rms_D2', 'f81_w_t_peak2rms_D4', 'f84_w_t_meanEnergyCoeff']\n",
      "Best Fitness:  2.570615050646822\n",
      "Length:  54\n"
     ]
    }
   ],
   "source": [
    "from Metaheuristicas.Genetico import genetic_algorithm\n",
    "#Genetic with Mutual Info\n",
    "best_solution, best_Gfitness = genetic_algorithm(X, y,population_size,generations=gn,mutation_rate=mutation_rate,crossover_rate=crossover_rate,fitness_function=mutual_information_eval )\n",
    "selected_features = X.columns[best_solution.astype(bool)].tolist()\n",
    "print(f\"Selected_features:\", selected_features)\n",
    "print(f\"Best Fitness: \", best_Gfitness)\n",
    "print(f\"Length: \", np.sum(best_solution))\n",
    "\n",
    "Mutual_Information.append([selected_features, best_Gfitness])\n"
   ]
  },
  {
   "cell_type": "code",
   "execution_count": 20,
   "outputs": [
    {
     "name": "stdout",
     "output_type": "stream",
     "text": [
      "Accuracy: 0.9554585152838428\n",
      "Precision: 0.6865671641791045\n",
      "Recall: 0.9108910891089109\n",
      "F1: 0.7829787234042552\n",
      "AUC: 0.9353306020257198\n"
     ]
    }
   ],
   "source": [
    "#Naive Bayes\n",
    "model = GaussianNB()\n",
    "model.fit(X[selected_features], y)\n",
    "y_pred = model.predict(X[selected_features])\n",
    "print(\"Accuracy:\", accuracy_score(y, y_pred))\n",
    "print(\"Precision:\", precision_score(y, y_pred))\n",
    "print(\"Recall:\", recall_score(y, y_pred))\n",
    "print(\"F1:\", f1_score(y, y_pred))\n",
    "print(\"AUC:\", roc_auc_score(y, y_pred))\n",
    "\n"
   ],
   "metadata": {
    "collapsed": false,
    "ExecuteTime": {
     "end_time": "2024-10-13T02:44:54.005548Z",
     "start_time": "2024-10-13T02:44:53.991351Z"
    }
   },
   "id": "97754aa06fea96b"
  },
  {
   "cell_type": "code",
   "execution_count": 21,
   "outputs": [
    {
     "name": "stdout",
     "output_type": "stream",
     "text": [
      "Accuracy: 1.0\n",
      "Precision: 1.0\n",
      "Recall: 1.0\n",
      "F1: 1.0\n",
      "AUC: 1.0\n"
     ]
    }
   ],
   "source": [
    "#Random Forest\n",
    "model = RandomForestClassifier()\n",
    "model.fit(X[selected_features], y)\n",
    "y_pred = model.predict(X[selected_features])\n",
    "print(\"Accuracy:\", accuracy_score(y, y_pred))\n",
    "print(\"Precision:\", precision_score(y, y_pred))\n",
    "print(\"Recall:\", recall_score(y, y_pred))\n",
    "print(\"F1:\", f1_score(y, y_pred))\n",
    "print(\"AUC:\", roc_auc_score(y, y_pred))\n"
   ],
   "metadata": {
    "collapsed": false,
    "ExecuteTime": {
     "end_time": "2024-10-13T02:44:54.412236Z",
     "start_time": "2024-10-13T02:44:54.006550Z"
    }
   },
   "id": "58c6fdd31d4523ce"
  },
  {
   "cell_type": "code",
   "execution_count": 22,
   "outputs": [
    {
     "name": "stdout",
     "output_type": "stream",
     "text": [
      "Red Neuronal\n"
     ]
    }
   ],
   "source": [
    "#Red Neuronal\n",
    "print(\"Red Neuronal\")\n"
   ],
   "metadata": {
    "collapsed": false,
    "ExecuteTime": {
     "end_time": "2024-10-13T02:44:54.427456Z",
     "start_time": "2024-10-13T02:44:54.412876Z"
    }
   },
   "id": "b280ffbcfec60aab"
  },
  {
   "cell_type": "code",
   "execution_count": 23,
   "id": "e933917ba371e716",
   "metadata": {
    "ExecuteTime": {
     "end_time": "2024-10-13T02:45:43.103956Z",
     "start_time": "2024-10-13T02:44:54.428458Z"
    }
   },
   "outputs": [
    {
     "name": "stdout",
     "output_type": "stream",
     "text": [
      "Selected_features: ['f1_t_mean', 'f2_t_std', 'f15_f_90_percent_energy', 'f16_f_entropy', 'f19_f_var', 'f23_f_peak_1020_value', 'f24_f_peak_1020_pos', 'f28_f_peak2rms', 'f30_f_PeaksAboveRMSDensity_fun', 'f32_f_peaks_pos_2', 'f35_w_f_maxval_A6', 'f38_w_f_maxval_D3', 'f39_w_f_maxval_D4', 'f46_w_f_maxpos_D5', 'f53_w_f_mean_D5', 'f58_w_t_PEC_D2', 'f60_w_t_PEC_D4', 'f61_w_t_PEC_D5', 'f63_w_t_rms_A6', 'f67_w_t_rms_D4', 'f71_w_t_peak2peak_D1', 'f72_w_t_peak2peak_D2', 'f75_w_t_peak2peak_D5', 'f79_w_t_peak2rms_D2']\n",
      "Best Fitness:  12.424441623470697\n",
      "Length:  24\n"
     ]
    }
   ],
   "source": [
    "from Metaheuristicas.Genetico import genetic_algorithm\n",
    "#Genetic with Chi2\n",
    "\n",
    "best_solution, best_Gfitness = genetic_algorithm(X, y,population_size,generations=gn,mutation_rate=mutation_rate,crossover_rate=crossover_rate,fitness_function=chi2_eval )\n",
    "selected_features = X.columns[best_solution.astype(bool)].tolist()\n",
    "print(f\"Selected_features:\", selected_features)\n",
    "print(f\"Best Fitness: \", best_Gfitness)\n",
    "print(f\"Length: \", np.sum(best_solution))\n",
    "\n",
    "Chi2.append([selected_features, best_Gfitness])"
   ]
  },
  {
   "cell_type": "code",
   "execution_count": 24,
   "outputs": [
    {
     "name": "stdout",
     "output_type": "stream",
     "text": [
      "Accuracy: 1.0\n",
      "Precision: 1.0\n",
      "Recall: 1.0\n",
      "F1: 1.0\n",
      "AUC: 1.0\n"
     ]
    }
   ],
   "source": [
    "#Random Forest\n",
    "model = RandomForestClassifier()\n",
    "model.fit(X[selected_features], y)\n",
    "y_pred = model.predict(X[selected_features])\n",
    "print(\"Accuracy:\", accuracy_score(y, y_pred))\n",
    "print(\"Precision:\", precision_score(y, y_pred))\n",
    "print(\"Recall:\", recall_score(y, y_pred))\n",
    "print(\"F1:\", f1_score(y, y_pred))\n",
    "print(\"AUC:\", roc_auc_score(y, y_pred))\n",
    "\n",
    "\n"
   ],
   "metadata": {
    "collapsed": false,
    "ExecuteTime": {
     "end_time": "2024-10-13T02:45:43.351673Z",
     "start_time": "2024-10-13T02:45:43.104956Z"
    }
   },
   "id": "2c651242407c533a"
  },
  {
   "cell_type": "code",
   "execution_count": 25,
   "outputs": [],
   "source": [
    "#Neural Network"
   ],
   "metadata": {
    "collapsed": false,
    "ExecuteTime": {
     "end_time": "2024-10-13T02:45:43.367232Z",
     "start_time": "2024-10-13T02:45:43.351673Z"
    }
   },
   "id": "7ad1c52bd8fad0ce"
  },
  {
   "cell_type": "code",
   "execution_count": 26,
   "id": "43b8ee0423ac5c35",
   "metadata": {
    "ExecuteTime": {
     "end_time": "2024-10-13T03:07:31.419423Z",
     "start_time": "2024-10-13T02:45:43.367232Z"
    }
   },
   "outputs": [
    {
     "name": "stdout",
     "output_type": "stream",
     "text": [
      "Selected_features: ['f3_t_var', 'f4_t_entropy', 'f10_t_peak2rms', 'f11_t_energy', 'f14_f_peaks_pos_1', 'f15_f_90_percent_energy', 'f19_f_var', 'f21_f_kurtosis', 'f22_f_multiscaleEntropy', 'f23_f_peak_1020_value', 'f25_f_peak_2030_value', 'f27_f_rms', 'f29_f_power', 'f34_f_peaks_pos_3', 'f36_w_f_maxval_D1', 'f37_w_f_maxval_D2', 'f41_w_f_maxval_D6', 'f48_w_f_mean_A6', 'f50_w_f_mean_D2', 'f52_w_f_mean_D4', 'f56_w_t_PEC_A6', 'f57_w_t_PEC_D1', 'f58_w_t_PEC_D2', 'f61_w_t_PEC_D5', 'f64_w_t_rms_D1', 'f65_w_t_rms_D2', 'f66_w_t_rms_D3', 'f69_w_t_rms_D6', 'f71_w_t_peak2peak_D1', 'f72_w_t_peak2peak_D2', 'f75_w_t_peak2peak_D5', 'f76_w_t_peak2peak_D6', 'f80_w_t_peak2rms_D3', 'f84_w_t_meanEnergyCoeff']\n",
      "Best Fitness:  -0.4603337071749959\n",
      "Length:  34\n"
     ]
    }
   ],
   "source": [
    "from Metaheuristicas.Genetico import genetic_algorithm\n",
    "#Genetic with Relieff\n",
    "\n",
    "best_solution, best_Gfitness = genetic_algorithm(X, y,population_size,generations=gn,mutation_rate=mutation_rate,crossover_rate=crossover_rate,fitness_function=relieff_eval )\n",
    "selected_features = X.columns[best_solution.astype(bool)].tolist()\n",
    "print(f\"Selected_features:\", selected_features)\n",
    "print(f\"Best Fitness: \", best_Gfitness)\n",
    "print(f\"Length: \", np.sum(best_solution))\n",
    "\n",
    "ReliefF.append([selected_features, best_Gfitness])"
   ]
  },
  {
   "cell_type": "code",
   "execution_count": 27,
   "outputs": [
    {
     "name": "stdout",
     "output_type": "stream",
     "text": [
      "Accuracy: 0.9388646288209607\n",
      "Precision: 0.6099290780141844\n",
      "Recall: 0.8514851485148515\n",
      "F1: 0.7107438016528925\n",
      "AUC: 0.8994015780888432\n"
     ]
    }
   ],
   "source": [
    "#Naive Bayes\n",
    "model = GaussianNB()\n",
    "model.fit(X[selected_features], y)\n",
    "y_pred = model.predict(X[selected_features])\n",
    "print(\"Accuracy:\", accuracy_score(y, y_pred))\n",
    "print(\"Precision:\", precision_score(y, y_pred))\n",
    "print(\"Recall:\", recall_score(y, y_pred))\n",
    "print(\"F1:\", f1_score(y, y_pred))\n",
    "print(\"AUC:\", roc_auc_score(y, y_pred))\n"
   ],
   "metadata": {
    "collapsed": false,
    "ExecuteTime": {
     "end_time": "2024-10-13T03:07:31.434965Z",
     "start_time": "2024-10-13T03:07:31.420420Z"
    }
   },
   "id": "5cca63a8f0fab604"
  },
  {
   "cell_type": "code",
   "execution_count": 28,
   "outputs": [
    {
     "name": "stdout",
     "output_type": "stream",
     "text": [
      "Accuracy: 1.0\n",
      "Precision: 1.0\n",
      "Recall: 1.0\n",
      "F1: 1.0\n",
      "AUC: 1.0\n"
     ]
    }
   ],
   "source": [
    "#Random Forest\n",
    "model = RandomForestClassifier()\n",
    "model.fit(X[selected_features], y)\n",
    "y_pred = model.predict(X[selected_features])\n",
    "print(\"Accuracy:\", accuracy_score(y, y_pred))\n",
    "print(\"Precision:\", precision_score(y, y_pred))\n",
    "print(\"Recall:\", recall_score(y, y_pred))\n",
    "print(\"F1:\", f1_score(y, y_pred))\n",
    "print(\"AUC:\", roc_auc_score(y, y_pred))\n"
   ],
   "metadata": {
    "collapsed": false,
    "ExecuteTime": {
     "end_time": "2024-10-13T03:07:31.765686Z",
     "start_time": "2024-10-13T03:07:31.435971Z"
    }
   },
   "id": "42f1635d558d8e2"
  },
  {
   "cell_type": "markdown",
   "id": "693d774d36e33198",
   "metadata": {},
   "source": [
    "### Advanced Ant Colony Optimization"
   ]
  },
  {
   "cell_type": "code",
   "execution_count": 29,
   "id": "b6e2f3c25d256e2d",
   "metadata": {
    "ExecuteTime": {
     "end_time": "2024-10-13T03:07:31.781705Z",
     "start_time": "2024-10-13T03:07:31.766684Z"
    }
   },
   "outputs": [],
   "source": [
    "n_ants=47\n",
    "n_best=1\n",
    "n_iterations=500\n"
   ]
  },
  {
   "cell_type": "markdown",
   "source": [
    "minimo de 10 caracteristicas. Restringir la convergencia a 10 caracteristicas. Investigar alpha y beta"
   ],
   "metadata": {
    "collapsed": false
   },
   "id": "e4d960abf43ffb06"
  },
  {
   "cell_type": "code",
   "execution_count": 30,
   "id": "466853f850dd1ad5",
   "metadata": {
    "ExecuteTime": {
     "end_time": "2024-10-13T04:00:00.685487Z",
     "start_time": "2024-10-13T03:07:31.782708Z"
    }
   },
   "outputs": [
    {
     "name": "stdout",
     "output_type": "stream",
     "text": [
      "Best solution: Index(['f9_t_peak2peak', 'f12_t_zcr', 'f14_f_peaks_pos_1',\n",
      "       'f15_f_90_percent_energy', 'f23_f_peak_1020_value',\n",
      "       'f25_f_peak_2030_value', 'f28_f_peak2rms',\n",
      "       'f30_f_PeaksAboveRMSDensity_fun', 'f33_f_peaks_val_3',\n",
      "       'f34_f_peaks_pos_3', 'f37_w_f_maxval_D2', 'f39_w_f_maxval_D4',\n",
      "       'f55_w_t_meanEnergyAD', 'f58_w_t_PEC_D2', 'f67_w_t_rms_D4',\n",
      "       'f69_w_t_rms_D6', 'f72_w_t_peak2peak_D2', 'f74_w_t_peak2peak_D4',\n",
      "       'f75_w_t_peak2peak_D5', 'f83_w_t_peak2rms_D6'],\n",
      "      dtype='object')\n",
      "Best solution length: 84\n",
      "Best fitness: 1.5465911779234256\n"
     ]
    }
   ],
   "source": [
    "from Metaheuristicas.Ant_Colony_Optimization import AdvancedBinaryAntColonyOptimization\n",
    "#ACO with Mutual\n",
    "aco = AdvancedBinaryAntColonyOptimization(n_ants, n_best, n_iterations, decay=0.6, alpha=1, beta=2)\n",
    "#                                               local_search_prob=0.15)\n",
    "best_solution, best_fitness = aco.fit(X.values, y.values,fitness_function=mutual_information_eval)\n",
    "bf = X.columns[best_solution == 1]\n",
    "print(f\"Best solution: {bf}\")\n",
    "print(f\"Best solution length: {len(best_solution)}\")\n",
    "print(f\"Best fitness: {best_fitness}\")\n",
    "Mutual_Information.append([bf,best_fitness])"
   ]
  },
  {
   "cell_type": "code",
   "execution_count": 31,
   "outputs": [
    {
     "name": "stdout",
     "output_type": "stream",
     "text": [
      "Accuracy: 0.9615720524017467\n",
      "Precision: 0.7244094488188977\n",
      "Recall: 0.9108910891089109\n",
      "F1: 0.8070175438596492\n",
      "AUC: 0.9386830924471757\n"
     ]
    }
   ],
   "source": [
    "#Naive Bayes\n",
    "model = GaussianNB()\n",
    "model.fit(X[bf], y)\n",
    "y_pred = model.predict(X[bf])\n",
    "print(\"Accuracy:\", accuracy_score(y, y_pred))\n",
    "print(\"Precision:\", precision_score(y, y_pred))\n",
    "print(\"Recall:\", recall_score(y, y_pred))\n",
    "print(\"F1:\", f1_score(y, y_pred))\n",
    "print(\"AUC:\", roc_auc_score(y, y_pred))\n"
   ],
   "metadata": {
    "collapsed": false,
    "ExecuteTime": {
     "end_time": "2024-10-13T04:00:00.700966Z",
     "start_time": "2024-10-13T04:00:00.688486Z"
    }
   },
   "id": "135fee3694585dd2"
  },
  {
   "cell_type": "code",
   "execution_count": 32,
   "outputs": [
    {
     "name": "stdout",
     "output_type": "stream",
     "text": [
      "Accuracy: 1.0\n",
      "Precision: 1.0\n",
      "Recall: 1.0\n",
      "F1: 1.0\n",
      "AUC: 1.0\n"
     ]
    }
   ],
   "source": [
    "#Random Forest\n",
    "model = RandomForestClassifier()\n",
    "model.fit(X[bf], y)\n",
    "y_pred = model.predict(X[bf])\n",
    "print(\"Accuracy:\", accuracy_score(y, y_pred))\n",
    "print(\"Precision:\", precision_score(y, y_pred))\n",
    "print(\"Recall:\", recall_score(y, y_pred))\n",
    "print(\"F1:\", f1_score(y, y_pred))\n",
    "print(\"AUC:\", roc_auc_score(y, y_pred))\n"
   ],
   "metadata": {
    "collapsed": false,
    "ExecuteTime": {
     "end_time": "2024-10-13T04:00:00.983670Z",
     "start_time": "2024-10-13T04:00:00.701966Z"
    }
   },
   "id": "4974b4f386417761"
  },
  {
   "cell_type": "code",
   "execution_count": 33,
   "outputs": [],
   "source": [
    "#Red Neuronal\n"
   ],
   "metadata": {
    "collapsed": false,
    "ExecuteTime": {
     "end_time": "2024-10-13T04:00:00.999505Z",
     "start_time": "2024-10-13T04:00:00.985182Z"
    }
   },
   "id": "f38d6ee1255ee5ac"
  },
  {
   "cell_type": "code",
   "execution_count": 34,
   "id": "127bf76e28fae595",
   "metadata": {
    "ExecuteTime": {
     "end_time": "2024-10-13T04:20:12.572485Z",
     "start_time": "2024-10-13T04:00:01.000507Z"
    }
   },
   "outputs": [
    {
     "name": "stdout",
     "output_type": "stream",
     "text": [
      "Best solution: Index(['f10_t_peak2rms', 'f19_f_var', 'f24_f_peak_1020_pos', 'f28_f_peak2rms',\n",
      "       'f30_f_PeaksAboveRMSDensity_fun', 'f31_f_peaks_val_2',\n",
      "       'f33_f_peaks_val_3', 'f34_f_peaks_pos_3', 'f37_w_f_maxval_D2',\n",
      "       'f44_w_f_maxpos_D3', 'f56_w_t_PEC_A6', 'f58_w_t_PEC_D2',\n",
      "       'f59_w_t_PEC_D3', 'f65_w_t_rms_D2', 'f66_w_t_rms_D3',\n",
      "       'f71_w_t_peak2peak_D1', 'f72_w_t_peak2peak_D2', 'f75_w_t_peak2peak_D5',\n",
      "       'f76_w_t_peak2peak_D6', 'f84_w_t_meanEnergyCoeff'],\n",
      "      dtype='object')\n",
      "Best solution length: 84\n",
      "Best fitness: 17.088938714624405\n"
     ]
    }
   ],
   "source": [
    "#ACO with Chi2\n",
    "\n",
    "best_solution, best_fitness = aco.fit(X.values, y.values,fitness_function=chi2_eval)\n",
    "bf = X.columns[best_solution == 1]\n",
    "print(f\"Best solution: {bf}\")\n",
    "print(f\"Best solution length: {len(best_solution)}\")\n",
    "print(f\"Best fitness: {best_fitness}\")\n",
    "Chi2.append([bf,best_fitness])"
   ]
  },
  {
   "cell_type": "code",
   "execution_count": 35,
   "outputs": [
    {
     "name": "stdout",
     "output_type": "stream",
     "text": [
      "Accuracy: 0.9615720524017467\n",
      "Precision: 0.728\n",
      "Recall: 0.900990099009901\n",
      "F1: 0.8053097345132744\n",
      "AUC: 0.9342115246007359\n"
     ]
    }
   ],
   "source": [
    "#Naive Bayes\n",
    "model = GaussianNB()\n",
    "model.fit(X[bf], y)\n",
    "y_pred = model.predict(X[bf])\n",
    "print(\"Accuracy:\", accuracy_score(y, y_pred))\n",
    "print(\"Precision:\", precision_score(y, y_pred))\n",
    "print(\"Recall:\", recall_score(y, y_pred))\n",
    "print(\"F1:\", f1_score(y, y_pred))\n",
    "print(\"AUC:\", roc_auc_score(y, y_pred))\n"
   ],
   "metadata": {
    "collapsed": false,
    "ExecuteTime": {
     "end_time": "2024-10-13T04:20:12.587626Z",
     "start_time": "2024-10-13T04:20:12.573489Z"
    }
   },
   "id": "b76f999e3618cdb7"
  },
  {
   "cell_type": "code",
   "execution_count": 36,
   "outputs": [
    {
     "name": "stdout",
     "output_type": "stream",
     "text": [
      "Accuracy: 1.0\n",
      "Precision: 1.0\n",
      "Recall: 1.0\n",
      "F1: 1.0\n",
      "AUC: 1.0\n"
     ]
    }
   ],
   "source": [
    "#Random Forest\n",
    "model = RandomForestClassifier()\n",
    "model.fit(X[bf], y)\n",
    "y_pred = model.predict(X[bf])\n",
    "print(\"Accuracy:\", accuracy_score(y, y_pred))\n",
    "print(\"Precision:\", precision_score(y, y_pred))\n",
    "print(\"Recall:\", recall_score(y, y_pred))\n",
    "print(\"F1:\", f1_score(y, y_pred))\n",
    "print(\"AUC:\", roc_auc_score(y, y_pred))\n"
   ],
   "metadata": {
    "collapsed": false,
    "ExecuteTime": {
     "end_time": "2024-10-13T04:20:12.852014Z",
     "start_time": "2024-10-13T04:20:12.588627Z"
    }
   },
   "id": "4cb393a4fa30e38"
  },
  {
   "cell_type": "code",
   "execution_count": 37,
   "id": "bfc758d9fb776984",
   "metadata": {
    "ExecuteTime": {
     "end_time": "2024-10-13T04:58:14.679093Z",
     "start_time": "2024-10-13T04:20:12.852014Z"
    }
   },
   "outputs": [
    {
     "ename": "KeyboardInterrupt",
     "evalue": "",
     "output_type": "error",
     "traceback": [
      "\u001B[1;31m---------------------------------------------------------------------------\u001B[0m",
      "\u001B[1;31mKeyboardInterrupt\u001B[0m                         Traceback (most recent call last)",
      "Cell \u001B[1;32mIn [37], line 3\u001B[0m\n\u001B[0;32m      1\u001B[0m \u001B[38;5;66;03m#ACO with Relieff\u001B[39;00m\n\u001B[1;32m----> 3\u001B[0m best_solution, best_fitness \u001B[38;5;241m=\u001B[39m \u001B[43maco\u001B[49m\u001B[38;5;241;43m.\u001B[39;49m\u001B[43mfit\u001B[49m\u001B[43m(\u001B[49m\u001B[43mX\u001B[49m\u001B[38;5;241;43m.\u001B[39;49m\u001B[43mvalues\u001B[49m\u001B[43m,\u001B[49m\u001B[43m \u001B[49m\u001B[43my\u001B[49m\u001B[38;5;241;43m.\u001B[39;49m\u001B[43mvalues\u001B[49m\u001B[43m,\u001B[49m\u001B[43mfitness_function\u001B[49m\u001B[38;5;241;43m=\u001B[39;49m\u001B[43mrelieff_eval\u001B[49m\u001B[43m)\u001B[49m\n\u001B[0;32m      4\u001B[0m bf \u001B[38;5;241m=\u001B[39m X\u001B[38;5;241m.\u001B[39mcolumns[best_solution \u001B[38;5;241m==\u001B[39m \u001B[38;5;241m1\u001B[39m]\n\u001B[0;32m      5\u001B[0m \u001B[38;5;28mprint\u001B[39m(\u001B[38;5;124mf\u001B[39m\u001B[38;5;124m\"\u001B[39m\u001B[38;5;124mBest solution: \u001B[39m\u001B[38;5;132;01m{\u001B[39;00mbf\u001B[38;5;132;01m}\u001B[39;00m\u001B[38;5;124m\"\u001B[39m)\n",
      "File \u001B[1;32m~\\Documents\\GitHub\\Tesis\\Metaheuristicas\\Ant_Colony_Optimization.py:71\u001B[0m, in \u001B[0;36mAdvancedBinaryAntColonyOptimization.fit\u001B[1;34m(self, X, y, fitness_function)\u001B[0m\n\u001B[0;32m     68\u001B[0m fitness_values \u001B[38;5;241m=\u001B[39m []\n\u001B[0;32m     69\u001B[0m \u001B[38;5;28;01mfor\u001B[39;00m ant \u001B[38;5;129;01min\u001B[39;00m \u001B[38;5;28mrange\u001B[39m(\u001B[38;5;28mself\u001B[39m\u001B[38;5;241m.\u001B[39mn_ants):\n\u001B[0;32m     70\u001B[0m     probabilities \u001B[38;5;241m=\u001B[39m pheromone \u001B[38;5;241m*\u001B[39m\u001B[38;5;241m*\u001B[39m \u001B[38;5;28mself\u001B[39m\u001B[38;5;241m.\u001B[39malpha \u001B[38;5;241m*\u001B[39m np\u001B[38;5;241m.\u001B[39marray(\n\u001B[1;32m---> 71\u001B[0m         [\u001B[38;5;28mself\u001B[39m\u001B[38;5;241m.\u001B[39m_heuristic_information(X, y, i) \u001B[38;5;28;01mfor\u001B[39;00m i \u001B[38;5;129;01min\u001B[39;00m \u001B[38;5;28mrange\u001B[39m(n_features)]) \u001B[38;5;241m*\u001B[39m\u001B[38;5;241m*\u001B[39m \u001B[38;5;28mself\u001B[39m\u001B[38;5;241m.\u001B[39mbeta\n\u001B[0;32m     72\u001B[0m     probabilities \u001B[38;5;241m/\u001B[39m\u001B[38;5;241m=\u001B[39m np\u001B[38;5;241m.\u001B[39msum(probabilities)\n\u001B[0;32m     74\u001B[0m     selected_features \u001B[38;5;241m=\u001B[39m np\u001B[38;5;241m.\u001B[39mrandom\u001B[38;5;241m.\u001B[39mrand(n_features) \u001B[38;5;241m<\u001B[39m probabilities\n",
      "File \u001B[1;32m~\\Documents\\GitHub\\Tesis\\Metaheuristicas\\Ant_Colony_Optimization.py:71\u001B[0m, in \u001B[0;36m<listcomp>\u001B[1;34m(.0)\u001B[0m\n\u001B[0;32m     68\u001B[0m fitness_values \u001B[38;5;241m=\u001B[39m []\n\u001B[0;32m     69\u001B[0m \u001B[38;5;28;01mfor\u001B[39;00m ant \u001B[38;5;129;01min\u001B[39;00m \u001B[38;5;28mrange\u001B[39m(\u001B[38;5;28mself\u001B[39m\u001B[38;5;241m.\u001B[39mn_ants):\n\u001B[0;32m     70\u001B[0m     probabilities \u001B[38;5;241m=\u001B[39m pheromone \u001B[38;5;241m*\u001B[39m\u001B[38;5;241m*\u001B[39m \u001B[38;5;28mself\u001B[39m\u001B[38;5;241m.\u001B[39malpha \u001B[38;5;241m*\u001B[39m np\u001B[38;5;241m.\u001B[39marray(\n\u001B[1;32m---> 71\u001B[0m         [\u001B[38;5;28;43mself\u001B[39;49m\u001B[38;5;241;43m.\u001B[39;49m\u001B[43m_heuristic_information\u001B[49m\u001B[43m(\u001B[49m\u001B[43mX\u001B[49m\u001B[43m,\u001B[49m\u001B[43m \u001B[49m\u001B[43my\u001B[49m\u001B[43m,\u001B[49m\u001B[43m \u001B[49m\u001B[43mi\u001B[49m\u001B[43m)\u001B[49m \u001B[38;5;28;01mfor\u001B[39;00m i \u001B[38;5;129;01min\u001B[39;00m \u001B[38;5;28mrange\u001B[39m(n_features)]) \u001B[38;5;241m*\u001B[39m\u001B[38;5;241m*\u001B[39m \u001B[38;5;28mself\u001B[39m\u001B[38;5;241m.\u001B[39mbeta\n\u001B[0;32m     72\u001B[0m     probabilities \u001B[38;5;241m/\u001B[39m\u001B[38;5;241m=\u001B[39m np\u001B[38;5;241m.\u001B[39msum(probabilities)\n\u001B[0;32m     74\u001B[0m     selected_features \u001B[38;5;241m=\u001B[39m np\u001B[38;5;241m.\u001B[39mrandom\u001B[38;5;241m.\u001B[39mrand(n_features) \u001B[38;5;241m<\u001B[39m probabilities\n",
      "File \u001B[1;32m~\\Documents\\GitHub\\Tesis\\Metaheuristicas\\Ant_Colony_Optimization.py:24\u001B[0m, in \u001B[0;36mAdvancedBinaryAntColonyOptimization._heuristic_information\u001B[1;34m(self, X, y, feature_idx)\u001B[0m\n\u001B[0;32m     22\u001B[0m \u001B[38;5;124;03m\"\"\"Use mutual information as a heuristic for feature importance.\"\"\"\u001B[39;00m\n\u001B[0;32m     23\u001B[0m selected_data \u001B[38;5;241m=\u001B[39m X[:, feature_idx]\n\u001B[1;32m---> 24\u001B[0m \u001B[38;5;28;01mreturn\u001B[39;00m \u001B[43mmutual_info_score\u001B[49m\u001B[43m(\u001B[49m\u001B[43mselected_data\u001B[49m\u001B[43m,\u001B[49m\u001B[43m \u001B[49m\u001B[43my\u001B[49m\u001B[43m)\u001B[49m\n",
      "File \u001B[1;32m~\\AppData\\Local\\Programs\\Python\\Python310\\lib\\site-packages\\sklearn\\metrics\\cluster\\_supervised.py:790\u001B[0m, in \u001B[0;36mmutual_info_score\u001B[1;34m(labels_true, labels_pred, contingency)\u001B[0m\n\u001B[0;32m    733\u001B[0m \u001B[38;5;124;03m\"\"\"Mutual Information between two clusterings.\u001B[39;00m\n\u001B[0;32m    734\u001B[0m \n\u001B[0;32m    735\u001B[0m \u001B[38;5;124;03mThe Mutual Information is a measure of the similarity between two labels\u001B[39;00m\n\u001B[1;32m   (...)\u001B[0m\n\u001B[0;32m    787\u001B[0m \u001B[38;5;124;03mThe logarithm used is the natural logarithm (base-e).\u001B[39;00m\n\u001B[0;32m    788\u001B[0m \u001B[38;5;124;03m\"\"\"\u001B[39;00m\n\u001B[0;32m    789\u001B[0m \u001B[38;5;28;01mif\u001B[39;00m contingency \u001B[38;5;129;01mis\u001B[39;00m \u001B[38;5;28;01mNone\u001B[39;00m:\n\u001B[1;32m--> 790\u001B[0m     labels_true, labels_pred \u001B[38;5;241m=\u001B[39m \u001B[43mcheck_clusterings\u001B[49m\u001B[43m(\u001B[49m\u001B[43mlabels_true\u001B[49m\u001B[43m,\u001B[49m\u001B[43m \u001B[49m\u001B[43mlabels_pred\u001B[49m\u001B[43m)\u001B[49m\n\u001B[0;32m    791\u001B[0m     contingency \u001B[38;5;241m=\u001B[39m contingency_matrix(labels_true, labels_pred, sparse\u001B[38;5;241m=\u001B[39m\u001B[38;5;28;01mTrue\u001B[39;00m)\n\u001B[0;32m    792\u001B[0m \u001B[38;5;28;01melse\u001B[39;00m:\n",
      "File \u001B[1;32m~\\AppData\\Local\\Programs\\Python\\Python310\\lib\\site-packages\\sklearn\\metrics\\cluster\\_supervised.py:55\u001B[0m, in \u001B[0;36mcheck_clusterings\u001B[1;34m(labels_true, labels_pred)\u001B[0m\n\u001B[0;32m     41\u001B[0m labels_true \u001B[38;5;241m=\u001B[39m check_array(\n\u001B[0;32m     42\u001B[0m     labels_true,\n\u001B[0;32m     43\u001B[0m     ensure_2d\u001B[38;5;241m=\u001B[39m\u001B[38;5;28;01mFalse\u001B[39;00m,\n\u001B[0;32m     44\u001B[0m     ensure_min_samples\u001B[38;5;241m=\u001B[39m\u001B[38;5;241m0\u001B[39m,\n\u001B[0;32m     45\u001B[0m     dtype\u001B[38;5;241m=\u001B[39m\u001B[38;5;28;01mNone\u001B[39;00m,\n\u001B[0;32m     46\u001B[0m )\n\u001B[0;32m     48\u001B[0m labels_pred \u001B[38;5;241m=\u001B[39m check_array(\n\u001B[0;32m     49\u001B[0m     labels_pred,\n\u001B[0;32m     50\u001B[0m     ensure_2d\u001B[38;5;241m=\u001B[39m\u001B[38;5;28;01mFalse\u001B[39;00m,\n\u001B[0;32m     51\u001B[0m     ensure_min_samples\u001B[38;5;241m=\u001B[39m\u001B[38;5;241m0\u001B[39m,\n\u001B[0;32m     52\u001B[0m     dtype\u001B[38;5;241m=\u001B[39m\u001B[38;5;28;01mNone\u001B[39;00m,\n\u001B[0;32m     53\u001B[0m )\n\u001B[1;32m---> 55\u001B[0m type_label \u001B[38;5;241m=\u001B[39m \u001B[43mtype_of_target\u001B[49m\u001B[43m(\u001B[49m\u001B[43mlabels_true\u001B[49m\u001B[43m)\u001B[49m\n\u001B[0;32m     56\u001B[0m type_pred \u001B[38;5;241m=\u001B[39m type_of_target(labels_pred)\n\u001B[0;32m     58\u001B[0m \u001B[38;5;28;01mif\u001B[39;00m \u001B[38;5;124m\"\u001B[39m\u001B[38;5;124mcontinuous\u001B[39m\u001B[38;5;124m\"\u001B[39m \u001B[38;5;129;01min\u001B[39;00m (type_pred, type_label):\n",
      "File \u001B[1;32m~\\AppData\\Local\\Programs\\Python\\Python310\\lib\\site-packages\\sklearn\\utils\\multiclass.py:357\u001B[0m, in \u001B[0;36mtype_of_target\u001B[1;34m(y, input_name)\u001B[0m\n\u001B[0;32m    354\u001B[0m \u001B[38;5;28;01mif\u001B[39;00m y\u001B[38;5;241m.\u001B[39mdtype\u001B[38;5;241m.\u001B[39mkind \u001B[38;5;241m==\u001B[39m \u001B[38;5;124m\"\u001B[39m\u001B[38;5;124mf\u001B[39m\u001B[38;5;124m\"\u001B[39m:\n\u001B[0;32m    355\u001B[0m     \u001B[38;5;66;03m# [.1, .2, 3] or [[.1, .2, 3]] or [[1., .2]] and not [1., 2., 3.]\u001B[39;00m\n\u001B[0;32m    356\u001B[0m     data \u001B[38;5;241m=\u001B[39m y\u001B[38;5;241m.\u001B[39mdata \u001B[38;5;28;01mif\u001B[39;00m issparse(y) \u001B[38;5;28;01melse\u001B[39;00m y\n\u001B[1;32m--> 357\u001B[0m     \u001B[38;5;28;01mif\u001B[39;00m xp\u001B[38;5;241m.\u001B[39many(data \u001B[38;5;241m!=\u001B[39m \u001B[43mdata\u001B[49m\u001B[38;5;241;43m.\u001B[39;49m\u001B[43mastype\u001B[49m\u001B[43m(\u001B[49m\u001B[38;5;28;43mint\u001B[39;49m\u001B[43m)\u001B[49m):\n\u001B[0;32m    358\u001B[0m         _assert_all_finite(data, input_name\u001B[38;5;241m=\u001B[39minput_name)\n\u001B[0;32m    359\u001B[0m         \u001B[38;5;28;01mreturn\u001B[39;00m \u001B[38;5;124m\"\u001B[39m\u001B[38;5;124mcontinuous\u001B[39m\u001B[38;5;124m\"\u001B[39m \u001B[38;5;241m+\u001B[39m suffix\n",
      "\u001B[1;31mKeyboardInterrupt\u001B[0m: "
     ]
    }
   ],
   "source": [
    "#ACO with Relieff\n",
    "\n",
    "best_solution, best_fitness = aco.fit(X.values, y.values,fitness_function=relieff_eval)\n",
    "bf = X.columns[best_solution == 1]\n",
    "print(f\"Best solution: {bf}\")\n",
    "print(f\"Best solution length: {len(best_solution)}\")\n",
    "print(f\"Best fitness: {best_fitness}\")\n",
    "ReliefF.append([bf,best_fitness])"
   ]
  },
  {
   "cell_type": "code",
   "execution_count": null,
   "outputs": [],
   "source": [
    "#Naive Bayes\n",
    "model = GaussianNB()\n",
    "model.fit(X[bf], y)\n",
    "y_pred = model.predict(X[bf])\n",
    "print(\"Accuracy:\", accuracy_score(y, y_pred))\n",
    "print(\"Precision:\", precision_score(y, y_pred))\n",
    "print(\"Recall:\", recall_score(y, y_pred))\n",
    "print(\"F1:\", f1_score(y, y_pred))\n",
    "print(\"AUC:\", roc_auc_score(y, y_pred))\n"
   ],
   "metadata": {
    "collapsed": false,
    "ExecuteTime": {
     "end_time": "2024-10-13T04:58:14.680094Z",
     "start_time": "2024-10-13T04:58:14.680094Z"
    }
   },
   "id": "2a82ccb338ab8c3c"
  },
  {
   "cell_type": "code",
   "execution_count": null,
   "outputs": [],
   "source": [
    "#Random Forest\n",
    "model = RandomForestClassifier()\n",
    "model.fit(X[bf], y)\n",
    "y_pred = model.predict(X[bf])\n",
    "print(\"Accuracy:\", accuracy_score(y, y_pred))\n",
    "print(\"Precision:\", precision_score(y, y_pred))\n",
    "print(\"Recall:\", recall_score(y, y_pred))\n",
    "print(\"F1:\", f1_score(y, y_pred))\n",
    "print(\"AUC:\", roc_auc_score(y, y_pred))\n"
   ],
   "metadata": {
    "collapsed": false,
    "ExecuteTime": {
     "start_time": "2024-10-13T04:58:14.681095Z"
    }
   },
   "id": "7962ef9173e9cb4"
  },
  {
   "cell_type": "markdown",
   "id": "771081552210567a",
   "metadata": {},
   "source": [
    "### Simulated Annealing"
   ]
  },
  {
   "cell_type": "code",
   "execution_count": null,
   "id": "ee5415943238cfb9",
   "metadata": {
    "ExecuteTime": {
     "start_time": "2024-10-13T04:58:14.682094Z"
    }
   },
   "outputs": [],
   "source": [
    "initial_temperature=100\n",
    "cooling_rate=0.8\n",
    "max_iter=500"
   ]
  },
  {
   "cell_type": "markdown",
   "source": [
    "4 pasos de variacion para temperatura: [10^4, 10^3, 10^2, 10^1] - 10^0,10^-1, 10^-2, 10^-3, 10^-4"
   ],
   "metadata": {
    "collapsed": false
   },
   "id": "2f8b549622a657c2"
  },
  {
   "cell_type": "code",
   "execution_count": null,
   "outputs": [],
   "source": [],
   "metadata": {
    "collapsed": false,
    "ExecuteTime": {
     "start_time": "2024-10-13T04:58:14.683094Z"
    }
   },
   "id": "10bc806766e993d4"
  },
  {
   "cell_type": "markdown",
   "source": [],
   "metadata": {
    "collapsed": false
   },
   "id": "197f9bf9b924b0f4"
  },
  {
   "cell_type": "code",
   "execution_count": null,
   "id": "4c23ecd685ded28c",
   "metadata": {
    "ExecuteTime": {
     "start_time": "2024-10-13T04:58:14.683094Z"
    }
   },
   "outputs": [],
   "source": [
    "from Metaheuristicas.Simmulated_Annealing import simulated_annealing\n",
    "#Simmulated Annealing with Mutual Info\n",
    "best_solution, best_score = simulated_annealing(X, y, initial_temperature, cooling_rate, max_iter,fitness_function=mutual_information_eval)\n",
    "\n",
    "# Display the results\n",
    "selected_features = X.columns[best_solution.astype(bool)].tolist()\n",
    "print(f\"Selected Features: {selected_features}\")\n",
    "print(\"Best Score:\", best_score)\n",
    "print(\"Number of Selected Features:\", np.sum(best_solution))\n",
    "Mutual_Information.append([selected_features,best_score])"
   ]
  },
  {
   "cell_type": "code",
   "execution_count": null,
   "id": "4c2d4bc83e42609c",
   "metadata": {
    "ExecuteTime": {
     "start_time": "2024-10-13T04:58:14.684094Z"
    }
   },
   "outputs": [],
   "source": [
    "#Simmulated Annealing with Chi2\n",
    "\n",
    "best_solution, best_score = simulated_annealing(X, y, initial_temperature, cooling_rate, max_iter,fitness_function=chi2_eval)\n",
    "\n",
    "# Display the results\n",
    "selected_features = X.columns[best_solution.astype(bool)].tolist()\n",
    "print(f\"Selected Features: {selected_features}\")\n",
    "print(\"Best Score:\", best_score)\n",
    "print(\"Number of Selected Features:\", np.sum(best_solution))\n",
    "Chi2.append([selected_features,best_score])"
   ]
  },
  {
   "cell_type": "code",
   "execution_count": null,
   "id": "50a0ef3c89e62579",
   "metadata": {
    "ExecuteTime": {
     "start_time": "2024-10-13T04:58:14.685094Z"
    }
   },
   "outputs": [],
   "source": [
    "#Simmulated Annealing with ReliefF\n",
    "\n",
    "best_solution, best_score = simulated_annealing(X, y, initial_temperature, cooling_rate, max_iter,fitness_function=relieff_eval)\n",
    "\n",
    "# Display the results\n",
    "selected_features = X.columns[best_solution.astype(bool)].tolist()\n",
    "print(f\"Selected Features: {selected_features}\")\n",
    "print(\"Best Score:\", best_score)\n",
    "print(\"Number of Selected Features:\", np.sum(best_solution))\n",
    "ReliefF.append([selected_features,best_score])"
   ]
  },
  {
   "cell_type": "markdown",
   "id": "8696dbc5f7e855c2",
   "metadata": {},
   "source": [
    "### Resultados de Mutual Information"
   ]
  },
  {
   "cell_type": "code",
   "execution_count": null,
   "id": "6a3ef7a9a180e972",
   "metadata": {
    "ExecuteTime": {
     "start_time": "2024-10-13T04:58:14.686095Z"
    }
   },
   "outputs": [],
   "source": [
    "print(\"CUCKOO\")\n",
    "print(f\"Features: \", Mutual_Information[0][0])\n"
   ]
  },
  {
   "cell_type": "code",
   "execution_count": null,
   "id": "fc58444e41866366",
   "metadata": {
    "ExecuteTime": {
     "start_time": "2024-10-13T04:58:14.686095Z"
    }
   },
   "outputs": [],
   "source": [
    "print(\"Genetic\")\n",
    "print(f\"Features: \", Mutual_Information[1][0])\n"
   ]
  },
  {
   "cell_type": "code",
   "execution_count": null,
   "id": "5642db56e1c11dfc",
   "metadata": {
    "ExecuteTime": {
     "start_time": "2024-10-13T04:58:14.687095Z"
    }
   },
   "outputs": [],
   "source": [
    "print(\"ACO\")\n",
    "print(f\"Features: \", Mutual_Information[2][0])\n"
   ]
  },
  {
   "cell_type": "code",
   "execution_count": null,
   "id": "c81b9eb29dd98b44",
   "metadata": {
    "ExecuteTime": {
     "start_time": "2024-10-13T04:58:14.688094Z"
    }
   },
   "outputs": [],
   "source": [
    "print(\"Simmulated Anealing\")\n",
    "print(f\"Features: \", Mutual_Information[3][0])\n"
   ]
  },
  {
   "cell_type": "code",
   "execution_count": null,
   "id": "556889b09d55a85d",
   "metadata": {
    "ExecuteTime": {
     "start_time": "2024-10-13T04:58:14.689094Z"
    }
   },
   "outputs": [],
   "source": [
    "print(f\"Fitness Cuckoo\", Mutual_Information[0][1])\n",
    "print(f\"Fitness Genetic\", Mutual_Information[1][1])\n",
    "print(f\"Fitness ACO\", Mutual_Information[2][1])\n",
    "print(f\"Fitness Simmulated Anealing\", Mutual_Information[3][1])"
   ]
  },
  {
   "cell_type": "code",
   "execution_count": null,
   "id": "d830cdc066defcbb",
   "metadata": {
    "ExecuteTime": {
     "start_time": "2024-10-13T04:58:14.689094Z"
    }
   },
   "outputs": [],
   "source": [
    "#print which metaheuristic got the highes fitness\n"
   ]
  },
  {
   "cell_type": "markdown",
   "id": "1244f6667ff8b606",
   "metadata": {},
   "source": [
    "### Resultados de Chi2"
   ]
  },
  {
   "cell_type": "code",
   "execution_count": null,
   "id": "1631dcedd3a4a1e6",
   "metadata": {
    "ExecuteTime": {
     "start_time": "2024-10-13T04:58:14.690094Z"
    }
   },
   "outputs": [],
   "source": [
    "print(\"CUCKOO\")\n",
    "print(f\"Features: \", Chi2[0][0])\n"
   ]
  },
  {
   "cell_type": "code",
   "execution_count": null,
   "id": "539b66ff3e1ec816",
   "metadata": {
    "ExecuteTime": {
     "start_time": "2024-10-13T04:58:14.691094Z"
    }
   },
   "outputs": [],
   "source": [
    "print(\"Genetic\")\n",
    "print(f\"Features: \", Chi2[1][0])\n"
   ]
  },
  {
   "cell_type": "code",
   "execution_count": null,
   "id": "e86d2f449f8f3677",
   "metadata": {
    "ExecuteTime": {
     "start_time": "2024-10-13T04:58:14.691602Z"
    }
   },
   "outputs": [],
   "source": [
    "print(\"ACO\")\n",
    "print(f\"Features: \", Chi2[2][0])"
   ]
  },
  {
   "cell_type": "code",
   "execution_count": null,
   "id": "d4e61059279d260e",
   "metadata": {
    "ExecuteTime": {
     "start_time": "2024-10-13T04:58:14.692609Z"
    }
   },
   "outputs": [],
   "source": [
    "print(\"Simmulated Anealing\")\n",
    "print(f\"Features: \", Chi2[3][0])"
   ]
  },
  {
   "cell_type": "code",
   "execution_count": null,
   "id": "266575126751f8ed",
   "metadata": {
    "ExecuteTime": {
     "start_time": "2024-10-13T04:58:14.692609Z"
    }
   },
   "outputs": [],
   "source": [
    "print(f\"Fitness Cuckoo\", Chi2[0][1])\n",
    "print(f\"Fitness Genetic\", Chi2[1][1])\n",
    "print(f\"Fitness ACO\", Chi2[2][1])\n",
    "print(f\"Fitness Simmulated Anealing\", Chi2[3][1])"
   ]
  },
  {
   "cell_type": "markdown",
   "id": "a14aa5fc019050b9",
   "metadata": {},
   "source": []
  },
  {
   "cell_type": "markdown",
   "id": "6ef2fbb92ac92149",
   "metadata": {},
   "source": [
    "### Resultados de ReliefF\n"
   ]
  },
  {
   "cell_type": "code",
   "execution_count": null,
   "id": "29ea02475e5f8022",
   "metadata": {
    "ExecuteTime": {
     "start_time": "2024-10-13T04:58:14.693607Z"
    }
   },
   "outputs": [],
   "source": [
    "print(\"CUCKOO\")\n",
    "print(f\"Features: \", ReliefF[0][0])\n"
   ]
  },
  {
   "cell_type": "code",
   "execution_count": null,
   "id": "3c4771b47ff0b99d",
   "metadata": {},
   "outputs": [],
   "source": [
    "print(\"Genetic\")\n",
    "print(f\"Features: \", ReliefF[1][0])"
   ]
  },
  {
   "cell_type": "code",
   "execution_count": null,
   "id": "d2f48805b6bf73c8",
   "metadata": {
    "ExecuteTime": {
     "start_time": "2024-10-13T04:58:14.694608Z"
    }
   },
   "outputs": [],
   "source": [
    "print(\"ACO\")\n",
    "print(f\"Features: \", ReliefF[2][0])"
   ]
  },
  {
   "cell_type": "code",
   "execution_count": null,
   "id": "8cd20fefbf213e56",
   "metadata": {
    "ExecuteTime": {
     "start_time": "2024-10-13T04:58:14.695610Z"
    }
   },
   "outputs": [],
   "source": [
    "print(\"Simmulated Anealing\")\n",
    "print(f\"Features: \", ReliefF[3][0])"
   ]
  },
  {
   "cell_type": "code",
   "execution_count": null,
   "id": "5d928ba2f3e4f791",
   "metadata": {
    "ExecuteTime": {
     "start_time": "2024-10-13T04:58:14.696608Z"
    }
   },
   "outputs": [],
   "source": [
    "print(f\"Fitness Cuckoo\", ReliefF[0][1])\n",
    "print(f\"Fitness Genetic\", ReliefF[1][1])\n",
    "print(f\"Fitness ACO\", ReliefF[2][1])\n",
    "print(f\"Fitness Simmulated Anealing\", ReliefF[3][1])"
   ]
  },
  {
   "cell_type": "markdown",
   "id": "d0481f3986e5ee4b",
   "metadata": {},
   "source": []
  },
  {
   "cell_type": "code",
   "execution_count": null,
   "id": "7517cf832c6c2fc",
   "metadata": {
    "ExecuteTime": {
     "start_time": "2024-10-13T04:58:14.697608Z"
    }
   },
   "outputs": [],
   "source": [
    "#Save results in an excel"
   ]
  },
  {
   "cell_type": "markdown",
   "id": "e1ed95d41f6f3e5a",
   "metadata": {},
   "source": []
  }
 ],
 "metadata": {
  "kernelspec": {
   "display_name": "Python 3 (ipykernel)",
   "language": "python",
   "name": "python3"
  },
  "language_info": {
   "codemirror_mode": {
    "name": "ipython",
    "version": 3
   },
   "file_extension": ".py",
   "mimetype": "text/x-python",
   "name": "python",
   "nbconvert_exporter": "python",
   "pygments_lexer": "ipython3",
   "version": "3.10.7"
  }
 },
 "nbformat": 4,
 "nbformat_minor": 5
}

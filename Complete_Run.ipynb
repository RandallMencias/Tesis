{
 "cells": [
  {
   "cell_type": "code",
   "execution_count": 107,
   "id": "initial_id",
   "metadata": {
    "collapsed": true,
    "ExecuteTime": {
     "end_time": "2025-05-04T23:39:46.570172400Z",
     "start_time": "2025-05-04T23:39:46.472425800Z"
    }
   },
   "outputs": [],
   "source": [
    "from Metaheuristicas.fitness_functions import *\n"
   ]
  },
  {
   "cell_type": "code",
   "execution_count": 108,
   "id": "aa2b839a0ac12d0c",
   "metadata": {
    "collapsed": false,
    "ExecuteTime": {
     "end_time": "2025-05-04T23:39:46.839299600Z",
     "start_time": "2025-05-04T23:39:46.474943500Z"
    }
   },
   "outputs": [],
   "source": [
    "X, y = load_and_preprocess_data(filename='Resources/SeisBenchV1_v1_1.json')\n"
   ]
  },
  {
   "cell_type": "code",
   "execution_count": 109,
   "id": "ca4c77e3ca5f4f79",
   "metadata": {
    "collapsed": false,
    "ExecuteTime": {
     "end_time": "2025-05-04T23:39:46.839299600Z",
     "start_time": "2025-05-04T23:39:46.609517200Z"
    }
   },
   "outputs": [],
   "source": [
    "from Metaheuristicas.Genetico import genetic_algorithm\n",
    "\n",
    "mutation = 0.1\n",
    "crossover = 0.9"
   ]
  },
  {
   "cell_type": "code",
   "execution_count": 110,
   "id": "2ce64b262c9dee2c",
   "metadata": {
    "ExecuteTime": {
     "end_time": "2025-05-04T23:39:46.839299600Z",
     "start_time": "2025-05-04T23:39:46.615517900Z"
    }
   },
   "outputs": [],
   "source": [
    "import pandas as pd\n",
    "from IPython.display import display, clear_output\n",
    "\n",
    "# Step 1: Initialize empty DataFrames for each classifier with metrics as columns\n",
    "metrics = [\"Accuracy\", \"Precision\", \"Recall\", \"F1 Score\", \"AUC\"]\n",
    "\n",
    "naive_bayes_df = pd.DataFrame(columns=metrics, index=[\"Mutual Information\", \"X2\", \"Relief\"])\n",
    "random_forest_df = pd.DataFrame(columns=metrics, index=[\"Mutual Information\", \"X2\", \"Relief\"])\n",
    "neural_network_df = pd.DataFrame(columns=metrics, index=[\"Mutual Information\", \"X2\", \"Relief\"])\n",
    "\n",
    "# Display all tables function\n",
    "def display_tables():\n",
    "    clear_output(wait=True)\n",
    "    print(\"Naive Bayes Results\")\n",
    "    display(naive_bayes_df)\n",
    "    print(\"Random Forest Results\")\n",
    "    display(random_forest_df)\n",
    "    print(\"Neural Network Results\")\n",
    "    display(neural_network_df)"
   ]
  },
  {
   "cell_type": "code",
   "execution_count": 111,
   "id": "3300486a09ef5141",
   "metadata": {
    "ExecuteTime": {
     "end_time": "2025-05-04T23:39:46.839299600Z",
     "start_time": "2025-05-04T23:39:46.694163700Z"
    }
   },
   "outputs": [],
   "source": [
    "def add_result(classifier, fitness_function, accuracy, precision, recall, f1_score, auc):\n",
    "    new_data = {\n",
    "        \"Accuracy\": accuracy,\n",
    "        \"Precision\": precision,\n",
    "        \"Recall\": recall,\n",
    "        \"F1 Score\": f1_score,\n",
    "        \"AUC\": auc\n",
    "    }\n",
    "\n",
    "    if classifier == \"Naive Bayes\":\n",
    "        global naive_bayes_df\n",
    "        naive_bayes_df.loc[fitness_function] = new_data\n",
    "    elif classifier == \"Random Forest\":\n",
    "        global random_forest_df\n",
    "        random_forest_df.loc[fitness_function] = new_data\n",
    "    elif classifier == \"Neural Network\":\n",
    "        global neural_network_df\n",
    "        neural_network_df.loc[fitness_function] = new_data"
   ]
  },
  {
   "cell_type": "code",
   "execution_count": 112,
   "id": "4f12bb4cef31e66b",
   "metadata": {
    "ExecuteTime": {
     "end_time": "2025-05-04T23:39:46.913421600Z",
     "start_time": "2025-05-04T23:39:46.829362Z"
    }
   },
   "outputs": [],
   "source": [
    "import matplotlib.pyplot as plt\n",
    "import seaborn as sns\n",
    "from sklearn.metrics import confusion_matrix\n",
    "def confusion_matrix_heatmap(y_true, y_pred):\n",
    "    cm = confusion_matrix(y_true, y_pred)\n",
    "    plt.figure(figsize=(8, 6))\n",
    "    sns.heatmap(cm, annot=True, fmt='d', cmap='Blues', cbar=False)\n",
    "    plt.xlabel('Predicted Labels')\n",
    "    plt.ylabel('True Labels')\n",
    "    plt.title('Confusion Matrix')\n",
    "    plt.show()"
   ]
  },
  {
   "cell_type": "markdown",
   "id": "b62c043203d125fa",
   "metadata": {
    "collapsed": false
   },
   "source": [
    "# Split"
   ]
  },
  {
   "cell_type": "code",
   "execution_count": 113,
   "id": "28145e55a86c32c4",
   "metadata": {
    "collapsed": false,
    "ExecuteTime": {
     "end_time": "2025-05-04T23:39:47.164404600Z",
     "start_time": "2025-05-04T23:39:46.897716600Z"
    }
   },
   "outputs": [],
   "source": [
    "from sklearn.metrics import accuracy_score, precision_score, recall_score, f1_score, roc_auc_score\n",
    "from sklearn.model_selection import train_test_split\n",
    "\n",
    "#dataset split\n",
    "\n",
    "X_train, X_test, y_train, y_test = train_test_split(X, y, test_size=0.25, random_state=42)\n"
   ]
  },
  {
   "cell_type": "markdown",
   "id": "3839b4e789bb6ed9",
   "metadata": {
    "collapsed": false
   },
   "source": [
    "# Models"
   ]
  },
  {
   "cell_type": "code",
   "execution_count": 114,
   "id": "76522f9a0cea930c",
   "metadata": {
    "collapsed": false,
    "ExecuteTime": {
     "end_time": "2025-05-04T23:39:47.237113500Z",
     "start_time": "2025-05-04T23:39:47.164404600Z"
    }
   },
   "outputs": [],
   "source": [
    "from sklearn.metrics import accuracy_score, precision_score, recall_score, f1_score, roc_auc_score\n",
    "from sklearn.model_selection import train_test_split\n",
    "from sklearn.ensemble import RandomForestClassifier\n",
    "from sklearn.naive_bayes import GaussianNB\n",
    "NB = GaussianNB()\n",
    "DT = RandomForestClassifier()"
   ]
  },
  {
   "cell_type": "markdown",
   "source": [
    "# Feature Selection"
   ],
   "metadata": {
    "collapsed": false
   },
   "id": "7d6ae564958ae401"
  },
  {
   "cell_type": "code",
   "execution_count": 115,
   "outputs": [
    {
     "data": {
      "text/plain": "Index(['f1_t_mean', 'f2_t_std', 'f3_t_var', 'f4_t_entropy', 'f5_t_kurtosis',\n       'f6_t_multiscaleEntropy', 'f7_t_time2peak', 'f8_t_rms',\n       'f9_t_peak2peak', 'f10_t_peak2rms', 'f11_t_energy', 'f12_t_zcr',\n       'f13_t_PeaksAboveRMSDensity_fun', 'f14_f_peaks_pos_1',\n       'f15_f_90_percent_energy', 'f16_f_entropy', 'f17_f_mean', 'f18_f_std',\n       'f19_f_var', 'f20_f_energy', 'f21_f_kurtosis',\n       'f22_f_multiscaleEntropy', 'f23_f_peak_1020_value',\n       'f24_f_peak_1020_pos', 'f25_f_peak_2030_value', 'f26_f_peak_2030_pos',\n       'f27_f_rms', 'f28_f_peak2rms', 'f29_f_power',\n       'f30_f_PeaksAboveRMSDensity_fun', 'f31_f_peaks_val_2',\n       'f32_f_peaks_pos_2', 'f33_f_peaks_val_3', 'f34_f_peaks_pos_3',\n       'f35_w_f_maxval_A6', 'f36_w_f_maxval_D1', 'f37_w_f_maxval_D2',\n       'f38_w_f_maxval_D3', 'f39_w_f_maxval_D4', 'f40_w_f_maxval_D5',\n       'f41_w_f_maxval_D6', 'f42_w_f_maxpos_A6', 'f43_w_f_maxpos_D2',\n       'f44_w_f_maxpos_D3', 'f45_w_f_maxpos_D4', 'f46_w_f_maxpos_D5',\n       'f47_w_f_maxpos_D6', 'f48_w_f_mean_A6', 'f49_w_f_mean_D1',\n       'f50_w_f_mean_D2', 'f51_w_f_mean_D3', 'f52_w_f_mean_D4',\n       'f53_w_f_mean_D5', 'f54_w_f_mean_D6', 'f55_w_t_meanEnergyAD',\n       'f56_w_t_PEC_A6', 'f57_w_t_PEC_D1', 'f58_w_t_PEC_D2', 'f59_w_t_PEC_D3',\n       'f60_w_t_PEC_D4', 'f61_w_t_PEC_D5', 'f62_w_t_PEC_D6', 'f63_w_t_rms_A6',\n       'f64_w_t_rms_D1', 'f65_w_t_rms_D2', 'f66_w_t_rms_D3', 'f67_w_t_rms_D4',\n       'f68_w_t_rms_D5', 'f69_w_t_rms_D6', 'f70_w_t_peak2peak_A6',\n       'f71_w_t_peak2peak_D1', 'f72_w_t_peak2peak_D2', 'f73_w_t_peak2peak_D3',\n       'f74_w_t_peak2peak_D4', 'f75_w_t_peak2peak_D5', 'f76_w_t_peak2peak_D6',\n       'f77_w_t_peak2rms_A6', 'f78_w_t_peak2rms_D1', 'f79_w_t_peak2rms_D2',\n       'f80_w_t_peak2rms_D3', 'f81_w_t_peak2rms_D4', 'f82_w_t_peak2rms_D5',\n       'f83_w_t_peak2rms_D6', 'f84_w_t_meanEnergyCoeff'],\n      dtype='object')"
     },
     "execution_count": 115,
     "metadata": {},
     "output_type": "execute_result"
    }
   ],
   "source": [
    "# print the features avaiable\n",
    "X.columns"
   ],
   "metadata": {
    "collapsed": false,
    "ExecuteTime": {
     "end_time": "2025-05-04T23:39:47.330294800Z",
     "start_time": "2025-05-04T23:39:47.238356600Z"
    }
   },
   "id": "da7d0eb1819d98c2"
  },
  {
   "cell_type": "code",
   "execution_count": 116,
   "outputs": [],
   "source": [
    "def seleccionar_caracteristicas(df, indices):\n",
    "    prefijos = [f\"f{n}_\" for n in indices]\n",
    "    columnas_seleccionadas = [col for col in df.columns if any(col.startswith(prefijo) for prefijo in prefijos)]\n",
    "    return df[columnas_seleccionadas]\n"
   ],
   "metadata": {
    "collapsed": false,
    "ExecuteTime": {
     "end_time": "2025-05-04T23:39:47.405292500Z",
     "start_time": "2025-05-04T23:39:47.308427Z"
    }
   },
   "id": "b72de2d61e595b9c"
  },
  {
   "cell_type": "code",
   "execution_count": 117,
   "outputs": [],
   "source": [
    "# def seleccionar_caracteristicas(df, indices):\n",
    "#     return [col for col in df.columns if any(col.startswith(f\"f{n}_\") for n in indices)]\n"
   ],
   "metadata": {
    "collapsed": false,
    "ExecuteTime": {
     "end_time": "2025-05-04T23:39:47.452855700Z",
     "start_time": "2025-05-04T23:39:47.378848600Z"
    }
   },
   "id": "963dfb44666e2c8"
  },
  {
   "cell_type": "markdown",
   "source": [
    "## GA"
   ],
   "metadata": {
    "collapsed": false
   },
   "id": "92685190233557f"
  },
  {
   "cell_type": "code",
   "execution_count": 118,
   "outputs": [],
   "source": [
    "GaMiFtIndices = [2, 3, 5, 6, 7, 9, 11, 12, 14, 15, 17, 18, 19, 20, 21, 22, 23, 25, 27, 30, 32, 34, 36, 37]\n",
    "GaX2FtIndices = [9, 11, 12, 13, 16, 19, 21, 23, 28, 30, 34,38, 39, 40, 48, 55, 58, 59, 60, 61, 65, 66,70, 71, 72, 74, 75, 76, 77, 84]\n",
    "GaReliefFFtIndices = [2, 4, 9, 11, 14, 16, 17, 19, 21, 23, 25, 27,38, 39, 42, 49, 55, 58, 62, 64, 65, 66, 67,69, 71, 72, 76, 78, 81]"
   ],
   "metadata": {
    "collapsed": false,
    "ExecuteTime": {
     "end_time": "2025-05-04T23:39:47.516579800Z",
     "start_time": "2025-05-04T23:39:47.446831600Z"
    }
   },
   "id": "2feb333aedcf7226"
  },
  {
   "cell_type": "code",
   "execution_count": 119,
   "outputs": [],
   "source": [
    "X_train_GaMiFt = seleccionar_caracteristicas(X_train,GaMiFtIndices)\n",
    "X_train_GaX2Ft = seleccionar_caracteristicas(X_train, GaX2FtIndices)\n",
    "X_train_GaReliefFFt = seleccionar_caracteristicas(X_train, GaReliefFFtIndices)\n"
   ],
   "metadata": {
    "collapsed": false,
    "ExecuteTime": {
     "end_time": "2025-05-04T23:39:47.589617Z",
     "start_time": "2025-05-04T23:39:47.516579800Z"
    }
   },
   "id": "1ec1ee062bbacc40"
  },
  {
   "cell_type": "markdown",
   "source": [
    "## CS"
   ],
   "metadata": {
    "collapsed": false
   },
   "id": "56db9719b040b775"
  },
  {
   "cell_type": "code",
   "execution_count": 120,
   "outputs": [],
   "source": [
    "CsMiFtIndices = [3, 5, 6, 10, 11, 12, 13, 14, 15, 17, 18, 21,23, 24, 25, 26, 28, 30, 31, 32, 33, 34, 35]\n",
    "CsX2FtIndices = [1, 7, 10, 19, 20, 24, 26, 27, 30, 32, 34, 37,38, 42, 58, 60, 61, 64, 65, 67, 68, 69, 72, 77]\n",
    "CsReliefFFtIndices = [4, 6, 7, 10, 13, 15, 19, 22, 23, 29, 33, 39,42, 50, 55, 57, 58, 59, 62, 63, 64, 65, 67]"
   ],
   "metadata": {
    "collapsed": false,
    "ExecuteTime": {
     "end_time": "2025-05-04T23:39:47.673291800Z",
     "start_time": "2025-05-04T23:39:47.591622700Z"
    }
   },
   "id": "23c6b1b1a81bc43f"
  },
  {
   "cell_type": "code",
   "execution_count": 121,
   "outputs": [],
   "source": [
    "X_train_CsMiFt = seleccionar_caracteristicas(X_train,CsMiFtIndices)\n",
    "X_train_CsX2Ft = seleccionar_caracteristicas(X_train, CsX2FtIndices)\n",
    "X_train_CsReliefFFt = seleccionar_caracteristicas(X_train, CsReliefFFtIndices)\n"
   ],
   "metadata": {
    "collapsed": false,
    "ExecuteTime": {
     "end_time": "2025-05-04T23:39:47.729736900Z",
     "start_time": "2025-05-04T23:39:47.657594600Z"
    }
   },
   "id": "dfddf2148dc94a71"
  },
  {
   "cell_type": "markdown",
   "id": "ce00ccb54008a2d0",
   "metadata": {
    "collapsed": false
   },
   "source": [
    "# Functions"
   ]
  },
  {
   "cell_type": "code",
   "execution_count": 122,
   "id": "2207cd59d44095db",
   "metadata": {
    "collapsed": false,
    "ExecuteTime": {
     "end_time": "2025-05-04T23:39:47.803348Z",
     "start_time": "2025-05-04T23:39:47.729736900Z"
    }
   },
   "outputs": [],
   "source": [
    "from sklearn.model_selection import KFold, train_test_split\n",
    "from tensorflow.keras.models import Sequential\n",
    "from tensorflow.keras.layers import Dense, Input\n",
    "from tensorflow.keras.optimizers import Adam\n",
    "from tensorflow.keras.losses import BinaryCrossentropy\n",
    "from sklearn.metrics import accuracy_score, precision_score, recall_score, f1_score, roc_auc_score\n",
    "import numpy as np"
   ]
  },
  {
   "cell_type": "code",
   "execution_count": 123,
   "id": "6af2a17acab866ab",
   "metadata": {
    "collapsed": false,
    "ExecuteTime": {
     "end_time": "2025-05-04T23:39:47.876615700Z",
     "start_time": "2025-05-04T23:39:47.804652200Z"
    }
   },
   "outputs": [],
   "source": [
    "def evaluate_naive_bayes_with_kfold(X_train, y_train, k=10, holdout = None, y_test = None):\n",
    "    \n",
    "\n",
    "    # Lists to store metrics during cross-validation\n",
    "    accuracies, precisions, recalls, f1s, aucs = [], [], [], [], []\n",
    "\n",
    "    if k > 1:\n",
    "        kf = KFold(n_splits=k, shuffle=True, random_state=42)\n",
    "        # Perform k-Fold Cross-Validation\n",
    "        for train_index, val_index in kf.split(X_train):\n",
    "            X_train_fold, X_val_fold = X_train.iloc[train_index], X_train.iloc[val_index]\n",
    "            y_train_fold, y_val_fold = y_train.iloc[train_index], y_train.iloc[val_index]\n",
    "    \n",
    "            # Run it with Naive Bayes\n",
    "            NB.fit(X_train_fold, y_train_fold)\n",
    "            y_pred = NB.predict(X_val_fold)\n",
    "    \n",
    "            # Calculate metrics\n",
    "            accuracy = accuracy_score(y_val_fold, y_pred)\n",
    "            precision = precision_score(y_val_fold, y_pred)\n",
    "            recall = recall_score(y_val_fold, y_pred)\n",
    "            f1 = f1_score(y_val_fold, y_pred)\n",
    "            auc = roc_auc_score(y_val_fold, y_pred)\n",
    "    \n",
    "            # Append metrics to lists\n",
    "            accuracies.append(accuracy)\n",
    "            precisions.append(precision)\n",
    "            recalls.append(recall)\n",
    "            f1s.append(f1)\n",
    "            aucs.append(auc)\n",
    "    \n",
    "            # Calculate mean and std for each metric\n",
    "        mean_accuracy = np.mean(accuracies)\n",
    "        mean_precision = np.mean(precisions)\n",
    "        mean_recall = np.mean(recalls)\n",
    "        mean_f1 = np.mean(f1s)\n",
    "        mean_auc = np.mean(aucs)\n",
    "        std_accuracy = np.std(accuracies)\n",
    "        std_precision = np.std(precisions)\n",
    "        std_recall = np.std(recalls)\n",
    "        std_f1 = np.std(f1s)\n",
    "        std_auc = np.std(aucs)\n",
    "        # Add results to DataFrame\n",
    "        add_result(\"Naive Bayes\", \"Mutual Information\", mean_accuracy, mean_precision, mean_recall, mean_f1, mean_auc)\n",
    "    \n",
    "            # Print metrics\n",
    "        print(f\"Accuracy: {mean_accuracy:.4f} ± {std_accuracy:.4f}\")\n",
    "        print(f\"Precision: {mean_precision:.4f} ± {std_precision:.4f}\")\n",
    "        print(f\"Recall: {mean_recall:.4f} ± {std_recall:.4f}\")\n",
    "        print(f\"F1 Score: {mean_f1:.4f} ± {std_f1:.4f}\")\n",
    "        print(f\"AUC: {mean_auc:.4f} ± {std_auc:.4f}\")\n",
    "    \n",
    "            \n",
    "           \n",
    "    \n",
    "        NBMIScores = [accuracies, precisions, recalls, f1s, aucs]\n",
    "        NBMISTD = [std_accuracy, std_precision, std_recall, std_f1, std_auc]\n",
    "        return NBMIScores, NBMISTD\n",
    "    else:\n",
    "        # Run it with Naive Bayes\n",
    "        NB.fit(X_train, y_train)\n",
    "        y_pred = NB.predict(holdout)\n",
    "\n",
    "        # Calculate metrics\n",
    "        accuracy = accuracy_score(y_test, y_pred)\n",
    "        precision = precision_score(y_test, y_pred)\n",
    "        recall = recall_score(y_test, y_pred)\n",
    "        f1 = f1_score(y_test, y_pred)\n",
    "        auc = roc_auc_score(y_test, y_pred)\n",
    "\n",
    "        # Append metrics to lists\n",
    "        accuracies.append(accuracy)\n",
    "        precisions.append(precision)\n",
    "        recalls.append(recall)\n",
    "        f1s.append(f1)\n",
    "        aucs.append(auc)\n",
    "\n",
    "        mean_accuracy = np.mean(accuracies)\n",
    "        mean_precision = np.mean(precisions)\n",
    "        mean_recall = np.mean(recalls)\n",
    "        mean_f1 = np.mean(f1s)\n",
    "        mean_auc = np.mean(aucs)\n",
    "        std_accuracy = np.std(accuracies)\n",
    "        std_precision = np.std(precisions)\n",
    "        std_recall = np.std(recalls)\n",
    "        std_f1 = np.std(f1s)\n",
    "        std_auc = np.std(aucs)\n",
    "\n",
    "            # Print metrics\n",
    "        print(f\"Accuracy: {mean_accuracy:.4f} ± {std_accuracy:.4f}\")\n",
    "        print(f\"Precision: {mean_precision:.4f} ± {std_precision:.4f}\")\n",
    "        print(f\"Recall: {mean_recall:.4f} ± {std_recall:.4f}\")\n",
    "        print(f\"F1 Score: {mean_f1:.4f} ± {std_f1:.4f}\")\n",
    "        print(f\"AUC: {mean_auc:.4f} ± {std_auc:.4f}\")\n"
   ]
  },
  {
   "cell_type": "code",
   "execution_count": 124,
   "id": "554372697b5ca9be",
   "metadata": {
    "collapsed": false,
    "ExecuteTime": {
     "end_time": "2025-05-04T23:39:47.949360Z",
     "start_time": "2025-05-04T23:39:47.880368900Z"
    }
   },
   "outputs": [],
   "source": [
    "def evaluate_random_forest_with_kfold(X_train, y_train, k=10,holdout = None, y_test = None):\n",
    "\n",
    "    # Lists to store metrics during cross-validation\n",
    "    accuracies, precisions, recalls, f1s, aucs = [], [], [], [], []\n",
    "\n",
    "    # Perform k-Fold Cross-Validation\n",
    "    if k > 1:\n",
    "        kf = KFold(n_splits=k, shuffle=True, random_state=42)\n",
    "\n",
    "        for train_index, val_index in kf.split(X_train):\n",
    "            X_train_fold, X_val_fold = X_train.iloc[train_index], X_train.iloc[val_index]\n",
    "            y_train_fold, y_val_fold = y_train.iloc[train_index], y_train.iloc[val_index]\n",
    "    \n",
    "            # Run it with Naive Bayes\n",
    "            DT.fit(X_train_fold, y_train_fold)\n",
    "            y_pred = DT.predict(X_val_fold)\n",
    "    \n",
    "            # Calculate metrics\n",
    "            accuracy = accuracy_score(y_val_fold, y_pred)\n",
    "            precision = precision_score(y_val_fold, y_pred)\n",
    "            recall = recall_score(y_val_fold, y_pred)\n",
    "            f1 = f1_score(y_val_fold, y_pred)\n",
    "            auc = roc_auc_score(y_val_fold, y_pred)\n",
    "    \n",
    "            # Append metrics to lists\n",
    "            accuracies.append(accuracy)\n",
    "            precisions.append(precision)\n",
    "            recalls.append(recall)\n",
    "            f1s.append(f1)\n",
    "            aucs.append(auc)\n",
    "    \n",
    "            # Calculate mean and std for each metric\n",
    "        mean_accuracy = np.mean(accuracies)\n",
    "        mean_precision = np.mean(precisions)\n",
    "        mean_recall = np.mean(recalls)\n",
    "        mean_f1 = np.mean(f1s)\n",
    "        mean_auc = np.mean(aucs)\n",
    "        std_accuracy = np.std(accuracies)\n",
    "        std_precision = np.std(precisions)\n",
    "        std_recall = np.std(recalls)\n",
    "        std_f1 = np.std(f1s)\n",
    "        std_auc = np.std(aucs)\n",
    "    \n",
    "            # Print metrics\n",
    "        print(f\"Accuracy: {mean_accuracy:.4f} ± {std_accuracy:.4f}\")\n",
    "        print(f\"Precision: {mean_precision:.4f} ± {std_precision:.4f}\")\n",
    "        print(f\"Recall: {mean_recall:.4f} ± {std_recall:.4f}\")\n",
    "        print(f\"F1 Score: {mean_f1:.4f} ± {std_f1:.4f}\")\n",
    "        print(f\"AUC: {mean_auc:.4f} ± {std_auc:.4f}\")\n",
    "    \n",
    "            # Add results to DataFrame\n",
    "        add_result(\"Naive Bayes\", \"Mutual Information\", mean_accuracy, mean_precision, mean_recall, mean_f1, mean_auc)\n",
    "            # Display all tables\n",
    "    \n",
    "        RfMIScores = [accuracies, precisions, recalls, f1s, aucs]\n",
    "        RfMISTD = [std_accuracy, std_precision, std_recall, std_f1, std_auc]\n",
    "        return RfMIScores, RfMISTD\n",
    "    else:\n",
    "        # Run it with random forest\n",
    "        DT.fit(X_train, y_train)\n",
    "        y_pred = DT.predict(holdout)\n",
    "\n",
    "        # Calculate metrics\n",
    "        accuracy = accuracy_score(y_test, y_pred)\n",
    "        precision = precision_score(y_test, y_pred)\n",
    "        recall = recall_score(y_test, y_pred)\n",
    "        f1 = f1_score(y_test, y_pred)\n",
    "        auc = roc_auc_score(y_test, y_pred)\n",
    "\n",
    "        # Append metrics to lists\n",
    "        accuracies.append(accuracy)\n",
    "        precisions.append(precision)\n",
    "        recalls.append(recall)\n",
    "        f1s.append(f1)\n",
    "        aucs.append(auc)\n",
    "\n",
    "        mean_accuracy = np.mean(accuracies)\n",
    "        mean_precision = np.mean(precisions)\n",
    "        mean_recall = np.mean(recalls)\n",
    "        mean_f1 = np.mean(f1s)\n",
    "        mean_auc = np.mean(aucs)\n",
    "        std_accuracy = np.std(accuracies)\n",
    "        std_precision = np.std(precisions)\n",
    "        std_recall = np.std(recalls)\n",
    "        std_f1 = np.std(f1s)\n",
    "        std_auc = np.std(aucs)\n",
    "\n",
    "            # Print metrics\n",
    "        print(f\"Accuracy: {mean_accuracy:.4f} ± {std_accuracy:.4f}\")\n",
    "        print(f\"Precision: {mean_precision:.4f} ± {std_precision:.4f}\")\n",
    "        print(f\"Recall: {mean_recall:.4f} ± {std_recall:.4f}\")\n",
    "        print(f\"F1 Score: {mean_f1:.4f} ± {std_f1:.4f}\")\n",
    "        print(f\"AUC: {mean_auc:.4f} ± {std_auc:.4f}\")\n",
    "    \n"
   ]
  },
  {
   "cell_type": "code",
   "execution_count": 125,
   "id": "86005e498b2c1ab9",
   "metadata": {
    "collapsed": false,
    "ExecuteTime": {
     "end_time": "2025-05-04T23:39:48.291893500Z",
     "start_time": "2025-05-04T23:39:48.261405700Z"
    }
   },
   "outputs": [],
   "source": [
    "def evaluate_neural_network_with_kfold(X_train, y_train, k=10, holdout = None,y_test = None):\n",
    "\n",
    "    # Lists to store metrics during cross-validation\n",
    "    accuracies, precisions, recalls, f1s, aucs = [], [], [], [], []\n",
    "\n",
    "    # Perform k-Fold Cross-Validation\n",
    "    if k > 1:\n",
    "        kf = KFold(n_splits=k, shuffle=True, random_state=42)\n",
    "\n",
    "        for train_index, val_index in kf.split(X_train):\n",
    "            X_train_fold, X_val_fold = X_train.iloc[train_index], X_train.iloc[val_index]\n",
    "            y_train_fold, y_val_fold = y_train.iloc[train_index], y_train.iloc[val_index]\n",
    "    \n",
    "            # Define a new model in each fold\n",
    "            input_dim = X_train_fold.shape[1]\n",
    "            model = Sequential([\n",
    "                Input(shape=(input_dim,)),\n",
    "                Dense(64, activation='relu'),\n",
    "                Dense(32, activation='relu'),\n",
    "                Dense(1, activation='sigmoid')\n",
    "            ])\n",
    "            model.compile(optimizer=Adam(learning_rate=0.001), loss=BinaryCrossentropy(), metrics=['accuracy'])\n",
    "    \n",
    "            # Train the model on the fold\n",
    "            model.fit(X_train_fold, y_train_fold, epochs=100, batch_size=32, verbose=0)\n",
    "    \n",
    "            # Evaluate on validation fold\n",
    "            y_pred_prob = model.predict(X_val_fold)\n",
    "            y_pred = (y_pred_prob > 0.5).astype(int)\n",
    "    \n",
    "            # Calculate metrics\n",
    "            accuracies.append(accuracy_score(y_val_fold, y_pred))\n",
    "            precisions.append(precision_score(y_val_fold, y_pred))\n",
    "            recalls.append(recall_score(y_val_fold, y_pred))\n",
    "            f1s.append(f1_score(y_val_fold, y_pred))\n",
    "            aucs.append(roc_auc_score(y_val_fold, y_pred_prob))\n",
    "    \n",
    "        mean_accuracy = np.mean(accuracies)\n",
    "        mean_precision = np.mean(precisions)\n",
    "        mean_recall = np.mean(recalls)\n",
    "        mean_f1 = np.mean(f1s)\n",
    "        mean_auc = np.mean(aucs)\n",
    "        std_accuracy = np.std(accuracies)\n",
    "        std_precision = np.std(precisions)\n",
    "        std_recall = np.std(recalls)\n",
    "        std_f1 = np.std(f1s)\n",
    "        std_auc = np.std(aucs)\n",
    "    \n",
    "            # Print metrics\n",
    "        print(f\"Accuracy: {mean_accuracy:.4f} ± {std_accuracy:.4f}\")\n",
    "        print(f\"Precision: {mean_precision:.4f} ± {std_precision:.4f}\")\n",
    "        print(f\"Recall: {mean_recall:.4f} ± {std_recall:.4f}\")\n",
    "        print(f\"F1 Score: {mean_f1:.4f} ± {std_f1:.4f}\")\n",
    "        print(f\"AUC: {mean_auc:.4f} ± {std_auc:.4f}\")\n",
    "    \n",
    "        # # Print metrics\n",
    "        # print(f\"Accuracy: {avg_acc:.4f}\")\n",
    "        # print(f\"Precision: {avg_prec:.4f}\")\n",
    "        # print(f\"Recall: {avg_rec:.4f}\")\n",
    "        # print(f\"F1 Score: {avg_f1:.4f}\")\n",
    "        # print(f\"AUC: {avg_auc:.4f}\")\n",
    "    \n",
    "        # Add results to DataFrame\n",
    "        add_result(\"Neural Network\", \"Mutual Information\", mean_accuracy, mean_precision, mean_recall, mean_f1, mean_auc)\n",
    "    \n",
    "    \n",
    "    \n",
    "        NN_MIScores = [accuracies, precisions, recalls, f1s, aucs]\n",
    "        NN_MISTD = [std_accuracy, std_precision, std_recall, std_f1, std_auc]\n",
    "        return NN_MIScores, NN_MISTD\n",
    "    else:\n",
    "        # Define a new model\n",
    "        input_dim = X_train.shape[1]\n",
    "        model = Sequential([\n",
    "            Input(shape=(input_dim,)),\n",
    "            Dense(64, activation='relu'),\n",
    "            Dense(32, activation='relu'),\n",
    "            Dense(1, activation='sigmoid')\n",
    "        ])\n",
    "        model.compile(optimizer=Adam(learning_rate=0.001), loss=BinaryCrossentropy(), metrics=['accuracy'])\n",
    "\n",
    "        # Train the model on the entire dataset\n",
    "        model.fit(X_train, y_train, epochs=100, batch_size=32, verbose=0)\n",
    "\n",
    "        # Evaluate on validation fold\n",
    "        y_pred_prob = model.predict(holdout)\n",
    "        y_pred = (y_pred_prob > 0.5).astype(int)\n",
    "\n",
    "        # Calculate metrics\n",
    "        accuracies.append(accuracy_score(y_test, y_pred))\n",
    "        precisions.append(precision_score(y_test, y_pred))\n",
    "        recalls.append(recall_score(y_test, y_pred))\n",
    "        f1s.append(f1_score(y_test, y_pred))\n",
    "        aucs.append(roc_auc_score(y_test, y_pred_prob))\n",
    "\n",
    "        mean_accuracy = np.mean(accuracies)\n",
    "        mean_precision = np.mean(precisions)\n",
    "        mean_recall = np.mean(recalls)\n",
    "        mean_f1 = np.mean(f1s)\n",
    "        mean_auc = np.mean(aucs)\n",
    "        std_accuracy = np.std(accuracies)\n",
    "        std_precision = np.std(precisions)\n",
    "        std_recall = np.std(recalls)\n",
    "        std_f1 = np.std(f1s)\n",
    "        std_auc = np.std(aucs)\n",
    "\n",
    "            # Print metrics\n",
    "        print(f\"Accuracy: {mean_accuracy:.4f} ± {std_accuracy:.4f}\")\n",
    "        print(f\"Precision: {mean_precision:.4f} ± {std_precision:.4f}\")\n",
    "        print(f\"Recall: {mean_recall:.4f} ± {std_recall:.4f}\")\n",
    "        print(f\"F1 Score: {mean_f1:.4f} ± {std_f1:.4f}\")\n",
    "        print(f\"AUC: {mean_auc:.4f} ± {std_auc:.4f}\")\n",
    "        \n"
   ]
  },
  {
   "cell_type": "markdown",
   "source": [
    "# Evaluate "
   ],
   "metadata": {
    "collapsed": false
   },
   "id": "721c2c6718d204cb"
  },
  {
   "cell_type": "markdown",
   "source": [
    "## Genetic Algorithm"
   ],
   "metadata": {
    "collapsed": false
   },
   "id": "a9c36a80531d22e3"
  },
  {
   "cell_type": "markdown",
   "source": [
    "### GA Mutual Information"
   ],
   "metadata": {
    "collapsed": false
   },
   "id": "a34b5e743596b05b"
  },
  {
   "cell_type": "code",
   "execution_count": 76,
   "outputs": [
    {
     "name": "stdout",
     "output_type": "stream",
     "text": [
      "Accuracy: 0.9603 ± 0.0197\n",
      "Precision: 0.7453 ± 0.1685\n",
      "Recall: 0.8481 ± 0.1084\n",
      "F1 Score: 0.7856 ± 0.1273\n",
      "AUC: 0.9093 ± 0.0570\n"
     ]
    }
   ],
   "source": [
    "# Naive Bayes \n",
    "ResultsNBGAMI, STDResultsNBGAMI= evaluate_naive_bayes_with_kfold(X_train_GaMiFt, y_train, k=10)"
   ],
   "metadata": {
    "collapsed": false,
    "ExecuteTime": {
     "end_time": "2025-05-04T18:38:28.262160300Z",
     "start_time": "2025-05-04T18:38:28.040286500Z"
    }
   },
   "id": "73fde5bb2493208a"
  },
  {
   "cell_type": "code",
   "execution_count": 77,
   "outputs": [
    {
     "name": "stdout",
     "output_type": "stream",
     "text": [
      "Accuracy: 0.9650 ± 0.0181\n",
      "Precision: 0.8266 ± 0.1479\n",
      "Recall: 0.7362 ± 0.1615\n",
      "F1 Score: 0.7740 ± 0.1407\n",
      "AUC: 0.8610 ± 0.0826\n"
     ]
    }
   ],
   "source": [
    "#Random Forest\n",
    "ResultsRFGAMI, STDResultsRFGMI= evaluate_random_forest_with_kfold(X_train_GaMiFt, y_train, k=10)"
   ],
   "metadata": {
    "collapsed": false,
    "ExecuteTime": {
     "end_time": "2025-05-04T18:38:30.181482700Z",
     "start_time": "2025-05-04T18:38:28.170341800Z"
    }
   },
   "id": "a9b0b3b3ea88d060"
  },
  {
   "cell_type": "code",
   "execution_count": 78,
   "outputs": [
    {
     "name": "stdout",
     "output_type": "stream",
     "text": [
      "\u001B[1m3/3\u001B[0m \u001B[32m━━━━━━━━━━━━━━━━━━━━\u001B[0m\u001B[37m\u001B[0m \u001B[1m0s\u001B[0m 16ms/step\n",
      "\u001B[1m3/3\u001B[0m \u001B[32m━━━━━━━━━━━━━━━━━━━━\u001B[0m\u001B[37m\u001B[0m \u001B[1m0s\u001B[0m 8ms/step \n",
      "\u001B[1m3/3\u001B[0m \u001B[32m━━━━━━━━━━━━━━━━━━━━\u001B[0m\u001B[37m\u001B[0m \u001B[1m0s\u001B[0m 8ms/step \n",
      "\u001B[1m3/3\u001B[0m \u001B[32m━━━━━━━━━━━━━━━━━━━━\u001B[0m\u001B[37m\u001B[0m \u001B[1m0s\u001B[0m 8ms/step \n",
      "\u001B[1m3/3\u001B[0m \u001B[32m━━━━━━━━━━━━━━━━━━━━\u001B[0m\u001B[37m\u001B[0m \u001B[1m0s\u001B[0m 8ms/step \n",
      "\u001B[1m3/3\u001B[0m \u001B[32m━━━━━━━━━━━━━━━━━━━━\u001B[0m\u001B[37m\u001B[0m \u001B[1m0s\u001B[0m 8ms/step \n",
      "\u001B[1m3/3\u001B[0m \u001B[32m━━━━━━━━━━━━━━━━━━━━\u001B[0m\u001B[37m\u001B[0m \u001B[1m0s\u001B[0m 16ms/step\n",
      "\u001B[1m3/3\u001B[0m \u001B[32m━━━━━━━━━━━━━━━━━━━━\u001B[0m\u001B[37m\u001B[0m \u001B[1m0s\u001B[0m 4ms/step \n",
      "\u001B[1m3/3\u001B[0m \u001B[32m━━━━━━━━━━━━━━━━━━━━\u001B[0m\u001B[37m\u001B[0m \u001B[1m0s\u001B[0m 8ms/step \n",
      "\u001B[1m3/3\u001B[0m \u001B[32m━━━━━━━━━━━━━━━━━━━━\u001B[0m\u001B[37m\u001B[0m \u001B[1m0s\u001B[0m 8ms/step \n",
      "Accuracy: 0.9662 ± 0.0177\n",
      "Precision: 0.8682 ± 0.1404\n",
      "Recall: 0.7489 ± 0.1449\n",
      "F1 Score: 0.7922 ± 0.1138\n",
      "AUC: 0.9818 ± 0.0183\n"
     ]
    }
   ],
   "source": [
    "#Neural Network\n",
    "ResultsNNGAMI, STDResultsNNGAMI= evaluate_neural_network_with_kfold(X_train_GaMiFt, y_train, k=10)"
   ],
   "metadata": {
    "collapsed": false,
    "ExecuteTime": {
     "end_time": "2025-05-04T18:39:08.238870600Z",
     "start_time": "2025-05-04T18:38:30.181482700Z"
    }
   },
   "id": "e6df7a8cdd79076"
  },
  {
   "cell_type": "markdown",
   "source": [
    "### GA X2"
   ],
   "metadata": {
    "collapsed": false
   },
   "id": "bf179474aedfe396"
  },
  {
   "cell_type": "code",
   "execution_count": 79,
   "outputs": [
    {
     "name": "stdout",
     "output_type": "stream",
     "text": [
      "Accuracy: 0.9522 ± 0.0258\n",
      "Precision: 0.6829 ± 0.1423\n",
      "Recall: 0.9002 ± 0.1494\n",
      "F1 Score: 0.7702 ± 0.1323\n",
      "AUC: 0.9289 ± 0.0787\n"
     ]
    }
   ],
   "source": [
    "# Naive Bayes\n",
    "ResultsNBGAX2, STDResultsNBGAX2= evaluate_naive_bayes_with_kfold(X_train_GaX2Ft, y_train, k=10)\n"
   ],
   "metadata": {
    "collapsed": false,
    "ExecuteTime": {
     "end_time": "2025-05-04T18:39:08.317724100Z",
     "start_time": "2025-05-04T18:39:08.238870600Z"
    }
   },
   "id": "bc616912431ef8d1"
  },
  {
   "cell_type": "code",
   "execution_count": 80,
   "outputs": [
    {
     "name": "stdout",
     "output_type": "stream",
     "text": [
      "Accuracy: 0.9638 ± 0.0191\n",
      "Precision: 0.8309 ± 0.1243\n",
      "Recall: 0.7275 ± 0.1509\n",
      "F1 Score: 0.7719 ± 0.1324\n",
      "AUC: 0.8567 ± 0.0774\n"
     ]
    }
   ],
   "source": [
    "#Random Forest\n",
    "ResultsRFGAX2, STDResultsRFGAX2= evaluate_random_forest_with_kfold(X_train_GaX2Ft, y_train, k=10)\n"
   ],
   "metadata": {
    "collapsed": false,
    "ExecuteTime": {
     "end_time": "2025-05-04T18:39:10.338000300Z",
     "start_time": "2025-05-04T18:39:08.317724100Z"
    }
   },
   "id": "dc3ad8ce6e775766"
  },
  {
   "cell_type": "code",
   "execution_count": 81,
   "outputs": [
    {
     "name": "stdout",
     "output_type": "stream",
     "text": [
      "\u001B[1m3/3\u001B[0m \u001B[32m━━━━━━━━━━━━━━━━━━━━\u001B[0m\u001B[37m\u001B[0m \u001B[1m0s\u001B[0m 11ms/step\n",
      "\u001B[1m3/3\u001B[0m \u001B[32m━━━━━━━━━━━━━━━━━━━━\u001B[0m\u001B[37m\u001B[0m \u001B[1m0s\u001B[0m 9ms/step \n",
      "\u001B[1m3/3\u001B[0m \u001B[32m━━━━━━━━━━━━━━━━━━━━\u001B[0m\u001B[37m\u001B[0m \u001B[1m0s\u001B[0m 11ms/step\n",
      "\u001B[1m3/3\u001B[0m \u001B[32m━━━━━━━━━━━━━━━━━━━━\u001B[0m\u001B[37m\u001B[0m \u001B[1m0s\u001B[0m 10ms/step\n",
      "\u001B[1m3/3\u001B[0m \u001B[32m━━━━━━━━━━━━━━━━━━━━\u001B[0m\u001B[37m\u001B[0m \u001B[1m0s\u001B[0m 12ms/step\n",
      "\u001B[1m3/3\u001B[0m \u001B[32m━━━━━━━━━━━━━━━━━━━━\u001B[0m\u001B[37m\u001B[0m \u001B[1m0s\u001B[0m 9ms/step \n",
      "\u001B[1m3/3\u001B[0m \u001B[32m━━━━━━━━━━━━━━━━━━━━\u001B[0m\u001B[37m\u001B[0m \u001B[1m0s\u001B[0m 9ms/step \n",
      "\u001B[1m3/3\u001B[0m \u001B[32m━━━━━━━━━━━━━━━━━━━━\u001B[0m\u001B[37m\u001B[0m \u001B[1m0s\u001B[0m 16ms/step\n",
      "\u001B[1m3/3\u001B[0m \u001B[32m━━━━━━━━━━━━━━━━━━━━\u001B[0m\u001B[37m\u001B[0m \u001B[1m0s\u001B[0m 15ms/step\n",
      "\u001B[1m3/3\u001B[0m \u001B[32m━━━━━━━━━━━━━━━━━━━━\u001B[0m\u001B[37m\u001B[0m \u001B[1m0s\u001B[0m 17ms/step\n",
      "Accuracy: 0.9697 ± 0.0190\n",
      "Precision: 0.8317 ± 0.1356\n",
      "Recall: 0.8124 ± 0.1205\n",
      "F1 Score: 0.8182 ± 0.1192\n",
      "AUC: 0.9838 ± 0.0135\n"
     ]
    }
   ],
   "source": [
    "#Neural Network\n",
    "ResultsNNGAX2, STDResultsNNGAX2= evaluate_neural_network_with_kfold(X_train_GaX2Ft, y_train, k=10)\n"
   ],
   "metadata": {
    "collapsed": false,
    "ExecuteTime": {
     "end_time": "2025-05-04T18:39:48.716237800Z",
     "start_time": "2025-05-04T18:39:10.338000300Z"
    }
   },
   "id": "eec0555de14b711"
  },
  {
   "cell_type": "markdown",
   "source": [
    "### GA ReliefF\n"
   ],
   "metadata": {
    "collapsed": false
   },
   "id": "604308d06f14511e"
  },
  {
   "cell_type": "code",
   "execution_count": 82,
   "outputs": [
    {
     "name": "stdout",
     "output_type": "stream",
     "text": [
      "Accuracy: 0.9428 ± 0.0279\n",
      "Precision: 0.6436 ± 0.1580\n",
      "Recall: 0.8577 ± 0.1474\n",
      "F1 Score: 0.7277 ± 0.1405\n",
      "AUC: 0.9044 ± 0.0780\n"
     ]
    }
   ],
   "source": [
    "# Naive Bayes\n",
    "ResultsNBGAReliefF, STDResultsNBGAReliefF= evaluate_naive_bayes_with_kfold(X_train_GaReliefFFt, y_train, k=10)"
   ],
   "metadata": {
    "collapsed": false,
    "ExecuteTime": {
     "end_time": "2025-05-04T18:39:48.791973400Z",
     "start_time": "2025-05-04T18:39:48.712291100Z"
    }
   },
   "id": "464c6aee6ae2dc34"
  },
  {
   "cell_type": "code",
   "execution_count": 83,
   "outputs": [
    {
     "name": "stdout",
     "output_type": "stream",
     "text": [
      "Accuracy: 0.9615 ± 0.0165\n",
      "Precision: 0.8175 ± 0.1531\n",
      "Recall: 0.6996 ± 0.1626\n",
      "F1 Score: 0.7487 ± 0.1496\n",
      "AUC: 0.8427 ± 0.0830\n"
     ]
    }
   ],
   "source": [
    "#Random Forest\n",
    "ResultsRFGAReliefF, STDResultsRFGAReliefF= evaluate_random_forest_with_kfold(X_train_GaReliefFFt, y_train, k=10)\n"
   ],
   "metadata": {
    "collapsed": false,
    "ExecuteTime": {
     "end_time": "2025-05-04T18:39:50.810036300Z",
     "start_time": "2025-05-04T18:39:48.794222Z"
    }
   },
   "id": "ad73e1d7b00470b1"
  },
  {
   "cell_type": "code",
   "execution_count": 84,
   "outputs": [
    {
     "name": "stdout",
     "output_type": "stream",
     "text": [
      "\u001B[1m3/3\u001B[0m \u001B[32m━━━━━━━━━━━━━━━━━━━━\u001B[0m\u001B[37m\u001B[0m \u001B[1m0s\u001B[0m 8ms/step \n",
      "\u001B[1m3/3\u001B[0m \u001B[32m━━━━━━━━━━━━━━━━━━━━\u001B[0m\u001B[37m\u001B[0m \u001B[1m0s\u001B[0m 7ms/step \n",
      "\u001B[1m3/3\u001B[0m \u001B[32m━━━━━━━━━━━━━━━━━━━━\u001B[0m\u001B[37m\u001B[0m \u001B[1m0s\u001B[0m 10ms/step\n",
      "\u001B[1m3/3\u001B[0m \u001B[32m━━━━━━━━━━━━━━━━━━━━\u001B[0m\u001B[37m\u001B[0m \u001B[1m0s\u001B[0m 10ms/step\n",
      "\u001B[1m3/3\u001B[0m \u001B[32m━━━━━━━━━━━━━━━━━━━━\u001B[0m\u001B[37m\u001B[0m \u001B[1m0s\u001B[0m 16ms/step\n",
      "\u001B[1m3/3\u001B[0m \u001B[32m━━━━━━━━━━━━━━━━━━━━\u001B[0m\u001B[37m\u001B[0m \u001B[1m0s\u001B[0m 8ms/step \n",
      "\u001B[1m3/3\u001B[0m \u001B[32m━━━━━━━━━━━━━━━━━━━━\u001B[0m\u001B[37m\u001B[0m \u001B[1m0s\u001B[0m 8ms/step \n",
      "\u001B[1m3/3\u001B[0m \u001B[32m━━━━━━━━━━━━━━━━━━━━\u001B[0m\u001B[37m\u001B[0m \u001B[1m0s\u001B[0m 16ms/step\n",
      "\u001B[1m3/3\u001B[0m \u001B[32m━━━━━━━━━━━━━━━━━━━━\u001B[0m\u001B[37m\u001B[0m \u001B[1m0s\u001B[0m 8ms/step \n",
      "\u001B[1m3/3\u001B[0m \u001B[32m━━━━━━━━━━━━━━━━━━━━\u001B[0m\u001B[37m\u001B[0m \u001B[1m0s\u001B[0m 8ms/step \n",
      "Accuracy: 0.9627 ± 0.0047\n",
      "Precision: 0.8127 ± 0.1249\n",
      "Recall: 0.7532 ± 0.1649\n",
      "F1 Score: 0.7700 ± 0.1065\n",
      "AUC: 0.9780 ± 0.0249\n"
     ]
    }
   ],
   "source": [
    "#Neural Network\n",
    "ResultsNNGAReliefF, STDResultsNNGAReliefF= evaluate_neural_network_with_kfold(X_train_GaReliefFFt, y_train, k=10)"
   ],
   "metadata": {
    "collapsed": false,
    "ExecuteTime": {
     "end_time": "2025-05-04T18:40:29.125954100Z",
     "start_time": "2025-05-04T18:39:50.810036300Z"
    }
   },
   "id": "8f1d002d2b8dd6da"
  },
  {
   "cell_type": "markdown",
   "source": [
    "## CS"
   ],
   "metadata": {
    "collapsed": false
   },
   "id": "8839c22bf0702995"
  },
  {
   "cell_type": "markdown",
   "source": [
    "### CS Mutual Information"
   ],
   "metadata": {
    "collapsed": false
   },
   "id": "c005a041dac1fa1"
  },
  {
   "cell_type": "code",
   "execution_count": 85,
   "outputs": [
    {
     "name": "stdout",
     "output_type": "stream",
     "text": [
      "Accuracy: 0.9592 ± 0.0234\n",
      "Precision: 0.7281 ± 0.1583\n",
      "Recall: 0.8913 ± 0.1352\n",
      "F1 Score: 0.7930 ± 0.1300\n",
      "AUC: 0.9283 ± 0.0704\n"
     ]
    }
   ],
   "source": [
    "# Naive Bayes\n",
    "ResultsNBCSMI, STDResultsNBCSMI= evaluate_naive_bayes_with_kfold(X_train_CsMiFt, y_train, k=10)\n"
   ],
   "metadata": {
    "collapsed": false,
    "ExecuteTime": {
     "end_time": "2025-05-04T18:40:29.208717900Z",
     "start_time": "2025-05-04T18:40:29.128465300Z"
    }
   },
   "id": "c590607ea4bd48c2"
  },
  {
   "cell_type": "code",
   "execution_count": 86,
   "outputs": [
    {
     "name": "stdout",
     "output_type": "stream",
     "text": [
      "Accuracy: 0.9673 ± 0.0146\n",
      "Precision: 0.8474 ± 0.1225\n",
      "Recall: 0.7287 ± 0.1666\n",
      "F1 Score: 0.7791 ± 0.1432\n",
      "AUC: 0.8585 ± 0.0844\n"
     ]
    }
   ],
   "source": [
    "#Random Forest\n",
    "ResultsRFCsMI, STDResultsRFCsMI= evaluate_random_forest_with_kfold(X_train_CsMiFt, y_train, k=10)\n"
   ],
   "metadata": {
    "collapsed": false,
    "ExecuteTime": {
     "end_time": "2025-05-04T18:40:30.982187Z",
     "start_time": "2025-05-04T18:40:29.208717900Z"
    }
   },
   "id": "ce166fa5ebfeba5"
  },
  {
   "cell_type": "code",
   "execution_count": 87,
   "outputs": [
    {
     "name": "stdout",
     "output_type": "stream",
     "text": [
      "\u001B[1m3/3\u001B[0m \u001B[32m━━━━━━━━━━━━━━━━━━━━\u001B[0m\u001B[37m\u001B[0m \u001B[1m0s\u001B[0m 8ms/step \n",
      "\u001B[1m3/3\u001B[0m \u001B[32m━━━━━━━━━━━━━━━━━━━━\u001B[0m\u001B[37m\u001B[0m \u001B[1m0s\u001B[0m 16ms/step\n",
      "\u001B[1m3/3\u001B[0m \u001B[32m━━━━━━━━━━━━━━━━━━━━\u001B[0m\u001B[37m\u001B[0m \u001B[1m0s\u001B[0m 10ms/step\n",
      "\u001B[1m3/3\u001B[0m \u001B[32m━━━━━━━━━━━━━━━━━━━━\u001B[0m\u001B[37m\u001B[0m \u001B[1m0s\u001B[0m 10ms/step\n",
      "\u001B[1m3/3\u001B[0m \u001B[32m━━━━━━━━━━━━━━━━━━━━\u001B[0m\u001B[37m\u001B[0m \u001B[1m0s\u001B[0m 8ms/step \n",
      "\u001B[1m3/3\u001B[0m \u001B[32m━━━━━━━━━━━━━━━━━━━━\u001B[0m\u001B[37m\u001B[0m \u001B[1m0s\u001B[0m 9ms/step \n",
      "\u001B[1m3/3\u001B[0m \u001B[32m━━━━━━━━━━━━━━━━━━━━\u001B[0m\u001B[37m\u001B[0m \u001B[1m0s\u001B[0m 11ms/step\n",
      "\u001B[1m3/3\u001B[0m \u001B[32m━━━━━━━━━━━━━━━━━━━━\u001B[0m\u001B[37m\u001B[0m \u001B[1m0s\u001B[0m 12ms/step\n",
      "\u001B[1m3/3\u001B[0m \u001B[32m━━━━━━━━━━━━━━━━━━━━\u001B[0m\u001B[37m\u001B[0m \u001B[1m0s\u001B[0m 15ms/step\n",
      "\u001B[1m3/3\u001B[0m \u001B[32m━━━━━━━━━━━━━━━━━━━━\u001B[0m\u001B[37m\u001B[0m \u001B[1m0s\u001B[0m 8ms/step \n",
      "Accuracy: 0.9697 ± 0.0190\n",
      "Precision: 0.8526 ± 0.1346\n",
      "Recall: 0.8104 ± 0.1371\n",
      "F1 Score: 0.8203 ± 0.1101\n",
      "AUC: 0.9841 ± 0.0171\n"
     ]
    }
   ],
   "source": [
    "#Neural Network\n",
    "ResultsNNCsMI, STDResultsNNCsMI= evaluate_neural_network_with_kfold(X_train_CsMiFt, y_train, k=10)\n"
   ],
   "metadata": {
    "collapsed": false,
    "ExecuteTime": {
     "end_time": "2025-05-04T18:41:09.700398400Z",
     "start_time": "2025-05-04T18:40:30.982187Z"
    }
   },
   "id": "7d37979e67cc8859"
  },
  {
   "cell_type": "markdown",
   "source": [
    "### CS X2"
   ],
   "metadata": {
    "collapsed": false
   },
   "id": "10ffae583a6883e"
  },
  {
   "cell_type": "code",
   "execution_count": 88,
   "outputs": [
    {
     "name": "stdout",
     "output_type": "stream",
     "text": [
      "Accuracy: 0.9545 ± 0.0211\n",
      "Precision: 0.6925 ± 0.1180\n",
      "Recall: 0.8784 ± 0.1489\n",
      "F1 Score: 0.7699 ± 0.1194\n",
      "AUC: 0.9199 ± 0.0759\n"
     ]
    }
   ],
   "source": [
    "# Naive Bayes\n",
    "ResultsNBCSX2, STDResultsNBCSX2= evaluate_naive_bayes_with_kfold(X_train_CsX2Ft, y_train, k=10)"
   ],
   "metadata": {
    "collapsed": false,
    "ExecuteTime": {
     "end_time": "2025-05-04T18:41:09.779515700Z",
     "start_time": "2025-05-04T18:41:09.700398400Z"
    }
   },
   "id": "189e8e554b5974b8"
  },
  {
   "cell_type": "code",
   "execution_count": 89,
   "outputs": [
    {
     "name": "stdout",
     "output_type": "stream",
     "text": [
      "Accuracy: 0.9638 ± 0.0248\n",
      "Precision: 0.8036 ± 0.1633\n",
      "Recall: 0.7658 ± 0.1851\n",
      "F1 Score: 0.7787 ± 0.1633\n",
      "AUC: 0.8739 ± 0.0949\n"
     ]
    }
   ],
   "source": [
    "#Random Forest\n",
    "ResultsRFCsX2, STDResultsRFCsX2= evaluate_random_forest_with_kfold(X_train_CsX2Ft, y_train, k=10)\n"
   ],
   "metadata": {
    "collapsed": false,
    "ExecuteTime": {
     "end_time": "2025-05-04T18:41:11.554401900Z",
     "start_time": "2025-05-04T18:41:09.779515700Z"
    }
   },
   "id": "eb6a1ed61ec3ee98"
  },
  {
   "cell_type": "code",
   "execution_count": 90,
   "outputs": [
    {
     "name": "stdout",
     "output_type": "stream",
     "text": [
      "\u001B[1m3/3\u001B[0m \u001B[32m━━━━━━━━━━━━━━━━━━━━\u001B[0m\u001B[37m\u001B[0m \u001B[1m0s\u001B[0m 14ms/step\n",
      "\u001B[1m3/3\u001B[0m \u001B[32m━━━━━━━━━━━━━━━━━━━━\u001B[0m\u001B[37m\u001B[0m \u001B[1m0s\u001B[0m 16ms/step\n",
      "\u001B[1m3/3\u001B[0m \u001B[32m━━━━━━━━━━━━━━━━━━━━\u001B[0m\u001B[37m\u001B[0m \u001B[1m0s\u001B[0m 16ms/step\n",
      "\u001B[1m3/3\u001B[0m \u001B[32m━━━━━━━━━━━━━━━━━━━━\u001B[0m\u001B[37m\u001B[0m \u001B[1m0s\u001B[0m 8ms/step \n",
      "\u001B[1m3/3\u001B[0m \u001B[32m━━━━━━━━━━━━━━━━━━━━\u001B[0m\u001B[37m\u001B[0m \u001B[1m0s\u001B[0m 8ms/step \n",
      "\u001B[1m3/3\u001B[0m \u001B[32m━━━━━━━━━━━━━━━━━━━━\u001B[0m\u001B[37m\u001B[0m \u001B[1m0s\u001B[0m 8ms/step \n",
      "\u001B[1m3/3\u001B[0m \u001B[32m━━━━━━━━━━━━━━━━━━━━\u001B[0m\u001B[37m\u001B[0m \u001B[1m0s\u001B[0m 8ms/step \n",
      "\u001B[1m3/3\u001B[0m \u001B[32m━━━━━━━━━━━━━━━━━━━━\u001B[0m\u001B[37m\u001B[0m \u001B[1m0s\u001B[0m 16ms/step\n",
      "\u001B[1m3/3\u001B[0m \u001B[32m━━━━━━━━━━━━━━━━━━━━\u001B[0m\u001B[37m\u001B[0m \u001B[1m0s\u001B[0m 8ms/step \n",
      "\u001B[1m3/3\u001B[0m \u001B[32m━━━━━━━━━━━━━━━━━━━━\u001B[0m\u001B[37m\u001B[0m \u001B[1m0s\u001B[0m 8ms/step \n",
      "Accuracy: 0.9650 ± 0.0240\n",
      "Precision: 0.8282 ± 0.1616\n",
      "Recall: 0.7734 ± 0.1507\n",
      "F1 Score: 0.7919 ± 0.1354\n",
      "AUC: 0.9815 ± 0.0157\n"
     ]
    }
   ],
   "source": [
    "#Neural Network\n",
    "ResultsNNCsX2, STDResultsNNCsX2= evaluate_neural_network_with_kfold(X_train_CsX2Ft, y_train, k=10)"
   ],
   "metadata": {
    "collapsed": false,
    "ExecuteTime": {
     "end_time": "2025-05-04T18:41:50.922421400Z",
     "start_time": "2025-05-04T18:41:11.554401900Z"
    }
   },
   "id": "e3236670599c05d4"
  },
  {
   "cell_type": "markdown",
   "source": [
    "### CS ReliefF\n"
   ],
   "metadata": {
    "collapsed": false
   },
   "id": "4234c5e1df936050"
  },
  {
   "cell_type": "code",
   "execution_count": 91,
   "outputs": [
    {
     "name": "stdout",
     "output_type": "stream",
     "text": [
      "Accuracy: 0.9475 ± 0.0277\n",
      "Precision: 0.6622 ± 0.1544\n",
      "Recall: 0.8566 ± 0.1471\n",
      "F1 Score: 0.7421 ± 0.1401\n",
      "AUC: 0.9064 ± 0.0796\n"
     ]
    }
   ],
   "source": [
    "# Naive Bayes\n",
    "ResultsNBCsReliefF, STDResultsNBCsReliefF= evaluate_naive_bayes_with_kfold(X_train_CsReliefFFt, y_train, k=10)\n"
   ],
   "metadata": {
    "collapsed": false,
    "ExecuteTime": {
     "end_time": "2025-05-04T18:41:51.002298800Z",
     "start_time": "2025-05-04T18:41:50.922421400Z"
    }
   },
   "id": "757a7567f8545430"
  },
  {
   "cell_type": "code",
   "execution_count": 92,
   "outputs": [
    {
     "name": "stdout",
     "output_type": "stream",
     "text": [
      "Accuracy: 0.9615 ± 0.0149\n",
      "Precision: 0.8193 ± 0.1579\n",
      "Recall: 0.7191 ± 0.1221\n",
      "F1 Score: 0.7619 ± 0.1247\n",
      "AUC: 0.8518 ± 0.0630\n"
     ]
    }
   ],
   "source": [
    "#Random Forest\n",
    "ResultsRFCsReliefF, STDResultsRFCsReliefF= evaluate_random_forest_with_kfold(X_train_CsReliefFFt, y_train, k=10)\n"
   ],
   "metadata": {
    "collapsed": false,
    "ExecuteTime": {
     "end_time": "2025-05-04T18:41:52.812662600Z",
     "start_time": "2025-05-04T18:41:51.002298800Z"
    }
   },
   "id": "e534b1fbb08a48ae"
  },
  {
   "cell_type": "code",
   "execution_count": 93,
   "outputs": [
    {
     "name": "stdout",
     "output_type": "stream",
     "text": [
      "\u001B[1m3/3\u001B[0m \u001B[32m━━━━━━━━━━━━━━━━━━━━\u001B[0m\u001B[37m\u001B[0m \u001B[1m0s\u001B[0m 8ms/step \n",
      "\u001B[1m3/3\u001B[0m \u001B[32m━━━━━━━━━━━━━━━━━━━━\u001B[0m\u001B[37m\u001B[0m \u001B[1m0s\u001B[0m 16ms/step\n",
      "\u001B[1m3/3\u001B[0m \u001B[32m━━━━━━━━━━━━━━━━━━━━\u001B[0m\u001B[37m\u001B[0m \u001B[1m0s\u001B[0m 15ms/step\n",
      "\u001B[1m3/3\u001B[0m \u001B[32m━━━━━━━━━━━━━━━━━━━━\u001B[0m\u001B[37m\u001B[0m \u001B[1m0s\u001B[0m 9ms/step \n",
      "\u001B[1m3/3\u001B[0m \u001B[32m━━━━━━━━━━━━━━━━━━━━\u001B[0m\u001B[37m\u001B[0m \u001B[1m0s\u001B[0m 9ms/step \n",
      "\u001B[1m3/3\u001B[0m \u001B[32m━━━━━━━━━━━━━━━━━━━━\u001B[0m\u001B[37m\u001B[0m \u001B[1m0s\u001B[0m 15ms/step\n",
      "\u001B[1m3/3\u001B[0m \u001B[32m━━━━━━━━━━━━━━━━━━━━\u001B[0m\u001B[37m\u001B[0m \u001B[1m0s\u001B[0m 8ms/step \n",
      "\u001B[1m3/3\u001B[0m \u001B[32m━━━━━━━━━━━━━━━━━━━━\u001B[0m\u001B[37m\u001B[0m \u001B[1m0s\u001B[0m 7ms/step \n",
      "\u001B[1m3/3\u001B[0m \u001B[32m━━━━━━━━━━━━━━━━━━━━\u001B[0m\u001B[37m\u001B[0m \u001B[1m0s\u001B[0m 14ms/step\n",
      "\u001B[1m3/3\u001B[0m \u001B[32m━━━━━━━━━━━━━━━━━━━━\u001B[0m\u001B[37m\u001B[0m \u001B[1m0s\u001B[0m 5ms/step \n",
      "Accuracy: 0.9673 ± 0.0146\n",
      "Precision: 0.8214 ± 0.1279\n",
      "Recall: 0.7754 ± 0.1803\n",
      "F1 Score: 0.7901 ± 0.1453\n",
      "AUC: 0.9833 ± 0.0175\n"
     ]
    }
   ],
   "source": [
    "#Neural Network\n",
    "ResultsNNCsReliefF, STDResultsNNCsReliefF= evaluate_neural_network_with_kfold(X_train_CsReliefFFt, y_train, k=10)\n"
   ],
   "metadata": {
    "collapsed": false,
    "ExecuteTime": {
     "end_time": "2025-05-04T18:42:31.583816Z",
     "start_time": "2025-05-04T18:41:52.812662600Z"
    }
   },
   "id": "aaccdac7e83e1a4f"
  },
  {
   "cell_type": "markdown",
   "source": [
    "# ALL FEATURES"
   ],
   "metadata": {
    "collapsed": false
   },
   "id": "ca6f778f493e8774"
  },
  {
   "cell_type": "code",
   "execution_count": 94,
   "outputs": [
    {
     "name": "stdout",
     "output_type": "stream",
     "text": [
      "Accuracy: 0.9394 ± 0.0385\n",
      "Precision: 0.6300 ± 0.1821\n",
      "Recall: 0.9002 ± 0.1494\n",
      "F1 Score: 0.7337 ± 0.1610\n",
      "AUC: 0.9218 ± 0.0863\n"
     ]
    }
   ],
   "source": [
    "# Naive Bayes\n",
    "ResultsNBAll, STDResultsNBAll= evaluate_naive_bayes_with_kfold(X_train, y_train, k=10)"
   ],
   "metadata": {
    "collapsed": false,
    "ExecuteTime": {
     "end_time": "2025-05-04T19:56:15.465616Z",
     "start_time": "2025-05-04T19:56:15.245967500Z"
    }
   },
   "id": "7bc77777929d6ea7"
  },
  {
   "cell_type": "code",
   "execution_count": 95,
   "outputs": [
    {
     "name": "stdout",
     "output_type": "stream",
     "text": [
      "Accuracy: 0.9673 ± 0.0187\n",
      "Precision: 0.8509 ± 0.1043\n",
      "Recall: 0.7648 ± 0.1249\n",
      "F1 Score: 0.8026 ± 0.1062\n",
      "AUC: 0.8759 ± 0.0648\n"
     ]
    }
   ],
   "source": [
    "#Random Forest\n",
    "ResultsRFAll, STDResultsRFAll= evaluate_random_forest_with_kfold(X_train, y_train, k=10)\n"
   ],
   "metadata": {
    "collapsed": false,
    "ExecuteTime": {
     "end_time": "2025-05-04T19:56:21.182796500Z",
     "start_time": "2025-05-04T19:56:17.744436700Z"
    }
   },
   "id": "29f7635b57eb5308"
  },
  {
   "cell_type": "code",
   "execution_count": 96,
   "outputs": [
    {
     "name": "stdout",
     "output_type": "stream",
     "text": [
      "\u001B[1m3/3\u001B[0m \u001B[32m━━━━━━━━━━━━━━━━━━━━\u001B[0m\u001B[37m\u001B[0m \u001B[1m0s\u001B[0m 10ms/step\n",
      "\u001B[1m3/3\u001B[0m \u001B[32m━━━━━━━━━━━━━━━━━━━━\u001B[0m\u001B[37m\u001B[0m \u001B[1m0s\u001B[0m 10ms/step\n",
      "\u001B[1m3/3\u001B[0m \u001B[32m━━━━━━━━━━━━━━━━━━━━\u001B[0m\u001B[37m\u001B[0m \u001B[1m0s\u001B[0m 11ms/step\n",
      "\u001B[1m3/3\u001B[0m \u001B[32m━━━━━━━━━━━━━━━━━━━━\u001B[0m\u001B[37m\u001B[0m \u001B[1m0s\u001B[0m 10ms/step\n",
      "\u001B[1m3/3\u001B[0m \u001B[32m━━━━━━━━━━━━━━━━━━━━\u001B[0m\u001B[37m\u001B[0m \u001B[1m0s\u001B[0m 11ms/step\n",
      "\u001B[1m3/3\u001B[0m \u001B[32m━━━━━━━━━━━━━━━━━━━━\u001B[0m\u001B[37m\u001B[0m \u001B[1m0s\u001B[0m 7ms/step \n",
      "\u001B[1m3/3\u001B[0m \u001B[32m━━━━━━━━━━━━━━━━━━━━\u001B[0m\u001B[37m\u001B[0m \u001B[1m0s\u001B[0m 16ms/step\n",
      "\u001B[1m3/3\u001B[0m \u001B[32m━━━━━━━━━━━━━━━━━━━━\u001B[0m\u001B[37m\u001B[0m \u001B[1m0s\u001B[0m 10ms/step\n",
      "\u001B[1m3/3\u001B[0m \u001B[32m━━━━━━━━━━━━━━━━━━━━\u001B[0m\u001B[37m\u001B[0m \u001B[1m0s\u001B[0m 11ms/step\n",
      "\u001B[1m3/3\u001B[0m \u001B[32m━━━━━━━━━━━━━━━━━━━━\u001B[0m\u001B[37m\u001B[0m \u001B[1m0s\u001B[0m 14ms/step\n",
      "Accuracy: 0.9708 ± 0.0167\n",
      "Precision: 0.8587 ± 0.1263\n",
      "Recall: 0.8188 ± 0.1548\n",
      "F1 Score: 0.8254 ± 0.1042\n",
      "AUC: 0.9887 ± 0.0099\n"
     ]
    }
   ],
   "source": [
    "#Neural Network\n",
    "ResultsNNAll, STDResultsNNAll= evaluate_neural_network_with_kfold(X_train, y_train, k=10)   \n"
   ],
   "metadata": {
    "collapsed": false,
    "ExecuteTime": {
     "end_time": "2025-05-04T19:57:03.228483400Z",
     "start_time": "2025-05-04T19:56:21.183797700Z"
    }
   },
   "id": "c859b43de6e83980"
  },
  {
   "cell_type": "markdown",
   "source": [
    "### Save Results\n",
    "\n"
   ],
   "metadata": {
    "collapsed": false
   },
   "id": "af8973b6b711abc8"
  },
  {
   "cell_type": "code",
   "execution_count": 98,
   "outputs": [],
   "source": [
    "import pickle\n",
    "import os\n",
    "\n",
    "# Ensure the output directory exists\n",
    "os.makedirs('Results', exist_ok=True)\n",
    "\n",
    "# Group results logically\n",
    "results = [\n",
    "    # GAMI\n",
    "    ResultsNBGAMI, ResultsRFGAMI, ResultsNNGAMI,\n",
    "    # GAX2\n",
    "    ResultsNBGAX2, ResultsRFGAX2, ResultsNNGAX2,\n",
    "    # GAReliefF\n",
    "    ResultsNBGAReliefF, ResultsRFGAReliefF, ResultsNNGAReliefF,\n",
    "    # CsMI\n",
    "    ResultsNBCSMI, ResultsRFCsMI, ResultsNNCsMI,\n",
    "    # CsX2\n",
    "    ResultsNBCSX2, ResultsRFCsX2, ResultsNNCsX2,\n",
    "    # CsReliefF\n",
    "    ResultsNBCsReliefF, ResultsRFCsReliefF, ResultsNNCsReliefF,\n",
    "    # All features\n",
    "    ResultsNBAll, ResultsRFAll, ResultsNNAll\n",
    "]\n",
    "\n",
    "# Save to file\n",
    "with open('Results/Results.pkl', 'wb') as f:\n",
    "    pickle.dump(results, f)\n"
   ],
   "metadata": {
    "collapsed": false,
    "ExecuteTime": {
     "end_time": "2025-05-04T21:37:29.138625600Z",
     "start_time": "2025-05-04T21:37:28.913219300Z"
    }
   },
   "id": "c0770ca165256f37"
  },
  {
   "cell_type": "markdown",
   "source": [
    "# Validation\n"
   ],
   "metadata": {
    "collapsed": false
   },
   "id": "7b855cee35040444"
  },
  {
   "cell_type": "markdown",
   "source": [
    "run with holdout"
   ],
   "metadata": {
    "collapsed": false
   },
   "id": "d169475d3fe69717"
  },
  {
   "cell_type": "code",
   "execution_count": 132,
   "outputs": [],
   "source": [
    "X_test_GaMiFt = seleccionar_caracteristicas(X_test,GaMiFtIndices)\n",
    "X_test_GaX2Ft = seleccionar_caracteristicas(X_test, GaX2FtIndices)\n",
    "X_test_GaReliefFFt = seleccionar_caracteristicas(X_test, GaReliefFFtIndices)\n",
    "X_test_CsMiFt = seleccionar_caracteristicas(X_test,CsMiFtIndices)\n",
    "X_test_CsX2Ft = seleccionar_caracteristicas(X_test, CsX2FtIndices)\n",
    "X_test_CsReliefFFt = seleccionar_caracteristicas(X_test, CsReliefFFtIndices)\n",
    "\n"
   ],
   "metadata": {
    "collapsed": false,
    "ExecuteTime": {
     "end_time": "2025-05-04T23:43:34.582913700Z",
     "start_time": "2025-05-04T23:43:34.493303500Z"
    }
   },
   "id": "dc64dcd80835067a"
  },
  {
   "cell_type": "markdown",
   "source": [
    "## GA Mutal Information"
   ],
   "metadata": {
    "collapsed": false
   },
   "id": "fce16d18c153cccf"
  },
  {
   "cell_type": "code",
   "execution_count": 133,
   "outputs": [
    {
     "name": "stdout",
     "output_type": "stream",
     "text": [
      "Accuracy: 0.9582 ± 0.0000\n",
      "Precision: 0.6667 ± 0.0000\n",
      "Recall: 0.7368 ± 0.0000\n",
      "F1 Score: 0.7000 ± 0.0000\n",
      "AUC: 0.8554 ± 0.0000\n"
     ]
    }
   ],
   "source": [
    "evaluate_naive_bayes_with_kfold(X_train_GaMiFt, y_train, k=1, holdout = X_test_GaMiFt, y_test = y_test)\n"
   ],
   "metadata": {
    "collapsed": false,
    "ExecuteTime": {
     "end_time": "2025-05-04T23:43:34.789120Z",
     "start_time": "2025-05-04T23:43:34.503152Z"
    }
   },
   "id": "7d619c94f7270b20"
  },
  {
   "cell_type": "code",
   "execution_count": 134,
   "outputs": [
    {
     "name": "stdout",
     "output_type": "stream",
     "text": [
      "Accuracy: 0.9652 ± 0.0000\n",
      "Precision: 0.7647 ± 0.0000\n",
      "Recall: 0.6842 ± 0.0000\n",
      "F1 Score: 0.7222 ± 0.0000\n",
      "AUC: 0.8346 ± 0.0000\n"
     ]
    }
   ],
   "source": [
    "evaluate_random_forest_with_kfold(X_train_GaMiFt, y_train, k=1, holdout = X_test_GaMiFt, y_test = y_test)"
   ],
   "metadata": {
    "collapsed": false,
    "ExecuteTime": {
     "end_time": "2025-05-04T23:43:34.856247Z",
     "start_time": "2025-05-04T23:43:34.577291Z"
    }
   },
   "id": "32cbe24ec38c66a8"
  },
  {
   "cell_type": "code",
   "execution_count": 135,
   "outputs": [
    {
     "name": "stdout",
     "output_type": "stream",
     "text": [
      "\u001B[1m9/9\u001B[0m \u001B[32m━━━━━━━━━━━━━━━━━━━━\u001B[0m\u001B[37m\u001B[0m \u001B[1m0s\u001B[0m 3ms/step \n",
      "Accuracy: 0.9547 ± 0.0000\n",
      "Precision: 0.6500 ± 0.0000\n",
      "Recall: 0.6842 ± 0.0000\n",
      "F1 Score: 0.6667 ± 0.0000\n",
      "AUC: 0.9711 ± 0.0000\n"
     ]
    }
   ],
   "source": [
    "evaluate_neural_network_with_kfold(X_train_GaMiFt, y_train, k=1, holdout = X_test_GaMiFt, y_test = y_test)"
   ],
   "metadata": {
    "collapsed": false,
    "ExecuteTime": {
     "end_time": "2025-05-04T23:43:39.257576Z",
     "start_time": "2025-05-04T23:43:34.843541400Z"
    }
   },
   "id": "4357d89a8c2436a7"
  },
  {
   "cell_type": "markdown",
   "source": [
    "## GA X2"
   ],
   "metadata": {
    "collapsed": false
   },
   "id": "63f9a14c74e3edd2"
  },
  {
   "cell_type": "code",
   "execution_count": 136,
   "outputs": [
    {
     "name": "stdout",
     "output_type": "stream",
     "text": [
      "Accuracy: 0.9512 ± 0.0000\n",
      "Precision: 0.6000 ± 0.0000\n",
      "Recall: 0.7895 ± 0.0000\n",
      "F1 Score: 0.6818 ± 0.0000\n",
      "AUC: 0.8761 ± 0.0000\n"
     ]
    }
   ],
   "source": [
    "evaluate_naive_bayes_with_kfold(X_train_GaX2Ft, y_train, k=1, holdout = X_test_GaX2Ft, y_test = y_test)"
   ],
   "metadata": {
    "collapsed": false,
    "ExecuteTime": {
     "end_time": "2025-05-04T23:43:39.257576Z",
     "start_time": "2025-05-04T23:43:39.232063900Z"
    }
   },
   "id": "5e756cad66093b9"
  },
  {
   "cell_type": "code",
   "execution_count": 137,
   "outputs": [
    {
     "name": "stdout",
     "output_type": "stream",
     "text": [
      "Accuracy: 0.9686 ± 0.0000\n",
      "Precision: 0.8125 ± 0.0000\n",
      "Recall: 0.6842 ± 0.0000\n",
      "F1 Score: 0.7429 ± 0.0000\n",
      "AUC: 0.8365 ± 0.0000\n"
     ]
    }
   ],
   "source": [
    "evaluate_random_forest_with_kfold(X_train_GaX2Ft, y_train, k=1, holdout = X_test_GaX2Ft, y_test = y_test)"
   ],
   "metadata": {
    "collapsed": false,
    "ExecuteTime": {
     "end_time": "2025-05-04T23:43:39.524136700Z",
     "start_time": "2025-05-04T23:43:39.240935700Z"
    }
   },
   "id": "8d8bc71bfdbe4d22"
  },
  {
   "cell_type": "code",
   "execution_count": 138,
   "outputs": [
    {
     "name": "stdout",
     "output_type": "stream",
     "text": [
      "\u001B[1m9/9\u001B[0m \u001B[32m━━━━━━━━━━━━━━━━━━━━\u001B[0m\u001B[37m\u001B[0m \u001B[1m0s\u001B[0m 4ms/step \n",
      "Accuracy: 0.9721 ± 0.0000\n",
      "Precision: 0.7895 ± 0.0000\n",
      "Recall: 0.7895 ± 0.0000\n",
      "F1 Score: 0.7895 ± 0.0000\n",
      "AUC: 0.9847 ± 0.0000\n"
     ]
    }
   ],
   "source": [
    "evaluate_neural_network_with_kfold(X_train_GaX2Ft, y_train, k=1, holdout = X_test_GaX2Ft, y_test = y_test)"
   ],
   "metadata": {
    "collapsed": false,
    "ExecuteTime": {
     "end_time": "2025-05-04T23:43:43.407905700Z",
     "start_time": "2025-05-04T23:43:39.524136700Z"
    }
   },
   "id": "738b5ba16f95d5e8"
  },
  {
   "cell_type": "markdown",
   "source": [
    "## GA ReliefF\n"
   ],
   "metadata": {
    "collapsed": false
   },
   "id": "4e4e7e4b2852b764"
  },
  {
   "cell_type": "code",
   "execution_count": 139,
   "outputs": [
    {
     "name": "stdout",
     "output_type": "stream",
     "text": [
      "Accuracy: 0.9512 ± 0.0000\n",
      "Precision: 0.6190 ± 0.0000\n",
      "Recall: 0.6842 ± 0.0000\n",
      "F1 Score: 0.6500 ± 0.0000\n",
      "AUC: 0.8272 ± 0.0000\n"
     ]
    }
   ],
   "source": [
    "evaluate_naive_bayes_with_kfold(X_train_GaReliefFFt, y_train, k=1, holdout = X_test_GaReliefFFt, y_test = y_test)"
   ],
   "metadata": {
    "collapsed": false,
    "ExecuteTime": {
     "end_time": "2025-05-04T23:43:43.416742100Z",
     "start_time": "2025-05-04T23:43:43.404522100Z"
    }
   },
   "id": "e8af7913b28b022"
  },
  {
   "cell_type": "code",
   "execution_count": 140,
   "outputs": [
    {
     "name": "stdout",
     "output_type": "stream",
     "text": [
      "Accuracy: 0.9582 ± 0.0000\n",
      "Precision: 0.7059 ± 0.0000\n",
      "Recall: 0.6316 ± 0.0000\n",
      "F1 Score: 0.6667 ± 0.0000\n",
      "AUC: 0.8065 ± 0.0000\n"
     ]
    }
   ],
   "source": [
    "evaluate_random_forest_with_kfold(X_train_GaReliefFFt, y_train, k=1, holdout = X_test_GaReliefFFt, y_test = y_test)"
   ],
   "metadata": {
    "collapsed": false,
    "ExecuteTime": {
     "end_time": "2025-05-04T23:43:43.702902100Z",
     "start_time": "2025-05-04T23:43:43.416742100Z"
    }
   },
   "id": "38190411e06a2d25"
  },
  {
   "cell_type": "code",
   "execution_count": 141,
   "outputs": [
    {
     "name": "stdout",
     "output_type": "stream",
     "text": [
      "\u001B[1m9/9\u001B[0m \u001B[32m━━━━━━━━━━━━━━━━━━━━\u001B[0m\u001B[37m\u001B[0m \u001B[1m0s\u001B[0m 4ms/step \n",
      "Accuracy: 0.9512 ± 0.0000\n",
      "Precision: 0.6667 ± 0.0000\n",
      "Recall: 0.5263 ± 0.0000\n",
      "F1 Score: 0.5882 ± 0.0000\n",
      "AUC: 0.9703 ± 0.0000\n"
     ]
    }
   ],
   "source": [
    "evaluate_neural_network_with_kfold(X_train_GaReliefFFt, y_train, k=1, holdout = X_test_GaReliefFFt, y_test = y_test)"
   ],
   "metadata": {
    "collapsed": false,
    "ExecuteTime": {
     "end_time": "2025-05-04T23:43:47.623039100Z",
     "start_time": "2025-05-04T23:43:43.700056200Z"
    }
   },
   "id": "7505592781c2b55d"
  },
  {
   "cell_type": "markdown",
   "source": [
    "## CS Mutual Information"
   ],
   "metadata": {
    "collapsed": false
   },
   "id": "38a70562fd9255a4"
  },
  {
   "cell_type": "code",
   "execution_count": 142,
   "outputs": [
    {
     "name": "stdout",
     "output_type": "stream",
     "text": [
      "Accuracy: 0.9652 ± 0.0000\n",
      "Precision: 0.7143 ± 0.0000\n",
      "Recall: 0.7895 ± 0.0000\n",
      "F1 Score: 0.7500 ± 0.0000\n",
      "AUC: 0.8835 ± 0.0000\n"
     ]
    }
   ],
   "source": [
    "evaluate_naive_bayes_with_kfold(X_train_CsMiFt, y_train, k=1, holdout = X_test_CsMiFt, y_test = y_test)"
   ],
   "metadata": {
    "collapsed": false,
    "ExecuteTime": {
     "end_time": "2025-05-04T23:43:47.627760300Z",
     "start_time": "2025-05-04T23:43:47.597430500Z"
    }
   },
   "id": "c667a4d2ad1b067e"
  },
  {
   "cell_type": "code",
   "execution_count": 143,
   "outputs": [
    {
     "name": "stdout",
     "output_type": "stream",
     "text": [
      "Accuracy: 0.9686 ± 0.0000\n",
      "Precision: 0.8125 ± 0.0000\n",
      "Recall: 0.6842 ± 0.0000\n",
      "F1 Score: 0.7429 ± 0.0000\n",
      "AUC: 0.8365 ± 0.0000\n"
     ]
    }
   ],
   "source": [
    "evaluate_random_forest_with_kfold(X_train_CsMiFt, y_train, k=1, holdout = X_test_CsMiFt, y_test = y_test)"
   ],
   "metadata": {
    "collapsed": false,
    "ExecuteTime": {
     "end_time": "2025-05-04T23:43:47.869836900Z",
     "start_time": "2025-05-04T23:43:47.609797Z"
    }
   },
   "id": "58a4524474993972"
  },
  {
   "cell_type": "code",
   "execution_count": 144,
   "outputs": [
    {
     "name": "stdout",
     "output_type": "stream",
     "text": [
      "\u001B[1m9/9\u001B[0m \u001B[32m━━━━━━━━━━━━━━━━━━━━\u001B[0m\u001B[37m\u001B[0m \u001B[1m0s\u001B[0m 4ms/step \n",
      "Accuracy: 0.9617 ± 0.0000\n",
      "Precision: 0.7500 ± 0.0000\n",
      "Recall: 0.6316 ± 0.0000\n",
      "F1 Score: 0.6857 ± 0.0000\n",
      "AUC: 0.9725 ± 0.0000\n"
     ]
    }
   ],
   "source": [
    "evaluate_neural_network_with_kfold(X_train_CsMiFt, y_train, k=1, holdout = X_test_CsMiFt, y_test = y_test)"
   ],
   "metadata": {
    "collapsed": false,
    "ExecuteTime": {
     "end_time": "2025-05-04T23:43:51.811212100Z",
     "start_time": "2025-05-04T23:43:47.869836900Z"
    }
   },
   "id": "3c6a85b5ba23a0da"
  },
  {
   "cell_type": "markdown",
   "source": [
    "## CS X2"
   ],
   "metadata": {
    "collapsed": false
   },
   "id": "271f39b4c13f4ab4"
  },
  {
   "cell_type": "code",
   "execution_count": 145,
   "outputs": [
    {
     "name": "stdout",
     "output_type": "stream",
     "text": [
      "Accuracy: 0.9582 ± 0.0000\n",
      "Precision: 0.6667 ± 0.0000\n",
      "Recall: 0.7368 ± 0.0000\n",
      "F1 Score: 0.7000 ± 0.0000\n",
      "AUC: 0.8554 ± 0.0000\n"
     ]
    }
   ],
   "source": [
    "evaluate_naive_bayes_with_kfold(X_train_CsX2Ft, y_train, k=1, holdout = X_test_CsX2Ft, y_test = y_test)"
   ],
   "metadata": {
    "collapsed": false,
    "ExecuteTime": {
     "end_time": "2025-05-04T23:43:51.812906100Z",
     "start_time": "2025-05-04T23:43:51.784812200Z"
    }
   },
   "id": "57dd54e5d85c4318"
  },
  {
   "cell_type": "code",
   "execution_count": 146,
   "outputs": [
    {
     "name": "stdout",
     "output_type": "stream",
     "text": [
      "Accuracy: 0.9617 ± 0.0000\n",
      "Precision: 0.7500 ± 0.0000\n",
      "Recall: 0.6316 ± 0.0000\n",
      "F1 Score: 0.6857 ± 0.0000\n",
      "AUC: 0.8083 ± 0.0000\n"
     ]
    }
   ],
   "source": [
    "evaluate_random_forest_with_kfold(X_train_CsX2Ft, y_train, k=1, holdout = X_test_CsX2Ft, y_test = y_test)"
   ],
   "metadata": {
    "collapsed": false,
    "ExecuteTime": {
     "end_time": "2025-05-04T23:43:52.045487200Z",
     "start_time": "2025-05-04T23:43:51.796665200Z"
    }
   },
   "id": "734231a2d55b2020"
  },
  {
   "cell_type": "code",
   "execution_count": 147,
   "outputs": [
    {
     "name": "stdout",
     "output_type": "stream",
     "text": [
      "\u001B[1m9/9\u001B[0m \u001B[32m━━━━━━━━━━━━━━━━━━━━\u001B[0m\u001B[37m\u001B[0m \u001B[1m0s\u001B[0m 2ms/step \n",
      "Accuracy: 0.9582 ± 0.0000\n",
      "Precision: 0.7059 ± 0.0000\n",
      "Recall: 0.6316 ± 0.0000\n",
      "F1 Score: 0.6667 ± 0.0000\n",
      "AUC: 0.9654 ± 0.0000\n"
     ]
    }
   ],
   "source": [
    "evaluate_neural_network_with_kfold(X_train_CsX2Ft, y_train, k=1, holdout = X_test_CsX2Ft, y_test = y_test)"
   ],
   "metadata": {
    "collapsed": false,
    "ExecuteTime": {
     "end_time": "2025-05-04T23:43:55.998573300Z",
     "start_time": "2025-05-04T23:43:52.045487200Z"
    }
   },
   "id": "68c0049d438a51a8"
  },
  {
   "cell_type": "markdown",
   "source": [
    "## CS ReliefF"
   ],
   "metadata": {
    "collapsed": false
   },
   "id": "d1d3e28961c6bdd3"
  },
  {
   "cell_type": "code",
   "execution_count": 148,
   "outputs": [
    {
     "name": "stdout",
     "output_type": "stream",
     "text": [
      "Accuracy: 0.9582 ± 0.0000\n",
      "Precision: 0.6667 ± 0.0000\n",
      "Recall: 0.7368 ± 0.0000\n",
      "F1 Score: 0.7000 ± 0.0000\n",
      "AUC: 0.8554 ± 0.0000\n"
     ]
    }
   ],
   "source": [
    "evaluate_naive_bayes_with_kfold(X_train_CsReliefFFt, y_train, k=1, holdout = X_test_CsReliefFFt, y_test = y_test)"
   ],
   "metadata": {
    "collapsed": false,
    "ExecuteTime": {
     "end_time": "2025-05-04T23:43:55.998573300Z",
     "start_time": "2025-05-04T23:43:55.981076900Z"
    }
   },
   "id": "d1b2e40eb7b5ebd8"
  },
  {
   "cell_type": "code",
   "execution_count": 149,
   "outputs": [
    {
     "name": "stdout",
     "output_type": "stream",
     "text": [
      "Accuracy: 0.9617 ± 0.0000\n",
      "Precision: 0.7500 ± 0.0000\n",
      "Recall: 0.6316 ± 0.0000\n",
      "F1 Score: 0.6857 ± 0.0000\n",
      "AUC: 0.8083 ± 0.0000\n"
     ]
    }
   ],
   "source": [
    "evaluate_random_forest_with_kfold(X_train_CsReliefFFt, y_train, k=1, holdout = X_test_CsReliefFFt, y_test = y_test)"
   ],
   "metadata": {
    "collapsed": false,
    "ExecuteTime": {
     "end_time": "2025-05-04T23:43:56.251352700Z",
     "start_time": "2025-05-04T23:43:55.993635800Z"
    }
   },
   "id": "b1fda52b26e0f472"
  },
  {
   "cell_type": "code",
   "execution_count": 150,
   "outputs": [
    {
     "name": "stdout",
     "output_type": "stream",
     "text": [
      "\u001B[1m9/9\u001B[0m \u001B[32m━━━━━━━━━━━━━━━━━━━━\u001B[0m\u001B[37m\u001B[0m \u001B[1m0s\u001B[0m 2ms/step \n",
      "Accuracy: 0.9582 ± 0.0000\n",
      "Precision: 0.7059 ± 0.0000\n",
      "Recall: 0.6316 ± 0.0000\n",
      "F1 Score: 0.6667 ± 0.0000\n",
      "AUC: 0.9747 ± 0.0000\n"
     ]
    }
   ],
   "source": [
    "evaluate_neural_network_with_kfold(X_train_CsReliefFFt, y_train, k=1, holdout = X_test_CsReliefFFt, y_test = y_test)"
   ],
   "metadata": {
    "collapsed": false,
    "ExecuteTime": {
     "end_time": "2025-05-04T23:44:00.188100300Z",
     "start_time": "2025-05-04T23:43:56.252437Z"
    }
   },
   "id": "d03898cc7401142d"
  }
 ],
 "metadata": {
  "kernelspec": {
   "display_name": "Python 3",
   "language": "python",
   "name": "python3"
  },
  "language_info": {
   "codemirror_mode": {
    "name": "ipython",
    "version": 2
   },
   "file_extension": ".py",
   "mimetype": "text/x-python",
   "name": "python",
   "nbconvert_exporter": "python",
   "pygments_lexer": "ipython2",
   "version": "2.7.6"
  }
 },
 "nbformat": 4,
 "nbformat_minor": 5
}

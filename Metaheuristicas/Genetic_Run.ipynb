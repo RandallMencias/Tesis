{
 "cells": [
  {
   "cell_type": "code",
   "execution_count": 10,
   "id": "initial_id",
   "metadata": {
    "ExecuteTime": {
     "end_time": "2024-09-25T16:27:17.055156Z",
     "start_time": "2024-09-25T16:27:17.048156Z"
    },
    "collapsed": true
   },
   "outputs": [],
   "source": []
  },
  {
   "cell_type": "code",
   "execution_count": 11,
   "id": "b3bf4e2f337876d0",
   "metadata": {
    "ExecuteTime": {
     "end_time": "2024-09-25T16:27:17.086664Z",
     "start_time": "2024-09-25T16:27:17.072155Z"
    }
   },
   "outputs": [],
   "source": [
    "import numpy as np\n",
    "from Metaheuristicas.fitness_functions import mutual_information_eval\n",
    "from Metaheuristicas.fitness_functions import relieff_eval\n",
    "from fitness_functions import chi2_eval"
   ]
  },
  {
   "cell_type": "code",
   "execution_count": 12,
   "id": "1af9109ecff68ec5",
   "metadata": {
    "ExecuteTime": {
     "end_time": "2024-09-25T16:27:17.163178Z",
     "start_time": "2024-09-25T16:27:17.096665Z"
    }
   },
   "outputs": [],
   "source": [
    "from Metaheuristicas.fitness_functions import load_and_preprocess_data\n",
    "\n",
    "X, y = load_and_preprocess_data(filename='Resources/SeisBenchV1_v1_1.json')\n",
    "\n"
   ]
  },
  {
   "cell_type": "code",
   "execution_count": 13,
   "id": "1336b716ae1981a3",
   "metadata": {
    "ExecuteTime": {
     "end_time": "2024-09-25T16:27:17.178693Z",
     "start_time": "2024-09-25T16:27:17.164178Z"
    }
   },
   "outputs": [],
   "source": [
    "Mutual_Information = []\n",
    "Chi2 = []\n",
    "ReliefF = []"
   ]
  },
  {
   "cell_type": "markdown",
   "id": "b76d21b8a0f0ec3e",
   "metadata": {},
   "source": [
    "### Genetic Algorithm Run"
   ]
  },
  {
   "cell_type": "code",
   "execution_count": 14,
   "id": "7562491832f67eae",
   "metadata": {
    "ExecuteTime": {
     "end_time": "2024-09-25T16:27:17.194694Z",
     "start_time": "2024-09-25T16:27:17.179691Z"
    }
   },
   "outputs": [],
   "source": [
    "# generations = 500\n",
    "mutation=0.5\n",
    "crossover=0.5"
   ]
  },
  {
   "cell_type": "code",
   "execution_count": 14,
   "id": "671d318cd4214766",
   "metadata": {
    "ExecuteTime": {
     "end_time": "2024-09-25T16:27:17.210692Z",
     "start_time": "2024-09-25T16:27:17.196691Z"
    }
   },
   "outputs": [],
   "source": []
  },
  {
   "cell_type": "code",
   "execution_count": 15,
   "id": "da5680f741045227",
   "metadata": {
    "ExecuteTime": {
     "end_time": "2024-09-26T03:35:54.573789Z",
     "start_time": "2024-09-25T16:27:17.211691Z"
    }
   },
   "outputs": [],
   "source": [
    "from Metaheuristicas.Genetico import genetic_algorithm\n",
    "for n_generations in range(500, 1000, 50):\n",
    "    best_solution, best_Gfitness = genetic_algorithm(X, y,mutation_rate=mutation,crossover_rate=crossover,fitness_function=mutual_information_eval,generations = n_generations )\n",
    "    selected_features = X.columns[best_solution.astype(bool)].tolist()\n",
    "    Mutual_Information.append([selected_features, best_Gfitness, n_generations])\n",
    "\n",
    "    "
   ]
  },
  {
   "cell_type": "code",
   "execution_count": 16,
   "id": "b56caa9cef4f0ec9",
   "metadata": {
    "ExecuteTime": {
     "end_time": "2024-09-26T03:36:46.111004Z",
     "start_time": "2024-09-26T03:35:54.574793Z"
    }
   },
   "outputs": [],
   "source": [
    "for n_generations in range(500, 1000, 50):\n",
    "    best_solution, best_Gfitness = genetic_algorithm(X, y,mutation_rate=mutation,crossover_rate=crossover,fitness_function=chi2_eval )\n",
    "    selected_features = X.columns[best_solution.astype(bool)].tolist()\n",
    "    Chi2.append([selected_features, best_Gfitness, n_generations])"
   ]
  },
  {
   "cell_type": "code",
   "execution_count": 17,
   "id": "905b520c0f36354a",
   "metadata": {
    "ExecuteTime": {
     "end_time": "2024-09-26T04:02:33.535450Z",
     "start_time": "2024-09-26T03:36:46.112004Z"
    }
   },
   "outputs": [],
   "source": [
    "for n_generations in range(500, 1000, 50):\n",
    "    best_solution, best_Gfitness = genetic_algorithm(X, y,mutation_rate=mutation,crossover_rate=crossover,fitness_function=relieff_eval )\n",
    "    selected_features = X.columns[best_solution.astype(bool)].tolist()\n",
    "    ReliefF.append([selected_features, best_Gfitness, n_generations])"
   ]
  },
  {
   "cell_type": "code",
   "outputs": [],
   "source": [
    "#save the results\n",
    "import pickle\n",
    "with open('Mutual_Information.pkl', 'wb') as f:\n",
    "    pickle.dump(Mutual_Information, f)\n",
    "with open('Chi2.pkl', 'wb') as f:\n",
    "    pickle.dump(Chi2, f)\n",
    "with open('ReliefF.pkl', 'wb') as f:\n",
    "    pickle.dump(ReliefF, f)\n",
    "    "
   ],
   "metadata": {
    "collapsed": false,
    "ExecuteTime": {
     "end_time": "2024-09-26T05:36:25.783771Z",
     "start_time": "2024-09-26T05:36:25.764776Z"
    }
   },
   "id": "8c7d5b305b9350b",
   "execution_count": 59
  },
  {
   "cell_type": "code",
   "execution_count": 18,
   "id": "957e85cdae236b09",
   "metadata": {
    "ExecuteTime": {
     "end_time": "2024-09-26T04:02:33.550957Z",
     "start_time": "2024-09-26T04:02:33.536452Z"
    }
   },
   "outputs": [],
   "source": [
    "#sort the results with the best fitness for each method\n",
    "Mutual_Information.sort(key=lambda x: x[1], reverse=True)\n",
    "Chi2.sort(key=lambda x: x[1], reverse=True)\n",
    "ReliefF.sort(key=lambda x: x[1], reverse=True)"
   ]
  },
  {
   "cell_type": "code",
   "execution_count": 33,
   "id": "61b1eb234ac40143",
   "metadata": {
    "ExecuteTime": {
     "end_time": "2024-09-26T05:06:28.341059Z",
     "start_time": "2024-09-26T05:06:28.334545Z"
    }
   },
   "outputs": [
    {
     "name": "stdout",
     "output_type": "stream",
     "text": [
      "Mutual Information:  2.656210967882011 600\n",
      "Mutual Information:  2.6508670373094962 500\n",
      "Mutual Information:  2.6162639729190236 650\n",
      "Mutual Information:  2.6161140648728622 850\n",
      "Mutual Information:  2.6089334180058392 950\n",
      "Mutual Information:  2.6067516235552017 800\n",
      "Mutual Information:  2.6064703048711735 550\n",
      "Mutual Information:  2.595037364912925 750\n",
      "Mutual Information:  2.5886955011519546 700\n",
      "Mutual Information:  2.56583049011941 900\n"
     ]
    }
   ],
   "source": [
    "#print all the scores in mutual information and the number of generations\n",
    "for i in Mutual_Information:\n",
    "    print(\"Mutual Information: \",i[1], i[2])"
   ]
  },
  {
   "cell_type": "code",
   "execution_count": 19,
   "id": "3354fa794bb2198c",
   "metadata": {
    "ExecuteTime": {
     "end_time": "2024-09-26T04:02:33.566958Z",
     "start_time": "2024-09-26T04:02:33.551959Z"
    }
   },
   "outputs": [
    {
     "name": "stdout",
     "output_type": "stream",
     "text": [
      "Mutual Information: \n",
      " [['f1_t_mean', 'f2_t_std', 'f3_t_var', 'f5_t_kurtosis', 'f6_t_multiscaleEntropy', 'f9_t_peak2peak', 'f12_t_zcr', 'f14_f_peaks_pos_1', 'f17_f_mean', 'f19_f_var', 'f21_f_kurtosis', 'f22_f_multiscaleEntropy', 'f23_f_peak_1020_value', 'f25_f_peak_2030_value', 'f26_f_peak_2030_pos', 'f27_f_rms', 'f28_f_peak2rms', 'f29_f_power', 'f30_f_PeaksAboveRMSDensity_fun', 'f31_f_peaks_val_2', 'f33_f_peaks_val_3', 'f34_f_peaks_pos_3', 'f35_w_f_maxval_A6', 'f36_w_f_maxval_D1', 'f37_w_f_maxval_D2', 'f38_w_f_maxval_D3', 'f39_w_f_maxval_D4', 'f40_w_f_maxval_D5', 'f41_w_f_maxval_D6', 'f42_w_f_maxpos_A6', 'f43_w_f_maxpos_D2', 'f45_w_f_maxpos_D4', 'f46_w_f_maxpos_D5', 'f47_w_f_maxpos_D6', 'f49_w_f_mean_D1', 'f53_w_f_mean_D5', 'f54_w_f_mean_D6', 'f56_w_t_PEC_A6', 'f58_w_t_PEC_D2', 'f59_w_t_PEC_D3', 'f60_w_t_PEC_D4', 'f61_w_t_PEC_D5', 'f63_w_t_rms_A6', 'f64_w_t_rms_D1', 'f65_w_t_rms_D2', 'f66_w_t_rms_D3', 'f67_w_t_rms_D4', 'f68_w_t_rms_D5', 'f69_w_t_rms_D6', 'f71_w_t_peak2peak_D1', 'f72_w_t_peak2peak_D2', 'f73_w_t_peak2peak_D3', 'f75_w_t_peak2peak_D5', 'f76_w_t_peak2peak_D6', 'f78_w_t_peak2rms_D1', 'f80_w_t_peak2rms_D3', 'f82_w_t_peak2rms_D5', 'f83_w_t_peak2rms_D6', 'f84_w_t_meanEnergyCoeff'], 2.656210967882011, 600]\n",
      "Chi2: \n",
      " [['f11_t_energy', 'f18_f_std', 'f20_f_energy', 'f23_f_peak_1020_value', 'f24_f_peak_1020_pos', 'f25_f_peak_2030_value', 'f26_f_peak_2030_pos', 'f30_f_PeaksAboveRMSDensity_fun', 'f31_f_peaks_val_2', 'f33_f_peaks_val_3', 'f37_w_f_maxval_D2', 'f38_w_f_maxval_D3', 'f41_w_f_maxval_D6', 'f44_w_f_maxpos_D3', 'f47_w_f_maxpos_D6', 'f48_w_f_mean_A6', 'f51_w_f_mean_D3', 'f55_w_t_meanEnergyAD', 'f56_w_t_PEC_A6', 'f58_w_t_PEC_D2', 'f59_w_t_PEC_D3', 'f60_w_t_PEC_D4', 'f64_w_t_rms_D1', 'f65_w_t_rms_D2', 'f66_w_t_rms_D3', 'f68_w_t_rms_D5', 'f71_w_t_peak2peak_D1', 'f72_w_t_peak2peak_D2', 'f75_w_t_peak2peak_D5', 'f84_w_t_meanEnergyCoeff'], 12.118875154142945, 500]\n",
      "ReliefF: \n",
      " [['f2_t_std', 'f6_t_multiscaleEntropy', 'f8_t_rms', 'f10_t_peak2rms', 'f11_t_energy', 'f17_f_mean', 'f18_f_std', 'f21_f_kurtosis', 'f25_f_peak_2030_value', 'f27_f_rms', 'f29_f_power', 'f32_f_peaks_pos_2', 'f36_w_f_maxval_D1', 'f43_w_f_maxpos_D2', 'f48_w_f_mean_A6', 'f51_w_f_mean_D3', 'f55_w_t_meanEnergyAD', 'f56_w_t_PEC_A6', 'f57_w_t_PEC_D1', 'f58_w_t_PEC_D2', 'f62_w_t_PEC_D6', 'f63_w_t_rms_A6', 'f64_w_t_rms_D1', 'f65_w_t_rms_D2', 'f68_w_t_rms_D5', 'f73_w_t_peak2peak_D3', 'f74_w_t_peak2peak_D4', 'f82_w_t_peak2rms_D5', 'f84_w_t_meanEnergyCoeff'], -0.424558935106713, 550]\n"
     ]
    }
   ],
   "source": [
    "print(\"Mutual Information: \\n\",Mutual_Information[0])\n",
    "print(\"Chi2: \\n\",Chi2[0])\n",
    "print(\"ReliefF: \\n\",ReliefF[0])"
   ]
  },
  {
   "cell_type": "code",
   "execution_count": 30,
   "id": "8f667e9942bff411",
   "metadata": {
    "ExecuteTime": {
     "end_time": "2024-09-26T05:00:14.716092Z",
     "start_time": "2024-09-26T05:00:14.698093Z"
    }
   },
   "outputs": [
    {
     "name": "stdout",
     "output_type": "stream",
     "text": [
      "Mutual Information: \n",
      " 59\n",
      "Chi2: \n",
      " 30\n",
      "ReliefF: \n",
      " 29\n"
     ]
    }
   ],
   "source": [
    "print(\"Mutual Information: \\n\",len(Mutual_Information[0][0]))\n",
    "print(\"Chi2: \\n\",len(Chi2[0][0]))\n",
    "print(\"ReliefF: \\n\",len(ReliefF[0][0]))"
   ]
  },
  {
   "cell_type": "code",
   "execution_count": 20,
   "id": "5f44bc0fb64a3885",
   "metadata": {
    "ExecuteTime": {
     "end_time": "2024-09-26T04:02:33.582957Z",
     "start_time": "2024-09-26T04:02:33.568957Z"
    }
   },
   "outputs": [],
   "source": [
    "from sklearn.metrics import accuracy_score, precision_score, recall_score, f1_score, roc_auc_score\n",
    "from sklearn.naive_bayes import GaussianNB\n",
    "from sklearn.model_selection import train_test_split\n"
   ]
  },
  {
   "cell_type": "code",
   "execution_count": 21,
   "id": "94b4ccb6e9d66db4",
   "metadata": {
    "ExecuteTime": {
     "end_time": "2024-09-26T04:02:33.614467Z",
     "start_time": "2024-09-26T04:02:33.583958Z"
    }
   },
   "outputs": [],
   "source": [
    "\n",
    "\n",
    "#Naive Bayes classifier with all features\n",
    "\n",
    "cmodel = GaussianNB()\n",
    "X_train, X_test, y_train, y_test = train_test_split(X, y, test_size=0.2, random_state=42)\n",
    "cmodel.fit(X_train, y_train)\n",
    "y_pred = cmodel.predict(X_test)\n",
    "y_pred_proba = cmodel.predict_proba(X_test)[:, 1]  # Probability estimates for AUC\n",
    "\n",
    "accuracy = accuracy_score(y_test, y_pred)\n",
    "precision = precision_score(y_test, y_pred)\n",
    "recall = recall_score(y_test, y_pred)\n",
    "f1 = f1_score(y_test, y_pred)\n",
    "auc = roc_auc_score(y_test, y_pred_proba)"
   ]
  },
  {
   "cell_type": "code",
   "execution_count": 22,
   "id": "e1bf30a2a6f0e7ab",
   "metadata": {
    "ExecuteTime": {
     "end_time": "2024-09-26T04:02:33.630563Z",
     "start_time": "2024-09-26T04:02:33.615469Z"
    }
   },
   "outputs": [
    {
     "name": "stdout",
     "output_type": "stream",
     "text": [
      "Accuracy:  0.9432314410480349\n",
      "Precision:  0.6086956521739131\n",
      "Recall:  0.7777777777777778\n",
      "F1:  0.6829268292682927\n",
      "AUC:  0.9462875197472354\n"
     ]
    }
   ],
   "source": [
    "print(\"Accuracy: \", accuracy)\n",
    "print(\"Precision: \", precision)\n",
    "print(\"Recall: \", recall)\n",
    "print(\"F1: \", f1)\n",
    "print(\"AUC: \", auc)\n"
   ]
  },
  {
   "cell_type": "code",
   "execution_count": 24,
   "id": "cc4b93a7113ac1c9",
   "metadata": {
    "ExecuteTime": {
     "end_time": "2024-09-26T04:02:33.661985Z",
     "start_time": "2024-09-26T04:02:33.646983Z"
    }
   },
   "outputs": [
    {
     "name": "stdout",
     "output_type": "stream",
     "text": [
      "Accuracy:  0.9432314410480349\n",
      "Precision:  0.6086956521739131\n",
      "Recall:  0.7777777777777778\n",
      "F1:  0.6829268292682927\n",
      "AUC:  0.9581358609794628\n"
     ]
    }
   ],
   "source": [
    "print(\"Accuracy: \", accuracy)\n",
    "print(\"Precision: \", precision)\n",
    "print(\"Recall: \", recall)\n",
    "print(\"F1: \", f1)\n",
    "print(\"AUC: \", auc)"
   ]
  },
  {
   "cell_type": "code",
   "execution_count": 26,
   "id": "9877d885f3685198",
   "metadata": {
    "ExecuteTime": {
     "end_time": "2024-09-26T04:02:33.693501Z",
     "start_time": "2024-09-26T04:02:33.678986Z"
    }
   },
   "outputs": [
    {
     "name": "stdout",
     "output_type": "stream",
     "text": [
      "Accuracy:  0.9432314410480349\n",
      "Precision:  0.6190476190476191\n",
      "Recall:  0.7222222222222222\n",
      "F1:  0.6666666666666666\n",
      "AUC:  0.9727488151658767\n"
     ]
    }
   ],
   "source": [
    "print(\"Accuracy: \", accuracy)\n",
    "print(\"Precision: \", precision)\n",
    "print(\"Recall: \", recall)\n",
    "print(\"F1: \", f1)\n",
    "print(\"AUC: \", auc)\n"
   ]
  },
  {
   "cell_type": "code",
   "execution_count": 39,
   "id": "8b225ca6053e3563",
   "metadata": {
    "ExecuteTime": {
     "end_time": "2024-09-26T05:22:23.875628Z",
     "start_time": "2024-09-26T05:22:23.866630Z"
    }
   },
   "outputs": [],
   "source": [
    "MI_Scores = []\n",
    "Chi_Scores = []\n",
    "ReliefF_Scores = []"
   ]
  },
  {
   "cell_type": "markdown",
   "id": "ad8d8a038949046a",
   "metadata": {},
   "source": [
    "### Naive Bayes with all scores of mutual information, chi2 and ReliefF"
   ]
  },
  {
   "cell_type": "code",
   "execution_count": 40,
   "id": "9e637221b876eab0",
   "metadata": {
    "ExecuteTime": {
     "end_time": "2024-09-26T05:22:23.938191Z",
     "start_time": "2024-09-26T05:22:23.877632Z"
    }
   },
   "outputs": [],
   "source": [
    "#Naive Bayes with all scores of mutual information\n",
    "for MI in Mutual_Information:\n",
    "    model = GaussianNB()\n",
    "    X_train, X_test, y_train, y_test = train_test_split(X[MI[0]], y, test_size=0.2, random_state=42)\n",
    "    cmodel.fit(X_train, y_train)\n",
    "    y_pred = cmodel.predict(X_test)\n",
    "    y_pred_proba = cmodel.predict_proba(X_test)[:, 1]  # Probability estimates for AUC\n",
    "    # # accuracy = accuracy_score(y_test, y_pred)\n",
    "    # # precision = precision_score(y_test, y_pred)\n",
    "    # # recall = recall_score(y_test, y_pred)\n",
    "    # # f1 = f1_score(y_test, y_pred)\n",
    "    auc = roc_auc_score(y_test, y_pred_proba)\n",
    "    MI_Scores.append([auc,MI[2]])"
   ]
  },
  {
   "cell_type": "code",
   "execution_count": 41,
   "id": "198b3d7c8ef35ebf",
   "metadata": {
    "ExecuteTime": {
     "end_time": "2024-09-26T05:22:23.983649Z",
     "start_time": "2024-09-26T05:22:23.939141Z"
    }
   },
   "outputs": [],
   "source": [
    "for Ch in Chi2:\n",
    "    model = GaussianNB()\n",
    "    X_train, X_test, y_train, y_test = train_test_split(X[Ch[0]], y, test_size=0.2, random_state=42)\n",
    "    cmodel.fit(X_train, y_train)\n",
    "    y_pred = cmodel.predict(X_test)\n",
    "    y_pred_proba = cmodel.predict_proba(X_test)[:, 1]  # Probability estimates for AUC\n",
    "    # # accuracy = accuracy_score(y_test, y_pred)\n",
    "    # # precision = precision_score(y_test, y_pred)\n",
    "    # # recall = recall_score(y_test, y_pred)\n",
    "    # # f1 = f1_score(y_test, y_pred)\n",
    "    auc = roc_auc_score(y_test, y_pred_proba)\n",
    "    Chi_Scores.append([auc,Ch[2]])"
   ]
  },
  {
   "cell_type": "code",
   "execution_count": 42,
   "id": "2eaa06ab9fa4dcab",
   "metadata": {
    "ExecuteTime": {
     "end_time": "2024-09-26T05:22:24.031159Z",
     "start_time": "2024-09-26T05:22:23.984649Z"
    }
   },
   "outputs": [],
   "source": [
    "for RF in ReliefF:\n",
    "    model = GaussianNB()\n",
    "    X_train, X_test, y_train, y_test = train_test_split(X[RF[0]], y, test_size=0.2, random_state=42)\n",
    "    cmodel.fit(X_train, y_train)\n",
    "    y_pred = cmodel.predict(X_test)\n",
    "    y_pred_proba = cmodel.predict_proba(X_test)[:, 1]  # Probability estimates for AUC\n",
    "    # # accuracy = accuracy_score(y_test, y_pred)\n",
    "    # # precision = precision_score(y_test, y_pred)\n",
    "    # # recall = recall_score(y_test, y_pred)\n",
    "    # # f1 = f1_score(y_test, y_pred)\n",
    "    auc = roc_auc_score(y_test, y_pred_proba)\n",
    "    ReliefF_Scores.append([auc,RF[2]])"
   ]
  },
  {
   "cell_type": "code",
   "execution_count": 42,
   "id": "db6fd7e948d37456",
   "metadata": {
    "ExecuteTime": {
     "end_time": "2024-09-26T05:22:24.046670Z",
     "start_time": "2024-09-26T05:22:24.032160Z"
    }
   },
   "outputs": [],
   "source": []
  },
  {
   "cell_type": "code",
   "execution_count": 43,
   "id": "7ea4eb6f4eb1d298",
   "metadata": {
    "ExecuteTime": {
     "end_time": "2024-09-26T05:22:24.062670Z",
     "start_time": "2024-09-26T05:22:24.047671Z"
    }
   },
   "outputs": [],
   "source": [
    "MI_Scores.sort(key=lambda x: x[0], reverse=True)\n",
    "Chi_Scores.sort(key=lambda x: x[0], reverse=True)\n",
    "ReliefF_Scores.sort(key=lambda x: x[0], reverse=True)"
   ]
  },
  {
   "cell_type": "code",
   "execution_count": 44,
   "id": "b311227e3c0dc359",
   "metadata": {
    "ExecuteTime": {
     "end_time": "2024-09-26T05:22:24.078670Z",
     "start_time": "2024-09-26T05:22:24.063672Z"
    }
   },
   "outputs": [
    {
     "name": "stdout",
     "output_type": "stream",
     "text": [
      "Mutual Information:  0.9723538704581359 850\n",
      "Mutual Information:  0.970510795155345 750\n",
      "Mutual Information:  0.9670879410215902 650\n",
      "Mutual Information:  0.9607688256977357 700\n",
      "Mutual Information:  0.9581358609794628 600\n",
      "Mutual Information:  0.94971037388099 550\n",
      "Mutual Information:  0.944971037388099 900\n",
      "Mutual Information:  0.9439178515007899 800\n",
      "Mutual Information:  0.9418114797261717 950\n",
      "Mutual Information:  0.9315429173249078 500\n"
     ]
    }
   ],
   "source": [
    "for i in MI_Scores:\n",
    "    print(\"Mutual Information: \",i[0], i[1])"
   ]
  },
  {
   "cell_type": "code",
   "execution_count": 45,
   "id": "b0d0c8de1648489f",
   "metadata": {
    "ExecuteTime": {
     "end_time": "2024-09-26T05:22:24.094183Z",
     "start_time": "2024-09-26T05:22:24.079670Z"
    }
   },
   "outputs": [
    {
     "name": "stdout",
     "output_type": "stream",
     "text": [
      "Chi2:  0.9773565034228542 800\n",
      "Chi2:  0.9757767245918905 650\n",
      "Chi2:  0.9727488151658767 500\n",
      "Chi2:  0.9677461822011585 850\n",
      "Chi2:  0.9649815692469721 550\n",
      "Chi2:  0.9594523433385993 600\n",
      "Chi2:  0.9470774091627172 750\n",
      "Chi2:  0.9133754607688257 700\n",
      "Chi2:  0.9128488678251712 950\n",
      "Chi2:  0.8809899947340706 900\n"
     ]
    }
   ],
   "source": [
    "for i in Chi_Scores:\n",
    "    print(\"Chi2: \",i[0], i[1])"
   ]
  },
  {
   "cell_type": "code",
   "execution_count": 46,
   "id": "4fdefae0a7db9f40",
   "metadata": {
    "ExecuteTime": {
     "end_time": "2024-09-26T05:22:24.110181Z",
     "start_time": "2024-09-26T05:22:24.095182Z"
    }
   },
   "outputs": [
    {
     "name": "stdout",
     "output_type": "stream",
     "text": [
      "ReliefF:  0.9516850974196946 800\n",
      "ReliefF:  0.9464191679831491 500\n",
      "ReliefF:  0.9377303844128488 850\n",
      "ReliefF:  0.9324644549763033 950\n",
      "ReliefF:  0.9270668773038442 900\n",
      "ReliefF:  0.9214060031595577 650\n",
      "ReliefF:  0.8966561348077936 700\n",
      "ReliefF:  0.8802001053185887 600\n",
      "ReliefF:  0.8683517640863613 750\n",
      "ReliefF:  0.84913112164297 550\n"
     ]
    }
   ],
   "source": [
    "for i in ReliefF_Scores:\n",
    "    print(\"ReliefF: \",i[0], i[1])"
   ]
  },
  {
   "cell_type": "code",
   "execution_count": 48,
   "id": "e0a05b27757675a",
   "metadata": {
    "ExecuteTime": {
     "end_time": "2024-09-26T05:33:36.233794Z",
     "start_time": "2024-09-26T05:33:36.214796Z"
    }
   },
   "outputs": [
    {
     "name": "stdout",
     "output_type": "stream",
     "text": [
      "Mutual Information: 600\n",
      "Chi2:  500\n",
      "ReliefF:  550\n"
     ]
    }
   ],
   "source": [
    "print(\"Mutual Information:\", Mutual_Information[0][2])\n",
    "print(\"Chi2: \",Chi2[0][2])\n",
    "print(\"ReliefF: \",ReliefF[0][2])\n"
   ]
  },
  {
   "cell_type": "markdown",
   "id": "eaf983f69c884bda",
   "metadata": {},
   "source": [
    "### Random Forest Classifier with all features"
   ]
  },
  {
   "cell_type": "code",
   "execution_count": 49,
   "id": "fd04af0d3a684dce",
   "metadata": {
    "ExecuteTime": {
     "end_time": "2024-09-26T05:33:36.845450Z",
     "start_time": "2024-09-26T05:33:36.240795Z"
    }
   },
   "outputs": [],
   "source": [
    "from sklearn.ensemble import RandomForestClassifier\n",
    "random_forest = RandomForestClassifier(n_estimators=100, random_state=42)\n",
    "X_train, X_test, y_train, y_test = train_test_split(X, y, test_size=0.2, random_state=42)\n",
    "random_forest.fit(X_train, y_train)\n",
    "y_pred = random_forest.predict(X_test)\n",
    "y_pred_proba = random_forest.predict_proba(X_test)[:, 1]  # Probability estimates for AUC\n",
    "accuracy = accuracy_score(y_test, y_pred)\n",
    "precision = precision_score(y_test, y_pred)\n",
    "recall = recall_score(y_test, y_pred)\n",
    "f1 = f1_score(y_test, y_pred)\n",
    "auc = roc_auc_score(y_test, y_pred_proba)\n"
   ]
  },
  {
   "cell_type": "markdown",
   "id": "8e36dcb1481a88b1",
   "metadata": {},
   "source": []
  },
  {
   "cell_type": "code",
   "execution_count": 49,
   "id": "f87d26e6c1ebbf67",
   "metadata": {
    "ExecuteTime": {
     "end_time": "2024-09-26T05:33:36.861450Z",
     "start_time": "2024-09-26T05:33:36.846454Z"
    }
   },
   "outputs": [],
   "source": []
  },
  {
   "cell_type": "code",
   "execution_count": 50,
   "id": "67c23f7da6d88dcb",
   "metadata": {
    "ExecuteTime": {
     "end_time": "2024-09-26T05:33:36.876452Z",
     "start_time": "2024-09-26T05:33:36.862454Z"
    }
   },
   "outputs": [
    {
     "name": "stdout",
     "output_type": "stream",
     "text": [
      "Accuracy:  0.9650655021834061\n",
      "Precision:  0.8571428571428571\n",
      "Recall:  0.6666666666666666\n",
      "F1:  0.75\n",
      "AUC:  0.9794628751974724\n"
     ]
    }
   ],
   "source": [
    "print(\"Accuracy: \", accuracy)\n",
    "print(\"Precision: \", precision)\n",
    "print(\"Recall: \", recall)\n",
    "print(\"F1: \", f1)\n",
    "print(\"AUC: \", auc)\n"
   ]
  },
  {
   "cell_type": "code",
   "execution_count": 51,
   "id": "a0b02254ef48bea3",
   "metadata": {
    "ExecuteTime": {
     "end_time": "2024-09-26T05:33:36.891962Z",
     "start_time": "2024-09-26T05:33:36.877451Z"
    }
   },
   "outputs": [],
   "source": [
    "RFMI_Scores = []\n",
    "RFChi_Scores = []\n",
    "RFReliefF_Scores = []"
   ]
  },
  {
   "cell_type": "markdown",
   "id": "5b13764fb0b7b1c0",
   "metadata": {},
   "source": [
    "### Random Forest Classifier with all scores of mutual information, chi2 and ReliefF"
   ]
  },
  {
   "cell_type": "code",
   "execution_count": 52,
   "id": "b543d67fb08dfb7f",
   "metadata": {
    "ExecuteTime": {
     "end_time": "2024-09-26T05:33:39.673048Z",
     "start_time": "2024-09-26T05:33:36.892961Z"
    }
   },
   "outputs": [],
   "source": [
    "#Random Forest Classifier with Mutual Info selected features\n",
    "for M in Mutual_Information:\n",
    "    model = RandomForestClassifier(n_estimators=100, random_state=42)\n",
    "    X_train, X_test, y_train, y_test = train_test_split(X[M[0]], y, test_size=0.2, random_state=42)\n",
    "    model.fit(X_train, y_train)\n",
    "    y_pred = model.predict(X_test)\n",
    "    y_pred_proba = model.predict_proba(X_test)[:, 1]  # Probability estimates for AUC\n",
    "    auc = roc_auc_score(y_test, y_pred_proba)\n",
    "    RFMI_Scores.append([auc,M[2]])"
   ]
  },
  {
   "cell_type": "code",
   "execution_count": 53,
   "id": "405c9fb2ceacdf4d",
   "metadata": {
    "ExecuteTime": {
     "end_time": "2024-09-26T05:33:41.907142Z",
     "start_time": "2024-09-26T05:33:39.674050Z"
    }
   },
   "outputs": [],
   "source": [
    "#Random Forest Classifier with Chi2 selected features\n",
    "for C in Chi2:\n",
    "    model = RandomForestClassifier(n_estimators=100, random_state=42)\n",
    "    X_train, X_test, y_train, y_test = train_test_split(X[C[0]], y, test_size=0.2, random_state=42)\n",
    "    model.fit(X_train, y_train)\n",
    "    y_pred = model.predict(X_test)\n",
    "    y_pred_proba = model.predict_proba(X_test)[:, 1]  # Probability estimates for AUC\n",
    "    auc = roc_auc_score(y_test, y_pred_proba)\n",
    "    RFChi_Scores.append([auc,C[2]])"
   ]
  },
  {
   "cell_type": "code",
   "execution_count": 54,
   "id": "ffec1ab49b9b5521",
   "metadata": {
    "ExecuteTime": {
     "end_time": "2024-09-26T05:33:44.310606Z",
     "start_time": "2024-09-26T05:33:41.908143Z"
    }
   },
   "outputs": [],
   "source": [
    "#Random Forest Classifier with ReliefF selected features\n",
    "for R in ReliefF:\n",
    "    model = RandomForestClassifier(n_estimators=100, random_state=42)\n",
    "    X_train, X_test, y_train, y_test = train_test_split(X[R[0]], y, test_size=0.2, random_state=42)\n",
    "    model.fit(X_train, y_train)\n",
    "    y_pred = model.predict(X_test)\n",
    "    y_pred_proba = model.predict_proba(X_test)[:, 1]  # Probability estimates for AUC\n",
    "    auc = roc_auc_score(y_test, y_pred_proba)\n",
    "    RFReliefF_Scores.append([auc,R[2]])\n",
    "    "
   ]
  },
  {
   "cell_type": "code",
   "execution_count": 55,
   "id": "322bcad9de88f784",
   "metadata": {
    "ExecuteTime": {
     "end_time": "2024-09-26T05:33:44.325606Z",
     "start_time": "2024-09-26T05:33:44.311609Z"
    }
   },
   "outputs": [],
   "source": [
    "RFMI_Scores.sort(key=lambda x: x[0], reverse=True)\n",
    "RFChi_Scores.sort(key=lambda x: x[0], reverse=True)\n",
    "RFReliefF_Scores.sort(key=lambda x: x[0], reverse=True)\n"
   ]
  },
  {
   "cell_type": "code",
   "execution_count": 56,
   "id": "eef9aafbd71a5d7a",
   "metadata": {
    "ExecuteTime": {
     "end_time": "2024-09-26T05:33:44.341118Z",
     "start_time": "2024-09-26T05:33:44.326608Z"
    }
   },
   "outputs": [
    {
     "name": "stdout",
     "output_type": "stream",
     "text": [
      "Mutual Information:  0.982885729331227 750\n",
      "Mutual Information:  0.9819641916798314 900\n",
      "Mutual Information:  0.9805160610847814 850\n",
      "Mutual Information:  0.9801211163770405 550\n",
      "Mutual Information:  0.9799894681411269 600\n",
      "Mutual Information:  0.9795945234333859 950\n",
      "Mutual Information:  0.9794628751974723 800\n",
      "Mutual Information:  0.9782780410742498 650\n",
      "Mutual Information:  0.9774881516587678 500\n",
      "Mutual Information:  0.9695892575039494 700\n"
     ]
    }
   ],
   "source": [
    "for i in RFMI_Scores:\n",
    "    print(\"Mutual Information: \",i[0], i[1])"
   ]
  },
  {
   "cell_type": "code",
   "execution_count": 57,
   "id": "26cf8d185f257b97",
   "metadata": {
    "ExecuteTime": {
     "end_time": "2024-09-26T05:33:44.357120Z",
     "start_time": "2024-09-26T05:33:44.342121Z"
    }
   },
   "outputs": [
    {
     "name": "stdout",
     "output_type": "stream",
     "text": [
      "Chi2:  0.9805160610847815 550\n",
      "Chi2:  0.9803844128488679 850\n",
      "Chi2:  0.9785413375460769 950\n",
      "Chi2:  0.9774881516587678 650\n",
      "Chi2:  0.9772248551869405 600\n",
      "Chi2:  0.9768299104791995 800\n",
      "Chi2:  0.975645076355977 900\n",
      "Chi2:  0.9755134281200633 500\n",
      "Chi2:  0.9728804634017905 750\n",
      "Chi2:  0.9690626645602949 700\n"
     ]
    }
   ],
   "source": [
    "for i in RFChi_Scores:\n",
    "    print(\"Chi2: \",i[0], i[1])\n",
    "    "
   ]
  },
  {
   "cell_type": "code",
   "execution_count": 58,
   "id": "cdb87a053cb935f1",
   "metadata": {
    "ExecuteTime": {
     "end_time": "2024-09-26T05:33:44.373119Z",
     "start_time": "2024-09-26T05:33:44.358120Z"
    }
   },
   "outputs": [
    {
     "name": "stdout",
     "output_type": "stream",
     "text": [
      "ReliefF:  0.982885729331227 750\n",
      "ReliefF:  0.9805160610847814 650\n",
      "ReliefF:  0.9788046340179041 500\n",
      "ReliefF:  0.9773565034228542 900\n",
      "ReliefF:  0.9764349657714587 800\n",
      "ReliefF:  0.9641916798314903 850\n",
      "ReliefF:  0.9583991574512901 700\n",
      "ReliefF:  0.9566877303844128 600\n",
      "ReliefF:  0.9401000526592944 950\n",
      "ReliefF:  0.9036334913112164 550\n"
     ]
    }
   ],
   "source": [
    "for i in RFReliefF_Scores:\n",
    "    print(\"ReliefF: \",i[0], i[1])"
   ]
  },
  {
   "cell_type": "code",
   "outputs": [
    {
     "name": "stdout",
     "output_type": "stream",
     "text": [
      " Naive Bayes All features: AUC:  0.9462875197472354\n",
      " Random Forest All features: AUC 0.9794628751974724\n",
      " Naive Bayes Mutual Information: AUC  0.9723538704581359 850\n",
      " Random Forest Mutual Information: AUC  0.982885729331227 750\n",
      " Naive Bayes Chi2: AUC  0.9773565034228542 800\n",
      " Random Forest Chi2: AUC  0.9805160610847815 550\n",
      " Naive Bayes ReliefF: AUC  0.9516850974196946 800\n",
      " Random Forest ReliefF: AUC  0.982885729331227 750\n"
     ]
    }
   ],
   "source": [
    "import pandas as pd\n",
    "\n",
    "# Create DataFrames for each evaluation method\n",
    "\n",
    "\n",
    "\n",
    "print(\" Naive Bayes All features: AUC:  0.9462875197472354\")\n",
    "print(\" Random Forest All features: AUC 0.9794628751974724\")\n",
    "print(\" Naive Bayes Mutual Information: AUC \", MI_Scores[0][0], MI_Scores[0][1])\n",
    "print(\" Random Forest Mutual Information: AUC \", RFMI_Scores[0][0], RFMI_Scores[0][1])\n",
    "print(\" Naive Bayes Chi2: AUC \", Chi_Scores[0][0], Chi_Scores[0][1])\n",
    "print(\" Random Forest Chi2: AUC \", RFChi_Scores[0][0], RFChi_Scores[0][1])\n",
    "print(\" Naive Bayes ReliefF: AUC \", ReliefF_Scores[0][0], ReliefF_Scores[0][1])\n",
    "print(\" Random Forest ReliefF: AUC \", RFReliefF_Scores[0][0], RFReliefF_Scores[0][1])\n"
   ],
   "metadata": {
    "collapsed": false,
    "ExecuteTime": {
     "end_time": "2024-09-26T13:46:08.247148Z",
     "start_time": "2024-09-26T13:46:08.230633Z"
    }
   },
   "id": "184d86e643e5f3ef",
   "execution_count": 64
  }
 ],
 "metadata": {
  "kernelspec": {
   "display_name": "Python 3 (ipykernel)",
   "language": "python",
   "name": "python3"
  },
  "language_info": {
   "codemirror_mode": {
    "name": "ipython",
    "version": 3
   },
   "file_extension": ".py",
   "mimetype": "text/x-python",
   "name": "python",
   "nbconvert_exporter": "python",
   "pygments_lexer": "ipython3",
   "version": "3.10.7"
  }
 },
 "nbformat": 4,
 "nbformat_minor": 5
}

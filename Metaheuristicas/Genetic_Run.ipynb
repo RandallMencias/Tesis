{
 "cells": [
  {
   "cell_type": "code",
   "execution_count": 10,
   "id": "initial_id",
   "metadata": {
    "ExecuteTime": {
     "end_time": "2024-09-25T16:27:17.055156Z",
     "start_time": "2024-09-25T16:27:17.048156Z"
    },
    "collapsed": true
   },
   "outputs": [],
   "source": []
  },
  {
   "cell_type": "code",
   "execution_count": 11,
   "id": "b3bf4e2f337876d0",
   "metadata": {
    "ExecuteTime": {
     "end_time": "2024-09-25T16:27:17.086664Z",
     "start_time": "2024-09-25T16:27:17.072155Z"
    }
   },
   "outputs": [],
   "source": [
    "import numpy as np\n",
    "from Metaheuristicas.fitness_functions import mutual_information_eval\n",
    "from Metaheuristicas.fitness_functions import relieff_eval\n",
    "from fitness_functions import chi2_eval"
   ]
  },
  {
   "cell_type": "code",
   "execution_count": 12,
   "id": "1af9109ecff68ec5",
   "metadata": {
    "ExecuteTime": {
     "end_time": "2024-09-25T16:27:17.163178Z",
     "start_time": "2024-09-25T16:27:17.096665Z"
    }
   },
   "outputs": [],
   "source": [
    "from Metaheuristicas.fitness_functions import load_and_preprocess_data\n",
    "\n",
    "X, y = load_and_preprocess_data(filename='Resources/SeisBenchV1_v1_1.json')\n",
    "\n"
   ]
  },
  {
   "cell_type": "code",
   "execution_count": 13,
   "id": "1336b716ae1981a3",
   "metadata": {
    "ExecuteTime": {
     "end_time": "2024-09-25T16:27:17.178693Z",
     "start_time": "2024-09-25T16:27:17.164178Z"
    }
   },
   "outputs": [],
   "source": [
    "Mutual_Information = []\n",
    "Chi2 = []\n",
    "ReliefF = []"
   ]
  },
  {
   "cell_type": "markdown",
   "id": "b76d21b8a0f0ec3e",
   "metadata": {},
   "source": [
    "### Genetic Algorithm Run"
   ]
  },
  {
   "cell_type": "code",
   "execution_count": 14,
   "id": "7562491832f67eae",
   "metadata": {
    "ExecuteTime": {
     "end_time": "2024-09-25T16:27:17.194694Z",
     "start_time": "2024-09-25T16:27:17.179691Z"
    }
   },
   "outputs": [],
   "source": [
    "# generations = 500\n",
    "mutation=0.5\n",
    "crossover=0.5"
   ]
  },
  {
   "cell_type": "code",
   "execution_count": 14,
   "id": "671d318cd4214766",
   "metadata": {
    "ExecuteTime": {
     "end_time": "2024-09-25T16:27:17.210692Z",
     "start_time": "2024-09-25T16:27:17.196691Z"
    }
   },
   "outputs": [],
   "source": []
  },
  {
   "cell_type": "code",
   "execution_count": 15,
   "id": "da5680f741045227",
   "metadata": {
    "ExecuteTime": {
     "end_time": "2024-09-26T03:35:54.573789Z",
     "start_time": "2024-09-25T16:27:17.211691Z"
    }
   },
   "outputs": [],
   "source": [
    "from Metaheuristicas.Genetico import genetic_algorithm\n",
    "for n_generations in range(500, 1000, 50):\n",
    "    best_solution, best_Gfitness = genetic_algorithm(X, y,mutation_rate=mutation,crossover_rate=crossover,fitness_function=mutual_information_eval,generations = n_generations )\n",
    "    selected_features = X.columns[best_solution.astype(bool)].tolist()\n",
    "    Mutual_Information.append([selected_features, best_Gfitness, n_generations])\n",
    "\n",
    "    "
   ]
  },
  {
   "cell_type": "code",
   "execution_count": 16,
   "id": "b56caa9cef4f0ec9",
   "metadata": {
    "ExecuteTime": {
     "end_time": "2024-09-26T03:36:46.111004Z",
     "start_time": "2024-09-26T03:35:54.574793Z"
    }
   },
   "outputs": [],
   "source": [
    "for n_generations in range(500, 1000, 50):\n",
    "    best_solution, best_Gfitness = genetic_algorithm(X, y,mutation_rate=mutation,crossover_rate=crossover,fitness_function=chi2_eval )\n",
    "    selected_features = X.columns[best_solution.astype(bool)].tolist()\n",
    "    Chi2.append([selected_features, best_Gfitness, n_generations])"
   ]
  },
  {
   "cell_type": "code",
   "execution_count": 17,
   "id": "905b520c0f36354a",
   "metadata": {
    "ExecuteTime": {
     "end_time": "2024-09-26T04:02:33.535450Z",
     "start_time": "2024-09-26T03:36:46.112004Z"
    }
   },
   "outputs": [],
   "source": [
    "for n_generations in range(500, 1000, 50):\n",
    "    best_solution, best_Gfitness = genetic_algorithm(X, y,mutation_rate=mutation,crossover_rate=crossover,fitness_function=relieff_eval )\n",
    "    selected_features = X.columns[best_solution.astype(bool)].tolist()\n",
    "    ReliefF.append([selected_features, best_Gfitness, n_generations])"
   ]
  },
  {
   "cell_type": "code",
   "execution_count": 18,
   "id": "957e85cdae236b09",
   "metadata": {
    "ExecuteTime": {
     "end_time": "2024-09-26T04:02:33.550957Z",
     "start_time": "2024-09-26T04:02:33.536452Z"
    }
   },
   "outputs": [],
   "source": [
    "#sort the results with the best fitness for each method\n",
    "Mutual_Information.sort(key=lambda x: x[1], reverse=True)\n",
    "Chi2.sort(key=lambda x: x[1], reverse=True)\n",
    "ReliefF.sort(key=lambda x: x[1], reverse=True)"
   ]
  },
  {
   "cell_type": "code",
   "execution_count": 19,
   "id": "3354fa794bb2198c",
   "metadata": {
    "ExecuteTime": {
     "end_time": "2024-09-26T04:02:33.566958Z",
     "start_time": "2024-09-26T04:02:33.551959Z"
    }
   },
   "outputs": [
    {
     "name": "stdout",
     "output_type": "stream",
     "text": [
      "Mutual Information: \n",
      " [['f1_t_mean', 'f2_t_std', 'f3_t_var', 'f5_t_kurtosis', 'f6_t_multiscaleEntropy', 'f9_t_peak2peak', 'f12_t_zcr', 'f14_f_peaks_pos_1', 'f17_f_mean', 'f19_f_var', 'f21_f_kurtosis', 'f22_f_multiscaleEntropy', 'f23_f_peak_1020_value', 'f25_f_peak_2030_value', 'f26_f_peak_2030_pos', 'f27_f_rms', 'f28_f_peak2rms', 'f29_f_power', 'f30_f_PeaksAboveRMSDensity_fun', 'f31_f_peaks_val_2', 'f33_f_peaks_val_3', 'f34_f_peaks_pos_3', 'f35_w_f_maxval_A6', 'f36_w_f_maxval_D1', 'f37_w_f_maxval_D2', 'f38_w_f_maxval_D3', 'f39_w_f_maxval_D4', 'f40_w_f_maxval_D5', 'f41_w_f_maxval_D6', 'f42_w_f_maxpos_A6', 'f43_w_f_maxpos_D2', 'f45_w_f_maxpos_D4', 'f46_w_f_maxpos_D5', 'f47_w_f_maxpos_D6', 'f49_w_f_mean_D1', 'f53_w_f_mean_D5', 'f54_w_f_mean_D6', 'f56_w_t_PEC_A6', 'f58_w_t_PEC_D2', 'f59_w_t_PEC_D3', 'f60_w_t_PEC_D4', 'f61_w_t_PEC_D5', 'f63_w_t_rms_A6', 'f64_w_t_rms_D1', 'f65_w_t_rms_D2', 'f66_w_t_rms_D3', 'f67_w_t_rms_D4', 'f68_w_t_rms_D5', 'f69_w_t_rms_D6', 'f71_w_t_peak2peak_D1', 'f72_w_t_peak2peak_D2', 'f73_w_t_peak2peak_D3', 'f75_w_t_peak2peak_D5', 'f76_w_t_peak2peak_D6', 'f78_w_t_peak2rms_D1', 'f80_w_t_peak2rms_D3', 'f82_w_t_peak2rms_D5', 'f83_w_t_peak2rms_D6', 'f84_w_t_meanEnergyCoeff'], 2.656210967882011, 600]\n",
      "Chi2: \n",
      " [['f11_t_energy', 'f18_f_std', 'f20_f_energy', 'f23_f_peak_1020_value', 'f24_f_peak_1020_pos', 'f25_f_peak_2030_value', 'f26_f_peak_2030_pos', 'f30_f_PeaksAboveRMSDensity_fun', 'f31_f_peaks_val_2', 'f33_f_peaks_val_3', 'f37_w_f_maxval_D2', 'f38_w_f_maxval_D3', 'f41_w_f_maxval_D6', 'f44_w_f_maxpos_D3', 'f47_w_f_maxpos_D6', 'f48_w_f_mean_A6', 'f51_w_f_mean_D3', 'f55_w_t_meanEnergyAD', 'f56_w_t_PEC_A6', 'f58_w_t_PEC_D2', 'f59_w_t_PEC_D3', 'f60_w_t_PEC_D4', 'f64_w_t_rms_D1', 'f65_w_t_rms_D2', 'f66_w_t_rms_D3', 'f68_w_t_rms_D5', 'f71_w_t_peak2peak_D1', 'f72_w_t_peak2peak_D2', 'f75_w_t_peak2peak_D5', 'f84_w_t_meanEnergyCoeff'], 12.118875154142945, 500]\n",
      "ReliefF: \n",
      " [['f2_t_std', 'f6_t_multiscaleEntropy', 'f8_t_rms', 'f10_t_peak2rms', 'f11_t_energy', 'f17_f_mean', 'f18_f_std', 'f21_f_kurtosis', 'f25_f_peak_2030_value', 'f27_f_rms', 'f29_f_power', 'f32_f_peaks_pos_2', 'f36_w_f_maxval_D1', 'f43_w_f_maxpos_D2', 'f48_w_f_mean_A6', 'f51_w_f_mean_D3', 'f55_w_t_meanEnergyAD', 'f56_w_t_PEC_A6', 'f57_w_t_PEC_D1', 'f58_w_t_PEC_D2', 'f62_w_t_PEC_D6', 'f63_w_t_rms_A6', 'f64_w_t_rms_D1', 'f65_w_t_rms_D2', 'f68_w_t_rms_D5', 'f73_w_t_peak2peak_D3', 'f74_w_t_peak2peak_D4', 'f82_w_t_peak2rms_D5', 'f84_w_t_meanEnergyCoeff'], -0.424558935106713, 550]\n"
     ]
    }
   ],
   "source": [
    "print(\"Mutual Information: \\n\",Mutual_Information[0])\n",
    "print(\"Chi2: \\n\",Chi2[0])\n",
    "print(\"ReliefF: \\n\",ReliefF[0])"
   ]
  },
  {
   "cell_type": "code",
   "execution_count": 20,
   "id": "5f44bc0fb64a3885",
   "metadata": {
    "ExecuteTime": {
     "end_time": "2024-09-26T04:02:33.582957Z",
     "start_time": "2024-09-26T04:02:33.568957Z"
    }
   },
   "outputs": [],
   "source": [
    "from sklearn.metrics import accuracy_score, precision_score, recall_score, f1_score, roc_auc_score\n",
    "from sklearn.naive_bayes import GaussianNB\n",
    "from sklearn.model_selection import train_test_split\n"
   ]
  },
  {
   "cell_type": "code",
   "execution_count": 21,
   "id": "94b4ccb6e9d66db4",
   "metadata": {
    "ExecuteTime": {
     "end_time": "2024-09-26T04:02:33.614467Z",
     "start_time": "2024-09-26T04:02:33.583958Z"
    }
   },
   "outputs": [],
   "source": [
    "\n",
    "\n",
    "#Naive Bayes classifier with all features\n",
    "\n",
    "cmodel = GaussianNB()\n",
    "X_train, X_test, y_train, y_test = train_test_split(X, y, test_size=0.2, random_state=42)\n",
    "cmodel.fit(X_train, y_train)\n",
    "y_pred = cmodel.predict(X_test)\n",
    "y_pred_proba = cmodel.predict_proba(X_test)[:, 1]  # Probability estimates for AUC\n",
    "\n",
    "accuracy = accuracy_score(y_test, y_pred)\n",
    "precision = precision_score(y_test, y_pred)\n",
    "recall = recall_score(y_test, y_pred)\n",
    "f1 = f1_score(y_test, y_pred)\n",
    "auc = roc_auc_score(y_test, y_pred_proba)"
   ]
  },
  {
   "cell_type": "code",
   "execution_count": 22,
   "id": "e1bf30a2a6f0e7ab",
   "metadata": {
    "ExecuteTime": {
     "end_time": "2024-09-26T04:02:33.630563Z",
     "start_time": "2024-09-26T04:02:33.615469Z"
    }
   },
   "outputs": [
    {
     "name": "stdout",
     "output_type": "stream",
     "text": [
      "Accuracy:  0.9432314410480349\n",
      "Precision:  0.6086956521739131\n",
      "Recall:  0.7777777777777778\n",
      "F1:  0.6829268292682927\n",
      "AUC:  0.9462875197472354\n"
     ]
    }
   ],
   "source": [
    "print(\"Accuracy: \", accuracy)\n",
    "print(\"Precision: \", precision)\n",
    "print(\"Recall: \", recall)\n",
    "print(\"F1: \", f1)\n",
    "print(\"AUC: \", auc)\n"
   ]
  },
  {
   "cell_type": "code",
   "execution_count": 23,
   "id": "429e5d9933944370",
   "metadata": {
    "ExecuteTime": {
     "end_time": "2024-09-26T04:02:33.645982Z",
     "start_time": "2024-09-26T04:02:33.631469Z"
    }
   },
   "outputs": [],
   "source": [
    "#Naive Bayes classifier with Mutual Info selected features\n",
    "cmodel = GaussianNB()\n",
    "X_train, X_test, y_train, y_test = train_test_split(X[Mutual_Information[0][0]], y, test_size=0.2, random_state=42)\n",
    "cmodel.fit(X_train, y_train)\n",
    "y_pred = cmodel.predict(X_test)\n",
    "y_pred_proba = cmodel.predict_proba(X_test)[:, 1]  # Probability estimates for AUC\n",
    "accuracy = accuracy_score(y_test, y_pred)\n",
    "precision = precision_score(y_test, y_pred)\n",
    "recall = recall_score(y_test, y_pred)\n",
    "f1 = f1_score(y_test, y_pred)\n",
    "auc = roc_auc_score(y_test, y_pred_proba)\n"
   ]
  },
  {
   "cell_type": "code",
   "execution_count": 24,
   "id": "cc4b93a7113ac1c9",
   "metadata": {
    "ExecuteTime": {
     "end_time": "2024-09-26T04:02:33.661985Z",
     "start_time": "2024-09-26T04:02:33.646983Z"
    }
   },
   "outputs": [
    {
     "name": "stdout",
     "output_type": "stream",
     "text": [
      "Accuracy:  0.9432314410480349\n",
      "Precision:  0.6086956521739131\n",
      "Recall:  0.7777777777777778\n",
      "F1:  0.6829268292682927\n",
      "AUC:  0.9581358609794628\n"
     ]
    }
   ],
   "source": [
    "print(\"Accuracy: \", accuracy)\n",
    "print(\"Precision: \", precision)\n",
    "print(\"Recall: \", recall)\n",
    "print(\"F1: \", f1)\n",
    "print(\"AUC: \", auc)"
   ]
  },
  {
   "cell_type": "code",
   "execution_count": 25,
   "id": "da840f16e63f93db",
   "metadata": {
    "ExecuteTime": {
     "end_time": "2024-09-26T04:02:33.677982Z",
     "start_time": "2024-09-26T04:02:33.662984Z"
    }
   },
   "outputs": [],
   "source": [
    "#Naive Bayes classifier with Chi2 selected features\n",
    "cmodel = GaussianNB()\n",
    "X_train, X_test, y_train, y_test = train_test_split(X[Chi2[0][0]], y, test_size=0.2, random_state=42)\n",
    "cmodel.fit(X_train, y_train)\n",
    "y_pred = cmodel.predict(X_test)\n",
    "y_pred_proba = cmodel.predict_proba(X_test)[:, 1]  # Probability estimates for AUC\n",
    "accuracy = accuracy_score(y_test, y_pred)\n",
    "precision = precision_score(y_test, y_pred)\n",
    "recall = recall_score(y_test, y_pred)\n",
    "f1 = f1_score(y_test, y_pred)\n",
    "auc = roc_auc_score(y_test, y_pred_proba)\n"
   ]
  },
  {
   "cell_type": "code",
   "execution_count": 26,
   "id": "9877d885f3685198",
   "metadata": {
    "ExecuteTime": {
     "end_time": "2024-09-26T04:02:33.693501Z",
     "start_time": "2024-09-26T04:02:33.678986Z"
    }
   },
   "outputs": [
    {
     "name": "stdout",
     "output_type": "stream",
     "text": [
      "Accuracy:  0.9432314410480349\n",
      "Precision:  0.6190476190476191\n",
      "Recall:  0.7222222222222222\n",
      "F1:  0.6666666666666666\n",
      "AUC:  0.9727488151658767\n"
     ]
    }
   ],
   "source": [
    "print(\"Accuracy: \", accuracy)\n",
    "print(\"Precision: \", precision)\n",
    "print(\"Recall: \", recall)\n",
    "print(\"F1: \", f1)\n",
    "print(\"AUC: \", auc)\n"
   ]
  },
  {
   "cell_type": "code",
   "execution_count": 27,
   "id": "2495990002e18a92",
   "metadata": {
    "ExecuteTime": {
     "end_time": "2024-09-26T04:02:33.709498Z",
     "start_time": "2024-09-26T04:02:33.694498Z"
    }
   },
   "outputs": [],
   "source": [
    "#Naive Bayes classifier with ReliefF selected features\n",
    "cmodel = GaussianNB()\n",
    "X_train, X_test, y_train, y_test = train_test_split(X[ReliefF[0][0]], y, test_size=0.2, random_state=42)\n",
    "cmodel.fit(X_train, y_train)\n",
    "y_pred = cmodel.predict(X_test)\n",
    "y_pred_proba = cmodel.predict_proba(X_test)[:, 1]  # Probability estimates for AUC\n",
    "accuracy = accuracy_score(y_test, y_pred)\n",
    "precision = precision_score(y_test, y_pred)\n",
    "recall = recall_score(y_test, y_pred)\n",
    "f1 = f1_score(y_test, y_pred)\n",
    "auc = roc_auc_score(y_test, y_pred_proba)\n"
   ]
  },
  {
   "cell_type": "code",
   "execution_count": 28,
   "id": "3d5a6f42d749a8f6",
   "metadata": {
    "ExecuteTime": {
     "end_time": "2024-09-26T04:02:33.725498Z",
     "start_time": "2024-09-26T04:02:33.710498Z"
    }
   },
   "outputs": [
    {
     "name": "stdout",
     "output_type": "stream",
     "text": [
      "Accuracy:  0.9301310043668122\n",
      "Precision:  0.5454545454545454\n",
      "Recall:  0.6666666666666666\n",
      "F1:  0.6\n",
      "AUC:  0.84913112164297\n"
     ]
    }
   ],
   "source": [
    "print(\"Accuracy: \", accuracy)\n",
    "print(\"Precision: \", precision)\n",
    "print(\"Recall: \", recall)\n",
    "print(\"F1: \", f1)\n",
    "print(\"AUC: \", auc)\n"
   ]
  }
 ],
 "metadata": {
  "kernelspec": {
   "display_name": "Python 3 (ipykernel)",
   "language": "python",
   "name": "python3"
  },
  "language_info": {
   "codemirror_mode": {
    "name": "ipython",
    "version": 3
   },
   "file_extension": ".py",
   "mimetype": "text/x-python",
   "name": "python",
   "nbconvert_exporter": "python",
   "pygments_lexer": "ipython3",
   "version": "3.10.7"
  }
 },
 "nbformat": 4,
 "nbformat_minor": 5
}

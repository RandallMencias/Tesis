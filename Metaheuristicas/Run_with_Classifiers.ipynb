{
 "cells": [
  {
   "cell_type": "markdown",
   "source": [
    "Todos con 500 con checkpoints de 50\n"
   ],
   "metadata": {
    "collapsed": false
   },
   "id": "fe62e976738cf405"
  },
  {
   "cell_type": "code",
   "execution_count": 53,
   "id": "initial_id",
   "metadata": {
    "collapsed": true,
    "ExecuteTime": {
     "end_time": "2024-10-13T00:52:30.213597600Z",
     "start_time": "2024-10-13T00:52:30.097884100Z"
    }
   },
   "outputs": [],
   "source": [
    "import numpy as np\n",
    "from Metaheuristicas.fitness_functions import mutual_information_eval\n",
    "from Metaheuristicas.fitness_functions import relieff_eval\n",
    "from fitness_functions import chi2_eval"
   ]
  },
  {
   "cell_type": "code",
   "execution_count": 54,
   "id": "a229cc1cd652259a",
   "metadata": {
    "ExecuteTime": {
     "end_time": "2024-10-13T00:52:30.921862500Z",
     "start_time": "2024-10-13T00:52:30.100636800Z"
    }
   },
   "outputs": [],
   "source": [
    "from Metaheuristicas.fitness_functions import load_and_preprocess_data\n",
    "\n",
    "X, y = load_and_preprocess_data(filename='Resources/SeisBenchV1_v1_1.json')\n",
    "\n"
   ]
  },
  {
   "cell_type": "code",
   "execution_count": 55,
   "id": "938a165a53143799",
   "metadata": {
    "ExecuteTime": {
     "end_time": "2024-10-13T00:52:30.921862500Z",
     "start_time": "2024-10-13T00:52:30.236187Z"
    }
   },
   "outputs": [],
   "source": [
    "#Save the results from the optimizations\n",
    "Mutual_Information = []\n",
    "Chi2 = []\n",
    "ReliefF = []\n"
   ]
  },
  {
   "cell_type": "markdown",
   "id": "9ce7a08bf1d0186c",
   "metadata": {},
   "source": [
    "### Cuckoo"
   ]
  },
  {
   "cell_type": "code",
   "execution_count": 56,
   "id": "e556a529689aadb3",
   "metadata": {
    "ExecuteTime": {
     "end_time": "2024-10-13T00:52:30.921862500Z",
     "start_time": "2024-10-13T00:52:30.247587300Z"
    }
   },
   "outputs": [],
   "source": [
    "from Metaheuristicas.Cuckoo import cuckoo_search\n",
    "n= 40\n",
    "dim = 84\n",
    "itermax = 300"
   ]
  },
  {
   "cell_type": "code",
   "execution_count": 57,
   "id": "be0342b24e2e1c04",
   "metadata": {
    "ExecuteTime": {
     "end_time": "2024-10-13T00:52:54.616767600Z",
     "start_time": "2024-10-13T00:52:30.316887300Z"
    }
   },
   "outputs": [
    {
     "name": "stdout",
     "output_type": "stream",
     "text": [
      "Mejor fitness al final de la iteración 1: 2.1548\n",
      "Mejor fitness al final de la iteración 2: 2.3777\n"
     ]
    },
    {
     "ename": "KeyboardInterrupt",
     "evalue": "",
     "output_type": "error",
     "traceback": [
      "\u001B[1;31m---------------------------------------------------------------------------\u001B[0m",
      "\u001B[1;31mKeyboardInterrupt\u001B[0m                         Traceback (most recent call last)",
      "Cell \u001B[1;32mIn[57], line 2\u001B[0m\n\u001B[0;32m      1\u001B[0m \u001B[38;5;66;03m#Cuckoo Search with Mutual Information\u001B[39;00m\n\u001B[1;32m----> 2\u001B[0m nests, fitness_scores, best_nest, best_CKfitness \u001B[38;5;241m=\u001B[39m \u001B[43mcuckoo_search\u001B[49m\u001B[43m(\u001B[49m\u001B[43mn\u001B[49m\u001B[43m,\u001B[49m\u001B[43m \u001B[49m\u001B[43mdim\u001B[49m\u001B[43m,\u001B[49m\u001B[43m \u001B[49m\u001B[38;5;241;43m150\u001B[39;49m\u001B[43m,\u001B[49m\u001B[43m \u001B[49m\u001B[43mX\u001B[49m\u001B[43m,\u001B[49m\u001B[43m \u001B[49m\u001B[43my\u001B[49m\u001B[43m,\u001B[49m\u001B[43m \u001B[49m\u001B[43mfitness_function\u001B[49m\u001B[38;5;241;43m=\u001B[39;49m\u001B[43m \u001B[49m\u001B[43mmutual_information_eval\u001B[49m\u001B[43m)\u001B[49m\n\u001B[0;32m      3\u001B[0m sorted_indices \u001B[38;5;241m=\u001B[39m np\u001B[38;5;241m.\u001B[39margsort(fitness_scores)[::\u001B[38;5;241m-\u001B[39m\u001B[38;5;241m1\u001B[39m]\n\u001B[0;32m      4\u001B[0m fitness_scores_sorted \u001B[38;5;241m=\u001B[39m fitness_scores[sorted_indices]\n",
      "File \u001B[1;32m~\\PycharmProjects\\Tesis\\Metaheuristicas\\Cuckoo.py:48\u001B[0m, in \u001B[0;36mcuckoo_search\u001B[1;34m(n, dim, iter_max, data, labels, pa, fitness_function)\u001B[0m\n\u001B[0;32m     45\u001B[0m new_nest \u001B[38;5;241m=\u001B[39m np\u001B[38;5;241m.\u001B[39mlogical_xor(nests[i], step_size)\u001B[38;5;241m.\u001B[39mastype(\u001B[38;5;28mint\u001B[39m)  \u001B[38;5;66;03m# Mutate the current nest\u001B[39;00m\n\u001B[0;32m     47\u001B[0m \u001B[38;5;66;03m# Evaluate the fitness of the newly generated nest\u001B[39;00m\n\u001B[1;32m---> 48\u001B[0m new_fitness \u001B[38;5;241m=\u001B[39m \u001B[43mfitness_function\u001B[49m\u001B[43m(\u001B[49m\u001B[43mnew_nest\u001B[49m\u001B[43m,\u001B[49m\u001B[43m \u001B[49m\u001B[43mdata\u001B[49m\u001B[43m,\u001B[49m\u001B[43m \u001B[49m\u001B[43mlabels\u001B[49m\u001B[43m)\u001B[49m\n\u001B[0;32m     49\u001B[0m \u001B[38;5;66;03m# print(f\"  Nido {i + 1} fitness: {fitness[i]:.4f} -> {new_fitness:.4f}\")\u001B[39;00m\n\u001B[0;32m     50\u001B[0m \u001B[38;5;66;03m# Select a random different nest to compare the new solution against\u001B[39;00m\n\u001B[0;32m     51\u001B[0m random_nest_index \u001B[38;5;241m=\u001B[39m np\u001B[38;5;241m.\u001B[39mrandom\u001B[38;5;241m.\u001B[39mchoice([j \u001B[38;5;28;01mfor\u001B[39;00m j \u001B[38;5;129;01min\u001B[39;00m \u001B[38;5;28mrange\u001B[39m(n) \u001B[38;5;28;01mif\u001B[39;00m j \u001B[38;5;241m!=\u001B[39m i])\n",
      "File \u001B[1;32m~\\PycharmProjects\\Tesis\\Metaheuristicas\\fitness_functions.py:16\u001B[0m, in \u001B[0;36mmutual_information_eval\u001B[1;34m(solution, data, labels)\u001B[0m\n\u001B[0;32m     14\u001B[0m \u001B[38;5;28;01mif\u001B[39;00m selected_data\u001B[38;5;241m.\u001B[39mshape[\u001B[38;5;241m1\u001B[39m] \u001B[38;5;241m==\u001B[39m \u001B[38;5;241m0\u001B[39m:\n\u001B[0;32m     15\u001B[0m     \u001B[38;5;28;01mreturn\u001B[39;00m \u001B[38;5;241m-\u001B[39mnp\u001B[38;5;241m.\u001B[39minf\n\u001B[1;32m---> 16\u001B[0m mi_scores \u001B[38;5;241m=\u001B[39m \u001B[43mmutual_info_classif\u001B[49m\u001B[43m(\u001B[49m\u001B[43mselected_data\u001B[49m\u001B[43m,\u001B[49m\u001B[43m \u001B[49m\u001B[43mlabels\u001B[49m\u001B[43m)\u001B[49m\n\u001B[0;32m     17\u001B[0m \u001B[38;5;28;01mreturn\u001B[39;00m np\u001B[38;5;241m.\u001B[39msum(mi_scores)\n",
      "File \u001B[1;32mC:\\Python311\\Lib\\site-packages\\sklearn\\utils\\_param_validation.py:213\u001B[0m, in \u001B[0;36mvalidate_params.<locals>.decorator.<locals>.wrapper\u001B[1;34m(*args, **kwargs)\u001B[0m\n\u001B[0;32m    207\u001B[0m \u001B[38;5;28;01mtry\u001B[39;00m:\n\u001B[0;32m    208\u001B[0m     \u001B[38;5;28;01mwith\u001B[39;00m config_context(\n\u001B[0;32m    209\u001B[0m         skip_parameter_validation\u001B[38;5;241m=\u001B[39m(\n\u001B[0;32m    210\u001B[0m             prefer_skip_nested_validation \u001B[38;5;129;01mor\u001B[39;00m global_skip_validation\n\u001B[0;32m    211\u001B[0m         )\n\u001B[0;32m    212\u001B[0m     ):\n\u001B[1;32m--> 213\u001B[0m         \u001B[38;5;28;01mreturn\u001B[39;00m \u001B[43mfunc\u001B[49m\u001B[43m(\u001B[49m\u001B[38;5;241;43m*\u001B[39;49m\u001B[43margs\u001B[49m\u001B[43m,\u001B[49m\u001B[43m \u001B[49m\u001B[38;5;241;43m*\u001B[39;49m\u001B[38;5;241;43m*\u001B[39;49m\u001B[43mkwargs\u001B[49m\u001B[43m)\u001B[49m\n\u001B[0;32m    214\u001B[0m \u001B[38;5;28;01mexcept\u001B[39;00m InvalidParameterError \u001B[38;5;28;01mas\u001B[39;00m e:\n\u001B[0;32m    215\u001B[0m     \u001B[38;5;66;03m# When the function is just a wrapper around an estimator, we allow\u001B[39;00m\n\u001B[0;32m    216\u001B[0m     \u001B[38;5;66;03m# the function to delegate validation to the estimator, but we replace\u001B[39;00m\n\u001B[0;32m    217\u001B[0m     \u001B[38;5;66;03m# the name of the estimator by the name of the function in the error\u001B[39;00m\n\u001B[0;32m    218\u001B[0m     \u001B[38;5;66;03m# message to avoid confusion.\u001B[39;00m\n\u001B[0;32m    219\u001B[0m     msg \u001B[38;5;241m=\u001B[39m re\u001B[38;5;241m.\u001B[39msub(\n\u001B[0;32m    220\u001B[0m         \u001B[38;5;124mr\u001B[39m\u001B[38;5;124m\"\u001B[39m\u001B[38;5;124mparameter of \u001B[39m\u001B[38;5;124m\\\u001B[39m\u001B[38;5;124mw+ must be\u001B[39m\u001B[38;5;124m\"\u001B[39m,\n\u001B[0;32m    221\u001B[0m         \u001B[38;5;124mf\u001B[39m\u001B[38;5;124m\"\u001B[39m\u001B[38;5;124mparameter of \u001B[39m\u001B[38;5;132;01m{\u001B[39;00mfunc\u001B[38;5;241m.\u001B[39m\u001B[38;5;18m__qualname__\u001B[39m\u001B[38;5;132;01m}\u001B[39;00m\u001B[38;5;124m must be\u001B[39m\u001B[38;5;124m\"\u001B[39m,\n\u001B[0;32m    222\u001B[0m         \u001B[38;5;28mstr\u001B[39m(e),\n\u001B[0;32m    223\u001B[0m     )\n",
      "File \u001B[1;32mC:\\Python311\\Lib\\site-packages\\sklearn\\feature_selection\\_mutual_info.py:514\u001B[0m, in \u001B[0;36mmutual_info_classif\u001B[1;34m(X, y, discrete_features, n_neighbors, copy, random_state)\u001B[0m\n\u001B[0;32m    427\u001B[0m \u001B[38;5;250m\u001B[39m\u001B[38;5;124;03m\"\"\"Estimate mutual information for a discrete target variable.\u001B[39;00m\n\u001B[0;32m    428\u001B[0m \n\u001B[0;32m    429\u001B[0m \u001B[38;5;124;03mMutual information (MI) [1]_ between two random variables is a non-negative\u001B[39;00m\n\u001B[1;32m   (...)\u001B[0m\n\u001B[0;32m    511\u001B[0m \u001B[38;5;124;03m       0.     , 0.     , 0.     , 0.      , 0.        ])\u001B[39;00m\n\u001B[0;32m    512\u001B[0m \u001B[38;5;124;03m\"\"\"\u001B[39;00m\n\u001B[0;32m    513\u001B[0m check_classification_targets(y)\n\u001B[1;32m--> 514\u001B[0m \u001B[38;5;28;01mreturn\u001B[39;00m \u001B[43m_estimate_mi\u001B[49m\u001B[43m(\u001B[49m\u001B[43mX\u001B[49m\u001B[43m,\u001B[49m\u001B[43m \u001B[49m\u001B[43my\u001B[49m\u001B[43m,\u001B[49m\u001B[43m \u001B[49m\u001B[43mdiscrete_features\u001B[49m\u001B[43m,\u001B[49m\u001B[43m \u001B[49m\u001B[38;5;28;43;01mTrue\u001B[39;49;00m\u001B[43m,\u001B[49m\u001B[43m \u001B[49m\u001B[43mn_neighbors\u001B[49m\u001B[43m,\u001B[49m\u001B[43m \u001B[49m\u001B[43mcopy\u001B[49m\u001B[43m,\u001B[49m\u001B[43m \u001B[49m\u001B[43mrandom_state\u001B[49m\u001B[43m)\u001B[49m\n",
      "File \u001B[1;32mC:\\Python311\\Lib\\site-packages\\sklearn\\feature_selection\\_mutual_info.py:304\u001B[0m, in \u001B[0;36m_estimate_mi\u001B[1;34m(X, y, discrete_features, discrete_target, n_neighbors, copy, random_state)\u001B[0m\n\u001B[0;32m    297\u001B[0m     y \u001B[38;5;241m=\u001B[39m scale(y, with_mean\u001B[38;5;241m=\u001B[39m\u001B[38;5;28;01mFalse\u001B[39;00m)\n\u001B[0;32m    298\u001B[0m     y \u001B[38;5;241m+\u001B[39m\u001B[38;5;241m=\u001B[39m (\n\u001B[0;32m    299\u001B[0m         \u001B[38;5;241m1e-10\u001B[39m\n\u001B[0;32m    300\u001B[0m         \u001B[38;5;241m*\u001B[39m np\u001B[38;5;241m.\u001B[39mmaximum(\u001B[38;5;241m1\u001B[39m, np\u001B[38;5;241m.\u001B[39mmean(np\u001B[38;5;241m.\u001B[39mabs(y)))\n\u001B[0;32m    301\u001B[0m         \u001B[38;5;241m*\u001B[39m rng\u001B[38;5;241m.\u001B[39mstandard_normal(size\u001B[38;5;241m=\u001B[39mn_samples)\n\u001B[0;32m    302\u001B[0m     )\n\u001B[1;32m--> 304\u001B[0m mi \u001B[38;5;241m=\u001B[39m \u001B[43m[\u001B[49m\n\u001B[0;32m    305\u001B[0m \u001B[43m    \u001B[49m\u001B[43m_compute_mi\u001B[49m\u001B[43m(\u001B[49m\u001B[43mx\u001B[49m\u001B[43m,\u001B[49m\u001B[43m \u001B[49m\u001B[43my\u001B[49m\u001B[43m,\u001B[49m\u001B[43m \u001B[49m\u001B[43mdiscrete_feature\u001B[49m\u001B[43m,\u001B[49m\u001B[43m \u001B[49m\u001B[43mdiscrete_target\u001B[49m\u001B[43m,\u001B[49m\u001B[43m \u001B[49m\u001B[43mn_neighbors\u001B[49m\u001B[43m)\u001B[49m\n\u001B[0;32m    306\u001B[0m \u001B[43m    \u001B[49m\u001B[38;5;28;43;01mfor\u001B[39;49;00m\u001B[43m \u001B[49m\u001B[43mx\u001B[49m\u001B[43m,\u001B[49m\u001B[43m \u001B[49m\u001B[43mdiscrete_feature\u001B[49m\u001B[43m \u001B[49m\u001B[38;5;129;43;01min\u001B[39;49;00m\u001B[43m \u001B[49m\u001B[38;5;28;43mzip\u001B[39;49m\u001B[43m(\u001B[49m\u001B[43m_iterate_columns\u001B[49m\u001B[43m(\u001B[49m\u001B[43mX\u001B[49m\u001B[43m)\u001B[49m\u001B[43m,\u001B[49m\u001B[43m \u001B[49m\u001B[43mdiscrete_mask\u001B[49m\u001B[43m)\u001B[49m\n\u001B[0;32m    307\u001B[0m \u001B[43m\u001B[49m\u001B[43m]\u001B[49m\n\u001B[0;32m    309\u001B[0m \u001B[38;5;28;01mreturn\u001B[39;00m np\u001B[38;5;241m.\u001B[39marray(mi)\n",
      "File \u001B[1;32mC:\\Python311\\Lib\\site-packages\\sklearn\\feature_selection\\_mutual_info.py:305\u001B[0m, in \u001B[0;36m<listcomp>\u001B[1;34m(.0)\u001B[0m\n\u001B[0;32m    297\u001B[0m     y \u001B[38;5;241m=\u001B[39m scale(y, with_mean\u001B[38;5;241m=\u001B[39m\u001B[38;5;28;01mFalse\u001B[39;00m)\n\u001B[0;32m    298\u001B[0m     y \u001B[38;5;241m+\u001B[39m\u001B[38;5;241m=\u001B[39m (\n\u001B[0;32m    299\u001B[0m         \u001B[38;5;241m1e-10\u001B[39m\n\u001B[0;32m    300\u001B[0m         \u001B[38;5;241m*\u001B[39m np\u001B[38;5;241m.\u001B[39mmaximum(\u001B[38;5;241m1\u001B[39m, np\u001B[38;5;241m.\u001B[39mmean(np\u001B[38;5;241m.\u001B[39mabs(y)))\n\u001B[0;32m    301\u001B[0m         \u001B[38;5;241m*\u001B[39m rng\u001B[38;5;241m.\u001B[39mstandard_normal(size\u001B[38;5;241m=\u001B[39mn_samples)\n\u001B[0;32m    302\u001B[0m     )\n\u001B[0;32m    304\u001B[0m mi \u001B[38;5;241m=\u001B[39m [\n\u001B[1;32m--> 305\u001B[0m     \u001B[43m_compute_mi\u001B[49m\u001B[43m(\u001B[49m\u001B[43mx\u001B[49m\u001B[43m,\u001B[49m\u001B[43m \u001B[49m\u001B[43my\u001B[49m\u001B[43m,\u001B[49m\u001B[43m \u001B[49m\u001B[43mdiscrete_feature\u001B[49m\u001B[43m,\u001B[49m\u001B[43m \u001B[49m\u001B[43mdiscrete_target\u001B[49m\u001B[43m,\u001B[49m\u001B[43m \u001B[49m\u001B[43mn_neighbors\u001B[49m\u001B[43m)\u001B[49m\n\u001B[0;32m    306\u001B[0m     \u001B[38;5;28;01mfor\u001B[39;00m x, discrete_feature \u001B[38;5;129;01min\u001B[39;00m \u001B[38;5;28mzip\u001B[39m(_iterate_columns(X), discrete_mask)\n\u001B[0;32m    307\u001B[0m ]\n\u001B[0;32m    309\u001B[0m \u001B[38;5;28;01mreturn\u001B[39;00m np\u001B[38;5;241m.\u001B[39marray(mi)\n",
      "File \u001B[1;32mC:\\Python311\\Lib\\site-packages\\sklearn\\feature_selection\\_mutual_info.py:166\u001B[0m, in \u001B[0;36m_compute_mi\u001B[1;34m(x, y, x_discrete, y_discrete, n_neighbors)\u001B[0m\n\u001B[0;32m    164\u001B[0m     \u001B[38;5;28;01mreturn\u001B[39;00m _compute_mi_cd(y, x, n_neighbors)\n\u001B[0;32m    165\u001B[0m \u001B[38;5;28;01melif\u001B[39;00m \u001B[38;5;129;01mnot\u001B[39;00m x_discrete \u001B[38;5;129;01mand\u001B[39;00m y_discrete:\n\u001B[1;32m--> 166\u001B[0m     \u001B[38;5;28;01mreturn\u001B[39;00m \u001B[43m_compute_mi_cd\u001B[49m\u001B[43m(\u001B[49m\u001B[43mx\u001B[49m\u001B[43m,\u001B[49m\u001B[43m \u001B[49m\u001B[43my\u001B[49m\u001B[43m,\u001B[49m\u001B[43m \u001B[49m\u001B[43mn_neighbors\u001B[49m\u001B[43m)\u001B[49m\n\u001B[0;32m    167\u001B[0m \u001B[38;5;28;01melse\u001B[39;00m:\n\u001B[0;32m    168\u001B[0m     \u001B[38;5;28;01mreturn\u001B[39;00m _compute_mi_cc(x, y, n_neighbors)\n",
      "File \u001B[1;32mC:\\Python311\\Lib\\site-packages\\sklearn\\feature_selection\\_mutual_info.py:128\u001B[0m, in \u001B[0;36m_compute_mi_cd\u001B[1;34m(c, d, n_neighbors)\u001B[0m\n\u001B[0;32m    126\u001B[0m nn\u001B[38;5;241m.\u001B[39mset_params(n_neighbors\u001B[38;5;241m=\u001B[39mk)\n\u001B[0;32m    127\u001B[0m nn\u001B[38;5;241m.\u001B[39mfit(c[mask])\n\u001B[1;32m--> 128\u001B[0m r \u001B[38;5;241m=\u001B[39m \u001B[43mnn\u001B[49m\u001B[38;5;241;43m.\u001B[39;49m\u001B[43mkneighbors\u001B[49m\u001B[43m(\u001B[49m\u001B[43m)\u001B[49m[\u001B[38;5;241m0\u001B[39m]\n\u001B[0;32m    129\u001B[0m radius[mask] \u001B[38;5;241m=\u001B[39m np\u001B[38;5;241m.\u001B[39mnextafter(r[:, \u001B[38;5;241m-\u001B[39m\u001B[38;5;241m1\u001B[39m], \u001B[38;5;241m0\u001B[39m)\n\u001B[0;32m    130\u001B[0m k_all[mask] \u001B[38;5;241m=\u001B[39m k\n",
      "File \u001B[1;32mC:\\Python311\\Lib\\site-packages\\sklearn\\neighbors\\_base.py:905\u001B[0m, in \u001B[0;36mKNeighborsMixin.kneighbors\u001B[1;34m(self, X, n_neighbors, return_distance)\u001B[0m\n\u001B[0;32m    899\u001B[0m     \u001B[38;5;28;01mif\u001B[39;00m issparse(X):\n\u001B[0;32m    900\u001B[0m         \u001B[38;5;28;01mraise\u001B[39;00m \u001B[38;5;167;01mValueError\u001B[39;00m(\n\u001B[0;32m    901\u001B[0m             \u001B[38;5;124m\"\u001B[39m\u001B[38;5;132;01m%s\u001B[39;00m\u001B[38;5;124m does not work with sparse matrices. Densify the data, \u001B[39m\u001B[38;5;124m\"\u001B[39m\n\u001B[0;32m    902\u001B[0m             \u001B[38;5;124m\"\u001B[39m\u001B[38;5;124mor set algorithm=\u001B[39m\u001B[38;5;124m'\u001B[39m\u001B[38;5;124mbrute\u001B[39m\u001B[38;5;124m'\u001B[39m\u001B[38;5;124m\"\u001B[39m\n\u001B[0;32m    903\u001B[0m             \u001B[38;5;241m%\u001B[39m \u001B[38;5;28mself\u001B[39m\u001B[38;5;241m.\u001B[39m_fit_method\n\u001B[0;32m    904\u001B[0m         )\n\u001B[1;32m--> 905\u001B[0m     chunked_results \u001B[38;5;241m=\u001B[39m \u001B[43mParallel\u001B[49m\u001B[43m(\u001B[49m\u001B[43mn_jobs\u001B[49m\u001B[43m,\u001B[49m\u001B[43m \u001B[49m\u001B[43mprefer\u001B[49m\u001B[38;5;241;43m=\u001B[39;49m\u001B[38;5;124;43m\"\u001B[39;49m\u001B[38;5;124;43mthreads\u001B[39;49m\u001B[38;5;124;43m\"\u001B[39;49m\u001B[43m)\u001B[49m\u001B[43m(\u001B[49m\n\u001B[0;32m    906\u001B[0m \u001B[43m        \u001B[49m\u001B[43mdelayed\u001B[49m\u001B[43m(\u001B[49m\u001B[43m_tree_query_parallel_helper\u001B[49m\u001B[43m)\u001B[49m\u001B[43m(\u001B[49m\n\u001B[0;32m    907\u001B[0m \u001B[43m            \u001B[49m\u001B[38;5;28;43mself\u001B[39;49m\u001B[38;5;241;43m.\u001B[39;49m\u001B[43m_tree\u001B[49m\u001B[43m,\u001B[49m\u001B[43m \u001B[49m\u001B[43mX\u001B[49m\u001B[43m[\u001B[49m\u001B[43ms\u001B[49m\u001B[43m]\u001B[49m\u001B[43m,\u001B[49m\u001B[43m \u001B[49m\u001B[43mn_neighbors\u001B[49m\u001B[43m,\u001B[49m\u001B[43m \u001B[49m\u001B[43mreturn_distance\u001B[49m\n\u001B[0;32m    908\u001B[0m \u001B[43m        \u001B[49m\u001B[43m)\u001B[49m\n\u001B[0;32m    909\u001B[0m \u001B[43m        \u001B[49m\u001B[38;5;28;43;01mfor\u001B[39;49;00m\u001B[43m \u001B[49m\u001B[43ms\u001B[49m\u001B[43m \u001B[49m\u001B[38;5;129;43;01min\u001B[39;49;00m\u001B[43m \u001B[49m\u001B[43mgen_even_slices\u001B[49m\u001B[43m(\u001B[49m\u001B[43mX\u001B[49m\u001B[38;5;241;43m.\u001B[39;49m\u001B[43mshape\u001B[49m\u001B[43m[\u001B[49m\u001B[38;5;241;43m0\u001B[39;49m\u001B[43m]\u001B[49m\u001B[43m,\u001B[49m\u001B[43m \u001B[49m\u001B[43mn_jobs\u001B[49m\u001B[43m)\u001B[49m\n\u001B[0;32m    910\u001B[0m \u001B[43m    \u001B[49m\u001B[43m)\u001B[49m\n\u001B[0;32m    911\u001B[0m \u001B[38;5;28;01melse\u001B[39;00m:\n\u001B[0;32m    912\u001B[0m     \u001B[38;5;28;01mraise\u001B[39;00m \u001B[38;5;167;01mValueError\u001B[39;00m(\u001B[38;5;124m\"\u001B[39m\u001B[38;5;124minternal: _fit_method not recognized\u001B[39m\u001B[38;5;124m\"\u001B[39m)\n",
      "File \u001B[1;32mC:\\Python311\\Lib\\site-packages\\sklearn\\utils\\parallel.py:67\u001B[0m, in \u001B[0;36mParallel.__call__\u001B[1;34m(self, iterable)\u001B[0m\n\u001B[0;32m     62\u001B[0m config \u001B[38;5;241m=\u001B[39m get_config()\n\u001B[0;32m     63\u001B[0m iterable_with_config \u001B[38;5;241m=\u001B[39m (\n\u001B[0;32m     64\u001B[0m     (_with_config(delayed_func, config), args, kwargs)\n\u001B[0;32m     65\u001B[0m     \u001B[38;5;28;01mfor\u001B[39;00m delayed_func, args, kwargs \u001B[38;5;129;01min\u001B[39;00m iterable\n\u001B[0;32m     66\u001B[0m )\n\u001B[1;32m---> 67\u001B[0m \u001B[38;5;28;01mreturn\u001B[39;00m \u001B[38;5;28;43msuper\u001B[39;49m\u001B[43m(\u001B[49m\u001B[43m)\u001B[49m\u001B[38;5;241;43m.\u001B[39;49m\u001B[38;5;21;43m__call__\u001B[39;49m\u001B[43m(\u001B[49m\u001B[43miterable_with_config\u001B[49m\u001B[43m)\u001B[49m\n",
      "File \u001B[1;32mC:\\Python311\\Lib\\site-packages\\joblib\\parallel.py:1863\u001B[0m, in \u001B[0;36mParallel.__call__\u001B[1;34m(self, iterable)\u001B[0m\n\u001B[0;32m   1861\u001B[0m     output \u001B[38;5;241m=\u001B[39m \u001B[38;5;28mself\u001B[39m\u001B[38;5;241m.\u001B[39m_get_sequential_output(iterable)\n\u001B[0;32m   1862\u001B[0m     \u001B[38;5;28mnext\u001B[39m(output)\n\u001B[1;32m-> 1863\u001B[0m     \u001B[38;5;28;01mreturn\u001B[39;00m output \u001B[38;5;28;01mif\u001B[39;00m \u001B[38;5;28mself\u001B[39m\u001B[38;5;241m.\u001B[39mreturn_generator \u001B[38;5;28;01melse\u001B[39;00m \u001B[38;5;28mlist\u001B[39m(output)\n\u001B[0;32m   1865\u001B[0m \u001B[38;5;66;03m# Let's create an ID that uniquely identifies the current call. If the\u001B[39;00m\n\u001B[0;32m   1866\u001B[0m \u001B[38;5;66;03m# call is interrupted early and that the same instance is immediately\u001B[39;00m\n\u001B[0;32m   1867\u001B[0m \u001B[38;5;66;03m# re-used, this id will be used to prevent workers that were\u001B[39;00m\n\u001B[0;32m   1868\u001B[0m \u001B[38;5;66;03m# concurrently finalizing a task from the previous call to run the\u001B[39;00m\n\u001B[0;32m   1869\u001B[0m \u001B[38;5;66;03m# callback.\u001B[39;00m\n\u001B[0;32m   1870\u001B[0m \u001B[38;5;28;01mwith\u001B[39;00m \u001B[38;5;28mself\u001B[39m\u001B[38;5;241m.\u001B[39m_lock:\n",
      "File \u001B[1;32mC:\\Python311\\Lib\\site-packages\\joblib\\parallel.py:1792\u001B[0m, in \u001B[0;36mParallel._get_sequential_output\u001B[1;34m(self, iterable)\u001B[0m\n\u001B[0;32m   1790\u001B[0m \u001B[38;5;28mself\u001B[39m\u001B[38;5;241m.\u001B[39mn_dispatched_batches \u001B[38;5;241m+\u001B[39m\u001B[38;5;241m=\u001B[39m \u001B[38;5;241m1\u001B[39m\n\u001B[0;32m   1791\u001B[0m \u001B[38;5;28mself\u001B[39m\u001B[38;5;241m.\u001B[39mn_dispatched_tasks \u001B[38;5;241m+\u001B[39m\u001B[38;5;241m=\u001B[39m \u001B[38;5;241m1\u001B[39m\n\u001B[1;32m-> 1792\u001B[0m res \u001B[38;5;241m=\u001B[39m \u001B[43mfunc\u001B[49m\u001B[43m(\u001B[49m\u001B[38;5;241;43m*\u001B[39;49m\u001B[43margs\u001B[49m\u001B[43m,\u001B[49m\u001B[43m \u001B[49m\u001B[38;5;241;43m*\u001B[39;49m\u001B[38;5;241;43m*\u001B[39;49m\u001B[43mkwargs\u001B[49m\u001B[43m)\u001B[49m\n\u001B[0;32m   1793\u001B[0m \u001B[38;5;28mself\u001B[39m\u001B[38;5;241m.\u001B[39mn_completed_tasks \u001B[38;5;241m+\u001B[39m\u001B[38;5;241m=\u001B[39m \u001B[38;5;241m1\u001B[39m\n\u001B[0;32m   1794\u001B[0m \u001B[38;5;28mself\u001B[39m\u001B[38;5;241m.\u001B[39mprint_progress()\n",
      "File \u001B[1;32mC:\\Python311\\Lib\\site-packages\\sklearn\\utils\\parallel.py:129\u001B[0m, in \u001B[0;36m_FuncWrapper.__call__\u001B[1;34m(self, *args, **kwargs)\u001B[0m\n\u001B[0;32m    127\u001B[0m     config \u001B[38;5;241m=\u001B[39m {}\n\u001B[0;32m    128\u001B[0m \u001B[38;5;28;01mwith\u001B[39;00m config_context(\u001B[38;5;241m*\u001B[39m\u001B[38;5;241m*\u001B[39mconfig):\n\u001B[1;32m--> 129\u001B[0m     \u001B[38;5;28;01mreturn\u001B[39;00m \u001B[38;5;28;43mself\u001B[39;49m\u001B[38;5;241;43m.\u001B[39;49m\u001B[43mfunction\u001B[49m\u001B[43m(\u001B[49m\u001B[38;5;241;43m*\u001B[39;49m\u001B[43margs\u001B[49m\u001B[43m,\u001B[49m\u001B[43m \u001B[49m\u001B[38;5;241;43m*\u001B[39;49m\u001B[38;5;241;43m*\u001B[39;49m\u001B[43mkwargs\u001B[49m\u001B[43m)\u001B[49m\n",
      "File \u001B[1;32mC:\\Python311\\Lib\\site-packages\\sklearn\\neighbors\\_base.py:705\u001B[0m, in \u001B[0;36m_tree_query_parallel_helper\u001B[1;34m(tree, *args, **kwargs)\u001B[0m\n\u001B[0;32m    699\u001B[0m \u001B[38;5;28;01mdef\u001B[39;00m \u001B[38;5;21m_tree_query_parallel_helper\u001B[39m(tree, \u001B[38;5;241m*\u001B[39margs, \u001B[38;5;241m*\u001B[39m\u001B[38;5;241m*\u001B[39mkwargs):\n\u001B[0;32m    700\u001B[0m \u001B[38;5;250m    \u001B[39m\u001B[38;5;124;03m\"\"\"Helper for the Parallel calls in KNeighborsMixin.kneighbors.\u001B[39;00m\n\u001B[0;32m    701\u001B[0m \n\u001B[0;32m    702\u001B[0m \u001B[38;5;124;03m    The Cython method tree.query is not directly picklable by cloudpickle\u001B[39;00m\n\u001B[0;32m    703\u001B[0m \u001B[38;5;124;03m    under PyPy.\u001B[39;00m\n\u001B[0;32m    704\u001B[0m \u001B[38;5;124;03m    \"\"\"\u001B[39;00m\n\u001B[1;32m--> 705\u001B[0m     \u001B[38;5;28;01mreturn\u001B[39;00m \u001B[43mtree\u001B[49m\u001B[38;5;241;43m.\u001B[39;49m\u001B[43mquery\u001B[49m\u001B[43m(\u001B[49m\u001B[38;5;241;43m*\u001B[39;49m\u001B[43margs\u001B[49m\u001B[43m,\u001B[49m\u001B[43m \u001B[49m\u001B[38;5;241;43m*\u001B[39;49m\u001B[38;5;241;43m*\u001B[39;49m\u001B[43mkwargs\u001B[49m\u001B[43m)\u001B[49m\n",
      "\u001B[1;31mKeyboardInterrupt\u001B[0m: "
     ]
    }
   ],
   "source": [
    "#Cuckoo Search with Mutual Information\n",
    "nests, fitness_scores, best_nest, best_CKfitness = cuckoo_search(n, dim, 150, X, y, fitness_function= mutual_information_eval)\n",
    "sorted_indices = np.argsort(fitness_scores)[::-1]\n",
    "fitness_scores_sorted = fitness_scores[sorted_indices]\n",
    "CKMIFeatures = X.columns[best_nest.astype(bool)].tolist()\n",
    "Mutual_Information.append([CKMIFeatures, fitness_scores_sorted[0]])\n",
    "print(CKMIFeatures)\n",
    "print(fitness_scores_sorted[0])\n",
    "np.sum(len(CKMIFeatures))"
   ]
  },
  {
   "cell_type": "code",
   "execution_count": null,
   "outputs": [],
   "source": [
    "from sklearn.metrics import accuracy_score, precision_score, recall_score, f1_score, roc_auc_score\n",
    "from sklearn.naive_bayes import GaussianNB\n",
    "\n",
    "#Naive Bayes\n",
    "model = GaussianNB()\n",
    "model.fit(X[CKMIFeatures], y)\n",
    "y_pred = model.predict(X[CKMIFeatures])\n",
    "print(\"Accuracy:\", accuracy_score(y, y_pred))\n",
    "print(\"Precision:\", precision_score(y, y_pred))\n",
    "print(\"Recall:\", recall_score(y, y_pred))\n",
    "print(\"F1:\", f1_score(y, y_pred))\n",
    "print(\"AUC:\", roc_auc_score(y, y_pred))\n"
   ],
   "metadata": {
    "collapsed": false,
    "ExecuteTime": {
     "end_time": "2024-10-13T00:52:54.619332300Z",
     "start_time": "2024-10-13T00:52:54.616767600Z"
    }
   },
   "id": "69795eba76755bb6"
  },
  {
   "cell_type": "code",
   "execution_count": null,
   "outputs": [],
   "source": [
    "#Random Forest \n",
    "from sklearn.ensemble import RandomForestClassifier\n",
    "model = RandomForestClassifier()\n",
    "model.fit(X[CKMIFeatures], y)\n",
    "y_pred = model.predict(X[CKMIFeatures])\n",
    "print(\"Accuracy:\", accuracy_score(y, y_pred))\n",
    "print(\"Precision:\", precision_score(y, y_pred))\n",
    "print(\"Recall:\", recall_score(y, y_pred))\n",
    "print(\"F1:\", f1_score(y, y_pred))\n",
    "print(\"AUC:\", roc_auc_score(y, y_pred))\n"
   ],
   "metadata": {
    "collapsed": false,
    "ExecuteTime": {
     "start_time": "2024-10-13T00:52:54.619332300Z"
    }
   },
   "id": "e749e17eb3ba499a"
  },
  {
   "cell_type": "code",
   "execution_count": null,
   "outputs": [],
   "source": [
    "#Red Neuronal\n",
    "# from sklearn.neural_network import MLPClassifier\n",
    "# model = MLPClassifier()\n",
    "# model.fit(X[CKMIFeatures], y)\n",
    "# y_pred = model.predict(X[CKMIFeatures])\n",
    "# print(\"Accuracy:\", accuracy_score(y, y_pred))\n",
    "# print(\"Precision:\", precision_score(y, y_pred))\n",
    "# print(\"Recall:\", recall_score(y, y_pred))\n",
    "# print(\"F1:\", f1_score(y, y_pred))\n",
    "# print(\"AUC:\", roc_auc_score(y, y_pred))\n"
   ],
   "metadata": {
    "collapsed": false,
    "ExecuteTime": {
     "start_time": "2024-10-13T00:52:54.620696Z"
    }
   },
   "id": "603d2005845b1a68"
  },
  {
   "cell_type": "code",
   "execution_count": null,
   "id": "de09e956388aafcb",
   "metadata": {
    "ExecuteTime": {
     "end_time": "2024-10-13T00:52:54.624242700Z",
     "start_time": "2024-10-13T00:52:54.621814800Z"
    }
   },
   "outputs": [],
   "source": [
    "#Cuckoo Search with Chi2\n",
    "nests, fitness_scores, best_nest, best_CKfitness = cuckoo_search(n, dim, itermax, X, y, fitness_function= chi2_eval)\n",
    "sorted_indices = np.argsort(fitness_scores)[::-1]\n",
    "fitness_scores_sorted = fitness_scores[sorted_indices]\n",
    "CKMIFeatures = X.columns[best_nest.astype(bool)].tolist()\n",
    "Chi2.append([CKMIFeatures, fitness_scores_sorted[0]])\n",
    "print(CKMIFeatures)\n",
    "print(fitness_scores_sorted[0])\n",
    "np.sum(len(CKMIFeatures))"
   ]
  },
  {
   "cell_type": "code",
   "execution_count": null,
   "outputs": [],
   "source": [
    "#Naive Bayes\n",
    "model = GaussianNB()\n",
    "model.fit(X[CKMIFeatures], y)\n",
    "y_pred = model.predict(X[CKMIFeatures])\n",
    "print(\"Accuracy:\", accuracy_score(y, y_pred))\n",
    "print(\"Precision:\", precision_score(y, y_pred))\n",
    "print(\"Recall:\", recall_score(y, y_pred))   \n",
    "print(\"F1:\", f1_score(y, y_pred))\n",
    "print(\"AUC:\", roc_auc_score(y, y_pred))"
   ],
   "metadata": {
    "collapsed": false,
    "ExecuteTime": {
     "start_time": "2024-10-13T00:52:54.622840600Z"
    }
   },
   "id": "8c826697026cbe4f"
  },
  {
   "cell_type": "code",
   "execution_count": null,
   "outputs": [],
   "source": [
    "#Random Forest\n",
    "model = RandomForestClassifier()\n",
    "model.fit(X[CKMIFeatures], y)\n",
    "y_pred = model.predict(X[CKMIFeatures])\n",
    "print(\"Accuracy:\", accuracy_score(y, y_pred))\n",
    "print(\"Precision:\", precision_score(y, y_pred))\n",
    "print(\"Recall:\", recall_score(y, y_pred))\n",
    "print(\"F1:\", f1_score(y, y_pred))\n",
    "print(\"AUC:\", roc_auc_score(y, y_pred))\n"
   ],
   "metadata": {
    "collapsed": false,
    "ExecuteTime": {
     "start_time": "2024-10-13T00:52:54.624242700Z"
    }
   },
   "id": "5c9389957e075626"
  },
  {
   "cell_type": "code",
   "execution_count": null,
   "outputs": [],
   "source": [
    "#Red Neuronal\n",
    "# model = MLPClassifier()\n",
    "# model.fit(X[CKMIFeatures], y)\n",
    "# y_pred = model.predict(X[CKMIFeatures])\n",
    "# print(\"Accuracy:\", accuracy_score(y, y_pred))\n",
    "# print(\"Precision:\", precision_score(y, y_pred))\n",
    "# print(\"Recall:\", recall_score(y, y_pred))\n",
    "# print(\"F1:\", f1_score(y, y_pred))\n",
    "# print(\"AUC:\", roc_auc_score(y, y_pred))\n"
   ],
   "metadata": {
    "collapsed": false,
    "ExecuteTime": {
     "end_time": "2024-10-13T00:52:54.632533500Z",
     "start_time": "2024-10-13T00:52:54.625248800Z"
    }
   },
   "id": "a835ed59b1582fcf"
  },
  {
   "cell_type": "code",
   "execution_count": null,
   "id": "4778665b53beb681",
   "metadata": {
    "ExecuteTime": {
     "start_time": "2024-10-13T00:52:54.626260600Z"
    }
   },
   "outputs": [],
   "source": [
    "#Cuckoo Search with ReliefF\n",
    "nests, fitness_scores, best_nest, best_CKfitness = cuckoo_search(n, dim, itermax, X, y, fitness_function= relieff_eval)\n",
    "sorted_indices = np.argsort(fitness_scores)[::-1]\n",
    "fitness_scores_sorted = fitness_scores[sorted_indices]\n",
    "CKMIFeatures = X.columns[best_nest.astype(bool)].tolist()\n",
    "ReliefF.append([CKMIFeatures, fitness_scores_sorted[0]])\n",
    "print(CKMIFeatures)\n",
    "print(fitness_scores_sorted[0])\n",
    "np.sum(len(CKMIFeatures))"
   ]
  },
  {
   "cell_type": "code",
   "execution_count": null,
   "outputs": [],
   "source": [
    "#Naive Bayes\n",
    "model = GaussianNB()\n",
    "model.fit(X[CKMIFeatures], y)\n",
    "y_pred = model.predict(X[CKMIFeatures])\n",
    "print(\"Accuracy:\", accuracy_score(y, y_pred))\n",
    "print(\"Precision:\", precision_score(y, y_pred))\n",
    "print(\"Recall:\", recall_score(y, y_pred))\n",
    "print(\"F1:\", f1_score(y, y_pred))\n",
    "print(\"AUC:\", roc_auc_score(y, y_pred))"
   ],
   "metadata": {
    "collapsed": false,
    "ExecuteTime": {
     "start_time": "2024-10-13T00:52:54.627257800Z"
    }
   },
   "id": "748aca36ac2a80a9"
  },
  {
   "cell_type": "code",
   "execution_count": null,
   "outputs": [],
   "source": [
    "#Random Forest\n",
    "model = RandomForestClassifier()\n",
    "model.fit(X[CKMIFeatures], y)\n",
    "y_pred = model.predict(X[CKMIFeatures])\n",
    "print(\"Accuracy:\", accuracy_score(y, y_pred))\n",
    "print(\"Precision:\", precision_score(y, y_pred))\n",
    "print(\"Recall:\", recall_score(y, y_pred))\n",
    "print(\"F1:\", f1_score(y, y_pred))\n",
    "print(\"AUC:\", roc_auc_score(y, y_pred))\n"
   ],
   "metadata": {
    "collapsed": false,
    "ExecuteTime": {
     "start_time": "2024-10-13T00:52:54.628258Z"
    }
   },
   "id": "615ee588bf13135a"
  },
  {
   "cell_type": "markdown",
   "id": "75ed806a153cb2bf",
   "metadata": {},
   "source": [
    "### Genetic Algorithm"
   ]
  },
  {
   "cell_type": "code",
   "execution_count": null,
   "id": "83a9f7e42201fc6f",
   "metadata": {
    "ExecuteTime": {
     "start_time": "2024-10-13T00:52:54.630536300Z"
    }
   },
   "outputs": [],
   "source": [
    "population_size = 47\n",
    "gn = 750\n",
    "mutation_rate=0.5\n",
    "crossover_rate=0.5\n"
   ]
  },
  {
   "cell_type": "markdown",
   "source": [
    "poblacion es la mitad del cromosoma, probar diferentes tamanios de generaciones con salto de 50, 27 (1/3 del dataset) padres, obtner el mejor subset con clasificador con auc, precision, recall, f1, accuracy. Comparar los clasificadores con los mejores subsets"
   ],
   "metadata": {
    "collapsed": false
   },
   "id": "bea95acce3acb273"
  },
  {
   "cell_type": "code",
   "execution_count": null,
   "id": "d65525adb98e9d72",
   "metadata": {
    "ExecuteTime": {
     "start_time": "2024-10-13T00:52:54.631534500Z"
    }
   },
   "outputs": [],
   "source": [
    "from Metaheuristicas.Genetico import genetic_algorithm\n",
    "#Genetic with Mutual Info\n",
    "best_solution, best_Gfitness = genetic_algorithm(X, y,population_size,generations=gn,mutation_rate=mutation_rate,crossover_rate=crossover_rate,fitness_function=mutual_information_eval )\n",
    "selected_features = X.columns[best_solution.astype(bool)].tolist()\n",
    "print(f\"Selected_features:\", selected_features)\n",
    "print(f\"Best Fitness: \", best_Gfitness)\n",
    "print(f\"Length: \", np.sum(best_solution))\n",
    "\n",
    "Mutual_Information.append([selected_features, best_Gfitness])\n"
   ]
  },
  {
   "cell_type": "code",
   "execution_count": null,
   "outputs": [],
   "source": [
    "#Naive Bayes\n",
    "model = GaussianNB()\n",
    "model.fit(X[selected_features], y)\n",
    "y_pred = model.predict(X[selected_features])\n",
    "print(\"Accuracy:\", accuracy_score(y, y_pred))\n",
    "print(\"Precision:\", precision_score(y, y_pred))\n",
    "print(\"Recall:\", recall_score(y, y_pred))\n",
    "print(\"F1:\", f1_score(y, y_pred))\n",
    "print(\"AUC:\", roc_auc_score(y, y_pred))\n",
    "\n"
   ],
   "metadata": {
    "collapsed": false,
    "ExecuteTime": {
     "start_time": "2024-10-13T00:52:54.632533500Z"
    }
   },
   "id": "97754aa06fea96b"
  },
  {
   "cell_type": "code",
   "execution_count": null,
   "outputs": [],
   "source": [
    "#Random Forest\n",
    "model = RandomForestClassifier()\n",
    "model.fit(X[selected_features], y)\n",
    "y_pred = model.predict(X[selected_features])\n",
    "print(\"Accuracy:\", accuracy_score(y, y_pred))\n",
    "print(\"Precision:\", precision_score(y, y_pred))\n",
    "print(\"Recall:\", recall_score(y, y_pred))\n",
    "print(\"F1:\", f1_score(y, y_pred))\n",
    "print(\"AUC:\", roc_auc_score(y, y_pred))\n"
   ],
   "metadata": {
    "collapsed": false,
    "ExecuteTime": {
     "end_time": "2024-10-13T00:52:54.634818200Z",
     "start_time": "2024-10-13T00:52:54.633533200Z"
    }
   },
   "id": "58c6fdd31d4523ce"
  },
  {
   "cell_type": "code",
   "execution_count": null,
   "outputs": [],
   "source": [
    "#Red Neuronal\n",
    "print(\"Red Neuronal\")\n"
   ],
   "metadata": {
    "collapsed": false,
    "ExecuteTime": {
     "start_time": "2024-10-13T00:52:54.634818200Z"
    }
   },
   "id": "b280ffbcfec60aab"
  },
  {
   "cell_type": "code",
   "execution_count": null,
   "id": "e933917ba371e716",
   "metadata": {
    "ExecuteTime": {
     "start_time": "2024-10-13T00:52:54.636221400Z"
    }
   },
   "outputs": [],
   "source": [
    "from Metaheuristicas.Genetico import genetic_algorithm\n",
    "#Genetic with Chi2\n",
    "\n",
    "best_solution, best_Gfitness = genetic_algorithm(X, y,population_size,generations=gn,mutation_rate=mutation_rate,crossover_rate=crossover_rate,fitness_function=chi2_eval )\n",
    "selected_features = X.columns[best_solution.astype(bool)].tolist()\n",
    "print(f\"Selected_features:\", selected_features)\n",
    "print(f\"Best Fitness: \", best_Gfitness)\n",
    "print(f\"Length: \", np.sum(best_solution))\n",
    "\n",
    "Chi2.append([selected_features, best_Gfitness])"
   ]
  },
  {
   "cell_type": "code",
   "execution_count": null,
   "outputs": [],
   "source": [
    "#Random Forest\n",
    "model = RandomForestClassifier()\n",
    "model.fit(X[selected_features], y)\n",
    "y_pred = model.predict(X[selected_features])\n",
    "print(\"Accuracy:\", accuracy_score(y, y_pred))\n",
    "print(\"Precision:\", precision_score(y, y_pred))\n",
    "print(\"Recall:\", recall_score(y, y_pred))\n",
    "print(\"F1:\", f1_score(y, y_pred))\n",
    "print(\"AUC:\", roc_auc_score(y, y_pred))\n",
    "\n",
    "\n"
   ],
   "metadata": {
    "collapsed": false,
    "ExecuteTime": {
     "start_time": "2024-10-13T00:52:54.637633Z"
    }
   },
   "id": "2c651242407c533a"
  },
  {
   "cell_type": "code",
   "execution_count": null,
   "outputs": [],
   "source": [
    "#Neural Network"
   ],
   "metadata": {
    "collapsed": false,
    "ExecuteTime": {
     "start_time": "2024-10-13T00:52:54.638721Z"
    }
   },
   "id": "7ad1c52bd8fad0ce"
  },
  {
   "cell_type": "code",
   "execution_count": null,
   "id": "43b8ee0423ac5c35",
   "metadata": {
    "ExecuteTime": {
     "start_time": "2024-10-13T00:52:54.639743100Z"
    }
   },
   "outputs": [],
   "source": [
    "from Metaheuristicas.Genetico import genetic_algorithm\n",
    "#Genetic with Relieff\n",
    "\n",
    "best_solution, best_Gfitness = genetic_algorithm(X, y,population_size,generations=gn,mutation_rate=mutation_rate,crossover_rate=crossover_rate,fitness_function=relieff_eval )\n",
    "selected_features = X.columns[best_solution.astype(bool)].tolist()\n",
    "print(f\"Selected_features:\", selected_features)\n",
    "print(f\"Best Fitness: \", best_Gfitness)\n",
    "print(f\"Length: \", np.sum(best_solution))\n",
    "\n",
    "ReliefF.append([selected_features, best_Gfitness])"
   ]
  },
  {
   "cell_type": "code",
   "execution_count": null,
   "outputs": [],
   "source": [
    "#Naive Bayes\n",
    "model = GaussianNB()\n",
    "model.fit(X[selected_features], y)\n",
    "y_pred = model.predict(X[selected_features])\n",
    "print(\"Accuracy:\", accuracy_score(y, y_pred))\n",
    "print(\"Precision:\", precision_score(y, y_pred))\n",
    "print(\"Recall:\", recall_score(y, y_pred))\n",
    "print(\"F1:\", f1_score(y, y_pred))\n",
    "print(\"AUC:\", roc_auc_score(y, y_pred))\n"
   ],
   "metadata": {
    "collapsed": false,
    "ExecuteTime": {
     "start_time": "2024-10-13T00:52:54.640904Z"
    }
   },
   "id": "5cca63a8f0fab604"
  },
  {
   "cell_type": "code",
   "execution_count": null,
   "outputs": [],
   "source": [
    "#Random Forest\n",
    "model = RandomForestClassifier()\n",
    "model.fit(X[selected_features], y)\n",
    "y_pred = model.predict(X[selected_features])\n",
    "print(\"Accuracy:\", accuracy_score(y, y_pred))\n",
    "print(\"Precision:\", precision_score(y, y_pred))\n",
    "print(\"Recall:\", recall_score(y, y_pred))\n",
    "print(\"F1:\", f1_score(y, y_pred))\n",
    "print(\"AUC:\", roc_auc_score(y, y_pred))\n"
   ],
   "metadata": {
    "collapsed": false,
    "ExecuteTime": {
     "start_time": "2024-10-13T00:52:54.642052600Z"
    }
   },
   "id": "42f1635d558d8e2"
  },
  {
   "cell_type": "markdown",
   "id": "693d774d36e33198",
   "metadata": {},
   "source": [
    "### Advanced Ant Colony Optimization"
   ]
  },
  {
   "cell_type": "code",
   "execution_count": null,
   "id": "b6e2f3c25d256e2d",
   "metadata": {
    "ExecuteTime": {
     "end_time": "2024-10-13T00:52:54.649936400Z",
     "start_time": "2024-10-13T00:52:54.643267400Z"
    }
   },
   "outputs": [],
   "source": [
    "n_ants=47\n",
    "n_best=1\n",
    "n_iterations=500\n"
   ]
  },
  {
   "cell_type": "markdown",
   "source": [
    "minimo de 10 caracteristicas. Restringir la convergencia a 10 caracteristicas. Investigar alpha y beta"
   ],
   "metadata": {
    "collapsed": false
   },
   "id": "e4d960abf43ffb06"
  },
  {
   "cell_type": "code",
   "execution_count": null,
   "id": "466853f850dd1ad5",
   "metadata": {
    "ExecuteTime": {
     "start_time": "2024-10-13T00:52:54.644284400Z"
    }
   },
   "outputs": [],
   "source": [
    "from Metaheuristicas.Ant_Colony_Optimization import AdvancedBinaryAntColonyOptimization\n",
    "#ACO with Mutual\n",
    "aco = AdvancedBinaryAntColonyOptimization(n_ants, n_best, n_iterations, decay=0.6, alpha=1, beta=2)\n",
    "#                                               local_search_prob=0.15)\n",
    "best_solution, best_fitness = aco.fit(X.values, y.values,fitness_function=mutual_information_eval)\n",
    "bf = X.columns[best_solution == 1]\n",
    "print(f\"Best solution: {bf}\")\n",
    "print(f\"Best solution length: {len(best_solution)}\")\n",
    "print(f\"Best fitness: {best_fitness}\")\n",
    "Mutual_Information.append([bf,best_fitness])"
   ]
  },
  {
   "cell_type": "code",
   "execution_count": null,
   "outputs": [],
   "source": [
    "#Naive Bayes\n",
    "model = GaussianNB()\n",
    "model.fit(X[bf], y)\n",
    "y_pred = model.predict(X[bf])\n",
    "print(\"Accuracy:\", accuracy_score(y, y_pred))\n",
    "print(\"Precision:\", precision_score(y, y_pred))\n",
    "print(\"Recall:\", recall_score(y, y_pred))\n",
    "print(\"F1:\", f1_score(y, y_pred))\n",
    "print(\"AUC:\", roc_auc_score(y, y_pred))\n"
   ],
   "metadata": {
    "collapsed": false,
    "ExecuteTime": {
     "start_time": "2024-10-13T00:52:54.646323600Z"
    }
   },
   "id": "135fee3694585dd2"
  },
  {
   "cell_type": "code",
   "execution_count": null,
   "outputs": [],
   "source": [
    "#Random Forest\n",
    "model = RandomForestClassifier()\n",
    "model.fit(X[bf], y)\n",
    "y_pred = model.predict(X[bf])\n",
    "print(\"Accuracy:\", accuracy_score(y, y_pred))\n",
    "print(\"Precision:\", precision_score(y, y_pred))\n",
    "print(\"Recall:\", recall_score(y, y_pred))\n",
    "print(\"F1:\", f1_score(y, y_pred))\n",
    "print(\"AUC:\", roc_auc_score(y, y_pred))\n"
   ],
   "metadata": {
    "collapsed": false,
    "ExecuteTime": {
     "start_time": "2024-10-13T00:52:54.647651300Z"
    }
   },
   "id": "4974b4f386417761"
  },
  {
   "cell_type": "code",
   "execution_count": null,
   "outputs": [],
   "source": [
    "#Red Neuronal\n"
   ],
   "metadata": {
    "collapsed": false,
    "ExecuteTime": {
     "start_time": "2024-10-13T00:52:54.648758800Z"
    }
   },
   "id": "f38d6ee1255ee5ac"
  },
  {
   "cell_type": "code",
   "execution_count": null,
   "id": "127bf76e28fae595",
   "metadata": {
    "ExecuteTime": {
     "start_time": "2024-10-13T00:52:54.649936400Z"
    }
   },
   "outputs": [],
   "source": [
    "#ACO with Chi2\n",
    "\n",
    "best_solution, best_fitness = aco.fit(X.values, y.values,fitness_function=chi2_eval)\n",
    "bf = X.columns[best_solution == 1]\n",
    "print(f\"Best solution: {bf}\")\n",
    "print(f\"Best solution length: {len(best_solution)}\")\n",
    "print(f\"Best fitness: {best_fitness}\")\n",
    "Chi2.append([bf,best_fitness])"
   ]
  },
  {
   "cell_type": "code",
   "execution_count": null,
   "outputs": [],
   "source": [
    "#Naive Bayes\n",
    "model = GaussianNB()\n",
    "model.fit(X[bf], y)\n",
    "y_pred = model.predict(X[bf])\n",
    "print(\"Accuracy:\", accuracy_score(y, y_pred))\n",
    "print(\"Precision:\", precision_score(y, y_pred))\n",
    "print(\"Recall:\", recall_score(y, y_pred))\n",
    "print(\"F1:\", f1_score(y, y_pred))\n",
    "print(\"AUC:\", roc_auc_score(y, y_pred))\n"
   ],
   "metadata": {
    "collapsed": false,
    "ExecuteTime": {
     "end_time": "2024-10-13T00:52:54.696366200Z",
     "start_time": "2024-10-13T00:52:54.651014800Z"
    }
   },
   "id": "b76f999e3618cdb7"
  },
  {
   "cell_type": "code",
   "execution_count": null,
   "outputs": [],
   "source": [
    "#Random Forest\n",
    "model = RandomForestClassifier()\n",
    "model.fit(X[bf], y)\n",
    "y_pred = model.predict(X[bf])\n",
    "print(\"Accuracy:\", accuracy_score(y, y_pred))\n",
    "print(\"Precision:\", precision_score(y, y_pred))\n",
    "print(\"Recall:\", recall_score(y, y_pred))\n",
    "print(\"F1:\", f1_score(y, y_pred))\n",
    "print(\"AUC:\", roc_auc_score(y, y_pred))\n"
   ],
   "metadata": {
    "collapsed": false,
    "ExecuteTime": {
     "start_time": "2024-10-13T00:52:54.652255500Z"
    }
   },
   "id": "4cb393a4fa30e38"
  },
  {
   "cell_type": "code",
   "execution_count": null,
   "id": "bfc758d9fb776984",
   "metadata": {
    "ExecuteTime": {
     "start_time": "2024-10-13T00:52:54.653742600Z"
    }
   },
   "outputs": [],
   "source": [
    "#ACO with Relieff\n",
    "\n",
    "best_solution, best_fitness = aco.fit(X.values, y.values,fitness_function=relieff_eval)\n",
    "bf = X.columns[best_solution == 1]\n",
    "print(f\"Best solution: {bf}\")\n",
    "print(f\"Best solution length: {len(best_solution)}\")\n",
    "print(f\"Best fitness: {best_fitness}\")\n",
    "ReliefF.append([bf,best_fitness])"
   ]
  },
  {
   "cell_type": "code",
   "execution_count": null,
   "outputs": [],
   "source": [
    "#Naive Bayes\n",
    "model = GaussianNB()\n",
    "model.fit(X[bf], y)\n",
    "y_pred = model.predict(X[bf])\n",
    "print(\"Accuracy:\", accuracy_score(y, y_pred))\n",
    "print(\"Precision:\", precision_score(y, y_pred))\n",
    "print(\"Recall:\", recall_score(y, y_pred))\n",
    "print(\"F1:\", f1_score(y, y_pred))\n",
    "print(\"AUC:\", roc_auc_score(y, y_pred))\n"
   ],
   "metadata": {
    "collapsed": false,
    "ExecuteTime": {
     "start_time": "2024-10-13T00:52:54.655210300Z"
    }
   },
   "id": "2a82ccb338ab8c3c"
  },
  {
   "cell_type": "code",
   "execution_count": null,
   "outputs": [],
   "source": [
    "#Random Forest\n",
    "model = RandomForestClassifier()\n",
    "model.fit(X[bf], y)\n",
    "y_pred = model.predict(X[bf])\n",
    "print(\"Accuracy:\", accuracy_score(y, y_pred))\n",
    "print(\"Precision:\", precision_score(y, y_pred))\n",
    "print(\"Recall:\", recall_score(y, y_pred))\n",
    "print(\"F1:\", f1_score(y, y_pred))\n",
    "print(\"AUC:\", roc_auc_score(y, y_pred))\n"
   ],
   "metadata": {
    "collapsed": false,
    "ExecuteTime": {
     "start_time": "2024-10-13T00:52:54.657218600Z"
    }
   },
   "id": "7962ef9173e9cb4"
  },
  {
   "cell_type": "markdown",
   "id": "771081552210567a",
   "metadata": {},
   "source": [
    "### Simulated Annealing"
   ]
  },
  {
   "cell_type": "code",
   "execution_count": null,
   "id": "ee5415943238cfb9",
   "metadata": {
    "ExecuteTime": {
     "start_time": "2024-10-13T00:52:54.658401100Z"
    }
   },
   "outputs": [],
   "source": [
    "initial_temperature=100\n",
    "cooling_rate=0.8\n",
    "max_iter=500"
   ]
  },
  {
   "cell_type": "markdown",
   "source": [
    "4 pasos de variacion para temperatura: [10^4, 10^3, 10^2, 10^1] - 10^0,10^-1, 10^-2, 10^-3, 10^-4"
   ],
   "metadata": {
    "collapsed": false
   },
   "id": "2f8b549622a657c2"
  },
  {
   "cell_type": "code",
   "execution_count": null,
   "outputs": [],
   "source": [],
   "metadata": {
    "collapsed": false,
    "ExecuteTime": {
     "start_time": "2024-10-13T00:52:54.659408800Z"
    }
   },
   "id": "10bc806766e993d4"
  },
  {
   "cell_type": "markdown",
   "source": [],
   "metadata": {
    "collapsed": false
   },
   "id": "197f9bf9b924b0f4"
  },
  {
   "cell_type": "code",
   "execution_count": null,
   "id": "4c23ecd685ded28c",
   "metadata": {
    "ExecuteTime": {
     "start_time": "2024-10-13T00:52:54.660410800Z"
    }
   },
   "outputs": [],
   "source": [
    "from Metaheuristicas.Simmulated_Annealing import simulated_annealing\n",
    "#Simmulated Annealing with Mutual Info\n",
    "best_solution, best_score = simulated_annealing(X, y, initial_temperature, cooling_rate, max_iter,fitness_function=mutual_information_eval)\n",
    "\n",
    "# Display the results\n",
    "selected_features = X.columns[best_solution.astype(bool)].tolist()\n",
    "print(f\"Selected Features: {selected_features}\")\n",
    "print(\"Best Score:\", best_score)\n",
    "print(\"Number of Selected Features:\", np.sum(best_solution))\n",
    "Mutual_Information.append([selected_features,best_score])"
   ]
  },
  {
   "cell_type": "code",
   "execution_count": null,
   "id": "4c2d4bc83e42609c",
   "metadata": {
    "ExecuteTime": {
     "start_time": "2024-10-13T00:52:54.661407900Z"
    }
   },
   "outputs": [],
   "source": [
    "#Simmulated Annealing with Chi2\n",
    "\n",
    "best_solution, best_score = simulated_annealing(X, y, initial_temperature, cooling_rate, max_iter,fitness_function=chi2_eval)\n",
    "\n",
    "# Display the results\n",
    "selected_features = X.columns[best_solution.astype(bool)].tolist()\n",
    "print(f\"Selected Features: {selected_features}\")\n",
    "print(\"Best Score:\", best_score)\n",
    "print(\"Number of Selected Features:\", np.sum(best_solution))\n",
    "Chi2.append([selected_features,best_score])"
   ]
  },
  {
   "cell_type": "code",
   "execution_count": null,
   "id": "50a0ef3c89e62579",
   "metadata": {
    "ExecuteTime": {
     "start_time": "2024-10-13T00:52:54.662407600Z"
    }
   },
   "outputs": [],
   "source": [
    "#Simmulated Annealing with ReliefF\n",
    "\n",
    "best_solution, best_score = simulated_annealing(X, y, initial_temperature, cooling_rate, max_iter,fitness_function=relieff_eval)\n",
    "\n",
    "# Display the results\n",
    "selected_features = X.columns[best_solution.astype(bool)].tolist()\n",
    "print(f\"Selected Features: {selected_features}\")\n",
    "print(\"Best Score:\", best_score)\n",
    "print(\"Number of Selected Features:\", np.sum(best_solution))\n",
    "ReliefF.append([selected_features,best_score])"
   ]
  },
  {
   "cell_type": "markdown",
   "id": "8696dbc5f7e855c2",
   "metadata": {},
   "source": [
    "### Resultados de Mutual Information"
   ]
  },
  {
   "cell_type": "code",
   "execution_count": null,
   "id": "6a3ef7a9a180e972",
   "metadata": {
    "ExecuteTime": {
     "start_time": "2024-10-13T00:52:54.663407500Z"
    }
   },
   "outputs": [],
   "source": [
    "print(\"CUCKOO\")\n",
    "print(f\"Features: \", Mutual_Information[0][0])\n"
   ]
  },
  {
   "cell_type": "code",
   "execution_count": null,
   "id": "fc58444e41866366",
   "metadata": {
    "ExecuteTime": {
     "start_time": "2024-10-13T00:52:54.664408800Z"
    }
   },
   "outputs": [],
   "source": [
    "print(\"Genetic\")\n",
    "print(f\"Features: \", Mutual_Information[1][0])\n"
   ]
  },
  {
   "cell_type": "code",
   "execution_count": null,
   "id": "5642db56e1c11dfc",
   "metadata": {
    "ExecuteTime": {
     "start_time": "2024-10-13T00:52:54.665495400Z"
    }
   },
   "outputs": [],
   "source": [
    "print(\"ACO\")\n",
    "print(f\"Features: \", Mutual_Information[2][0])\n"
   ]
  },
  {
   "cell_type": "code",
   "execution_count": null,
   "id": "c81b9eb29dd98b44",
   "metadata": {
    "ExecuteTime": {
     "start_time": "2024-10-13T00:52:54.665495400Z"
    }
   },
   "outputs": [],
   "source": [
    "print(\"Simmulated Anealing\")\n",
    "print(f\"Features: \", Mutual_Information[3][0])\n"
   ]
  },
  {
   "cell_type": "code",
   "execution_count": null,
   "id": "556889b09d55a85d",
   "metadata": {
    "ExecuteTime": {
     "start_time": "2024-10-13T00:52:54.666999800Z"
    }
   },
   "outputs": [],
   "source": [
    "print(f\"Fitness Cuckoo\", Mutual_Information[0][1])\n",
    "print(f\"Fitness Genetic\", Mutual_Information[1][1])\n",
    "print(f\"Fitness ACO\", Mutual_Information[2][1])\n",
    "print(f\"Fitness Simmulated Anealing\", Mutual_Information[3][1])"
   ]
  },
  {
   "cell_type": "code",
   "execution_count": null,
   "id": "d830cdc066defcbb",
   "metadata": {
    "ExecuteTime": {
     "start_time": "2024-10-13T00:52:54.668018500Z"
    }
   },
   "outputs": [],
   "source": [
    "#print which metaheuristic got the highes fitness\n"
   ]
  },
  {
   "cell_type": "markdown",
   "id": "1244f6667ff8b606",
   "metadata": {},
   "source": [
    "### Resultados de Chi2"
   ]
  },
  {
   "cell_type": "code",
   "execution_count": null,
   "id": "1631dcedd3a4a1e6",
   "metadata": {
    "ExecuteTime": {
     "start_time": "2024-10-13T00:52:54.669028200Z"
    }
   },
   "outputs": [],
   "source": [
    "print(\"CUCKOO\")\n",
    "print(f\"Features: \", Chi2[0][0])\n"
   ]
  },
  {
   "cell_type": "code",
   "execution_count": null,
   "id": "539b66ff3e1ec816",
   "metadata": {
    "ExecuteTime": {
     "start_time": "2024-10-13T00:52:54.670100600Z"
    }
   },
   "outputs": [],
   "source": [
    "print(\"Genetic\")\n",
    "print(f\"Features: \", Chi2[1][0])\n"
   ]
  },
  {
   "cell_type": "code",
   "execution_count": null,
   "id": "e86d2f449f8f3677",
   "metadata": {
    "ExecuteTime": {
     "start_time": "2024-10-13T00:52:54.671303Z"
    }
   },
   "outputs": [],
   "source": [
    "print(\"ACO\")\n",
    "print(f\"Features: \", Chi2[2][0])"
   ]
  },
  {
   "cell_type": "code",
   "execution_count": null,
   "id": "d4e61059279d260e",
   "metadata": {
    "ExecuteTime": {
     "start_time": "2024-10-13T00:52:54.671303Z"
    }
   },
   "outputs": [],
   "source": [
    "print(\"Simmulated Anealing\")\n",
    "print(f\"Features: \", Chi2[3][0])"
   ]
  },
  {
   "cell_type": "code",
   "execution_count": null,
   "id": "266575126751f8ed",
   "metadata": {
    "ExecuteTime": {
     "start_time": "2024-10-13T00:52:54.672790300Z"
    }
   },
   "outputs": [],
   "source": [
    "print(f\"Fitness Cuckoo\", Chi2[0][1])\n",
    "print(f\"Fitness Genetic\", Chi2[1][1])\n",
    "print(f\"Fitness ACO\", Chi2[2][1])\n",
    "print(f\"Fitness Simmulated Anealing\", Chi2[3][1])"
   ]
  },
  {
   "cell_type": "markdown",
   "id": "a14aa5fc019050b9",
   "metadata": {},
   "source": []
  },
  {
   "cell_type": "markdown",
   "id": "6ef2fbb92ac92149",
   "metadata": {},
   "source": [
    "### Resultados de ReliefF\n"
   ]
  },
  {
   "cell_type": "code",
   "execution_count": null,
   "id": "29ea02475e5f8022",
   "metadata": {
    "ExecuteTime": {
     "start_time": "2024-10-13T00:52:54.673800Z"
    }
   },
   "outputs": [],
   "source": [
    "print(\"CUCKOO\")\n",
    "print(f\"Features: \", ReliefF[0][0])\n"
   ]
  },
  {
   "cell_type": "code",
   "execution_count": null,
   "id": "3c4771b47ff0b99d",
   "metadata": {
    "ExecuteTime": {
     "start_time": "2024-10-13T00:52:54.674800400Z"
    }
   },
   "outputs": [],
   "source": [
    "print(\"Genetic\")\n",
    "print(f\"Features: \", ReliefF[1][0])"
   ]
  },
  {
   "cell_type": "code",
   "execution_count": null,
   "id": "d2f48805b6bf73c8",
   "metadata": {
    "ExecuteTime": {
     "start_time": "2024-10-13T00:52:54.675802400Z"
    }
   },
   "outputs": [],
   "source": [
    "print(\"ACO\")\n",
    "print(f\"Features: \", ReliefF[2][0])"
   ]
  },
  {
   "cell_type": "code",
   "execution_count": null,
   "id": "8cd20fefbf213e56",
   "metadata": {
    "ExecuteTime": {
     "start_time": "2024-10-13T00:52:54.676800600Z"
    }
   },
   "outputs": [],
   "source": [
    "print(\"Simmulated Anealing\")\n",
    "print(f\"Features: \", ReliefF[3][0])"
   ]
  },
  {
   "cell_type": "code",
   "execution_count": null,
   "id": "5d928ba2f3e4f791",
   "metadata": {
    "ExecuteTime": {
     "start_time": "2024-10-13T00:52:54.677800900Z"
    }
   },
   "outputs": [],
   "source": [
    "print(f\"Fitness Cuckoo\", ReliefF[0][1])\n",
    "print(f\"Fitness Genetic\", ReliefF[1][1])\n",
    "print(f\"Fitness ACO\", ReliefF[2][1])\n",
    "print(f\"Fitness Simmulated Anealing\", ReliefF[3][1])"
   ]
  },
  {
   "cell_type": "markdown",
   "id": "d0481f3986e5ee4b",
   "metadata": {},
   "source": []
  },
  {
   "cell_type": "code",
   "execution_count": null,
   "id": "7517cf832c6c2fc",
   "metadata": {
    "ExecuteTime": {
     "start_time": "2024-10-13T00:52:54.678800Z"
    }
   },
   "outputs": [],
   "source": [
    "#Save results in an excel"
   ]
  },
  {
   "cell_type": "markdown",
   "id": "e1ed95d41f6f3e5a",
   "metadata": {},
   "source": []
  }
 ],
 "metadata": {
  "kernelspec": {
   "display_name": "Python 3 (ipykernel)",
   "language": "python",
   "name": "python3"
  },
  "language_info": {
   "codemirror_mode": {
    "name": "ipython",
    "version": 3
   },
   "file_extension": ".py",
   "mimetype": "text/x-python",
   "name": "python",
   "nbconvert_exporter": "python",
   "pygments_lexer": "ipython3",
   "version": "3.10.7"
  }
 },
 "nbformat": 4,
 "nbformat_minor": 5
}

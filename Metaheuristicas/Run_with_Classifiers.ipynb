{
 "cells": [
  {
   "cell_type": "markdown",
   "source": [
    "Todos con 500 con checkpoints de 50\n"
   ],
   "metadata": {
    "collapsed": false
   },
   "id": "fe62e976738cf405"
  },
  {
   "cell_type": "code",
   "execution_count": 58,
   "id": "initial_id",
   "metadata": {
    "collapsed": true,
    "ExecuteTime": {
     "end_time": "2024-10-13T00:59:01.406915300Z",
     "start_time": "2024-10-13T00:59:01.277881600Z"
    }
   },
   "outputs": [],
   "source": [
    "import numpy as np\n",
    "from Metaheuristicas.fitness_functions import mutual_information_eval\n",
    "from Metaheuristicas.fitness_functions import relieff_eval\n",
    "from fitness_functions import chi2_eval"
   ]
  },
  {
   "cell_type": "code",
   "execution_count": 59,
   "id": "a229cc1cd652259a",
   "metadata": {
    "ExecuteTime": {
     "end_time": "2024-10-13T00:59:02.071586500Z",
     "start_time": "2024-10-13T00:59:01.281402200Z"
    }
   },
   "outputs": [],
   "source": [
    "from Metaheuristicas.fitness_functions import load_and_preprocess_data\n",
    "\n",
    "X, y = load_and_preprocess_data(filename='Resources/SeisBenchV1_v1_1.json')\n",
    "\n"
   ]
  },
  {
   "cell_type": "code",
   "execution_count": 60,
   "id": "938a165a53143799",
   "metadata": {
    "ExecuteTime": {
     "end_time": "2024-10-13T00:59:02.071586500Z",
     "start_time": "2024-10-13T00:59:01.410153200Z"
    }
   },
   "outputs": [],
   "source": [
    "#Save the results from the optimizations\n",
    "Mutual_Information = []\n",
    "Chi2 = []\n",
    "ReliefF = []\n"
   ]
  },
  {
   "cell_type": "markdown",
   "id": "9ce7a08bf1d0186c",
   "metadata": {},
   "source": [
    "### Cuckoo"
   ]
  },
  {
   "cell_type": "code",
   "execution_count": 61,
   "id": "e556a529689aadb3",
   "metadata": {
    "ExecuteTime": {
     "end_time": "2024-10-13T00:59:02.071586500Z",
     "start_time": "2024-10-13T00:59:01.419761500Z"
    }
   },
   "outputs": [],
   "source": [
    "from Metaheuristicas.Cuckoo import cuckoo_search\n",
    "n= 40\n",
    "dim = 84\n",
    "itermax = 300"
   ]
  },
  {
   "cell_type": "code",
   "execution_count": 62,
   "id": "be0342b24e2e1c04",
   "metadata": {
    "ExecuteTime": {
     "end_time": "2024-10-13T01:18:37.737170600Z",
     "start_time": "2024-10-13T00:59:01.488973700Z"
    }
   },
   "outputs": [
    {
     "name": "stdout",
     "output_type": "stream",
     "text": [
      "Mejor fitness al final de la iteración 1: 2.3029\n",
      "Mejor fitness al final de la iteración 2: 2.3029\n",
      "Mejor fitness al final de la iteración 3: 2.3029\n",
      "Mejor fitness al final de la iteración 4: 2.5400\n",
      "Mejor fitness al final de la iteración 5: 2.5400\n",
      "Mejor fitness al final de la iteración 6: 2.5400\n",
      "Mejor fitness al final de la iteración 7: 2.5400\n",
      "Mejor fitness al final de la iteración 8: 2.5400\n",
      "Mejor fitness al final de la iteración 9: 2.5400\n",
      "Mejor fitness al final de la iteración 10: 2.5400\n",
      "Mejor fitness al final de la iteración 11: 2.5400\n",
      "Mejor fitness al final de la iteración 12: 2.5400\n",
      "Mejor fitness al final de la iteración 13: 2.5400\n",
      "Mejor fitness al final de la iteración 14: 2.5400\n",
      "Mejor fitness al final de la iteración 15: 2.5400\n",
      "Mejor fitness al final de la iteración 16: 2.5400\n",
      "Mejor fitness al final de la iteración 17: 2.5400\n",
      "Mejor fitness al final de la iteración 18: 2.5400\n",
      "Mejor fitness al final de la iteración 19: 2.5400\n",
      "Mejor fitness al final de la iteración 20: 2.5400\n",
      "Mejor fitness al final de la iteración 21: 2.5400\n",
      "Mejor fitness al final de la iteración 22: 2.5400\n",
      "Mejor fitness al final de la iteración 23: 2.5400\n",
      "Mejor fitness al final de la iteración 24: 2.5400\n",
      "Mejor fitness al final de la iteración 25: 2.5400\n",
      "Mejor fitness al final de la iteración 26: 2.5400\n",
      "Mejor fitness al final de la iteración 27: 2.5400\n",
      "Mejor fitness al final de la iteración 28: 2.5400\n",
      "Mejor fitness al final de la iteración 29: 2.5400\n",
      "Mejor fitness al final de la iteración 30: 2.5400\n",
      "Mejor fitness al final de la iteración 31: 2.5400\n",
      "Mejor fitness al final de la iteración 32: 2.5400\n",
      "Mejor fitness al final de la iteración 33: 2.6847\n",
      "Mejor fitness al final de la iteración 34: 2.6847\n",
      "Mejor fitness al final de la iteración 35: 2.6847\n",
      "Mejor fitness al final de la iteración 36: 2.6847\n",
      "Mejor fitness al final de la iteración 37: 2.6847\n",
      "Mejor fitness al final de la iteración 38: 2.6847\n",
      "Mejor fitness al final de la iteración 39: 2.6847\n",
      "Mejor fitness al final de la iteración 40: 2.6847\n",
      "Mejor fitness al final de la iteración 41: 2.6847\n",
      "Mejor fitness al final de la iteración 42: 2.6847\n",
      "Mejor fitness al final de la iteración 43: 2.6847\n",
      "Mejor fitness al final de la iteración 44: 2.6847\n",
      "Mejor fitness al final de la iteración 45: 2.6847\n",
      "Mejor fitness al final de la iteración 46: 2.6847\n",
      "Mejor fitness al final de la iteración 47: 2.6847\n",
      "Mejor fitness al final de la iteración 48: 2.6847\n",
      "Mejor fitness al final de la iteración 49: 2.6847\n",
      "Mejor fitness al final de la iteración 50: 2.6847\n",
      "Mejor fitness al final de la iteración 51: 2.6847\n",
      "Mejor fitness al final de la iteración 52: 2.6847\n",
      "Mejor fitness al final de la iteración 53: 2.6847\n",
      "Mejor fitness al final de la iteración 54: 2.6847\n",
      "Mejor fitness al final de la iteración 55: 2.6847\n",
      "Mejor fitness al final de la iteración 56: 2.6847\n",
      "Mejor fitness al final de la iteración 57: 2.6847\n",
      "Mejor fitness al final de la iteración 58: 2.6847\n",
      "Mejor fitness al final de la iteración 59: 2.6847\n",
      "Mejor fitness al final de la iteración 60: 2.6847\n",
      "Mejor fitness al final de la iteración 61: 2.6847\n",
      "Mejor fitness al final de la iteración 62: 2.6847\n",
      "Mejor fitness al final de la iteración 63: 2.6847\n",
      "Mejor fitness al final de la iteración 64: 2.6847\n",
      "Mejor fitness al final de la iteración 65: 2.6847\n",
      "Mejor fitness al final de la iteración 66: 2.6847\n",
      "Mejor fitness al final de la iteración 67: 2.6847\n",
      "Mejor fitness al final de la iteración 68: 2.6847\n",
      "Mejor fitness al final de la iteración 69: 2.6847\n",
      "Mejor fitness al final de la iteración 70: 2.6847\n",
      "Mejor fitness al final de la iteración 71: 2.6847\n",
      "Mejor fitness al final de la iteración 72: 2.6847\n",
      "Mejor fitness al final de la iteración 73: 2.6847\n",
      "Mejor fitness al final de la iteración 74: 2.6847\n",
      "Mejor fitness al final de la iteración 75: 2.6847\n",
      "Mejor fitness al final de la iteración 76: 2.6847\n",
      "Mejor fitness al final de la iteración 77: 2.6940\n",
      "Mejor fitness al final de la iteración 78: 2.6940\n",
      "Mejor fitness al final de la iteración 79: 2.6940\n",
      "Mejor fitness al final de la iteración 80: 2.6940\n",
      "Mejor fitness al final de la iteración 81: 2.6940\n",
      "Mejor fitness al final de la iteración 82: 2.6940\n",
      "Mejor fitness al final de la iteración 83: 2.6940\n",
      "Mejor fitness al final de la iteración 84: 2.6940\n",
      "Mejor fitness al final de la iteración 85: 2.6940\n",
      "Mejor fitness al final de la iteración 86: 2.6940\n",
      "Mejor fitness al final de la iteración 87: 2.6940\n",
      "Mejor fitness al final de la iteración 88: 2.6940\n",
      "Mejor fitness al final de la iteración 89: 2.6940\n",
      "Mejor fitness al final de la iteración 90: 2.6940\n",
      "Mejor fitness al final de la iteración 91: 2.6940\n",
      "Mejor fitness al final de la iteración 92: 2.6940\n",
      "Mejor fitness al final de la iteración 93: 2.6940\n",
      "Mejor fitness al final de la iteración 94: 2.6940\n",
      "Mejor fitness al final de la iteración 95: 2.6940\n",
      "Mejor fitness al final de la iteración 96: 2.6940\n",
      "Mejor fitness al final de la iteración 97: 2.6940\n",
      "Mejor fitness al final de la iteración 98: 2.6940\n",
      "Mejor fitness al final de la iteración 99: 2.6940\n",
      "Mejor fitness al final de la iteración 100: 2.6940\n",
      "Mejor fitness al final de la iteración 101: 2.6940\n",
      "Mejor fitness al final de la iteración 102: 2.7201\n",
      "Mejor fitness al final de la iteración 103: 2.7201\n",
      "Mejor fitness al final de la iteración 104: 2.7201\n",
      "Mejor fitness al final de la iteración 105: 2.7201\n",
      "Mejor fitness al final de la iteración 106: 2.7201\n",
      "Mejor fitness al final de la iteración 107: 2.7201\n",
      "Mejor fitness al final de la iteración 108: 2.7201\n",
      "Mejor fitness al final de la iteración 109: 2.7201\n",
      "Mejor fitness al final de la iteración 110: 2.7201\n",
      "Mejor fitness al final de la iteración 111: 2.7201\n",
      "Mejor fitness al final de la iteración 112: 2.7201\n",
      "Mejor fitness al final de la iteración 113: 2.7201\n",
      "Mejor fitness al final de la iteración 114: 2.7201\n",
      "Mejor fitness al final de la iteración 115: 2.7201\n",
      "Mejor fitness al final de la iteración 116: 2.7201\n",
      "Mejor fitness al final de la iteración 117: 2.7201\n",
      "Mejor fitness al final de la iteración 118: 2.7201\n",
      "Mejor fitness al final de la iteración 119: 2.7201\n",
      "Mejor fitness al final de la iteración 120: 2.7201\n",
      "Mejor fitness al final de la iteración 121: 2.7201\n",
      "Mejor fitness al final de la iteración 122: 2.7201\n",
      "Mejor fitness al final de la iteración 123: 2.7201\n",
      "Mejor fitness al final de la iteración 124: 2.7201\n",
      "Mejor fitness al final de la iteración 125: 2.7201\n",
      "Mejor fitness al final de la iteración 126: 2.7201\n",
      "Mejor fitness al final de la iteración 127: 2.7201\n",
      "Mejor fitness al final de la iteración 128: 2.7201\n",
      "Mejor fitness al final de la iteración 129: 2.7201\n",
      "Mejor fitness al final de la iteración 130: 2.7201\n",
      "Mejor fitness al final de la iteración 131: 2.7201\n",
      "Mejor fitness al final de la iteración 132: 2.7201\n",
      "Mejor fitness al final de la iteración 133: 2.7201\n",
      "Mejor fitness al final de la iteración 134: 2.7201\n",
      "Mejor fitness al final de la iteración 135: 2.7201\n",
      "Mejor fitness al final de la iteración 136: 2.7201\n",
      "Mejor fitness al final de la iteración 137: 2.7201\n",
      "Mejor fitness al final de la iteración 138: 2.7201\n",
      "Mejor fitness al final de la iteración 139: 2.7201\n",
      "Mejor fitness al final de la iteración 140: 2.7201\n",
      "Mejor fitness al final de la iteración 141: 2.7201\n",
      "Mejor fitness al final de la iteración 142: 2.7201\n",
      "Mejor fitness al final de la iteración 143: 2.7201\n",
      "Mejor fitness al final de la iteración 144: 2.7201\n",
      "Mejor fitness al final de la iteración 145: 2.7201\n",
      "Mejor fitness al final de la iteración 146: 2.7415\n",
      "Mejor fitness al final de la iteración 147: 2.7415\n",
      "Mejor fitness al final de la iteración 148: 2.7415\n",
      "Mejor fitness al final de la iteración 149: 2.7726\n",
      "Mejor fitness al final de la iteración 150: 2.7726\n",
      "\n",
      "['f1_t_mean', 'f3_t_var', 'f4_t_entropy', 'f5_t_kurtosis', 'f7_t_time2peak', 'f8_t_rms', 'f10_t_peak2rms', 'f11_t_energy', 'f12_t_zcr', 'f13_t_PeaksAboveRMSDensity_fun', 'f14_f_peaks_pos_1', 'f15_f_90_percent_energy', 'f17_f_mean', 'f18_f_std', 'f19_f_var', 'f21_f_kurtosis', 'f22_f_multiscaleEntropy', 'f23_f_peak_1020_value', 'f25_f_peak_2030_value', 'f26_f_peak_2030_pos', 'f27_f_rms', 'f28_f_peak2rms', 'f29_f_power', 'f30_f_PeaksAboveRMSDensity_fun', 'f31_f_peaks_val_2', 'f32_f_peaks_pos_2', 'f33_f_peaks_val_3', 'f35_w_f_maxval_A6', 'f36_w_f_maxval_D1', 'f37_w_f_maxval_D2', 'f38_w_f_maxval_D3', 'f39_w_f_maxval_D4', 'f40_w_f_maxval_D5', 'f41_w_f_maxval_D6', 'f43_w_f_maxpos_D2', 'f44_w_f_maxpos_D3', 'f46_w_f_maxpos_D5', 'f47_w_f_maxpos_D6', 'f52_w_f_mean_D4', 'f56_w_t_PEC_A6', 'f57_w_t_PEC_D1', 'f58_w_t_PEC_D2', 'f59_w_t_PEC_D3', 'f60_w_t_PEC_D4', 'f61_w_t_PEC_D5', 'f62_w_t_PEC_D6', 'f64_w_t_rms_D1', 'f65_w_t_rms_D2', 'f67_w_t_rms_D4', 'f68_w_t_rms_D5', 'f69_w_t_rms_D6', 'f72_w_t_peak2peak_D2', 'f75_w_t_peak2peak_D5', 'f77_w_t_peak2rms_A6', 'f78_w_t_peak2rms_D1', 'f79_w_t_peak2rms_D2', 'f80_w_t_peak2rms_D3', 'f82_w_t_peak2rms_D5', 'f84_w_t_meanEnergyCoeff']\n",
      "2.772583236327163\n"
     ]
    },
    {
     "data": {
      "text/plain": "59"
     },
     "execution_count": 62,
     "metadata": {},
     "output_type": "execute_result"
    }
   ],
   "source": [
    "#Cuckoo Search with Mutual Information\n",
    "nests, fitness_scores, best_nest, best_CKfitness = cuckoo_search(n, dim, 150, X, y, fitness_function= mutual_information_eval)\n",
    "sorted_indices = np.argsort(fitness_scores)[::-1]\n",
    "fitness_scores_sorted = fitness_scores[sorted_indices]\n",
    "CKMIFeatures = X.columns[best_nest.astype(bool)].tolist()\n",
    "Mutual_Information.append([CKMIFeatures, fitness_scores_sorted[0]])\n",
    "print(CKMIFeatures)\n",
    "print(fitness_scores_sorted[0])\n",
    "np.sum(len(CKMIFeatures))"
   ]
  },
  {
   "cell_type": "code",
   "execution_count": 63,
   "outputs": [
    {
     "name": "stdout",
     "output_type": "stream",
     "text": [
      "Accuracy: 0.948471615720524\n",
      "Precision: 0.65\n",
      "Recall: 0.900990099009901\n",
      "F1: 0.7551867219917012\n",
      "AUC: 0.927027616554759\n"
     ]
    }
   ],
   "source": [
    "from sklearn.metrics import accuracy_score, precision_score, recall_score, f1_score, roc_auc_score\n",
    "from sklearn.naive_bayes import GaussianNB\n",
    "\n",
    "#Naive Bayes\n",
    "model = GaussianNB()\n",
    "model.fit(X[CKMIFeatures], y)\n",
    "y_pred = model.predict(X[CKMIFeatures])\n",
    "print(\"Accuracy:\", accuracy_score(y, y_pred))\n",
    "print(\"Precision:\", precision_score(y, y_pred))\n",
    "print(\"Recall:\", recall_score(y, y_pred))\n",
    "print(\"F1:\", f1_score(y, y_pred))\n",
    "print(\"AUC:\", roc_auc_score(y, y_pred))\n"
   ],
   "metadata": {
    "collapsed": false,
    "ExecuteTime": {
     "end_time": "2024-10-13T01:18:37.751753900Z",
     "start_time": "2024-10-13T01:18:37.741171800Z"
    }
   },
   "id": "69795eba76755bb6"
  },
  {
   "cell_type": "code",
   "execution_count": 64,
   "outputs": [
    {
     "name": "stdout",
     "output_type": "stream",
     "text": [
      "Accuracy: 1.0\n",
      "Precision: 1.0\n",
      "Recall: 1.0\n",
      "F1: 1.0\n",
      "AUC: 1.0\n"
     ]
    }
   ],
   "source": [
    "#Random Forest \n",
    "from sklearn.ensemble import RandomForestClassifier\n",
    "model = RandomForestClassifier()\n",
    "model.fit(X[CKMIFeatures], y)\n",
    "y_pred = model.predict(X[CKMIFeatures])\n",
    "print(\"Accuracy:\", accuracy_score(y, y_pred))\n",
    "print(\"Precision:\", precision_score(y, y_pred))\n",
    "print(\"Recall:\", recall_score(y, y_pred))\n",
    "print(\"F1:\", f1_score(y, y_pred))\n",
    "print(\"AUC:\", roc_auc_score(y, y_pred))\n"
   ],
   "metadata": {
    "collapsed": false,
    "ExecuteTime": {
     "end_time": "2024-10-13T01:18:38.173439700Z",
     "start_time": "2024-10-13T01:18:37.752758600Z"
    }
   },
   "id": "e749e17eb3ba499a"
  },
  {
   "cell_type": "code",
   "execution_count": 65,
   "outputs": [],
   "source": [
    "#Red Neuronal\n",
    "# from sklearn.neural_network import MLPClassifier\n",
    "# model = MLPClassifier()\n",
    "# model.fit(X[CKMIFeatures], y)\n",
    "# y_pred = model.predict(X[CKMIFeatures])\n",
    "# print(\"Accuracy:\", accuracy_score(y, y_pred))\n",
    "# print(\"Precision:\", precision_score(y, y_pred))\n",
    "# print(\"Recall:\", recall_score(y, y_pred))\n",
    "# print(\"F1:\", f1_score(y, y_pred))\n",
    "# print(\"AUC:\", roc_auc_score(y, y_pred))\n"
   ],
   "metadata": {
    "collapsed": false,
    "ExecuteTime": {
     "end_time": "2024-10-13T01:18:38.180477Z",
     "start_time": "2024-10-13T01:18:38.173439700Z"
    }
   },
   "id": "603d2005845b1a68"
  },
  {
   "cell_type": "code",
   "execution_count": 66,
   "id": "de09e956388aafcb",
   "metadata": {
    "ExecuteTime": {
     "end_time": "2024-10-13T01:19:03.329836100Z",
     "start_time": "2024-10-13T01:18:38.178477100Z"
    }
   },
   "outputs": [
    {
     "name": "stdout",
     "output_type": "stream",
     "text": [
      "Mejor fitness al final de la iteración 1: 9.4848\n",
      "\n",
      "Mejor fitness al final de la iteración 2: 9.9722\n",
      "\n",
      "Mejor fitness al final de la iteración 3: 9.9722\n",
      "Mejor fitness al final de la iteración 4: 9.9722\n",
      "\n",
      "Mejor fitness al final de la iteración 5: 9.9722\n",
      "\n",
      "Mejor fitness al final de la iteración 6: 10.1104\n",
      "Mejor fitness al final de la iteración 7: 11.2748\n",
      "\n",
      "Mejor fitness al final de la iteración 8: 11.2748\n",
      "\n",
      "Mejor fitness al final de la iteración 9: 11.2748\n",
      "Mejor fitness al final de la iteración 10: 11.2748\n",
      "\n",
      "Mejor fitness al final de la iteración 11: 11.2748\n",
      "\n",
      "Mejor fitness al final de la iteración 12: 11.2748\n",
      "Mejor fitness al final de la iteración 13: 11.2748\n",
      "\n",
      "Mejor fitness al final de la iteración 14: 11.2748\n",
      "\n",
      "Mejor fitness al final de la iteración 15: 11.2748\n",
      "Mejor fitness al final de la iteración 16: 11.2748\n",
      "\n",
      "Mejor fitness al final de la iteración 17: 11.2748\n",
      "\n",
      "Mejor fitness al final de la iteración 18: 11.2748\n",
      "Mejor fitness al final de la iteración 19: 11.2748\n",
      "\n",
      "Mejor fitness al final de la iteración 20: 11.2748\n",
      "\n",
      "Mejor fitness al final de la iteración 21: 11.2748\n",
      "Mejor fitness al final de la iteración 22: 11.2748\n",
      "\n",
      "Mejor fitness al final de la iteración 23: 11.2748\n",
      "\n",
      "Mejor fitness al final de la iteración 24: 11.2748\n",
      "Mejor fitness al final de la iteración 25: 11.2748\n",
      "\n",
      "Mejor fitness al final de la iteración 26: 11.2748\n",
      "\n",
      "Mejor fitness al final de la iteración 27: 11.2748\n",
      "Mejor fitness al final de la iteración 28: 11.2748\n",
      "\n",
      "Mejor fitness al final de la iteración 29: 11.2748\n",
      "\n",
      "Mejor fitness al final de la iteración 30: 11.2748\n",
      "Mejor fitness al final de la iteración 31: 11.2748\n",
      "\n",
      "Mejor fitness al final de la iteración 32: 11.2748\n",
      "\n",
      "Mejor fitness al final de la iteración 33: 11.2748\n",
      "Mejor fitness al final de la iteración 34: 11.2748\n",
      "\n",
      "Mejor fitness al final de la iteración 35: 11.2748\n",
      "\n",
      "Mejor fitness al final de la iteración 36: 11.2748\n",
      "Mejor fitness al final de la iteración 37: 11.2748\n",
      "\n",
      "Mejor fitness al final de la iteración 38: 11.2748\n",
      "\n",
      "Mejor fitness al final de la iteración 39: 11.5521\n",
      "Mejor fitness al final de la iteración 40: 11.5521\n",
      "\n",
      "Mejor fitness al final de la iteración 41: 11.5521\n",
      "\n",
      "Mejor fitness al final de la iteración 42: 11.5521\n",
      "Mejor fitness al final de la iteración 43: 11.5521\n",
      "\n",
      "Mejor fitness al final de la iteración 44: 11.5521\n",
      "\n",
      "Mejor fitness al final de la iteración 45: 11.5521\n",
      "Mejor fitness al final de la iteración 46: 11.5521\n",
      "\n",
      "Mejor fitness al final de la iteración 47: 11.5521\n",
      "\n",
      "Mejor fitness al final de la iteración 48: 11.5521\n",
      "Mejor fitness al final de la iteración 49: 11.5521\n",
      "\n",
      "Mejor fitness al final de la iteración 50: 11.5521\n",
      "\n",
      "Mejor fitness al final de la iteración 51: 11.5521\n",
      "Mejor fitness al final de la iteración 52: 11.5521\n",
      "\n",
      "Mejor fitness al final de la iteración 53: 11.5521\n",
      "\n",
      "Mejor fitness al final de la iteración 54: 11.5521\n",
      "Mejor fitness al final de la iteración 55: 11.5521\n",
      "\n",
      "Mejor fitness al final de la iteración 56: 11.5879\n",
      "\n",
      "Mejor fitness al final de la iteración 57: 11.5879\n",
      "Mejor fitness al final de la iteración 58: 11.5879\n",
      "\n",
      "Mejor fitness al final de la iteración 59: 11.5879\n",
      "\n",
      "Mejor fitness al final de la iteración 60: 11.5879\n",
      "Mejor fitness al final de la iteración 61: 11.5879\n",
      "\n",
      "Mejor fitness al final de la iteración 62: 11.5879\n",
      "\n",
      "Mejor fitness al final de la iteración 63: 11.5879\n",
      "Mejor fitness al final de la iteración 64: 11.5879\n",
      "\n",
      "Mejor fitness al final de la iteración 65: 11.5879\n",
      "\n",
      "Mejor fitness al final de la iteración 66: 11.5879\n",
      "Mejor fitness al final de la iteración 67: 11.5879\n",
      "\n",
      "Mejor fitness al final de la iteración 68: 11.5879\n",
      "\n",
      "Mejor fitness al final de la iteración 69: 11.5879\n",
      "Mejor fitness al final de la iteración 70: 11.5879\n",
      "\n",
      "Mejor fitness al final de la iteración 71: 11.5879\n",
      "\n",
      "Mejor fitness al final de la iteración 72: 11.5879\n",
      "Mejor fitness al final de la iteración 73: 11.5879\n",
      "\n",
      "Mejor fitness al final de la iteración 74: 11.6649\n",
      "\n",
      "Mejor fitness al final de la iteración 75: 11.6649\n",
      "Mejor fitness al final de la iteración 76: 11.6649\n",
      "\n",
      "Mejor fitness al final de la iteración 77: 11.6649\n",
      "\n",
      "Mejor fitness al final de la iteración 78: 11.6649\n",
      "Mejor fitness al final de la iteración 79: 11.6649\n",
      "\n",
      "Mejor fitness al final de la iteración 80: 11.6649\n",
      "\n",
      "Mejor fitness al final de la iteración 81: 11.6649\n",
      "Mejor fitness al final de la iteración 82: 11.6649\n",
      "\n",
      "Mejor fitness al final de la iteración 83: 11.6649\n",
      "\n",
      "Mejor fitness al final de la iteración 84: 11.7587\n",
      "Mejor fitness al final de la iteración 85: 11.7587\n",
      "\n",
      "Mejor fitness al final de la iteración 86: 11.7587\n",
      "\n",
      "Mejor fitness al final de la iteración 87: 12.0868\n",
      "Mejor fitness al final de la iteración 88: 12.3032\n",
      "\n",
      "Mejor fitness al final de la iteración 89: 12.3032\n",
      "\n",
      "Mejor fitness al final de la iteración 90: 12.3032\n",
      "Mejor fitness al final de la iteración 91: 12.3032\n",
      "\n",
      "Mejor fitness al final de la iteración 92: 12.3032\n",
      "\n",
      "Mejor fitness al final de la iteración 93: 12.3032\n",
      "Mejor fitness al final de la iteración 94: 12.8519\n",
      "\n",
      "Mejor fitness al final de la iteración 95: 12.8519\n",
      "\n",
      "Mejor fitness al final de la iteración 96: 12.8519\n",
      "Mejor fitness al final de la iteración 97: 12.8519\n",
      "\n",
      "Mejor fitness al final de la iteración 98: 12.8519\n",
      "\n",
      "Mejor fitness al final de la iteración 99: 12.8519\n",
      "Mejor fitness al final de la iteración 100: 12.8519\n",
      "\n",
      "Mejor fitness al final de la iteración 101: 12.8519\n",
      "\n",
      "Mejor fitness al final de la iteración 102: 12.8519\n",
      "Mejor fitness al final de la iteración 103: 12.8519\n",
      "\n",
      "Mejor fitness al final de la iteración 104: 12.8519\n",
      "\n",
      "Mejor fitness al final de la iteración 105: 12.8519\n",
      "Mejor fitness al final de la iteración 106: 12.8519\n",
      "\n",
      "Mejor fitness al final de la iteración 107: 12.8519\n",
      "\n",
      "Mejor fitness al final de la iteración 108: 12.8519\n",
      "Mejor fitness al final de la iteración 109: 12.8519\n",
      "\n",
      "Mejor fitness al final de la iteración 110: 12.8519\n",
      "\n",
      "Mejor fitness al final de la iteración 111: 12.8519\n",
      "Mejor fitness al final de la iteración 112: 12.8519\n",
      "\n",
      "Mejor fitness al final de la iteración 113: 12.8519\n",
      "\n",
      "Mejor fitness al final de la iteración 114: 12.8519\n",
      "Mejor fitness al final de la iteración 115: 12.8519\n",
      "\n",
      "Mejor fitness al final de la iteración 116: 12.8519\n",
      "\n",
      "Mejor fitness al final de la iteración 117: 12.8519\n",
      "Mejor fitness al final de la iteración 118: 12.8519\n",
      "\n",
      "Mejor fitness al final de la iteración 119: 12.8519\n",
      "\n",
      "Mejor fitness al final de la iteración 120: 12.8519\n",
      "Mejor fitness al final de la iteración 121: 12.8519\n",
      "\n",
      "Mejor fitness al final de la iteración 122: 12.8519\n",
      "\n",
      "Mejor fitness al final de la iteración 123: 12.8519\n",
      "Mejor fitness al final de la iteración 124: 12.8519\n",
      "\n",
      "Mejor fitness al final de la iteración 125: 12.8519\n",
      "\n",
      "Mejor fitness al final de la iteración 126: 13.2829\n",
      "Mejor fitness al final de la iteración 127: 13.2829\n",
      "\n",
      "Mejor fitness al final de la iteración 128: 13.2829\n",
      "\n",
      "Mejor fitness al final de la iteración 129: 13.2829\n",
      "Mejor fitness al final de la iteración 130: 13.2829\n",
      "\n",
      "Mejor fitness al final de la iteración 131: 13.2829\n",
      "\n",
      "Mejor fitness al final de la iteración 132: 13.2829\n",
      "Mejor fitness al final de la iteración 133: 13.2829\n",
      "\n",
      "Mejor fitness al final de la iteración 134: 13.2829\n",
      "\n",
      "Mejor fitness al final de la iteración 135: 13.2829\n",
      "Mejor fitness al final de la iteración 136: 13.2829\n",
      "\n",
      "Mejor fitness al final de la iteración 137: 13.2829\n",
      "\n",
      "Mejor fitness al final de la iteración 138: 13.2829\n",
      "Mejor fitness al final de la iteración 139: 13.2829\n",
      "\n",
      "Mejor fitness al final de la iteración 140: 13.2829\n",
      "\n",
      "Mejor fitness al final de la iteración 141: 13.2829\n",
      "Mejor fitness al final de la iteración 142: 13.2829\n",
      "\n",
      "Mejor fitness al final de la iteración 143: 13.2829\n",
      "\n",
      "Mejor fitness al final de la iteración 144: 13.2829\n",
      "Mejor fitness al final de la iteración 145: 13.2829\n",
      "\n",
      "Mejor fitness al final de la iteración 146: 13.2829\n",
      "\n",
      "Mejor fitness al final de la iteración 147: 13.2829\n",
      "Mejor fitness al final de la iteración 148: 13.2829\n",
      "\n",
      "Mejor fitness al final de la iteración 149: 13.2829\n",
      "\n",
      "Mejor fitness al final de la iteración 150: 13.2829\n",
      "Mejor fitness al final de la iteración 151: 13.2829\n",
      "\n",
      "Mejor fitness al final de la iteración 152: 13.2829\n",
      "\n",
      "Mejor fitness al final de la iteración 153: 13.2829\n",
      "Mejor fitness al final de la iteración 154: 13.2829\n",
      "\n",
      "Mejor fitness al final de la iteración 155: 13.2829\n",
      "\n",
      "Mejor fitness al final de la iteración 156: 13.2829\n",
      "Mejor fitness al final de la iteración 157: 13.2829\n",
      "\n",
      "Mejor fitness al final de la iteración 158: 13.2829\n",
      "\n",
      "Mejor fitness al final de la iteración 159: 13.2829\n",
      "Mejor fitness al final de la iteración 160: 13.2829\n",
      "\n",
      "Mejor fitness al final de la iteración 161: 13.2829\n",
      "\n",
      "Mejor fitness al final de la iteración 162: 13.2829\n",
      "Mejor fitness al final de la iteración 163: 13.2829\n",
      "\n",
      "Mejor fitness al final de la iteración 164: 13.2829\n",
      "\n",
      "Mejor fitness al final de la iteración 165: 13.2829\n",
      "Mejor fitness al final de la iteración 166: 13.2829\n",
      "\n",
      "Mejor fitness al final de la iteración 167: 13.2829\n",
      "\n",
      "Mejor fitness al final de la iteración 168: 13.2829\n",
      "Mejor fitness al final de la iteración 169: 13.2829\n",
      "\n",
      "Mejor fitness al final de la iteración 170: 13.2829\n",
      "\n",
      "Mejor fitness al final de la iteración 171: 13.2829\n",
      "Mejor fitness al final de la iteración 172: 13.2829\n",
      "\n",
      "Mejor fitness al final de la iteración 173: 13.2829\n",
      "\n",
      "Mejor fitness al final de la iteración 174: 13.2829\n",
      "Mejor fitness al final de la iteración 175: 13.2829\n",
      "\n",
      "Mejor fitness al final de la iteración 176: 13.2829\n",
      "\n",
      "Mejor fitness al final de la iteración 177: 13.2829\n",
      "Mejor fitness al final de la iteración 178: 13.2829\n",
      "\n",
      "Mejor fitness al final de la iteración 179: 13.2829\n",
      "\n",
      "Mejor fitness al final de la iteración 180: 13.2829\n",
      "Mejor fitness al final de la iteración 181: 13.2829\n",
      "\n",
      "Mejor fitness al final de la iteración 182: 13.2829\n",
      "\n",
      "Mejor fitness al final de la iteración 183: 13.2829\n",
      "Mejor fitness al final de la iteración 184: 13.2829\n",
      "\n",
      "Mejor fitness al final de la iteración 185: 13.2829\n",
      "\n",
      "Mejor fitness al final de la iteración 186: 13.2829\n",
      "Mejor fitness al final de la iteración 187: 13.2829\n",
      "\n",
      "Mejor fitness al final de la iteración 188: 13.2829\n",
      "\n",
      "Mejor fitness al final de la iteración 189: 13.2829\n",
      "Mejor fitness al final de la iteración 190: 13.2829\n",
      "\n",
      "Mejor fitness al final de la iteración 191: 13.2829\n",
      "\n",
      "Mejor fitness al final de la iteración 192: 13.2829\n",
      "Mejor fitness al final de la iteración 193: 13.2829\n",
      "\n",
      "Mejor fitness al final de la iteración 194: 13.2829\n",
      "\n",
      "Mejor fitness al final de la iteración 195: 13.2829\n",
      "Mejor fitness al final de la iteración 196: 13.2829\n",
      "\n",
      "Mejor fitness al final de la iteración 197: 13.2829\n",
      "\n",
      "Mejor fitness al final de la iteración 198: 13.2829\n",
      "Mejor fitness al final de la iteración 199: 13.2829\n",
      "\n",
      "Mejor fitness al final de la iteración 200: 13.2829\n",
      "\n",
      "Mejor fitness al final de la iteración 201: 13.2829\n",
      "Mejor fitness al final de la iteración 202: 13.2829\n",
      "\n",
      "Mejor fitness al final de la iteración 203: 13.2829\n",
      "\n",
      "Mejor fitness al final de la iteración 204: 13.2829\n",
      "Mejor fitness al final de la iteración 205: 13.2829\n",
      "\n",
      "Mejor fitness al final de la iteración 206: 13.2829\n",
      "\n",
      "Mejor fitness al final de la iteración 207: 13.2829\n",
      "Mejor fitness al final de la iteración 208: 13.2829\n",
      "\n",
      "Mejor fitness al final de la iteración 209: 13.2829\n",
      "\n",
      "Mejor fitness al final de la iteración 210: 13.2829\n",
      "Mejor fitness al final de la iteración 211: 13.2829\n",
      "\n",
      "Mejor fitness al final de la iteración 212: 13.2829\n",
      "\n",
      "Mejor fitness al final de la iteración 213: 13.2829\n",
      "Mejor fitness al final de la iteración 214: 13.2829\n",
      "\n",
      "Mejor fitness al final de la iteración 215: 13.2829\n",
      "\n",
      "Mejor fitness al final de la iteración 216: 13.2829\n",
      "Mejor fitness al final de la iteración 217: 13.2829\n",
      "\n",
      "Mejor fitness al final de la iteración 218: 13.2829\n",
      "\n",
      "Mejor fitness al final de la iteración 219: 13.2829\n",
      "Mejor fitness al final de la iteración 220: 13.2829\n",
      "\n",
      "Mejor fitness al final de la iteración 221: 13.2829\n",
      "\n",
      "Mejor fitness al final de la iteración 222: 13.2829\n",
      "Mejor fitness al final de la iteración 223: 13.2829\n",
      "\n",
      "Mejor fitness al final de la iteración 224: 13.2829\n",
      "\n",
      "Mejor fitness al final de la iteración 225: 13.2829\n",
      "Mejor fitness al final de la iteración 226: 13.2829\n",
      "\n",
      "Mejor fitness al final de la iteración 227: 13.2829\n",
      "\n",
      "Mejor fitness al final de la iteración 228: 13.2829\n",
      "Mejor fitness al final de la iteración 229: 13.2829\n",
      "\n",
      "Mejor fitness al final de la iteración 230: 13.2829\n",
      "\n",
      "Mejor fitness al final de la iteración 231: 13.2829\n",
      "Mejor fitness al final de la iteración 232: 13.2829\n",
      "\n",
      "Mejor fitness al final de la iteración 233: 13.2829\n",
      "\n",
      "Mejor fitness al final de la iteración 234: 13.2829\n",
      "Mejor fitness al final de la iteración 235: 13.2829\n",
      "\n",
      "Mejor fitness al final de la iteración 236: 13.2829\n",
      "\n",
      "Mejor fitness al final de la iteración 237: 13.2829\n",
      "Mejor fitness al final de la iteración 238: 13.2829\n",
      "\n",
      "Mejor fitness al final de la iteración 239: 13.2829\n",
      "\n",
      "Mejor fitness al final de la iteración 240: 13.2829\n",
      "Mejor fitness al final de la iteración 241: 13.2829\n",
      "\n",
      "Mejor fitness al final de la iteración 242: 13.2829\n",
      "\n",
      "Mejor fitness al final de la iteración 243: 13.2829\n",
      "Mejor fitness al final de la iteración 244: 13.2829\n",
      "\n",
      "Mejor fitness al final de la iteración 245: 13.2829\n",
      "\n",
      "Mejor fitness al final de la iteración 246: 13.2829\n",
      "Mejor fitness al final de la iteración 247: 13.2829\n",
      "\n",
      "Mejor fitness al final de la iteración 248: 13.2829\n",
      "\n",
      "Mejor fitness al final de la iteración 249: 13.2829\n",
      "Mejor fitness al final de la iteración 250: 13.2829\n",
      "\n",
      "Mejor fitness al final de la iteración 251: 13.2829\n",
      "\n",
      "Mejor fitness al final de la iteración 252: 13.2829\n",
      "Mejor fitness al final de la iteración 253: 13.2829\n",
      "\n",
      "Mejor fitness al final de la iteración 254: 13.2829\n",
      "\n",
      "Mejor fitness al final de la iteración 255: 13.2829\n",
      "Mejor fitness al final de la iteración 256: 13.2829\n",
      "\n",
      "Mejor fitness al final de la iteración 257: 13.2829\n",
      "\n",
      "Mejor fitness al final de la iteración 258: 13.2829\n",
      "Mejor fitness al final de la iteración 259: 13.2829\n",
      "\n",
      "Mejor fitness al final de la iteración 260: 13.2829\n",
      "\n",
      "Mejor fitness al final de la iteración 261: 13.2829\n",
      "Mejor fitness al final de la iteración 262: 13.2829\n",
      "\n",
      "Mejor fitness al final de la iteración 263: 13.2829\n",
      "\n",
      "Mejor fitness al final de la iteración 264: 13.2829\n",
      "Mejor fitness al final de la iteración 265: 13.2829\n",
      "\n",
      "Mejor fitness al final de la iteración 266: 13.2829\n",
      "\n",
      "Mejor fitness al final de la iteración 267: 13.2829\n",
      "Mejor fitness al final de la iteración 268: 13.2829\n",
      "\n",
      "Mejor fitness al final de la iteración 269: 13.2829\n",
      "\n",
      "Mejor fitness al final de la iteración 270: 13.2829\n",
      "Mejor fitness al final de la iteración 271: 13.2829\n",
      "\n",
      "Mejor fitness al final de la iteración 272: 13.2829\n",
      "\n",
      "Mejor fitness al final de la iteración 273: 13.2829\n",
      "Mejor fitness al final de la iteración 274: 13.2829\n",
      "\n",
      "Mejor fitness al final de la iteración 275: 13.2829\n",
      "\n",
      "Mejor fitness al final de la iteración 276: 13.2829\n",
      "Mejor fitness al final de la iteración 277: 13.2829\n",
      "\n",
      "Mejor fitness al final de la iteración 278: 13.2829\n",
      "\n",
      "Mejor fitness al final de la iteración 279: 13.2829\n",
      "Mejor fitness al final de la iteración 280: 13.2829\n",
      "\n",
      "Mejor fitness al final de la iteración 281: 13.2829\n",
      "\n",
      "Mejor fitness al final de la iteración 282: 13.2829\n",
      "Mejor fitness al final de la iteración 283: 13.2829\n",
      "\n",
      "Mejor fitness al final de la iteración 284: 13.2829\n",
      "\n",
      "Mejor fitness al final de la iteración 285: 13.2829\n",
      "Mejor fitness al final de la iteración 286: 13.2829\n",
      "\n",
      "Mejor fitness al final de la iteración 287: 13.2829\n",
      "\n",
      "Mejor fitness al final de la iteración 288: 13.2829\n",
      "Mejor fitness al final de la iteración 289: 13.2829\n",
      "\n",
      "Mejor fitness al final de la iteración 290: 13.2829\n",
      "\n",
      "Mejor fitness al final de la iteración 291: 13.2829\n",
      "Mejor fitness al final de la iteración 292: 13.2829\n",
      "\n",
      "Mejor fitness al final de la iteración 293: 13.2829\n",
      "\n",
      "Mejor fitness al final de la iteración 294: 13.2829\n",
      "Mejor fitness al final de la iteración 295: 13.2829\n",
      "\n",
      "Mejor fitness al final de la iteración 296: 13.2829\n",
      "\n",
      "Mejor fitness al final de la iteración 297: 13.2829\n",
      "Mejor fitness al final de la iteración 298: 13.2829\n",
      "\n",
      "Mejor fitness al final de la iteración 299: 13.2829\n",
      "\n",
      "Mejor fitness al final de la iteración 300: 13.2829\n",
      "\n",
      "['f2_t_std', 'f4_t_entropy', 'f10_t_peak2rms', 'f12_t_zcr', 'f13_t_PeaksAboveRMSDensity_fun', 'f14_f_peaks_pos_1', 'f21_f_kurtosis', 'f26_f_peak_2030_pos', 'f29_f_power', 'f30_f_PeaksAboveRMSDensity_fun', 'f31_f_peaks_val_2', 'f33_f_peaks_val_3', 'f35_w_f_maxval_A6', 'f37_w_f_maxval_D2', 'f40_w_f_maxval_D5', 'f56_w_t_PEC_A6', 'f58_w_t_PEC_D2', 'f59_w_t_PEC_D3', 'f61_w_t_PEC_D5', 'f64_w_t_rms_D1', 'f65_w_t_rms_D2', 'f69_w_t_rms_D6', 'f71_w_t_peak2peak_D1', 'f72_w_t_peak2peak_D2', 'f73_w_t_peak2peak_D3', 'f74_w_t_peak2peak_D4', 'f75_w_t_peak2peak_D5']\n",
      "13.282888952935743\n"
     ]
    },
    {
     "data": {
      "text/plain": "27"
     },
     "execution_count": 66,
     "metadata": {},
     "output_type": "execute_result"
    }
   ],
   "source": [
    "#Cuckoo Search with Chi2\n",
    "nests, fitness_scores, best_nest, best_CKfitness = cuckoo_search(n, dim, itermax, X, y, fitness_function= chi2_eval)\n",
    "sorted_indices = np.argsort(fitness_scores)[::-1]\n",
    "fitness_scores_sorted = fitness_scores[sorted_indices]\n",
    "CKMIFeatures = X.columns[best_nest.astype(bool)].tolist()\n",
    "Chi2.append([CKMIFeatures, fitness_scores_sorted[0]])\n",
    "print(CKMIFeatures)\n",
    "print(fitness_scores_sorted[0])\n",
    "np.sum(len(CKMIFeatures))"
   ]
  },
  {
   "cell_type": "code",
   "execution_count": 67,
   "outputs": [
    {
     "name": "stdout",
     "output_type": "stream",
     "text": [
      "Accuracy: 0.9432314410480349\n",
      "Precision: 0.625\n",
      "Recall: 0.8910891089108911\n",
      "F1: 0.7346938775510204\n",
      "AUC: 0.9196824854899283\n"
     ]
    }
   ],
   "source": [
    "#Naive Bayes\n",
    "model = GaussianNB()\n",
    "model.fit(X[CKMIFeatures], y)\n",
    "y_pred = model.predict(X[CKMIFeatures])\n",
    "print(\"Accuracy:\", accuracy_score(y, y_pred))\n",
    "print(\"Precision:\", precision_score(y, y_pred))\n",
    "print(\"Recall:\", recall_score(y, y_pred))   \n",
    "print(\"F1:\", f1_score(y, y_pred))\n",
    "print(\"AUC:\", roc_auc_score(y, y_pred))"
   ],
   "metadata": {
    "collapsed": false,
    "ExecuteTime": {
     "end_time": "2024-10-13T01:19:03.342389800Z",
     "start_time": "2024-10-13T01:19:03.328828300Z"
    }
   },
   "id": "8c826697026cbe4f"
  },
  {
   "cell_type": "code",
   "execution_count": 68,
   "outputs": [
    {
     "name": "stdout",
     "output_type": "stream",
     "text": [
      "Accuracy: 1.0\n",
      "Precision: 1.0\n",
      "Recall: 1.0\n",
      "F1: 1.0\n",
      "AUC: 1.0\n"
     ]
    }
   ],
   "source": [
    "#Random Forest\n",
    "model = RandomForestClassifier()\n",
    "model.fit(X[CKMIFeatures], y)\n",
    "y_pred = model.predict(X[CKMIFeatures])\n",
    "print(\"Accuracy:\", accuracy_score(y, y_pred))\n",
    "print(\"Precision:\", precision_score(y, y_pred))\n",
    "print(\"Recall:\", recall_score(y, y_pred))\n",
    "print(\"F1:\", f1_score(y, y_pred))\n",
    "print(\"AUC:\", roc_auc_score(y, y_pred))\n"
   ],
   "metadata": {
    "collapsed": false,
    "ExecuteTime": {
     "end_time": "2024-10-13T01:19:03.691294500Z",
     "start_time": "2024-10-13T01:19:03.343670300Z"
    }
   },
   "id": "5c9389957e075626"
  },
  {
   "cell_type": "code",
   "execution_count": 69,
   "outputs": [],
   "source": [
    "#Red Neuronal\n",
    "# model = MLPClassifier()\n",
    "# model.fit(X[CKMIFeatures], y)\n",
    "# y_pred = model.predict(X[CKMIFeatures])\n",
    "# print(\"Accuracy:\", accuracy_score(y, y_pred))\n",
    "# print(\"Precision:\", precision_score(y, y_pred))\n",
    "# print(\"Recall:\", recall_score(y, y_pred))\n",
    "# print(\"F1:\", f1_score(y, y_pred))\n",
    "# print(\"AUC:\", roc_auc_score(y, y_pred))\n"
   ],
   "metadata": {
    "collapsed": false,
    "ExecuteTime": {
     "end_time": "2024-10-13T01:19:03.699083400Z",
     "start_time": "2024-10-13T01:19:03.692638600Z"
    }
   },
   "id": "a835ed59b1582fcf"
  },
  {
   "cell_type": "code",
   "execution_count": 70,
   "id": "4778665b53beb681",
   "metadata": {
    "ExecuteTime": {
     "end_time": "2024-10-13T01:27:08.594834Z",
     "start_time": "2024-10-13T01:19:03.694558900Z"
    }
   },
   "outputs": [
    {
     "name": "stdout",
     "output_type": "stream",
     "text": [
      "Mejor fitness al final de la iteración 1: -0.5251\n",
      "Mejor fitness al final de la iteración 2: -0.5251\n",
      "Mejor fitness al final de la iteración 3: -0.5251\n",
      "Mejor fitness al final de la iteración 4: -0.5167\n",
      "Mejor fitness al final de la iteración 5: -0.5167\n",
      "Mejor fitness al final de la iteración 6: -0.5167\n",
      "Mejor fitness al final de la iteración 7: -0.5130\n",
      "Mejor fitness al final de la iteración 8: -0.4841\n",
      "Mejor fitness al final de la iteración 9: -0.4841\n",
      "Mejor fitness al final de la iteración 10: -0.4784\n",
      "Mejor fitness al final de la iteración 11: -0.4784\n",
      "Mejor fitness al final de la iteración 12: -0.4784\n",
      "Mejor fitness al final de la iteración 13: -0.4784\n",
      "Mejor fitness al final de la iteración 14: -0.4784\n",
      "Mejor fitness al final de la iteración 15: -0.4784\n",
      "Mejor fitness al final de la iteración 16: -0.4708\n",
      "Mejor fitness al final de la iteración 17: -0.4581\n",
      "Mejor fitness al final de la iteración 18: -0.4581\n",
      "Mejor fitness al final de la iteración 19: -0.4581\n",
      "Mejor fitness al final de la iteración 20: -0.4581\n",
      "Mejor fitness al final de la iteración 21: -0.4581\n",
      "Mejor fitness al final de la iteración 22: -0.4581\n",
      "Mejor fitness al final de la iteración 23: -0.4581\n",
      "Mejor fitness al final de la iteración 24: -0.4581\n",
      "Mejor fitness al final de la iteración 25: -0.4574\n",
      "Mejor fitness al final de la iteración 26: -0.4574\n",
      "Mejor fitness al final de la iteración 27: -0.4574\n",
      "Mejor fitness al final de la iteración 28: -0.4574\n",
      "Mejor fitness al final de la iteración 29: -0.4574\n",
      "Mejor fitness al final de la iteración 30: -0.4574\n",
      "Mejor fitness al final de la iteración 31: -0.4574\n",
      "Mejor fitness al final de la iteración 32: -0.4574\n",
      "Mejor fitness al final de la iteración 33: -0.4574\n",
      "Mejor fitness al final de la iteración 34: -0.4574\n",
      "Mejor fitness al final de la iteración 35: -0.4574\n",
      "Mejor fitness al final de la iteración 36: -0.4574\n",
      "Mejor fitness al final de la iteración 37: -0.4574\n",
      "Mejor fitness al final de la iteración 38: -0.4574\n",
      "Mejor fitness al final de la iteración 39: -0.4574\n",
      "Mejor fitness al final de la iteración 40: -0.4574\n",
      "Mejor fitness al final de la iteración 41: -0.4420\n",
      "Mejor fitness al final de la iteración 42: -0.4420\n",
      "Mejor fitness al final de la iteración 43: -0.4420\n",
      "Mejor fitness al final de la iteración 44: -0.4420\n",
      "Mejor fitness al final de la iteración 45: -0.4420\n",
      "Mejor fitness al final de la iteración 46: -0.4420\n",
      "Mejor fitness al final de la iteración 47: -0.4420\n",
      "Mejor fitness al final de la iteración 48: -0.4420\n",
      "Mejor fitness al final de la iteración 49: -0.4420\n",
      "Mejor fitness al final de la iteración 50: -0.4420\n",
      "Mejor fitness al final de la iteración 51: -0.4420\n",
      "Mejor fitness al final de la iteración 52: -0.4420\n",
      "Mejor fitness al final de la iteración 53: -0.4420\n",
      "Mejor fitness al final de la iteración 54: -0.4420\n",
      "Mejor fitness al final de la iteración 55: -0.4420\n",
      "Mejor fitness al final de la iteración 56: -0.4420\n",
      "Mejor fitness al final de la iteración 57: -0.4420\n",
      "Mejor fitness al final de la iteración 58: -0.4420\n",
      "Mejor fitness al final de la iteración 59: -0.4420\n",
      "Mejor fitness al final de la iteración 60: -0.4420\n",
      "Mejor fitness al final de la iteración 61: -0.4420\n",
      "Mejor fitness al final de la iteración 62: -0.4420\n",
      "Mejor fitness al final de la iteración 63: -0.4420\n",
      "Mejor fitness al final de la iteración 64: -0.4420\n",
      "Mejor fitness al final de la iteración 65: -0.4420\n",
      "Mejor fitness al final de la iteración 66: -0.4420\n",
      "Mejor fitness al final de la iteración 67: -0.4420\n",
      "Mejor fitness al final de la iteración 68: -0.4420\n",
      "Mejor fitness al final de la iteración 69: -0.4420\n",
      "Mejor fitness al final de la iteración 70: -0.4420\n",
      "Mejor fitness al final de la iteración 71: -0.4420\n",
      "Mejor fitness al final de la iteración 72: -0.4420\n",
      "Mejor fitness al final de la iteración 73: -0.4420\n",
      "Mejor fitness al final de la iteración 74: -0.4420\n",
      "Mejor fitness al final de la iteración 75: -0.4420\n",
      "Mejor fitness al final de la iteración 76: -0.4420\n",
      "Mejor fitness al final de la iteración 77: -0.4420\n",
      "Mejor fitness al final de la iteración 78: -0.4420\n",
      "Mejor fitness al final de la iteración 79: -0.4420\n",
      "Mejor fitness al final de la iteración 80: -0.4420\n",
      "Mejor fitness al final de la iteración 81: -0.4420\n",
      "Mejor fitness al final de la iteración 82: -0.4420\n",
      "Mejor fitness al final de la iteración 83: -0.4420\n",
      "Mejor fitness al final de la iteración 84: -0.4420\n",
      "Mejor fitness al final de la iteración 85: -0.4420\n",
      "Mejor fitness al final de la iteración 86: -0.4420\n",
      "Mejor fitness al final de la iteración 87: -0.4420\n",
      "Mejor fitness al final de la iteración 88: -0.4420\n",
      "Mejor fitness al final de la iteración 89: -0.4420\n",
      "Mejor fitness al final de la iteración 90: -0.4160\n",
      "Mejor fitness al final de la iteración 91: -0.4160\n",
      "Mejor fitness al final de la iteración 92: -0.4160\n",
      "Mejor fitness al final de la iteración 93: -0.4160\n",
      "Mejor fitness al final de la iteración 94: -0.4160\n",
      "Mejor fitness al final de la iteración 95: -0.4160\n",
      "Mejor fitness al final de la iteración 96: -0.4160\n",
      "Mejor fitness al final de la iteración 97: -0.4160\n",
      "Mejor fitness al final de la iteración 98: -0.4160\n",
      "Mejor fitness al final de la iteración 99: -0.4160\n",
      "Mejor fitness al final de la iteración 100: -0.4160\n",
      "Mejor fitness al final de la iteración 101: -0.4160\n",
      "Mejor fitness al final de la iteración 102: -0.4160\n",
      "Mejor fitness al final de la iteración 103: -0.4160\n",
      "Mejor fitness al final de la iteración 104: -0.4160\n",
      "Mejor fitness al final de la iteración 105: -0.4160\n",
      "Mejor fitness al final de la iteración 106: -0.4160\n",
      "Mejor fitness al final de la iteración 107: -0.4160\n",
      "Mejor fitness al final de la iteración 108: -0.4160\n",
      "Mejor fitness al final de la iteración 109: -0.4160\n",
      "Mejor fitness al final de la iteración 110: -0.4160\n",
      "Mejor fitness al final de la iteración 111: -0.4160\n",
      "Mejor fitness al final de la iteración 112: -0.4160\n",
      "Mejor fitness al final de la iteración 113: -0.4160\n",
      "Mejor fitness al final de la iteración 114: -0.4160\n",
      "Mejor fitness al final de la iteración 115: -0.4160\n",
      "Mejor fitness al final de la iteración 116: -0.4160\n",
      "Mejor fitness al final de la iteración 117: -0.4103\n",
      "Mejor fitness al final de la iteración 118: -0.4103\n",
      "Mejor fitness al final de la iteración 119: -0.4103\n",
      "Mejor fitness al final de la iteración 120: -0.4103\n",
      "Mejor fitness al final de la iteración 121: -0.4103\n",
      "Mejor fitness al final de la iteración 122: -0.4103\n",
      "Mejor fitness al final de la iteración 123: -0.4103\n",
      "Mejor fitness al final de la iteración 124: -0.4103\n",
      "Mejor fitness al final de la iteración 125: -0.4103\n",
      "Mejor fitness al final de la iteración 126: -0.4103\n",
      "Mejor fitness al final de la iteración 127: -0.4103\n",
      "Mejor fitness al final de la iteración 128: -0.4103\n",
      "Mejor fitness al final de la iteración 129: -0.4103\n",
      "Mejor fitness al final de la iteración 130: -0.4103\n",
      "Mejor fitness al final de la iteración 131: -0.4103\n",
      "Mejor fitness al final de la iteración 132: -0.4103\n",
      "Mejor fitness al final de la iteración 133: -0.4103\n",
      "Mejor fitness al final de la iteración 134: -0.4103\n",
      "Mejor fitness al final de la iteración 135: -0.4103\n",
      "Mejor fitness al final de la iteración 136: -0.4103\n",
      "Mejor fitness al final de la iteración 137: -0.4103\n",
      "Mejor fitness al final de la iteración 138: -0.4103\n",
      "Mejor fitness al final de la iteración 139: -0.4103\n",
      "Mejor fitness al final de la iteración 140: -0.4103\n",
      "Mejor fitness al final de la iteración 141: -0.4103\n",
      "Mejor fitness al final de la iteración 142: -0.4103\n",
      "Mejor fitness al final de la iteración 143: -0.4103\n",
      "Mejor fitness al final de la iteración 144: -0.4103\n",
      "Mejor fitness al final de la iteración 145: -0.4103\n",
      "Mejor fitness al final de la iteración 146: -0.4103\n",
      "Mejor fitness al final de la iteración 147: -0.4103\n",
      "Mejor fitness al final de la iteración 148: -0.4103\n",
      "Mejor fitness al final de la iteración 149: -0.4103\n",
      "Mejor fitness al final de la iteración 150: -0.4103\n",
      "Mejor fitness al final de la iteración 151: -0.4103\n",
      "Mejor fitness al final de la iteración 152: -0.4065\n",
      "Mejor fitness al final de la iteración 153: -0.4065\n",
      "Mejor fitness al final de la iteración 154: -0.4065\n",
      "Mejor fitness al final de la iteración 155: -0.4065\n",
      "Mejor fitness al final de la iteración 156: -0.4065\n",
      "Mejor fitness al final de la iteración 157: -0.4065\n",
      "Mejor fitness al final de la iteración 158: -0.4065\n",
      "Mejor fitness al final de la iteración 159: -0.4065\n",
      "Mejor fitness al final de la iteración 160: -0.4065\n",
      "Mejor fitness al final de la iteración 161: -0.4065\n",
      "Mejor fitness al final de la iteración 162: -0.4065\n",
      "Mejor fitness al final de la iteración 163: -0.4065\n",
      "Mejor fitness al final de la iteración 164: -0.4065\n",
      "Mejor fitness al final de la iteración 165: -0.4065\n",
      "Mejor fitness al final de la iteración 166: -0.4065\n",
      "Mejor fitness al final de la iteración 167: -0.4065\n",
      "Mejor fitness al final de la iteración 168: -0.4065\n",
      "Mejor fitness al final de la iteración 169: -0.4065\n",
      "Mejor fitness al final de la iteración 170: -0.4065\n",
      "Mejor fitness al final de la iteración 171: -0.4065\n",
      "Mejor fitness al final de la iteración 172: -0.4065\n",
      "Mejor fitness al final de la iteración 173: -0.4065\n",
      "Mejor fitness al final de la iteración 174: -0.4065\n",
      "Mejor fitness al final de la iteración 175: -0.4065\n",
      "Mejor fitness al final de la iteración 176: -0.4065\n",
      "Mejor fitness al final de la iteración 177: -0.4065\n",
      "Mejor fitness al final de la iteración 178: -0.4065\n",
      "Mejor fitness al final de la iteración 179: -0.4065\n",
      "Mejor fitness al final de la iteración 180: -0.4065\n",
      "Mejor fitness al final de la iteración 181: -0.4065\n",
      "Mejor fitness al final de la iteración 182: -0.4065\n",
      "Mejor fitness al final de la iteración 183: -0.4065\n",
      "Mejor fitness al final de la iteración 184: -0.4065\n",
      "Mejor fitness al final de la iteración 185: -0.4065\n",
      "Mejor fitness al final de la iteración 186: -0.4065\n",
      "Mejor fitness al final de la iteración 187: -0.4065\n",
      "Mejor fitness al final de la iteración 188: -0.4065\n",
      "Mejor fitness al final de la iteración 189: -0.4065\n",
      "Mejor fitness al final de la iteración 190: -0.4065\n",
      "Mejor fitness al final de la iteración 191: -0.4065\n",
      "Mejor fitness al final de la iteración 192: -0.4065\n",
      "Mejor fitness al final de la iteración 193: -0.4065\n",
      "Mejor fitness al final de la iteración 194: -0.4065\n",
      "Mejor fitness al final de la iteración 195: -0.4065\n",
      "Mejor fitness al final de la iteración 196: -0.4065\n",
      "Mejor fitness al final de la iteración 197: -0.4065\n",
      "Mejor fitness al final de la iteración 198: -0.4065\n",
      "Mejor fitness al final de la iteración 199: -0.4065\n",
      "Mejor fitness al final de la iteración 200: -0.4065\n",
      "Mejor fitness al final de la iteración 201: -0.4065\n",
      "Mejor fitness al final de la iteración 202: -0.4065\n",
      "Mejor fitness al final de la iteración 203: -0.4065\n",
      "Mejor fitness al final de la iteración 204: -0.4065\n",
      "Mejor fitness al final de la iteración 205: -0.4065\n",
      "Mejor fitness al final de la iteración 206: -0.4065\n",
      "Mejor fitness al final de la iteración 207: -0.4065\n",
      "Mejor fitness al final de la iteración 208: -0.4065\n",
      "Mejor fitness al final de la iteración 209: -0.4065\n",
      "Mejor fitness al final de la iteración 210: -0.4065\n",
      "Mejor fitness al final de la iteración 211: -0.4065\n",
      "Mejor fitness al final de la iteración 212: -0.4065\n",
      "Mejor fitness al final de la iteración 213: -0.4065\n",
      "Mejor fitness al final de la iteración 214: -0.4065\n",
      "Mejor fitness al final de la iteración 215: -0.4065\n",
      "Mejor fitness al final de la iteración 216: -0.4065\n",
      "Mejor fitness al final de la iteración 217: -0.4065\n",
      "Mejor fitness al final de la iteración 218: -0.4065\n",
      "Mejor fitness al final de la iteración 219: -0.4065\n",
      "Mejor fitness al final de la iteración 220: -0.4065\n",
      "Mejor fitness al final de la iteración 221: -0.4065\n",
      "Mejor fitness al final de la iteración 222: -0.4065\n",
      "Mejor fitness al final de la iteración 223: -0.4065\n",
      "Mejor fitness al final de la iteración 224: -0.4065\n",
      "Mejor fitness al final de la iteración 225: -0.4065\n",
      "Mejor fitness al final de la iteración 226: -0.4065\n",
      "Mejor fitness al final de la iteración 227: -0.4065\n",
      "Mejor fitness al final de la iteración 228: -0.4065\n",
      "Mejor fitness al final de la iteración 229: -0.4065\n",
      "Mejor fitness al final de la iteración 230: -0.4065\n",
      "Mejor fitness al final de la iteración 231: -0.4065\n",
      "Mejor fitness al final de la iteración 232: -0.4065\n",
      "Mejor fitness al final de la iteración 233: -0.4065\n",
      "Mejor fitness al final de la iteración 234: -0.4065\n",
      "Mejor fitness al final de la iteración 235: -0.4065\n",
      "Mejor fitness al final de la iteración 236: -0.4065\n",
      "Mejor fitness al final de la iteración 237: -0.4065\n",
      "Mejor fitness al final de la iteración 238: -0.4065\n",
      "Mejor fitness al final de la iteración 239: -0.4065\n",
      "Mejor fitness al final de la iteración 240: -0.4065\n",
      "Mejor fitness al final de la iteración 241: -0.4065\n",
      "Mejor fitness al final de la iteración 242: -0.4065\n",
      "Mejor fitness al final de la iteración 243: -0.4065\n",
      "Mejor fitness al final de la iteración 244: -0.4065\n",
      "Mejor fitness al final de la iteración 245: -0.4065\n",
      "Mejor fitness al final de la iteración 246: -0.4065\n",
      "Mejor fitness al final de la iteración 247: -0.4065\n",
      "Mejor fitness al final de la iteración 248: -0.4065\n",
      "Mejor fitness al final de la iteración 249: -0.4065\n",
      "Mejor fitness al final de la iteración 250: -0.4065\n",
      "Mejor fitness al final de la iteración 251: -0.4065\n",
      "Mejor fitness al final de la iteración 252: -0.4065\n",
      "Mejor fitness al final de la iteración 253: -0.4065\n",
      "Mejor fitness al final de la iteración 254: -0.4065\n",
      "Mejor fitness al final de la iteración 255: -0.4065\n",
      "Mejor fitness al final de la iteración 256: -0.4065\n",
      "Mejor fitness al final de la iteración 257: -0.4065\n",
      "Mejor fitness al final de la iteración 258: -0.4065\n",
      "Mejor fitness al final de la iteración 259: -0.4065\n",
      "Mejor fitness al final de la iteración 260: -0.4065\n",
      "Mejor fitness al final de la iteración 261: -0.4065\n",
      "Mejor fitness al final de la iteración 262: -0.4065\n",
      "Mejor fitness al final de la iteración 263: -0.4065\n",
      "Mejor fitness al final de la iteración 264: -0.4065\n",
      "Mejor fitness al final de la iteración 265: -0.4065\n",
      "Mejor fitness al final de la iteración 266: -0.4065\n",
      "Mejor fitness al final de la iteración 267: -0.4065\n",
      "Mejor fitness al final de la iteración 268: -0.4065\n",
      "Mejor fitness al final de la iteración 269: -0.4065\n",
      "Mejor fitness al final de la iteración 270: -0.4065\n",
      "Mejor fitness al final de la iteración 271: -0.4065\n",
      "Mejor fitness al final de la iteración 272: -0.4065\n",
      "Mejor fitness al final de la iteración 273: -0.4065\n",
      "Mejor fitness al final de la iteración 274: -0.4065\n",
      "Mejor fitness al final de la iteración 275: -0.4065\n",
      "Mejor fitness al final de la iteración 276: -0.4065\n",
      "Mejor fitness al final de la iteración 277: -0.4065\n",
      "Mejor fitness al final de la iteración 278: -0.4065\n",
      "Mejor fitness al final de la iteración 279: -0.4065\n",
      "Mejor fitness al final de la iteración 280: -0.4065\n",
      "Mejor fitness al final de la iteración 281: -0.4065\n",
      "Mejor fitness al final de la iteración 282: -0.4065\n",
      "Mejor fitness al final de la iteración 283: -0.4065\n",
      "Mejor fitness al final de la iteración 284: -0.4065\n",
      "Mejor fitness al final de la iteración 285: -0.4065\n",
      "Mejor fitness al final de la iteración 286: -0.4065\n",
      "Mejor fitness al final de la iteración 287: -0.4065\n",
      "Mejor fitness al final de la iteración 288: -0.4065\n",
      "Mejor fitness al final de la iteración 289: -0.4065\n",
      "Mejor fitness al final de la iteración 290: -0.4065\n",
      "Mejor fitness al final de la iteración 291: -0.4065\n",
      "Mejor fitness al final de la iteración 292: -0.4065\n",
      "Mejor fitness al final de la iteración 293: -0.4065\n",
      "Mejor fitness al final de la iteración 294: -0.4065\n",
      "Mejor fitness al final de la iteración 295: -0.4065\n",
      "Mejor fitness al final de la iteración 296: -0.4065\n",
      "Mejor fitness al final de la iteración 297: -0.4065\n",
      "Mejor fitness al final de la iteración 298: -0.4065\n",
      "Mejor fitness al final de la iteración 299: -0.4065\n",
      "Mejor fitness al final de la iteración 300: -0.4065\n",
      "\n",
      "['f1_t_mean', 'f2_t_std', 'f3_t_var', 'f4_t_entropy', 'f5_t_kurtosis', 'f6_t_multiscaleEntropy', 'f10_t_peak2rms', 'f11_t_energy', 'f14_f_peaks_pos_1', 'f15_f_90_percent_energy', 'f16_f_entropy', 'f21_f_kurtosis', 'f22_f_multiscaleEntropy', 'f25_f_peak_2030_value', 'f26_f_peak_2030_pos', 'f27_f_rms', 'f29_f_power', 'f31_f_peaks_val_2', 'f32_f_peaks_pos_2', 'f34_f_peaks_pos_3', 'f35_w_f_maxval_A6', 'f49_w_f_mean_D1', 'f55_w_t_meanEnergyAD', 'f56_w_t_PEC_A6', 'f57_w_t_PEC_D1', 'f58_w_t_PEC_D2', 'f62_w_t_PEC_D6', 'f63_w_t_rms_A6', 'f64_w_t_rms_D1', 'f65_w_t_rms_D2', 'f67_w_t_rms_D4', 'f69_w_t_rms_D6', 'f72_w_t_peak2peak_D2', 'f79_w_t_peak2rms_D2', 'f84_w_t_meanEnergyCoeff']\n",
      "-0.4065174653076381\n"
     ]
    },
    {
     "data": {
      "text/plain": "35"
     },
     "execution_count": 70,
     "metadata": {},
     "output_type": "execute_result"
    }
   ],
   "source": [
    "#Cuckoo Search with ReliefF\n",
    "nests, fitness_scores, best_nest, best_CKfitness = cuckoo_search(n, dim, itermax, X, y, fitness_function= relieff_eval)\n",
    "sorted_indices = np.argsort(fitness_scores)[::-1]\n",
    "fitness_scores_sorted = fitness_scores[sorted_indices]\n",
    "CKMIFeatures = X.columns[best_nest.astype(bool)].tolist()\n",
    "ReliefF.append([CKMIFeatures, fitness_scores_sorted[0]])\n",
    "print(CKMIFeatures)\n",
    "print(fitness_scores_sorted[0])\n",
    "np.sum(len(CKMIFeatures))"
   ]
  },
  {
   "cell_type": "code",
   "execution_count": 71,
   "outputs": [
    {
     "name": "stdout",
     "output_type": "stream",
     "text": [
      "Accuracy: 0.9510917030567686\n",
      "Precision: 0.68\n",
      "Recall: 0.8415841584158416\n",
      "F1: 0.7522123893805309\n",
      "AUC: 0.9016349910853153\n"
     ]
    }
   ],
   "source": [
    "#Naive Bayes\n",
    "model = GaussianNB()\n",
    "model.fit(X[CKMIFeatures], y)\n",
    "y_pred = model.predict(X[CKMIFeatures])\n",
    "print(\"Accuracy:\", accuracy_score(y, y_pred))\n",
    "print(\"Precision:\", precision_score(y, y_pred))\n",
    "print(\"Recall:\", recall_score(y, y_pred))\n",
    "print(\"F1:\", f1_score(y, y_pred))\n",
    "print(\"AUC:\", roc_auc_score(y, y_pred))"
   ],
   "metadata": {
    "collapsed": false,
    "ExecuteTime": {
     "end_time": "2024-10-13T01:27:08.613965600Z",
     "start_time": "2024-10-13T01:27:08.597835900Z"
    }
   },
   "id": "748aca36ac2a80a9"
  },
  {
   "cell_type": "code",
   "execution_count": 72,
   "outputs": [
    {
     "name": "stdout",
     "output_type": "stream",
     "text": [
      "Accuracy: 1.0\n",
      "Precision: 1.0\n",
      "Recall: 1.0\n",
      "F1: 1.0\n",
      "AUC: 1.0\n"
     ]
    }
   ],
   "source": [
    "#Random Forest\n",
    "model = RandomForestClassifier()\n",
    "model.fit(X[CKMIFeatures], y)\n",
    "y_pred = model.predict(X[CKMIFeatures])\n",
    "print(\"Accuracy:\", accuracy_score(y, y_pred))\n",
    "print(\"Precision:\", precision_score(y, y_pred))\n",
    "print(\"Recall:\", recall_score(y, y_pred))\n",
    "print(\"F1:\", f1_score(y, y_pred))\n",
    "print(\"AUC:\", roc_auc_score(y, y_pred))\n"
   ],
   "metadata": {
    "collapsed": false,
    "ExecuteTime": {
     "end_time": "2024-10-13T01:27:09.008804900Z",
     "start_time": "2024-10-13T01:27:08.613965600Z"
    }
   },
   "id": "615ee588bf13135a"
  },
  {
   "cell_type": "markdown",
   "id": "75ed806a153cb2bf",
   "metadata": {},
   "source": [
    "### Genetic Algorithm"
   ]
  },
  {
   "cell_type": "code",
   "execution_count": 73,
   "id": "83a9f7e42201fc6f",
   "metadata": {
    "ExecuteTime": {
     "end_time": "2024-10-13T01:27:09.016119700Z",
     "start_time": "2024-10-13T01:27:09.009412600Z"
    }
   },
   "outputs": [],
   "source": [
    "population_size = 47\n",
    "gn = 750\n",
    "mutation_rate=0.5\n",
    "crossover_rate=0.5\n"
   ]
  },
  {
   "cell_type": "markdown",
   "source": [
    "poblacion es la mitad del cromosoma, probar diferentes tamanios de generaciones con salto de 50, 27 (1/3 del dataset) padres, obtner el mejor subset con clasificador con auc, precision, recall, f1, accuracy. Comparar los clasificadores con los mejores subsets"
   ],
   "metadata": {
    "collapsed": false
   },
   "id": "bea95acce3acb273"
  },
  {
   "cell_type": "code",
   "execution_count": 74,
   "id": "d65525adb98e9d72",
   "metadata": {
    "ExecuteTime": {
     "end_time": "2024-10-13T02:54:09.964677Z",
     "start_time": "2024-10-13T01:27:09.011120800Z"
    }
   },
   "outputs": [
    {
     "name": "stdout",
     "output_type": "stream",
     "text": [
      "Selected_features: ['f3_t_var', 'f4_t_entropy', 'f6_t_multiscaleEntropy', 'f7_t_time2peak', 'f9_t_peak2peak', 'f10_t_peak2rms', 'f11_t_energy', 'f12_t_zcr', 'f13_t_PeaksAboveRMSDensity_fun', 'f14_f_peaks_pos_1', 'f18_f_std', 'f20_f_energy', 'f21_f_kurtosis', 'f23_f_peak_1020_value', 'f25_f_peak_2030_value', 'f26_f_peak_2030_pos', 'f27_f_rms', 'f28_f_peak2rms', 'f29_f_power', 'f30_f_PeaksAboveRMSDensity_fun', 'f31_f_peaks_val_2', 'f32_f_peaks_pos_2', 'f34_f_peaks_pos_3', 'f36_w_f_maxval_D1', 'f37_w_f_maxval_D2', 'f39_w_f_maxval_D4', 'f40_w_f_maxval_D5', 'f41_w_f_maxval_D6', 'f42_w_f_maxpos_A6', 'f43_w_f_maxpos_D2', 'f45_w_f_maxpos_D4', 'f46_w_f_maxpos_D5', 'f47_w_f_maxpos_D6', 'f50_w_f_mean_D2', 'f51_w_f_mean_D3', 'f53_w_f_mean_D5', 'f54_w_f_mean_D6', 'f56_w_t_PEC_A6', 'f57_w_t_PEC_D1', 'f58_w_t_PEC_D2', 'f60_w_t_PEC_D4', 'f61_w_t_PEC_D5', 'f65_w_t_rms_D2', 'f66_w_t_rms_D3', 'f67_w_t_rms_D4', 'f68_w_t_rms_D5', 'f70_w_t_peak2peak_A6', 'f71_w_t_peak2peak_D1', 'f72_w_t_peak2peak_D2', 'f73_w_t_peak2peak_D3', 'f74_w_t_peak2peak_D4', 'f75_w_t_peak2peak_D5', 'f76_w_t_peak2peak_D6', 'f78_w_t_peak2rms_D1', 'f80_w_t_peak2rms_D3', 'f84_w_t_meanEnergyCoeff']\n",
      "Best Fitness:  2.629375112642688\n",
      "Length:  56\n"
     ]
    }
   ],
   "source": [
    "from Metaheuristicas.Genetico import genetic_algorithm\n",
    "#Genetic with Mutual Info\n",
    "best_solution, best_Gfitness = genetic_algorithm(X, y,population_size,generations=gn,mutation_rate=mutation_rate,crossover_rate=crossover_rate,fitness_function=mutual_information_eval )\n",
    "selected_features = X.columns[best_solution.astype(bool)].tolist()\n",
    "print(f\"Selected_features:\", selected_features)\n",
    "print(f\"Best Fitness: \", best_Gfitness)\n",
    "print(f\"Length: \", np.sum(best_solution))\n",
    "\n",
    "Mutual_Information.append([selected_features, best_Gfitness])\n"
   ]
  },
  {
   "cell_type": "code",
   "execution_count": 75,
   "outputs": [
    {
     "name": "stdout",
     "output_type": "stream",
     "text": [
      "Accuracy: 0.9510917030567686\n",
      "Precision: 0.6573426573426573\n",
      "Recall: 0.9306930693069307\n",
      "F1: 0.7704918032786885\n",
      "AUC: 0.9418791017032738\n"
     ]
    }
   ],
   "source": [
    "#Naive Bayes\n",
    "model = GaussianNB()\n",
    "model.fit(X[selected_features], y)\n",
    "y_pred = model.predict(X[selected_features])\n",
    "print(\"Accuracy:\", accuracy_score(y, y_pred))\n",
    "print(\"Precision:\", precision_score(y, y_pred))\n",
    "print(\"Recall:\", recall_score(y, y_pred))\n",
    "print(\"F1:\", f1_score(y, y_pred))\n",
    "print(\"AUC:\", roc_auc_score(y, y_pred))\n",
    "\n"
   ],
   "metadata": {
    "collapsed": false,
    "ExecuteTime": {
     "end_time": "2024-10-13T02:54:09.982963300Z",
     "start_time": "2024-10-13T02:54:09.966248900Z"
    }
   },
   "id": "97754aa06fea96b"
  },
  {
   "cell_type": "code",
   "execution_count": 76,
   "outputs": [
    {
     "name": "stdout",
     "output_type": "stream",
     "text": [
      "Accuracy: 1.0\n",
      "Precision: 1.0\n",
      "Recall: 1.0\n",
      "F1: 1.0\n",
      "AUC: 1.0\n"
     ]
    }
   ],
   "source": [
    "#Random Forest\n",
    "model = RandomForestClassifier()\n",
    "model.fit(X[selected_features], y)\n",
    "y_pred = model.predict(X[selected_features])\n",
    "print(\"Accuracy:\", accuracy_score(y, y_pred))\n",
    "print(\"Precision:\", precision_score(y, y_pred))\n",
    "print(\"Recall:\", recall_score(y, y_pred))\n",
    "print(\"F1:\", f1_score(y, y_pred))\n",
    "print(\"AUC:\", roc_auc_score(y, y_pred))\n"
   ],
   "metadata": {
    "collapsed": false,
    "ExecuteTime": {
     "end_time": "2024-10-13T02:54:10.405650900Z",
     "start_time": "2024-10-13T02:54:09.982963300Z"
    }
   },
   "id": "58c6fdd31d4523ce"
  },
  {
   "cell_type": "code",
   "execution_count": 77,
   "outputs": [
    {
     "name": "stdout",
     "output_type": "stream",
     "text": [
      "Red Neuronal\n"
     ]
    }
   ],
   "source": [
    "#Red Neuronal\n",
    "print(\"Red Neuronal\")\n"
   ],
   "metadata": {
    "collapsed": false,
    "ExecuteTime": {
     "end_time": "2024-10-13T02:54:10.406157700Z",
     "start_time": "2024-10-13T02:54:10.403471600Z"
    }
   },
   "id": "b280ffbcfec60aab"
  },
  {
   "cell_type": "code",
   "execution_count": 78,
   "id": "e933917ba371e716",
   "metadata": {
    "ExecuteTime": {
     "end_time": "2024-10-13T02:55:08.656860400Z",
     "start_time": "2024-10-13T02:54:10.406157700Z"
    }
   },
   "outputs": [
    {
     "name": "stdout",
     "output_type": "stream",
     "text": [
      "Selected_features: ['f5_t_kurtosis', 'f6_t_multiscaleEntropy', 'f10_t_peak2rms', 'f13_t_PeaksAboveRMSDensity_fun', 'f14_f_peaks_pos_1', 'f17_f_mean', 'f20_f_energy', 'f22_f_multiscaleEntropy', 'f23_f_peak_1020_value', 'f26_f_peak_2030_pos', 'f28_f_peak2rms', 'f35_w_f_maxval_A6', 'f37_w_f_maxval_D2', 'f38_w_f_maxval_D3', 'f44_w_f_maxpos_D3', 'f49_w_f_mean_D1', 'f51_w_f_mean_D3', 'f54_w_f_mean_D6', 'f58_w_t_PEC_D2', 'f59_w_t_PEC_D3', 'f61_w_t_PEC_D5', 'f63_w_t_rms_A6', 'f65_w_t_rms_D2', 'f66_w_t_rms_D3', 'f68_w_t_rms_D5', 'f71_w_t_peak2peak_D1', 'f72_w_t_peak2peak_D2', 'f73_w_t_peak2peak_D3', 'f77_w_t_peak2rms_A6', 'f79_w_t_peak2rms_D2', 'f82_w_t_peak2rms_D5']\n",
      "Best Fitness:  11.562128891604216\n",
      "Length:  31\n"
     ]
    }
   ],
   "source": [
    "from Metaheuristicas.Genetico import genetic_algorithm\n",
    "#Genetic with Chi2\n",
    "\n",
    "best_solution, best_Gfitness = genetic_algorithm(X, y,population_size,generations=gn,mutation_rate=mutation_rate,crossover_rate=crossover_rate,fitness_function=chi2_eval )\n",
    "selected_features = X.columns[best_solution.astype(bool)].tolist()\n",
    "print(f\"Selected_features:\", selected_features)\n",
    "print(f\"Best Fitness: \", best_Gfitness)\n",
    "print(f\"Length: \", np.sum(best_solution))\n",
    "\n",
    "Chi2.append([selected_features, best_Gfitness])"
   ]
  },
  {
   "cell_type": "code",
   "execution_count": 79,
   "outputs": [
    {
     "name": "stdout",
     "output_type": "stream",
     "text": [
      "Accuracy: 1.0\n",
      "Precision: 1.0\n",
      "Recall: 1.0\n",
      "F1: 1.0\n",
      "AUC: 1.0\n"
     ]
    }
   ],
   "source": [
    "#Random Forest\n",
    "model = RandomForestClassifier()\n",
    "model.fit(X[selected_features], y)\n",
    "y_pred = model.predict(X[selected_features])\n",
    "print(\"Accuracy:\", accuracy_score(y, y_pred))\n",
    "print(\"Precision:\", precision_score(y, y_pred))\n",
    "print(\"Recall:\", recall_score(y, y_pred))\n",
    "print(\"F1:\", f1_score(y, y_pred))\n",
    "print(\"AUC:\", roc_auc_score(y, y_pred))\n",
    "\n",
    "\n"
   ],
   "metadata": {
    "collapsed": false,
    "ExecuteTime": {
     "end_time": "2024-10-13T02:55:08.933667300Z",
     "start_time": "2024-10-13T02:55:08.658940300Z"
    }
   },
   "id": "2c651242407c533a"
  },
  {
   "cell_type": "code",
   "execution_count": 80,
   "outputs": [],
   "source": [
    "#Neural Network"
   ],
   "metadata": {
    "collapsed": false,
    "ExecuteTime": {
     "end_time": "2024-10-13T02:55:08.936201Z",
     "start_time": "2024-10-13T02:55:08.934680800Z"
    }
   },
   "id": "7ad1c52bd8fad0ce"
  },
  {
   "cell_type": "code",
   "execution_count": 81,
   "id": "43b8ee0423ac5c35",
   "metadata": {
    "ExecuteTime": {
     "end_time": "2024-10-13T03:18:38.714100700Z",
     "start_time": "2024-10-13T02:55:08.941048900Z"
    }
   },
   "outputs": [
    {
     "name": "stdout",
     "output_type": "stream",
     "text": [
      "Selected_features: ['f1_t_mean', 'f3_t_var', 'f5_t_kurtosis', 'f8_t_rms', 'f10_t_peak2rms', 'f11_t_energy', 'f13_t_PeaksAboveRMSDensity_fun', 'f14_f_peaks_pos_1', 'f15_f_90_percent_energy', 'f16_f_entropy', 'f17_f_mean', 'f19_f_var', 'f21_f_kurtosis', 'f23_f_peak_1020_value', 'f24_f_peak_1020_pos', 'f25_f_peak_2030_value', 'f27_f_rms', 'f29_f_power', 'f32_f_peaks_pos_2', 'f33_f_peaks_val_3', 'f34_f_peaks_pos_3', 'f39_w_f_maxval_D4', 'f43_w_f_maxpos_D2', 'f48_w_f_mean_A6', 'f51_w_f_mean_D3', 'f54_w_f_mean_D6', 'f55_w_t_meanEnergyAD', 'f56_w_t_PEC_A6', 'f57_w_t_PEC_D1', 'f58_w_t_PEC_D2', 'f59_w_t_PEC_D3', 'f60_w_t_PEC_D4', 'f63_w_t_rms_A6', 'f64_w_t_rms_D1', 'f65_w_t_rms_D2', 'f67_w_t_rms_D4', 'f71_w_t_peak2peak_D1', 'f76_w_t_peak2peak_D6', 'f77_w_t_peak2rms_A6', 'f84_w_t_meanEnergyCoeff']\n",
      "Best Fitness:  -0.46853085711620546\n",
      "Length:  40\n"
     ]
    }
   ],
   "source": [
    "from Metaheuristicas.Genetico import genetic_algorithm\n",
    "#Genetic with Relieff\n",
    "\n",
    "best_solution, best_Gfitness = genetic_algorithm(X, y,population_size,generations=gn,mutation_rate=mutation_rate,crossover_rate=crossover_rate,fitness_function=relieff_eval )\n",
    "selected_features = X.columns[best_solution.astype(bool)].tolist()\n",
    "print(f\"Selected_features:\", selected_features)\n",
    "print(f\"Best Fitness: \", best_Gfitness)\n",
    "print(f\"Length: \", np.sum(best_solution))\n",
    "\n",
    "ReliefF.append([selected_features, best_Gfitness])"
   ]
  },
  {
   "cell_type": "code",
   "execution_count": 82,
   "outputs": [
    {
     "name": "stdout",
     "output_type": "stream",
     "text": [
      "Accuracy: 0.9519650655021834\n",
      "Precision: 0.6742424242424242\n",
      "Recall: 0.8811881188118812\n",
      "F1: 0.7639484978540773\n",
      "AUC: 0.9200001896741398\n"
     ]
    }
   ],
   "source": [
    "#Naive Bayes\n",
    "model = GaussianNB()\n",
    "model.fit(X[selected_features], y)\n",
    "y_pred = model.predict(X[selected_features])\n",
    "print(\"Accuracy:\", accuracy_score(y, y_pred))\n",
    "print(\"Precision:\", precision_score(y, y_pred))\n",
    "print(\"Recall:\", recall_score(y, y_pred))\n",
    "print(\"F1:\", f1_score(y, y_pred))\n",
    "print(\"AUC:\", roc_auc_score(y, y_pred))\n"
   ],
   "metadata": {
    "collapsed": false,
    "ExecuteTime": {
     "end_time": "2024-10-13T03:18:38.737561Z",
     "start_time": "2024-10-13T03:18:38.714100700Z"
    }
   },
   "id": "5cca63a8f0fab604"
  },
  {
   "cell_type": "code",
   "execution_count": 83,
   "outputs": [
    {
     "name": "stdout",
     "output_type": "stream",
     "text": [
      "Accuracy: 1.0\n",
      "Precision: 1.0\n",
      "Recall: 1.0\n",
      "F1: 1.0\n",
      "AUC: 1.0\n"
     ]
    }
   ],
   "source": [
    "#Random Forest\n",
    "model = RandomForestClassifier()\n",
    "model.fit(X[selected_features], y)\n",
    "y_pred = model.predict(X[selected_features])\n",
    "print(\"Accuracy:\", accuracy_score(y, y_pred))\n",
    "print(\"Precision:\", precision_score(y, y_pred))\n",
    "print(\"Recall:\", recall_score(y, y_pred))\n",
    "print(\"F1:\", f1_score(y, y_pred))\n",
    "print(\"AUC:\", roc_auc_score(y, y_pred))\n"
   ],
   "metadata": {
    "collapsed": false,
    "ExecuteTime": {
     "end_time": "2024-10-13T03:18:39.152716900Z",
     "start_time": "2024-10-13T03:18:38.732550700Z"
    }
   },
   "id": "42f1635d558d8e2"
  },
  {
   "cell_type": "markdown",
   "id": "693d774d36e33198",
   "metadata": {},
   "source": [
    "### Advanced Ant Colony Optimization"
   ]
  },
  {
   "cell_type": "code",
   "execution_count": 84,
   "id": "b6e2f3c25d256e2d",
   "metadata": {
    "ExecuteTime": {
     "end_time": "2024-10-13T03:18:39.154900500Z",
     "start_time": "2024-10-13T03:18:39.152716900Z"
    }
   },
   "outputs": [],
   "source": [
    "n_ants=47\n",
    "n_best=1\n",
    "n_iterations=500\n"
   ]
  },
  {
   "cell_type": "markdown",
   "source": [
    "minimo de 10 caracteristicas. Restringir la convergencia a 10 caracteristicas. Investigar alpha y beta"
   ],
   "metadata": {
    "collapsed": false
   },
   "id": "e4d960abf43ffb06"
  },
  {
   "cell_type": "code",
   "execution_count": 85,
   "id": "466853f850dd1ad5",
   "metadata": {
    "ExecuteTime": {
     "end_time": "2024-10-13T04:19:37.041209100Z",
     "start_time": "2024-10-13T03:18:39.154900500Z"
    }
   },
   "outputs": [
    {
     "name": "stdout",
     "output_type": "stream",
     "text": [
      "Best solution: Index(['f4_t_entropy', 'f15_f_90_percent_energy', 'f17_f_mean',\n",
      "       'f30_f_PeaksAboveRMSDensity_fun', 'f36_w_f_maxval_D1',\n",
      "       'f40_w_f_maxval_D5', 'f53_w_f_mean_D5', 'f55_w_t_meanEnergyAD',\n",
      "       'f57_w_t_PEC_D1', 'f58_w_t_PEC_D2', 'f60_w_t_PEC_D4', 'f61_w_t_PEC_D5',\n",
      "       'f65_w_t_rms_D2', 'f68_w_t_rms_D5', 'f72_w_t_peak2peak_D2',\n",
      "       'f73_w_t_peak2peak_D3', 'f74_w_t_peak2peak_D4', 'f75_w_t_peak2peak_D5',\n",
      "       'f78_w_t_peak2rms_D1', 'f84_w_t_meanEnergyCoeff'],\n",
      "      dtype='object')\n",
      "Best solution length: 84\n",
      "Best fitness: 1.5690656915050443\n"
     ]
    }
   ],
   "source": [
    "from Metaheuristicas.Ant_Colony_Optimization import AdvancedBinaryAntColonyOptimization\n",
    "#ACO with Mutual\n",
    "aco = AdvancedBinaryAntColonyOptimization(n_ants, n_best, n_iterations, decay=0.6, alpha=1, beta=2)\n",
    "#                                               local_search_prob=0.15)\n",
    "best_solution, best_fitness = aco.fit(X.values, y.values,fitness_function=mutual_information_eval)\n",
    "bf = X.columns[best_solution == 1]\n",
    "print(f\"Best solution: {bf}\")\n",
    "print(f\"Best solution length: {len(best_solution)}\")\n",
    "print(f\"Best fitness: {best_fitness}\")\n",
    "Mutual_Information.append([bf,best_fitness])"
   ]
  },
  {
   "cell_type": "code",
   "execution_count": 86,
   "outputs": [
    {
     "name": "stdout",
     "output_type": "stream",
     "text": [
      "Accuracy: 0.9554585152838428\n",
      "Precision: 0.6984126984126984\n",
      "Recall: 0.8712871287128713\n",
      "F1: 0.775330396475771\n",
      "AUC: 0.9174443306399606\n"
     ]
    }
   ],
   "source": [
    "#Naive Bayes\n",
    "model = GaussianNB()\n",
    "model.fit(X[bf], y)\n",
    "y_pred = model.predict(X[bf])\n",
    "print(\"Accuracy:\", accuracy_score(y, y_pred))\n",
    "print(\"Precision:\", precision_score(y, y_pred))\n",
    "print(\"Recall:\", recall_score(y, y_pred))\n",
    "print(\"F1:\", f1_score(y, y_pred))\n",
    "print(\"AUC:\", roc_auc_score(y, y_pred))\n"
   ],
   "metadata": {
    "collapsed": false,
    "ExecuteTime": {
     "end_time": "2024-10-13T04:19:37.054617100Z",
     "start_time": "2024-10-13T04:19:37.045169900Z"
    }
   },
   "id": "135fee3694585dd2"
  },
  {
   "cell_type": "code",
   "execution_count": 87,
   "outputs": [
    {
     "name": "stdout",
     "output_type": "stream",
     "text": [
      "Accuracy: 1.0\n",
      "Precision: 1.0\n",
      "Recall: 1.0\n",
      "F1: 1.0\n",
      "AUC: 1.0\n"
     ]
    }
   ],
   "source": [
    "#Random Forest\n",
    "model = RandomForestClassifier()\n",
    "model.fit(X[bf], y)\n",
    "y_pred = model.predict(X[bf])\n",
    "print(\"Accuracy:\", accuracy_score(y, y_pred))\n",
    "print(\"Precision:\", precision_score(y, y_pred))\n",
    "print(\"Recall:\", recall_score(y, y_pred))\n",
    "print(\"F1:\", f1_score(y, y_pred))\n",
    "print(\"AUC:\", roc_auc_score(y, y_pred))\n"
   ],
   "metadata": {
    "collapsed": false,
    "ExecuteTime": {
     "end_time": "2024-10-13T04:19:37.424430300Z",
     "start_time": "2024-10-13T04:19:37.054617100Z"
    }
   },
   "id": "4974b4f386417761"
  },
  {
   "cell_type": "code",
   "execution_count": 88,
   "outputs": [],
   "source": [
    "#Red Neuronal\n"
   ],
   "metadata": {
    "collapsed": false,
    "ExecuteTime": {
     "end_time": "2024-10-13T04:19:37.426319400Z",
     "start_time": "2024-10-13T04:19:37.423744900Z"
    }
   },
   "id": "f38d6ee1255ee5ac"
  },
  {
   "cell_type": "code",
   "execution_count": 89,
   "id": "127bf76e28fae595",
   "metadata": {
    "ExecuteTime": {
     "end_time": "2024-10-13T04:45:38.759408200Z",
     "start_time": "2024-10-13T04:19:37.426319400Z"
    }
   },
   "outputs": [
    {
     "name": "stdout",
     "output_type": "stream",
     "text": [
      "Best solution: Index(['f2_t_std', 'f7_t_time2peak', 'f20_f_energy', 'f23_f_peak_1020_value',\n",
      "       'f30_f_PeaksAboveRMSDensity_fun', 'f31_f_peaks_val_2',\n",
      "       'f34_f_peaks_pos_3', 'f39_w_f_maxval_D4', 'f40_w_f_maxval_D5',\n",
      "       'f47_w_f_maxpos_D6', 'f50_w_f_mean_D2', 'f58_w_t_PEC_D2',\n",
      "       'f60_w_t_PEC_D4', 'f61_w_t_PEC_D5', 'f65_w_t_rms_D2', 'f66_w_t_rms_D3',\n",
      "       'f71_w_t_peak2peak_D1', 'f72_w_t_peak2peak_D2', 'f73_w_t_peak2peak_D3',\n",
      "       'f81_w_t_peak2rms_D4'],\n",
      "      dtype='object')\n",
      "Best solution length: 84\n",
      "Best fitness: 15.80511911801021\n"
     ]
    }
   ],
   "source": [
    "#ACO with Chi2\n",
    "\n",
    "best_solution, best_fitness = aco.fit(X.values, y.values,fitness_function=chi2_eval)\n",
    "bf = X.columns[best_solution == 1]\n",
    "print(f\"Best solution: {bf}\")\n",
    "print(f\"Best solution length: {len(best_solution)}\")\n",
    "print(f\"Best fitness: {best_fitness}\")\n",
    "Chi2.append([bf,best_fitness])"
   ]
  },
  {
   "cell_type": "code",
   "execution_count": 90,
   "outputs": [
    {
     "name": "stdout",
     "output_type": "stream",
     "text": [
      "Accuracy: 0.959825327510917\n",
      "Precision: 0.7099236641221374\n",
      "Recall: 0.9207920792079208\n",
      "F1: 0.8017241379310345\n",
      "AUC: 0.9421968058874853\n"
     ]
    }
   ],
   "source": [
    "#Naive Bayes\n",
    "model = GaussianNB()\n",
    "model.fit(X[bf], y)\n",
    "y_pred = model.predict(X[bf])\n",
    "print(\"Accuracy:\", accuracy_score(y, y_pred))\n",
    "print(\"Precision:\", precision_score(y, y_pred))\n",
    "print(\"Recall:\", recall_score(y, y_pred))\n",
    "print(\"F1:\", f1_score(y, y_pred))\n",
    "print(\"AUC:\", roc_auc_score(y, y_pred))\n"
   ],
   "metadata": {
    "collapsed": false,
    "ExecuteTime": {
     "end_time": "2024-10-13T04:45:38.772344600Z",
     "start_time": "2024-10-13T04:45:38.762483700Z"
    }
   },
   "id": "b76f999e3618cdb7"
  },
  {
   "cell_type": "code",
   "execution_count": 91,
   "outputs": [
    {
     "name": "stdout",
     "output_type": "stream",
     "text": [
      "Accuracy: 1.0\n",
      "Precision: 1.0\n",
      "Recall: 1.0\n",
      "F1: 1.0\n",
      "AUC: 1.0\n"
     ]
    }
   ],
   "source": [
    "#Random Forest\n",
    "model = RandomForestClassifier()\n",
    "model.fit(X[bf], y)\n",
    "y_pred = model.predict(X[bf])\n",
    "print(\"Accuracy:\", accuracy_score(y, y_pred))\n",
    "print(\"Precision:\", precision_score(y, y_pred))\n",
    "print(\"Recall:\", recall_score(y, y_pred))\n",
    "print(\"F1:\", f1_score(y, y_pred))\n",
    "print(\"AUC:\", roc_auc_score(y, y_pred))\n"
   ],
   "metadata": {
    "collapsed": false,
    "ExecuteTime": {
     "end_time": "2024-10-13T04:45:39.069209500Z",
     "start_time": "2024-10-13T04:45:38.772344600Z"
    }
   },
   "id": "4cb393a4fa30e38"
  },
  {
   "cell_type": "code",
   "execution_count": 92,
   "id": "bfc758d9fb776984",
   "metadata": {
    "ExecuteTime": {
     "end_time": "2024-10-13T05:30:58.771093900Z",
     "start_time": "2024-10-13T04:45:39.069209500Z"
    }
   },
   "outputs": [
    {
     "name": "stdout",
     "output_type": "stream",
     "text": [
      "Best solution: Index(['f2_t_std', 'f3_t_var', 'f4_t_entropy', 'f9_t_peak2peak',\n",
      "       'f10_t_peak2rms', 'f11_t_energy', 'f12_t_zcr', 'f14_f_peaks_pos_1',\n",
      "       'f16_f_entropy', 'f18_f_std', 'f20_f_energy', 'f25_f_peak_2030_value',\n",
      "       'f26_f_peak_2030_pos', 'f29_f_power', 'f40_w_f_maxval_D5',\n",
      "       'f56_w_t_PEC_A6', 'f62_w_t_PEC_D6', 'f64_w_t_rms_D1',\n",
      "       'f71_w_t_peak2peak_D1', 'f72_w_t_peak2peak_D2'],\n",
      "      dtype='object')\n",
      "Best solution length: 84\n",
      "Best fitness: -0.3186838618139591\n"
     ]
    }
   ],
   "source": [
    "#ACO with Relieff\n",
    "\n",
    "best_solution, best_fitness = aco.fit(X.values, y.values,fitness_function=relieff_eval)\n",
    "bf = X.columns[best_solution == 1]\n",
    "print(f\"Best solution: {bf}\")\n",
    "print(f\"Best solution length: {len(best_solution)}\")\n",
    "print(f\"Best fitness: {best_fitness}\")\n",
    "ReliefF.append([bf,best_fitness])"
   ]
  },
  {
   "cell_type": "code",
   "execution_count": 93,
   "outputs": [
    {
     "name": "stdout",
     "output_type": "stream",
     "text": [
      "Accuracy: 0.9432314410480349\n",
      "Precision: 0.6428571428571429\n",
      "Recall: 0.801980198019802\n",
      "F1: 0.7136563876651982\n",
      "AUC: 0.87943837487197\n"
     ]
    }
   ],
   "source": [
    "#Naive Bayes\n",
    "model = GaussianNB()\n",
    "model.fit(X[bf], y)\n",
    "y_pred = model.predict(X[bf])\n",
    "print(\"Accuracy:\", accuracy_score(y, y_pred))\n",
    "print(\"Precision:\", precision_score(y, y_pred))\n",
    "print(\"Recall:\", recall_score(y, y_pred))\n",
    "print(\"F1:\", f1_score(y, y_pred))\n",
    "print(\"AUC:\", roc_auc_score(y, y_pred))\n"
   ],
   "metadata": {
    "collapsed": false,
    "ExecuteTime": {
     "end_time": "2024-10-13T05:30:58.788170300Z",
     "start_time": "2024-10-13T05:30:58.777856100Z"
    }
   },
   "id": "2a82ccb338ab8c3c"
  },
  {
   "cell_type": "code",
   "execution_count": 94,
   "outputs": [
    {
     "name": "stdout",
     "output_type": "stream",
     "text": [
      "Accuracy: 1.0\n",
      "Precision: 1.0\n",
      "Recall: 1.0\n",
      "F1: 1.0\n",
      "AUC: 1.0\n"
     ]
    }
   ],
   "source": [
    "#Random Forest\n",
    "model = RandomForestClassifier()\n",
    "model.fit(X[bf], y)\n",
    "y_pred = model.predict(X[bf])\n",
    "print(\"Accuracy:\", accuracy_score(y, y_pred))\n",
    "print(\"Precision:\", precision_score(y, y_pred))\n",
    "print(\"Recall:\", recall_score(y, y_pred))\n",
    "print(\"F1:\", f1_score(y, y_pred))\n",
    "print(\"AUC:\", roc_auc_score(y, y_pred))\n"
   ],
   "metadata": {
    "collapsed": false,
    "ExecuteTime": {
     "end_time": "2024-10-13T05:30:59.108855Z",
     "start_time": "2024-10-13T05:30:58.788170300Z"
    }
   },
   "id": "7962ef9173e9cb4"
  },
  {
   "cell_type": "markdown",
   "id": "771081552210567a",
   "metadata": {},
   "source": [
    "### Simulated Annealing"
   ]
  },
  {
   "cell_type": "code",
   "execution_count": 95,
   "id": "ee5415943238cfb9",
   "metadata": {
    "ExecuteTime": {
     "end_time": "2024-10-13T05:30:59.112463400Z",
     "start_time": "2024-10-13T05:30:59.111945600Z"
    }
   },
   "outputs": [],
   "source": [
    "initial_temperature=100\n",
    "cooling_rate=0.8\n",
    "max_iter=500"
   ]
  },
  {
   "cell_type": "markdown",
   "source": [
    "4 pasos de variacion para temperatura: [10^4, 10^3, 10^2, 10^1] - 10^0,10^-1, 10^-2, 10^-3, 10^-4"
   ],
   "metadata": {
    "collapsed": false
   },
   "id": "2f8b549622a657c2"
  },
  {
   "cell_type": "code",
   "execution_count": 95,
   "outputs": [],
   "source": [],
   "metadata": {
    "collapsed": false,
    "ExecuteTime": {
     "end_time": "2024-10-13T05:30:59.116582700Z",
     "start_time": "2024-10-13T05:30:59.114532400Z"
    }
   },
   "id": "10bc806766e993d4"
  },
  {
   "cell_type": "markdown",
   "source": [],
   "metadata": {
    "collapsed": false
   },
   "id": "197f9bf9b924b0f4"
  },
  {
   "cell_type": "code",
   "execution_count": 96,
   "id": "4c23ecd685ded28c",
   "metadata": {
    "ExecuteTime": {
     "end_time": "2024-10-13T05:32:40.504317900Z",
     "start_time": "2024-10-13T05:30:59.116582700Z"
    }
   },
   "outputs": [
    {
     "name": "stdout",
     "output_type": "stream",
     "text": [
      "Selected Features: ['f1_t_mean', 'f3_t_var', 'f4_t_entropy', 'f6_t_multiscaleEntropy', 'f7_t_time2peak', 'f8_t_rms', 'f9_t_peak2peak', 'f11_t_energy', 'f13_t_PeaksAboveRMSDensity_fun', 'f14_f_peaks_pos_1', 'f15_f_90_percent_energy', 'f16_f_entropy', 'f17_f_mean', 'f18_f_std', 'f19_f_var', 'f20_f_energy', 'f21_f_kurtosis', 'f22_f_multiscaleEntropy', 'f23_f_peak_1020_value', 'f24_f_peak_1020_pos', 'f25_f_peak_2030_value', 'f26_f_peak_2030_pos', 'f28_f_peak2rms', 'f30_f_PeaksAboveRMSDensity_fun', 'f31_f_peaks_val_2', 'f32_f_peaks_pos_2', 'f33_f_peaks_val_3', 'f34_f_peaks_pos_3', 'f35_w_f_maxval_A6', 'f36_w_f_maxval_D1', 'f37_w_f_maxval_D2', 'f38_w_f_maxval_D3', 'f39_w_f_maxval_D4', 'f40_w_f_maxval_D5', 'f41_w_f_maxval_D6', 'f42_w_f_maxpos_A6', 'f44_w_f_maxpos_D3', 'f45_w_f_maxpos_D4', 'f48_w_f_mean_A6', 'f49_w_f_mean_D1', 'f50_w_f_mean_D2', 'f51_w_f_mean_D3', 'f52_w_f_mean_D4', 'f53_w_f_mean_D5', 'f55_w_t_meanEnergyAD', 'f56_w_t_PEC_A6', 'f57_w_t_PEC_D1', 'f58_w_t_PEC_D2', 'f59_w_t_PEC_D3', 'f60_w_t_PEC_D4', 'f61_w_t_PEC_D5', 'f62_w_t_PEC_D6', 'f63_w_t_rms_A6', 'f64_w_t_rms_D1', 'f65_w_t_rms_D2', 'f66_w_t_rms_D3', 'f67_w_t_rms_D4', 'f68_w_t_rms_D5', 'f69_w_t_rms_D6', 'f71_w_t_peak2peak_D1', 'f72_w_t_peak2peak_D2', 'f73_w_t_peak2peak_D3', 'f74_w_t_peak2peak_D4', 'f75_w_t_peak2peak_D5', 'f76_w_t_peak2peak_D6', 'f78_w_t_peak2rms_D1', 'f79_w_t_peak2rms_D2', 'f80_w_t_peak2rms_D3', 'f82_w_t_peak2rms_D5', 'f84_w_t_meanEnergyCoeff']\n",
      "Best Score: 3.2151407156198895\n",
      "Number of Selected Features: 70\n"
     ]
    }
   ],
   "source": [
    "from Metaheuristicas.Simmulated_Annealing import simulated_annealing\n",
    "#Simmulated Annealing with Mutual Info\n",
    "best_solution, best_score = simulated_annealing(X, y, initial_temperature, cooling_rate, max_iter,fitness_function=mutual_information_eval)\n",
    "\n",
    "# Display the results\n",
    "selected_features = X.columns[best_solution.astype(bool)].tolist()\n",
    "print(f\"Selected Features: {selected_features}\")\n",
    "print(\"Best Score:\", best_score)\n",
    "print(\"Number of Selected Features:\", np.sum(best_solution))\n",
    "Mutual_Information.append([selected_features,best_score])"
   ]
  },
  {
   "cell_type": "code",
   "execution_count": 97,
   "id": "4c2d4bc83e42609c",
   "metadata": {
    "ExecuteTime": {
     "end_time": "2024-10-13T05:32:41.213109400Z",
     "start_time": "2024-10-13T05:32:40.504317900Z"
    }
   },
   "outputs": [
    {
     "name": "stdout",
     "output_type": "stream",
     "text": [
      "Selected Features: ['f58_w_t_PEC_D2']\n",
      "Best Score: 76.55069339150783\n",
      "Number of Selected Features: 1\n"
     ]
    }
   ],
   "source": [
    "#Simmulated Annealing with Chi2\n",
    "\n",
    "best_solution, best_score = simulated_annealing(X, y, initial_temperature, cooling_rate, max_iter,fitness_function=chi2_eval)\n",
    "\n",
    "# Display the results\n",
    "selected_features = X.columns[best_solution.astype(bool)].tolist()\n",
    "print(f\"Selected Features: {selected_features}\")\n",
    "print(\"Best Score:\", best_score)\n",
    "print(\"Number of Selected Features:\", np.sum(best_solution))\n",
    "Chi2.append([selected_features,best_score])"
   ]
  },
  {
   "cell_type": "code",
   "execution_count": 98,
   "id": "50a0ef3c89e62579",
   "metadata": {
    "ExecuteTime": {
     "end_time": "2024-10-13T05:32:55.317560400Z",
     "start_time": "2024-10-13T05:32:41.213109400Z"
    }
   },
   "outputs": [
    {
     "name": "stdout",
     "output_type": "stream",
     "text": [
      "Selected Features: ['f11_t_energy', 'f16_f_entropy', 'f17_f_mean', 'f20_f_energy', 'f27_f_rms', 'f55_w_t_meanEnergyAD', 'f57_w_t_PEC_D1', 'f58_w_t_PEC_D2', 'f64_w_t_rms_D1']\n",
      "Best Score: -0.08904765374451895\n",
      "Number of Selected Features: 9\n"
     ]
    }
   ],
   "source": [
    "#Simmulated Annealing with ReliefF\n",
    "\n",
    "best_solution, best_score = simulated_annealing(X, y, initial_temperature, cooling_rate, max_iter,fitness_function=relieff_eval)\n",
    "\n",
    "# Display the results\n",
    "selected_features = X.columns[best_solution.astype(bool)].tolist()\n",
    "print(f\"Selected Features: {selected_features}\")\n",
    "print(\"Best Score:\", best_score)\n",
    "print(\"Number of Selected Features:\", np.sum(best_solution))\n",
    "ReliefF.append([selected_features,best_score])"
   ]
  },
  {
   "cell_type": "markdown",
   "id": "8696dbc5f7e855c2",
   "metadata": {},
   "source": [
    "### Resultados de Mutual Information"
   ]
  },
  {
   "cell_type": "code",
   "execution_count": 99,
   "id": "6a3ef7a9a180e972",
   "metadata": {
    "ExecuteTime": {
     "end_time": "2024-10-13T05:32:55.321955500Z",
     "start_time": "2024-10-13T05:32:55.317560400Z"
    }
   },
   "outputs": [
    {
     "name": "stdout",
     "output_type": "stream",
     "text": [
      "CUCKOO\n",
      "Features:  ['f1_t_mean', 'f3_t_var', 'f4_t_entropy', 'f5_t_kurtosis', 'f7_t_time2peak', 'f8_t_rms', 'f10_t_peak2rms', 'f11_t_energy', 'f12_t_zcr', 'f13_t_PeaksAboveRMSDensity_fun', 'f14_f_peaks_pos_1', 'f15_f_90_percent_energy', 'f17_f_mean', 'f18_f_std', 'f19_f_var', 'f21_f_kurtosis', 'f22_f_multiscaleEntropy', 'f23_f_peak_1020_value', 'f25_f_peak_2030_value', 'f26_f_peak_2030_pos', 'f27_f_rms', 'f28_f_peak2rms', 'f29_f_power', 'f30_f_PeaksAboveRMSDensity_fun', 'f31_f_peaks_val_2', 'f32_f_peaks_pos_2', 'f33_f_peaks_val_3', 'f35_w_f_maxval_A6', 'f36_w_f_maxval_D1', 'f37_w_f_maxval_D2', 'f38_w_f_maxval_D3', 'f39_w_f_maxval_D4', 'f40_w_f_maxval_D5', 'f41_w_f_maxval_D6', 'f43_w_f_maxpos_D2', 'f44_w_f_maxpos_D3', 'f46_w_f_maxpos_D5', 'f47_w_f_maxpos_D6', 'f52_w_f_mean_D4', 'f56_w_t_PEC_A6', 'f57_w_t_PEC_D1', 'f58_w_t_PEC_D2', 'f59_w_t_PEC_D3', 'f60_w_t_PEC_D4', 'f61_w_t_PEC_D5', 'f62_w_t_PEC_D6', 'f64_w_t_rms_D1', 'f65_w_t_rms_D2', 'f67_w_t_rms_D4', 'f68_w_t_rms_D5', 'f69_w_t_rms_D6', 'f72_w_t_peak2peak_D2', 'f75_w_t_peak2peak_D5', 'f77_w_t_peak2rms_A6', 'f78_w_t_peak2rms_D1', 'f79_w_t_peak2rms_D2', 'f80_w_t_peak2rms_D3', 'f82_w_t_peak2rms_D5', 'f84_w_t_meanEnergyCoeff']\n"
     ]
    }
   ],
   "source": [
    "print(\"CUCKOO\")\n",
    "print(f\"Features: \", Mutual_Information[0][0])\n"
   ]
  },
  {
   "cell_type": "code",
   "execution_count": 100,
   "id": "fc58444e41866366",
   "metadata": {
    "ExecuteTime": {
     "end_time": "2024-10-13T05:32:55.412930500Z",
     "start_time": "2024-10-13T05:32:55.321955500Z"
    }
   },
   "outputs": [
    {
     "name": "stdout",
     "output_type": "stream",
     "text": [
      "Genetic\n",
      "Features:  ['f3_t_var', 'f4_t_entropy', 'f6_t_multiscaleEntropy', 'f7_t_time2peak', 'f9_t_peak2peak', 'f10_t_peak2rms', 'f11_t_energy', 'f12_t_zcr', 'f13_t_PeaksAboveRMSDensity_fun', 'f14_f_peaks_pos_1', 'f18_f_std', 'f20_f_energy', 'f21_f_kurtosis', 'f23_f_peak_1020_value', 'f25_f_peak_2030_value', 'f26_f_peak_2030_pos', 'f27_f_rms', 'f28_f_peak2rms', 'f29_f_power', 'f30_f_PeaksAboveRMSDensity_fun', 'f31_f_peaks_val_2', 'f32_f_peaks_pos_2', 'f34_f_peaks_pos_3', 'f36_w_f_maxval_D1', 'f37_w_f_maxval_D2', 'f39_w_f_maxval_D4', 'f40_w_f_maxval_D5', 'f41_w_f_maxval_D6', 'f42_w_f_maxpos_A6', 'f43_w_f_maxpos_D2', 'f45_w_f_maxpos_D4', 'f46_w_f_maxpos_D5', 'f47_w_f_maxpos_D6', 'f50_w_f_mean_D2', 'f51_w_f_mean_D3', 'f53_w_f_mean_D5', 'f54_w_f_mean_D6', 'f56_w_t_PEC_A6', 'f57_w_t_PEC_D1', 'f58_w_t_PEC_D2', 'f60_w_t_PEC_D4', 'f61_w_t_PEC_D5', 'f65_w_t_rms_D2', 'f66_w_t_rms_D3', 'f67_w_t_rms_D4', 'f68_w_t_rms_D5', 'f70_w_t_peak2peak_A6', 'f71_w_t_peak2peak_D1', 'f72_w_t_peak2peak_D2', 'f73_w_t_peak2peak_D3', 'f74_w_t_peak2peak_D4', 'f75_w_t_peak2peak_D5', 'f76_w_t_peak2peak_D6', 'f78_w_t_peak2rms_D1', 'f80_w_t_peak2rms_D3', 'f84_w_t_meanEnergyCoeff']\n"
     ]
    }
   ],
   "source": [
    "print(\"Genetic\")\n",
    "print(f\"Features: \", Mutual_Information[1][0])\n"
   ]
  },
  {
   "cell_type": "code",
   "execution_count": 101,
   "id": "5642db56e1c11dfc",
   "metadata": {
    "ExecuteTime": {
     "end_time": "2024-10-13T05:32:55.475904200Z",
     "start_time": "2024-10-13T05:32:55.397261800Z"
    }
   },
   "outputs": [
    {
     "name": "stdout",
     "output_type": "stream",
     "text": [
      "ACO\n",
      "Features:  Index(['f4_t_entropy', 'f15_f_90_percent_energy', 'f17_f_mean',\n",
      "       'f30_f_PeaksAboveRMSDensity_fun', 'f36_w_f_maxval_D1',\n",
      "       'f40_w_f_maxval_D5', 'f53_w_f_mean_D5', 'f55_w_t_meanEnergyAD',\n",
      "       'f57_w_t_PEC_D1', 'f58_w_t_PEC_D2', 'f60_w_t_PEC_D4', 'f61_w_t_PEC_D5',\n",
      "       'f65_w_t_rms_D2', 'f68_w_t_rms_D5', 'f72_w_t_peak2peak_D2',\n",
      "       'f73_w_t_peak2peak_D3', 'f74_w_t_peak2peak_D4', 'f75_w_t_peak2peak_D5',\n",
      "       'f78_w_t_peak2rms_D1', 'f84_w_t_meanEnergyCoeff'],\n",
      "      dtype='object')\n"
     ]
    }
   ],
   "source": [
    "print(\"ACO\")\n",
    "print(f\"Features: \", Mutual_Information[2][0])\n"
   ]
  },
  {
   "cell_type": "code",
   "execution_count": 102,
   "id": "c81b9eb29dd98b44",
   "metadata": {
    "ExecuteTime": {
     "end_time": "2024-10-13T05:32:55.554532100Z",
     "start_time": "2024-10-13T05:32:55.466391900Z"
    }
   },
   "outputs": [
    {
     "name": "stdout",
     "output_type": "stream",
     "text": [
      "Simmulated Anealing\n",
      "Features:  ['f1_t_mean', 'f3_t_var', 'f4_t_entropy', 'f6_t_multiscaleEntropy', 'f7_t_time2peak', 'f8_t_rms', 'f9_t_peak2peak', 'f11_t_energy', 'f13_t_PeaksAboveRMSDensity_fun', 'f14_f_peaks_pos_1', 'f15_f_90_percent_energy', 'f16_f_entropy', 'f17_f_mean', 'f18_f_std', 'f19_f_var', 'f20_f_energy', 'f21_f_kurtosis', 'f22_f_multiscaleEntropy', 'f23_f_peak_1020_value', 'f24_f_peak_1020_pos', 'f25_f_peak_2030_value', 'f26_f_peak_2030_pos', 'f28_f_peak2rms', 'f30_f_PeaksAboveRMSDensity_fun', 'f31_f_peaks_val_2', 'f32_f_peaks_pos_2', 'f33_f_peaks_val_3', 'f34_f_peaks_pos_3', 'f35_w_f_maxval_A6', 'f36_w_f_maxval_D1', 'f37_w_f_maxval_D2', 'f38_w_f_maxval_D3', 'f39_w_f_maxval_D4', 'f40_w_f_maxval_D5', 'f41_w_f_maxval_D6', 'f42_w_f_maxpos_A6', 'f44_w_f_maxpos_D3', 'f45_w_f_maxpos_D4', 'f48_w_f_mean_A6', 'f49_w_f_mean_D1', 'f50_w_f_mean_D2', 'f51_w_f_mean_D3', 'f52_w_f_mean_D4', 'f53_w_f_mean_D5', 'f55_w_t_meanEnergyAD', 'f56_w_t_PEC_A6', 'f57_w_t_PEC_D1', 'f58_w_t_PEC_D2', 'f59_w_t_PEC_D3', 'f60_w_t_PEC_D4', 'f61_w_t_PEC_D5', 'f62_w_t_PEC_D6', 'f63_w_t_rms_A6', 'f64_w_t_rms_D1', 'f65_w_t_rms_D2', 'f66_w_t_rms_D3', 'f67_w_t_rms_D4', 'f68_w_t_rms_D5', 'f69_w_t_rms_D6', 'f71_w_t_peak2peak_D1', 'f72_w_t_peak2peak_D2', 'f73_w_t_peak2peak_D3', 'f74_w_t_peak2peak_D4', 'f75_w_t_peak2peak_D5', 'f76_w_t_peak2peak_D6', 'f78_w_t_peak2rms_D1', 'f79_w_t_peak2rms_D2', 'f80_w_t_peak2rms_D3', 'f82_w_t_peak2rms_D5', 'f84_w_t_meanEnergyCoeff']\n"
     ]
    }
   ],
   "source": [
    "print(\"Simmulated Anealing\")\n",
    "print(f\"Features: \", Mutual_Information[3][0])\n"
   ]
  },
  {
   "cell_type": "code",
   "execution_count": 103,
   "id": "556889b09d55a85d",
   "metadata": {
    "ExecuteTime": {
     "end_time": "2024-10-13T05:32:55.649201800Z",
     "start_time": "2024-10-13T05:32:55.538987200Z"
    }
   },
   "outputs": [
    {
     "name": "stdout",
     "output_type": "stream",
     "text": [
      "Fitness Cuckoo 2.772583236327163\n",
      "Fitness Genetic 2.629375112642688\n",
      "Fitness ACO 1.5690656915050443\n",
      "Fitness Simmulated Anealing 3.2151407156198895\n"
     ]
    }
   ],
   "source": [
    "print(f\"Fitness Cuckoo\", Mutual_Information[0][1])\n",
    "print(f\"Fitness Genetic\", Mutual_Information[1][1])\n",
    "print(f\"Fitness ACO\", Mutual_Information[2][1])\n",
    "print(f\"Fitness Simmulated Anealing\", Mutual_Information[3][1])"
   ]
  },
  {
   "cell_type": "code",
   "execution_count": 104,
   "id": "d830cdc066defcbb",
   "metadata": {
    "ExecuteTime": {
     "end_time": "2024-10-13T05:32:55.712525600Z",
     "start_time": "2024-10-13T05:32:55.610395200Z"
    }
   },
   "outputs": [],
   "source": [
    "#print which metaheuristic got the highes fitness\n"
   ]
  },
  {
   "cell_type": "markdown",
   "id": "1244f6667ff8b606",
   "metadata": {},
   "source": [
    "### Resultados de Chi2"
   ]
  },
  {
   "cell_type": "code",
   "execution_count": 105,
   "id": "1631dcedd3a4a1e6",
   "metadata": {
    "ExecuteTime": {
     "end_time": "2024-10-13T05:32:55.759615500Z",
     "start_time": "2024-10-13T05:32:55.682829200Z"
    }
   },
   "outputs": [
    {
     "name": "stdout",
     "output_type": "stream",
     "text": [
      "CUCKOO\n",
      "Features:  ['f2_t_std', 'f4_t_entropy', 'f10_t_peak2rms', 'f12_t_zcr', 'f13_t_PeaksAboveRMSDensity_fun', 'f14_f_peaks_pos_1', 'f21_f_kurtosis', 'f26_f_peak_2030_pos', 'f29_f_power', 'f30_f_PeaksAboveRMSDensity_fun', 'f31_f_peaks_val_2', 'f33_f_peaks_val_3', 'f35_w_f_maxval_A6', 'f37_w_f_maxval_D2', 'f40_w_f_maxval_D5', 'f56_w_t_PEC_A6', 'f58_w_t_PEC_D2', 'f59_w_t_PEC_D3', 'f61_w_t_PEC_D5', 'f64_w_t_rms_D1', 'f65_w_t_rms_D2', 'f69_w_t_rms_D6', 'f71_w_t_peak2peak_D1', 'f72_w_t_peak2peak_D2', 'f73_w_t_peak2peak_D3', 'f74_w_t_peak2peak_D4', 'f75_w_t_peak2peak_D5']\n"
     ]
    }
   ],
   "source": [
    "print(\"CUCKOO\")\n",
    "print(f\"Features: \", Chi2[0][0])\n"
   ]
  },
  {
   "cell_type": "code",
   "execution_count": 106,
   "id": "539b66ff3e1ec816",
   "metadata": {
    "ExecuteTime": {
     "end_time": "2024-10-13T05:32:55.825243800Z",
     "start_time": "2024-10-13T05:32:55.753575500Z"
    }
   },
   "outputs": [
    {
     "name": "stdout",
     "output_type": "stream",
     "text": [
      "Genetic\n",
      "Features:  ['f5_t_kurtosis', 'f6_t_multiscaleEntropy', 'f10_t_peak2rms', 'f13_t_PeaksAboveRMSDensity_fun', 'f14_f_peaks_pos_1', 'f17_f_mean', 'f20_f_energy', 'f22_f_multiscaleEntropy', 'f23_f_peak_1020_value', 'f26_f_peak_2030_pos', 'f28_f_peak2rms', 'f35_w_f_maxval_A6', 'f37_w_f_maxval_D2', 'f38_w_f_maxval_D3', 'f44_w_f_maxpos_D3', 'f49_w_f_mean_D1', 'f51_w_f_mean_D3', 'f54_w_f_mean_D6', 'f58_w_t_PEC_D2', 'f59_w_t_PEC_D3', 'f61_w_t_PEC_D5', 'f63_w_t_rms_A6', 'f65_w_t_rms_D2', 'f66_w_t_rms_D3', 'f68_w_t_rms_D5', 'f71_w_t_peak2peak_D1', 'f72_w_t_peak2peak_D2', 'f73_w_t_peak2peak_D3', 'f77_w_t_peak2rms_A6', 'f79_w_t_peak2rms_D2', 'f82_w_t_peak2rms_D5']\n"
     ]
    }
   ],
   "source": [
    "print(\"Genetic\")\n",
    "print(f\"Features: \", Chi2[1][0])\n"
   ]
  },
  {
   "cell_type": "code",
   "execution_count": 107,
   "id": "e86d2f449f8f3677",
   "metadata": {
    "ExecuteTime": {
     "end_time": "2024-10-13T05:32:55.901158600Z",
     "start_time": "2024-10-13T05:32:55.825243800Z"
    }
   },
   "outputs": [
    {
     "name": "stdout",
     "output_type": "stream",
     "text": [
      "ACO\n",
      "Features:  Index(['f2_t_std', 'f7_t_time2peak', 'f20_f_energy', 'f23_f_peak_1020_value',\n",
      "       'f30_f_PeaksAboveRMSDensity_fun', 'f31_f_peaks_val_2',\n",
      "       'f34_f_peaks_pos_3', 'f39_w_f_maxval_D4', 'f40_w_f_maxval_D5',\n",
      "       'f47_w_f_maxpos_D6', 'f50_w_f_mean_D2', 'f58_w_t_PEC_D2',\n",
      "       'f60_w_t_PEC_D4', 'f61_w_t_PEC_D5', 'f65_w_t_rms_D2', 'f66_w_t_rms_D3',\n",
      "       'f71_w_t_peak2peak_D1', 'f72_w_t_peak2peak_D2', 'f73_w_t_peak2peak_D3',\n",
      "       'f81_w_t_peak2rms_D4'],\n",
      "      dtype='object')\n"
     ]
    }
   ],
   "source": [
    "print(\"ACO\")\n",
    "print(f\"Features: \", Chi2[2][0])"
   ]
  },
  {
   "cell_type": "code",
   "execution_count": 108,
   "id": "d4e61059279d260e",
   "metadata": {
    "ExecuteTime": {
     "end_time": "2024-10-13T05:32:55.967293900Z",
     "start_time": "2024-10-13T05:32:55.896641Z"
    }
   },
   "outputs": [
    {
     "name": "stdout",
     "output_type": "stream",
     "text": [
      "Simmulated Anealing\n",
      "Features:  ['f58_w_t_PEC_D2']\n"
     ]
    }
   ],
   "source": [
    "print(\"Simmulated Anealing\")\n",
    "print(f\"Features: \", Chi2[3][0])"
   ]
  },
  {
   "cell_type": "code",
   "execution_count": 109,
   "id": "266575126751f8ed",
   "metadata": {
    "ExecuteTime": {
     "end_time": "2024-10-13T05:32:56.038441900Z",
     "start_time": "2024-10-13T05:32:55.967293900Z"
    }
   },
   "outputs": [
    {
     "name": "stdout",
     "output_type": "stream",
     "text": [
      "Fitness Cuckoo 13.282888952935743\n",
      "Fitness Genetic 11.562128891604216\n",
      "Fitness ACO 15.80511911801021\n",
      "Fitness Simmulated Anealing 76.55069339150783\n"
     ]
    }
   ],
   "source": [
    "print(f\"Fitness Cuckoo\", Chi2[0][1])\n",
    "print(f\"Fitness Genetic\", Chi2[1][1])\n",
    "print(f\"Fitness ACO\", Chi2[2][1])\n",
    "print(f\"Fitness Simmulated Anealing\", Chi2[3][1])"
   ]
  },
  {
   "cell_type": "markdown",
   "id": "a14aa5fc019050b9",
   "metadata": {},
   "source": []
  },
  {
   "cell_type": "markdown",
   "id": "6ef2fbb92ac92149",
   "metadata": {},
   "source": [
    "### Resultados de ReliefF\n"
   ]
  },
  {
   "cell_type": "code",
   "execution_count": 110,
   "id": "29ea02475e5f8022",
   "metadata": {
    "ExecuteTime": {
     "end_time": "2024-10-13T05:32:56.109090300Z",
     "start_time": "2024-10-13T05:32:56.038441900Z"
    }
   },
   "outputs": [
    {
     "name": "stdout",
     "output_type": "stream",
     "text": [
      "CUCKOO\n",
      "Features:  ['f1_t_mean', 'f2_t_std', 'f3_t_var', 'f4_t_entropy', 'f5_t_kurtosis', 'f6_t_multiscaleEntropy', 'f10_t_peak2rms', 'f11_t_energy', 'f14_f_peaks_pos_1', 'f15_f_90_percent_energy', 'f16_f_entropy', 'f21_f_kurtosis', 'f22_f_multiscaleEntropy', 'f25_f_peak_2030_value', 'f26_f_peak_2030_pos', 'f27_f_rms', 'f29_f_power', 'f31_f_peaks_val_2', 'f32_f_peaks_pos_2', 'f34_f_peaks_pos_3', 'f35_w_f_maxval_A6', 'f49_w_f_mean_D1', 'f55_w_t_meanEnergyAD', 'f56_w_t_PEC_A6', 'f57_w_t_PEC_D1', 'f58_w_t_PEC_D2', 'f62_w_t_PEC_D6', 'f63_w_t_rms_A6', 'f64_w_t_rms_D1', 'f65_w_t_rms_D2', 'f67_w_t_rms_D4', 'f69_w_t_rms_D6', 'f72_w_t_peak2peak_D2', 'f79_w_t_peak2rms_D2', 'f84_w_t_meanEnergyCoeff']\n"
     ]
    }
   ],
   "source": [
    "print(\"CUCKOO\")\n",
    "print(f\"Features: \", ReliefF[0][0])\n"
   ]
  },
  {
   "cell_type": "code",
   "execution_count": 111,
   "id": "3c4771b47ff0b99d",
   "metadata": {
    "ExecuteTime": {
     "end_time": "2024-10-13T05:32:56.181500300Z",
     "start_time": "2024-10-13T05:32:56.109090300Z"
    }
   },
   "outputs": [
    {
     "name": "stdout",
     "output_type": "stream",
     "text": [
      "Genetic\n",
      "Features:  ['f1_t_mean', 'f3_t_var', 'f5_t_kurtosis', 'f8_t_rms', 'f10_t_peak2rms', 'f11_t_energy', 'f13_t_PeaksAboveRMSDensity_fun', 'f14_f_peaks_pos_1', 'f15_f_90_percent_energy', 'f16_f_entropy', 'f17_f_mean', 'f19_f_var', 'f21_f_kurtosis', 'f23_f_peak_1020_value', 'f24_f_peak_1020_pos', 'f25_f_peak_2030_value', 'f27_f_rms', 'f29_f_power', 'f32_f_peaks_pos_2', 'f33_f_peaks_val_3', 'f34_f_peaks_pos_3', 'f39_w_f_maxval_D4', 'f43_w_f_maxpos_D2', 'f48_w_f_mean_A6', 'f51_w_f_mean_D3', 'f54_w_f_mean_D6', 'f55_w_t_meanEnergyAD', 'f56_w_t_PEC_A6', 'f57_w_t_PEC_D1', 'f58_w_t_PEC_D2', 'f59_w_t_PEC_D3', 'f60_w_t_PEC_D4', 'f63_w_t_rms_A6', 'f64_w_t_rms_D1', 'f65_w_t_rms_D2', 'f67_w_t_rms_D4', 'f71_w_t_peak2peak_D1', 'f76_w_t_peak2peak_D6', 'f77_w_t_peak2rms_A6', 'f84_w_t_meanEnergyCoeff']\n"
     ]
    }
   ],
   "source": [
    "print(\"Genetic\")\n",
    "print(f\"Features: \", ReliefF[1][0])"
   ]
  },
  {
   "cell_type": "code",
   "execution_count": 112,
   "id": "d2f48805b6bf73c8",
   "metadata": {
    "ExecuteTime": {
     "end_time": "2024-10-13T05:32:56.252883500Z",
     "start_time": "2024-10-13T05:32:56.181500300Z"
    }
   },
   "outputs": [
    {
     "name": "stdout",
     "output_type": "stream",
     "text": [
      "ACO\n",
      "Features:  Index(['f2_t_std', 'f3_t_var', 'f4_t_entropy', 'f9_t_peak2peak',\n",
      "       'f10_t_peak2rms', 'f11_t_energy', 'f12_t_zcr', 'f14_f_peaks_pos_1',\n",
      "       'f16_f_entropy', 'f18_f_std', 'f20_f_energy', 'f25_f_peak_2030_value',\n",
      "       'f26_f_peak_2030_pos', 'f29_f_power', 'f40_w_f_maxval_D5',\n",
      "       'f56_w_t_PEC_A6', 'f62_w_t_PEC_D6', 'f64_w_t_rms_D1',\n",
      "       'f71_w_t_peak2peak_D1', 'f72_w_t_peak2peak_D2'],\n",
      "      dtype='object')\n"
     ]
    }
   ],
   "source": [
    "print(\"ACO\")\n",
    "print(f\"Features: \", ReliefF[2][0])"
   ]
  },
  {
   "cell_type": "code",
   "execution_count": 113,
   "id": "8cd20fefbf213e56",
   "metadata": {
    "ExecuteTime": {
     "end_time": "2024-10-13T05:32:56.325573200Z",
     "start_time": "2024-10-13T05:32:56.252883500Z"
    }
   },
   "outputs": [
    {
     "name": "stdout",
     "output_type": "stream",
     "text": [
      "Simmulated Anealing\n",
      "Features:  ['f11_t_energy', 'f16_f_entropy', 'f17_f_mean', 'f20_f_energy', 'f27_f_rms', 'f55_w_t_meanEnergyAD', 'f57_w_t_PEC_D1', 'f58_w_t_PEC_D2', 'f64_w_t_rms_D1']\n"
     ]
    }
   ],
   "source": [
    "print(\"Simmulated Anealing\")\n",
    "print(f\"Features: \", ReliefF[3][0])"
   ]
  },
  {
   "cell_type": "code",
   "execution_count": 114,
   "id": "5d928ba2f3e4f791",
   "metadata": {
    "ExecuteTime": {
     "end_time": "2024-10-13T05:32:56.396858900Z",
     "start_time": "2024-10-13T05:32:56.329009700Z"
    }
   },
   "outputs": [
    {
     "name": "stdout",
     "output_type": "stream",
     "text": [
      "Fitness Cuckoo -0.4065174653076381\n",
      "Fitness Genetic -0.46853085711620546\n",
      "Fitness ACO -0.3186838618139591\n",
      "Fitness Simmulated Anealing -0.08904765374451895\n"
     ]
    }
   ],
   "source": [
    "print(f\"Fitness Cuckoo\", ReliefF[0][1])\n",
    "print(f\"Fitness Genetic\", ReliefF[1][1])\n",
    "print(f\"Fitness ACO\", ReliefF[2][1])\n",
    "print(f\"Fitness Simmulated Anealing\", ReliefF[3][1])"
   ]
  },
  {
   "cell_type": "markdown",
   "id": "d0481f3986e5ee4b",
   "metadata": {},
   "source": []
  },
  {
   "cell_type": "code",
   "execution_count": 115,
   "id": "7517cf832c6c2fc",
   "metadata": {
    "ExecuteTime": {
     "end_time": "2024-10-13T05:32:56.486272600Z",
     "start_time": "2024-10-13T05:32:56.396858900Z"
    }
   },
   "outputs": [],
   "source": [
    "#Save results in an "
   ]
  },
  {
   "cell_type": "markdown",
   "id": "e1ed95d41f6f3e5a",
   "metadata": {},
   "source": []
  }
 ],
 "metadata": {
  "kernelspec": {
   "display_name": "Python 3 (ipykernel)",
   "language": "python",
   "name": "python3"
  },
  "language_info": {
   "codemirror_mode": {
    "name": "ipython",
    "version": 3
   },
   "file_extension": ".py",
   "mimetype": "text/x-python",
   "name": "python",
   "nbconvert_exporter": "python",
   "pygments_lexer": "ipython3",
   "version": "3.10.7"
  }
 },
 "nbformat": 4,
 "nbformat_minor": 5
}

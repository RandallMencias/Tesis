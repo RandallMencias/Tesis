{
 "cells": [
  {
   "cell_type": "code",
   "execution_count": 1,
   "id": "initial_id",
   "metadata": {
    "collapsed": true,
    "ExecuteTime": {
     "end_time": "2024-09-25T04:37:13.315374Z",
     "start_time": "2024-09-25T04:37:09.508350Z"
    }
   },
   "outputs": [],
   "source": [
    "import numpy as np\n",
    "from Metaheuristicas.fitness_functions import mutual_information_eval\n",
    "from Metaheuristicas.fitness_functions import relieff_eval\n",
    "from fitness_functions import chi2_eval"
   ]
  },
  {
   "cell_type": "code",
   "outputs": [],
   "source": [
    "from Metaheuristicas.fitness_functions import load_and_preprocess_data\n",
    "\n",
    "X, y = load_and_preprocess_data(filename='Resources/SeisBenchV1_v1_1.json')\n",
    "\n"
   ],
   "metadata": {
    "collapsed": false,
    "ExecuteTime": {
     "end_time": "2024-09-25T04:37:13.377400Z",
     "start_time": "2024-09-25T04:37:13.316376Z"
    }
   },
   "id": "a229cc1cd652259a",
   "execution_count": 2
  },
  {
   "cell_type": "code",
   "outputs": [],
   "source": [
    "#Save the results from the optimizations\n",
    "Mutual_Information = []\n",
    "Chi2 = []\n",
    "ReliefF = []\n"
   ],
   "metadata": {
    "collapsed": false,
    "ExecuteTime": {
     "end_time": "2024-09-25T04:37:13.393400Z",
     "start_time": "2024-09-25T04:37:13.378402Z"
    }
   },
   "id": "938a165a53143799",
   "execution_count": 3
  },
  {
   "cell_type": "markdown",
   "source": [
    "### Cuckoo"
   ],
   "metadata": {
    "collapsed": false
   },
   "id": "9ce7a08bf1d0186c"
  },
  {
   "cell_type": "code",
   "outputs": [],
   "source": [
    "from Metaheuristicas.Cuckoo import cuckoo_search\n",
    "n= 40\n",
    "dim = 84\n",
    "itermax = 300"
   ],
   "metadata": {
    "collapsed": false,
    "ExecuteTime": {
     "end_time": "2024-09-25T04:37:13.629955Z",
     "start_time": "2024-09-25T04:37:13.394403Z"
    }
   },
   "id": "e556a529689aadb3",
   "execution_count": 4
  },
  {
   "cell_type": "code",
   "outputs": [
    {
     "name": "stdout",
     "output_type": "stream",
     "text": [
      "['f3_t_var', 'f4_t_entropy', 'f5_t_kurtosis', 'f6_t_multiscaleEntropy', 'f7_t_time2peak', 'f10_t_peak2rms', 'f11_t_energy', 'f12_t_zcr', 'f14_f_peaks_pos_1', 'f15_f_90_percent_energy', 'f17_f_mean', 'f20_f_energy', 'f21_f_kurtosis', 'f22_f_multiscaleEntropy', 'f23_f_peak_1020_value', 'f24_f_peak_1020_pos', 'f25_f_peak_2030_value', 'f26_f_peak_2030_pos', 'f27_f_rms', 'f28_f_peak2rms', 'f29_f_power', 'f30_f_PeaksAboveRMSDensity_fun', 'f32_f_peaks_pos_2', 'f33_f_peaks_val_3', 'f34_f_peaks_pos_3', 'f36_w_f_maxval_D1', 'f37_w_f_maxval_D2', 'f38_w_f_maxval_D3', 'f39_w_f_maxval_D4', 'f40_w_f_maxval_D5', 'f41_w_f_maxval_D6', 'f44_w_f_maxpos_D3', 'f45_w_f_maxpos_D4', 'f47_w_f_maxpos_D6', 'f48_w_f_mean_A6', 'f49_w_f_mean_D1', 'f53_w_f_mean_D5', 'f54_w_f_mean_D6', 'f55_w_t_meanEnergyAD', 'f58_w_t_PEC_D2', 'f59_w_t_PEC_D3', 'f60_w_t_PEC_D4', 'f62_w_t_PEC_D6', 'f63_w_t_rms_A6', 'f64_w_t_rms_D1', 'f65_w_t_rms_D2', 'f66_w_t_rms_D3', 'f68_w_t_rms_D5', 'f69_w_t_rms_D6', 'f70_w_t_peak2peak_A6', 'f71_w_t_peak2peak_D1', 'f72_w_t_peak2peak_D2', 'f73_w_t_peak2peak_D3', 'f74_w_t_peak2peak_D4', 'f75_w_t_peak2peak_D5', 'f76_w_t_peak2peak_D6', 'f78_w_t_peak2rms_D1', 'f80_w_t_peak2rms_D3', 'f81_w_t_peak2rms_D4', 'f84_w_t_meanEnergyCoeff']\n",
      "2.8157732380683473\n"
     ]
    },
    {
     "data": {
      "text/plain": "60"
     },
     "execution_count": 5,
     "metadata": {},
     "output_type": "execute_result"
    }
   ],
   "source": [
    "#Cuckoo Search with Mutual Information\n",
    "nests, fitness_scores, best_nest, best_CKfitness = cuckoo_search(n, dim, itermax, X, y, fitness_function= mutual_information_eval)\n",
    "sorted_indices = np.argsort(fitness_scores)[::-1]\n",
    "fitness_scores_sorted = fitness_scores[sorted_indices]\n",
    "CKMIFeatures = X.columns[best_nest.astype(bool)].tolist()\n",
    "Mutual_Information.append([CKMIFeatures, fitness_scores_sorted[0]])\n",
    "print(CKMIFeatures)\n",
    "print(fitness_scores_sorted[0])\n",
    "np.sum(len(CKMIFeatures))"
   ],
   "metadata": {
    "collapsed": false,
    "ExecuteTime": {
     "end_time": "2024-09-25T05:12:07.531489Z",
     "start_time": "2024-09-25T04:37:13.631956Z"
    }
   },
   "id": "be0342b24e2e1c04",
   "execution_count": 5
  },
  {
   "cell_type": "code",
   "outputs": [
    {
     "name": "stdout",
     "output_type": "stream",
     "text": [
      "['f9_t_peak2peak', 'f14_f_peaks_pos_1', 'f15_f_90_percent_energy', 'f18_f_std', 'f21_f_kurtosis', 'f23_f_peak_1020_value', 'f25_f_peak_2030_value', 'f28_f_peak2rms', 'f30_f_PeaksAboveRMSDensity_fun', 'f31_f_peaks_val_2', 'f34_f_peaks_pos_3', 'f45_w_f_maxpos_D4', 'f46_w_f_maxpos_D5', 'f51_w_f_mean_D3', 'f58_w_t_PEC_D2', 'f59_w_t_PEC_D3', 'f60_w_t_PEC_D4', 'f61_w_t_PEC_D5', 'f63_w_t_rms_A6', 'f64_w_t_rms_D1', 'f65_w_t_rms_D2', 'f67_w_t_rms_D4', 'f69_w_t_rms_D6', 'f70_w_t_peak2peak_A6', 'f71_w_t_peak2peak_D1', 'f72_w_t_peak2peak_D2']\n",
      "14.212726060104243\n"
     ]
    },
    {
     "data": {
      "text/plain": "26"
     },
     "execution_count": 6,
     "metadata": {},
     "output_type": "execute_result"
    }
   ],
   "source": [
    "#Cuckoo Search with Chi2\n",
    "nests, fitness_scores, best_nest, best_CKfitness = cuckoo_search(n, dim, itermax, X, y, fitness_function= chi2_eval)\n",
    "sorted_indices = np.argsort(fitness_scores)[::-1]\n",
    "fitness_scores_sorted = fitness_scores[sorted_indices]\n",
    "CKMIFeatures = X.columns[best_nest.astype(bool)].tolist()\n",
    "Chi2.append([CKMIFeatures, fitness_scores_sorted[0]])\n",
    "print(CKMIFeatures)\n",
    "print(fitness_scores_sorted[0])\n",
    "np.sum(len(CKMIFeatures))"
   ],
   "metadata": {
    "collapsed": false,
    "ExecuteTime": {
     "end_time": "2024-09-25T05:12:26.471387Z",
     "start_time": "2024-09-25T05:12:07.532491Z"
    }
   },
   "id": "de09e956388aafcb",
   "execution_count": 6
  },
  {
   "cell_type": "code",
   "outputs": [
    {
     "name": "stdout",
     "output_type": "stream",
     "text": [
      "['f1_t_mean', 'f2_t_std', 'f3_t_var', 'f4_t_entropy', 'f5_t_kurtosis', 'f7_t_time2peak', 'f10_t_peak2rms', 'f11_t_energy', 'f12_t_zcr', 'f13_t_PeaksAboveRMSDensity_fun', 'f14_f_peaks_pos_1', 'f15_f_90_percent_energy', 'f17_f_mean', 'f20_f_energy', 'f27_f_rms', 'f36_w_f_maxval_D1', 'f37_w_f_maxval_D2', 'f39_w_f_maxval_D4', 'f50_w_f_mean_D2', 'f55_w_t_meanEnergyAD', 'f56_w_t_PEC_A6', 'f58_w_t_PEC_D2', 'f59_w_t_PEC_D3', 'f63_w_t_rms_A6', 'f68_w_t_rms_D5', 'f70_w_t_peak2peak_A6', 'f71_w_t_peak2peak_D1', 'f72_w_t_peak2peak_D2', 'f75_w_t_peak2peak_D5', 'f78_w_t_peak2rms_D1', 'f79_w_t_peak2rms_D2', 'f80_w_t_peak2rms_D3', 'f81_w_t_peak2rms_D4', 'f84_w_t_meanEnergyCoeff']\n",
      "-0.41828150221458876\n"
     ]
    },
    {
     "data": {
      "text/plain": "34"
     },
     "execution_count": 7,
     "metadata": {},
     "output_type": "execute_result"
    }
   ],
   "source": [
    "#Cuckoo Search with ReliefF\n",
    "nests, fitness_scores, best_nest, best_CKfitness = cuckoo_search(n, dim, itermax, X, y, fitness_function= relieff_eval)\n",
    "sorted_indices = np.argsort(fitness_scores)[::-1]\n",
    "fitness_scores_sorted = fitness_scores[sorted_indices]\n",
    "CKMIFeatures = X.columns[best_nest.astype(bool)].tolist()\n",
    "ReliefF.append([CKMIFeatures, fitness_scores_sorted[0]])\n",
    "print(CKMIFeatures)\n",
    "print(fitness_scores_sorted[0])\n",
    "np.sum(len(CKMIFeatures))"
   ],
   "metadata": {
    "collapsed": false,
    "ExecuteTime": {
     "end_time": "2024-09-25T05:21:40.859507Z",
     "start_time": "2024-09-25T05:12:26.472386Z"
    }
   },
   "id": "4778665b53beb681",
   "execution_count": 7
  },
  {
   "cell_type": "markdown",
   "source": [
    "### Genetic Algorithm"
   ],
   "metadata": {
    "collapsed": false
   },
   "id": "75ed806a153cb2bf"
  },
  {
   "cell_type": "code",
   "outputs": [],
   "source": [
    "population_size = 84\n",
    "generations = 300\n",
    "mutation_rate=0.1\n",
    "crossover_rate=0.8\n"
   ],
   "metadata": {
    "collapsed": false,
    "ExecuteTime": {
     "end_time": "2024-09-25T05:21:40.875022Z",
     "start_time": "2024-09-25T05:21:40.860507Z"
    }
   },
   "id": "83a9f7e42201fc6f",
   "execution_count": 8
  },
  {
   "cell_type": "code",
   "outputs": [
    {
     "name": "stdout",
     "output_type": "stream",
     "text": [
      "Selected_features: ['f1_t_mean', 'f5_t_kurtosis', 'f9_t_peak2peak', 'f11_t_energy', 'f12_t_zcr', 'f13_t_PeaksAboveRMSDensity_fun', 'f14_f_peaks_pos_1', 'f15_f_90_percent_energy', 'f16_f_entropy', 'f17_f_mean', 'f18_f_std', 'f21_f_kurtosis', 'f22_f_multiscaleEntropy', 'f23_f_peak_1020_value', 'f27_f_rms', 'f28_f_peak2rms', 'f29_f_power', 'f30_f_PeaksAboveRMSDensity_fun', 'f31_f_peaks_val_2', 'f33_f_peaks_val_3', 'f34_f_peaks_pos_3', 'f35_w_f_maxval_A6', 'f36_w_f_maxval_D1', 'f37_w_f_maxval_D2', 'f39_w_f_maxval_D4', 'f40_w_f_maxval_D5', 'f41_w_f_maxval_D6', 'f42_w_f_maxpos_A6', 'f43_w_f_maxpos_D2', 'f44_w_f_maxpos_D3', 'f45_w_f_maxpos_D4', 'f46_w_f_maxpos_D5', 'f47_w_f_maxpos_D6', 'f49_w_f_mean_D1', 'f50_w_f_mean_D2', 'f51_w_f_mean_D3', 'f53_w_f_mean_D5', 'f54_w_f_mean_D6', 'f55_w_t_meanEnergyAD', 'f57_w_t_PEC_D1', 'f58_w_t_PEC_D2', 'f59_w_t_PEC_D3', 'f60_w_t_PEC_D4', 'f61_w_t_PEC_D5', 'f62_w_t_PEC_D6', 'f63_w_t_rms_A6', 'f64_w_t_rms_D1', 'f66_w_t_rms_D3', 'f67_w_t_rms_D4', 'f68_w_t_rms_D5', 'f69_w_t_rms_D6', 'f70_w_t_peak2peak_A6', 'f71_w_t_peak2peak_D1', 'f72_w_t_peak2peak_D2', 'f73_w_t_peak2peak_D3', 'f74_w_t_peak2peak_D4', 'f75_w_t_peak2peak_D5', 'f76_w_t_peak2peak_D6', 'f78_w_t_peak2rms_D1', 'f79_w_t_peak2rms_D2', 'f81_w_t_peak2rms_D4', 'f82_w_t_peak2rms_D5', 'f83_w_t_peak2rms_D6']\n",
      "Best Fitness:  2.8198274487924757\n",
      "Length:  63\n"
     ]
    }
   ],
   "source": [
    "from Metaheuristicas.Genetico import genetic_algorithm\n",
    "#Genetic with Mutual Info\n",
    "best_solution, best_Gfitness = genetic_algorithm(X, y,population_size,generations,mutation_rate,crossover_rate,fitness_function=mutual_information_eval )\n",
    "selected_features = X.columns[best_solution.astype(bool)].tolist()\n",
    "print(f\"Selected_features:\", selected_features)\n",
    "print(f\"Best Fitness: \", best_Gfitness)\n",
    "print(f\"Length: \", np.sum(best_solution))\n",
    "\n",
    "Mutual_Information.append([selected_features, best_Gfitness])\n"
   ],
   "metadata": {
    "collapsed": false,
    "ExecuteTime": {
     "end_time": "2024-09-25T06:18:47.407901Z",
     "start_time": "2024-09-25T05:21:40.876022Z"
    }
   },
   "id": "d65525adb98e9d72",
   "execution_count": 9
  },
  {
   "cell_type": "code",
   "outputs": [
    {
     "name": "stdout",
     "output_type": "stream",
     "text": [
      "Selected_features: ['f2_t_std', 'f13_t_PeaksAboveRMSDensity_fun', 'f14_f_peaks_pos_1', 'f17_f_mean', 'f24_f_peak_1020_pos', 'f25_f_peak_2030_value', 'f28_f_peak2rms', 'f29_f_power', 'f30_f_PeaksAboveRMSDensity_fun', 'f32_f_peaks_pos_2', 'f34_f_peaks_pos_3', 'f36_w_f_maxval_D1', 'f37_w_f_maxval_D2', 'f41_w_f_maxval_D6', 'f43_w_f_maxpos_D2', 'f44_w_f_maxpos_D3', 'f45_w_f_maxpos_D4', 'f48_w_f_mean_A6', 'f51_w_f_mean_D3', 'f52_w_f_mean_D4', 'f54_w_f_mean_D6', 'f58_w_t_PEC_D2', 'f59_w_t_PEC_D3', 'f60_w_t_PEC_D4', 'f61_w_t_PEC_D5', 'f63_w_t_rms_A6', 'f64_w_t_rms_D1', 'f65_w_t_rms_D2', 'f72_w_t_peak2peak_D2', 'f73_w_t_peak2peak_D3', 'f74_w_t_peak2peak_D4', 'f84_w_t_meanEnergyCoeff']\n",
      "Best Fitness:  12.37679196730493\n",
      "Length:  32\n"
     ]
    }
   ],
   "source": [
    "from Metaheuristicas.Genetico import genetic_algorithm\n",
    "#Genetic with Chi2\n",
    "\n",
    "best_solution, best_Gfitness = genetic_algorithm(X, y,population_size,generations,mutation_rate,crossover_rate,fitness_function=chi2_eval )\n",
    "selected_features = X.columns[best_solution.astype(bool)].tolist()\n",
    "print(f\"Selected_features:\", selected_features)\n",
    "print(f\"Best Fitness: \", best_Gfitness)\n",
    "print(f\"Length: \", np.sum(best_solution))\n",
    "\n",
    "Chi2.append([selected_features, best_Gfitness])"
   ],
   "metadata": {
    "collapsed": false,
    "ExecuteTime": {
     "end_time": "2024-09-25T06:19:18.409397Z",
     "start_time": "2024-09-25T06:18:47.408903Z"
    }
   },
   "id": "e933917ba371e716",
   "execution_count": 10
  },
  {
   "cell_type": "code",
   "outputs": [
    {
     "name": "stdout",
     "output_type": "stream",
     "text": [
      "Selected_features: ['f4_t_entropy', 'f5_t_kurtosis', 'f6_t_multiscaleEntropy', 'f7_t_time2peak', 'f13_t_PeaksAboveRMSDensity_fun', 'f14_f_peaks_pos_1', 'f15_f_90_percent_energy', 'f17_f_mean', 'f19_f_var', 'f20_f_energy', 'f22_f_multiscaleEntropy', 'f24_f_peak_1020_pos', 'f25_f_peak_2030_value', 'f27_f_rms', 'f29_f_power', 'f32_f_peaks_pos_2', 'f36_w_f_maxval_D1', 'f37_w_f_maxval_D2', 'f38_w_f_maxval_D3', 'f39_w_f_maxval_D4', 'f47_w_f_maxpos_D6', 'f49_w_f_mean_D1', 'f53_w_f_mean_D5', 'f55_w_t_meanEnergyAD', 'f56_w_t_PEC_A6', 'f57_w_t_PEC_D1', 'f58_w_t_PEC_D2', 'f62_w_t_PEC_D6', 'f64_w_t_rms_D1', 'f67_w_t_rms_D4', 'f69_w_t_rms_D6', 'f76_w_t_peak2peak_D6', 'f78_w_t_peak2rms_D1', 'f79_w_t_peak2rms_D2', 'f84_w_t_meanEnergyCoeff']\n",
      "Best Fitness:  -0.45896729652887475\n",
      "Length:  35\n"
     ]
    }
   ],
   "source": [
    "from Metaheuristicas.Genetico import genetic_algorithm\n",
    "#Genetic with Relieff\n",
    "\n",
    "best_solution, best_Gfitness = genetic_algorithm(X, y,population_size,generations,mutation_rate,crossover_rate,fitness_function=relieff_eval )\n",
    "selected_features = X.columns[best_solution.astype(bool)].tolist()\n",
    "print(f\"Selected_features:\", selected_features)\n",
    "print(f\"Best Fitness: \", best_Gfitness)\n",
    "print(f\"Length: \", np.sum(best_solution))\n",
    "\n",
    "ReliefF.append([selected_features, best_Gfitness])"
   ],
   "metadata": {
    "collapsed": false,
    "ExecuteTime": {
     "end_time": "2024-09-25T06:34:46.921381Z",
     "start_time": "2024-09-25T06:19:18.410326Z"
    }
   },
   "id": "43b8ee0423ac5c35",
   "execution_count": 11
  },
  {
   "cell_type": "markdown",
   "source": [
    "### Ant Colony Optimization"
   ],
   "metadata": {
    "collapsed": false
   },
   "id": "693d774d36e33198"
  },
  {
   "cell_type": "code",
   "outputs": [],
   "source": [
    "n_ants=30\n",
    "n_best=5\n",
    "n_iterations=300\n",
    "decay=0.25\n",
    "alpha=1\n",
    "beta=2"
   ],
   "metadata": {
    "collapsed": false,
    "ExecuteTime": {
     "end_time": "2024-09-25T06:34:46.936891Z",
     "start_time": "2024-09-25T06:34:46.922379Z"
    }
   },
   "id": "b6e2f3c25d256e2d",
   "execution_count": 12
  },
  {
   "cell_type": "code",
   "outputs": [
    {
     "name": "stdout",
     "output_type": "stream",
     "text": [
      "Best Features names: Index(['f45_w_f_maxpos_D4'], dtype='object')\n",
      "Best solution length: 84\n",
      "Best fitness: -0.0006004366812227075\n",
      "Best solution: Index(['f18_f_std', 'f30_f_PeaksAboveRMSDensity_fun', 'f61_w_t_PEC_D5'], dtype='object')\n",
      "Best solution length: 84\n",
      "Best fitness: 0.26735676330526803\n"
     ]
    }
   ],
   "source": [
    "from Metaheuristicas.Ant_Colony_Optimization import AntColonyOptimization\n",
    "#ACO with Mutual\n",
    "aco = AntColonyOptimization(n_ants, n_best, n_iterations, decay, alpha, beta)\n",
    "best_solution, best_fitness = aco.fit(X.values, y.values,fitness_function=mutual_information_eval)\n",
    "bf = X.columns[best_solution == 1]\n",
    "print(f\"Best solution: {bf}\")\n",
    "print(f\"Best solution length: {len(best_solution)}\")\n",
    "print(f\"Best fitness: {best_fitness}\")\n",
    "Mutual_Information.append([bf,best_fitness])"
   ],
   "metadata": {
    "collapsed": false,
    "ExecuteTime": {
     "end_time": "2024-09-25T06:35:34.249673Z",
     "start_time": "2024-09-25T06:34:46.937891Z"
    }
   },
   "id": "466853f850dd1ad5",
   "execution_count": 13
  },
  {
   "cell_type": "code",
   "outputs": [
    {
     "name": "stdout",
     "output_type": "stream",
     "text": [
      "Best solution: Index(['f58_w_t_PEC_D2'], dtype='object')\n",
      "Best solution length: 84\n",
      "Best fitness: 76.55069339150783\n"
     ]
    }
   ],
   "source": [
    "#ACO with Chi2\n",
    "\n",
    "best_solution, best_fitness = aco.fit(X.values, y.values,fitness_function=chi2_eval)\n",
    "bf = X.columns[best_solution == 1]\n",
    "print(f\"Best solution: {bf}\")\n",
    "print(f\"Best solution length: {len(best_solution)}\")\n",
    "print(f\"Best fitness: {best_fitness}\")\n",
    "Chi2.append([bf,best_fitness])"
   ],
   "metadata": {
    "collapsed": false,
    "ExecuteTime": {
     "end_time": "2024-09-25T06:35:51.236031Z",
     "start_time": "2024-09-25T06:35:34.251676Z"
    }
   },
   "id": "127bf76e28fae595",
   "execution_count": 14
  },
  {
   "cell_type": "code",
   "outputs": [
    {
     "name": "stdout",
     "output_type": "stream",
     "text": [
      "Best solution: Index(['f45_w_f_maxpos_D4'], dtype='object')\n",
      "Best solution length: 84\n",
      "Best fitness: -0.0006004366812227075\n"
     ]
    }
   ],
   "source": [
    "#ACO with Relieff\n",
    "\n",
    "best_solution, best_fitness = aco.fit(X.values, y.values,fitness_function=relieff_eval)\n",
    "bf = X.columns[best_solution == 1]\n",
    "print(f\"Best solution: {bf}\")\n",
    "print(f\"Best solution length: {len(best_solution)}\")\n",
    "print(f\"Best fitness: {best_fitness}\")\n",
    "ReliefF.append([bf,best_fitness])"
   ],
   "metadata": {
    "collapsed": false,
    "ExecuteTime": {
     "end_time": "2024-09-25T06:38:07.453450Z",
     "start_time": "2024-09-25T06:35:51.237030Z"
    }
   },
   "id": "bfc758d9fb776984",
   "execution_count": 15
  },
  {
   "cell_type": "markdown",
   "source": [
    "### Simulated Annealing"
   ],
   "metadata": {
    "collapsed": false
   },
   "id": "771081552210567a"
  },
  {
   "cell_type": "code",
   "outputs": [],
   "source": [
    "initial_temperature=100\n",
    "cooling_rate=0.9\n",
    "max_iter=500"
   ],
   "metadata": {
    "collapsed": false,
    "ExecuteTime": {
     "end_time": "2024-09-25T06:38:07.469445Z",
     "start_time": "2024-09-25T06:38:07.454447Z"
    }
   },
   "id": "ee5415943238cfb9",
   "execution_count": 16
  },
  {
   "cell_type": "code",
   "outputs": [
    {
     "name": "stdout",
     "output_type": "stream",
     "text": [
      "Selected Features: ['f1_t_mean', 'f3_t_var', 'f4_t_entropy', 'f7_t_time2peak', 'f8_t_rms', 'f11_t_energy', 'f12_t_zcr', 'f13_t_PeaksAboveRMSDensity_fun', 'f14_f_peaks_pos_1', 'f15_f_90_percent_energy', 'f16_f_entropy', 'f17_f_mean', 'f18_f_std', 'f19_f_var', 'f20_f_energy', 'f21_f_kurtosis', 'f22_f_multiscaleEntropy', 'f23_f_peak_1020_value', 'f24_f_peak_1020_pos', 'f25_f_peak_2030_value', 'f26_f_peak_2030_pos', 'f27_f_rms', 'f28_f_peak2rms', 'f29_f_power', 'f30_f_PeaksAboveRMSDensity_fun', 'f32_f_peaks_pos_2', 'f33_f_peaks_val_3', 'f34_f_peaks_pos_3', 'f35_w_f_maxval_A6', 'f36_w_f_maxval_D1', 'f37_w_f_maxval_D2', 'f39_w_f_maxval_D4', 'f40_w_f_maxval_D5', 'f41_w_f_maxval_D6', 'f42_w_f_maxpos_A6', 'f43_w_f_maxpos_D2', 'f44_w_f_maxpos_D3', 'f45_w_f_maxpos_D4', 'f46_w_f_maxpos_D5', 'f48_w_f_mean_A6', 'f49_w_f_mean_D1', 'f50_w_f_mean_D2', 'f51_w_f_mean_D3', 'f52_w_f_mean_D4', 'f53_w_f_mean_D5', 'f54_w_f_mean_D6', 'f56_w_t_PEC_A6', 'f57_w_t_PEC_D1', 'f58_w_t_PEC_D2', 'f59_w_t_PEC_D3', 'f60_w_t_PEC_D4', 'f61_w_t_PEC_D5', 'f64_w_t_rms_D1', 'f65_w_t_rms_D2', 'f66_w_t_rms_D3', 'f67_w_t_rms_D4', 'f68_w_t_rms_D5', 'f71_w_t_peak2peak_D1', 'f72_w_t_peak2peak_D2', 'f73_w_t_peak2peak_D3', 'f74_w_t_peak2peak_D4', 'f75_w_t_peak2peak_D5', 'f76_w_t_peak2peak_D6', 'f78_w_t_peak2rms_D1', 'f79_w_t_peak2rms_D2', 'f80_w_t_peak2rms_D3', 'f81_w_t_peak2rms_D4', 'f82_w_t_peak2rms_D5', 'f83_w_t_peak2rms_D6', 'f84_w_t_meanEnergyCoeff']\n",
      "Best Score: 3.145191542407407\n",
      "Number of Selected Features: 70\n"
     ]
    }
   ],
   "source": [
    "from Metaheuristicas.Simmulated_Annealing import simulated_annealing\n",
    "#Simmulated Annealing with Mutual Info\n",
    "best_solution, best_score = simulated_annealing(X, y, initial_temperature, cooling_rate, max_iter,fitness_function=mutual_information_eval)\n",
    "\n",
    "# Display the results\n",
    "selected_features = X.columns[best_solution.astype(bool)].tolist()\n",
    "print(f\"Selected Features: {selected_features}\")\n",
    "print(\"Best Score:\", best_score)\n",
    "print(\"Number of Selected Features:\", np.sum(best_solution))\n",
    "Mutual_Information.append([selected_features,best_score])"
   ],
   "metadata": {
    "collapsed": false,
    "ExecuteTime": {
     "end_time": "2024-09-25T06:39:40.892135Z",
     "start_time": "2024-09-25T06:38:07.470447Z"
    }
   },
   "id": "4c23ecd685ded28c",
   "execution_count": 17
  },
  {
   "cell_type": "code",
   "outputs": [
    {
     "name": "stdout",
     "output_type": "stream",
     "text": [
      "Selected Features: ['f58_w_t_PEC_D2', 'f72_w_t_peak2peak_D2']\n",
      "Best Score: 73.87807735645902\n",
      "Number of Selected Features: 2\n"
     ]
    }
   ],
   "source": [
    "#Simmulated Annealing with Chi2\n",
    "\n",
    "best_solution, best_score = simulated_annealing(X, y, initial_temperature, cooling_rate, max_iter,fitness_function=chi2_eval)\n",
    "\n",
    "# Display the results\n",
    "selected_features = X.columns[best_solution.astype(bool)].tolist()\n",
    "print(f\"Selected Features: {selected_features}\")\n",
    "print(\"Best Score:\", best_score)\n",
    "print(\"Number of Selected Features:\", np.sum(best_solution))\n",
    "Chi2.append([selected_features,best_score])"
   ],
   "metadata": {
    "collapsed": false,
    "ExecuteTime": {
     "end_time": "2024-09-25T06:39:41.454749Z",
     "start_time": "2024-09-25T06:39:40.893137Z"
    }
   },
   "id": "4c2d4bc83e42609c",
   "execution_count": 18
  },
  {
   "cell_type": "code",
   "outputs": [
    {
     "name": "stdout",
     "output_type": "stream",
     "text": [
      "Selected Features: ['f11_t_energy', 'f20_f_energy', 'f27_f_rms', 'f55_w_t_meanEnergyAD', 'f57_w_t_PEC_D1']\n",
      "Best Score: -0.05199817590837162\n",
      "Number of Selected Features: 5\n"
     ]
    }
   ],
   "source": [
    "#Simmulated Annealing with ReliefF\n",
    "\n",
    "best_solution, best_score = simulated_annealing(X, y, initial_temperature, cooling_rate, max_iter,fitness_function=relieff_eval)\n",
    "\n",
    "# Display the results\n",
    "selected_features = X.columns[best_solution.astype(bool)].tolist()\n",
    "print(f\"Selected Features: {selected_features}\")\n",
    "print(\"Best Score:\", best_score)\n",
    "print(\"Number of Selected Features:\", np.sum(best_solution))\n",
    "ReliefF.append([selected_features,best_score])"
   ],
   "metadata": {
    "collapsed": false,
    "ExecuteTime": {
     "end_time": "2024-09-25T06:39:56.578596Z",
     "start_time": "2024-09-25T06:39:41.455751Z"
    }
   },
   "id": "50a0ef3c89e62579",
   "execution_count": 19
  },
  {
   "cell_type": "markdown",
   "source": [
    "### Resultados de Mutual Information"
   ],
   "metadata": {
    "collapsed": false
   },
   "id": "8696dbc5f7e855c2"
  },
  {
   "cell_type": "code",
   "outputs": [
    {
     "name": "stdout",
     "output_type": "stream",
     "text": [
      "CUCKOO\n",
      "Features:  ['f3_t_var', 'f4_t_entropy', 'f5_t_kurtosis', 'f6_t_multiscaleEntropy', 'f7_t_time2peak', 'f10_t_peak2rms', 'f11_t_energy', 'f12_t_zcr', 'f14_f_peaks_pos_1', 'f15_f_90_percent_energy', 'f17_f_mean', 'f20_f_energy', 'f21_f_kurtosis', 'f22_f_multiscaleEntropy', 'f23_f_peak_1020_value', 'f24_f_peak_1020_pos', 'f25_f_peak_2030_value', 'f26_f_peak_2030_pos', 'f27_f_rms', 'f28_f_peak2rms', 'f29_f_power', 'f30_f_PeaksAboveRMSDensity_fun', 'f32_f_peaks_pos_2', 'f33_f_peaks_val_3', 'f34_f_peaks_pos_3', 'f36_w_f_maxval_D1', 'f37_w_f_maxval_D2', 'f38_w_f_maxval_D3', 'f39_w_f_maxval_D4', 'f40_w_f_maxval_D5', 'f41_w_f_maxval_D6', 'f44_w_f_maxpos_D3', 'f45_w_f_maxpos_D4', 'f47_w_f_maxpos_D6', 'f48_w_f_mean_A6', 'f49_w_f_mean_D1', 'f53_w_f_mean_D5', 'f54_w_f_mean_D6', 'f55_w_t_meanEnergyAD', 'f58_w_t_PEC_D2', 'f59_w_t_PEC_D3', 'f60_w_t_PEC_D4', 'f62_w_t_PEC_D6', 'f63_w_t_rms_A6', 'f64_w_t_rms_D1', 'f65_w_t_rms_D2', 'f66_w_t_rms_D3', 'f68_w_t_rms_D5', 'f69_w_t_rms_D6', 'f70_w_t_peak2peak_A6', 'f71_w_t_peak2peak_D1', 'f72_w_t_peak2peak_D2', 'f73_w_t_peak2peak_D3', 'f74_w_t_peak2peak_D4', 'f75_w_t_peak2peak_D5', 'f76_w_t_peak2peak_D6', 'f78_w_t_peak2rms_D1', 'f80_w_t_peak2rms_D3', 'f81_w_t_peak2rms_D4', 'f84_w_t_meanEnergyCoeff']\n"
     ]
    }
   ],
   "source": [
    "print(\"CUCKOO\")\n",
    "print(f\"Features: \", Mutual_Information[0][0])\n"
   ],
   "metadata": {
    "collapsed": false,
    "ExecuteTime": {
     "end_time": "2024-09-25T06:39:56.593598Z",
     "start_time": "2024-09-25T06:39:56.579599Z"
    }
   },
   "id": "6a3ef7a9a180e972",
   "execution_count": 20
  },
  {
   "cell_type": "code",
   "outputs": [
    {
     "name": "stdout",
     "output_type": "stream",
     "text": [
      "Genetic\n",
      "Features:  ['f1_t_mean', 'f5_t_kurtosis', 'f9_t_peak2peak', 'f11_t_energy', 'f12_t_zcr', 'f13_t_PeaksAboveRMSDensity_fun', 'f14_f_peaks_pos_1', 'f15_f_90_percent_energy', 'f16_f_entropy', 'f17_f_mean', 'f18_f_std', 'f21_f_kurtosis', 'f22_f_multiscaleEntropy', 'f23_f_peak_1020_value', 'f27_f_rms', 'f28_f_peak2rms', 'f29_f_power', 'f30_f_PeaksAboveRMSDensity_fun', 'f31_f_peaks_val_2', 'f33_f_peaks_val_3', 'f34_f_peaks_pos_3', 'f35_w_f_maxval_A6', 'f36_w_f_maxval_D1', 'f37_w_f_maxval_D2', 'f39_w_f_maxval_D4', 'f40_w_f_maxval_D5', 'f41_w_f_maxval_D6', 'f42_w_f_maxpos_A6', 'f43_w_f_maxpos_D2', 'f44_w_f_maxpos_D3', 'f45_w_f_maxpos_D4', 'f46_w_f_maxpos_D5', 'f47_w_f_maxpos_D6', 'f49_w_f_mean_D1', 'f50_w_f_mean_D2', 'f51_w_f_mean_D3', 'f53_w_f_mean_D5', 'f54_w_f_mean_D6', 'f55_w_t_meanEnergyAD', 'f57_w_t_PEC_D1', 'f58_w_t_PEC_D2', 'f59_w_t_PEC_D3', 'f60_w_t_PEC_D4', 'f61_w_t_PEC_D5', 'f62_w_t_PEC_D6', 'f63_w_t_rms_A6', 'f64_w_t_rms_D1', 'f66_w_t_rms_D3', 'f67_w_t_rms_D4', 'f68_w_t_rms_D5', 'f69_w_t_rms_D6', 'f70_w_t_peak2peak_A6', 'f71_w_t_peak2peak_D1', 'f72_w_t_peak2peak_D2', 'f73_w_t_peak2peak_D3', 'f74_w_t_peak2peak_D4', 'f75_w_t_peak2peak_D5', 'f76_w_t_peak2peak_D6', 'f78_w_t_peak2rms_D1', 'f79_w_t_peak2rms_D2', 'f81_w_t_peak2rms_D4', 'f82_w_t_peak2rms_D5', 'f83_w_t_peak2rms_D6']\n"
     ]
    }
   ],
   "source": [
    "print(\"Genetic\")\n",
    "print(f\"Features: \", Mutual_Information[1][0])\n"
   ],
   "metadata": {
    "collapsed": false,
    "ExecuteTime": {
     "end_time": "2024-09-25T06:39:56.609600Z",
     "start_time": "2024-09-25T06:39:56.594597Z"
    }
   },
   "id": "fc58444e41866366",
   "execution_count": 21
  },
  {
   "cell_type": "code",
   "outputs": [
    {
     "name": "stdout",
     "output_type": "stream",
     "text": [
      "ACO\n",
      "Features:  Index(['f18_f_std', 'f30_f_PeaksAboveRMSDensity_fun', 'f61_w_t_PEC_D5'], dtype='object')\n"
     ]
    }
   ],
   "source": [
    "print(\"ACO\")\n",
    "print(f\"Features: \", Mutual_Information[2][0])\n"
   ],
   "metadata": {
    "collapsed": false,
    "ExecuteTime": {
     "end_time": "2024-09-25T06:39:56.625113Z",
     "start_time": "2024-09-25T06:39:56.610600Z"
    }
   },
   "id": "5642db56e1c11dfc",
   "execution_count": 22
  },
  {
   "cell_type": "code",
   "outputs": [
    {
     "name": "stdout",
     "output_type": "stream",
     "text": [
      "Simmulated Anealing\n",
      "Features:  ['f1_t_mean', 'f3_t_var', 'f4_t_entropy', 'f7_t_time2peak', 'f8_t_rms', 'f11_t_energy', 'f12_t_zcr', 'f13_t_PeaksAboveRMSDensity_fun', 'f14_f_peaks_pos_1', 'f15_f_90_percent_energy', 'f16_f_entropy', 'f17_f_mean', 'f18_f_std', 'f19_f_var', 'f20_f_energy', 'f21_f_kurtosis', 'f22_f_multiscaleEntropy', 'f23_f_peak_1020_value', 'f24_f_peak_1020_pos', 'f25_f_peak_2030_value', 'f26_f_peak_2030_pos', 'f27_f_rms', 'f28_f_peak2rms', 'f29_f_power', 'f30_f_PeaksAboveRMSDensity_fun', 'f32_f_peaks_pos_2', 'f33_f_peaks_val_3', 'f34_f_peaks_pos_3', 'f35_w_f_maxval_A6', 'f36_w_f_maxval_D1', 'f37_w_f_maxval_D2', 'f39_w_f_maxval_D4', 'f40_w_f_maxval_D5', 'f41_w_f_maxval_D6', 'f42_w_f_maxpos_A6', 'f43_w_f_maxpos_D2', 'f44_w_f_maxpos_D3', 'f45_w_f_maxpos_D4', 'f46_w_f_maxpos_D5', 'f48_w_f_mean_A6', 'f49_w_f_mean_D1', 'f50_w_f_mean_D2', 'f51_w_f_mean_D3', 'f52_w_f_mean_D4', 'f53_w_f_mean_D5', 'f54_w_f_mean_D6', 'f56_w_t_PEC_A6', 'f57_w_t_PEC_D1', 'f58_w_t_PEC_D2', 'f59_w_t_PEC_D3', 'f60_w_t_PEC_D4', 'f61_w_t_PEC_D5', 'f64_w_t_rms_D1', 'f65_w_t_rms_D2', 'f66_w_t_rms_D3', 'f67_w_t_rms_D4', 'f68_w_t_rms_D5', 'f71_w_t_peak2peak_D1', 'f72_w_t_peak2peak_D2', 'f73_w_t_peak2peak_D3', 'f74_w_t_peak2peak_D4', 'f75_w_t_peak2peak_D5', 'f76_w_t_peak2peak_D6', 'f78_w_t_peak2rms_D1', 'f79_w_t_peak2rms_D2', 'f80_w_t_peak2rms_D3', 'f81_w_t_peak2rms_D4', 'f82_w_t_peak2rms_D5', 'f83_w_t_peak2rms_D6', 'f84_w_t_meanEnergyCoeff']\n"
     ]
    }
   ],
   "source": [
    "print(\"Simmulated Anealing\")\n",
    "print(f\"Features: \", Mutual_Information[3][0])\n"
   ],
   "metadata": {
    "collapsed": false,
    "ExecuteTime": {
     "end_time": "2024-09-25T06:39:56.641112Z",
     "start_time": "2024-09-25T06:39:56.626114Z"
    }
   },
   "id": "c81b9eb29dd98b44",
   "execution_count": 23
  },
  {
   "cell_type": "code",
   "outputs": [
    {
     "name": "stdout",
     "output_type": "stream",
     "text": [
      "Fitness Cuckoo 2.8157732380683473\n",
      "Fitness Genetic 2.8198274487924757\n",
      "Fitness ACO 0.26735676330526803\n",
      "Fitness Simmulated Anealing 3.145191542407407\n"
     ]
    }
   ],
   "source": [
    "print(f\"Fitness Cuckoo\", Mutual_Information[0][1])\n",
    "print(f\"Fitness Genetic\", Mutual_Information[1][1])\n",
    "print(f\"Fitness ACO\", Mutual_Information[2][1])\n",
    "print(f\"Fitness Simmulated Anealing\", Mutual_Information[3][1])"
   ],
   "metadata": {
    "collapsed": false,
    "ExecuteTime": {
     "end_time": "2024-09-25T06:39:56.657185Z",
     "start_time": "2024-09-25T06:39:56.642112Z"
    }
   },
   "id": "556889b09d55a85d",
   "execution_count": 24
  },
  {
   "cell_type": "code",
   "outputs": [],
   "source": [
    "#print which metaheuristic got the highes fitness\n"
   ],
   "metadata": {
    "collapsed": false,
    "ExecuteTime": {
     "end_time": "2024-09-25T06:39:56.672624Z",
     "start_time": "2024-09-25T06:39:56.658110Z"
    }
   },
   "id": "d830cdc066defcbb",
   "execution_count": 25
  },
  {
   "cell_type": "markdown",
   "source": [
    "### Resultados de Chi2"
   ],
   "metadata": {
    "collapsed": false
   },
   "id": "1244f6667ff8b606"
  },
  {
   "cell_type": "code",
   "outputs": [
    {
     "name": "stdout",
     "output_type": "stream",
     "text": [
      "CUCKOO\n",
      "Features:  ['f9_t_peak2peak', 'f14_f_peaks_pos_1', 'f15_f_90_percent_energy', 'f18_f_std', 'f21_f_kurtosis', 'f23_f_peak_1020_value', 'f25_f_peak_2030_value', 'f28_f_peak2rms', 'f30_f_PeaksAboveRMSDensity_fun', 'f31_f_peaks_val_2', 'f34_f_peaks_pos_3', 'f45_w_f_maxpos_D4', 'f46_w_f_maxpos_D5', 'f51_w_f_mean_D3', 'f58_w_t_PEC_D2', 'f59_w_t_PEC_D3', 'f60_w_t_PEC_D4', 'f61_w_t_PEC_D5', 'f63_w_t_rms_A6', 'f64_w_t_rms_D1', 'f65_w_t_rms_D2', 'f67_w_t_rms_D4', 'f69_w_t_rms_D6', 'f70_w_t_peak2peak_A6', 'f71_w_t_peak2peak_D1', 'f72_w_t_peak2peak_D2']\n"
     ]
    }
   ],
   "source": [
    "print(\"CUCKOO\")\n",
    "print(f\"Features: \", Chi2[0][0])\n"
   ],
   "metadata": {
    "collapsed": false,
    "ExecuteTime": {
     "end_time": "2024-09-25T06:39:56.688622Z",
     "start_time": "2024-09-25T06:39:56.673625Z"
    }
   },
   "id": "1631dcedd3a4a1e6",
   "execution_count": 26
  },
  {
   "cell_type": "code",
   "outputs": [
    {
     "name": "stdout",
     "output_type": "stream",
     "text": [
      "Genetic\n",
      "Features:  ['f2_t_std', 'f13_t_PeaksAboveRMSDensity_fun', 'f14_f_peaks_pos_1', 'f17_f_mean', 'f24_f_peak_1020_pos', 'f25_f_peak_2030_value', 'f28_f_peak2rms', 'f29_f_power', 'f30_f_PeaksAboveRMSDensity_fun', 'f32_f_peaks_pos_2', 'f34_f_peaks_pos_3', 'f36_w_f_maxval_D1', 'f37_w_f_maxval_D2', 'f41_w_f_maxval_D6', 'f43_w_f_maxpos_D2', 'f44_w_f_maxpos_D3', 'f45_w_f_maxpos_D4', 'f48_w_f_mean_A6', 'f51_w_f_mean_D3', 'f52_w_f_mean_D4', 'f54_w_f_mean_D6', 'f58_w_t_PEC_D2', 'f59_w_t_PEC_D3', 'f60_w_t_PEC_D4', 'f61_w_t_PEC_D5', 'f63_w_t_rms_A6', 'f64_w_t_rms_D1', 'f65_w_t_rms_D2', 'f72_w_t_peak2peak_D2', 'f73_w_t_peak2peak_D3', 'f74_w_t_peak2peak_D4', 'f84_w_t_meanEnergyCoeff']\n"
     ]
    }
   ],
   "source": [
    "print(\"Genetic\")\n",
    "print(f\"Features: \", Chi2[1][0])\n"
   ],
   "metadata": {
    "collapsed": false,
    "ExecuteTime": {
     "end_time": "2024-09-25T06:39:56.703621Z",
     "start_time": "2024-09-25T06:39:56.689623Z"
    }
   },
   "id": "539b66ff3e1ec816",
   "execution_count": 27
  },
  {
   "cell_type": "code",
   "outputs": [
    {
     "name": "stdout",
     "output_type": "stream",
     "text": [
      "ACO\n",
      "Features:  Index(['f58_w_t_PEC_D2'], dtype='object')\n"
     ]
    }
   ],
   "source": [
    "print(\"ACO\")\n",
    "print(f\"Features: \", Chi2[2][0])"
   ],
   "metadata": {
    "collapsed": false,
    "ExecuteTime": {
     "end_time": "2024-09-25T06:39:56.718706Z",
     "start_time": "2024-09-25T06:39:56.704625Z"
    }
   },
   "id": "e86d2f449f8f3677",
   "execution_count": 28
  },
  {
   "cell_type": "code",
   "outputs": [
    {
     "name": "stdout",
     "output_type": "stream",
     "text": [
      "Simmulated Anealing\n",
      "Features:  ['f58_w_t_PEC_D2', 'f72_w_t_peak2peak_D2']\n"
     ]
    }
   ],
   "source": [
    "print(\"Simmulated Anealing\")\n",
    "print(f\"Features: \", Chi2[3][0])"
   ],
   "metadata": {
    "collapsed": false,
    "ExecuteTime": {
     "end_time": "2024-09-25T06:39:56.734132Z",
     "start_time": "2024-09-25T06:39:56.719622Z"
    }
   },
   "id": "d4e61059279d260e",
   "execution_count": 29
  },
  {
   "cell_type": "code",
   "outputs": [
    {
     "name": "stdout",
     "output_type": "stream",
     "text": [
      "Fitness Cuckoo 14.212726060104243\n",
      "Fitness Genetic 12.37679196730493\n",
      "Fitness ACO 76.55069339150783\n",
      "Fitness Simmulated Anealing 73.87807735645902\n"
     ]
    }
   ],
   "source": [
    "print(f\"Fitness Cuckoo\", Chi2[0][1])\n",
    "print(f\"Fitness Genetic\", Chi2[1][1])\n",
    "print(f\"Fitness ACO\", Chi2[2][1])\n",
    "print(f\"Fitness Simmulated Anealing\", Chi2[3][1])"
   ],
   "metadata": {
    "collapsed": false,
    "ExecuteTime": {
     "end_time": "2024-09-25T06:39:56.750135Z",
     "start_time": "2024-09-25T06:39:56.735133Z"
    }
   },
   "id": "266575126751f8ed",
   "execution_count": 30
  },
  {
   "cell_type": "markdown",
   "source": [],
   "metadata": {
    "collapsed": false
   },
   "id": "a14aa5fc019050b9"
  },
  {
   "cell_type": "markdown",
   "source": [
    "### Resultados de ReliefF\n"
   ],
   "metadata": {
    "collapsed": false
   },
   "id": "6ef2fbb92ac92149"
  },
  {
   "cell_type": "code",
   "outputs": [
    {
     "name": "stdout",
     "output_type": "stream",
     "text": [
      "CUCKOO\n",
      "Features:  ['f1_t_mean', 'f2_t_std', 'f3_t_var', 'f4_t_entropy', 'f5_t_kurtosis', 'f7_t_time2peak', 'f10_t_peak2rms', 'f11_t_energy', 'f12_t_zcr', 'f13_t_PeaksAboveRMSDensity_fun', 'f14_f_peaks_pos_1', 'f15_f_90_percent_energy', 'f17_f_mean', 'f20_f_energy', 'f27_f_rms', 'f36_w_f_maxval_D1', 'f37_w_f_maxval_D2', 'f39_w_f_maxval_D4', 'f50_w_f_mean_D2', 'f55_w_t_meanEnergyAD', 'f56_w_t_PEC_A6', 'f58_w_t_PEC_D2', 'f59_w_t_PEC_D3', 'f63_w_t_rms_A6', 'f68_w_t_rms_D5', 'f70_w_t_peak2peak_A6', 'f71_w_t_peak2peak_D1', 'f72_w_t_peak2peak_D2', 'f75_w_t_peak2peak_D5', 'f78_w_t_peak2rms_D1', 'f79_w_t_peak2rms_D2', 'f80_w_t_peak2rms_D3', 'f81_w_t_peak2rms_D4', 'f84_w_t_meanEnergyCoeff']\n"
     ]
    }
   ],
   "source": [
    "print(\"CUCKOO\")\n",
    "print(f\"Features: \", ReliefF[0][0])\n"
   ],
   "metadata": {
    "collapsed": false,
    "ExecuteTime": {
     "end_time": "2024-09-25T06:39:56.766133Z",
     "start_time": "2024-09-25T06:39:56.751132Z"
    }
   },
   "id": "29ea02475e5f8022",
   "execution_count": 31
  },
  {
   "cell_type": "code",
   "outputs": [
    {
     "name": "stdout",
     "output_type": "stream",
     "text": [
      "Genetic\n",
      "Features:  ['f4_t_entropy', 'f5_t_kurtosis', 'f6_t_multiscaleEntropy', 'f7_t_time2peak', 'f13_t_PeaksAboveRMSDensity_fun', 'f14_f_peaks_pos_1', 'f15_f_90_percent_energy', 'f17_f_mean', 'f19_f_var', 'f20_f_energy', 'f22_f_multiscaleEntropy', 'f24_f_peak_1020_pos', 'f25_f_peak_2030_value', 'f27_f_rms', 'f29_f_power', 'f32_f_peaks_pos_2', 'f36_w_f_maxval_D1', 'f37_w_f_maxval_D2', 'f38_w_f_maxval_D3', 'f39_w_f_maxval_D4', 'f47_w_f_maxpos_D6', 'f49_w_f_mean_D1', 'f53_w_f_mean_D5', 'f55_w_t_meanEnergyAD', 'f56_w_t_PEC_A6', 'f57_w_t_PEC_D1', 'f58_w_t_PEC_D2', 'f62_w_t_PEC_D6', 'f64_w_t_rms_D1', 'f67_w_t_rms_D4', 'f69_w_t_rms_D6', 'f76_w_t_peak2peak_D6', 'f78_w_t_peak2rms_D1', 'f79_w_t_peak2rms_D2', 'f84_w_t_meanEnergyCoeff']\n"
     ]
    }
   ],
   "source": [
    "print(\"Genetic\")\n",
    "print(f\"Features: \", ReliefF[1][0])"
   ],
   "metadata": {
    "collapsed": false,
    "ExecuteTime": {
     "end_time": "2024-09-25T06:39:56.781646Z",
     "start_time": "2024-09-25T06:39:56.767134Z"
    }
   },
   "id": "3c4771b47ff0b99d",
   "execution_count": 32
  },
  {
   "cell_type": "code",
   "outputs": [
    {
     "name": "stdout",
     "output_type": "stream",
     "text": [
      "ACO\n",
      "Features:  Index(['f45_w_f_maxpos_D4'], dtype='object')\n"
     ]
    }
   ],
   "source": [
    "print(\"ACO\")\n",
    "print(f\"Features: \", ReliefF[2][0])"
   ],
   "metadata": {
    "collapsed": false,
    "ExecuteTime": {
     "end_time": "2024-09-25T06:39:56.797646Z",
     "start_time": "2024-09-25T06:39:56.782647Z"
    }
   },
   "id": "d2f48805b6bf73c8",
   "execution_count": 33
  },
  {
   "cell_type": "code",
   "outputs": [
    {
     "name": "stdout",
     "output_type": "stream",
     "text": [
      "Simmulated Anealing\n",
      "Features:  ['f11_t_energy', 'f20_f_energy', 'f27_f_rms', 'f55_w_t_meanEnergyAD', 'f57_w_t_PEC_D1']\n"
     ]
    }
   ],
   "source": [
    "print(\"Simmulated Anealing\")\n",
    "print(f\"Features: \", ReliefF[3][0])"
   ],
   "metadata": {
    "collapsed": false,
    "ExecuteTime": {
     "end_time": "2024-09-25T06:39:56.813742Z",
     "start_time": "2024-09-25T06:39:56.798647Z"
    }
   },
   "id": "8cd20fefbf213e56",
   "execution_count": 34
  },
  {
   "cell_type": "code",
   "outputs": [
    {
     "name": "stdout",
     "output_type": "stream",
     "text": [
      "Fitness Cuckoo -0.41828150221458876\n",
      "Fitness Genetic -0.45896729652887475\n",
      "Fitness ACO -0.0006004366812227075\n",
      "Fitness Simmulated Anealing -0.05199817590837162\n"
     ]
    }
   ],
   "source": [
    "print(f\"Fitness Cuckoo\", ReliefF[0][1])\n",
    "print(f\"Fitness Genetic\", ReliefF[1][1])\n",
    "print(f\"Fitness ACO\", ReliefF[2][1])\n",
    "print(f\"Fitness Simmulated Anealing\", ReliefF[3][1])"
   ],
   "metadata": {
    "collapsed": false,
    "ExecuteTime": {
     "end_time": "2024-09-25T06:39:56.829155Z",
     "start_time": "2024-09-25T06:39:56.814648Z"
    }
   },
   "id": "5d928ba2f3e4f791",
   "execution_count": 35
  },
  {
   "cell_type": "markdown",
   "source": [],
   "metadata": {
    "collapsed": false
   },
   "id": "d0481f3986e5ee4b"
  },
  {
   "cell_type": "code",
   "outputs": [],
   "source": [
    "#Save results in an excel"
   ],
   "metadata": {
    "collapsed": false,
    "ExecuteTime": {
     "end_time": "2024-09-25T06:39:56.844178Z",
     "start_time": "2024-09-25T06:39:56.830153Z"
    }
   },
   "id": "7517cf832c6c2fc",
   "execution_count": 36
  },
  {
   "cell_type": "markdown",
   "source": [],
   "metadata": {
    "collapsed": false
   },
   "id": "e1ed95d41f6f3e5a"
  }
 ],
 "metadata": {
  "kernelspec": {
   "display_name": "Python 3",
   "language": "python",
   "name": "python3"
  },
  "language_info": {
   "codemirror_mode": {
    "name": "ipython",
    "version": 2
   },
   "file_extension": ".py",
   "mimetype": "text/x-python",
   "name": "python",
   "nbconvert_exporter": "python",
   "pygments_lexer": "ipython2",
   "version": "2.7.6"
  }
 },
 "nbformat": 4,
 "nbformat_minor": 5
}

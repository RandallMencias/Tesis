{
 "cells": [
  {
   "cell_type": "code",
   "execution_count": 9,
   "id": "initial_id",
   "metadata": {
    "collapsed": true,
    "ExecuteTime": {
     "end_time": "2024-10-03T19:39:33.102530500Z",
     "start_time": "2024-10-03T19:39:33.048929Z"
    }
   },
   "outputs": [],
   "source": []
  },
  {
   "cell_type": "code",
   "execution_count": 10,
   "id": "b3bf4e2f337876d0",
   "metadata": {
    "ExecuteTime": {
     "end_time": "2024-10-03T19:39:33.102530500Z",
     "start_time": "2024-10-03T19:39:33.050687700Z"
    }
   },
   "outputs": [],
   "source": [
    "import numpy as np\n",
    "from Metaheuristicas.fitness_functions import mutual_information_eval\n",
    "from Metaheuristicas.fitness_functions import relieff_eval\n",
    "from fitness_functions import chi2_eval"
   ]
  },
  {
   "cell_type": "code",
   "execution_count": 11,
   "id": "1af9109ecff68ec5",
   "metadata": {
    "ExecuteTime": {
     "end_time": "2024-10-03T19:39:33.512231600Z",
     "start_time": "2024-10-03T19:39:33.056296300Z"
    }
   },
   "outputs": [],
   "source": [
    "from Metaheuristicas.fitness_functions import load_and_preprocess_data\n",
    "\n",
    "X, y = load_and_preprocess_data(filename='Resources/SeisBenchV1_v1_1.json')\n",
    "\n"
   ]
  },
  {
   "cell_type": "code",
   "execution_count": 12,
   "id": "1336b716ae1981a3",
   "metadata": {
    "ExecuteTime": {
     "end_time": "2024-10-03T19:39:33.512231600Z",
     "start_time": "2024-10-03T19:39:33.186206300Z"
    }
   },
   "outputs": [],
   "source": [
    "Mutual_Information = []\n",
    "Chi2 = []\n",
    "ReliefF = []"
   ]
  },
  {
   "cell_type": "markdown",
   "id": "b76d21b8a0f0ec3e",
   "metadata": {},
   "source": [
    "### ABACORun"
   ]
  },
  {
   "cell_type": "code",
   "execution_count": 13,
   "id": "7562491832f67eae",
   "metadata": {
    "ExecuteTime": {
     "end_time": "2024-10-03T19:39:33.524407700Z",
     "start_time": "2024-10-03T19:39:33.196199700Z"
    }
   },
   "outputs": [],
   "source": [
    "from Metaheuristicas.Ant_Colony_Optimization import AdvancedBinaryAntColonyOptimization\n",
    "aco = AdvancedBinaryAntColonyOptimization(n_ants=20, n_best=1, n_iterations=10, decay=0.6, alpha=1, beta=2,\n",
    "                                          local_search_prob=0.15)"
   ]
  },
  {
   "cell_type": "code",
   "execution_count": 14,
   "id": "da5680f741045227",
   "metadata": {
    "ExecuteTime": {
     "end_time": "2024-10-03T19:42:33.360189900Z",
     "start_time": "2024-10-03T19:39:33.265512800Z"
    }
   },
   "outputs": [],
   "source": [
    "\n",
    "for i in range(300,1000,50):\n",
    "    best_solution, best_fitness = aco.fit(X.values, y.values, fitness_function=chi2_eval)\n",
    "\n",
    "    selected_features = X.columns[best_solution.astype(bool)].tolist()\n",
    "    Mutual_Information.append([selected_features, best_fitness, i])\n",
    "\n",
    "    "
   ]
  },
  {
   "cell_type": "code",
   "execution_count": 15,
   "id": "b56caa9cef4f0ec9",
   "metadata": {
    "ExecuteTime": {
     "end_time": "2024-10-03T19:45:34.223591700Z",
     "start_time": "2024-10-03T19:42:33.363664Z"
    }
   },
   "outputs": [],
   "source": [
    "for i in range(300,1000,50):\n",
    "    best_solution, best_fitness = aco.fit(X.values, y.values, fitness_function=chi2_eval)\n",
    "\n",
    "    selected_features = X.columns[best_solution.astype(bool)].tolist()\n",
    "    Chi2.append([selected_features, best_fitness, i])"
   ]
  },
  {
   "cell_type": "code",
   "execution_count": 16,
   "id": "905b520c0f36354a",
   "metadata": {
    "ExecuteTime": {
     "end_time": "2024-10-03T19:48:29.507121400Z",
     "start_time": "2024-10-03T19:45:34.225338600Z"
    }
   },
   "outputs": [],
   "source": [
    "for i in range(300,1000,50):\n",
    "    best_solution, best_fitness = aco.fit(X.values, y.values, fitness_function=chi2_eval)\n",
    "\n",
    "    selected_features = X.columns[best_solution.astype(bool)].tolist()\n",
    "    ReliefF.append([selected_features, best_fitness, i])"
   ]
  },
  {
   "cell_type": "markdown",
   "source": [],
   "metadata": {
    "collapsed": false
   },
   "id": "b21e782a6018fcbd"
  },
  {
   "cell_type": "code",
   "outputs": [],
   "source": [
    "#save the results\n",
    "import pickle\n",
    "with open('SAMutual_Information.pkl', 'wb') as f:\n",
    "    pickle.dump(Mutual_Information, f)\n",
    "with open('SAChi2.pkl', 'wb') as f:\n",
    "    pickle.dump(Chi2, f)\n",
    "with open('SAReliefF.pkl', 'wb') as f:\n",
    "    pickle.dump(ReliefF, f)\n",
    "    "
   ],
   "metadata": {
    "collapsed": false,
    "ExecuteTime": {
     "end_time": "2024-10-03T19:48:29.514196800Z",
     "start_time": "2024-10-03T19:48:29.507121400Z"
    }
   },
   "id": "8c7d5b305b9350b",
   "execution_count": 17
  },
  {
   "cell_type": "code",
   "execution_count": 18,
   "id": "957e85cdae236b09",
   "metadata": {
    "ExecuteTime": {
     "end_time": "2024-10-03T19:48:29.584902900Z",
     "start_time": "2024-10-03T19:48:29.514196800Z"
    }
   },
   "outputs": [],
   "source": [
    "#sort the results with the best fitness for each method\n",
    "Mutual_Information.sort(key=lambda x: x[1], reverse=True)\n",
    "Chi2.sort(key=lambda x: x[1], reverse=True)\n",
    "ReliefF.sort(key=lambda x: x[1], reverse=True)"
   ]
  },
  {
   "cell_type": "code",
   "execution_count": 19,
   "id": "61b1eb234ac40143",
   "metadata": {
    "ExecuteTime": {
     "end_time": "2024-10-03T19:48:29.657137500Z",
     "start_time": "2024-10-03T19:48:29.584902900Z"
    }
   },
   "outputs": [
    {
     "name": "stdout",
     "output_type": "stream",
     "text": [
      "Mutual Information:  15.398932960033004 550\n",
      "Mutual Information:  14.405090237075523 900\n",
      "Mutual Information:  14.386729358173199 950\n",
      "Mutual Information:  14.265802286129954 650\n",
      "Mutual Information:  13.804912296859388 800\n",
      "Mutual Information:  13.752479604384849 850\n",
      "Mutual Information:  13.4298044401055 750\n",
      "Mutual Information:  13.350879221369667 350\n",
      "Mutual Information:  13.341601829807079 600\n",
      "Mutual Information:  13.227919026427438 450\n",
      "Mutual Information:  12.962614838916641 300\n",
      "Mutual Information:  12.934429760614558 400\n",
      "Mutual Information:  12.815191642914385 500\n",
      "Mutual Information:  12.395793246235128 700\n"
     ]
    }
   ],
   "source": [
    "#print all the scores in mutual information and the number of generations\n",
    "for i in Mutual_Information:\n",
    "    print(\"Mutual Information: \",i[1], i[2])"
   ]
  },
  {
   "cell_type": "code",
   "execution_count": 20,
   "id": "3354fa794bb2198c",
   "metadata": {
    "ExecuteTime": {
     "end_time": "2024-10-03T19:48:29.727288800Z",
     "start_time": "2024-10-03T19:48:29.657137500Z"
    }
   },
   "outputs": [
    {
     "name": "stdout",
     "output_type": "stream",
     "text": [
      "Mutual Information: \n",
      " [['f12_t_zcr', 'f15_f_90_percent_energy', 'f23_f_peak_1020_value', 'f30_f_PeaksAboveRMSDensity_fun', 'f37_w_f_maxval_D2', 'f39_w_f_maxval_D4', 'f40_w_f_maxval_D5', 'f44_w_f_maxpos_D3', 'f52_w_f_mean_D4', 'f55_w_t_meanEnergyAD', 'f57_w_t_PEC_D1', 'f58_w_t_PEC_D2', 'f59_w_t_PEC_D3', 'f62_w_t_PEC_D6', 'f64_w_t_rms_D1', 'f65_w_t_rms_D2', 'f70_w_t_peak2peak_A6', 'f72_w_t_peak2peak_D2', 'f80_w_t_peak2rms_D3', 'f81_w_t_peak2rms_D4'], 15.398932960033004, 550]\n",
      "Chi2: \n",
      " [['f1_t_mean', 'f6_t_multiscaleEntropy', 'f9_t_peak2peak', 'f14_f_peaks_pos_1', 'f18_f_std', 'f27_f_rms', 'f28_f_peak2rms', 'f30_f_PeaksAboveRMSDensity_fun', 'f32_f_peaks_pos_2', 'f37_w_f_maxval_D2', 'f39_w_f_maxval_D4', 'f40_w_f_maxval_D5', 'f44_w_f_maxpos_D3', 'f52_w_f_mean_D4', 'f53_w_f_mean_D5', 'f56_w_t_PEC_A6', 'f58_w_t_PEC_D2', 'f62_w_t_PEC_D6', 'f65_w_t_rms_D2', 'f72_w_t_peak2peak_D2'], 14.89714084052913, 850]\n",
      "ReliefF: \n",
      " [['f1_t_mean', 'f5_t_kurtosis', 'f10_t_peak2rms', 'f15_f_90_percent_energy', 'f16_f_entropy', 'f25_f_peak_2030_value', 'f30_f_PeaksAboveRMSDensity_fun', 'f36_w_f_maxval_D1', 'f40_w_f_maxval_D5', 'f44_w_f_maxpos_D3', 'f47_w_f_maxpos_D6', 'f54_w_f_mean_D6', 'f58_w_t_PEC_D2', 'f59_w_t_PEC_D3', 'f65_w_t_rms_D2', 'f66_w_t_rms_D3', 'f72_w_t_peak2peak_D2', 'f73_w_t_peak2peak_D3', 'f76_w_t_peak2peak_D6', 'f80_w_t_peak2rms_D3'], 15.04617748474534, 750]\n"
     ]
    }
   ],
   "source": [
    "print(\"Mutual Information: \\n\",Mutual_Information[0])\n",
    "print(\"Chi2: \\n\",Chi2[0])\n",
    "print(\"ReliefF: \\n\",ReliefF[0])"
   ]
  },
  {
   "cell_type": "code",
   "execution_count": 21,
   "id": "8f667e9942bff411",
   "metadata": {
    "ExecuteTime": {
     "end_time": "2024-10-03T19:48:29.797524900Z",
     "start_time": "2024-10-03T19:48:29.725282600Z"
    }
   },
   "outputs": [
    {
     "name": "stdout",
     "output_type": "stream",
     "text": [
      "Mutual Information: \n",
      " 20\n",
      "Chi2: \n",
      " 20\n",
      "ReliefF: \n",
      " 20\n"
     ]
    }
   ],
   "source": [
    "print(\"Mutual Information: \\n\",len(Mutual_Information[0][0]))\n",
    "print(\"Chi2: \\n\",len(Chi2[0][0]))\n",
    "print(\"ReliefF: \\n\",len(ReliefF[0][0]))"
   ]
  },
  {
   "cell_type": "code",
   "execution_count": 22,
   "id": "5f44bc0fb64a3885",
   "metadata": {
    "ExecuteTime": {
     "end_time": "2024-10-03T19:48:29.867837400Z",
     "start_time": "2024-10-03T19:48:29.797524900Z"
    }
   },
   "outputs": [],
   "source": [
    "from sklearn.metrics import accuracy_score, precision_score, recall_score, f1_score, roc_auc_score\n",
    "from sklearn.naive_bayes import GaussianNB\n",
    "from sklearn.model_selection import train_test_split\n"
   ]
  },
  {
   "cell_type": "code",
   "execution_count": 23,
   "id": "94b4ccb6e9d66db4",
   "metadata": {
    "ExecuteTime": {
     "end_time": "2024-10-03T19:48:29.947195Z",
     "start_time": "2024-10-03T19:48:29.870856300Z"
    }
   },
   "outputs": [],
   "source": [
    "\n",
    "\n",
    "#Naive Bayes classifier with all features\n",
    "\n",
    "cmodel = GaussianNB()\n",
    "X_train, X_test, y_train, y_test = train_test_split(X, y, test_size=0.2, random_state=42)\n",
    "cmodel.fit(X_train, y_train)\n",
    "y_pred = cmodel.predict(X_test)\n",
    "y_pred_proba = cmodel.predict_proba(X_test)[:, 1]  # Probability estimates for AUC\n",
    "\n",
    "accuracy = accuracy_score(y_test, y_pred)\n",
    "precision = precision_score(y_test, y_pred)\n",
    "recall = recall_score(y_test, y_pred)\n",
    "f1 = f1_score(y_test, y_pred)\n",
    "auc = roc_auc_score(y_test, y_pred_proba)"
   ]
  },
  {
   "cell_type": "code",
   "execution_count": 24,
   "id": "e1bf30a2a6f0e7ab",
   "metadata": {
    "ExecuteTime": {
     "end_time": "2024-10-03T19:48:30.006450500Z",
     "start_time": "2024-10-03T19:48:29.950201400Z"
    }
   },
   "outputs": [
    {
     "name": "stdout",
     "output_type": "stream",
     "text": [
      "Accuracy:  0.9432314410480349\n",
      "Precision:  0.6086956521739131\n",
      "Recall:  0.7777777777777778\n",
      "F1:  0.6829268292682927\n",
      "AUC:  0.9462875197472354\n"
     ]
    }
   ],
   "source": [
    "print(\"Accuracy: \", accuracy)\n",
    "print(\"Precision: \", precision)\n",
    "print(\"Recall: \", recall)\n",
    "print(\"F1: \", f1)\n",
    "print(\"AUC: \", auc)\n"
   ]
  },
  {
   "cell_type": "code",
   "execution_count": 25,
   "id": "cc4b93a7113ac1c9",
   "metadata": {
    "ExecuteTime": {
     "end_time": "2024-10-03T19:48:30.077932600Z",
     "start_time": "2024-10-03T19:48:30.006450500Z"
    }
   },
   "outputs": [
    {
     "name": "stdout",
     "output_type": "stream",
     "text": [
      "Accuracy:  0.9432314410480349\n",
      "Precision:  0.6086956521739131\n",
      "Recall:  0.7777777777777778\n",
      "F1:  0.6829268292682927\n",
      "AUC:  0.9462875197472354\n"
     ]
    }
   ],
   "source": [
    "print(\"Accuracy: \", accuracy)\n",
    "print(\"Precision: \", precision)\n",
    "print(\"Recall: \", recall)\n",
    "print(\"F1: \", f1)\n",
    "print(\"AUC: \", auc)"
   ]
  },
  {
   "cell_type": "code",
   "execution_count": 26,
   "id": "9877d885f3685198",
   "metadata": {
    "ExecuteTime": {
     "end_time": "2024-10-03T19:48:30.085842900Z",
     "start_time": "2024-10-03T19:48:30.077932600Z"
    }
   },
   "outputs": [
    {
     "name": "stdout",
     "output_type": "stream",
     "text": [
      "Accuracy:  0.9432314410480349\n",
      "Precision:  0.6086956521739131\n",
      "Recall:  0.7777777777777778\n",
      "F1:  0.6829268292682927\n",
      "AUC:  0.9462875197472354\n"
     ]
    }
   ],
   "source": [
    "print(\"Accuracy: \", accuracy)\n",
    "print(\"Precision: \", precision)\n",
    "print(\"Recall: \", recall)\n",
    "print(\"F1: \", f1)\n",
    "print(\"AUC: \", auc)\n"
   ]
  },
  {
   "cell_type": "code",
   "execution_count": 27,
   "id": "8b225ca6053e3563",
   "metadata": {
    "ExecuteTime": {
     "end_time": "2024-10-03T19:48:30.156702400Z",
     "start_time": "2024-10-03T19:48:30.085842900Z"
    }
   },
   "outputs": [],
   "source": [
    "MI_Scores = []\n",
    "Chi_Scores = []\n",
    "ReliefF_Scores = []"
   ]
  },
  {
   "cell_type": "markdown",
   "id": "ad8d8a038949046a",
   "metadata": {},
   "source": [
    "### Naive Bayes with all scores of mutual information, chi2 and ReliefF"
   ]
  },
  {
   "cell_type": "code",
   "execution_count": 28,
   "id": "9e637221b876eab0",
   "metadata": {
    "ExecuteTime": {
     "end_time": "2024-10-03T19:48:30.281739Z",
     "start_time": "2024-10-03T19:48:30.156702400Z"
    }
   },
   "outputs": [],
   "source": [
    "#Naive Bayes with all scores of mutual information\n",
    "for MI in Mutual_Information:\n",
    "    model = GaussianNB()\n",
    "    X_train, X_test, y_train, y_test = train_test_split(X[MI[0]], y, test_size=0.2, random_state=42)\n",
    "    cmodel.fit(X_train, y_train)\n",
    "    y_pred = cmodel.predict(X_test)\n",
    "    y_pred_proba = cmodel.predict_proba(X_test)[:, 1]  # Probability estimates for AUC\n",
    "    # # accuracy = accuracy_score(y_test, y_pred)\n",
    "    # # precision = precision_score(y_test, y_pred)\n",
    "    # # recall = recall_score(y_test, y_pred)\n",
    "    # # f1 = f1_score(y_test, y_pred)\n",
    "    auc = roc_auc_score(y_test, y_pred_proba)\n",
    "    MI_Scores.append([auc,MI[2]])"
   ]
  },
  {
   "cell_type": "code",
   "execution_count": 29,
   "id": "198b3d7c8ef35ebf",
   "metadata": {
    "ExecuteTime": {
     "end_time": "2024-10-03T19:48:30.358151500Z",
     "start_time": "2024-10-03T19:48:30.281739Z"
    }
   },
   "outputs": [],
   "source": [
    "for Ch in Chi2:\n",
    "    model = GaussianNB()\n",
    "    X_train, X_test, y_train, y_test = train_test_split(X[Ch[0]], y, test_size=0.2, random_state=42)\n",
    "    cmodel.fit(X_train, y_train)\n",
    "    y_pred = cmodel.predict(X_test)\n",
    "    y_pred_proba = cmodel.predict_proba(X_test)[:, 1]  # Probability estimates for AUC\n",
    "    # # accuracy = accuracy_score(y_test, y_pred)\n",
    "    # # precision = precision_score(y_test, y_pred)\n",
    "    # # recall = recall_score(y_test, y_pred)\n",
    "    # # f1 = f1_score(y_test, y_pred)\n",
    "    auc = roc_auc_score(y_test, y_pred_proba)\n",
    "    Chi_Scores.append([auc,Ch[2]])"
   ]
  },
  {
   "cell_type": "code",
   "execution_count": 30,
   "id": "2eaa06ab9fa4dcab",
   "metadata": {
    "ExecuteTime": {
     "end_time": "2024-10-03T19:48:30.425653400Z",
     "start_time": "2024-10-03T19:48:30.358151500Z"
    }
   },
   "outputs": [],
   "source": [
    "for RF in ReliefF:\n",
    "    model = GaussianNB()\n",
    "    X_train, X_test, y_train, y_test = train_test_split(X[RF[0]], y, test_size=0.2, random_state=42)\n",
    "    cmodel.fit(X_train, y_train)\n",
    "    y_pred = cmodel.predict(X_test)\n",
    "    y_pred_proba = cmodel.predict_proba(X_test)[:, 1]  # Probability estimates for AUC\n",
    "    # # accuracy = accuracy_score(y_test, y_pred)\n",
    "    # # precision = precision_score(y_test, y_pred)\n",
    "    # # recall = recall_score(y_test, y_pred)\n",
    "    # # f1 = f1_score(y_test, y_pred)\n",
    "    auc = roc_auc_score(y_test, y_pred_proba)\n",
    "    ReliefF_Scores.append([auc,RF[2]])"
   ]
  },
  {
   "cell_type": "code",
   "execution_count": 30,
   "id": "db6fd7e948d37456",
   "metadata": {
    "ExecuteTime": {
     "end_time": "2024-10-03T19:48:30.432587500Z",
     "start_time": "2024-10-03T19:48:30.428378500Z"
    }
   },
   "outputs": [],
   "source": []
  },
  {
   "cell_type": "code",
   "execution_count": 31,
   "id": "7ea4eb6f4eb1d298",
   "metadata": {
    "ExecuteTime": {
     "end_time": "2024-10-03T19:48:30.435960200Z",
     "start_time": "2024-10-03T19:48:30.431077400Z"
    }
   },
   "outputs": [],
   "source": [
    "MI_Scores.sort(key=lambda x: x[0], reverse=True)\n",
    "Chi_Scores.sort(key=lambda x: x[0], reverse=True)\n",
    "ReliefF_Scores.sort(key=lambda x: x[0], reverse=True)"
   ]
  },
  {
   "cell_type": "code",
   "execution_count": 32,
   "id": "b311227e3c0dc359",
   "metadata": {
    "ExecuteTime": {
     "end_time": "2024-10-03T19:48:30.508249800Z",
     "start_time": "2024-10-03T19:48:30.435960200Z"
    }
   },
   "outputs": [
    {
     "name": "stdout",
     "output_type": "stream",
     "text": [
      "Mutual Information:  0.974855186940495 950\n",
      "Mutual Information:  0.974855186940495 650\n",
      "Mutual Information:  0.9632701421800948 900\n",
      "Mutual Information:  0.9612954186413902 700\n",
      "Mutual Information:  0.960637177461822 600\n",
      "Mutual Information:  0.9570826750921537 850\n",
      "Mutual Information:  0.9556345444971037 400\n",
      "Mutual Information:  0.9543180621379672 500\n",
      "Mutual Information:  0.9423380726698263 750\n",
      "Mutual Information:  0.9386519220642442 550\n",
      "Mutual Information:  0.9344391785150079 800\n",
      "Mutual Information:  0.9257503949447078 450\n",
      "Mutual Information:  0.9125855713533438 300\n",
      "Mutual Information:  0.8888888888888888 350\n"
     ]
    }
   ],
   "source": [
    "for i in MI_Scores:\n",
    "    print(\"Mutual Information: \",i[0], i[1])"
   ]
  },
  {
   "cell_type": "code",
   "execution_count": 33,
   "id": "b0d0c8de1648489f",
   "metadata": {
    "ExecuteTime": {
     "end_time": "2024-10-03T19:48:30.580841Z",
     "start_time": "2024-10-03T19:48:30.508249800Z"
    }
   },
   "outputs": [
    {
     "name": "stdout",
     "output_type": "stream",
     "text": [
      "Chi2:  0.9749868351764086 500\n",
      "Chi2:  0.9745918904686677 600\n",
      "Chi2:  0.9731437598736177 550\n",
      "Chi2:  0.970115850447604 450\n",
      "Chi2:  0.9677461822011584 300\n",
      "Chi2:  0.962085308056872 750\n",
      "Chi2:  0.9577409162717219 800\n",
      "Chi2:  0.9472090573986308 700\n",
      "Chi2:  0.9449710373880991 650\n",
      "Chi2:  0.943522906793049 900\n",
      "Chi2:  0.9382569773565034 950\n",
      "Chi2:  0.9375987361769351 850\n",
      "Chi2:  0.9320695102685624 350\n",
      "Chi2:  0.9117956819378621 400\n"
     ]
    }
   ],
   "source": [
    "for i in Chi_Scores:\n",
    "    print(\"Chi2: \",i[0], i[1])"
   ]
  },
  {
   "cell_type": "code",
   "execution_count": 34,
   "id": "4fdefae0a7db9f40",
   "metadata": {
    "ExecuteTime": {
     "end_time": "2024-10-03T19:48:30.647724400Z",
     "start_time": "2024-10-03T19:48:30.581518800Z"
    }
   },
   "outputs": [
    {
     "name": "stdout",
     "output_type": "stream",
     "text": [
      "ReliefF:  0.9694576092680358 950\n",
      "ReliefF:  0.9605055292259083 650\n",
      "ReliefF:  0.9598472880463401 300\n",
      "ReliefF:  0.9573459715639812 450\n",
      "ReliefF:  0.9569510268562401 600\n",
      "ReliefF:  0.9537914691943128 850\n",
      "ReliefF:  0.9508952080042128 800\n",
      "ReliefF:  0.9427330173775672 750\n",
      "ReliefF:  0.9410215903106898 350\n",
      "ReliefF:  0.9391785150078988 400\n",
      "ReliefF:  0.9256187467087941 500\n",
      "ReliefF:  0.9210110584518167 550\n",
      "ReliefF:  0.9062664560294892 700\n",
      "ReliefF:  0.8599262769878884 900\n"
     ]
    }
   ],
   "source": [
    "for i in ReliefF_Scores:\n",
    "    print(\"ReliefF: \",i[0], i[1])"
   ]
  },
  {
   "cell_type": "code",
   "execution_count": 35,
   "id": "e0a05b27757675a",
   "metadata": {
    "ExecuteTime": {
     "end_time": "2024-10-03T19:48:30.717690300Z",
     "start_time": "2024-10-03T19:48:30.647724400Z"
    }
   },
   "outputs": [
    {
     "name": "stdout",
     "output_type": "stream",
     "text": [
      "Mutual Information: 550\n",
      "Chi2:  850\n",
      "ReliefF:  750\n"
     ]
    }
   ],
   "source": [
    "print(\"Mutual Information:\", Mutual_Information[0][2])\n",
    "print(\"Chi2: \",Chi2[0][2])\n",
    "print(\"ReliefF: \",ReliefF[0][2])\n"
   ]
  },
  {
   "cell_type": "markdown",
   "id": "eaf983f69c884bda",
   "metadata": {},
   "source": [
    "### Random Forest Classifier with all features"
   ]
  },
  {
   "cell_type": "code",
   "execution_count": 36,
   "id": "fd04af0d3a684dce",
   "metadata": {
    "ExecuteTime": {
     "end_time": "2024-10-03T19:48:31.181031800Z",
     "start_time": "2024-10-03T19:48:30.717690300Z"
    }
   },
   "outputs": [],
   "source": [
    "from sklearn.ensemble import RandomForestClassifier\n",
    "random_forest = RandomForestClassifier(n_estimators=100, random_state=42)\n",
    "X_train, X_test, y_train, y_test = train_test_split(X, y, test_size=0.2, random_state=42)\n",
    "random_forest.fit(X_train, y_train)\n",
    "y_pred = random_forest.predict(X_test)\n",
    "y_pred_proba = random_forest.predict_proba(X_test)[:, 1]  # Probability estimates for AUC\n",
    "accuracy = accuracy_score(y_test, y_pred)\n",
    "precision = precision_score(y_test, y_pred)\n",
    "recall = recall_score(y_test, y_pred)\n",
    "f1 = f1_score(y_test, y_pred)\n",
    "auc = roc_auc_score(y_test, y_pred_proba)\n"
   ]
  },
  {
   "cell_type": "markdown",
   "id": "8e36dcb1481a88b1",
   "metadata": {},
   "source": []
  },
  {
   "cell_type": "code",
   "execution_count": 36,
   "id": "f87d26e6c1ebbf67",
   "metadata": {
    "ExecuteTime": {
     "end_time": "2024-10-03T19:48:31.181542200Z",
     "start_time": "2024-10-03T19:48:31.181031800Z"
    }
   },
   "outputs": [],
   "source": []
  },
  {
   "cell_type": "code",
   "execution_count": 37,
   "id": "67c23f7da6d88dcb",
   "metadata": {
    "ExecuteTime": {
     "end_time": "2024-10-03T19:48:31.184936300Z",
     "start_time": "2024-10-03T19:48:31.181542200Z"
    }
   },
   "outputs": [
    {
     "name": "stdout",
     "output_type": "stream",
     "text": [
      "Accuracy:  0.9650655021834061\n",
      "Precision:  0.8571428571428571\n",
      "Recall:  0.6666666666666666\n",
      "F1:  0.75\n",
      "AUC:  0.9794628751974724\n"
     ]
    }
   ],
   "source": [
    "print(\"Accuracy: \", accuracy)\n",
    "print(\"Precision: \", precision)\n",
    "print(\"Recall: \", recall)\n",
    "print(\"F1: \", f1)\n",
    "print(\"AUC: \", auc)\n"
   ]
  },
  {
   "cell_type": "code",
   "execution_count": 38,
   "id": "a0b02254ef48bea3",
   "metadata": {
    "ExecuteTime": {
     "end_time": "2024-10-03T19:48:31.255169600Z",
     "start_time": "2024-10-03T19:48:31.184936300Z"
    }
   },
   "outputs": [],
   "source": [
    "RFMI_Scores = []\n",
    "RFChi_Scores = []\n",
    "RFReliefF_Scores = []"
   ]
  },
  {
   "cell_type": "markdown",
   "id": "5b13764fb0b7b1c0",
   "metadata": {},
   "source": [
    "### Random Forest Classifier with all scores of mutual information, chi2 and ReliefF"
   ]
  },
  {
   "cell_type": "code",
   "execution_count": 39,
   "id": "b543d67fb08dfb7f",
   "metadata": {
    "ExecuteTime": {
     "end_time": "2024-10-03T19:48:34.061702800Z",
     "start_time": "2024-10-03T19:48:31.259247Z"
    }
   },
   "outputs": [],
   "source": [
    "#Random Forest Classifier with Mutual Info selected features\n",
    "for M in Mutual_Information:\n",
    "    model = RandomForestClassifier(n_estimators=100, random_state=42)\n",
    "    X_train, X_test, y_train, y_test = train_test_split(X[M[0]], y, test_size=0.2, random_state=42)\n",
    "    model.fit(X_train, y_train)\n",
    "    y_pred = model.predict(X_test)\n",
    "    y_pred_proba = model.predict_proba(X_test)[:, 1]  # Probability estimates for AUC\n",
    "    auc = roc_auc_score(y_test, y_pred_proba)\n",
    "    RFMI_Scores.append([auc,M[2]])"
   ]
  },
  {
   "cell_type": "code",
   "execution_count": 40,
   "id": "405c9fb2ceacdf4d",
   "metadata": {
    "ExecuteTime": {
     "end_time": "2024-10-03T19:48:36.666746500Z",
     "start_time": "2024-10-03T19:48:34.061702800Z"
    }
   },
   "outputs": [],
   "source": [
    "#Random Forest Classifier with Chi2 selected features\n",
    "for C in Chi2:\n",
    "    model = RandomForestClassifier(n_estimators=100, random_state=42)\n",
    "    X_train, X_test, y_train, y_test = train_test_split(X[C[0]], y, test_size=0.2, random_state=42)\n",
    "    model.fit(X_train, y_train)\n",
    "    y_pred = model.predict(X_test)\n",
    "    y_pred_proba = model.predict_proba(X_test)[:, 1]  # Probability estimates for AUC\n",
    "    auc = roc_auc_score(y_test, y_pred_proba)\n",
    "    RFChi_Scores.append([auc,C[2]])"
   ]
  },
  {
   "cell_type": "code",
   "execution_count": 41,
   "id": "ffec1ab49b9b5521",
   "metadata": {
    "ExecuteTime": {
     "end_time": "2024-10-03T19:48:39.246868200Z",
     "start_time": "2024-10-03T19:48:36.666746500Z"
    }
   },
   "outputs": [],
   "source": [
    "#Random Forest Classifier with ReliefF selected features\n",
    "for R in ReliefF:\n",
    "    model = RandomForestClassifier(n_estimators=100, random_state=42)\n",
    "    X_train, X_test, y_train, y_test = train_test_split(X[R[0]], y, test_size=0.2, random_state=42)\n",
    "    model.fit(X_train, y_train)\n",
    "    y_pred = model.predict(X_test)\n",
    "    y_pred_proba = model.predict_proba(X_test)[:, 1]  # Probability estimates for AUC\n",
    "    auc = roc_auc_score(y_test, y_pred_proba)\n",
    "    RFReliefF_Scores.append([auc,R[2]])\n",
    "    "
   ]
  },
  {
   "cell_type": "code",
   "execution_count": 42,
   "id": "322bcad9de88f784",
   "metadata": {
    "ExecuteTime": {
     "end_time": "2024-10-03T19:48:39.252882500Z",
     "start_time": "2024-10-03T19:48:39.246868200Z"
    }
   },
   "outputs": [],
   "source": [
    "RFMI_Scores.sort(key=lambda x: x[0], reverse=True)\n",
    "RFChi_Scores.sort(key=lambda x: x[0], reverse=True)\n",
    "RFReliefF_Scores.sort(key=lambda x: x[0], reverse=True)\n"
   ]
  },
  {
   "cell_type": "code",
   "outputs": [],
   "source": [],
   "metadata": {
    "collapsed": false,
    "ExecuteTime": {
     "end_time": "2024-10-03T19:48:39.252882500Z",
     "start_time": "2024-10-03T19:48:39.252882500Z"
    }
   },
   "id": "c9e274df0662ed30",
   "execution_count": 42
  },
  {
   "cell_type": "code",
   "outputs": [
    {
     "name": "stdout",
     "output_type": "stream",
     "text": [
      "20\n",
      "20\n",
      "20\n",
      "20\n",
      "20\n",
      "20\n",
      "20\n",
      "20\n",
      "20\n",
      "20\n",
      "20\n",
      "20\n",
      "20\n",
      "20\n"
     ]
    }
   ],
   "source": [
    "for m in Mutual_Information:\n",
    "    print(len(m[0]))"
   ],
   "metadata": {
    "collapsed": false,
    "ExecuteTime": {
     "end_time": "2024-10-03T19:48:39.324204800Z",
     "start_time": "2024-10-03T19:48:39.252882500Z"
    }
   },
   "id": "3fbec6ea1772bdf0",
   "execution_count": 43
  },
  {
   "cell_type": "code",
   "execution_count": 44,
   "id": "eef9aafbd71a5d7a",
   "metadata": {
    "ExecuteTime": {
     "end_time": "2024-10-03T19:48:39.392338500Z",
     "start_time": "2024-10-03T19:48:39.321188400Z"
    }
   },
   "outputs": [
    {
     "name": "stdout",
     "output_type": "stream",
     "text": [
      "Mutual Information:  0.9823591363875724 650 20\n",
      "Mutual Information:  0.979594523433386 550 20\n",
      "Mutual Information:  0.9780147446024222 900 20\n",
      "Mutual Information:  0.9772248551869405 450 20\n",
      "Mutual Information:  0.9770932069510269 950 20\n",
      "Mutual Information:  0.9761716692996314 500 20\n",
      "Mutual Information:  0.973407056345445 850 20\n",
      "Mutual Information:  0.9724855186940495 400 20\n",
      "Mutual Information:  0.9710373880989994 750 20\n",
      "Mutual Information:  0.970115850447604 350 20\n",
      "Mutual Information:  0.962480252764613 700 20\n",
      "Mutual Information:  0.9598472880463402 800 20\n",
      "Mutual Information:  0.9582675092153765 300 20\n",
      "Mutual Information:  0.957740916271722 600 20\n"
     ]
    }
   ],
   "source": [
    "for i in RFMI_Scores:\n",
    "    # Find the corresponding entry in Mutual_Information based on the number of generations\n",
    "    corresponding_entry = next((entry for entry in Mutual_Information if entry[2] == i[1]), None)\n",
    "    if corresponding_entry:\n",
    "        print(\"Mutual Information: \", i[0], i[1], len(corresponding_entry[0]))"
   ]
  },
  {
   "cell_type": "code",
   "execution_count": 45,
   "id": "26cf8d185f257b97",
   "metadata": {
    "ExecuteTime": {
     "end_time": "2024-10-03T19:48:39.460304900Z",
     "start_time": "2024-10-03T19:48:39.394215700Z"
    }
   },
   "outputs": [
    {
     "name": "stdout",
     "output_type": "stream",
     "text": [
      "Chi2:  0.9818325434439179 800 20\n",
      "Chi2:  0.9802527646129542 500 20\n",
      "Chi2:  0.9782780410742495 850 20\n",
      "Chi2:  0.977751448130595 700 20\n",
      "Chi2:  0.9774881516587677 550 20\n",
      "Chi2:  0.9760400210637176 600 20\n",
      "Chi2:  0.970115850447604 750 20\n",
      "Chi2:  0.9635334386519221 650 20\n",
      "Chi2:  0.9612954186413901 950 20\n",
      "Chi2:  0.9611637704054766 900 20\n",
      "Chi2:  0.9607688256977356 300 20\n",
      "Chi2:  0.955897840968931 400 20\n",
      "Chi2:  0.9429963138493944 450 20\n",
      "Chi2:  0.938783570300158 350 20\n"
     ]
    }
   ],
   "source": [
    "for i in RFChi_Scores:\n",
    "    # Find the corresponding entry in Mutual_Information based on the number of generations\n",
    "    corresponding_entry = next((entry for entry in Chi2 if entry[2] == i[1]), None)\n",
    "    if corresponding_entry:\n",
    "        print(\"Chi2: \", i[0], i[1], len(corresponding_entry[0]))"
   ]
  },
  {
   "cell_type": "code",
   "execution_count": 46,
   "id": "cdb87a053cb935f1",
   "metadata": {
    "ExecuteTime": {
     "end_time": "2024-10-03T19:48:39.530627400Z",
     "start_time": "2024-10-03T19:48:39.460304900Z"
    }
   },
   "outputs": [
    {
     "name": "stdout",
     "output_type": "stream",
     "text": [
      "ReliefF:  0.982885729331227 950 20\n",
      "ReliefF:  0.9790679304897314 500 20\n",
      "ReliefF:  0.9776197998946814 300 20\n",
      "ReliefF:  0.9745918904686677 400 20\n",
      "ReliefF:  0.9731437598736177 750 20\n",
      "ReliefF:  0.9724855186940495 650 20\n",
      "ReliefF:  0.9689310163243813 850 20\n",
      "ReliefF:  0.9681411269088994 450 20\n",
      "ReliefF:  0.9673512374934174 600 20\n",
      "ReliefF:  0.9660347551342812 700 20\n",
      "ReliefF:  0.9358873091100579 350 20\n",
      "ReliefF:  0.9347024749868351 900 20\n",
      "ReliefF:  0.9328593996840442 800 20\n",
      "ReliefF:  0.890337019483939 550 20\n"
     ]
    }
   ],
   "source": [
    "for i in RFReliefF_Scores:\n",
    "    # Find the corresponding entry in Mutual_Information based on the number of generations\n",
    "    corresponding_entry = next((entry for entry in ReliefF if entry[2] == i[1]), None)\n",
    "    if corresponding_entry:\n",
    "        print(\"ReliefF: \", i[0], i[1], len(corresponding_entry[0]))"
   ]
  },
  {
   "cell_type": "code",
   "outputs": [
    {
     "name": "stdout",
     "output_type": "stream",
     "text": [
      " Naive Bayes All features: AUC:  0.9462875197472354\n",
      " Random Forest All features: AUC 0.9794628751974724\n",
      " Naive Bayes Mutual Information: AUC  0.974855186940495 950\n",
      " Random Forest Mutual Information: AUC  0.9823591363875724 650\n",
      " Naive Bayes Chi2: AUC  0.9749868351764086 500\n",
      " Random Forest Chi2: AUC  0.9818325434439179 800\n",
      " Naive Bayes ReliefF: AUC  0.9694576092680358 950\n",
      " Random Forest ReliefF: AUC  0.982885729331227 950\n"
     ]
    }
   ],
   "source": [
    "import pandas as pd\n",
    "\n",
    "# Create DataFrames for each evaluation method\n",
    "\n",
    "\n",
    "\n",
    "print(\" Naive Bayes All features: AUC:  0.9462875197472354\")\n",
    "print(\" Random Forest All features: AUC 0.9794628751974724\")\n",
    "print(\" Naive Bayes Mutual Information: AUC \", MI_Scores[0][0], MI_Scores[0][1])\n",
    "print(\" Random Forest Mutual Information: AUC \", RFMI_Scores[0][0], RFMI_Scores[0][1])\n",
    "print(\" Naive Bayes Chi2: AUC \", Chi_Scores[0][0], Chi_Scores[0][1])\n",
    "print(\" Random Forest Chi2: AUC \", RFChi_Scores[0][0], RFChi_Scores[0][1])\n",
    "print(\" Naive Bayes ReliefF: AUC \", ReliefF_Scores[0][0], ReliefF_Scores[0][1])\n",
    "print(\" Random Forest ReliefF: AUC \", RFReliefF_Scores[0][0], RFReliefF_Scores[0][1])\n"
   ],
   "metadata": {
    "collapsed": false,
    "ExecuteTime": {
     "end_time": "2024-10-03T19:48:39.602411500Z",
     "start_time": "2024-10-03T19:48:39.530627400Z"
    }
   },
   "id": "184d86e643e5f3ef",
   "execution_count": 47
  }
 ],
 "metadata": {
  "kernelspec": {
   "display_name": "Python 3 (ipykernel)",
   "language": "python",
   "name": "python3"
  },
  "language_info": {
   "codemirror_mode": {
    "name": "ipython",
    "version": 3
   },
   "file_extension": ".py",
   "mimetype": "text/x-python",
   "name": "python",
   "nbconvert_exporter": "python",
   "pygments_lexer": "ipython3",
   "version": "3.10.7"
  }
 },
 "nbformat": 4,
 "nbformat_minor": 5
}

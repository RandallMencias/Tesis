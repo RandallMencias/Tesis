{
 "cells": [
  {
   "cell_type": "code",
   "execution_count": 12,
   "id": "initial_id",
   "metadata": {
    "collapsed": true,
    "ExecuteTime": {
     "end_time": "2024-10-03T14:59:59.002891300Z",
     "start_time": "2024-10-03T14:59:58.969541500Z"
    }
   },
   "outputs": [],
   "source": []
  },
  {
   "cell_type": "code",
   "execution_count": 13,
   "id": "b3bf4e2f337876d0",
   "metadata": {
    "ExecuteTime": {
     "end_time": "2024-10-03T14:59:59.018533800Z",
     "start_time": "2024-10-03T14:59:58.972502100Z"
    }
   },
   "outputs": [],
   "source": [
    "import numpy as np\n",
    "from Metaheuristicas.fitness_functions import mutual_information_eval\n",
    "from Metaheuristicas.fitness_functions import relieff_eval\n",
    "from fitness_functions import chi2_eval"
   ]
  },
  {
   "cell_type": "code",
   "execution_count": 14,
   "id": "1af9109ecff68ec5",
   "metadata": {
    "ExecuteTime": {
     "end_time": "2024-10-03T14:59:59.392422100Z",
     "start_time": "2024-10-03T14:59:58.973010Z"
    }
   },
   "outputs": [],
   "source": [
    "from Metaheuristicas.fitness_functions import load_and_preprocess_data\n",
    "\n",
    "X, y = load_and_preprocess_data(filename='Resources/SeisBenchV1_v1_1.json')\n",
    "\n"
   ]
  },
  {
   "cell_type": "code",
   "execution_count": 15,
   "id": "1336b716ae1981a3",
   "metadata": {
    "ExecuteTime": {
     "end_time": "2024-10-03T14:59:59.392422100Z",
     "start_time": "2024-10-03T14:59:59.100634100Z"
    }
   },
   "outputs": [],
   "source": [
    "Mutual_Information = []\n",
    "Chi2 = []\n",
    "ReliefF = []"
   ]
  },
  {
   "cell_type": "markdown",
   "id": "b76d21b8a0f0ec3e",
   "metadata": {},
   "source": [
    "### SA Run"
   ]
  },
  {
   "cell_type": "code",
   "execution_count": 16,
   "id": "7562491832f67eae",
   "metadata": {
    "ExecuteTime": {
     "end_time": "2024-10-03T14:59:59.392422100Z",
     "start_time": "2024-10-03T14:59:59.114773400Z"
    }
   },
   "outputs": [],
   "source": [
    "cooling_rate=0.8\n",
    "max_iter = 500"
   ]
  },
  {
   "cell_type": "code",
   "execution_count": 17,
   "outputs": [],
   "source": [
    "temperature = [10000,1000,100,10,1,0.1,0.01,0.001,0.0001,0.00001]"
   ],
   "metadata": {
    "collapsed": false,
    "ExecuteTime": {
     "end_time": "2024-10-03T14:59:59.392422100Z",
     "start_time": "2024-10-03T14:59:59.184714600Z"
    }
   },
   "id": "c0946fc1770cffd9"
  },
  {
   "cell_type": "code",
   "execution_count": 17,
   "id": "671d318cd4214766",
   "metadata": {
    "ExecuteTime": {
     "end_time": "2024-10-03T14:59:59.392422100Z",
     "start_time": "2024-10-03T14:59:59.253372200Z"
    }
   },
   "outputs": [],
   "source": []
  },
  {
   "cell_type": "code",
   "execution_count": 18,
   "id": "da5680f741045227",
   "metadata": {
    "ExecuteTime": {
     "end_time": "2024-10-03T15:18:48.262851300Z",
     "start_time": "2024-10-03T14:59:59.257048500Z"
    }
   },
   "outputs": [],
   "source": [
    "from Metaheuristicas.Simmulated_Annealing import simulated_annealing\n",
    "for tempt in temperature:\n",
    "    best_solution, best_Gfitness = simulated_annealing(X, y,initial_temperature=tempt,cooling_rate=cooling_rate, max_iter= max_iter, fitness_function=mutual_information_eval)\n",
    "    selected_features = X.columns[best_solution.astype(bool)].tolist()\n",
    "    Mutual_Information.append([selected_features, best_Gfitness, tempt])\n",
    "\n",
    "    "
   ]
  },
  {
   "cell_type": "code",
   "execution_count": 19,
   "id": "b56caa9cef4f0ec9",
   "metadata": {
    "ExecuteTime": {
     "end_time": "2024-10-03T15:18:55.382918200Z",
     "start_time": "2024-10-03T15:18:48.266472700Z"
    }
   },
   "outputs": [],
   "source": [
    "from Metaheuristicas.Simmulated_Annealing import simulated_annealing\n",
    "for tempt in temperature:\n",
    "    best_solution, best_Gfitness = simulated_annealing(X, y,initial_temperature=tempt,cooling_rate=cooling_rate, max_iter= max_iter, fitness_function=chi2_eval)\n",
    "    selected_features = X.columns[best_solution.astype(bool)].tolist()\n",
    "    Chi2.append([selected_features, best_Gfitness, tempt])"
   ]
  },
  {
   "cell_type": "code",
   "execution_count": 20,
   "id": "905b520c0f36354a",
   "metadata": {
    "ExecuteTime": {
     "end_time": "2024-10-03T15:21:33.925945400Z",
     "start_time": "2024-10-03T15:18:55.386923600Z"
    }
   },
   "outputs": [],
   "source": [
    "from Metaheuristicas.Simmulated_Annealing import simulated_annealing\n",
    "for tempt in temperature:\n",
    "    best_solution, best_Gfitness = simulated_annealing(X, y,initial_temperature=tempt,cooling_rate=cooling_rate, max_iter= max_iter, fitness_function=relieff_eval)\n",
    "    selected_features = X.columns[best_solution.astype(bool)].tolist()\n",
    "    ReliefF.append([selected_features, best_Gfitness, tempt])"
   ]
  },
  {
   "cell_type": "markdown",
   "source": [],
   "metadata": {
    "collapsed": false
   },
   "id": "b21e782a6018fcbd"
  },
  {
   "cell_type": "code",
   "outputs": [],
   "source": [
    "#save the results\n",
    "import pickle\n",
    "with open('SAMutual_Information.pkl', 'wb') as f:\n",
    "    pickle.dump(Mutual_Information, f)\n",
    "with open('SAChi2.pkl', 'wb') as f:\n",
    "    pickle.dump(Chi2, f)\n",
    "with open('SAReliefF.pkl', 'wb') as f:\n",
    "    pickle.dump(ReliefF, f)\n",
    "    "
   ],
   "metadata": {
    "collapsed": false,
    "ExecuteTime": {
     "end_time": "2024-10-03T15:21:33.932208900Z",
     "start_time": "2024-10-03T15:21:33.928452100Z"
    }
   },
   "id": "8c7d5b305b9350b",
   "execution_count": 21
  },
  {
   "cell_type": "code",
   "execution_count": 22,
   "id": "957e85cdae236b09",
   "metadata": {
    "ExecuteTime": {
     "end_time": "2024-10-03T15:21:34.002993500Z",
     "start_time": "2024-10-03T15:21:33.932208900Z"
    }
   },
   "outputs": [],
   "source": [
    "#sort the results with the best fitness for each method\n",
    "Mutual_Information.sort(key=lambda x: x[1], reverse=True)\n",
    "Chi2.sort(key=lambda x: x[1], reverse=True)\n",
    "ReliefF.sort(key=lambda x: x[1], reverse=True)"
   ]
  },
  {
   "cell_type": "code",
   "execution_count": 23,
   "id": "61b1eb234ac40143",
   "metadata": {
    "ExecuteTime": {
     "end_time": "2024-10-03T15:21:34.076368300Z",
     "start_time": "2024-10-03T15:21:34.006394300Z"
    }
   },
   "outputs": [
    {
     "name": "stdout",
     "output_type": "stream",
     "text": [
      "Mutual Information:  3.281597948935211 1000\n",
      "Mutual Information:  3.264878938167989 0.0001\n",
      "Mutual Information:  3.2531711525177456 0.1\n",
      "Mutual Information:  3.2376831551281136 10\n",
      "Mutual Information:  3.231646374056403 100\n",
      "Mutual Information:  3.2181101912501062 0.001\n",
      "Mutual Information:  3.212301559418364 1\n",
      "Mutual Information:  3.2104468010886653 1e-05\n",
      "Mutual Information:  3.1905124579083437 10000\n",
      "Mutual Information:  3.176208125181769 0.01\n"
     ]
    }
   ],
   "source": [
    "#print all the scores in mutual information and the number of generations\n",
    "for i in Mutual_Information:\n",
    "    print(\"Mutual Information: \",i[1], i[2])"
   ]
  },
  {
   "cell_type": "code",
   "execution_count": 24,
   "id": "3354fa794bb2198c",
   "metadata": {
    "ExecuteTime": {
     "end_time": "2024-10-03T15:21:34.147090900Z",
     "start_time": "2024-10-03T15:21:34.076368300Z"
    }
   },
   "outputs": [
    {
     "name": "stdout",
     "output_type": "stream",
     "text": [
      "Mutual Information: \n",
      " [['f1_t_mean', 'f2_t_std', 'f3_t_var', 'f4_t_entropy', 'f5_t_kurtosis', 'f6_t_multiscaleEntropy', 'f7_t_time2peak', 'f8_t_rms', 'f10_t_peak2rms', 'f11_t_energy', 'f12_t_zcr', 'f13_t_PeaksAboveRMSDensity_fun', 'f14_f_peaks_pos_1', 'f15_f_90_percent_energy', 'f16_f_entropy', 'f17_f_mean', 'f18_f_std', 'f19_f_var', 'f20_f_energy', 'f21_f_kurtosis', 'f22_f_multiscaleEntropy', 'f23_f_peak_1020_value', 'f24_f_peak_1020_pos', 'f25_f_peak_2030_value', 'f26_f_peak_2030_pos', 'f27_f_rms', 'f28_f_peak2rms', 'f29_f_power', 'f30_f_PeaksAboveRMSDensity_fun', 'f31_f_peaks_val_2', 'f32_f_peaks_pos_2', 'f33_f_peaks_val_3', 'f34_f_peaks_pos_3', 'f35_w_f_maxval_A6', 'f36_w_f_maxval_D1', 'f37_w_f_maxval_D2', 'f38_w_f_maxval_D3', 'f39_w_f_maxval_D4', 'f40_w_f_maxval_D5', 'f41_w_f_maxval_D6', 'f43_w_f_maxpos_D2', 'f44_w_f_maxpos_D3', 'f45_w_f_maxpos_D4', 'f46_w_f_maxpos_D5', 'f47_w_f_maxpos_D6', 'f48_w_f_mean_A6', 'f50_w_f_mean_D2', 'f51_w_f_mean_D3', 'f52_w_f_mean_D4', 'f53_w_f_mean_D5', 'f55_w_t_meanEnergyAD', 'f57_w_t_PEC_D1', 'f58_w_t_PEC_D2', 'f59_w_t_PEC_D3', 'f60_w_t_PEC_D4', 'f61_w_t_PEC_D5', 'f62_w_t_PEC_D6', 'f64_w_t_rms_D1', 'f65_w_t_rms_D2', 'f66_w_t_rms_D3', 'f67_w_t_rms_D4', 'f68_w_t_rms_D5', 'f69_w_t_rms_D6', 'f70_w_t_peak2peak_A6', 'f71_w_t_peak2peak_D1', 'f72_w_t_peak2peak_D2', 'f73_w_t_peak2peak_D3', 'f74_w_t_peak2peak_D4', 'f75_w_t_peak2peak_D5', 'f76_w_t_peak2peak_D6', 'f77_w_t_peak2rms_A6', 'f78_w_t_peak2rms_D1', 'f79_w_t_peak2rms_D2', 'f80_w_t_peak2rms_D3', 'f81_w_t_peak2rms_D4', 'f82_w_t_peak2rms_D5', 'f84_w_t_meanEnergyCoeff'], 3.281597948935211, 1000]\n",
      "Chi2: \n",
      " [['f58_w_t_PEC_D2'], 76.55069339150783, 1000]\n",
      "ReliefF: \n",
      " [['f20_f_energy'], -0.006301108168330365, 1]\n"
     ]
    }
   ],
   "source": [
    "print(\"Mutual Information: \\n\",Mutual_Information[0])\n",
    "print(\"Chi2: \\n\",Chi2[0])\n",
    "print(\"ReliefF: \\n\",ReliefF[0])"
   ]
  },
  {
   "cell_type": "code",
   "execution_count": 25,
   "id": "8f667e9942bff411",
   "metadata": {
    "ExecuteTime": {
     "end_time": "2024-10-03T15:21:34.217194900Z",
     "start_time": "2024-10-03T15:21:34.147090900Z"
    }
   },
   "outputs": [
    {
     "name": "stdout",
     "output_type": "stream",
     "text": [
      "Mutual Information: \n",
      " 77\n",
      "Chi2: \n",
      " 1\n",
      "ReliefF: \n",
      " 1\n"
     ]
    }
   ],
   "source": [
    "print(\"Mutual Information: \\n\",len(Mutual_Information[0][0]))\n",
    "print(\"Chi2: \\n\",len(Chi2[0][0]))\n",
    "print(\"ReliefF: \\n\",len(ReliefF[0][0]))"
   ]
  },
  {
   "cell_type": "code",
   "execution_count": 26,
   "id": "5f44bc0fb64a3885",
   "metadata": {
    "ExecuteTime": {
     "end_time": "2024-10-03T15:21:34.352917500Z",
     "start_time": "2024-10-03T15:21:34.217194900Z"
    }
   },
   "outputs": [],
   "source": [
    "from sklearn.metrics import accuracy_score, precision_score, recall_score, f1_score, roc_auc_score\n",
    "from sklearn.naive_bayes import GaussianNB\n",
    "from sklearn.model_selection import train_test_split\n"
   ]
  },
  {
   "cell_type": "code",
   "execution_count": 27,
   "id": "94b4ccb6e9d66db4",
   "metadata": {
    "ExecuteTime": {
     "end_time": "2024-10-03T15:21:34.370024600Z",
     "start_time": "2024-10-03T15:21:34.356584600Z"
    }
   },
   "outputs": [],
   "source": [
    "\n",
    "\n",
    "#Naive Bayes classifier with all features\n",
    "\n",
    "cmodel = GaussianNB()\n",
    "X_train, X_test, y_train, y_test = train_test_split(X, y, test_size=0.2, random_state=42)\n",
    "cmodel.fit(X_train, y_train)\n",
    "y_pred = cmodel.predict(X_test)\n",
    "y_pred_proba = cmodel.predict_proba(X_test)[:, 1]  # Probability estimates for AUC\n",
    "\n",
    "accuracy = accuracy_score(y_test, y_pred)\n",
    "precision = precision_score(y_test, y_pred)\n",
    "recall = recall_score(y_test, y_pred)\n",
    "f1 = f1_score(y_test, y_pred)\n",
    "auc = roc_auc_score(y_test, y_pred_proba)"
   ]
  },
  {
   "cell_type": "code",
   "execution_count": 28,
   "id": "e1bf30a2a6f0e7ab",
   "metadata": {
    "ExecuteTime": {
     "end_time": "2024-10-03T15:21:34.430114900Z",
     "start_time": "2024-10-03T15:21:34.370024600Z"
    }
   },
   "outputs": [
    {
     "name": "stdout",
     "output_type": "stream",
     "text": [
      "Accuracy:  0.9432314410480349\n",
      "Precision:  0.6086956521739131\n",
      "Recall:  0.7777777777777778\n",
      "F1:  0.6829268292682927\n",
      "AUC:  0.9462875197472354\n"
     ]
    }
   ],
   "source": [
    "print(\"Accuracy: \", accuracy)\n",
    "print(\"Precision: \", precision)\n",
    "print(\"Recall: \", recall)\n",
    "print(\"F1: \", f1)\n",
    "print(\"AUC: \", auc)\n"
   ]
  },
  {
   "cell_type": "code",
   "execution_count": 29,
   "id": "cc4b93a7113ac1c9",
   "metadata": {
    "ExecuteTime": {
     "end_time": "2024-10-03T15:21:34.501787100Z",
     "start_time": "2024-10-03T15:21:34.430114900Z"
    }
   },
   "outputs": [
    {
     "name": "stdout",
     "output_type": "stream",
     "text": [
      "Accuracy:  0.9432314410480349\n",
      "Precision:  0.6086956521739131\n",
      "Recall:  0.7777777777777778\n",
      "F1:  0.6829268292682927\n",
      "AUC:  0.9462875197472354\n"
     ]
    }
   ],
   "source": [
    "print(\"Accuracy: \", accuracy)\n",
    "print(\"Precision: \", precision)\n",
    "print(\"Recall: \", recall)\n",
    "print(\"F1: \", f1)\n",
    "print(\"AUC: \", auc)"
   ]
  },
  {
   "cell_type": "code",
   "execution_count": 30,
   "id": "9877d885f3685198",
   "metadata": {
    "ExecuteTime": {
     "end_time": "2024-10-03T15:21:34.572426800Z",
     "start_time": "2024-10-03T15:21:34.501787100Z"
    }
   },
   "outputs": [
    {
     "name": "stdout",
     "output_type": "stream",
     "text": [
      "Accuracy:  0.9432314410480349\n",
      "Precision:  0.6086956521739131\n",
      "Recall:  0.7777777777777778\n",
      "F1:  0.6829268292682927\n",
      "AUC:  0.9462875197472354\n"
     ]
    }
   ],
   "source": [
    "print(\"Accuracy: \", accuracy)\n",
    "print(\"Precision: \", precision)\n",
    "print(\"Recall: \", recall)\n",
    "print(\"F1: \", f1)\n",
    "print(\"AUC: \", auc)\n"
   ]
  },
  {
   "cell_type": "code",
   "execution_count": 31,
   "id": "8b225ca6053e3563",
   "metadata": {
    "ExecuteTime": {
     "end_time": "2024-10-03T15:21:34.642889600Z",
     "start_time": "2024-10-03T15:21:34.572426800Z"
    }
   },
   "outputs": [],
   "source": [
    "MI_Scores = []\n",
    "Chi_Scores = []\n",
    "ReliefF_Scores = []"
   ]
  },
  {
   "cell_type": "markdown",
   "id": "ad8d8a038949046a",
   "metadata": {},
   "source": [
    "### Naive Bayes with all scores of mutual information, chi2 and ReliefF"
   ]
  },
  {
   "cell_type": "code",
   "execution_count": 32,
   "id": "9e637221b876eab0",
   "metadata": {
    "ExecuteTime": {
     "end_time": "2024-10-03T15:21:34.771446100Z",
     "start_time": "2024-10-03T15:21:34.645468600Z"
    }
   },
   "outputs": [],
   "source": [
    "#Naive Bayes with all scores of mutual information\n",
    "for MI in Mutual_Information:\n",
    "    model = GaussianNB()\n",
    "    X_train, X_test, y_train, y_test = train_test_split(X[MI[0]], y, test_size=0.2, random_state=42)\n",
    "    cmodel.fit(X_train, y_train)\n",
    "    y_pred = cmodel.predict(X_test)\n",
    "    y_pred_proba = cmodel.predict_proba(X_test)[:, 1]  # Probability estimates for AUC\n",
    "    # # accuracy = accuracy_score(y_test, y_pred)\n",
    "    # # precision = precision_score(y_test, y_pred)\n",
    "    # # recall = recall_score(y_test, y_pred)\n",
    "    # # f1 = f1_score(y_test, y_pred)\n",
    "    auc = roc_auc_score(y_test, y_pred_proba)\n",
    "    MI_Scores.append([auc,MI[2]])"
   ]
  },
  {
   "cell_type": "code",
   "execution_count": 33,
   "id": "198b3d7c8ef35ebf",
   "metadata": {
    "ExecuteTime": {
     "end_time": "2024-10-03T15:21:34.818780500Z",
     "start_time": "2024-10-03T15:21:34.774398500Z"
    }
   },
   "outputs": [],
   "source": [
    "for Ch in Chi2:\n",
    "    model = GaussianNB()\n",
    "    X_train, X_test, y_train, y_test = train_test_split(X[Ch[0]], y, test_size=0.2, random_state=42)\n",
    "    cmodel.fit(X_train, y_train)\n",
    "    y_pred = cmodel.predict(X_test)\n",
    "    y_pred_proba = cmodel.predict_proba(X_test)[:, 1]  # Probability estimates for AUC\n",
    "    # # accuracy = accuracy_score(y_test, y_pred)\n",
    "    # # precision = precision_score(y_test, y_pred)\n",
    "    # # recall = recall_score(y_test, y_pred)\n",
    "    # # f1 = f1_score(y_test, y_pred)\n",
    "    auc = roc_auc_score(y_test, y_pred_proba)\n",
    "    Chi_Scores.append([auc,Ch[2]])"
   ]
  },
  {
   "cell_type": "code",
   "execution_count": 34,
   "id": "2eaa06ab9fa4dcab",
   "metadata": {
    "ExecuteTime": {
     "end_time": "2024-10-03T15:21:34.887482500Z",
     "start_time": "2024-10-03T15:21:34.822457100Z"
    }
   },
   "outputs": [],
   "source": [
    "for RF in ReliefF:\n",
    "    model = GaussianNB()\n",
    "    X_train, X_test, y_train, y_test = train_test_split(X[RF[0]], y, test_size=0.2, random_state=42)\n",
    "    cmodel.fit(X_train, y_train)\n",
    "    y_pred = cmodel.predict(X_test)\n",
    "    y_pred_proba = cmodel.predict_proba(X_test)[:, 1]  # Probability estimates for AUC\n",
    "    # # accuracy = accuracy_score(y_test, y_pred)\n",
    "    # # precision = precision_score(y_test, y_pred)\n",
    "    # # recall = recall_score(y_test, y_pred)\n",
    "    # # f1 = f1_score(y_test, y_pred)\n",
    "    auc = roc_auc_score(y_test, y_pred_proba)\n",
    "    ReliefF_Scores.append([auc,RF[2]])"
   ]
  },
  {
   "cell_type": "code",
   "execution_count": 34,
   "id": "db6fd7e948d37456",
   "metadata": {
    "ExecuteTime": {
     "end_time": "2024-10-03T15:21:34.890447700Z",
     "start_time": "2024-10-03T15:21:34.890447700Z"
    }
   },
   "outputs": [],
   "source": []
  },
  {
   "cell_type": "code",
   "execution_count": 35,
   "id": "7ea4eb6f4eb1d298",
   "metadata": {
    "ExecuteTime": {
     "end_time": "2024-10-03T15:21:34.929591800Z",
     "start_time": "2024-10-03T15:21:34.890447700Z"
    }
   },
   "outputs": [],
   "source": [
    "MI_Scores.sort(key=lambda x: x[0], reverse=True)\n",
    "Chi_Scores.sort(key=lambda x: x[0], reverse=True)\n",
    "ReliefF_Scores.sort(key=lambda x: x[0], reverse=True)"
   ]
  },
  {
   "cell_type": "code",
   "execution_count": 36,
   "id": "b311227e3c0dc359",
   "metadata": {
    "ExecuteTime": {
     "end_time": "2024-10-03T15:21:34.992087800Z",
     "start_time": "2024-10-03T15:21:34.921152400Z"
    }
   },
   "outputs": [
    {
     "name": "stdout",
     "output_type": "stream",
     "text": [
      "Mutual Information:  0.95260663507109 1000\n",
      "Mutual Information:  0.9523433385992628 0.1\n",
      "Mutual Information:  0.9494470774091628 100\n",
      "Mutual Information:  0.9489204844655083 10000\n",
      "Mutual Information:  0.9483938915218536 1e-05\n",
      "Mutual Information:  0.9476040021063717 0.0001\n",
      "Mutual Information:  0.94681411269089 0.01\n",
      "Mutual Information:  0.9460242232754081 0.001\n",
      "Mutual Information:  0.9449710373880991 1\n",
      "Mutual Information:  0.94391785150079 10\n"
     ]
    }
   ],
   "source": [
    "for i in MI_Scores:\n",
    "    print(\"Mutual Information: \",i[0], i[1])"
   ]
  },
  {
   "cell_type": "code",
   "execution_count": 37,
   "id": "b0d0c8de1648489f",
   "metadata": {
    "ExecuteTime": {
     "end_time": "2024-10-03T15:21:35.061132100Z",
     "start_time": "2024-10-03T15:21:34.992087800Z"
    }
   },
   "outputs": [
    {
     "name": "stdout",
     "output_type": "stream",
     "text": [
      "Chi2:  0.8825697735650342 10000\n",
      "Chi2:  0.8825697735650342 0.01\n",
      "Chi2:  0.855713533438652 1\n",
      "Chi2:  0.855713533438652 0.001\n",
      "Chi2:  0.8483412322274881 0.0001\n",
      "Chi2:  0.8351764086361242 1000\n",
      "Chi2:  0.8351764086361242 100\n",
      "Chi2:  0.8351764086361242 10\n",
      "Chi2:  0.8351764086361242 0.1\n",
      "Chi2:  0.8351764086361242 1e-05\n"
     ]
    }
   ],
   "source": [
    "for i in Chi_Scores:\n",
    "    print(\"Chi2: \",i[0], i[1])"
   ]
  },
  {
   "cell_type": "code",
   "execution_count": 38,
   "id": "4fdefae0a7db9f40",
   "metadata": {
    "ExecuteTime": {
     "end_time": "2024-10-03T15:21:35.132647800Z",
     "start_time": "2024-10-03T15:21:35.061132100Z"
    }
   },
   "outputs": [
    {
     "name": "stdout",
     "output_type": "stream",
     "text": [
      "ReliefF:  0.7259083728278041 10000\n",
      "ReliefF:  0.7211690363349131 0.1\n",
      "ReliefF:  0.6966824644549763 1000\n",
      "ReliefF:  0.6782517114270669 100\n",
      "ReliefF:  0.6532385466034756 0.0001\n",
      "ReliefF:  0.633754607688257 10\n",
      "ReliefF:  0.6334913112164297 1\n",
      "ReliefF:  0.6334913112164297 1e-05\n",
      "ReliefF:  0.5779357556608742 0.01\n",
      "ReliefF:  0.5753027909426014 0.001\n"
     ]
    }
   ],
   "source": [
    "for i in ReliefF_Scores:\n",
    "    print(\"ReliefF: \",i[0], i[1])"
   ]
  },
  {
   "cell_type": "code",
   "execution_count": 39,
   "id": "e0a05b27757675a",
   "metadata": {
    "ExecuteTime": {
     "end_time": "2024-10-03T15:21:35.201066400Z",
     "start_time": "2024-10-03T15:21:35.132647800Z"
    }
   },
   "outputs": [
    {
     "name": "stdout",
     "output_type": "stream",
     "text": [
      "Mutual Information: 1000\n",
      "Chi2:  1000\n",
      "ReliefF:  1\n"
     ]
    }
   ],
   "source": [
    "print(\"Mutual Information:\", Mutual_Information[0][2])\n",
    "print(\"Chi2: \",Chi2[0][2])\n",
    "print(\"ReliefF: \",ReliefF[0][2])\n"
   ]
  },
  {
   "cell_type": "markdown",
   "id": "eaf983f69c884bda",
   "metadata": {},
   "source": [
    "### Random Forest Classifier with all features"
   ]
  },
  {
   "cell_type": "code",
   "execution_count": 40,
   "id": "fd04af0d3a684dce",
   "metadata": {
    "ExecuteTime": {
     "end_time": "2024-10-03T15:21:35.990454900Z",
     "start_time": "2024-10-03T15:21:35.201066400Z"
    }
   },
   "outputs": [],
   "source": [
    "from sklearn.ensemble import RandomForestClassifier\n",
    "random_forest = RandomForestClassifier(n_estimators=100, random_state=42)\n",
    "X_train, X_test, y_train, y_test = train_test_split(X, y, test_size=0.2, random_state=42)\n",
    "random_forest.fit(X_train, y_train)\n",
    "y_pred = random_forest.predict(X_test)\n",
    "y_pred_proba = random_forest.predict_proba(X_test)[:, 1]  # Probability estimates for AUC\n",
    "accuracy = accuracy_score(y_test, y_pred)\n",
    "precision = precision_score(y_test, y_pred)\n",
    "recall = recall_score(y_test, y_pred)\n",
    "f1 = f1_score(y_test, y_pred)\n",
    "auc = roc_auc_score(y_test, y_pred_proba)\n"
   ]
  },
  {
   "cell_type": "markdown",
   "id": "8e36dcb1481a88b1",
   "metadata": {},
   "source": []
  },
  {
   "cell_type": "code",
   "execution_count": 40,
   "id": "f87d26e6c1ebbf67",
   "metadata": {
    "ExecuteTime": {
     "end_time": "2024-10-03T15:21:35.994081900Z",
     "start_time": "2024-10-03T15:21:35.991215900Z"
    }
   },
   "outputs": [],
   "source": []
  },
  {
   "cell_type": "code",
   "execution_count": 41,
   "id": "67c23f7da6d88dcb",
   "metadata": {
    "ExecuteTime": {
     "end_time": "2024-10-03T15:21:36.001914400Z",
     "start_time": "2024-10-03T15:21:35.994081900Z"
    }
   },
   "outputs": [
    {
     "name": "stdout",
     "output_type": "stream",
     "text": [
      "Accuracy:  0.9650655021834061\n",
      "Precision:  0.8571428571428571\n",
      "Recall:  0.6666666666666666\n",
      "F1:  0.75\n",
      "AUC:  0.9794628751974724\n"
     ]
    }
   ],
   "source": [
    "print(\"Accuracy: \", accuracy)\n",
    "print(\"Precision: \", precision)\n",
    "print(\"Recall: \", recall)\n",
    "print(\"F1: \", f1)\n",
    "print(\"AUC: \", auc)\n"
   ]
  },
  {
   "cell_type": "code",
   "execution_count": 42,
   "id": "a0b02254ef48bea3",
   "metadata": {
    "ExecuteTime": {
     "end_time": "2024-10-03T15:21:36.071134400Z",
     "start_time": "2024-10-03T15:21:35.998764200Z"
    }
   },
   "outputs": [],
   "source": [
    "RFMI_Scores = []\n",
    "RFChi_Scores = []\n",
    "RFReliefF_Scores = []"
   ]
  },
  {
   "cell_type": "markdown",
   "id": "5b13764fb0b7b1c0",
   "metadata": {},
   "source": [
    "### Random Forest Classifier with all scores of mutual information, chi2 and ReliefF"
   ]
  },
  {
   "cell_type": "code",
   "execution_count": 43,
   "id": "b543d67fb08dfb7f",
   "metadata": {
    "ExecuteTime": {
     "end_time": "2024-10-03T15:21:39.361751600Z",
     "start_time": "2024-10-03T15:21:36.071637800Z"
    }
   },
   "outputs": [],
   "source": [
    "#Random Forest Classifier with Mutual Info selected features\n",
    "for M in Mutual_Information:\n",
    "    model = RandomForestClassifier(n_estimators=100, random_state=42)\n",
    "    X_train, X_test, y_train, y_test = train_test_split(X[M[0]], y, test_size=0.2, random_state=42)\n",
    "    model.fit(X_train, y_train)\n",
    "    y_pred = model.predict(X_test)\n",
    "    y_pred_proba = model.predict_proba(X_test)[:, 1]  # Probability estimates for AUC\n",
    "    auc = roc_auc_score(y_test, y_pred_proba)\n",
    "    RFMI_Scores.append([auc,M[2]])"
   ]
  },
  {
   "cell_type": "code",
   "execution_count": 44,
   "id": "405c9fb2ceacdf4d",
   "metadata": {
    "ExecuteTime": {
     "end_time": "2024-10-03T15:21:40.583577700Z",
     "start_time": "2024-10-03T15:21:39.364499600Z"
    }
   },
   "outputs": [],
   "source": [
    "#Random Forest Classifier with Chi2 selected features\n",
    "for C in Chi2:\n",
    "    model = RandomForestClassifier(n_estimators=100, random_state=42)\n",
    "    X_train, X_test, y_train, y_test = train_test_split(X[C[0]], y, test_size=0.2, random_state=42)\n",
    "    model.fit(X_train, y_train)\n",
    "    y_pred = model.predict(X_test)\n",
    "    y_pred_proba = model.predict_proba(X_test)[:, 1]  # Probability estimates for AUC\n",
    "    auc = roc_auc_score(y_test, y_pred_proba)\n",
    "    RFChi_Scores.append([auc,C[2]])"
   ]
  },
  {
   "cell_type": "code",
   "execution_count": 45,
   "id": "ffec1ab49b9b5521",
   "metadata": {
    "ExecuteTime": {
     "end_time": "2024-10-03T15:21:42.277906800Z",
     "start_time": "2024-10-03T15:21:40.583577700Z"
    }
   },
   "outputs": [],
   "source": [
    "#Random Forest Classifier with ReliefF selected features\n",
    "for R in ReliefF:\n",
    "    model = RandomForestClassifier(n_estimators=100, random_state=42)\n",
    "    X_train, X_test, y_train, y_test = train_test_split(X[R[0]], y, test_size=0.2, random_state=42)\n",
    "    model.fit(X_train, y_train)\n",
    "    y_pred = model.predict(X_test)\n",
    "    y_pred_proba = model.predict_proba(X_test)[:, 1]  # Probability estimates for AUC\n",
    "    auc = roc_auc_score(y_test, y_pred_proba)\n",
    "    RFReliefF_Scores.append([auc,R[2]])\n",
    "    "
   ]
  },
  {
   "cell_type": "code",
   "execution_count": 46,
   "id": "322bcad9de88f784",
   "metadata": {
    "ExecuteTime": {
     "end_time": "2024-10-03T15:21:42.281072100Z",
     "start_time": "2024-10-03T15:21:42.273897400Z"
    }
   },
   "outputs": [],
   "source": [
    "RFMI_Scores.sort(key=lambda x: x[0], reverse=True)\n",
    "RFChi_Scores.sort(key=lambda x: x[0], reverse=True)\n",
    "RFReliefF_Scores.sort(key=lambda x: x[0], reverse=True)\n"
   ]
  },
  {
   "cell_type": "code",
   "outputs": [],
   "source": [],
   "metadata": {
    "collapsed": false,
    "ExecuteTime": {
     "end_time": "2024-10-03T15:21:42.283079600Z",
     "start_time": "2024-10-03T15:21:42.280568500Z"
    }
   },
   "id": "c9e274df0662ed30",
   "execution_count": 46
  },
  {
   "cell_type": "code",
   "outputs": [
    {
     "name": "stdout",
     "output_type": "stream",
     "text": [
      "77\n",
      "73\n",
      "74\n",
      "72\n",
      "70\n",
      "71\n",
      "68\n",
      "72\n",
      "69\n",
      "71\n"
     ]
    }
   ],
   "source": [
    "for m in Mutual_Information:\n",
    "    print(len(m[0]))"
   ],
   "metadata": {
    "collapsed": false,
    "ExecuteTime": {
     "end_time": "2024-10-03T15:21:42.351023100Z",
     "start_time": "2024-10-03T15:21:42.284086900Z"
    }
   },
   "id": "3fbec6ea1772bdf0",
   "execution_count": 47
  },
  {
   "cell_type": "code",
   "execution_count": 48,
   "id": "eef9aafbd71a5d7a",
   "metadata": {
    "ExecuteTime": {
     "end_time": "2024-10-03T15:21:42.421583100Z",
     "start_time": "2024-10-03T15:21:42.351023100Z"
    }
   },
   "outputs": [
    {
     "name": "stdout",
     "output_type": "stream",
     "text": [
      "Mutual Information:  0.982490784623486 10 72\n",
      "Mutual Information:  0.9818325434439179 100 70\n",
      "Mutual Information:  0.9809110057925223 0.001 71\n",
      "Mutual Information:  0.979594523433386 0.1 74\n",
      "Mutual Information:  0.9795945234333859 10000 69\n",
      "Mutual Information:  0.9785413375460769 1 68\n",
      "Mutual Information:  0.9781463928383359 0.0001 73\n",
      "Mutual Information:  0.9776197998946815 1000 77\n",
      "Mutual Information:  0.9756450763559769 1e-05 72\n",
      "Mutual Information:  0.9736703528172723 0.01 71\n"
     ]
    }
   ],
   "source": [
    "for i in RFMI_Scores:\n",
    "    # Find the corresponding entry in Mutual_Information based on the number of generations\n",
    "    corresponding_entry = next((entry for entry in Mutual_Information if entry[2] == i[1]), None)\n",
    "    if corresponding_entry:\n",
    "        print(\"Mutual Information: \", i[0], i[1], len(corresponding_entry[0]))"
   ]
  },
  {
   "cell_type": "code",
   "execution_count": 49,
   "id": "26cf8d185f257b97",
   "metadata": {
    "ExecuteTime": {
     "end_time": "2024-10-03T15:21:42.489634300Z",
     "start_time": "2024-10-03T15:21:42.421583100Z"
    }
   },
   "outputs": [
    {
     "name": "stdout",
     "output_type": "stream",
     "text": [
      "Chi2:  0.9092943654555028 1 2\n",
      "Chi2:  0.9092943654555028 0.001 2\n",
      "Chi2:  0.8937598736176935 10000 3\n",
      "Chi2:  0.8937598736176935 0.01 3\n",
      "Chi2:  0.8923117430226435 0.0001 3\n",
      "Chi2:  0.7706687730384412 1000 1\n",
      "Chi2:  0.7706687730384412 100 1\n",
      "Chi2:  0.7706687730384412 10 1\n",
      "Chi2:  0.7706687730384412 0.1 1\n",
      "Chi2:  0.7706687730384412 1e-05 1\n"
     ]
    }
   ],
   "source": [
    "for i in RFChi_Scores:\n",
    "    # Find the corresponding entry in Mutual_Information based on the number of generations\n",
    "    corresponding_entry = next((entry for entry in Chi2 if entry[2] == i[1]), None)\n",
    "    if corresponding_entry:\n",
    "        print(\"Chi2: \", i[0], i[1], len(corresponding_entry[0]))"
   ]
  },
  {
   "cell_type": "code",
   "execution_count": 50,
   "id": "cdb87a053cb935f1",
   "metadata": {
    "ExecuteTime": {
     "end_time": "2024-10-03T15:21:42.562806300Z",
     "start_time": "2024-10-03T15:21:42.489634300Z"
    }
   },
   "outputs": [
    {
     "name": "stdout",
     "output_type": "stream",
     "text": [
      "ReliefF:  0.8650605581885202 0.1 8\n",
      "ReliefF:  0.8329383886255924 10000 6\n",
      "ReliefF:  0.8237230121116377 0.001 7\n",
      "ReliefF:  0.8162190626645603 100 7\n",
      "ReliefF:  0.7203791469194313 1000 7\n",
      "ReliefF:  0.6993154291732491 0.0001 4\n",
      "ReliefF:  0.6758820431806214 0.01 6\n",
      "ReliefF:  0.5800421274354922 10 1\n",
      "ReliefF:  0.5738546603475514 1 1\n",
      "ReliefF:  0.5738546603475514 1e-05 2\n"
     ]
    }
   ],
   "source": [
    "for i in RFReliefF_Scores:\n",
    "    # Find the corresponding entry in Mutual_Information based on the number of generations\n",
    "    corresponding_entry = next((entry for entry in ReliefF if entry[2] == i[1]), None)\n",
    "    if corresponding_entry:\n",
    "        print(\"ReliefF: \", i[0], i[1], len(corresponding_entry[0]))"
   ]
  },
  {
   "cell_type": "code",
   "outputs": [
    {
     "name": "stdout",
     "output_type": "stream",
     "text": [
      " Naive Bayes All features: AUC:  0.9462875197472354\n",
      " Random Forest All features: AUC 0.9794628751974724\n",
      " Naive Bayes Mutual Information: AUC  0.95260663507109 1000\n",
      " Random Forest Mutual Information: AUC  0.982490784623486 10\n",
      " Naive Bayes Chi2: AUC  0.8825697735650342 10000\n",
      " Random Forest Chi2: AUC  0.9092943654555028 1\n",
      " Naive Bayes ReliefF: AUC  0.7259083728278041 10000\n",
      " Random Forest ReliefF: AUC  0.8650605581885202 0.1\n"
     ]
    }
   ],
   "source": [
    "import pandas as pd\n",
    "\n",
    "# Create DataFrames for each evaluation method\n",
    "\n",
    "\n",
    "\n",
    "print(\" Naive Bayes All features: AUC:  0.9462875197472354\")\n",
    "print(\" Random Forest All features: AUC 0.9794628751974724\")\n",
    "print(\" Naive Bayes Mutual Information: AUC \", MI_Scores[0][0], MI_Scores[0][1])\n",
    "print(\" Random Forest Mutual Information: AUC \", RFMI_Scores[0][0], RFMI_Scores[0][1])\n",
    "print(\" Naive Bayes Chi2: AUC \", Chi_Scores[0][0], Chi_Scores[0][1])\n",
    "print(\" Random Forest Chi2: AUC \", RFChi_Scores[0][0], RFChi_Scores[0][1])\n",
    "print(\" Naive Bayes ReliefF: AUC \", ReliefF_Scores[0][0], ReliefF_Scores[0][1])\n",
    "print(\" Random Forest ReliefF: AUC \", RFReliefF_Scores[0][0], RFReliefF_Scores[0][1])\n"
   ],
   "metadata": {
    "collapsed": false,
    "ExecuteTime": {
     "end_time": "2024-10-03T15:21:42.632530500Z",
     "start_time": "2024-10-03T15:21:42.564510100Z"
    }
   },
   "id": "184d86e643e5f3ef",
   "execution_count": 51
  }
 ],
 "metadata": {
  "kernelspec": {
   "display_name": "Python 3 (ipykernel)",
   "language": "python",
   "name": "python3"
  },
  "language_info": {
   "codemirror_mode": {
    "name": "ipython",
    "version": 3
   },
   "file_extension": ".py",
   "mimetype": "text/x-python",
   "name": "python",
   "nbconvert_exporter": "python",
   "pygments_lexer": "ipython3",
   "version": "3.10.7"
  }
 },
 "nbformat": 4,
 "nbformat_minor": 5
}

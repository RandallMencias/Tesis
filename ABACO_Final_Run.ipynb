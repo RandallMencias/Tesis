{
 "cells": [
  {
   "cell_type": "code",
   "execution_count": 19,
   "id": "initial_id",
   "metadata": {
    "collapsed": true,
    "ExecuteTime": {
     "end_time": "2024-11-01T21:13:48.863324700Z",
     "start_time": "2024-11-01T21:13:48.729885500Z"
    }
   },
   "outputs": [],
   "source": [
    "from Metaheuristicas.fitness_functions import *\n"
   ]
  },
  {
   "cell_type": "code",
   "outputs": [],
   "source": [
    "X, y = load_and_preprocess_data(filename='Resources/SeisBenchV1_v1_1.json')\n"
   ],
   "metadata": {
    "collapsed": false,
    "ExecuteTime": {
     "end_time": "2024-11-01T21:13:48.992063Z",
     "start_time": "2024-11-01T21:13:48.863324700Z"
    }
   },
   "id": "aa2b839a0ac12d0c",
   "execution_count": 20
  },
  {
   "cell_type": "code",
   "outputs": [],
   "source": [
    "from Metaheuristicas.Ant_Colony_Optimization import AdvancedBinaryAntColonyOptimization\n",
    "\n",
    "aco = AdvancedBinaryAntColonyOptimization(n_ants=20, n_best=1, n_iterations=10, decay=0.6, alpha=1, beta=2,\n",
    "                                          local_search_prob=0.15)"
   ],
   "metadata": {
    "collapsed": false,
    "ExecuteTime": {
     "end_time": "2024-11-01T21:13:49.067001Z",
     "start_time": "2024-11-01T21:13:48.992063Z"
    }
   },
   "id": "ca4c77e3ca5f4f79",
   "execution_count": 21
  },
  {
   "cell_type": "markdown",
   "source": [
    "#### Models Naive Bayes and Decision Tree"
   ],
   "metadata": {
    "collapsed": false
   },
   "id": "5aafef1bc4d32ad"
  },
  {
   "cell_type": "code",
   "outputs": [],
   "source": [
    "from sklearn.metrics import accuracy_score, precision_score, recall_score, f1_score, roc_auc_score\n",
    "from sklearn.model_selection import train_test_split\n",
    "from sklearn.ensemble import RandomForestClassifier\n",
    "from sklearn.naive_bayes import GaussianNB\n",
    "\n",
    "NB = GaussianNB()\n",
    "DT = RandomForestClassifier()\n",
    "\n",
    "#dataset split\n",
    "\n",
    "X_train, X_test, y_train, y_test = train_test_split(X, y, test_size=0.3, random_state=42)\n"
   ],
   "metadata": {
    "collapsed": false,
    "ExecuteTime": {
     "end_time": "2024-11-01T21:13:49.138381400Z",
     "start_time": "2024-11-01T21:13:49.067001Z"
    }
   },
   "id": "1cad8f015c03fd6a",
   "execution_count": 22
  },
  {
   "cell_type": "markdown",
   "source": [
    "# ABACO with Mutual Information\n"
   ],
   "metadata": {
    "collapsed": false
   },
   "id": "fdacfe27fc6bf19f"
  },
  {
   "cell_type": "code",
   "outputs": [],
   "source": [
    "#TODO: checar parametros\n",
    "aco = AdvancedBinaryAntColonyOptimization(n_ants=20, n_best=1, n_iterations=500, decay=0.6, alpha=1, beta=2,local_search_prob=0.15)\n",
    "bestfeatures, best_fitness = aco.fit(X.values, y.values, fitness_function=mutual_information_eval)\n",
    "ACMIFeatures = X.columns[bestfeatures.astype(bool)].tolist()\n"
   ],
   "metadata": {
    "collapsed": false,
    "ExecuteTime": {
     "end_time": "2024-11-01T21:37:48.866259Z",
     "start_time": "2024-11-01T21:13:49.141391700Z"
    }
   },
   "id": "27afb8be55ef518",
   "execution_count": 23
  },
  {
   "cell_type": "markdown",
   "source": [],
   "metadata": {
    "collapsed": false
   },
   "id": "3d70ef55f40a1139"
  },
  {
   "cell_type": "code",
   "outputs": [
    {
     "name": "stdout",
     "output_type": "stream",
     "text": [
      "Accuracy: 0.9534883720930233\n",
      "Precision: 0.6129032258064516\n",
      "Recall: 0.8260869565217391\n",
      "F1: 0.7037037037037037\n",
      "AUC: 0.8943518894758229\n"
     ]
    }
   ],
   "source": [
    "NB.fit(X_train[ACMIFeatures], y_train)\n",
    "\n",
    "y_pred = NB.predict(X_test[ACMIFeatures])\n",
    "\n",
    "print(\"Accuracy:\", accuracy_score(y_test, y_pred))\n",
    "print(\"Precision:\", precision_score(y_test, y_pred))\n",
    "print(\"Recall:\", recall_score(y_test, y_pred))\n",
    "print(\"F1:\", f1_score(y_test, y_pred))\n",
    "print(\"AUC:\", roc_auc_score(y_test, y_pred))\n"
   ],
   "metadata": {
    "collapsed": false,
    "ExecuteTime": {
     "end_time": "2024-11-01T21:37:48.880226700Z",
     "start_time": "2024-11-01T21:37:48.869566300Z"
    }
   },
   "id": "e222b27f3bfd73ff",
   "execution_count": 24
  },
  {
   "cell_type": "code",
   "outputs": [
    {
     "name": "stdout",
     "output_type": "stream",
     "text": [
      "Accuracy: 0.9651162790697675\n",
      "Precision: 0.7619047619047619\n",
      "Recall: 0.6956521739130435\n",
      "F1: 0.7272727272727273\n",
      "AUC: 0.8400379249627523\n"
     ]
    }
   ],
   "source": [
    "DT.fit(X_train[ACMIFeatures], y_train)\n",
    "\n",
    "y_pred = DT.predict(X_test[ACMIFeatures])\n",
    "\n",
    "print(\"Accuracy:\", accuracy_score(y_test, y_pred))\n",
    "print(\"Precision:\", precision_score(y_test, y_pred))\n",
    "print(\"Recall:\", recall_score(y_test, y_pred))\n",
    "print(\"F1:\", f1_score(y_test, y_pred))\n",
    "print(\"AUC:\", roc_auc_score(y_test, y_pred))"
   ],
   "metadata": {
    "collapsed": false,
    "ExecuteTime": {
     "end_time": "2024-11-01T21:37:49.114356300Z",
     "start_time": "2024-11-01T21:37:48.880226700Z"
    }
   },
   "id": "cfa13e64f7f8fae8",
   "execution_count": 25
  },
  {
   "cell_type": "code",
   "outputs": [],
   "source": [],
   "metadata": {
    "collapsed": false,
    "ExecuteTime": {
     "end_time": "2024-11-01T21:37:49.117564600Z",
     "start_time": "2024-11-01T21:37:49.115342300Z"
    }
   },
   "id": "51304443ad03086a",
   "execution_count": 25
  },
  {
   "cell_type": "markdown",
   "source": [],
   "metadata": {
    "collapsed": false
   },
   "id": "6499cf3717ea9c88"
  },
  {
   "cell_type": "markdown",
   "source": [
    "# ABACO with Chi2"
   ],
   "metadata": {
    "collapsed": false
   },
   "id": "738f5b3837eb3232"
  },
  {
   "cell_type": "code",
   "outputs": [],
   "source": [
    "aco = AdvancedBinaryAntColonyOptimization(n_ants=20, n_best=1, n_iterations=500, decay=0.6, alpha=1, beta=2,local_search_prob=0.15)\n",
    "\n",
    "bestfeatures, best_fitness = aco.fit(X.values, y.values, fitness_function=chi2_eval)\n",
    "ACX2Features = X.columns[bestfeatures.astype(bool)].tolist()"
   ],
   "metadata": {
    "collapsed": false,
    "ExecuteTime": {
     "end_time": "2024-11-01T21:48:56.730613900Z",
     "start_time": "2024-11-01T21:37:49.117564600Z"
    }
   },
   "id": "a9ad1ed17eba54f5",
   "execution_count": 26
  },
  {
   "cell_type": "code",
   "outputs": [
    {
     "name": "stdout",
     "output_type": "stream",
     "text": [
      "Accuracy: 0.9476744186046512\n",
      "Precision: 0.5862068965517241\n",
      "Recall: 0.7391304347826086\n",
      "F1: 0.6538461538461539\n",
      "AUC: 0.8508736286062576\n"
     ]
    }
   ],
   "source": [
    "NB.fit(X_train[ACX2Features], y_train)\n",
    "y_pred = NB.predict(X_test[ACX2Features])\n",
    "\n",
    "print(\"Accuracy:\", accuracy_score(y_test, y_pred))\n",
    "print(\"Precision:\", precision_score(y_test, y_pred))\n",
    "print(\"Recall:\", recall_score(y_test, y_pred))\n",
    "print(\"F1:\", f1_score(y_test, y_pred))\n",
    "print(\"AUC:\", roc_auc_score(y_test, y_pred))"
   ],
   "metadata": {
    "collapsed": false,
    "ExecuteTime": {
     "end_time": "2024-11-01T21:48:56.744566200Z",
     "start_time": "2024-11-01T21:48:56.731730700Z"
    }
   },
   "id": "bddacde3cb4a9024",
   "execution_count": 27
  },
  {
   "cell_type": "code",
   "outputs": [
    {
     "name": "stdout",
     "output_type": "stream",
     "text": [
      "Accuracy: 0.9709302325581395\n",
      "Precision: 0.8421052631578947\n",
      "Recall: 0.6956521739130435\n",
      "F1: 0.7619047619047619\n",
      "AUC: 0.8431531897602601\n"
     ]
    }
   ],
   "source": [
    "DT.fit(X_train[ACX2Features], y_train)\n",
    "y_pred = DT.predict(X_test[ACX2Features])\n",
    "\n",
    "print(\"Accuracy:\", accuracy_score(y_test, y_pred))\n",
    "print(\"Precision:\", precision_score(y_test, y_pred))\n",
    "print(\"Recall:\", recall_score(y_test, y_pred))\n",
    "print(\"F1:\", f1_score(y_test, y_pred))\n",
    "print(\"AUC:\", roc_auc_score(y_test, y_pred))"
   ],
   "metadata": {
    "collapsed": false,
    "ExecuteTime": {
     "end_time": "2024-11-01T21:48:56.973446500Z",
     "start_time": "2024-11-01T21:48:56.744566200Z"
    }
   },
   "id": "7b6f2fb86e8ce7f8",
   "execution_count": 28
  },
  {
   "cell_type": "markdown",
   "source": [
    "# ABACO with ReliefF"
   ],
   "metadata": {
    "collapsed": false
   },
   "id": "44bea2b37508966a"
  },
  {
   "cell_type": "code",
   "outputs": [],
   "source": [
    "aco = AdvancedBinaryAntColonyOptimization(n_ants=20, n_best=1, n_iterations=500, decay=0.6, alpha=1, beta=2,local_search_prob=0.15)\n",
    "\n",
    "bestfeatures, best_fitness = aco.fit(X.values, y.values, fitness_function=relieff_eval)\n",
    "ACRFeatures = X.columns[bestfeatures.astype(bool)].tolist()"
   ],
   "metadata": {
    "collapsed": false,
    "ExecuteTime": {
     "end_time": "2024-11-01T22:09:26.827840600Z",
     "start_time": "2024-11-01T21:48:56.973446500Z"
    }
   },
   "id": "37f89a6d5cfdb864",
   "execution_count": 29
  },
  {
   "cell_type": "markdown",
   "source": [],
   "metadata": {
    "collapsed": false
   },
   "id": "c857cc136f8f20c5"
  },
  {
   "cell_type": "code",
   "outputs": [
    {
     "name": "stdout",
     "output_type": "stream",
     "text": [
      "Accuracy: 0.9302325581395349\n",
      "Precision: 0.48484848484848486\n",
      "Recall: 0.6956521739130435\n",
      "F1: 0.5714285714285714\n",
      "AUC: 0.8213463361777056\n"
     ]
    }
   ],
   "source": [
    "NB.fit(X_train[ACRFeatures], y_train)\n",
    "y_pred = NB.predict(X_test[ACRFeatures])\n",
    "\n",
    "print(\"Accuracy:\", accuracy_score(y_test, y_pred))\n",
    "print(\"Precision:\", precision_score(y_test, y_pred))\n",
    "print(\"Recall:\", recall_score(y_test, y_pred))\n",
    "print(\"F1:\", f1_score(y_test, y_pred))\n",
    "print(\"AUC:\", roc_auc_score(y_test, y_pred))"
   ],
   "metadata": {
    "collapsed": false,
    "ExecuteTime": {
     "end_time": "2024-11-01T22:09:26.848869800Z",
     "start_time": "2024-11-01T22:09:26.831560500Z"
    }
   },
   "id": "c18092371a5c95ee",
   "execution_count": 30
  },
  {
   "cell_type": "code",
   "outputs": [
    {
     "name": "stdout",
     "output_type": "stream",
     "text": [
      "Accuracy: 0.9563953488372093\n",
      "Precision: 0.7\n",
      "Recall: 0.6086956521739131\n",
      "F1: 0.6511627906976745\n",
      "AUC: 0.7950020316944332\n"
     ]
    }
   ],
   "source": [
    "DT.fit(X_train[ACRFeatures], y_train)\n",
    "y_pred = DT.predict(X_test[ACRFeatures])\n",
    "\n",
    "print(\"Accuracy:\", accuracy_score(y_test, y_pred))\n",
    "print(\"Precision:\", precision_score(y_test, y_pred))\n",
    "print(\"Recall:\", recall_score(y_test, y_pred))\n",
    "print(\"F1:\", f1_score(y_test, y_pred))\n",
    "print(\"AUC:\", roc_auc_score(y_test, y_pred))"
   ],
   "metadata": {
    "collapsed": false,
    "ExecuteTime": {
     "end_time": "2024-11-01T22:09:27.066662700Z",
     "start_time": "2024-11-01T22:09:26.849871500Z"
    }
   },
   "id": "8f03dc90075b09ea",
   "execution_count": 31
  },
  {
   "cell_type": "markdown",
   "source": [
    "## Red Neuronal\n"
   ],
   "metadata": {
    "collapsed": false
   },
   "id": "c0fbf5b3e5c28f6f"
  },
  {
   "cell_type": "code",
   "outputs": [],
   "source": [
    "\n",
    "from tensorflow.keras.models import Sequential\n",
    "from tensorflow.keras.layers import Dense\n",
    "from tensorflow.keras.optimizers import Adam\n",
    "from tensorflow.keras.losses import BinaryCrossentropy"
   ],
   "metadata": {
    "collapsed": false,
    "ExecuteTime": {
     "end_time": "2024-11-01T22:09:27.074083900Z",
     "start_time": "2024-11-01T22:09:27.067662600Z"
    }
   },
   "id": "7bca53201b5fe940",
   "execution_count": 32
  },
  {
   "cell_type": "markdown",
   "source": [
    "MUTUAL_INFORMATION "
   ],
   "metadata": {
    "collapsed": false
   },
   "id": "6730803a5695bad8"
  },
  {
   "cell_type": "code",
   "outputs": [
    {
     "name": "stdout",
     "output_type": "stream",
     "text": [
      "Epoch 1/100\n",
      "\u001B[1m20/20\u001B[0m \u001B[32m━━━━━━━━━━━━━━━━━━━━\u001B[0m\u001B[37m\u001B[0m \u001B[1m1s\u001B[0m 6ms/step - accuracy: 0.9266 - loss: 0.5201 - val_accuracy: 0.9193 - val_loss: 0.3379\n",
      "Epoch 2/100\n",
      "\u001B[1m20/20\u001B[0m \u001B[32m━━━━━━━━━━━━━━━━━━━━\u001B[0m\u001B[37m\u001B[0m \u001B[1m0s\u001B[0m 2ms/step - accuracy: 0.9123 - loss: 0.3303 - val_accuracy: 0.9193 - val_loss: 0.2448\n",
      "Epoch 3/100\n",
      "\u001B[1m20/20\u001B[0m \u001B[32m━━━━━━━━━━━━━━━━━━━━\u001B[0m\u001B[37m\u001B[0m \u001B[1m0s\u001B[0m 2ms/step - accuracy: 0.8958 - loss: 0.2929 - val_accuracy: 0.9193 - val_loss: 0.2118\n",
      "Epoch 4/100\n",
      "\u001B[1m20/20\u001B[0m \u001B[32m━━━━━━━━━━━━━━━━━━━━\u001B[0m\u001B[37m\u001B[0m \u001B[1m0s\u001B[0m 2ms/step - accuracy: 0.9004 - loss: 0.2387 - val_accuracy: 0.9193 - val_loss: 0.1794\n",
      "Epoch 5/100\n",
      "\u001B[1m20/20\u001B[0m \u001B[32m━━━━━━━━━━━━━━━━━━━━\u001B[0m\u001B[37m\u001B[0m \u001B[1m0s\u001B[0m 2ms/step - accuracy: 0.9232 - loss: 0.1803 - val_accuracy: 0.9317 - val_loss: 0.1500\n",
      "Epoch 6/100\n",
      "\u001B[1m20/20\u001B[0m \u001B[32m━━━━━━━━━━━━━━━━━━━━\u001B[0m\u001B[37m\u001B[0m \u001B[1m0s\u001B[0m 2ms/step - accuracy: 0.9465 - loss: 0.1457 - val_accuracy: 0.9379 - val_loss: 0.1290\n",
      "Epoch 7/100\n",
      "\u001B[1m20/20\u001B[0m \u001B[32m━━━━━━━━━━━━━━━━━━━━\u001B[0m\u001B[37m\u001B[0m \u001B[1m0s\u001B[0m 2ms/step - accuracy: 0.9499 - loss: 0.1233 - val_accuracy: 0.9441 - val_loss: 0.1177\n",
      "Epoch 8/100\n",
      "\u001B[1m20/20\u001B[0m \u001B[32m━━━━━━━━━━━━━━━━━━━━\u001B[0m\u001B[37m\u001B[0m \u001B[1m0s\u001B[0m 2ms/step - accuracy: 0.9584 - loss: 0.1043 - val_accuracy: 0.9503 - val_loss: 0.1106\n",
      "Epoch 9/100\n",
      "\u001B[1m20/20\u001B[0m \u001B[32m━━━━━━━━━━━━━━━━━━━━\u001B[0m\u001B[37m\u001B[0m \u001B[1m0s\u001B[0m 2ms/step - accuracy: 0.9518 - loss: 0.1236 - val_accuracy: 0.9503 - val_loss: 0.1109\n",
      "Epoch 10/100\n",
      "\u001B[1m20/20\u001B[0m \u001B[32m━━━━━━━━━━━━━━━━━━━━\u001B[0m\u001B[37m\u001B[0m \u001B[1m0s\u001B[0m 2ms/step - accuracy: 0.9637 - loss: 0.0941 - val_accuracy: 0.9565 - val_loss: 0.1094\n",
      "Epoch 11/100\n",
      "\u001B[1m20/20\u001B[0m \u001B[32m━━━━━━━━━━━━━━━━━━━━\u001B[0m\u001B[37m\u001B[0m \u001B[1m0s\u001B[0m 2ms/step - accuracy: 0.9592 - loss: 0.1020 - val_accuracy: 0.9752 - val_loss: 0.1022\n",
      "Epoch 12/100\n",
      "\u001B[1m20/20\u001B[0m \u001B[32m━━━━━━━━━━━━━━━━━━━━\u001B[0m\u001B[37m\u001B[0m \u001B[1m0s\u001B[0m 2ms/step - accuracy: 0.9689 - loss: 0.0860 - val_accuracy: 0.9565 - val_loss: 0.1051\n",
      "Epoch 13/100\n",
      "\u001B[1m20/20\u001B[0m \u001B[32m━━━━━━━━━━━━━━━━━━━━\u001B[0m\u001B[37m\u001B[0m \u001B[1m0s\u001B[0m 2ms/step - accuracy: 0.9701 - loss: 0.0852 - val_accuracy: 0.9689 - val_loss: 0.1031\n",
      "Epoch 14/100\n",
      "\u001B[1m20/20\u001B[0m \u001B[32m━━━━━━━━━━━━━━━━━━━━\u001B[0m\u001B[37m\u001B[0m \u001B[1m0s\u001B[0m 2ms/step - accuracy: 0.9606 - loss: 0.1009 - val_accuracy: 0.9689 - val_loss: 0.1014\n",
      "Epoch 15/100\n",
      "\u001B[1m20/20\u001B[0m \u001B[32m━━━━━━━━━━━━━━━━━━━━\u001B[0m\u001B[37m\u001B[0m \u001B[1m0s\u001B[0m 2ms/step - accuracy: 0.9673 - loss: 0.0843 - val_accuracy: 0.9565 - val_loss: 0.1046\n",
      "Epoch 16/100\n",
      "\u001B[1m20/20\u001B[0m \u001B[32m━━━━━━━━━━━━━━━━━━━━\u001B[0m\u001B[37m\u001B[0m \u001B[1m0s\u001B[0m 2ms/step - accuracy: 0.9649 - loss: 0.0765 - val_accuracy: 0.9752 - val_loss: 0.0995\n",
      "Epoch 17/100\n",
      "\u001B[1m20/20\u001B[0m \u001B[32m━━━━━━━━━━━━━━━━━━━━\u001B[0m\u001B[37m\u001B[0m \u001B[1m0s\u001B[0m 2ms/step - accuracy: 0.9835 - loss: 0.0583 - val_accuracy: 0.9752 - val_loss: 0.0993\n",
      "Epoch 18/100\n",
      "\u001B[1m20/20\u001B[0m \u001B[32m━━━━━━━━━━━━━━━━━━━━\u001B[0m\u001B[37m\u001B[0m \u001B[1m0s\u001B[0m 2ms/step - accuracy: 0.9575 - loss: 0.0979 - val_accuracy: 0.9689 - val_loss: 0.1014\n",
      "Epoch 19/100\n",
      "\u001B[1m20/20\u001B[0m \u001B[32m━━━━━━━━━━━━━━━━━━━━\u001B[0m\u001B[37m\u001B[0m \u001B[1m0s\u001B[0m 2ms/step - accuracy: 0.9632 - loss: 0.0807 - val_accuracy: 0.9689 - val_loss: 0.0966\n",
      "Epoch 20/100\n",
      "\u001B[1m20/20\u001B[0m \u001B[32m━━━━━━━━━━━━━━━━━━━━\u001B[0m\u001B[37m\u001B[0m \u001B[1m0s\u001B[0m 2ms/step - accuracy: 0.9491 - loss: 0.1150 - val_accuracy: 0.9627 - val_loss: 0.1016\n",
      "Epoch 21/100\n",
      "\u001B[1m20/20\u001B[0m \u001B[32m━━━━━━━━━━━━━━━━━━━━\u001B[0m\u001B[37m\u001B[0m \u001B[1m0s\u001B[0m 2ms/step - accuracy: 0.9582 - loss: 0.0991 - val_accuracy: 0.9689 - val_loss: 0.1013\n",
      "Epoch 22/100\n",
      "\u001B[1m20/20\u001B[0m \u001B[32m━━━━━━━━━━━━━━━━━━━━\u001B[0m\u001B[37m\u001B[0m \u001B[1m0s\u001B[0m 2ms/step - accuracy: 0.9523 - loss: 0.0979 - val_accuracy: 0.9689 - val_loss: 0.0961\n",
      "Epoch 23/100\n",
      "\u001B[1m20/20\u001B[0m \u001B[32m━━━━━━━━━━━━━━━━━━━━\u001B[0m\u001B[37m\u001B[0m \u001B[1m0s\u001B[0m 2ms/step - accuracy: 0.9761 - loss: 0.0717 - val_accuracy: 0.9752 - val_loss: 0.1005\n",
      "Epoch 24/100\n",
      "\u001B[1m20/20\u001B[0m \u001B[32m━━━━━━━━━━━━━━━━━━━━\u001B[0m\u001B[37m\u001B[0m \u001B[1m0s\u001B[0m 2ms/step - accuracy: 0.9652 - loss: 0.0840 - val_accuracy: 0.9752 - val_loss: 0.1024\n",
      "Epoch 25/100\n",
      "\u001B[1m20/20\u001B[0m \u001B[32m━━━━━━━━━━━━━━━━━━━━\u001B[0m\u001B[37m\u001B[0m \u001B[1m0s\u001B[0m 2ms/step - accuracy: 0.9607 - loss: 0.0959 - val_accuracy: 0.9752 - val_loss: 0.1005\n",
      "Epoch 26/100\n",
      "\u001B[1m20/20\u001B[0m \u001B[32m━━━━━━━━━━━━━━━━━━━━\u001B[0m\u001B[37m\u001B[0m \u001B[1m0s\u001B[0m 2ms/step - accuracy: 0.9640 - loss: 0.0882 - val_accuracy: 0.9689 - val_loss: 0.0955\n",
      "Epoch 27/100\n",
      "\u001B[1m20/20\u001B[0m \u001B[32m━━━━━━━━━━━━━━━━━━━━\u001B[0m\u001B[37m\u001B[0m \u001B[1m0s\u001B[0m 2ms/step - accuracy: 0.9620 - loss: 0.0747 - val_accuracy: 0.9627 - val_loss: 0.1081\n",
      "Epoch 28/100\n",
      "\u001B[1m20/20\u001B[0m \u001B[32m━━━━━━━━━━━━━━━━━━━━\u001B[0m\u001B[37m\u001B[0m \u001B[1m0s\u001B[0m 2ms/step - accuracy: 0.9663 - loss: 0.0715 - val_accuracy: 0.9689 - val_loss: 0.0957\n",
      "Epoch 29/100\n",
      "\u001B[1m20/20\u001B[0m \u001B[32m━━━━━━━━━━━━━━━━━━━━\u001B[0m\u001B[37m\u001B[0m \u001B[1m0s\u001B[0m 2ms/step - accuracy: 0.9718 - loss: 0.0774 - val_accuracy: 0.9565 - val_loss: 0.1209\n",
      "Epoch 30/100\n",
      "\u001B[1m20/20\u001B[0m \u001B[32m━━━━━━━━━━━━━━━━━━━━\u001B[0m\u001B[37m\u001B[0m \u001B[1m0s\u001B[0m 2ms/step - accuracy: 0.9685 - loss: 0.0750 - val_accuracy: 0.9689 - val_loss: 0.0981\n",
      "Epoch 31/100\n",
      "\u001B[1m20/20\u001B[0m \u001B[32m━━━━━━━━━━━━━━━━━━━━\u001B[0m\u001B[37m\u001B[0m \u001B[1m0s\u001B[0m 2ms/step - accuracy: 0.9648 - loss: 0.0979 - val_accuracy: 0.9627 - val_loss: 0.1058\n",
      "Epoch 32/100\n",
      "\u001B[1m20/20\u001B[0m \u001B[32m━━━━━━━━━━━━━━━━━━━━\u001B[0m\u001B[37m\u001B[0m \u001B[1m0s\u001B[0m 2ms/step - accuracy: 0.9566 - loss: 0.0857 - val_accuracy: 0.9689 - val_loss: 0.0992\n",
      "Epoch 33/100\n",
      "\u001B[1m20/20\u001B[0m \u001B[32m━━━━━━━━━━━━━━━━━━━━\u001B[0m\u001B[37m\u001B[0m \u001B[1m0s\u001B[0m 2ms/step - accuracy: 0.9721 - loss: 0.0803 - val_accuracy: 0.9689 - val_loss: 0.1001\n",
      "Epoch 34/100\n",
      "\u001B[1m20/20\u001B[0m \u001B[32m━━━━━━━━━━━━━━━━━━━━\u001B[0m\u001B[37m\u001B[0m \u001B[1m0s\u001B[0m 2ms/step - accuracy: 0.9729 - loss: 0.0661 - val_accuracy: 0.9689 - val_loss: 0.0967\n",
      "Epoch 35/100\n",
      "\u001B[1m20/20\u001B[0m \u001B[32m━━━━━━━━━━━━━━━━━━━━\u001B[0m\u001B[37m\u001B[0m \u001B[1m0s\u001B[0m 2ms/step - accuracy: 0.9781 - loss: 0.0696 - val_accuracy: 0.9752 - val_loss: 0.1025\n",
      "Epoch 36/100\n",
      "\u001B[1m20/20\u001B[0m \u001B[32m━━━━━━━━━━━━━━━━━━━━\u001B[0m\u001B[37m\u001B[0m \u001B[1m0s\u001B[0m 2ms/step - accuracy: 0.9693 - loss: 0.0660 - val_accuracy: 0.9689 - val_loss: 0.1010\n",
      "Epoch 37/100\n",
      "\u001B[1m20/20\u001B[0m \u001B[32m━━━━━━━━━━━━━━━━━━━━\u001B[0m\u001B[37m\u001B[0m \u001B[1m0s\u001B[0m 2ms/step - accuracy: 0.9727 - loss: 0.0731 - val_accuracy: 0.9752 - val_loss: 0.1036\n",
      "Epoch 38/100\n",
      "\u001B[1m20/20\u001B[0m \u001B[32m━━━━━━━━━━━━━━━━━━━━\u001B[0m\u001B[37m\u001B[0m \u001B[1m0s\u001B[0m 2ms/step - accuracy: 0.9760 - loss: 0.0627 - val_accuracy: 0.9689 - val_loss: 0.0979\n",
      "Epoch 39/100\n",
      "\u001B[1m20/20\u001B[0m \u001B[32m━━━━━━━━━━━━━━━━━━━━\u001B[0m\u001B[37m\u001B[0m \u001B[1m0s\u001B[0m 2ms/step - accuracy: 0.9733 - loss: 0.0640 - val_accuracy: 0.9752 - val_loss: 0.1056\n",
      "Epoch 40/100\n",
      "\u001B[1m20/20\u001B[0m \u001B[32m━━━━━━━━━━━━━━━━━━━━\u001B[0m\u001B[37m\u001B[0m \u001B[1m0s\u001B[0m 2ms/step - accuracy: 0.9790 - loss: 0.0568 - val_accuracy: 0.9689 - val_loss: 0.0972\n",
      "Epoch 41/100\n",
      "\u001B[1m20/20\u001B[0m \u001B[32m━━━━━━━━━━━━━━━━━━━━\u001B[0m\u001B[37m\u001B[0m \u001B[1m0s\u001B[0m 2ms/step - accuracy: 0.9786 - loss: 0.0568 - val_accuracy: 0.9752 - val_loss: 0.1062\n",
      "Epoch 42/100\n",
      "\u001B[1m20/20\u001B[0m \u001B[32m━━━━━━━━━━━━━━━━━━━━\u001B[0m\u001B[37m\u001B[0m \u001B[1m0s\u001B[0m 2ms/step - accuracy: 0.9696 - loss: 0.0744 - val_accuracy: 0.9689 - val_loss: 0.0992\n",
      "Epoch 43/100\n",
      "\u001B[1m20/20\u001B[0m \u001B[32m━━━━━━━━━━━━━━━━━━━━\u001B[0m\u001B[37m\u001B[0m \u001B[1m0s\u001B[0m 2ms/step - accuracy: 0.9675 - loss: 0.0706 - val_accuracy: 0.9689 - val_loss: 0.1011\n",
      "Epoch 44/100\n",
      "\u001B[1m20/20\u001B[0m \u001B[32m━━━━━━━━━━━━━━━━━━━━\u001B[0m\u001B[37m\u001B[0m \u001B[1m0s\u001B[0m 2ms/step - accuracy: 0.9766 - loss: 0.0744 - val_accuracy: 0.9689 - val_loss: 0.0974\n",
      "Epoch 45/100\n",
      "\u001B[1m20/20\u001B[0m \u001B[32m━━━━━━━━━━━━━━━━━━━━\u001B[0m\u001B[37m\u001B[0m \u001B[1m0s\u001B[0m 2ms/step - accuracy: 0.9812 - loss: 0.0627 - val_accuracy: 0.9689 - val_loss: 0.1063\n",
      "Epoch 46/100\n",
      "\u001B[1m20/20\u001B[0m \u001B[32m━━━━━━━━━━━━━━━━━━━━\u001B[0m\u001B[37m\u001B[0m \u001B[1m0s\u001B[0m 2ms/step - accuracy: 0.9711 - loss: 0.0700 - val_accuracy: 0.9689 - val_loss: 0.1011\n",
      "Epoch 47/100\n",
      "\u001B[1m20/20\u001B[0m \u001B[32m━━━━━━━━━━━━━━━━━━━━\u001B[0m\u001B[37m\u001B[0m \u001B[1m0s\u001B[0m 2ms/step - accuracy: 0.9684 - loss: 0.0816 - val_accuracy: 0.9689 - val_loss: 0.1022\n",
      "Epoch 48/100\n",
      "\u001B[1m20/20\u001B[0m \u001B[32m━━━━━━━━━━━━━━━━━━━━\u001B[0m\u001B[37m\u001B[0m \u001B[1m0s\u001B[0m 2ms/step - accuracy: 0.9737 - loss: 0.0755 - val_accuracy: 0.9689 - val_loss: 0.1025\n",
      "Epoch 49/100\n",
      "\u001B[1m20/20\u001B[0m \u001B[32m━━━━━━━━━━━━━━━━━━━━\u001B[0m\u001B[37m\u001B[0m \u001B[1m0s\u001B[0m 2ms/step - accuracy: 0.9763 - loss: 0.0643 - val_accuracy: 0.9689 - val_loss: 0.0987\n",
      "Epoch 50/100\n",
      "\u001B[1m20/20\u001B[0m \u001B[32m━━━━━━━━━━━━━━━━━━━━\u001B[0m\u001B[37m\u001B[0m \u001B[1m0s\u001B[0m 2ms/step - accuracy: 0.9770 - loss: 0.0704 - val_accuracy: 0.9689 - val_loss: 0.0999\n",
      "Epoch 51/100\n",
      "\u001B[1m20/20\u001B[0m \u001B[32m━━━━━━━━━━━━━━━━━━━━\u001B[0m\u001B[37m\u001B[0m \u001B[1m0s\u001B[0m 2ms/step - accuracy: 0.9680 - loss: 0.0740 - val_accuracy: 0.9689 - val_loss: 0.1006\n",
      "Epoch 52/100\n",
      "\u001B[1m20/20\u001B[0m \u001B[32m━━━━━━━━━━━━━━━━━━━━\u001B[0m\u001B[37m\u001B[0m \u001B[1m0s\u001B[0m 2ms/step - accuracy: 0.9789 - loss: 0.0649 - val_accuracy: 0.9689 - val_loss: 0.1044\n",
      "Epoch 53/100\n",
      "\u001B[1m20/20\u001B[0m \u001B[32m━━━━━━━━━━━━━━━━━━━━\u001B[0m\u001B[37m\u001B[0m \u001B[1m0s\u001B[0m 2ms/step - accuracy: 0.9670 - loss: 0.0842 - val_accuracy: 0.9689 - val_loss: 0.1045\n",
      "Epoch 54/100\n",
      "\u001B[1m20/20\u001B[0m \u001B[32m━━━━━━━━━━━━━━━━━━━━\u001B[0m\u001B[37m\u001B[0m \u001B[1m0s\u001B[0m 2ms/step - accuracy: 0.9699 - loss: 0.0689 - val_accuracy: 0.9689 - val_loss: 0.1003\n",
      "Epoch 55/100\n",
      "\u001B[1m20/20\u001B[0m \u001B[32m━━━━━━━━━━━━━━━━━━━━\u001B[0m\u001B[37m\u001B[0m \u001B[1m0s\u001B[0m 2ms/step - accuracy: 0.9793 - loss: 0.0571 - val_accuracy: 0.9689 - val_loss: 0.1082\n",
      "Epoch 56/100\n",
      "\u001B[1m20/20\u001B[0m \u001B[32m━━━━━━━━━━━━━━━━━━━━\u001B[0m\u001B[37m\u001B[0m \u001B[1m0s\u001B[0m 2ms/step - accuracy: 0.9701 - loss: 0.0719 - val_accuracy: 0.9689 - val_loss: 0.1008\n",
      "Epoch 57/100\n",
      "\u001B[1m20/20\u001B[0m \u001B[32m━━━━━━━━━━━━━━━━━━━━\u001B[0m\u001B[37m\u001B[0m \u001B[1m0s\u001B[0m 2ms/step - accuracy: 0.9745 - loss: 0.0650 - val_accuracy: 0.9689 - val_loss: 0.1081\n",
      "Epoch 58/100\n",
      "\u001B[1m20/20\u001B[0m \u001B[32m━━━━━━━━━━━━━━━━━━━━\u001B[0m\u001B[37m\u001B[0m \u001B[1m0s\u001B[0m 2ms/step - accuracy: 0.9711 - loss: 0.0686 - val_accuracy: 0.9689 - val_loss: 0.1098\n",
      "Epoch 59/100\n",
      "\u001B[1m20/20\u001B[0m \u001B[32m━━━━━━━━━━━━━━━━━━━━\u001B[0m\u001B[37m\u001B[0m \u001B[1m0s\u001B[0m 2ms/step - accuracy: 0.9670 - loss: 0.0604 - val_accuracy: 0.9689 - val_loss: 0.1052\n",
      "Epoch 60/100\n",
      "\u001B[1m20/20\u001B[0m \u001B[32m━━━━━━━━━━━━━━━━━━━━\u001B[0m\u001B[37m\u001B[0m \u001B[1m0s\u001B[0m 2ms/step - accuracy: 0.9871 - loss: 0.0481 - val_accuracy: 0.9689 - val_loss: 0.1039\n",
      "Epoch 61/100\n",
      "\u001B[1m20/20\u001B[0m \u001B[32m━━━━━━━━━━━━━━━━━━━━\u001B[0m\u001B[37m\u001B[0m \u001B[1m0s\u001B[0m 2ms/step - accuracy: 0.9720 - loss: 0.0827 - val_accuracy: 0.9627 - val_loss: 0.1193\n",
      "Epoch 62/100\n",
      "\u001B[1m20/20\u001B[0m \u001B[32m━━━━━━━━━━━━━━━━━━━━\u001B[0m\u001B[37m\u001B[0m \u001B[1m0s\u001B[0m 2ms/step - accuracy: 0.9694 - loss: 0.0665 - val_accuracy: 0.9689 - val_loss: 0.1052\n",
      "Epoch 63/100\n",
      "\u001B[1m20/20\u001B[0m \u001B[32m━━━━━━━━━━━━━━━━━━━━\u001B[0m\u001B[37m\u001B[0m \u001B[1m0s\u001B[0m 2ms/step - accuracy: 0.9802 - loss: 0.0538 - val_accuracy: 0.9689 - val_loss: 0.1014\n",
      "Epoch 64/100\n",
      "\u001B[1m20/20\u001B[0m \u001B[32m━━━━━━━━━━━━━━━━━━━━\u001B[0m\u001B[37m\u001B[0m \u001B[1m0s\u001B[0m 2ms/step - accuracy: 0.9825 - loss: 0.0474 - val_accuracy: 0.9689 - val_loss: 0.1033\n",
      "Epoch 65/100\n",
      "\u001B[1m20/20\u001B[0m \u001B[32m━━━━━━━━━━━━━━━━━━━━\u001B[0m\u001B[37m\u001B[0m \u001B[1m0s\u001B[0m 2ms/step - accuracy: 0.9749 - loss: 0.0822 - val_accuracy: 0.9689 - val_loss: 0.1074\n",
      "Epoch 66/100\n",
      "\u001B[1m20/20\u001B[0m \u001B[32m━━━━━━━━━━━━━━━━━━━━\u001B[0m\u001B[37m\u001B[0m \u001B[1m0s\u001B[0m 2ms/step - accuracy: 0.9853 - loss: 0.0473 - val_accuracy: 0.9689 - val_loss: 0.1084\n",
      "Epoch 67/100\n",
      "\u001B[1m20/20\u001B[0m \u001B[32m━━━━━━━━━━━━━━━━━━━━\u001B[0m\u001B[37m\u001B[0m \u001B[1m0s\u001B[0m 2ms/step - accuracy: 0.9807 - loss: 0.0523 - val_accuracy: 0.9689 - val_loss: 0.1071\n",
      "Epoch 68/100\n",
      "\u001B[1m20/20\u001B[0m \u001B[32m━━━━━━━━━━━━━━━━━━━━\u001B[0m\u001B[37m\u001B[0m \u001B[1m0s\u001B[0m 2ms/step - accuracy: 0.9727 - loss: 0.0690 - val_accuracy: 0.9689 - val_loss: 0.1000\n",
      "Epoch 69/100\n",
      "\u001B[1m20/20\u001B[0m \u001B[32m━━━━━━━━━━━━━━━━━━━━\u001B[0m\u001B[37m\u001B[0m \u001B[1m0s\u001B[0m 2ms/step - accuracy: 0.9720 - loss: 0.0745 - val_accuracy: 0.9689 - val_loss: 0.1099\n",
      "Epoch 70/100\n",
      "\u001B[1m20/20\u001B[0m \u001B[32m━━━━━━━━━━━━━━━━━━━━\u001B[0m\u001B[37m\u001B[0m \u001B[1m0s\u001B[0m 2ms/step - accuracy: 0.9848 - loss: 0.0559 - val_accuracy: 0.9689 - val_loss: 0.1090\n",
      "Epoch 71/100\n",
      "\u001B[1m20/20\u001B[0m \u001B[32m━━━━━━━━━━━━━━━━━━━━\u001B[0m\u001B[37m\u001B[0m \u001B[1m0s\u001B[0m 2ms/step - accuracy: 0.9671 - loss: 0.0641 - val_accuracy: 0.9689 - val_loss: 0.1065\n",
      "Epoch 72/100\n",
      "\u001B[1m20/20\u001B[0m \u001B[32m━━━━━━━━━━━━━━━━━━━━\u001B[0m\u001B[37m\u001B[0m \u001B[1m0s\u001B[0m 2ms/step - accuracy: 0.9696 - loss: 0.0679 - val_accuracy: 0.9689 - val_loss: 0.1029\n",
      "Epoch 73/100\n",
      "\u001B[1m20/20\u001B[0m \u001B[32m━━━━━━━━━━━━━━━━━━━━\u001B[0m\u001B[37m\u001B[0m \u001B[1m0s\u001B[0m 2ms/step - accuracy: 0.9821 - loss: 0.0461 - val_accuracy: 0.9689 - val_loss: 0.1096\n",
      "Epoch 74/100\n",
      "\u001B[1m20/20\u001B[0m \u001B[32m━━━━━━━━━━━━━━━━━━━━\u001B[0m\u001B[37m\u001B[0m \u001B[1m0s\u001B[0m 2ms/step - accuracy: 0.9733 - loss: 0.0711 - val_accuracy: 0.9689 - val_loss: 0.1036\n",
      "Epoch 75/100\n",
      "\u001B[1m20/20\u001B[0m \u001B[32m━━━━━━━━━━━━━━━━━━━━\u001B[0m\u001B[37m\u001B[0m \u001B[1m0s\u001B[0m 2ms/step - accuracy: 0.9784 - loss: 0.0526 - val_accuracy: 0.9689 - val_loss: 0.1184\n",
      "Epoch 76/100\n",
      "\u001B[1m20/20\u001B[0m \u001B[32m━━━━━━━━━━━━━━━━━━━━\u001B[0m\u001B[37m\u001B[0m \u001B[1m0s\u001B[0m 2ms/step - accuracy: 0.9853 - loss: 0.0471 - val_accuracy: 0.9689 - val_loss: 0.1101\n",
      "Epoch 77/100\n",
      "\u001B[1m20/20\u001B[0m \u001B[32m━━━━━━━━━━━━━━━━━━━━\u001B[0m\u001B[37m\u001B[0m \u001B[1m0s\u001B[0m 2ms/step - accuracy: 0.9732 - loss: 0.0814 - val_accuracy: 0.9689 - val_loss: 0.1033\n",
      "Epoch 78/100\n",
      "\u001B[1m20/20\u001B[0m \u001B[32m━━━━━━━━━━━━━━━━━━━━\u001B[0m\u001B[37m\u001B[0m \u001B[1m0s\u001B[0m 2ms/step - accuracy: 0.9720 - loss: 0.0722 - val_accuracy: 0.9689 - val_loss: 0.1032\n",
      "Epoch 79/100\n",
      "\u001B[1m20/20\u001B[0m \u001B[32m━━━━━━━━━━━━━━━━━━━━\u001B[0m\u001B[37m\u001B[0m \u001B[1m0s\u001B[0m 2ms/step - accuracy: 0.9861 - loss: 0.0547 - val_accuracy: 0.9689 - val_loss: 0.1172\n",
      "Epoch 80/100\n",
      "\u001B[1m20/20\u001B[0m \u001B[32m━━━━━━━━━━━━━━━━━━━━\u001B[0m\u001B[37m\u001B[0m \u001B[1m0s\u001B[0m 2ms/step - accuracy: 0.9771 - loss: 0.0744 - val_accuracy: 0.9689 - val_loss: 0.1190\n",
      "Epoch 81/100\n",
      "\u001B[1m20/20\u001B[0m \u001B[32m━━━━━━━━━━━━━━━━━━━━\u001B[0m\u001B[37m\u001B[0m \u001B[1m0s\u001B[0m 2ms/step - accuracy: 0.9766 - loss: 0.0535 - val_accuracy: 0.9627 - val_loss: 0.1292\n",
      "Epoch 82/100\n",
      "\u001B[1m20/20\u001B[0m \u001B[32m━━━━━━━━━━━━━━━━━━━━\u001B[0m\u001B[37m\u001B[0m \u001B[1m0s\u001B[0m 2ms/step - accuracy: 0.9761 - loss: 0.0420 - val_accuracy: 0.9689 - val_loss: 0.0982\n",
      "Epoch 83/100\n",
      "\u001B[1m20/20\u001B[0m \u001B[32m━━━━━━━━━━━━━━━━━━━━\u001B[0m\u001B[37m\u001B[0m \u001B[1m0s\u001B[0m 2ms/step - accuracy: 0.9833 - loss: 0.0600 - val_accuracy: 0.9627 - val_loss: 0.1211\n",
      "Epoch 84/100\n",
      "\u001B[1m20/20\u001B[0m \u001B[32m━━━━━━━━━━━━━━━━━━━━\u001B[0m\u001B[37m\u001B[0m \u001B[1m0s\u001B[0m 2ms/step - accuracy: 0.9731 - loss: 0.0748 - val_accuracy: 0.9689 - val_loss: 0.1093\n",
      "Epoch 85/100\n",
      "\u001B[1m20/20\u001B[0m \u001B[32m━━━━━━━━━━━━━━━━━━━━\u001B[0m\u001B[37m\u001B[0m \u001B[1m0s\u001B[0m 2ms/step - accuracy: 0.9852 - loss: 0.0574 - val_accuracy: 0.9689 - val_loss: 0.1198\n",
      "Epoch 86/100\n",
      "\u001B[1m20/20\u001B[0m \u001B[32m━━━━━━━━━━━━━━━━━━━━\u001B[0m\u001B[37m\u001B[0m \u001B[1m0s\u001B[0m 2ms/step - accuracy: 0.9853 - loss: 0.0403 - val_accuracy: 0.9689 - val_loss: 0.1160\n",
      "Epoch 87/100\n",
      "\u001B[1m20/20\u001B[0m \u001B[32m━━━━━━━━━━━━━━━━━━━━\u001B[0m\u001B[37m\u001B[0m \u001B[1m0s\u001B[0m 2ms/step - accuracy: 0.9821 - loss: 0.0503 - val_accuracy: 0.9689 - val_loss: 0.1150\n",
      "Epoch 88/100\n",
      "\u001B[1m20/20\u001B[0m \u001B[32m━━━━━━━━━━━━━━━━━━━━\u001B[0m\u001B[37m\u001B[0m \u001B[1m0s\u001B[0m 2ms/step - accuracy: 0.9826 - loss: 0.0582 - val_accuracy: 0.9689 - val_loss: 0.1081\n",
      "Epoch 89/100\n",
      "\u001B[1m20/20\u001B[0m \u001B[32m━━━━━━━━━━━━━━━━━━━━\u001B[0m\u001B[37m\u001B[0m \u001B[1m0s\u001B[0m 2ms/step - accuracy: 0.9786 - loss: 0.0545 - val_accuracy: 0.9689 - val_loss: 0.1169\n",
      "Epoch 90/100\n",
      "\u001B[1m20/20\u001B[0m \u001B[32m━━━━━━━━━━━━━━━━━━━━\u001B[0m\u001B[37m\u001B[0m \u001B[1m0s\u001B[0m 2ms/step - accuracy: 0.9876 - loss: 0.0475 - val_accuracy: 0.9689 - val_loss: 0.1164\n",
      "Epoch 91/100\n",
      "\u001B[1m20/20\u001B[0m \u001B[32m━━━━━━━━━━━━━━━━━━━━\u001B[0m\u001B[37m\u001B[0m \u001B[1m0s\u001B[0m 2ms/step - accuracy: 0.9744 - loss: 0.0567 - val_accuracy: 0.9689 - val_loss: 0.1257\n",
      "Epoch 92/100\n",
      "\u001B[1m20/20\u001B[0m \u001B[32m━━━━━━━━━━━━━━━━━━━━\u001B[0m\u001B[37m\u001B[0m \u001B[1m0s\u001B[0m 2ms/step - accuracy: 0.9847 - loss: 0.0452 - val_accuracy: 0.9689 - val_loss: 0.1049\n",
      "Epoch 93/100\n",
      "\u001B[1m20/20\u001B[0m \u001B[32m━━━━━━━━━━━━━━━━━━━━\u001B[0m\u001B[37m\u001B[0m \u001B[1m0s\u001B[0m 2ms/step - accuracy: 0.9770 - loss: 0.0583 - val_accuracy: 0.9689 - val_loss: 0.1059\n",
      "Epoch 94/100\n",
      "\u001B[1m20/20\u001B[0m \u001B[32m━━━━━━━━━━━━━━━━━━━━\u001B[0m\u001B[37m\u001B[0m \u001B[1m0s\u001B[0m 2ms/step - accuracy: 0.9816 - loss: 0.0549 - val_accuracy: 0.9689 - val_loss: 0.1297\n",
      "Epoch 95/100\n",
      "\u001B[1m20/20\u001B[0m \u001B[32m━━━━━━━━━━━━━━━━━━━━\u001B[0m\u001B[37m\u001B[0m \u001B[1m0s\u001B[0m 2ms/step - accuracy: 0.9692 - loss: 0.0578 - val_accuracy: 0.9689 - val_loss: 0.1054\n",
      "Epoch 96/100\n",
      "\u001B[1m20/20\u001B[0m \u001B[32m━━━━━━━━━━━━━━━━━━━━\u001B[0m\u001B[37m\u001B[0m \u001B[1m0s\u001B[0m 2ms/step - accuracy: 0.9787 - loss: 0.0563 - val_accuracy: 0.9689 - val_loss: 0.1077\n",
      "Epoch 97/100\n",
      "\u001B[1m20/20\u001B[0m \u001B[32m━━━━━━━━━━━━━━━━━━━━\u001B[0m\u001B[37m\u001B[0m \u001B[1m0s\u001B[0m 2ms/step - accuracy: 0.9795 - loss: 0.0668 - val_accuracy: 0.9627 - val_loss: 0.1344\n",
      "Epoch 98/100\n",
      "\u001B[1m20/20\u001B[0m \u001B[32m━━━━━━━━━━━━━━━━━━━━\u001B[0m\u001B[37m\u001B[0m \u001B[1m0s\u001B[0m 2ms/step - accuracy: 0.9888 - loss: 0.0433 - val_accuracy: 0.9689 - val_loss: 0.1093\n",
      "Epoch 99/100\n",
      "\u001B[1m20/20\u001B[0m \u001B[32m━━━━━━━━━━━━━━━━━━━━\u001B[0m\u001B[37m\u001B[0m \u001B[1m0s\u001B[0m 2ms/step - accuracy: 0.9835 - loss: 0.0469 - val_accuracy: 0.9689 - val_loss: 0.1168\n",
      "Epoch 100/100\n",
      "\u001B[1m20/20\u001B[0m \u001B[32m━━━━━━━━━━━━━━━━━━━━\u001B[0m\u001B[37m\u001B[0m \u001B[1m0s\u001B[0m 2ms/step - accuracy: 0.9748 - loss: 0.0633 - val_accuracy: 0.9627 - val_loss: 0.1451\n",
      "\u001B[1m11/11\u001B[0m \u001B[32m━━━━━━━━━━━━━━━━━━━━\u001B[0m\u001B[37m\u001B[0m \u001B[1m0s\u001B[0m 687us/step - accuracy: 0.9506 - loss: 0.1575\n",
      "Test Accuracy: 0.9622092843055725\n",
      "\u001B[1m11/11\u001B[0m \u001B[32m━━━━━━━━━━━━━━━━━━━━\u001B[0m\u001B[37m\u001B[0m \u001B[1m0s\u001B[0m 3ms/step \n",
      "Accuracy: 0.9622093023255814\n",
      "Precision: 0.7777777777777778\n",
      "Recall: 0.6086956521739131\n",
      "F1: 0.6829268292682927\n",
      "AUC: 0.980766626032778\n"
     ]
    }
   ],
   "source": [
    "\n",
    "\n",
    "# Crear y compilar el modelo\n",
    "RN = Sequential()\n",
    "\n",
    "# Definir la dimensión de entrada basada en las características seleccionadas\n",
    "input_dim = X_train[ACMIFeatures].shape[1]\n",
    "RN.add(Dense(units=64, activation='relu', input_dim=input_dim))\n",
    "RN.add(Dense(units=32, activation='relu'))\n",
    "RN.add(Dense(units=1, activation='sigmoid'))\n",
    "\n",
    "# Compilar el modelo\n",
    "RN.compile(optimizer=Adam(learning_rate=0.001),\n",
    "           loss=BinaryCrossentropy(),\n",
    "           metrics=['accuracy'])\n",
    "\n",
    "# Entrenar el modelo\n",
    "history = RN.fit(X_train[ACMIFeatures], y_train, epochs=100, batch_size=32, validation_split=0.2)\n",
    "\n",
    "# Evaluar el modelo en el conjunto de prueba\n",
    "loss, accuracy = RN.evaluate(X_test[ACMIFeatures], y_test)\n",
    "\n",
    "print(f'Test Accuracy: {accuracy}')\n",
    "\n",
    "# Realizar predicciones en el conjunto de prueba\n",
    "y_pred_prob = RN.predict(X_test[ACMIFeatures])  # Predicciones como probabilidades\n",
    "y_pred = (y_pred_prob > 0.5).astype(int)  # Convertir probabilidades a etiquetas (0 o 1)\n",
    "\n",
    "# Calcular y mostrar las métricas\n",
    "print(\"Accuracy:\", accuracy_score(y_test, y_pred))\n",
    "print(\"Precision:\", precision_score(y_test, y_pred))\n",
    "print(\"Recall:\", recall_score(y_test, y_pred))\n",
    "print(\"F1:\", f1_score(y_test, y_pred))\n",
    "print(\"AUC:\", roc_auc_score(y_test, y_pred_prob))  # Usamos probabilidades para AUC\n"
   ],
   "metadata": {
    "collapsed": false,
    "ExecuteTime": {
     "end_time": "2024-11-01T22:09:33.453832800Z",
     "start_time": "2024-11-01T22:09:27.070084200Z"
    }
   },
   "id": "24c6460e29494d86",
   "execution_count": 33
  },
  {
   "cell_type": "markdown",
   "source": [
    "CHI2"
   ],
   "metadata": {
    "collapsed": false
   },
   "id": "17667f3858c63c3b"
  },
  {
   "cell_type": "code",
   "outputs": [
    {
     "name": "stdout",
     "output_type": "stream",
     "text": [
      "Epoch 1/100\n",
      "\u001B[1m20/20\u001B[0m \u001B[32m━━━━━━━━━━━━━━━━━━━━\u001B[0m\u001B[37m\u001B[0m \u001B[1m1s\u001B[0m 6ms/step - accuracy: 0.4364 - loss: 0.6958 - val_accuracy: 0.9193 - val_loss: 0.4507\n",
      "Epoch 2/100\n",
      "\u001B[1m20/20\u001B[0m \u001B[32m━━━━━━━━━━━━━━━━━━━━\u001B[0m\u001B[37m\u001B[0m \u001B[1m0s\u001B[0m 2ms/step - accuracy: 0.9035 - loss: 0.4294 - val_accuracy: 0.9193 - val_loss: 0.3037\n",
      "Epoch 3/100\n",
      "\u001B[1m20/20\u001B[0m \u001B[32m━━━━━━━━━━━━━━━━━━━━\u001B[0m\u001B[37m\u001B[0m \u001B[1m0s\u001B[0m 2ms/step - accuracy: 0.9034 - loss: 0.3411 - val_accuracy: 0.9193 - val_loss: 0.2605\n",
      "Epoch 4/100\n",
      "\u001B[1m20/20\u001B[0m \u001B[32m━━━━━━━━━━━━━━━━━━━━\u001B[0m\u001B[37m\u001B[0m \u001B[1m0s\u001B[0m 2ms/step - accuracy: 0.9052 - loss: 0.2916 - val_accuracy: 0.9193 - val_loss: 0.2228\n",
      "Epoch 5/100\n",
      "\u001B[1m20/20\u001B[0m \u001B[32m━━━━━━━━━━━━━━━━━━━━\u001B[0m\u001B[37m\u001B[0m \u001B[1m0s\u001B[0m 2ms/step - accuracy: 0.9099 - loss: 0.2512 - val_accuracy: 0.9193 - val_loss: 0.1797\n",
      "Epoch 6/100\n",
      "\u001B[1m20/20\u001B[0m \u001B[32m━━━━━━━━━━━━━━━━━━━━\u001B[0m\u001B[37m\u001B[0m \u001B[1m0s\u001B[0m 2ms/step - accuracy: 0.9310 - loss: 0.1921 - val_accuracy: 0.9379 - val_loss: 0.1416\n",
      "Epoch 7/100\n",
      "\u001B[1m20/20\u001B[0m \u001B[32m━━━━━━━━━━━━━━━━━━━━\u001B[0m\u001B[37m\u001B[0m \u001B[1m0s\u001B[0m 2ms/step - accuracy: 0.9537 - loss: 0.1533 - val_accuracy: 0.9317 - val_loss: 0.1170\n",
      "Epoch 8/100\n",
      "\u001B[1m20/20\u001B[0m \u001B[32m━━━━━━━━━━━━━━━━━━━━\u001B[0m\u001B[37m\u001B[0m \u001B[1m0s\u001B[0m 2ms/step - accuracy: 0.9576 - loss: 0.1327 - val_accuracy: 0.9441 - val_loss: 0.1025\n",
      "Epoch 9/100\n",
      "\u001B[1m20/20\u001B[0m \u001B[32m━━━━━━━━━━━━━━━━━━━━\u001B[0m\u001B[37m\u001B[0m \u001B[1m0s\u001B[0m 2ms/step - accuracy: 0.9550 - loss: 0.1241 - val_accuracy: 0.9379 - val_loss: 0.0999\n",
      "Epoch 10/100\n",
      "\u001B[1m20/20\u001B[0m \u001B[32m━━━━━━━━━━━━━━━━━━━━\u001B[0m\u001B[37m\u001B[0m \u001B[1m0s\u001B[0m 2ms/step - accuracy: 0.9529 - loss: 0.1060 - val_accuracy: 0.9565 - val_loss: 0.0902\n",
      "Epoch 11/100\n",
      "\u001B[1m20/20\u001B[0m \u001B[32m━━━━━━━━━━━━━━━━━━━━\u001B[0m\u001B[37m\u001B[0m \u001B[1m0s\u001B[0m 2ms/step - accuracy: 0.9542 - loss: 0.1024 - val_accuracy: 0.9379 - val_loss: 0.0887\n",
      "Epoch 12/100\n",
      "\u001B[1m20/20\u001B[0m \u001B[32m━━━━━━━━━━━━━━━━━━━━\u001B[0m\u001B[37m\u001B[0m \u001B[1m0s\u001B[0m 2ms/step - accuracy: 0.9618 - loss: 0.0954 - val_accuracy: 0.9503 - val_loss: 0.0860\n",
      "Epoch 13/100\n",
      "\u001B[1m20/20\u001B[0m \u001B[32m━━━━━━━━━━━━━━━━━━━━\u001B[0m\u001B[37m\u001B[0m \u001B[1m0s\u001B[0m 2ms/step - accuracy: 0.9664 - loss: 0.0902 - val_accuracy: 0.9503 - val_loss: 0.0856\n",
      "Epoch 14/100\n",
      "\u001B[1m20/20\u001B[0m \u001B[32m━━━━━━━━━━━━━━━━━━━━\u001B[0m\u001B[37m\u001B[0m \u001B[1m0s\u001B[0m 2ms/step - accuracy: 0.9475 - loss: 0.1241 - val_accuracy: 0.9503 - val_loss: 0.0834\n",
      "Epoch 15/100\n",
      "\u001B[1m20/20\u001B[0m \u001B[32m━━━━━━━━━━━━━━━━━━━━\u001B[0m\u001B[37m\u001B[0m \u001B[1m0s\u001B[0m 2ms/step - accuracy: 0.9508 - loss: 0.1141 - val_accuracy: 0.9503 - val_loss: 0.0815\n",
      "Epoch 16/100\n",
      "\u001B[1m20/20\u001B[0m \u001B[32m━━━━━━━━━━━━━━━━━━━━\u001B[0m\u001B[37m\u001B[0m \u001B[1m0s\u001B[0m 2ms/step - accuracy: 0.9634 - loss: 0.0926 - val_accuracy: 0.9565 - val_loss: 0.0801\n",
      "Epoch 17/100\n",
      "\u001B[1m20/20\u001B[0m \u001B[32m━━━━━━━━━━━━━━━━━━━━\u001B[0m\u001B[37m\u001B[0m \u001B[1m0s\u001B[0m 2ms/step - accuracy: 0.9581 - loss: 0.1043 - val_accuracy: 0.9503 - val_loss: 0.0824\n",
      "Epoch 18/100\n",
      "\u001B[1m20/20\u001B[0m \u001B[32m━━━━━━━━━━━━━━━━━━━━\u001B[0m\u001B[37m\u001B[0m \u001B[1m0s\u001B[0m 2ms/step - accuracy: 0.9668 - loss: 0.0887 - val_accuracy: 0.9503 - val_loss: 0.0820\n",
      "Epoch 19/100\n",
      "\u001B[1m20/20\u001B[0m \u001B[32m━━━━━━━━━━━━━━━━━━━━\u001B[0m\u001B[37m\u001B[0m \u001B[1m0s\u001B[0m 2ms/step - accuracy: 0.9480 - loss: 0.1081 - val_accuracy: 0.9565 - val_loss: 0.0795\n",
      "Epoch 20/100\n",
      "\u001B[1m20/20\u001B[0m \u001B[32m━━━━━━━━━━━━━━━━━━━━\u001B[0m\u001B[37m\u001B[0m \u001B[1m0s\u001B[0m 2ms/step - accuracy: 0.9640 - loss: 0.0841 - val_accuracy: 0.9565 - val_loss: 0.0773\n",
      "Epoch 21/100\n",
      "\u001B[1m20/20\u001B[0m \u001B[32m━━━━━━━━━━━━━━━━━━━━\u001B[0m\u001B[37m\u001B[0m \u001B[1m0s\u001B[0m 2ms/step - accuracy: 0.9550 - loss: 0.1089 - val_accuracy: 0.9565 - val_loss: 0.0784\n",
      "Epoch 22/100\n",
      "\u001B[1m20/20\u001B[0m \u001B[32m━━━━━━━━━━━━━━━━━━━━\u001B[0m\u001B[37m\u001B[0m \u001B[1m0s\u001B[0m 2ms/step - accuracy: 0.9632 - loss: 0.0946 - val_accuracy: 0.9627 - val_loss: 0.0756\n",
      "Epoch 23/100\n",
      "\u001B[1m20/20\u001B[0m \u001B[32m━━━━━━━━━━━━━━━━━━━━\u001B[0m\u001B[37m\u001B[0m \u001B[1m0s\u001B[0m 2ms/step - accuracy: 0.9657 - loss: 0.0844 - val_accuracy: 0.9379 - val_loss: 0.0857\n",
      "Epoch 24/100\n",
      "\u001B[1m20/20\u001B[0m \u001B[32m━━━━━━━━━━━━━━━━━━━━\u001B[0m\u001B[37m\u001B[0m \u001B[1m0s\u001B[0m 2ms/step - accuracy: 0.9394 - loss: 0.1104 - val_accuracy: 0.9565 - val_loss: 0.0754\n",
      "Epoch 25/100\n",
      "\u001B[1m20/20\u001B[0m \u001B[32m━━━━━━━━━━━━━━━━━━━━\u001B[0m\u001B[37m\u001B[0m \u001B[1m0s\u001B[0m 2ms/step - accuracy: 0.9508 - loss: 0.1031 - val_accuracy: 0.9503 - val_loss: 0.0831\n",
      "Epoch 26/100\n",
      "\u001B[1m20/20\u001B[0m \u001B[32m━━━━━━━━━━━━━━━━━━━━\u001B[0m\u001B[37m\u001B[0m \u001B[1m0s\u001B[0m 2ms/step - accuracy: 0.9591 - loss: 0.0906 - val_accuracy: 0.9689 - val_loss: 0.0725\n",
      "Epoch 27/100\n",
      "\u001B[1m20/20\u001B[0m \u001B[32m━━━━━━━━━━━━━━━━━━━━\u001B[0m\u001B[37m\u001B[0m \u001B[1m0s\u001B[0m 2ms/step - accuracy: 0.9613 - loss: 0.1021 - val_accuracy: 0.9565 - val_loss: 0.0748\n",
      "Epoch 28/100\n",
      "\u001B[1m20/20\u001B[0m \u001B[32m━━━━━━━━━━━━━━━━━━━━\u001B[0m\u001B[37m\u001B[0m \u001B[1m0s\u001B[0m 2ms/step - accuracy: 0.9562 - loss: 0.1014 - val_accuracy: 0.9503 - val_loss: 0.0814\n",
      "Epoch 29/100\n",
      "\u001B[1m20/20\u001B[0m \u001B[32m━━━━━━━━━━━━━━━━━━━━\u001B[0m\u001B[37m\u001B[0m \u001B[1m0s\u001B[0m 2ms/step - accuracy: 0.9576 - loss: 0.0837 - val_accuracy: 0.9689 - val_loss: 0.0715\n",
      "Epoch 30/100\n",
      "\u001B[1m20/20\u001B[0m \u001B[32m━━━━━━━━━━━━━━━━━━━━\u001B[0m\u001B[37m\u001B[0m \u001B[1m0s\u001B[0m 2ms/step - accuracy: 0.9557 - loss: 0.0948 - val_accuracy: 0.9689 - val_loss: 0.0719\n",
      "Epoch 31/100\n",
      "\u001B[1m20/20\u001B[0m \u001B[32m━━━━━━━━━━━━━━━━━━━━\u001B[0m\u001B[37m\u001B[0m \u001B[1m0s\u001B[0m 2ms/step - accuracy: 0.9623 - loss: 0.0829 - val_accuracy: 0.9565 - val_loss: 0.0734\n",
      "Epoch 32/100\n",
      "\u001B[1m20/20\u001B[0m \u001B[32m━━━━━━━━━━━━━━━━━━━━\u001B[0m\u001B[37m\u001B[0m \u001B[1m0s\u001B[0m 2ms/step - accuracy: 0.9634 - loss: 0.0807 - val_accuracy: 0.9503 - val_loss: 0.0771\n",
      "Epoch 33/100\n",
      "\u001B[1m20/20\u001B[0m \u001B[32m━━━━━━━━━━━━━━━━━━━━\u001B[0m\u001B[37m\u001B[0m \u001B[1m0s\u001B[0m 2ms/step - accuracy: 0.9564 - loss: 0.0967 - val_accuracy: 0.9565 - val_loss: 0.0734\n",
      "Epoch 34/100\n",
      "\u001B[1m20/20\u001B[0m \u001B[32m━━━━━━━━━━━━━━━━━━━━\u001B[0m\u001B[37m\u001B[0m \u001B[1m0s\u001B[0m 2ms/step - accuracy: 0.9681 - loss: 0.0722 - val_accuracy: 0.9689 - val_loss: 0.0710\n",
      "Epoch 35/100\n",
      "\u001B[1m20/20\u001B[0m \u001B[32m━━━━━━━━━━━━━━━━━━━━\u001B[0m\u001B[37m\u001B[0m \u001B[1m0s\u001B[0m 2ms/step - accuracy: 0.9626 - loss: 0.0977 - val_accuracy: 0.9441 - val_loss: 0.0891\n",
      "Epoch 36/100\n",
      "\u001B[1m20/20\u001B[0m \u001B[32m━━━━━━━━━━━━━━━━━━━━\u001B[0m\u001B[37m\u001B[0m \u001B[1m0s\u001B[0m 2ms/step - accuracy: 0.9627 - loss: 0.0900 - val_accuracy: 0.9565 - val_loss: 0.0734\n",
      "Epoch 37/100\n",
      "\u001B[1m20/20\u001B[0m \u001B[32m━━━━━━━━━━━━━━━━━━━━\u001B[0m\u001B[37m\u001B[0m \u001B[1m0s\u001B[0m 2ms/step - accuracy: 0.9632 - loss: 0.0966 - val_accuracy: 0.9503 - val_loss: 0.0759\n",
      "Epoch 38/100\n",
      "\u001B[1m20/20\u001B[0m \u001B[32m━━━━━━━━━━━━━━━━━━━━\u001B[0m\u001B[37m\u001B[0m \u001B[1m0s\u001B[0m 2ms/step - accuracy: 0.9553 - loss: 0.0959 - val_accuracy: 0.9689 - val_loss: 0.0701\n",
      "Epoch 39/100\n",
      "\u001B[1m20/20\u001B[0m \u001B[32m━━━━━━━━━━━━━━━━━━━━\u001B[0m\u001B[37m\u001B[0m \u001B[1m0s\u001B[0m 2ms/step - accuracy: 0.9703 - loss: 0.0772 - val_accuracy: 0.9441 - val_loss: 0.0764\n",
      "Epoch 40/100\n",
      "\u001B[1m20/20\u001B[0m \u001B[32m━━━━━━━━━━━━━━━━━━━━\u001B[0m\u001B[37m\u001B[0m \u001B[1m0s\u001B[0m 2ms/step - accuracy: 0.9621 - loss: 0.0860 - val_accuracy: 0.9441 - val_loss: 0.0805\n",
      "Epoch 41/100\n",
      "\u001B[1m20/20\u001B[0m \u001B[32m━━━━━━━━━━━━━━━━━━━━\u001B[0m\u001B[37m\u001B[0m \u001B[1m0s\u001B[0m 2ms/step - accuracy: 0.9653 - loss: 0.0731 - val_accuracy: 0.9441 - val_loss: 0.0745\n",
      "Epoch 42/100\n",
      "\u001B[1m20/20\u001B[0m \u001B[32m━━━━━━━━━━━━━━━━━━━━\u001B[0m\u001B[37m\u001B[0m \u001B[1m0s\u001B[0m 2ms/step - accuracy: 0.9646 - loss: 0.0808 - val_accuracy: 0.9565 - val_loss: 0.0711\n",
      "Epoch 43/100\n",
      "\u001B[1m20/20\u001B[0m \u001B[32m━━━━━━━━━━━━━━━━━━━━\u001B[0m\u001B[37m\u001B[0m \u001B[1m0s\u001B[0m 2ms/step - accuracy: 0.9725 - loss: 0.0746 - val_accuracy: 0.9441 - val_loss: 0.0834\n",
      "Epoch 44/100\n",
      "\u001B[1m20/20\u001B[0m \u001B[32m━━━━━━━━━━━━━━━━━━━━\u001B[0m\u001B[37m\u001B[0m \u001B[1m0s\u001B[0m 2ms/step - accuracy: 0.9368 - loss: 0.1179 - val_accuracy: 0.9565 - val_loss: 0.0709\n",
      "Epoch 45/100\n",
      "\u001B[1m20/20\u001B[0m \u001B[32m━━━━━━━━━━━━━━━━━━━━\u001B[0m\u001B[37m\u001B[0m \u001B[1m0s\u001B[0m 2ms/step - accuracy: 0.9678 - loss: 0.0732 - val_accuracy: 0.9689 - val_loss: 0.0695\n",
      "Epoch 46/100\n",
      "\u001B[1m20/20\u001B[0m \u001B[32m━━━━━━━━━━━━━━━━━━━━\u001B[0m\u001B[37m\u001B[0m \u001B[1m0s\u001B[0m 2ms/step - accuracy: 0.9581 - loss: 0.0916 - val_accuracy: 0.9503 - val_loss: 0.0732\n",
      "Epoch 47/100\n",
      "\u001B[1m20/20\u001B[0m \u001B[32m━━━━━━━━━━━━━━━━━━━━\u001B[0m\u001B[37m\u001B[0m \u001B[1m0s\u001B[0m 2ms/step - accuracy: 0.9668 - loss: 0.0855 - val_accuracy: 0.9441 - val_loss: 0.0803\n",
      "Epoch 48/100\n",
      "\u001B[1m20/20\u001B[0m \u001B[32m━━━━━━━━━━━━━━━━━━━━\u001B[0m\u001B[37m\u001B[0m \u001B[1m0s\u001B[0m 2ms/step - accuracy: 0.9502 - loss: 0.1031 - val_accuracy: 0.9503 - val_loss: 0.0729\n",
      "Epoch 49/100\n",
      "\u001B[1m20/20\u001B[0m \u001B[32m━━━━━━━━━━━━━━━━━━━━\u001B[0m\u001B[37m\u001B[0m \u001B[1m0s\u001B[0m 2ms/step - accuracy: 0.9586 - loss: 0.0821 - val_accuracy: 0.9441 - val_loss: 0.0758\n",
      "Epoch 50/100\n",
      "\u001B[1m20/20\u001B[0m \u001B[32m━━━━━━━━━━━━━━━━━━━━\u001B[0m\u001B[37m\u001B[0m \u001B[1m0s\u001B[0m 2ms/step - accuracy: 0.9681 - loss: 0.0706 - val_accuracy: 0.9565 - val_loss: 0.0724\n",
      "Epoch 51/100\n",
      "\u001B[1m20/20\u001B[0m \u001B[32m━━━━━━━━━━━━━━━━━━━━\u001B[0m\u001B[37m\u001B[0m \u001B[1m0s\u001B[0m 2ms/step - accuracy: 0.9598 - loss: 0.0812 - val_accuracy: 0.9627 - val_loss: 0.0715\n",
      "Epoch 52/100\n",
      "\u001B[1m20/20\u001B[0m \u001B[32m━━━━━━━━━━━━━━━━━━━━\u001B[0m\u001B[37m\u001B[0m \u001B[1m0s\u001B[0m 2ms/step - accuracy: 0.9625 - loss: 0.0874 - val_accuracy: 0.9565 - val_loss: 0.1048\n",
      "Epoch 53/100\n",
      "\u001B[1m20/20\u001B[0m \u001B[32m━━━━━━━━━━━━━━━━━━━━\u001B[0m\u001B[37m\u001B[0m \u001B[1m0s\u001B[0m 2ms/step - accuracy: 0.9640 - loss: 0.0879 - val_accuracy: 0.9689 - val_loss: 0.0746\n",
      "Epoch 54/100\n",
      "\u001B[1m20/20\u001B[0m \u001B[32m━━━━━━━━━━━━━━━━━━━━\u001B[0m\u001B[37m\u001B[0m \u001B[1m0s\u001B[0m 2ms/step - accuracy: 0.9689 - loss: 0.1101 - val_accuracy: 0.9441 - val_loss: 0.0856\n",
      "Epoch 55/100\n",
      "\u001B[1m20/20\u001B[0m \u001B[32m━━━━━━━━━━━━━━━━━━━━\u001B[0m\u001B[37m\u001B[0m \u001B[1m0s\u001B[0m 2ms/step - accuracy: 0.9633 - loss: 0.0756 - val_accuracy: 0.9441 - val_loss: 0.0755\n",
      "Epoch 56/100\n",
      "\u001B[1m20/20\u001B[0m \u001B[32m━━━━━━━━━━━━━━━━━━━━\u001B[0m\u001B[37m\u001B[0m \u001B[1m0s\u001B[0m 2ms/step - accuracy: 0.9684 - loss: 0.0635 - val_accuracy: 0.9441 - val_loss: 0.0745\n",
      "Epoch 57/100\n",
      "\u001B[1m20/20\u001B[0m \u001B[32m━━━━━━━━━━━━━━━━━━━━\u001B[0m\u001B[37m\u001B[0m \u001B[1m0s\u001B[0m 2ms/step - accuracy: 0.9676 - loss: 0.0691 - val_accuracy: 0.9441 - val_loss: 0.0754\n",
      "Epoch 58/100\n",
      "\u001B[1m20/20\u001B[0m \u001B[32m━━━━━━━━━━━━━━━━━━━━\u001B[0m\u001B[37m\u001B[0m \u001B[1m0s\u001B[0m 2ms/step - accuracy: 0.9748 - loss: 0.0658 - val_accuracy: 0.9565 - val_loss: 0.0723\n",
      "Epoch 59/100\n",
      "\u001B[1m20/20\u001B[0m \u001B[32m━━━━━━━━━━━━━━━━━━━━\u001B[0m\u001B[37m\u001B[0m \u001B[1m0s\u001B[0m 2ms/step - accuracy: 0.9774 - loss: 0.0631 - val_accuracy: 0.9441 - val_loss: 0.0794\n",
      "Epoch 60/100\n",
      "\u001B[1m20/20\u001B[0m \u001B[32m━━━━━━━━━━━━━━━━━━━━\u001B[0m\u001B[37m\u001B[0m \u001B[1m0s\u001B[0m 2ms/step - accuracy: 0.9662 - loss: 0.0680 - val_accuracy: 0.9441 - val_loss: 0.0783\n",
      "Epoch 61/100\n",
      "\u001B[1m20/20\u001B[0m \u001B[32m━━━━━━━━━━━━━━━━━━━━\u001B[0m\u001B[37m\u001B[0m \u001B[1m0s\u001B[0m 2ms/step - accuracy: 0.9544 - loss: 0.0814 - val_accuracy: 0.9441 - val_loss: 0.0734\n",
      "Epoch 62/100\n",
      "\u001B[1m20/20\u001B[0m \u001B[32m━━━━━━━━━━━━━━━━━━━━\u001B[0m\u001B[37m\u001B[0m \u001B[1m0s\u001B[0m 2ms/step - accuracy: 0.9712 - loss: 0.0745 - val_accuracy: 0.9441 - val_loss: 0.0829\n",
      "Epoch 63/100\n",
      "\u001B[1m20/20\u001B[0m \u001B[32m━━━━━━━━━━━━━━━━━━━━\u001B[0m\u001B[37m\u001B[0m \u001B[1m0s\u001B[0m 2ms/step - accuracy: 0.9636 - loss: 0.0834 - val_accuracy: 0.9441 - val_loss: 0.0762\n",
      "Epoch 64/100\n",
      "\u001B[1m20/20\u001B[0m \u001B[32m━━━━━━━━━━━━━━━━━━━━\u001B[0m\u001B[37m\u001B[0m \u001B[1m0s\u001B[0m 2ms/step - accuracy: 0.9616 - loss: 0.0780 - val_accuracy: 0.9441 - val_loss: 0.0764\n",
      "Epoch 65/100\n",
      "\u001B[1m20/20\u001B[0m \u001B[32m━━━━━━━━━━━━━━━━━━━━\u001B[0m\u001B[37m\u001B[0m \u001B[1m0s\u001B[0m 2ms/step - accuracy: 0.9597 - loss: 0.0799 - val_accuracy: 0.9441 - val_loss: 0.0765\n",
      "Epoch 66/100\n",
      "\u001B[1m20/20\u001B[0m \u001B[32m━━━━━━━━━━━━━━━━━━━━\u001B[0m\u001B[37m\u001B[0m \u001B[1m0s\u001B[0m 2ms/step - accuracy: 0.9551 - loss: 0.0824 - val_accuracy: 0.9441 - val_loss: 0.0765\n",
      "Epoch 67/100\n",
      "\u001B[1m20/20\u001B[0m \u001B[32m━━━━━━━━━━━━━━━━━━━━\u001B[0m\u001B[37m\u001B[0m \u001B[1m0s\u001B[0m 2ms/step - accuracy: 0.9747 - loss: 0.0700 - val_accuracy: 0.9627 - val_loss: 0.0713\n",
      "Epoch 68/100\n",
      "\u001B[1m20/20\u001B[0m \u001B[32m━━━━━━━━━━━━━━━━━━━━\u001B[0m\u001B[37m\u001B[0m \u001B[1m0s\u001B[0m 2ms/step - accuracy: 0.9642 - loss: 0.0940 - val_accuracy: 0.9565 - val_loss: 0.1004\n",
      "Epoch 69/100\n",
      "\u001B[1m20/20\u001B[0m \u001B[32m━━━━━━━━━━━━━━━━━━━━\u001B[0m\u001B[37m\u001B[0m \u001B[1m0s\u001B[0m 2ms/step - accuracy: 0.9745 - loss: 0.0708 - val_accuracy: 0.9441 - val_loss: 0.0807\n",
      "Epoch 70/100\n",
      "\u001B[1m20/20\u001B[0m \u001B[32m━━━━━━━━━━━━━━━━━━━━\u001B[0m\u001B[37m\u001B[0m \u001B[1m0s\u001B[0m 2ms/step - accuracy: 0.9657 - loss: 0.0755 - val_accuracy: 0.9441 - val_loss: 0.0743\n",
      "Epoch 71/100\n",
      "\u001B[1m20/20\u001B[0m \u001B[32m━━━━━━━━━━━━━━━━━━━━\u001B[0m\u001B[37m\u001B[0m \u001B[1m0s\u001B[0m 2ms/step - accuracy: 0.9531 - loss: 0.0830 - val_accuracy: 0.9627 - val_loss: 0.0699\n",
      "Epoch 72/100\n",
      "\u001B[1m20/20\u001B[0m \u001B[32m━━━━━━━━━━━━━━━━━━━━\u001B[0m\u001B[37m\u001B[0m \u001B[1m0s\u001B[0m 2ms/step - accuracy: 0.9698 - loss: 0.0719 - val_accuracy: 0.9441 - val_loss: 0.0762\n",
      "Epoch 73/100\n",
      "\u001B[1m20/20\u001B[0m \u001B[32m━━━━━━━━━━━━━━━━━━━━\u001B[0m\u001B[37m\u001B[0m \u001B[1m0s\u001B[0m 2ms/step - accuracy: 0.9667 - loss: 0.0723 - val_accuracy: 0.9441 - val_loss: 0.0784\n",
      "Epoch 74/100\n",
      "\u001B[1m20/20\u001B[0m \u001B[32m━━━━━━━━━━━━━━━━━━━━\u001B[0m\u001B[37m\u001B[0m \u001B[1m0s\u001B[0m 2ms/step - accuracy: 0.9673 - loss: 0.0694 - val_accuracy: 0.9441 - val_loss: 0.0773\n",
      "Epoch 75/100\n",
      "\u001B[1m20/20\u001B[0m \u001B[32m━━━━━━━━━━━━━━━━━━━━\u001B[0m\u001B[37m\u001B[0m \u001B[1m0s\u001B[0m 2ms/step - accuracy: 0.9683 - loss: 0.0749 - val_accuracy: 0.9503 - val_loss: 0.0737\n",
      "Epoch 76/100\n",
      "\u001B[1m20/20\u001B[0m \u001B[32m━━━━━━━━━━━━━━━━━━━━\u001B[0m\u001B[37m\u001B[0m \u001B[1m0s\u001B[0m 2ms/step - accuracy: 0.9709 - loss: 0.0741 - val_accuracy: 0.9441 - val_loss: 0.0847\n",
      "Epoch 77/100\n",
      "\u001B[1m20/20\u001B[0m \u001B[32m━━━━━━━━━━━━━━━━━━━━\u001B[0m\u001B[37m\u001B[0m \u001B[1m0s\u001B[0m 2ms/step - accuracy: 0.9664 - loss: 0.0841 - val_accuracy: 0.9441 - val_loss: 0.0775\n",
      "Epoch 78/100\n",
      "\u001B[1m20/20\u001B[0m \u001B[32m━━━━━━━━━━━━━━━━━━━━\u001B[0m\u001B[37m\u001B[0m \u001B[1m0s\u001B[0m 2ms/step - accuracy: 0.9730 - loss: 0.0623 - val_accuracy: 0.9441 - val_loss: 0.0813\n",
      "Epoch 79/100\n",
      "\u001B[1m20/20\u001B[0m \u001B[32m━━━━━━━━━━━━━━━━━━━━\u001B[0m\u001B[37m\u001B[0m \u001B[1m0s\u001B[0m 2ms/step - accuracy: 0.9759 - loss: 0.0683 - val_accuracy: 0.9441 - val_loss: 0.0786\n",
      "Epoch 80/100\n",
      "\u001B[1m20/20\u001B[0m \u001B[32m━━━━━━━━━━━━━━━━━━━━\u001B[0m\u001B[37m\u001B[0m \u001B[1m0s\u001B[0m 2ms/step - accuracy: 0.9674 - loss: 0.0684 - val_accuracy: 0.9441 - val_loss: 0.0795\n",
      "Epoch 81/100\n",
      "\u001B[1m20/20\u001B[0m \u001B[32m━━━━━━━━━━━━━━━━━━━━\u001B[0m\u001B[37m\u001B[0m \u001B[1m0s\u001B[0m 2ms/step - accuracy: 0.9788 - loss: 0.0549 - val_accuracy: 0.9441 - val_loss: 0.0892\n",
      "Epoch 82/100\n",
      "\u001B[1m20/20\u001B[0m \u001B[32m━━━━━━━━━━━━━━━━━━━━\u001B[0m\u001B[37m\u001B[0m \u001B[1m0s\u001B[0m 2ms/step - accuracy: 0.9626 - loss: 0.0682 - val_accuracy: 0.9565 - val_loss: 0.0696\n",
      "Epoch 83/100\n",
      "\u001B[1m20/20\u001B[0m \u001B[32m━━━━━━━━━━━━━━━━━━━━\u001B[0m\u001B[37m\u001B[0m \u001B[1m0s\u001B[0m 2ms/step - accuracy: 0.9687 - loss: 0.0829 - val_accuracy: 0.9441 - val_loss: 0.0896\n",
      "Epoch 84/100\n",
      "\u001B[1m20/20\u001B[0m \u001B[32m━━━━━━━━━━━━━━━━━━━━\u001B[0m\u001B[37m\u001B[0m \u001B[1m0s\u001B[0m 2ms/step - accuracy: 0.9670 - loss: 0.0734 - val_accuracy: 0.9441 - val_loss: 0.0869\n",
      "Epoch 85/100\n",
      "\u001B[1m20/20\u001B[0m \u001B[32m━━━━━━━━━━━━━━━━━━━━\u001B[0m\u001B[37m\u001B[0m \u001B[1m0s\u001B[0m 2ms/step - accuracy: 0.9668 - loss: 0.0610 - val_accuracy: 0.9565 - val_loss: 0.0722\n",
      "Epoch 86/100\n",
      "\u001B[1m20/20\u001B[0m \u001B[32m━━━━━━━━━━━━━━━━━━━━\u001B[0m\u001B[37m\u001B[0m \u001B[1m0s\u001B[0m 2ms/step - accuracy: 0.9565 - loss: 0.0710 - val_accuracy: 0.9441 - val_loss: 0.0822\n",
      "Epoch 87/100\n",
      "\u001B[1m20/20\u001B[0m \u001B[32m━━━━━━━━━━━━━━━━━━━━\u001B[0m\u001B[37m\u001B[0m \u001B[1m0s\u001B[0m 2ms/step - accuracy: 0.9569 - loss: 0.0894 - val_accuracy: 0.9441 - val_loss: 0.0878\n",
      "Epoch 88/100\n",
      "\u001B[1m20/20\u001B[0m \u001B[32m━━━━━━━━━━━━━━━━━━━━\u001B[0m\u001B[37m\u001B[0m \u001B[1m0s\u001B[0m 2ms/step - accuracy: 0.9646 - loss: 0.0821 - val_accuracy: 0.9441 - val_loss: 0.0756\n",
      "Epoch 89/100\n",
      "\u001B[1m20/20\u001B[0m \u001B[32m━━━━━━━━━━━━━━━━━━━━\u001B[0m\u001B[37m\u001B[0m \u001B[1m0s\u001B[0m 2ms/step - accuracy: 0.9757 - loss: 0.0687 - val_accuracy: 0.9441 - val_loss: 0.0839\n",
      "Epoch 90/100\n",
      "\u001B[1m20/20\u001B[0m \u001B[32m━━━━━━━━━━━━━━━━━━━━\u001B[0m\u001B[37m\u001B[0m \u001B[1m0s\u001B[0m 2ms/step - accuracy: 0.9675 - loss: 0.0692 - val_accuracy: 0.9441 - val_loss: 0.0796\n",
      "Epoch 91/100\n",
      "\u001B[1m20/20\u001B[0m \u001B[32m━━━━━━━━━━━━━━━━━━━━\u001B[0m\u001B[37m\u001B[0m \u001B[1m0s\u001B[0m 2ms/step - accuracy: 0.9756 - loss: 0.0598 - val_accuracy: 0.9565 - val_loss: 0.0737\n",
      "Epoch 92/100\n",
      "\u001B[1m20/20\u001B[0m \u001B[32m━━━━━━━━━━━━━━━━━━━━\u001B[0m\u001B[37m\u001B[0m \u001B[1m0s\u001B[0m 2ms/step - accuracy: 0.9759 - loss: 0.0637 - val_accuracy: 0.9441 - val_loss: 0.0827\n",
      "Epoch 93/100\n",
      "\u001B[1m20/20\u001B[0m \u001B[32m━━━━━━━━━━━━━━━━━━━━\u001B[0m\u001B[37m\u001B[0m \u001B[1m0s\u001B[0m 2ms/step - accuracy: 0.9789 - loss: 0.0556 - val_accuracy: 0.9441 - val_loss: 0.0914\n",
      "Epoch 94/100\n",
      "\u001B[1m20/20\u001B[0m \u001B[32m━━━━━━━━━━━━━━━━━━━━\u001B[0m\u001B[37m\u001B[0m \u001B[1m0s\u001B[0m 2ms/step - accuracy: 0.9655 - loss: 0.0660 - val_accuracy: 0.9441 - val_loss: 0.0915\n",
      "Epoch 95/100\n",
      "\u001B[1m20/20\u001B[0m \u001B[32m━━━━━━━━━━━━━━━━━━━━\u001B[0m\u001B[37m\u001B[0m \u001B[1m0s\u001B[0m 2ms/step - accuracy: 0.9627 - loss: 0.0819 - val_accuracy: 0.9441 - val_loss: 0.0817\n",
      "Epoch 96/100\n",
      "\u001B[1m20/20\u001B[0m \u001B[32m━━━━━━━━━━━━━━━━━━━━\u001B[0m\u001B[37m\u001B[0m \u001B[1m0s\u001B[0m 2ms/step - accuracy: 0.9757 - loss: 0.0599 - val_accuracy: 0.9441 - val_loss: 0.0762\n",
      "Epoch 97/100\n",
      "\u001B[1m20/20\u001B[0m \u001B[32m━━━━━━━━━━━━━━━━━━━━\u001B[0m\u001B[37m\u001B[0m \u001B[1m0s\u001B[0m 2ms/step - accuracy: 0.9773 - loss: 0.0547 - val_accuracy: 0.9441 - val_loss: 0.0776\n",
      "Epoch 98/100\n",
      "\u001B[1m20/20\u001B[0m \u001B[32m━━━━━━━━━━━━━━━━━━━━\u001B[0m\u001B[37m\u001B[0m \u001B[1m0s\u001B[0m 2ms/step - accuracy: 0.9777 - loss: 0.0550 - val_accuracy: 0.9441 - val_loss: 0.0816\n",
      "Epoch 99/100\n",
      "\u001B[1m20/20\u001B[0m \u001B[32m━━━━━━━━━━━━━━━━━━━━\u001B[0m\u001B[37m\u001B[0m \u001B[1m0s\u001B[0m 2ms/step - accuracy: 0.9654 - loss: 0.0696 - val_accuracy: 0.9441 - val_loss: 0.0757\n",
      "Epoch 100/100\n",
      "\u001B[1m20/20\u001B[0m \u001B[32m━━━━━━━━━━━━━━━━━━━━\u001B[0m\u001B[37m\u001B[0m \u001B[1m0s\u001B[0m 2ms/step - accuracy: 0.9688 - loss: 0.0664 - val_accuracy: 0.9441 - val_loss: 0.0755\n",
      "\u001B[1m11/11\u001B[0m \u001B[32m━━━━━━━━━━━━━━━━━━━━\u001B[0m\u001B[37m\u001B[0m \u001B[1m0s\u001B[0m 764us/step - accuracy: 0.9490 - loss: 0.1142\n",
      "Test Accuracy: 0.9622092843055725\n",
      "\u001B[1m11/11\u001B[0m \u001B[32m━━━━━━━━━━━━━━━━━━━━\u001B[0m\u001B[37m\u001B[0m \u001B[1m0s\u001B[0m 3ms/step \n",
      "Accuracy: 0.9622093023255814\n",
      "Precision: 0.75\n",
      "Recall: 0.6521739130434783\n",
      "F1: 0.6976744186046512\n",
      "AUC: 0.9842882297169172\n"
     ]
    }
   ],
   "source": [
    "\n",
    "RN = Sequential()\n",
    "\n",
    "input_dim = X_train[ACX2Features].shape[1]\n",
    "RN.add(Dense(units=64, activation='relu', input_dim=input_dim))\n",
    "RN.add(Dense(units=32, activation='relu'))\n",
    "RN.add(Dense(units=1, activation='sigmoid'))\n",
    "RN.compile(optimizer=Adam(learning_rate=0.001),\n",
    "           loss=BinaryCrossentropy(),\n",
    "           metrics=['accuracy'])\n",
    "\n",
    "history = RN.fit(X_train[ACX2Features], y_train, epochs=100, batch_size=32, validation_split=0.2)\n",
    "\n",
    "loss, accuracy = RN.evaluate(X_test[ACX2Features], y_test)\n",
    "\n",
    "print(f'Test Accuracy: {accuracy}')\n",
    "y_pred_prob = RN.predict(X_test[ACX2Features])\n",
    "y_pred = (y_pred_prob > 0.5).astype(int)\n",
    "\n",
    "print(\"Accuracy:\", accuracy_score(y_test, y_pred))\n",
    "print(\"Precision:\", precision_score(y_test, y_pred))\n",
    "print(\"Recall:\", recall_score(y_test, y_pred))\n",
    "print(\"F1:\", f1_score(y_test, y_pred))\n",
    "print(\"AUC:\", roc_auc_score(y_test, y_pred_prob))"
   ],
   "metadata": {
    "collapsed": false,
    "ExecuteTime": {
     "end_time": "2024-11-01T22:09:39.742519900Z",
     "start_time": "2024-11-01T22:09:33.455961300Z"
    }
   },
   "id": "18871e152c695a6b",
   "execution_count": 34
  },
  {
   "cell_type": "markdown",
   "source": [
    "RELIEFF"
   ],
   "metadata": {
    "collapsed": false
   },
   "id": "1248f7a794251bcb"
  },
  {
   "cell_type": "code",
   "outputs": [
    {
     "name": "stdout",
     "output_type": "stream",
     "text": [
      "Epoch 1/100\n",
      "\u001B[1m20/20\u001B[0m \u001B[32m━━━━━━━━━━━━━━━━━━━━\u001B[0m\u001B[37m\u001B[0m \u001B[1m1s\u001B[0m 6ms/step - accuracy: 0.7308 - loss: 0.6279 - val_accuracy: 0.9193 - val_loss: 0.4086\n",
      "Epoch 2/100\n",
      "\u001B[1m20/20\u001B[0m \u001B[32m━━━━━━━━━━━━━━━━━━━━\u001B[0m\u001B[37m\u001B[0m \u001B[1m0s\u001B[0m 2ms/step - accuracy: 0.9028 - loss: 0.3979 - val_accuracy: 0.9193 - val_loss: 0.2862\n",
      "Epoch 3/100\n",
      "\u001B[1m20/20\u001B[0m \u001B[32m━━━━━━━━━━━━━━━━━━━━\u001B[0m\u001B[37m\u001B[0m \u001B[1m0s\u001B[0m 2ms/step - accuracy: 0.8874 - loss: 0.3701 - val_accuracy: 0.9193 - val_loss: 0.2638\n",
      "Epoch 4/100\n",
      "\u001B[1m20/20\u001B[0m \u001B[32m━━━━━━━━━━━━━━━━━━━━\u001B[0m\u001B[37m\u001B[0m \u001B[1m0s\u001B[0m 2ms/step - accuracy: 0.9038 - loss: 0.3016 - val_accuracy: 0.9193 - val_loss: 0.2405\n",
      "Epoch 5/100\n",
      "\u001B[1m20/20\u001B[0m \u001B[32m━━━━━━━━━━━━━━━━━━━━\u001B[0m\u001B[37m\u001B[0m \u001B[1m0s\u001B[0m 2ms/step - accuracy: 0.9066 - loss: 0.2660 - val_accuracy: 0.9193 - val_loss: 0.2177\n",
      "Epoch 6/100\n",
      "\u001B[1m20/20\u001B[0m \u001B[32m━━━━━━━━━━━━━━━━━━━━\u001B[0m\u001B[37m\u001B[0m \u001B[1m0s\u001B[0m 2ms/step - accuracy: 0.9128 - loss: 0.2268 - val_accuracy: 0.9193 - val_loss: 0.1929\n",
      "Epoch 7/100\n",
      "\u001B[1m20/20\u001B[0m \u001B[32m━━━━━━━━━━━━━━━━━━━━\u001B[0m\u001B[37m\u001B[0m \u001B[1m0s\u001B[0m 2ms/step - accuracy: 0.9240 - loss: 0.2143 - val_accuracy: 0.9317 - val_loss: 0.1727\n",
      "Epoch 8/100\n",
      "\u001B[1m20/20\u001B[0m \u001B[32m━━━━━━━━━━━━━━━━━━━━\u001B[0m\u001B[37m\u001B[0m \u001B[1m0s\u001B[0m 2ms/step - accuracy: 0.9224 - loss: 0.1923 - val_accuracy: 0.9317 - val_loss: 0.1568\n",
      "Epoch 9/100\n",
      "\u001B[1m20/20\u001B[0m \u001B[32m━━━━━━━━━━━━━━━━━━━━\u001B[0m\u001B[37m\u001B[0m \u001B[1m0s\u001B[0m 2ms/step - accuracy: 0.9428 - loss: 0.1537 - val_accuracy: 0.9441 - val_loss: 0.1447\n",
      "Epoch 10/100\n",
      "\u001B[1m20/20\u001B[0m \u001B[32m━━━━━━━━━━━━━━━━━━━━\u001B[0m\u001B[37m\u001B[0m \u001B[1m0s\u001B[0m 2ms/step - accuracy: 0.9205 - loss: 0.1918 - val_accuracy: 0.9317 - val_loss: 0.1392\n",
      "Epoch 11/100\n",
      "\u001B[1m20/20\u001B[0m \u001B[32m━━━━━━━━━━━━━━━━━━━━\u001B[0m\u001B[37m\u001B[0m \u001B[1m0s\u001B[0m 2ms/step - accuracy: 0.9345 - loss: 0.1625 - val_accuracy: 0.9441 - val_loss: 0.1298\n",
      "Epoch 12/100\n",
      "\u001B[1m20/20\u001B[0m \u001B[32m━━━━━━━━━━━━━━━━━━━━\u001B[0m\u001B[37m\u001B[0m \u001B[1m0s\u001B[0m 2ms/step - accuracy: 0.9513 - loss: 0.1424 - val_accuracy: 0.9441 - val_loss: 0.1235\n",
      "Epoch 13/100\n",
      "\u001B[1m20/20\u001B[0m \u001B[32m━━━━━━━━━━━━━━━━━━━━\u001B[0m\u001B[37m\u001B[0m \u001B[1m0s\u001B[0m 2ms/step - accuracy: 0.9596 - loss: 0.1278 - val_accuracy: 0.9503 - val_loss: 0.1197\n",
      "Epoch 14/100\n",
      "\u001B[1m20/20\u001B[0m \u001B[32m━━━━━━━━━━━━━━━━━━━━\u001B[0m\u001B[37m\u001B[0m \u001B[1m0s\u001B[0m 2ms/step - accuracy: 0.9732 - loss: 0.1115 - val_accuracy: 0.9565 - val_loss: 0.1160\n",
      "Epoch 15/100\n",
      "\u001B[1m20/20\u001B[0m \u001B[32m━━━━━━━━━━━━━━━━━━━━\u001B[0m\u001B[37m\u001B[0m \u001B[1m0s\u001B[0m 2ms/step - accuracy: 0.9493 - loss: 0.1057 - val_accuracy: 0.9565 - val_loss: 0.1139\n",
      "Epoch 16/100\n",
      "\u001B[1m20/20\u001B[0m \u001B[32m━━━━━━━━━━━━━━━━━━━━\u001B[0m\u001B[37m\u001B[0m \u001B[1m0s\u001B[0m 2ms/step - accuracy: 0.9515 - loss: 0.1085 - val_accuracy: 0.9565 - val_loss: 0.1135\n",
      "Epoch 17/100\n",
      "\u001B[1m20/20\u001B[0m \u001B[32m━━━━━━━━━━━━━━━━━━━━\u001B[0m\u001B[37m\u001B[0m \u001B[1m0s\u001B[0m 2ms/step - accuracy: 0.9621 - loss: 0.1050 - val_accuracy: 0.9441 - val_loss: 0.1171\n",
      "Epoch 18/100\n",
      "\u001B[1m20/20\u001B[0m \u001B[32m━━━━━━━━━━━━━━━━━━━━\u001B[0m\u001B[37m\u001B[0m \u001B[1m0s\u001B[0m 2ms/step - accuracy: 0.9498 - loss: 0.1172 - val_accuracy: 0.9565 - val_loss: 0.1079\n",
      "Epoch 19/100\n",
      "\u001B[1m20/20\u001B[0m \u001B[32m━━━━━━━━━━━━━━━━━━━━\u001B[0m\u001B[37m\u001B[0m \u001B[1m0s\u001B[0m 2ms/step - accuracy: 0.9583 - loss: 0.1017 - val_accuracy: 0.9565 - val_loss: 0.1072\n",
      "Epoch 20/100\n",
      "\u001B[1m20/20\u001B[0m \u001B[32m━━━━━━━━━━━━━━━━━━━━\u001B[0m\u001B[37m\u001B[0m \u001B[1m0s\u001B[0m 2ms/step - accuracy: 0.9532 - loss: 0.1015 - val_accuracy: 0.9503 - val_loss: 0.1100\n",
      "Epoch 21/100\n",
      "\u001B[1m20/20\u001B[0m \u001B[32m━━━━━━━━━━━━━━━━━━━━\u001B[0m\u001B[37m\u001B[0m \u001B[1m0s\u001B[0m 2ms/step - accuracy: 0.9599 - loss: 0.0995 - val_accuracy: 0.9565 - val_loss: 0.1040\n",
      "Epoch 22/100\n",
      "\u001B[1m20/20\u001B[0m \u001B[32m━━━━━━━━━━━━━━━━━━━━\u001B[0m\u001B[37m\u001B[0m \u001B[1m0s\u001B[0m 2ms/step - accuracy: 0.9492 - loss: 0.1023 - val_accuracy: 0.9503 - val_loss: 0.1089\n",
      "Epoch 23/100\n",
      "\u001B[1m20/20\u001B[0m \u001B[32m━━━━━━━━━━━━━━━━━━━━\u001B[0m\u001B[37m\u001B[0m \u001B[1m0s\u001B[0m 2ms/step - accuracy: 0.9657 - loss: 0.0854 - val_accuracy: 0.9565 - val_loss: 0.1060\n",
      "Epoch 24/100\n",
      "\u001B[1m20/20\u001B[0m \u001B[32m━━━━━━━━━━━━━━━━━━━━\u001B[0m\u001B[37m\u001B[0m \u001B[1m0s\u001B[0m 2ms/step - accuracy: 0.9608 - loss: 0.0928 - val_accuracy: 0.9565 - val_loss: 0.1058\n",
      "Epoch 25/100\n",
      "\u001B[1m20/20\u001B[0m \u001B[32m━━━━━━━━━━━━━━━━━━━━\u001B[0m\u001B[37m\u001B[0m \u001B[1m0s\u001B[0m 2ms/step - accuracy: 0.9480 - loss: 0.1098 - val_accuracy: 0.9441 - val_loss: 0.1136\n",
      "Epoch 26/100\n",
      "\u001B[1m20/20\u001B[0m \u001B[32m━━━━━━━━━━━━━━━━━━━━\u001B[0m\u001B[37m\u001B[0m \u001B[1m0s\u001B[0m 2ms/step - accuracy: 0.9685 - loss: 0.0943 - val_accuracy: 0.9565 - val_loss: 0.1040\n",
      "Epoch 27/100\n",
      "\u001B[1m20/20\u001B[0m \u001B[32m━━━━━━━━━━━━━━━━━━━━\u001B[0m\u001B[37m\u001B[0m \u001B[1m0s\u001B[0m 2ms/step - accuracy: 0.9593 - loss: 0.0927 - val_accuracy: 0.9565 - val_loss: 0.1012\n",
      "Epoch 28/100\n",
      "\u001B[1m20/20\u001B[0m \u001B[32m━━━━━━━━━━━━━━━━━━━━\u001B[0m\u001B[37m\u001B[0m \u001B[1m0s\u001B[0m 2ms/step - accuracy: 0.9591 - loss: 0.0956 - val_accuracy: 0.9503 - val_loss: 0.1087\n",
      "Epoch 29/100\n",
      "\u001B[1m20/20\u001B[0m \u001B[32m━━━━━━━━━━━━━━━━━━━━\u001B[0m\u001B[37m\u001B[0m \u001B[1m0s\u001B[0m 2ms/step - accuracy: 0.9612 - loss: 0.0809 - val_accuracy: 0.9627 - val_loss: 0.0980\n",
      "Epoch 30/100\n",
      "\u001B[1m20/20\u001B[0m \u001B[32m━━━━━━━━━━━━━━━━━━━━\u001B[0m\u001B[37m\u001B[0m \u001B[1m0s\u001B[0m 2ms/step - accuracy: 0.9631 - loss: 0.0883 - val_accuracy: 0.9503 - val_loss: 0.1088\n",
      "Epoch 31/100\n",
      "\u001B[1m20/20\u001B[0m \u001B[32m━━━━━━━━━━━━━━━━━━━━\u001B[0m\u001B[37m\u001B[0m \u001B[1m0s\u001B[0m 2ms/step - accuracy: 0.9745 - loss: 0.0699 - val_accuracy: 0.9689 - val_loss: 0.0975\n",
      "Epoch 32/100\n",
      "\u001B[1m20/20\u001B[0m \u001B[32m━━━━━━━━━━━━━━━━━━━━\u001B[0m\u001B[37m\u001B[0m \u001B[1m0s\u001B[0m 2ms/step - accuracy: 0.9737 - loss: 0.0769 - val_accuracy: 0.9627 - val_loss: 0.0998\n",
      "Epoch 33/100\n",
      "\u001B[1m20/20\u001B[0m \u001B[32m━━━━━━━━━━━━━━━━━━━━\u001B[0m\u001B[37m\u001B[0m \u001B[1m0s\u001B[0m 2ms/step - accuracy: 0.9527 - loss: 0.0917 - val_accuracy: 0.9627 - val_loss: 0.0987\n",
      "Epoch 34/100\n",
      "\u001B[1m20/20\u001B[0m \u001B[32m━━━━━━━━━━━━━━━━━━━━\u001B[0m\u001B[37m\u001B[0m \u001B[1m0s\u001B[0m 2ms/step - accuracy: 0.9712 - loss: 0.0763 - val_accuracy: 0.9627 - val_loss: 0.0995\n",
      "Epoch 35/100\n",
      "\u001B[1m20/20\u001B[0m \u001B[32m━━━━━━━━━━━━━━━━━━━━\u001B[0m\u001B[37m\u001B[0m \u001B[1m0s\u001B[0m 2ms/step - accuracy: 0.9685 - loss: 0.0714 - val_accuracy: 0.9752 - val_loss: 0.0962\n",
      "Epoch 36/100\n",
      "\u001B[1m20/20\u001B[0m \u001B[32m━━━━━━━━━━━━━━━━━━━━\u001B[0m\u001B[37m\u001B[0m \u001B[1m0s\u001B[0m 2ms/step - accuracy: 0.9590 - loss: 0.1049 - val_accuracy: 0.9565 - val_loss: 0.1058\n",
      "Epoch 37/100\n",
      "\u001B[1m20/20\u001B[0m \u001B[32m━━━━━━━━━━━━━━━━━━━━\u001B[0m\u001B[37m\u001B[0m \u001B[1m0s\u001B[0m 2ms/step - accuracy: 0.9695 - loss: 0.0842 - val_accuracy: 0.9627 - val_loss: 0.0982\n",
      "Epoch 38/100\n",
      "\u001B[1m20/20\u001B[0m \u001B[32m━━━━━━━━━━━━━━━━━━━━\u001B[0m\u001B[37m\u001B[0m \u001B[1m0s\u001B[0m 2ms/step - accuracy: 0.9556 - loss: 0.1003 - val_accuracy: 0.9627 - val_loss: 0.0999\n",
      "Epoch 39/100\n",
      "\u001B[1m20/20\u001B[0m \u001B[32m━━━━━━━━━━━━━━━━━━━━\u001B[0m\u001B[37m\u001B[0m \u001B[1m0s\u001B[0m 2ms/step - accuracy: 0.9726 - loss: 0.0811 - val_accuracy: 0.9627 - val_loss: 0.0992\n",
      "Epoch 40/100\n",
      "\u001B[1m20/20\u001B[0m \u001B[32m━━━━━━━━━━━━━━━━━━━━\u001B[0m\u001B[37m\u001B[0m \u001B[1m0s\u001B[0m 2ms/step - accuracy: 0.9715 - loss: 0.0633 - val_accuracy: 0.9752 - val_loss: 0.0947\n",
      "Epoch 41/100\n",
      "\u001B[1m20/20\u001B[0m \u001B[32m━━━━━━━━━━━━━━━━━━━━\u001B[0m\u001B[37m\u001B[0m \u001B[1m0s\u001B[0m 2ms/step - accuracy: 0.9729 - loss: 0.0716 - val_accuracy: 0.9752 - val_loss: 0.0944\n",
      "Epoch 42/100\n",
      "\u001B[1m20/20\u001B[0m \u001B[32m━━━━━━━━━━━━━━━━━━━━\u001B[0m\u001B[37m\u001B[0m \u001B[1m0s\u001B[0m 2ms/step - accuracy: 0.9612 - loss: 0.0734 - val_accuracy: 0.9627 - val_loss: 0.0992\n",
      "Epoch 43/100\n",
      "\u001B[1m20/20\u001B[0m \u001B[32m━━━━━━━━━━━━━━━━━━━━\u001B[0m\u001B[37m\u001B[0m \u001B[1m0s\u001B[0m 2ms/step - accuracy: 0.9715 - loss: 0.0839 - val_accuracy: 0.9752 - val_loss: 0.0934\n",
      "Epoch 44/100\n",
      "\u001B[1m20/20\u001B[0m \u001B[32m━━━━━━━━━━━━━━━━━━━━\u001B[0m\u001B[37m\u001B[0m \u001B[1m0s\u001B[0m 2ms/step - accuracy: 0.9647 - loss: 0.0838 - val_accuracy: 0.9627 - val_loss: 0.0965\n",
      "Epoch 45/100\n",
      "\u001B[1m20/20\u001B[0m \u001B[32m━━━━━━━━━━━━━━━━━━━━\u001B[0m\u001B[37m\u001B[0m \u001B[1m0s\u001B[0m 2ms/step - accuracy: 0.9552 - loss: 0.0874 - val_accuracy: 0.9627 - val_loss: 0.0957\n",
      "Epoch 46/100\n",
      "\u001B[1m20/20\u001B[0m \u001B[32m━━━━━━━━━━━━━━━━━━━━\u001B[0m\u001B[37m\u001B[0m \u001B[1m0s\u001B[0m 2ms/step - accuracy: 0.9533 - loss: 0.0761 - val_accuracy: 0.9627 - val_loss: 0.0949\n",
      "Epoch 47/100\n",
      "\u001B[1m20/20\u001B[0m \u001B[32m━━━━━━━━━━━━━━━━━━━━\u001B[0m\u001B[37m\u001B[0m \u001B[1m0s\u001B[0m 2ms/step - accuracy: 0.9572 - loss: 0.0983 - val_accuracy: 0.9627 - val_loss: 0.1029\n",
      "Epoch 48/100\n",
      "\u001B[1m20/20\u001B[0m \u001B[32m━━━━━━━━━━━━━━━━━━━━\u001B[0m\u001B[37m\u001B[0m \u001B[1m0s\u001B[0m 2ms/step - accuracy: 0.9750 - loss: 0.0689 - val_accuracy: 0.9752 - val_loss: 0.0910\n",
      "Epoch 49/100\n",
      "\u001B[1m20/20\u001B[0m \u001B[32m━━━━━━━━━━━━━━━━━━━━\u001B[0m\u001B[37m\u001B[0m \u001B[1m0s\u001B[0m 2ms/step - accuracy: 0.9676 - loss: 0.0806 - val_accuracy: 0.9627 - val_loss: 0.1049\n",
      "Epoch 50/100\n",
      "\u001B[1m20/20\u001B[0m \u001B[32m━━━━━━━━━━━━━━━━━━━━\u001B[0m\u001B[37m\u001B[0m \u001B[1m0s\u001B[0m 2ms/step - accuracy: 0.9698 - loss: 0.0779 - val_accuracy: 0.9752 - val_loss: 0.0928\n",
      "Epoch 51/100\n",
      "\u001B[1m20/20\u001B[0m \u001B[32m━━━━━━━━━━━━━━━━━━━━\u001B[0m\u001B[37m\u001B[0m \u001B[1m0s\u001B[0m 2ms/step - accuracy: 0.9694 - loss: 0.0720 - val_accuracy: 0.9689 - val_loss: 0.0955\n",
      "Epoch 52/100\n",
      "\u001B[1m20/20\u001B[0m \u001B[32m━━━━━━━━━━━━━━━━━━━━\u001B[0m\u001B[37m\u001B[0m \u001B[1m0s\u001B[0m 2ms/step - accuracy: 0.9698 - loss: 0.0669 - val_accuracy: 0.9627 - val_loss: 0.0949\n",
      "Epoch 53/100\n",
      "\u001B[1m20/20\u001B[0m \u001B[32m━━━━━━━━━━━━━━━━━━━━\u001B[0m\u001B[37m\u001B[0m \u001B[1m0s\u001B[0m 2ms/step - accuracy: 0.9531 - loss: 0.0873 - val_accuracy: 0.9689 - val_loss: 0.0947\n",
      "Epoch 54/100\n",
      "\u001B[1m20/20\u001B[0m \u001B[32m━━━━━━━━━━━━━━━━━━━━\u001B[0m\u001B[37m\u001B[0m \u001B[1m0s\u001B[0m 2ms/step - accuracy: 0.9613 - loss: 0.0877 - val_accuracy: 0.9627 - val_loss: 0.0988\n",
      "Epoch 55/100\n",
      "\u001B[1m20/20\u001B[0m \u001B[32m━━━━━━━━━━━━━━━━━━━━\u001B[0m\u001B[37m\u001B[0m \u001B[1m0s\u001B[0m 2ms/step - accuracy: 0.9693 - loss: 0.0938 - val_accuracy: 0.9627 - val_loss: 0.1000\n",
      "Epoch 56/100\n",
      "\u001B[1m20/20\u001B[0m \u001B[32m━━━━━━━━━━━━━━━━━━━━\u001B[0m\u001B[37m\u001B[0m \u001B[1m0s\u001B[0m 2ms/step - accuracy: 0.9683 - loss: 0.0850 - val_accuracy: 0.9689 - val_loss: 0.0943\n",
      "Epoch 57/100\n",
      "\u001B[1m20/20\u001B[0m \u001B[32m━━━━━━━━━━━━━━━━━━━━\u001B[0m\u001B[37m\u001B[0m \u001B[1m0s\u001B[0m 2ms/step - accuracy: 0.9608 - loss: 0.0745 - val_accuracy: 0.9627 - val_loss: 0.0986\n",
      "Epoch 58/100\n",
      "\u001B[1m20/20\u001B[0m \u001B[32m━━━━━━━━━━━━━━━━━━━━\u001B[0m\u001B[37m\u001B[0m \u001B[1m0s\u001B[0m 2ms/step - accuracy: 0.9749 - loss: 0.0626 - val_accuracy: 0.9752 - val_loss: 0.0912\n",
      "Epoch 59/100\n",
      "\u001B[1m20/20\u001B[0m \u001B[32m━━━━━━━━━━━━━━━━━━━━\u001B[0m\u001B[37m\u001B[0m \u001B[1m0s\u001B[0m 2ms/step - accuracy: 0.9605 - loss: 0.0808 - val_accuracy: 0.9627 - val_loss: 0.0953\n",
      "Epoch 60/100\n",
      "\u001B[1m20/20\u001B[0m \u001B[32m━━━━━━━━━━━━━━━━━━━━\u001B[0m\u001B[37m\u001B[0m \u001B[1m0s\u001B[0m 2ms/step - accuracy: 0.9687 - loss: 0.0912 - val_accuracy: 0.9689 - val_loss: 0.0942\n",
      "Epoch 61/100\n",
      "\u001B[1m20/20\u001B[0m \u001B[32m━━━━━━━━━━━━━━━━━━━━\u001B[0m\u001B[37m\u001B[0m \u001B[1m0s\u001B[0m 2ms/step - accuracy: 0.9606 - loss: 0.0719 - val_accuracy: 0.9752 - val_loss: 0.0907\n",
      "Epoch 62/100\n",
      "\u001B[1m20/20\u001B[0m \u001B[32m━━━━━━━━━━━━━━━━━━━━\u001B[0m\u001B[37m\u001B[0m \u001B[1m0s\u001B[0m 2ms/step - accuracy: 0.9763 - loss: 0.0736 - val_accuracy: 0.9689 - val_loss: 0.0923\n",
      "Epoch 63/100\n",
      "\u001B[1m20/20\u001B[0m \u001B[32m━━━━━━━━━━━━━━━━━━━━\u001B[0m\u001B[37m\u001B[0m \u001B[1m0s\u001B[0m 2ms/step - accuracy: 0.9625 - loss: 0.0912 - val_accuracy: 0.9627 - val_loss: 0.0985\n",
      "Epoch 64/100\n",
      "\u001B[1m20/20\u001B[0m \u001B[32m━━━━━━━━━━━━━━━━━━━━\u001B[0m\u001B[37m\u001B[0m \u001B[1m0s\u001B[0m 2ms/step - accuracy: 0.9721 - loss: 0.0637 - val_accuracy: 0.9752 - val_loss: 0.0912\n",
      "Epoch 65/100\n",
      "\u001B[1m20/20\u001B[0m \u001B[32m━━━━━━━━━━━━━━━━━━━━\u001B[0m\u001B[37m\u001B[0m \u001B[1m0s\u001B[0m 2ms/step - accuracy: 0.9696 - loss: 0.0853 - val_accuracy: 0.9627 - val_loss: 0.0967\n",
      "Epoch 66/100\n",
      "\u001B[1m20/20\u001B[0m \u001B[32m━━━━━━━━━━━━━━━━━━━━\u001B[0m\u001B[37m\u001B[0m \u001B[1m0s\u001B[0m 2ms/step - accuracy: 0.9621 - loss: 0.1085 - val_accuracy: 0.9627 - val_loss: 0.0937\n",
      "Epoch 67/100\n",
      "\u001B[1m20/20\u001B[0m \u001B[32m━━━━━━━━━━━━━━━━━━━━\u001B[0m\u001B[37m\u001B[0m \u001B[1m0s\u001B[0m 2ms/step - accuracy: 0.9794 - loss: 0.0520 - val_accuracy: 0.9689 - val_loss: 0.0907\n",
      "Epoch 68/100\n",
      "\u001B[1m20/20\u001B[0m \u001B[32m━━━━━━━━━━━━━━━━━━━━\u001B[0m\u001B[37m\u001B[0m \u001B[1m0s\u001B[0m 2ms/step - accuracy: 0.9719 - loss: 0.0839 - val_accuracy: 0.9627 - val_loss: 0.1013\n",
      "Epoch 69/100\n",
      "\u001B[1m20/20\u001B[0m \u001B[32m━━━━━━━━━━━━━━━━━━━━\u001B[0m\u001B[37m\u001B[0m \u001B[1m0s\u001B[0m 2ms/step - accuracy: 0.9697 - loss: 0.0835 - val_accuracy: 0.9752 - val_loss: 0.0904\n",
      "Epoch 70/100\n",
      "\u001B[1m20/20\u001B[0m \u001B[32m━━━━━━━━━━━━━━━━━━━━\u001B[0m\u001B[37m\u001B[0m \u001B[1m0s\u001B[0m 2ms/step - accuracy: 0.9717 - loss: 0.0816 - val_accuracy: 0.9689 - val_loss: 0.0952\n",
      "Epoch 71/100\n",
      "\u001B[1m20/20\u001B[0m \u001B[32m━━━━━━━━━━━━━━━━━━━━\u001B[0m\u001B[37m\u001B[0m \u001B[1m0s\u001B[0m 2ms/step - accuracy: 0.9651 - loss: 0.0708 - val_accuracy: 0.9689 - val_loss: 0.0933\n",
      "Epoch 72/100\n",
      "\u001B[1m20/20\u001B[0m \u001B[32m━━━━━━━━━━━━━━━━━━━━\u001B[0m\u001B[37m\u001B[0m \u001B[1m0s\u001B[0m 2ms/step - accuracy: 0.9599 - loss: 0.0829 - val_accuracy: 0.9627 - val_loss: 0.1029\n",
      "Epoch 73/100\n",
      "\u001B[1m20/20\u001B[0m \u001B[32m━━━━━━━━━━━━━━━━━━━━\u001B[0m\u001B[37m\u001B[0m \u001B[1m0s\u001B[0m 2ms/step - accuracy: 0.9806 - loss: 0.0548 - val_accuracy: 0.9752 - val_loss: 0.0895\n",
      "Epoch 74/100\n",
      "\u001B[1m20/20\u001B[0m \u001B[32m━━━━━━━━━━━━━━━━━━━━\u001B[0m\u001B[37m\u001B[0m \u001B[1m0s\u001B[0m 2ms/step - accuracy: 0.9622 - loss: 0.1026 - val_accuracy: 0.9627 - val_loss: 0.1011\n",
      "Epoch 75/100\n",
      "\u001B[1m20/20\u001B[0m \u001B[32m━━━━━━━━━━━━━━━━━━━━\u001B[0m\u001B[37m\u001B[0m \u001B[1m0s\u001B[0m 2ms/step - accuracy: 0.9662 - loss: 0.0750 - val_accuracy: 0.9752 - val_loss: 0.0921\n",
      "Epoch 76/100\n",
      "\u001B[1m20/20\u001B[0m \u001B[32m━━━━━━━━━━━━━━━━━━━━\u001B[0m\u001B[37m\u001B[0m \u001B[1m0s\u001B[0m 2ms/step - accuracy: 0.9665 - loss: 0.0813 - val_accuracy: 0.9627 - val_loss: 0.1010\n",
      "Epoch 77/100\n",
      "\u001B[1m20/20\u001B[0m \u001B[32m━━━━━━━━━━━━━━━━━━━━\u001B[0m\u001B[37m\u001B[0m \u001B[1m0s\u001B[0m 2ms/step - accuracy: 0.9772 - loss: 0.0580 - val_accuracy: 0.9752 - val_loss: 0.0908\n",
      "Epoch 78/100\n",
      "\u001B[1m20/20\u001B[0m \u001B[32m━━━━━━━━━━━━━━━━━━━━\u001B[0m\u001B[37m\u001B[0m \u001B[1m0s\u001B[0m 2ms/step - accuracy: 0.9684 - loss: 0.0735 - val_accuracy: 0.9565 - val_loss: 0.1076\n",
      "Epoch 79/100\n",
      "\u001B[1m20/20\u001B[0m \u001B[32m━━━━━━━━━━━━━━━━━━━━\u001B[0m\u001B[37m\u001B[0m \u001B[1m0s\u001B[0m 2ms/step - accuracy: 0.9602 - loss: 0.0797 - val_accuracy: 0.9627 - val_loss: 0.0985\n",
      "Epoch 80/100\n",
      "\u001B[1m20/20\u001B[0m \u001B[32m━━━━━━━━━━━━━━━━━━━━\u001B[0m\u001B[37m\u001B[0m \u001B[1m0s\u001B[0m 2ms/step - accuracy: 0.9674 - loss: 0.0767 - val_accuracy: 0.9689 - val_loss: 0.0924\n",
      "Epoch 81/100\n",
      "\u001B[1m20/20\u001B[0m \u001B[32m━━━━━━━━━━━━━━━━━━━━\u001B[0m\u001B[37m\u001B[0m \u001B[1m0s\u001B[0m 2ms/step - accuracy: 0.9713 - loss: 0.0836 - val_accuracy: 0.9627 - val_loss: 0.0992\n",
      "Epoch 82/100\n",
      "\u001B[1m20/20\u001B[0m \u001B[32m━━━━━━━━━━━━━━━━━━━━\u001B[0m\u001B[37m\u001B[0m \u001B[1m0s\u001B[0m 2ms/step - accuracy: 0.9729 - loss: 0.0610 - val_accuracy: 0.9752 - val_loss: 0.0889\n",
      "Epoch 83/100\n",
      "\u001B[1m20/20\u001B[0m \u001B[32m━━━━━━━━━━━━━━━━━━━━\u001B[0m\u001B[37m\u001B[0m \u001B[1m0s\u001B[0m 2ms/step - accuracy: 0.9534 - loss: 0.0869 - val_accuracy: 0.9689 - val_loss: 0.0899\n",
      "Epoch 84/100\n",
      "\u001B[1m20/20\u001B[0m \u001B[32m━━━━━━━━━━━━━━━━━━━━\u001B[0m\u001B[37m\u001B[0m \u001B[1m0s\u001B[0m 2ms/step - accuracy: 0.9585 - loss: 0.1004 - val_accuracy: 0.9689 - val_loss: 0.0942\n",
      "Epoch 85/100\n",
      "\u001B[1m20/20\u001B[0m \u001B[32m━━━━━━━━━━━━━━━━━━━━\u001B[0m\u001B[37m\u001B[0m \u001B[1m0s\u001B[0m 2ms/step - accuracy: 0.9757 - loss: 0.0603 - val_accuracy: 0.9752 - val_loss: 0.0901\n",
      "Epoch 86/100\n",
      "\u001B[1m20/20\u001B[0m \u001B[32m━━━━━━━━━━━━━━━━━━━━\u001B[0m\u001B[37m\u001B[0m \u001B[1m0s\u001B[0m 2ms/step - accuracy: 0.9733 - loss: 0.0498 - val_accuracy: 0.9689 - val_loss: 0.0938\n",
      "Epoch 87/100\n",
      "\u001B[1m20/20\u001B[0m \u001B[32m━━━━━━━━━━━━━━━━━━━━\u001B[0m\u001B[37m\u001B[0m \u001B[1m0s\u001B[0m 2ms/step - accuracy: 0.9739 - loss: 0.0815 - val_accuracy: 0.9752 - val_loss: 0.0896\n",
      "Epoch 88/100\n",
      "\u001B[1m20/20\u001B[0m \u001B[32m━━━━━━━━━━━━━━━━━━━━\u001B[0m\u001B[37m\u001B[0m \u001B[1m0s\u001B[0m 2ms/step - accuracy: 0.9655 - loss: 0.0909 - val_accuracy: 0.9689 - val_loss: 0.0908\n",
      "Epoch 89/100\n",
      "\u001B[1m20/20\u001B[0m \u001B[32m━━━━━━━━━━━━━━━━━━━━\u001B[0m\u001B[37m\u001B[0m \u001B[1m0s\u001B[0m 2ms/step - accuracy: 0.9718 - loss: 0.0675 - val_accuracy: 0.9627 - val_loss: 0.1040\n",
      "Epoch 90/100\n",
      "\u001B[1m20/20\u001B[0m \u001B[32m━━━━━━━━━━━━━━━━━━━━\u001B[0m\u001B[37m\u001B[0m \u001B[1m0s\u001B[0m 2ms/step - accuracy: 0.9702 - loss: 0.0757 - val_accuracy: 0.9752 - val_loss: 0.0890\n",
      "Epoch 91/100\n",
      "\u001B[1m20/20\u001B[0m \u001B[32m━━━━━━━━━━━━━━━━━━━━\u001B[0m\u001B[37m\u001B[0m \u001B[1m0s\u001B[0m 2ms/step - accuracy: 0.9614 - loss: 0.0997 - val_accuracy: 0.9752 - val_loss: 0.0907\n",
      "Epoch 92/100\n",
      "\u001B[1m20/20\u001B[0m \u001B[32m━━━━━━━━━━━━━━━━━━━━\u001B[0m\u001B[37m\u001B[0m \u001B[1m0s\u001B[0m 2ms/step - accuracy: 0.9751 - loss: 0.0600 - val_accuracy: 0.9689 - val_loss: 0.0920\n",
      "Epoch 93/100\n",
      "\u001B[1m20/20\u001B[0m \u001B[32m━━━━━━━━━━━━━━━━━━━━\u001B[0m\u001B[37m\u001B[0m \u001B[1m0s\u001B[0m 2ms/step - accuracy: 0.9752 - loss: 0.0629 - val_accuracy: 0.9689 - val_loss: 0.0944\n",
      "Epoch 94/100\n",
      "\u001B[1m20/20\u001B[0m \u001B[32m━━━━━━━━━━━━━━━━━━━━\u001B[0m\u001B[37m\u001B[0m \u001B[1m0s\u001B[0m 2ms/step - accuracy: 0.9801 - loss: 0.0547 - val_accuracy: 0.9689 - val_loss: 0.0909\n",
      "Epoch 95/100\n",
      "\u001B[1m20/20\u001B[0m \u001B[32m━━━━━━━━━━━━━━━━━━━━\u001B[0m\u001B[37m\u001B[0m \u001B[1m0s\u001B[0m 2ms/step - accuracy: 0.9703 - loss: 0.0820 - val_accuracy: 0.9627 - val_loss: 0.1035\n",
      "Epoch 96/100\n",
      "\u001B[1m20/20\u001B[0m \u001B[32m━━━━━━━━━━━━━━━━━━━━\u001B[0m\u001B[37m\u001B[0m \u001B[1m0s\u001B[0m 2ms/step - accuracy: 0.9773 - loss: 0.0611 - val_accuracy: 0.9752 - val_loss: 0.0891\n",
      "Epoch 97/100\n",
      "\u001B[1m20/20\u001B[0m \u001B[32m━━━━━━━━━━━━━━━━━━━━\u001B[0m\u001B[37m\u001B[0m \u001B[1m0s\u001B[0m 2ms/step - accuracy: 0.9632 - loss: 0.0796 - val_accuracy: 0.9689 - val_loss: 0.0946\n",
      "Epoch 98/100\n",
      "\u001B[1m20/20\u001B[0m \u001B[32m━━━━━━━━━━━━━━━━━━━━\u001B[0m\u001B[37m\u001B[0m \u001B[1m0s\u001B[0m 2ms/step - accuracy: 0.9795 - loss: 0.0629 - val_accuracy: 0.9689 - val_loss: 0.0999\n",
      "Epoch 99/100\n",
      "\u001B[1m20/20\u001B[0m \u001B[32m━━━━━━━━━━━━━━━━━━━━\u001B[0m\u001B[37m\u001B[0m \u001B[1m0s\u001B[0m 2ms/step - accuracy: 0.9724 - loss: 0.0660 - val_accuracy: 0.9752 - val_loss: 0.0917\n",
      "Epoch 100/100\n",
      "\u001B[1m20/20\u001B[0m \u001B[32m━━━━━━━━━━━━━━━━━━━━\u001B[0m\u001B[37m\u001B[0m \u001B[1m0s\u001B[0m 2ms/step - accuracy: 0.9653 - loss: 0.0769 - val_accuracy: 0.9689 - val_loss: 0.0951\n",
      "\u001B[1m11/11\u001B[0m \u001B[32m━━━━━━━━━━━━━━━━━━━━\u001B[0m\u001B[37m\u001B[0m \u001B[1m0s\u001B[0m 713us/step - accuracy: 0.9390 - loss: 0.1690\n",
      "Test Accuracy: 0.9534883499145508\n",
      "\u001B[1m11/11\u001B[0m \u001B[32m━━━━━━━━━━━━━━━━━━━━\u001B[0m\u001B[37m\u001B[0m \u001B[1m0s\u001B[0m 3ms/step \n",
      "Accuracy: 0.9534883720930233\n",
      "Precision: 0.6842105263157895\n",
      "Recall: 0.5652173913043478\n",
      "F1: 0.6190476190476191\n",
      "AUC: 0.9660029798185019\n"
     ]
    }
   ],
   "source": [
    "RN = Sequential()\n",
    "\n",
    "input_dim = X_train[ACRFeatures].shape[1]\n",
    "RN.add(Dense(units=64, activation='relu', input_dim=input_dim))\n",
    "RN.add(Dense(units=32, activation='relu'))\n",
    "RN.add(Dense(units=1, activation='sigmoid'))\n",
    "RN.compile(optimizer=Adam(learning_rate=0.001),\n",
    "           loss=BinaryCrossentropy(),\n",
    "           metrics=['accuracy'])\n",
    "\n",
    "history = RN.fit(X_train[ACRFeatures], y_train, epochs=100, batch_size=32, validation_split=0.2)\n",
    "\n",
    "loss, accuracy = RN.evaluate(X_test[ACRFeatures], y_test)\n",
    "\n",
    "print(f'Test Accuracy: {accuracy}')\n",
    "y_pred_prob = RN.predict(X_test[ACRFeatures])\n",
    "y_pred = (y_pred_prob > 0.5).astype(int)\n",
    "\n",
    "print(\"Accuracy:\", accuracy_score(y_test, y_pred))\n",
    "print(\"Precision:\", precision_score(y_test, y_pred))\n",
    "print(\"Recall:\", recall_score(y_test, y_pred))\n",
    "print(\"F1:\", f1_score(y_test, y_pred))\n",
    "print(\"AUC:\", roc_auc_score(y_test, y_pred_prob))"
   ],
   "metadata": {
    "collapsed": false,
    "ExecuteTime": {
     "end_time": "2024-11-01T22:09:46.068770300Z",
     "start_time": "2024-11-01T22:09:39.741520Z"
    }
   },
   "id": "f9e73b5be77d7950",
   "execution_count": 35
  },
  {
   "cell_type": "code",
   "outputs": [],
   "source": [
    "# import pickle\n",
    "# \n",
    "# with open('ACMIFeatures.pkl', 'wb') as f:\n",
    "#     pickle.dump(ACMIFeatures, f)\n",
    "# with open('ACX2Features.pkl', 'wb') as f:\n",
    "#     pickle.dump(ACX2Features, f)\n",
    "# with open('ACRFeatures.pkl', 'wb') as f:\n",
    "#     pickle.dump(ACRFeatures, f)"
   ],
   "metadata": {
    "collapsed": false,
    "ExecuteTime": {
     "end_time": "2024-11-01T22:09:46.071496500Z",
     "start_time": "2024-11-01T22:09:46.067311800Z"
    }
   },
   "id": "c1683fbd957a0e90",
   "execution_count": 36
  },
  {
   "cell_type": "code",
   "outputs": [],
   "source": [],
   "metadata": {
    "collapsed": false,
    "ExecuteTime": {
     "end_time": "2024-11-01T22:09:46.072609800Z",
     "start_time": "2024-11-01T22:09:46.070992Z"
    }
   },
   "id": "b3884fc7bc27fd88",
   "execution_count": 36
  }
 ],
 "metadata": {
  "kernelspec": {
   "display_name": "Python 3",
   "language": "python",
   "name": "python3"
  },
  "language_info": {
   "codemirror_mode": {
    "name": "ipython",
    "version": 2
   },
   "file_extension": ".py",
   "mimetype": "text/x-python",
   "name": "python",
   "nbconvert_exporter": "python",
   "pygments_lexer": "ipython2",
   "version": "2.7.6"
  }
 },
 "nbformat": 4,
 "nbformat_minor": 5
}

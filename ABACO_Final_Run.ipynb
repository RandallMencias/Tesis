{
 "cells": [
  {
   "cell_type": "code",
   "id": "initial_id",
   "metadata": {
    "collapsed": true,
    "ExecuteTime": {
     "end_time": "2024-11-02T16:28:02.661907Z",
     "start_time": "2024-11-02T16:28:02.648818Z"
    }
   },
   "source": [
    "from Metaheuristicas.fitness_functions import *\n",
    "from sklearn.metrics import confusion_matrix\n",
    "import seaborn as sns\n",
    "import matplotlib.pyplot as plt\n"
   ],
   "outputs": [],
   "execution_count": 3
  },
  {
   "cell_type": "code",
   "source": [
    "X, y = load_and_preprocess_data(filename='Resources/SeisBenchV1_v1_1.json')\n"
   ],
   "metadata": {
    "collapsed": false,
    "ExecuteTime": {
     "end_time": "2024-11-02T16:28:02.755838Z",
     "start_time": "2024-11-02T16:28:02.694329Z"
    }
   },
   "id": "aa2b839a0ac12d0c",
   "outputs": [],
   "execution_count": 4
  },
  {
   "metadata": {
    "ExecuteTime": {
     "end_time": "2024-11-02T16:28:02.771353Z",
     "start_time": "2024-11-02T16:28:02.759840Z"
    }
   },
   "cell_type": "code",
   "source": [
    "import pandas as pd\n",
    "from IPython.display import display, clear_output\n",
    "\n",
    "# Step 1: Initialize empty DataFrames for each classifier with metrics as columns\n",
    "metrics = [\"Accuracy\", \"Precision\", \"Recall\", \"F1 Score\", \"AUC\"]\n",
    "\n",
    "naive_bayes_df = pd.DataFrame(columns=metrics, index=[\"Mutual Information\", \"X2\", \"Relief\"])\n",
    "random_forest_df = pd.DataFrame(columns=metrics, index=[\"Mutual Information\", \"X2\", \"Relief\"])\n",
    "neural_network_df = pd.DataFrame(columns=metrics, index=[\"Mutual Information\", \"X2\", \"Relief\"])\n",
    "\n",
    "# Display all tables function\n",
    "def display_tables():\n",
    "    clear_output(wait=True)\n",
    "    print(\"Naive Bayes Results\")\n",
    "    display(naive_bayes_df)\n",
    "    print(\"Random Forest Results\")\n",
    "    display(random_forest_df)\n",
    "    print(\"Neural Network Results\")\n",
    "    display(neural_network_df)"
   ],
   "id": "aaf797e40b852754",
   "outputs": [],
   "execution_count": 5
  },
  {
   "metadata": {
    "ExecuteTime": {
     "end_time": "2024-11-02T16:28:02.803440Z",
     "start_time": "2024-11-02T16:28:02.788353Z"
    }
   },
   "cell_type": "code",
   "source": [
    "def add_result(classifier, fitness_function, accuracy, precision, recall, f1_score, auc):\n",
    "    new_data = {\n",
    "        \"Accuracy\": accuracy,\n",
    "        \"Precision\": precision,\n",
    "        \"Recall\": recall,\n",
    "        \"F1 Score\": f1_score,\n",
    "        \"AUC\": auc\n",
    "    }\n",
    "\n",
    "    if classifier == \"Naive Bayes\":\n",
    "        global naive_bayes_df\n",
    "        naive_bayes_df.loc[fitness_function] = new_data\n",
    "    elif classifier == \"Random Forest\":\n",
    "        global random_forest_df\n",
    "        random_forest_df.loc[fitness_function] = new_data\n",
    "    elif classifier == \"Neural Network\":\n",
    "        global neural_network_df\n",
    "        neural_network_df.loc[fitness_function] = new_data"
   ],
   "id": "e9938cc287098289",
   "outputs": [],
   "execution_count": 6
  },
  {
   "metadata": {
    "ExecuteTime": {
     "end_time": "2024-11-02T16:28:02.848867Z",
     "start_time": "2024-11-02T16:28:02.833867Z"
    }
   },
   "cell_type": "code",
   "source": [
    "def confusion_matrix_heatmap(y_true, y_pred):\n",
    "    cm = confusion_matrix(y_true, y_pred)\n",
    "    plt.figure(figsize=(8, 6))\n",
    "    sns.heatmap(cm, annot=True, fmt='d', cmap='Blues', cbar=False)\n",
    "    plt.xlabel('Predicted Labels')\n",
    "    plt.ylabel('True Labels')\n",
    "    plt.title('Confusion Matrix')\n",
    "    plt.show()"
   ],
   "id": "c507f71761f7b55a",
   "outputs": [],
   "execution_count": 7
  },
  {
   "metadata": {
    "ExecuteTime": {
     "end_time": "2024-11-02T16:28:02.880381Z",
     "start_time": "2024-11-02T16:28:02.865866Z"
    }
   },
   "cell_type": "code",
   "source": "n = 500",
   "id": "fd67de755b1553a6",
   "outputs": [],
   "execution_count": 8
  },
  {
   "cell_type": "code",
   "source": [
    "from Metaheuristicas.Ant_Colony_Optimization import AdvancedBinaryAntColonyOptimization\n",
    "\n",
    "aco = AdvancedBinaryAntColonyOptimization(n_ants=20, n_best=1, n_iterations=n, decay=0.8, alpha=1, beta=2,\n",
    "                                          local_search_prob=0.15)"
   ],
   "metadata": {
    "collapsed": false,
    "ExecuteTime": {
     "end_time": "2024-11-02T16:28:02.910460Z",
     "start_time": "2024-11-02T16:28:02.896380Z"
    }
   },
   "id": "ca4c77e3ca5f4f79",
   "outputs": [],
   "execution_count": 9
  },
  {
   "cell_type": "markdown",
   "source": [
    "#### Models Naive Bayes and Decision Tree"
   ],
   "metadata": {
    "collapsed": false
   },
   "id": "5aafef1bc4d32ad"
  },
  {
   "cell_type": "code",
   "source": [
    "from sklearn.metrics import accuracy_score, precision_score, recall_score, f1_score, roc_auc_score\n",
    "from sklearn.model_selection import train_test_split\n",
    "from sklearn.ensemble import RandomForestClassifier\n",
    "from sklearn.naive_bayes import GaussianNB\n",
    "\n",
    "NB = GaussianNB()\n",
    "DT = RandomForestClassifier()\n",
    "\n",
    "#dataset split\n",
    "\n",
    "X_train, X_test, y_train, y_test = train_test_split(X, y, test_size=0.3, random_state=42)\n"
   ],
   "metadata": {
    "collapsed": false,
    "ExecuteTime": {
     "end_time": "2024-11-02T16:28:02.972408Z",
     "start_time": "2024-11-02T16:28:02.926893Z"
    }
   },
   "id": "1cad8f015c03fd6a",
   "outputs": [],
   "execution_count": 10
  },
  {
   "cell_type": "markdown",
   "source": [
    "# ABACO with Mutual Information\n"
   ],
   "metadata": {
    "collapsed": false
   },
   "id": "fdacfe27fc6bf19f"
  },
  {
   "cell_type": "code",
   "source": [
    "#TODO: checar parametros\n",
    "aco = AdvancedBinaryAntColonyOptimization(n_ants=20, n_best=1, n_iterations=n, decay=0.6, alpha=1, beta=2,local_search_prob=0.15)\n",
    "bestfeatures, best_fitness = aco.fit(X.values, y.values, fitness_function=mutual_information_eval)\n",
    "ACMIFeatures = X.columns[bestfeatures.astype(bool)].tolist()\n"
   ],
   "metadata": {
    "collapsed": false,
    "ExecuteTime": {
     "end_time": "2024-11-02T16:48:36.083536Z",
     "start_time": "2024-11-02T16:28:03.005409Z"
    }
   },
   "id": "27afb8be55ef518",
   "outputs": [],
   "execution_count": 11
  },
  {
   "cell_type": "code",
   "source": [
    "NB.fit(X_train[ACMIFeatures], y_train)\n",
    "\n",
    "y_pred = NB.predict(X_test[ACMIFeatures])\n",
    "\n",
    "print(\"Accuracy:\", accuracy_score(y_test, y_pred))\n",
    "print(\"Precision:\", precision_score(y_test, y_pred))\n",
    "print(\"Recall:\", recall_score(y_test, y_pred))\n",
    "print(\"F1:\", f1_score(y_test, y_pred))\n",
    "print(\"AUC:\", roc_auc_score(y_test, y_pred))\n",
    "add_result(\"Naive Bayes\", \"Mutual Information\", accuracy_score(y_test, y_pred), precision_score(y_test, y_pred),recall_score(y_test, y_pred), f1_score(y_test, y_pred), roc_auc_score(y_test, y_pred))"
   ],
   "metadata": {
    "collapsed": false,
    "ExecuteTime": {
     "end_time": "2024-11-02T16:48:36.130069Z",
     "start_time": "2024-11-02T16:48:36.115554Z"
    }
   },
   "id": "e222b27f3bfd73ff",
   "outputs": [
    {
     "name": "stdout",
     "output_type": "stream",
     "text": [
      "Accuracy: 0.9505813953488372\n",
      "Precision: 0.6153846153846154\n",
      "Recall: 0.6956521739130435\n",
      "F1: 0.6530612244897959\n",
      "AUC: 0.8322497629689828\n"
     ]
    }
   ],
   "execution_count": 12
  },
  {
   "metadata": {
    "ExecuteTime": {
     "end_time": "2024-11-02T16:48:36.241096Z",
     "start_time": "2024-11-02T16:48:36.225096Z"
    }
   },
   "cell_type": "code",
   "source": "",
   "id": "b977e9a42b14cb6b",
   "outputs": [],
   "execution_count": null
  },
  {
   "metadata": {
    "ExecuteTime": {
     "end_time": "2024-11-02T16:48:36.414747Z",
     "start_time": "2024-11-02T16:48:36.273608Z"
    }
   },
   "cell_type": "code",
   "source": [
    "%matplotlib inline\n",
    "confusion_matrix_heatmap(y_test, y_pred)"
   ],
   "id": "f8bceb1b18321bfd",
   "outputs": [
    {
     "data": {
      "text/plain": [
       "<Figure size 800x600 with 1 Axes>"
      ],
      "image/png": "[encoded data removed]"
     },
     "metadata": {},
     "output_type": "display_data"
    }
   ],
   "execution_count": 13
  },
  {
   "cell_type": "code",
   "source": [
    "DT.fit(X_train[ACMIFeatures], y_train)\n",
    "\n",
    "y_pred = DT.predict(X_test[ACMIFeatures])\n",
    "\n",
    "print(\"Accuracy:\", accuracy_score(y_test, y_pred))\n",
    "print(\"Precision:\", precision_score(y_test, y_pred))\n",
    "print(\"Recall:\", recall_score(y_test, y_pred))\n",
    "print(\"F1:\", f1_score(y_test, y_pred))\n",
    "print(\"AUC:\", roc_auc_score(y_test, y_pred))"
   ],
   "metadata": {
    "collapsed": false,
    "ExecuteTime": {
     "end_time": "2024-11-02T16:48:36.648201Z",
     "start_time": "2024-11-02T16:48:36.447147Z"
    }
   },
   "id": "cfa13e64f7f8fae8",
   "outputs": [
    {
     "name": "stdout",
     "output_type": "stream",
     "text": [
      "Accuracy: 0.9622093023255814\n",
      "Precision: 0.7777777777777778\n",
      "Recall: 0.6086956521739131\n",
      "F1: 0.6829268292682927\n",
      "AUC: 0.798117296491941\n"
     ]
    }
   ],
   "execution_count": 14
  },
  {
   "cell_type": "code",
   "source": "add_result(\"Random Forest\", \"Mutual Information\", accuracy_score(y_test, y_pred), precision_score(y_test, y_pred),recall_score(y_test, y_pred), f1_score(y_test, y_pred), roc_auc_score(y_test, y_pred))",
   "metadata": {
    "collapsed": false,
    "ExecuteTime": {
     "end_time": "2024-11-02T16:48:36.694708Z",
     "start_time": "2024-11-02T16:48:36.680710Z"
    }
   },
   "id": "51304443ad03086a",
   "outputs": [],
   "execution_count": 15
  },
  {
   "metadata": {
    "ExecuteTime": {
     "end_time": "2024-11-02T16:48:36.741040Z",
     "start_time": "2024-11-02T16:48:36.726152Z"
    }
   },
   "cell_type": "code",
   "source": [
    "%matplotlib inline\n",
    "confusion_matrix_heatmap(y_test, y_pred)"
   ],
   "id": "36dd4593124c9599",
   "outputs": [],
   "execution_count": 16
  },
  {
   "cell_type": "markdown",
   "source": [],
   "metadata": {
    "collapsed": false
   },
   "id": "6499cf3717ea9c88"
  },
  {
   "cell_type": "markdown",
   "source": [
    "# ABACO with Chi2"
   ],
   "metadata": {
    "collapsed": false
   },
   "id": "738f5b3837eb3232"
  },
  {
   "cell_type": "code",
   "source": [
    "aco = AdvancedBinaryAntColonyOptimization(n_ants=20, n_best=1, n_iterations=n, decay=0.6, alpha=1, beta=2,local_search_prob=0.15)\n",
    "\n",
    "bestfeatures, best_fitness = aco.fit(X.values, y.values, fitness_function=chi2_eval)\n",
    "ACX2Features = X.columns[bestfeatures.astype(bool)].tolist()"
   ],
   "metadata": {
    "collapsed": false,
    "ExecuteTime": {
     "end_time": "2024-11-02T16:57:08.658325Z",
     "start_time": "2024-11-02T16:48:36.773556Z"
    }
   },
   "id": "a9ad1ed17eba54f5",
   "outputs": [],
   "execution_count": 17
  },
  {
   "cell_type": "code",
   "source": [
    "NB.fit(X_train[ACX2Features], y_train)\n",
    "y_pred = NB.predict(X_test[ACX2Features])\n",
    "\n",
    "print(\"Accuracy:\", accuracy_score(y_test, y_pred))\n",
    "print(\"Precision:\", precision_score(y_test, y_pred))\n",
    "print(\"Recall:\", recall_score(y_test, y_pred))\n",
    "print(\"F1:\", f1_score(y_test, y_pred))\n",
    "print(\"AUC:\", roc_auc_score(y_test, y_pred))\n",
    "add_result(\"Naive Bayes\", \"X2\", accuracy_score(y_test, y_pred), precision_score(y_test, y_pred),recall_score(y_test, y_pred), f1_score(y_test, y_pred), roc_auc_score(y_test, y_pred))"
   ],
   "metadata": {
    "collapsed": false,
    "ExecuteTime": {
     "end_time": "2024-11-02T16:57:08.705046Z",
     "start_time": "2024-11-02T16:57:08.690047Z"
    }
   },
   "id": "bddacde3cb4a9024",
   "outputs": [
    {
     "name": "stdout",
     "output_type": "stream",
     "text": [
      "Accuracy: 0.9593023255813954\n",
      "Precision: 0.6666666666666666\n",
      "Recall: 0.782608695652174\n",
      "F1: 0.72\n",
      "AUC: 0.8772856562373018\n"
     ]
    }
   ],
   "execution_count": 18
  },
  {
   "metadata": {
    "ExecuteTime": {
     "end_time": "2024-11-02T16:57:08.813874Z",
     "start_time": "2024-11-02T16:57:08.737564Z"
    }
   },
   "cell_type": "code",
   "source": "confusion_matrix_heatmap(y_test, y_pred)",
   "id": "5e195beb8a9660a2",
   "outputs": [
    {
     "data": {
      "text/plain": [
       "<Figure size 800x600 with 1 Axes>"
      ],
      "image/png": "[encoded data removed]"
     },
     "metadata": {},
     "output_type": "display_data"
    }
   ],
   "execution_count": 19
  },
  {
   "cell_type": "code",
   "source": [
    "DT.fit(X_train[ACX2Features], y_train)\n",
    "y_pred = DT.predict(X_test[ACX2Features])\n",
    "\n",
    "print(\"Accuracy:\", accuracy_score(y_test, y_pred))\n",
    "print(\"Precision:\", precision_score(y_test, y_pred))\n",
    "print(\"Recall:\", recall_score(y_test, y_pred))\n",
    "print(\"F1:\", f1_score(y_test, y_pred))\n",
    "print(\"AUC:\", roc_auc_score(y_test, y_pred))\n",
    "add_result(\"Random Forest\", \"X2\", accuracy_score(y_test, y_pred), precision_score(y_test, y_pred),recall_score(y_test, y_pred), f1_score(y_test, y_pred), roc_auc_score(y_test, y_pred))"
   ],
   "metadata": {
    "collapsed": false,
    "ExecuteTime": {
     "end_time": "2024-11-02T16:57:09.050483Z",
     "start_time": "2024-11-02T16:57:08.845438Z"
    }
   },
   "id": "7b6f2fb86e8ce7f8",
   "outputs": [
    {
     "name": "stdout",
     "output_type": "stream",
     "text": [
      "Accuracy: 0.9622093023255814\n",
      "Precision: 0.75\n",
      "Recall: 0.6521739130434783\n",
      "F1: 0.6976744186046512\n",
      "AUC: 0.8182987945279697\n"
     ]
    }
   ],
   "execution_count": 20
  },
  {
   "metadata": {
    "ExecuteTime": {
     "end_time": "2024-11-02T16:57:09.162046Z",
     "start_time": "2024-11-02T16:57:09.083483Z"
    }
   },
   "cell_type": "code",
   "source": "confusion_matrix_heatmap(y_test, y_pred)",
   "id": "d97f31dad5162617",
   "outputs": [
    {
     "data": {
      "text/plain": [
       "<Figure size 800x600 with 1 Axes>"
      ],
      "image/png": "[encoded data removed]"
     },
     "metadata": {},
     "output_type": "display_data"
    }
   ],
   "execution_count": 21
  },
  {
   "cell_type": "markdown",
   "source": [
    "# ABACO with ReliefF"
   ],
   "metadata": {
    "collapsed": false
   },
   "id": "44bea2b37508966a"
  },
  {
   "cell_type": "code",
   "source": [
    "aco = AdvancedBinaryAntColonyOptimization(n_ants=20, n_best=1, n_iterations=n, decay=0.6, alpha=1, beta=2,local_search_prob=0.15)\n",
    "\n",
    "bestfeatures, best_fitness = aco.fit(X.values, y.values, fitness_function=relieff_eval)\n",
    "ACRFeatures = X.columns[bestfeatures.astype(bool)].tolist()"
   ],
   "metadata": {
    "collapsed": false,
    "ExecuteTime": {
     "end_time": "2024-11-02T17:15:21.000403Z",
     "start_time": "2024-11-02T16:57:09.194500Z"
    }
   },
   "id": "37f89a6d5cfdb864",
   "outputs": [],
   "execution_count": 22
  },
  {
   "cell_type": "markdown",
   "source": [],
   "metadata": {
    "collapsed": false
   },
   "id": "c857cc136f8f20c5"
  },
  {
   "cell_type": "code",
   "source": [
    "NB.fit(X_train[ACRFeatures], y_train)\n",
    "y_pred = NB.predict(X_test[ACRFeatures])\n",
    "\n",
    "print(\"Accuracy:\", accuracy_score(y_test, y_pred))\n",
    "print(\"Precision:\", precision_score(y_test, y_pred))\n",
    "print(\"Recall:\", recall_score(y_test, y_pred))\n",
    "print(\"F1:\", f1_score(y_test, y_pred))\n",
    "print(\"AUC:\", roc_auc_score(y_test, y_pred))\n",
    "add_result(\"Naive Bayes\", \"Relief\", accuracy_score(y_test, y_pred), precision_score(y_test, y_pred),recall_score(y_test, y_pred), f1_score(y_test, y_pred), roc_auc_score(y_test, y_pred))"
   ],
   "metadata": {
    "collapsed": false,
    "ExecuteTime": {
     "end_time": "2024-11-02T17:15:21.063917Z",
     "start_time": "2024-11-02T17:15:21.033918Z"
    }
   },
   "id": "c18092371a5c95ee",
   "outputs": [
    {
     "name": "stdout",
     "output_type": "stream",
     "text": [
      "Accuracy: 0.9098837209302325\n",
      "Precision: 0.39473684210526316\n",
      "Recall: 0.6521739130434783\n",
      "F1: 0.49180327868852464\n",
      "AUC: 0.7902614113503995\n"
     ]
    }
   ],
   "execution_count": 23
  },
  {
   "metadata": {
    "ExecuteTime": {
     "end_time": "2024-11-02T17:15:21.236820Z",
     "start_time": "2024-11-02T17:15:21.155802Z"
    }
   },
   "cell_type": "code",
   "source": "confusion_matrix_heatmap(y_test, y_pred)",
   "id": "8dd5be4298a84d5",
   "outputs": [
    {
     "data": {
      "text/plain": [
       "<Figure size 800x600 with 1 Axes>"
      ],
      "image/png": "[encoded data removed]"
     },
     "metadata": {},
     "output_type": "display_data"
    }
   ],
   "execution_count": 24
  },
  {
   "cell_type": "code",
   "source": [
    "DT.fit(X_train[ACRFeatures], y_train)\n",
    "y_pred = DT.predict(X_test[ACRFeatures])\n",
    "\n",
    "print(\"Accuracy:\", accuracy_score(y_test, y_pred))\n",
    "print(\"Precision:\", precision_score(y_test, y_pred))\n",
    "print(\"Recall:\", recall_score(y_test, y_pred))\n",
    "print(\"F1:\", f1_score(y_test, y_pred))\n",
    "print(\"AUC:\", roc_auc_score(y_test, y_pred))\n",
    "add_result(\"Random Forest\", \"Relief\", accuracy_score(y_test, y_pred), precision_score(y_test, y_pred),recall_score(y_test, y_pred), f1_score(y_test, y_pred), roc_auc_score(y_test, y_pred))"
   ],
   "metadata": {
    "collapsed": false,
    "ExecuteTime": {
     "end_time": "2024-11-02T17:15:21.472109Z",
     "start_time": "2024-11-02T17:15:21.269077Z"
    }
   },
   "id": "8f03dc90075b09ea",
   "outputs": [
    {
     "name": "stdout",
     "output_type": "stream",
     "text": [
      "Accuracy: 0.9593023255813954\n",
      "Precision: 0.7368421052631579\n",
      "Recall: 0.6086956521739131\n",
      "F1: 0.6666666666666666\n",
      "AUC: 0.796559664093187\n"
     ]
    }
   ],
   "execution_count": 25
  },
  {
   "metadata": {
    "ExecuteTime": {
     "end_time": "2024-11-02T17:15:21.629639Z",
     "start_time": "2024-11-02T17:15:21.555620Z"
    }
   },
   "cell_type": "code",
   "source": "confusion_matrix_heatmap(y_test, y_pred)",
   "id": "7fda534b8f0c47cf",
   "outputs": [
    {
     "data": {
      "text/plain": [
       "<Figure size 800x600 with 1 Axes>"
      ],
      "image/png": "[encoded data removed]"
     },
     "metadata": {},
     "output_type": "display_data"
    }
   ],
   "execution_count": 26
  },
  {
   "cell_type": "markdown",
   "source": [
    "## Red Neuronal\n"
   ],
   "metadata": {
    "collapsed": false
   },
   "id": "c0fbf5b3e5c28f6f"
  },
  {
   "cell_type": "code",
   "source": [
    "\n",
    "from tensorflow.keras.models import Sequential\n",
    "from tensorflow.keras.layers import Dense\n",
    "from tensorflow.keras.optimizers import Adam\n",
    "from tensorflow.keras.losses import BinaryCrossentropy"
   ],
   "metadata": {
    "collapsed": false,
    "ExecuteTime": {
     "end_time": "2024-11-02T17:15:26.649314Z",
     "start_time": "2024-11-02T17:15:21.662643Z"
    }
   },
   "id": "7bca53201b5fe940",
   "outputs": [],
   "execution_count": 27
  },
  {
   "cell_type": "markdown",
   "source": [
    "MUTUAL_INFORMATION "
   ],
   "metadata": {
    "collapsed": false
   },
   "id": "6730803a5695bad8"
  },
  {
   "cell_type": "code",
   "source": [
    "\n",
    "\n",
    "# Crear y compilar el modelo\n",
    "RN = Sequential()\n",
    "\n",
    "# Definir la dimensión de entrada basada en las características seleccionadas\n",
    "input_dim = X_train[ACMIFeatures].shape[1]\n",
    "RN.add(Dense(units=64, activation='relu', input_dim=input_dim))\n",
    "RN.add(Dense(units=32, activation='relu'))\n",
    "RN.add(Dense(units=1, activation='sigmoid'))\n",
    "\n",
    "# Compilar el modelo\n",
    "RN.compile(optimizer=Adam(learning_rate=0.001),\n",
    "           loss=BinaryCrossentropy(),\n",
    "           metrics=['accuracy'])\n",
    "\n",
    "# Entrenar el modelo\n",
    "history = RN.fit(X_train[ACMIFeatures], y_train, epochs=100, batch_size=32, validation_split=0.2)\n",
    "\n",
    "# Evaluar el modelo en el conjunto de prueba\n",
    "loss, accuracy = RN.evaluate(X_test[ACMIFeatures], y_test)\n",
    "\n",
    "print(f'Test Accuracy: {accuracy}')\n",
    "\n",
    "# Realizar predicciones en el conjunto de prueba\n",
    "y_pred_prob = RN.predict(X_test[ACMIFeatures])  # Predicciones como probabilidades\n",
    "y_pred = (y_pred_prob > 0.5).astype(int)  # Convertir probabilidades a etiquetas (0 o 1)\n",
    "\n",
    "# Calcular y mostrar las métricas\n",
    "print(\"Accuracy:\", accuracy_score(y_test, y_pred))\n",
    "print(\"Precision:\", precision_score(y_test, y_pred))\n",
    "print(\"Recall:\", recall_score(y_test, y_pred))\n",
    "print(\"F1:\", f1_score(y_test, y_pred))\n",
    "print(\"AUC:\", roc_auc_score(y_test, y_pred_prob))  # Usamos probabilidades para AUC\n",
    "add_result(\"Neural Network\", \"Mutual Information\", accuracy_score(y_test, y_pred), precision_score(y_test, y_pred),recall_score(y_test, y_pred), f1_score(y_test, y_pred), roc_auc_score(y_test, y_pred_prob))\n"
   ],
   "metadata": {
    "collapsed": false,
    "ExecuteTime": {
     "end_time": "2024-11-02T17:15:30.677837Z",
     "start_time": "2024-11-02T17:15:26.682033Z"
    }
   },
   "id": "24c6460e29494d86",
   "outputs": [
    {
     "name": "stdout",
     "output_type": "stream",
     "text": [
      "Epoch 1/100\n",
      "20/20 [==============================] - 1s 7ms/step - loss: 0.7504 - accuracy: 0.4578 - val_loss: 0.4876 - val_accuracy: 0.9193\n",
      "Epoch 2/100\n",
      "20/20 [==============================] - 0s 2ms/step - loss: 0.4056 - accuracy: 0.8984 - val_loss: 0.3127 - val_accuracy: 0.9193\n",
      "Epoch 3/100\n",
      "20/20 [==============================] - 0s 2ms/step - loss: 0.3166 - accuracy: 0.8984 - val_loss: 0.2678 - val_accuracy: 0.9193\n",
      "Epoch 4/100\n",
      "20/20 [==============================] - 0s 2ms/step - loss: 0.2731 - accuracy: 0.8984 - val_loss: 0.2342 - val_accuracy: 0.9193\n",
      "Epoch 5/100\n",
      "20/20 [==============================] - 0s 2ms/step - loss: 0.2322 - accuracy: 0.9016 - val_loss: 0.2021 - val_accuracy: 0.9193\n",
      "Epoch 6/100\n",
      "20/20 [==============================] - 0s 2ms/step - loss: 0.1958 - accuracy: 0.9047 - val_loss: 0.1758 - val_accuracy: 0.9255\n",
      "Epoch 7/100\n",
      "20/20 [==============================] - 0s 1ms/step - loss: 0.1685 - accuracy: 0.9297 - val_loss: 0.1554 - val_accuracy: 0.9317\n",
      "Epoch 8/100\n",
      "20/20 [==============================] - 0s 2ms/step - loss: 0.1486 - accuracy: 0.9406 - val_loss: 0.1395 - val_accuracy: 0.9379\n",
      "Epoch 9/100\n",
      "20/20 [==============================] - 0s 2ms/step - loss: 0.1299 - accuracy: 0.9469 - val_loss: 0.1218 - val_accuracy: 0.9379\n",
      "Epoch 10/100\n",
      "20/20 [==============================] - 0s 2ms/step - loss: 0.1179 - accuracy: 0.9531 - val_loss: 0.1097 - val_accuracy: 0.9441\n",
      "Epoch 11/100\n",
      "20/20 [==============================] - 0s 1ms/step - loss: 0.1080 - accuracy: 0.9625 - val_loss: 0.1113 - val_accuracy: 0.9379\n",
      "Epoch 12/100\n",
      "20/20 [==============================] - 0s 1ms/step - loss: 0.1024 - accuracy: 0.9594 - val_loss: 0.0980 - val_accuracy: 0.9503\n",
      "Epoch 13/100\n",
      "20/20 [==============================] - 0s 2ms/step - loss: 0.1000 - accuracy: 0.9609 - val_loss: 0.0967 - val_accuracy: 0.9441\n",
      "Epoch 14/100\n",
      "20/20 [==============================] - 0s 2ms/step - loss: 0.0952 - accuracy: 0.9625 - val_loss: 0.0935 - val_accuracy: 0.9503\n",
      "Epoch 15/100\n",
      "20/20 [==============================] - 0s 2ms/step - loss: 0.0926 - accuracy: 0.9672 - val_loss: 0.0924 - val_accuracy: 0.9503\n",
      "Epoch 16/100\n",
      "20/20 [==============================] - 0s 2ms/step - loss: 0.0914 - accuracy: 0.9578 - val_loss: 0.0907 - val_accuracy: 0.9503\n",
      "Epoch 17/100\n",
      "20/20 [==============================] - 0s 2ms/step - loss: 0.0900 - accuracy: 0.9656 - val_loss: 0.0945 - val_accuracy: 0.9503\n",
      "Epoch 18/100\n",
      "20/20 [==============================] - 0s 2ms/step - loss: 0.0883 - accuracy: 0.9625 - val_loss: 0.0917 - val_accuracy: 0.9503\n",
      "Epoch 19/100\n",
      "20/20 [==============================] - 0s 2ms/step - loss: 0.0880 - accuracy: 0.9656 - val_loss: 0.0842 - val_accuracy: 0.9565\n",
      "Epoch 20/100\n",
      "20/20 [==============================] - 0s 2ms/step - loss: 0.0860 - accuracy: 0.9625 - val_loss: 0.0902 - val_accuracy: 0.9503\n",
      "Epoch 21/100\n",
      "20/20 [==============================] - 0s 1ms/step - loss: 0.0852 - accuracy: 0.9688 - val_loss: 0.0855 - val_accuracy: 0.9503\n",
      "Epoch 22/100\n",
      "20/20 [==============================] - 0s 2ms/step - loss: 0.0838 - accuracy: 0.9672 - val_loss: 0.0945 - val_accuracy: 0.9627\n",
      "Epoch 23/100\n",
      "20/20 [==============================] - 0s 1ms/step - loss: 0.0869 - accuracy: 0.9594 - val_loss: 0.0805 - val_accuracy: 0.9565\n",
      "Epoch 24/100\n",
      "20/20 [==============================] - 0s 2ms/step - loss: 0.0845 - accuracy: 0.9625 - val_loss: 0.0853 - val_accuracy: 0.9503\n",
      "Epoch 25/100\n",
      "20/20 [==============================] - 0s 2ms/step - loss: 0.0829 - accuracy: 0.9688 - val_loss: 0.0877 - val_accuracy: 0.9565\n",
      "Epoch 26/100\n",
      "20/20 [==============================] - 0s 1ms/step - loss: 0.0818 - accuracy: 0.9641 - val_loss: 0.0792 - val_accuracy: 0.9565\n",
      "Epoch 27/100\n",
      "20/20 [==============================] - 0s 1ms/step - loss: 0.0828 - accuracy: 0.9656 - val_loss: 0.0904 - val_accuracy: 0.9565\n",
      "Epoch 28/100\n",
      "20/20 [==============================] - 0s 2ms/step - loss: 0.0803 - accuracy: 0.9656 - val_loss: 0.0819 - val_accuracy: 0.9565\n",
      "Epoch 29/100\n",
      "20/20 [==============================] - 0s 2ms/step - loss: 0.0806 - accuracy: 0.9688 - val_loss: 0.0806 - val_accuracy: 0.9503\n",
      "Epoch 30/100\n",
      "20/20 [==============================] - 0s 2ms/step - loss: 0.0801 - accuracy: 0.9688 - val_loss: 0.0898 - val_accuracy: 0.9565\n",
      "Epoch 31/100\n",
      "20/20 [==============================] - 0s 2ms/step - loss: 0.0795 - accuracy: 0.9672 - val_loss: 0.0800 - val_accuracy: 0.9565\n",
      "Epoch 32/100\n",
      "20/20 [==============================] - 0s 1ms/step - loss: 0.0778 - accuracy: 0.9688 - val_loss: 0.0819 - val_accuracy: 0.9565\n",
      "Epoch 33/100\n",
      "20/20 [==============================] - 0s 2ms/step - loss: 0.0784 - accuracy: 0.9719 - val_loss: 0.0804 - val_accuracy: 0.9565\n",
      "Epoch 34/100\n",
      "20/20 [==============================] - 0s 2ms/step - loss: 0.0766 - accuracy: 0.9703 - val_loss: 0.0775 - val_accuracy: 0.9627\n",
      "Epoch 35/100\n",
      "20/20 [==============================] - 0s 2ms/step - loss: 0.0766 - accuracy: 0.9719 - val_loss: 0.0805 - val_accuracy: 0.9565\n",
      "Epoch 36/100\n",
      "20/20 [==============================] - 0s 1ms/step - loss: 0.0777 - accuracy: 0.9656 - val_loss: 0.0769 - val_accuracy: 0.9627\n",
      "Epoch 37/100\n",
      "20/20 [==============================] - 0s 2ms/step - loss: 0.0769 - accuracy: 0.9719 - val_loss: 0.0791 - val_accuracy: 0.9565\n",
      "Epoch 38/100\n",
      "20/20 [==============================] - 0s 1ms/step - loss: 0.0758 - accuracy: 0.9719 - val_loss: 0.0831 - val_accuracy: 0.9565\n",
      "Epoch 39/100\n",
      "20/20 [==============================] - 0s 2ms/step - loss: 0.0752 - accuracy: 0.9656 - val_loss: 0.0748 - val_accuracy: 0.9752\n",
      "Epoch 40/100\n",
      "20/20 [==============================] - 0s 2ms/step - loss: 0.0750 - accuracy: 0.9703 - val_loss: 0.0787 - val_accuracy: 0.9565\n",
      "Epoch 41/100\n",
      "20/20 [==============================] - 0s 2ms/step - loss: 0.0748 - accuracy: 0.9719 - val_loss: 0.0800 - val_accuracy: 0.9565\n",
      "Epoch 42/100\n",
      "20/20 [==============================] - 0s 2ms/step - loss: 0.0757 - accuracy: 0.9719 - val_loss: 0.0795 - val_accuracy: 0.9565\n",
      "Epoch 43/100\n",
      "20/20 [==============================] - 0s 2ms/step - loss: 0.0741 - accuracy: 0.9703 - val_loss: 0.0757 - val_accuracy: 0.9565\n",
      "Epoch 44/100\n",
      "20/20 [==============================] - 0s 1ms/step - loss: 0.0734 - accuracy: 0.9703 - val_loss: 0.0764 - val_accuracy: 0.9565\n",
      "Epoch 45/100\n",
      "20/20 [==============================] - 0s 1ms/step - loss: 0.0756 - accuracy: 0.9672 - val_loss: 0.0789 - val_accuracy: 0.9565\n",
      "Epoch 46/100\n",
      "20/20 [==============================] - 0s 2ms/step - loss: 0.0742 - accuracy: 0.9750 - val_loss: 0.0805 - val_accuracy: 0.9565\n",
      "Epoch 47/100\n",
      "20/20 [==============================] - 0s 2ms/step - loss: 0.0726 - accuracy: 0.9703 - val_loss: 0.0783 - val_accuracy: 0.9565\n",
      "Epoch 48/100\n",
      "20/20 [==============================] - 0s 2ms/step - loss: 0.0727 - accuracy: 0.9703 - val_loss: 0.0735 - val_accuracy: 0.9752\n",
      "Epoch 49/100\n",
      "20/20 [==============================] - 0s 2ms/step - loss: 0.0718 - accuracy: 0.9719 - val_loss: 0.0769 - val_accuracy: 0.9565\n",
      "Epoch 50/100\n",
      "20/20 [==============================] - 0s 1ms/step - loss: 0.0711 - accuracy: 0.9719 - val_loss: 0.0773 - val_accuracy: 0.9565\n",
      "Epoch 51/100\n",
      "20/20 [==============================] - 0s 2ms/step - loss: 0.0713 - accuracy: 0.9719 - val_loss: 0.0805 - val_accuracy: 0.9565\n",
      "Epoch 52/100\n",
      "20/20 [==============================] - 0s 2ms/step - loss: 0.0712 - accuracy: 0.9703 - val_loss: 0.0777 - val_accuracy: 0.9565\n",
      "Epoch 53/100\n",
      "20/20 [==============================] - 0s 2ms/step - loss: 0.0715 - accuracy: 0.9750 - val_loss: 0.0794 - val_accuracy: 0.9565\n",
      "Epoch 54/100\n",
      "20/20 [==============================] - 0s 1ms/step - loss: 0.0712 - accuracy: 0.9703 - val_loss: 0.0723 - val_accuracy: 0.9752\n",
      "Epoch 55/100\n",
      "20/20 [==============================] - 0s 2ms/step - loss: 0.0692 - accuracy: 0.9734 - val_loss: 0.0769 - val_accuracy: 0.9565\n",
      "Epoch 56/100\n",
      "20/20 [==============================] - 0s 2ms/step - loss: 0.0698 - accuracy: 0.9703 - val_loss: 0.0713 - val_accuracy: 0.9752\n",
      "Epoch 57/100\n",
      "20/20 [==============================] - 0s 1ms/step - loss: 0.0740 - accuracy: 0.9719 - val_loss: 0.0711 - val_accuracy: 0.9752\n",
      "Epoch 58/100\n",
      "20/20 [==============================] - 0s 2ms/step - loss: 0.0701 - accuracy: 0.9750 - val_loss: 0.0765 - val_accuracy: 0.9565\n",
      "Epoch 59/100\n",
      "20/20 [==============================] - 0s 2ms/step - loss: 0.0687 - accuracy: 0.9719 - val_loss: 0.0722 - val_accuracy: 0.9752\n",
      "Epoch 60/100\n",
      "20/20 [==============================] - 0s 1ms/step - loss: 0.0686 - accuracy: 0.9750 - val_loss: 0.0753 - val_accuracy: 0.9627\n",
      "Epoch 61/100\n",
      "20/20 [==============================] - 0s 2ms/step - loss: 0.0683 - accuracy: 0.9750 - val_loss: 0.0785 - val_accuracy: 0.9565\n",
      "Epoch 62/100\n",
      "20/20 [==============================] - 0s 2ms/step - loss: 0.0685 - accuracy: 0.9703 - val_loss: 0.0733 - val_accuracy: 0.9627\n",
      "Epoch 63/100\n",
      "20/20 [==============================] - 0s 2ms/step - loss: 0.0689 - accuracy: 0.9719 - val_loss: 0.0717 - val_accuracy: 0.9752\n",
      "Epoch 64/100\n",
      "20/20 [==============================] - 0s 2ms/step - loss: 0.0677 - accuracy: 0.9766 - val_loss: 0.0773 - val_accuracy: 0.9565\n",
      "Epoch 65/100\n",
      "20/20 [==============================] - 0s 2ms/step - loss: 0.0687 - accuracy: 0.9750 - val_loss: 0.0762 - val_accuracy: 0.9627\n",
      "Epoch 66/100\n",
      "20/20 [==============================] - 0s 2ms/step - loss: 0.0677 - accuracy: 0.9703 - val_loss: 0.0766 - val_accuracy: 0.9627\n",
      "Epoch 67/100\n",
      "20/20 [==============================] - 0s 2ms/step - loss: 0.0673 - accuracy: 0.9750 - val_loss: 0.0804 - val_accuracy: 0.9565\n",
      "Epoch 68/100\n",
      "20/20 [==============================] - 0s 1ms/step - loss: 0.0670 - accuracy: 0.9703 - val_loss: 0.0716 - val_accuracy: 0.9689\n",
      "Epoch 69/100\n",
      "20/20 [==============================] - 0s 1ms/step - loss: 0.0673 - accuracy: 0.9766 - val_loss: 0.0837 - val_accuracy: 0.9565\n",
      "Epoch 70/100\n",
      "20/20 [==============================] - 0s 2ms/step - loss: 0.0687 - accuracy: 0.9719 - val_loss: 0.0736 - val_accuracy: 0.9627\n",
      "Epoch 71/100\n",
      "20/20 [==============================] - 0s 2ms/step - loss: 0.0657 - accuracy: 0.9766 - val_loss: 0.0752 - val_accuracy: 0.9627\n",
      "Epoch 72/100\n",
      "20/20 [==============================] - 0s 2ms/step - loss: 0.0653 - accuracy: 0.9766 - val_loss: 0.0763 - val_accuracy: 0.9627\n",
      "Epoch 73/100\n",
      "20/20 [==============================] - 0s 2ms/step - loss: 0.0655 - accuracy: 0.9766 - val_loss: 0.0758 - val_accuracy: 0.9627\n",
      "Epoch 74/100\n",
      "20/20 [==============================] - 0s 2ms/step - loss: 0.0650 - accuracy: 0.9766 - val_loss: 0.0754 - val_accuracy: 0.9627\n",
      "Epoch 75/100\n",
      "20/20 [==============================] - 0s 2ms/step - loss: 0.0663 - accuracy: 0.9797 - val_loss: 0.0703 - val_accuracy: 0.9752\n",
      "Epoch 76/100\n",
      "20/20 [==============================] - 0s 2ms/step - loss: 0.0688 - accuracy: 0.9703 - val_loss: 0.0694 - val_accuracy: 0.9752\n",
      "Epoch 77/100\n",
      "20/20 [==============================] - 0s 2ms/step - loss: 0.0682 - accuracy: 0.9750 - val_loss: 0.0726 - val_accuracy: 0.9627\n",
      "Epoch 78/100\n",
      "20/20 [==============================] - 0s 1ms/step - loss: 0.0664 - accuracy: 0.9766 - val_loss: 0.0806 - val_accuracy: 0.9627\n",
      "Epoch 79/100\n",
      "20/20 [==============================] - 0s 2ms/step - loss: 0.0654 - accuracy: 0.9734 - val_loss: 0.0737 - val_accuracy: 0.9627\n",
      "Epoch 80/100\n",
      "20/20 [==============================] - 0s 2ms/step - loss: 0.0642 - accuracy: 0.9766 - val_loss: 0.0756 - val_accuracy: 0.9627\n",
      "Epoch 81/100\n",
      "20/20 [==============================] - 0s 2ms/step - loss: 0.0647 - accuracy: 0.9766 - val_loss: 0.0816 - val_accuracy: 0.9627\n",
      "Epoch 82/100\n",
      "20/20 [==============================] - 0s 2ms/step - loss: 0.0682 - accuracy: 0.9703 - val_loss: 0.0689 - val_accuracy: 0.9814\n",
      "Epoch 83/100\n",
      "20/20 [==============================] - 0s 2ms/step - loss: 0.0731 - accuracy: 0.9688 - val_loss: 0.0862 - val_accuracy: 0.9441\n",
      "Epoch 84/100\n",
      "20/20 [==============================] - 0s 2ms/step - loss: 0.0699 - accuracy: 0.9734 - val_loss: 0.0768 - val_accuracy: 0.9627\n",
      "Epoch 85/100\n",
      "20/20 [==============================] - 0s 2ms/step - loss: 0.0660 - accuracy: 0.9719 - val_loss: 0.0739 - val_accuracy: 0.9627\n",
      "Epoch 86/100\n",
      "20/20 [==============================] - 0s 2ms/step - loss: 0.0633 - accuracy: 0.9766 - val_loss: 0.0740 - val_accuracy: 0.9627\n",
      "Epoch 87/100\n",
      "20/20 [==============================] - 0s 2ms/step - loss: 0.0625 - accuracy: 0.9766 - val_loss: 0.0750 - val_accuracy: 0.9627\n",
      "Epoch 88/100\n",
      "20/20 [==============================] - 0s 2ms/step - loss: 0.0635 - accuracy: 0.9766 - val_loss: 0.0721 - val_accuracy: 0.9689\n",
      "Epoch 89/100\n",
      "20/20 [==============================] - 0s 2ms/step - loss: 0.0624 - accuracy: 0.9781 - val_loss: 0.0746 - val_accuracy: 0.9627\n",
      "Epoch 90/100\n",
      "20/20 [==============================] - 0s 2ms/step - loss: 0.0627 - accuracy: 0.9781 - val_loss: 0.0779 - val_accuracy: 0.9627\n",
      "Epoch 91/100\n",
      "20/20 [==============================] - 0s 2ms/step - loss: 0.0648 - accuracy: 0.9734 - val_loss: 0.0706 - val_accuracy: 0.9752\n",
      "Epoch 92/100\n",
      "20/20 [==============================] - 0s 2ms/step - loss: 0.0640 - accuracy: 0.9781 - val_loss: 0.0748 - val_accuracy: 0.9627\n",
      "Epoch 93/100\n",
      "20/20 [==============================] - 0s 2ms/step - loss: 0.0621 - accuracy: 0.9766 - val_loss: 0.0760 - val_accuracy: 0.9627\n",
      "Epoch 94/100\n",
      "20/20 [==============================] - 0s 2ms/step - loss: 0.0619 - accuracy: 0.9781 - val_loss: 0.0718 - val_accuracy: 0.9689\n",
      "Epoch 95/100\n",
      "20/20 [==============================] - 0s 2ms/step - loss: 0.0626 - accuracy: 0.9766 - val_loss: 0.0781 - val_accuracy: 0.9627\n",
      "Epoch 96/100\n",
      "20/20 [==============================] - 0s 2ms/step - loss: 0.0622 - accuracy: 0.9766 - val_loss: 0.0810 - val_accuracy: 0.9565\n",
      "Epoch 97/100\n",
      "20/20 [==============================] - 0s 2ms/step - loss: 0.0622 - accuracy: 0.9766 - val_loss: 0.0727 - val_accuracy: 0.9627\n",
      "Epoch 98/100\n",
      "20/20 [==============================] - 0s 2ms/step - loss: 0.0609 - accuracy: 0.9797 - val_loss: 0.0735 - val_accuracy: 0.9627\n",
      "Epoch 99/100\n",
      "20/20 [==============================] - 0s 2ms/step - loss: 0.0606 - accuracy: 0.9766 - val_loss: 0.0735 - val_accuracy: 0.9627\n",
      "Epoch 100/100\n",
      "20/20 [==============================] - 0s 2ms/step - loss: 0.0640 - accuracy: 0.9750 - val_loss: 0.0768 - val_accuracy: 0.9627\n",
      "11/11 [==============================] - 0s 600us/step - loss: 0.0965 - accuracy: 0.9593\n",
      "Test Accuracy: 0.9593023061752319\n",
      "11/11 [==============================] - 0s 500us/step\n",
      "Accuracy: 0.9593023255813954\n",
      "Precision: 0.6956521739130435\n",
      "Recall: 0.6956521739130435\n",
      "F1: 0.6956521739130435\n",
      "AUC: 0.9814438575104971\n"
     ]
    }
   ],
   "execution_count": 28
  },
  {
   "metadata": {
    "ExecuteTime": {
     "end_time": "2024-11-02T17:15:30.785859Z",
     "start_time": "2024-11-02T17:15:30.709844Z"
    }
   },
   "cell_type": "code",
   "source": "confusion_matrix_heatmap(y_test, y_pred)",
   "id": "d8326e53a5d94489",
   "outputs": [
    {
     "data": {
      "text/plain": [
       "<Figure size 800x600 with 1 Axes>"
      ],
      "image/png": "[encoded data removed]"
     },
     "metadata": {},
     "output_type": "display_data"
    }
   ],
   "execution_count": 29
  },
  {
   "cell_type": "markdown",
   "source": [
    "CHI2"
   ],
   "metadata": {
    "collapsed": false
   },
   "id": "17667f3858c63c3b"
  },
  {
   "cell_type": "code",
   "source": [
    "\n",
    "RN = Sequential()\n",
    "\n",
    "input_dim = X_train[ACX2Features].shape[1]\n",
    "RN.add(Dense(units=64, activation='relu', input_dim=input_dim))\n",
    "RN.add(Dense(units=32, activation='relu'))\n",
    "RN.add(Dense(units=1, activation='sigmoid'))\n",
    "RN.compile(optimizer=Adam(learning_rate=0.001),\n",
    "           loss=BinaryCrossentropy(),\n",
    "           metrics=['accuracy'])\n",
    "\n",
    "history = RN.fit(X_train[ACX2Features], y_train, epochs=100, batch_size=32, validation_split=0.2)\n",
    "\n",
    "loss, accuracy = RN.evaluate(X_test[ACX2Features], y_test)\n",
    "\n",
    "print(f'Test Accuracy: {accuracy}')\n",
    "y_pred_prob = RN.predict(X_test[ACX2Features])\n",
    "y_pred = (y_pred_prob > 0.5).astype(int)\n",
    "\n",
    "print(\"Accuracy:\", accuracy_score(y_test, y_pred))\n",
    "print(\"Precision:\", precision_score(y_test, y_pred))\n",
    "print(\"Recall:\", recall_score(y_test, y_pred))\n",
    "print(\"F1:\", f1_score(y_test, y_pred))\n",
    "print(\"AUC:\", roc_auc_score(y_test, y_pred_prob))\n",
    "add_result(\"Neural Network\", \"X2\", accuracy_score(y_test, y_pred), precision_score(y_test, y_pred),recall_score(y_test, y_pred), f1_score(y_test, y_pred), roc_auc_score(y_test, y_pred_prob))"
   ],
   "metadata": {
    "collapsed": false,
    "ExecuteTime": {
     "end_time": "2024-11-02T17:15:34.433689Z",
     "start_time": "2024-11-02T17:15:30.817862Z"
    }
   },
   "id": "18871e152c695a6b",
   "outputs": [
    {
     "name": "stdout",
     "output_type": "stream",
     "text": [
      "Epoch 1/100\n",
      "20/20 [==============================] - 0s 5ms/step - loss: 0.4787 - accuracy: 0.8766 - val_loss: 0.3289 - val_accuracy: 0.9193\n",
      "Epoch 2/100\n",
      "20/20 [==============================] - 0s 2ms/step - loss: 0.3151 - accuracy: 0.8984 - val_loss: 0.2572 - val_accuracy: 0.9193\n",
      "Epoch 3/100\n",
      "20/20 [==============================] - 0s 2ms/step - loss: 0.2607 - accuracy: 0.9000 - val_loss: 0.2170 - val_accuracy: 0.9193\n",
      "Epoch 4/100\n",
      "20/20 [==============================] - 0s 2ms/step - loss: 0.2065 - accuracy: 0.9125 - val_loss: 0.1757 - val_accuracy: 0.9317\n",
      "Epoch 5/100\n",
      "20/20 [==============================] - 0s 2ms/step - loss: 0.1638 - accuracy: 0.9438 - val_loss: 0.1406 - val_accuracy: 0.9379\n",
      "Epoch 6/100\n",
      "20/20 [==============================] - 0s 2ms/step - loss: 0.1338 - accuracy: 0.9484 - val_loss: 0.1178 - val_accuracy: 0.9565\n",
      "Epoch 7/100\n",
      "20/20 [==============================] - 0s 2ms/step - loss: 0.1140 - accuracy: 0.9516 - val_loss: 0.1032 - val_accuracy: 0.9627\n",
      "Epoch 8/100\n",
      "20/20 [==============================] - 0s 1ms/step - loss: 0.1026 - accuracy: 0.9578 - val_loss: 0.0970 - val_accuracy: 0.9627\n",
      "Epoch 9/100\n",
      "20/20 [==============================] - 0s 2ms/step - loss: 0.0956 - accuracy: 0.9609 - val_loss: 0.0888 - val_accuracy: 0.9627\n",
      "Epoch 10/100\n",
      "20/20 [==============================] - 0s 2ms/step - loss: 0.0886 - accuracy: 0.9594 - val_loss: 0.0868 - val_accuracy: 0.9627\n",
      "Epoch 11/100\n",
      "20/20 [==============================] - 0s 1ms/step - loss: 0.0856 - accuracy: 0.9641 - val_loss: 0.0833 - val_accuracy: 0.9627\n",
      "Epoch 12/100\n",
      "20/20 [==============================] - 0s 2ms/step - loss: 0.0829 - accuracy: 0.9703 - val_loss: 0.0836 - val_accuracy: 0.9627\n",
      "Epoch 13/100\n",
      "20/20 [==============================] - 0s 2ms/step - loss: 0.0828 - accuracy: 0.9656 - val_loss: 0.0769 - val_accuracy: 0.9752\n",
      "Epoch 14/100\n",
      "20/20 [==============================] - 0s 1ms/step - loss: 0.0780 - accuracy: 0.9703 - val_loss: 0.0834 - val_accuracy: 0.9627\n",
      "Epoch 15/100\n",
      "20/20 [==============================] - 0s 1ms/step - loss: 0.0792 - accuracy: 0.9703 - val_loss: 0.0810 - val_accuracy: 0.9627\n",
      "Epoch 16/100\n",
      "20/20 [==============================] - 0s 1ms/step - loss: 0.0762 - accuracy: 0.9719 - val_loss: 0.0733 - val_accuracy: 0.9752\n",
      "Epoch 17/100\n",
      "20/20 [==============================] - 0s 1ms/step - loss: 0.0754 - accuracy: 0.9750 - val_loss: 0.0791 - val_accuracy: 0.9627\n",
      "Epoch 18/100\n",
      "20/20 [==============================] - 0s 1ms/step - loss: 0.0747 - accuracy: 0.9656 - val_loss: 0.0731 - val_accuracy: 0.9752\n",
      "Epoch 19/100\n",
      "20/20 [==============================] - 0s 2ms/step - loss: 0.0749 - accuracy: 0.9719 - val_loss: 0.0700 - val_accuracy: 0.9752\n",
      "Epoch 20/100\n",
      "20/20 [==============================] - 0s 1ms/step - loss: 0.0735 - accuracy: 0.9734 - val_loss: 0.0720 - val_accuracy: 0.9752\n",
      "Epoch 21/100\n",
      "20/20 [==============================] - 0s 2ms/step - loss: 0.0715 - accuracy: 0.9750 - val_loss: 0.0772 - val_accuracy: 0.9689\n",
      "Epoch 22/100\n",
      "20/20 [==============================] - 0s 2ms/step - loss: 0.0717 - accuracy: 0.9734 - val_loss: 0.0684 - val_accuracy: 0.9752\n",
      "Epoch 23/100\n",
      "20/20 [==============================] - 0s 1ms/step - loss: 0.0696 - accuracy: 0.9719 - val_loss: 0.0749 - val_accuracy: 0.9689\n",
      "Epoch 24/100\n",
      "20/20 [==============================] - 0s 2ms/step - loss: 0.0705 - accuracy: 0.9672 - val_loss: 0.0666 - val_accuracy: 0.9752\n",
      "Epoch 25/100\n",
      "20/20 [==============================] - 0s 1ms/step - loss: 0.0706 - accuracy: 0.9750 - val_loss: 0.0732 - val_accuracy: 0.9689\n",
      "Epoch 26/100\n",
      "20/20 [==============================] - 0s 2ms/step - loss: 0.0712 - accuracy: 0.9734 - val_loss: 0.0714 - val_accuracy: 0.9752\n",
      "Epoch 27/100\n",
      "20/20 [==============================] - 0s 1ms/step - loss: 0.0694 - accuracy: 0.9750 - val_loss: 0.0727 - val_accuracy: 0.9689\n",
      "Epoch 28/100\n",
      "20/20 [==============================] - 0s 1ms/step - loss: 0.0739 - accuracy: 0.9734 - val_loss: 0.0726 - val_accuracy: 0.9689\n",
      "Epoch 29/100\n",
      "20/20 [==============================] - 0s 2ms/step - loss: 0.0701 - accuracy: 0.9703 - val_loss: 0.0719 - val_accuracy: 0.9689\n",
      "Epoch 30/100\n",
      "20/20 [==============================] - 0s 2ms/step - loss: 0.0685 - accuracy: 0.9766 - val_loss: 0.0725 - val_accuracy: 0.9689\n",
      "Epoch 31/100\n",
      "20/20 [==============================] - 0s 1ms/step - loss: 0.0721 - accuracy: 0.9656 - val_loss: 0.0642 - val_accuracy: 0.9752\n",
      "Epoch 32/100\n",
      "20/20 [==============================] - 0s 1ms/step - loss: 0.0678 - accuracy: 0.9766 - val_loss: 0.0739 - val_accuracy: 0.9689\n",
      "Epoch 33/100\n",
      "20/20 [==============================] - 0s 2ms/step - loss: 0.0673 - accuracy: 0.9750 - val_loss: 0.0724 - val_accuracy: 0.9689\n",
      "Epoch 34/100\n",
      "20/20 [==============================] - 0s 1ms/step - loss: 0.0666 - accuracy: 0.9781 - val_loss: 0.0721 - val_accuracy: 0.9689\n",
      "Epoch 35/100\n",
      "20/20 [==============================] - 0s 1ms/step - loss: 0.0667 - accuracy: 0.9766 - val_loss: 0.0659 - val_accuracy: 0.9752\n",
      "Epoch 36/100\n",
      "20/20 [==============================] - 0s 2ms/step - loss: 0.0674 - accuracy: 0.9766 - val_loss: 0.0692 - val_accuracy: 0.9752\n",
      "Epoch 37/100\n",
      "20/20 [==============================] - 0s 2ms/step - loss: 0.0651 - accuracy: 0.9781 - val_loss: 0.0705 - val_accuracy: 0.9689\n",
      "Epoch 38/100\n",
      "20/20 [==============================] - 0s 2ms/step - loss: 0.0653 - accuracy: 0.9750 - val_loss: 0.0737 - val_accuracy: 0.9689\n",
      "Epoch 39/100\n",
      "20/20 [==============================] - 0s 2ms/step - loss: 0.0659 - accuracy: 0.9719 - val_loss: 0.0706 - val_accuracy: 0.9752\n",
      "Epoch 40/100\n",
      "20/20 [==============================] - 0s 2ms/step - loss: 0.0680 - accuracy: 0.9766 - val_loss: 0.0853 - val_accuracy: 0.9565\n",
      "Epoch 41/100\n",
      "20/20 [==============================] - 0s 2ms/step - loss: 0.0664 - accuracy: 0.9734 - val_loss: 0.0686 - val_accuracy: 0.9752\n",
      "Epoch 42/100\n",
      "20/20 [==============================] - 0s 2ms/step - loss: 0.0654 - accuracy: 0.9734 - val_loss: 0.0688 - val_accuracy: 0.9752\n",
      "Epoch 43/100\n",
      "20/20 [==============================] - 0s 2ms/step - loss: 0.0661 - accuracy: 0.9734 - val_loss: 0.0777 - val_accuracy: 0.9565\n",
      "Epoch 44/100\n",
      "20/20 [==============================] - 0s 2ms/step - loss: 0.0649 - accuracy: 0.9750 - val_loss: 0.0720 - val_accuracy: 0.9752\n",
      "Epoch 45/100\n",
      "20/20 [==============================] - 0s 2ms/step - loss: 0.0664 - accuracy: 0.9734 - val_loss: 0.0674 - val_accuracy: 0.9752\n",
      "Epoch 46/100\n",
      "20/20 [==============================] - 0s 2ms/step - loss: 0.0692 - accuracy: 0.9781 - val_loss: 0.0758 - val_accuracy: 0.9565\n",
      "Epoch 47/100\n",
      "20/20 [==============================] - 0s 2ms/step - loss: 0.0647 - accuracy: 0.9750 - val_loss: 0.0697 - val_accuracy: 0.9752\n",
      "Epoch 48/100\n",
      "20/20 [==============================] - 0s 2ms/step - loss: 0.0650 - accuracy: 0.9734 - val_loss: 0.0669 - val_accuracy: 0.9752\n",
      "Epoch 49/100\n",
      "20/20 [==============================] - 0s 1ms/step - loss: 0.0649 - accuracy: 0.9750 - val_loss: 0.0738 - val_accuracy: 0.9627\n",
      "Epoch 50/100\n",
      "20/20 [==============================] - 0s 2ms/step - loss: 0.0675 - accuracy: 0.9781 - val_loss: 0.0725 - val_accuracy: 0.9627\n",
      "Epoch 51/100\n",
      "20/20 [==============================] - 0s 1ms/step - loss: 0.0708 - accuracy: 0.9719 - val_loss: 0.0679 - val_accuracy: 0.9752\n",
      "Epoch 52/100\n",
      "20/20 [==============================] - 0s 2ms/step - loss: 0.0630 - accuracy: 0.9750 - val_loss: 0.0732 - val_accuracy: 0.9627\n",
      "Epoch 53/100\n",
      "20/20 [==============================] - 0s 1ms/step - loss: 0.0621 - accuracy: 0.9750 - val_loss: 0.0672 - val_accuracy: 0.9752\n",
      "Epoch 54/100\n",
      "20/20 [==============================] - 0s 2ms/step - loss: 0.0631 - accuracy: 0.9781 - val_loss: 0.0731 - val_accuracy: 0.9627\n",
      "Epoch 55/100\n",
      "20/20 [==============================] - 0s 2ms/step - loss: 0.0644 - accuracy: 0.9750 - val_loss: 0.0656 - val_accuracy: 0.9752\n",
      "Epoch 56/100\n",
      "20/20 [==============================] - 0s 1ms/step - loss: 0.0612 - accuracy: 0.9812 - val_loss: 0.0776 - val_accuracy: 0.9565\n",
      "Epoch 57/100\n",
      "20/20 [==============================] - 0s 2ms/step - loss: 0.0633 - accuracy: 0.9734 - val_loss: 0.0683 - val_accuracy: 0.9752\n",
      "Epoch 58/100\n",
      "20/20 [==============================] - 0s 2ms/step - loss: 0.0617 - accuracy: 0.9766 - val_loss: 0.0724 - val_accuracy: 0.9752\n",
      "Epoch 59/100\n",
      "20/20 [==============================] - 0s 1ms/step - loss: 0.0619 - accuracy: 0.9750 - val_loss: 0.0688 - val_accuracy: 0.9752\n",
      "Epoch 60/100\n",
      "20/20 [==============================] - 0s 1ms/step - loss: 0.0627 - accuracy: 0.9766 - val_loss: 0.0711 - val_accuracy: 0.9752\n",
      "Epoch 61/100\n",
      "20/20 [==============================] - 0s 1ms/step - loss: 0.0627 - accuracy: 0.9766 - val_loss: 0.0867 - val_accuracy: 0.9565\n",
      "Epoch 62/100\n",
      "20/20 [==============================] - 0s 1ms/step - loss: 0.0623 - accuracy: 0.9766 - val_loss: 0.0722 - val_accuracy: 0.9689\n",
      "Epoch 63/100\n",
      "20/20 [==============================] - 0s 2ms/step - loss: 0.0606 - accuracy: 0.9750 - val_loss: 0.0725 - val_accuracy: 0.9627\n",
      "Epoch 64/100\n",
      "20/20 [==============================] - 0s 1ms/step - loss: 0.0605 - accuracy: 0.9781 - val_loss: 0.0789 - val_accuracy: 0.9565\n",
      "Epoch 65/100\n",
      "20/20 [==============================] - 0s 1ms/step - loss: 0.0603 - accuracy: 0.9750 - val_loss: 0.0757 - val_accuracy: 0.9627\n",
      "Epoch 66/100\n",
      "20/20 [==============================] - 0s 2ms/step - loss: 0.0630 - accuracy: 0.9766 - val_loss: 0.0789 - val_accuracy: 0.9565\n",
      "Epoch 67/100\n",
      "20/20 [==============================] - 0s 1ms/step - loss: 0.0629 - accuracy: 0.9766 - val_loss: 0.0725 - val_accuracy: 0.9627\n",
      "Epoch 68/100\n",
      "20/20 [==============================] - 0s 2ms/step - loss: 0.0608 - accuracy: 0.9734 - val_loss: 0.0717 - val_accuracy: 0.9752\n",
      "Epoch 69/100\n",
      "20/20 [==============================] - 0s 2ms/step - loss: 0.0607 - accuracy: 0.9812 - val_loss: 0.0841 - val_accuracy: 0.9565\n",
      "Epoch 70/100\n",
      "20/20 [==============================] - 0s 1ms/step - loss: 0.0607 - accuracy: 0.9750 - val_loss: 0.0667 - val_accuracy: 0.9752\n",
      "Epoch 71/100\n",
      "20/20 [==============================] - 0s 2ms/step - loss: 0.0624 - accuracy: 0.9781 - val_loss: 0.0788 - val_accuracy: 0.9565\n",
      "Epoch 72/100\n",
      "20/20 [==============================] - 0s 1ms/step - loss: 0.0602 - accuracy: 0.9766 - val_loss: 0.0818 - val_accuracy: 0.9565\n",
      "Epoch 73/100\n",
      "20/20 [==============================] - 0s 1ms/step - loss: 0.0613 - accuracy: 0.9797 - val_loss: 0.0665 - val_accuracy: 0.9814\n",
      "Epoch 74/100\n",
      "20/20 [==============================] - 0s 1ms/step - loss: 0.0619 - accuracy: 0.9781 - val_loss: 0.0832 - val_accuracy: 0.9565\n",
      "Epoch 75/100\n",
      "20/20 [==============================] - 0s 1ms/step - loss: 0.0617 - accuracy: 0.9797 - val_loss: 0.0826 - val_accuracy: 0.9565\n",
      "Epoch 76/100\n",
      "20/20 [==============================] - 0s 2ms/step - loss: 0.0623 - accuracy: 0.9766 - val_loss: 0.0806 - val_accuracy: 0.9565\n",
      "Epoch 77/100\n",
      "20/20 [==============================] - 0s 2ms/step - loss: 0.0593 - accuracy: 0.9781 - val_loss: 0.0762 - val_accuracy: 0.9627\n",
      "Epoch 78/100\n",
      "20/20 [==============================] - 0s 2ms/step - loss: 0.0577 - accuracy: 0.9781 - val_loss: 0.0823 - val_accuracy: 0.9565\n",
      "Epoch 79/100\n",
      "20/20 [==============================] - 0s 2ms/step - loss: 0.0591 - accuracy: 0.9781 - val_loss: 0.0803 - val_accuracy: 0.9565\n",
      "Epoch 80/100\n",
      "20/20 [==============================] - 0s 2ms/step - loss: 0.0584 - accuracy: 0.9766 - val_loss: 0.0791 - val_accuracy: 0.9565\n",
      "Epoch 81/100\n",
      "20/20 [==============================] - 0s 1ms/step - loss: 0.0595 - accuracy: 0.9797 - val_loss: 0.0918 - val_accuracy: 0.9565\n",
      "Epoch 82/100\n",
      "20/20 [==============================] - 0s 2ms/step - loss: 0.0619 - accuracy: 0.9750 - val_loss: 0.0781 - val_accuracy: 0.9627\n",
      "Epoch 83/100\n",
      "20/20 [==============================] - 0s 1ms/step - loss: 0.0573 - accuracy: 0.9781 - val_loss: 0.0729 - val_accuracy: 0.9752\n",
      "Epoch 84/100\n",
      "20/20 [==============================] - 0s 2ms/step - loss: 0.0589 - accuracy: 0.9766 - val_loss: 0.0738 - val_accuracy: 0.9627\n",
      "Epoch 85/100\n",
      "20/20 [==============================] - 0s 2ms/step - loss: 0.0592 - accuracy: 0.9781 - val_loss: 0.0735 - val_accuracy: 0.9689\n",
      "Epoch 86/100\n",
      "20/20 [==============================] - 0s 1ms/step - loss: 0.0592 - accuracy: 0.9828 - val_loss: 0.0780 - val_accuracy: 0.9627\n",
      "Epoch 87/100\n",
      "20/20 [==============================] - 0s 2ms/step - loss: 0.0571 - accuracy: 0.9797 - val_loss: 0.0816 - val_accuracy: 0.9565\n",
      "Epoch 88/100\n",
      "20/20 [==============================] - 0s 1ms/step - loss: 0.0597 - accuracy: 0.9766 - val_loss: 0.0760 - val_accuracy: 0.9627\n",
      "Epoch 89/100\n",
      "20/20 [==============================] - 0s 2ms/step - loss: 0.0608 - accuracy: 0.9719 - val_loss: 0.0774 - val_accuracy: 0.9627\n",
      "Epoch 90/100\n",
      "20/20 [==============================] - 0s 1ms/step - loss: 0.0571 - accuracy: 0.9828 - val_loss: 0.0944 - val_accuracy: 0.9565\n",
      "Epoch 91/100\n",
      "20/20 [==============================] - 0s 2ms/step - loss: 0.0621 - accuracy: 0.9688 - val_loss: 0.0682 - val_accuracy: 0.9814\n",
      "Epoch 92/100\n",
      "20/20 [==============================] - 0s 1ms/step - loss: 0.0570 - accuracy: 0.9812 - val_loss: 0.0974 - val_accuracy: 0.9565\n",
      "Epoch 93/100\n",
      "20/20 [==============================] - 0s 1ms/step - loss: 0.0574 - accuracy: 0.9781 - val_loss: 0.0775 - val_accuracy: 0.9627\n",
      "Epoch 94/100\n",
      "20/20 [==============================] - 0s 1ms/step - loss: 0.0589 - accuracy: 0.9781 - val_loss: 0.0742 - val_accuracy: 0.9689\n",
      "Epoch 95/100\n",
      "20/20 [==============================] - 0s 1ms/step - loss: 0.0575 - accuracy: 0.9812 - val_loss: 0.0901 - val_accuracy: 0.9565\n",
      "Epoch 96/100\n",
      "20/20 [==============================] - 0s 1ms/step - loss: 0.0577 - accuracy: 0.9797 - val_loss: 0.0790 - val_accuracy: 0.9627\n",
      "Epoch 97/100\n",
      "20/20 [==============================] - 0s 1ms/step - loss: 0.0562 - accuracy: 0.9797 - val_loss: 0.0857 - val_accuracy: 0.9565\n",
      "Epoch 98/100\n",
      "20/20 [==============================] - 0s 1ms/step - loss: 0.0553 - accuracy: 0.9781 - val_loss: 0.0852 - val_accuracy: 0.9565\n",
      "Epoch 99/100\n",
      "20/20 [==============================] - 0s 2ms/step - loss: 0.0567 - accuracy: 0.9812 - val_loss: 0.0887 - val_accuracy: 0.9565\n",
      "Epoch 100/100\n",
      "20/20 [==============================] - 0s 2ms/step - loss: 0.0566 - accuracy: 0.9750 - val_loss: 0.0841 - val_accuracy: 0.9565\n",
      "11/11 [==============================] - 0s 700us/step - loss: 0.0873 - accuracy: 0.9651\n",
      "Test Accuracy: 0.9651162624359131\n",
      "11/11 [==============================] - 0s 400us/step\n",
      "Accuracy: 0.9651162790697675\n",
      "Precision: 0.7619047619047619\n",
      "Recall: 0.6956521739130435\n",
      "F1: 0.7272727272727272\n",
      "AUC: 0.982933766761479\n"
     ]
    }
   ],
   "execution_count": 30
  },
  {
   "metadata": {
    "ExecuteTime": {
     "end_time": "2024-11-02T17:15:34.544579Z",
     "start_time": "2024-11-02T17:15:34.466564Z"
    }
   },
   "cell_type": "code",
   "source": "confusion_matrix_heatmap(y_test, y_pred)",
   "id": "cbde17ae1abdad11",
   "outputs": [
    {
     "data": {
      "text/plain": [
       "<Figure size 800x600 with 1 Axes>"
      ],
      "image/png": "[encoded data removed]"
     },
     "metadata": {},
     "output_type": "display_data"
    }
   ],
   "execution_count": 31
  },
  {
   "cell_type": "markdown",
   "source": [
    "RELIEFF"
   ],
   "metadata": {
    "collapsed": false
   },
   "id": "1248f7a794251bcb"
  },
  {
   "cell_type": "code",
   "source": [
    "RN = Sequential()\n",
    "\n",
    "input_dim = X_train[ACRFeatures].shape[1]\n",
    "RN.add(Dense(units=64, activation='relu', input_dim=input_dim))\n",
    "RN.add(Dense(units=32, activation='relu'))\n",
    "RN.add(Dense(units=1, activation='sigmoid'))\n",
    "RN.compile(optimizer=Adam(learning_rate=0.001),\n",
    "           loss=BinaryCrossentropy(),\n",
    "           metrics=['accuracy'])\n",
    "\n",
    "history = RN.fit(X_train[ACRFeatures], y_train, epochs=100, batch_size=32, validation_split=0.2)\n",
    "\n",
    "loss, accuracy = RN.evaluate(X_test[ACRFeatures], y_test)\n",
    "\n",
    "print(f'Test Accuracy: {accuracy}')\n",
    "y_pred_prob = RN.predict(X_test[ACRFeatures])\n",
    "y_pred = (y_pred_prob > 0.5).astype(int)\n",
    "\n",
    "print(\"Accuracy:\", accuracy_score(y_test, y_pred))\n",
    "print(\"Precision:\", precision_score(y_test, y_pred))\n",
    "print(\"Recall:\", recall_score(y_test, y_pred))\n",
    "print(\"F1:\", f1_score(y_test, y_pred))\n",
    "print(\"AUC:\", roc_auc_score(y_test, y_pred_prob))\n",
    "add_result(\"Neural Network\", \"Relief\", accuracy_score(y_test, y_pred), precision_score(y_test, y_pred),recall_score(y_test, y_pred), f1_score(y_test, y_pred), roc_auc_score(y_test, y_pred_prob))"
   ],
   "metadata": {
    "collapsed": false,
    "ExecuteTime": {
     "end_time": "2024-11-02T17:15:38.175680Z",
     "start_time": "2024-11-02T17:15:34.576963Z"
    }
   },
   "id": "f9e73b5be77d7950",
   "outputs": [
    {
     "name": "stdout",
     "output_type": "stream",
     "text": [
      "Epoch 1/100\n",
      "20/20 [==============================] - 0s 5ms/step - loss: 0.5972 - accuracy: 0.7953 - val_loss: 0.4671 - val_accuracy: 0.9193\n",
      "Epoch 2/100\n",
      "20/20 [==============================] - 0s 2ms/step - loss: 0.4118 - accuracy: 0.8984 - val_loss: 0.3226 - val_accuracy: 0.9193\n",
      "Epoch 3/100\n",
      "20/20 [==============================] - 0s 2ms/step - loss: 0.3381 - accuracy: 0.8984 - val_loss: 0.2840 - val_accuracy: 0.9193\n",
      "Epoch 4/100\n",
      "20/20 [==============================] - 0s 1ms/step - loss: 0.3116 - accuracy: 0.8984 - val_loss: 0.2725 - val_accuracy: 0.9193\n",
      "Epoch 5/100\n",
      "20/20 [==============================] - 0s 1ms/step - loss: 0.2873 - accuracy: 0.8984 - val_loss: 0.2571 - val_accuracy: 0.9193\n",
      "Epoch 6/100\n",
      "20/20 [==============================] - 0s 1ms/step - loss: 0.2643 - accuracy: 0.9031 - val_loss: 0.2431 - val_accuracy: 0.9193\n",
      "Epoch 7/100\n",
      "20/20 [==============================] - 0s 2ms/step - loss: 0.2407 - accuracy: 0.9062 - val_loss: 0.2248 - val_accuracy: 0.9255\n",
      "Epoch 8/100\n",
      "20/20 [==============================] - 0s 1ms/step - loss: 0.2168 - accuracy: 0.9187 - val_loss: 0.2064 - val_accuracy: 0.9317\n",
      "Epoch 9/100\n",
      "20/20 [==============================] - 0s 2ms/step - loss: 0.1943 - accuracy: 0.9297 - val_loss: 0.1885 - val_accuracy: 0.9317\n",
      "Epoch 10/100\n",
      "20/20 [==============================] - 0s 1ms/step - loss: 0.1760 - accuracy: 0.9375 - val_loss: 0.1714 - val_accuracy: 0.9441\n",
      "Epoch 11/100\n",
      "20/20 [==============================] - 0s 2ms/step - loss: 0.1543 - accuracy: 0.9469 - val_loss: 0.1577 - val_accuracy: 0.9441\n",
      "Epoch 12/100\n",
      "20/20 [==============================] - 0s 1ms/step - loss: 0.1405 - accuracy: 0.9500 - val_loss: 0.1490 - val_accuracy: 0.9441\n",
      "Epoch 13/100\n",
      "20/20 [==============================] - 0s 1ms/step - loss: 0.1327 - accuracy: 0.9531 - val_loss: 0.1405 - val_accuracy: 0.9441\n",
      "Epoch 14/100\n",
      "20/20 [==============================] - 0s 2ms/step - loss: 0.1276 - accuracy: 0.9531 - val_loss: 0.1371 - val_accuracy: 0.9441\n",
      "Epoch 15/100\n",
      "20/20 [==============================] - 0s 1ms/step - loss: 0.1215 - accuracy: 0.9609 - val_loss: 0.1442 - val_accuracy: 0.9441\n",
      "Epoch 16/100\n",
      "20/20 [==============================] - 0s 2ms/step - loss: 0.1200 - accuracy: 0.9594 - val_loss: 0.1314 - val_accuracy: 0.9503\n",
      "Epoch 17/100\n",
      "20/20 [==============================] - 0s 2ms/step - loss: 0.1186 - accuracy: 0.9563 - val_loss: 0.1335 - val_accuracy: 0.9441\n",
      "Epoch 18/100\n",
      "20/20 [==============================] - 0s 1ms/step - loss: 0.1142 - accuracy: 0.9641 - val_loss: 0.1294 - val_accuracy: 0.9503\n",
      "Epoch 19/100\n",
      "20/20 [==============================] - 0s 2ms/step - loss: 0.1131 - accuracy: 0.9594 - val_loss: 0.1248 - val_accuracy: 0.9627\n",
      "Epoch 20/100\n",
      "20/20 [==============================] - 0s 1ms/step - loss: 0.1122 - accuracy: 0.9625 - val_loss: 0.1402 - val_accuracy: 0.9379\n",
      "Epoch 21/100\n",
      "20/20 [==============================] - 0s 2ms/step - loss: 0.1151 - accuracy: 0.9594 - val_loss: 0.1222 - val_accuracy: 0.9565\n",
      "Epoch 22/100\n",
      "20/20 [==============================] - 0s 2ms/step - loss: 0.1138 - accuracy: 0.9594 - val_loss: 0.1216 - val_accuracy: 0.9565\n",
      "Epoch 23/100\n",
      "20/20 [==============================] - 0s 1ms/step - loss: 0.1162 - accuracy: 0.9594 - val_loss: 0.1402 - val_accuracy: 0.9379\n",
      "Epoch 24/100\n",
      "20/20 [==============================] - 0s 2ms/step - loss: 0.1094 - accuracy: 0.9563 - val_loss: 0.1212 - val_accuracy: 0.9627\n",
      "Epoch 25/100\n",
      "20/20 [==============================] - 0s 1ms/step - loss: 0.1098 - accuracy: 0.9609 - val_loss: 0.1249 - val_accuracy: 0.9627\n",
      "Epoch 26/100\n",
      "20/20 [==============================] - 0s 1ms/step - loss: 0.1090 - accuracy: 0.9656 - val_loss: 0.1200 - val_accuracy: 0.9627\n",
      "Epoch 27/100\n",
      "20/20 [==============================] - 0s 2ms/step - loss: 0.1116 - accuracy: 0.9609 - val_loss: 0.1273 - val_accuracy: 0.9503\n",
      "Epoch 28/100\n",
      "20/20 [==============================] - 0s 2ms/step - loss: 0.1060 - accuracy: 0.9609 - val_loss: 0.1203 - val_accuracy: 0.9627\n",
      "Epoch 29/100\n",
      "20/20 [==============================] - 0s 2ms/step - loss: 0.1141 - accuracy: 0.9578 - val_loss: 0.1387 - val_accuracy: 0.9441\n",
      "Epoch 30/100\n",
      "20/20 [==============================] - 0s 1ms/step - loss: 0.1080 - accuracy: 0.9594 - val_loss: 0.1191 - val_accuracy: 0.9627\n",
      "Epoch 31/100\n",
      "20/20 [==============================] - 0s 1ms/step - loss: 0.1099 - accuracy: 0.9625 - val_loss: 0.1177 - val_accuracy: 0.9627\n",
      "Epoch 32/100\n",
      "20/20 [==============================] - 0s 1ms/step - loss: 0.1102 - accuracy: 0.9625 - val_loss: 0.1231 - val_accuracy: 0.9627\n",
      "Epoch 33/100\n",
      "20/20 [==============================] - 0s 2ms/step - loss: 0.1061 - accuracy: 0.9594 - val_loss: 0.1172 - val_accuracy: 0.9627\n",
      "Epoch 34/100\n",
      "20/20 [==============================] - 0s 2ms/step - loss: 0.1047 - accuracy: 0.9625 - val_loss: 0.1345 - val_accuracy: 0.9503\n",
      "Epoch 35/100\n",
      "20/20 [==============================] - 0s 1ms/step - loss: 0.1125 - accuracy: 0.9625 - val_loss: 0.1178 - val_accuracy: 0.9627\n",
      "Epoch 36/100\n",
      "20/20 [==============================] - 0s 1ms/step - loss: 0.1103 - accuracy: 0.9609 - val_loss: 0.1392 - val_accuracy: 0.9441\n",
      "Epoch 37/100\n",
      "20/20 [==============================] - 0s 2ms/step - loss: 0.1138 - accuracy: 0.9609 - val_loss: 0.1230 - val_accuracy: 0.9627\n",
      "Epoch 38/100\n",
      "20/20 [==============================] - 0s 1ms/step - loss: 0.1067 - accuracy: 0.9672 - val_loss: 0.1173 - val_accuracy: 0.9627\n",
      "Epoch 39/100\n",
      "20/20 [==============================] - 0s 1ms/step - loss: 0.1049 - accuracy: 0.9641 - val_loss: 0.1199 - val_accuracy: 0.9627\n",
      "Epoch 40/100\n",
      "20/20 [==============================] - 0s 2ms/step - loss: 0.1035 - accuracy: 0.9625 - val_loss: 0.1190 - val_accuracy: 0.9627\n",
      "Epoch 41/100\n",
      "20/20 [==============================] - 0s 1ms/step - loss: 0.1037 - accuracy: 0.9578 - val_loss: 0.1207 - val_accuracy: 0.9627\n",
      "Epoch 42/100\n",
      "20/20 [==============================] - 0s 1ms/step - loss: 0.1033 - accuracy: 0.9641 - val_loss: 0.1217 - val_accuracy: 0.9627\n",
      "Epoch 43/100\n",
      "20/20 [==============================] - 0s 1ms/step - loss: 0.1027 - accuracy: 0.9641 - val_loss: 0.1183 - val_accuracy: 0.9627\n",
      "Epoch 44/100\n",
      "20/20 [==============================] - 0s 2ms/step - loss: 0.1037 - accuracy: 0.9641 - val_loss: 0.1161 - val_accuracy: 0.9627\n",
      "Epoch 45/100\n",
      "20/20 [==============================] - 0s 1ms/step - loss: 0.1036 - accuracy: 0.9625 - val_loss: 0.1252 - val_accuracy: 0.9565\n",
      "Epoch 46/100\n",
      "20/20 [==============================] - 0s 1ms/step - loss: 0.1044 - accuracy: 0.9625 - val_loss: 0.1193 - val_accuracy: 0.9627\n",
      "Epoch 47/100\n",
      "20/20 [==============================] - 0s 1ms/step - loss: 0.1051 - accuracy: 0.9625 - val_loss: 0.1173 - val_accuracy: 0.9627\n",
      "Epoch 48/100\n",
      "20/20 [==============================] - 0s 1ms/step - loss: 0.1012 - accuracy: 0.9641 - val_loss: 0.1183 - val_accuracy: 0.9627\n",
      "Epoch 49/100\n",
      "20/20 [==============================] - 0s 1ms/step - loss: 0.1029 - accuracy: 0.9656 - val_loss: 0.1217 - val_accuracy: 0.9627\n",
      "Epoch 50/100\n",
      "20/20 [==============================] - 0s 2ms/step - loss: 0.1031 - accuracy: 0.9609 - val_loss: 0.1194 - val_accuracy: 0.9627\n",
      "Epoch 51/100\n",
      "20/20 [==============================] - 0s 2ms/step - loss: 0.1013 - accuracy: 0.9625 - val_loss: 0.1193 - val_accuracy: 0.9627\n",
      "Epoch 52/100\n",
      "20/20 [==============================] - 0s 1ms/step - loss: 0.1016 - accuracy: 0.9594 - val_loss: 0.1178 - val_accuracy: 0.9627\n",
      "Epoch 53/100\n",
      "20/20 [==============================] - 0s 1ms/step - loss: 0.1019 - accuracy: 0.9656 - val_loss: 0.1258 - val_accuracy: 0.9627\n",
      "Epoch 54/100\n",
      "20/20 [==============================] - 0s 1ms/step - loss: 0.1029 - accuracy: 0.9641 - val_loss: 0.1130 - val_accuracy: 0.9689\n",
      "Epoch 55/100\n",
      "20/20 [==============================] - 0s 1ms/step - loss: 0.1058 - accuracy: 0.9656 - val_loss: 0.1220 - val_accuracy: 0.9627\n",
      "Epoch 56/100\n",
      "20/20 [==============================] - 0s 1ms/step - loss: 0.1025 - accuracy: 0.9625 - val_loss: 0.1175 - val_accuracy: 0.9627\n",
      "Epoch 57/100\n",
      "20/20 [==============================] - 0s 1ms/step - loss: 0.1027 - accuracy: 0.9641 - val_loss: 0.1171 - val_accuracy: 0.9627\n",
      "Epoch 58/100\n",
      "20/20 [==============================] - 0s 2ms/step - loss: 0.1006 - accuracy: 0.9625 - val_loss: 0.1236 - val_accuracy: 0.9627\n",
      "Epoch 59/100\n",
      "20/20 [==============================] - 0s 2ms/step - loss: 0.1007 - accuracy: 0.9625 - val_loss: 0.1153 - val_accuracy: 0.9627\n",
      "Epoch 60/100\n",
      "20/20 [==============================] - 0s 2ms/step - loss: 0.1032 - accuracy: 0.9672 - val_loss: 0.1121 - val_accuracy: 0.9627\n",
      "Epoch 61/100\n",
      "20/20 [==============================] - 0s 1ms/step - loss: 0.1013 - accuracy: 0.9625 - val_loss: 0.1205 - val_accuracy: 0.9627\n",
      "Epoch 62/100\n",
      "20/20 [==============================] - 0s 1ms/step - loss: 0.1003 - accuracy: 0.9656 - val_loss: 0.1148 - val_accuracy: 0.9627\n",
      "Epoch 63/100\n",
      "20/20 [==============================] - 0s 1ms/step - loss: 0.0979 - accuracy: 0.9656 - val_loss: 0.1232 - val_accuracy: 0.9627\n",
      "Epoch 64/100\n",
      "20/20 [==============================] - 0s 1ms/step - loss: 0.1037 - accuracy: 0.9641 - val_loss: 0.1159 - val_accuracy: 0.9627\n",
      "Epoch 65/100\n",
      "20/20 [==============================] - 0s 2ms/step - loss: 0.0992 - accuracy: 0.9656 - val_loss: 0.1158 - val_accuracy: 0.9627\n",
      "Epoch 66/100\n",
      "20/20 [==============================] - 0s 1ms/step - loss: 0.1000 - accuracy: 0.9672 - val_loss: 0.1121 - val_accuracy: 0.9627\n",
      "Epoch 67/100\n",
      "20/20 [==============================] - 0s 2ms/step - loss: 0.0980 - accuracy: 0.9625 - val_loss: 0.1194 - val_accuracy: 0.9627\n",
      "Epoch 68/100\n",
      "20/20 [==============================] - 0s 1ms/step - loss: 0.0996 - accuracy: 0.9672 - val_loss: 0.1144 - val_accuracy: 0.9627\n",
      "Epoch 69/100\n",
      "20/20 [==============================] - 0s 1ms/step - loss: 0.0983 - accuracy: 0.9641 - val_loss: 0.1279 - val_accuracy: 0.9565\n",
      "Epoch 70/100\n",
      "20/20 [==============================] - 0s 1ms/step - loss: 0.1018 - accuracy: 0.9656 - val_loss: 0.1102 - val_accuracy: 0.9689\n",
      "Epoch 71/100\n",
      "20/20 [==============================] - 0s 1ms/step - loss: 0.1010 - accuracy: 0.9641 - val_loss: 0.1149 - val_accuracy: 0.9627\n",
      "Epoch 72/100\n",
      "20/20 [==============================] - 0s 2ms/step - loss: 0.0982 - accuracy: 0.9625 - val_loss: 0.1183 - val_accuracy: 0.9627\n",
      "Epoch 73/100\n",
      "20/20 [==============================] - 0s 2ms/step - loss: 0.0998 - accuracy: 0.9641 - val_loss: 0.1115 - val_accuracy: 0.9689\n",
      "Epoch 74/100\n",
      "20/20 [==============================] - 0s 1ms/step - loss: 0.0993 - accuracy: 0.9609 - val_loss: 0.1300 - val_accuracy: 0.9565\n",
      "Epoch 75/100\n",
      "20/20 [==============================] - 0s 2ms/step - loss: 0.1035 - accuracy: 0.9578 - val_loss: 0.1101 - val_accuracy: 0.9689\n",
      "Epoch 76/100\n",
      "20/20 [==============================] - 0s 1ms/step - loss: 0.1018 - accuracy: 0.9625 - val_loss: 0.1114 - val_accuracy: 0.9627\n",
      "Epoch 77/100\n",
      "20/20 [==============================] - 0s 1ms/step - loss: 0.0965 - accuracy: 0.9656 - val_loss: 0.1142 - val_accuracy: 0.9627\n",
      "Epoch 78/100\n",
      "20/20 [==============================] - 0s 1ms/step - loss: 0.0962 - accuracy: 0.9641 - val_loss: 0.1208 - val_accuracy: 0.9627\n",
      "Epoch 79/100\n",
      "20/20 [==============================] - 0s 2ms/step - loss: 0.0971 - accuracy: 0.9656 - val_loss: 0.1119 - val_accuracy: 0.9627\n",
      "Epoch 80/100\n",
      "20/20 [==============================] - 0s 2ms/step - loss: 0.0968 - accuracy: 0.9641 - val_loss: 0.1136 - val_accuracy: 0.9627\n",
      "Epoch 81/100\n",
      "20/20 [==============================] - 0s 2ms/step - loss: 0.0964 - accuracy: 0.9641 - val_loss: 0.1134 - val_accuracy: 0.9627\n",
      "Epoch 82/100\n",
      "20/20 [==============================] - 0s 1ms/step - loss: 0.0963 - accuracy: 0.9641 - val_loss: 0.1196 - val_accuracy: 0.9627\n",
      "Epoch 83/100\n",
      "20/20 [==============================] - 0s 2ms/step - loss: 0.0996 - accuracy: 0.9672 - val_loss: 0.1144 - val_accuracy: 0.9627\n",
      "Epoch 84/100\n",
      "20/20 [==============================] - 0s 2ms/step - loss: 0.0959 - accuracy: 0.9656 - val_loss: 0.1169 - val_accuracy: 0.9627\n",
      "Epoch 85/100\n",
      "20/20 [==============================] - 0s 1ms/step - loss: 0.0957 - accuracy: 0.9656 - val_loss: 0.1151 - val_accuracy: 0.9627\n",
      "Epoch 86/100\n",
      "20/20 [==============================] - 0s 1ms/step - loss: 0.0972 - accuracy: 0.9672 - val_loss: 0.1104 - val_accuracy: 0.9689\n",
      "Epoch 87/100\n",
      "20/20 [==============================] - 0s 2ms/step - loss: 0.0948 - accuracy: 0.9656 - val_loss: 0.1134 - val_accuracy: 0.9627\n",
      "Epoch 88/100\n",
      "20/20 [==============================] - 0s 2ms/step - loss: 0.0949 - accuracy: 0.9656 - val_loss: 0.1178 - val_accuracy: 0.9627\n",
      "Epoch 89/100\n",
      "20/20 [==============================] - 0s 1ms/step - loss: 0.0948 - accuracy: 0.9688 - val_loss: 0.1103 - val_accuracy: 0.9689\n",
      "Epoch 90/100\n",
      "20/20 [==============================] - 0s 1ms/step - loss: 0.0990 - accuracy: 0.9672 - val_loss: 0.1125 - val_accuracy: 0.9627\n",
      "Epoch 91/100\n",
      "20/20 [==============================] - 0s 1ms/step - loss: 0.0939 - accuracy: 0.9641 - val_loss: 0.1159 - val_accuracy: 0.9627\n",
      "Epoch 92/100\n",
      "20/20 [==============================] - 0s 1ms/step - loss: 0.0938 - accuracy: 0.9625 - val_loss: 0.1161 - val_accuracy: 0.9627\n",
      "Epoch 93/100\n",
      "20/20 [==============================] - 0s 2ms/step - loss: 0.0934 - accuracy: 0.9672 - val_loss: 0.1122 - val_accuracy: 0.9627\n",
      "Epoch 94/100\n",
      "20/20 [==============================] - 0s 1ms/step - loss: 0.0937 - accuracy: 0.9641 - val_loss: 0.1214 - val_accuracy: 0.9627\n",
      "Epoch 95/100\n",
      "20/20 [==============================] - 0s 2ms/step - loss: 0.0945 - accuracy: 0.9672 - val_loss: 0.1143 - val_accuracy: 0.9627\n",
      "Epoch 96/100\n",
      "20/20 [==============================] - 0s 1ms/step - loss: 0.0926 - accuracy: 0.9672 - val_loss: 0.1160 - val_accuracy: 0.9627\n",
      "Epoch 97/100\n",
      "20/20 [==============================] - 0s 1ms/step - loss: 0.0936 - accuracy: 0.9672 - val_loss: 0.1118 - val_accuracy: 0.9627\n",
      "Epoch 98/100\n",
      "20/20 [==============================] - 0s 1ms/step - loss: 0.0955 - accuracy: 0.9641 - val_loss: 0.1201 - val_accuracy: 0.9627\n",
      "Epoch 99/100\n",
      "20/20 [==============================] - 0s 2ms/step - loss: 0.0933 - accuracy: 0.9672 - val_loss: 0.1161 - val_accuracy: 0.9627\n",
      "Epoch 100/100\n",
      "20/20 [==============================] - 0s 1ms/step - loss: 0.0928 - accuracy: 0.9641 - val_loss: 0.1117 - val_accuracy: 0.9627\n",
      "11/11 [==============================] - 0s 601us/step - loss: 0.1111 - accuracy: 0.9593\n",
      "Test Accuracy: 0.9593023061752319\n",
      "11/11 [==============================] - 0s 547us/step\n",
      "Accuracy: 0.9593023255813954\n",
      "Precision: 0.7647058823529411\n",
      "Recall: 0.5652173913043478\n",
      "F1: 0.65\n",
      "AUC: 0.9470404984423675\n"
     ]
    }
   ],
   "execution_count": 32
  },
  {
   "metadata": {
    "ExecuteTime": {
     "end_time": "2024-11-02T17:15:38.285142Z",
     "start_time": "2024-11-02T17:15:38.207126Z"
    }
   },
   "cell_type": "code",
   "source": "confusion_matrix_heatmap(y_test, y_pred)",
   "id": "35c0d241af744fcf",
   "outputs": [
    {
     "data": {
      "text/plain": [
       "<Figure size 800x600 with 1 Axes>"
      ],
      "image/png": "[encoded data removed]"
     },
     "metadata": {},
     "output_type": "display_data"
    }
   ],
   "execution_count": 33
  },
  {
   "metadata": {},
   "cell_type": "code",
   "source": "",
   "id": "baaa100b1c36a0ca",
   "execution_count": 34,
   "outputs": [
    {
     "data": {
      "text/plain": [
       "                    Accuracy Precision    Recall  F1 Score       AUC\n",
       "Mutual Information  0.950581  0.615385  0.695652  0.653061   0.83225\n",
       "X2                  0.959302  0.666667  0.782609      0.72  0.877286\n",
       "Relief              0.909884  0.394737  0.652174  0.491803  0.790261"
      ],
      "text/html": [
       "<div>\n",
       "<style scoped>\n",
       "    .dataframe tbody tr th:only-of-type {\n",
       "        vertical-align: middle;\n",
       "    }\n",
       "\n",
       "    .dataframe tbody tr th {\n",
       "        vertical-align: top;\n",
       "    }\n",
       "\n",
       "    .dataframe thead th {\n",
       "        text-align: right;\n",
       "    }\n",
       "</style>\n",
       "<table border=\"1\" class=\"dataframe\">\n",
       "  <thead>\n",
       "    <tr style=\"text-align: right;\">\n",
       "      <th></th>\n",
       "      <th>Accuracy</th>\n",
       "      <th>Precision</th>\n",
       "      <th>Recall</th>\n",
       "      <th>F1 Score</th>\n",
       "      <th>AUC</th>\n",
       "    </tr>\n",
       "  </thead>\n",
       "  <tbody>\n",
       "    <tr>\n",
       "      <th>Mutual Information</th>\n",
       "      <td>0.950581</td>\n",
       "      <td>0.615385</td>\n",
       "      <td>0.695652</td>\n",
       "      <td>0.653061</td>\n",
       "      <td>0.83225</td>\n",
       "    </tr>\n",
       "    <tr>\n",
       "      <th>X2</th>\n",
       "      <td>0.959302</td>\n",
       "      <td>0.666667</td>\n",
       "      <td>0.782609</td>\n",
       "      <td>0.72</td>\n",
       "      <td>0.877286</td>\n",
       "    </tr>\n",
       "    <tr>\n",
       "      <th>Relief</th>\n",
       "      <td>0.909884</td>\n",
       "      <td>0.394737</td>\n",
       "      <td>0.652174</td>\n",
       "      <td>0.491803</td>\n",
       "      <td>0.790261</td>\n",
       "    </tr>\n",
       "  </tbody>\n",
       "</table>\n",
       "</div>"
      ]
     },
     "metadata": {},
     "output_type": "display_data"
    },
    {
     "name": "stdout",
     "output_type": "stream",
     "text": [
      "Random Forest Results\n"
     ]
    },
    {
     "data": {
      "text/plain": [
       "                    Accuracy Precision    Recall  F1 Score       AUC\n",
       "Mutual Information  0.962209  0.777778  0.608696  0.682927  0.798117\n",
       "X2                  0.962209      0.75  0.652174  0.697674  0.818299\n",
       "Relief              0.959302  0.736842  0.608696  0.666667   0.79656"
      ],
      "text/html": [
       "<div>\n",
       "<style scoped>\n",
       "    .dataframe tbody tr th:only-of-type {\n",
       "        vertical-align: middle;\n",
       "    }\n",
       "\n",
       "    .dataframe tbody tr th {\n",
       "        vertical-align: top;\n",
       "    }\n",
       "\n",
       "    .dataframe thead th {\n",
       "        text-align: right;\n",
       "    }\n",
       "</style>\n",
       "<table border=\"1\" class=\"dataframe\">\n",
       "  <thead>\n",
       "    <tr style=\"text-align: right;\">\n",
       "      <th></th>\n",
       "      <th>Accuracy</th>\n",
       "      <th>Precision</th>\n",
       "      <th>Recall</th>\n",
       "      <th>F1 Score</th>\n",
       "      <th>AUC</th>\n",
       "    </tr>\n",
       "  </thead>\n",
       "  <tbody>\n",
       "    <tr>\n",
       "      <th>Mutual Information</th>\n",
       "      <td>0.962209</td>\n",
       "      <td>0.777778</td>\n",
       "      <td>0.608696</td>\n",
       "      <td>0.682927</td>\n",
       "      <td>0.798117</td>\n",
       "    </tr>\n",
       "    <tr>\n",
       "      <th>X2</th>\n",
       "      <td>0.962209</td>\n",
       "      <td>0.75</td>\n",
       "      <td>0.652174</td>\n",
       "      <td>0.697674</td>\n",
       "      <td>0.818299</td>\n",
       "    </tr>\n",
       "    <tr>\n",
       "      <th>Relief</th>\n",
       "      <td>0.959302</td>\n",
       "      <td>0.736842</td>\n",
       "      <td>0.608696</td>\n",
       "      <td>0.666667</td>\n",
       "      <td>0.79656</td>\n",
       "    </tr>\n",
       "  </tbody>\n",
       "</table>\n",
       "</div>"
      ]
     },
     "metadata": {},
     "output_type": "display_data"
    },
    {
     "name": "stdout",
     "output_type": "stream",
     "text": [
      "Neural Network Results\n"
     ]
    },
    {
     "data": {
      "text/plain": [
       "                    Accuracy Precision    Recall  F1 Score       AUC\n",
       "Mutual Information  0.959302  0.695652  0.695652  0.695652  0.981444\n",
       "X2                  0.965116  0.761905  0.695652  0.727273  0.982934\n",
       "Relief              0.959302  0.764706  0.565217      0.65   0.94704"
      ],
      "text/html": [
       "<div>\n",
       "<style scoped>\n",
       "    .dataframe tbody tr th:only-of-type {\n",
       "        vertical-align: middle;\n",
       "    }\n",
       "\n",
       "    .dataframe tbody tr th {\n",
       "        vertical-align: top;\n",
       "    }\n",
       "\n",
       "    .dataframe thead th {\n",
       "        text-align: right;\n",
       "    }\n",
       "</style>\n",
       "<table border=\"1\" class=\"dataframe\">\n",
       "  <thead>\n",
       "    <tr style=\"text-align: right;\">\n",
       "      <th></th>\n",
       "      <th>Accuracy</th>\n",
       "      <th>Precision</th>\n",
       "      <th>Recall</th>\n",
       "      <th>F1 Score</th>\n",
       "      <th>AUC</th>\n",
       "    </tr>\n",
       "  </thead>\n",
       "  <tbody>\n",
       "    <tr>\n",
       "      <th>Mutual Information</th>\n",
       "      <td>0.959302</td>\n",
       "      <td>0.695652</td>\n",
       "      <td>0.695652</td>\n",
       "      <td>0.695652</td>\n",
       "      <td>0.981444</td>\n",
       "    </tr>\n",
       "    <tr>\n",
       "      <th>X2</th>\n",
       "      <td>0.965116</td>\n",
       "      <td>0.761905</td>\n",
       "      <td>0.695652</td>\n",
       "      <td>0.727273</td>\n",
       "      <td>0.982934</td>\n",
       "    </tr>\n",
       "    <tr>\n",
       "      <th>Relief</th>\n",
       "      <td>0.959302</td>\n",
       "      <td>0.764706</td>\n",
       "      <td>0.565217</td>\n",
       "      <td>0.65</td>\n",
       "      <td>0.94704</td>\n",
       "    </tr>\n",
       "  </tbody>\n",
       "</table>\n",
       "</div>"
      ]
     },
     "metadata": {},
     "output_type": "display_data"
    }
   ]
  }
 ],
 "metadata": {
  "kernelspec": {
   "display_name": "Python 3",
   "language": "python",
   "name": "python3"
  },
  "language_info": {
   "codemirror_mode": {
    "name": "ipython",
    "version": 2
   },
   "file_extension": ".py",
   "mimetype": "text/x-python",
   "name": "python",
   "nbconvert_exporter": "python",
   "pygments_lexer": "ipython2",
   "version": "2.7.6"
  }
 },
 "nbformat": 4,
 "nbformat_minor": 5
}

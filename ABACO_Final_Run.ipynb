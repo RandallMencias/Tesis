{
 "cells": [
  {
   "cell_type": "code",
   "id": "initial_id",
   "metadata": {
    "collapsed": true,
    "ExecuteTime": {
     "end_time": "2024-11-02T06:23:33.844098Z",
     "start_time": "2024-11-02T06:23:33.838092Z"
    }
   },
   "source": [
    "from Metaheuristicas.fitness_functions import *\n",
    "from sklearn.metrics import confusion_matrix\n",
    "import seaborn as sns\n",
    "import matplotlib.pyplot as plt\n"
   ],
   "outputs": [],
   "execution_count": 33
  },
  {
   "cell_type": "code",
   "source": [
    "X, y = load_and_preprocess_data(filename='Resources/SeisBenchV1_v1_1.json')\n"
   ],
   "metadata": {
    "collapsed": false,
    "ExecuteTime": {
     "end_time": "2024-11-02T05:23:43.133592Z",
     "start_time": "2024-11-02T05:23:43.068399Z"
    }
   },
   "id": "aa2b839a0ac12d0c",
   "outputs": [],
   "execution_count": 2
  },
  {
   "metadata": {
    "ExecuteTime": {
     "end_time": "2024-11-02T05:23:43.348162Z",
     "start_time": "2024-11-02T05:23:43.334153Z"
    }
   },
   "cell_type": "code",
   "source": "n = 500",
   "id": "fd67de755b1553a6",
   "outputs": [],
   "execution_count": 3
  },
  {
   "cell_type": "code",
   "source": [
    "from Metaheuristicas.Ant_Colony_Optimization import AdvancedBinaryAntColonyOptimization\n",
    "\n",
    "aco = AdvancedBinaryAntColonyOptimization(n_ants=20, n_best=1, n_iterations=n, decay=0.8, alpha=1, beta=2,\n",
    "                                          local_search_prob=0.15)"
   ],
   "metadata": {
    "collapsed": false,
    "ExecuteTime": {
     "end_time": "2024-11-02T05:23:43.394201Z",
     "start_time": "2024-11-02T05:23:43.381205Z"
    }
   },
   "id": "ca4c77e3ca5f4f79",
   "outputs": [],
   "execution_count": 4
  },
  {
   "cell_type": "markdown",
   "source": [
    "#### Models Naive Bayes and Decision Tree"
   ],
   "metadata": {
    "collapsed": false
   },
   "id": "5aafef1bc4d32ad"
  },
  {
   "cell_type": "code",
   "source": [
    "from sklearn.metrics import accuracy_score, precision_score, recall_score, f1_score, roc_auc_score\n",
    "from sklearn.model_selection import train_test_split\n",
    "from sklearn.ensemble import RandomForestClassifier\n",
    "from sklearn.naive_bayes import GaussianNB\n",
    "\n",
    "NB = GaussianNB()\n",
    "DT = RandomForestClassifier()\n",
    "\n",
    "#dataset split\n",
    "\n",
    "X_train, X_test, y_train, y_test = train_test_split(X, y, test_size=0.3, random_state=42)\n"
   ],
   "metadata": {
    "collapsed": false,
    "ExecuteTime": {
     "end_time": "2024-11-02T05:23:43.455809Z",
     "start_time": "2024-11-02T05:23:43.410206Z"
    }
   },
   "id": "1cad8f015c03fd6a",
   "outputs": [],
   "execution_count": 5
  },
  {
   "cell_type": "markdown",
   "source": [
    "# ABACO with Mutual Information\n"
   ],
   "metadata": {
    "collapsed": false
   },
   "id": "fdacfe27fc6bf19f"
  },
  {
   "cell_type": "code",
   "source": [
    "#TODO: checar parametros\n",
    "aco = AdvancedBinaryAntColonyOptimization(n_ants=20, n_best=1, n_iterations=n, decay=0.6, alpha=1, beta=2,local_search_prob=0.15)\n",
    "bestfeatures, best_fitness = aco.fit(X.values, y.values, fitness_function=mutual_information_eval)\n",
    "ACMIFeatures = X.columns[bestfeatures.astype(bool)].tolist()\n"
   ],
   "metadata": {
    "collapsed": false,
    "ExecuteTime": {
     "end_time": "2024-11-02T05:44:19.722404Z",
     "start_time": "2024-11-02T05:23:43.487810Z"
    }
   },
   "id": "27afb8be55ef518",
   "outputs": [],
   "execution_count": 6
  },
  {
   "cell_type": "code",
   "source": [
    "NB.fit(X_train[ACMIFeatures], y_train)\n",
    "\n",
    "y_pred = NB.predict(X_test[ACMIFeatures])\n",
    "\n",
    "print(\"Accuracy:\", accuracy_score(y_test, y_pred))\n",
    "print(\"Precision:\", precision_score(y_test, y_pred))\n",
    "print(\"Recall:\", recall_score(y_test, y_pred))\n",
    "print(\"F1:\", f1_score(y_test, y_pred))\n",
    "print(\"AUC:\", roc_auc_score(y_test, y_pred))\n"
   ],
   "metadata": {
    "collapsed": false,
    "ExecuteTime": {
     "end_time": "2024-11-02T06:27:34.653089Z",
     "start_time": "2024-11-02T06:27:34.640936Z"
    }
   },
   "id": "e222b27f3bfd73ff",
   "outputs": [
    {
     "name": "stdout",
     "output_type": "stream",
     "text": [
      "Accuracy: 0.9563953488372093\n",
      "Precision: 0.6428571428571429\n",
      "Recall: 0.782608695652174\n",
      "F1: 0.7058823529411765\n",
      "AUC: 0.875728023838548\n"
     ]
    }
   ],
   "execution_count": 50
  },
  {
   "metadata": {
    "ExecuteTime": {
     "end_time": "2024-11-02T06:29:04.883848Z",
     "start_time": "2024-11-02T06:29:04.811394Z"
    }
   },
   "cell_type": "code",
   "source": [
    "%matplotlib inline\n",
    "\n",
    "# Assuming y_test and y_pred are defined\n",
    "cm = confusion_matrix(y_test, y_pred)\n",
    "\n",
    "# Plotting the confusion matrix\n",
    "plt.figure(figsize=(8, 6))\n",
    "sns.heatmap(cm, annot=True, fmt='d', cmap='Blues', cbar=False)\n",
    "plt.xlabel('Predicted Labels')\n",
    "plt.ylabel('True Labels')\n",
    "plt.title('Confusion Matrix')\n",
    "plt.show()"
   ],
   "id": "f8bceb1b18321bfd",
   "outputs": [
    {
     "data": {
      "text/plain": [
       "<Figure size 800x600 with 1 Axes>"
      ],
      "image/png": "[encoded data removed]"
     },
     "metadata": {},
     "output_type": "display_data"
    }
   ],
   "execution_count": 56
  },
  {
   "metadata": {},
   "cell_type": "code",
   "outputs": [],
   "execution_count": null,
   "source": [
    "# auc plot\n",
    "from sklearn.metrics import roc_curve\n"
   ],
   "id": "b611540fe92429fa"
  },
  {
   "cell_type": "code",
   "source": [
    "DT.fit(X_train[ACMIFeatures], y_train)\n",
    "\n",
    "y_pred = DT.predict(X_test[ACMIFeatures])\n",
    "\n",
    "print(\"Accuracy:\", accuracy_score(y_test, y_pred))\n",
    "print(\"Precision:\", precision_score(y_test, y_pred))\n",
    "print(\"Recall:\", recall_score(y_test, y_pred))\n",
    "print(\"F1:\", f1_score(y_test, y_pred))\n",
    "print(\"AUC:\", roc_auc_score(y_test, y_pred))"
   ],
   "metadata": {
    "collapsed": false,
    "ExecuteTime": {
     "end_time": "2024-11-02T05:44:19.986973Z",
     "start_time": "2024-11-02T05:44:19.799379Z"
    }
   },
   "id": "cfa13e64f7f8fae8",
   "outputs": [
    {
     "name": "stdout",
     "output_type": "stream",
     "text": [
      "Accuracy: 0.9651162790697675\n",
      "Precision: 0.7894736842105263\n",
      "Recall: 0.6521739130434783\n",
      "F1: 0.7142857142857143\n",
      "AUC: 0.8198564269267236\n"
     ]
    }
   ],
   "execution_count": 8
  },
  {
   "cell_type": "code",
   "source": [],
   "metadata": {
    "collapsed": false,
    "ExecuteTime": {
     "end_time": "2024-11-02T05:44:20.033494Z",
     "start_time": "2024-11-02T05:44:20.018988Z"
    }
   },
   "id": "51304443ad03086a",
   "outputs": [],
   "execution_count": null
  },
  {
   "cell_type": "markdown",
   "source": [],
   "metadata": {
    "collapsed": false
   },
   "id": "6499cf3717ea9c88"
  },
  {
   "cell_type": "markdown",
   "source": [
    "# ABACO with Chi2"
   ],
   "metadata": {
    "collapsed": false
   },
   "id": "738f5b3837eb3232"
  },
  {
   "cell_type": "code",
   "source": [
    "aco = AdvancedBinaryAntColonyOptimization(n_ants=20, n_best=1, n_iterations=n, decay=0.6, alpha=1, beta=2,local_search_prob=0.15)\n",
    "\n",
    "bestfeatures, best_fitness = aco.fit(X.values, y.values, fitness_function=chi2_eval)\n",
    "ACX2Features = X.columns[bestfeatures.astype(bool)].tolist()"
   ],
   "metadata": {
    "collapsed": false,
    "ExecuteTime": {
     "end_time": "2024-11-02T05:52:52.352486Z",
     "start_time": "2024-11-02T05:44:20.066506Z"
    }
   },
   "id": "a9ad1ed17eba54f5",
   "outputs": [],
   "execution_count": 9
  },
  {
   "cell_type": "code",
   "source": [
    "NB.fit(X_train[ACX2Features], y_train)\n",
    "y_pred = NB.predict(X_test[ACX2Features])\n",
    "\n",
    "print(\"Accuracy:\", accuracy_score(y_test, y_pred))\n",
    "print(\"Precision:\", precision_score(y_test, y_pred))\n",
    "print(\"Recall:\", recall_score(y_test, y_pred))\n",
    "print(\"F1:\", f1_score(y_test, y_pred))\n",
    "print(\"AUC:\", roc_auc_score(y_test, y_pred))"
   ],
   "metadata": {
    "collapsed": false,
    "ExecuteTime": {
     "end_time": "2024-11-02T05:52:52.399017Z",
     "start_time": "2024-11-02T05:52:52.373506Z"
    }
   },
   "id": "bddacde3cb4a9024",
   "outputs": [
    {
     "name": "stdout",
     "output_type": "stream",
     "text": [
      "Accuracy: 0.9534883720930233\n",
      "Precision: 0.6296296296296297\n",
      "Recall: 0.7391304347826086\n",
      "F1: 0.68\n",
      "AUC: 0.8539888934037654\n"
     ]
    }
   ],
   "execution_count": 10
  },
  {
   "cell_type": "code",
   "source": [
    "DT.fit(X_train[ACX2Features], y_train)\n",
    "y_pred = DT.predict(X_test[ACX2Features])\n",
    "\n",
    "print(\"Accuracy:\", accuracy_score(y_test, y_pred))\n",
    "print(\"Precision:\", precision_score(y_test, y_pred))\n",
    "print(\"Recall:\", recall_score(y_test, y_pred))\n",
    "print(\"F1:\", f1_score(y_test, y_pred))\n",
    "print(\"AUC:\", roc_auc_score(y_test, y_pred))"
   ],
   "metadata": {
    "collapsed": false,
    "ExecuteTime": {
     "end_time": "2024-11-02T05:52:52.618626Z",
     "start_time": "2024-11-02T05:52:52.431044Z"
    }
   },
   "id": "7b6f2fb86e8ce7f8",
   "outputs": [
    {
     "name": "stdout",
     "output_type": "stream",
     "text": [
      "Accuracy: 0.9622093023255814\n",
      "Precision: 0.75\n",
      "Recall: 0.6521739130434783\n",
      "F1: 0.6976744186046512\n",
      "AUC: 0.8182987945279697\n"
     ]
    }
   ],
   "execution_count": 11
  },
  {
   "cell_type": "markdown",
   "source": [
    "# ABACO with ReliefF"
   ],
   "metadata": {
    "collapsed": false
   },
   "id": "44bea2b37508966a"
  },
  {
   "cell_type": "code",
   "source": [
    "aco = AdvancedBinaryAntColonyOptimization(n_ants=20, n_best=1, n_iterations=n, decay=0.6, alpha=1, beta=2,local_search_prob=0.15)\n",
    "\n",
    "bestfeatures, best_fitness = aco.fit(X.values, y.values, fitness_function=relieff_eval)\n",
    "ACRFeatures = X.columns[bestfeatures.astype(bool)].tolist()"
   ],
   "metadata": {
    "collapsed": false,
    "ExecuteTime": {
     "end_time": "2024-11-02T06:11:31.834491Z",
     "start_time": "2024-11-02T05:52:52.651261Z"
    }
   },
   "id": "37f89a6d5cfdb864",
   "outputs": [],
   "execution_count": 12
  },
  {
   "cell_type": "markdown",
   "source": [],
   "metadata": {
    "collapsed": false
   },
   "id": "c857cc136f8f20c5"
  },
  {
   "cell_type": "code",
   "source": [
    "NB.fit(X_train[ACRFeatures], y_train)\n",
    "y_pred = NB.predict(X_test[ACRFeatures])\n",
    "\n",
    "print(\"Accuracy:\", accuracy_score(y_test, y_pred))\n",
    "print(\"Precision:\", precision_score(y_test, y_pred))\n",
    "print(\"Recall:\", recall_score(y_test, y_pred))\n",
    "print(\"F1:\", f1_score(y_test, y_pred))\n",
    "print(\"AUC:\", roc_auc_score(y_test, y_pred))"
   ],
   "metadata": {
    "collapsed": false,
    "ExecuteTime": {
     "end_time": "2024-11-02T06:11:31.880517Z",
     "start_time": "2024-11-02T06:11:31.867004Z"
    }
   },
   "id": "c18092371a5c95ee",
   "outputs": [
    {
     "name": "stdout",
     "output_type": "stream",
     "text": [
      "Accuracy: 0.9447674418604651\n",
      "Precision: 0.5714285714285714\n",
      "Recall: 0.6956521739130435\n",
      "F1: 0.6274509803921569\n",
      "AUC: 0.829134498171475\n"
     ]
    }
   ],
   "execution_count": 13
  },
  {
   "cell_type": "code",
   "source": [
    "DT.fit(X_train[ACRFeatures], y_train)\n",
    "y_pred = DT.predict(X_test[ACRFeatures])\n",
    "\n",
    "print(\"Accuracy:\", accuracy_score(y_test, y_pred))\n",
    "print(\"Precision:\", precision_score(y_test, y_pred))\n",
    "print(\"Recall:\", recall_score(y_test, y_pred))\n",
    "print(\"F1:\", f1_score(y_test, y_pred))\n",
    "print(\"AUC:\", roc_auc_score(y_test, y_pred))"
   ],
   "metadata": {
    "collapsed": false,
    "ExecuteTime": {
     "end_time": "2024-11-02T06:11:32.117655Z",
     "start_time": "2024-11-02T06:11:31.913539Z"
    }
   },
   "id": "8f03dc90075b09ea",
   "outputs": [
    {
     "name": "stdout",
     "output_type": "stream",
     "text": [
      "Accuracy: 0.9651162790697675\n",
      "Precision: 0.7894736842105263\n",
      "Recall: 0.6521739130434783\n",
      "F1: 0.7142857142857143\n",
      "AUC: 0.8198564269267236\n"
     ]
    }
   ],
   "execution_count": 14
  },
  {
   "cell_type": "markdown",
   "source": [
    "## Red Neuronal\n"
   ],
   "metadata": {
    "collapsed": false
   },
   "id": "c0fbf5b3e5c28f6f"
  },
  {
   "cell_type": "code",
   "source": [
    "\n",
    "from tensorflow.keras.models import Sequential\n",
    "from tensorflow.keras.layers import Dense\n",
    "from tensorflow.keras.optimizers import Adam\n",
    "from tensorflow.keras.losses import BinaryCrossentropy"
   ],
   "metadata": {
    "collapsed": false,
    "ExecuteTime": {
     "end_time": "2024-11-02T06:11:34.835819Z",
     "start_time": "2024-11-02T06:11:32.150544Z"
    }
   },
   "id": "7bca53201b5fe940",
   "outputs": [],
   "execution_count": 15
  },
  {
   "cell_type": "markdown",
   "source": [
    "MUTUAL_INFORMATION "
   ],
   "metadata": {
    "collapsed": false
   },
   "id": "6730803a5695bad8"
  },
  {
   "cell_type": "code",
   "source": [
    "\n",
    "\n",
    "# Crear y compilar el modelo\n",
    "RN = Sequential()\n",
    "\n",
    "# Definir la dimensión de entrada basada en las características seleccionadas\n",
    "input_dim = X_train[ACMIFeatures].shape[1]\n",
    "RN.add(Dense(units=64, activation='relu', input_dim=input_dim))\n",
    "RN.add(Dense(units=32, activation='relu'))\n",
    "RN.add(Dense(units=1, activation='sigmoid'))\n",
    "\n",
    "# Compilar el modelo\n",
    "RN.compile(optimizer=Adam(learning_rate=0.001),\n",
    "           loss=BinaryCrossentropy(),\n",
    "           metrics=['accuracy'])\n",
    "\n",
    "# Entrenar el modelo\n",
    "history = RN.fit(X_train[ACMIFeatures], y_train, epochs=100, batch_size=32, validation_split=0.2)\n",
    "\n",
    "# Evaluar el modelo en el conjunto de prueba\n",
    "loss, accuracy = RN.evaluate(X_test[ACMIFeatures], y_test)\n",
    "\n",
    "print(f'Test Accuracy: {accuracy}')\n",
    "\n",
    "# Realizar predicciones en el conjunto de prueba\n",
    "y_pred_prob = RN.predict(X_test[ACMIFeatures])  # Predicciones como probabilidades\n",
    "y_pred = (y_pred_prob > 0.5).astype(int)  # Convertir probabilidades a etiquetas (0 o 1)\n",
    "\n",
    "# Calcular y mostrar las métricas\n",
    "print(\"Accuracy:\", accuracy_score(y_test, y_pred))\n",
    "print(\"Precision:\", precision_score(y_test, y_pred))\n",
    "print(\"Recall:\", recall_score(y_test, y_pred))\n",
    "print(\"F1:\", f1_score(y_test, y_pred))\n",
    "print(\"AUC:\", roc_auc_score(y_test, y_pred_prob))  # Usamos probabilidades para AUC\n"
   ],
   "metadata": {
    "collapsed": false,
    "ExecuteTime": {
     "end_time": "2024-11-02T06:11:39.054099Z",
     "start_time": "2024-11-02T06:11:34.868346Z"
    }
   },
   "id": "24c6460e29494d86",
   "outputs": [
    {
     "name": "stdout",
     "output_type": "stream",
     "text": [
      "Epoch 1/100\n",
      "20/20 [==============================] - 1s 8ms/step - loss: 0.6073 - accuracy: 0.7812 - val_loss: 0.4910 - val_accuracy: 0.9193\n",
      "Epoch 2/100\n",
      "20/20 [==============================] - 0s 2ms/step - loss: 0.4185 - accuracy: 0.8984 - val_loss: 0.3155 - val_accuracy: 0.9193\n",
      "Epoch 3/100\n",
      "20/20 [==============================] - 0s 2ms/step - loss: 0.3145 - accuracy: 0.8984 - val_loss: 0.2662 - val_accuracy: 0.9193\n",
      "Epoch 4/100\n",
      "20/20 [==============================] - 0s 2ms/step - loss: 0.2719 - accuracy: 0.8984 - val_loss: 0.2324 - val_accuracy: 0.9193\n",
      "Epoch 5/100\n",
      "20/20 [==============================] - 0s 2ms/step - loss: 0.2202 - accuracy: 0.9000 - val_loss: 0.1945 - val_accuracy: 0.9255\n",
      "Epoch 6/100\n",
      "20/20 [==============================] - 0s 2ms/step - loss: 0.1718 - accuracy: 0.9266 - val_loss: 0.1600 - val_accuracy: 0.9317\n",
      "Epoch 7/100\n",
      "20/20 [==============================] - 0s 2ms/step - loss: 0.1410 - accuracy: 0.9453 - val_loss: 0.1347 - val_accuracy: 0.9379\n",
      "Epoch 8/100\n",
      "20/20 [==============================] - 0s 2ms/step - loss: 0.1156 - accuracy: 0.9469 - val_loss: 0.1165 - val_accuracy: 0.9317\n",
      "Epoch 9/100\n",
      "20/20 [==============================] - 0s 2ms/step - loss: 0.1021 - accuracy: 0.9656 - val_loss: 0.1065 - val_accuracy: 0.9379\n",
      "Epoch 10/100\n",
      "20/20 [==============================] - 0s 2ms/step - loss: 0.0933 - accuracy: 0.9609 - val_loss: 0.0988 - val_accuracy: 0.9627\n",
      "Epoch 11/100\n",
      "20/20 [==============================] - 0s 2ms/step - loss: 0.0881 - accuracy: 0.9703 - val_loss: 0.0928 - val_accuracy: 0.9627\n",
      "Epoch 12/100\n",
      "20/20 [==============================] - 0s 2ms/step - loss: 0.0849 - accuracy: 0.9719 - val_loss: 0.0926 - val_accuracy: 0.9689\n",
      "Epoch 13/100\n",
      "20/20 [==============================] - 0s 2ms/step - loss: 0.0823 - accuracy: 0.9734 - val_loss: 0.0888 - val_accuracy: 0.9627\n",
      "Epoch 14/100\n",
      "20/20 [==============================] - 0s 2ms/step - loss: 0.0800 - accuracy: 0.9719 - val_loss: 0.0876 - val_accuracy: 0.9627\n",
      "Epoch 15/100\n",
      "20/20 [==============================] - 0s 2ms/step - loss: 0.0769 - accuracy: 0.9734 - val_loss: 0.0869 - val_accuracy: 0.9627\n",
      "Epoch 16/100\n",
      "20/20 [==============================] - 0s 2ms/step - loss: 0.0763 - accuracy: 0.9734 - val_loss: 0.0855 - val_accuracy: 0.9627\n",
      "Epoch 17/100\n",
      "20/20 [==============================] - 0s 2ms/step - loss: 0.0742 - accuracy: 0.9719 - val_loss: 0.0851 - val_accuracy: 0.9627\n",
      "Epoch 18/100\n",
      "20/20 [==============================] - 0s 2ms/step - loss: 0.0734 - accuracy: 0.9750 - val_loss: 0.0870 - val_accuracy: 0.9565\n",
      "Epoch 19/100\n",
      "20/20 [==============================] - 0s 2ms/step - loss: 0.0722 - accuracy: 0.9688 - val_loss: 0.0806 - val_accuracy: 0.9627\n",
      "Epoch 20/100\n",
      "20/20 [==============================] - 0s 2ms/step - loss: 0.0717 - accuracy: 0.9750 - val_loss: 0.0794 - val_accuracy: 0.9627\n",
      "Epoch 21/100\n",
      "20/20 [==============================] - 0s 2ms/step - loss: 0.0710 - accuracy: 0.9734 - val_loss: 0.0792 - val_accuracy: 0.9627\n",
      "Epoch 22/100\n",
      "20/20 [==============================] - 0s 2ms/step - loss: 0.0695 - accuracy: 0.9781 - val_loss: 0.0895 - val_accuracy: 0.9503\n",
      "Epoch 23/100\n",
      "20/20 [==============================] - 0s 2ms/step - loss: 0.0712 - accuracy: 0.9766 - val_loss: 0.0831 - val_accuracy: 0.9565\n",
      "Epoch 24/100\n",
      "20/20 [==============================] - 0s 2ms/step - loss: 0.0702 - accuracy: 0.9719 - val_loss: 0.0778 - val_accuracy: 0.9689\n",
      "Epoch 25/100\n",
      "20/20 [==============================] - 0s 2ms/step - loss: 0.0683 - accuracy: 0.9797 - val_loss: 0.0805 - val_accuracy: 0.9565\n",
      "Epoch 26/100\n",
      "20/20 [==============================] - 0s 2ms/step - loss: 0.0677 - accuracy: 0.9719 - val_loss: 0.0795 - val_accuracy: 0.9565\n",
      "Epoch 27/100\n",
      "20/20 [==============================] - 0s 2ms/step - loss: 0.0663 - accuracy: 0.9812 - val_loss: 0.0798 - val_accuracy: 0.9565\n",
      "Epoch 28/100\n",
      "20/20 [==============================] - 0s 2ms/step - loss: 0.0647 - accuracy: 0.9734 - val_loss: 0.0799 - val_accuracy: 0.9627\n",
      "Epoch 29/100\n",
      "20/20 [==============================] - 0s 2ms/step - loss: 0.0643 - accuracy: 0.9766 - val_loss: 0.0781 - val_accuracy: 0.9689\n",
      "Epoch 30/100\n",
      "20/20 [==============================] - 0s 2ms/step - loss: 0.0651 - accuracy: 0.9750 - val_loss: 0.0900 - val_accuracy: 0.9441\n",
      "Epoch 31/100\n",
      "20/20 [==============================] - 0s 2ms/step - loss: 0.0658 - accuracy: 0.9688 - val_loss: 0.0802 - val_accuracy: 0.9565\n",
      "Epoch 32/100\n",
      "20/20 [==============================] - 0s 2ms/step - loss: 0.0633 - accuracy: 0.9781 - val_loss: 0.0786 - val_accuracy: 0.9627\n",
      "Epoch 33/100\n",
      "20/20 [==============================] - 0s 2ms/step - loss: 0.0643 - accuracy: 0.9734 - val_loss: 0.0800 - val_accuracy: 0.9565\n",
      "Epoch 34/100\n",
      "20/20 [==============================] - 0s 2ms/step - loss: 0.0621 - accuracy: 0.9797 - val_loss: 0.0758 - val_accuracy: 0.9689\n",
      "Epoch 35/100\n",
      "20/20 [==============================] - 0s 2ms/step - loss: 0.0620 - accuracy: 0.9766 - val_loss: 0.0820 - val_accuracy: 0.9565\n",
      "Epoch 36/100\n",
      "20/20 [==============================] - 0s 2ms/step - loss: 0.0616 - accuracy: 0.9797 - val_loss: 0.0790 - val_accuracy: 0.9565\n",
      "Epoch 37/100\n",
      "20/20 [==============================] - 0s 2ms/step - loss: 0.0631 - accuracy: 0.9719 - val_loss: 0.0860 - val_accuracy: 0.9503\n",
      "Epoch 38/100\n",
      "20/20 [==============================] - 0s 2ms/step - loss: 0.0613 - accuracy: 0.9750 - val_loss: 0.0731 - val_accuracy: 0.9689\n",
      "Epoch 39/100\n",
      "20/20 [==============================] - 0s 2ms/step - loss: 0.0611 - accuracy: 0.9812 - val_loss: 0.0817 - val_accuracy: 0.9565\n",
      "Epoch 40/100\n",
      "20/20 [==============================] - 0s 2ms/step - loss: 0.0620 - accuracy: 0.9750 - val_loss: 0.0741 - val_accuracy: 0.9689\n",
      "Epoch 41/100\n",
      "20/20 [==============================] - 0s 2ms/step - loss: 0.0624 - accuracy: 0.9766 - val_loss: 0.0754 - val_accuracy: 0.9689\n",
      "Epoch 42/100\n",
      "20/20 [==============================] - 0s 2ms/step - loss: 0.0596 - accuracy: 0.9766 - val_loss: 0.0827 - val_accuracy: 0.9565\n",
      "Epoch 43/100\n",
      "20/20 [==============================] - 0s 2ms/step - loss: 0.0591 - accuracy: 0.9766 - val_loss: 0.0747 - val_accuracy: 0.9689\n",
      "Epoch 44/100\n",
      "20/20 [==============================] - 0s 2ms/step - loss: 0.0596 - accuracy: 0.9797 - val_loss: 0.0847 - val_accuracy: 0.9565\n",
      "Epoch 45/100\n",
      "20/20 [==============================] - 0s 2ms/step - loss: 0.0621 - accuracy: 0.9766 - val_loss: 0.0774 - val_accuracy: 0.9627\n",
      "Epoch 46/100\n",
      "20/20 [==============================] - 0s 2ms/step - loss: 0.0667 - accuracy: 0.9672 - val_loss: 0.0751 - val_accuracy: 0.9689\n",
      "Epoch 47/100\n",
      "20/20 [==============================] - 0s 2ms/step - loss: 0.0664 - accuracy: 0.9734 - val_loss: 0.0793 - val_accuracy: 0.9565\n",
      "Epoch 48/100\n",
      "20/20 [==============================] - 0s 2ms/step - loss: 0.0591 - accuracy: 0.9797 - val_loss: 0.0754 - val_accuracy: 0.9689\n",
      "Epoch 49/100\n",
      "20/20 [==============================] - 0s 2ms/step - loss: 0.0583 - accuracy: 0.9797 - val_loss: 0.0752 - val_accuracy: 0.9627\n",
      "Epoch 50/100\n",
      "20/20 [==============================] - 0s 2ms/step - loss: 0.0595 - accuracy: 0.9812 - val_loss: 0.0787 - val_accuracy: 0.9565\n",
      "Epoch 51/100\n",
      "20/20 [==============================] - 0s 2ms/step - loss: 0.0579 - accuracy: 0.9766 - val_loss: 0.0796 - val_accuracy: 0.9565\n",
      "Epoch 52/100\n",
      "20/20 [==============================] - 0s 2ms/step - loss: 0.0588 - accuracy: 0.9734 - val_loss: 0.0741 - val_accuracy: 0.9689\n",
      "Epoch 53/100\n",
      "20/20 [==============================] - 0s 2ms/step - loss: 0.0595 - accuracy: 0.9734 - val_loss: 0.0818 - val_accuracy: 0.9565\n",
      "Epoch 54/100\n",
      "20/20 [==============================] - 0s 2ms/step - loss: 0.0584 - accuracy: 0.9797 - val_loss: 0.0789 - val_accuracy: 0.9565\n",
      "Epoch 55/100\n",
      "20/20 [==============================] - 0s 2ms/step - loss: 0.0569 - accuracy: 0.9750 - val_loss: 0.0752 - val_accuracy: 0.9689\n",
      "Epoch 56/100\n",
      "20/20 [==============================] - 0s 2ms/step - loss: 0.0582 - accuracy: 0.9797 - val_loss: 0.0979 - val_accuracy: 0.9503\n",
      "Epoch 57/100\n",
      "20/20 [==============================] - 0s 2ms/step - loss: 0.0599 - accuracy: 0.9734 - val_loss: 0.0756 - val_accuracy: 0.9627\n",
      "Epoch 58/100\n",
      "20/20 [==============================] - 0s 2ms/step - loss: 0.0566 - accuracy: 0.9797 - val_loss: 0.0867 - val_accuracy: 0.9565\n",
      "Epoch 59/100\n",
      "20/20 [==============================] - 0s 2ms/step - loss: 0.0571 - accuracy: 0.9812 - val_loss: 0.0756 - val_accuracy: 0.9627\n",
      "Epoch 60/100\n",
      "20/20 [==============================] - 0s 2ms/step - loss: 0.0588 - accuracy: 0.9734 - val_loss: 0.0827 - val_accuracy: 0.9565\n",
      "Epoch 61/100\n",
      "20/20 [==============================] - 0s 2ms/step - loss: 0.0568 - accuracy: 0.9844 - val_loss: 0.0757 - val_accuracy: 0.9627\n",
      "Epoch 62/100\n",
      "20/20 [==============================] - 0s 2ms/step - loss: 0.0564 - accuracy: 0.9781 - val_loss: 0.0835 - val_accuracy: 0.9565\n",
      "Epoch 63/100\n",
      "20/20 [==============================] - 0s 1ms/step - loss: 0.0584 - accuracy: 0.9750 - val_loss: 0.0744 - val_accuracy: 0.9689\n",
      "Epoch 64/100\n",
      "20/20 [==============================] - 0s 2ms/step - loss: 0.0577 - accuracy: 0.9766 - val_loss: 0.0841 - val_accuracy: 0.9565\n",
      "Epoch 65/100\n",
      "20/20 [==============================] - 0s 2ms/step - loss: 0.0569 - accuracy: 0.9734 - val_loss: 0.0806 - val_accuracy: 0.9565\n",
      "Epoch 66/100\n",
      "20/20 [==============================] - 0s 2ms/step - loss: 0.0556 - accuracy: 0.9797 - val_loss: 0.0795 - val_accuracy: 0.9565\n",
      "Epoch 67/100\n",
      "20/20 [==============================] - 0s 2ms/step - loss: 0.0546 - accuracy: 0.9797 - val_loss: 0.0794 - val_accuracy: 0.9565\n",
      "Epoch 68/100\n",
      "20/20 [==============================] - 0s 2ms/step - loss: 0.0551 - accuracy: 0.9828 - val_loss: 0.0765 - val_accuracy: 0.9565\n",
      "Epoch 69/100\n",
      "20/20 [==============================] - 0s 2ms/step - loss: 0.0571 - accuracy: 0.9766 - val_loss: 0.0776 - val_accuracy: 0.9565\n",
      "Epoch 70/100\n",
      "20/20 [==============================] - 0s 2ms/step - loss: 0.0555 - accuracy: 0.9781 - val_loss: 0.0790 - val_accuracy: 0.9565\n",
      "Epoch 71/100\n",
      "20/20 [==============================] - 0s 2ms/step - loss: 0.0543 - accuracy: 0.9781 - val_loss: 0.0782 - val_accuracy: 0.9565\n",
      "Epoch 72/100\n",
      "20/20 [==============================] - 0s 2ms/step - loss: 0.0550 - accuracy: 0.9828 - val_loss: 0.0842 - val_accuracy: 0.9565\n",
      "Epoch 73/100\n",
      "20/20 [==============================] - 0s 2ms/step - loss: 0.0548 - accuracy: 0.9781 - val_loss: 0.0773 - val_accuracy: 0.9627\n",
      "Epoch 74/100\n",
      "20/20 [==============================] - 0s 2ms/step - loss: 0.0542 - accuracy: 0.9828 - val_loss: 0.0905 - val_accuracy: 0.9565\n",
      "Epoch 75/100\n",
      "20/20 [==============================] - 0s 2ms/step - loss: 0.0597 - accuracy: 0.9703 - val_loss: 0.0755 - val_accuracy: 0.9689\n",
      "Epoch 76/100\n",
      "20/20 [==============================] - 0s 2ms/step - loss: 0.0529 - accuracy: 0.9812 - val_loss: 0.1036 - val_accuracy: 0.9565\n",
      "Epoch 77/100\n",
      "20/20 [==============================] - 0s 2ms/step - loss: 0.0560 - accuracy: 0.9766 - val_loss: 0.0750 - val_accuracy: 0.9689\n",
      "Epoch 78/100\n",
      "20/20 [==============================] - 0s 2ms/step - loss: 0.0536 - accuracy: 0.9828 - val_loss: 0.0887 - val_accuracy: 0.9565\n",
      "Epoch 79/100\n",
      "20/20 [==============================] - 0s 2ms/step - loss: 0.0568 - accuracy: 0.9781 - val_loss: 0.0787 - val_accuracy: 0.9565\n",
      "Epoch 80/100\n",
      "20/20 [==============================] - 0s 2ms/step - loss: 0.0551 - accuracy: 0.9781 - val_loss: 0.0760 - val_accuracy: 0.9689\n",
      "Epoch 81/100\n",
      "20/20 [==============================] - 0s 2ms/step - loss: 0.0561 - accuracy: 0.9781 - val_loss: 0.0761 - val_accuracy: 0.9689\n",
      "Epoch 82/100\n",
      "20/20 [==============================] - 0s 2ms/step - loss: 0.0527 - accuracy: 0.9812 - val_loss: 0.0909 - val_accuracy: 0.9565\n",
      "Epoch 83/100\n",
      "20/20 [==============================] - 0s 2ms/step - loss: 0.0539 - accuracy: 0.9781 - val_loss: 0.0798 - val_accuracy: 0.9565\n",
      "Epoch 84/100\n",
      "20/20 [==============================] - 0s 2ms/step - loss: 0.0538 - accuracy: 0.9797 - val_loss: 0.0878 - val_accuracy: 0.9565\n",
      "Epoch 85/100\n",
      "20/20 [==============================] - 0s 2ms/step - loss: 0.0533 - accuracy: 0.9844 - val_loss: 0.0788 - val_accuracy: 0.9565\n",
      "Epoch 86/100\n",
      "20/20 [==============================] - 0s 2ms/step - loss: 0.0522 - accuracy: 0.9812 - val_loss: 0.0817 - val_accuracy: 0.9565\n",
      "Epoch 87/100\n",
      "20/20 [==============================] - 0s 2ms/step - loss: 0.0522 - accuracy: 0.9812 - val_loss: 0.0797 - val_accuracy: 0.9565\n",
      "Epoch 88/100\n",
      "20/20 [==============================] - 0s 2ms/step - loss: 0.0528 - accuracy: 0.9812 - val_loss: 0.0846 - val_accuracy: 0.9565\n",
      "Epoch 89/100\n",
      "20/20 [==============================] - 0s 2ms/step - loss: 0.0521 - accuracy: 0.9844 - val_loss: 0.0838 - val_accuracy: 0.9565\n",
      "Epoch 90/100\n",
      "20/20 [==============================] - 0s 2ms/step - loss: 0.0519 - accuracy: 0.9766 - val_loss: 0.0806 - val_accuracy: 0.9689\n",
      "Epoch 91/100\n",
      "20/20 [==============================] - 0s 2ms/step - loss: 0.0532 - accuracy: 0.9797 - val_loss: 0.0894 - val_accuracy: 0.9565\n",
      "Epoch 92/100\n",
      "20/20 [==============================] - 0s 2ms/step - loss: 0.0552 - accuracy: 0.9766 - val_loss: 0.0918 - val_accuracy: 0.9565\n",
      "Epoch 93/100\n",
      "20/20 [==============================] - 0s 2ms/step - loss: 0.0538 - accuracy: 0.9828 - val_loss: 0.0857 - val_accuracy: 0.9565\n",
      "Epoch 94/100\n",
      "20/20 [==============================] - 0s 2ms/step - loss: 0.0506 - accuracy: 0.9812 - val_loss: 0.0792 - val_accuracy: 0.9627\n",
      "Epoch 95/100\n",
      "20/20 [==============================] - 0s 2ms/step - loss: 0.0535 - accuracy: 0.9828 - val_loss: 0.0824 - val_accuracy: 0.9565\n",
      "Epoch 96/100\n",
      "20/20 [==============================] - 0s 2ms/step - loss: 0.0516 - accuracy: 0.9828 - val_loss: 0.0847 - val_accuracy: 0.9565\n",
      "Epoch 97/100\n",
      "20/20 [==============================] - 0s 2ms/step - loss: 0.0501 - accuracy: 0.9797 - val_loss: 0.0778 - val_accuracy: 0.9689\n",
      "Epoch 98/100\n",
      "20/20 [==============================] - 0s 2ms/step - loss: 0.0573 - accuracy: 0.9781 - val_loss: 0.0985 - val_accuracy: 0.9565\n",
      "Epoch 99/100\n",
      "20/20 [==============================] - 0s 2ms/step - loss: 0.0529 - accuracy: 0.9828 - val_loss: 0.0846 - val_accuracy: 0.9565\n",
      "Epoch 100/100\n",
      "20/20 [==============================] - 0s 2ms/step - loss: 0.0507 - accuracy: 0.9859 - val_loss: 0.0851 - val_accuracy: 0.9565\n",
      "11/11 [==============================] - 0s 701us/step - loss: 0.1189 - accuracy: 0.9593\n",
      "Test Accuracy: 0.9593023061752319\n",
      "11/11 [==============================] - 0s 500us/step\n",
      "Accuracy: 0.9593023255813954\n",
      "Precision: 0.6956521739130435\n",
      "Recall: 0.6956521739130435\n",
      "F1: 0.6956521739130435\n",
      "AUC: 0.9749424353243938\n"
     ]
    }
   ],
   "execution_count": 16
  },
  {
   "cell_type": "markdown",
   "source": [
    "CHI2"
   ],
   "metadata": {
    "collapsed": false
   },
   "id": "17667f3858c63c3b"
  },
  {
   "cell_type": "code",
   "source": [
    "\n",
    "RN = Sequential()\n",
    "\n",
    "input_dim = X_train[ACX2Features].shape[1]\n",
    "RN.add(Dense(units=64, activation='relu', input_dim=input_dim))\n",
    "RN.add(Dense(units=32, activation='relu'))\n",
    "RN.add(Dense(units=1, activation='sigmoid'))\n",
    "RN.compile(optimizer=Adam(learning_rate=0.001),\n",
    "           loss=BinaryCrossentropy(),\n",
    "           metrics=['accuracy'])\n",
    "\n",
    "history = RN.fit(X_train[ACX2Features], y_train, epochs=100, batch_size=32, validation_split=0.2)\n",
    "\n",
    "loss, accuracy = RN.evaluate(X_test[ACX2Features], y_test)\n",
    "\n",
    "print(f'Test Accuracy: {accuracy}')\n",
    "y_pred_prob = RN.predict(X_test[ACX2Features])\n",
    "y_pred = (y_pred_prob > 0.5).astype(int)\n",
    "\n",
    "print(\"Accuracy:\", accuracy_score(y_test, y_pred))\n",
    "print(\"Precision:\", precision_score(y_test, y_pred))\n",
    "print(\"Recall:\", recall_score(y_test, y_pred))\n",
    "print(\"F1:\", f1_score(y_test, y_pred))\n",
    "print(\"AUC:\", roc_auc_score(y_test, y_pred_prob))"
   ],
   "metadata": {
    "collapsed": false,
    "ExecuteTime": {
     "end_time": "2024-11-02T06:11:42.869238Z",
     "start_time": "2024-11-02T06:11:39.086012Z"
    }
   },
   "id": "18871e152c695a6b",
   "outputs": [
    {
     "name": "stdout",
     "output_type": "stream",
     "text": [
      "Epoch 1/100\n",
      "20/20 [==============================] - 0s 6ms/step - loss: 0.5261 - accuracy: 0.8734 - val_loss: 0.3720 - val_accuracy: 0.9193\n",
      "Epoch 2/100\n",
      "20/20 [==============================] - 0s 2ms/step - loss: 0.3423 - accuracy: 0.8984 - val_loss: 0.2754 - val_accuracy: 0.9193\n",
      "Epoch 3/100\n",
      "20/20 [==============================] - 0s 2ms/step - loss: 0.2779 - accuracy: 0.8984 - val_loss: 0.2309 - val_accuracy: 0.9193\n",
      "Epoch 4/100\n",
      "20/20 [==============================] - 0s 2ms/step - loss: 0.2201 - accuracy: 0.9031 - val_loss: 0.1862 - val_accuracy: 0.9193\n",
      "Epoch 5/100\n",
      "20/20 [==============================] - 0s 2ms/step - loss: 0.1706 - accuracy: 0.9328 - val_loss: 0.1575 - val_accuracy: 0.9317\n",
      "Epoch 6/100\n",
      "20/20 [==============================] - 0s 2ms/step - loss: 0.1352 - accuracy: 0.9453 - val_loss: 0.1261 - val_accuracy: 0.9379\n",
      "Epoch 7/100\n",
      "20/20 [==============================] - 0s 2ms/step - loss: 0.1161 - accuracy: 0.9563 - val_loss: 0.1135 - val_accuracy: 0.9441\n",
      "Epoch 8/100\n",
      "20/20 [==============================] - 0s 2ms/step - loss: 0.1051 - accuracy: 0.9625 - val_loss: 0.1100 - val_accuracy: 0.9379\n",
      "Epoch 9/100\n",
      "20/20 [==============================] - 0s 2ms/step - loss: 0.0957 - accuracy: 0.9625 - val_loss: 0.0995 - val_accuracy: 0.9565\n",
      "Epoch 10/100\n",
      "20/20 [==============================] - 0s 1ms/step - loss: 0.0921 - accuracy: 0.9672 - val_loss: 0.0947 - val_accuracy: 0.9565\n",
      "Epoch 11/100\n",
      "20/20 [==============================] - 0s 2ms/step - loss: 0.0909 - accuracy: 0.9625 - val_loss: 0.0942 - val_accuracy: 0.9565\n",
      "Epoch 12/100\n",
      "20/20 [==============================] - 0s 2ms/step - loss: 0.0883 - accuracy: 0.9656 - val_loss: 0.0965 - val_accuracy: 0.9565\n",
      "Epoch 13/100\n",
      "20/20 [==============================] - 0s 2ms/step - loss: 0.0875 - accuracy: 0.9656 - val_loss: 0.0907 - val_accuracy: 0.9565\n",
      "Epoch 14/100\n",
      "20/20 [==============================] - 0s 2ms/step - loss: 0.0848 - accuracy: 0.9656 - val_loss: 0.0939 - val_accuracy: 0.9565\n",
      "Epoch 15/100\n",
      "20/20 [==============================] - 0s 2ms/step - loss: 0.0824 - accuracy: 0.9656 - val_loss: 0.0889 - val_accuracy: 0.9565\n",
      "Epoch 16/100\n",
      "20/20 [==============================] - 0s 2ms/step - loss: 0.0832 - accuracy: 0.9672 - val_loss: 0.0967 - val_accuracy: 0.9565\n",
      "Epoch 17/100\n",
      "20/20 [==============================] - 0s 2ms/step - loss: 0.0824 - accuracy: 0.9641 - val_loss: 0.0882 - val_accuracy: 0.9565\n",
      "Epoch 18/100\n",
      "20/20 [==============================] - 0s 2ms/step - loss: 0.0806 - accuracy: 0.9672 - val_loss: 0.0935 - val_accuracy: 0.9565\n",
      "Epoch 19/100\n",
      "20/20 [==============================] - 0s 2ms/step - loss: 0.0805 - accuracy: 0.9672 - val_loss: 0.0933 - val_accuracy: 0.9565\n",
      "Epoch 20/100\n",
      "20/20 [==============================] - 0s 2ms/step - loss: 0.0789 - accuracy: 0.9641 - val_loss: 0.0887 - val_accuracy: 0.9565\n",
      "Epoch 21/100\n",
      "20/20 [==============================] - 0s 2ms/step - loss: 0.0790 - accuracy: 0.9688 - val_loss: 0.0982 - val_accuracy: 0.9565\n",
      "Epoch 22/100\n",
      "20/20 [==============================] - 0s 2ms/step - loss: 0.0806 - accuracy: 0.9672 - val_loss: 0.0879 - val_accuracy: 0.9503\n",
      "Epoch 23/100\n",
      "20/20 [==============================] - 0s 2ms/step - loss: 0.0770 - accuracy: 0.9688 - val_loss: 0.0923 - val_accuracy: 0.9565\n",
      "Epoch 24/100\n",
      "20/20 [==============================] - 0s 2ms/step - loss: 0.0771 - accuracy: 0.9641 - val_loss: 0.0918 - val_accuracy: 0.9565\n",
      "Epoch 25/100\n",
      "20/20 [==============================] - 0s 2ms/step - loss: 0.0768 - accuracy: 0.9703 - val_loss: 0.0908 - val_accuracy: 0.9565\n",
      "Epoch 26/100\n",
      "20/20 [==============================] - 0s 2ms/step - loss: 0.0779 - accuracy: 0.9672 - val_loss: 0.0918 - val_accuracy: 0.9565\n",
      "Epoch 27/100\n",
      "20/20 [==============================] - 0s 2ms/step - loss: 0.0764 - accuracy: 0.9688 - val_loss: 0.0926 - val_accuracy: 0.9565\n",
      "Epoch 28/100\n",
      "20/20 [==============================] - 0s 2ms/step - loss: 0.0776 - accuracy: 0.9672 - val_loss: 0.0892 - val_accuracy: 0.9565\n",
      "Epoch 29/100\n",
      "20/20 [==============================] - 0s 2ms/step - loss: 0.0759 - accuracy: 0.9656 - val_loss: 0.0912 - val_accuracy: 0.9565\n",
      "Epoch 30/100\n",
      "20/20 [==============================] - 0s 2ms/step - loss: 0.0751 - accuracy: 0.9719 - val_loss: 0.0929 - val_accuracy: 0.9565\n",
      "Epoch 31/100\n",
      "20/20 [==============================] - 0s 2ms/step - loss: 0.0750 - accuracy: 0.9656 - val_loss: 0.0885 - val_accuracy: 0.9565\n",
      "Epoch 32/100\n",
      "20/20 [==============================] - 0s 2ms/step - loss: 0.0748 - accuracy: 0.9703 - val_loss: 0.0954 - val_accuracy: 0.9565\n",
      "Epoch 33/100\n",
      "20/20 [==============================] - 0s 2ms/step - loss: 0.0749 - accuracy: 0.9656 - val_loss: 0.0891 - val_accuracy: 0.9503\n",
      "Epoch 34/100\n",
      "20/20 [==============================] - 0s 2ms/step - loss: 0.0743 - accuracy: 0.9703 - val_loss: 0.0939 - val_accuracy: 0.9565\n",
      "Epoch 35/100\n",
      "20/20 [==============================] - 0s 2ms/step - loss: 0.0757 - accuracy: 0.9688 - val_loss: 0.0961 - val_accuracy: 0.9565\n",
      "Epoch 36/100\n",
      "20/20 [==============================] - 0s 2ms/step - loss: 0.0747 - accuracy: 0.9656 - val_loss: 0.0876 - val_accuracy: 0.9565\n",
      "Epoch 37/100\n",
      "20/20 [==============================] - 0s 2ms/step - loss: 0.0734 - accuracy: 0.9719 - val_loss: 0.0982 - val_accuracy: 0.9565\n",
      "Epoch 38/100\n",
      "20/20 [==============================] - 0s 2ms/step - loss: 0.0758 - accuracy: 0.9719 - val_loss: 0.0910 - val_accuracy: 0.9503\n",
      "Epoch 39/100\n",
      "20/20 [==============================] - 0s 2ms/step - loss: 0.0729 - accuracy: 0.9656 - val_loss: 0.0943 - val_accuracy: 0.9565\n",
      "Epoch 40/100\n",
      "20/20 [==============================] - 0s 2ms/step - loss: 0.0720 - accuracy: 0.9719 - val_loss: 0.0874 - val_accuracy: 0.9565\n",
      "Epoch 41/100\n",
      "20/20 [==============================] - 0s 2ms/step - loss: 0.0718 - accuracy: 0.9703 - val_loss: 0.1027 - val_accuracy: 0.9565\n",
      "Epoch 42/100\n",
      "20/20 [==============================] - 0s 2ms/step - loss: 0.0754 - accuracy: 0.9703 - val_loss: 0.0894 - val_accuracy: 0.9565\n",
      "Epoch 43/100\n",
      "20/20 [==============================] - 0s 2ms/step - loss: 0.0738 - accuracy: 0.9703 - val_loss: 0.0882 - val_accuracy: 0.9565\n",
      "Epoch 44/100\n",
      "20/20 [==============================] - 0s 2ms/step - loss: 0.0722 - accuracy: 0.9750 - val_loss: 0.0885 - val_accuracy: 0.9565\n",
      "Epoch 45/100\n",
      "20/20 [==============================] - 0s 1ms/step - loss: 0.0705 - accuracy: 0.9734 - val_loss: 0.0986 - val_accuracy: 0.9565\n",
      "Epoch 46/100\n",
      "20/20 [==============================] - 0s 2ms/step - loss: 0.0707 - accuracy: 0.9656 - val_loss: 0.0904 - val_accuracy: 0.9565\n",
      "Epoch 47/100\n",
      "20/20 [==============================] - 0s 2ms/step - loss: 0.0705 - accuracy: 0.9734 - val_loss: 0.0948 - val_accuracy: 0.9565\n",
      "Epoch 48/100\n",
      "20/20 [==============================] - 0s 2ms/step - loss: 0.0708 - accuracy: 0.9719 - val_loss: 0.0922 - val_accuracy: 0.9627\n",
      "Epoch 49/100\n",
      "20/20 [==============================] - 0s 2ms/step - loss: 0.0703 - accuracy: 0.9688 - val_loss: 0.0932 - val_accuracy: 0.9503\n",
      "Epoch 50/100\n",
      "20/20 [==============================] - 0s 2ms/step - loss: 0.0686 - accuracy: 0.9719 - val_loss: 0.0915 - val_accuracy: 0.9565\n",
      "Epoch 51/100\n",
      "20/20 [==============================] - 0s 2ms/step - loss: 0.0692 - accuracy: 0.9734 - val_loss: 0.0969 - val_accuracy: 0.9565\n",
      "Epoch 52/100\n",
      "20/20 [==============================] - 0s 2ms/step - loss: 0.0719 - accuracy: 0.9734 - val_loss: 0.0869 - val_accuracy: 0.9565\n",
      "Epoch 53/100\n",
      "20/20 [==============================] - 0s 2ms/step - loss: 0.0743 - accuracy: 0.9688 - val_loss: 0.0924 - val_accuracy: 0.9565\n",
      "Epoch 54/100\n",
      "20/20 [==============================] - 0s 2ms/step - loss: 0.0687 - accuracy: 0.9781 - val_loss: 0.0965 - val_accuracy: 0.9565\n",
      "Epoch 55/100\n",
      "20/20 [==============================] - 0s 2ms/step - loss: 0.0682 - accuracy: 0.9719 - val_loss: 0.0969 - val_accuracy: 0.9565\n",
      "Epoch 56/100\n",
      "20/20 [==============================] - 0s 2ms/step - loss: 0.0699 - accuracy: 0.9719 - val_loss: 0.1027 - val_accuracy: 0.9565\n",
      "Epoch 57/100\n",
      "20/20 [==============================] - 0s 2ms/step - loss: 0.0685 - accuracy: 0.9734 - val_loss: 0.0959 - val_accuracy: 0.9565\n",
      "Epoch 58/100\n",
      "20/20 [==============================] - 0s 2ms/step - loss: 0.0661 - accuracy: 0.9750 - val_loss: 0.0928 - val_accuracy: 0.9565\n",
      "Epoch 59/100\n",
      "20/20 [==============================] - 0s 2ms/step - loss: 0.0665 - accuracy: 0.9734 - val_loss: 0.0933 - val_accuracy: 0.9565\n",
      "Epoch 60/100\n",
      "20/20 [==============================] - 0s 2ms/step - loss: 0.0691 - accuracy: 0.9734 - val_loss: 0.0923 - val_accuracy: 0.9565\n",
      "Epoch 61/100\n",
      "20/20 [==============================] - 0s 2ms/step - loss: 0.0716 - accuracy: 0.9719 - val_loss: 0.1055 - val_accuracy: 0.9565\n",
      "Epoch 62/100\n",
      "20/20 [==============================] - 0s 2ms/step - loss: 0.0696 - accuracy: 0.9734 - val_loss: 0.0922 - val_accuracy: 0.9565\n",
      "Epoch 63/100\n",
      "20/20 [==============================] - 0s 2ms/step - loss: 0.0721 - accuracy: 0.9703 - val_loss: 0.0918 - val_accuracy: 0.9565\n",
      "Epoch 64/100\n",
      "20/20 [==============================] - 0s 2ms/step - loss: 0.0730 - accuracy: 0.9734 - val_loss: 0.1081 - val_accuracy: 0.9503\n",
      "Epoch 65/100\n",
      "20/20 [==============================] - 0s 2ms/step - loss: 0.0673 - accuracy: 0.9719 - val_loss: 0.0937 - val_accuracy: 0.9627\n",
      "Epoch 66/100\n",
      "20/20 [==============================] - 0s 2ms/step - loss: 0.0657 - accuracy: 0.9750 - val_loss: 0.0947 - val_accuracy: 0.9627\n",
      "Epoch 67/100\n",
      "20/20 [==============================] - 0s 2ms/step - loss: 0.0647 - accuracy: 0.9750 - val_loss: 0.0903 - val_accuracy: 0.9565\n",
      "Epoch 68/100\n",
      "20/20 [==============================] - 0s 2ms/step - loss: 0.0655 - accuracy: 0.9719 - val_loss: 0.0920 - val_accuracy: 0.9565\n",
      "Epoch 69/100\n",
      "20/20 [==============================] - 0s 2ms/step - loss: 0.0637 - accuracy: 0.9750 - val_loss: 0.0986 - val_accuracy: 0.9627\n",
      "Epoch 70/100\n",
      "20/20 [==============================] - 0s 2ms/step - loss: 0.0627 - accuracy: 0.9734 - val_loss: 0.0981 - val_accuracy: 0.9627\n",
      "Epoch 71/100\n",
      "20/20 [==============================] - 0s 2ms/step - loss: 0.0637 - accuracy: 0.9703 - val_loss: 0.0919 - val_accuracy: 0.9565\n",
      "Epoch 72/100\n",
      "20/20 [==============================] - 0s 2ms/step - loss: 0.0640 - accuracy: 0.9734 - val_loss: 0.0983 - val_accuracy: 0.9565\n",
      "Epoch 73/100\n",
      "20/20 [==============================] - 0s 2ms/step - loss: 0.0632 - accuracy: 0.9766 - val_loss: 0.0947 - val_accuracy: 0.9627\n",
      "Epoch 74/100\n",
      "20/20 [==============================] - 0s 2ms/step - loss: 0.0618 - accuracy: 0.9734 - val_loss: 0.0939 - val_accuracy: 0.9565\n",
      "Epoch 75/100\n",
      "20/20 [==============================] - 0s 2ms/step - loss: 0.0625 - accuracy: 0.9812 - val_loss: 0.0976 - val_accuracy: 0.9565\n",
      "Epoch 76/100\n",
      "20/20 [==============================] - 0s 2ms/step - loss: 0.0637 - accuracy: 0.9734 - val_loss: 0.0934 - val_accuracy: 0.9565\n",
      "Epoch 77/100\n",
      "20/20 [==============================] - 0s 2ms/step - loss: 0.0626 - accuracy: 0.9719 - val_loss: 0.0918 - val_accuracy: 0.9565\n",
      "Epoch 78/100\n",
      "20/20 [==============================] - 0s 2ms/step - loss: 0.0620 - accuracy: 0.9750 - val_loss: 0.0993 - val_accuracy: 0.9627\n",
      "Epoch 79/100\n",
      "20/20 [==============================] - 0s 2ms/step - loss: 0.0612 - accuracy: 0.9781 - val_loss: 0.1032 - val_accuracy: 0.9565\n",
      "Epoch 80/100\n",
      "20/20 [==============================] - 0s 2ms/step - loss: 0.0618 - accuracy: 0.9734 - val_loss: 0.1040 - val_accuracy: 0.9565\n",
      "Epoch 81/100\n",
      "20/20 [==============================] - 0s 2ms/step - loss: 0.0599 - accuracy: 0.9766 - val_loss: 0.0999 - val_accuracy: 0.9627\n",
      "Epoch 82/100\n",
      "20/20 [==============================] - 0s 2ms/step - loss: 0.0591 - accuracy: 0.9734 - val_loss: 0.0980 - val_accuracy: 0.9565\n",
      "Epoch 83/100\n",
      "20/20 [==============================] - 0s 2ms/step - loss: 0.0610 - accuracy: 0.9812 - val_loss: 0.1173 - val_accuracy: 0.9503\n",
      "Epoch 84/100\n",
      "20/20 [==============================] - 0s 2ms/step - loss: 0.0599 - accuracy: 0.9781 - val_loss: 0.0941 - val_accuracy: 0.9565\n",
      "Epoch 85/100\n",
      "20/20 [==============================] - 0s 2ms/step - loss: 0.0583 - accuracy: 0.9766 - val_loss: 0.1031 - val_accuracy: 0.9565\n",
      "Epoch 86/100\n",
      "20/20 [==============================] - 0s 2ms/step - loss: 0.0596 - accuracy: 0.9766 - val_loss: 0.1089 - val_accuracy: 0.9503\n",
      "Epoch 87/100\n",
      "20/20 [==============================] - 0s 2ms/step - loss: 0.0587 - accuracy: 0.9750 - val_loss: 0.0975 - val_accuracy: 0.9565\n",
      "Epoch 88/100\n",
      "20/20 [==============================] - 0s 2ms/step - loss: 0.0594 - accuracy: 0.9750 - val_loss: 0.1005 - val_accuracy: 0.9565\n",
      "Epoch 89/100\n",
      "20/20 [==============================] - 0s 2ms/step - loss: 0.0580 - accuracy: 0.9781 - val_loss: 0.0968 - val_accuracy: 0.9565\n",
      "Epoch 90/100\n",
      "20/20 [==============================] - 0s 2ms/step - loss: 0.0582 - accuracy: 0.9797 - val_loss: 0.1121 - val_accuracy: 0.9503\n",
      "Epoch 91/100\n",
      "20/20 [==============================] - 0s 2ms/step - loss: 0.0589 - accuracy: 0.9781 - val_loss: 0.1016 - val_accuracy: 0.9565\n",
      "Epoch 92/100\n",
      "20/20 [==============================] - 0s 2ms/step - loss: 0.0622 - accuracy: 0.9734 - val_loss: 0.0909 - val_accuracy: 0.9565\n",
      "Epoch 93/100\n",
      "20/20 [==============================] - 0s 2ms/step - loss: 0.0581 - accuracy: 0.9797 - val_loss: 0.1091 - val_accuracy: 0.9565\n",
      "Epoch 94/100\n",
      "20/20 [==============================] - 0s 2ms/step - loss: 0.0557 - accuracy: 0.9781 - val_loss: 0.1039 - val_accuracy: 0.9565\n",
      "Epoch 95/100\n",
      "20/20 [==============================] - 0s 1ms/step - loss: 0.0546 - accuracy: 0.9797 - val_loss: 0.1031 - val_accuracy: 0.9565\n",
      "Epoch 96/100\n",
      "20/20 [==============================] - 0s 2ms/step - loss: 0.0584 - accuracy: 0.9766 - val_loss: 0.1002 - val_accuracy: 0.9565\n",
      "Epoch 97/100\n",
      "20/20 [==============================] - 0s 2ms/step - loss: 0.0588 - accuracy: 0.9812 - val_loss: 0.1085 - val_accuracy: 0.9503\n",
      "Epoch 98/100\n",
      "20/20 [==============================] - 0s 2ms/step - loss: 0.0558 - accuracy: 0.9797 - val_loss: 0.0980 - val_accuracy: 0.9565\n",
      "Epoch 99/100\n",
      "20/20 [==============================] - 0s 2ms/step - loss: 0.0549 - accuracy: 0.9812 - val_loss: 0.1077 - val_accuracy: 0.9503\n",
      "Epoch 100/100\n",
      "20/20 [==============================] - 0s 2ms/step - loss: 0.0552 - accuracy: 0.9828 - val_loss: 0.1157 - val_accuracy: 0.9441\n",
      "11/11 [==============================] - 0s 600us/step - loss: 0.0840 - accuracy: 0.9593\n",
      "Test Accuracy: 0.9593023061752319\n",
      "11/11 [==============================] - 0s 600us/step\n",
      "Accuracy: 0.9593023255813954\n",
      "Precision: 0.7647058823529411\n",
      "Recall: 0.5652173913043478\n",
      "F1: 0.65\n",
      "AUC: 0.9875389408099688\n"
     ]
    }
   ],
   "execution_count": 17
  },
  {
   "cell_type": "markdown",
   "source": [
    "RELIEFF"
   ],
   "metadata": {
    "collapsed": false
   },
   "id": "1248f7a794251bcb"
  },
  {
   "cell_type": "code",
   "source": [
    "RN = Sequential()\n",
    "\n",
    "input_dim = X_train[ACRFeatures].shape[1]\n",
    "RN.add(Dense(units=64, activation='relu', input_dim=input_dim))\n",
    "RN.add(Dense(units=32, activation='relu'))\n",
    "RN.add(Dense(units=1, activation='sigmoid'))\n",
    "RN.compile(optimizer=Adam(learning_rate=0.001),\n",
    "           loss=BinaryCrossentropy(),\n",
    "           metrics=['accuracy'])\n",
    "\n",
    "history = RN.fit(X_train[ACRFeatures], y_train, epochs=100, batch_size=32, validation_split=0.2)\n",
    "\n",
    "loss, accuracy = RN.evaluate(X_test[ACRFeatures], y_test)\n",
    "\n",
    "print(f'Test Accuracy: {accuracy}')\n",
    "y_pred_prob = RN.predict(X_test[ACRFeatures])\n",
    "y_pred = (y_pred_prob > 0.5).astype(int)\n",
    "\n",
    "print(\"Accuracy:\", accuracy_score(y_test, y_pred))\n",
    "print(\"Precision:\", precision_score(y_test, y_pred))\n",
    "print(\"Recall:\", recall_score(y_test, y_pred))\n",
    "print(\"F1:\", f1_score(y_test, y_pred))\n",
    "print(\"AUC:\", roc_auc_score(y_test, y_pred_prob))"
   ],
   "metadata": {
    "collapsed": false,
    "ExecuteTime": {
     "end_time": "2024-11-02T06:11:46.886647Z",
     "start_time": "2024-11-02T06:11:42.901115Z"
    }
   },
   "id": "f9e73b5be77d7950",
   "outputs": [
    {
     "name": "stdout",
     "output_type": "stream",
     "text": [
      "Epoch 1/100\n",
      "20/20 [==============================] - 0s 6ms/step - loss: 0.4064 - accuracy: 0.8984 - val_loss: 0.3003 - val_accuracy: 0.9193\n",
      "Epoch 2/100\n",
      "20/20 [==============================] - 0s 2ms/step - loss: 0.2958 - accuracy: 0.8984 - val_loss: 0.2641 - val_accuracy: 0.9193\n",
      "Epoch 3/100\n",
      "20/20 [==============================] - 0s 2ms/step - loss: 0.2677 - accuracy: 0.8984 - val_loss: 0.2449 - val_accuracy: 0.9193\n",
      "Epoch 4/100\n",
      "20/20 [==============================] - 0s 2ms/step - loss: 0.2333 - accuracy: 0.8984 - val_loss: 0.2228 - val_accuracy: 0.9193\n",
      "Epoch 5/100\n",
      "20/20 [==============================] - 0s 2ms/step - loss: 0.1984 - accuracy: 0.9203 - val_loss: 0.1984 - val_accuracy: 0.9255\n",
      "Epoch 6/100\n",
      "20/20 [==============================] - 0s 2ms/step - loss: 0.1697 - accuracy: 0.9328 - val_loss: 0.1827 - val_accuracy: 0.9255\n",
      "Epoch 7/100\n",
      "20/20 [==============================] - 0s 2ms/step - loss: 0.1463 - accuracy: 0.9438 - val_loss: 0.1600 - val_accuracy: 0.9317\n",
      "Epoch 8/100\n",
      "20/20 [==============================] - 0s 2ms/step - loss: 0.1315 - accuracy: 0.9516 - val_loss: 0.1475 - val_accuracy: 0.9317\n",
      "Epoch 9/100\n",
      "20/20 [==============================] - 0s 2ms/step - loss: 0.1206 - accuracy: 0.9609 - val_loss: 0.1385 - val_accuracy: 0.9441\n",
      "Epoch 10/100\n",
      "20/20 [==============================] - 0s 2ms/step - loss: 0.1122 - accuracy: 0.9594 - val_loss: 0.1325 - val_accuracy: 0.9503\n",
      "Epoch 11/100\n",
      "20/20 [==============================] - 0s 2ms/step - loss: 0.1084 - accuracy: 0.9609 - val_loss: 0.1393 - val_accuracy: 0.9503\n",
      "Epoch 12/100\n",
      "20/20 [==============================] - 0s 2ms/step - loss: 0.1031 - accuracy: 0.9594 - val_loss: 0.1206 - val_accuracy: 0.9503\n",
      "Epoch 13/100\n",
      "20/20 [==============================] - 0s 2ms/step - loss: 0.1027 - accuracy: 0.9625 - val_loss: 0.1161 - val_accuracy: 0.9565\n",
      "Epoch 14/100\n",
      "20/20 [==============================] - 0s 2ms/step - loss: 0.0978 - accuracy: 0.9656 - val_loss: 0.1299 - val_accuracy: 0.9379\n",
      "Epoch 15/100\n",
      "20/20 [==============================] - 0s 2ms/step - loss: 0.1006 - accuracy: 0.9578 - val_loss: 0.1141 - val_accuracy: 0.9565\n",
      "Epoch 16/100\n",
      "20/20 [==============================] - 0s 2ms/step - loss: 0.0988 - accuracy: 0.9609 - val_loss: 0.1341 - val_accuracy: 0.9379\n",
      "Epoch 17/100\n",
      "20/20 [==============================] - 0s 2ms/step - loss: 0.0947 - accuracy: 0.9641 - val_loss: 0.1159 - val_accuracy: 0.9565\n",
      "Epoch 18/100\n",
      "20/20 [==============================] - 0s 2ms/step - loss: 0.0935 - accuracy: 0.9609 - val_loss: 0.1161 - val_accuracy: 0.9565\n",
      "Epoch 19/100\n",
      "20/20 [==============================] - 0s 2ms/step - loss: 0.0924 - accuracy: 0.9609 - val_loss: 0.1242 - val_accuracy: 0.9441\n",
      "Epoch 20/100\n",
      "20/20 [==============================] - 0s 2ms/step - loss: 0.0919 - accuracy: 0.9594 - val_loss: 0.1152 - val_accuracy: 0.9627\n",
      "Epoch 21/100\n",
      "20/20 [==============================] - 0s 2ms/step - loss: 0.0906 - accuracy: 0.9609 - val_loss: 0.1199 - val_accuracy: 0.9503\n",
      "Epoch 22/100\n",
      "20/20 [==============================] - 0s 2ms/step - loss: 0.0891 - accuracy: 0.9641 - val_loss: 0.1155 - val_accuracy: 0.9627\n",
      "Epoch 23/100\n",
      "20/20 [==============================] - 0s 1ms/step - loss: 0.0880 - accuracy: 0.9609 - val_loss: 0.1211 - val_accuracy: 0.9565\n",
      "Epoch 24/100\n",
      "20/20 [==============================] - 0s 2ms/step - loss: 0.0887 - accuracy: 0.9609 - val_loss: 0.1254 - val_accuracy: 0.9503\n",
      "Epoch 25/100\n",
      "20/20 [==============================] - 0s 2ms/step - loss: 0.0885 - accuracy: 0.9594 - val_loss: 0.1248 - val_accuracy: 0.9565\n",
      "Epoch 26/100\n",
      "20/20 [==============================] - 0s 2ms/step - loss: 0.0881 - accuracy: 0.9609 - val_loss: 0.1146 - val_accuracy: 0.9565\n",
      "Epoch 27/100\n",
      "20/20 [==============================] - 0s 2ms/step - loss: 0.0878 - accuracy: 0.9625 - val_loss: 0.1209 - val_accuracy: 0.9565\n",
      "Epoch 28/100\n",
      "20/20 [==============================] - 0s 2ms/step - loss: 0.0874 - accuracy: 0.9625 - val_loss: 0.1078 - val_accuracy: 0.9627\n",
      "Epoch 29/100\n",
      "20/20 [==============================] - 0s 2ms/step - loss: 0.0856 - accuracy: 0.9578 - val_loss: 0.1172 - val_accuracy: 0.9565\n",
      "Epoch 30/100\n",
      "20/20 [==============================] - 0s 2ms/step - loss: 0.0869 - accuracy: 0.9578 - val_loss: 0.1185 - val_accuracy: 0.9565\n",
      "Epoch 31/100\n",
      "20/20 [==============================] - 0s 2ms/step - loss: 0.0883 - accuracy: 0.9625 - val_loss: 0.1082 - val_accuracy: 0.9627\n",
      "Epoch 32/100\n",
      "20/20 [==============================] - 0s 2ms/step - loss: 0.0878 - accuracy: 0.9594 - val_loss: 0.1237 - val_accuracy: 0.9565\n",
      "Epoch 33/100\n",
      "20/20 [==============================] - 0s 2ms/step - loss: 0.0833 - accuracy: 0.9578 - val_loss: 0.1151 - val_accuracy: 0.9565\n",
      "Epoch 34/100\n",
      "20/20 [==============================] - 0s 2ms/step - loss: 0.0829 - accuracy: 0.9625 - val_loss: 0.1183 - val_accuracy: 0.9565\n",
      "Epoch 35/100\n",
      "20/20 [==============================] - 0s 2ms/step - loss: 0.0826 - accuracy: 0.9625 - val_loss: 0.1172 - val_accuracy: 0.9565\n",
      "Epoch 36/100\n",
      "20/20 [==============================] - 0s 2ms/step - loss: 0.0809 - accuracy: 0.9594 - val_loss: 0.1144 - val_accuracy: 0.9627\n",
      "Epoch 37/100\n",
      "20/20 [==============================] - 0s 2ms/step - loss: 0.0806 - accuracy: 0.9609 - val_loss: 0.1158 - val_accuracy: 0.9565\n",
      "Epoch 38/100\n",
      "20/20 [==============================] - 0s 2ms/step - loss: 0.0821 - accuracy: 0.9641 - val_loss: 0.1346 - val_accuracy: 0.9565\n",
      "Epoch 39/100\n",
      "20/20 [==============================] - 0s 2ms/step - loss: 0.0796 - accuracy: 0.9641 - val_loss: 0.1143 - val_accuracy: 0.9565\n",
      "Epoch 40/100\n",
      "20/20 [==============================] - 0s 2ms/step - loss: 0.0811 - accuracy: 0.9672 - val_loss: 0.1317 - val_accuracy: 0.9565\n",
      "Epoch 41/100\n",
      "20/20 [==============================] - 0s 2ms/step - loss: 0.0830 - accuracy: 0.9688 - val_loss: 0.1145 - val_accuracy: 0.9565\n",
      "Epoch 42/100\n",
      "20/20 [==============================] - 0s 2ms/step - loss: 0.0785 - accuracy: 0.9609 - val_loss: 0.1177 - val_accuracy: 0.9565\n",
      "Epoch 43/100\n",
      "20/20 [==============================] - 0s 2ms/step - loss: 0.0783 - accuracy: 0.9672 - val_loss: 0.1282 - val_accuracy: 0.9565\n",
      "Epoch 44/100\n",
      "20/20 [==============================] - 0s 2ms/step - loss: 0.0785 - accuracy: 0.9625 - val_loss: 0.1137 - val_accuracy: 0.9627\n",
      "Epoch 45/100\n",
      "20/20 [==============================] - 0s 2ms/step - loss: 0.0783 - accuracy: 0.9656 - val_loss: 0.1287 - val_accuracy: 0.9565\n",
      "Epoch 46/100\n",
      "20/20 [==============================] - 0s 2ms/step - loss: 0.0785 - accuracy: 0.9672 - val_loss: 0.1203 - val_accuracy: 0.9565\n",
      "Epoch 47/100\n",
      "20/20 [==============================] - 0s 2ms/step - loss: 0.0774 - accuracy: 0.9672 - val_loss: 0.1163 - val_accuracy: 0.9627\n",
      "Epoch 48/100\n",
      "20/20 [==============================] - 0s 2ms/step - loss: 0.0785 - accuracy: 0.9719 - val_loss: 0.1449 - val_accuracy: 0.9441\n",
      "Epoch 49/100\n",
      "20/20 [==============================] - 0s 2ms/step - loss: 0.0791 - accuracy: 0.9656 - val_loss: 0.1153 - val_accuracy: 0.9627\n",
      "Epoch 50/100\n",
      "20/20 [==============================] - 0s 2ms/step - loss: 0.0756 - accuracy: 0.9719 - val_loss: 0.1152 - val_accuracy: 0.9565\n",
      "Epoch 51/100\n",
      "20/20 [==============================] - 0s 2ms/step - loss: 0.0763 - accuracy: 0.9719 - val_loss: 0.1446 - val_accuracy: 0.9441\n",
      "Epoch 52/100\n",
      "20/20 [==============================] - 0s 2ms/step - loss: 0.0785 - accuracy: 0.9672 - val_loss: 0.1115 - val_accuracy: 0.9627\n",
      "Epoch 53/100\n",
      "20/20 [==============================] - 0s 2ms/step - loss: 0.0823 - accuracy: 0.9672 - val_loss: 0.1129 - val_accuracy: 0.9627\n",
      "Epoch 54/100\n",
      "20/20 [==============================] - 0s 2ms/step - loss: 0.0749 - accuracy: 0.9703 - val_loss: 0.1290 - val_accuracy: 0.9565\n",
      "Epoch 55/100\n",
      "20/20 [==============================] - 0s 2ms/step - loss: 0.0760 - accuracy: 0.9703 - val_loss: 0.1276 - val_accuracy: 0.9565\n",
      "Epoch 56/100\n",
      "20/20 [==============================] - 0s 2ms/step - loss: 0.0733 - accuracy: 0.9719 - val_loss: 0.1199 - val_accuracy: 0.9565\n",
      "Epoch 57/100\n",
      "20/20 [==============================] - 0s 2ms/step - loss: 0.0744 - accuracy: 0.9703 - val_loss: 0.1310 - val_accuracy: 0.9565\n",
      "Epoch 58/100\n",
      "20/20 [==============================] - 0s 2ms/step - loss: 0.0730 - accuracy: 0.9703 - val_loss: 0.1191 - val_accuracy: 0.9627\n",
      "Epoch 59/100\n",
      "20/20 [==============================] - 0s 2ms/step - loss: 0.0750 - accuracy: 0.9656 - val_loss: 0.1144 - val_accuracy: 0.9627\n",
      "Epoch 60/100\n",
      "20/20 [==============================] - 0s 2ms/step - loss: 0.0730 - accuracy: 0.9719 - val_loss: 0.1525 - val_accuracy: 0.9441\n",
      "Epoch 61/100\n",
      "20/20 [==============================] - 0s 2ms/step - loss: 0.0771 - accuracy: 0.9703 - val_loss: 0.1301 - val_accuracy: 0.9503\n",
      "Epoch 62/100\n",
      "20/20 [==============================] - 0s 2ms/step - loss: 0.0737 - accuracy: 0.9688 - val_loss: 0.1129 - val_accuracy: 0.9627\n",
      "Epoch 63/100\n",
      "20/20 [==============================] - 0s 2ms/step - loss: 0.0713 - accuracy: 0.9719 - val_loss: 0.1437 - val_accuracy: 0.9503\n",
      "Epoch 64/100\n",
      "20/20 [==============================] - 0s 2ms/step - loss: 0.0732 - accuracy: 0.9672 - val_loss: 0.1176 - val_accuracy: 0.9627\n",
      "Epoch 65/100\n",
      "20/20 [==============================] - 0s 2ms/step - loss: 0.0712 - accuracy: 0.9719 - val_loss: 0.1271 - val_accuracy: 0.9565\n",
      "Epoch 66/100\n",
      "20/20 [==============================] - 0s 2ms/step - loss: 0.0724 - accuracy: 0.9703 - val_loss: 0.1185 - val_accuracy: 0.9565\n",
      "Epoch 67/100\n",
      "20/20 [==============================] - 0s 2ms/step - loss: 0.0714 - accuracy: 0.9734 - val_loss: 0.1301 - val_accuracy: 0.9503\n",
      "Epoch 68/100\n",
      "20/20 [==============================] - 0s 2ms/step - loss: 0.0703 - accuracy: 0.9703 - val_loss: 0.1139 - val_accuracy: 0.9627\n",
      "Epoch 69/100\n",
      "20/20 [==============================] - 0s 2ms/step - loss: 0.0732 - accuracy: 0.9703 - val_loss: 0.1410 - val_accuracy: 0.9503\n",
      "Epoch 70/100\n",
      "20/20 [==============================] - 0s 2ms/step - loss: 0.0735 - accuracy: 0.9719 - val_loss: 0.1375 - val_accuracy: 0.9503\n",
      "Epoch 71/100\n",
      "20/20 [==============================] - 0s 2ms/step - loss: 0.0728 - accuracy: 0.9719 - val_loss: 0.1206 - val_accuracy: 0.9565\n",
      "Epoch 72/100\n",
      "20/20 [==============================] - 0s 2ms/step - loss: 0.0700 - accuracy: 0.9750 - val_loss: 0.1257 - val_accuracy: 0.9565\n",
      "Epoch 73/100\n",
      "20/20 [==============================] - 0s 2ms/step - loss: 0.0698 - accuracy: 0.9750 - val_loss: 0.1297 - val_accuracy: 0.9503\n",
      "Epoch 74/100\n",
      "20/20 [==============================] - 0s 2ms/step - loss: 0.0689 - accuracy: 0.9734 - val_loss: 0.1265 - val_accuracy: 0.9565\n",
      "Epoch 75/100\n",
      "20/20 [==============================] - 0s 2ms/step - loss: 0.0703 - accuracy: 0.9750 - val_loss: 0.1582 - val_accuracy: 0.9441\n",
      "Epoch 76/100\n",
      "20/20 [==============================] - 0s 2ms/step - loss: 0.0743 - accuracy: 0.9656 - val_loss: 0.1191 - val_accuracy: 0.9627\n",
      "Epoch 77/100\n",
      "20/20 [==============================] - 0s 2ms/step - loss: 0.0679 - accuracy: 0.9734 - val_loss: 0.1330 - val_accuracy: 0.9503\n",
      "Epoch 78/100\n",
      "20/20 [==============================] - 0s 2ms/step - loss: 0.0697 - accuracy: 0.9734 - val_loss: 0.1463 - val_accuracy: 0.9441\n",
      "Epoch 79/100\n",
      "20/20 [==============================] - 0s 2ms/step - loss: 0.0681 - accuracy: 0.9734 - val_loss: 0.1262 - val_accuracy: 0.9565\n",
      "Epoch 80/100\n",
      "20/20 [==============================] - 0s 2ms/step - loss: 0.0726 - accuracy: 0.9703 - val_loss: 0.1471 - val_accuracy: 0.9503\n",
      "Epoch 81/100\n",
      "20/20 [==============================] - 0s 2ms/step - loss: 0.0668 - accuracy: 0.9734 - val_loss: 0.1219 - val_accuracy: 0.9565\n",
      "Epoch 82/100\n",
      "20/20 [==============================] - 0s 2ms/step - loss: 0.0681 - accuracy: 0.9750 - val_loss: 0.1453 - val_accuracy: 0.9503\n",
      "Epoch 83/100\n",
      "20/20 [==============================] - 0s 2ms/step - loss: 0.0707 - accuracy: 0.9688 - val_loss: 0.1173 - val_accuracy: 0.9627\n",
      "Epoch 84/100\n",
      "20/20 [==============================] - 0s 2ms/step - loss: 0.0709 - accuracy: 0.9766 - val_loss: 0.1618 - val_accuracy: 0.9441\n",
      "Epoch 85/100\n",
      "20/20 [==============================] - 0s 2ms/step - loss: 0.0671 - accuracy: 0.9734 - val_loss: 0.1193 - val_accuracy: 0.9627\n",
      "Epoch 86/100\n",
      "20/20 [==============================] - 0s 2ms/step - loss: 0.0692 - accuracy: 0.9734 - val_loss: 0.1250 - val_accuracy: 0.9503\n",
      "Epoch 87/100\n",
      "20/20 [==============================] - 0s 2ms/step - loss: 0.0689 - accuracy: 0.9719 - val_loss: 0.1482 - val_accuracy: 0.9503\n",
      "Epoch 88/100\n",
      "20/20 [==============================] - 0s 2ms/step - loss: 0.0667 - accuracy: 0.9734 - val_loss: 0.1238 - val_accuracy: 0.9565\n",
      "Epoch 89/100\n",
      "20/20 [==============================] - 0s 2ms/step - loss: 0.0665 - accuracy: 0.9734 - val_loss: 0.1318 - val_accuracy: 0.9565\n",
      "Epoch 90/100\n",
      "20/20 [==============================] - 0s 2ms/step - loss: 0.0686 - accuracy: 0.9734 - val_loss: 0.1265 - val_accuracy: 0.9503\n",
      "Epoch 91/100\n",
      "20/20 [==============================] - 0s 2ms/step - loss: 0.0764 - accuracy: 0.9750 - val_loss: 0.1514 - val_accuracy: 0.9503\n",
      "Epoch 92/100\n",
      "20/20 [==============================] - 0s 2ms/step - loss: 0.0742 - accuracy: 0.9688 - val_loss: 0.1595 - val_accuracy: 0.9441\n",
      "Epoch 93/100\n",
      "20/20 [==============================] - 0s 2ms/step - loss: 0.0659 - accuracy: 0.9719 - val_loss: 0.1250 - val_accuracy: 0.9503\n",
      "Epoch 94/100\n",
      "20/20 [==============================] - 0s 2ms/step - loss: 0.0660 - accuracy: 0.9734 - val_loss: 0.1465 - val_accuracy: 0.9503\n",
      "Epoch 95/100\n",
      "20/20 [==============================] - 0s 2ms/step - loss: 0.0682 - accuracy: 0.9734 - val_loss: 0.1363 - val_accuracy: 0.9503\n",
      "Epoch 96/100\n",
      "20/20 [==============================] - 0s 2ms/step - loss: 0.0660 - accuracy: 0.9750 - val_loss: 0.1328 - val_accuracy: 0.9503\n",
      "Epoch 97/100\n",
      "20/20 [==============================] - 0s 2ms/step - loss: 0.0650 - accuracy: 0.9734 - val_loss: 0.1570 - val_accuracy: 0.9441\n",
      "Epoch 98/100\n",
      "20/20 [==============================] - 0s 2ms/step - loss: 0.0671 - accuracy: 0.9750 - val_loss: 0.1315 - val_accuracy: 0.9503\n",
      "Epoch 99/100\n",
      "20/20 [==============================] - 0s 2ms/step - loss: 0.0648 - accuracy: 0.9750 - val_loss: 0.1238 - val_accuracy: 0.9503\n",
      "Epoch 100/100\n",
      "20/20 [==============================] - 0s 2ms/step - loss: 0.0659 - accuracy: 0.9750 - val_loss: 0.1498 - val_accuracy: 0.9503\n",
      "11/11 [==============================] - 0s 600us/step - loss: 0.1099 - accuracy: 0.9709\n",
      "Test Accuracy: 0.9709302186965942\n",
      "11/11 [==============================] - 0s 651us/step\n",
      "Accuracy: 0.9709302325581395\n",
      "Precision: 0.8421052631578947\n",
      "Recall: 0.6956521739130435\n",
      "F1: 0.761904761904762\n",
      "AUC: 0.9714208316402546\n"
     ]
    }
   ],
   "execution_count": 18
  },
  {
   "cell_type": "code",
   "source": [
    "# import pickle\n",
    "# \n",
    "# with open('ACMIFeatures.pkl', 'wb') as f:\n",
    "#     pickle.dump(ACMIFeatures, f)\n",
    "# with open('ACX2Features.pkl', 'wb') as f:\n",
    "#     pickle.dump(ACX2Features, f)\n",
    "# with open('ACRFeatures.pkl', 'wb') as f:\n",
    "#     pickle.dump(ACRFeatures, f)"
   ],
   "metadata": {
    "collapsed": false,
    "ExecuteTime": {
     "end_time": "2024-11-02T06:11:46.933654Z",
     "start_time": "2024-11-02T06:11:46.920647Z"
    }
   },
   "id": "c1683fbd957a0e90",
   "outputs": [],
   "execution_count": 19
  },
  {
   "cell_type": "code",
   "source": [
    "from sklearn.metrics import confusion_matrix\n",
    "import seaborn as sns\n",
    "import matplotlib.pyplot as plt\n"
   ],
   "metadata": {
    "collapsed": false,
    "ExecuteTime": {
     "end_time": "2024-11-02T06:21:26.737378Z",
     "start_time": "2024-11-02T06:21:26.272275Z"
    }
   },
   "id": "b3884fc7bc27fd88",
   "outputs": [],
   "execution_count": 20
  },
  {
   "metadata": {
    "ExecuteTime": {
     "end_time": "2024-11-02T06:22:26.154933Z",
     "start_time": "2024-11-02T06:22:26.119912Z"
    }
   },
   "cell_type": "code",
   "source": [
    "#NB confusion matrix\n",
    "y_pred = NB.predict(X_test[ACMIFeatures])\n"
   ],
   "id": "4dc933551db5b456",
   "outputs": [
    {
     "ename": "ValueError",
     "evalue": "The feature names should match those that were passed during fit.\nFeature names unseen at fit time:\n- f14_f_peaks_pos_1\n- f15_f_90_percent_energy\n- f23_f_peak_1020_value\n- f26_f_peak_2030_pos\n- f30_f_PeaksAboveRMSDensity_fun\n- ...\nFeature names seen at fit time, yet now missing:\n- f11_t_energy\n- f18_f_std\n- f1_t_mean\n- f20_f_energy\n- f2_t_std\n- ...\n",
     "output_type": "error",
     "traceback": [
      "\u001B[1;31m---------------------------------------------------------------------------\u001B[0m",
      "\u001B[1;31mValueError\u001B[0m                                Traceback (most recent call last)",
      "Cell \u001B[1;32mIn [32], line 2\u001B[0m\n\u001B[0;32m      1\u001B[0m \u001B[38;5;66;03m#NB confusion matrix\u001B[39;00m\n\u001B[1;32m----> 2\u001B[0m y_pred \u001B[38;5;241m=\u001B[39m \u001B[43mNB\u001B[49m\u001B[38;5;241;43m.\u001B[39;49m\u001B[43mpredict\u001B[49m\u001B[43m(\u001B[49m\u001B[43mX_test\u001B[49m\u001B[43m[\u001B[49m\u001B[43mACMIFeatures\u001B[49m\u001B[43m]\u001B[49m\u001B[43m)\u001B[49m\n",
      "File \u001B[1;32m~\\AppData\\Local\\Programs\\Python\\Python310\\lib\\site-packages\\sklearn\\naive_bayes.py:105\u001B[0m, in \u001B[0;36m_BaseNB.predict\u001B[1;34m(self, X)\u001B[0m\n\u001B[0;32m     91\u001B[0m \u001B[38;5;124;03m\"\"\"\u001B[39;00m\n\u001B[0;32m     92\u001B[0m \u001B[38;5;124;03mPerform classification on an array of test vectors X.\u001B[39;00m\n\u001B[0;32m     93\u001B[0m \n\u001B[1;32m   (...)\u001B[0m\n\u001B[0;32m    102\u001B[0m \u001B[38;5;124;03m    Predicted target values for X.\u001B[39;00m\n\u001B[0;32m    103\u001B[0m \u001B[38;5;124;03m\"\"\"\u001B[39;00m\n\u001B[0;32m    104\u001B[0m check_is_fitted(\u001B[38;5;28mself\u001B[39m)\n\u001B[1;32m--> 105\u001B[0m X \u001B[38;5;241m=\u001B[39m \u001B[38;5;28;43mself\u001B[39;49m\u001B[38;5;241;43m.\u001B[39;49m\u001B[43m_check_X\u001B[49m\u001B[43m(\u001B[49m\u001B[43mX\u001B[49m\u001B[43m)\u001B[49m\n\u001B[0;32m    106\u001B[0m jll \u001B[38;5;241m=\u001B[39m \u001B[38;5;28mself\u001B[39m\u001B[38;5;241m.\u001B[39m_joint_log_likelihood(X)\n\u001B[0;32m    107\u001B[0m \u001B[38;5;28;01mreturn\u001B[39;00m \u001B[38;5;28mself\u001B[39m\u001B[38;5;241m.\u001B[39mclasses_[np\u001B[38;5;241m.\u001B[39margmax(jll, axis\u001B[38;5;241m=\u001B[39m\u001B[38;5;241m1\u001B[39m)]\n",
      "File \u001B[1;32m~\\AppData\\Local\\Programs\\Python\\Python310\\lib\\site-packages\\sklearn\\naive_bayes.py:273\u001B[0m, in \u001B[0;36mGaussianNB._check_X\u001B[1;34m(self, X)\u001B[0m\n\u001B[0;32m    271\u001B[0m \u001B[38;5;28;01mdef\u001B[39;00m \u001B[38;5;21m_check_X\u001B[39m(\u001B[38;5;28mself\u001B[39m, X):\n\u001B[0;32m    272\u001B[0m     \u001B[38;5;124;03m\"\"\"Validate X, used only in predict* methods.\"\"\"\u001B[39;00m\n\u001B[1;32m--> 273\u001B[0m     \u001B[38;5;28;01mreturn\u001B[39;00m \u001B[38;5;28;43mself\u001B[39;49m\u001B[38;5;241;43m.\u001B[39;49m\u001B[43m_validate_data\u001B[49m\u001B[43m(\u001B[49m\u001B[43mX\u001B[49m\u001B[43m,\u001B[49m\u001B[43m \u001B[49m\u001B[43mreset\u001B[49m\u001B[38;5;241;43m=\u001B[39;49m\u001B[38;5;28;43;01mFalse\u001B[39;49;00m\u001B[43m)\u001B[49m\n",
      "File \u001B[1;32m~\\AppData\\Local\\Programs\\Python\\Python310\\lib\\site-packages\\sklearn\\base.py:529\u001B[0m, in \u001B[0;36mBaseEstimator._validate_data\u001B[1;34m(self, X, y, reset, validate_separately, **check_params)\u001B[0m\n\u001B[0;32m    464\u001B[0m \u001B[38;5;28;01mdef\u001B[39;00m \u001B[38;5;21m_validate_data\u001B[39m(\n\u001B[0;32m    465\u001B[0m     \u001B[38;5;28mself\u001B[39m,\n\u001B[0;32m    466\u001B[0m     X\u001B[38;5;241m=\u001B[39m\u001B[38;5;124m\"\u001B[39m\u001B[38;5;124mno_validation\u001B[39m\u001B[38;5;124m\"\u001B[39m,\n\u001B[1;32m   (...)\u001B[0m\n\u001B[0;32m    470\u001B[0m     \u001B[38;5;241m*\u001B[39m\u001B[38;5;241m*\u001B[39mcheck_params,\n\u001B[0;32m    471\u001B[0m ):\n\u001B[0;32m    472\u001B[0m     \u001B[38;5;124;03m\"\"\"Validate input data and set or check the `n_features_in_` attribute.\u001B[39;00m\n\u001B[0;32m    473\u001B[0m \n\u001B[0;32m    474\u001B[0m \u001B[38;5;124;03m    Parameters\u001B[39;00m\n\u001B[1;32m   (...)\u001B[0m\n\u001B[0;32m    527\u001B[0m \u001B[38;5;124;03m        validated.\u001B[39;00m\n\u001B[0;32m    528\u001B[0m \u001B[38;5;124;03m    \"\"\"\u001B[39;00m\n\u001B[1;32m--> 529\u001B[0m     \u001B[38;5;28;43mself\u001B[39;49m\u001B[38;5;241;43m.\u001B[39;49m\u001B[43m_check_feature_names\u001B[49m\u001B[43m(\u001B[49m\u001B[43mX\u001B[49m\u001B[43m,\u001B[49m\u001B[43m \u001B[49m\u001B[43mreset\u001B[49m\u001B[38;5;241;43m=\u001B[39;49m\u001B[43mreset\u001B[49m\u001B[43m)\u001B[49m\n\u001B[0;32m    531\u001B[0m     \u001B[38;5;28;01mif\u001B[39;00m y \u001B[38;5;129;01mis\u001B[39;00m \u001B[38;5;28;01mNone\u001B[39;00m \u001B[38;5;129;01mand\u001B[39;00m \u001B[38;5;28mself\u001B[39m\u001B[38;5;241m.\u001B[39m_get_tags()[\u001B[38;5;124m\"\u001B[39m\u001B[38;5;124mrequires_y\u001B[39m\u001B[38;5;124m\"\u001B[39m]:\n\u001B[0;32m    532\u001B[0m         \u001B[38;5;28;01mraise\u001B[39;00m \u001B[38;5;167;01mValueError\u001B[39;00m(\n\u001B[0;32m    533\u001B[0m             \u001B[38;5;124mf\u001B[39m\u001B[38;5;124m\"\u001B[39m\u001B[38;5;124mThis \u001B[39m\u001B[38;5;132;01m{\u001B[39;00m\u001B[38;5;28mself\u001B[39m\u001B[38;5;241m.\u001B[39m\u001B[38;5;18m__class__\u001B[39m\u001B[38;5;241m.\u001B[39m\u001B[38;5;18m__name__\u001B[39m\u001B[38;5;132;01m}\u001B[39;00m\u001B[38;5;124m estimator \u001B[39m\u001B[38;5;124m\"\u001B[39m\n\u001B[0;32m    534\u001B[0m             \u001B[38;5;124m\"\u001B[39m\u001B[38;5;124mrequires y to be passed, but the target y is None.\u001B[39m\u001B[38;5;124m\"\u001B[39m\n\u001B[0;32m    535\u001B[0m         )\n",
      "File \u001B[1;32m~\\AppData\\Local\\Programs\\Python\\Python310\\lib\\site-packages\\sklearn\\base.py:462\u001B[0m, in \u001B[0;36mBaseEstimator._check_feature_names\u001B[1;34m(self, X, reset)\u001B[0m\n\u001B[0;32m    457\u001B[0m \u001B[38;5;28;01mif\u001B[39;00m \u001B[38;5;129;01mnot\u001B[39;00m missing_names \u001B[38;5;129;01mand\u001B[39;00m \u001B[38;5;129;01mnot\u001B[39;00m unexpected_names:\n\u001B[0;32m    458\u001B[0m     message \u001B[38;5;241m+\u001B[39m\u001B[38;5;241m=\u001B[39m (\n\u001B[0;32m    459\u001B[0m         \u001B[38;5;124m\"\u001B[39m\u001B[38;5;124mFeature names must be in the same order as they were in fit.\u001B[39m\u001B[38;5;130;01m\\n\u001B[39;00m\u001B[38;5;124m\"\u001B[39m\n\u001B[0;32m    460\u001B[0m     )\n\u001B[1;32m--> 462\u001B[0m \u001B[38;5;28;01mraise\u001B[39;00m \u001B[38;5;167;01mValueError\u001B[39;00m(message)\n",
      "\u001B[1;31mValueError\u001B[0m: The feature names should match those that were passed during fit.\nFeature names unseen at fit time:\n- f14_f_peaks_pos_1\n- f15_f_90_percent_energy\n- f23_f_peak_1020_value\n- f26_f_peak_2030_pos\n- f30_f_PeaksAboveRMSDensity_fun\n- ...\nFeature names seen at fit time, yet now missing:\n- f11_t_energy\n- f18_f_std\n- f1_t_mean\n- f20_f_energy\n- f2_t_std\n- ...\n"
     ]
    }
   ],
   "execution_count": 32
  }
 ],
 "metadata": {
  "kernelspec": {
   "display_name": "Python 3",
   "language": "python",
   "name": "python3"
  },
  "language_info": {
   "codemirror_mode": {
    "name": "ipython",
    "version": 2
   },
   "file_extension": ".py",
   "mimetype": "text/x-python",
   "name": "python",
   "nbconvert_exporter": "python",
   "pygments_lexer": "ipython2",
   "version": "2.7.6"
  }
 },
 "nbformat": 4,
 "nbformat_minor": 5
}

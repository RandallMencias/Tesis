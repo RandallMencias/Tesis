{
 "cells": [
  {
   "cell_type": "code",
   "execution_count": null,
   "id": "initial_id",
   "metadata": {
    "collapsed": true
   },
   "outputs": [],
   "source": [
    "from Metaheuristicas.fitness_functions import *\n",
    "import json\n",
    "\n",
    "import numpy as np\n",
    "import pandas as pd\n",
    "from sklearn.feature_selection import mutual_info_classif, chi2\n",
    "from sklearn.neighbors import NearestNeighbors\n",
    "from sklearn.preprocessing import LabelEncoder, MinMaxScaler"
   ]
  },
  {
   "cell_type": "markdown",
   "source": [
    "# Necessary functions"
   ],
   "metadata": {
    "collapsed": false
   },
   "id": "a61f9c248dc53da9"
  },
  {
   "cell_type": "markdown",
   "source": [
    "### Fitness Functions"
   ],
   "metadata": {
    "collapsed": false
   },
   "id": "989dfbca155543c9"
  },
  {
   "cell_type": "code",
   "execution_count": null,
   "outputs": [],
   "source": [
    "\n",
    "from skrebate import ReliefF\n",
    "\n",
    "\n",
    "def mutual_information_eval(solution, data, labels):\n",
    "    # Convert NumPy array back to DataFrame\n",
    "    data_df = pd.DataFrame(data)\n",
    "    selected_data = data_df.iloc[:, solution == 1]\n",
    "    if selected_data.shape[1] == 0:\n",
    "        return -np.inf\n",
    "    mi_scores = mutual_info_classif(selected_data, labels)\n",
    "    return np.sum(mi_scores)\n",
    "\n",
    "\n",
    "def chi2_eval(solution, data, labels):\n",
    "    # Convert NumPy array back to DataFrame\n",
    "    data_df = pd.DataFrame(data)\n",
    "    selected_data = data_df.iloc[:, solution == 1]\n",
    "    if selected_data.shape[1] == 0:\n",
    "        return -np.inf\n",
    "    chi2_scores, _ = chi2(selected_data, labels)\n",
    "    return np.mean(chi2_scores)\n",
    "\n",
    "\n",
    "\n",
    "\n",
    "\n",
    "def relieff_eval(solution, data, labels, n_neighbors=10):\n",
    "    \n",
    "    if not isinstance(data, pd.DataFrame):\n",
    "        data = pd.DataFrame(data)\n",
    "\n",
    "    selected_features = data.iloc[:, solution.astype(bool)]\n",
    "\n",
    "    if selected_features.shape[1] == 0:\n",
    "        return -np.inf\n",
    "\n",
    "    labels = np.array(labels)\n",
    "\n",
    "    relief = ReliefF(n_neighbors=n_neighbors)\n",
    "    relief.fit(selected_features.values, labels)\n",
    "\n",
    "    relieff_score = relief.feature_importances_.mean()\n",
    "\n",
    "    return relieff_score\n",
    "\n",
    "def load_and_preprocess_data(filename='Resources/SeisBenchV1_v1_1.json'):\n",
    "    \"\"\"\n",
    "    Load and preprocess data from a JSON file.\n",
    "\n",
    "    Parameters:\n",
    "    - filename: Path to the JSON file.\n",
    "\n",
    "    Returns:\n",
    "    - X_scaled: Scaled feature matrix (DataFrame).\n",
    "    - y: Target variable.\n",
    "    \"\"\"\n",
    "    with open(filename) as file:\n",
    "        data = json.load(file)\n",
    "        data = pd.DataFrame(data)\n",
    "        data.dropna(inplace=True)\n",
    "        data.drop(data[data['Type'] == 'REGIONAL'].index, inplace=True)\n",
    "        data.drop(data[data['Type'] == 'HB'].index, inplace=True)\n",
    "        data.drop(data[data['Type'] == 'ICEQUAKE'].index, inplace=True)\n",
    "        data.drop(data[data['Type'] == ''].index, inplace=True)\n",
    "\n",
    "    label_encoder = LabelEncoder()\n",
    "    data['Type'] = label_encoder.fit_transform(data['Type'])\n",
    "\n",
    "    X = data.iloc[:, 1:]\n",
    "    y = data['Type']\n",
    "\n",
    "    scaler = MinMaxScaler()\n",
    "    X_scaled = scaler.fit_transform(X)\n",
    "\n",
    "    return pd.DataFrame(X_scaled, columns=X.columns), y\n",
    "\n",
    "\n",
    "\n",
    "\n",
    "\n"
   ],
   "metadata": {
    "collapsed": false
   },
   "id": "8e28afeef97ac40e"
  },
  {
   "cell_type": "code",
   "execution_count": null,
   "outputs": [],
   "source": [
    "def add_result(classifier, fitness_function, accuracy, precision, recall, f1_score, auc):\n",
    "    new_data = {\n",
    "        \"Accuracy\": accuracy,\n",
    "        \"Precision\": precision,\n",
    "        \"Recall\": recall,\n",
    "        \"F1 Score\": f1_score,\n",
    "        \"AUC\": auc\n",
    "    }\n",
    "\n",
    "    if classifier == \"Naive Bayes\":\n",
    "        global naive_bayes_df\n",
    "        naive_bayes_df.loc[fitness_function] = new_data\n",
    "    elif classifier == \"Random Forest\":\n",
    "        global random_forest_df\n",
    "        random_forest_df.loc[fitness_function] = new_data\n",
    "    elif classifier == \"Neural Network\":\n",
    "        global neural_network_df\n",
    "        neural_network_df.loc[fitness_function] = new_data"
   ],
   "metadata": {
    "collapsed": false
   },
   "id": "41600de09e3e1551"
  },
  {
   "cell_type": "markdown",
   "source": [
    "### Save Results"
   ],
   "metadata": {
    "collapsed": false
   },
   "id": "e36f0747f7649177"
  },
  {
   "cell_type": "code",
   "execution_count": null,
   "outputs": [],
   "source": [
    "from IPython.display import display, clear_output\n",
    "\n",
    "# Step 1: Initialize empty DataFrames for each classifier with metrics as columns\n",
    "metrics = [\"Accuracy\", \"Precision\", \"Recall\", \"F1 Score\", \"AUC\"]\n",
    "\n",
    "naive_bayes_df = pd.DataFrame(columns=metrics, index=[\"Mutual Information\", \"X2\", \"Relief\"])\n",
    "random_forest_df = pd.DataFrame(columns=metrics, index=[\"Mutual Information\", \"X2\", \"Relief\"])\n",
    "neural_network_df = pd.DataFrame(columns=metrics, index=[\"Mutual Information\", \"X2\", \"Relief\"])\n",
    "\n",
    "# Display all tables function\n",
    "def display_tables():\n",
    "    clear_output(wait=True)\n",
    "    print(\"Naive Bayes Results\")\n",
    "    display(naive_bayes_df)\n",
    "    print(\"Random Forest Results\")\n",
    "    display(random_forest_df)\n",
    "    print(\"Neural Network Results\")\n",
    "    display(neural_network_df)"
   ],
   "metadata": {
    "collapsed": false
   },
   "id": "4c02db5f1d433584"
  },
  {
   "cell_type": "markdown",
   "source": [
    "# Genetic algorithm implementation"
   ],
   "metadata": {
    "collapsed": false
   },
   "id": "cb92c01215cdcee7"
  },
  {
   "cell_type": "code",
   "execution_count": null,
   "outputs": [],
   "source": [
    "import numpy as np\n",
    "from sklearn.feature_selection import mutual_info_classif\n",
    "import random\n",
    "from Metaheuristicas.fitness_functions import mutual_information_eval, load_and_preprocess_data\n",
    "\n",
    "\n",
    "\n",
    "# Function to calculate mutual information for a subset of features\n",
    "\n",
    "\n",
    "def genetic_algorithm(X, y, population_size=42, num_parents=28, generations=100, mutation_rate=0.1, crossover_rate=0.8, fitness_function=mutual_information_eval):\n",
    "    n_features = X.shape[1]\n",
    "\n",
    "    # Initialize a random population of individuals (feature subsets)\n",
    "    population = [np.random.choice([0, 1], size=n_features) for _ in range(population_size)]\n",
    "    # population =population_size\n",
    "    best_solution = None\n",
    "    best_fitness = -float('inf')\n",
    "\n",
    "    for generation in range(generations):\n",
    "        print(f\"Generation {generation + 1}/{generations}\")\n",
    "        # Evaluate the fitness of each individual in the population\n",
    "        fitness_scores = []\n",
    "        for individual in population:\n",
    "            fitness = fitness_function(individual, X, y)\n",
    "            fitness_scores.append(fitness)\n",
    "\n",
    "            # Update the best solution found\n",
    "            if fitness > best_fitness:\n",
    "                best_fitness = fitness\n",
    "                best_solution = individual.copy()\n",
    "\n",
    "        # Selection: Select individuals based on their fitness (roulette wheel selection)\n",
    "        fitness_sum = sum(fitness_scores)\n",
    "        if fitness_sum == 0:\n",
    "            probabilities = [1 / len(fitness_scores)] * len(fitness_scores)\n",
    "        else:\n",
    "            probabilities = [fitness / fitness_sum for fitness in fitness_scores]\n",
    "\n",
    "        selected_population = random.choices(population, weights=probabilities, k=num_parents)\n",
    "\n",
    "        # Crossover: Create new population using crossover\n",
    "        new_population = []\n",
    "        for i in range(0, population_size, 2):\n",
    "            parent1 = selected_population[i % num_parents]\n",
    "            parent2 = selected_population[(i + 1) % num_parents]\n",
    "\n",
    "            if random.random() < crossover_rate:\n",
    "                # Perform crossover (single-point crossover) while maintaining feature vector length\n",
    "                crossover_point = random.randint(1, n_features - 1)\n",
    "                child1 = np.concatenate((parent1[:crossover_point], parent2[crossover_point:]))\n",
    "                child2 = np.concatenate((parent2[:crossover_point], parent1[crossover_point:]))\n",
    "            else:\n",
    "                child1, child2 = parent1.copy(), parent2.copy()\n",
    "\n",
    "            new_population.append(child1)\n",
    "            new_population.append(child2)\n",
    "\n",
    "        # Mutation: Mutate the new population without modifying the length\n",
    "        for individual in new_population:\n",
    "            for feature in range(n_features):\n",
    "                if random.random() < mutation_rate:\n",
    "                    # Flip the bit for feature selection (1 becomes 0, 0 becomes 1)\n",
    "                    individual[feature] = 1 - individual[feature]  # Flip the feature bit\n",
    "\n",
    "        # Replace the old population with the new population\n",
    "        population = new_population\n",
    "\n",
    "    return best_solution, best_fitness\n",
    "\n",
    "\n",
    "\n",
    "\n",
    "\n",
    "\n"
   ],
   "metadata": {
    "collapsed": false
   },
   "id": "815966debd8fcef"
  },
  {
   "cell_type": "code",
   "execution_count": null,
   "outputs": [],
   "source": [
    "X, y = load_and_preprocess_data(filename='Resources/SeisBenchV1_v1_1.json')\n"
   ],
   "metadata": {
    "collapsed": false
   },
   "id": "33c8b52155790055"
  },
  {
   "cell_type": "markdown",
   "source": [
    "# Optimization"
   ],
   "metadata": {
    "collapsed": false
   },
   "id": "77e836408cabfbcf"
  },
  {
   "cell_type": "code",
   "execution_count": null,
   "outputs": [],
   "source": [
    "#Save the results from the optimizations\n",
    "Mutual_Information = []\n",
    "Chi2 = []\n",
    "ReliefFList = []"
   ],
   "metadata": {
    "collapsed": false
   },
   "id": "38eb8ace6b5d25bb"
  },
  {
   "cell_type": "code",
   "execution_count": null,
   "outputs": [],
   "source": [
    "\n",
    "# generations = 500\n",
    "mutation=0.1\n",
    "crossover=0.9"
   ],
   "metadata": {
    "collapsed": false
   },
   "id": "29534e269498c20b"
  },
  {
   "cell_type": "code",
   "execution_count": null,
   "outputs": [],
   "source": [
    "from Metaheuristicas.Genetico import genetic_algorithm\n",
    "for n_generations in range(500, 1000, 50):\n",
    "    best_solution, best_Gfitness = genetic_algorithm(X, y,mutation_rate=mutation,crossover_rate=crossover,fitness_function=mutual_information_eval,generations = n_generations )\n",
    "    selected_features = X.columns[best_solution.astype(bool)].tolist()\n",
    "    Mutual_Information.append([selected_features, best_Gfitness, n_generations])\n",
    "\n",
    "    "
   ],
   "metadata": {
    "collapsed": false
   },
   "id": "f89cbf23a9869362"
  },
  {
   "cell_type": "code",
   "execution_count": null,
   "outputs": [],
   "source": [
    "for n_generations in range(500, 1000, 50):\n",
    "    best_solution, best_Gfitness = genetic_algorithm(X, y,mutation_rate=mutation,crossover_rate=crossover,fitness_function=chi2_eval,generations = n_generations )\n",
    "    selected_features = X.columns[best_solution.astype(bool)].tolist()\n",
    "    Chi2.append([selected_features, best_Gfitness, n_generations])"
   ],
   "metadata": {
    "collapsed": false
   },
   "id": "be05639e0a199ba8"
  },
  {
   "cell_type": "code",
   "execution_count": null,
   "outputs": [],
   "source": [
    "for n_generations in range(500, 1000, 50):\n",
    "    best_solution, best_Gfitness = genetic_algorithm(X, y,mutation_rate=mutation,crossover_rate=crossover,fitness_function=relieff_eval,generations = n_generations )\n",
    "    selected_features = X.columns[best_solution.astype(bool)].tolist()\n",
    "    ReliefFList.append([selected_features, best_Gfitness, n_generations])"
   ],
   "metadata": {
    "collapsed": false
   },
   "id": "1953844b2d01259c"
  },
  {
   "cell_type": "code",
   "execution_count": null,
   "outputs": [],
   "source": [
    "import pickle\n",
    "# with open('Mutual_Information.pkl', 'wb') as f:\n",
    "#     pickle.dump(Mutual_Information, f)\n",
    "# with open('Chi2.pkl', 'wb') as f:\n",
    "#     pickle.dump(Chi2, f)\n",
    "# with open('ReliefF.pkl', 'wb') as f:\n",
    "#     pickle.dump(ReliefF, f)"
   ],
   "metadata": {
    "collapsed": false
   },
   "id": "f1e942eb62cbff52"
  },
  {
   "cell_type": "code",
   "execution_count": null,
   "outputs": [],
   "source": [
    "Mutual_Information.sort(key=lambda x: x[1], reverse=True)\n",
    "Chi2.sort(key=lambda x: x[1], reverse=True)\n",
    "ReliefFList.sort(key=lambda x: x[1], reverse=True)"
   ],
   "metadata": {
    "collapsed": false
   },
   "id": "a995398a4816e052"
  },
  {
   "cell_type": "code",
   "execution_count": null,
   "outputs": [],
   "source": [
    "for i in Mutual_Information:\n",
    "    print(\"Mutual Information: \",i[1], i[2])"
   ],
   "metadata": {
    "collapsed": false
   },
   "id": "6e36b63c3e98a8a3"
  },
  {
   "cell_type": "code",
   "execution_count": null,
   "outputs": [],
   "source": [
    "for i in Chi2:\n",
    "    print(\"Chi2: \",i[1], i[2])"
   ],
   "metadata": {
    "collapsed": false
   },
   "id": "3713b7352a600a08"
  },
  {
   "cell_type": "code",
   "execution_count": null,
   "outputs": [],
   "source": [
    "for i in ReliefFList:\n",
    "    print(\"ReliefF List: \",i[1], i[2])"
   ],
   "metadata": {
    "collapsed": false
   },
   "id": "6e365ad2ee393bec"
  },
  {
   "cell_type": "code",
   "execution_count": null,
   "outputs": [],
   "source": [
    "print(\"Mutual Information selected Features: \\n\",len(Mutual_Information[0][0]))\n"
   ],
   "metadata": {
    "collapsed": false
   },
   "id": "a96515cc853d05de"
  },
  {
   "cell_type": "code",
   "execution_count": null,
   "outputs": [],
   "source": [
    "print(\"Chi2 selected features: \\n\",len(Chi2[0][0]))"
   ],
   "metadata": {
    "collapsed": false
   },
   "id": "c9a67b84274d2128"
  },
  {
   "cell_type": "code",
   "execution_count": null,
   "outputs": [],
   "source": [
    "print(\"ReliefF selected features: \\n\",len(ReliefFList[0][0]))\n"
   ],
   "metadata": {
    "collapsed": false
   },
   "id": "b6139fe505920ac"
  },
  {
   "cell_type": "markdown",
   "source": [
    "## Base Results"
   ],
   "metadata": {
    "collapsed": false
   },
   "id": "b859dc58a6f22acf"
  },
  {
   "cell_type": "code",
   "execution_count": null,
   "outputs": [],
   "source": [
    "from sklearn.metrics import accuracy_score, precision_score, recall_score, f1_score, roc_auc_score\n",
    "from sklearn.model_selection import train_test_split\n",
    "from sklearn.naive_bayes import GaussianNB"
   ],
   "metadata": {
    "collapsed": false
   },
   "id": "1ea324598368b54e"
  },
  {
   "cell_type": "code",
   "execution_count": null,
   "outputs": [],
   "source": [
    "X_train, X_test, y_train, y_test = train_test_split(X, y, test_size=0.25, random_state=42)"
   ],
   "metadata": {
    "collapsed": false
   },
   "id": "bf1b8ce9616c5a16"
  },
  {
   "cell_type": "markdown",
   "source": [
    "### Naive Bayes"
   ],
   "metadata": {
    "collapsed": false
   },
   "id": "7acbfc1f51422ebb"
  },
  {
   "cell_type": "code",
   "execution_count": null,
   "outputs": [],
   "source": [
    "\n",
    "\n",
    "#Naive Bayes classifier with all features\n",
    "\n",
    "cmodel = GaussianNB()\n",
    "cmodel.fit(X_train, y_train)\n",
    "y_pred = cmodel.predict(X_test)\n",
    "y_pred_proba = cmodel.predict_proba(X_test)[:, 1]  # Probability estimates for AUC\n",
    "\n",
    "accuracy = accuracy_score(y_test, y_pred)\n",
    "precision = precision_score(y_test, y_pred)\n",
    "recall = recall_score(y_test, y_pred)\n",
    "f1 = f1_score(y_test, y_pred)\n",
    "auc = roc_auc_score(y_test, y_pred_proba)"
   ],
   "metadata": {
    "collapsed": false
   },
   "id": "bd00cc89358166e1"
  },
  {
   "cell_type": "code",
   "execution_count": null,
   "outputs": [],
   "source": [
    "print(\"Accuracy: \", accuracy)\n",
    "print(\"Precision: \", precision)\n",
    "print(\"Recall: \", recall)\n",
    "print(\"F1: \", f1)\n",
    "print(\"AUC: \", auc)\n"
   ],
   "metadata": {
    "collapsed": false
   },
   "id": "a73da983e28e3e86"
  },
  {
   "cell_type": "markdown",
   "source": [
    "### Random Forest"
   ],
   "metadata": {
    "collapsed": false
   },
   "id": "ee9e1a351a41da85"
  },
  {
   "cell_type": "code",
   "execution_count": null,
   "outputs": [],
   "source": [
    "from sklearn.ensemble import RandomForestClassifier\n",
    "random_forest = RandomForestClassifier(n_estimators=100, random_state=42)\n",
    "\n",
    "random_forest.fit(X_train, y_train)\n",
    "y_pred = random_forest.predict(X_test)\n",
    "y_pred_proba = random_forest.predict_proba(X_test)[:, 1]  # Probability estimates for AUC\n",
    "accuracy = accuracy_score(y_test, y_pred)\n",
    "precision = precision_score(y_test, y_pred)\n",
    "recall = recall_score(y_test, y_pred)\n",
    "f1 = f1_score(y_test, y_pred)\n",
    "auc = roc_auc_score(y_test, y_pred_proba)\n"
   ],
   "metadata": {
    "collapsed": false
   },
   "id": "39937dba6af65cd"
  },
  {
   "cell_type": "code",
   "execution_count": null,
   "outputs": [],
   "source": [
    "print(\"Accuracy: \", accuracy)\n",
    "print(\"Precision: \", precision)\n",
    "print(\"Recall: \", recall)\n",
    "print(\"F1: \", f1)\n",
    "print(\"AUC: \", auc)\n"
   ],
   "metadata": {
    "collapsed": false
   },
   "id": "a0ed3c0da049dd6f"
  },
  {
   "cell_type": "markdown",
   "source": [
    "### Neural Network"
   ],
   "metadata": {
    "collapsed": false
   },
   "id": "b501b0c5f7880b32"
  },
  {
   "cell_type": "code",
   "execution_count": null,
   "outputs": [],
   "source": [
    "import tensorflow as tf\n",
    "from tensorflow.keras.models import Sequential\n",
    "from tensorflow.keras.layers import Dense\n",
    "from tensorflow.keras.optimizers import Adam\n",
    "from tensorflow.keras.losses import BinaryCrossentropy"
   ],
   "metadata": {
    "collapsed": false
   },
   "id": "b1d944845aafacc"
  },
  {
   "cell_type": "code",
   "execution_count": null,
   "outputs": [],
   "source": [
    "\n",
    "\n",
    "# Crear y compilar el modelo\n",
    "RN = Sequential()\n",
    "\n",
    "# Definir la dimensión de entrada basada en las características seleccionadas\n",
    "input_dim = X_train.shape[1]\n",
    "RN.add(Dense(units=64, activation='relu', input_dim=input_dim))\n",
    "RN.add(Dense(units=32, activation='relu'))\n",
    "RN.add(Dense(units=1, activation='sigmoid'))\n",
    "\n",
    "# Compilar el modelo\n",
    "RN.compile(optimizer=Adam(learning_rate=0.001), \n",
    "              loss=BinaryCrossentropy(),\n",
    "              metrics=['accuracy'])\n",
    "\n",
    "# Entrenar el modelo\n",
    "history = RN.fit(X_train, y_train, epochs=100, batch_size=32, validation_split=0.2)\n",
    "\n",
    "# Evaluar el modelo en el conjunto de prueba\n",
    "loss, accuracy = RN.evaluate(X_test, y_test)\n",
    "\n",
    "print(f'Test Accuracy: {accuracy}')\n",
    "\n",
    "# Realizar predicciones en el conjunto de prueba\n",
    "y_pred_prob = RN.predict(X_test)  # Predicciones como probabilidades\n",
    "y_pred = (y_pred_prob > 0.5).astype(int)  # Convertir probabilidades a etiquetas (0 o 1)\n",
    "\n",
    "\n"
   ],
   "metadata": {
    "collapsed": false
   },
   "id": "ebfbe246def4e41a"
  },
  {
   "cell_type": "code",
   "execution_count": null,
   "outputs": [],
   "source": [
    "# Calcular y mostrar las métricas\n",
    "print(\"Accuracy:\", accuracy_score(y_test, y_pred))\n",
    "print(\"Precision:\", precision_score(y_test, y_pred))\n",
    "print(\"Recall:\", recall_score(y_test, y_pred))\n",
    "print(\"F1:\", f1_score(y_test, y_pred))\n",
    "print(\"AUC:\", roc_auc_score(y_test, y_pred_prob))  # Usamos probabilidades para AUC\n",
    "add_result(\"Neural Network\", \"Mutual Information\", accuracy_score(y_test, y_pred), precision_score(y_test, y_pred), recall_score(y_test, y_pred), f1_score(y_test, y_pred), roc_auc_score(y_test, y_pred_prob))"
   ],
   "metadata": {
    "collapsed": false
   },
   "id": "4ed43680a43e377d"
  },
  {
   "cell_type": "code",
   "execution_count": null,
   "outputs": [],
   "source": [
    "MI_Scores = []\n",
    "Chi_Scores = []\n",
    "ReliefF_Scores = []"
   ],
   "metadata": {
    "collapsed": false
   },
   "id": "fd4f517f9aca8487"
  },
  {
   "cell_type": "markdown",
   "source": [
    "# Genetic algorithm with optimized parameters (best fitness)"
   ],
   "metadata": {
    "collapsed": false
   },
   "id": "1bde108322c28d9a"
  },
  {
   "cell_type": "code",
   "execution_count": null,
   "outputs": [],
   "source": [
    "MIOpt= []\n",
    "ChiOpt = []\n",
    "ReliefOpt = []"
   ],
   "metadata": {
    "collapsed": false
   },
   "id": "c6672cc719b99fcc"
  },
  {
   "cell_type": "code",
   "execution_count": null,
   "outputs": [],
   "source": [
    "best_solution, best_Gfitness = genetic_algorithm(X, y, mutation_rate=mutation, crossover_rate=crossover,fitness_function=mutual_information_eval, generations=Mutual_Information[0][2])\n",
    "\n",
    "\n",
    "GAMIFeatures = X.columns[best_solution.astype(bool)].tolist()\n",
    "MIOpt.append([GAMIFeatures, best_Gfitness])"
   ],
   "metadata": {
    "collapsed": false
   },
   "id": "3b597ff68e42717e"
  },
  {
   "cell_type": "code",
   "execution_count": null,
   "outputs": [],
   "source": [
    "print(MIOpt)"
   ],
   "metadata": {
    "collapsed": false
   },
   "id": "79eef8fc3815d9c7"
  },
  {
   "cell_type": "code",
   "execution_count": null,
   "outputs": [],
   "source": [
    "print(\"Features selected by MI: \", GAMIFeatures)\n"
   ],
   "metadata": {
    "collapsed": false
   },
   "id": "f1d09d9e62c12c86"
  },
  {
   "cell_type": "code",
   "execution_count": null,
   "outputs": [],
   "source": [
    "best_solution, best_Gfitness = genetic_algorithm(X, y, mutation_rate=mutation, crossover_rate=crossover,fitness_function=chi2_eval, generations=Chi2[0][2])\n",
    "\n",
    "GAX2Features = X.columns[best_solution.astype(bool)].tolist()\n",
    "ChiOpt.append([GAX2Features, best_Gfitness])"
   ],
   "metadata": {
    "collapsed": false
   },
   "id": "ce6e4178bc23ddf9"
  },
  {
   "cell_type": "code",
   "execution_count": null,
   "outputs": [],
   "source": [
    "print(ChiOpt)"
   ],
   "metadata": {
    "collapsed": false
   },
   "id": "55fd062b9250e69b"
  },
  {
   "cell_type": "code",
   "execution_count": null,
   "outputs": [],
   "source": [
    "print(\"Features selected by Chi2: \", GAX2Features)"
   ],
   "metadata": {
    "collapsed": false
   },
   "id": "a2af2563154928d9"
  },
  {
   "cell_type": "code",
   "execution_count": null,
   "outputs": [],
   "source": [
    "best_solution, best_Gfitness = genetic_algorithm(X, y, mutation_rate=mutation, crossover_rate=crossover,fitness_function=chi2_eval, generations=ReliefFList[0][2])\n",
    "\n",
    "GARFFeatures = X.columns[best_solution.astype(bool)].tolist()\n",
    "ChiOpt.append([GARFFeatures, best_Gfitness])\n"
   ],
   "metadata": {
    "collapsed": false
   },
   "id": "8444ee58924d1954"
  },
  {
   "cell_type": "code",
   "execution_count": null,
   "outputs": [],
   "source": [
    "print(ReliefOpt)"
   ],
   "metadata": {
    "collapsed": false
   },
   "id": "7339746441c5a0dc"
  },
  {
   "cell_type": "code",
   "execution_count": null,
   "outputs": [],
   "source": [
    "print(\"Features selected by ReliefF: \", GARFFeatures)"
   ],
   "metadata": {
    "collapsed": false
   },
   "id": "601cdfa969742c3"
  },
  {
   "cell_type": "markdown",
   "source": [
    "### Mutual Information Classifiers"
   ],
   "metadata": {
    "collapsed": false
   },
   "id": "a9ec4981a42e0240"
  },
  {
   "cell_type": "markdown",
   "source": [
    "#### Naive Bayes with Mutual Information"
   ],
   "metadata": {
    "collapsed": false
   },
   "id": "398d035767172765"
  },
  {
   "cell_type": "code",
   "execution_count": null,
   "outputs": [],
   "source": [
    "NB = GaussianNB()"
   ],
   "metadata": {
    "collapsed": false
   },
   "id": "9892c0591c0dcfee"
  },
  {
   "cell_type": "markdown",
   "source": [],
   "metadata": {
    "collapsed": false
   },
   "id": "11812465e419b139"
  },
  {
   "cell_type": "code",
   "execution_count": null,
   "outputs": [],
   "source": [
    "NB.fit(X_train[GAMIFeatures], y_train)\n",
    "\n",
    "y_pred = NB.predict(X_test[GAMIFeatures])"
   ],
   "metadata": {
    "collapsed": false
   },
   "id": "4f96747ffdf7c771"
  },
  {
   "cell_type": "code",
   "execution_count": null,
   "outputs": [],
   "source": [
    "\n",
    "print(\"Accuracy:\", accuracy_score(y_test, y_pred))\n",
    "print(\"Precision:\", precision_score(y_test, y_pred))\n",
    "print(\"Recall:\", recall_score(y_test, y_pred))\n",
    "print(\"F1:\", f1_score(y_test, y_pred))\n",
    "print(\"AUC:\", roc_auc_score(y_test, y_pred))\n",
    "add_result(\"Naive Bayes\", \"Mutual Information\", accuracy_score(y_test, y_pred), precision_score(y_test, y_pred), recall_score(y_test, y_pred), f1_score(y_test, y_pred), roc_auc_score(y_test, y_pred))"
   ],
   "metadata": {
    "collapsed": false
   },
   "id": "d43c2e2612a2f74"
  },
  {
   "cell_type": "markdown",
   "source": [
    "### Random Forest with Mutual Information"
   ],
   "metadata": {
    "collapsed": false
   },
   "id": "5e48169f7fab3b84"
  },
  {
   "cell_type": "code",
   "execution_count": null,
   "outputs": [],
   "source": [
    "DT = RandomForestClassifier()\n"
   ],
   "metadata": {
    "collapsed": false
   },
   "id": "d021e20ce0e21360"
  },
  {
   "cell_type": "code",
   "execution_count": null,
   "outputs": [],
   "source": [
    "DT.fit(X_train[GAMIFeatures], y_train)\n",
    "y_pred = DT.predict(X_test[GAMIFeatures])\n"
   ],
   "metadata": {
    "collapsed": false
   },
   "id": "fa0e90d329cac27e"
  },
  {
   "cell_type": "code",
   "execution_count": null,
   "outputs": [],
   "source": [
    "print(\"Accuracy:\", accuracy_score(y_test, y_pred))\n",
    "print(\"Precision:\", precision_score(y_test, y_pred))\n",
    "print(\"Recall:\", recall_score(y_test, y_pred))\n",
    "print(\"F1:\", f1_score(y_test, y_pred))\n",
    "print(\"AUC:\", roc_auc_score(y_test, y_pred))\n",
    "add_result(\"Random Forest\", \"Mutual Information\", accuracy_score(y_test, y_pred), precision_score(y_test, y_pred), recall_score(y_test, y_pred), f1_score(y_test, y_pred), roc_auc_score(y_test, y_pred))"
   ],
   "metadata": {
    "collapsed": false
   },
   "id": "c5ac3663d5103604"
  },
  {
   "cell_type": "markdown",
   "source": [
    "### Neural Network with Mutual Information"
   ],
   "metadata": {
    "collapsed": false
   },
   "id": "cbe9b4beff2c1190"
  },
  {
   "cell_type": "code",
   "execution_count": null,
   "outputs": [],
   "source": [
    "History = RN.fit(X_train[GAMIFeatures], y_train, epochs=100, batch_size=32, validation_split=0.2)\n",
    "\n",
    "# Evaluar el modelo en el conjunto de prueba\n",
    "loss, accuracy = RN.evaluate(X_test[GAMIFeatures], y_test)\n",
    "\n",
    "print(f'Test Accuracy: {accuracy}')\n",
    "# Realizar predicciones en el conjunto de prueba\n",
    "y_pred_prob = RN.predict(X_test[GAMIFeatures])  # Predicciones como probabilidades\n",
    "y_pred = (y_pred_prob > 0.5).astype(int)  # Convertir probabilidades a etiquetas (0 o 1)"
   ],
   "metadata": {
    "collapsed": false
   },
   "id": "137f65ff8e05cf7b"
  },
  {
   "cell_type": "code",
   "execution_count": null,
   "outputs": [],
   "source": [
    "# Calcular y mostrar las métricas\n",
    "print(\"Accuracy:\", accuracy_score(y_test, y_pred))\n",
    "print(\"Precision:\", precision_score(y_test, y_pred))\n",
    "print(\"Recall:\", recall_score(y_test, y_pred))\n",
    "print(\"F1:\", f1_score(y_test, y_pred))\n",
    "print(\"AUC:\", roc_auc_score(y_test, y_pred_prob))  # Usamos probabilidades para AUC\n",
    "add_result(\"Neural Network\", \"Mutual Information\", accuracy_score(y_test, y_pred), precision_score(y_test, y_pred), recall_score(y_test, y_pred), f1_score(y_test, y_pred), roc_auc_score(y_test, y_pred_prob))"
   ],
   "metadata": {
    "collapsed": false
   },
   "id": "8f135bcc84fa350d"
  },
  {
   "cell_type": "markdown",
   "source": [
    "### Chi2 Classifiers"
   ],
   "metadata": {
    "collapsed": false
   },
   "id": "43b085f953512a98"
  },
  {
   "cell_type": "markdown",
   "source": [
    "#### Naive Bayes with chi2"
   ],
   "metadata": {
    "collapsed": false
   },
   "id": "bb01f606d6b9d74d"
  },
  {
   "cell_type": "code",
   "execution_count": null,
   "outputs": [],
   "source": [
    "NB.fit(X_train[GAX2Features], y_train)\n",
    "y_pred = NB.predict(X_test[GAX2Features])\n"
   ],
   "metadata": {
    "collapsed": false
   },
   "id": "2240ec5b0b56b7c"
  },
  {
   "cell_type": "code",
   "execution_count": null,
   "outputs": [],
   "source": [
    "\n",
    "print(\"Accuracy:\", accuracy_score(y_test, y_pred))\n",
    "print(\"Precision:\", precision_score(y_test, y_pred))\n",
    "print(\"Recall:\", recall_score(y_test, y_pred))\n",
    "print(\"F1:\", f1_score(y_test, y_pred))\n",
    "print(\"AUC:\", roc_auc_score(y_test, y_pred))\n",
    "add_result(\"Naive Bayes\", \"X2\", accuracy_score(y_test, y_pred), precision_score(y_test, y_pred), recall_score(y_test, y_pred), f1_score(y_test, y_pred), roc_auc_score(y_test, y_pred))"
   ],
   "metadata": {
    "collapsed": false
   },
   "id": "c73c4c78229e52d"
  },
  {
   "cell_type": "markdown",
   "source": [
    "#### Random Forest with chi2"
   ],
   "metadata": {
    "collapsed": false
   },
   "id": "6105e59914fc631e"
  },
  {
   "cell_type": "code",
   "execution_count": null,
   "outputs": [],
   "source": [
    "DT.fit(X_train[GAX2Features], y_train)\n",
    "y_pred = DT.predict(X_test[GAX2Features])"
   ],
   "metadata": {
    "collapsed": false
   },
   "id": "422196918664be9a"
  },
  {
   "cell_type": "code",
   "execution_count": null,
   "outputs": [],
   "source": [
    "\n",
    "print(\"Accuracy:\", accuracy_score(y_test, y_pred))\n",
    "print(\"Precision:\", precision_score(y_test, y_pred))\n",
    "print(\"Recall:\", recall_score(y_test, y_pred))\n",
    "print(\"F1:\", f1_score(y_test, y_pred))\n",
    "print(\"AUC:\", roc_auc_score(y_test, y_pred))\n",
    "add_result(\"Random Forest\", \"X2\", accuracy_score(y_test, y_pred), precision_score(y_test, y_pred), recall_score(y_test, y_pred), f1_score(y_test, y_pred), roc_auc_score(y_test, y_pred))"
   ],
   "metadata": {
    "collapsed": false
   },
   "id": "cd7dc0d8f620ca3b"
  },
  {
   "cell_type": "markdown",
   "source": [
    "#### Neural Network with chi2"
   ],
   "metadata": {
    "collapsed": false
   },
   "id": "adc5db56bb5ed784"
  },
  {
   "cell_type": "code",
   "execution_count": null,
   "outputs": [],
   "source": [
    "history = RN.fit(X_train[GAX2Features], y_train, epochs=100, batch_size=32, validation_split=0.2)\n",
    "\n",
    "loss, accuracy = RN.evaluate(X_test[GAX2Features], y_test)\n",
    "\n",
    "print(f'Test Accuracy: {accuracy}')\n",
    "y_pred_prob = RN.predict(X_test[GAX2Features]) \n",
    "y_pred = (y_pred_prob > 0.5).astype(int)  "
   ],
   "metadata": {
    "collapsed": false
   },
   "id": "be68153328c673f8"
  },
  {
   "cell_type": "code",
   "execution_count": null,
   "outputs": [],
   "source": [
    "print(\"Accuracy:\", accuracy_score(y_test, y_pred))\n",
    "print(\"Precision:\", precision_score(y_test, y_pred))\n",
    "print(\"Recall:\", recall_score(y_test, y_pred))\n",
    "print(\"F1:\", f1_score(y_test, y_pred))\n",
    "print(\"AUC:\", roc_auc_score(y_test, y_pred_prob)) \n",
    "add_result(\"Neural Network\", \"X2\", accuracy_score(y_test, y_pred), precision_score(y_test, y_pred), recall_score(y_test, y_pred), f1_score(y_test, y_pred), roc_auc_score(y_test, y_pred_prob))"
   ],
   "metadata": {
    "collapsed": false
   },
   "id": "c1bbcf6e053c9ea4"
  },
  {
   "cell_type": "markdown",
   "source": [
    "### ReliefF Classifiers"
   ],
   "metadata": {
    "collapsed": false
   },
   "id": "5b75a7bb8bbb92a0"
  },
  {
   "cell_type": "markdown",
   "source": [
    "#### Naive Bayes with ReliefF"
   ],
   "metadata": {
    "collapsed": false
   },
   "id": "ca12a99021616d46"
  },
  {
   "cell_type": "code",
   "execution_count": null,
   "outputs": [],
   "source": [
    "NB.fit(X_train[GARFFeatures], y_train)\n",
    "y_pred = NB.predict(X_test[GARFFeatures])\n"
   ],
   "metadata": {
    "collapsed": false
   },
   "id": "2d8ea19a52aa9d58"
  },
  {
   "cell_type": "code",
   "execution_count": null,
   "outputs": [],
   "source": [
    "\n",
    "print(\"Accuracy:\", accuracy_score(y_test, y_pred))\n",
    "print(\"Precision:\", precision_score(y_test, y_pred))\n",
    "print(\"Recall:\", recall_score(y_test, y_pred))\n",
    "print(\"F1:\", f1_score(y_test, y_pred))\n",
    "print(\"AUC:\", roc_auc_score(y_test, y_pred))\n",
    "add_result(\"Naive Bayes\", \"Relief\", accuracy_score(y_test, y_pred), precision_score(y_test, y_pred), recall_score(y_test, y_pred), f1_score(y_test, y_pred), roc_auc_score(y_test, y_pred))"
   ],
   "metadata": {
    "collapsed": false
   },
   "id": "b1c646b6067cbb01"
  },
  {
   "cell_type": "markdown",
   "source": [
    "#### Random Forest with ReliefF\n"
   ],
   "metadata": {
    "collapsed": false
   },
   "id": "1fb4f85468f70a89"
  },
  {
   "cell_type": "code",
   "execution_count": null,
   "outputs": [],
   "source": [
    "DT.fit(X_train[GARFFeatures], y_train)\n",
    "y_pred = DT.predict(X_test[GARFFeatures])\n"
   ],
   "metadata": {
    "collapsed": false
   },
   "id": "41f67d7ab7a58b0a"
  },
  {
   "cell_type": "code",
   "execution_count": null,
   "outputs": [],
   "source": [
    "print(\"Accuracy:\", accuracy_score(y_test, y_pred))\n",
    "print(\"Precision:\", precision_score(y_test, y_pred))\n",
    "print(\"Recall:\", recall_score(y_test, y_pred))\n",
    "print(\"F1:\", f1_score(y_test, y_pred))\n",
    "print(\"AUC:\", roc_auc_score(y_test, y_pred))\n",
    "add_result(\"Random Forest\", \"Relief\", accuracy_score(y_test, y_pred), precision_score(y_test, y_pred), recall_score(y_test, y_pred), f1_score(y_test, y_pred), roc_auc_score(y_test, y_pred))"
   ],
   "metadata": {
    "collapsed": false
   },
   "id": "5aa1171435b25a46"
  },
  {
   "cell_type": "markdown",
   "source": [
    "#### Neural Network with ReliefF"
   ],
   "metadata": {
    "collapsed": false
   },
   "id": "daaaefbc5b72b0a2"
  },
  {
   "cell_type": "code",
   "execution_count": null,
   "outputs": [],
   "source": [],
   "metadata": {
    "collapsed": false
   },
   "id": "11d047302e3354ec"
  },
  {
   "cell_type": "code",
   "execution_count": null,
   "outputs": [],
   "source": [
    "history = RN.fit(X_train[GARFFeatures], y_train, epochs=100, batch_size=32, validation_split=0.2)\n",
    "\n",
    "loss, accuracy = RN.evaluate(X_test[GARFFeatures], y_test)\n",
    "\n",
    "print(f'Test Accuracy: {accuracy}')\n",
    "y_pred_prob = RN.predict(X_test[GARFFeatures]) \n",
    "y_pred = (y_pred_prob > 0.5).astype(int)  \n",
    "\n",
    "print(\"Accuracy:\", accuracy_score(y_test, y_pred))\n",
    "print(\"Precision:\", precision_score(y_test, y_pred))\n",
    "print(\"Recall:\", recall_score(y_test, y_pred))\n",
    "print(\"F1:\", f1_score(y_test, y_pred))\n",
    "print(\"AUC:\", roc_auc_score(y_test, y_pred_prob)) \n",
    "add_result(\"Neural Network\", \"Relief\", accuracy_score(y_test, y_pred), precision_score(y_test, y_pred), recall_score(y_test, y_pred), f1_score(y_test, y_pred), roc_auc_score(y_test, y_pred_prob))"
   ],
   "metadata": {
    "collapsed": false
   },
   "id": "6323e580259cf1ae"
  },
  {
   "cell_type": "markdown",
   "source": [
    "# Display results"
   ],
   "metadata": {
    "collapsed": false
   },
   "id": "3c92c98807476af8"
  },
  {
   "cell_type": "code",
   "execution_count": null,
   "outputs": [],
   "source": [
    "display_tables()"
   ],
   "metadata": {
    "collapsed": false
   },
   "id": "27529b1a7284c50"
  }
 ],
 "metadata": {
  "kernelspec": {
   "display_name": "Python 3",
   "language": "python",
   "name": "python3"
  },
  "language_info": {
   "codemirror_mode": {
    "name": "ipython",
    "version": 2
   },
   "file_extension": ".py",
   "mimetype": "text/x-python",
   "name": "python",
   "nbconvert_exporter": "python",
   "pygments_lexer": "ipython2",
   "version": "2.7.6"
  }
 },
 "nbformat": 4,
 "nbformat_minor": 5
}

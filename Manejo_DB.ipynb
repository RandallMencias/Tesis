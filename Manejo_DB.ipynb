{
 "cells": [
  {
   "cell_type": "code",
   "execution_count": 45,
   "outputs": [],
   "source": [
    "import json\n",
    "import pandas as pd\n",
    "with open('Resources/SeisBenchV1_v1_1.json') as file:\n",
    "    data = json.load(file)"
   ],
   "metadata": {
    "collapsed": false,
    "ExecuteTime": {
     "end_time": "2024-09-15T05:27:21.528617Z",
     "start_time": "2024-09-15T05:27:21.354535900Z"
    }
   },
   "id": "5fb466a32324f96f"
  },
  {
   "cell_type": "code",
   "execution_count": 46,
   "outputs": [
    {
     "data": {
      "text/plain": "  Type  f1_t_mean  f2_t_std  f3_t_var  f4_t_entropy  f5_t_kurtosis  \\\n0   VT  -0.000059  0.159283  0.025371    125.575049       8.304542   \n1   LP  -0.000042  0.197845  0.039143    393.853185       5.290367   \n2   LP   0.000037  0.190926  0.036453    396.682354       6.666304   \n3   VT  -0.000049  0.363053  0.131808    620.945134       3.580948   \n4   VT  -0.000039  0.217804  0.047439    235.107723       6.647344   \n\n   f6_t_multiscaleEntropy  f7_t_time2peak  f8_t_rms  f9_t_peak2peak  ...  \\\n0                1.659625            1.49  0.159248        1.735696  ...   \n1                2.004580           10.06  0.197824        1.837824  ...   \n2                1.744531           14.87  0.190909        1.934064  ...   \n3                1.614374           11.93  0.363016        1.807268  ...   \n4                1.567582            3.76  0.217769        1.730968  ...   \n\n   f75_w_t_peak2peak_D5  f76_w_t_peak2peak_D6  f77_w_t_peak2rms_A6  \\\n0              0.194575              0.028046            10.062697   \n1              0.587130              0.051686            19.361546   \n2              1.221593              0.058025            10.923910   \n3              0.937122              0.139498             4.845511   \n4              0.347865              0.028109            10.195495   \n\n   f78_w_t_peak2rms_D1  f79_w_t_peak2rms_D2  f80_w_t_peak2rms_D3  \\\n0             8.860736             7.890076             6.719720   \n1             5.857056             4.538726             4.670957   \n2             4.332089             4.554143             6.152058   \n3            11.707501             7.343261             5.640008   \n4             9.866074             8.192508             5.847093   \n\n   f81_w_t_peak2rms_D4  f82_w_t_peak2rms_D5  f83_w_t_peak2rms_D6  \\\n0             4.237517             3.802709             8.048929   \n1             5.671383             4.123603             3.331997   \n2             4.511500             7.012052             5.524468   \n3             4.287812             5.132921             4.930505   \n4             4.932813             4.201841             5.791239   \n\n   f84_w_t_meanEnergyCoeff  \n0                 0.024310  \n1                 0.038853  \n2                 0.035855  \n3                 0.128911  \n4                 0.045848  \n\n[5 rows x 85 columns]",
      "text/html": "<div>\n<style scoped>\n    .dataframe tbody tr th:only-of-type {\n        vertical-align: middle;\n    }\n\n    .dataframe tbody tr th {\n        vertical-align: top;\n    }\n\n    .dataframe thead th {\n        text-align: right;\n    }\n</style>\n<table border=\"1\" class=\"dataframe\">\n  <thead>\n    <tr style=\"text-align: right;\">\n      <th></th>\n      <th>Type</th>\n      <th>f1_t_mean</th>\n      <th>f2_t_std</th>\n      <th>f3_t_var</th>\n      <th>f4_t_entropy</th>\n      <th>f5_t_kurtosis</th>\n      <th>f6_t_multiscaleEntropy</th>\n      <th>f7_t_time2peak</th>\n      <th>f8_t_rms</th>\n      <th>f9_t_peak2peak</th>\n      <th>...</th>\n      <th>f75_w_t_peak2peak_D5</th>\n      <th>f76_w_t_peak2peak_D6</th>\n      <th>f77_w_t_peak2rms_A6</th>\n      <th>f78_w_t_peak2rms_D1</th>\n      <th>f79_w_t_peak2rms_D2</th>\n      <th>f80_w_t_peak2rms_D3</th>\n      <th>f81_w_t_peak2rms_D4</th>\n      <th>f82_w_t_peak2rms_D5</th>\n      <th>f83_w_t_peak2rms_D6</th>\n      <th>f84_w_t_meanEnergyCoeff</th>\n    </tr>\n  </thead>\n  <tbody>\n    <tr>\n      <th>0</th>\n      <td>VT</td>\n      <td>-0.000059</td>\n      <td>0.159283</td>\n      <td>0.025371</td>\n      <td>125.575049</td>\n      <td>8.304542</td>\n      <td>1.659625</td>\n      <td>1.49</td>\n      <td>0.159248</td>\n      <td>1.735696</td>\n      <td>...</td>\n      <td>0.194575</td>\n      <td>0.028046</td>\n      <td>10.062697</td>\n      <td>8.860736</td>\n      <td>7.890076</td>\n      <td>6.719720</td>\n      <td>4.237517</td>\n      <td>3.802709</td>\n      <td>8.048929</td>\n      <td>0.024310</td>\n    </tr>\n    <tr>\n      <th>1</th>\n      <td>LP</td>\n      <td>-0.000042</td>\n      <td>0.197845</td>\n      <td>0.039143</td>\n      <td>393.853185</td>\n      <td>5.290367</td>\n      <td>2.004580</td>\n      <td>10.06</td>\n      <td>0.197824</td>\n      <td>1.837824</td>\n      <td>...</td>\n      <td>0.587130</td>\n      <td>0.051686</td>\n      <td>19.361546</td>\n      <td>5.857056</td>\n      <td>4.538726</td>\n      <td>4.670957</td>\n      <td>5.671383</td>\n      <td>4.123603</td>\n      <td>3.331997</td>\n      <td>0.038853</td>\n    </tr>\n    <tr>\n      <th>2</th>\n      <td>LP</td>\n      <td>0.000037</td>\n      <td>0.190926</td>\n      <td>0.036453</td>\n      <td>396.682354</td>\n      <td>6.666304</td>\n      <td>1.744531</td>\n      <td>14.87</td>\n      <td>0.190909</td>\n      <td>1.934064</td>\n      <td>...</td>\n      <td>1.221593</td>\n      <td>0.058025</td>\n      <td>10.923910</td>\n      <td>4.332089</td>\n      <td>4.554143</td>\n      <td>6.152058</td>\n      <td>4.511500</td>\n      <td>7.012052</td>\n      <td>5.524468</td>\n      <td>0.035855</td>\n    </tr>\n    <tr>\n      <th>3</th>\n      <td>VT</td>\n      <td>-0.000049</td>\n      <td>0.363053</td>\n      <td>0.131808</td>\n      <td>620.945134</td>\n      <td>3.580948</td>\n      <td>1.614374</td>\n      <td>11.93</td>\n      <td>0.363016</td>\n      <td>1.807268</td>\n      <td>...</td>\n      <td>0.937122</td>\n      <td>0.139498</td>\n      <td>4.845511</td>\n      <td>11.707501</td>\n      <td>7.343261</td>\n      <td>5.640008</td>\n      <td>4.287812</td>\n      <td>5.132921</td>\n      <td>4.930505</td>\n      <td>0.128911</td>\n    </tr>\n    <tr>\n      <th>4</th>\n      <td>VT</td>\n      <td>-0.000039</td>\n      <td>0.217804</td>\n      <td>0.047439</td>\n      <td>235.107723</td>\n      <td>6.647344</td>\n      <td>1.567582</td>\n      <td>3.76</td>\n      <td>0.217769</td>\n      <td>1.730968</td>\n      <td>...</td>\n      <td>0.347865</td>\n      <td>0.028109</td>\n      <td>10.195495</td>\n      <td>9.866074</td>\n      <td>8.192508</td>\n      <td>5.847093</td>\n      <td>4.932813</td>\n      <td>4.201841</td>\n      <td>5.791239</td>\n      <td>0.045848</td>\n    </tr>\n  </tbody>\n</table>\n<p>5 rows × 85 columns</p>\n</div>"
     },
     "execution_count": 46,
     "metadata": {},
     "output_type": "execute_result"
    }
   ],
   "source": [
    "df = pd.DataFrame(data)\n",
    "df.head()"
   ],
   "metadata": {
    "collapsed": false,
    "ExecuteTime": {
     "end_time": "2024-09-15T05:27:21.544254200Z",
     "start_time": "2024-09-15T05:27:21.411395900Z"
    }
   },
   "id": "4990d5263dcc6a8f"
  },
  {
   "cell_type": "code",
   "execution_count": 47,
   "outputs": [
    {
     "data": {
      "text/plain": "Type\nLP          1044\nVT           101\nREGIONAL      27\nHB             8\nICEQUAKE       7\nName: count, dtype: int64"
     },
     "execution_count": 47,
     "metadata": {},
     "output_type": "execute_result"
    }
   ],
   "source": [
    "#print the number of instances of each type\n",
    "df['Type'].value_counts()\n"
   ],
   "metadata": {
    "collapsed": false,
    "ExecuteTime": {
     "end_time": "2024-09-15T05:27:21.622895800Z",
     "start_time": "2024-09-15T05:27:21.525097900Z"
    }
   },
   "id": "3ff008eb62d33361"
  },
  {
   "cell_type": "code",
   "execution_count": 48,
   "outputs": [
    {
     "data": {
      "text/plain": "<Figure size 640x480 with 1 Axes>",
      "image/png": "[encoded data removed]"
     },
     "metadata": {},
     "output_type": "display_data"
    }
   ],
   "source": [
    "#plot a bar graph of the number of instances of each type\n",
    "import matplotlib.pyplot as plt\n",
    "df['Type'].value_counts().plot(kind='bar')\n",
    "plt.show()\n",
    "\n"
   ],
   "metadata": {
    "collapsed": false,
    "ExecuteTime": {
     "end_time": "2024-09-15T05:27:21.898797100Z",
     "start_time": "2024-09-15T05:27:21.576527300Z"
    }
   },
   "id": "c815c735f53f5b53"
  },
  {
   "cell_type": "code",
   "execution_count": 49,
   "outputs": [],
   "source": [
    "#drop all rows with Type \"REGIONAL\"\n",
    "df.drop(df[df['Type'] == 'REGIONAL'].index, inplace = True)\n",
    "df.drop(df[df['Type'] == 'HB'].index, inplace = True)\n",
    "df.drop(df[df['Type'] == 'ICEQUAKE'].index, inplace = True)\n",
    "df.drop(df[df['Type'] == ''].index, inplace = True)"
   ],
   "metadata": {
    "collapsed": false,
    "ExecuteTime": {
     "end_time": "2024-09-15T05:27:21.898797100Z",
     "start_time": "2024-09-15T05:27:21.727227900Z"
    }
   },
   "id": "6f7edc869d8c9813"
  },
  {
   "cell_type": "code",
   "execution_count": 50,
   "outputs": [
    {
     "data": {
      "text/plain": "Type\nLP    1044\nVT     101\nName: count, dtype: int64"
     },
     "execution_count": 50,
     "metadata": {},
     "output_type": "execute_result"
    }
   ],
   "source": [
    "df['Type'].value_counts()\n",
    "\n"
   ],
   "metadata": {
    "collapsed": false,
    "ExecuteTime": {
     "end_time": "2024-09-15T05:27:22.150144Z",
     "start_time": "2024-09-15T05:27:21.867106100Z"
    }
   },
   "id": "e9f09ae6f68d1909"
  },
  {
   "cell_type": "code",
   "execution_count": 51,
   "outputs": [
    {
     "data": {
      "text/plain": "Index(['Type', 'f1_t_mean', 'f2_t_std', 'f3_t_var', 'f4_t_entropy',\n       'f5_t_kurtosis', 'f6_t_multiscaleEntropy', 'f7_t_time2peak', 'f8_t_rms',\n       'f9_t_peak2peak', 'f10_t_peak2rms', 'f11_t_energy', 'f12_t_zcr',\n       'f13_t_PeaksAboveRMSDensity_fun', 'f14_f_peaks_pos_1',\n       'f15_f_90_percent_energy', 'f16_f_entropy', 'f17_f_mean', 'f18_f_std',\n       'f19_f_var', 'f20_f_energy', 'f21_f_kurtosis',\n       'f22_f_multiscaleEntropy', 'f23_f_peak_1020_value',\n       'f24_f_peak_1020_pos', 'f25_f_peak_2030_value', 'f26_f_peak_2030_pos',\n       'f27_f_rms', 'f28_f_peak2rms', 'f29_f_power',\n       'f30_f_PeaksAboveRMSDensity_fun', 'f31_f_peaks_val_2',\n       'f32_f_peaks_pos_2', 'f33_f_peaks_val_3', 'f34_f_peaks_pos_3',\n       'f35_w_f_maxval_A6', 'f36_w_f_maxval_D1', 'f37_w_f_maxval_D2',\n       'f38_w_f_maxval_D3', 'f39_w_f_maxval_D4', 'f40_w_f_maxval_D5',\n       'f41_w_f_maxval_D6', 'f42_w_f_maxpos_A6', 'f43_w_f_maxpos_D2',\n       'f44_w_f_maxpos_D3', 'f45_w_f_maxpos_D4', 'f46_w_f_maxpos_D5',\n       'f47_w_f_maxpos_D6', 'f48_w_f_mean_A6', 'f49_w_f_mean_D1',\n       'f50_w_f_mean_D2', 'f51_w_f_mean_D3', 'f52_w_f_mean_D4',\n       'f53_w_f_mean_D5', 'f54_w_f_mean_D6', 'f55_w_t_meanEnergyAD',\n       'f56_w_t_PEC_A6', 'f57_w_t_PEC_D1', 'f58_w_t_PEC_D2', 'f59_w_t_PEC_D3',\n       'f60_w_t_PEC_D4', 'f61_w_t_PEC_D5', 'f62_w_t_PEC_D6', 'f63_w_t_rms_A6',\n       'f64_w_t_rms_D1', 'f65_w_t_rms_D2', 'f66_w_t_rms_D3', 'f67_w_t_rms_D4',\n       'f68_w_t_rms_D5', 'f69_w_t_rms_D6', 'f70_w_t_peak2peak_A6',\n       'f71_w_t_peak2peak_D1', 'f72_w_t_peak2peak_D2', 'f73_w_t_peak2peak_D3',\n       'f74_w_t_peak2peak_D4', 'f75_w_t_peak2peak_D5', 'f76_w_t_peak2peak_D6',\n       'f77_w_t_peak2rms_A6', 'f78_w_t_peak2rms_D1', 'f79_w_t_peak2rms_D2',\n       'f80_w_t_peak2rms_D3', 'f81_w_t_peak2rms_D4', 'f82_w_t_peak2rms_D5',\n       'f83_w_t_peak2rms_D6', 'f84_w_t_meanEnergyCoeff'],\n      dtype='object')"
     },
     "execution_count": 51,
     "metadata": {},
     "output_type": "execute_result"
    }
   ],
   "source": [
    "#print the labes of the columns\n",
    "df.columns"
   ],
   "metadata": {
    "collapsed": false,
    "ExecuteTime": {
     "end_time": "2024-09-15T05:27:22.150144Z",
     "start_time": "2024-09-15T05:27:21.936393800Z"
    }
   },
   "id": "7879ca7e9ab183b3"
  },
  {
   "cell_type": "code",
   "execution_count": 52,
   "outputs": [
    {
     "data": {
      "text/plain": "<Figure size 640x480 with 1 Axes>",
      "image/png": "[encoded data removed]"
     },
     "metadata": {},
     "output_type": "display_data"
    }
   ],
   "source": [
    "#plot a bar graph of the number of instances of each type\n",
    "df['Type'].value_counts().plot(kind='bar')\n",
    "plt.show()\n",
    "\n"
   ],
   "metadata": {
    "collapsed": false,
    "ExecuteTime": {
     "end_time": "2024-09-15T05:27:22.274166600Z",
     "start_time": "2024-09-15T05:27:22.009029800Z"
    }
   },
   "id": "5e1a23121741a5a0"
  },
  {
   "cell_type": "code",
   "execution_count": 52,
   "outputs": [],
   "source": [],
   "metadata": {
    "collapsed": false,
    "ExecuteTime": {
     "end_time": "2024-09-15T05:27:22.277696800Z",
     "start_time": "2024-09-15T05:27:22.274166600Z"
    }
   },
   "id": "bd57637997f3df4b"
  }
 ],
 "metadata": {
  "kernelspec": {
   "display_name": "Python 3",
   "language": "python",
   "name": "python3"
  },
  "language_info": {
   "codemirror_mode": {
    "name": "ipython",
    "version": 2
   },
   "file_extension": ".py",
   "mimetype": "text/x-python",
   "name": "python",
   "nbconvert_exporter": "python",
   "pygments_lexer": "ipython2",
   "version": "2.7.6"
  }
 },
 "nbformat": 4,
 "nbformat_minor": 5
}

{
 "cells": [
  {
   "cell_type": "code",
   "execution_count": null,
   "id": "initial_id",
   "metadata": {
    "collapsed": true,
    "ExecuteTime": {
     "end_time": "2024-10-30T04:55:59.736476500Z",
     "start_time": "2024-10-30T04:55:59.545211300Z"
    }
   },
   "outputs": [],
   "source": []
  },
  {
   "cell_type": "code",
   "execution_count": 12,
   "id": "b3bf4e2f337876d0",
   "metadata": {
    "ExecuteTime": {
     "end_time": "2024-11-01T18:16:06.930515200Z",
     "start_time": "2024-11-01T18:16:06.923689100Z"
    }
   },
   "outputs": [],
   "source": [
    "import numpy as np\n",
    "from Metaheuristicas.fitness_functions import mutual_information_eval\n",
    "from Metaheuristicas.fitness_functions import relieff_eval\n",
    "from Metaheuristicas.fitness_functions import chi2_eval"
   ]
  },
  {
   "cell_type": "code",
   "execution_count": 10,
   "id": "1af9109ecff68ec5",
   "metadata": {
    "ExecuteTime": {
     "end_time": "2024-11-01T18:16:02.750383200Z",
     "start_time": "2024-11-01T18:15:59.357868500Z"
    }
   },
   "outputs": [],
   "source": [
    "from Metaheuristicas.fitness_functions import load_and_preprocess_data\n",
    "\n",
    "X, y = load_and_preprocess_data()\n",
    "\n"
   ]
  },
  {
   "cell_type": "code",
   "execution_count": 11,
   "id": "1336b716ae1981a3",
   "metadata": {
    "ExecuteTime": {
     "end_time": "2024-11-01T18:16:05.244412200Z",
     "start_time": "2024-11-01T18:16:05.236734200Z"
    }
   },
   "outputs": [],
   "source": [
    "Mutual_Information = []\n",
    "Chi2 = []\n",
    "ReliefF = []"
   ]
  },
  {
   "cell_type": "markdown",
   "id": "b76d21b8a0f0ec3e",
   "metadata": {},
   "source": [
    "### ABACORun"
   ]
  },
  {
   "cell_type": "code",
   "execution_count": 4,
   "id": "7562491832f67eae",
   "metadata": {
    "ExecuteTime": {
     "end_time": "2024-10-30T04:56:06.357737300Z",
     "start_time": "2024-10-30T04:56:06.220239200Z"
    }
   },
   "outputs": [],
   "source": [
    "from Metaheuristicas.Ant_Colony_Optimization import AdvancedBinaryAntColonyOptimization\n",
    "aco = AdvancedBinaryAntColonyOptimization(n_ants=20, n_best=1, n_iterations=10, decay=0.6, alpha=1, beta=2,\n",
    "                                          local_search_prob=0.15)"
   ]
  },
  {
   "cell_type": "code",
   "execution_count": 5,
   "id": "da5680f741045227",
   "metadata": {
    "ExecuteTime": {
     "end_time": "2024-10-30T10:42:48.512385Z",
     "start_time": "2024-10-30T04:56:06.360662400Z"
    }
   },
   "outputs": [],
   "source": [
    "\n",
    "for i in range(500,1000,50):\n",
    "    aco = AdvancedBinaryAntColonyOptimization(n_ants=20, n_best=1, n_iterations=i, decay=0.6, alpha=1, beta=2,\n",
    "                                          local_search_prob=0.15)\n",
    "    best_solution, best_fitness = aco.fit(X.values, y.values, fitness_function=mutual_information_eval)\n",
    "\n",
    "    selected_features = X.columns[best_solution.astype(bool)].tolist()\n",
    "    Mutual_Information.append([selected_features, best_fitness, i])\n",
    "\n",
    "    "
   ]
  },
  {
   "cell_type": "code",
   "execution_count": 9,
   "outputs": [],
   "source": [
    "\n",
    "    "
   ],
   "metadata": {
    "collapsed": false
   },
   "id": "bfe3c6feb34aff5e"
  },
  {
   "cell_type": "code",
   "execution_count": 6,
   "id": "b56caa9cef4f0ec9",
   "metadata": {
    "ExecuteTime": {
     "end_time": "2024-10-30T13:20:05.707424100Z",
     "start_time": "2024-10-30T10:42:48.517206Z"
    }
   },
   "outputs": [],
   "source": [
    "for i in range(500,1000,50):\n",
    "    aco = AdvancedBinaryAntColonyOptimization(n_ants=20, n_best=1, n_iterations=i, decay=0.6, alpha=1, beta=2,\n",
    "                                          local_search_prob=0.15)\n",
    "    best_solution, best_fitness = aco.fit(X.values, y.values, fitness_function=chi2_eval)\n",
    "\n",
    "    selected_features = X.columns[best_solution.astype(bool)].tolist()\n",
    "    Chi2.append([selected_features, best_fitness, i])"
   ]
  },
  {
   "cell_type": "code",
   "execution_count": 7,
   "id": "905b520c0f36354a",
   "metadata": {
    "ExecuteTime": {
     "end_time": "2024-10-30T14:17:14.276712900Z",
     "start_time": "2024-10-30T13:20:05.714600600Z"
    }
   },
   "outputs": [
    {
     "ename": "KeyboardInterrupt",
     "evalue": "",
     "output_type": "error",
     "traceback": [
      "\u001B[1;31m---------------------------------------------------------------------------\u001B[0m",
      "\u001B[1;31mKeyboardInterrupt\u001B[0m                         Traceback (most recent call last)",
      "Cell \u001B[1;32mIn[7], line 4\u001B[0m\n\u001B[0;32m      1\u001B[0m \u001B[38;5;28;01mfor\u001B[39;00m i \u001B[38;5;129;01min\u001B[39;00m \u001B[38;5;28mrange\u001B[39m(\u001B[38;5;241m500\u001B[39m,\u001B[38;5;241m1000\u001B[39m,\u001B[38;5;241m50\u001B[39m):\n\u001B[0;32m      2\u001B[0m     aco \u001B[38;5;241m=\u001B[39m AdvancedBinaryAntColonyOptimization(n_ants\u001B[38;5;241m=\u001B[39m\u001B[38;5;241m20\u001B[39m, n_best\u001B[38;5;241m=\u001B[39m\u001B[38;5;241m1\u001B[39m, n_iterations\u001B[38;5;241m=\u001B[39mi, decay\u001B[38;5;241m=\u001B[39m\u001B[38;5;241m0.6\u001B[39m, alpha\u001B[38;5;241m=\u001B[39m\u001B[38;5;241m1\u001B[39m, beta\u001B[38;5;241m=\u001B[39m\u001B[38;5;241m2\u001B[39m,\n\u001B[0;32m      3\u001B[0m                                           local_search_prob\u001B[38;5;241m=\u001B[39m\u001B[38;5;241m0.15\u001B[39m)\n\u001B[1;32m----> 4\u001B[0m     best_solution, best_fitness \u001B[38;5;241m=\u001B[39m \u001B[43maco\u001B[49m\u001B[38;5;241;43m.\u001B[39;49m\u001B[43mfit\u001B[49m\u001B[43m(\u001B[49m\u001B[43mX\u001B[49m\u001B[38;5;241;43m.\u001B[39;49m\u001B[43mvalues\u001B[49m\u001B[43m,\u001B[49m\u001B[43m \u001B[49m\u001B[43my\u001B[49m\u001B[38;5;241;43m.\u001B[39;49m\u001B[43mvalues\u001B[49m\u001B[43m,\u001B[49m\u001B[43m \u001B[49m\u001B[43mfitness_function\u001B[49m\u001B[38;5;241;43m=\u001B[39;49m\u001B[43mrelieff_eval\u001B[49m\u001B[43m)\u001B[49m\n\u001B[0;32m      6\u001B[0m     selected_features \u001B[38;5;241m=\u001B[39m X\u001B[38;5;241m.\u001B[39mcolumns[best_solution\u001B[38;5;241m.\u001B[39mastype(\u001B[38;5;28mbool\u001B[39m)]\u001B[38;5;241m.\u001B[39mtolist()\n\u001B[0;32m      7\u001B[0m     ReliefF\u001B[38;5;241m.\u001B[39mappend([selected_features, best_fitness, i])\n",
      "File \u001B[1;32m~\\PycharmProjects\\Tesis\\Metaheuristicas\\Ant_Colony_Optimization.py:86\u001B[0m, in \u001B[0;36mAdvancedBinaryAntColonyOptimization.fit\u001B[1;34m(self, X, y, fitness_function)\u001B[0m\n\u001B[0;32m     83\u001B[0m         fitness \u001B[38;5;241m=\u001B[39m fitness_function(selected_features, X, y)\n\u001B[0;32m     85\u001B[0m         \u001B[38;5;28;01mif\u001B[39;00m np\u001B[38;5;241m.\u001B[39mrandom\u001B[38;5;241m.\u001B[39mrand() \u001B[38;5;241m<\u001B[39m \u001B[38;5;28mself\u001B[39m\u001B[38;5;241m.\u001B[39mlocal_search_prob:\n\u001B[1;32m---> 86\u001B[0m             selected_features, fitness \u001B[38;5;241m=\u001B[39m \u001B[38;5;28;43mself\u001B[39;49m\u001B[38;5;241;43m.\u001B[39;49m\u001B[43m_local_search\u001B[49m\u001B[43m(\u001B[49m\u001B[43mselected_features\u001B[49m\u001B[43m,\u001B[49m\u001B[43m \u001B[49m\u001B[43mX\u001B[49m\u001B[43m,\u001B[49m\u001B[43m \u001B[49m\u001B[43my\u001B[49m\u001B[43m,\u001B[49m\u001B[43m \u001B[49m\u001B[43mfitness_function\u001B[49m\u001B[43m)\u001B[49m\n\u001B[0;32m     88\u001B[0m         fitness_values\u001B[38;5;241m.\u001B[39mappend(fitness)\n\u001B[0;32m     90\u001B[0m \u001B[38;5;66;03m# Ensure enough solutions were generated\u001B[39;00m\n",
      "File \u001B[1;32m~\\PycharmProjects\\Tesis\\Metaheuristicas\\Ant_Colony_Optimization.py:35\u001B[0m, in \u001B[0;36mAdvancedBinaryAntColonyOptimization._local_search\u001B[1;34m(self, solution, X, y, fitness_function)\u001B[0m\n\u001B[0;32m     33\u001B[0m flip_idx \u001B[38;5;241m=\u001B[39m np\u001B[38;5;241m.\u001B[39mrandom\u001B[38;5;241m.\u001B[39mrandint(\u001B[38;5;28mlen\u001B[39m(solution))\n\u001B[0;32m     34\u001B[0m new_solution[flip_idx] \u001B[38;5;241m=\u001B[39m \u001B[38;5;241m1\u001B[39m \u001B[38;5;241m-\u001B[39m new_solution[flip_idx]  \u001B[38;5;66;03m# Flip 0 to 1 or 1 to 0\u001B[39;00m\n\u001B[1;32m---> 35\u001B[0m new_fitness \u001B[38;5;241m=\u001B[39m \u001B[43mfitness_function\u001B[49m\u001B[43m(\u001B[49m\u001B[43mnew_solution\u001B[49m\u001B[43m,\u001B[49m\u001B[43m \u001B[49m\u001B[43mX\u001B[49m\u001B[43m,\u001B[49m\u001B[43m \u001B[49m\u001B[43my\u001B[49m\u001B[43m)\u001B[49m\n\u001B[0;32m     36\u001B[0m \u001B[38;5;28;01mreturn\u001B[39;00m new_solution, new_fitness\n",
      "File \u001B[1;32m~\\PycharmProjects\\Tesis\\Metaheuristicas\\fitness_functions.py:68\u001B[0m, in \u001B[0;36mrelieff_eval\u001B[1;34m(solution, data, labels, n_neighbors)\u001B[0m\n\u001B[0;32m     65\u001B[0m nn \u001B[38;5;241m=\u001B[39m NearestNeighbors(n_neighbors\u001B[38;5;241m=\u001B[39mn_neighbors \u001B[38;5;241m+\u001B[39m \u001B[38;5;241m1\u001B[39m)\u001B[38;5;241m.\u001B[39mfit(selected_features)\n\u001B[0;32m     67\u001B[0m \u001B[38;5;66;03m# Find nearest neighbors for all samples at once\u001B[39;00m\n\u001B[1;32m---> 68\u001B[0m distances, indices \u001B[38;5;241m=\u001B[39m \u001B[43mnn\u001B[49m\u001B[38;5;241;43m.\u001B[39;49m\u001B[43mkneighbors\u001B[49m\u001B[43m(\u001B[49m\u001B[43mselected_features\u001B[49m\u001B[43m)\u001B[49m\n\u001B[0;32m     70\u001B[0m \u001B[38;5;66;03m# Initialize the score array\u001B[39;00m\n\u001B[0;32m     71\u001B[0m scores \u001B[38;5;241m=\u001B[39m np\u001B[38;5;241m.\u001B[39mzeros(n_features)\n",
      "File \u001B[1;32mC:\\Python311\\Lib\\site-packages\\sklearn\\neighbors\\_base.py:850\u001B[0m, in \u001B[0;36mKNeighborsMixin.kneighbors\u001B[1;34m(self, X, n_neighbors, return_distance)\u001B[0m\n\u001B[0;32m    843\u001B[0m use_pairwise_distances_reductions \u001B[38;5;241m=\u001B[39m (\n\u001B[0;32m    844\u001B[0m     \u001B[38;5;28mself\u001B[39m\u001B[38;5;241m.\u001B[39m_fit_method \u001B[38;5;241m==\u001B[39m \u001B[38;5;124m\"\u001B[39m\u001B[38;5;124mbrute\u001B[39m\u001B[38;5;124m\"\u001B[39m\n\u001B[0;32m    845\u001B[0m     \u001B[38;5;129;01mand\u001B[39;00m ArgKmin\u001B[38;5;241m.\u001B[39mis_usable_for(\n\u001B[0;32m    846\u001B[0m         X \u001B[38;5;28;01mif\u001B[39;00m X \u001B[38;5;129;01mis\u001B[39;00m \u001B[38;5;129;01mnot\u001B[39;00m \u001B[38;5;28;01mNone\u001B[39;00m \u001B[38;5;28;01melse\u001B[39;00m \u001B[38;5;28mself\u001B[39m\u001B[38;5;241m.\u001B[39m_fit_X, \u001B[38;5;28mself\u001B[39m\u001B[38;5;241m.\u001B[39m_fit_X, \u001B[38;5;28mself\u001B[39m\u001B[38;5;241m.\u001B[39meffective_metric_\n\u001B[0;32m    847\u001B[0m     )\n\u001B[0;32m    848\u001B[0m )\n\u001B[0;32m    849\u001B[0m \u001B[38;5;28;01mif\u001B[39;00m use_pairwise_distances_reductions:\n\u001B[1;32m--> 850\u001B[0m     results \u001B[38;5;241m=\u001B[39m \u001B[43mArgKmin\u001B[49m\u001B[38;5;241;43m.\u001B[39;49m\u001B[43mcompute\u001B[49m\u001B[43m(\u001B[49m\n\u001B[0;32m    851\u001B[0m \u001B[43m        \u001B[49m\u001B[43mX\u001B[49m\u001B[38;5;241;43m=\u001B[39;49m\u001B[43mX\u001B[49m\u001B[43m,\u001B[49m\n\u001B[0;32m    852\u001B[0m \u001B[43m        \u001B[49m\u001B[43mY\u001B[49m\u001B[38;5;241;43m=\u001B[39;49m\u001B[38;5;28;43mself\u001B[39;49m\u001B[38;5;241;43m.\u001B[39;49m\u001B[43m_fit_X\u001B[49m\u001B[43m,\u001B[49m\n\u001B[0;32m    853\u001B[0m \u001B[43m        \u001B[49m\u001B[43mk\u001B[49m\u001B[38;5;241;43m=\u001B[39;49m\u001B[43mn_neighbors\u001B[49m\u001B[43m,\u001B[49m\n\u001B[0;32m    854\u001B[0m \u001B[43m        \u001B[49m\u001B[43mmetric\u001B[49m\u001B[38;5;241;43m=\u001B[39;49m\u001B[38;5;28;43mself\u001B[39;49m\u001B[38;5;241;43m.\u001B[39;49m\u001B[43meffective_metric_\u001B[49m\u001B[43m,\u001B[49m\n\u001B[0;32m    855\u001B[0m \u001B[43m        \u001B[49m\u001B[43mmetric_kwargs\u001B[49m\u001B[38;5;241;43m=\u001B[39;49m\u001B[38;5;28;43mself\u001B[39;49m\u001B[38;5;241;43m.\u001B[39;49m\u001B[43meffective_metric_params_\u001B[49m\u001B[43m,\u001B[49m\n\u001B[0;32m    856\u001B[0m \u001B[43m        \u001B[49m\u001B[43mstrategy\u001B[49m\u001B[38;5;241;43m=\u001B[39;49m\u001B[38;5;124;43m\"\u001B[39;49m\u001B[38;5;124;43mauto\u001B[39;49m\u001B[38;5;124;43m\"\u001B[39;49m\u001B[43m,\u001B[49m\n\u001B[0;32m    857\u001B[0m \u001B[43m        \u001B[49m\u001B[43mreturn_distance\u001B[49m\u001B[38;5;241;43m=\u001B[39;49m\u001B[43mreturn_distance\u001B[49m\u001B[43m,\u001B[49m\n\u001B[0;32m    858\u001B[0m \u001B[43m    \u001B[49m\u001B[43m)\u001B[49m\n\u001B[0;32m    860\u001B[0m \u001B[38;5;28;01melif\u001B[39;00m (\n\u001B[0;32m    861\u001B[0m     \u001B[38;5;28mself\u001B[39m\u001B[38;5;241m.\u001B[39m_fit_method \u001B[38;5;241m==\u001B[39m \u001B[38;5;124m\"\u001B[39m\u001B[38;5;124mbrute\u001B[39m\u001B[38;5;124m\"\u001B[39m \u001B[38;5;129;01mand\u001B[39;00m \u001B[38;5;28mself\u001B[39m\u001B[38;5;241m.\u001B[39mmetric \u001B[38;5;241m==\u001B[39m \u001B[38;5;124m\"\u001B[39m\u001B[38;5;124mprecomputed\u001B[39m\u001B[38;5;124m\"\u001B[39m \u001B[38;5;129;01mand\u001B[39;00m issparse(X)\n\u001B[0;32m    862\u001B[0m ):\n\u001B[0;32m    863\u001B[0m     results \u001B[38;5;241m=\u001B[39m _kneighbors_from_graph(\n\u001B[0;32m    864\u001B[0m         X, n_neighbors\u001B[38;5;241m=\u001B[39mn_neighbors, return_distance\u001B[38;5;241m=\u001B[39mreturn_distance\n\u001B[0;32m    865\u001B[0m     )\n",
      "File \u001B[1;32mC:\\Python311\\Lib\\site-packages\\sklearn\\metrics\\_pairwise_distances_reduction\\_dispatcher.py:278\u001B[0m, in \u001B[0;36mArgKmin.compute\u001B[1;34m(cls, X, Y, k, metric, chunk_size, metric_kwargs, strategy, return_distance)\u001B[0m\n\u001B[0;32m    197\u001B[0m \u001B[38;5;250m\u001B[39m\u001B[38;5;124;03m\"\"\"Compute the argkmin reduction.\u001B[39;00m\n\u001B[0;32m    198\u001B[0m \n\u001B[0;32m    199\u001B[0m \u001B[38;5;124;03mParameters\u001B[39;00m\n\u001B[1;32m   (...)\u001B[0m\n\u001B[0;32m    275\u001B[0m \u001B[38;5;124;03mreturns.\u001B[39;00m\n\u001B[0;32m    276\u001B[0m \u001B[38;5;124;03m\"\"\"\u001B[39;00m\n\u001B[0;32m    277\u001B[0m \u001B[38;5;28;01mif\u001B[39;00m X\u001B[38;5;241m.\u001B[39mdtype \u001B[38;5;241m==\u001B[39m Y\u001B[38;5;241m.\u001B[39mdtype \u001B[38;5;241m==\u001B[39m np\u001B[38;5;241m.\u001B[39mfloat64:\n\u001B[1;32m--> 278\u001B[0m     \u001B[38;5;28;01mreturn\u001B[39;00m \u001B[43mArgKmin64\u001B[49m\u001B[38;5;241;43m.\u001B[39;49m\u001B[43mcompute\u001B[49m\u001B[43m(\u001B[49m\n\u001B[0;32m    279\u001B[0m \u001B[43m        \u001B[49m\u001B[43mX\u001B[49m\u001B[38;5;241;43m=\u001B[39;49m\u001B[43mX\u001B[49m\u001B[43m,\u001B[49m\n\u001B[0;32m    280\u001B[0m \u001B[43m        \u001B[49m\u001B[43mY\u001B[49m\u001B[38;5;241;43m=\u001B[39;49m\u001B[43mY\u001B[49m\u001B[43m,\u001B[49m\n\u001B[0;32m    281\u001B[0m \u001B[43m        \u001B[49m\u001B[43mk\u001B[49m\u001B[38;5;241;43m=\u001B[39;49m\u001B[43mk\u001B[49m\u001B[43m,\u001B[49m\n\u001B[0;32m    282\u001B[0m \u001B[43m        \u001B[49m\u001B[43mmetric\u001B[49m\u001B[38;5;241;43m=\u001B[39;49m\u001B[43mmetric\u001B[49m\u001B[43m,\u001B[49m\n\u001B[0;32m    283\u001B[0m \u001B[43m        \u001B[49m\u001B[43mchunk_size\u001B[49m\u001B[38;5;241;43m=\u001B[39;49m\u001B[43mchunk_size\u001B[49m\u001B[43m,\u001B[49m\n\u001B[0;32m    284\u001B[0m \u001B[43m        \u001B[49m\u001B[43mmetric_kwargs\u001B[49m\u001B[38;5;241;43m=\u001B[39;49m\u001B[43mmetric_kwargs\u001B[49m\u001B[43m,\u001B[49m\n\u001B[0;32m    285\u001B[0m \u001B[43m        \u001B[49m\u001B[43mstrategy\u001B[49m\u001B[38;5;241;43m=\u001B[39;49m\u001B[43mstrategy\u001B[49m\u001B[43m,\u001B[49m\n\u001B[0;32m    286\u001B[0m \u001B[43m        \u001B[49m\u001B[43mreturn_distance\u001B[49m\u001B[38;5;241;43m=\u001B[39;49m\u001B[43mreturn_distance\u001B[49m\u001B[43m,\u001B[49m\n\u001B[0;32m    287\u001B[0m \u001B[43m    \u001B[49m\u001B[43m)\u001B[49m\n\u001B[0;32m    289\u001B[0m \u001B[38;5;28;01mif\u001B[39;00m X\u001B[38;5;241m.\u001B[39mdtype \u001B[38;5;241m==\u001B[39m Y\u001B[38;5;241m.\u001B[39mdtype \u001B[38;5;241m==\u001B[39m np\u001B[38;5;241m.\u001B[39mfloat32:\n\u001B[0;32m    290\u001B[0m     \u001B[38;5;28;01mreturn\u001B[39;00m ArgKmin32\u001B[38;5;241m.\u001B[39mcompute(\n\u001B[0;32m    291\u001B[0m         X\u001B[38;5;241m=\u001B[39mX,\n\u001B[0;32m    292\u001B[0m         Y\u001B[38;5;241m=\u001B[39mY,\n\u001B[1;32m   (...)\u001B[0m\n\u001B[0;32m    298\u001B[0m         return_distance\u001B[38;5;241m=\u001B[39mreturn_distance,\n\u001B[0;32m    299\u001B[0m     )\n",
      "File \u001B[1;32msklearn\\\\metrics\\\\_pairwise_distances_reduction\\\\_argkmin.pyx:90\u001B[0m, in \u001B[0;36msklearn.metrics._pairwise_distances_reduction._argkmin.ArgKmin64.compute\u001B[1;34m()\u001B[0m\n",
      "File \u001B[1;32mC:\\Python311\\Lib\\site-packages\\threadpoolctl.py:601\u001B[0m, in \u001B[0;36m_ThreadpoolLimiter.__exit__\u001B[1;34m(self, type, value, traceback)\u001B[0m\n\u001B[0;32m    598\u001B[0m \u001B[38;5;28;01mdef\u001B[39;00m \u001B[38;5;21m__enter__\u001B[39m(\u001B[38;5;28mself\u001B[39m):\n\u001B[0;32m    599\u001B[0m     \u001B[38;5;28;01mreturn\u001B[39;00m \u001B[38;5;28mself\u001B[39m\n\u001B[1;32m--> 601\u001B[0m \u001B[38;5;28;01mdef\u001B[39;00m \u001B[38;5;21m__exit__\u001B[39m(\u001B[38;5;28mself\u001B[39m, \u001B[38;5;28mtype\u001B[39m, value, traceback):\n\u001B[0;32m    602\u001B[0m     \u001B[38;5;28mself\u001B[39m\u001B[38;5;241m.\u001B[39mrestore_original_limits()\n\u001B[0;32m    604\u001B[0m \u001B[38;5;129m@classmethod\u001B[39m\n\u001B[0;32m    605\u001B[0m \u001B[38;5;28;01mdef\u001B[39;00m \u001B[38;5;21mwrap\u001B[39m(\u001B[38;5;28mcls\u001B[39m, controller, \u001B[38;5;241m*\u001B[39m, limits\u001B[38;5;241m=\u001B[39m\u001B[38;5;28;01mNone\u001B[39;00m, user_api\u001B[38;5;241m=\u001B[39m\u001B[38;5;28;01mNone\u001B[39;00m):\n",
      "\u001B[1;31mKeyboardInterrupt\u001B[0m: "
     ]
    }
   ],
   "source": [
    "for i in range(500,1000,50):\n",
    "    aco = AdvancedBinaryAntColonyOptimization(n_ants=20, n_best=1, n_iterations=i, decay=0.6, alpha=1, beta=2,\n",
    "                                          local_search_prob=0.15)\n",
    "    best_solution, best_fitness = aco.fit(X.values, y.values, fitness_function=relieff_eval)\n",
    "\n",
    "    selected_features = X.columns[best_solution.astype(bool)].tolist()\n",
    "    ReliefF.append([selected_features, best_fitness, i])"
   ]
  },
  {
   "cell_type": "markdown",
   "source": [],
   "metadata": {
    "collapsed": false
   },
   "id": "b21e782a6018fcbd"
  },
  {
   "cell_type": "code",
   "outputs": [],
   "source": [
    "# # save the results\n",
    "import pickle\n",
    "# with open('SAMutual_Information.pkl', 'wb') as f:\n",
    "#     pickle.dump(Mutual_Information, f)\n",
    "# with open('SAChi2.pkl', 'wb') as f:\n",
    "#     pickle.dump(Chi2, f)\n",
    "# with open('SAReliefF.pkl', 'wb') as f:\n",
    "#     pickle.dump(ReliefF, f)\n",
    "#     "
   ],
   "metadata": {
    "collapsed": false,
    "ExecuteTime": {
     "end_time": "2024-11-01T18:14:27.782249900Z",
     "start_time": "2024-11-01T18:14:27.779746600Z"
    }
   },
   "id": "8c7d5b305b9350b",
   "execution_count": 1
  },
  {
   "cell_type": "code",
   "execution_count": 3,
   "outputs": [],
   "source": [
    "#Open the pickle files\n",
    "with open('SAMutual_Information.pkl', 'rb') as f:\n",
    "    Mutual_Information = pickle.load(f)\n",
    "with open('SAChi2.pkl', 'rb') as f:\n",
    "    Chi2 = pickle.load(f)\n",
    "with open('SAReliefF.pkl', 'rb') as f:\n",
    "    ReliefF = pickle.load(f)\n",
    "    "
   ],
   "metadata": {
    "collapsed": false,
    "ExecuteTime": {
     "end_time": "2024-11-01T18:15:39.447758100Z",
     "start_time": "2024-11-01T18:15:39.308048100Z"
    }
   },
   "id": "c873e89f05f1e0bd"
  },
  {
   "cell_type": "code",
   "execution_count": 4,
   "id": "957e85cdae236b09",
   "metadata": {
    "ExecuteTime": {
     "end_time": "2024-11-01T18:15:39.726471600Z",
     "start_time": "2024-11-01T18:15:39.313451900Z"
    }
   },
   "outputs": [],
   "source": [
    "#sort the results with the best fitness for each method\n",
    "Mutual_Information.sort(key=lambda x: x[1], reverse=True)\n",
    "Chi2.sort(key=lambda x: x[1], reverse=True)\n",
    "ReliefF.sort(key=lambda x: x[1], reverse=True)"
   ]
  },
  {
   "cell_type": "code",
   "execution_count": 5,
   "id": "61b1eb234ac40143",
   "metadata": {
    "ExecuteTime": {
     "end_time": "2024-11-01T18:15:39.726471600Z",
     "start_time": "2024-11-01T18:15:39.384790800Z"
    }
   },
   "outputs": [
    {
     "name": "stdout",
     "output_type": "stream",
     "text": [
      "Mutual Information:  1.5271760813784139 500\n",
      "Mutual Information:  1.49945048055203 600\n",
      "Mutual Information:  1.499011232127703 700\n",
      "Mutual Information:  1.4899771054964566 650\n",
      "Mutual Information:  1.477326159696037 800\n",
      "Mutual Information:  1.4722318644557535 750\n",
      "Mutual Information:  1.4485460377389807 850\n",
      "Mutual Information:  1.4409957146296692 950\n",
      "Mutual Information:  1.438572929424334 900\n",
      "Mutual Information:  1.4024849611153531 550\n"
     ]
    }
   ],
   "source": [
    "#print all the scores in mutual information and the number of generations\n",
    "for i in Mutual_Information:\n",
    "    print(\"Mutual Information: \",i[1], i[2])"
   ]
  },
  {
   "cell_type": "code",
   "execution_count": 6,
   "id": "3354fa794bb2198c",
   "metadata": {
    "ExecuteTime": {
     "end_time": "2024-11-01T18:15:39.726471600Z",
     "start_time": "2024-11-01T18:15:39.518448400Z"
    }
   },
   "outputs": [
    {
     "name": "stdout",
     "output_type": "stream",
     "text": [
      "Mutual Information: \n",
      " [['f7_t_time2peak', 'f13_t_PeaksAboveRMSDensity_fun', 'f18_f_std', 'f22_f_multiscaleEntropy', 'f23_f_peak_1020_value', 'f26_f_peak_2030_pos', 'f30_f_PeaksAboveRMSDensity_fun', 'f36_w_f_maxval_D1', 'f37_w_f_maxval_D2', 'f39_w_f_maxval_D4', 'f40_w_f_maxval_D5', 'f44_w_f_maxpos_D3', 'f50_w_f_mean_D2', 'f60_w_t_PEC_D4', 'f61_w_t_PEC_D5', 'f64_w_t_rms_D1', 'f65_w_t_rms_D2', 'f71_w_t_peak2peak_D1', 'f72_w_t_peak2peak_D2', 'f75_w_t_peak2peak_D5'], 1.5271760813784139, 500]\n",
      "Chi2: \n",
      " [['f12_t_zcr', 'f13_t_PeaksAboveRMSDensity_fun', 'f14_f_peaks_pos_1', 'f16_f_entropy', 'f20_f_energy', 'f23_f_peak_1020_value', 'f25_f_peak_2030_value', 'f30_f_PeaksAboveRMSDensity_fun', 'f31_f_peaks_val_2', 'f44_w_f_maxpos_D3', 'f58_w_t_PEC_D2', 'f59_w_t_PEC_D3', 'f60_w_t_PEC_D4', 'f62_w_t_PEC_D6', 'f65_w_t_rms_D2', 'f66_w_t_rms_D3', 'f69_w_t_rms_D6', 'f72_w_t_peak2peak_D2', 'f75_w_t_peak2peak_D5', 'f81_w_t_peak2rms_D4'], 16.794725836910157, 850]\n",
      "ReliefF: \n",
      " [['f3_t_var', 'f4_t_entropy', 'f10_t_peak2rms', 'f11_t_energy', 'f13_t_PeaksAboveRMSDensity_fun', 'f16_f_entropy', 'f20_f_energy', 'f50_w_f_mean_D2', 'f51_w_f_mean_D3', 'f55_w_t_meanEnergyAD', 'f56_w_t_PEC_A6', 'f57_w_t_PEC_D1', 'f61_w_t_PEC_D5', 'f62_w_t_PEC_D6', 'f67_w_t_rms_D4', 'f68_w_t_rms_D5', 'f70_w_t_peak2peak_A6', 'f71_w_t_peak2peak_D1', 'f80_w_t_peak2rms_D3', 'f84_w_t_meanEnergyCoeff'], -0.322840095578496, 550]\n"
     ]
    }
   ],
   "source": [
    "print(\"Mutual Information: \\n\",Mutual_Information[0])\n",
    "print(\"Chi2: \\n\",Chi2[0])\n",
    "print(\"ReliefF: \\n\",ReliefF[0])"
   ]
  },
  {
   "cell_type": "code",
   "execution_count": 7,
   "id": "8f667e9942bff411",
   "metadata": {
    "ExecuteTime": {
     "end_time": "2024-11-01T18:15:39.726471600Z",
     "start_time": "2024-11-01T18:15:39.531157200Z"
    }
   },
   "outputs": [
    {
     "name": "stdout",
     "output_type": "stream",
     "text": [
      "Mutual Information: \n",
      " 20\n",
      "Chi2: \n",
      " 20\n",
      "ReliefF: \n",
      " 20\n"
     ]
    }
   ],
   "source": [
    "print(\"Mutual Information: \\n\",len(Mutual_Information[0][0]))\n",
    "print(\"Chi2: \\n\",len(Chi2[0][0]))\n",
    "print(\"ReliefF: \\n\",len(ReliefF[0][0]))"
   ]
  },
  {
   "cell_type": "code",
   "execution_count": 8,
   "id": "5f44bc0fb64a3885",
   "metadata": {
    "ExecuteTime": {
     "end_time": "2024-11-01T18:15:44.018292400Z",
     "start_time": "2024-11-01T18:15:39.598061200Z"
    }
   },
   "outputs": [],
   "source": [
    "from sklearn.metrics import accuracy_score, precision_score, recall_score, f1_score, roc_auc_score\n",
    "from sklearn.naive_bayes import GaussianNB\n",
    "from sklearn.model_selection import train_test_split\n"
   ]
  },
  {
   "cell_type": "code",
   "execution_count": 13,
   "id": "94b4ccb6e9d66db4",
   "metadata": {
    "ExecuteTime": {
     "end_time": "2024-11-01T18:16:14.698529800Z",
     "start_time": "2024-11-01T18:16:14.578424500Z"
    }
   },
   "outputs": [],
   "source": [
    "\n",
    "\n",
    "#Naive Bayes classifier with all features\n",
    "\n",
    "cmodel = GaussianNB()\n",
    "X_train, X_test, y_train, y_test = train_test_split(X, y, test_size=0.2, random_state=42)\n",
    "cmodel.fit(X_train, y_train)\n",
    "y_pred = cmodel.predict(X_test)\n",
    "y_pred_proba = cmodel.predict_proba(X_test)[:, 1]  # Probability estimates for AUC\n",
    "\n",
    "accuracy = accuracy_score(y_test, y_pred)\n",
    "precision = precision_score(y_test, y_pred)\n",
    "recall = recall_score(y_test, y_pred)\n",
    "f1 = f1_score(y_test, y_pred)\n",
    "auc = roc_auc_score(y_test, y_pred_proba)"
   ]
  },
  {
   "cell_type": "code",
   "execution_count": 14,
   "id": "e1bf30a2a6f0e7ab",
   "metadata": {
    "ExecuteTime": {
     "end_time": "2024-11-01T18:16:14.854304400Z",
     "start_time": "2024-11-01T18:16:14.594047400Z"
    }
   },
   "outputs": [
    {
     "name": "stdout",
     "output_type": "stream",
     "text": [
      "Accuracy:  0.9432314410480349\n",
      "Precision:  0.6086956521739131\n",
      "Recall:  0.7777777777777778\n",
      "F1:  0.6829268292682927\n",
      "AUC:  0.9462875197472354\n"
     ]
    }
   ],
   "source": [
    "print(\"Accuracy: \", accuracy)\n",
    "print(\"Precision: \", precision)\n",
    "print(\"Recall: \", recall)\n",
    "print(\"F1: \", f1)\n",
    "print(\"AUC: \", auc)\n"
   ]
  },
  {
   "cell_type": "code",
   "execution_count": 15,
   "id": "cc4b93a7113ac1c9",
   "metadata": {
    "ExecuteTime": {
     "end_time": "2024-11-01T18:16:15.048555100Z",
     "start_time": "2024-11-01T18:16:14.847379800Z"
    }
   },
   "outputs": [
    {
     "name": "stdout",
     "output_type": "stream",
     "text": [
      "Accuracy:  0.9432314410480349\n",
      "Precision:  0.6086956521739131\n",
      "Recall:  0.7777777777777778\n",
      "F1:  0.6829268292682927\n",
      "AUC:  0.9462875197472354\n"
     ]
    }
   ],
   "source": [
    "print(\"Accuracy: \", accuracy)\n",
    "print(\"Precision: \", precision)\n",
    "print(\"Recall: \", recall)\n",
    "print(\"F1: \", f1)\n",
    "print(\"AUC: \", auc)"
   ]
  },
  {
   "cell_type": "code",
   "execution_count": 16,
   "id": "9877d885f3685198",
   "metadata": {
    "ExecuteTime": {
     "end_time": "2024-11-01T18:16:15.246725800Z",
     "start_time": "2024-11-01T18:16:15.048382600Z"
    }
   },
   "outputs": [
    {
     "name": "stdout",
     "output_type": "stream",
     "text": [
      "Accuracy:  0.9432314410480349\n",
      "Precision:  0.6086956521739131\n",
      "Recall:  0.7777777777777778\n",
      "F1:  0.6829268292682927\n",
      "AUC:  0.9462875197472354\n"
     ]
    }
   ],
   "source": [
    "print(\"Accuracy: \", accuracy)\n",
    "print(\"Precision: \", precision)\n",
    "print(\"Recall: \", recall)\n",
    "print(\"F1: \", f1)\n",
    "print(\"AUC: \", auc)\n"
   ]
  },
  {
   "cell_type": "code",
   "execution_count": 17,
   "id": "8b225ca6053e3563",
   "metadata": {
    "ExecuteTime": {
     "end_time": "2024-11-01T18:16:15.514701200Z",
     "start_time": "2024-11-01T18:16:15.250112100Z"
    }
   },
   "outputs": [],
   "source": [
    "MI_Scores = []\n",
    "Chi_Scores = []\n",
    "ReliefF_Scores = []"
   ]
  },
  {
   "cell_type": "markdown",
   "id": "ad8d8a038949046a",
   "metadata": {},
   "source": [
    "### Naive Bayes with all scores of mutual information, chi2 and ReliefF"
   ]
  },
  {
   "cell_type": "code",
   "execution_count": 18,
   "id": "9e637221b876eab0",
   "metadata": {
    "ExecuteTime": {
     "end_time": "2024-11-01T18:16:15.718396500Z",
     "start_time": "2024-11-01T18:16:15.514701200Z"
    }
   },
   "outputs": [],
   "source": [
    "#Naive Bayes with all scores of mutual information\n",
    "for MI in Mutual_Information:\n",
    "    model = GaussianNB()\n",
    "    X_train, X_test, y_train, y_test = train_test_split(X[MI[0]], y, test_size=0.2, random_state=42)\n",
    "    cmodel.fit(X_train, y_train)\n",
    "    y_pred = cmodel.predict(X_test)\n",
    "    y_pred_proba = cmodel.predict_proba(X_test)[:, 1]  # Probability estimates for AUC\n",
    "    # # accuracy = accuracy_score(y_test, y_pred)\n",
    "    # # precision = precision_score(y_test, y_pred)\n",
    "    # # recall = recall_score(y_test, y_pred)\n",
    "    # # f1 = f1_score(y_test, y_pred)\n",
    "    auc = roc_auc_score(y_test, y_pred_proba)\n",
    "    MI_Scores.append([auc,MI[2]])"
   ]
  },
  {
   "cell_type": "code",
   "execution_count": 19,
   "id": "198b3d7c8ef35ebf",
   "metadata": {
    "ExecuteTime": {
     "end_time": "2024-11-01T18:16:15.790067600Z",
     "start_time": "2024-11-01T18:16:15.718396500Z"
    }
   },
   "outputs": [],
   "source": [
    "for Ch in Chi2:\n",
    "    model = GaussianNB()\n",
    "    X_train, X_test, y_train, y_test = train_test_split(X[Ch[0]], y, test_size=0.2, random_state=42)\n",
    "    cmodel.fit(X_train, y_train)\n",
    "    y_pred = cmodel.predict(X_test)\n",
    "    y_pred_proba = cmodel.predict_proba(X_test)[:, 1]  # Probability estimates for AUC\n",
    "    # # accuracy = accuracy_score(y_test, y_pred)\n",
    "    # # precision = precision_score(y_test, y_pred)\n",
    "    # # recall = recall_score(y_test, y_pred)\n",
    "    # # f1 = f1_score(y_test, y_pred)\n",
    "    auc = roc_auc_score(y_test, y_pred_proba)\n",
    "    Chi_Scores.append([auc,Ch[2]])"
   ]
  },
  {
   "cell_type": "code",
   "execution_count": 20,
   "id": "2eaa06ab9fa4dcab",
   "metadata": {
    "ExecuteTime": {
     "end_time": "2024-11-01T18:16:15.861698800Z",
     "start_time": "2024-11-01T18:16:15.790067600Z"
    }
   },
   "outputs": [],
   "source": [
    "for RF in ReliefF:\n",
    "    model = GaussianNB()\n",
    "    X_train, X_test, y_train, y_test = train_test_split(X[RF[0]], y, test_size=0.2, random_state=42)\n",
    "    cmodel.fit(X_train, y_train)\n",
    "    y_pred = cmodel.predict(X_test)\n",
    "    y_pred_proba = cmodel.predict_proba(X_test)[:, 1]  # Probability estimates for AUC\n",
    "    # # accuracy = accuracy_score(y_test, y_pred)\n",
    "    # # precision = precision_score(y_test, y_pred)\n",
    "    # # recall = recall_score(y_test, y_pred)\n",
    "    # # f1 = f1_score(y_test, y_pred)\n",
    "    auc = roc_auc_score(y_test, y_pred_proba)\n",
    "    ReliefF_Scores.append([auc,RF[2]])"
   ]
  },
  {
   "cell_type": "code",
   "execution_count": 20,
   "id": "db6fd7e948d37456",
   "metadata": {
    "ExecuteTime": {
     "end_time": "2024-11-01T18:16:15.865012800Z",
     "start_time": "2024-11-01T18:16:15.864503200Z"
    }
   },
   "outputs": [],
   "source": []
  },
  {
   "cell_type": "code",
   "execution_count": 21,
   "id": "7ea4eb6f4eb1d298",
   "metadata": {
    "ExecuteTime": {
     "end_time": "2024-11-01T18:16:15.939203900Z",
     "start_time": "2024-11-01T18:16:15.865012800Z"
    }
   },
   "outputs": [],
   "source": [
    "MI_Scores.sort(key=lambda x: x[0], reverse=True)\n",
    "Chi_Scores.sort(key=lambda x: x[0], reverse=True)\n",
    "ReliefF_Scores.sort(key=lambda x: x[0], reverse=True)"
   ]
  },
  {
   "cell_type": "code",
   "execution_count": 22,
   "id": "b311227e3c0dc359",
   "metadata": {
    "ExecuteTime": {
     "end_time": "2024-11-01T18:16:15.959084200Z",
     "start_time": "2024-11-01T18:16:15.940240300Z"
    }
   },
   "outputs": [],
   "source": [
    "for i in MI_Scores:\n",
    "    print(\"Mutual Information: \",i[0], i[1])"
   ]
  },
  {
   "cell_type": "code",
   "execution_count": 26,
   "id": "b0d0c8de1648489f",
   "metadata": {
    "ExecuteTime": {
     "end_time": "2024-11-01T18:16:43.543514900Z",
     "start_time": "2024-11-01T18:16:43.474506200Z"
    }
   },
   "outputs": [],
   "source": [
    "for i in Chi_Scores:\n",
    "    print(\"Chi2: \",i[0], i[1])"
   ]
  },
  {
   "cell_type": "code",
   "execution_count": 27,
   "id": "4fdefae0a7db9f40",
   "metadata": {
    "ExecuteTime": {
     "end_time": "2024-11-01T18:16:43.694896800Z",
     "start_time": "2024-11-01T18:16:43.487503200Z"
    }
   },
   "outputs": [],
   "source": [
    "for i in ReliefF_Scores:\n",
    "    print(\"ReliefF: \",i[0], i[1])"
   ]
  },
  {
   "cell_type": "markdown",
   "id": "eaf983f69c884bda",
   "metadata": {},
   "source": [
    "### Random Forest Classifier with all features"
   ]
  },
  {
   "cell_type": "code",
   "execution_count": 28,
   "id": "fd04af0d3a684dce",
   "metadata": {
    "ExecuteTime": {
     "end_time": "2024-11-01T18:16:44.568957Z",
     "start_time": "2024-11-01T18:16:43.559849700Z"
    }
   },
   "outputs": [],
   "source": [
    "from sklearn.ensemble import RandomForestClassifier\n",
    "random_forest = RandomForestClassifier(n_estimators=100, random_state=42)\n",
    "X_train, X_test, y_train, y_test = train_test_split(X, y, test_size=0.2, random_state=42)\n",
    "random_forest.fit(X_train, y_train)\n",
    "y_pred = random_forest.predict(X_test)\n",
    "y_pred_proba = random_forest.predict_proba(X_test)[:, 1]  # Probability estimates for AUC\n",
    "accuracy = accuracy_score(y_test, y_pred)\n",
    "precision = precision_score(y_test, y_pred)\n",
    "recall = recall_score(y_test, y_pred)\n",
    "f1 = f1_score(y_test, y_pred)\n",
    "auc = roc_auc_score(y_test, y_pred_proba)\n"
   ]
  },
  {
   "cell_type": "markdown",
   "id": "8e36dcb1481a88b1",
   "metadata": {},
   "source": []
  },
  {
   "cell_type": "code",
   "execution_count": 28,
   "id": "f87d26e6c1ebbf67",
   "metadata": {
    "ExecuteTime": {
     "end_time": "2024-11-01T18:16:44.569480500Z",
     "start_time": "2024-11-01T18:16:44.564777800Z"
    }
   },
   "outputs": [],
   "source": []
  },
  {
   "cell_type": "code",
   "execution_count": 29,
   "id": "67c23f7da6d88dcb",
   "metadata": {
    "ExecuteTime": {
     "end_time": "2024-11-01T18:16:44.574199400Z",
     "start_time": "2024-11-01T18:16:44.568423300Z"
    }
   },
   "outputs": [
    {
     "name": "stdout",
     "output_type": "stream",
     "text": [
      "Accuracy:  0.9650655021834061\n",
      "Precision:  0.8571428571428571\n",
      "Recall:  0.6666666666666666\n",
      "F1:  0.75\n",
      "AUC:  0.9794628751974724\n"
     ]
    }
   ],
   "source": [
    "print(\"Accuracy: \", accuracy)\n",
    "print(\"Precision: \", precision)\n",
    "print(\"Recall: \", recall)\n",
    "print(\"F1: \", f1)\n",
    "print(\"AUC: \", auc)\n"
   ]
  },
  {
   "cell_type": "code",
   "execution_count": 30,
   "id": "a0b02254ef48bea3",
   "metadata": {
    "ExecuteTime": {
     "end_time": "2024-11-01T18:16:44.649697500Z",
     "start_time": "2024-11-01T18:16:44.572065500Z"
    }
   },
   "outputs": [],
   "source": [
    "RFMI_Scores = []\n",
    "RFChi_Scores = []\n",
    "RFReliefF_Scores = []"
   ]
  },
  {
   "cell_type": "markdown",
   "id": "5b13764fb0b7b1c0",
   "metadata": {},
   "source": [
    "### Random Forest Classifier with all scores of mutual information, chi2 and ReliefF"
   ]
  },
  {
   "cell_type": "code",
   "execution_count": 31,
   "id": "b543d67fb08dfb7f",
   "metadata": {
    "ExecuteTime": {
     "end_time": "2024-11-01T18:16:44.713171900Z",
     "start_time": "2024-11-01T18:16:44.641687400Z"
    }
   },
   "outputs": [],
   "source": [
    "#Random Forest Classifier with Mutual Info selected features\n",
    "for M in Mutual_Information:\n",
    "    model = RandomForestClassifier(n_estimators=100, random_state=42)\n",
    "    X_train, X_test, y_train, y_test = train_test_split(X[M[0]], y, test_size=0.2, random_state=42)\n",
    "    model.fit(X_train, y_train)\n",
    "    y_pred = model.predict(X_test)\n",
    "    y_pred_proba = model.predict_proba(X_test)[:, 1]  # Probability estimates for AUC\n",
    "    auc = roc_auc_score(y_test, y_pred_proba)\n",
    "    RFMI_Scores.append([auc,M[2]])"
   ]
  },
  {
   "cell_type": "code",
   "execution_count": 32,
   "id": "405c9fb2ceacdf4d",
   "metadata": {
    "ExecuteTime": {
     "end_time": "2024-11-01T18:16:44.781483500Z",
     "start_time": "2024-11-01T18:16:44.714277200Z"
    }
   },
   "outputs": [],
   "source": [
    "#Random Forest Classifier with Chi2 selected features\n",
    "for C in Chi2:\n",
    "    model = RandomForestClassifier(n_estimators=100, random_state=42)\n",
    "    X_train, X_test, y_train, y_test = train_test_split(X[C[0]], y, test_size=0.2, random_state=42)\n",
    "    model.fit(X_train, y_train)\n",
    "    y_pred = model.predict(X_test)\n",
    "    y_pred_proba = model.predict_proba(X_test)[:, 1]  # Probability estimates for AUC\n",
    "    auc = roc_auc_score(y_test, y_pred_proba)\n",
    "    RFChi_Scores.append([auc,C[2]])"
   ]
  },
  {
   "cell_type": "code",
   "execution_count": 33,
   "id": "ffec1ab49b9b5521",
   "metadata": {
    "ExecuteTime": {
     "end_time": "2024-11-01T18:16:44.918735900Z",
     "start_time": "2024-11-01T18:16:44.781483500Z"
    }
   },
   "outputs": [],
   "source": [
    "#Random Forest Classifier with ReliefF selected features\n",
    "for R in ReliefF:\n",
    "    model = RandomForestClassifier(n_estimators=100, random_state=42)\n",
    "    X_train, X_test, y_train, y_test = train_test_split(X[R[0]], y, test_size=0.2, random_state=42)\n",
    "    model.fit(X_train, y_train)\n",
    "    y_pred = model.predict(X_test)\n",
    "    y_pred_proba = model.predict_proba(X_test)[:, 1]  # Probability estimates for AUC\n",
    "    auc = roc_auc_score(y_test, y_pred_proba)\n",
    "    RFReliefF_Scores.append([auc,R[2]])\n",
    "    "
   ]
  },
  {
   "cell_type": "code",
   "execution_count": 34,
   "id": "322bcad9de88f784",
   "metadata": {
    "ExecuteTime": {
     "end_time": "2024-11-01T18:16:44.988335600Z",
     "start_time": "2024-11-01T18:16:44.918735900Z"
    }
   },
   "outputs": [],
   "source": [
    "RFMI_Scores.sort(key=lambda x: x[0], reverse=True)\n",
    "RFChi_Scores.sort(key=lambda x: x[0], reverse=True)\n",
    "RFReliefF_Scores.sort(key=lambda x: x[0], reverse=True)\n"
   ]
  },
  {
   "cell_type": "code",
   "outputs": [],
   "source": [],
   "metadata": {
    "collapsed": false,
    "ExecuteTime": {
     "end_time": "2024-11-01T18:16:44.998021200Z",
     "start_time": "2024-11-01T18:16:44.991088500Z"
    }
   },
   "id": "c9e274df0662ed30",
   "execution_count": 34
  },
  {
   "cell_type": "code",
   "outputs": [],
   "source": [
    "for m in Mutual_Information:\n",
    "    print(len(m[0]))"
   ],
   "metadata": {
    "collapsed": false,
    "ExecuteTime": {
     "end_time": "2024-11-01T18:16:45.058083700Z",
     "start_time": "2024-11-01T18:16:44.993705Z"
    }
   },
   "id": "3fbec6ea1772bdf0",
   "execution_count": 35
  },
  {
   "cell_type": "code",
   "execution_count": 40,
   "id": "eef9aafbd71a5d7a",
   "metadata": {
    "ExecuteTime": {
     "end_time": "2024-11-01T20:47:44.200610Z",
     "start_time": "2024-11-01T20:47:44.195654300Z"
    }
   },
   "outputs": [],
   "source": [
    "for i in RFMI_Scores:\n",
    "    # Find the corresponding entry in Mutual_Information based on the number of generations\n",
    "    corresponding_entry = next((entry for entry in Mutual_Information if entry[2] == i[1]), None)\n",
    "    if corresponding_entry:\n",
    "        print(\"Mutual Information: \", i[0], i[1], len(corresponding_entry[0]))"
   ]
  },
  {
   "cell_type": "code",
   "execution_count": 37,
   "id": "26cf8d185f257b97",
   "metadata": {
    "ExecuteTime": {
     "end_time": "2024-11-01T18:16:45.071008Z",
     "start_time": "2024-11-01T18:16:45.064192Z"
    }
   },
   "outputs": [],
   "source": [
    "for i in RFChi_Scores:\n",
    "    # Find the corresponding entry in Mutual_Information based on the number of generations\n",
    "    corresponding_entry = next((entry for entry in Chi2 if entry[2] == i[1]), None)\n",
    "    if corresponding_entry:\n",
    "        print(\"Chi2: \", i[0], i[1], len(corresponding_entry[0]))"
   ]
  },
  {
   "cell_type": "code",
   "execution_count": 38,
   "id": "cdb87a053cb935f1",
   "metadata": {
    "ExecuteTime": {
     "end_time": "2024-11-01T18:16:45.142872900Z",
     "start_time": "2024-11-01T18:16:45.071008Z"
    }
   },
   "outputs": [],
   "source": [
    "for i in RFReliefF_Scores:\n",
    "    # Find the corresponding entry in Mutual_Information based on the number of generations\n",
    "    corresponding_entry = next((entry for entry in ReliefF if entry[2] == i[1]), None)\n",
    "    if corresponding_entry:\n",
    "        print(\"ReliefF: \", i[0], i[1], len(corresponding_entry[0]))"
   ]
  },
  {
   "cell_type": "code",
   "outputs": [],
   "source": [
    "import pandas as pd\n",
    "#print all the scores in mutual information and the number of generations\n",
    "for i in RFMI_Scores:\n",
    "    print(\"Mutual Information: \",i[0], i[1])\n",
    "\n"
   ],
   "metadata": {
    "collapsed": false,
    "ExecuteTime": {
     "end_time": "2024-11-01T20:48:24.657616900Z",
     "start_time": "2024-11-01T20:48:24.654407800Z"
    }
   },
   "id": "184d86e643e5f3ef",
   "execution_count": 46
  }
 ],
 "metadata": {
  "kernelspec": {
   "display_name": "Python 3 (ipykernel)",
   "language": "python",
   "name": "python3"
  },
  "language_info": {
   "codemirror_mode": {
    "name": "ipython",
    "version": 3
   },
   "file_extension": ".py",
   "mimetype": "text/x-python",
   "name": "python",
   "nbconvert_exporter": "python",
   "pygments_lexer": "ipython3",
   "version": "3.10.7"
  }
 },
 "nbformat": 4,
 "nbformat_minor": 5
}

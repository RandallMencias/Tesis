{
 "cells": [
  {
   "cell_type": "code",
   "id": "initial_id",
   "metadata": {
    "collapsed": true,
    "ExecuteTime": {
     "end_time": "2024-11-02T17:16:54.218091Z",
     "start_time": "2024-11-02T17:16:53.983337Z"
    }
   },
   "source": [
    "from Metaheuristicas.fitness_functions import *\n"
   ],
   "outputs": [],
   "execution_count": 1
  },
  {
   "cell_type": "code",
   "source": [
    "X, y = load_and_preprocess_data(filename='Resources/SeisBenchV1_v1_1.json')\n"
   ],
   "metadata": {
    "collapsed": false,
    "ExecuteTime": {
     "end_time": "2024-11-02T17:16:54.295255Z",
     "start_time": "2024-11-02T17:16:54.221111Z"
    }
   },
   "id": "aa2b839a0ac12d0c",
   "outputs": [],
   "execution_count": 2
  },
  {
   "metadata": {
    "ExecuteTime": {
     "end_time": "2024-11-02T17:16:54.373213Z",
     "start_time": "2024-11-02T17:16:54.358907Z"
    }
   },
   "cell_type": "code",
   "source": [
    "import pandas as pd\n",
    "from IPython.display import display, clear_output\n",
    "\n",
    "# Step 1: Initialize empty DataFrames for each classifier with metrics as columns\n",
    "metrics = [\"Accuracy\", \"Precision\", \"Recall\", \"F1 Score\", \"AUC\"]\n",
    "\n",
    "naive_bayes_df = pd.DataFrame(columns=metrics, index=[\"Mutual Information\", \"X2\", \"Relief\"])\n",
    "random_forest_df = pd.DataFrame(columns=metrics, index=[\"Mutual Information\", \"X2\", \"Relief\"])\n",
    "neural_network_df = pd.DataFrame(columns=metrics, index=[\"Mutual Information\", \"X2\", \"Relief\"])\n",
    "\n",
    "# Display all tables function\n",
    "def display_tables():\n",
    "    clear_output(wait=True)\n",
    "    print(\"Naive Bayes Results\")\n",
    "    display(naive_bayes_df)\n",
    "    print(\"Random Forest Results\")\n",
    "    display(random_forest_df)\n",
    "    print(\"Neural Network Results\")\n",
    "    display(neural_network_df)"
   ],
   "id": "5b704913c02161a2",
   "outputs": [],
   "execution_count": 3
  },
  {
   "metadata": {
    "ExecuteTime": {
     "end_time": "2024-11-02T17:16:54.404427Z",
     "start_time": "2024-11-02T17:16:54.390214Z"
    }
   },
   "cell_type": "code",
   "source": [
    "def add_result(classifier, fitness_function, accuracy, precision, recall, f1_score, auc):\n",
    "    new_data = {\n",
    "        \"Accuracy\": accuracy,\n",
    "        \"Precision\": precision,\n",
    "        \"Recall\": recall,\n",
    "        \"F1 Score\": f1_score,\n",
    "        \"AUC\": auc\n",
    "    }\n",
    "\n",
    "    if classifier == \"Naive Bayes\":\n",
    "        global naive_bayes_df\n",
    "        naive_bayes_df.loc[fitness_function] = new_data\n",
    "    elif classifier == \"Random Forest\":\n",
    "        global random_forest_df\n",
    "        random_forest_df.loc[fitness_function] = new_data\n",
    "    elif classifier == \"Neural Network\":\n",
    "        global neural_network_df\n",
    "        neural_network_df.loc[fitness_function] = new_data"
   ],
   "id": "1ffc46a495316cca",
   "outputs": [],
   "execution_count": 4
  },
  {
   "metadata": {
    "ExecuteTime": {
     "end_time": "2024-11-02T17:16:54.435881Z",
     "start_time": "2024-11-02T17:16:54.421882Z"
    }
   },
   "cell_type": "code",
   "source": [
    "import matplotlib.pyplot as plt\n",
    "import seaborn as sns\n",
    "from sklearn.metrics import confusion_matrix\n",
    "def confusion_matrix_heatmap(y_true, y_pred):\n",
    "    cm = confusion_matrix(y_true, y_pred)\n",
    "    plt.figure(figsize=(8, 6))\n",
    "    sns.heatmap(cm, annot=True, fmt='d', cmap='Blues', cbar=False)\n",
    "    plt.xlabel('Predicted Labels')\n",
    "    plt.ylabel('True Labels')\n",
    "    plt.title('Confusion Matrix')\n",
    "    plt.show()"
   ],
   "id": "1ff5dd7f2932fa42",
   "outputs": [],
   "execution_count": 5
  },
  {
   "cell_type": "code",
   "source": [
    "from Metaheuristicas.Cuckoo import cuckoo_search\n",
    "\n",
    "n = 40\n",
    "dim = 84\n",
    "itermax = 300"
   ],
   "metadata": {
    "collapsed": false,
    "ExecuteTime": {
     "end_time": "2024-11-02T17:16:54.496229Z",
     "start_time": "2024-11-02T17:16:54.452195Z"
    }
   },
   "id": "ca4c77e3ca5f4f79",
   "outputs": [],
   "execution_count": 6
  },
  {
   "cell_type": "code",
   "source": [
    "#Save the results from the optimizations\n",
    "Mutual_Information = []\n",
    "Chi2 = []\n",
    "ReliefF = []"
   ],
   "metadata": {
    "collapsed": false,
    "ExecuteTime": {
     "end_time": "2024-11-02T17:16:54.527165Z",
     "start_time": "2024-11-02T17:16:54.512228Z"
    }
   },
   "id": "7c9ebd927f0f16b3",
   "outputs": [],
   "execution_count": 7
  },
  {
   "cell_type": "markdown",
   "source": [
    "#### Models Naive Bayes and Decision Tree"
   ],
   "metadata": {
    "collapsed": false
   },
   "id": "5aafef1bc4d32ad"
  },
  {
   "cell_type": "code",
   "source": [
    "from sklearn.metrics import accuracy_score, precision_score, recall_score, f1_score, roc_auc_score\n",
    "from sklearn.model_selection import train_test_split\n",
    "from sklearn.ensemble import RandomForestClassifier\n",
    "from sklearn.naive_bayes import GaussianNB\n",
    "\n",
    "NB = GaussianNB()\n",
    "DT = RandomForestClassifier()\n",
    "\n",
    "#dataset split\n",
    "\n",
    "X_train, X_test, y_train, y_test = train_test_split(X, y, test_size=0.3, random_state=42)\n"
   ],
   "metadata": {
    "collapsed": false,
    "ExecuteTime": {
     "end_time": "2024-11-02T17:16:54.556935Z",
     "start_time": "2024-11-02T17:16:54.543061Z"
    }
   },
   "id": "1cad8f015c03fd6a",
   "outputs": [],
   "execution_count": 8
  },
  {
   "cell_type": "markdown",
   "source": [
    "# Cuckoo Search with Mutual Information\n"
   ],
   "metadata": {
    "collapsed": false
   },
   "id": "fdacfe27fc6bf19f"
  },
  {
   "cell_type": "code",
   "source": [
    "#TODO: checar parametros\n",
    "nests, fitness_scores, best_nest, best_CKMIfitness = cuckoo_search(n, dim, 130, X, y, fitness_function=mutual_information_eval)\n",
    "\n",
    "CKMIFeatures = X.columns[best_nest.astype(bool)].tolist()\n",
    "Mutual_Information.append([CKMIFeatures, best_CKMIfitness])\n"
   ],
   "metadata": {
    "collapsed": false,
    "ExecuteTime": {
     "end_time": "2024-11-02T17:31:56.586050Z",
     "start_time": "2024-11-02T17:16:54.588988Z"
    }
   },
   "id": "27afb8be55ef518",
   "outputs": [],
   "execution_count": 9
  },
  {
   "cell_type": "markdown",
   "source": [],
   "metadata": {
    "collapsed": false
   },
   "id": "3d70ef55f40a1139"
  },
  {
   "cell_type": "code",
   "source": [
    "NB.fit(X_train[CKMIFeatures], y_train)\n",
    "\n",
    "y_pred = NB.predict(X_test[CKMIFeatures])\n",
    "\n",
    "print(\"Accuracy:\", accuracy_score(y_test, y_pred))\n",
    "print(\"Precision:\", precision_score(y_test, y_pred))\n",
    "print(\"Recall:\", recall_score(y_test, y_pred))\n",
    "print(\"F1:\", f1_score(y_test, y_pred))\n",
    "print(\"AUC:\", roc_auc_score(y_test, y_pred))\n",
    "add_result(\"Naive Bayes\", \"Mutual Information\", accuracy_score(y_test, y_pred), precision_score(y_test, y_pred), recall_score(y_test, y_pred), f1_score(y_test, y_pred), roc_auc_score(y_test, y_pred))\n"
   ],
   "metadata": {
    "collapsed": false,
    "ExecuteTime": {
     "end_time": "2024-11-02T17:31:56.633561Z",
     "start_time": "2024-11-02T17:31:56.618561Z"
    }
   },
   "id": "e222b27f3bfd73ff",
   "outputs": [
    {
     "name": "stdout",
     "output_type": "stream",
     "text": [
      "Accuracy: 0.9302325581395349\n",
      "Precision: 0.48717948717948717\n",
      "Recall: 0.8260869565217391\n",
      "F1: 0.6129032258064516\n",
      "AUC: 0.8818908302857917\n"
     ]
    }
   ],
   "execution_count": 10
  },
  {
   "metadata": {
    "ExecuteTime": {
     "end_time": "2024-11-02T17:31:56.759842Z",
     "start_time": "2024-11-02T17:31:56.666261Z"
    }
   },
   "cell_type": "code",
   "source": "confusion_matrix_heatmap(y_test, y_pred)\n",
   "id": "a44717b51dae5285",
   "outputs": [
    {
     "data": {
      "text/plain": [
       "<Figure size 800x600 with 1 Axes>"
      ],
      "image/png": "[encoded data removed]"
     },
     "metadata": {},
     "output_type": "display_data"
    }
   ],
   "execution_count": 11
  },
  {
   "cell_type": "code",
   "source": [
    "DT.fit(X_train[CKMIFeatures], y_train)\n",
    "\n",
    "y_pred = DT.predict(X_test[CKMIFeatures])\n",
    "\n",
    "print(\"Accuracy:\", accuracy_score(y_test, y_pred))\n",
    "print(\"Precision:\", precision_score(y_test, y_pred))\n",
    "print(\"Recall:\", recall_score(y_test, y_pred))\n",
    "print(\"F1:\", f1_score(y_test, y_pred))\n",
    "print(\"AUC:\", roc_auc_score(y_test, y_pred))\n",
    "add_result(\"Random Forest\", \"Mutual Information\", accuracy_score(y_test, y_pred), precision_score(y_test, y_pred), recall_score(y_test, y_pred), f1_score(y_test, y_pred), roc_auc_score(y_test, y_pred))"
   ],
   "metadata": {
    "collapsed": false,
    "ExecuteTime": {
     "end_time": "2024-11-02T17:31:57.043304Z",
     "start_time": "2024-11-02T17:31:56.791771Z"
    }
   },
   "id": "cfa13e64f7f8fae8",
   "outputs": [
    {
     "name": "stdout",
     "output_type": "stream",
     "text": [
      "Accuracy: 0.9680232558139535\n",
      "Precision: 0.8\n",
      "Recall: 0.6956521739130435\n",
      "F1: 0.7441860465116279\n",
      "AUC: 0.8415955573615062\n"
     ]
    }
   ],
   "execution_count": 12
  },
  {
   "metadata": {
    "ExecuteTime": {
     "end_time": "2024-11-02T17:31:57.153621Z",
     "start_time": "2024-11-02T17:31:57.075812Z"
    }
   },
   "cell_type": "code",
   "source": "confusion_matrix_heatmap(y_test, y_pred)",
   "id": "4e071970b3d19862",
   "outputs": [
    {
     "data": {
      "text/plain": [
       "<Figure size 800x600 with 1 Axes>"
      ],
      "image/png": "[encoded data removed]"
     },
     "metadata": {},
     "output_type": "display_data"
    }
   ],
   "execution_count": 13
  },
  {
   "cell_type": "markdown",
   "source": [],
   "metadata": {
    "collapsed": false
   },
   "id": "6499cf3717ea9c88"
  },
  {
   "cell_type": "markdown",
   "source": [
    "# Cuckoo Search with Chi2"
   ],
   "metadata": {
    "collapsed": false
   },
   "id": "738f5b3837eb3232"
  },
  {
   "cell_type": "code",
   "source": [
    "nests, fitness_scores, best_nest, best_CKX2fitness = cuckoo_search(n, dim, itermax, X, y, fitness_function= chi2_eval)\n",
    "CKX2Features = X.columns[best_nest.astype(bool)].tolist()\n",
    "Chi2.append([CKX2Features, best_CKX2fitness])\n"
   ],
   "metadata": {
    "collapsed": false,
    "ExecuteTime": {
     "end_time": "2024-11-02T17:32:16.212936Z",
     "start_time": "2024-11-02T17:31:57.185188Z"
    }
   },
   "id": "a9ad1ed17eba54f5",
   "outputs": [],
   "execution_count": 14
  },
  {
   "cell_type": "code",
   "source": [
    "NB.fit(X_train[CKX2Features], y_train)\n",
    "y_pred = NB.predict(X_test[CKX2Features])\n",
    "\n",
    "print(\"Accuracy:\", accuracy_score(y_test, y_pred))\n",
    "print(\"Precision:\", precision_score(y_test, y_pred))\n",
    "print(\"Recall:\", recall_score(y_test, y_pred))\n",
    "print(\"F1:\", f1_score(y_test, y_pred))\n",
    "print(\"AUC:\", roc_auc_score(y_test, y_pred))\n",
    "add_result(\"Naive Bayes\", \"X2\", accuracy_score(y_test, y_pred), precision_score(y_test, y_pred), recall_score(y_test, y_pred), f1_score(y_test, y_pred), roc_auc_score(y_test, y_pred))"
   ],
   "metadata": {
    "collapsed": false,
    "ExecuteTime": {
     "end_time": "2024-11-02T17:32:16.260445Z",
     "start_time": "2024-11-02T17:32:16.245445Z"
    }
   },
   "id": "bddacde3cb4a9024",
   "outputs": [
    {
     "name": "stdout",
     "output_type": "stream",
     "text": [
      "Accuracy: 0.9563953488372093\n",
      "Precision: 0.6428571428571429\n",
      "Recall: 0.782608695652174\n",
      "F1: 0.7058823529411765\n",
      "AUC: 0.875728023838548\n"
     ]
    }
   ],
   "execution_count": 15
  },
  {
   "metadata": {
    "ExecuteTime": {
     "end_time": "2024-11-02T17:32:16.414108Z",
     "start_time": "2024-11-02T17:32:16.332671Z"
    }
   },
   "cell_type": "code",
   "source": "confusion_matrix_heatmap(y_test, y_pred)",
   "id": "ebd11fca325d8560",
   "outputs": [
    {
     "data": {
      "text/plain": [
       "<Figure size 800x600 with 1 Axes>"
      ],
      "image/png": "[encoded data removed]"
     },
     "metadata": {},
     "output_type": "display_data"
    }
   ],
   "execution_count": 16
  },
  {
   "cell_type": "code",
   "source": [
    "DT.fit(X_train[CKX2Features], y_train)\n",
    "y_pred = DT.predict(X_test[CKX2Features])\n",
    "\n",
    "print(\"Accuracy:\", accuracy_score(y_test, y_pred))\n",
    "print(\"Precision:\", precision_score(y_test, y_pred))\n",
    "print(\"Recall:\", recall_score(y_test, y_pred))\n",
    "print(\"F1:\", f1_score(y_test, y_pred))\n",
    "print(\"AUC:\", roc_auc_score(y_test, y_pred))\n",
    "add_result(\"Random Forest\", \"X2\", accuracy_score(y_test, y_pred), precision_score(y_test, y_pred), recall_score(y_test, y_pred), f1_score(y_test, y_pred), roc_auc_score(y_test, y_pred))"
   ],
   "metadata": {
    "collapsed": false,
    "ExecuteTime": {
     "end_time": "2024-11-02T17:32:16.633576Z",
     "start_time": "2024-11-02T17:32:16.446545Z"
    }
   },
   "id": "7b6f2fb86e8ce7f8",
   "outputs": [
    {
     "name": "stdout",
     "output_type": "stream",
     "text": [
      "Accuracy: 0.9680232558139535\n",
      "Precision: 0.8333333333333334\n",
      "Recall: 0.6521739130434783\n",
      "F1: 0.7317073170731708\n",
      "AUC: 0.8214140593254774\n"
     ]
    }
   ],
   "execution_count": 17
  },
  {
   "metadata": {
    "ExecuteTime": {
     "end_time": "2024-11-02T17:32:16.742592Z",
     "start_time": "2024-11-02T17:32:16.664579Z"
    }
   },
   "cell_type": "code",
   "source": "confusion_matrix_heatmap(y_test, y_pred)",
   "id": "5d75e73b560c343a",
   "outputs": [
    {
     "data": {
      "text/plain": [
       "<Figure size 800x600 with 1 Axes>"
      ],
      "image/png": "[encoded data removed]"
     },
     "metadata": {},
     "output_type": "display_data"
    }
   ],
   "execution_count": 18
  },
  {
   "cell_type": "markdown",
   "source": [
    "# Cuckoo Search with ReliefF"
   ],
   "metadata": {
    "collapsed": false
   },
   "id": "44bea2b37508966a"
  },
  {
   "cell_type": "code",
   "source": [
    "nests, fitness_scores, best_nest, bestRFfitness = cuckoo_search(n, dim, itermax, X, y, fitness_function= relieff_eval)\n",
    "RFFeatures = X.columns[best_nest.astype(bool)].tolist()\n",
    "ReliefF.append([RFFeatures, bestRFfitness])"
   ],
   "metadata": {
    "collapsed": false,
    "ExecuteTime": {
     "end_time": "2024-11-02T17:41:19.715824Z",
     "start_time": "2024-11-02T17:32:16.775614Z"
    }
   },
   "id": "37f89a6d5cfdb864",
   "outputs": [],
   "execution_count": 19
  },
  {
   "cell_type": "code",
   "source": [
    "NB.fit(X_train[RFFeatures], y_train)\n",
    "y_pred = NB.predict(X_test[RFFeatures])\n",
    "\n",
    "print(\"Accuracy:\", accuracy_score(y_test, y_pred))\n",
    "print(\"Precision:\", precision_score(y_test, y_pred))\n",
    "print(\"Recall:\", recall_score(y_test, y_pred))\n",
    "print(\"F1:\", f1_score(y_test, y_pred))\n",
    "print(\"AUC:\", roc_auc_score(y_test, y_pred))\n",
    "add_result(\"Naive Bayes\", \"Relief\", accuracy_score(y_test, y_pred), precision_score(y_test, y_pred), recall_score(y_test, y_pred), f1_score(y_test, y_pred), roc_auc_score(y_test, y_pred))"
   ],
   "metadata": {
    "collapsed": false,
    "ExecuteTime": {
     "end_time": "2024-11-02T17:41:19.778841Z",
     "start_time": "2024-11-02T17:41:19.748335Z"
    }
   },
   "id": "c18092371a5c95ee",
   "outputs": [
    {
     "name": "stdout",
     "output_type": "stream",
     "text": [
      "Accuracy: 0.9476744186046512\n",
      "Precision: 0.5862068965517241\n",
      "Recall: 0.7391304347826086\n",
      "F1: 0.6538461538461539\n",
      "AUC: 0.8508736286062576\n"
     ]
    }
   ],
   "execution_count": 20
  },
  {
   "metadata": {
    "ExecuteTime": {
     "end_time": "2024-11-02T17:41:19.889586Z",
     "start_time": "2024-11-02T17:41:19.811564Z"
    }
   },
   "cell_type": "code",
   "source": "confusion_matrix_heatmap(y_test, y_pred)",
   "id": "4cedca5cacf0ccee",
   "outputs": [
    {
     "data": {
      "text/plain": [
       "<Figure size 800x600 with 1 Axes>"
      ],
      "image/png": "[encoded data removed]"
     },
     "metadata": {},
     "output_type": "display_data"
    }
   ],
   "execution_count": 21
  },
  {
   "cell_type": "code",
   "source": [
    "DT.fit(X_train[RFFeatures], y_train)\n",
    "y_pred = DT.predict(X_test[RFFeatures])\n",
    "\n",
    "print(\"Accuracy:\", accuracy_score(y_test, y_pred))\n",
    "print(\"Precision:\", precision_score(y_test, y_pred))\n",
    "print(\"Recall:\", recall_score(y_test, y_pred))\n",
    "print(\"F1:\", f1_score(y_test, y_pred))\n",
    "print(\"AUC:\", roc_auc_score(y_test, y_pred))\n",
    "add_result(\"Random Forest\", \"Relief\", accuracy_score(y_test, y_pred), precision_score(y_test, y_pred), recall_score(y_test, y_pred), f1_score(y_test, y_pred), roc_auc_score(y_test, y_pred))"
   ],
   "metadata": {
    "collapsed": false,
    "ExecuteTime": {
     "end_time": "2024-11-02T17:41:20.127303Z",
     "start_time": "2024-11-02T17:41:19.922275Z"
    }
   },
   "id": "8f03dc90075b09ea",
   "outputs": [
    {
     "name": "stdout",
     "output_type": "stream",
     "text": [
      "Accuracy: 0.9651162790697675\n",
      "Precision: 0.8235294117647058\n",
      "Recall: 0.6086956521739131\n",
      "F1: 0.7\n",
      "AUC: 0.7996749288906949\n"
     ]
    }
   ],
   "execution_count": 22
  },
  {
   "metadata": {
    "ExecuteTime": {
     "end_time": "2024-11-02T17:41:20.235792Z",
     "start_time": "2024-11-02T17:41:20.159781Z"
    }
   },
   "cell_type": "code",
   "source": "confusion_matrix_heatmap(y_test, y_pred)",
   "id": "dff54921f4bcb0fb",
   "outputs": [
    {
     "data": {
      "text/plain": [
       "<Figure size 800x600 with 1 Axes>"
      ],
      "image/png": "[encoded data removed]"
     },
     "metadata": {},
     "output_type": "display_data"
    }
   ],
   "execution_count": 23
  },
  {
   "cell_type": "markdown",
   "source": [
    "## Red Neuronal\n"
   ],
   "metadata": {
    "collapsed": false
   },
   "id": "c0fbf5b3e5c28f6f"
  },
  {
   "cell_type": "code",
   "source": [
    "print(\"Features selected by MI: \", len(CKMIFeatures))\n",
    "print(\"Features selected by X2: \", len(CKX2Features))\n",
    "print(\"Features selected by ReliefF: \", len(RFFeatures))"
   ],
   "metadata": {
    "collapsed": false,
    "ExecuteTime": {
     "end_time": "2024-11-02T17:41:20.282472Z",
     "start_time": "2024-11-02T17:41:20.267966Z"
    }
   },
   "id": "9211e5b615aa92aa",
   "outputs": [
    {
     "name": "stdout",
     "output_type": "stream",
     "text": [
      "Features selected by MI:  56\n",
      "Features selected by X2:  21\n",
      "Features selected by ReliefF:  23\n"
     ]
    }
   ],
   "execution_count": 24
  },
  {
   "cell_type": "code",
   "source": [
    "import tensorflow as tf\n",
    "from tensorflow.keras.models import Sequential\n",
    "from tensorflow.keras.layers import Dense\n",
    "from tensorflow.keras.optimizers import Adam\n",
    "from tensorflow.keras.losses import BinaryCrossentropy"
   ],
   "metadata": {
    "collapsed": false,
    "ExecuteTime": {
     "end_time": "2024-11-02T17:41:22.340275Z",
     "start_time": "2024-11-02T17:41:20.315490Z"
    }
   },
   "id": "7bca53201b5fe940",
   "outputs": [],
   "execution_count": 25
  },
  {
   "cell_type": "markdown",
   "source": [
    "MUTUAL_INFORMATION "
   ],
   "metadata": {
    "collapsed": false
   },
   "id": "6730803a5695bad8"
  },
  {
   "cell_type": "code",
   "source": [
    "\n",
    "\n",
    "# Crear y compilar el modelo\n",
    "RN = Sequential()\n",
    "\n",
    "# Definir la dimensión de entrada basada en las características seleccionadas\n",
    "input_dim = X_train[CKMIFeatures].shape[1]\n",
    "RN.add(Dense(units=64, activation='relu', input_dim=input_dim))\n",
    "RN.add(Dense(units=32, activation='relu'))\n",
    "RN.add(Dense(units=1, activation='sigmoid'))\n",
    "\n",
    "# Compilar el modelo\n",
    "RN.compile(optimizer=Adam(learning_rate=0.001), \n",
    "              loss=BinaryCrossentropy(),\n",
    "              metrics=['accuracy'])\n",
    "\n",
    "# Entrenar el modelo\n",
    "history = RN.fit(X_train[CKMIFeatures], y_train, epochs=100, batch_size=32, validation_split=0.2)\n",
    "\n",
    "# Evaluar el modelo en el conjunto de prueba\n",
    "loss, accuracy = RN.evaluate(X_test[CKMIFeatures], y_test)\n",
    "\n",
    "print(f'Test Accuracy: {accuracy}')\n",
    "\n",
    "# Realizar predicciones en el conjunto de prueba\n",
    "y_pred_prob = RN.predict(X_test[CKMIFeatures])  # Predicciones como probabilidades\n",
    "y_pred = (y_pred_prob > 0.5).astype(int)  # Convertir probabilidades a etiquetas (0 o 1)\n",
    "\n",
    "# Calcular y mostrar las métricas\n",
    "print(\"Accuracy:\", accuracy_score(y_test, y_pred))\n",
    "print(\"Precision:\", precision_score(y_test, y_pred))\n",
    "print(\"Recall:\", recall_score(y_test, y_pred))\n",
    "print(\"F1:\", f1_score(y_test, y_pred))\n",
    "print(\"AUC:\", roc_auc_score(y_test, y_pred_prob))  # Usamos probabilidades para AUC\n",
    "add_result(\"Neural Network\", \"Mutual Information\", accuracy_score(y_test, y_pred), precision_score(y_test, y_pred), recall_score(y_test, y_pred), f1_score(y_test, y_pred), roc_auc_score(y_test, y_pred_prob))\n"
   ],
   "metadata": {
    "collapsed": false,
    "ExecuteTime": {
     "end_time": "2024-11-02T17:41:26.174954Z",
     "start_time": "2024-11-02T17:41:22.372244Z"
    }
   },
   "id": "24c6460e29494d86",
   "outputs": [
    {
     "name": "stdout",
     "output_type": "stream",
     "text": [
      "Epoch 1/100\n"
     ]
    },
    {
     "name": "stderr",
     "output_type": "stream",
     "text": [
      "C:\\Users\\Randall\\AppData\\Local\\Programs\\Python\\Python310\\lib\\site-packages\\keras\\engine\\data_adapter.py:1700: FutureWarning: The behavior of `series[i:j]` with an integer-dtype index is deprecated. In a future version, this will be treated as *label-based* indexing, consistent with e.g. `series[i]` lookups. To retain the old behavior, use `series.iloc[i:j]`. To get the future behavior, use `series.loc[i:j]`.\n",
      "  return t[start:end]\n"
     ]
    },
    {
     "name": "stdout",
     "output_type": "stream",
     "text": [
      "20/20 [==============================] - 0s 7ms/step - loss: 0.4280 - accuracy: 0.8781 - val_loss: 0.2773 - val_accuracy: 0.9193\n",
      "Epoch 2/100\n",
      "20/20 [==============================] - 0s 2ms/step - loss: 0.2911 - accuracy: 0.8984 - val_loss: 0.2342 - val_accuracy: 0.9193\n",
      "Epoch 3/100\n",
      "20/20 [==============================] - 0s 2ms/step - loss: 0.2270 - accuracy: 0.9031 - val_loss: 0.1906 - val_accuracy: 0.9193\n",
      "Epoch 4/100\n",
      "20/20 [==============================] - 0s 2ms/step - loss: 0.1660 - accuracy: 0.9219 - val_loss: 0.1488 - val_accuracy: 0.9379\n",
      "Epoch 5/100\n",
      "20/20 [==============================] - 0s 2ms/step - loss: 0.1285 - accuracy: 0.9516 - val_loss: 0.1242 - val_accuracy: 0.9317\n",
      "Epoch 6/100\n",
      "20/20 [==============================] - 0s 1ms/step - loss: 0.1056 - accuracy: 0.9609 - val_loss: 0.1210 - val_accuracy: 0.9317\n",
      "Epoch 7/100\n",
      "20/20 [==============================] - 0s 2ms/step - loss: 0.0971 - accuracy: 0.9656 - val_loss: 0.1023 - val_accuracy: 0.9503\n",
      "Epoch 8/100\n",
      "20/20 [==============================] - 0s 2ms/step - loss: 0.0895 - accuracy: 0.9656 - val_loss: 0.0963 - val_accuracy: 0.9503\n",
      "Epoch 9/100\n",
      "20/20 [==============================] - 0s 1ms/step - loss: 0.0844 - accuracy: 0.9688 - val_loss: 0.0959 - val_accuracy: 0.9565\n",
      "Epoch 10/100\n",
      "20/20 [==============================] - 0s 2ms/step - loss: 0.0759 - accuracy: 0.9688 - val_loss: 0.0916 - val_accuracy: 0.9565\n",
      "Epoch 11/100\n",
      "20/20 [==============================] - 0s 2ms/step - loss: 0.0782 - accuracy: 0.9656 - val_loss: 0.1150 - val_accuracy: 0.9379\n",
      "Epoch 12/100\n",
      "20/20 [==============================] - 0s 2ms/step - loss: 0.0719 - accuracy: 0.9750 - val_loss: 0.0897 - val_accuracy: 0.9565\n",
      "Epoch 13/100\n",
      "20/20 [==============================] - 0s 2ms/step - loss: 0.0684 - accuracy: 0.9719 - val_loss: 0.0861 - val_accuracy: 0.9627\n",
      "Epoch 14/100\n",
      "20/20 [==============================] - 0s 1ms/step - loss: 0.0671 - accuracy: 0.9750 - val_loss: 0.0805 - val_accuracy: 0.9627\n",
      "Epoch 15/100\n",
      "20/20 [==============================] - 0s 1ms/step - loss: 0.0657 - accuracy: 0.9688 - val_loss: 0.0885 - val_accuracy: 0.9503\n",
      "Epoch 16/100\n",
      "20/20 [==============================] - 0s 2ms/step - loss: 0.0625 - accuracy: 0.9781 - val_loss: 0.0786 - val_accuracy: 0.9689\n",
      "Epoch 17/100\n",
      "20/20 [==============================] - 0s 2ms/step - loss: 0.0618 - accuracy: 0.9797 - val_loss: 0.0863 - val_accuracy: 0.9565\n",
      "Epoch 18/100\n",
      "20/20 [==============================] - 0s 2ms/step - loss: 0.0618 - accuracy: 0.9766 - val_loss: 0.0748 - val_accuracy: 0.9689\n",
      "Epoch 19/100\n",
      "20/20 [==============================] - 0s 2ms/step - loss: 0.0591 - accuracy: 0.9781 - val_loss: 0.0774 - val_accuracy: 0.9752\n",
      "Epoch 20/100\n",
      "20/20 [==============================] - 0s 2ms/step - loss: 0.0571 - accuracy: 0.9812 - val_loss: 0.0803 - val_accuracy: 0.9689\n",
      "Epoch 21/100\n",
      "20/20 [==============================] - 0s 2ms/step - loss: 0.0564 - accuracy: 0.9812 - val_loss: 0.0787 - val_accuracy: 0.9689\n",
      "Epoch 22/100\n",
      "20/20 [==============================] - 0s 2ms/step - loss: 0.0567 - accuracy: 0.9797 - val_loss: 0.0730 - val_accuracy: 0.9752\n",
      "Epoch 23/100\n",
      "20/20 [==============================] - 0s 1ms/step - loss: 0.0541 - accuracy: 0.9828 - val_loss: 0.0708 - val_accuracy: 0.9689\n",
      "Epoch 24/100\n",
      "20/20 [==============================] - 0s 2ms/step - loss: 0.0557 - accuracy: 0.9797 - val_loss: 0.0910 - val_accuracy: 0.9441\n",
      "Epoch 25/100\n",
      "20/20 [==============================] - 0s 2ms/step - loss: 0.0535 - accuracy: 0.9844 - val_loss: 0.0811 - val_accuracy: 0.9752\n",
      "Epoch 26/100\n",
      "20/20 [==============================] - 0s 2ms/step - loss: 0.0508 - accuracy: 0.9859 - val_loss: 0.0784 - val_accuracy: 0.9752\n",
      "Epoch 27/100\n",
      "20/20 [==============================] - 0s 2ms/step - loss: 0.0520 - accuracy: 0.9828 - val_loss: 0.0985 - val_accuracy: 0.9441\n",
      "Epoch 28/100\n",
      "20/20 [==============================] - 0s 1ms/step - loss: 0.0535 - accuracy: 0.9797 - val_loss: 0.0727 - val_accuracy: 0.9752\n",
      "Epoch 29/100\n",
      "20/20 [==============================] - 0s 2ms/step - loss: 0.0494 - accuracy: 0.9828 - val_loss: 0.0703 - val_accuracy: 0.9752\n",
      "Epoch 30/100\n",
      "20/20 [==============================] - 0s 2ms/step - loss: 0.0475 - accuracy: 0.9859 - val_loss: 0.0865 - val_accuracy: 0.9503\n",
      "Epoch 31/100\n",
      "20/20 [==============================] - 0s 2ms/step - loss: 0.0489 - accuracy: 0.9812 - val_loss: 0.0683 - val_accuracy: 0.9814\n",
      "Epoch 32/100\n",
      "20/20 [==============================] - 0s 1ms/step - loss: 0.0480 - accuracy: 0.9859 - val_loss: 0.0845 - val_accuracy: 0.9565\n",
      "Epoch 33/100\n",
      "20/20 [==============================] - 0s 1ms/step - loss: 0.0514 - accuracy: 0.9828 - val_loss: 0.0778 - val_accuracy: 0.9752\n",
      "Epoch 34/100\n",
      "20/20 [==============================] - 0s 2ms/step - loss: 0.0445 - accuracy: 0.9844 - val_loss: 0.0687 - val_accuracy: 0.9689\n",
      "Epoch 35/100\n",
      "20/20 [==============================] - 0s 2ms/step - loss: 0.0466 - accuracy: 0.9891 - val_loss: 0.0699 - val_accuracy: 0.9752\n",
      "Epoch 36/100\n",
      "20/20 [==============================] - 0s 2ms/step - loss: 0.0460 - accuracy: 0.9844 - val_loss: 0.0684 - val_accuracy: 0.9689\n",
      "Epoch 37/100\n",
      "20/20 [==============================] - 0s 1ms/step - loss: 0.0479 - accuracy: 0.9812 - val_loss: 0.0816 - val_accuracy: 0.9689\n",
      "Epoch 38/100\n",
      "20/20 [==============================] - 0s 2ms/step - loss: 0.0431 - accuracy: 0.9875 - val_loss: 0.0745 - val_accuracy: 0.9752\n",
      "Epoch 39/100\n",
      "20/20 [==============================] - 0s 2ms/step - loss: 0.0479 - accuracy: 0.9828 - val_loss: 0.0670 - val_accuracy: 0.9814\n",
      "Epoch 40/100\n",
      "20/20 [==============================] - 0s 1ms/step - loss: 0.0498 - accuracy: 0.9812 - val_loss: 0.0663 - val_accuracy: 0.9689\n",
      "Epoch 41/100\n",
      "20/20 [==============================] - 0s 1ms/step - loss: 0.0432 - accuracy: 0.9891 - val_loss: 0.0878 - val_accuracy: 0.9503\n",
      "Epoch 42/100\n",
      "20/20 [==============================] - 0s 2ms/step - loss: 0.0429 - accuracy: 0.9859 - val_loss: 0.0885 - val_accuracy: 0.9565\n",
      "Epoch 43/100\n",
      "20/20 [==============================] - 0s 2ms/step - loss: 0.0401 - accuracy: 0.9844 - val_loss: 0.0702 - val_accuracy: 0.9752\n",
      "Epoch 44/100\n",
      "20/20 [==============================] - 0s 2ms/step - loss: 0.0412 - accuracy: 0.9875 - val_loss: 0.0872 - val_accuracy: 0.9503\n",
      "Epoch 45/100\n",
      "20/20 [==============================] - 0s 2ms/step - loss: 0.0426 - accuracy: 0.9859 - val_loss: 0.1120 - val_accuracy: 0.9441\n",
      "Epoch 46/100\n",
      "20/20 [==============================] - 0s 2ms/step - loss: 0.0410 - accuracy: 0.9859 - val_loss: 0.0690 - val_accuracy: 0.9814\n",
      "Epoch 47/100\n",
      "20/20 [==============================] - 0s 2ms/step - loss: 0.0396 - accuracy: 0.9891 - val_loss: 0.0759 - val_accuracy: 0.9752\n",
      "Epoch 48/100\n",
      "20/20 [==============================] - 0s 1ms/step - loss: 0.0380 - accuracy: 0.9891 - val_loss: 0.0847 - val_accuracy: 0.9627\n",
      "Epoch 49/100\n",
      "20/20 [==============================] - 0s 1ms/step - loss: 0.0414 - accuracy: 0.9859 - val_loss: 0.0854 - val_accuracy: 0.9503\n",
      "Epoch 50/100\n",
      "20/20 [==============================] - 0s 2ms/step - loss: 0.0383 - accuracy: 0.9906 - val_loss: 0.0684 - val_accuracy: 0.9752\n",
      "Epoch 51/100\n",
      "20/20 [==============================] - 0s 2ms/step - loss: 0.0367 - accuracy: 0.9922 - val_loss: 0.0769 - val_accuracy: 0.9752\n",
      "Epoch 52/100\n",
      "20/20 [==============================] - 0s 2ms/step - loss: 0.0389 - accuracy: 0.9891 - val_loss: 0.0709 - val_accuracy: 0.9689\n",
      "Epoch 53/100\n",
      "20/20 [==============================] - 0s 2ms/step - loss: 0.0365 - accuracy: 0.9922 - val_loss: 0.0938 - val_accuracy: 0.9503\n",
      "Epoch 54/100\n",
      "20/20 [==============================] - 0s 2ms/step - loss: 0.0368 - accuracy: 0.9906 - val_loss: 0.0673 - val_accuracy: 0.9689\n",
      "Epoch 55/100\n",
      "20/20 [==============================] - 0s 2ms/step - loss: 0.0377 - accuracy: 0.9891 - val_loss: 0.0688 - val_accuracy: 0.9752\n",
      "Epoch 56/100\n",
      "20/20 [==============================] - 0s 1ms/step - loss: 0.0354 - accuracy: 0.9906 - val_loss: 0.0891 - val_accuracy: 0.9503\n",
      "Epoch 57/100\n",
      "20/20 [==============================] - 0s 2ms/step - loss: 0.0377 - accuracy: 0.9875 - val_loss: 0.0885 - val_accuracy: 0.9565\n",
      "Epoch 58/100\n",
      "20/20 [==============================] - 0s 2ms/step - loss: 0.0370 - accuracy: 0.9906 - val_loss: 0.0947 - val_accuracy: 0.9503\n",
      "Epoch 59/100\n",
      "20/20 [==============================] - 0s 1ms/step - loss: 0.0368 - accuracy: 0.9891 - val_loss: 0.0835 - val_accuracy: 0.9627\n",
      "Epoch 60/100\n",
      "20/20 [==============================] - 0s 1ms/step - loss: 0.0414 - accuracy: 0.9844 - val_loss: 0.0723 - val_accuracy: 0.9752\n",
      "Epoch 61/100\n",
      "20/20 [==============================] - 0s 2ms/step - loss: 0.0331 - accuracy: 0.9922 - val_loss: 0.0804 - val_accuracy: 0.9752\n",
      "Epoch 62/100\n",
      "20/20 [==============================] - 0s 1ms/step - loss: 0.0378 - accuracy: 0.9906 - val_loss: 0.0897 - val_accuracy: 0.9503\n",
      "Epoch 63/100\n",
      "20/20 [==============================] - 0s 1ms/step - loss: 0.0381 - accuracy: 0.9859 - val_loss: 0.0743 - val_accuracy: 0.9814\n",
      "Epoch 64/100\n",
      "20/20 [==============================] - 0s 2ms/step - loss: 0.0325 - accuracy: 0.9891 - val_loss: 0.0822 - val_accuracy: 0.9689\n",
      "Epoch 65/100\n",
      "20/20 [==============================] - 0s 1ms/step - loss: 0.0306 - accuracy: 0.9922 - val_loss: 0.0762 - val_accuracy: 0.9814\n",
      "Epoch 66/100\n",
      "20/20 [==============================] - 0s 2ms/step - loss: 0.0311 - accuracy: 0.9922 - val_loss: 0.0839 - val_accuracy: 0.9627\n",
      "Epoch 67/100\n",
      "20/20 [==============================] - 0s 1ms/step - loss: 0.0356 - accuracy: 0.9891 - val_loss: 0.0712 - val_accuracy: 0.9689\n",
      "Epoch 68/100\n",
      "20/20 [==============================] - 0s 2ms/step - loss: 0.0370 - accuracy: 0.9906 - val_loss: 0.0777 - val_accuracy: 0.9689\n",
      "Epoch 69/100\n",
      "20/20 [==============================] - 0s 2ms/step - loss: 0.0367 - accuracy: 0.9875 - val_loss: 0.1271 - val_accuracy: 0.9503\n",
      "Epoch 70/100\n",
      "20/20 [==============================] - 0s 2ms/step - loss: 0.0307 - accuracy: 0.9937 - val_loss: 0.0836 - val_accuracy: 0.9814\n",
      "Epoch 71/100\n",
      "20/20 [==============================] - 0s 2ms/step - loss: 0.0294 - accuracy: 0.9922 - val_loss: 0.0794 - val_accuracy: 0.9814\n",
      "Epoch 72/100\n",
      "20/20 [==============================] - 0s 2ms/step - loss: 0.0295 - accuracy: 0.9922 - val_loss: 0.0832 - val_accuracy: 0.9814\n",
      "Epoch 73/100\n",
      "20/20 [==============================] - 0s 2ms/step - loss: 0.0283 - accuracy: 0.9937 - val_loss: 0.0939 - val_accuracy: 0.9503\n",
      "Epoch 74/100\n",
      "20/20 [==============================] - 0s 2ms/step - loss: 0.0354 - accuracy: 0.9844 - val_loss: 0.1152 - val_accuracy: 0.9503\n",
      "Epoch 75/100\n",
      "20/20 [==============================] - 0s 1ms/step - loss: 0.0331 - accuracy: 0.9875 - val_loss: 0.1010 - val_accuracy: 0.9503\n",
      "Epoch 76/100\n",
      "20/20 [==============================] - 0s 2ms/step - loss: 0.0306 - accuracy: 0.9922 - val_loss: 0.0811 - val_accuracy: 0.9752\n",
      "Epoch 77/100\n",
      "20/20 [==============================] - 0s 2ms/step - loss: 0.0270 - accuracy: 0.9922 - val_loss: 0.0967 - val_accuracy: 0.9627\n",
      "Epoch 78/100\n",
      "20/20 [==============================] - 0s 1ms/step - loss: 0.0262 - accuracy: 0.9906 - val_loss: 0.0918 - val_accuracy: 0.9814\n",
      "Epoch 79/100\n",
      "20/20 [==============================] - 0s 2ms/step - loss: 0.0270 - accuracy: 0.9922 - val_loss: 0.0766 - val_accuracy: 0.9689\n",
      "Epoch 80/100\n",
      "20/20 [==============================] - 0s 1ms/step - loss: 0.0270 - accuracy: 0.9937 - val_loss: 0.0899 - val_accuracy: 0.9814\n",
      "Epoch 81/100\n",
      "20/20 [==============================] - 0s 2ms/step - loss: 0.0257 - accuracy: 0.9922 - val_loss: 0.0864 - val_accuracy: 0.9752\n",
      "Epoch 82/100\n",
      "20/20 [==============================] - 0s 2ms/step - loss: 0.0272 - accuracy: 0.9906 - val_loss: 0.0976 - val_accuracy: 0.9565\n",
      "Epoch 83/100\n",
      "20/20 [==============================] - 0s 2ms/step - loss: 0.0253 - accuracy: 0.9922 - val_loss: 0.0886 - val_accuracy: 0.9752\n",
      "Epoch 84/100\n",
      "20/20 [==============================] - 0s 2ms/step - loss: 0.0290 - accuracy: 0.9922 - val_loss: 0.0820 - val_accuracy: 0.9689\n",
      "Epoch 85/100\n",
      "20/20 [==============================] - 0s 2ms/step - loss: 0.0261 - accuracy: 0.9922 - val_loss: 0.0919 - val_accuracy: 0.9752\n",
      "Epoch 86/100\n",
      "20/20 [==============================] - 0s 2ms/step - loss: 0.0243 - accuracy: 0.9922 - val_loss: 0.0884 - val_accuracy: 0.9689\n",
      "Epoch 87/100\n",
      "20/20 [==============================] - 0s 2ms/step - loss: 0.0230 - accuracy: 0.9922 - val_loss: 0.1020 - val_accuracy: 0.9565\n",
      "Epoch 88/100\n",
      "20/20 [==============================] - 0s 2ms/step - loss: 0.0263 - accuracy: 0.9922 - val_loss: 0.1251 - val_accuracy: 0.9503\n",
      "Epoch 89/100\n",
      "20/20 [==============================] - 0s 2ms/step - loss: 0.0262 - accuracy: 0.9922 - val_loss: 0.0925 - val_accuracy: 0.9627\n",
      "Epoch 90/100\n",
      "20/20 [==============================] - 0s 2ms/step - loss: 0.0231 - accuracy: 0.9937 - val_loss: 0.1195 - val_accuracy: 0.9503\n",
      "Epoch 91/100\n",
      "20/20 [==============================] - 0s 2ms/step - loss: 0.0218 - accuracy: 0.9937 - val_loss: 0.0842 - val_accuracy: 0.9689\n",
      "Epoch 92/100\n",
      "20/20 [==============================] - 0s 1ms/step - loss: 0.0237 - accuracy: 0.9906 - val_loss: 0.0952 - val_accuracy: 0.9689\n",
      "Epoch 93/100\n",
      "20/20 [==============================] - 0s 1ms/step - loss: 0.0253 - accuracy: 0.9906 - val_loss: 0.0922 - val_accuracy: 0.9565\n",
      "Epoch 94/100\n",
      "20/20 [==============================] - 0s 1ms/step - loss: 0.0251 - accuracy: 0.9922 - val_loss: 0.1165 - val_accuracy: 0.9565\n",
      "Epoch 95/100\n",
      "20/20 [==============================] - 0s 2ms/step - loss: 0.0208 - accuracy: 0.9906 - val_loss: 0.0892 - val_accuracy: 0.9689\n",
      "Epoch 96/100\n",
      "20/20 [==============================] - 0s 1ms/step - loss: 0.0210 - accuracy: 0.9937 - val_loss: 0.0989 - val_accuracy: 0.9689\n",
      "Epoch 97/100\n",
      "20/20 [==============================] - 0s 2ms/step - loss: 0.0193 - accuracy: 0.9922 - val_loss: 0.1091 - val_accuracy: 0.9565\n",
      "Epoch 98/100\n",
      "20/20 [==============================] - 0s 1ms/step - loss: 0.0204 - accuracy: 0.9937 - val_loss: 0.1319 - val_accuracy: 0.9565\n",
      "Epoch 99/100\n",
      "20/20 [==============================] - 0s 2ms/step - loss: 0.0220 - accuracy: 0.9922 - val_loss: 0.0960 - val_accuracy: 0.9503\n",
      "Epoch 100/100\n",
      "20/20 [==============================] - 0s 2ms/step - loss: 0.0199 - accuracy: 0.9953 - val_loss: 0.0897 - val_accuracy: 0.9752\n",
      "11/11 [==============================] - 0s 600us/step - loss: 0.1391 - accuracy: 0.9593\n",
      "Test Accuracy: 0.9593023061752319\n",
      "11/11 [==============================] - 0s 500us/step\n",
      "Accuracy: 0.9593023255813954\n",
      "Precision: 0.68\n",
      "Recall: 0.7391304347826086\n",
      "F1: 0.7083333333333334\n",
      "AUC: 0.9775159149397263\n"
     ]
    }
   ],
   "execution_count": 26
  },
  {
   "metadata": {
    "ExecuteTime": {
     "end_time": "2024-11-02T17:41:26.285277Z",
     "start_time": "2024-11-02T17:41:26.207249Z"
    }
   },
   "cell_type": "code",
   "source": "confusion_matrix_heatmap(y_test, y_pred)",
   "id": "ef3365a223a918b7",
   "outputs": [
    {
     "data": {
      "text/plain": [
       "<Figure size 800x600 with 1 Axes>"
      ],
      "image/png": "[encoded data removed]"
     },
     "metadata": {},
     "output_type": "display_data"
    }
   ],
   "execution_count": 27
  },
  {
   "cell_type": "markdown",
   "source": [
    "CHI2"
   ],
   "metadata": {
    "collapsed": false
   },
   "id": "17667f3858c63c3b"
  },
  {
   "cell_type": "code",
   "source": [
    "\n",
    "RN = Sequential()\n",
    "\n",
    "input_dim = X_train[CKX2Features].shape[1] \n",
    "RN.add(Dense(units=64, activation='relu', input_dim=input_dim))\n",
    "RN.add(Dense(units=32, activation='relu'))\n",
    "RN.add(Dense(units=1, activation='sigmoid'))\n",
    "RN.compile(optimizer=Adam(learning_rate=0.001), \n",
    "              loss=BinaryCrossentropy(),\n",
    "              metrics=['accuracy'])\n",
    "\n",
    "history = RN.fit(X_train[CKX2Features], y_train, epochs=100, batch_size=32, validation_split=0.2)\n",
    "\n",
    "loss, accuracy = RN.evaluate(X_test[CKX2Features], y_test)\n",
    "\n",
    "print(f'Test Accuracy: {accuracy}')\n",
    "y_pred_prob = RN.predict(X_test[CKX2Features]) \n",
    "y_pred = (y_pred_prob > 0.5).astype(int)  \n",
    "\n",
    "print(\"Accuracy:\", accuracy_score(y_test, y_pred))\n",
    "print(\"Precision:\", precision_score(y_test, y_pred))\n",
    "print(\"Recall:\", recall_score(y_test, y_pred))\n",
    "print(\"F1:\", f1_score(y_test, y_pred))\n",
    "print(\"AUC:\", roc_auc_score(y_test, y_pred_prob)) \n",
    "add_result(\"Neural Network\", \"X2\", accuracy_score(y_test, y_pred), precision_score(y_test, y_pred), recall_score(y_test, y_pred), f1_score(y_test, y_pred), roc_auc_score(y_test, y_pred_prob))\n"
   ],
   "metadata": {
    "collapsed": false,
    "ExecuteTime": {
     "end_time": "2024-11-02T17:45:17.385531Z",
     "start_time": "2024-11-02T17:45:13.567751Z"
    }
   },
   "id": "18871e152c695a6b",
   "outputs": [
    {
     "name": "stdout",
     "output_type": "stream",
     "text": [
      "Epoch 1/100\n"
     ]
    },
    {
     "name": "stderr",
     "output_type": "stream",
     "text": [
      "C:\\Users\\Randall\\AppData\\Local\\Programs\\Python\\Python310\\lib\\site-packages\\keras\\engine\\data_adapter.py:1700: FutureWarning: The behavior of `series[i:j]` with an integer-dtype index is deprecated. In a future version, this will be treated as *label-based* indexing, consistent with e.g. `series[i]` lookups. To retain the old behavior, use `series.iloc[i:j]`. To get the future behavior, use `series.loc[i:j]`.\n",
      "  return t[start:end]\n"
     ]
    },
    {
     "name": "stdout",
     "output_type": "stream",
     "text": [
      "20/20 [==============================] - 0s 5ms/step - loss: 0.6008 - accuracy: 0.7531 - val_loss: 0.4526 - val_accuracy: 0.9193\n",
      "Epoch 2/100\n",
      "20/20 [==============================] - 0s 2ms/step - loss: 0.3812 - accuracy: 0.8984 - val_loss: 0.2909 - val_accuracy: 0.9193\n",
      "Epoch 3/100\n",
      "20/20 [==============================] - 0s 2ms/step - loss: 0.2880 - accuracy: 0.8984 - val_loss: 0.2430 - val_accuracy: 0.9193\n",
      "Epoch 4/100\n",
      "20/20 [==============================] - 0s 2ms/step - loss: 0.2362 - accuracy: 0.9016 - val_loss: 0.2066 - val_accuracy: 0.9193\n",
      "Epoch 5/100\n",
      "20/20 [==============================] - 0s 2ms/step - loss: 0.1891 - accuracy: 0.9203 - val_loss: 0.1697 - val_accuracy: 0.9317\n",
      "Epoch 6/100\n",
      "20/20 [==============================] - 0s 2ms/step - loss: 0.1511 - accuracy: 0.9438 - val_loss: 0.1395 - val_accuracy: 0.9441\n",
      "Epoch 7/100\n",
      "20/20 [==============================] - 0s 2ms/step - loss: 0.1257 - accuracy: 0.9453 - val_loss: 0.1194 - val_accuracy: 0.9503\n",
      "Epoch 8/100\n",
      "20/20 [==============================] - 0s 2ms/step - loss: 0.1110 - accuracy: 0.9531 - val_loss: 0.1092 - val_accuracy: 0.9503\n",
      "Epoch 9/100\n",
      "20/20 [==============================] - 0s 2ms/step - loss: 0.1030 - accuracy: 0.9547 - val_loss: 0.0989 - val_accuracy: 0.9627\n",
      "Epoch 10/100\n",
      "20/20 [==============================] - 0s 2ms/step - loss: 0.0985 - accuracy: 0.9625 - val_loss: 0.0940 - val_accuracy: 0.9627\n",
      "Epoch 11/100\n",
      "20/20 [==============================] - 0s 2ms/step - loss: 0.0934 - accuracy: 0.9609 - val_loss: 0.0890 - val_accuracy: 0.9627\n",
      "Epoch 12/100\n",
      "20/20 [==============================] - 0s 2ms/step - loss: 0.0929 - accuracy: 0.9578 - val_loss: 0.0855 - val_accuracy: 0.9689\n",
      "Epoch 13/100\n",
      "20/20 [==============================] - 0s 2ms/step - loss: 0.0906 - accuracy: 0.9703 - val_loss: 0.0962 - val_accuracy: 0.9627\n",
      "Epoch 14/100\n",
      "20/20 [==============================] - 0s 2ms/step - loss: 0.0892 - accuracy: 0.9625 - val_loss: 0.0873 - val_accuracy: 0.9627\n",
      "Epoch 15/100\n",
      "20/20 [==============================] - 0s 2ms/step - loss: 0.0861 - accuracy: 0.9688 - val_loss: 0.0853 - val_accuracy: 0.9689\n",
      "Epoch 16/100\n",
      "20/20 [==============================] - 0s 2ms/step - loss: 0.0857 - accuracy: 0.9734 - val_loss: 0.0811 - val_accuracy: 0.9689\n",
      "Epoch 17/100\n",
      "20/20 [==============================] - 0s 2ms/step - loss: 0.0841 - accuracy: 0.9688 - val_loss: 0.0854 - val_accuracy: 0.9689\n",
      "Epoch 18/100\n",
      "20/20 [==============================] - 0s 2ms/step - loss: 0.0837 - accuracy: 0.9688 - val_loss: 0.0785 - val_accuracy: 0.9752\n",
      "Epoch 19/100\n",
      "20/20 [==============================] - 0s 2ms/step - loss: 0.0874 - accuracy: 0.9719 - val_loss: 0.0911 - val_accuracy: 0.9627\n",
      "Epoch 20/100\n",
      "20/20 [==============================] - 0s 2ms/step - loss: 0.0841 - accuracy: 0.9703 - val_loss: 0.0818 - val_accuracy: 0.9689\n",
      "Epoch 21/100\n",
      "20/20 [==============================] - 0s 2ms/step - loss: 0.0822 - accuracy: 0.9703 - val_loss: 0.0779 - val_accuracy: 0.9752\n",
      "Epoch 22/100\n",
      "20/20 [==============================] - 0s 2ms/step - loss: 0.0839 - accuracy: 0.9719 - val_loss: 0.0870 - val_accuracy: 0.9627\n",
      "Epoch 23/100\n",
      "20/20 [==============================] - 0s 2ms/step - loss: 0.0792 - accuracy: 0.9719 - val_loss: 0.0791 - val_accuracy: 0.9752\n",
      "Epoch 24/100\n",
      "20/20 [==============================] - 0s 2ms/step - loss: 0.0799 - accuracy: 0.9719 - val_loss: 0.0793 - val_accuracy: 0.9752\n",
      "Epoch 25/100\n",
      "20/20 [==============================] - 0s 2ms/step - loss: 0.0829 - accuracy: 0.9703 - val_loss: 0.0892 - val_accuracy: 0.9627\n",
      "Epoch 26/100\n",
      "20/20 [==============================] - 0s 2ms/step - loss: 0.0808 - accuracy: 0.9672 - val_loss: 0.0784 - val_accuracy: 0.9752\n",
      "Epoch 27/100\n",
      "20/20 [==============================] - 0s 2ms/step - loss: 0.0783 - accuracy: 0.9703 - val_loss: 0.0809 - val_accuracy: 0.9752\n",
      "Epoch 28/100\n",
      "20/20 [==============================] - 0s 2ms/step - loss: 0.0781 - accuracy: 0.9703 - val_loss: 0.0785 - val_accuracy: 0.9752\n",
      "Epoch 29/100\n",
      "20/20 [==============================] - 0s 2ms/step - loss: 0.0764 - accuracy: 0.9719 - val_loss: 0.0773 - val_accuracy: 0.9752\n",
      "Epoch 30/100\n",
      "20/20 [==============================] - 0s 2ms/step - loss: 0.0760 - accuracy: 0.9734 - val_loss: 0.0777 - val_accuracy: 0.9752\n",
      "Epoch 31/100\n",
      "20/20 [==============================] - 0s 2ms/step - loss: 0.0758 - accuracy: 0.9719 - val_loss: 0.0771 - val_accuracy: 0.9752\n",
      "Epoch 32/100\n",
      "20/20 [==============================] - 0s 2ms/step - loss: 0.0770 - accuracy: 0.9688 - val_loss: 0.0833 - val_accuracy: 0.9752\n",
      "Epoch 33/100\n",
      "20/20 [==============================] - 0s 2ms/step - loss: 0.0760 - accuracy: 0.9734 - val_loss: 0.0806 - val_accuracy: 0.9752\n",
      "Epoch 34/100\n",
      "20/20 [==============================] - 0s 2ms/step - loss: 0.0753 - accuracy: 0.9703 - val_loss: 0.0796 - val_accuracy: 0.9752\n",
      "Epoch 35/100\n",
      "20/20 [==============================] - 0s 2ms/step - loss: 0.0740 - accuracy: 0.9703 - val_loss: 0.0814 - val_accuracy: 0.9752\n",
      "Epoch 36/100\n",
      "20/20 [==============================] - 0s 2ms/step - loss: 0.0736 - accuracy: 0.9719 - val_loss: 0.0805 - val_accuracy: 0.9752\n",
      "Epoch 37/100\n",
      "20/20 [==============================] - 0s 2ms/step - loss: 0.0726 - accuracy: 0.9750 - val_loss: 0.0741 - val_accuracy: 0.9814\n",
      "Epoch 38/100\n",
      "20/20 [==============================] - 0s 2ms/step - loss: 0.0739 - accuracy: 0.9703 - val_loss: 0.0766 - val_accuracy: 0.9752\n",
      "Epoch 39/100\n",
      "20/20 [==============================] - 0s 2ms/step - loss: 0.0732 - accuracy: 0.9750 - val_loss: 0.0731 - val_accuracy: 0.9814\n",
      "Epoch 40/100\n",
      "20/20 [==============================] - 0s 2ms/step - loss: 0.0727 - accuracy: 0.9719 - val_loss: 0.0761 - val_accuracy: 0.9752\n",
      "Epoch 41/100\n",
      "20/20 [==============================] - 0s 2ms/step - loss: 0.0734 - accuracy: 0.9703 - val_loss: 0.0868 - val_accuracy: 0.9752\n",
      "Epoch 42/100\n",
      "20/20 [==============================] - 0s 2ms/step - loss: 0.0744 - accuracy: 0.9719 - val_loss: 0.0733 - val_accuracy: 0.9752\n",
      "Epoch 43/100\n",
      "20/20 [==============================] - 0s 2ms/step - loss: 0.0731 - accuracy: 0.9734 - val_loss: 0.0761 - val_accuracy: 0.9752\n",
      "Epoch 44/100\n",
      "20/20 [==============================] - 0s 2ms/step - loss: 0.0713 - accuracy: 0.9750 - val_loss: 0.0852 - val_accuracy: 0.9752\n",
      "Epoch 45/100\n",
      "20/20 [==============================] - 0s 2ms/step - loss: 0.0736 - accuracy: 0.9734 - val_loss: 0.0845 - val_accuracy: 0.9752\n",
      "Epoch 46/100\n",
      "20/20 [==============================] - 0s 2ms/step - loss: 0.0734 - accuracy: 0.9734 - val_loss: 0.0733 - val_accuracy: 0.9752\n",
      "Epoch 47/100\n",
      "20/20 [==============================] - 0s 2ms/step - loss: 0.0771 - accuracy: 0.9750 - val_loss: 0.0891 - val_accuracy: 0.9752\n",
      "Epoch 48/100\n",
      "20/20 [==============================] - 0s 2ms/step - loss: 0.0736 - accuracy: 0.9719 - val_loss: 0.0755 - val_accuracy: 0.9752\n",
      "Epoch 49/100\n",
      "20/20 [==============================] - 0s 2ms/step - loss: 0.0690 - accuracy: 0.9719 - val_loss: 0.0840 - val_accuracy: 0.9752\n",
      "Epoch 50/100\n",
      "20/20 [==============================] - 0s 2ms/step - loss: 0.0695 - accuracy: 0.9734 - val_loss: 0.0754 - val_accuracy: 0.9752\n",
      "Epoch 51/100\n",
      "20/20 [==============================] - 0s 2ms/step - loss: 0.0701 - accuracy: 0.9719 - val_loss: 0.0765 - val_accuracy: 0.9752\n",
      "Epoch 52/100\n",
      "20/20 [==============================] - 0s 2ms/step - loss: 0.0678 - accuracy: 0.9750 - val_loss: 0.0808 - val_accuracy: 0.9752\n",
      "Epoch 53/100\n",
      "20/20 [==============================] - 0s 2ms/step - loss: 0.0700 - accuracy: 0.9734 - val_loss: 0.0767 - val_accuracy: 0.9752\n",
      "Epoch 54/100\n",
      "20/20 [==============================] - 0s 2ms/step - loss: 0.0685 - accuracy: 0.9750 - val_loss: 0.0780 - val_accuracy: 0.9752\n",
      "Epoch 55/100\n",
      "20/20 [==============================] - 0s 2ms/step - loss: 0.0669 - accuracy: 0.9750 - val_loss: 0.0766 - val_accuracy: 0.9752\n",
      "Epoch 56/100\n",
      "20/20 [==============================] - 0s 2ms/step - loss: 0.0686 - accuracy: 0.9719 - val_loss: 0.0735 - val_accuracy: 0.9752\n",
      "Epoch 57/100\n",
      "20/20 [==============================] - 0s 2ms/step - loss: 0.0675 - accuracy: 0.9781 - val_loss: 0.0879 - val_accuracy: 0.9752\n",
      "Epoch 58/100\n",
      "20/20 [==============================] - 0s 2ms/step - loss: 0.0711 - accuracy: 0.9734 - val_loss: 0.0763 - val_accuracy: 0.9814\n",
      "Epoch 59/100\n",
      "20/20 [==============================] - 0s 2ms/step - loss: 0.0679 - accuracy: 0.9734 - val_loss: 0.0756 - val_accuracy: 0.9814\n",
      "Epoch 60/100\n",
      "20/20 [==============================] - 0s 2ms/step - loss: 0.0683 - accuracy: 0.9766 - val_loss: 0.0883 - val_accuracy: 0.9752\n",
      "Epoch 61/100\n",
      "20/20 [==============================] - 0s 2ms/step - loss: 0.0698 - accuracy: 0.9750 - val_loss: 0.0757 - val_accuracy: 0.9752\n",
      "Epoch 62/100\n",
      "20/20 [==============================] - 0s 2ms/step - loss: 0.0694 - accuracy: 0.9719 - val_loss: 0.0766 - val_accuracy: 0.9752\n",
      "Epoch 63/100\n",
      "20/20 [==============================] - 0s 2ms/step - loss: 0.0692 - accuracy: 0.9766 - val_loss: 0.0809 - val_accuracy: 0.9752\n",
      "Epoch 64/100\n",
      "20/20 [==============================] - 0s 2ms/step - loss: 0.0662 - accuracy: 0.9766 - val_loss: 0.0740 - val_accuracy: 0.9752\n",
      "Epoch 65/100\n",
      "20/20 [==============================] - 0s 2ms/step - loss: 0.0663 - accuracy: 0.9781 - val_loss: 0.0909 - val_accuracy: 0.9752\n",
      "Epoch 66/100\n",
      "20/20 [==============================] - 0s 2ms/step - loss: 0.0701 - accuracy: 0.9703 - val_loss: 0.0767 - val_accuracy: 0.9752\n",
      "Epoch 67/100\n",
      "20/20 [==============================] - 0s 2ms/step - loss: 0.0666 - accuracy: 0.9734 - val_loss: 0.0746 - val_accuracy: 0.9752\n",
      "Epoch 68/100\n",
      "20/20 [==============================] - 0s 2ms/step - loss: 0.0653 - accuracy: 0.9797 - val_loss: 0.0857 - val_accuracy: 0.9752\n",
      "Epoch 69/100\n",
      "20/20 [==============================] - 0s 2ms/step - loss: 0.0641 - accuracy: 0.9766 - val_loss: 0.0783 - val_accuracy: 0.9752\n",
      "Epoch 70/100\n",
      "20/20 [==============================] - 0s 2ms/step - loss: 0.0675 - accuracy: 0.9766 - val_loss: 0.0931 - val_accuracy: 0.9752\n",
      "Epoch 71/100\n",
      "20/20 [==============================] - 0s 2ms/step - loss: 0.0649 - accuracy: 0.9750 - val_loss: 0.0740 - val_accuracy: 0.9752\n",
      "Epoch 72/100\n",
      "20/20 [==============================] - 0s 2ms/step - loss: 0.0712 - accuracy: 0.9703 - val_loss: 0.0906 - val_accuracy: 0.9752\n",
      "Epoch 73/100\n",
      "20/20 [==============================] - 0s 2ms/step - loss: 0.0642 - accuracy: 0.9781 - val_loss: 0.0787 - val_accuracy: 0.9752\n",
      "Epoch 74/100\n",
      "20/20 [==============================] - 0s 2ms/step - loss: 0.0632 - accuracy: 0.9812 - val_loss: 0.0857 - val_accuracy: 0.9752\n",
      "Epoch 75/100\n",
      "20/20 [==============================] - 0s 2ms/step - loss: 0.0634 - accuracy: 0.9781 - val_loss: 0.0795 - val_accuracy: 0.9752\n",
      "Epoch 76/100\n",
      "20/20 [==============================] - 0s 2ms/step - loss: 0.0637 - accuracy: 0.9781 - val_loss: 0.0824 - val_accuracy: 0.9752\n",
      "Epoch 77/100\n",
      "20/20 [==============================] - 0s 2ms/step - loss: 0.0638 - accuracy: 0.9781 - val_loss: 0.0815 - val_accuracy: 0.9752\n",
      "Epoch 78/100\n",
      "20/20 [==============================] - 0s 2ms/step - loss: 0.0652 - accuracy: 0.9750 - val_loss: 0.0745 - val_accuracy: 0.9752\n",
      "Epoch 79/100\n",
      "20/20 [==============================] - 0s 2ms/step - loss: 0.0626 - accuracy: 0.9812 - val_loss: 0.0862 - val_accuracy: 0.9752\n",
      "Epoch 80/100\n",
      "20/20 [==============================] - 0s 2ms/step - loss: 0.0645 - accuracy: 0.9766 - val_loss: 0.0888 - val_accuracy: 0.9752\n",
      "Epoch 81/100\n",
      "20/20 [==============================] - 0s 2ms/step - loss: 0.0623 - accuracy: 0.9812 - val_loss: 0.0831 - val_accuracy: 0.9752\n",
      "Epoch 82/100\n",
      "20/20 [==============================] - 0s 2ms/step - loss: 0.0611 - accuracy: 0.9781 - val_loss: 0.0775 - val_accuracy: 0.9752\n",
      "Epoch 83/100\n",
      "20/20 [==============================] - 0s 2ms/step - loss: 0.0632 - accuracy: 0.9766 - val_loss: 0.0801 - val_accuracy: 0.9752\n",
      "Epoch 84/100\n",
      "20/20 [==============================] - 0s 2ms/step - loss: 0.0643 - accuracy: 0.9781 - val_loss: 0.0822 - val_accuracy: 0.9752\n",
      "Epoch 85/100\n",
      "20/20 [==============================] - 0s 2ms/step - loss: 0.0635 - accuracy: 0.9797 - val_loss: 0.0886 - val_accuracy: 0.9752\n",
      "Epoch 86/100\n",
      "20/20 [==============================] - 0s 2ms/step - loss: 0.0615 - accuracy: 0.9797 - val_loss: 0.0820 - val_accuracy: 0.9752\n",
      "Epoch 87/100\n",
      "20/20 [==============================] - 0s 2ms/step - loss: 0.0618 - accuracy: 0.9797 - val_loss: 0.0772 - val_accuracy: 0.9814\n",
      "Epoch 88/100\n",
      "20/20 [==============================] - 0s 2ms/step - loss: 0.0601 - accuracy: 0.9828 - val_loss: 0.0882 - val_accuracy: 0.9752\n",
      "Epoch 89/100\n",
      "20/20 [==============================] - 0s 2ms/step - loss: 0.0621 - accuracy: 0.9781 - val_loss: 0.0835 - val_accuracy: 0.9752\n",
      "Epoch 90/100\n",
      "20/20 [==============================] - 0s 2ms/step - loss: 0.0602 - accuracy: 0.9797 - val_loss: 0.0854 - val_accuracy: 0.9752\n",
      "Epoch 91/100\n",
      "20/20 [==============================] - 0s 2ms/step - loss: 0.0603 - accuracy: 0.9766 - val_loss: 0.0770 - val_accuracy: 0.9752\n",
      "Epoch 92/100\n",
      "20/20 [==============================] - 0s 2ms/step - loss: 0.0654 - accuracy: 0.9766 - val_loss: 0.0866 - val_accuracy: 0.9752\n",
      "Epoch 93/100\n",
      "20/20 [==============================] - 0s 2ms/step - loss: 0.0597 - accuracy: 0.9797 - val_loss: 0.0816 - val_accuracy: 0.9752\n",
      "Epoch 94/100\n",
      "20/20 [==============================] - 0s 2ms/step - loss: 0.0618 - accuracy: 0.9781 - val_loss: 0.0874 - val_accuracy: 0.9752\n",
      "Epoch 95/100\n",
      "20/20 [==============================] - 0s 2ms/step - loss: 0.0589 - accuracy: 0.9797 - val_loss: 0.0876 - val_accuracy: 0.9752\n",
      "Epoch 96/100\n",
      "20/20 [==============================] - 0s 2ms/step - loss: 0.0599 - accuracy: 0.9828 - val_loss: 0.0805 - val_accuracy: 0.9752\n",
      "Epoch 97/100\n",
      "20/20 [==============================] - 0s 2ms/step - loss: 0.0576 - accuracy: 0.9828 - val_loss: 0.0879 - val_accuracy: 0.9752\n",
      "Epoch 98/100\n",
      "20/20 [==============================] - 0s 2ms/step - loss: 0.0585 - accuracy: 0.9812 - val_loss: 0.0866 - val_accuracy: 0.9752\n",
      "Epoch 99/100\n",
      "20/20 [==============================] - 0s 2ms/step - loss: 0.0580 - accuracy: 0.9797 - val_loss: 0.0843 - val_accuracy: 0.9752\n",
      "Epoch 100/100\n",
      "20/20 [==============================] - 0s 1ms/step - loss: 0.0592 - accuracy: 0.9828 - val_loss: 0.0891 - val_accuracy: 0.9752\n",
      "11/11 [==============================] - 0s 700us/step - loss: 0.0994 - accuracy: 0.9651\n",
      "Test Accuracy: 0.9651162624359131\n",
      "11/11 [==============================] - 0s 500us/step\n",
      "Accuracy: 0.9651162790697675\n",
      "Precision: 0.7619047619047619\n",
      "Recall: 0.6956521739130435\n",
      "F1: 0.7272727272727272\n",
      "AUC: 0.9840173371258296\n"
     ]
    }
   ],
   "execution_count": 31
  },
  {
   "metadata": {
    "ExecuteTime": {
     "end_time": "2024-11-02T17:45:17.464122Z",
     "start_time": "2024-11-02T17:45:17.389537Z"
    }
   },
   "cell_type": "code",
   "source": "confusion_matrix_heatmap(y_test, y_pred)",
   "id": "2e7b6c7dcc774b5f",
   "outputs": [
    {
     "data": {
      "text/plain": [
       "<Figure size 800x600 with 1 Axes>"
      ],
      "image/png": "[encoded data removed]"
     },
     "metadata": {},
     "output_type": "display_data"
    }
   ],
   "execution_count": 32
  },
  {
   "cell_type": "markdown",
   "source": [
    "RELIEFF"
   ],
   "metadata": {
    "collapsed": false
   },
   "id": "1248f7a794251bcb"
  },
  {
   "cell_type": "code",
   "source": [
    "RN = Sequential()\n",
    "\n",
    "input_dim = X_train[RFFeatures].shape[1] \n",
    "RN.add(Dense(units=64, activation='relu', input_dim=input_dim))\n",
    "RN.add(Dense(units=32, activation='relu'))\n",
    "RN.add(Dense(units=1, activation='sigmoid'))\n",
    "RN.compile(optimizer=Adam(learning_rate=0.001), \n",
    "              loss=BinaryCrossentropy(),\n",
    "              metrics=['accuracy'])\n",
    "\n",
    "history = RN.fit(X_train[RFFeatures], y_train, epochs=100, batch_size=32, validation_split=0.2)\n",
    "\n",
    "loss, accuracy = RN.evaluate(X_test[RFFeatures], y_test)\n",
    "\n",
    "print(f'Test Accuracy: {accuracy}')\n",
    "y_pred_prob = RN.predict(X_test[RFFeatures]) \n",
    "y_pred = (y_pred_prob > 0.5).astype(int)  \n",
    "\n",
    "print(\"Accuracy:\", accuracy_score(y_test, y_pred))\n",
    "print(\"Precision:\", precision_score(y_test, y_pred))\n",
    "print(\"Recall:\", recall_score(y_test, y_pred))\n",
    "print(\"F1:\", f1_score(y_test, y_pred))\n",
    "print(\"AUC:\", roc_auc_score(y_test, y_pred_prob)) \n",
    "add_result(\"Neural Network\", \"Relief\", accuracy_score(y_test, y_pred), precision_score(y_test, y_pred), recall_score(y_test, y_pred), f1_score(y_test, y_pred), roc_auc_score(y_test, y_pred_prob))"
   ],
   "metadata": {
    "collapsed": false,
    "ExecuteTime": {
     "end_time": "2024-11-02T17:45:21.299541Z",
     "start_time": "2024-11-02T17:45:17.496556Z"
    }
   },
   "id": "f9e73b5be77d7950",
   "outputs": [
    {
     "name": "stdout",
     "output_type": "stream",
     "text": [
      "Epoch 1/100\n"
     ]
    },
    {
     "name": "stderr",
     "output_type": "stream",
     "text": [
      "C:\\Users\\Randall\\AppData\\Local\\Programs\\Python\\Python310\\lib\\site-packages\\keras\\engine\\data_adapter.py:1700: FutureWarning: The behavior of `series[i:j]` with an integer-dtype index is deprecated. In a future version, this will be treated as *label-based* indexing, consistent with e.g. `series[i]` lookups. To retain the old behavior, use `series.iloc[i:j]`. To get the future behavior, use `series.loc[i:j]`.\n",
      "  return t[start:end]\n"
     ]
    },
    {
     "name": "stdout",
     "output_type": "stream",
     "text": [
      "20/20 [==============================] - 0s 6ms/step - loss: 0.5253 - accuracy: 0.8891 - val_loss: 0.3919 - val_accuracy: 0.9193\n",
      "Epoch 2/100\n",
      "20/20 [==============================] - 0s 1ms/step - loss: 0.3397 - accuracy: 0.8984 - val_loss: 0.2702 - val_accuracy: 0.9193\n",
      "Epoch 3/100\n",
      "20/20 [==============================] - 0s 1ms/step - loss: 0.2839 - accuracy: 0.8984 - val_loss: 0.2485 - val_accuracy: 0.9193\n",
      "Epoch 4/100\n",
      "20/20 [==============================] - 0s 2ms/step - loss: 0.2546 - accuracy: 0.8984 - val_loss: 0.2294 - val_accuracy: 0.9193\n",
      "Epoch 5/100\n",
      "20/20 [==============================] - 0s 2ms/step - loss: 0.2236 - accuracy: 0.9000 - val_loss: 0.2031 - val_accuracy: 0.9193\n",
      "Epoch 6/100\n",
      "20/20 [==============================] - 0s 2ms/step - loss: 0.1867 - accuracy: 0.9187 - val_loss: 0.1808 - val_accuracy: 0.9255\n",
      "Epoch 7/100\n",
      "20/20 [==============================] - 0s 2ms/step - loss: 0.1594 - accuracy: 0.9375 - val_loss: 0.1606 - val_accuracy: 0.9317\n",
      "Epoch 8/100\n",
      "20/20 [==============================] - 0s 2ms/step - loss: 0.1342 - accuracy: 0.9406 - val_loss: 0.1407 - val_accuracy: 0.9379\n",
      "Epoch 9/100\n",
      "20/20 [==============================] - 0s 2ms/step - loss: 0.1177 - accuracy: 0.9484 - val_loss: 0.1474 - val_accuracy: 0.9317\n",
      "Epoch 10/100\n",
      "20/20 [==============================] - 0s 2ms/step - loss: 0.1139 - accuracy: 0.9484 - val_loss: 0.1231 - val_accuracy: 0.9441\n",
      "Epoch 11/100\n",
      "20/20 [==============================] - 0s 2ms/step - loss: 0.1027 - accuracy: 0.9563 - val_loss: 0.1164 - val_accuracy: 0.9565\n",
      "Epoch 12/100\n",
      "20/20 [==============================] - 0s 2ms/step - loss: 0.0955 - accuracy: 0.9578 - val_loss: 0.1199 - val_accuracy: 0.9441\n",
      "Epoch 13/100\n",
      "20/20 [==============================] - 0s 2ms/step - loss: 0.0912 - accuracy: 0.9625 - val_loss: 0.1140 - val_accuracy: 0.9565\n",
      "Epoch 14/100\n",
      "20/20 [==============================] - 0s 2ms/step - loss: 0.0882 - accuracy: 0.9641 - val_loss: 0.1132 - val_accuracy: 0.9565\n",
      "Epoch 15/100\n",
      "20/20 [==============================] - 0s 1ms/step - loss: 0.0860 - accuracy: 0.9672 - val_loss: 0.1093 - val_accuracy: 0.9627\n",
      "Epoch 16/100\n",
      "20/20 [==============================] - 0s 1ms/step - loss: 0.0836 - accuracy: 0.9672 - val_loss: 0.1086 - val_accuracy: 0.9565\n",
      "Epoch 17/100\n",
      "20/20 [==============================] - 0s 2ms/step - loss: 0.0815 - accuracy: 0.9656 - val_loss: 0.1064 - val_accuracy: 0.9565\n",
      "Epoch 18/100\n",
      "20/20 [==============================] - 0s 2ms/step - loss: 0.0808 - accuracy: 0.9641 - val_loss: 0.1113 - val_accuracy: 0.9627\n",
      "Epoch 19/100\n",
      "20/20 [==============================] - 0s 2ms/step - loss: 0.0812 - accuracy: 0.9672 - val_loss: 0.1042 - val_accuracy: 0.9627\n",
      "Epoch 20/100\n",
      "20/20 [==============================] - 0s 2ms/step - loss: 0.0800 - accuracy: 0.9656 - val_loss: 0.1024 - val_accuracy: 0.9689\n",
      "Epoch 21/100\n",
      "20/20 [==============================] - 0s 2ms/step - loss: 0.0809 - accuracy: 0.9625 - val_loss: 0.1026 - val_accuracy: 0.9627\n",
      "Epoch 22/100\n",
      "20/20 [==============================] - 0s 2ms/step - loss: 0.0765 - accuracy: 0.9656 - val_loss: 0.1024 - val_accuracy: 0.9627\n",
      "Epoch 23/100\n",
      "20/20 [==============================] - 0s 1ms/step - loss: 0.0749 - accuracy: 0.9750 - val_loss: 0.1106 - val_accuracy: 0.9565\n",
      "Epoch 24/100\n",
      "20/20 [==============================] - 0s 2ms/step - loss: 0.0751 - accuracy: 0.9656 - val_loss: 0.1089 - val_accuracy: 0.9565\n",
      "Epoch 25/100\n",
      "20/20 [==============================] - 0s 2ms/step - loss: 0.0758 - accuracy: 0.9719 - val_loss: 0.1017 - val_accuracy: 0.9627\n",
      "Epoch 26/100\n",
      "20/20 [==============================] - 0s 1ms/step - loss: 0.0735 - accuracy: 0.9672 - val_loss: 0.1029 - val_accuracy: 0.9627\n",
      "Epoch 27/100\n",
      "20/20 [==============================] - 0s 2ms/step - loss: 0.0748 - accuracy: 0.9672 - val_loss: 0.1052 - val_accuracy: 0.9627\n",
      "Epoch 28/100\n",
      "20/20 [==============================] - 0s 2ms/step - loss: 0.0718 - accuracy: 0.9703 - val_loss: 0.1041 - val_accuracy: 0.9627\n",
      "Epoch 29/100\n",
      "20/20 [==============================] - 0s 2ms/step - loss: 0.0713 - accuracy: 0.9703 - val_loss: 0.1038 - val_accuracy: 0.9627\n",
      "Epoch 30/100\n",
      "20/20 [==============================] - 0s 2ms/step - loss: 0.0712 - accuracy: 0.9719 - val_loss: 0.1028 - val_accuracy: 0.9627\n",
      "Epoch 31/100\n",
      "20/20 [==============================] - 0s 1ms/step - loss: 0.0701 - accuracy: 0.9703 - val_loss: 0.1083 - val_accuracy: 0.9627\n",
      "Epoch 32/100\n",
      "20/20 [==============================] - 0s 2ms/step - loss: 0.0712 - accuracy: 0.9688 - val_loss: 0.0999 - val_accuracy: 0.9689\n",
      "Epoch 33/100\n",
      "20/20 [==============================] - 0s 2ms/step - loss: 0.0694 - accuracy: 0.9750 - val_loss: 0.1099 - val_accuracy: 0.9627\n",
      "Epoch 34/100\n",
      "20/20 [==============================] - 0s 2ms/step - loss: 0.0694 - accuracy: 0.9703 - val_loss: 0.1022 - val_accuracy: 0.9627\n",
      "Epoch 35/100\n",
      "20/20 [==============================] - 0s 2ms/step - loss: 0.0688 - accuracy: 0.9734 - val_loss: 0.1080 - val_accuracy: 0.9627\n",
      "Epoch 36/100\n",
      "20/20 [==============================] - 0s 2ms/step - loss: 0.0703 - accuracy: 0.9703 - val_loss: 0.0983 - val_accuracy: 0.9627\n",
      "Epoch 37/100\n",
      "20/20 [==============================] - 0s 2ms/step - loss: 0.0686 - accuracy: 0.9719 - val_loss: 0.1271 - val_accuracy: 0.9441\n",
      "Epoch 38/100\n",
      "20/20 [==============================] - 0s 2ms/step - loss: 0.0702 - accuracy: 0.9672 - val_loss: 0.1028 - val_accuracy: 0.9627\n",
      "Epoch 39/100\n",
      "20/20 [==============================] - 0s 2ms/step - loss: 0.0679 - accuracy: 0.9734 - val_loss: 0.1148 - val_accuracy: 0.9627\n",
      "Epoch 40/100\n",
      "20/20 [==============================] - 0s 2ms/step - loss: 0.0691 - accuracy: 0.9703 - val_loss: 0.1028 - val_accuracy: 0.9689\n",
      "Epoch 41/100\n",
      "20/20 [==============================] - 0s 2ms/step - loss: 0.0681 - accuracy: 0.9719 - val_loss: 0.1076 - val_accuracy: 0.9627\n",
      "Epoch 42/100\n",
      "20/20 [==============================] - 0s 2ms/step - loss: 0.0685 - accuracy: 0.9734 - val_loss: 0.1021 - val_accuracy: 0.9689\n",
      "Epoch 43/100\n",
      "20/20 [==============================] - 0s 2ms/step - loss: 0.0697 - accuracy: 0.9734 - val_loss: 0.1078 - val_accuracy: 0.9627\n",
      "Epoch 44/100\n",
      "20/20 [==============================] - 0s 2ms/step - loss: 0.0673 - accuracy: 0.9719 - val_loss: 0.1024 - val_accuracy: 0.9689\n",
      "Epoch 45/100\n",
      "20/20 [==============================] - 0s 2ms/step - loss: 0.0678 - accuracy: 0.9750 - val_loss: 0.1020 - val_accuracy: 0.9689\n",
      "Epoch 46/100\n",
      "20/20 [==============================] - 0s 2ms/step - loss: 0.0662 - accuracy: 0.9734 - val_loss: 0.1125 - val_accuracy: 0.9565\n",
      "Epoch 47/100\n",
      "20/20 [==============================] - 0s 2ms/step - loss: 0.0660 - accuracy: 0.9734 - val_loss: 0.1028 - val_accuracy: 0.9689\n",
      "Epoch 48/100\n",
      "20/20 [==============================] - 0s 2ms/step - loss: 0.0672 - accuracy: 0.9750 - val_loss: 0.1068 - val_accuracy: 0.9565\n",
      "Epoch 49/100\n",
      "20/20 [==============================] - 0s 2ms/step - loss: 0.0659 - accuracy: 0.9734 - val_loss: 0.1054 - val_accuracy: 0.9565\n",
      "Epoch 50/100\n",
      "20/20 [==============================] - 0s 2ms/step - loss: 0.0654 - accuracy: 0.9750 - val_loss: 0.1069 - val_accuracy: 0.9565\n",
      "Epoch 51/100\n",
      "20/20 [==============================] - 0s 2ms/step - loss: 0.0660 - accuracy: 0.9719 - val_loss: 0.1165 - val_accuracy: 0.9565\n",
      "Epoch 52/100\n",
      "20/20 [==============================] - 0s 2ms/step - loss: 0.0651 - accuracy: 0.9766 - val_loss: 0.0983 - val_accuracy: 0.9627\n",
      "Epoch 53/100\n",
      "20/20 [==============================] - 0s 2ms/step - loss: 0.0668 - accuracy: 0.9750 - val_loss: 0.1202 - val_accuracy: 0.9565\n",
      "Epoch 54/100\n",
      "20/20 [==============================] - 0s 2ms/step - loss: 0.0648 - accuracy: 0.9703 - val_loss: 0.1012 - val_accuracy: 0.9627\n",
      "Epoch 55/100\n",
      "20/20 [==============================] - 0s 2ms/step - loss: 0.0691 - accuracy: 0.9750 - val_loss: 0.1080 - val_accuracy: 0.9565\n",
      "Epoch 56/100\n",
      "20/20 [==============================] - 0s 2ms/step - loss: 0.0642 - accuracy: 0.9766 - val_loss: 0.1126 - val_accuracy: 0.9565\n",
      "Epoch 57/100\n",
      "20/20 [==============================] - 0s 2ms/step - loss: 0.0642 - accuracy: 0.9750 - val_loss: 0.1073 - val_accuracy: 0.9565\n",
      "Epoch 58/100\n",
      "20/20 [==============================] - 0s 2ms/step - loss: 0.0684 - accuracy: 0.9766 - val_loss: 0.0994 - val_accuracy: 0.9565\n",
      "Epoch 59/100\n",
      "20/20 [==============================] - 0s 2ms/step - loss: 0.0637 - accuracy: 0.9781 - val_loss: 0.1218 - val_accuracy: 0.9565\n",
      "Epoch 60/100\n",
      "20/20 [==============================] - 0s 2ms/step - loss: 0.0683 - accuracy: 0.9797 - val_loss: 0.1182 - val_accuracy: 0.9565\n",
      "Epoch 61/100\n",
      "20/20 [==============================] - 0s 2ms/step - loss: 0.0657 - accuracy: 0.9734 - val_loss: 0.0929 - val_accuracy: 0.9689\n",
      "Epoch 62/100\n",
      "20/20 [==============================] - 0s 2ms/step - loss: 0.0643 - accuracy: 0.9797 - val_loss: 0.1222 - val_accuracy: 0.9565\n",
      "Epoch 63/100\n",
      "20/20 [==============================] - 0s 2ms/step - loss: 0.0644 - accuracy: 0.9781 - val_loss: 0.1072 - val_accuracy: 0.9565\n",
      "Epoch 64/100\n",
      "20/20 [==============================] - 0s 2ms/step - loss: 0.0632 - accuracy: 0.9766 - val_loss: 0.1085 - val_accuracy: 0.9565\n",
      "Epoch 65/100\n",
      "20/20 [==============================] - 0s 1ms/step - loss: 0.0625 - accuracy: 0.9766 - val_loss: 0.1060 - val_accuracy: 0.9565\n",
      "Epoch 66/100\n",
      "20/20 [==============================] - 0s 2ms/step - loss: 0.0644 - accuracy: 0.9766 - val_loss: 0.1018 - val_accuracy: 0.9565\n",
      "Epoch 67/100\n",
      "20/20 [==============================] - 0s 2ms/step - loss: 0.0662 - accuracy: 0.9734 - val_loss: 0.1109 - val_accuracy: 0.9565\n",
      "Epoch 68/100\n",
      "20/20 [==============================] - 0s 2ms/step - loss: 0.0630 - accuracy: 0.9797 - val_loss: 0.1128 - val_accuracy: 0.9565\n",
      "Epoch 69/100\n",
      "20/20 [==============================] - 0s 2ms/step - loss: 0.0626 - accuracy: 0.9766 - val_loss: 0.1121 - val_accuracy: 0.9565\n",
      "Epoch 70/100\n",
      "20/20 [==============================] - 0s 2ms/step - loss: 0.0628 - accuracy: 0.9750 - val_loss: 0.1089 - val_accuracy: 0.9565\n",
      "Epoch 71/100\n",
      "20/20 [==============================] - 0s 2ms/step - loss: 0.0616 - accuracy: 0.9781 - val_loss: 0.1050 - val_accuracy: 0.9627\n",
      "Epoch 72/100\n",
      "20/20 [==============================] - 0s 2ms/step - loss: 0.0614 - accuracy: 0.9766 - val_loss: 0.1061 - val_accuracy: 0.9627\n",
      "Epoch 73/100\n",
      "20/20 [==============================] - 0s 1ms/step - loss: 0.0610 - accuracy: 0.9781 - val_loss: 0.1123 - val_accuracy: 0.9565\n",
      "Epoch 74/100\n",
      "20/20 [==============================] - 0s 2ms/step - loss: 0.0611 - accuracy: 0.9750 - val_loss: 0.1096 - val_accuracy: 0.9565\n",
      "Epoch 75/100\n",
      "20/20 [==============================] - 0s 2ms/step - loss: 0.0658 - accuracy: 0.9750 - val_loss: 0.1328 - val_accuracy: 0.9565\n",
      "Epoch 76/100\n",
      "20/20 [==============================] - 0s 2ms/step - loss: 0.0612 - accuracy: 0.9766 - val_loss: 0.1071 - val_accuracy: 0.9627\n",
      "Epoch 77/100\n",
      "20/20 [==============================] - 0s 2ms/step - loss: 0.0667 - accuracy: 0.9734 - val_loss: 0.1431 - val_accuracy: 0.9441\n",
      "Epoch 78/100\n",
      "20/20 [==============================] - 0s 2ms/step - loss: 0.0630 - accuracy: 0.9766 - val_loss: 0.0943 - val_accuracy: 0.9565\n",
      "Epoch 79/100\n",
      "20/20 [==============================] - 0s 1ms/step - loss: 0.0632 - accuracy: 0.9750 - val_loss: 0.1133 - val_accuracy: 0.9565\n",
      "Epoch 80/100\n",
      "20/20 [==============================] - 0s 2ms/step - loss: 0.0606 - accuracy: 0.9766 - val_loss: 0.1007 - val_accuracy: 0.9627\n",
      "Epoch 81/100\n",
      "20/20 [==============================] - 0s 1ms/step - loss: 0.0604 - accuracy: 0.9781 - val_loss: 0.1167 - val_accuracy: 0.9565\n",
      "Epoch 82/100\n",
      "20/20 [==============================] - 0s 2ms/step - loss: 0.0613 - accuracy: 0.9766 - val_loss: 0.0973 - val_accuracy: 0.9627\n",
      "Epoch 83/100\n",
      "20/20 [==============================] - 0s 2ms/step - loss: 0.0604 - accuracy: 0.9766 - val_loss: 0.1118 - val_accuracy: 0.9565\n",
      "Epoch 84/100\n",
      "20/20 [==============================] - 0s 2ms/step - loss: 0.0613 - accuracy: 0.9766 - val_loss: 0.1009 - val_accuracy: 0.9627\n",
      "Epoch 85/100\n",
      "20/20 [==============================] - 0s 2ms/step - loss: 0.0652 - accuracy: 0.9797 - val_loss: 0.1305 - val_accuracy: 0.9565\n",
      "Epoch 86/100\n",
      "20/20 [==============================] - 0s 2ms/step - loss: 0.0611 - accuracy: 0.9766 - val_loss: 0.1027 - val_accuracy: 0.9627\n",
      "Epoch 87/100\n",
      "20/20 [==============================] - 0s 2ms/step - loss: 0.0588 - accuracy: 0.9766 - val_loss: 0.1115 - val_accuracy: 0.9565\n",
      "Epoch 88/100\n",
      "20/20 [==============================] - 0s 2ms/step - loss: 0.0592 - accuracy: 0.9781 - val_loss: 0.1002 - val_accuracy: 0.9565\n",
      "Epoch 89/100\n",
      "20/20 [==============================] - 0s 2ms/step - loss: 0.0609 - accuracy: 0.9766 - val_loss: 0.1043 - val_accuracy: 0.9627\n",
      "Epoch 90/100\n",
      "20/20 [==============================] - 0s 2ms/step - loss: 0.0589 - accuracy: 0.9766 - val_loss: 0.1073 - val_accuracy: 0.9627\n",
      "Epoch 91/100\n",
      "20/20 [==============================] - 0s 2ms/step - loss: 0.0584 - accuracy: 0.9781 - val_loss: 0.1059 - val_accuracy: 0.9627\n",
      "Epoch 92/100\n",
      "20/20 [==============================] - 0s 2ms/step - loss: 0.0584 - accuracy: 0.9781 - val_loss: 0.1092 - val_accuracy: 0.9627\n",
      "Epoch 93/100\n",
      "20/20 [==============================] - 0s 2ms/step - loss: 0.0575 - accuracy: 0.9797 - val_loss: 0.1067 - val_accuracy: 0.9627\n",
      "Epoch 94/100\n",
      "20/20 [==============================] - 0s 2ms/step - loss: 0.0579 - accuracy: 0.9781 - val_loss: 0.1048 - val_accuracy: 0.9627\n",
      "Epoch 95/100\n",
      "20/20 [==============================] - 0s 2ms/step - loss: 0.0588 - accuracy: 0.9750 - val_loss: 0.1084 - val_accuracy: 0.9627\n",
      "Epoch 96/100\n",
      "20/20 [==============================] - 0s 2ms/step - loss: 0.0571 - accuracy: 0.9797 - val_loss: 0.1138 - val_accuracy: 0.9565\n",
      "Epoch 97/100\n",
      "20/20 [==============================] - 0s 2ms/step - loss: 0.0574 - accuracy: 0.9781 - val_loss: 0.1021 - val_accuracy: 0.9627\n",
      "Epoch 98/100\n",
      "20/20 [==============================] - 0s 2ms/step - loss: 0.0572 - accuracy: 0.9797 - val_loss: 0.1162 - val_accuracy: 0.9565\n",
      "Epoch 99/100\n",
      "20/20 [==============================] - 0s 2ms/step - loss: 0.0618 - accuracy: 0.9766 - val_loss: 0.1071 - val_accuracy: 0.9627\n",
      "Epoch 100/100\n",
      "20/20 [==============================] - 0s 2ms/step - loss: 0.0576 - accuracy: 0.9797 - val_loss: 0.1015 - val_accuracy: 0.9627\n",
      "11/11 [==============================] - 0s 693us/step - loss: 0.1220 - accuracy: 0.9622\n",
      "Test Accuracy: 0.9622092843055725\n",
      "11/11 [==============================] - 0s 500us/step\n",
      "Accuracy: 0.9622093023255814\n",
      "Precision: 0.75\n",
      "Recall: 0.6521739130434783\n",
      "F1: 0.6976744186046512\n",
      "AUC: 0.9646485168630639\n"
     ]
    }
   ],
   "execution_count": 33
  },
  {
   "metadata": {
    "ExecuteTime": {
     "end_time": "2024-11-02T17:45:21.409307Z",
     "start_time": "2024-11-02T17:45:21.332615Z"
    }
   },
   "cell_type": "code",
   "source": "confusion_matrix_heatmap(y_test, y_pred)",
   "id": "a6ec81574c874c7",
   "outputs": [
    {
     "data": {
      "text/plain": [
       "<Figure size 800x600 with 1 Axes>"
      ],
      "image/png": "[encoded data removed]"
     },
     "metadata": {},
     "output_type": "display_data"
    }
   ],
   "execution_count": 34
  },
  {
   "cell_type": "code",
   "source": "display_tables()",
   "metadata": {
    "collapsed": false
   },
   "id": "b3884fc7bc27fd88",
   "execution_count": 35,
   "outputs": [
    {
     "data": {
      "text/plain": [
       "                    Accuracy Precision    Recall  F1 Score       AUC\n",
       "Mutual Information  0.930233  0.487179  0.826087  0.612903  0.881891\n",
       "X2                  0.956395  0.642857  0.782609  0.705882  0.875728\n",
       "Relief              0.947674  0.586207   0.73913  0.653846  0.850874"
      ],
      "text/html": [
       "<div>\n",
       "<style scoped>\n",
       "    .dataframe tbody tr th:only-of-type {\n",
       "        vertical-align: middle;\n",
       "    }\n",
       "\n",
       "    .dataframe tbody tr th {\n",
       "        vertical-align: top;\n",
       "    }\n",
       "\n",
       "    .dataframe thead th {\n",
       "        text-align: right;\n",
       "    }\n",
       "</style>\n",
       "<table border=\"1\" class=\"dataframe\">\n",
       "  <thead>\n",
       "    <tr style=\"text-align: right;\">\n",
       "      <th></th>\n",
       "      <th>Accuracy</th>\n",
       "      <th>Precision</th>\n",
       "      <th>Recall</th>\n",
       "      <th>F1 Score</th>\n",
       "      <th>AUC</th>\n",
       "    </tr>\n",
       "  </thead>\n",
       "  <tbody>\n",
       "    <tr>\n",
       "      <th>Mutual Information</th>\n",
       "      <td>0.930233</td>\n",
       "      <td>0.487179</td>\n",
       "      <td>0.826087</td>\n",
       "      <td>0.612903</td>\n",
       "      <td>0.881891</td>\n",
       "    </tr>\n",
       "    <tr>\n",
       "      <th>X2</th>\n",
       "      <td>0.956395</td>\n",
       "      <td>0.642857</td>\n",
       "      <td>0.782609</td>\n",
       "      <td>0.705882</td>\n",
       "      <td>0.875728</td>\n",
       "    </tr>\n",
       "    <tr>\n",
       "      <th>Relief</th>\n",
       "      <td>0.947674</td>\n",
       "      <td>0.586207</td>\n",
       "      <td>0.73913</td>\n",
       "      <td>0.653846</td>\n",
       "      <td>0.850874</td>\n",
       "    </tr>\n",
       "  </tbody>\n",
       "</table>\n",
       "</div>"
      ]
     },
     "metadata": {},
     "output_type": "display_data"
    },
    {
     "name": "stdout",
     "output_type": "stream",
     "text": [
      "Random Forest Results\n"
     ]
    },
    {
     "data": {
      "text/plain": [
       "                    Accuracy Precision    Recall  F1 Score       AUC\n",
       "Mutual Information  0.968023       0.8  0.695652  0.744186  0.841596\n",
       "X2                  0.968023  0.833333  0.652174  0.731707  0.821414\n",
       "Relief              0.965116  0.823529  0.608696       0.7  0.799675"
      ],
      "text/html": [
       "<div>\n",
       "<style scoped>\n",
       "    .dataframe tbody tr th:only-of-type {\n",
       "        vertical-align: middle;\n",
       "    }\n",
       "\n",
       "    .dataframe tbody tr th {\n",
       "        vertical-align: top;\n",
       "    }\n",
       "\n",
       "    .dataframe thead th {\n",
       "        text-align: right;\n",
       "    }\n",
       "</style>\n",
       "<table border=\"1\" class=\"dataframe\">\n",
       "  <thead>\n",
       "    <tr style=\"text-align: right;\">\n",
       "      <th></th>\n",
       "      <th>Accuracy</th>\n",
       "      <th>Precision</th>\n",
       "      <th>Recall</th>\n",
       "      <th>F1 Score</th>\n",
       "      <th>AUC</th>\n",
       "    </tr>\n",
       "  </thead>\n",
       "  <tbody>\n",
       "    <tr>\n",
       "      <th>Mutual Information</th>\n",
       "      <td>0.968023</td>\n",
       "      <td>0.8</td>\n",
       "      <td>0.695652</td>\n",
       "      <td>0.744186</td>\n",
       "      <td>0.841596</td>\n",
       "    </tr>\n",
       "    <tr>\n",
       "      <th>X2</th>\n",
       "      <td>0.968023</td>\n",
       "      <td>0.833333</td>\n",
       "      <td>0.652174</td>\n",
       "      <td>0.731707</td>\n",
       "      <td>0.821414</td>\n",
       "    </tr>\n",
       "    <tr>\n",
       "      <th>Relief</th>\n",
       "      <td>0.965116</td>\n",
       "      <td>0.823529</td>\n",
       "      <td>0.608696</td>\n",
       "      <td>0.7</td>\n",
       "      <td>0.799675</td>\n",
       "    </tr>\n",
       "  </tbody>\n",
       "</table>\n",
       "</div>"
      ]
     },
     "metadata": {},
     "output_type": "display_data"
    },
    {
     "name": "stdout",
     "output_type": "stream",
     "text": [
      "Neural Network Results\n"
     ]
    },
    {
     "data": {
      "text/plain": [
       "                    Accuracy Precision    Recall  F1 Score       AUC\n",
       "Mutual Information  0.959302      0.68   0.73913  0.708333  0.977516\n",
       "X2                  0.965116  0.761905  0.695652  0.727273  0.984017\n",
       "Relief              0.962209      0.75  0.652174  0.697674  0.964649"
      ],
      "text/html": [
       "<div>\n",
       "<style scoped>\n",
       "    .dataframe tbody tr th:only-of-type {\n",
       "        vertical-align: middle;\n",
       "    }\n",
       "\n",
       "    .dataframe tbody tr th {\n",
       "        vertical-align: top;\n",
       "    }\n",
       "\n",
       "    .dataframe thead th {\n",
       "        text-align: right;\n",
       "    }\n",
       "</style>\n",
       "<table border=\"1\" class=\"dataframe\">\n",
       "  <thead>\n",
       "    <tr style=\"text-align: right;\">\n",
       "      <th></th>\n",
       "      <th>Accuracy</th>\n",
       "      <th>Precision</th>\n",
       "      <th>Recall</th>\n",
       "      <th>F1 Score</th>\n",
       "      <th>AUC</th>\n",
       "    </tr>\n",
       "  </thead>\n",
       "  <tbody>\n",
       "    <tr>\n",
       "      <th>Mutual Information</th>\n",
       "      <td>0.959302</td>\n",
       "      <td>0.68</td>\n",
       "      <td>0.73913</td>\n",
       "      <td>0.708333</td>\n",
       "      <td>0.977516</td>\n",
       "    </tr>\n",
       "    <tr>\n",
       "      <th>X2</th>\n",
       "      <td>0.965116</td>\n",
       "      <td>0.761905</td>\n",
       "      <td>0.695652</td>\n",
       "      <td>0.727273</td>\n",
       "      <td>0.984017</td>\n",
       "    </tr>\n",
       "    <tr>\n",
       "      <th>Relief</th>\n",
       "      <td>0.962209</td>\n",
       "      <td>0.75</td>\n",
       "      <td>0.652174</td>\n",
       "      <td>0.697674</td>\n",
       "      <td>0.964649</td>\n",
       "    </tr>\n",
       "  </tbody>\n",
       "</table>\n",
       "</div>"
      ]
     },
     "metadata": {},
     "output_type": "display_data"
    }
   ]
  }
 ],
 "metadata": {
  "kernelspec": {
   "display_name": "Python 3",
   "language": "python",
   "name": "python3"
  },
  "language_info": {
   "codemirror_mode": {
    "name": "ipython",
    "version": 2
   },
   "file_extension": ".py",
   "mimetype": "text/x-python",
   "name": "python",
   "nbconvert_exporter": "python",
   "pygments_lexer": "ipython2",
   "version": "2.7.6"
  }
 },
 "nbformat": 4,
 "nbformat_minor": 5
}
